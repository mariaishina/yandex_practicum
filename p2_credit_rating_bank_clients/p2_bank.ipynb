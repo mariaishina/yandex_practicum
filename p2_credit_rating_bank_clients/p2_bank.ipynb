{
 "cells": [
  {
   "cell_type": "markdown",
   "metadata": {},
   "source": [
    "# Исследование надёжности заёмщиков"
   ]
  },
  {
   "cell_type": "markdown",
   "metadata": {
    "toc": true
   },
   "source": [
    "<h1>Оглавление<span class=\"tocSkip\"></span></h1>\n",
    "<div class=\"toc\"><ul class=\"toc-item\"><li><span><a href=\"#Цель-исследования\" data-toc-modified-id=\"Цель-исследования-1\"><span class=\"toc-item-num\">1&nbsp;&nbsp;</span>Цель исследования</a></span></li><li><span><a href=\"#Обзор-данных\" data-toc-modified-id=\"Обзор-данных-2\"><span class=\"toc-item-num\">2&nbsp;&nbsp;</span>Обзор данных</a></span><ul class=\"toc-item\"><li><span><a href=\"#Загрузка-библиотек\" data-toc-modified-id=\"Загрузка-библиотек-2.1\"><span class=\"toc-item-num\">2.1&nbsp;&nbsp;</span>Загрузка библиотек</a></span></li><li><span><a href=\"#Знакомство-с-данными\" data-toc-modified-id=\"Знакомство-с-данными-2.2\"><span class=\"toc-item-num\">2.2&nbsp;&nbsp;</span>Знакомство с данными</a></span></li></ul></li><li><span><a href=\"#Предобработка-данных\" data-toc-modified-id=\"Предобработка-данных-3\"><span class=\"toc-item-num\">3&nbsp;&nbsp;</span>Предобработка данных</a></span><ul class=\"toc-item\"><li><span><a href=\"#Обработка-пропусков\" data-toc-modified-id=\"Обработка-пропусков-3.1\"><span class=\"toc-item-num\">3.1&nbsp;&nbsp;</span>Обработка пропусков</a></span></li><li><span><a href=\"#Замена-типа-данных\" data-toc-modified-id=\"Замена-типа-данных-3.2\"><span class=\"toc-item-num\">3.2&nbsp;&nbsp;</span>Замена типа данных</a></span></li><li><span><a href=\"#Обработка-дубликатов\" data-toc-modified-id=\"Обработка-дубликатов-3.3\"><span class=\"toc-item-num\">3.3&nbsp;&nbsp;</span>Обработка дубликатов</a></span></li><li><span><a href=\"#Стандартизация-формулировок-целей\" data-toc-modified-id=\"Стандартизация-формулировок-целей-3.4\"><span class=\"toc-item-num\">3.4&nbsp;&nbsp;</span>Стандартизация формулировок целей</a></span></li><li><span><a href=\"#Категоризация-данных\" data-toc-modified-id=\"Категоризация-данных-3.5\"><span class=\"toc-item-num\">3.5&nbsp;&nbsp;</span>Категоризация данных</a></span><ul class=\"toc-item\"><li><span><a href=\"#Категоризация-целей-кредита\" data-toc-modified-id=\"Категоризация-целей-кредита-3.5.1\"><span class=\"toc-item-num\">3.5.1&nbsp;&nbsp;</span>Категоризация целей кредита</a></span></li><li><span><a href=\"#Категоризация-доходов\" data-toc-modified-id=\"Категоризация-доходов-3.5.2\"><span class=\"toc-item-num\">3.5.2&nbsp;&nbsp;</span>Категоризация доходов</a></span></li><li><span><a href=\"#Категоризация-количества-детей\" data-toc-modified-id=\"Категоризация-количества-детей-3.5.3\"><span class=\"toc-item-num\">3.5.3&nbsp;&nbsp;</span>Категоризация количества детей</a></span></li><li><span><a href=\"#Вывод\" data-toc-modified-id=\"Вывод-3.5.4\"><span class=\"toc-item-num\">3.5.4&nbsp;&nbsp;</span>Вывод</a></span></li></ul></li></ul></li><li><span><a href=\"#Влияние-характеристик-клиентов-на-возврат-кредита-в-срок\" data-toc-modified-id=\"Влияние-характеристик-клиентов-на-возврат-кредита-в-срок-4\"><span class=\"toc-item-num\">4&nbsp;&nbsp;</span>Влияние характеристик клиентов на возврат кредита в срок</a></span><ul class=\"toc-item\"><li><span><a href=\"#Количество-детей\" data-toc-modified-id=\"Количество-детей-4.1\"><span class=\"toc-item-num\">4.1&nbsp;&nbsp;</span>Количество детей</a></span></li><li><span><a href=\"#Семейное-положение\" data-toc-modified-id=\"Семейное-положение-4.2\"><span class=\"toc-item-num\">4.2&nbsp;&nbsp;</span>Семейное положение</a></span></li><li><span><a href=\"#Уровень-дохода\" data-toc-modified-id=\"Уровень-дохода-4.3\"><span class=\"toc-item-num\">4.3&nbsp;&nbsp;</span>Уровень дохода</a></span></li><li><span><a href=\"#Цели-кредита\" data-toc-modified-id=\"Цели-кредита-4.4\"><span class=\"toc-item-num\">4.4&nbsp;&nbsp;</span>Цели кредита</a></span></li></ul></li><li><span><a href=\"#Общий-вывод\" data-toc-modified-id=\"Общий-вывод-5\"><span class=\"toc-item-num\">5&nbsp;&nbsp;</span>Общий вывод</a></span></li></ul></div>"
   ]
  },
  {
   "cell_type": "markdown",
   "metadata": {},
   "source": [
    "## Цель исследования"
   ]
  },
  {
   "cell_type": "markdown",
   "metadata": {},
   "source": [
    "Заказчик — кредитный отдел банка. Нужно разобраться, влияет ли на факт погашения кредита в срок:\n",
    "\n",
    "- семейное положение\n",
    "- количество детей клиента\n",
    "- уровень дохода\n",
    "- цель кредита\n",
    "\n",
    "Входные данные от банка — статистика о платёжеспособности клиентов.\n",
    "\n",
    "Результаты исследования будут учтены при построении модели **кредитного скоринга** — специальной системы, которая оценивает способность потенциального заёмщика вернуть кредит банку."
   ]
  },
  {
   "cell_type": "markdown",
   "metadata": {},
   "source": [
    "## Обзор данных"
   ]
  },
  {
   "cell_type": "markdown",
   "metadata": {},
   "source": [
    "Банк предоставил нам данные в виде файла 'data.csv', содержащего статистику платежеспособности клиентов. Откроем файл, изучим общую информацию о нем."
   ]
  },
  {
   "cell_type": "markdown",
   "metadata": {},
   "source": [
    "### Загрузка библиотек"
   ]
  },
  {
   "cell_type": "code",
   "execution_count": 1,
   "metadata": {},
   "outputs": [],
   "source": [
    "import pandas as pd\n",
    "\n",
    "from pymystem3 import Mystem\n",
    "m = Mystem()\n",
    "from collections import Counter\n",
    "\n",
    "import matplotlib.pyplot as plt\n",
    "\n",
    "# настроим отображение больших чисел без плавающей точки\n",
    "pd.set_option('display.float_format', lambda x: '%.2f' % x)"
   ]
  },
  {
   "cell_type": "markdown",
   "metadata": {},
   "source": [
    "### Знакомство с данными"
   ]
  },
  {
   "cell_type": "code",
   "execution_count": 2,
   "metadata": {},
   "outputs": [
    {
     "name": "stdout",
     "output_type": "stream",
     "text": [
      "<class 'pandas.core.frame.DataFrame'>\n",
      "RangeIndex: 21525 entries, 0 to 21524\n",
      "Data columns (total 12 columns):\n",
      " #   Column            Non-Null Count  Dtype  \n",
      "---  ------            --------------  -----  \n",
      " 0   children          21525 non-null  int64  \n",
      " 1   days_employed     19351 non-null  float64\n",
      " 2   dob_years         21525 non-null  int64  \n",
      " 3   education         21525 non-null  object \n",
      " 4   education_id      21525 non-null  int64  \n",
      " 5   family_status     21525 non-null  object \n",
      " 6   family_status_id  21525 non-null  int64  \n",
      " 7   gender            21525 non-null  object \n",
      " 8   income_type       21525 non-null  object \n",
      " 9   debt              21525 non-null  int64  \n",
      " 10  total_income      19351 non-null  float64\n",
      " 11  purpose           21525 non-null  object \n",
      "dtypes: float64(2), int64(5), object(5)\n",
      "memory usage: 2.0+ MB\n"
     ]
    },
    {
     "data": {
      "text/html": [
       "<div>\n",
       "<style scoped>\n",
       "    .dataframe tbody tr th:only-of-type {\n",
       "        vertical-align: middle;\n",
       "    }\n",
       "\n",
       "    .dataframe tbody tr th {\n",
       "        vertical-align: top;\n",
       "    }\n",
       "\n",
       "    .dataframe thead th {\n",
       "        text-align: right;\n",
       "    }\n",
       "</style>\n",
       "<table border=\"1\" class=\"dataframe\">\n",
       "  <thead>\n",
       "    <tr style=\"text-align: right;\">\n",
       "      <th></th>\n",
       "      <th>children</th>\n",
       "      <th>days_employed</th>\n",
       "      <th>dob_years</th>\n",
       "      <th>education</th>\n",
       "      <th>education_id</th>\n",
       "      <th>family_status</th>\n",
       "      <th>family_status_id</th>\n",
       "      <th>gender</th>\n",
       "      <th>income_type</th>\n",
       "      <th>debt</th>\n",
       "      <th>total_income</th>\n",
       "      <th>purpose</th>\n",
       "    </tr>\n",
       "  </thead>\n",
       "  <tbody>\n",
       "    <tr>\n",
       "      <th>0</th>\n",
       "      <td>1</td>\n",
       "      <td>-8437.67</td>\n",
       "      <td>42</td>\n",
       "      <td>высшее</td>\n",
       "      <td>0</td>\n",
       "      <td>женат / замужем</td>\n",
       "      <td>0</td>\n",
       "      <td>F</td>\n",
       "      <td>сотрудник</td>\n",
       "      <td>0</td>\n",
       "      <td>253875.64</td>\n",
       "      <td>покупка жилья</td>\n",
       "    </tr>\n",
       "    <tr>\n",
       "      <th>1</th>\n",
       "      <td>1</td>\n",
       "      <td>-4024.80</td>\n",
       "      <td>36</td>\n",
       "      <td>среднее</td>\n",
       "      <td>1</td>\n",
       "      <td>женат / замужем</td>\n",
       "      <td>0</td>\n",
       "      <td>F</td>\n",
       "      <td>сотрудник</td>\n",
       "      <td>0</td>\n",
       "      <td>112080.01</td>\n",
       "      <td>приобретение автомобиля</td>\n",
       "    </tr>\n",
       "    <tr>\n",
       "      <th>2</th>\n",
       "      <td>0</td>\n",
       "      <td>-5623.42</td>\n",
       "      <td>33</td>\n",
       "      <td>Среднее</td>\n",
       "      <td>1</td>\n",
       "      <td>женат / замужем</td>\n",
       "      <td>0</td>\n",
       "      <td>M</td>\n",
       "      <td>сотрудник</td>\n",
       "      <td>0</td>\n",
       "      <td>145885.95</td>\n",
       "      <td>покупка жилья</td>\n",
       "    </tr>\n",
       "    <tr>\n",
       "      <th>3</th>\n",
       "      <td>3</td>\n",
       "      <td>-4124.75</td>\n",
       "      <td>32</td>\n",
       "      <td>среднее</td>\n",
       "      <td>1</td>\n",
       "      <td>женат / замужем</td>\n",
       "      <td>0</td>\n",
       "      <td>M</td>\n",
       "      <td>сотрудник</td>\n",
       "      <td>0</td>\n",
       "      <td>267628.55</td>\n",
       "      <td>дополнительное образование</td>\n",
       "    </tr>\n",
       "    <tr>\n",
       "      <th>4</th>\n",
       "      <td>0</td>\n",
       "      <td>340266.07</td>\n",
       "      <td>53</td>\n",
       "      <td>среднее</td>\n",
       "      <td>1</td>\n",
       "      <td>гражданский брак</td>\n",
       "      <td>1</td>\n",
       "      <td>F</td>\n",
       "      <td>пенсионер</td>\n",
       "      <td>0</td>\n",
       "      <td>158616.08</td>\n",
       "      <td>сыграть свадьбу</td>\n",
       "    </tr>\n",
       "  </tbody>\n",
       "</table>\n",
       "</div>"
      ],
      "text/plain": [
       "   children  days_employed  dob_years education  education_id  \\\n",
       "0         1       -8437.67         42    высшее             0   \n",
       "1         1       -4024.80         36   среднее             1   \n",
       "2         0       -5623.42         33   Среднее             1   \n",
       "3         3       -4124.75         32   среднее             1   \n",
       "4         0      340266.07         53   среднее             1   \n",
       "\n",
       "      family_status  family_status_id gender income_type  debt  total_income  \\\n",
       "0   женат / замужем                 0      F   сотрудник     0     253875.64   \n",
       "1   женат / замужем                 0      F   сотрудник     0     112080.01   \n",
       "2   женат / замужем                 0      M   сотрудник     0     145885.95   \n",
       "3   женат / замужем                 0      M   сотрудник     0     267628.55   \n",
       "4  гражданский брак                 1      F   пенсионер     0     158616.08   \n",
       "\n",
       "                      purpose  \n",
       "0               покупка жилья  \n",
       "1     приобретение автомобиля  \n",
       "2               покупка жилья  \n",
       "3  дополнительное образование  \n",
       "4             сыграть свадьбу  "
      ]
     },
     "execution_count": 2,
     "metadata": {},
     "output_type": "execute_result"
    }
   ],
   "source": [
    "data = pd.read_csv('data_bank_project.csv')\n",
    "    \n",
    "data.info()\n",
    "data.head()"
   ]
  },
  {
   "cell_type": "markdown",
   "metadata": {},
   "source": [
    "**Вывод**"
   ]
  },
  {
   "cell_type": "markdown",
   "metadata": {},
   "source": [
    "Для анализа имеем таблицу, содержащую 21 525 кредитных историй (строк). Для каждой кредитной истории доступны 12 характеристик (столбцов):\n",
    "\n",
    "    - children — количество детей в семье \n",
    "    - days_employed — общий трудовой стаж в днях \n",
    "    - dob_years — возраст клиента в годах \n",
    "    - education — уровень образования клиента \n",
    "    - education_id — идентификатор уровня образования  \n",
    "    - family_status — семейное положение \n",
    "    - family_status_id — идентификатор семейного положения \n",
    "    - gender — пол клиента \n",
    "    - income_type — тип занятости \n",
    "    - debt — имел ли задолженность по возврату кредитов\n",
    "    - total_income — ежемесячный доход\n",
    "    - purpose — цель получения кредита\n",
    "\n",
    "В столбцах 'days_employed' и 'total_income' есть пропущенные значения.\n",
    "\n",
    "Для ответа на поставленные вопросы нам потребуются, данные из столбцов 'children', 'family_status' / 'family_status_id', 'debt', 'total_income', 'purpose'."
   ]
  },
  {
   "cell_type": "markdown",
   "metadata": {},
   "source": [
    "## Предобработка данных"
   ]
  },
  {
   "cell_type": "markdown",
   "metadata": {},
   "source": [
    "### Обработка пропусков"
   ]
  },
  {
   "cell_type": "markdown",
   "metadata": {},
   "source": [
    "На предыдущем шаге мы увидели, что пропуски имеются в 2х столбцах датасета. Подсчитаем их количество."
   ]
  },
  {
   "cell_type": "code",
   "execution_count": 3,
   "metadata": {},
   "outputs": [
    {
     "data": {
      "text/plain": [
       "children               0\n",
       "days_employed       2174\n",
       "dob_years              0\n",
       "education              0\n",
       "education_id           0\n",
       "family_status          0\n",
       "family_status_id       0\n",
       "gender                 0\n",
       "income_type            0\n",
       "debt                   0\n",
       "total_income        2174\n",
       "purpose                0\n",
       "dtype: int64"
      ]
     },
     "execution_count": 3,
     "metadata": {},
     "output_type": "execute_result"
    }
   ],
   "source": [
    "data.isna().sum()"
   ]
  },
  {
   "cell_type": "code",
   "execution_count": 4,
   "metadata": {},
   "outputs": [
    {
     "data": {
      "text/plain": [
       "children           0.00\n",
       "days_employed      0.10\n",
       "dob_years          0.00\n",
       "education          0.00\n",
       "education_id       0.00\n",
       "family_status      0.00\n",
       "family_status_id   0.00\n",
       "gender             0.00\n",
       "income_type        0.00\n",
       "debt               0.00\n",
       "total_income       0.10\n",
       "purpose            0.00\n",
       "dtype: float64"
      ]
     },
     "execution_count": 4,
     "metadata": {},
     "output_type": "execute_result"
    }
   ],
   "source": [
    "data.isna().mean()"
   ]
  },
  {
   "cell_type": "markdown",
   "metadata": {},
   "source": [
    "В столбцах 'days_employed' и 'total_income' одинаковое количество пропусков - по 2174 значения или 10% от всех значений столбца. Проверим, может быть, это одни и те же строки?"
   ]
  },
  {
   "cell_type": "code",
   "execution_count": 5,
   "metadata": {},
   "outputs": [
    {
     "data": {
      "text/plain": [
       "children            2174\n",
       "days_employed          0\n",
       "dob_years           2174\n",
       "education           2174\n",
       "education_id        2174\n",
       "family_status       2174\n",
       "family_status_id    2174\n",
       "gender              2174\n",
       "income_type         2174\n",
       "debt                2174\n",
       "total_income           0\n",
       "purpose             2174\n",
       "dtype: int64"
      ]
     },
     "execution_count": 5,
     "metadata": {},
     "output_type": "execute_result"
    }
   ],
   "source": [
    "data[(data['days_employed'].isna() == 1) & (data['total_income'].isna() == 1)].count()"
   ]
  },
  {
   "cell_type": "markdown",
   "metadata": {},
   "source": [
    "Так и есть: в строках с пропущенным стажем, пропущен и доход. Столбец со стажем не нужен нам для ответа на поставленные вопросы, а также он нам не поможет заполнить пропуски в столбце с доходом (т.к. в нем самом пропуски). Поэтому удалим этот столбец."
   ]
  },
  {
   "cell_type": "code",
   "execution_count": 6,
   "metadata": {},
   "outputs": [
    {
     "data": {
      "text/html": [
       "<div>\n",
       "<style scoped>\n",
       "    .dataframe tbody tr th:only-of-type {\n",
       "        vertical-align: middle;\n",
       "    }\n",
       "\n",
       "    .dataframe tbody tr th {\n",
       "        vertical-align: top;\n",
       "    }\n",
       "\n",
       "    .dataframe thead th {\n",
       "        text-align: right;\n",
       "    }\n",
       "</style>\n",
       "<table border=\"1\" class=\"dataframe\">\n",
       "  <thead>\n",
       "    <tr style=\"text-align: right;\">\n",
       "      <th></th>\n",
       "      <th>children</th>\n",
       "      <th>dob_years</th>\n",
       "      <th>education</th>\n",
       "      <th>education_id</th>\n",
       "      <th>family_status</th>\n",
       "      <th>family_status_id</th>\n",
       "      <th>gender</th>\n",
       "      <th>income_type</th>\n",
       "      <th>debt</th>\n",
       "      <th>total_income</th>\n",
       "      <th>purpose</th>\n",
       "    </tr>\n",
       "  </thead>\n",
       "  <tbody>\n",
       "    <tr>\n",
       "      <th>0</th>\n",
       "      <td>1</td>\n",
       "      <td>42</td>\n",
       "      <td>высшее</td>\n",
       "      <td>0</td>\n",
       "      <td>женат / замужем</td>\n",
       "      <td>0</td>\n",
       "      <td>F</td>\n",
       "      <td>сотрудник</td>\n",
       "      <td>0</td>\n",
       "      <td>253875.64</td>\n",
       "      <td>покупка жилья</td>\n",
       "    </tr>\n",
       "    <tr>\n",
       "      <th>1</th>\n",
       "      <td>1</td>\n",
       "      <td>36</td>\n",
       "      <td>среднее</td>\n",
       "      <td>1</td>\n",
       "      <td>женат / замужем</td>\n",
       "      <td>0</td>\n",
       "      <td>F</td>\n",
       "      <td>сотрудник</td>\n",
       "      <td>0</td>\n",
       "      <td>112080.01</td>\n",
       "      <td>приобретение автомобиля</td>\n",
       "    </tr>\n",
       "    <tr>\n",
       "      <th>2</th>\n",
       "      <td>0</td>\n",
       "      <td>33</td>\n",
       "      <td>Среднее</td>\n",
       "      <td>1</td>\n",
       "      <td>женат / замужем</td>\n",
       "      <td>0</td>\n",
       "      <td>M</td>\n",
       "      <td>сотрудник</td>\n",
       "      <td>0</td>\n",
       "      <td>145885.95</td>\n",
       "      <td>покупка жилья</td>\n",
       "    </tr>\n",
       "    <tr>\n",
       "      <th>3</th>\n",
       "      <td>3</td>\n",
       "      <td>32</td>\n",
       "      <td>среднее</td>\n",
       "      <td>1</td>\n",
       "      <td>женат / замужем</td>\n",
       "      <td>0</td>\n",
       "      <td>M</td>\n",
       "      <td>сотрудник</td>\n",
       "      <td>0</td>\n",
       "      <td>267628.55</td>\n",
       "      <td>дополнительное образование</td>\n",
       "    </tr>\n",
       "    <tr>\n",
       "      <th>4</th>\n",
       "      <td>0</td>\n",
       "      <td>53</td>\n",
       "      <td>среднее</td>\n",
       "      <td>1</td>\n",
       "      <td>гражданский брак</td>\n",
       "      <td>1</td>\n",
       "      <td>F</td>\n",
       "      <td>пенсионер</td>\n",
       "      <td>0</td>\n",
       "      <td>158616.08</td>\n",
       "      <td>сыграть свадьбу</td>\n",
       "    </tr>\n",
       "  </tbody>\n",
       "</table>\n",
       "</div>"
      ],
      "text/plain": [
       "   children  dob_years education  education_id     family_status  \\\n",
       "0         1         42    высшее             0   женат / замужем   \n",
       "1         1         36   среднее             1   женат / замужем   \n",
       "2         0         33   Среднее             1   женат / замужем   \n",
       "3         3         32   среднее             1   женат / замужем   \n",
       "4         0         53   среднее             1  гражданский брак   \n",
       "\n",
       "   family_status_id gender income_type  debt  total_income  \\\n",
       "0                 0      F   сотрудник     0     253875.64   \n",
       "1                 0      F   сотрудник     0     112080.01   \n",
       "2                 0      M   сотрудник     0     145885.95   \n",
       "3                 0      M   сотрудник     0     267628.55   \n",
       "4                 1      F   пенсионер     0     158616.08   \n",
       "\n",
       "                      purpose  \n",
       "0               покупка жилья  \n",
       "1     приобретение автомобиля  \n",
       "2               покупка жилья  \n",
       "3  дополнительное образование  \n",
       "4             сыграть свадьбу  "
      ]
     },
     "execution_count": 6,
     "metadata": {},
     "output_type": "execute_result"
    }
   ],
   "source": [
    "data = data.drop(columns='days_employed')\n",
    "data.head()"
   ]
  },
  {
   "cell_type": "markdown",
   "metadata": {},
   "source": [
    "Теперь заполним пропуски в столбце 'total_income'. Учитывая, что у одних и тех же заемщиков пропущены сразу 2 поля - доход и стаж, это похоже на технический сбой либо при внесении данных либо при выгрузке.\n",
    "\n",
    "Для заполнения столбца 'total_income' можно было бы просто взять медиану всего столбца. Однако в разных социальных группах доходы могут значительно отличаться. Поэтому логично было бы сгруппировать доходы по наиболее важному признаку и посчитать медиану для каждой группы. Предлагаю брать именно медиану, а не среднее арифметическое, т.к. в каждой группе могут быть артефакты (сверхвысокие или сверхнизкие доходы, нетипичные для группы).\n",
    "\n",
    "На доход теоретически могут влиять все имеющиеся характеристики. Но все же наиболее очевидна зависимость от типа занятости.  Поэтому сгруппируем заемщиков по типу занятости и внутри каждой группы заменим пропуски на медиану для этой группы.\n",
    "\n",
    "Для начала посмотрим какие источники дохода, встречаются в столбце с типом занятости:"
   ]
  },
  {
   "cell_type": "code",
   "execution_count": 7,
   "metadata": {},
   "outputs": [
    {
     "data": {
      "text/plain": [
       "сотрудник          11119\n",
       "компаньон           5085\n",
       "пенсионер           3856\n",
       "госслужащий         1459\n",
       "безработный            2\n",
       "предприниматель        2\n",
       "студент                1\n",
       "в декрете              1\n",
       "Name: income_type, dtype: int64"
      ]
     },
     "execution_count": 7,
     "metadata": {},
     "output_type": "execute_result"
    }
   ],
   "source": [
    "data['income_type'].value_counts()"
   ]
  },
  {
   "cell_type": "markdown",
   "metadata": {},
   "source": [
    "Чуть более половины заемщиков (52%) - это сотрудники, т.е. наемные работники; 24% - компаньоны (скорее всего, это собственники бизнеса); 18% - пенсионеры; 7% - госслужащие. И менее 1% приходится суммарно на предпринимателей, безработных, родителей в декрете и студентов.\n",
    "\n",
    "Теперь проверим, в каких группах встречаются пропуски данных:"
   ]
  },
  {
   "cell_type": "code",
   "execution_count": 8,
   "metadata": {},
   "outputs": [
    {
     "data": {
      "text/plain": [
       "сотрудник          1105\n",
       "компаньон           508\n",
       "пенсионер           413\n",
       "госслужащий         147\n",
       "предприниматель       1\n",
       "Name: income_type, dtype: int64"
      ]
     },
     "execution_count": 8,
     "metadata": {},
     "output_type": "execute_result"
    }
   ],
   "source": [
    "data['income_type'][data['total_income'].isna() == 1].value_counts()"
   ]
  },
  {
   "cell_type": "markdown",
   "metadata": {},
   "source": [
    "Пропуски встречаются во всех популярных типах занятости, а также среди предпринимателей. Всего у нас предпринимателей 2 и у одного из них не указан доход. Заполнять доход одного предпринимателя тем же значением, что и у второго будет некорректно, т.к. разброс доходов в предпринимательской среде может быть очень велик. Придется удалить из анализа предпринимателя с отсутствующими данными по размеру дохода (т.к. доход по условию задачи является важным признаком для анализа)."
   ]
  },
  {
   "cell_type": "code",
   "execution_count": 9,
   "metadata": {},
   "outputs": [
    {
     "data": {
      "text/html": [
       "<div>\n",
       "<style scoped>\n",
       "    .dataframe tbody tr th:only-of-type {\n",
       "        vertical-align: middle;\n",
       "    }\n",
       "\n",
       "    .dataframe tbody tr th {\n",
       "        vertical-align: top;\n",
       "    }\n",
       "\n",
       "    .dataframe thead th {\n",
       "        text-align: right;\n",
       "    }\n",
       "</style>\n",
       "<table border=\"1\" class=\"dataframe\">\n",
       "  <thead>\n",
       "    <tr style=\"text-align: right;\">\n",
       "      <th></th>\n",
       "      <th>children</th>\n",
       "      <th>dob_years</th>\n",
       "      <th>education</th>\n",
       "      <th>education_id</th>\n",
       "      <th>family_status</th>\n",
       "      <th>family_status_id</th>\n",
       "      <th>gender</th>\n",
       "      <th>income_type</th>\n",
       "      <th>debt</th>\n",
       "      <th>total_income</th>\n",
       "      <th>purpose</th>\n",
       "    </tr>\n",
       "  </thead>\n",
       "  <tbody>\n",
       "    <tr>\n",
       "      <th>5936</th>\n",
       "      <td>0</td>\n",
       "      <td>58</td>\n",
       "      <td>высшее</td>\n",
       "      <td>0</td>\n",
       "      <td>женат / замужем</td>\n",
       "      <td>0</td>\n",
       "      <td>M</td>\n",
       "      <td>предприниматель</td>\n",
       "      <td>0</td>\n",
       "      <td>NaN</td>\n",
       "      <td>покупка жилой недвижимости</td>\n",
       "    </tr>\n",
       "  </tbody>\n",
       "</table>\n",
       "</div>"
      ],
      "text/plain": [
       "      children  dob_years education  education_id    family_status  \\\n",
       "5936         0         58    высшее             0  женат / замужем   \n",
       "\n",
       "      family_status_id gender      income_type  debt  total_income  \\\n",
       "5936                 0      M  предприниматель     0           NaN   \n",
       "\n",
       "                         purpose  \n",
       "5936  покупка жилой недвижимости  "
      ]
     },
     "execution_count": 9,
     "metadata": {},
     "output_type": "execute_result"
    }
   ],
   "source": [
    "data[(data['total_income'].isna() == 1) & (data['income_type'] == 'предприниматель')]"
   ]
  },
  {
   "cell_type": "code",
   "execution_count": 10,
   "metadata": {},
   "outputs": [
    {
     "data": {
      "text/plain": [
       "сотрудник      1105\n",
       "компаньон       508\n",
       "пенсионер       413\n",
       "госслужащий     147\n",
       "Name: income_type, dtype: int64"
      ]
     },
     "execution_count": 10,
     "metadata": {},
     "output_type": "execute_result"
    }
   ],
   "source": [
    "data = data.drop(index=[5936])\n",
    "data['income_type'][data['total_income'].isna() == 1].value_counts()"
   ]
  },
  {
   "cell_type": "markdown",
   "metadata": {},
   "source": [
    "Заполним пропуски соответствующими медианами и проверим, что пропусков в таблице не осталось"
   ]
  },
  {
   "cell_type": "code",
   "execution_count": 11,
   "metadata": {
    "code_folding": []
   },
   "outputs": [
    {
     "data": {
      "text/plain": [
       "children            0\n",
       "dob_years           0\n",
       "education           0\n",
       "education_id        0\n",
       "family_status       0\n",
       "family_status_id    0\n",
       "gender              0\n",
       "income_type         0\n",
       "debt                0\n",
       "total_income        0\n",
       "purpose             0\n",
       "dtype: int64"
      ]
     },
     "execution_count": 11,
     "metadata": {},
     "output_type": "execute_result"
    }
   ],
   "source": [
    "data['total_income'] = data['total_income'].fillna(data.groupby('income_type')['total_income'].transform('median'))\n",
    "data.isna().sum()"
   ]
  },
  {
   "cell_type": "markdown",
   "metadata": {},
   "source": [
    "**Вывод**"
   ]
  },
  {
   "cell_type": "markdown",
   "metadata": {},
   "source": [
    "Пропуски найдены в столбцах со стажем и доходом (по 10% от количества наблюдений). Наиболее вреоятная причина появления пропусков - технический сбой при внесении либо при выгрузке данных, т.к. пропуски наблюдаются одновременно в столбцах 'days_employed' и 'total_income' у одних и тех же заемщиков. \n",
    "\n",
    "Столбец со стажем удалили, т.к. он не влияет на решение поставленной задачи и при этом является \"проблемным\" - содержит отрицательные и нереалистичные значения. В столбце с доходом мы заполнили пропуски медианными значениями для каждого типа занятости. "
   ]
  },
  {
   "cell_type": "markdown",
   "metadata": {},
   "source": [
    "### Замена типа данных"
   ]
  },
  {
   "cell_type": "markdown",
   "metadata": {},
   "source": [
    "Посмотрим еще раз на типы данных в нашем датасете и приведем их к более удобному формату."
   ]
  },
  {
   "cell_type": "code",
   "execution_count": 12,
   "metadata": {
    "scrolled": false
   },
   "outputs": [
    {
     "name": "stdout",
     "output_type": "stream",
     "text": [
      "<class 'pandas.core.frame.DataFrame'>\n",
      "Int64Index: 21524 entries, 0 to 21524\n",
      "Data columns (total 11 columns):\n",
      " #   Column            Non-Null Count  Dtype  \n",
      "---  ------            --------------  -----  \n",
      " 0   children          21524 non-null  int64  \n",
      " 1   dob_years         21524 non-null  int64  \n",
      " 2   education         21524 non-null  object \n",
      " 3   education_id      21524 non-null  int64  \n",
      " 4   family_status     21524 non-null  object \n",
      " 5   family_status_id  21524 non-null  int64  \n",
      " 6   gender            21524 non-null  object \n",
      " 7   income_type       21524 non-null  object \n",
      " 8   debt              21524 non-null  int64  \n",
      " 9   total_income      21524 non-null  float64\n",
      " 10  purpose           21524 non-null  object \n",
      "dtypes: float64(1), int64(5), object(5)\n",
      "memory usage: 2.0+ MB\n"
     ]
    },
    {
     "data": {
      "text/html": [
       "<div>\n",
       "<style scoped>\n",
       "    .dataframe tbody tr th:only-of-type {\n",
       "        vertical-align: middle;\n",
       "    }\n",
       "\n",
       "    .dataframe tbody tr th {\n",
       "        vertical-align: top;\n",
       "    }\n",
       "\n",
       "    .dataframe thead th {\n",
       "        text-align: right;\n",
       "    }\n",
       "</style>\n",
       "<table border=\"1\" class=\"dataframe\">\n",
       "  <thead>\n",
       "    <tr style=\"text-align: right;\">\n",
       "      <th></th>\n",
       "      <th>children</th>\n",
       "      <th>dob_years</th>\n",
       "      <th>education</th>\n",
       "      <th>education_id</th>\n",
       "      <th>family_status</th>\n",
       "      <th>family_status_id</th>\n",
       "      <th>gender</th>\n",
       "      <th>income_type</th>\n",
       "      <th>debt</th>\n",
       "      <th>total_income</th>\n",
       "      <th>purpose</th>\n",
       "    </tr>\n",
       "  </thead>\n",
       "  <tbody>\n",
       "    <tr>\n",
       "      <th>0</th>\n",
       "      <td>1</td>\n",
       "      <td>42</td>\n",
       "      <td>высшее</td>\n",
       "      <td>0</td>\n",
       "      <td>женат / замужем</td>\n",
       "      <td>0</td>\n",
       "      <td>F</td>\n",
       "      <td>сотрудник</td>\n",
       "      <td>0</td>\n",
       "      <td>253875.64</td>\n",
       "      <td>покупка жилья</td>\n",
       "    </tr>\n",
       "    <tr>\n",
       "      <th>1</th>\n",
       "      <td>1</td>\n",
       "      <td>36</td>\n",
       "      <td>среднее</td>\n",
       "      <td>1</td>\n",
       "      <td>женат / замужем</td>\n",
       "      <td>0</td>\n",
       "      <td>F</td>\n",
       "      <td>сотрудник</td>\n",
       "      <td>0</td>\n",
       "      <td>112080.01</td>\n",
       "      <td>приобретение автомобиля</td>\n",
       "    </tr>\n",
       "    <tr>\n",
       "      <th>2</th>\n",
       "      <td>0</td>\n",
       "      <td>33</td>\n",
       "      <td>Среднее</td>\n",
       "      <td>1</td>\n",
       "      <td>женат / замужем</td>\n",
       "      <td>0</td>\n",
       "      <td>M</td>\n",
       "      <td>сотрудник</td>\n",
       "      <td>0</td>\n",
       "      <td>145885.95</td>\n",
       "      <td>покупка жилья</td>\n",
       "    </tr>\n",
       "    <tr>\n",
       "      <th>3</th>\n",
       "      <td>3</td>\n",
       "      <td>32</td>\n",
       "      <td>среднее</td>\n",
       "      <td>1</td>\n",
       "      <td>женат / замужем</td>\n",
       "      <td>0</td>\n",
       "      <td>M</td>\n",
       "      <td>сотрудник</td>\n",
       "      <td>0</td>\n",
       "      <td>267628.55</td>\n",
       "      <td>дополнительное образование</td>\n",
       "    </tr>\n",
       "    <tr>\n",
       "      <th>4</th>\n",
       "      <td>0</td>\n",
       "      <td>53</td>\n",
       "      <td>среднее</td>\n",
       "      <td>1</td>\n",
       "      <td>гражданский брак</td>\n",
       "      <td>1</td>\n",
       "      <td>F</td>\n",
       "      <td>пенсионер</td>\n",
       "      <td>0</td>\n",
       "      <td>158616.08</td>\n",
       "      <td>сыграть свадьбу</td>\n",
       "    </tr>\n",
       "  </tbody>\n",
       "</table>\n",
       "</div>"
      ],
      "text/plain": [
       "   children  dob_years education  education_id     family_status  \\\n",
       "0         1         42    высшее             0   женат / замужем   \n",
       "1         1         36   среднее             1   женат / замужем   \n",
       "2         0         33   Среднее             1   женат / замужем   \n",
       "3         3         32   среднее             1   женат / замужем   \n",
       "4         0         53   среднее             1  гражданский брак   \n",
       "\n",
       "   family_status_id gender income_type  debt  total_income  \\\n",
       "0                 0      F   сотрудник     0     253875.64   \n",
       "1                 0      F   сотрудник     0     112080.01   \n",
       "2                 0      M   сотрудник     0     145885.95   \n",
       "3                 0      M   сотрудник     0     267628.55   \n",
       "4                 1      F   пенсионер     0     158616.08   \n",
       "\n",
       "                      purpose  \n",
       "0               покупка жилья  \n",
       "1     приобретение автомобиля  \n",
       "2               покупка жилья  \n",
       "3  дополнительное образование  \n",
       "4             сыграть свадьбу  "
      ]
     },
     "execution_count": 12,
     "metadata": {},
     "output_type": "execute_result"
    }
   ],
   "source": [
    "data.info()\n",
    "data.head()"
   ]
  },
  {
   "cell_type": "markdown",
   "metadata": {},
   "source": [
    "Заменим вещественные значения в столбце 'total_income' на целочисленные:"
   ]
  },
  {
   "cell_type": "code",
   "execution_count": 13,
   "metadata": {},
   "outputs": [
    {
     "data": {
      "text/plain": [
       "dtype('int64')"
      ]
     },
     "execution_count": 13,
     "metadata": {},
     "output_type": "execute_result"
    }
   ],
   "source": [
    "data['total_income'] = data['total_income'].astype('int64')\n",
    "data['total_income'].dtype"
   ]
  },
  {
   "cell_type": "markdown",
   "metadata": {},
   "source": [
    "**Вывод**"
   ]
  },
  {
   "cell_type": "markdown",
   "metadata": {},
   "source": [
    "В столбце с доходом дробные части нам не нужны, кроме того, они затрудняют восприятие показателей, поэтому мы заменили в них тип данных с веществанного на целочисленный."
   ]
  },
  {
   "cell_type": "markdown",
   "metadata": {},
   "source": [
    "### Обработка дубликатов"
   ]
  },
  {
   "cell_type": "markdown",
   "metadata": {},
   "source": [
    "При беглом взгляде на первые строки таблицы видно, что в столбце 'education' присутствуют одинаковые значения с разным регистром. Неявные дубликаты могут присутствовать и в других текстовых столбцах. Поэтому сначала избавимся от неявных, а затем удалим явные дубликаты (т.к. количество последних может увеличиться).\n",
    "\n",
    "Начнем со **столбца с уровнем образования**. Приведем строки к нижнему регистру и найдем все уникальные значения столбца:"
   ]
  },
  {
   "cell_type": "code",
   "execution_count": 14,
   "metadata": {},
   "outputs": [
    {
     "data": {
      "text/plain": [
       "среднее                15233\n",
       "высшее                  5259\n",
       "неоконченное высшее      744\n",
       "начальное                282\n",
       "ученая степень             6\n",
       "Name: education, dtype: int64"
      ]
     },
     "execution_count": 14,
     "metadata": {},
     "output_type": "execute_result"
    }
   ],
   "source": [
    "data['education'] = data['education'].str.lower()\n",
    "data['education'].value_counts()"
   ]
  },
  {
   "cell_type": "markdown",
   "metadata": {},
   "source": [
    "Проверим **столбец с семейным статусом**:"
   ]
  },
  {
   "cell_type": "code",
   "execution_count": 15,
   "metadata": {},
   "outputs": [
    {
     "data": {
      "text/plain": [
       "женат / замужем          12379\n",
       "гражданский брак          4177\n",
       "Не женат / не замужем     2813\n",
       "в разводе                 1195\n",
       "вдовец / вдова             960\n",
       "Name: family_status, dtype: int64"
      ]
     },
     "execution_count": 15,
     "metadata": {},
     "output_type": "execute_result"
    }
   ],
   "source": [
    "data['family_status'].value_counts()"
   ]
  },
  {
   "cell_type": "markdown",
   "metadata": {},
   "source": [
    "Дубликатов в столбце с семейным статусом нет. Для красоты и удобства приведем строки к нижнему регистру:"
   ]
  },
  {
   "cell_type": "code",
   "execution_count": 16,
   "metadata": {},
   "outputs": [],
   "source": [
    "data['family_status'] = data['family_status'].str.lower()"
   ]
  },
  {
   "cell_type": "markdown",
   "metadata": {},
   "source": [
    "**Столбец с типом занятости** мы уже проверяли при обработке пропусков, там дубликатов нет."
   ]
  },
  {
   "cell_type": "markdown",
   "metadata": {},
   "source": [
    "Осталось проверить **столбец с целями**. Найдем все уникальные значения:"
   ]
  },
  {
   "cell_type": "code",
   "execution_count": 17,
   "metadata": {},
   "outputs": [
    {
     "data": {
      "text/plain": [
       "свадьба                                   797\n",
       "на проведение свадьбы                     777\n",
       "сыграть свадьбу                           774\n",
       "операции с недвижимостью                  676\n",
       "покупка коммерческой недвижимости         664\n",
       "покупка жилья для сдачи                   653\n",
       "операции с жильем                         653\n",
       "операции с коммерческой недвижимостью     651\n",
       "покупка жилья                             647\n",
       "жилье                                     647\n",
       "покупка жилья для семьи                   641\n",
       "строительство собственной недвижимости    635\n",
       "недвижимость                              634\n",
       "операции со своей недвижимостью           630\n",
       "строительство жилой недвижимости          626\n",
       "покупка недвижимости                      624\n",
       "строительство недвижимости                620\n",
       "покупка своего жилья                      620\n",
       "ремонт жилью                              612\n",
       "покупка жилой недвижимости                606\n",
       "на покупку своего автомобиля              505\n",
       "заняться высшим образованием              496\n",
       "автомобиль                                495\n",
       "сделка с подержанным автомобилем          489\n",
       "свой автомобиль                           480\n",
       "на покупку подержанного автомобиля        479\n",
       "автомобили                                478\n",
       "на покупку автомобиля                     472\n",
       "дополнительное образование                462\n",
       "приобретение автомобиля                   462\n",
       "сделка с автомобилем                      455\n",
       "высшее образование                        453\n",
       "образование                               447\n",
       "получение дополнительного образования     447\n",
       "получение образования                     443\n",
       "профильное образование                    436\n",
       "получение высшего образования             426\n",
       "заняться образованием                     412\n",
       "Name: purpose, dtype: int64"
      ]
     },
     "execution_count": 17,
     "metadata": {},
     "output_type": "execute_result"
    }
   ],
   "source": [
    "data['purpose'].value_counts()"
   ]
  },
  {
   "cell_type": "markdown",
   "metadata": {},
   "source": [
    "Данный столбец требует лемматизации, займемся этим чуть позже.\n",
    "\n",
    "А пока проверим, есть ли у нас на данном этапе дубликаты и избавимся от них при необходимости."
   ]
  },
  {
   "cell_type": "code",
   "execution_count": 18,
   "metadata": {},
   "outputs": [
    {
     "data": {
      "text/plain": [
       "71"
      ]
     },
     "execution_count": 18,
     "metadata": {},
     "output_type": "execute_result"
    }
   ],
   "source": [
    "data.duplicated().sum()"
   ]
  },
  {
   "cell_type": "markdown",
   "metadata": {},
   "source": [
    "Найден 71 дубликат, это менее 1% от количества наблюдений. \n",
    "\n",
    "В идеале для идентификации дубликатов нужен столбец с уникальными значениями (ФИО, e-mail, номер телефона, user_id и т.п.). В нашей базе данных (после заполнения пропусков и отсечения дробных частей) теоретически возможно наличие одинаковых показателей у разных заемщиков. Но поскольку доля найденных дубликатов незначительна, то можем спокойно их удалить."
   ]
  },
  {
   "cell_type": "code",
   "execution_count": 19,
   "metadata": {},
   "outputs": [
    {
     "data": {
      "text/plain": [
       "0"
      ]
     },
     "execution_count": 19,
     "metadata": {},
     "output_type": "execute_result"
    }
   ],
   "source": [
    "data = data.drop_duplicates().reset_index(drop=True)\n",
    "data.duplicated().sum()"
   ]
  },
  {
   "cell_type": "markdown",
   "metadata": {},
   "source": [
    "**Вывод**"
   ]
  },
  {
   "cell_type": "markdown",
   "metadata": {},
   "source": [
    "Найден и удален 71 дубликат, все строки приведены к нижнему регистру."
   ]
  },
  {
   "cell_type": "markdown",
   "metadata": {},
   "source": [
    "### Стандартизация формулировок целей"
   ]
  },
  {
   "cell_type": "markdown",
   "metadata": {},
   "source": [
    "В столбце 'purpose' у нас одни и те же цели формулируются по-разному. В результате получается длинный список уникальных значений, с которым неудобно работать. Займемся стандартизацией формулировок целей с помощью лемматизации.\n",
    "\n",
    "Для лемматизации нам нужен текст. Получим список уникальных значений столбца с целями и преобразуем его в текст:"
   ]
  },
  {
   "cell_type": "code",
   "execution_count": 20,
   "metadata": {},
   "outputs": [
    {
     "data": {
      "text/plain": [
       "'покупка жилья приобретение автомобиля дополнительное образование сыграть свадьбу операции с жильем образование на проведение свадьбы покупка жилья для семьи покупка недвижимости покупка коммерческой недвижимости покупка жилой недвижимости строительство собственной недвижимости недвижимость строительство недвижимости на покупку подержанного автомобиля на покупку своего автомобиля операции с коммерческой недвижимостью строительство жилой недвижимости жилье операции со своей недвижимостью автомобили заняться образованием сделка с подержанным автомобилем получение образования автомобиль свадьба получение дополнительного образования покупка своего жилья операции с недвижимостью получение высшего образования свой автомобиль сделка с автомобилем профильное образование высшее образование покупка жилья для сдачи на покупку автомобиля ремонт жилью заняться высшим образованием'"
      ]
     },
     "execution_count": 20,
     "metadata": {},
     "output_type": "execute_result"
    }
   ],
   "source": [
    "purposes_list = data['purpose'].unique()\n",
    "purposes_text = ' '.join(purposes_list)\n",
    "purposes_text"
   ]
  },
  {
   "cell_type": "markdown",
   "metadata": {},
   "source": [
    "Произведем лемматизацию и подсчитаем сколько раз встречается каждая лемма"
   ]
  },
  {
   "cell_type": "code",
   "execution_count": 21,
   "metadata": {},
   "outputs": [
    {
     "data": {
      "text/plain": [
       "Counter({'покупка': 10,\n",
       "         ' ': 96,\n",
       "         'жилье': 7,\n",
       "         'приобретение': 1,\n",
       "         'автомобиль': 9,\n",
       "         'дополнительный': 2,\n",
       "         'образование': 9,\n",
       "         'сыграть': 1,\n",
       "         'свадьба': 3,\n",
       "         'операция': 4,\n",
       "         'с': 5,\n",
       "         'на': 4,\n",
       "         'проведение': 1,\n",
       "         'для': 2,\n",
       "         'семья': 1,\n",
       "         'недвижимость': 10,\n",
       "         'коммерческий': 2,\n",
       "         'жилой': 2,\n",
       "         'строительство': 3,\n",
       "         'собственный': 1,\n",
       "         'подержать': 2,\n",
       "         'свой': 4,\n",
       "         'со': 1,\n",
       "         'заниматься': 2,\n",
       "         'сделка': 2,\n",
       "         'получение': 3,\n",
       "         'высокий': 3,\n",
       "         'профильный': 1,\n",
       "         'сдача': 1,\n",
       "         'ремонт': 1,\n",
       "         '\\n': 1})"
      ]
     },
     "execution_count": 21,
     "metadata": {},
     "output_type": "execute_result"
    }
   ],
   "source": [
    "Counter(m.lemmatize(purposes_text))"
   ]
  },
  {
   "cell_type": "markdown",
   "metadata": {},
   "source": [
    "**Вывод**"
   ]
  },
  {
   "cell_type": "markdown",
   "metadata": {},
   "source": [
    "Среди перечня лемм можно выделить следующие ключевые слова: \n",
    "- автомобиль, \n",
    "- образование, \n",
    "- свадьба, \n",
    "- недвижимость (сюда входит жилье, жилая недвижимость, коммерческая недвижимость и просто недвижимость)."
   ]
  },
  {
   "cell_type": "markdown",
   "metadata": {},
   "source": [
    "### Категоризация данных"
   ]
  },
  {
   "cell_type": "markdown",
   "metadata": {},
   "source": [
    "Категоризацию данных выполним для столбцов с целями кредита, доходом, количеством детей."
   ]
  },
  {
   "cell_type": "markdown",
   "metadata": {},
   "source": [
    "#### Категоризация целей кредита"
   ]
  },
  {
   "cell_type": "markdown",
   "metadata": {},
   "source": [
    "Напишем функцию, которая будет принимать цель в исходной формулировке, преобразовывать ее в строку, искать в строке ключевое слово и возвращать тип (категорию) цели:"
   ]
  },
  {
   "cell_type": "code",
   "execution_count": 22,
   "metadata": {},
   "outputs": [
    {
     "name": "stdout",
     "output_type": "stream",
     "text": [
      "автомобиль\n",
      "образование\n",
      "свадьба\n",
      "недвижимость\n",
      "недвижимость\n"
     ]
    }
   ],
   "source": [
    "def purpose_group(purpose):\n",
    "    purpose_str = str(purpose)\n",
    "    if 'автомобил' in purpose_str:\n",
    "        return 'автомобиль'\n",
    "    if 'образован' in purpose_str:\n",
    "        return 'образование'\n",
    "    if 'свад' in purpose_str:\n",
    "        return 'свадьба'\n",
    "    if ('недвижим' in purpose_str) or ('жил' in purpose_str):\n",
    "        return 'недвижимость'\n",
    "        \n",
    "# мы не стали использовать else в функции, чтобы потом проверить себя - не пропустили ли мы какую-то категорию\n",
    "# протестируем работу функции на разных целях\n",
    "\n",
    "print(purpose_group('сделка с подержанным автомобилем'))\n",
    "print(purpose_group('заняться высшим образованием'))\n",
    "print(purpose_group('на проведение свадьбы'))\n",
    "print(purpose_group('покупка коммерческой недвижимости'))\n",
    "print(purpose_group('покупка жилья для семьи'))"
   ]
  },
  {
   "cell_type": "markdown",
   "metadata": {},
   "source": [
    "Функция работает, можем теперь применить ее к столбцу"
   ]
  },
  {
   "cell_type": "code",
   "execution_count": 23,
   "metadata": {},
   "outputs": [
    {
     "data": {
      "text/html": [
       "<div>\n",
       "<style scoped>\n",
       "    .dataframe tbody tr th:only-of-type {\n",
       "        vertical-align: middle;\n",
       "    }\n",
       "\n",
       "    .dataframe tbody tr th {\n",
       "        vertical-align: top;\n",
       "    }\n",
       "\n",
       "    .dataframe thead th {\n",
       "        text-align: right;\n",
       "    }\n",
       "</style>\n",
       "<table border=\"1\" class=\"dataframe\">\n",
       "  <thead>\n",
       "    <tr style=\"text-align: right;\">\n",
       "      <th></th>\n",
       "      <th>children</th>\n",
       "      <th>dob_years</th>\n",
       "      <th>education</th>\n",
       "      <th>education_id</th>\n",
       "      <th>family_status</th>\n",
       "      <th>family_status_id</th>\n",
       "      <th>gender</th>\n",
       "      <th>income_type</th>\n",
       "      <th>debt</th>\n",
       "      <th>total_income</th>\n",
       "      <th>purpose</th>\n",
       "      <th>purpose_group</th>\n",
       "    </tr>\n",
       "  </thead>\n",
       "  <tbody>\n",
       "    <tr>\n",
       "      <th>0</th>\n",
       "      <td>1</td>\n",
       "      <td>42</td>\n",
       "      <td>высшее</td>\n",
       "      <td>0</td>\n",
       "      <td>женат / замужем</td>\n",
       "      <td>0</td>\n",
       "      <td>F</td>\n",
       "      <td>сотрудник</td>\n",
       "      <td>0</td>\n",
       "      <td>253875</td>\n",
       "      <td>покупка жилья</td>\n",
       "      <td>недвижимость</td>\n",
       "    </tr>\n",
       "    <tr>\n",
       "      <th>1</th>\n",
       "      <td>1</td>\n",
       "      <td>36</td>\n",
       "      <td>среднее</td>\n",
       "      <td>1</td>\n",
       "      <td>женат / замужем</td>\n",
       "      <td>0</td>\n",
       "      <td>F</td>\n",
       "      <td>сотрудник</td>\n",
       "      <td>0</td>\n",
       "      <td>112080</td>\n",
       "      <td>приобретение автомобиля</td>\n",
       "      <td>автомобиль</td>\n",
       "    </tr>\n",
       "    <tr>\n",
       "      <th>2</th>\n",
       "      <td>0</td>\n",
       "      <td>33</td>\n",
       "      <td>среднее</td>\n",
       "      <td>1</td>\n",
       "      <td>женат / замужем</td>\n",
       "      <td>0</td>\n",
       "      <td>M</td>\n",
       "      <td>сотрудник</td>\n",
       "      <td>0</td>\n",
       "      <td>145885</td>\n",
       "      <td>покупка жилья</td>\n",
       "      <td>недвижимость</td>\n",
       "    </tr>\n",
       "    <tr>\n",
       "      <th>3</th>\n",
       "      <td>3</td>\n",
       "      <td>32</td>\n",
       "      <td>среднее</td>\n",
       "      <td>1</td>\n",
       "      <td>женат / замужем</td>\n",
       "      <td>0</td>\n",
       "      <td>M</td>\n",
       "      <td>сотрудник</td>\n",
       "      <td>0</td>\n",
       "      <td>267628</td>\n",
       "      <td>дополнительное образование</td>\n",
       "      <td>образование</td>\n",
       "    </tr>\n",
       "    <tr>\n",
       "      <th>4</th>\n",
       "      <td>0</td>\n",
       "      <td>53</td>\n",
       "      <td>среднее</td>\n",
       "      <td>1</td>\n",
       "      <td>гражданский брак</td>\n",
       "      <td>1</td>\n",
       "      <td>F</td>\n",
       "      <td>пенсионер</td>\n",
       "      <td>0</td>\n",
       "      <td>158616</td>\n",
       "      <td>сыграть свадьбу</td>\n",
       "      <td>свадьба</td>\n",
       "    </tr>\n",
       "  </tbody>\n",
       "</table>\n",
       "</div>"
      ],
      "text/plain": [
       "   children  dob_years education  education_id     family_status  \\\n",
       "0         1         42    высшее             0   женат / замужем   \n",
       "1         1         36   среднее             1   женат / замужем   \n",
       "2         0         33   среднее             1   женат / замужем   \n",
       "3         3         32   среднее             1   женат / замужем   \n",
       "4         0         53   среднее             1  гражданский брак   \n",
       "\n",
       "   family_status_id gender income_type  debt  total_income  \\\n",
       "0                 0      F   сотрудник     0        253875   \n",
       "1                 0      F   сотрудник     0        112080   \n",
       "2                 0      M   сотрудник     0        145885   \n",
       "3                 0      M   сотрудник     0        267628   \n",
       "4                 1      F   пенсионер     0        158616   \n",
       "\n",
       "                      purpose purpose_group  \n",
       "0               покупка жилья  недвижимость  \n",
       "1     приобретение автомобиля    автомобиль  \n",
       "2               покупка жилья  недвижимость  \n",
       "3  дополнительное образование   образование  \n",
       "4             сыграть свадьбу       свадьба  "
      ]
     },
     "metadata": {},
     "output_type": "display_data"
    },
    {
     "name": "stdout",
     "output_type": "stream",
     "text": [
      "Пропусков в столбце \"purpose_group\": 0\n"
     ]
    },
    {
     "data": {
      "text/plain": [
       "недвижимость    10810\n",
       "автомобиль       4306\n",
       "образование      4013\n",
       "свадьба          2324\n",
       "Name: purpose_group, dtype: int64"
      ]
     },
     "execution_count": 23,
     "metadata": {},
     "output_type": "execute_result"
    }
   ],
   "source": [
    "data['purpose_group'] = data['purpose'].apply(purpose_group)\n",
    "display(data.head())\n",
    "print('Пропусков в столбце \"purpose_group\":', data['purpose_group'].isna().sum())\n",
    "data['purpose_group'].value_counts()"
   ]
  },
  {
   "cell_type": "code",
   "execution_count": 24,
   "metadata": {},
   "outputs": [
    {
     "data": {
      "image/png": "[encoded data removed]",
      "text/plain": [
       "<Figure size 432x288 with 1 Axes>"
      ]
     },
     "metadata": {},
     "output_type": "display_data"
    }
   ],
   "source": [
    "data['purpose_group'].value_counts().plot(kind='pie', autopct='%1.0f%%');"
   ]
  },
  {
   "cell_type": "markdown",
   "metadata": {},
   "source": [
    "Категоризация целей прошла успешно.\n",
    "\n",
    "В результате цели заемщиков распределдились следующим образом:\n",
    "- половина заемщиков взяли кредит на операции с недвижимостью (покупка, ремонт)\n",
    "- 20% и 19% - на покупку автомобиля и получение образования\n",
    "- 11% - на свадьбу"
   ]
  },
  {
   "cell_type": "markdown",
   "metadata": {},
   "source": [
    "#### Категоризация доходов"
   ]
  },
  {
   "cell_type": "markdown",
   "metadata": {},
   "source": [
    "Для начала посмотрим на разброс доходов, рассчитаем минимум, максимум, среднее, медиану:"
   ]
  },
  {
   "cell_type": "code",
   "execution_count": 25,
   "metadata": {},
   "outputs": [
    {
     "data": {
      "text/plain": [
       "count     21453.00\n",
       "mean     165304.01\n",
       "std       98163.13\n",
       "min       20667.00\n",
       "25%      107620.00\n",
       "50%      142594.00\n",
       "75%      195818.00\n",
       "max     2265604.00\n",
       "Name: total_income, dtype: float64"
      ]
     },
     "execution_count": 25,
     "metadata": {},
     "output_type": "execute_result"
    }
   ],
   "source": [
    "data['total_income'].describe()"
   ]
  },
  {
   "cell_type": "markdown",
   "metadata": {},
   "source": [
    "Для наглядности построим распределние:"
   ]
  },
  {
   "cell_type": "code",
   "execution_count": 26,
   "metadata": {},
   "outputs": [
    {
     "data": {
      "image/png": "[encoded data removed]",
      "text/plain": [
       "<Figure size 1152x288 with 1 Axes>"
      ]
     },
     "metadata": {
      "needs_background": "light"
     },
     "output_type": "display_data"
    }
   ],
   "source": [
    "data['total_income'].hist(bins=200, figsize=(16,4));\n",
    "plt.xlim(0,500000)\n",
    "plt.title('Распределение доходов')\n",
    "plt.xlabel('Доход, у.е.')\n",
    "plt.ylabel('Частотность')\n",
    "plt.show()"
   ]
  },
  {
   "cell_type": "markdown",
   "metadata": {},
   "source": [
    "Выделим следующие категории по доходу (в скобках - краткое условное название категории):\n",
    "- до 70 тыс. у.е. (\"ниже среднего\")\n",
    "- от 70 до 180 тыс. у.е. (\"средний\", т.к. в этом диапазоне у нас находится и медиана, и среднее арифметическое)\n",
    "- от 180 до 300 тыс. у.е.(\"выше среднего\")\n",
    "- от 300 тыс. у.е.(\"высокий\")"
   ]
  },
  {
   "cell_type": "markdown",
   "metadata": {},
   "source": [
    "Теперь напишем функцию, которая будет принимать сумму дохода и возвращать категорию дохода. Пусть нижняя граница диапазона не входит в сам диапазон, а верхняя - входит:"
   ]
  },
  {
   "cell_type": "code",
   "execution_count": 27,
   "metadata": {},
   "outputs": [
    {
     "name": "stdout",
     "output_type": "stream",
     "text": [
      "ниже среднего\n",
      "средний\n",
      "выше среднего\n",
      "высокий\n"
     ]
    }
   ],
   "source": [
    "def income_group(income):\n",
    "    if income <= 70000:\n",
    "        return 'ниже среднего'\n",
    "    if 70000 < income <= 180000:\n",
    "        return 'средний'\n",
    "    if 180000 < income <= 300000:\n",
    "        return 'выше среднего'\n",
    "    else:\n",
    "        return 'высокий'\n",
    "    \n",
    "# проверим работоспособность функции на примерах\n",
    "print(income_group(65000))\n",
    "print(income_group(150000))\n",
    "print(income_group(300000))\n",
    "print(income_group(500000))"
   ]
  },
  {
   "cell_type": "markdown",
   "metadata": {},
   "source": [
    "Функция работает корректно. Создадим столбец с категориями доходов и запишем туда возвращаемые функцией значения."
   ]
  },
  {
   "cell_type": "code",
   "execution_count": 28,
   "metadata": {
    "scrolled": false
   },
   "outputs": [
    {
     "data": {
      "text/html": [
       "<div>\n",
       "<style scoped>\n",
       "    .dataframe tbody tr th:only-of-type {\n",
       "        vertical-align: middle;\n",
       "    }\n",
       "\n",
       "    .dataframe tbody tr th {\n",
       "        vertical-align: top;\n",
       "    }\n",
       "\n",
       "    .dataframe thead th {\n",
       "        text-align: right;\n",
       "    }\n",
       "</style>\n",
       "<table border=\"1\" class=\"dataframe\">\n",
       "  <thead>\n",
       "    <tr style=\"text-align: right;\">\n",
       "      <th></th>\n",
       "      <th>children</th>\n",
       "      <th>dob_years</th>\n",
       "      <th>education</th>\n",
       "      <th>education_id</th>\n",
       "      <th>family_status</th>\n",
       "      <th>family_status_id</th>\n",
       "      <th>gender</th>\n",
       "      <th>income_type</th>\n",
       "      <th>debt</th>\n",
       "      <th>total_income</th>\n",
       "      <th>purpose</th>\n",
       "      <th>purpose_group</th>\n",
       "      <th>income_group</th>\n",
       "    </tr>\n",
       "  </thead>\n",
       "  <tbody>\n",
       "    <tr>\n",
       "      <th>0</th>\n",
       "      <td>1</td>\n",
       "      <td>42</td>\n",
       "      <td>высшее</td>\n",
       "      <td>0</td>\n",
       "      <td>женат / замужем</td>\n",
       "      <td>0</td>\n",
       "      <td>F</td>\n",
       "      <td>сотрудник</td>\n",
       "      <td>0</td>\n",
       "      <td>253875</td>\n",
       "      <td>покупка жилья</td>\n",
       "      <td>недвижимость</td>\n",
       "      <td>выше среднего</td>\n",
       "    </tr>\n",
       "    <tr>\n",
       "      <th>1</th>\n",
       "      <td>1</td>\n",
       "      <td>36</td>\n",
       "      <td>среднее</td>\n",
       "      <td>1</td>\n",
       "      <td>женат / замужем</td>\n",
       "      <td>0</td>\n",
       "      <td>F</td>\n",
       "      <td>сотрудник</td>\n",
       "      <td>0</td>\n",
       "      <td>112080</td>\n",
       "      <td>приобретение автомобиля</td>\n",
       "      <td>автомобиль</td>\n",
       "      <td>средний</td>\n",
       "    </tr>\n",
       "    <tr>\n",
       "      <th>2</th>\n",
       "      <td>0</td>\n",
       "      <td>33</td>\n",
       "      <td>среднее</td>\n",
       "      <td>1</td>\n",
       "      <td>женат / замужем</td>\n",
       "      <td>0</td>\n",
       "      <td>M</td>\n",
       "      <td>сотрудник</td>\n",
       "      <td>0</td>\n",
       "      <td>145885</td>\n",
       "      <td>покупка жилья</td>\n",
       "      <td>недвижимость</td>\n",
       "      <td>средний</td>\n",
       "    </tr>\n",
       "    <tr>\n",
       "      <th>3</th>\n",
       "      <td>3</td>\n",
       "      <td>32</td>\n",
       "      <td>среднее</td>\n",
       "      <td>1</td>\n",
       "      <td>женат / замужем</td>\n",
       "      <td>0</td>\n",
       "      <td>M</td>\n",
       "      <td>сотрудник</td>\n",
       "      <td>0</td>\n",
       "      <td>267628</td>\n",
       "      <td>дополнительное образование</td>\n",
       "      <td>образование</td>\n",
       "      <td>выше среднего</td>\n",
       "    </tr>\n",
       "    <tr>\n",
       "      <th>4</th>\n",
       "      <td>0</td>\n",
       "      <td>53</td>\n",
       "      <td>среднее</td>\n",
       "      <td>1</td>\n",
       "      <td>гражданский брак</td>\n",
       "      <td>1</td>\n",
       "      <td>F</td>\n",
       "      <td>пенсионер</td>\n",
       "      <td>0</td>\n",
       "      <td>158616</td>\n",
       "      <td>сыграть свадьбу</td>\n",
       "      <td>свадьба</td>\n",
       "      <td>средний</td>\n",
       "    </tr>\n",
       "  </tbody>\n",
       "</table>\n",
       "</div>"
      ],
      "text/plain": [
       "   children  dob_years education  education_id     family_status  \\\n",
       "0         1         42    высшее             0   женат / замужем   \n",
       "1         1         36   среднее             1   женат / замужем   \n",
       "2         0         33   среднее             1   женат / замужем   \n",
       "3         3         32   среднее             1   женат / замужем   \n",
       "4         0         53   среднее             1  гражданский брак   \n",
       "\n",
       "   family_status_id gender income_type  debt  total_income  \\\n",
       "0                 0      F   сотрудник     0        253875   \n",
       "1                 0      F   сотрудник     0        112080   \n",
       "2                 0      M   сотрудник     0        145885   \n",
       "3                 0      M   сотрудник     0        267628   \n",
       "4                 1      F   пенсионер     0        158616   \n",
       "\n",
       "                      purpose purpose_group   income_group  \n",
       "0               покупка жилья  недвижимость  выше среднего  \n",
       "1     приобретение автомобиля    автомобиль        средний  \n",
       "2               покупка жилья  недвижимость        средний  \n",
       "3  дополнительное образование   образование  выше среднего  \n",
       "4             сыграть свадьбу       свадьба        средний  "
      ]
     },
     "metadata": {},
     "output_type": "display_data"
    },
    {
     "data": {
      "text/plain": [
       "средний          13557\n",
       "выше среднего     4940\n",
       "высокий           1482\n",
       "ниже среднего     1474\n",
       "Name: income_group, dtype: int64"
      ]
     },
     "execution_count": 28,
     "metadata": {},
     "output_type": "execute_result"
    }
   ],
   "source": [
    "data['income_group'] = data['total_income'].apply(income_group)\n",
    "display(data.head())\n",
    "data['income_group'].value_counts()"
   ]
  },
  {
   "cell_type": "code",
   "execution_count": 29,
   "metadata": {},
   "outputs": [
    {
     "data": {
      "image/png": "[encoded data removed]",
      "text/plain": [
       "<Figure size 432x288 with 1 Axes>"
      ]
     },
     "metadata": {},
     "output_type": "display_data"
    }
   ],
   "source": [
    "data['income_group'].value_counts().plot(kind='pie', autopct='%1.0f%%');"
   ]
  },
  {
   "cell_type": "markdown",
   "metadata": {},
   "source": [
    "Основная масса заемщиков  - 63% - имеет средний (по нашим меркам) доход, 23% - доход выше среднего, по 7% приходится на доходы ниже среднего и высокие.\n"
   ]
  },
  {
   "cell_type": "markdown",
   "metadata": {},
   "source": [
    "#### Категоризация количества детей"
   ]
  },
  {
   "cell_type": "markdown",
   "metadata": {},
   "source": [
    "Посмотрим на список уникальных значений столбца с количеством детей"
   ]
  },
  {
   "cell_type": "code",
   "execution_count": 30,
   "metadata": {},
   "outputs": [
    {
     "data": {
      "text/plain": [
       " 0     14090\n",
       " 1      4808\n",
       " 2      2052\n",
       " 3       330\n",
       " 20       76\n",
       "-1        47\n",
       " 4        41\n",
       " 5         9\n",
       "Name: children, dtype: int64"
      ]
     },
     "execution_count": 30,
     "metadata": {},
     "output_type": "execute_result"
    }
   ],
   "source": [
    "data['children'].value_counts()"
   ]
  },
  {
   "cell_type": "markdown",
   "metadata": {},
   "source": [
    "Устраним ошибки: -1 заменим на 1, 20 заменим на 2, проверим результат:"
   ]
  },
  {
   "cell_type": "code",
   "execution_count": 31,
   "metadata": {},
   "outputs": [
    {
     "data": {
      "text/plain": [
       "0    14090\n",
       "1     4855\n",
       "2     2128\n",
       "3      330\n",
       "4       41\n",
       "5        9\n",
       "Name: children, dtype: int64"
      ]
     },
     "execution_count": 31,
     "metadata": {},
     "output_type": "execute_result"
    }
   ],
   "source": [
    "data['children'] = data['children'].abs().replace(20, 2)\n",
    "data['children'].value_counts()"
   ]
  },
  {
   "cell_type": "markdown",
   "metadata": {},
   "source": [
    "Выделим 3 категории: \n",
    "- нет детей, \n",
    "- один ребенок, \n",
    "- несколько детей\n",
    "\n",
    "\n",
    "Напишем функцию, которая будет возвращать категорию заемщика в зависимости от количества детей:"
   ]
  },
  {
   "cell_type": "code",
   "execution_count": 32,
   "metadata": {},
   "outputs": [
    {
     "name": "stdout",
     "output_type": "stream",
     "text": [
      "нет детей\n",
      "один ребенок\n",
      "несколько детей\n"
     ]
    }
   ],
   "source": [
    "def children_group(children):\n",
    "    if children == 0:\n",
    "        return 'нет детей'\n",
    "    if children == 1:\n",
    "        return 'один ребенок'\n",
    "    else:\n",
    "        return 'несколько детей'\n",
    "    \n",
    "# проверим работоспособность функции\n",
    "print(children_group(0))\n",
    "print(children_group(1))\n",
    "print(children_group(2))"
   ]
  },
  {
   "cell_type": "markdown",
   "metadata": {},
   "source": [
    "Функция работает корректно, применим ее к столбцу 'children', запишем возвращаемые результаты в новый столбец, проверим уникальные значения в новом столбце:"
   ]
  },
  {
   "cell_type": "code",
   "execution_count": 33,
   "metadata": {},
   "outputs": [
    {
     "data": {
      "text/html": [
       "<div>\n",
       "<style scoped>\n",
       "    .dataframe tbody tr th:only-of-type {\n",
       "        vertical-align: middle;\n",
       "    }\n",
       "\n",
       "    .dataframe tbody tr th {\n",
       "        vertical-align: top;\n",
       "    }\n",
       "\n",
       "    .dataframe thead th {\n",
       "        text-align: right;\n",
       "    }\n",
       "</style>\n",
       "<table border=\"1\" class=\"dataframe\">\n",
       "  <thead>\n",
       "    <tr style=\"text-align: right;\">\n",
       "      <th></th>\n",
       "      <th>children</th>\n",
       "      <th>dob_years</th>\n",
       "      <th>education</th>\n",
       "      <th>education_id</th>\n",
       "      <th>family_status</th>\n",
       "      <th>family_status_id</th>\n",
       "      <th>gender</th>\n",
       "      <th>income_type</th>\n",
       "      <th>debt</th>\n",
       "      <th>total_income</th>\n",
       "      <th>purpose</th>\n",
       "      <th>purpose_group</th>\n",
       "      <th>income_group</th>\n",
       "      <th>children_group</th>\n",
       "    </tr>\n",
       "  </thead>\n",
       "  <tbody>\n",
       "    <tr>\n",
       "      <th>0</th>\n",
       "      <td>1</td>\n",
       "      <td>42</td>\n",
       "      <td>высшее</td>\n",
       "      <td>0</td>\n",
       "      <td>женат / замужем</td>\n",
       "      <td>0</td>\n",
       "      <td>F</td>\n",
       "      <td>сотрудник</td>\n",
       "      <td>0</td>\n",
       "      <td>253875</td>\n",
       "      <td>покупка жилья</td>\n",
       "      <td>недвижимость</td>\n",
       "      <td>выше среднего</td>\n",
       "      <td>один ребенок</td>\n",
       "    </tr>\n",
       "    <tr>\n",
       "      <th>1</th>\n",
       "      <td>1</td>\n",
       "      <td>36</td>\n",
       "      <td>среднее</td>\n",
       "      <td>1</td>\n",
       "      <td>женат / замужем</td>\n",
       "      <td>0</td>\n",
       "      <td>F</td>\n",
       "      <td>сотрудник</td>\n",
       "      <td>0</td>\n",
       "      <td>112080</td>\n",
       "      <td>приобретение автомобиля</td>\n",
       "      <td>автомобиль</td>\n",
       "      <td>средний</td>\n",
       "      <td>один ребенок</td>\n",
       "    </tr>\n",
       "    <tr>\n",
       "      <th>2</th>\n",
       "      <td>0</td>\n",
       "      <td>33</td>\n",
       "      <td>среднее</td>\n",
       "      <td>1</td>\n",
       "      <td>женат / замужем</td>\n",
       "      <td>0</td>\n",
       "      <td>M</td>\n",
       "      <td>сотрудник</td>\n",
       "      <td>0</td>\n",
       "      <td>145885</td>\n",
       "      <td>покупка жилья</td>\n",
       "      <td>недвижимость</td>\n",
       "      <td>средний</td>\n",
       "      <td>нет детей</td>\n",
       "    </tr>\n",
       "    <tr>\n",
       "      <th>3</th>\n",
       "      <td>3</td>\n",
       "      <td>32</td>\n",
       "      <td>среднее</td>\n",
       "      <td>1</td>\n",
       "      <td>женат / замужем</td>\n",
       "      <td>0</td>\n",
       "      <td>M</td>\n",
       "      <td>сотрудник</td>\n",
       "      <td>0</td>\n",
       "      <td>267628</td>\n",
       "      <td>дополнительное образование</td>\n",
       "      <td>образование</td>\n",
       "      <td>выше среднего</td>\n",
       "      <td>несколько детей</td>\n",
       "    </tr>\n",
       "    <tr>\n",
       "      <th>4</th>\n",
       "      <td>0</td>\n",
       "      <td>53</td>\n",
       "      <td>среднее</td>\n",
       "      <td>1</td>\n",
       "      <td>гражданский брак</td>\n",
       "      <td>1</td>\n",
       "      <td>F</td>\n",
       "      <td>пенсионер</td>\n",
       "      <td>0</td>\n",
       "      <td>158616</td>\n",
       "      <td>сыграть свадьбу</td>\n",
       "      <td>свадьба</td>\n",
       "      <td>средний</td>\n",
       "      <td>нет детей</td>\n",
       "    </tr>\n",
       "  </tbody>\n",
       "</table>\n",
       "</div>"
      ],
      "text/plain": [
       "   children  dob_years education  education_id     family_status  \\\n",
       "0         1         42    высшее             0   женат / замужем   \n",
       "1         1         36   среднее             1   женат / замужем   \n",
       "2         0         33   среднее             1   женат / замужем   \n",
       "3         3         32   среднее             1   женат / замужем   \n",
       "4         0         53   среднее             1  гражданский брак   \n",
       "\n",
       "   family_status_id gender income_type  debt  total_income  \\\n",
       "0                 0      F   сотрудник     0        253875   \n",
       "1                 0      F   сотрудник     0        112080   \n",
       "2                 0      M   сотрудник     0        145885   \n",
       "3                 0      M   сотрудник     0        267628   \n",
       "4                 1      F   пенсионер     0        158616   \n",
       "\n",
       "                      purpose purpose_group   income_group   children_group  \n",
       "0               покупка жилья  недвижимость  выше среднего     один ребенок  \n",
       "1     приобретение автомобиля    автомобиль        средний     один ребенок  \n",
       "2               покупка жилья  недвижимость        средний        нет детей  \n",
       "3  дополнительное образование   образование  выше среднего  несколько детей  \n",
       "4             сыграть свадьбу       свадьба        средний        нет детей  "
      ]
     },
     "metadata": {},
     "output_type": "display_data"
    },
    {
     "data": {
      "text/plain": [
       "нет детей          14090\n",
       "один ребенок        4855\n",
       "несколько детей     2508\n",
       "Name: children_group, dtype: int64"
      ]
     },
     "execution_count": 33,
     "metadata": {},
     "output_type": "execute_result"
    }
   ],
   "source": [
    "data['children_group'] = data['children'].apply(children_group)\n",
    "display(data.head())\n",
    "data['children_group'].value_counts()"
   ]
  },
  {
   "cell_type": "code",
   "execution_count": 34,
   "metadata": {},
   "outputs": [
    {
     "data": {
      "image/png": "[encoded data removed]",
      "text/plain": [
       "<Figure size 432x288 with 1 Axes>"
      ]
     },
     "metadata": {},
     "output_type": "display_data"
    }
   ],
   "source": [
    "data['children_group'].value_counts().plot(kind='pie', autopct='%1.0f%%');"
   ]
  },
  {
   "cell_type": "markdown",
   "metadata": {},
   "source": [
    "#### Вывод"
   ]
  },
  {
   "cell_type": "markdown",
   "metadata": {},
   "source": [
    "Мы распределили по категориям цели, размер доходов и количество детей клиентов. \n",
    "\n",
    "Самая популярная цель кредитования - недвижимость (у 50% заемщиков). \n",
    "\n",
    "Более половины (63%) клиентов получают доход от 70 до 180 тыс. у.е.\n",
    "\n",
    "66% заемщиков не имеют детей."
   ]
  },
  {
   "cell_type": "markdown",
   "metadata": {},
   "source": [
    "## Влияние характеристик клиентов на возврат кредита в срок"
   ]
  },
  {
   "cell_type": "markdown",
   "metadata": {},
   "source": [
    "Напишем функцию, которая будет строить таблицу, в индексах которой будет нужный нам признак (категории клиентов по данному признаку), а в значениях - средняя доля должников для каждой категории:"
   ]
  },
  {
   "cell_type": "code",
   "execution_count": 35,
   "metadata": {},
   "outputs": [],
   "source": [
    "def data_group(feature):\n",
    "    feature_group = data.groupby(feature).agg({'debt':'mean'})\\\n",
    "                        .reset_index()\n",
    "    feature_group = feature_group.sort_values(by='debt', ascending=False)\n",
    "    return feature_group"
   ]
  },
  {
   "cell_type": "code",
   "execution_count": 36,
   "metadata": {},
   "outputs": [
    {
     "data": {
      "text/html": [
       "<div>\n",
       "<style scoped>\n",
       "    .dataframe tbody tr th:only-of-type {\n",
       "        vertical-align: middle;\n",
       "    }\n",
       "\n",
       "    .dataframe tbody tr th {\n",
       "        vertical-align: top;\n",
       "    }\n",
       "\n",
       "    .dataframe thead th {\n",
       "        text-align: right;\n",
       "    }\n",
       "</style>\n",
       "<table border=\"1\" class=\"dataframe\">\n",
       "  <thead>\n",
       "    <tr style=\"text-align: right;\">\n",
       "      <th></th>\n",
       "      <th>children_group</th>\n",
       "      <th>debt</th>\n",
       "    </tr>\n",
       "  </thead>\n",
       "  <tbody>\n",
       "    <tr>\n",
       "      <th>0</th>\n",
       "      <td>несколько детей</td>\n",
       "      <td>0.09</td>\n",
       "    </tr>\n",
       "    <tr>\n",
       "      <th>2</th>\n",
       "      <td>один ребенок</td>\n",
       "      <td>0.09</td>\n",
       "    </tr>\n",
       "    <tr>\n",
       "      <th>1</th>\n",
       "      <td>нет детей</td>\n",
       "      <td>0.08</td>\n",
       "    </tr>\n",
       "  </tbody>\n",
       "</table>\n",
       "</div>"
      ],
      "text/plain": [
       "    children_group  debt\n",
       "0  несколько детей  0.09\n",
       "2     один ребенок  0.09\n",
       "1        нет детей  0.08"
      ]
     },
     "execution_count": 36,
     "metadata": {},
     "output_type": "execute_result"
    }
   ],
   "source": [
    "data_group('children_group')"
   ]
  },
  {
   "cell_type": "markdown",
   "metadata": {},
   "source": [
    "### Количество детей"
   ]
  },
  {
   "cell_type": "markdown",
   "metadata": {},
   "source": [
    "Есть ли зависимость между наличием детей и возвратом кредита в срок? Построим сводную таблицу с группировкой по количеству детей:"
   ]
  },
  {
   "cell_type": "code",
   "execution_count": 37,
   "metadata": {},
   "outputs": [
    {
     "data": {
      "text/html": [
       "<div>\n",
       "<style scoped>\n",
       "    .dataframe tbody tr th:only-of-type {\n",
       "        vertical-align: middle;\n",
       "    }\n",
       "\n",
       "    .dataframe tbody tr th {\n",
       "        vertical-align: top;\n",
       "    }\n",
       "\n",
       "    .dataframe thead th {\n",
       "        text-align: right;\n",
       "    }\n",
       "</style>\n",
       "<table border=\"1\" class=\"dataframe\">\n",
       "  <thead>\n",
       "    <tr style=\"text-align: right;\">\n",
       "      <th></th>\n",
       "      <th>children_group</th>\n",
       "      <th>debt</th>\n",
       "    </tr>\n",
       "  </thead>\n",
       "  <tbody>\n",
       "    <tr>\n",
       "      <th>0</th>\n",
       "      <td>несколько детей</td>\n",
       "      <td>0.09</td>\n",
       "    </tr>\n",
       "    <tr>\n",
       "      <th>2</th>\n",
       "      <td>один ребенок</td>\n",
       "      <td>0.09</td>\n",
       "    </tr>\n",
       "    <tr>\n",
       "      <th>1</th>\n",
       "      <td>нет детей</td>\n",
       "      <td>0.08</td>\n",
       "    </tr>\n",
       "  </tbody>\n",
       "</table>\n",
       "</div>"
      ],
      "text/plain": [
       "    children_group  debt\n",
       "0  несколько детей  0.09\n",
       "2     один ребенок  0.09\n",
       "1        нет детей  0.08"
      ]
     },
     "execution_count": 37,
     "metadata": {},
     "output_type": "execute_result"
    }
   ],
   "source": [
    "data_group('children_group')"
   ]
  },
  {
   "cell_type": "markdown",
   "metadata": {},
   "source": [
    "**Вывод**"
   ]
  },
  {
   "cell_type": "markdown",
   "metadata": {},
   "source": [
    "Зависимость между наличием детей и возвратом кредита в срок есть.\n",
    "\n",
    "Заемщики, у которых нет детей, чаще возвращают кредит в срок (доля должников 8%), чем заемщики у которых есть дети (доля должников 9%). Возможно, это объясняется тем, что с детьми расходов в целом больше и непредвиденные траты (например, на медицинские услуги, на пришедшие в негодность вещи) возникают чаще, поэтому денег на погашение в срок может просто не хватить. Также с детьми больше забот, и есть риск просто забыть о дате платежа."
   ]
  },
  {
   "cell_type": "markdown",
   "metadata": {},
   "source": [
    "### Семейное положение"
   ]
  },
  {
   "cell_type": "markdown",
   "metadata": {},
   "source": [
    "Есть ли зависимость между семейным положением и возвратом кредита в срок? Построим сводную таблицу с группировкой по семейному положению:"
   ]
  },
  {
   "cell_type": "code",
   "execution_count": 38,
   "metadata": {},
   "outputs": [
    {
     "data": {
      "text/html": [
       "<div>\n",
       "<style scoped>\n",
       "    .dataframe tbody tr th:only-of-type {\n",
       "        vertical-align: middle;\n",
       "    }\n",
       "\n",
       "    .dataframe tbody tr th {\n",
       "        vertical-align: top;\n",
       "    }\n",
       "\n",
       "    .dataframe thead th {\n",
       "        text-align: right;\n",
       "    }\n",
       "</style>\n",
       "<table border=\"1\" class=\"dataframe\">\n",
       "  <thead>\n",
       "    <tr style=\"text-align: right;\">\n",
       "      <th></th>\n",
       "      <th>family_status</th>\n",
       "      <th>debt</th>\n",
       "    </tr>\n",
       "  </thead>\n",
       "  <tbody>\n",
       "    <tr>\n",
       "      <th>4</th>\n",
       "      <td>не женат / не замужем</td>\n",
       "      <td>0.10</td>\n",
       "    </tr>\n",
       "    <tr>\n",
       "      <th>2</th>\n",
       "      <td>гражданский брак</td>\n",
       "      <td>0.09</td>\n",
       "    </tr>\n",
       "    <tr>\n",
       "      <th>3</th>\n",
       "      <td>женат / замужем</td>\n",
       "      <td>0.08</td>\n",
       "    </tr>\n",
       "    <tr>\n",
       "      <th>0</th>\n",
       "      <td>в разводе</td>\n",
       "      <td>0.07</td>\n",
       "    </tr>\n",
       "    <tr>\n",
       "      <th>1</th>\n",
       "      <td>вдовец / вдова</td>\n",
       "      <td>0.07</td>\n",
       "    </tr>\n",
       "  </tbody>\n",
       "</table>\n",
       "</div>"
      ],
      "text/plain": [
       "           family_status  debt\n",
       "4  не женат / не замужем  0.10\n",
       "2       гражданский брак  0.09\n",
       "3        женат / замужем  0.08\n",
       "0              в разводе  0.07\n",
       "1         вдовец / вдова  0.07"
      ]
     },
     "execution_count": 38,
     "metadata": {},
     "output_type": "execute_result"
    }
   ],
   "source": [
    "data_group('family_status')"
   ]
  },
  {
   "cell_type": "markdown",
   "metadata": {},
   "source": [
    "**Вывод**"
   ]
  },
  {
   "cell_type": "markdown",
   "metadata": {},
   "source": [
    "Зависимость между семейным положением и возвратом кредита в срок есть.\n",
    "\n",
    "Самые надежные заемщики -  вдовцы и вдовы, а также разведенные (доля должников - 7%). Самые ненадежные - неженатые и незамужние (доля должников - 10%). Чем взрослее человек и чем больше у него жизненного опыта (в т.ч. опыта, связанного с потерями близких), тем он серьезнее относится к своим обязательствам. У неженатых и незамужних меньше обязательств, чем у семейных, меньше жизненного опыта и они более легкомысленны. "
   ]
  },
  {
   "cell_type": "markdown",
   "metadata": {},
   "source": [
    "### Уровень дохода"
   ]
  },
  {
   "cell_type": "markdown",
   "metadata": {},
   "source": [
    "Есть ли зависимость между уровнем дохода и возвратом кредита в срок?"
   ]
  },
  {
   "cell_type": "code",
   "execution_count": 39,
   "metadata": {},
   "outputs": [
    {
     "data": {
      "text/html": [
       "<div>\n",
       "<style scoped>\n",
       "    .dataframe tbody tr th:only-of-type {\n",
       "        vertical-align: middle;\n",
       "    }\n",
       "\n",
       "    .dataframe tbody tr th {\n",
       "        vertical-align: top;\n",
       "    }\n",
       "\n",
       "    .dataframe thead th {\n",
       "        text-align: right;\n",
       "    }\n",
       "</style>\n",
       "<table border=\"1\" class=\"dataframe\">\n",
       "  <thead>\n",
       "    <tr style=\"text-align: right;\">\n",
       "      <th></th>\n",
       "      <th>income_group</th>\n",
       "      <th>debt</th>\n",
       "    </tr>\n",
       "  </thead>\n",
       "  <tbody>\n",
       "    <tr>\n",
       "      <th>3</th>\n",
       "      <td>средний</td>\n",
       "      <td>0.09</td>\n",
       "    </tr>\n",
       "    <tr>\n",
       "      <th>1</th>\n",
       "      <td>выше среднего</td>\n",
       "      <td>0.08</td>\n",
       "    </tr>\n",
       "    <tr>\n",
       "      <th>0</th>\n",
       "      <td>высокий</td>\n",
       "      <td>0.07</td>\n",
       "    </tr>\n",
       "    <tr>\n",
       "      <th>2</th>\n",
       "      <td>ниже среднего</td>\n",
       "      <td>0.07</td>\n",
       "    </tr>\n",
       "  </tbody>\n",
       "</table>\n",
       "</div>"
      ],
      "text/plain": [
       "    income_group  debt\n",
       "3        средний  0.09\n",
       "1  выше среднего  0.08\n",
       "0        высокий  0.07\n",
       "2  ниже среднего  0.07"
      ]
     },
     "execution_count": 39,
     "metadata": {},
     "output_type": "execute_result"
    }
   ],
   "source": [
    "data_group('income_group')"
   ]
  },
  {
   "cell_type": "markdown",
   "metadata": {},
   "source": [
    "**Вывод**"
   ]
  },
  {
   "cell_type": "markdown",
   "metadata": {},
   "source": [
    "Зависимость между уровнем дохода и возвратом кредита в срок есть.\n",
    "\n",
    "Чаще всего возвращают кредиты в срок заемщики с высокими (от 300 тыс. у.е.) и низкими (до 70 тыс.) доходами - доля должников среди них составляет всего 7%. \n",
    "Люди с высокими доходами обычно ответственно относятся ко всему, что связано с деньгами (иначе у них не было бы высоких доходов). Они планируют, адекватно рассчитывают свои силы, им легко погасить кредит в срок.\n",
    "Люди с низкими доходами, чтобы выжить, считают каждый рубль, поэтому они тоже вынуждены планировать и рассчитывать свои силы.\n",
    "\n",
    "Хуже всего возвращают кредиты заемщики со средним доходом (70-180 тыс.) - доля должников составляет 9%. Им уже не нужно бороться за выживание (в отличие от тех, у кого доход низкий), основные потребности удовлетворены, особых амбиций, скорее всего, нет (иначе они зарабатывали бы больше), поэтому на финансовую дисциплину можно \"забить\". Бюджет, скорее всего, не ведется, поэтому могут возникать непредвиденные кассовые разрывы и  - как следствие - просрочки выплат по кредитам."
   ]
  },
  {
   "cell_type": "markdown",
   "metadata": {},
   "source": [
    "### Цели кредита"
   ]
  },
  {
   "cell_type": "markdown",
   "metadata": {},
   "source": [
    "Как разные цели кредита влияют на его возврат в срок?"
   ]
  },
  {
   "cell_type": "code",
   "execution_count": 40,
   "metadata": {},
   "outputs": [
    {
     "data": {
      "text/html": [
       "<div>\n",
       "<style scoped>\n",
       "    .dataframe tbody tr th:only-of-type {\n",
       "        vertical-align: middle;\n",
       "    }\n",
       "\n",
       "    .dataframe tbody tr th {\n",
       "        vertical-align: top;\n",
       "    }\n",
       "\n",
       "    .dataframe thead th {\n",
       "        text-align: right;\n",
       "    }\n",
       "</style>\n",
       "<table border=\"1\" class=\"dataframe\">\n",
       "  <thead>\n",
       "    <tr style=\"text-align: right;\">\n",
       "      <th></th>\n",
       "      <th>purpose_group</th>\n",
       "      <th>debt</th>\n",
       "    </tr>\n",
       "  </thead>\n",
       "  <tbody>\n",
       "    <tr>\n",
       "      <th>0</th>\n",
       "      <td>автомобиль</td>\n",
       "      <td>0.09</td>\n",
       "    </tr>\n",
       "    <tr>\n",
       "      <th>2</th>\n",
       "      <td>образование</td>\n",
       "      <td>0.09</td>\n",
       "    </tr>\n",
       "    <tr>\n",
       "      <th>3</th>\n",
       "      <td>свадьба</td>\n",
       "      <td>0.08</td>\n",
       "    </tr>\n",
       "    <tr>\n",
       "      <th>1</th>\n",
       "      <td>недвижимость</td>\n",
       "      <td>0.07</td>\n",
       "    </tr>\n",
       "  </tbody>\n",
       "</table>\n",
       "</div>"
      ],
      "text/plain": [
       "  purpose_group  debt\n",
       "0    автомобиль  0.09\n",
       "2   образование  0.09\n",
       "3       свадьба  0.08\n",
       "1  недвижимость  0.07"
      ]
     },
     "execution_count": 40,
     "metadata": {},
     "output_type": "execute_result"
    }
   ],
   "source": [
    "data_group('purpose_group')"
   ]
  },
  {
   "cell_type": "markdown",
   "metadata": {},
   "source": [
    "**Вывод**"
   ]
  },
  {
   "cell_type": "markdown",
   "metadata": {},
   "source": [
    "Кредиты на операции с недвижимостью возвращаются в срок чаще всего - доля невозвратов всего 7%. Покупка недвижимости - серьезный шаг, требующий в большинстве случаев значительной суммы денег, тщательных расчетов, длительных сроков. Поэтому заемщики подходят к операциям с недвижимостью максимально ответственно. Плюс недвижимость можно сдавать в аренду и гасить за счет арендных платежей кредит.\n",
    "\n",
    "Кредиты на свадьбу возвращаются в срок чуть реже (8% невозвратов). Это также ответственное событие, кроме того, на свадьбу могут подарить крупные денежные подарки, которые также можно пустить на погашение кредита. Однако сумма уже меньше, чем для операций с недвижимостью, меньше и ответственности.\n",
    "\n",
    "Кредиты на образование и автомобиль возвращают реже всего, доля задолжников составляет 9%. \n",
    "\n",
    "Что касается образования, возможно, это связано с тем, что в процессе получения образования уменьшаются возможности полноценно зарабатывать, т.к. учеба отнимает время и силы. Кроме того, образование может начать окупаться не сразу, первое время доходы по новой специальности могут быть относительно низкими, сначала требуется получить опыт.\n",
    "\n",
    "Автомобиль требует ремонта и техобслуживания, может попасть в аварию или быть угнан. Для большинства заемщиков - это скорее пассив, средство передвижения, но не средство заработка (таксисты и грузоперевозчики редко пользуются автокредитом, для них выгоднее лизинг). Поэтому автомобиль сам себя редко окупает. Отсюда и максимальная доля просрочек."
   ]
  },
  {
   "cell_type": "markdown",
   "metadata": {},
   "source": [
    "## Общий вывод"
   ]
  },
  {
   "cell_type": "markdown",
   "metadata": {},
   "source": [
    "Семейное положение, наличие детей, величина дохода и цель кредита - важные характеристики, влияющие на вероятность возврата кредита в срок.\n",
    "\n",
    "Портрет надежного заемщика: \n",
    "1. официально состоял либо состоит в браке\n",
    "2. без детей\n",
    "3. с доходом от 300 тыс.  либо до 70 тыс. у.е.\n",
    "4. цель кредита - операции с недвижимостью\n",
    "\n",
    "Примечание: недвижимость бывает разная (это может быть в т.ч. комната или деревянный дом, например), кроме того, сюда попадают кредиты на ремонт недвижимости, поэтому заемщиков с низкими доходами не исключаем. Важным параметром для оценки платежеспособности здесь будет также сумма кредита в сравнении с суммой дохода.\n",
    "\n",
    "Портрет ненадежного заемщика:\n",
    "1. официально не состоит и никогда не состоял в браке\n",
    "2. есть дети\n",
    "3. доход от 70 до 180 тыс.\n",
    "4. цель кредита - покупка автомобиля либо образование"
   ]
  }
 ],
 "metadata": {
  "ExecuteTimeLog": [
   {
    "duration": 605,
    "start_time": "2022-01-03T04:18:27.944Z"
   },
   {
    "duration": 102,
    "start_time": "2022-01-03T04:42:52.829Z"
   },
   {
    "duration": 65,
    "start_time": "2022-01-03T04:46:27.498Z"
   },
   {
    "duration": 3,
    "start_time": "2022-01-03T06:19:31.273Z"
   },
   {
    "duration": 13,
    "start_time": "2022-01-03T06:19:48.482Z"
   },
   {
    "duration": 3,
    "start_time": "2022-01-03T06:20:47.716Z"
   },
   {
    "duration": 6,
    "start_time": "2022-01-03T06:21:42.971Z"
   },
   {
    "duration": 369,
    "start_time": "2022-01-03T06:32:53.718Z"
   },
   {
    "duration": 411,
    "start_time": "2022-01-03T06:33:11.426Z"
   },
   {
    "duration": 423,
    "start_time": "2022-01-03T06:34:11.828Z"
   },
   {
    "duration": 5,
    "start_time": "2022-01-03T06:35:03.023Z"
   },
   {
    "duration": 6,
    "start_time": "2022-01-03T06:39:08.603Z"
   },
   {
    "duration": 5,
    "start_time": "2022-01-03T06:42:30.013Z"
   },
   {
    "duration": 5,
    "start_time": "2022-01-03T06:43:32.803Z"
   },
   {
    "duration": 8,
    "start_time": "2022-01-03T06:46:43.588Z"
   },
   {
    "duration": 7,
    "start_time": "2022-01-03T06:47:45.407Z"
   },
   {
    "duration": 8,
    "start_time": "2022-01-03T06:47:53.392Z"
   },
   {
    "duration": 8,
    "start_time": "2022-01-03T06:48:07.699Z"
   },
   {
    "duration": 7,
    "start_time": "2022-01-03T06:48:19.097Z"
   },
   {
    "duration": 7,
    "start_time": "2022-01-03T06:48:27.999Z"
   },
   {
    "duration": 8,
    "start_time": "2022-01-03T06:48:39.054Z"
   },
   {
    "duration": 5,
    "start_time": "2022-01-03T06:49:05.079Z"
   },
   {
    "duration": 8,
    "start_time": "2022-01-03T06:49:31.271Z"
   },
   {
    "duration": 8,
    "start_time": "2022-01-03T06:49:39.811Z"
   },
   {
    "duration": 8,
    "start_time": "2022-01-03T06:49:44.490Z"
   },
   {
    "duration": 18,
    "start_time": "2022-01-03T06:53:52.012Z"
   },
   {
    "duration": 16,
    "start_time": "2022-01-03T06:59:41.450Z"
   },
   {
    "duration": 17,
    "start_time": "2022-01-03T07:01:14.813Z"
   },
   {
    "duration": 5,
    "start_time": "2022-01-03T07:02:28.693Z"
   },
   {
    "duration": 8,
    "start_time": "2022-01-03T07:05:55.371Z"
   },
   {
    "duration": 9,
    "start_time": "2022-01-03T07:06:35.175Z"
   },
   {
    "duration": 4,
    "start_time": "2022-01-03T07:07:42.765Z"
   },
   {
    "duration": 9,
    "start_time": "2022-01-03T07:10:32.768Z"
   },
   {
    "duration": 9,
    "start_time": "2022-01-03T07:12:58.988Z"
   },
   {
    "duration": 5,
    "start_time": "2022-01-03T07:44:57.778Z"
   },
   {
    "duration": 6,
    "start_time": "2022-01-03T07:45:57.566Z"
   },
   {
    "duration": 5,
    "start_time": "2022-01-03T07:58:29.359Z"
   },
   {
    "duration": 17,
    "start_time": "2022-01-03T07:58:36.273Z"
   },
   {
    "duration": 17,
    "start_time": "2022-01-03T09:27:45.733Z"
   },
   {
    "duration": 13,
    "start_time": "2022-01-03T09:28:00.037Z"
   },
   {
    "duration": 8,
    "start_time": "2022-01-03T09:28:13.820Z"
   },
   {
    "duration": 96,
    "start_time": "2022-01-03T09:30:44.385Z"
   },
   {
    "duration": 297,
    "start_time": "2022-01-03T09:33:43.517Z"
   },
   {
    "duration": 7,
    "start_time": "2022-01-03T09:34:09.547Z"
   },
   {
    "duration": 9,
    "start_time": "2022-01-03T09:34:27.080Z"
   },
   {
    "duration": 542,
    "start_time": "2022-01-03T09:34:45.104Z"
   },
   {
    "duration": 100,
    "start_time": "2022-01-03T09:35:52.872Z"
   },
   {
    "duration": 299,
    "start_time": "2022-01-03T09:36:06.669Z"
   },
   {
    "duration": 7,
    "start_time": "2022-01-03T09:37:51.891Z"
   },
   {
    "duration": 14,
    "start_time": "2022-01-03T09:38:27.500Z"
   },
   {
    "duration": 95,
    "start_time": "2022-01-03T09:39:28.661Z"
   },
   {
    "duration": 121,
    "start_time": "2022-01-03T09:39:42.161Z"
   },
   {
    "duration": 15,
    "start_time": "2022-01-03T09:39:59.777Z"
   },
   {
    "duration": 19,
    "start_time": "2022-01-03T09:40:10.868Z"
   },
   {
    "duration": 7,
    "start_time": "2022-01-03T09:40:53.474Z"
   },
   {
    "duration": 8,
    "start_time": "2022-01-03T09:41:17.282Z"
   },
   {
    "duration": 96,
    "start_time": "2022-01-03T09:43:00.134Z"
   },
   {
    "duration": 14,
    "start_time": "2022-01-03T09:54:50.286Z"
   },
   {
    "duration": 19,
    "start_time": "2022-01-03T10:01:34.536Z"
   },
   {
    "duration": 348,
    "start_time": "2022-01-03T10:02:36.052Z"
   },
   {
    "duration": 7,
    "start_time": "2022-01-03T10:02:47.253Z"
   },
   {
    "duration": 10,
    "start_time": "2022-01-03T10:04:29.629Z"
   },
   {
    "duration": 6,
    "start_time": "2022-01-03T10:16:11.821Z"
   },
   {
    "duration": 6,
    "start_time": "2022-01-03T10:16:33.980Z"
   },
   {
    "duration": 7,
    "start_time": "2022-01-03T10:16:57.175Z"
   },
   {
    "duration": 6,
    "start_time": "2022-01-03T10:20:05.154Z"
   },
   {
    "duration": 6,
    "start_time": "2022-01-03T10:20:14.820Z"
   },
   {
    "duration": 7,
    "start_time": "2022-01-03T10:26:08.853Z"
   },
   {
    "duration": 7,
    "start_time": "2022-01-03T10:26:20.854Z"
   },
   {
    "duration": 265,
    "start_time": "2022-01-03T10:31:05.072Z"
   },
   {
    "duration": 5,
    "start_time": "2022-01-03T10:31:19.821Z"
   },
   {
    "duration": 5,
    "start_time": "2022-01-03T10:31:51.144Z"
   },
   {
    "duration": 7,
    "start_time": "2022-01-03T10:34:13.052Z"
   },
   {
    "duration": 16,
    "start_time": "2022-01-03T10:34:28.445Z"
   },
   {
    "duration": 6,
    "start_time": "2022-01-03T10:36:27.882Z"
   },
   {
    "duration": 84,
    "start_time": "2022-01-03T10:41:14.114Z"
   },
   {
    "duration": 6,
    "start_time": "2022-01-03T10:41:47.952Z"
   },
   {
    "duration": 16,
    "start_time": "2022-01-03T10:45:37.024Z"
   },
   {
    "duration": 839,
    "start_time": "2022-01-05T04:33:37.482Z"
   },
   {
    "duration": 12,
    "start_time": "2022-01-05T04:33:38.324Z"
   },
   {
    "duration": 29,
    "start_time": "2022-01-05T04:33:38.340Z"
   },
   {
    "duration": 13,
    "start_time": "2022-01-05T04:33:38.372Z"
   },
   {
    "duration": 9,
    "start_time": "2022-01-05T04:33:38.388Z"
   },
   {
    "duration": 7,
    "start_time": "2022-01-05T04:33:38.400Z"
   },
   {
    "duration": 62,
    "start_time": "2022-01-05T04:33:38.410Z"
   },
   {
    "duration": 20,
    "start_time": "2022-01-05T05:01:52.869Z"
   },
   {
    "duration": 4,
    "start_time": "2022-01-05T05:03:08.123Z"
   },
   {
    "duration": 8,
    "start_time": "2022-01-05T05:08:00.731Z"
   },
   {
    "duration": 6,
    "start_time": "2022-01-05T05:08:11.597Z"
   },
   {
    "duration": 10,
    "start_time": "2022-01-05T06:11:23.389Z"
   },
   {
    "duration": 10,
    "start_time": "2022-01-05T06:11:34.298Z"
   },
   {
    "duration": 10,
    "start_time": "2022-01-05T06:11:38.737Z"
   },
   {
    "duration": 11,
    "start_time": "2022-01-05T06:11:44.136Z"
   },
   {
    "duration": 11,
    "start_time": "2022-01-05T06:11:49.168Z"
   },
   {
    "duration": 11,
    "start_time": "2022-01-05T06:11:55.943Z"
   },
   {
    "duration": 10,
    "start_time": "2022-01-05T06:12:02.806Z"
   },
   {
    "duration": 9,
    "start_time": "2022-01-05T06:19:47.026Z"
   },
   {
    "duration": 9,
    "start_time": "2022-01-05T06:27:50.780Z"
   },
   {
    "duration": 11,
    "start_time": "2022-01-05T06:29:48.122Z"
   },
   {
    "duration": 14,
    "start_time": "2022-01-05T06:29:54.587Z"
   },
   {
    "duration": 511,
    "start_time": "2022-01-05T06:32:21.328Z"
   },
   {
    "duration": 30,
    "start_time": "2022-01-05T06:32:46.495Z"
   },
   {
    "duration": 557,
    "start_time": "2022-01-05T06:34:07.167Z"
   },
   {
    "duration": 12,
    "start_time": "2022-01-05T06:34:38.819Z"
   },
   {
    "duration": 12,
    "start_time": "2022-01-05T06:38:20.083Z"
   },
   {
    "duration": 10,
    "start_time": "2022-01-05T06:39:05.646Z"
   },
   {
    "duration": 12,
    "start_time": "2022-01-05T06:42:15.901Z"
   },
   {
    "duration": 317,
    "start_time": "2022-01-05T06:46:48.034Z"
   },
   {
    "duration": 343,
    "start_time": "2022-01-05T06:46:56.692Z"
   },
   {
    "duration": 339,
    "start_time": "2022-01-05T06:48:01.097Z"
   },
   {
    "duration": 4,
    "start_time": "2022-01-05T06:48:34.957Z"
   },
   {
    "duration": 15,
    "start_time": "2022-01-05T06:58:35.111Z"
   },
   {
    "duration": 104,
    "start_time": "2022-01-05T06:59:43.403Z"
   },
   {
    "duration": 110,
    "start_time": "2022-01-05T07:00:15.744Z"
   },
   {
    "duration": 181,
    "start_time": "2022-01-05T07:01:27.077Z"
   },
   {
    "duration": 156,
    "start_time": "2022-01-05T07:01:43.524Z"
   },
   {
    "duration": 13,
    "start_time": "2022-01-05T07:02:04.755Z"
   },
   {
    "duration": 117,
    "start_time": "2022-01-05T07:03:28.783Z"
   },
   {
    "duration": 6,
    "start_time": "2022-01-05T07:03:56.771Z"
   },
   {
    "duration": 5,
    "start_time": "2022-01-05T07:04:25.476Z"
   },
   {
    "duration": 4,
    "start_time": "2022-01-05T07:11:17.523Z"
   },
   {
    "duration": 6,
    "start_time": "2022-01-05T07:11:49.230Z"
   },
   {
    "duration": 7,
    "start_time": "2022-01-05T07:12:16.554Z"
   },
   {
    "duration": 11,
    "start_time": "2022-01-05T07:13:23.130Z"
   },
   {
    "duration": 9,
    "start_time": "2022-01-05T07:14:55.525Z"
   },
   {
    "duration": 124,
    "start_time": "2022-01-05T07:16:45.359Z"
   },
   {
    "duration": 10,
    "start_time": "2022-01-05T07:17:28.778Z"
   },
   {
    "duration": 7,
    "start_time": "2022-01-05T07:17:56.246Z"
   },
   {
    "duration": 7,
    "start_time": "2022-01-05T07:21:33.227Z"
   },
   {
    "duration": 6,
    "start_time": "2022-01-05T07:21:50.811Z"
   },
   {
    "duration": 6,
    "start_time": "2022-01-05T07:22:41.486Z"
   },
   {
    "duration": 6,
    "start_time": "2022-01-05T07:22:49.713Z"
   },
   {
    "duration": 41250,
    "start_time": "2022-01-05T07:31:32.086Z"
   },
   {
    "duration": 11,
    "start_time": "2022-01-05T07:36:15.096Z"
   },
   {
    "duration": 10,
    "start_time": "2022-01-05T07:37:15.081Z"
   },
   {
    "duration": 8,
    "start_time": "2022-01-05T07:37:44.047Z"
   },
   {
    "duration": 9,
    "start_time": "2022-01-05T07:37:53.899Z"
   },
   {
    "duration": 4,
    "start_time": "2022-01-05T07:40:53.899Z"
   },
   {
    "duration": 10,
    "start_time": "2022-01-05T07:49:30.710Z"
   },
   {
    "duration": 10,
    "start_time": "2022-01-05T07:50:01.292Z"
   },
   {
    "duration": 10,
    "start_time": "2022-01-05T07:50:48.436Z"
   },
   {
    "duration": 26,
    "start_time": "2022-01-05T08:51:11.217Z"
   },
   {
    "duration": 322,
    "start_time": "2022-01-05T08:57:09.979Z"
   },
   {
    "duration": 23,
    "start_time": "2022-01-05T09:09:39.667Z"
   },
   {
    "duration": 357,
    "start_time": "2022-01-05T09:15:41.155Z"
   },
   {
    "duration": 248,
    "start_time": "2022-01-05T09:32:46.803Z"
   },
   {
    "duration": 26,
    "start_time": "2022-01-05T09:39:30.342Z"
   },
   {
    "duration": 24,
    "start_time": "2022-01-05T09:39:56.566Z"
   },
   {
    "duration": 22,
    "start_time": "2022-01-05T09:40:59.250Z"
   },
   {
    "duration": 2306,
    "start_time": "2022-01-05T09:41:16.056Z"
   },
   {
    "duration": 25,
    "start_time": "2022-01-05T09:41:22.478Z"
   },
   {
    "duration": 25,
    "start_time": "2022-01-05T09:42:27.672Z"
   },
   {
    "duration": 26,
    "start_time": "2022-01-05T09:42:45.137Z"
   },
   {
    "duration": 29,
    "start_time": "2022-01-05T09:43:35.320Z"
   },
   {
    "duration": 19,
    "start_time": "2022-01-05T09:43:50.263Z"
   },
   {
    "duration": 89,
    "start_time": "2022-01-05T09:44:02.296Z"
   },
   {
    "duration": 11,
    "start_time": "2022-01-05T09:44:02.387Z"
   },
   {
    "duration": 14,
    "start_time": "2022-01-05T09:44:02.401Z"
   },
   {
    "duration": 48,
    "start_time": "2022-01-05T09:44:02.418Z"
   },
   {
    "duration": 5,
    "start_time": "2022-01-05T09:44:02.469Z"
   },
   {
    "duration": 11,
    "start_time": "2022-01-05T09:44:02.477Z"
   },
   {
    "duration": 41,
    "start_time": "2022-01-05T09:44:02.491Z"
   },
   {
    "duration": 23,
    "start_time": "2022-01-05T09:44:46.709Z"
   },
   {
    "duration": 747,
    "start_time": "2022-01-05T11:10:23.581Z"
   },
   {
    "duration": 10,
    "start_time": "2022-01-05T11:10:40.578Z"
   },
   {
    "duration": 29,
    "start_time": "2022-01-05T11:16:45.818Z"
   },
   {
    "duration": 14,
    "start_time": "2022-01-05T11:18:05.329Z"
   },
   {
    "duration": 14,
    "start_time": "2022-01-05T11:18:36.990Z"
   },
   {
    "duration": 11,
    "start_time": "2022-01-05T11:21:32.260Z"
   },
   {
    "duration": 9,
    "start_time": "2022-01-05T11:24:51.142Z"
   },
   {
    "duration": 6,
    "start_time": "2022-01-05T11:26:19.610Z"
   },
   {
    "duration": 6,
    "start_time": "2022-01-05T11:26:38.240Z"
   },
   {
    "duration": 343,
    "start_time": "2022-01-05T11:29:22.485Z"
   },
   {
    "duration": 13,
    "start_time": "2022-01-05T11:30:34.835Z"
   },
   {
    "duration": 408,
    "start_time": "2022-01-05T11:30:50.674Z"
   },
   {
    "duration": 10,
    "start_time": "2022-01-05T11:33:53.869Z"
   },
   {
    "duration": 10,
    "start_time": "2022-01-05T11:35:32.195Z"
   },
   {
    "duration": 8956,
    "start_time": "2022-01-05T11:40:44.354Z"
   },
   {
    "duration": 114,
    "start_time": "2022-01-05T11:43:15.371Z"
   },
   {
    "duration": 110,
    "start_time": "2022-01-05T11:43:29.033Z"
   },
   {
    "duration": 101,
    "start_time": "2022-01-05T11:43:42.169Z"
   },
   {
    "duration": 28,
    "start_time": "2022-01-05T11:43:49.191Z"
   },
   {
    "duration": 58,
    "start_time": "2022-01-05T11:45:30.939Z"
   },
   {
    "duration": 33,
    "start_time": "2022-01-05T11:45:55.063Z"
   },
   {
    "duration": 96,
    "start_time": "2022-01-05T11:46:16.724Z"
   },
   {
    "duration": 44,
    "start_time": "2022-01-05T11:46:16.824Z"
   },
   {
    "duration": 14,
    "start_time": "2022-01-05T11:46:16.872Z"
   },
   {
    "duration": 16,
    "start_time": "2022-01-05T11:46:16.889Z"
   },
   {
    "duration": 17,
    "start_time": "2022-01-05T11:46:16.908Z"
   },
   {
    "duration": 10,
    "start_time": "2022-01-05T11:46:16.961Z"
   },
   {
    "duration": 44,
    "start_time": "2022-01-05T11:46:16.973Z"
   },
   {
    "duration": 11,
    "start_time": "2022-01-05T11:46:17.021Z"
   },
   {
    "duration": 26,
    "start_time": "2022-01-05T11:46:17.035Z"
   },
   {
    "duration": 10,
    "start_time": "2022-01-05T11:46:17.063Z"
   },
   {
    "duration": 17,
    "start_time": "2022-01-05T11:46:17.076Z"
   },
   {
    "duration": 3197,
    "start_time": "2022-01-05T11:59:18.311Z"
   },
   {
    "duration": 3161,
    "start_time": "2022-01-05T11:59:18.348Z"
   },
   {
    "duration": 3129,
    "start_time": "2022-01-05T11:59:18.382Z"
   },
   {
    "duration": 3060,
    "start_time": "2022-01-05T11:59:18.452Z"
   },
   {
    "duration": 3038,
    "start_time": "2022-01-05T11:59:18.476Z"
   },
   {
    "duration": 3000,
    "start_time": "2022-01-05T11:59:18.515Z"
   },
   {
    "duration": 2974,
    "start_time": "2022-01-05T11:59:18.543Z"
   },
   {
    "duration": 2952,
    "start_time": "2022-01-05T11:59:18.566Z"
   },
   {
    "duration": 2897,
    "start_time": "2022-01-05T11:59:18.623Z"
   },
   {
    "duration": 2851,
    "start_time": "2022-01-05T11:59:18.670Z"
   },
   {
    "duration": 2798,
    "start_time": "2022-01-05T11:59:18.725Z"
   },
   {
    "duration": 89,
    "start_time": "2022-01-05T12:00:00.649Z"
   },
   {
    "duration": 24,
    "start_time": "2022-01-05T12:00:00.741Z"
   },
   {
    "duration": 25,
    "start_time": "2022-01-05T12:00:00.769Z"
   },
   {
    "duration": 15,
    "start_time": "2022-01-05T12:00:00.796Z"
   },
   {
    "duration": 11,
    "start_time": "2022-01-05T12:00:00.814Z"
   },
   {
    "duration": 34,
    "start_time": "2022-01-05T12:00:00.827Z"
   },
   {
    "duration": 20,
    "start_time": "2022-01-05T12:00:00.864Z"
   },
   {
    "duration": 9,
    "start_time": "2022-01-05T12:00:00.887Z"
   },
   {
    "duration": 27,
    "start_time": "2022-01-05T12:00:00.898Z"
   },
   {
    "duration": 10,
    "start_time": "2022-01-05T12:00:00.927Z"
   },
   {
    "duration": 9549,
    "start_time": "2022-01-05T12:00:00.960Z"
   },
   {
    "duration": 13,
    "start_time": "2022-01-05T12:04:55.240Z"
   },
   {
    "duration": 15,
    "start_time": "2022-01-05T12:06:17.407Z"
   },
   {
    "duration": 92,
    "start_time": "2022-01-05T12:06:26.552Z"
   },
   {
    "duration": 23,
    "start_time": "2022-01-05T12:06:26.647Z"
   },
   {
    "duration": 12,
    "start_time": "2022-01-05T12:06:26.673Z"
   },
   {
    "duration": 12,
    "start_time": "2022-01-05T12:06:26.688Z"
   },
   {
    "duration": 4,
    "start_time": "2022-01-05T12:06:26.703Z"
   },
   {
    "duration": 42,
    "start_time": "2022-01-05T12:06:26.721Z"
   },
   {
    "duration": 23,
    "start_time": "2022-01-05T12:06:26.767Z"
   },
   {
    "duration": 9,
    "start_time": "2022-01-05T12:06:26.811Z"
   },
   {
    "duration": 11,
    "start_time": "2022-01-05T12:06:26.823Z"
   },
   {
    "duration": 10,
    "start_time": "2022-01-05T12:06:26.861Z"
   },
   {
    "duration": 15,
    "start_time": "2022-01-05T12:06:26.876Z"
   },
   {
    "duration": 214,
    "start_time": "2022-01-05T12:10:28.461Z"
   },
   {
    "duration": 107,
    "start_time": "2022-01-05T12:10:41.146Z"
   },
   {
    "duration": 150,
    "start_time": "2022-01-05T12:11:37.676Z"
   },
   {
    "duration": 91,
    "start_time": "2022-01-05T12:12:03.855Z"
   },
   {
    "duration": 18,
    "start_time": "2022-01-05T12:12:03.949Z"
   },
   {
    "duration": 14,
    "start_time": "2022-01-05T12:12:03.971Z"
   },
   {
    "duration": 14,
    "start_time": "2022-01-05T12:12:03.988Z"
   },
   {
    "duration": 5,
    "start_time": "2022-01-05T12:12:04.004Z"
   },
   {
    "duration": 9,
    "start_time": "2022-01-05T12:12:04.059Z"
   },
   {
    "duration": 24,
    "start_time": "2022-01-05T12:12:04.071Z"
   },
   {
    "duration": 9,
    "start_time": "2022-01-05T12:12:04.098Z"
   },
   {
    "duration": 10,
    "start_time": "2022-01-05T12:12:04.109Z"
   },
   {
    "duration": 9,
    "start_time": "2022-01-05T12:12:04.160Z"
   },
   {
    "duration": 8,
    "start_time": "2022-01-05T12:12:04.172Z"
   },
   {
    "duration": 364,
    "start_time": "2022-01-06T02:20:06.388Z"
   },
   {
    "duration": 884,
    "start_time": "2022-01-06T02:20:48.147Z"
   },
   {
    "duration": 12,
    "start_time": "2022-01-06T02:20:49.033Z"
   },
   {
    "duration": 27,
    "start_time": "2022-01-06T02:20:49.048Z"
   },
   {
    "duration": 13,
    "start_time": "2022-01-06T02:20:49.077Z"
   },
   {
    "duration": 12,
    "start_time": "2022-01-06T02:20:49.092Z"
   },
   {
    "duration": 19,
    "start_time": "2022-01-06T02:20:49.107Z"
   },
   {
    "duration": 50,
    "start_time": "2022-01-06T02:20:49.128Z"
   },
   {
    "duration": 9,
    "start_time": "2022-01-06T02:20:49.182Z"
   },
   {
    "duration": 11,
    "start_time": "2022-01-06T02:20:49.193Z"
   },
   {
    "duration": 9,
    "start_time": "2022-01-06T02:20:49.206Z"
   },
   {
    "duration": 10,
    "start_time": "2022-01-06T02:20:49.217Z"
   },
   {
    "duration": 20,
    "start_time": "2022-01-06T02:30:00.164Z"
   },
   {
    "duration": 115,
    "start_time": "2022-01-06T02:36:36.755Z"
   },
   {
    "duration": 120,
    "start_time": "2022-01-06T02:37:17.823Z"
   },
   {
    "duration": 7585,
    "start_time": "2022-01-06T02:37:43.439Z"
   },
   {
    "duration": 89,
    "start_time": "2022-01-06T02:37:52.757Z"
   },
   {
    "duration": 13,
    "start_time": "2022-01-06T02:37:52.867Z"
   },
   {
    "duration": 13,
    "start_time": "2022-01-06T02:37:52.883Z"
   },
   {
    "duration": 12,
    "start_time": "2022-01-06T02:37:52.899Z"
   },
   {
    "duration": 5,
    "start_time": "2022-01-06T02:37:52.913Z"
   },
   {
    "duration": 51,
    "start_time": "2022-01-06T02:37:52.921Z"
   },
   {
    "duration": 21,
    "start_time": "2022-01-06T02:37:52.974Z"
   },
   {
    "duration": 9,
    "start_time": "2022-01-06T02:37:52.998Z"
   },
   {
    "duration": 15,
    "start_time": "2022-01-06T02:37:53.010Z"
   },
   {
    "duration": 43,
    "start_time": "2022-01-06T02:37:53.027Z"
   },
   {
    "duration": 7641,
    "start_time": "2022-01-06T02:37:53.073Z"
   },
   {
    "duration": 314,
    "start_time": "2022-01-06T02:41:42.871Z"
   },
   {
    "duration": 314,
    "start_time": "2022-01-06T02:42:40.098Z"
   },
   {
    "duration": 440,
    "start_time": "2022-01-06T02:43:01.833Z"
   },
   {
    "duration": 644,
    "start_time": "2022-01-06T02:43:47.663Z"
   },
   {
    "duration": 319,
    "start_time": "2022-01-06T02:45:32.135Z"
   },
   {
    "duration": 338,
    "start_time": "2022-01-06T03:01:56.096Z"
   },
   {
    "duration": 10,
    "start_time": "2022-01-06T03:06:12.245Z"
   },
   {
    "duration": 9,
    "start_time": "2022-01-06T03:11:27.672Z"
   },
   {
    "duration": 12,
    "start_time": "2022-01-06T03:12:25.800Z"
   },
   {
    "duration": 13,
    "start_time": "2022-01-06T03:12:55.328Z"
   },
   {
    "duration": 10,
    "start_time": "2022-01-06T03:14:32.825Z"
   },
   {
    "duration": 16,
    "start_time": "2022-01-06T03:15:09.333Z"
   },
   {
    "duration": 15,
    "start_time": "2022-01-06T03:15:34.458Z"
   },
   {
    "duration": 15,
    "start_time": "2022-01-06T03:15:58.978Z"
   },
   {
    "duration": 8,
    "start_time": "2022-01-06T03:17:27.208Z"
   },
   {
    "duration": 90,
    "start_time": "2022-01-06T03:17:33.013Z"
   },
   {
    "duration": 13,
    "start_time": "2022-01-06T03:17:33.106Z"
   },
   {
    "duration": 47,
    "start_time": "2022-01-06T03:17:33.121Z"
   },
   {
    "duration": 14,
    "start_time": "2022-01-06T03:17:33.171Z"
   },
   {
    "duration": 8,
    "start_time": "2022-01-06T03:17:33.187Z"
   },
   {
    "duration": 10,
    "start_time": "2022-01-06T03:17:33.198Z"
   },
   {
    "duration": 59,
    "start_time": "2022-01-06T03:17:33.211Z"
   },
   {
    "duration": 3,
    "start_time": "2022-01-06T03:17:33.274Z"
   },
   {
    "duration": 11,
    "start_time": "2022-01-06T03:17:33.279Z"
   },
   {
    "duration": 9,
    "start_time": "2022-01-06T03:17:33.293Z"
   },
   {
    "duration": 16,
    "start_time": "2022-01-06T03:17:33.304Z"
   },
   {
    "duration": 15,
    "start_time": "2022-01-06T03:35:18.441Z"
   },
   {
    "duration": 17,
    "start_time": "2022-01-06T03:36:14.661Z"
   },
   {
    "duration": 20,
    "start_time": "2022-01-06T03:41:05.505Z"
   },
   {
    "duration": 29,
    "start_time": "2022-01-06T03:41:19.572Z"
   },
   {
    "duration": 27,
    "start_time": "2022-01-06T03:41:41.152Z"
   },
   {
    "duration": 29,
    "start_time": "2022-01-06T03:42:05.500Z"
   },
   {
    "duration": 95,
    "start_time": "2022-01-06T03:42:16.272Z"
   },
   {
    "duration": 14,
    "start_time": "2022-01-06T03:42:16.371Z"
   },
   {
    "duration": 13,
    "start_time": "2022-01-06T03:42:16.388Z"
   },
   {
    "duration": 13,
    "start_time": "2022-01-06T03:42:16.404Z"
   },
   {
    "duration": 49,
    "start_time": "2022-01-06T03:42:16.419Z"
   },
   {
    "duration": 18,
    "start_time": "2022-01-06T03:42:16.470Z"
   },
   {
    "duration": 21,
    "start_time": "2022-01-06T03:42:16.491Z"
   },
   {
    "duration": 3,
    "start_time": "2022-01-06T03:42:16.515Z"
   },
   {
    "duration": 10,
    "start_time": "2022-01-06T03:42:16.520Z"
   },
   {
    "duration": 43,
    "start_time": "2022-01-06T03:42:16.533Z"
   },
   {
    "duration": 18,
    "start_time": "2022-01-06T03:42:16.579Z"
   },
   {
    "duration": 31,
    "start_time": "2022-01-06T03:42:16.600Z"
   },
   {
    "duration": 65,
    "start_time": "2022-01-06T03:42:16.633Z"
   },
   {
    "duration": 10,
    "start_time": "2022-01-06T04:02:23.116Z"
   },
   {
    "duration": 19,
    "start_time": "2022-01-06T04:05:44.196Z"
   },
   {
    "duration": 24,
    "start_time": "2022-01-06T04:06:00.115Z"
   },
   {
    "duration": 88,
    "start_time": "2022-01-06T04:06:14.687Z"
   },
   {
    "duration": 13,
    "start_time": "2022-01-06T04:06:14.777Z"
   },
   {
    "duration": 12,
    "start_time": "2022-01-06T04:06:14.793Z"
   },
   {
    "duration": 12,
    "start_time": "2022-01-06T04:06:14.808Z"
   },
   {
    "duration": 4,
    "start_time": "2022-01-06T04:06:14.823Z"
   },
   {
    "duration": 47,
    "start_time": "2022-01-06T04:06:14.829Z"
   },
   {
    "duration": 22,
    "start_time": "2022-01-06T04:06:14.878Z"
   },
   {
    "duration": 3,
    "start_time": "2022-01-06T04:06:14.903Z"
   },
   {
    "duration": 8,
    "start_time": "2022-01-06T04:06:14.910Z"
   },
   {
    "duration": 56,
    "start_time": "2022-01-06T04:06:14.921Z"
   },
   {
    "duration": 19,
    "start_time": "2022-01-06T04:06:14.979Z"
   },
   {
    "duration": 33,
    "start_time": "2022-01-06T04:06:15.002Z"
   },
   {
    "duration": 60,
    "start_time": "2022-01-06T04:06:15.037Z"
   },
   {
    "duration": 23,
    "start_time": "2022-01-06T04:06:15.100Z"
   },
   {
    "duration": 22,
    "start_time": "2022-01-06T04:06:32.442Z"
   },
   {
    "duration": 10,
    "start_time": "2022-01-06T04:09:58.512Z"
   },
   {
    "duration": 18,
    "start_time": "2022-01-06T04:11:53.548Z"
   },
   {
    "duration": 27,
    "start_time": "2022-01-06T04:12:06.547Z"
   },
   {
    "duration": 11,
    "start_time": "2022-01-06T04:15:16.833Z"
   },
   {
    "duration": 10,
    "start_time": "2022-01-06T04:16:54.395Z"
   },
   {
    "duration": 11,
    "start_time": "2022-01-06T04:17:12.250Z"
   },
   {
    "duration": 26,
    "start_time": "2022-01-06T04:21:19.687Z"
   },
   {
    "duration": 46,
    "start_time": "2022-01-06T04:23:32.731Z"
   },
   {
    "duration": 47,
    "start_time": "2022-01-06T04:23:45.455Z"
   },
   {
    "duration": 258,
    "start_time": "2022-01-07T04:42:16.150Z"
   },
   {
    "duration": 1314,
    "start_time": "2022-01-07T04:42:21.864Z"
   },
   {
    "duration": 9,
    "start_time": "2022-01-07T04:42:23.180Z"
   },
   {
    "duration": 8,
    "start_time": "2022-01-07T04:42:23.191Z"
   },
   {
    "duration": 9,
    "start_time": "2022-01-07T04:42:23.201Z"
   },
   {
    "duration": 5,
    "start_time": "2022-01-07T04:42:23.211Z"
   },
   {
    "duration": 7,
    "start_time": "2022-01-07T04:42:23.261Z"
   },
   {
    "duration": 16,
    "start_time": "2022-01-07T04:42:23.270Z"
   },
   {
    "duration": 4,
    "start_time": "2022-01-07T04:42:23.288Z"
   },
   {
    "duration": 17,
    "start_time": "2022-01-07T04:42:23.295Z"
   },
   {
    "duration": 8,
    "start_time": "2022-01-07T04:42:23.314Z"
   },
   {
    "duration": 39,
    "start_time": "2022-01-07T04:42:23.324Z"
   },
   {
    "duration": 18,
    "start_time": "2022-01-07T04:42:23.365Z"
   },
   {
    "duration": 20,
    "start_time": "2022-01-07T04:42:23.385Z"
   },
   {
    "duration": 17,
    "start_time": "2022-01-07T04:42:23.406Z"
   },
   {
    "duration": 43,
    "start_time": "2022-01-07T04:42:23.424Z"
   },
   {
    "duration": 22,
    "start_time": "2022-01-07T04:42:23.469Z"
   },
   {
    "duration": 8,
    "start_time": "2022-01-07T04:42:23.493Z"
   },
   {
    "duration": 9,
    "start_time": "2022-01-07T04:42:23.502Z"
   },
   {
    "duration": 20,
    "start_time": "2022-01-07T04:42:23.513Z"
   },
   {
    "duration": 29,
    "start_time": "2022-01-07T04:42:23.561Z"
   },
   {
    "duration": 9,
    "start_time": "2022-01-07T04:47:47.766Z"
   },
   {
    "duration": 15,
    "start_time": "2022-01-07T04:55:00.058Z"
   },
   {
    "duration": 64,
    "start_time": "2022-01-07T04:55:13.485Z"
   },
   {
    "duration": 8,
    "start_time": "2022-01-07T04:55:13.550Z"
   },
   {
    "duration": 9,
    "start_time": "2022-01-07T04:55:13.560Z"
   },
   {
    "duration": 9,
    "start_time": "2022-01-07T04:55:13.570Z"
   },
   {
    "duration": 5,
    "start_time": "2022-01-07T04:55:13.580Z"
   },
   {
    "duration": 8,
    "start_time": "2022-01-07T04:55:13.587Z"
   },
   {
    "duration": 16,
    "start_time": "2022-01-07T04:55:13.597Z"
   },
   {
    "duration": 2,
    "start_time": "2022-01-07T04:55:13.614Z"
   },
   {
    "duration": 48,
    "start_time": "2022-01-07T04:55:13.618Z"
   },
   {
    "duration": 6,
    "start_time": "2022-01-07T04:55:13.668Z"
   },
   {
    "duration": 15,
    "start_time": "2022-01-07T04:55:13.676Z"
   },
   {
    "duration": 18,
    "start_time": "2022-01-07T04:55:13.692Z"
   },
   {
    "duration": 262,
    "start_time": "2022-01-07T04:55:13.711Z"
   },
   {
    "duration": 9163,
    "start_time": "2022-01-07T04:55:04.812Z"
   },
   {
    "duration": 9153,
    "start_time": "2022-01-07T04:55:04.823Z"
   },
   {
    "duration": 9143,
    "start_time": "2022-01-07T04:55:04.834Z"
   },
   {
    "duration": 9130,
    "start_time": "2022-01-07T04:55:04.848Z"
   },
   {
    "duration": 9113,
    "start_time": "2022-01-07T04:55:04.866Z"
   },
   {
    "duration": 9080,
    "start_time": "2022-01-07T04:55:04.900Z"
   },
   {
    "duration": 9055,
    "start_time": "2022-01-07T04:55:04.926Z"
   },
   {
    "duration": 65,
    "start_time": "2022-01-07T04:58:38.557Z"
   },
   {
    "duration": 17,
    "start_time": "2022-01-07T04:58:55.619Z"
   },
   {
    "duration": 216,
    "start_time": "2022-01-07T04:59:18.298Z"
   },
   {
    "duration": 67,
    "start_time": "2022-01-07T04:59:23.933Z"
   },
   {
    "duration": 8,
    "start_time": "2022-01-07T04:59:24.002Z"
   },
   {
    "duration": 9,
    "start_time": "2022-01-07T04:59:24.012Z"
   },
   {
    "duration": 41,
    "start_time": "2022-01-07T04:59:24.023Z"
   },
   {
    "duration": 4,
    "start_time": "2022-01-07T04:59:24.066Z"
   },
   {
    "duration": 11,
    "start_time": "2022-01-07T04:59:24.071Z"
   },
   {
    "duration": 16,
    "start_time": "2022-01-07T04:59:24.084Z"
   },
   {
    "duration": 2,
    "start_time": "2022-01-07T04:59:24.103Z"
   },
   {
    "duration": 58,
    "start_time": "2022-01-07T04:59:24.108Z"
   },
   {
    "duration": 9,
    "start_time": "2022-01-07T04:59:24.169Z"
   },
   {
    "duration": 201,
    "start_time": "2022-01-07T04:59:24.180Z"
   },
   {
    "duration": 9199,
    "start_time": "2022-01-07T04:59:15.185Z"
   },
   {
    "duration": 9148,
    "start_time": "2022-01-07T04:59:15.237Z"
   },
   {
    "duration": 9131,
    "start_time": "2022-01-07T04:59:15.255Z"
   },
   {
    "duration": 9121,
    "start_time": "2022-01-07T04:59:15.267Z"
   },
   {
    "duration": 9110,
    "start_time": "2022-01-07T04:59:15.279Z"
   },
   {
    "duration": 9100,
    "start_time": "2022-01-07T04:59:15.291Z"
   },
   {
    "duration": 9083,
    "start_time": "2022-01-07T04:59:15.309Z"
   },
   {
    "duration": 8985,
    "start_time": "2022-01-07T04:59:15.409Z"
   },
   {
    "duration": 8953,
    "start_time": "2022-01-07T04:59:15.442Z"
   },
   {
    "duration": 16,
    "start_time": "2022-01-07T05:01:34.059Z"
   },
   {
    "duration": 70,
    "start_time": "2022-01-07T05:01:43.277Z"
   },
   {
    "duration": 16,
    "start_time": "2022-01-07T05:01:43.350Z"
   },
   {
    "duration": 15,
    "start_time": "2022-01-07T05:01:43.368Z"
   },
   {
    "duration": 10,
    "start_time": "2022-01-07T05:01:43.385Z"
   },
   {
    "duration": 3,
    "start_time": "2022-01-07T05:01:43.397Z"
   },
   {
    "duration": 6,
    "start_time": "2022-01-07T05:01:43.403Z"
   },
   {
    "duration": 51,
    "start_time": "2022-01-07T05:01:43.411Z"
   },
   {
    "duration": 2,
    "start_time": "2022-01-07T05:01:43.465Z"
   },
   {
    "duration": 13,
    "start_time": "2022-01-07T05:01:43.469Z"
   },
   {
    "duration": 7,
    "start_time": "2022-01-07T05:01:43.484Z"
   },
   {
    "duration": 15,
    "start_time": "2022-01-07T05:01:43.492Z"
   },
   {
    "duration": 56,
    "start_time": "2022-01-07T05:01:43.509Z"
   },
   {
    "duration": 21,
    "start_time": "2022-01-07T05:01:43.566Z"
   },
   {
    "duration": 17,
    "start_time": "2022-01-07T05:01:43.589Z"
   },
   {
    "duration": 10,
    "start_time": "2022-01-07T05:01:43.609Z"
   },
   {
    "duration": 58,
    "start_time": "2022-01-07T05:01:43.621Z"
   },
   {
    "duration": 9,
    "start_time": "2022-01-07T05:01:43.681Z"
   },
   {
    "duration": 10,
    "start_time": "2022-01-07T05:01:43.692Z"
   },
   {
    "duration": 56,
    "start_time": "2022-01-07T05:01:43.704Z"
   },
   {
    "duration": 35,
    "start_time": "2022-01-07T05:01:43.762Z"
   },
   {
    "duration": 67,
    "start_time": "2022-01-07T05:08:20.729Z"
   },
   {
    "duration": 10,
    "start_time": "2022-01-07T05:08:20.797Z"
   },
   {
    "duration": 8,
    "start_time": "2022-01-07T05:08:20.809Z"
   },
   {
    "duration": 9,
    "start_time": "2022-01-07T05:08:20.819Z"
   },
   {
    "duration": 3,
    "start_time": "2022-01-07T05:08:20.829Z"
   },
   {
    "duration": 6,
    "start_time": "2022-01-07T05:08:20.861Z"
   },
   {
    "duration": 19,
    "start_time": "2022-01-07T05:08:20.869Z"
   },
   {
    "duration": 2,
    "start_time": "2022-01-07T05:08:20.891Z"
   },
   {
    "duration": 15,
    "start_time": "2022-01-07T05:08:20.895Z"
   },
   {
    "duration": 10,
    "start_time": "2022-01-07T05:08:20.911Z"
   },
   {
    "duration": 51,
    "start_time": "2022-01-07T05:08:20.922Z"
   },
   {
    "duration": 18,
    "start_time": "2022-01-07T05:08:20.974Z"
   },
   {
    "duration": 19,
    "start_time": "2022-01-07T05:08:20.994Z"
   },
   {
    "duration": 49,
    "start_time": "2022-01-07T05:08:21.015Z"
   },
   {
    "duration": 10,
    "start_time": "2022-01-07T05:08:21.066Z"
   },
   {
    "duration": 21,
    "start_time": "2022-01-07T05:08:21.078Z"
   },
   {
    "duration": 10,
    "start_time": "2022-01-07T05:08:21.101Z"
   },
   {
    "duration": 9,
    "start_time": "2022-01-07T05:08:21.113Z"
   },
   {
    "duration": 50,
    "start_time": "2022-01-07T05:08:21.123Z"
   },
   {
    "duration": 32,
    "start_time": "2022-01-07T05:08:21.175Z"
   },
   {
    "duration": 20,
    "start_time": "2022-01-07T05:12:46.638Z"
   },
   {
    "duration": 20,
    "start_time": "2022-01-07T05:12:50.497Z"
   },
   {
    "duration": 20,
    "start_time": "2022-01-07T05:13:07.989Z"
   },
   {
    "duration": 18,
    "start_time": "2022-01-07T05:17:44.609Z"
   },
   {
    "duration": 30,
    "start_time": "2022-01-07T05:17:47.476Z"
   },
   {
    "duration": 279,
    "start_time": "2022-01-07T05:26:13.824Z"
   },
   {
    "duration": 72,
    "start_time": "2022-01-07T05:26:19.057Z"
   },
   {
    "duration": 29,
    "start_time": "2022-01-07T05:26:19.131Z"
   },
   {
    "duration": 9,
    "start_time": "2022-01-07T05:26:19.162Z"
   },
   {
    "duration": 11,
    "start_time": "2022-01-07T05:26:19.173Z"
   },
   {
    "duration": 6,
    "start_time": "2022-01-07T05:26:19.186Z"
   },
   {
    "duration": 15,
    "start_time": "2022-01-07T05:26:19.194Z"
   },
   {
    "duration": 15,
    "start_time": "2022-01-07T05:26:19.211Z"
   },
   {
    "duration": 32,
    "start_time": "2022-01-07T05:26:19.229Z"
   },
   {
    "duration": 10,
    "start_time": "2022-01-07T05:26:19.264Z"
   },
   {
    "duration": 7,
    "start_time": "2022-01-07T05:26:19.275Z"
   },
   {
    "duration": 15,
    "start_time": "2022-01-07T05:26:19.284Z"
   },
   {
    "duration": 17,
    "start_time": "2022-01-07T05:26:19.301Z"
   },
   {
    "duration": 22,
    "start_time": "2022-01-07T05:26:19.360Z"
   },
   {
    "duration": 16,
    "start_time": "2022-01-07T05:26:19.384Z"
   },
   {
    "duration": 9,
    "start_time": "2022-01-07T05:26:19.401Z"
   },
   {
    "duration": 58,
    "start_time": "2022-01-07T05:26:19.412Z"
   },
   {
    "duration": 7,
    "start_time": "2022-01-07T05:26:19.472Z"
   },
   {
    "duration": 9,
    "start_time": "2022-01-07T05:26:19.481Z"
   },
   {
    "duration": 20,
    "start_time": "2022-01-07T05:26:19.491Z"
   },
   {
    "duration": 65,
    "start_time": "2022-01-07T05:26:19.512Z"
   },
   {
    "duration": 206,
    "start_time": "2022-01-07T05:26:19.579Z"
   },
   {
    "duration": 210,
    "start_time": "2022-01-07T05:34:36.646Z"
   },
   {
    "duration": 208,
    "start_time": "2022-01-07T05:34:51.532Z"
   },
   {
    "duration": 7,
    "start_time": "2022-01-07T05:35:00.763Z"
   },
   {
    "duration": 4,
    "start_time": "2022-01-07T05:35:47.176Z"
   },
   {
    "duration": 6,
    "start_time": "2022-01-07T05:36:14.003Z"
   },
   {
    "duration": 211,
    "start_time": "2022-01-07T05:36:21.019Z"
   },
   {
    "duration": 436,
    "start_time": "2022-01-07T05:42:01.976Z"
   },
   {
    "duration": 403,
    "start_time": "2022-01-07T05:43:29.539Z"
   },
   {
    "duration": 440,
    "start_time": "2022-01-07T05:43:49.449Z"
   },
   {
    "duration": 65,
    "start_time": "2022-01-07T05:43:52.957Z"
   },
   {
    "duration": 10,
    "start_time": "2022-01-07T05:43:53.024Z"
   },
   {
    "duration": 26,
    "start_time": "2022-01-07T05:43:53.036Z"
   },
   {
    "duration": 10,
    "start_time": "2022-01-07T05:43:53.064Z"
   },
   {
    "duration": 3,
    "start_time": "2022-01-07T05:43:53.076Z"
   },
   {
    "duration": 9,
    "start_time": "2022-01-07T05:43:53.081Z"
   },
   {
    "duration": 14,
    "start_time": "2022-01-07T05:43:53.091Z"
   },
   {
    "duration": 2,
    "start_time": "2022-01-07T05:43:53.108Z"
   },
   {
    "duration": 52,
    "start_time": "2022-01-07T05:43:53.111Z"
   },
   {
    "duration": 6,
    "start_time": "2022-01-07T05:43:53.165Z"
   },
   {
    "duration": 14,
    "start_time": "2022-01-07T05:43:53.173Z"
   },
   {
    "duration": 22,
    "start_time": "2022-01-07T05:43:53.189Z"
   },
   {
    "duration": 49,
    "start_time": "2022-01-07T05:43:53.213Z"
   },
   {
    "duration": 17,
    "start_time": "2022-01-07T05:43:53.263Z"
   },
   {
    "duration": 10,
    "start_time": "2022-01-07T05:43:53.282Z"
   },
   {
    "duration": 22,
    "start_time": "2022-01-07T05:43:53.294Z"
   },
   {
    "duration": 7,
    "start_time": "2022-01-07T05:43:53.319Z"
   },
   {
    "duration": 39,
    "start_time": "2022-01-07T05:43:53.328Z"
   },
   {
    "duration": 24,
    "start_time": "2022-01-07T05:43:53.369Z"
   },
   {
    "duration": 35,
    "start_time": "2022-01-07T05:43:53.395Z"
   },
   {
    "duration": 451,
    "start_time": "2022-01-07T05:43:53.432Z"
   },
   {
    "duration": 206,
    "start_time": "2022-01-07T05:48:51.492Z"
   },
   {
    "duration": 216,
    "start_time": "2022-01-07T05:49:05.875Z"
   },
   {
    "duration": 196,
    "start_time": "2022-01-07T05:52:11.080Z"
   },
   {
    "duration": 4,
    "start_time": "2022-01-07T06:11:33.698Z"
   },
   {
    "duration": 6,
    "start_time": "2022-01-07T06:11:42.083Z"
   },
   {
    "duration": 262,
    "start_time": "2022-01-07T06:15:42.836Z"
   },
   {
    "duration": 231,
    "start_time": "2022-01-07T06:16:54.866Z"
   },
   {
    "duration": 208,
    "start_time": "2022-01-07T06:17:10.542Z"
   },
   {
    "duration": 220,
    "start_time": "2022-01-07T06:24:17.809Z"
   },
   {
    "duration": 413,
    "start_time": "2022-01-07T06:26:02.930Z"
   },
   {
    "duration": 6,
    "start_time": "2022-01-07T06:26:35.306Z"
   },
   {
    "duration": 7,
    "start_time": "2022-01-07T06:27:37.236Z"
   },
   {
    "duration": 7,
    "start_time": "2022-01-07T06:27:52.509Z"
   },
   {
    "duration": 272,
    "start_time": "2022-01-07T06:29:43.085Z"
   },
   {
    "duration": 260,
    "start_time": "2022-01-07T06:29:57.117Z"
   },
   {
    "duration": 461,
    "start_time": "2022-01-07T06:30:06.937Z"
   },
   {
    "duration": 662,
    "start_time": "2022-01-07T06:47:18.534Z"
   },
   {
    "duration": 649,
    "start_time": "2022-01-07T06:47:33.646Z"
   },
   {
    "duration": 373,
    "start_time": "2022-01-07T06:48:00.491Z"
   },
   {
    "duration": 205,
    "start_time": "2022-01-07T06:48:12.872Z"
   },
   {
    "duration": 653,
    "start_time": "2022-01-07T06:48:19.173Z"
   },
   {
    "duration": 873,
    "start_time": "2022-01-07T06:48:50.839Z"
   },
   {
    "duration": 208,
    "start_time": "2022-01-07T06:49:27.003Z"
   },
   {
    "duration": 4356,
    "start_time": "2022-01-07T06:51:15.055Z"
   },
   {
    "duration": 66,
    "start_time": "2022-01-07T06:51:24.776Z"
   },
   {
    "duration": 9,
    "start_time": "2022-01-07T06:51:24.844Z"
   },
   {
    "duration": 11,
    "start_time": "2022-01-07T06:51:24.855Z"
   },
   {
    "duration": 10,
    "start_time": "2022-01-07T06:51:24.877Z"
   },
   {
    "duration": 8,
    "start_time": "2022-01-07T06:51:24.889Z"
   },
   {
    "duration": 10,
    "start_time": "2022-01-07T06:51:24.899Z"
   },
   {
    "duration": 17,
    "start_time": "2022-01-07T06:51:24.934Z"
   },
   {
    "duration": 2,
    "start_time": "2022-01-07T06:51:24.954Z"
   },
   {
    "duration": 11,
    "start_time": "2022-01-07T06:51:24.962Z"
   },
   {
    "duration": 7,
    "start_time": "2022-01-07T06:51:24.975Z"
   },
   {
    "duration": 17,
    "start_time": "2022-01-07T06:51:24.984Z"
   },
   {
    "duration": 61,
    "start_time": "2022-01-07T06:51:25.003Z"
   },
   {
    "duration": 23,
    "start_time": "2022-01-07T06:51:25.066Z"
   },
   {
    "duration": 18,
    "start_time": "2022-01-07T06:51:25.091Z"
   },
   {
    "duration": 11,
    "start_time": "2022-01-07T06:51:25.111Z"
   },
   {
    "duration": 48,
    "start_time": "2022-01-07T06:51:25.123Z"
   },
   {
    "duration": 9,
    "start_time": "2022-01-07T06:51:25.172Z"
   },
   {
    "duration": 9,
    "start_time": "2022-01-07T06:51:25.182Z"
   },
   {
    "duration": 20,
    "start_time": "2022-01-07T06:51:25.193Z"
   },
   {
    "duration": 63,
    "start_time": "2022-01-07T06:51:25.215Z"
   },
   {
    "duration": 4885,
    "start_time": "2022-01-07T06:51:25.280Z"
   },
   {
    "duration": 4666,
    "start_time": "2022-01-07T07:22:47.940Z"
   },
   {
    "duration": 4966,
    "start_time": "2022-01-07T07:23:15.089Z"
   },
   {
    "duration": 4762,
    "start_time": "2022-01-07T07:24:37.275Z"
   },
   {
    "duration": 216,
    "start_time": "2022-01-07T07:33:32.024Z"
   },
   {
    "duration": 2,
    "start_time": "2022-01-07T07:33:42.134Z"
   },
   {
    "duration": 348,
    "start_time": "2022-01-08T04:11:00.634Z"
   },
   {
    "duration": 638,
    "start_time": "2022-01-08T04:11:08.866Z"
   },
   {
    "duration": 9,
    "start_time": "2022-01-08T04:11:09.505Z"
   },
   {
    "duration": 8,
    "start_time": "2022-01-08T04:11:09.516Z"
   },
   {
    "duration": 35,
    "start_time": "2022-01-08T04:11:09.526Z"
   },
   {
    "duration": 3,
    "start_time": "2022-01-08T04:11:09.563Z"
   },
   {
    "duration": 11,
    "start_time": "2022-01-08T04:11:09.567Z"
   },
   {
    "duration": 13,
    "start_time": "2022-01-08T04:11:09.580Z"
   },
   {
    "duration": 7,
    "start_time": "2022-01-08T04:11:09.596Z"
   },
   {
    "duration": 14,
    "start_time": "2022-01-08T04:11:09.605Z"
   },
   {
    "duration": 44,
    "start_time": "2022-01-08T04:11:09.620Z"
   },
   {
    "duration": 13,
    "start_time": "2022-01-08T04:11:09.666Z"
   },
   {
    "duration": 19,
    "start_time": "2022-01-08T04:11:09.680Z"
   },
   {
    "duration": 20,
    "start_time": "2022-01-08T04:11:09.700Z"
   },
   {
    "duration": 50,
    "start_time": "2022-01-08T04:11:09.722Z"
   },
   {
    "duration": 8,
    "start_time": "2022-01-08T04:11:09.774Z"
   },
   {
    "duration": 19,
    "start_time": "2022-01-08T04:11:09.783Z"
   },
   {
    "duration": 6,
    "start_time": "2022-01-08T04:11:09.804Z"
   },
   {
    "duration": 14,
    "start_time": "2022-01-08T04:11:09.811Z"
   },
   {
    "duration": 20,
    "start_time": "2022-01-08T04:11:09.861Z"
   },
   {
    "duration": 31,
    "start_time": "2022-01-08T04:11:09.883Z"
   },
   {
    "duration": 4503,
    "start_time": "2022-01-08T04:11:09.916Z"
   },
   {
    "duration": 3,
    "start_time": "2022-01-08T04:11:14.420Z"
   },
   {
    "duration": 11,
    "start_time": "2022-01-08T04:25:21.778Z"
   },
   {
    "duration": 8,
    "start_time": "2022-01-08T04:25:26.108Z"
   },
   {
    "duration": 7,
    "start_time": "2022-01-08T04:25:51.303Z"
   },
   {
    "duration": 73,
    "start_time": "2022-01-08T04:26:06.272Z"
   },
   {
    "duration": 9,
    "start_time": "2022-01-08T04:26:06.347Z"
   },
   {
    "duration": 22,
    "start_time": "2022-01-08T04:26:06.358Z"
   },
   {
    "duration": 29,
    "start_time": "2022-01-08T04:26:06.382Z"
   },
   {
    "duration": 27,
    "start_time": "2022-01-08T04:26:06.413Z"
   },
   {
    "duration": 33,
    "start_time": "2022-01-08T04:26:06.442Z"
   },
   {
    "duration": 47,
    "start_time": "2022-01-08T04:26:06.476Z"
   },
   {
    "duration": 18,
    "start_time": "2022-01-08T04:26:06.525Z"
   },
   {
    "duration": 16,
    "start_time": "2022-01-08T04:26:06.545Z"
   },
   {
    "duration": 23,
    "start_time": "2022-01-08T04:26:06.563Z"
   },
   {
    "duration": 36,
    "start_time": "2022-01-08T04:26:06.588Z"
   },
   {
    "duration": 36,
    "start_time": "2022-01-08T04:26:06.625Z"
   },
   {
    "duration": 27,
    "start_time": "2022-01-08T04:26:06.663Z"
   },
   {
    "duration": 18,
    "start_time": "2022-01-08T04:26:06.692Z"
   },
   {
    "duration": 35,
    "start_time": "2022-01-08T04:26:06.712Z"
   },
   {
    "duration": 37,
    "start_time": "2022-01-08T04:26:06.749Z"
   },
   {
    "duration": 14,
    "start_time": "2022-01-08T04:26:06.788Z"
   },
   {
    "duration": 26,
    "start_time": "2022-01-08T04:26:06.804Z"
   },
   {
    "duration": 36,
    "start_time": "2022-01-08T04:26:06.831Z"
   },
   {
    "duration": 32,
    "start_time": "2022-01-08T04:26:06.869Z"
   },
   {
    "duration": 4479,
    "start_time": "2022-01-08T04:26:06.903Z"
   },
   {
    "duration": 3,
    "start_time": "2022-01-08T04:26:11.384Z"
   },
   {
    "duration": 20,
    "start_time": "2022-01-08T04:27:37.849Z"
   },
   {
    "duration": 226,
    "start_time": "2022-01-08T04:43:43.351Z"
   },
   {
    "duration": 3900,
    "start_time": "2022-01-08T04:44:20.116Z"
   },
   {
    "duration": 3869,
    "start_time": "2022-01-08T04:44:33.170Z"
   },
   {
    "duration": 222,
    "start_time": "2022-01-08T04:44:58.345Z"
   },
   {
    "duration": 270,
    "start_time": "2022-01-08T04:48:40.732Z"
   },
   {
    "duration": 223,
    "start_time": "2022-01-08T04:49:01.577Z"
   },
   {
    "duration": 7,
    "start_time": "2022-01-08T04:55:35.672Z"
   },
   {
    "duration": 207,
    "start_time": "2022-01-08T04:56:33.637Z"
   },
   {
    "duration": 7,
    "start_time": "2022-01-08T05:02:25.590Z"
   },
   {
    "duration": 8,
    "start_time": "2022-01-08T05:06:05.897Z"
   },
   {
    "duration": 680,
    "start_time": "2022-01-08T05:09:19.982Z"
   },
   {
    "duration": 8,
    "start_time": "2022-01-08T05:10:51.223Z"
   },
   {
    "duration": 434,
    "start_time": "2022-01-10T02:18:14.942Z"
   },
   {
    "duration": 849,
    "start_time": "2022-01-10T02:18:21.946Z"
   },
   {
    "duration": 34,
    "start_time": "2022-01-10T02:18:22.799Z"
   },
   {
    "duration": 15,
    "start_time": "2022-01-10T02:18:22.837Z"
   },
   {
    "duration": 363,
    "start_time": "2022-01-10T02:18:22.856Z"
   },
   {
    "duration": -321,
    "start_time": "2022-01-10T02:18:23.544Z"
   },
   {
    "duration": -339,
    "start_time": "2022-01-10T02:18:23.564Z"
   },
   {
    "duration": -354,
    "start_time": "2022-01-10T02:18:23.582Z"
   },
   {
    "duration": -392,
    "start_time": "2022-01-10T02:18:23.622Z"
   },
   {
    "duration": -402,
    "start_time": "2022-01-10T02:18:23.634Z"
   },
   {
    "duration": -438,
    "start_time": "2022-01-10T02:18:23.672Z"
   },
   {
    "duration": -489,
    "start_time": "2022-01-10T02:18:23.726Z"
   },
   {
    "duration": -496,
    "start_time": "2022-01-10T02:18:23.735Z"
   },
   {
    "duration": -506,
    "start_time": "2022-01-10T02:18:23.747Z"
   },
   {
    "duration": -511,
    "start_time": "2022-01-10T02:18:23.754Z"
   },
   {
    "duration": -517,
    "start_time": "2022-01-10T02:18:23.762Z"
   },
   {
    "duration": -532,
    "start_time": "2022-01-10T02:18:23.779Z"
   },
   {
    "duration": -544,
    "start_time": "2022-01-10T02:18:23.793Z"
   },
   {
    "duration": -554,
    "start_time": "2022-01-10T02:18:23.804Z"
   },
   {
    "duration": -562,
    "start_time": "2022-01-10T02:18:23.814Z"
   },
   {
    "duration": -581,
    "start_time": "2022-01-10T02:18:23.834Z"
   },
   {
    "duration": -593,
    "start_time": "2022-01-10T02:18:23.848Z"
   },
   {
    "duration": 8689,
    "start_time": "2022-01-10T02:19:56.686Z"
   },
   {
    "duration": 85,
    "start_time": "2022-01-10T02:20:08.642Z"
   },
   {
    "duration": 12,
    "start_time": "2022-01-10T02:20:08.731Z"
   },
   {
    "duration": 13,
    "start_time": "2022-01-10T02:20:08.746Z"
   },
   {
    "duration": 8044,
    "start_time": "2022-01-10T02:20:08.761Z"
   },
   {
    "duration": -358,
    "start_time": "2022-01-10T02:20:17.168Z"
   },
   {
    "duration": -368,
    "start_time": "2022-01-10T02:20:17.181Z"
   },
   {
    "duration": -380,
    "start_time": "2022-01-10T02:20:17.195Z"
   },
   {
    "duration": -394,
    "start_time": "2022-01-10T02:20:17.212Z"
   },
   {
    "duration": -415,
    "start_time": "2022-01-10T02:20:17.235Z"
   },
   {
    "duration": -433,
    "start_time": "2022-01-10T02:20:17.255Z"
   },
   {
    "duration": -444,
    "start_time": "2022-01-10T02:20:17.269Z"
   },
   {
    "duration": -457,
    "start_time": "2022-01-10T02:20:17.284Z"
   },
   {
    "duration": -480,
    "start_time": "2022-01-10T02:20:17.310Z"
   },
   {
    "duration": -492,
    "start_time": "2022-01-10T02:20:17.324Z"
   },
   {
    "duration": -501,
    "start_time": "2022-01-10T02:20:17.335Z"
   },
   {
    "duration": -511,
    "start_time": "2022-01-10T02:20:17.347Z"
   },
   {
    "duration": -522,
    "start_time": "2022-01-10T02:20:17.360Z"
   },
   {
    "duration": -531,
    "start_time": "2022-01-10T02:20:17.371Z"
   },
   {
    "duration": -546,
    "start_time": "2022-01-10T02:20:17.388Z"
   },
   {
    "duration": -569,
    "start_time": "2022-01-10T02:20:17.413Z"
   },
   {
    "duration": -589,
    "start_time": "2022-01-10T02:20:17.436Z"
   },
   {
    "duration": 14,
    "start_time": "2022-01-10T02:21:30.858Z"
   },
   {
    "duration": 5,
    "start_time": "2022-01-10T02:22:01.075Z"
   },
   {
    "duration": 11,
    "start_time": "2022-01-10T02:22:40.272Z"
   },
   {
    "duration": 22,
    "start_time": "2022-01-10T02:24:48.282Z"
   },
   {
    "duration": 10,
    "start_time": "2022-01-10T02:25:52.555Z"
   },
   {
    "duration": 10,
    "start_time": "2022-01-10T02:26:23.076Z"
   },
   {
    "duration": 11,
    "start_time": "2022-01-10T02:27:01.674Z"
   },
   {
    "duration": 27,
    "start_time": "2022-01-10T02:29:16.667Z"
   },
   {
    "duration": 12,
    "start_time": "2022-01-10T02:35:48.642Z"
   },
   {
    "duration": 85,
    "start_time": "2022-01-10T02:35:55.295Z"
   },
   {
    "duration": 12,
    "start_time": "2022-01-10T02:35:55.383Z"
   },
   {
    "duration": 15,
    "start_time": "2022-01-10T02:35:55.425Z"
   },
   {
    "duration": 13,
    "start_time": "2022-01-10T02:35:55.443Z"
   },
   {
    "duration": 5,
    "start_time": "2022-01-10T02:35:55.458Z"
   },
   {
    "duration": 62,
    "start_time": "2022-01-10T02:35:55.466Z"
   },
   {
    "duration": 22,
    "start_time": "2022-01-10T02:35:55.530Z"
   },
   {
    "duration": 10,
    "start_time": "2022-01-10T02:35:55.556Z"
   },
   {
    "duration": 58,
    "start_time": "2022-01-10T02:35:55.569Z"
   },
   {
    "duration": 11,
    "start_time": "2022-01-10T02:35:55.629Z"
   },
   {
    "duration": 13,
    "start_time": "2022-01-10T02:35:55.642Z"
   },
   {
    "duration": 332,
    "start_time": "2022-01-10T02:35:55.657Z"
   },
   {
    "duration": -506,
    "start_time": "2022-01-10T02:35:56.497Z"
   },
   {
    "duration": -519,
    "start_time": "2022-01-10T02:35:56.512Z"
   },
   {
    "duration": -527,
    "start_time": "2022-01-10T02:35:56.522Z"
   },
   {
    "duration": -535,
    "start_time": "2022-01-10T02:35:56.531Z"
   },
   {
    "duration": -543,
    "start_time": "2022-01-10T02:35:56.541Z"
   },
   {
    "duration": -554,
    "start_time": "2022-01-10T02:35:56.554Z"
   },
   {
    "duration": -568,
    "start_time": "2022-01-10T02:35:56.569Z"
   },
   {
    "duration": -575,
    "start_time": "2022-01-10T02:35:56.577Z"
   },
   {
    "duration": -581,
    "start_time": "2022-01-10T02:35:56.585Z"
   },
   {
    "duration": -587,
    "start_time": "2022-01-10T02:35:56.593Z"
   },
   {
    "duration": 392,
    "start_time": "2022-01-10T02:36:30.591Z"
   },
   {
    "duration": 3060,
    "start_time": "2022-01-10T02:37:14.916Z"
   },
   {
    "duration": 19,
    "start_time": "2022-01-10T02:43:31.420Z"
   },
   {
    "duration": 17,
    "start_time": "2022-01-10T02:44:36.504Z"
   },
   {
    "duration": 89,
    "start_time": "2022-01-10T02:45:01.084Z"
   },
   {
    "duration": 13,
    "start_time": "2022-01-10T02:45:01.175Z"
   },
   {
    "duration": 13,
    "start_time": "2022-01-10T02:45:01.223Z"
   },
   {
    "duration": 12,
    "start_time": "2022-01-10T02:45:01.239Z"
   },
   {
    "duration": 16,
    "start_time": "2022-01-10T02:45:01.253Z"
   },
   {
    "duration": 54,
    "start_time": "2022-01-10T02:45:01.272Z"
   },
   {
    "duration": 20,
    "start_time": "2022-01-10T02:45:01.329Z"
   },
   {
    "duration": 13,
    "start_time": "2022-01-10T02:45:01.353Z"
   },
   {
    "duration": 17,
    "start_time": "2022-01-10T02:45:01.369Z"
   },
   {
    "duration": 41,
    "start_time": "2022-01-10T02:45:01.389Z"
   },
   {
    "duration": 5,
    "start_time": "2022-01-10T02:45:01.432Z"
   },
   {
    "duration": 18,
    "start_time": "2022-01-10T02:45:01.440Z"
   },
   {
    "duration": 80,
    "start_time": "2022-01-10T02:45:01.462Z"
   },
   {
    "duration": 35,
    "start_time": "2022-01-10T02:45:01.546Z"
   },
   {
    "duration": 62,
    "start_time": "2022-01-10T02:45:01.584Z"
   },
   {
    "duration": 12,
    "start_time": "2022-01-10T02:45:01.649Z"
   },
   {
    "duration": 76,
    "start_time": "2022-01-10T02:45:01.664Z"
   },
   {
    "duration": 14,
    "start_time": "2022-01-10T02:45:01.743Z"
   },
   {
    "duration": 70,
    "start_time": "2022-01-10T02:45:01.760Z"
   },
   {
    "duration": 48,
    "start_time": "2022-01-10T02:45:01.833Z"
   },
   {
    "duration": 47,
    "start_time": "2022-01-10T02:45:01.884Z"
   },
   {
    "duration": 907,
    "start_time": "2022-01-10T02:45:01.934Z"
   },
   {
    "duration": 37,
    "start_time": "2022-01-10T03:04:01.251Z"
   },
   {
    "duration": 7,
    "start_time": "2022-01-10T03:04:06.356Z"
   },
   {
    "duration": 8,
    "start_time": "2022-01-10T03:04:27.907Z"
   },
   {
    "duration": 11,
    "start_time": "2022-01-10T03:08:10.112Z"
   },
   {
    "duration": 869,
    "start_time": "2022-01-10T03:09:32.287Z"
   },
   {
    "duration": 531,
    "start_time": "2022-01-10T03:46:07.035Z"
   },
   {
    "duration": 534,
    "start_time": "2022-01-10T03:47:18.211Z"
   },
   {
    "duration": 5,
    "start_time": "2022-01-10T03:47:58.585Z"
   },
   {
    "duration": 6,
    "start_time": "2022-01-10T03:48:05.237Z"
   },
   {
    "duration": 6,
    "start_time": "2022-01-10T03:48:17.347Z"
   },
   {
    "duration": 6,
    "start_time": "2022-01-10T03:48:25.500Z"
   },
   {
    "duration": 6,
    "start_time": "2022-01-10T03:49:06.394Z"
   },
   {
    "duration": 6,
    "start_time": "2022-01-10T03:49:43.297Z"
   },
   {
    "duration": 7,
    "start_time": "2022-01-10T03:50:32.164Z"
   },
   {
    "duration": 8,
    "start_time": "2022-01-10T03:52:40.022Z"
   },
   {
    "duration": 9,
    "start_time": "2022-01-10T03:53:26.307Z"
   },
   {
    "duration": 9,
    "start_time": "2022-01-10T03:54:12.002Z"
   },
   {
    "duration": 519,
    "start_time": "2022-01-10T03:54:51.829Z"
   },
   {
    "duration": 10,
    "start_time": "2022-01-10T03:54:58.439Z"
   },
   {
    "duration": 10,
    "start_time": "2022-01-10T03:56:13.075Z"
   },
   {
    "duration": 10,
    "start_time": "2022-01-10T03:58:00.597Z"
   },
   {
    "duration": 9,
    "start_time": "2022-01-10T04:02:50.667Z"
   },
   {
    "duration": 776,
    "start_time": "2022-01-10T06:37:14.288Z"
   },
   {
    "duration": 899,
    "start_time": "2022-01-10T06:37:42.124Z"
   },
   {
    "duration": 12,
    "start_time": "2022-01-10T06:37:43.026Z"
   },
   {
    "duration": 12,
    "start_time": "2022-01-10T06:37:43.040Z"
   },
   {
    "duration": 12,
    "start_time": "2022-01-10T06:37:43.055Z"
   },
   {
    "duration": 5,
    "start_time": "2022-01-10T06:37:43.069Z"
   },
   {
    "duration": 10,
    "start_time": "2022-01-10T06:37:43.123Z"
   },
   {
    "duration": 27,
    "start_time": "2022-01-10T06:37:43.136Z"
   },
   {
    "duration": 15,
    "start_time": "2022-01-10T06:37:43.168Z"
   },
   {
    "duration": 41,
    "start_time": "2022-01-10T06:37:43.188Z"
   },
   {
    "duration": 12,
    "start_time": "2022-01-10T06:37:43.232Z"
   },
   {
    "duration": 23,
    "start_time": "2022-01-10T06:37:43.247Z"
   },
   {
    "duration": 71,
    "start_time": "2022-01-10T06:37:43.272Z"
   },
   {
    "duration": 31,
    "start_time": "2022-01-10T06:37:43.346Z"
   },
   {
    "duration": 51,
    "start_time": "2022-01-10T06:37:43.379Z"
   },
   {
    "duration": 31,
    "start_time": "2022-01-10T06:37:43.432Z"
   },
   {
    "duration": 30,
    "start_time": "2022-01-10T06:37:43.465Z"
   },
   {
    "duration": 16,
    "start_time": "2022-01-10T06:37:43.498Z"
   },
   {
    "duration": 36,
    "start_time": "2022-01-10T06:37:43.517Z"
   },
   {
    "duration": 44,
    "start_time": "2022-01-10T06:37:43.556Z"
   },
   {
    "duration": 13,
    "start_time": "2022-01-10T06:37:43.622Z"
   },
   {
    "duration": 919,
    "start_time": "2022-01-10T06:37:43.638Z"
   },
   {
    "duration": 9,
    "start_time": "2022-01-10T06:37:44.560Z"
   },
   {
    "duration": 3946,
    "start_time": "2022-01-10T06:41:52.354Z"
   },
   {
    "duration": 3851,
    "start_time": "2022-01-10T06:42:49.629Z"
   },
   {
    "duration": 3885,
    "start_time": "2022-01-10T06:43:22.673Z"
   },
   {
    "duration": 3783,
    "start_time": "2022-01-10T06:44:21.225Z"
   },
   {
    "duration": 126,
    "start_time": "2022-01-10T06:55:59.757Z"
   },
   {
    "duration": 4162,
    "start_time": "2022-01-10T06:56:42.824Z"
   },
   {
    "duration": 108,
    "start_time": "2022-01-10T07:12:53.395Z"
   },
   {
    "duration": 412,
    "start_time": "2022-01-10T07:13:01.011Z"
   },
   {
    "duration": 7,
    "start_time": "2022-01-10T07:13:14.353Z"
   },
   {
    "duration": 10,
    "start_time": "2022-01-10T07:16:10.399Z"
   },
   {
    "duration": 7,
    "start_time": "2022-01-10T07:41:03.817Z"
   },
   {
    "duration": 6,
    "start_time": "2022-01-10T07:41:37.732Z"
   },
   {
    "duration": 7,
    "start_time": "2022-01-10T07:42:03.296Z"
   },
   {
    "duration": 9,
    "start_time": "2022-01-10T07:42:09.890Z"
   },
   {
    "duration": 7,
    "start_time": "2022-01-10T07:42:30.477Z"
   },
   {
    "duration": 10,
    "start_time": "2022-01-10T07:42:48.338Z"
   },
   {
    "duration": 8,
    "start_time": "2022-01-10T07:43:15.313Z"
   },
   {
    "duration": 16,
    "start_time": "2022-01-10T07:47:27.049Z"
   },
   {
    "duration": 31,
    "start_time": "2022-01-10T07:49:59.343Z"
   },
   {
    "duration": 36,
    "start_time": "2022-01-10T07:50:49.270Z"
   },
   {
    "duration": 8,
    "start_time": "2022-01-10T08:00:29.516Z"
   },
   {
    "duration": 33,
    "start_time": "2022-01-10T08:00:40.870Z"
   },
   {
    "duration": 11,
    "start_time": "2022-01-10T08:02:19.249Z"
   },
   {
    "duration": 36,
    "start_time": "2022-01-10T08:03:46.274Z"
   },
   {
    "duration": 10,
    "start_time": "2022-01-10T08:23:03.140Z"
   },
   {
    "duration": 10,
    "start_time": "2022-01-10T08:25:04.502Z"
   },
   {
    "duration": 10,
    "start_time": "2022-01-10T08:25:45.222Z"
   },
   {
    "duration": 10,
    "start_time": "2022-01-10T08:26:27.540Z"
   },
   {
    "duration": 10,
    "start_time": "2022-01-10T08:26:56.024Z"
   },
   {
    "duration": 959,
    "start_time": "2022-01-10T08:33:56.886Z"
   },
   {
    "duration": 378,
    "start_time": "2022-01-10T08:38:51.100Z"
   },
   {
    "duration": 473,
    "start_time": "2022-01-10T08:39:02.408Z"
   },
   {
    "duration": 345,
    "start_time": "2022-01-10T08:39:13.520Z"
   },
   {
    "duration": 325,
    "start_time": "2022-01-10T08:39:22.125Z"
   },
   {
    "duration": 6,
    "start_time": "2022-01-13T10:33:32.528Z"
   },
   {
    "duration": 349,
    "start_time": "2022-01-13T10:39:36.623Z"
   },
   {
    "duration": 896,
    "start_time": "2022-01-13T10:40:10.989Z"
   },
   {
    "duration": 13,
    "start_time": "2022-01-13T10:40:11.887Z"
   },
   {
    "duration": 15,
    "start_time": "2022-01-13T10:40:11.923Z"
   },
   {
    "duration": 18,
    "start_time": "2022-01-13T10:40:11.942Z"
   },
   {
    "duration": 17,
    "start_time": "2022-01-13T10:40:11.963Z"
   },
   {
    "duration": 46,
    "start_time": "2022-01-13T10:40:11.983Z"
   },
   {
    "duration": 22,
    "start_time": "2022-01-13T10:40:12.033Z"
   },
   {
    "duration": 10,
    "start_time": "2022-01-13T10:40:12.060Z"
   },
   {
    "duration": 58,
    "start_time": "2022-01-13T10:40:12.072Z"
   },
   {
    "duration": 22,
    "start_time": "2022-01-13T10:40:12.133Z"
   },
   {
    "duration": 88,
    "start_time": "2022-01-13T10:40:12.157Z"
   },
   {
    "duration": 33,
    "start_time": "2022-01-13T10:40:12.248Z"
   },
   {
    "duration": 59,
    "start_time": "2022-01-13T10:40:12.283Z"
   },
   {
    "duration": 12,
    "start_time": "2022-01-13T10:40:12.344Z"
   },
   {
    "duration": 62,
    "start_time": "2022-01-13T10:40:12.359Z"
   },
   {
    "duration": 12,
    "start_time": "2022-01-13T10:40:12.425Z"
   },
   {
    "duration": 33,
    "start_time": "2022-01-13T10:40:12.439Z"
   },
   {
    "duration": 89,
    "start_time": "2022-01-13T10:40:12.474Z"
   },
   {
    "duration": 16,
    "start_time": "2022-01-13T10:40:12.567Z"
   },
   {
    "duration": 1014,
    "start_time": "2022-01-13T10:40:12.585Z"
   },
   {
    "duration": 29,
    "start_time": "2022-01-13T10:40:13.602Z"
   },
   {
    "duration": 4386,
    "start_time": "2022-01-13T10:40:13.634Z"
   },
   {
    "duration": 11,
    "start_time": "2022-01-13T10:40:18.024Z"
   },
   {
    "duration": 8,
    "start_time": "2022-01-13T10:40:18.038Z"
   },
   {
    "duration": 89,
    "start_time": "2022-01-13T10:40:18.048Z"
   },
   {
    "duration": 8,
    "start_time": "2022-01-13T10:40:18.140Z"
   },
   {
    "duration": 12,
    "start_time": "2022-01-13T10:40:18.150Z"
   },
   {
    "duration": 1210,
    "start_time": "2022-01-13T10:40:18.165Z"
   },
   {
    "duration": 4,
    "start_time": "2022-01-13T11:07:52.212Z"
   },
   {
    "duration": 11,
    "start_time": "2022-01-13T11:08:19.449Z"
   },
   {
    "duration": 9,
    "start_time": "2022-01-13T11:09:06.660Z"
   },
   {
    "duration": 6,
    "start_time": "2022-01-13T11:18:27.764Z"
   },
   {
    "duration": 18,
    "start_time": "2022-01-13T11:21:38.254Z"
   },
   {
    "duration": 256,
    "start_time": "2022-01-13T11:24:49.277Z"
   },
   {
    "duration": 1663,
    "start_time": "2022-01-13T11:25:09.693Z"
   },
   {
    "duration": 18,
    "start_time": "2022-01-13T11:25:11.359Z"
   },
   {
    "duration": 52,
    "start_time": "2022-01-13T11:25:11.381Z"
   },
   {
    "duration": 16,
    "start_time": "2022-01-13T11:25:11.437Z"
   },
   {
    "duration": 6,
    "start_time": "2022-01-13T11:25:11.456Z"
   },
   {
    "duration": 60,
    "start_time": "2022-01-13T11:25:11.464Z"
   },
   {
    "duration": 23,
    "start_time": "2022-01-13T11:25:11.527Z"
   },
   {
    "duration": 9,
    "start_time": "2022-01-13T11:25:11.554Z"
   },
   {
    "duration": 53,
    "start_time": "2022-01-13T11:25:11.566Z"
   },
   {
    "duration": 22,
    "start_time": "2022-01-13T11:25:11.623Z"
   },
   {
    "duration": 27,
    "start_time": "2022-01-13T11:25:11.647Z"
   },
   {
    "duration": 40,
    "start_time": "2022-01-13T11:25:11.717Z"
   },
   {
    "duration": 26,
    "start_time": "2022-01-13T11:25:11.760Z"
   },
   {
    "duration": 44,
    "start_time": "2022-01-13T11:25:11.788Z"
   },
   {
    "duration": 28,
    "start_time": "2022-01-13T11:25:11.835Z"
   },
   {
    "duration": 60,
    "start_time": "2022-01-13T11:25:11.865Z"
   },
   {
    "duration": 28,
    "start_time": "2022-01-13T11:25:11.929Z"
   },
   {
    "duration": 86,
    "start_time": "2022-01-13T11:25:11.960Z"
   },
   {
    "duration": 8,
    "start_time": "2022-01-13T11:25:12.049Z"
   },
   {
    "duration": 1001,
    "start_time": "2022-01-13T11:25:12.060Z"
   },
   {
    "duration": 9,
    "start_time": "2022-01-13T11:25:13.064Z"
   },
   {
    "duration": 4461,
    "start_time": "2022-01-13T11:25:13.076Z"
   },
   {
    "duration": 9,
    "start_time": "2022-01-13T11:25:17.542Z"
   },
   {
    "duration": 15,
    "start_time": "2022-01-13T11:25:17.554Z"
   },
   {
    "duration": 83,
    "start_time": "2022-01-13T11:25:17.572Z"
   },
   {
    "duration": 20,
    "start_time": "2022-01-13T11:25:17.657Z"
   },
   {
    "duration": 40,
    "start_time": "2022-01-13T11:25:17.680Z"
   },
   {
    "duration": 12,
    "start_time": "2022-01-13T11:25:17.724Z"
   },
   {
    "duration": 26,
    "start_time": "2022-01-13T11:25:17.738Z"
   },
   {
    "duration": 303,
    "start_time": "2022-01-13T11:25:17.766Z"
   },
   {
    "duration": 3,
    "start_time": "2022-01-13T11:26:27.629Z"
   },
   {
    "duration": 33,
    "start_time": "2022-01-13T11:31:35.175Z"
   },
   {
    "duration": 32,
    "start_time": "2022-01-13T11:40:23.909Z"
   },
   {
    "duration": 33,
    "start_time": "2022-01-13T11:40:46.235Z"
   },
   {
    "duration": 6875,
    "start_time": "2022-01-13T11:46:24.031Z"
   },
   {
    "duration": 7043,
    "start_time": "2022-01-13T11:47:47.663Z"
   },
   {
    "duration": 5374,
    "start_time": "2022-01-13T11:48:56.736Z"
   },
   {
    "duration": 5512,
    "start_time": "2022-01-13T11:49:32.467Z"
   },
   {
    "duration": 1647,
    "start_time": "2022-01-13T11:49:47.785Z"
   },
   {
    "duration": 12,
    "start_time": "2022-01-13T11:49:49.435Z"
   },
   {
    "duration": 13,
    "start_time": "2022-01-13T11:49:49.450Z"
   },
   {
    "duration": 56,
    "start_time": "2022-01-13T11:49:49.465Z"
   },
   {
    "duration": 6,
    "start_time": "2022-01-13T11:49:49.524Z"
   },
   {
    "duration": 9,
    "start_time": "2022-01-13T11:49:49.533Z"
   },
   {
    "duration": 21,
    "start_time": "2022-01-13T11:49:49.545Z"
   },
   {
    "duration": 60,
    "start_time": "2022-01-13T11:49:49.570Z"
   },
   {
    "duration": 9,
    "start_time": "2022-01-13T11:49:49.635Z"
   },
   {
    "duration": 19,
    "start_time": "2022-01-13T11:49:49.646Z"
   },
   {
    "duration": 79,
    "start_time": "2022-01-13T11:49:49.667Z"
   },
   {
    "duration": 38,
    "start_time": "2022-01-13T11:49:49.749Z"
   },
   {
    "duration": 34,
    "start_time": "2022-01-13T11:49:49.817Z"
   },
   {
    "duration": 10,
    "start_time": "2022-01-13T11:49:49.853Z"
   },
   {
    "duration": 72,
    "start_time": "2022-01-13T11:49:49.865Z"
   },
   {
    "duration": 11,
    "start_time": "2022-01-13T11:49:49.939Z"
   },
   {
    "duration": 28,
    "start_time": "2022-01-13T11:49:49.953Z"
   },
   {
    "duration": 85,
    "start_time": "2022-01-13T11:49:49.983Z"
   },
   {
    "duration": 7,
    "start_time": "2022-01-13T11:49:50.071Z"
   },
   {
    "duration": 1009,
    "start_time": "2022-01-13T11:49:50.081Z"
   },
   {
    "duration": 33,
    "start_time": "2022-01-13T11:49:51.094Z"
   },
   {
    "duration": 3835,
    "start_time": "2022-01-13T11:49:51.131Z"
   },
   {
    "duration": 8,
    "start_time": "2022-01-13T11:49:54.971Z"
   },
   {
    "duration": 8,
    "start_time": "2022-01-13T11:49:54.982Z"
   },
   {
    "duration": 37,
    "start_time": "2022-01-13T11:49:55.023Z"
   },
   {
    "duration": 7,
    "start_time": "2022-01-13T11:49:55.063Z"
   },
   {
    "duration": 59,
    "start_time": "2022-01-13T11:49:55.072Z"
   },
   {
    "duration": 6,
    "start_time": "2022-01-13T11:49:55.134Z"
   },
   {
    "duration": 77,
    "start_time": "2022-01-13T11:49:55.143Z"
   },
   {
    "duration": 42,
    "start_time": "2022-01-13T11:49:55.223Z"
   },
   {
    "duration": 5617,
    "start_time": "2022-01-13T11:49:55.268Z"
   },
   {
    "duration": 28,
    "start_time": "2022-01-13T11:54:11.939Z"
   },
   {
    "duration": 9,
    "start_time": "2022-01-13T11:54:40.682Z"
   },
   {
    "duration": 11,
    "start_time": "2022-01-13T11:55:05.302Z"
   },
   {
    "duration": 102,
    "start_time": "2022-01-13T11:57:51.565Z"
   },
   {
    "duration": 16,
    "start_time": "2022-01-13T11:58:20.074Z"
   },
   {
    "duration": 11,
    "start_time": "2022-01-13T12:03:47.544Z"
   },
   {
    "duration": 31,
    "start_time": "2022-01-13T12:09:39.380Z"
   },
   {
    "duration": 30,
    "start_time": "2022-01-13T12:10:19.988Z"
   },
   {
    "duration": 13,
    "start_time": "2022-01-13T12:11:22.235Z"
   },
   {
    "duration": 13,
    "start_time": "2022-01-13T12:12:37.899Z"
   },
   {
    "duration": 328,
    "start_time": "2022-01-13T12:13:08.162Z"
   },
   {
    "duration": 305,
    "start_time": "2022-01-13T12:13:17.280Z"
   },
   {
    "duration": 13,
    "start_time": "2022-01-13T12:14:15.901Z"
   },
   {
    "duration": 15,
    "start_time": "2022-01-13T12:14:37.587Z"
   },
   {
    "duration": 13,
    "start_time": "2022-01-13T12:15:25.473Z"
   },
   {
    "duration": 13,
    "start_time": "2022-01-13T12:16:10.669Z"
   },
   {
    "duration": 13,
    "start_time": "2022-01-13T12:16:22.499Z"
   },
   {
    "duration": 29,
    "start_time": "2022-01-13T12:19:22.054Z"
   },
   {
    "duration": 15,
    "start_time": "2022-01-13T12:20:38.942Z"
   },
   {
    "duration": 28,
    "start_time": "2022-01-13T12:52:18.865Z"
   },
   {
    "duration": 14,
    "start_time": "2022-01-13T12:53:15.844Z"
   },
   {
    "duration": 841,
    "start_time": "2022-01-13T13:46:41.052Z"
   },
   {
    "duration": 21,
    "start_time": "2022-01-13T13:46:41.896Z"
   },
   {
    "duration": 15,
    "start_time": "2022-01-13T13:46:41.920Z"
   },
   {
    "duration": 15,
    "start_time": "2022-01-13T13:46:41.939Z"
   },
   {
    "duration": 6,
    "start_time": "2022-01-13T13:46:41.957Z"
   },
   {
    "duration": 58,
    "start_time": "2022-01-13T13:46:41.966Z"
   },
   {
    "duration": 26,
    "start_time": "2022-01-13T13:46:42.027Z"
   },
   {
    "duration": 10,
    "start_time": "2022-01-13T13:46:42.056Z"
   },
   {
    "duration": 55,
    "start_time": "2022-01-13T13:46:42.069Z"
   },
   {
    "duration": 22,
    "start_time": "2022-01-13T13:46:42.126Z"
   },
   {
    "duration": 28,
    "start_time": "2022-01-13T13:46:42.151Z"
   },
   {
    "duration": 64,
    "start_time": "2022-01-13T13:46:42.181Z"
   },
   {
    "duration": 23,
    "start_time": "2022-01-13T13:46:42.247Z"
   },
   {
    "duration": 51,
    "start_time": "2022-01-13T13:46:42.273Z"
   },
   {
    "duration": 26,
    "start_time": "2022-01-13T13:46:42.327Z"
   },
   {
    "duration": 10,
    "start_time": "2022-01-13T13:46:42.356Z"
   },
   {
    "duration": 69,
    "start_time": "2022-01-13T13:46:42.369Z"
   },
   {
    "duration": 48,
    "start_time": "2022-01-13T13:46:42.441Z"
   },
   {
    "duration": 29,
    "start_time": "2022-01-13T13:46:42.491Z"
   },
   {
    "duration": 935,
    "start_time": "2022-01-13T13:46:42.523Z"
   },
   {
    "duration": 9,
    "start_time": "2022-01-13T13:46:43.461Z"
   },
   {
    "duration": 3585,
    "start_time": "2022-01-13T13:46:43.473Z"
   },
   {
    "duration": 10,
    "start_time": "2022-01-13T13:46:47.064Z"
   },
   {
    "duration": 41,
    "start_time": "2022-01-13T13:46:47.077Z"
   },
   {
    "duration": 36,
    "start_time": "2022-01-13T13:46:47.122Z"
   },
   {
    "duration": 8,
    "start_time": "2022-01-13T13:46:47.160Z"
   },
   {
    "duration": 54,
    "start_time": "2022-01-13T13:46:47.171Z"
   },
   {
    "duration": 6,
    "start_time": "2022-01-13T13:46:47.227Z"
   },
   {
    "duration": 34,
    "start_time": "2022-01-13T13:46:47.235Z"
   },
   {
    "duration": 75,
    "start_time": "2022-01-13T13:46:47.272Z"
   },
   {
    "duration": 70,
    "start_time": "2022-01-13T13:46:47.349Z"
   },
   {
    "duration": 31,
    "start_time": "2022-01-13T13:46:47.422Z"
   },
   {
    "duration": 70,
    "start_time": "2022-01-13T13:46:47.455Z"
   },
   {
    "duration": 29,
    "start_time": "2022-01-13T13:46:47.528Z"
   },
   {
    "duration": 67,
    "start_time": "2022-01-13T13:46:47.559Z"
   },
   {
    "duration": 32,
    "start_time": "2022-01-13T13:46:47.628Z"
   },
   {
    "duration": 14,
    "start_time": "2022-01-13T13:46:47.718Z"
   },
   {
    "duration": 4053,
    "start_time": "2022-01-15T13:21:24.809Z"
   },
   {
    "duration": 8,
    "start_time": "2022-01-15T13:21:28.863Z"
   },
   {
    "duration": 5205,
    "start_time": "2022-01-15T13:21:28.872Z"
   },
   {
    "duration": 4828,
    "start_time": "2022-01-15T13:21:34.080Z"
   },
   {
    "duration": 2,
    "start_time": "2022-01-15T13:21:38.910Z"
   },
   {
    "duration": 8,
    "start_time": "2022-01-15T13:21:38.914Z"
   },
   {
    "duration": 12,
    "start_time": "2022-01-15T13:21:38.923Z"
   },
   {
    "duration": 6,
    "start_time": "2022-01-15T13:21:38.937Z"
   },
   {
    "duration": 6,
    "start_time": "2022-01-15T13:21:38.944Z"
   },
   {
    "duration": 16,
    "start_time": "2022-01-15T13:21:38.952Z"
   },
   {
    "duration": 15,
    "start_time": "2022-01-15T13:21:38.970Z"
   },
   {
    "duration": 41,
    "start_time": "2022-01-15T13:21:38.987Z"
   },
   {
    "duration": 15,
    "start_time": "2022-01-15T13:21:39.029Z"
   },
   {
    "duration": 7,
    "start_time": "2022-01-15T13:21:39.045Z"
   },
   {
    "duration": 17,
    "start_time": "2022-01-15T13:21:39.053Z"
   },
   {
    "duration": 6,
    "start_time": "2022-01-15T13:21:39.072Z"
   },
   {
    "duration": 49,
    "start_time": "2022-01-15T13:21:39.080Z"
   },
   {
    "duration": 27,
    "start_time": "2022-01-15T13:21:39.130Z"
   },
   {
    "duration": 6,
    "start_time": "2022-01-15T13:21:39.158Z"
   },
   {
    "duration": 624,
    "start_time": "2022-01-15T13:21:39.166Z"
   },
   {
    "duration": 6,
    "start_time": "2022-01-15T13:21:39.792Z"
   },
   {
    "duration": 2460,
    "start_time": "2022-01-15T13:21:39.799Z"
   },
   {
    "duration": 7,
    "start_time": "2022-01-15T13:21:42.264Z"
   },
   {
    "duration": 6,
    "start_time": "2022-01-15T13:21:42.273Z"
   },
   {
    "duration": 42,
    "start_time": "2022-01-15T13:21:42.284Z"
   },
   {
    "duration": 6,
    "start_time": "2022-01-15T13:21:42.328Z"
   },
   {
    "duration": 9,
    "start_time": "2022-01-15T13:21:42.336Z"
   },
   {
    "duration": 8,
    "start_time": "2022-01-15T13:21:42.346Z"
   },
   {
    "duration": 22,
    "start_time": "2022-01-15T13:21:42.355Z"
   },
   {
    "duration": 49,
    "start_time": "2022-01-15T13:21:42.378Z"
   },
   {
    "duration": 11,
    "start_time": "2022-01-15T13:21:42.428Z"
   },
   {
    "duration": 17,
    "start_time": "2022-01-15T13:21:42.440Z"
   },
   {
    "duration": 8,
    "start_time": "2022-01-15T13:21:42.459Z"
   },
   {
    "duration": 45,
    "start_time": "2022-01-15T13:21:42.468Z"
   },
   {
    "duration": 9,
    "start_time": "2022-01-15T13:21:42.515Z"
   },
   {
    "duration": 32,
    "start_time": "2022-01-15T13:21:42.526Z"
   },
   {
    "duration": 11,
    "start_time": "2022-01-15T13:21:42.560Z"
   },
   {
    "duration": 409,
    "start_time": "2022-01-16T03:39:51.477Z"
   },
   {
    "duration": 857,
    "start_time": "2022-01-16T03:40:31.783Z"
   },
   {
    "duration": 12,
    "start_time": "2022-01-16T03:40:32.642Z"
   },
   {
    "duration": 12,
    "start_time": "2022-01-16T03:40:32.657Z"
   },
   {
    "duration": 13,
    "start_time": "2022-01-16T03:40:32.671Z"
   },
   {
    "duration": 4,
    "start_time": "2022-01-16T03:40:32.723Z"
   },
   {
    "duration": 8,
    "start_time": "2022-01-16T03:40:32.729Z"
   },
   {
    "duration": 19,
    "start_time": "2022-01-16T03:40:32.740Z"
   },
   {
    "duration": 8,
    "start_time": "2022-01-16T03:40:32.763Z"
   },
   {
    "duration": 52,
    "start_time": "2022-01-16T03:40:32.775Z"
   },
   {
    "duration": 18,
    "start_time": "2022-01-16T03:40:32.829Z"
   },
   {
    "duration": 26,
    "start_time": "2022-01-16T03:40:32.849Z"
   },
   {
    "duration": 68,
    "start_time": "2022-01-16T03:40:32.878Z"
   },
   {
    "duration": 22,
    "start_time": "2022-01-16T03:40:32.949Z"
   },
   {
    "duration": 14,
    "start_time": "2022-01-16T03:40:32.973Z"
   },
   {
    "duration": 48,
    "start_time": "2022-01-16T03:40:32.990Z"
   },
   {
    "duration": 14,
    "start_time": "2022-01-16T03:40:33.040Z"
   },
   {
    "duration": 27,
    "start_time": "2022-01-16T03:40:33.056Z"
   },
   {
    "duration": 64,
    "start_time": "2022-01-16T03:40:33.086Z"
   },
   {
    "duration": 10,
    "start_time": "2022-01-16T03:40:33.153Z"
   },
   {
    "duration": 888,
    "start_time": "2022-01-16T03:40:33.167Z"
   },
   {
    "duration": 10,
    "start_time": "2022-01-16T03:40:34.058Z"
   },
   {
    "duration": 3586,
    "start_time": "2022-01-16T03:40:34.071Z"
   },
   {
    "duration": 9,
    "start_time": "2022-01-16T03:40:37.662Z"
   },
   {
    "duration": 11,
    "start_time": "2022-01-16T03:40:37.674Z"
   },
   {
    "duration": 67,
    "start_time": "2022-01-16T03:40:37.688Z"
   },
   {
    "duration": 7,
    "start_time": "2022-01-16T03:40:37.758Z"
   },
   {
    "duration": 11,
    "start_time": "2022-01-16T03:40:37.767Z"
   },
   {
    "duration": 5,
    "start_time": "2022-01-16T03:40:37.780Z"
   },
   {
    "duration": 31,
    "start_time": "2022-01-16T03:40:37.823Z"
   },
   {
    "duration": 34,
    "start_time": "2022-01-16T03:40:37.856Z"
   },
   {
    "duration": 752,
    "start_time": "2022-01-16T03:40:37.893Z"
   },
   {
    "duration": 38,
    "start_time": "2022-01-16T03:40:38.648Z"
   },
   {
    "duration": 38,
    "start_time": "2022-01-16T03:40:38.688Z"
   },
   {
    "duration": 27,
    "start_time": "2022-01-16T03:40:38.729Z"
   },
   {
    "duration": 13,
    "start_time": "2022-01-16T03:40:38.759Z"
   },
   {
    "duration": 64,
    "start_time": "2022-01-16T03:40:38.775Z"
   },
   {
    "duration": 13,
    "start_time": "2022-01-16T03:40:38.842Z"
   },
   {
    "duration": 12,
    "start_time": "2022-01-16T03:41:20.195Z"
   },
   {
    "duration": 12,
    "start_time": "2022-01-16T03:42:06.296Z"
   },
   {
    "duration": 11,
    "start_time": "2022-01-16T03:42:32.446Z"
   },
   {
    "duration": 10,
    "start_time": "2022-01-16T03:43:21.282Z"
   },
   {
    "duration": 11,
    "start_time": "2022-01-16T03:43:35.406Z"
   },
   {
    "duration": 841,
    "start_time": "2022-01-16T03:44:10.754Z"
   },
   {
    "duration": 11,
    "start_time": "2022-01-16T03:44:11.598Z"
   },
   {
    "duration": 13,
    "start_time": "2022-01-16T03:44:11.624Z"
   },
   {
    "duration": 13,
    "start_time": "2022-01-16T03:44:11.639Z"
   },
   {
    "duration": 8,
    "start_time": "2022-01-16T03:44:11.655Z"
   },
   {
    "duration": 11,
    "start_time": "2022-01-16T03:44:11.665Z"
   },
   {
    "duration": 60,
    "start_time": "2022-01-16T03:44:11.678Z"
   },
   {
    "duration": 11,
    "start_time": "2022-01-16T03:44:11.743Z"
   },
   {
    "duration": 17,
    "start_time": "2022-01-16T03:44:11.758Z"
   },
   {
    "duration": 50,
    "start_time": "2022-01-16T03:44:11.778Z"
   },
   {
    "duration": 29,
    "start_time": "2022-01-16T03:44:11.832Z"
   },
   {
    "duration": 64,
    "start_time": "2022-01-16T03:44:11.864Z"
   },
   {
    "duration": 24,
    "start_time": "2022-01-16T03:44:11.931Z"
   },
   {
    "duration": 12,
    "start_time": "2022-01-16T03:44:11.958Z"
   },
   {
    "duration": 55,
    "start_time": "2022-01-16T03:44:11.973Z"
   },
   {
    "duration": 11,
    "start_time": "2022-01-16T03:44:12.031Z"
   },
   {
    "duration": 34,
    "start_time": "2022-01-16T03:44:12.045Z"
   },
   {
    "duration": 73,
    "start_time": "2022-01-16T03:44:12.081Z"
   },
   {
    "duration": 10,
    "start_time": "2022-01-16T03:44:12.157Z"
   },
   {
    "duration": 909,
    "start_time": "2022-01-16T03:44:12.170Z"
   },
   {
    "duration": 11,
    "start_time": "2022-01-16T03:44:13.083Z"
   },
   {
    "duration": 3699,
    "start_time": "2022-01-16T03:44:13.097Z"
   },
   {
    "duration": 27,
    "start_time": "2022-01-16T03:44:16.803Z"
   },
   {
    "duration": 19,
    "start_time": "2022-01-16T03:44:16.833Z"
   },
   {
    "duration": 46,
    "start_time": "2022-01-16T03:44:16.855Z"
   },
   {
    "duration": 25,
    "start_time": "2022-01-16T03:44:16.903Z"
   },
   {
    "duration": 29,
    "start_time": "2022-01-16T03:44:16.930Z"
   },
   {
    "duration": 20,
    "start_time": "2022-01-16T03:44:16.961Z"
   },
   {
    "duration": 37,
    "start_time": "2022-01-16T03:44:16.984Z"
   },
   {
    "duration": 36,
    "start_time": "2022-01-16T03:44:17.023Z"
   },
   {
    "duration": 757,
    "start_time": "2022-01-16T03:44:17.062Z"
   },
   {
    "duration": 34,
    "start_time": "2022-01-16T03:44:17.821Z"
   },
   {
    "duration": 12,
    "start_time": "2022-01-16T03:44:17.857Z"
   },
   {
    "duration": 57,
    "start_time": "2022-01-16T03:44:17.871Z"
   },
   {
    "duration": 12,
    "start_time": "2022-01-16T03:44:17.930Z"
   },
   {
    "duration": 28,
    "start_time": "2022-01-16T03:44:17.944Z"
   },
   {
    "duration": 11,
    "start_time": "2022-01-16T03:44:17.975Z"
   },
   {
    "duration": 867,
    "start_time": "2022-01-16T11:36:51.421Z"
   },
   {
    "duration": 12,
    "start_time": "2022-01-16T11:36:52.291Z"
   },
   {
    "duration": 24,
    "start_time": "2022-01-16T11:36:52.307Z"
   },
   {
    "duration": 16,
    "start_time": "2022-01-16T11:36:52.334Z"
   },
   {
    "duration": 6,
    "start_time": "2022-01-16T11:36:52.352Z"
   },
   {
    "duration": 13,
    "start_time": "2022-01-16T11:36:52.360Z"
   },
   {
    "duration": 65,
    "start_time": "2022-01-16T11:36:52.376Z"
   },
   {
    "duration": 10,
    "start_time": "2022-01-16T11:36:52.445Z"
   },
   {
    "duration": 16,
    "start_time": "2022-01-16T11:36:52.458Z"
   },
   {
    "duration": 70,
    "start_time": "2022-01-16T11:36:52.478Z"
   },
   {
    "duration": 34,
    "start_time": "2022-01-16T11:36:52.551Z"
   },
   {
    "duration": 73,
    "start_time": "2022-01-16T11:36:52.589Z"
   },
   {
    "duration": 58,
    "start_time": "2022-01-16T11:36:52.665Z"
   },
   {
    "duration": 10,
    "start_time": "2022-01-16T11:36:52.727Z"
   },
   {
    "duration": 29,
    "start_time": "2022-01-16T11:36:52.740Z"
   },
   {
    "duration": 10,
    "start_time": "2022-01-16T11:36:52.772Z"
   },
   {
    "duration": 64,
    "start_time": "2022-01-16T11:36:52.784Z"
   },
   {
    "duration": 81,
    "start_time": "2022-01-16T11:36:52.851Z"
   },
   {
    "duration": 10,
    "start_time": "2022-01-16T11:36:52.936Z"
   },
   {
    "duration": 977,
    "start_time": "2022-01-16T11:36:52.949Z"
   },
   {
    "duration": 13,
    "start_time": "2022-01-16T11:36:53.929Z"
   },
   {
    "duration": 4463,
    "start_time": "2022-01-16T11:36:53.945Z"
   },
   {
    "duration": 9,
    "start_time": "2022-01-16T11:36:58.427Z"
   },
   {
    "duration": 9,
    "start_time": "2022-01-16T11:36:58.439Z"
   },
   {
    "duration": 34,
    "start_time": "2022-01-16T11:36:58.451Z"
   },
   {
    "duration": 11,
    "start_time": "2022-01-16T11:36:58.523Z"
   },
   {
    "duration": 13,
    "start_time": "2022-01-16T11:36:58.537Z"
   },
   {
    "duration": 6,
    "start_time": "2022-01-16T11:36:58.553Z"
   },
   {
    "duration": 75,
    "start_time": "2022-01-16T11:36:58.561Z"
   },
   {
    "duration": 35,
    "start_time": "2022-01-16T11:36:58.638Z"
   },
   {
    "duration": 1240,
    "start_time": "2022-01-16T11:36:58.676Z"
   },
   {
    "duration": 34,
    "start_time": "2022-01-16T11:36:59.919Z"
   },
   {
    "duration": 11,
    "start_time": "2022-01-16T11:36:59.956Z"
   },
   {
    "duration": 54,
    "start_time": "2022-01-16T11:36:59.970Z"
   },
   {
    "duration": 13,
    "start_time": "2022-01-16T11:37:00.027Z"
   },
   {
    "duration": 31,
    "start_time": "2022-01-16T11:37:00.043Z"
   },
   {
    "duration": 50,
    "start_time": "2022-01-16T11:37:00.076Z"
   },
   {
    "duration": 211,
    "start_time": "2022-01-16T11:40:42.305Z"
   },
   {
    "duration": 123,
    "start_time": "2022-01-16T11:42:42.519Z"
   },
   {
    "duration": 129,
    "start_time": "2022-01-16T11:49:45.441Z"
   },
   {
    "duration": 130,
    "start_time": "2022-01-16T11:50:41.199Z"
   },
   {
    "duration": 94,
    "start_time": "2022-01-17T02:33:07.581Z"
   },
   {
    "duration": 856,
    "start_time": "2022-01-17T12:27:46.512Z"
   },
   {
    "duration": 14,
    "start_time": "2022-01-17T12:27:47.371Z"
   },
   {
    "duration": 13,
    "start_time": "2022-01-17T12:27:47.388Z"
   },
   {
    "duration": 15,
    "start_time": "2022-01-17T12:27:47.405Z"
   },
   {
    "duration": 43,
    "start_time": "2022-01-17T12:27:47.423Z"
   },
   {
    "duration": 11,
    "start_time": "2022-01-17T12:27:47.469Z"
   },
   {
    "duration": 23,
    "start_time": "2022-01-17T12:27:47.482Z"
   },
   {
    "duration": 11,
    "start_time": "2022-01-17T12:27:47.509Z"
   },
   {
    "duration": 45,
    "start_time": "2022-01-17T12:27:47.524Z"
   },
   {
    "duration": 22,
    "start_time": "2022-01-17T12:27:47.573Z"
   },
   {
    "duration": 70,
    "start_time": "2022-01-17T12:27:47.598Z"
   },
   {
    "duration": 31,
    "start_time": "2022-01-17T12:27:47.671Z"
   },
   {
    "duration": 24,
    "start_time": "2022-01-17T12:27:47.705Z"
   },
   {
    "duration": 12,
    "start_time": "2022-01-17T12:27:47.768Z"
   },
   {
    "duration": 29,
    "start_time": "2022-01-17T12:27:47.783Z"
   },
   {
    "duration": 13,
    "start_time": "2022-01-17T12:27:47.815Z"
   },
   {
    "duration": 65,
    "start_time": "2022-01-17T12:27:47.831Z"
   },
   {
    "duration": 72,
    "start_time": "2022-01-17T12:27:47.900Z"
   },
   {
    "duration": 7,
    "start_time": "2022-01-17T12:27:47.975Z"
   },
   {
    "duration": 1047,
    "start_time": "2022-01-17T12:27:47.985Z"
   },
   {
    "duration": 9,
    "start_time": "2022-01-17T12:27:49.035Z"
   },
   {
    "duration": 3707,
    "start_time": "2022-01-17T12:27:49.047Z"
   },
   {
    "duration": 10,
    "start_time": "2022-01-17T12:27:52.772Z"
   },
   {
    "duration": 12,
    "start_time": "2022-01-17T12:27:52.785Z"
   },
   {
    "duration": 77,
    "start_time": "2022-01-17T12:27:52.800Z"
   },
   {
    "duration": 8,
    "start_time": "2022-01-17T12:27:52.880Z"
   },
   {
    "duration": 19,
    "start_time": "2022-01-17T12:27:52.890Z"
   },
   {
    "duration": 11,
    "start_time": "2022-01-17T12:27:52.912Z"
   },
   {
    "duration": 66,
    "start_time": "2022-01-17T12:27:52.925Z"
   },
   {
    "duration": 38,
    "start_time": "2022-01-17T12:27:52.994Z"
   },
   {
    "duration": 1342,
    "start_time": "2022-01-17T12:27:53.035Z"
   },
   {
    "duration": 37,
    "start_time": "2022-01-17T12:27:54.380Z"
   },
   {
    "duration": 12,
    "start_time": "2022-01-17T12:27:54.419Z"
   },
   {
    "duration": 54,
    "start_time": "2022-01-17T12:27:54.434Z"
   },
   {
    "duration": 14,
    "start_time": "2022-01-17T12:27:54.490Z"
   },
   {
    "duration": 32,
    "start_time": "2022-01-17T12:27:54.506Z"
   },
   {
    "duration": 36,
    "start_time": "2022-01-17T12:27:54.540Z"
   }
  ],
  "kernelspec": {
   "display_name": "Python 3 (ipykernel)",
   "language": "python",
   "name": "python3"
  },
  "language_info": {
   "codemirror_mode": {
    "name": "ipython",
    "version": 3
   },
   "file_extension": ".py",
   "mimetype": "text/x-python",
   "name": "python",
   "nbconvert_exporter": "python",
   "pygments_lexer": "ipython3",
   "version": "3.10.1"
  },
  "toc": {
   "base_numbering": 1,
   "nav_menu": {},
   "number_sections": true,
   "sideBar": true,
   "skip_h1_title": true,
   "title_cell": "Оглавление",
   "title_sidebar": "Contents",
   "toc_cell": true,
   "toc_position": {},
   "toc_section_display": true,
   "toc_window_display": true
  }
 },
 "nbformat": 4,
 "nbformat_minor": 2
}
