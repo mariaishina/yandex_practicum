{
 "cells": [
  {
   "cell_type": "markdown",
   "metadata": {},
   "source": [
    "# Принятие решений в бизнесе на основе данных: как увеличить выручку интеренет-магазина"
   ]
  },
  {
   "cell_type": "markdown",
   "metadata": {},
   "source": [
    "## Цель исследования"
   ]
  },
  {
   "cell_type": "markdown",
   "metadata": {},
   "source": [
    "Отдел маркетинга крупного интеренет-магазина подготовил список гипотез для увеличения выручки. \n",
    "\n",
    "Задача: \n",
    "- приоретизировать гипотезы, \n",
    "- запустить А/В-тест, \n",
    "- проанализировать результаты."
   ]
  },
  {
   "cell_type": "markdown",
   "metadata": {},
   "source": [
    "## Знакомство с данными"
   ]
  },
  {
   "cell_type": "markdown",
   "metadata": {},
   "source": [
    "### Загрузка библиотек"
   ]
  },
  {
   "cell_type": "code",
   "execution_count": 1,
   "metadata": {},
   "outputs": [],
   "source": [
    "import pandas as pd\n",
    "import numpy as np\n",
    "import scipy.stats as stats\n",
    "from scipy import stats as st\n",
    "import datetime as dt\n",
    "import matplotlib.pyplot as plt\n",
    "\n",
    "pd.options.display.max_colwidth = 110"
   ]
  },
  {
   "cell_type": "markdown",
   "metadata": {},
   "source": [
    "### Загрузка данных"
   ]
  },
  {
   "cell_type": "code",
   "execution_count": 2,
   "metadata": {},
   "outputs": [
    {
     "data": {
      "text/plain": [
       "'hypothesis'"
      ]
     },
     "metadata": {},
     "output_type": "display_data"
    },
    {
     "data": {
      "text/html": [
       "<div>\n",
       "<style scoped>\n",
       "    .dataframe tbody tr th:only-of-type {\n",
       "        vertical-align: middle;\n",
       "    }\n",
       "\n",
       "    .dataframe tbody tr th {\n",
       "        vertical-align: top;\n",
       "    }\n",
       "\n",
       "    .dataframe thead th {\n",
       "        text-align: right;\n",
       "    }\n",
       "</style>\n",
       "<table border=\"1\" class=\"dataframe\">\n",
       "  <thead>\n",
       "    <tr style=\"text-align: right;\">\n",
       "      <th></th>\n",
       "      <th>Hypothesis</th>\n",
       "      <th>Reach</th>\n",
       "      <th>Impact</th>\n",
       "      <th>Confidence</th>\n",
       "      <th>Efforts</th>\n",
       "    </tr>\n",
       "  </thead>\n",
       "  <tbody>\n",
       "    <tr>\n",
       "      <th>0</th>\n",
       "      <td>Добавить два новых канала привлечения трафика, что позволит привлекать на 30% больше пользователей</td>\n",
       "      <td>3</td>\n",
       "      <td>10</td>\n",
       "      <td>8</td>\n",
       "      <td>6</td>\n",
       "    </tr>\n",
       "    <tr>\n",
       "      <th>1</th>\n",
       "      <td>Запустить собственную службу доставки, что сократит срок доставки заказов</td>\n",
       "      <td>2</td>\n",
       "      <td>5</td>\n",
       "      <td>4</td>\n",
       "      <td>10</td>\n",
       "    </tr>\n",
       "    <tr>\n",
       "      <th>2</th>\n",
       "      <td>Добавить блоки рекомендаций товаров на сайт интернет магазина, чтобы повысить конверсию и средний чек заказа</td>\n",
       "      <td>8</td>\n",
       "      <td>3</td>\n",
       "      <td>7</td>\n",
       "      <td>3</td>\n",
       "    </tr>\n",
       "  </tbody>\n",
       "</table>\n",
       "</div>"
      ],
      "text/plain": [
       "                                                                                                     Hypothesis  \\\n",
       "0            Добавить два новых канала привлечения трафика, что позволит привлекать на 30% больше пользователей   \n",
       "1                                     Запустить собственную службу доставки, что сократит срок доставки заказов   \n",
       "2  Добавить блоки рекомендаций товаров на сайт интернет магазина, чтобы повысить конверсию и средний чек заказа   \n",
       "\n",
       "   Reach  Impact  Confidence  Efforts  \n",
       "0      3      10           8        6  \n",
       "1      2       5           4       10  \n",
       "2      8       3           7        3  "
      ]
     },
     "metadata": {},
     "output_type": "display_data"
    },
    {
     "data": {
      "text/plain": [
       "(9, 5)"
      ]
     },
     "metadata": {},
     "output_type": "display_data"
    },
    {
     "data": {
      "text/plain": [
       "'orders'"
      ]
     },
     "metadata": {},
     "output_type": "display_data"
    },
    {
     "data": {
      "text/html": [
       "<div>\n",
       "<style scoped>\n",
       "    .dataframe tbody tr th:only-of-type {\n",
       "        vertical-align: middle;\n",
       "    }\n",
       "\n",
       "    .dataframe tbody tr th {\n",
       "        vertical-align: top;\n",
       "    }\n",
       "\n",
       "    .dataframe thead th {\n",
       "        text-align: right;\n",
       "    }\n",
       "</style>\n",
       "<table border=\"1\" class=\"dataframe\">\n",
       "  <thead>\n",
       "    <tr style=\"text-align: right;\">\n",
       "      <th></th>\n",
       "      <th>transactionId</th>\n",
       "      <th>visitorId</th>\n",
       "      <th>date</th>\n",
       "      <th>revenue</th>\n",
       "      <th>group</th>\n",
       "    </tr>\n",
       "  </thead>\n",
       "  <tbody>\n",
       "    <tr>\n",
       "      <th>0</th>\n",
       "      <td>3667963787</td>\n",
       "      <td>3312258926</td>\n",
       "      <td>2019-08-15</td>\n",
       "      <td>1650</td>\n",
       "      <td>B</td>\n",
       "    </tr>\n",
       "    <tr>\n",
       "      <th>1</th>\n",
       "      <td>2804400009</td>\n",
       "      <td>3642806036</td>\n",
       "      <td>2019-08-15</td>\n",
       "      <td>730</td>\n",
       "      <td>B</td>\n",
       "    </tr>\n",
       "    <tr>\n",
       "      <th>2</th>\n",
       "      <td>2961555356</td>\n",
       "      <td>4069496402</td>\n",
       "      <td>2019-08-15</td>\n",
       "      <td>400</td>\n",
       "      <td>A</td>\n",
       "    </tr>\n",
       "  </tbody>\n",
       "</table>\n",
       "</div>"
      ],
      "text/plain": [
       "   transactionId   visitorId        date  revenue group\n",
       "0     3667963787  3312258926  2019-08-15     1650     B\n",
       "1     2804400009  3642806036  2019-08-15      730     B\n",
       "2     2961555356  4069496402  2019-08-15      400     A"
      ]
     },
     "metadata": {},
     "output_type": "display_data"
    },
    {
     "data": {
      "text/plain": [
       "(1197, 5)"
      ]
     },
     "metadata": {},
     "output_type": "display_data"
    },
    {
     "data": {
      "text/plain": [
       "'visitors'"
      ]
     },
     "metadata": {},
     "output_type": "display_data"
    },
    {
     "data": {
      "text/html": [
       "<div>\n",
       "<style scoped>\n",
       "    .dataframe tbody tr th:only-of-type {\n",
       "        vertical-align: middle;\n",
       "    }\n",
       "\n",
       "    .dataframe tbody tr th {\n",
       "        vertical-align: top;\n",
       "    }\n",
       "\n",
       "    .dataframe thead th {\n",
       "        text-align: right;\n",
       "    }\n",
       "</style>\n",
       "<table border=\"1\" class=\"dataframe\">\n",
       "  <thead>\n",
       "    <tr style=\"text-align: right;\">\n",
       "      <th></th>\n",
       "      <th>date</th>\n",
       "      <th>group</th>\n",
       "      <th>visitors</th>\n",
       "    </tr>\n",
       "  </thead>\n",
       "  <tbody>\n",
       "    <tr>\n",
       "      <th>0</th>\n",
       "      <td>2019-08-01</td>\n",
       "      <td>A</td>\n",
       "      <td>719</td>\n",
       "    </tr>\n",
       "    <tr>\n",
       "      <th>1</th>\n",
       "      <td>2019-08-02</td>\n",
       "      <td>A</td>\n",
       "      <td>619</td>\n",
       "    </tr>\n",
       "    <tr>\n",
       "      <th>2</th>\n",
       "      <td>2019-08-03</td>\n",
       "      <td>A</td>\n",
       "      <td>507</td>\n",
       "    </tr>\n",
       "  </tbody>\n",
       "</table>\n",
       "</div>"
      ],
      "text/plain": [
       "         date group  visitors\n",
       "0  2019-08-01     A       719\n",
       "1  2019-08-02     A       619\n",
       "2  2019-08-03     A       507"
      ]
     },
     "metadata": {},
     "output_type": "display_data"
    },
    {
     "data": {
      "text/plain": [
       "(62, 3)"
      ]
     },
     "metadata": {},
     "output_type": "display_data"
    }
   ],
   "source": [
    "hypothesis = pd.read_csv('hypothesis.csv') # список гипотез\n",
    "orders = pd.read_csv('orders.csv') # данные о заказах\n",
    "visitors = pd.read_csv('visitors.csv') # данные о посещениях сайта\n",
    "\n",
    "display('hypothesis', hypothesis.head(3), hypothesis.shape)\n",
    "display('orders', orders.head(3), orders.shape)\n",
    "display('visitors', visitors.head(3), visitors.shape)\n"
   ]
  },
  {
   "cell_type": "markdown",
   "metadata": {},
   "source": [
    "### Вывод"
   ]
  },
  {
   "cell_type": "markdown",
   "metadata": {},
   "source": [
    "<p></p>\n",
    "\n",
    "<div style=\"border:solid green 2px; padding: 20px\">\n",
    "Для дальнейшей работы имеем 3 таблицы:          \n",
    "    \n",
    "**hypothesis** - список из 9 гипотез, где\n",
    "- Hypothesis — краткое описание гипотезы;\n",
    "- Reach — охват пользователей по 10-балльной шкале;\n",
    "- Impact — влияние на пользователей по 10-балльной шкале;\n",
    "- Confidence — уверенность в гипотезе по 10-балльной шкале;\n",
    "- Efforts — затраты ресурсов на проверку гипотезы по 10-балльной шкале. \n",
    "    \n",
    "**orders** - данные о 1197 заказах, где\n",
    "- transactionId — идентификатор заказа;\n",
    "- visitorId — идентификатор пользователя, совершившего заказ;\n",
    "- date — дата, когда был совершён заказ;\n",
    "- revenue — выручка заказа;\n",
    "- group — группа A/B-теста, в которую попал заказ.\n",
    "    \n",
    "**visitors** - данные о посещениях сайта, где    \n",
    "- date — дата;\n",
    "- group — группа A/B-теста;\n",
    "- visitors — количество пользователей в указанную дату в указанной группе A/B-теста    \n",
    " \n",
    "</div>"
   ]
  },
  {
   "cell_type": "markdown",
   "metadata": {},
   "source": [
    "## Предобработка данных"
   ]
  },
  {
   "cell_type": "markdown",
   "metadata": {},
   "source": [
    "### Переименование столбцов"
   ]
  },
  {
   "cell_type": "markdown",
   "metadata": {},
   "source": [
    "Приведем название столбцов к змеиному регистру для удобства и красоты:"
   ]
  },
  {
   "cell_type": "code",
   "execution_count": 3,
   "metadata": {},
   "outputs": [],
   "source": [
    "hypothesis.columns = [col.lower() for col in hypothesis.columns]\n",
    "orders.columns = ['transaction_id', 'visitor_id', 'date', 'revenue', 'group']"
   ]
  },
  {
   "cell_type": "markdown",
   "metadata": {},
   "source": [
    "### Проверка типов данных и пропусков"
   ]
  },
  {
   "cell_type": "code",
   "execution_count": 4,
   "metadata": {
    "scrolled": true
   },
   "outputs": [
    {
     "name": "stdout",
     "output_type": "stream",
     "text": [
      "<class 'pandas.core.frame.DataFrame'>\n",
      "RangeIndex: 9 entries, 0 to 8\n",
      "Data columns (total 5 columns):\n",
      " #   Column      Non-Null Count  Dtype \n",
      "---  ------      --------------  ----- \n",
      " 0   hypothesis  9 non-null      object\n",
      " 1   reach       9 non-null      int64 \n",
      " 2   impact      9 non-null      int64 \n",
      " 3   confidence  9 non-null      int64 \n",
      " 4   efforts     9 non-null      int64 \n",
      "dtypes: int64(4), object(1)\n",
      "memory usage: 488.0+ bytes\n"
     ]
    }
   ],
   "source": [
    "hypothesis.info()"
   ]
  },
  {
   "cell_type": "code",
   "execution_count": 5,
   "metadata": {
    "scrolled": true
   },
   "outputs": [
    {
     "name": "stdout",
     "output_type": "stream",
     "text": [
      "<class 'pandas.core.frame.DataFrame'>\n",
      "RangeIndex: 1197 entries, 0 to 1196\n",
      "Data columns (total 5 columns):\n",
      " #   Column          Non-Null Count  Dtype \n",
      "---  ------          --------------  ----- \n",
      " 0   transaction_id  1197 non-null   int64 \n",
      " 1   visitor_id      1197 non-null   int64 \n",
      " 2   date            1197 non-null   object\n",
      " 3   revenue         1197 non-null   int64 \n",
      " 4   group           1197 non-null   object\n",
      "dtypes: int64(3), object(2)\n",
      "memory usage: 46.9+ KB\n"
     ]
    }
   ],
   "source": [
    "orders.info()"
   ]
  },
  {
   "cell_type": "code",
   "execution_count": 6,
   "metadata": {},
   "outputs": [
    {
     "name": "stdout",
     "output_type": "stream",
     "text": [
      "<class 'pandas.core.frame.DataFrame'>\n",
      "RangeIndex: 62 entries, 0 to 61\n",
      "Data columns (total 3 columns):\n",
      " #   Column    Non-Null Count  Dtype \n",
      "---  ------    --------------  ----- \n",
      " 0   date      62 non-null     object\n",
      " 1   group     62 non-null     object\n",
      " 2   visitors  62 non-null     int64 \n",
      "dtypes: int64(1), object(2)\n",
      "memory usage: 1.6+ KB\n"
     ]
    }
   ],
   "source": [
    "visitors.info()"
   ]
  },
  {
   "cell_type": "markdown",
   "metadata": {},
   "source": [
    "Пропусков не обнаружено.\n",
    "\n",
    "Для удобства работы с датами преобразуем их в соответствующий тип:"
   ]
  },
  {
   "cell_type": "code",
   "execution_count": 7,
   "metadata": {},
   "outputs": [],
   "source": [
    "orders['date'] = orders['date'].map(lambda x: dt.datetime.strptime(x, '%Y-%m-%d'))\n",
    "visitors['date'] = visitors['date'].map(lambda x: dt.datetime.strptime(x, '%Y-%m-%d'))"
   ]
  },
  {
   "cell_type": "markdown",
   "metadata": {},
   "source": [
    "### Проверка дубликатов"
   ]
  },
  {
   "cell_type": "code",
   "execution_count": 8,
   "metadata": {},
   "outputs": [
    {
     "name": "stdout",
     "output_type": "stream",
     "text": [
      "0 0 0\n"
     ]
    }
   ],
   "source": [
    "print(hypothesis.duplicated().sum(), orders.duplicated().sum(), visitors.duplicated().sum())"
   ]
  },
  {
   "cell_type": "markdown",
   "metadata": {},
   "source": [
    "Дубликатов нет."
   ]
  },
  {
   "cell_type": "markdown",
   "metadata": {},
   "source": [
    "### Количество пользователей"
   ]
  },
  {
   "cell_type": "markdown",
   "metadata": {},
   "source": [
    "Проверим, сколько пользователей у нас в каждой группе и нет ли пересечений (тех, кто попал в обе группы):"
   ]
  },
  {
   "cell_type": "code",
   "execution_count": 9,
   "metadata": {},
   "outputs": [
    {
     "data": {
      "text/plain": [
       "group\n",
       "A    503\n",
       "B    586\n",
       "Name: visitor_id, dtype: int64"
      ]
     },
     "metadata": {},
     "output_type": "display_data"
    },
    {
     "name": "stdout",
     "output_type": "stream",
     "text": [
      "Всего уникальных пользователей: 1031\n",
      "Сумма пользователей групп А и В: 1089\n"
     ]
    }
   ],
   "source": [
    "display(orders.groupby('group')['visitor_id'].nunique())\n",
    "print('Всего уникальных пользователей:', orders.visitor_id.nunique())\n",
    "print('Сумма пользователей групп А и В:', orders.groupby('group')['visitor_id'].nunique().sum())"
   ]
  },
  {
   "cell_type": "markdown",
   "metadata": {},
   "source": [
    "Всего у нас 1031 пользователь. Группы А и В сопоставимы по размерам и достаточно велики. \n",
    "\n",
    "Однако 58 пользователей попали в обе группы, их следовало бы исключить из анализа. Мы спокойно могли бы удалить их из таблицы orders. Могли бы также вычислить, в какие дни они оформляли заказы и эти посещения вычесть из количества визитов в таблице visitors. Но мы никак не вычислим, сколько раз и когда они заходили на сайт \"просто посмотреть\" (у нас в таблице visitors данные обезличены). В результате удаление таких пользователей исказит нам конверсию. Поэтому оставим, как есть, их доля не так уж и велика и составляет 5,6%. Но обратим внимание маркетингового отдела на эту ошибку."
   ]
  },
  {
   "cell_type": "markdown",
   "metadata": {},
   "source": [
    "### Исследуемый период"
   ]
  },
  {
   "cell_type": "markdown",
   "metadata": {},
   "source": [
    "Проверим соответствие периодов в таблицах с заказами и посещениями сайта:"
   ]
  },
  {
   "cell_type": "code",
   "execution_count": 10,
   "metadata": {},
   "outputs": [
    {
     "name": "stdout",
     "output_type": "stream",
     "text": [
      "Период в таблице с заказами: с 2019-08-01 00:00:00 по 2019-08-31 00:00:00\n",
      "Период в таблице с визитами: с 2019-08-01 00:00:00 по 2019-08-31 00:00:00\n"
     ]
    }
   ],
   "source": [
    "print('Период в таблице с заказами: с {} по {}'.format(orders['date'].min(), orders['date'].max()))\n",
    "print('Период в таблице с визитами: с {} по {}'.format(visitors['date'].min(), visitors['date'].max()))\n"
   ]
  },
  {
   "cell_type": "markdown",
   "metadata": {},
   "source": [
    "Исследуемый период - с 1 по 31 августа 2019 года."
   ]
  },
  {
   "cell_type": "markdown",
   "metadata": {},
   "source": [
    "### Количество заказов"
   ]
  },
  {
   "cell_type": "markdown",
   "metadata": {},
   "source": [
    "Проверим, как распределено количество заказов:"
   ]
  },
  {
   "cell_type": "code",
   "execution_count": 11,
   "metadata": {},
   "outputs": [
    {
     "data": {
      "text/html": [
       "<div>\n",
       "<style scoped>\n",
       "    .dataframe tbody tr th:only-of-type {\n",
       "        vertical-align: middle;\n",
       "    }\n",
       "\n",
       "    .dataframe tbody tr th {\n",
       "        vertical-align: top;\n",
       "    }\n",
       "\n",
       "    .dataframe thead th {\n",
       "        text-align: right;\n",
       "    }\n",
       "</style>\n",
       "<table border=\"1\" class=\"dataframe\">\n",
       "  <thead>\n",
       "    <tr style=\"text-align: right;\">\n",
       "      <th></th>\n",
       "      <th>visitor_id</th>\n",
       "      <th>orders_count</th>\n",
       "    </tr>\n",
       "  </thead>\n",
       "  <tbody>\n",
       "    <tr>\n",
       "      <th>1023</th>\n",
       "      <td>4256040402</td>\n",
       "      <td>11</td>\n",
       "    </tr>\n",
       "    <tr>\n",
       "      <th>591</th>\n",
       "      <td>2458001652</td>\n",
       "      <td>11</td>\n",
       "    </tr>\n",
       "    <tr>\n",
       "      <th>569</th>\n",
       "      <td>2378935119</td>\n",
       "      <td>9</td>\n",
       "    </tr>\n",
       "    <tr>\n",
       "      <th>487</th>\n",
       "      <td>2038680547</td>\n",
       "      <td>8</td>\n",
       "    </tr>\n",
       "    <tr>\n",
       "      <th>44</th>\n",
       "      <td>199603092</td>\n",
       "      <td>5</td>\n",
       "    </tr>\n",
       "  </tbody>\n",
       "</table>\n",
       "</div>"
      ],
      "text/plain": [
       "      visitor_id  orders_count\n",
       "1023  4256040402            11\n",
       "591   2458001652            11\n",
       "569   2378935119             9\n",
       "487   2038680547             8\n",
       "44     199603092             5"
      ]
     },
     "execution_count": 11,
     "metadata": {},
     "output_type": "execute_result"
    }
   ],
   "source": [
    "orders_by_users = orders.groupby('visitor_id', as_index=False).agg({'transaction_id':'nunique'})\n",
    "orders_by_users.columns = ['visitor_id', 'orders_count']\n",
    "orders_by_users.sort_values(by='orders_count', ascending=False).head()"
   ]
  },
  {
   "cell_type": "code",
   "execution_count": 12,
   "metadata": {},
   "outputs": [
    {
     "data": {
      "text/plain": [
       "count    1031.000000\n",
       "mean        1.161009\n",
       "std         0.724919\n",
       "min         1.000000\n",
       "25%         1.000000\n",
       "50%         1.000000\n",
       "75%         1.000000\n",
       "max        11.000000\n",
       "Name: orders_count, dtype: float64"
      ]
     },
     "execution_count": 12,
     "metadata": {},
     "output_type": "execute_result"
    }
   ],
   "source": [
    "orders_by_users['orders_count'].describe()"
   ]
  },
  {
   "cell_type": "markdown",
   "metadata": {},
   "source": [
    "Количество покупателей - 1031, минимальное количество заказов за месяц - 1, среднее - 1, максимальное - 11. Имеем пик в районе 1 и длинный хвост справа, т.е. распределение не похоже на нормальное.\n",
    "\n",
    "Проверим нормальность распределения заказов методом Шапиро_Уилка.<a id='orders'></a>\n",
    "\n",
    "**Нулевая гипотеза**: Распределение является нормальным.\n",
    "\n",
    "**Альтернативная гипотеза**: Распределение не является нормальным."
   ]
  },
  {
   "cell_type": "code",
   "execution_count": 13,
   "metadata": {},
   "outputs": [
    {
     "name": "stdout",
     "output_type": "stream",
     "text": [
      "p-значение:  0.0\n",
      "Отвергаем нулевую гипотезу: распределение не нормально\n"
     ]
    }
   ],
   "source": [
    "alpha = 0.05  # критический уровень статистической значимости\n",
    "\n",
    "results = st.shapiro(orders_by_users['orders_count'])\n",
    "p_value = results[1]  # второе значение в массиве результатов (с индексом 1) - p-value\n",
    "\n",
    "print('p-значение: ', p_value)\n",
    "\n",
    "if p_value < alpha:\n",
    "    print('Отвергаем нулевую гипотезу: распределение не нормально')\n",
    "else:\n",
    "    print('Не получилось отвергнуть нулевую гипотезу, всё нормально')"
   ]
  },
  {
   "cell_type": "markdown",
   "metadata": {},
   "source": [
    "Оценим визуально границу хвоста с аномалиями. Для этого построим точечную диаграмму числа заказов на одного пользователя:"
   ]
  },
  {
   "cell_type": "code",
   "execution_count": 14,
   "metadata": {},
   "outputs": [
    {
     "data": {
      "image/png": "[encoded data removed]",
      "text/plain": [
       "<Figure size 864x360 with 1 Axes>"
      ]
     },
     "metadata": {
      "needs_background": "light"
     },
     "output_type": "display_data"
    }
   ],
   "source": [
    "x_values = pd.Series(range(0,len(orders_by_users)))\n",
    "\n",
    "plt.figure(figsize=(12,5))\n",
    "plt.scatter(x_values, orders_by_users['orders_count'])\n",
    "plt.title('Количество заказов на одного пользователя (сырые данные)')\n",
    "plt.xlabel('Пользователи')\n",
    "plt.ylabel('Количество заказов')\n",
    "plt.show()"
   ]
  },
  {
   "cell_type": "markdown",
   "metadata": {},
   "source": [
    "Большинство пользователей сделали за месяц 1-2 заказа. Граница для отсечения выбросов будет где-то в районе 3-4 заказов. \n",
    "\n",
    "Чтобы выбрать границу, посчитаем 95-ый и 99-ый персентили: <a id='orders_pers'></a>"
   ]
  },
  {
   "cell_type": "code",
   "execution_count": 15,
   "metadata": {},
   "outputs": [
    {
     "data": {
      "text/plain": [
       "array([2., 4.])"
      ]
     },
     "execution_count": 15,
     "metadata": {},
     "output_type": "execute_result"
    }
   ],
   "source": [
    "np.percentile(orders_by_users['orders_count'], [95, 99])"
   ]
  },
  {
   "cell_type": "markdown",
   "metadata": {},
   "source": [
    "Более 2-х заказов (т.е. от 3-х) оформили 5% пользователей. Более 4-х заказов (т.е. от 5-и) - 1% пользователей. \n",
    "\n",
    "Будем считать аномальными пользователей, сделавших 5 заказов и более."
   ]
  },
  {
   "cell_type": "markdown",
   "metadata": {},
   "source": [
    "### Стоимость заказов"
   ]
  },
  {
   "cell_type": "markdown",
   "metadata": {},
   "source": [
    "Теперь изучим стоимость заказов:"
   ]
  },
  {
   "cell_type": "code",
   "execution_count": 16,
   "metadata": {
    "scrolled": true
   },
   "outputs": [
    {
     "data": {
      "text/plain": [
       "count    1.197000e+03\n",
       "mean     8.348006e+03\n",
       "std      3.919113e+04\n",
       "min      5.000000e+01\n",
       "25%      1.220000e+03\n",
       "50%      2.978000e+03\n",
       "75%      8.290000e+03\n",
       "max      1.294500e+06\n",
       "Name: revenue, dtype: float64"
      ]
     },
     "execution_count": 16,
     "metadata": {},
     "output_type": "execute_result"
    }
   ],
   "source": [
    "orders['revenue'].describe()"
   ]
  },
  {
   "cell_type": "markdown",
   "metadata": {},
   "source": [
    "Всего у нас 1 197 заказов, минимальная стоимость - 50 у.е., медианная - 2 978 у.е., средняя - 8 348 у.е., максимальная - 1,3 млн. у.е. Распределение также не похоже на нормальное и сильно скошено вправо.\n",
    "\n",
    "Проверим нормальность распределения заказов методом Шапиро_Уилка.<a id='revenue'></a>\n",
    "\n",
    "**Нулевая гипотеза**: Распределение является нормальным.\n",
    "\n",
    "**Альтернативная гипотеза**: Распределение не является нормальным."
   ]
  },
  {
   "cell_type": "code",
   "execution_count": 17,
   "metadata": {},
   "outputs": [
    {
     "name": "stdout",
     "output_type": "stream",
     "text": [
      "p-значение:  0.0\n",
      "Отвергаем нулевую гипотезу: распределение не нормально\n"
     ]
    }
   ],
   "source": [
    "alpha = 0.05  # критический уровень статистической значимости\n",
    "\n",
    "results = st.shapiro(orders['revenue'])\n",
    "p_value = results[1]  # второе значение в массиве результатов (с индексом 1) - p-value\n",
    "\n",
    "print('p-значение: ', p_value)\n",
    "\n",
    "if p_value < alpha:\n",
    "    print('Отвергаем нулевую гипотезу: распределение не нормально')\n",
    "else:\n",
    "    print('Не получилось отвергнуть нулевую гипотезу, всё нормально')"
   ]
  },
  {
   "cell_type": "markdown",
   "metadata": {},
   "source": [
    "Построим точечную диаграмму, чтобы визуально оценить границу выбросов:"
   ]
  },
  {
   "cell_type": "code",
   "execution_count": 18,
   "metadata": {},
   "outputs": [
    {
     "data": {
      "image/png": "[encoded data removed]",
      "text/plain": [
       "<Figure size 864x360 with 1 Axes>"
      ]
     },
     "metadata": {
      "needs_background": "light"
     },
     "output_type": "display_data"
    }
   ],
   "source": [
    "x_values = pd.Series(range(0,len(orders['revenue'])))\n",
    "\n",
    "plt.figure(figsize=(12,5))\n",
    "plt.scatter(x_values, orders['revenue'])\n",
    "plt.title('Стоимость заказов (сырые данные)')\n",
    "plt.xlabel('Заказы')\n",
    "plt.ylabel('Стоимость заказов, млн.у.е.')\n",
    "plt.ylim(0,100000)\n",
    "plt.show()"
   ]
  },
  {
   "cell_type": "markdown",
   "metadata": {},
   "source": [
    "Здесь граница отсечения выбросов будет где-то между 20 и 40 тыс. у.е. Расчитаем 95-ый и 99-ый персентили: <a id='revenue_pers'></a>"
   ]
  },
  {
   "cell_type": "code",
   "execution_count": 19,
   "metadata": {},
   "outputs": [
    {
     "data": {
      "text/plain": [
       "array([28000. , 58233.2])"
      ]
     },
     "execution_count": 19,
     "metadata": {},
     "output_type": "execute_result"
    }
   ],
   "source": [
    "np.percentile(orders['revenue'], [95, 99])"
   ]
  },
  {
   "cell_type": "markdown",
   "metadata": {},
   "source": [
    "У 5% заказов стоимость более 28 000 у.е. У 1% заказов стоимость более 58 233 у.е.\n",
    "\n",
    "Будем считать аномалиями заказы стоимостью свыше 30 000 у.е."
   ]
  },
  {
   "cell_type": "markdown",
   "metadata": {},
   "source": [
    "### Вывод"
   ]
  },
  {
   "cell_type": "markdown",
   "metadata": {},
   "source": [
    "<p></p>\n",
    "\n",
    "<div style=\"border:solid green 2px; padding: 20px\">\n",
    "    \n",
    "    \n",
    "В ходе предобработки данных мы переименовали столбцы (привели их к змеиному регистру) и перевели даты в соответствующий формат. \n",
    "    \n",
    "   \n",
    "Также мы выяснили, что будем анализировать поведение 1031 пользователя в августе 2019 года.   \n",
    "При этом 5,6% пользователей (58 чел.) попали одновременно в обе группы, что является ошибкой и недопустимо в будущем. В текущем исследовании мы исключить их не можем, т.к. не располагаем персонализированными данными о визитах.\n",
    "    \n",
    "Количество заказов и стоимость заказов распределены ненормально, в данных есть аномальные значения, поэтому для анализа статистической значимости будем в дальнейшем использовать критерий Манна-Уитни.    \n",
    "\n",
    "    \n",
    "За исследуемый период пользователи успели сделать от 1 до 11 заказов. Аномальными будем считать 1% покупателей, сделавших 5 и более заказов.\n",
    "    \n",
    "Стоимость заказов варьируется от 50 у.е. до 1,3 млн. у.е. Аномальными будем считать заказы стоимостью более 30 тыс. у.е. (это чуть менее 5% заказов).\n",
    "    \n",
    "Статистики в дальнейшем рассчитаем как для сырых, так и для очищенных от выбросов данных, чтобы понять, как аномалии влияют на показатели.\n",
    " \n",
    "</div>"
   ]
  },
  {
   "cell_type": "markdown",
   "metadata": {},
   "source": [
    "## Приоритизация гипотез"
   ]
  },
  {
   "cell_type": "markdown",
   "metadata": {},
   "source": [
    "Изучим список гипотез и приоритезируем их:"
   ]
  },
  {
   "cell_type": "code",
   "execution_count": 20,
   "metadata": {},
   "outputs": [
    {
     "data": {
      "text/html": [
       "<div>\n",
       "<style scoped>\n",
       "    .dataframe tbody tr th:only-of-type {\n",
       "        vertical-align: middle;\n",
       "    }\n",
       "\n",
       "    .dataframe tbody tr th {\n",
       "        vertical-align: top;\n",
       "    }\n",
       "\n",
       "    .dataframe thead th {\n",
       "        text-align: right;\n",
       "    }\n",
       "</style>\n",
       "<table border=\"1\" class=\"dataframe\">\n",
       "  <thead>\n",
       "    <tr style=\"text-align: right;\">\n",
       "      <th></th>\n",
       "      <th>hypothesis</th>\n",
       "      <th>reach</th>\n",
       "      <th>impact</th>\n",
       "      <th>confidence</th>\n",
       "      <th>efforts</th>\n",
       "    </tr>\n",
       "  </thead>\n",
       "  <tbody>\n",
       "    <tr>\n",
       "      <th>0</th>\n",
       "      <td>Добавить два новых канала привлечения трафика, что позволит привлекать на 30% больше пользователей</td>\n",
       "      <td>3</td>\n",
       "      <td>10</td>\n",
       "      <td>8</td>\n",
       "      <td>6</td>\n",
       "    </tr>\n",
       "    <tr>\n",
       "      <th>1</th>\n",
       "      <td>Запустить собственную службу доставки, что сократит срок доставки заказов</td>\n",
       "      <td>2</td>\n",
       "      <td>5</td>\n",
       "      <td>4</td>\n",
       "      <td>10</td>\n",
       "    </tr>\n",
       "    <tr>\n",
       "      <th>2</th>\n",
       "      <td>Добавить блоки рекомендаций товаров на сайт интернет магазина, чтобы повысить конверсию и средний чек заказа</td>\n",
       "      <td>8</td>\n",
       "      <td>3</td>\n",
       "      <td>7</td>\n",
       "      <td>3</td>\n",
       "    </tr>\n",
       "    <tr>\n",
       "      <th>3</th>\n",
       "      <td>Изменить структура категорий, что увеличит конверсию, т.к. пользователи быстрее найдут нужный товар</td>\n",
       "      <td>8</td>\n",
       "      <td>3</td>\n",
       "      <td>3</td>\n",
       "      <td>8</td>\n",
       "    </tr>\n",
       "    <tr>\n",
       "      <th>4</th>\n",
       "      <td>Изменить цвет фона главной страницы, чтобы увеличить вовлеченность пользователей</td>\n",
       "      <td>3</td>\n",
       "      <td>1</td>\n",
       "      <td>1</td>\n",
       "      <td>1</td>\n",
       "    </tr>\n",
       "    <tr>\n",
       "      <th>5</th>\n",
       "      <td>Добавить страницу отзывов клиентов о магазине, что позволит увеличить количество заказов</td>\n",
       "      <td>3</td>\n",
       "      <td>2</td>\n",
       "      <td>2</td>\n",
       "      <td>3</td>\n",
       "    </tr>\n",
       "    <tr>\n",
       "      <th>6</th>\n",
       "      <td>Показать на главной странице баннеры с актуальными акциями и распродажами, чтобы увеличить конверсию</td>\n",
       "      <td>5</td>\n",
       "      <td>3</td>\n",
       "      <td>8</td>\n",
       "      <td>3</td>\n",
       "    </tr>\n",
       "    <tr>\n",
       "      <th>7</th>\n",
       "      <td>Добавить форму подписки на все основные страницы, чтобы собрать базу клиентов для email-рассылок</td>\n",
       "      <td>10</td>\n",
       "      <td>7</td>\n",
       "      <td>8</td>\n",
       "      <td>5</td>\n",
       "    </tr>\n",
       "    <tr>\n",
       "      <th>8</th>\n",
       "      <td>Запустить акцию, дающую скидку на товар в день рождения</td>\n",
       "      <td>1</td>\n",
       "      <td>9</td>\n",
       "      <td>9</td>\n",
       "      <td>5</td>\n",
       "    </tr>\n",
       "  </tbody>\n",
       "</table>\n",
       "</div>"
      ],
      "text/plain": [
       "                                                                                                     hypothesis  \\\n",
       "0            Добавить два новых канала привлечения трафика, что позволит привлекать на 30% больше пользователей   \n",
       "1                                     Запустить собственную службу доставки, что сократит срок доставки заказов   \n",
       "2  Добавить блоки рекомендаций товаров на сайт интернет магазина, чтобы повысить конверсию и средний чек заказа   \n",
       "3           Изменить структура категорий, что увеличит конверсию, т.к. пользователи быстрее найдут нужный товар   \n",
       "4                              Изменить цвет фона главной страницы, чтобы увеличить вовлеченность пользователей   \n",
       "5                      Добавить страницу отзывов клиентов о магазине, что позволит увеличить количество заказов   \n",
       "6          Показать на главной странице баннеры с актуальными акциями и распродажами, чтобы увеличить конверсию   \n",
       "7              Добавить форму подписки на все основные страницы, чтобы собрать базу клиентов для email-рассылок   \n",
       "8                                                       Запустить акцию, дающую скидку на товар в день рождения   \n",
       "\n",
       "   reach  impact  confidence  efforts  \n",
       "0      3      10           8        6  \n",
       "1      2       5           4       10  \n",
       "2      8       3           7        3  \n",
       "3      8       3           3        8  \n",
       "4      3       1           1        1  \n",
       "5      3       2           2        3  \n",
       "6      5       3           8        3  \n",
       "7     10       7           8        5  \n",
       "8      1       9           9        5  "
      ]
     },
     "execution_count": 20,
     "metadata": {},
     "output_type": "execute_result"
    }
   ],
   "source": [
    "hypothesis"
   ]
  },
  {
   "cell_type": "markdown",
   "metadata": {},
   "source": [
    "### Приоритизация гипотез методом ICE"
   ]
  },
  {
   "cell_type": "markdown",
   "metadata": {},
   "source": [
    "Формула для приоретизации методом ICE выглядит следующим образом:\n",
    "\n",
    "$$ICE  score = \\frac{Impact * Confidence}{Efforts}$$"
   ]
  },
  {
   "cell_type": "code",
   "execution_count": 21,
   "metadata": {
    "scrolled": true
   },
   "outputs": [
    {
     "data": {
      "text/html": [
       "<div>\n",
       "<style scoped>\n",
       "    .dataframe tbody tr th:only-of-type {\n",
       "        vertical-align: middle;\n",
       "    }\n",
       "\n",
       "    .dataframe tbody tr th {\n",
       "        vertical-align: top;\n",
       "    }\n",
       "\n",
       "    .dataframe thead th {\n",
       "        text-align: right;\n",
       "    }\n",
       "</style>\n",
       "<table border=\"1\" class=\"dataframe\">\n",
       "  <thead>\n",
       "    <tr style=\"text-align: right;\">\n",
       "      <th></th>\n",
       "      <th>hypothesis</th>\n",
       "      <th>reach</th>\n",
       "      <th>impact</th>\n",
       "      <th>confidence</th>\n",
       "      <th>efforts</th>\n",
       "      <th>ice_score</th>\n",
       "    </tr>\n",
       "  </thead>\n",
       "  <tbody>\n",
       "    <tr>\n",
       "      <th>8</th>\n",
       "      <td>Запустить акцию, дающую скидку на товар в день рождения</td>\n",
       "      <td>1</td>\n",
       "      <td>9</td>\n",
       "      <td>9</td>\n",
       "      <td>5</td>\n",
       "      <td>16.2</td>\n",
       "    </tr>\n",
       "    <tr>\n",
       "      <th>0</th>\n",
       "      <td>Добавить два новых канала привлечения трафика, что позволит привлекать на 30% больше пользователей</td>\n",
       "      <td>3</td>\n",
       "      <td>10</td>\n",
       "      <td>8</td>\n",
       "      <td>6</td>\n",
       "      <td>13.3</td>\n",
       "    </tr>\n",
       "    <tr>\n",
       "      <th>7</th>\n",
       "      <td>Добавить форму подписки на все основные страницы, чтобы собрать базу клиентов для email-рассылок</td>\n",
       "      <td>10</td>\n",
       "      <td>7</td>\n",
       "      <td>8</td>\n",
       "      <td>5</td>\n",
       "      <td>11.2</td>\n",
       "    </tr>\n",
       "    <tr>\n",
       "      <th>6</th>\n",
       "      <td>Показать на главной странице баннеры с актуальными акциями и распродажами, чтобы увеличить конверсию</td>\n",
       "      <td>5</td>\n",
       "      <td>3</td>\n",
       "      <td>8</td>\n",
       "      <td>3</td>\n",
       "      <td>8.0</td>\n",
       "    </tr>\n",
       "    <tr>\n",
       "      <th>2</th>\n",
       "      <td>Добавить блоки рекомендаций товаров на сайт интернет магазина, чтобы повысить конверсию и средний чек заказа</td>\n",
       "      <td>8</td>\n",
       "      <td>3</td>\n",
       "      <td>7</td>\n",
       "      <td>3</td>\n",
       "      <td>7.0</td>\n",
       "    </tr>\n",
       "    <tr>\n",
       "      <th>1</th>\n",
       "      <td>Запустить собственную службу доставки, что сократит срок доставки заказов</td>\n",
       "      <td>2</td>\n",
       "      <td>5</td>\n",
       "      <td>4</td>\n",
       "      <td>10</td>\n",
       "      <td>2.0</td>\n",
       "    </tr>\n",
       "    <tr>\n",
       "      <th>5</th>\n",
       "      <td>Добавить страницу отзывов клиентов о магазине, что позволит увеличить количество заказов</td>\n",
       "      <td>3</td>\n",
       "      <td>2</td>\n",
       "      <td>2</td>\n",
       "      <td>3</td>\n",
       "      <td>1.3</td>\n",
       "    </tr>\n",
       "    <tr>\n",
       "      <th>3</th>\n",
       "      <td>Изменить структура категорий, что увеличит конверсию, т.к. пользователи быстрее найдут нужный товар</td>\n",
       "      <td>8</td>\n",
       "      <td>3</td>\n",
       "      <td>3</td>\n",
       "      <td>8</td>\n",
       "      <td>1.1</td>\n",
       "    </tr>\n",
       "    <tr>\n",
       "      <th>4</th>\n",
       "      <td>Изменить цвет фона главной страницы, чтобы увеличить вовлеченность пользователей</td>\n",
       "      <td>3</td>\n",
       "      <td>1</td>\n",
       "      <td>1</td>\n",
       "      <td>1</td>\n",
       "      <td>1.0</td>\n",
       "    </tr>\n",
       "  </tbody>\n",
       "</table>\n",
       "</div>"
      ],
      "text/plain": [
       "                                                                                                     hypothesis  \\\n",
       "8                                                       Запустить акцию, дающую скидку на товар в день рождения   \n",
       "0            Добавить два новых канала привлечения трафика, что позволит привлекать на 30% больше пользователей   \n",
       "7              Добавить форму подписки на все основные страницы, чтобы собрать базу клиентов для email-рассылок   \n",
       "6          Показать на главной странице баннеры с актуальными акциями и распродажами, чтобы увеличить конверсию   \n",
       "2  Добавить блоки рекомендаций товаров на сайт интернет магазина, чтобы повысить конверсию и средний чек заказа   \n",
       "1                                     Запустить собственную службу доставки, что сократит срок доставки заказов   \n",
       "5                      Добавить страницу отзывов клиентов о магазине, что позволит увеличить количество заказов   \n",
       "3           Изменить структура категорий, что увеличит конверсию, т.к. пользователи быстрее найдут нужный товар   \n",
       "4                              Изменить цвет фона главной страницы, чтобы увеличить вовлеченность пользователей   \n",
       "\n",
       "   reach  impact  confidence  efforts  ice_score  \n",
       "8      1       9           9        5       16.2  \n",
       "0      3      10           8        6       13.3  \n",
       "7     10       7           8        5       11.2  \n",
       "6      5       3           8        3        8.0  \n",
       "2      8       3           7        3        7.0  \n",
       "1      2       5           4       10        2.0  \n",
       "5      3       2           2        3        1.3  \n",
       "3      8       3           3        8        1.1  \n",
       "4      3       1           1        1        1.0  "
      ]
     },
     "execution_count": 21,
     "metadata": {},
     "output_type": "execute_result"
    }
   ],
   "source": [
    "hypothesis['ice_score'] = round(hypothesis['impact'] * hypothesis['confidence'] / hypothesis['efforts'],1)\n",
    "hypothesis.sort_values(by='ice_score', ascending=False)"
   ]
  },
  {
   "cell_type": "markdown",
   "metadata": {},
   "source": [
    "Побеждает гипотеза о запуске акции. Мы уверены (на 9 из 10 - это самый высокий балл среди всех гипотез), что скидка на товар в день рождения будет способствовать увеличению количества заказов, а значит и выручки. И изменение поведения именинников мы тоже оцениваем на 9 из 10 - это второе место в нашем списке. При этом стоимость тестирования средняя - 5 из 10."
   ]
  },
  {
   "cell_type": "markdown",
   "metadata": {},
   "source": [
    "### Приоритизация гипотез методом RICE"
   ]
  },
  {
   "cell_type": "markdown",
   "metadata": {},
   "source": [
    "Посмотрим теперь на рейтинг гипотез с учетом охвата пользователей:\n",
    "\n",
    "$$RICE  score = \\frac{Reach * Impact * Confidence}{Efforts}$$"
   ]
  },
  {
   "cell_type": "code",
   "execution_count": 22,
   "metadata": {},
   "outputs": [
    {
     "data": {
      "text/html": [
       "<div>\n",
       "<style scoped>\n",
       "    .dataframe tbody tr th:only-of-type {\n",
       "        vertical-align: middle;\n",
       "    }\n",
       "\n",
       "    .dataframe tbody tr th {\n",
       "        vertical-align: top;\n",
       "    }\n",
       "\n",
       "    .dataframe thead th {\n",
       "        text-align: right;\n",
       "    }\n",
       "</style>\n",
       "<table border=\"1\" class=\"dataframe\">\n",
       "  <thead>\n",
       "    <tr style=\"text-align: right;\">\n",
       "      <th></th>\n",
       "      <th>hypothesis</th>\n",
       "      <th>reach</th>\n",
       "      <th>impact</th>\n",
       "      <th>confidence</th>\n",
       "      <th>efforts</th>\n",
       "      <th>ice_score</th>\n",
       "      <th>rice_score</th>\n",
       "    </tr>\n",
       "  </thead>\n",
       "  <tbody>\n",
       "    <tr>\n",
       "      <th>7</th>\n",
       "      <td>Добавить форму подписки на все основные страницы, чтобы собрать базу клиентов для email-рассылок</td>\n",
       "      <td>10</td>\n",
       "      <td>7</td>\n",
       "      <td>8</td>\n",
       "      <td>5</td>\n",
       "      <td>11.2</td>\n",
       "      <td>112.0</td>\n",
       "    </tr>\n",
       "    <tr>\n",
       "      <th>2</th>\n",
       "      <td>Добавить блоки рекомендаций товаров на сайт интернет магазина, чтобы повысить конверсию и средний чек заказа</td>\n",
       "      <td>8</td>\n",
       "      <td>3</td>\n",
       "      <td>7</td>\n",
       "      <td>3</td>\n",
       "      <td>7.0</td>\n",
       "      <td>56.0</td>\n",
       "    </tr>\n",
       "    <tr>\n",
       "      <th>0</th>\n",
       "      <td>Добавить два новых канала привлечения трафика, что позволит привлекать на 30% больше пользователей</td>\n",
       "      <td>3</td>\n",
       "      <td>10</td>\n",
       "      <td>8</td>\n",
       "      <td>6</td>\n",
       "      <td>13.3</td>\n",
       "      <td>40.0</td>\n",
       "    </tr>\n",
       "    <tr>\n",
       "      <th>6</th>\n",
       "      <td>Показать на главной странице баннеры с актуальными акциями и распродажами, чтобы увеличить конверсию</td>\n",
       "      <td>5</td>\n",
       "      <td>3</td>\n",
       "      <td>8</td>\n",
       "      <td>3</td>\n",
       "      <td>8.0</td>\n",
       "      <td>40.0</td>\n",
       "    </tr>\n",
       "    <tr>\n",
       "      <th>8</th>\n",
       "      <td>Запустить акцию, дающую скидку на товар в день рождения</td>\n",
       "      <td>1</td>\n",
       "      <td>9</td>\n",
       "      <td>9</td>\n",
       "      <td>5</td>\n",
       "      <td>16.2</td>\n",
       "      <td>16.2</td>\n",
       "    </tr>\n",
       "    <tr>\n",
       "      <th>3</th>\n",
       "      <td>Изменить структура категорий, что увеличит конверсию, т.к. пользователи быстрее найдут нужный товар</td>\n",
       "      <td>8</td>\n",
       "      <td>3</td>\n",
       "      <td>3</td>\n",
       "      <td>8</td>\n",
       "      <td>1.1</td>\n",
       "      <td>9.0</td>\n",
       "    </tr>\n",
       "    <tr>\n",
       "      <th>1</th>\n",
       "      <td>Запустить собственную службу доставки, что сократит срок доставки заказов</td>\n",
       "      <td>2</td>\n",
       "      <td>5</td>\n",
       "      <td>4</td>\n",
       "      <td>10</td>\n",
       "      <td>2.0</td>\n",
       "      <td>4.0</td>\n",
       "    </tr>\n",
       "    <tr>\n",
       "      <th>5</th>\n",
       "      <td>Добавить страницу отзывов клиентов о магазине, что позволит увеличить количество заказов</td>\n",
       "      <td>3</td>\n",
       "      <td>2</td>\n",
       "      <td>2</td>\n",
       "      <td>3</td>\n",
       "      <td>1.3</td>\n",
       "      <td>4.0</td>\n",
       "    </tr>\n",
       "    <tr>\n",
       "      <th>4</th>\n",
       "      <td>Изменить цвет фона главной страницы, чтобы увеличить вовлеченность пользователей</td>\n",
       "      <td>3</td>\n",
       "      <td>1</td>\n",
       "      <td>1</td>\n",
       "      <td>1</td>\n",
       "      <td>1.0</td>\n",
       "      <td>3.0</td>\n",
       "    </tr>\n",
       "  </tbody>\n",
       "</table>\n",
       "</div>"
      ],
      "text/plain": [
       "                                                                                                     hypothesis  \\\n",
       "7              Добавить форму подписки на все основные страницы, чтобы собрать базу клиентов для email-рассылок   \n",
       "2  Добавить блоки рекомендаций товаров на сайт интернет магазина, чтобы повысить конверсию и средний чек заказа   \n",
       "0            Добавить два новых канала привлечения трафика, что позволит привлекать на 30% больше пользователей   \n",
       "6          Показать на главной странице баннеры с актуальными акциями и распродажами, чтобы увеличить конверсию   \n",
       "8                                                       Запустить акцию, дающую скидку на товар в день рождения   \n",
       "3           Изменить структура категорий, что увеличит конверсию, т.к. пользователи быстрее найдут нужный товар   \n",
       "1                                     Запустить собственную службу доставки, что сократит срок доставки заказов   \n",
       "5                      Добавить страницу отзывов клиентов о магазине, что позволит увеличить количество заказов   \n",
       "4                              Изменить цвет фона главной страницы, чтобы увеличить вовлеченность пользователей   \n",
       "\n",
       "   reach  impact  confidence  efforts  ice_score  rice_score  \n",
       "7     10       7           8        5       11.2       112.0  \n",
       "2      8       3           7        3        7.0        56.0  \n",
       "0      3      10           8        6       13.3        40.0  \n",
       "6      5       3           8        3        8.0        40.0  \n",
       "8      1       9           9        5       16.2        16.2  \n",
       "3      8       3           3        8        1.1         9.0  \n",
       "1      2       5           4       10        2.0         4.0  \n",
       "5      3       2           2        3        1.3         4.0  \n",
       "4      3       1           1        1        1.0         3.0  "
      ]
     },
     "execution_count": 22,
     "metadata": {},
     "output_type": "execute_result"
    }
   ],
   "source": [
    "hypothesis['rice_score'] = round(\n",
    "    hypothesis['reach'] * hypothesis['impact'] * hypothesis['confidence'] / hypothesis['efforts'],1\n",
    ")\n",
    "hypothesis.sort_values(by='rice_score', ascending=False)"
   ]
  },
  {
   "cell_type": "markdown",
   "metadata": {},
   "source": [
    "На первое место вышла гипотеза о добавлении формы подписки. У данной гипотезы максимальный охват (10 из 10), выше среднего влияние (7) и уверенность (8), при этом требуются средние усилия(5). В предыдущем рейтинге она была на 3-м месте.\n",
    "\n",
    "А гипотеза об акции со скидкой на день рождения опустилась на 5 место за счет минимального охвата (1 из 10). \n",
    "\n",
    "Доля именинников среди посетителей каждый день будет незначительна. В то время как подписаться на рассылки сможет любой желающий в любое время."
   ]
  },
  {
   "cell_type": "markdown",
   "metadata": {},
   "source": [
    "### Вывод"
   ]
  },
  {
   "cell_type": "markdown",
   "metadata": {},
   "source": [
    "<p></p>\n",
    "\n",
    "<div style=\"border:solid green 2px; padding: 20px\">\n",
    "Для тестирования в первую очередь мы выбрали гипотезу с максимальным охватом пользователей, достаточно высокими влиянием и уверенностью, требующую средних усилий: \n",
    "    \n",
    "**Добавить форму подписки на все основные страницы, чтобы собрать базу клиентов для email-рассылок**.\n",
    " \n",
    "</div>"
   ]
  },
  {
   "cell_type": "markdown",
   "metadata": {},
   "source": [
    "## Анализ А/В-теста"
   ]
  },
  {
   "cell_type": "markdown",
   "metadata": {},
   "source": [
    "Мы провели А/В-тест и получили 2 датасета:"
   ]
  },
  {
   "cell_type": "code",
   "execution_count": 23,
   "metadata": {},
   "outputs": [
    {
     "data": {
      "text/html": [
       "<div>\n",
       "<style scoped>\n",
       "    .dataframe tbody tr th:only-of-type {\n",
       "        vertical-align: middle;\n",
       "    }\n",
       "\n",
       "    .dataframe tbody tr th {\n",
       "        vertical-align: top;\n",
       "    }\n",
       "\n",
       "    .dataframe thead th {\n",
       "        text-align: right;\n",
       "    }\n",
       "</style>\n",
       "<table border=\"1\" class=\"dataframe\">\n",
       "  <thead>\n",
       "    <tr style=\"text-align: right;\">\n",
       "      <th></th>\n",
       "      <th>transaction_id</th>\n",
       "      <th>visitor_id</th>\n",
       "      <th>date</th>\n",
       "      <th>revenue</th>\n",
       "      <th>group</th>\n",
       "    </tr>\n",
       "  </thead>\n",
       "  <tbody>\n",
       "    <tr>\n",
       "      <th>0</th>\n",
       "      <td>3667963787</td>\n",
       "      <td>3312258926</td>\n",
       "      <td>2019-08-15</td>\n",
       "      <td>1650</td>\n",
       "      <td>B</td>\n",
       "    </tr>\n",
       "    <tr>\n",
       "      <th>1</th>\n",
       "      <td>2804400009</td>\n",
       "      <td>3642806036</td>\n",
       "      <td>2019-08-15</td>\n",
       "      <td>730</td>\n",
       "      <td>B</td>\n",
       "    </tr>\n",
       "    <tr>\n",
       "      <th>2</th>\n",
       "      <td>2961555356</td>\n",
       "      <td>4069496402</td>\n",
       "      <td>2019-08-15</td>\n",
       "      <td>400</td>\n",
       "      <td>A</td>\n",
       "    </tr>\n",
       "  </tbody>\n",
       "</table>\n",
       "</div>"
      ],
      "text/plain": [
       "   transaction_id  visitor_id       date  revenue group\n",
       "0      3667963787  3312258926 2019-08-15     1650     B\n",
       "1      2804400009  3642806036 2019-08-15      730     B\n",
       "2      2961555356  4069496402 2019-08-15      400     A"
      ]
     },
     "metadata": {},
     "output_type": "display_data"
    },
    {
     "data": {
      "text/html": [
       "<div>\n",
       "<style scoped>\n",
       "    .dataframe tbody tr th:only-of-type {\n",
       "        vertical-align: middle;\n",
       "    }\n",
       "\n",
       "    .dataframe tbody tr th {\n",
       "        vertical-align: top;\n",
       "    }\n",
       "\n",
       "    .dataframe thead th {\n",
       "        text-align: right;\n",
       "    }\n",
       "</style>\n",
       "<table border=\"1\" class=\"dataframe\">\n",
       "  <thead>\n",
       "    <tr style=\"text-align: right;\">\n",
       "      <th></th>\n",
       "      <th>date</th>\n",
       "      <th>group</th>\n",
       "      <th>visitors</th>\n",
       "    </tr>\n",
       "  </thead>\n",
       "  <tbody>\n",
       "    <tr>\n",
       "      <th>0</th>\n",
       "      <td>2019-08-01</td>\n",
       "      <td>A</td>\n",
       "      <td>719</td>\n",
       "    </tr>\n",
       "    <tr>\n",
       "      <th>1</th>\n",
       "      <td>2019-08-02</td>\n",
       "      <td>A</td>\n",
       "      <td>619</td>\n",
       "    </tr>\n",
       "    <tr>\n",
       "      <th>2</th>\n",
       "      <td>2019-08-03</td>\n",
       "      <td>A</td>\n",
       "      <td>507</td>\n",
       "    </tr>\n",
       "  </tbody>\n",
       "</table>\n",
       "</div>"
      ],
      "text/plain": [
       "        date group  visitors\n",
       "0 2019-08-01     A       719\n",
       "1 2019-08-02     A       619\n",
       "2 2019-08-03     A       507"
      ]
     },
     "metadata": {},
     "output_type": "display_data"
    }
   ],
   "source": [
    "display(orders.head(3), visitors.head(3))"
   ]
  },
  {
   "cell_type": "markdown",
   "metadata": {},
   "source": [
    "Создадим таблицу с кумулятивными данными:"
   ]
  },
  {
   "cell_type": "code",
   "execution_count": 24,
   "metadata": {},
   "outputs": [
    {
     "data": {
      "text/html": [
       "<div>\n",
       "<style scoped>\n",
       "    .dataframe tbody tr th:only-of-type {\n",
       "        vertical-align: middle;\n",
       "    }\n",
       "\n",
       "    .dataframe tbody tr th {\n",
       "        vertical-align: top;\n",
       "    }\n",
       "\n",
       "    .dataframe thead th {\n",
       "        text-align: right;\n",
       "    }\n",
       "</style>\n",
       "<table border=\"1\" class=\"dataframe\">\n",
       "  <thead>\n",
       "    <tr style=\"text-align: right;\">\n",
       "      <th></th>\n",
       "      <th>date</th>\n",
       "      <th>group</th>\n",
       "      <th>orders</th>\n",
       "      <th>buyers</th>\n",
       "      <th>revenue</th>\n",
       "      <th>visitors</th>\n",
       "    </tr>\n",
       "  </thead>\n",
       "  <tbody>\n",
       "    <tr>\n",
       "      <th>0</th>\n",
       "      <td>2019-08-01</td>\n",
       "      <td>A</td>\n",
       "      <td>24</td>\n",
       "      <td>20</td>\n",
       "      <td>148579</td>\n",
       "      <td>719</td>\n",
       "    </tr>\n",
       "    <tr>\n",
       "      <th>1</th>\n",
       "      <td>2019-08-01</td>\n",
       "      <td>B</td>\n",
       "      <td>21</td>\n",
       "      <td>20</td>\n",
       "      <td>101217</td>\n",
       "      <td>713</td>\n",
       "    </tr>\n",
       "    <tr>\n",
       "      <th>2</th>\n",
       "      <td>2019-08-02</td>\n",
       "      <td>A</td>\n",
       "      <td>44</td>\n",
       "      <td>38</td>\n",
       "      <td>242401</td>\n",
       "      <td>1338</td>\n",
       "    </tr>\n",
       "    <tr>\n",
       "      <th>3</th>\n",
       "      <td>2019-08-02</td>\n",
       "      <td>B</td>\n",
       "      <td>45</td>\n",
       "      <td>43</td>\n",
       "      <td>266748</td>\n",
       "      <td>1294</td>\n",
       "    </tr>\n",
       "    <tr>\n",
       "      <th>4</th>\n",
       "      <td>2019-08-03</td>\n",
       "      <td>A</td>\n",
       "      <td>68</td>\n",
       "      <td>62</td>\n",
       "      <td>354874</td>\n",
       "      <td>1845</td>\n",
       "    </tr>\n",
       "  </tbody>\n",
       "</table>\n",
       "</div>"
      ],
      "text/plain": [
       "        date group  orders  buyers  revenue  visitors\n",
       "0 2019-08-01     A      24      20   148579       719\n",
       "1 2019-08-01     B      21      20   101217       713\n",
       "2 2019-08-02     A      44      38   242401      1338\n",
       "3 2019-08-02     B      45      43   266748      1294\n",
       "4 2019-08-03     A      68      62   354874      1845"
      ]
     },
     "execution_count": 24,
     "metadata": {},
     "output_type": "execute_result"
    }
   ],
   "source": [
    "# создаем массив уникальных пар значений дат и групп теста\n",
    "dates_groups = orders[['date','group']].drop_duplicates()\n",
    "\n",
    "# получаем агрегированные кумулятивные по дням данные о заказах \n",
    "orders_agg = dates_groups.apply(lambda x: orders[np.logical_and(orders['date'] <= x['date'],\\\n",
    "                                                                     orders['group'] == x['group'])]\\\n",
    "                                     .agg({'date' : 'max', 'group' : 'max', 'transaction_id' : 'nunique', \\\n",
    "                                           'visitor_id' : 'nunique', 'revenue' : 'sum'}), axis=1)\\\n",
    "                                     .sort_values(by=['date','group'])\n",
    "\n",
    "# получаем агрегированные кумулятивные по дням данные о посетителях интернет-магазина \n",
    "visitors_agg = dates_groups.apply(lambda x: visitors[np.logical_and(visitors['date'] <= x['date'],\\\n",
    "                                                                         visitors['group'] == x['group'])]\\\n",
    "                                       .agg({'date' : 'max', 'group' : 'max', 'visitors' : 'sum'}), axis=1)\\\n",
    "                                       .sort_values(by=['date','group'])\n",
    "\n",
    "# объединяем кумулятивные данные в одной таблице и присваиваем ее столбцам понятные названия\n",
    "cum_data = orders_agg.merge(visitors_agg, left_on=['date', 'group'], right_on=['date', 'group'])\n",
    "cum_data.columns = ['date', 'group', 'orders', 'buyers', 'revenue', 'visitors']\n",
    "\n",
    "cum_data.head()"
   ]
  },
  {
   "cell_type": "markdown",
   "metadata": {},
   "source": [
    "### Кумулятивная выручка"
   ]
  },
  {
   "cell_type": "markdown",
   "metadata": {},
   "source": [
    "Построим графики кумулятивной выручки по дням:"
   ]
  },
  {
   "cell_type": "code",
   "execution_count": 25,
   "metadata": {},
   "outputs": [
    {
     "data": {
      "image/png": "[encoded data removed]",
      "text/plain": [
       "<Figure size 864x360 with 1 Axes>"
      ]
     },
     "metadata": {
      "needs_background": "light"
     },
     "output_type": "display_data"
    }
   ],
   "source": [
    "# датафрейм с кумулятивным количеством заказов и кумулятивной выручкой по дням в группе А\n",
    "cum_revenue_a = cum_data[cum_data['group']=='A'][['date','revenue', 'orders']]\n",
    "\n",
    "# датафрейм с кумулятивным количеством заказов и кумулятивной выручкой по дням в группе B\n",
    "cum_revenue_b = cum_data[cum_data['group']=='B'][['date','revenue', 'orders']]\n",
    "\n",
    "# Строим график выручки группы А\n",
    "plt.figure(figsize=(12,5))\n",
    "plt.plot(cum_revenue_a['date'], cum_revenue_a['revenue'], label='A')\n",
    "\n",
    "# Строим график выручки группы B\n",
    "plt.plot(cum_revenue_b['date'], cum_revenue_b['revenue'], label='B')\n",
    "plt.legend()\n",
    "plt.title('Кумулятивная выручка по дням (сырые данные)')\n",
    "plt.xlabel('Дата')\n",
    "plt.ylabel('Сумма выручки, млн. у.е.')\n",
    "plt.grid()\n",
    "plt.show()"
   ]
  },
  {
   "cell_type": "markdown",
   "metadata": {},
   "source": [
    "Выручка группы А равномерно растет весь период. Выручка группы В практически весь месяц больше, т.е. результат у группы В очевидно лучше, чем у группы А.\n",
    "\n",
    "Однако в районе 19.08.2019 наблюдаем резкий рост на графике группы В - похоже что как раз сюда попал аномальный заказ стоимостью 1,3 млн. у.е. "
   ]
  },
  {
   "cell_type": "markdown",
   "metadata": {},
   "source": [
    "### Кумулятивный средний чек"
   ]
  },
  {
   "cell_type": "markdown",
   "metadata": {},
   "source": [
    "Построим графики среднего чека для каждой группы:"
   ]
  },
  {
   "cell_type": "code",
   "execution_count": 26,
   "metadata": {},
   "outputs": [
    {
     "data": {
      "image/png": "[encoded data removed]",
      "text/plain": [
       "<Figure size 864x360 with 1 Axes>"
      ]
     },
     "metadata": {
      "needs_background": "light"
     },
     "output_type": "display_data"
    }
   ],
   "source": [
    "plt.figure(figsize=(12,5))\n",
    "plt.plot(cum_revenue_a['date'], cum_revenue_a['revenue']/cum_revenue_a['orders'], label='A')\n",
    "plt.plot(cum_revenue_b['date'], cum_revenue_b['revenue']/cum_revenue_b['orders'], label='B')\n",
    "plt.legend()\n",
    "plt.title('Кумулятивный средний чек по дням (сырые данные)')\n",
    "plt.xlabel('Дата')\n",
    "plt.ylabel('Средний чек, у.е.')\n",
    "plt.grid()\n",
    "plt.show()"
   ]
  },
  {
   "cell_type": "markdown",
   "metadata": {},
   "source": [
    "Для группы А средний чек стабилизировался во второй половине месяца и после стабилизации был все время ниже среднего чека группы В.\n",
    "\n",
    "Но следует отметить, что у группы В 19.08.2019 видим резкий рост среднего чека, свидетельствующий об одном или нескольких нетипично крупных заказах. Их влияние к концу периода постепенно снижается, но чтобы \"нейтрализовать\" такой большой скачок потребуется далеко не один месяц."
   ]
  },
  {
   "cell_type": "markdown",
   "metadata": {},
   "source": [
    "Построим график относительного изменения кумулятивного среднего чека группы B к группе A."
   ]
  },
  {
   "cell_type": "code",
   "execution_count": 27,
   "metadata": {},
   "outputs": [
    {
     "data": {
      "image/png": "[encoded data removed]",
      "text/plain": [
       "<Figure size 864x360 with 1 Axes>"
      ]
     },
     "metadata": {
      "needs_background": "light"
     },
     "output_type": "display_data"
    }
   ],
   "source": [
    "# собираем данные в одном датафрейме\n",
    "merged_сum_revenue = cum_revenue_a.merge(cum_revenue_b, left_on='date', right_on='date', \n",
    "                                         how='left', suffixes=['_A', '_B'])\n",
    "\n",
    "# cтроим отношение средних чеков\n",
    "plt.figure(figsize=(12,5))\n",
    "plt.plot(merged_сum_revenue['date'], \n",
    "         (merged_сum_revenue['revenue_B']/merged_сum_revenue['orders_B'])\n",
    "         /(merged_сum_revenue['revenue_A']/merged_сum_revenue['orders_A'])-1)\n",
    "\n",
    "# добавляем ось X\n",
    "plt.axhline(y=0, color='black', linestyle='--')\n",
    "\n",
    "plt.title('Относительный прирост среднего чека В к среднему чеку А (сырые данные)')\n",
    "plt.xlabel('Дата')\n",
    "plt.ylabel('Прирост')\n",
    "plt.grid()\n",
    "plt.show()"
   ]
  },
  {
   "cell_type": "markdown",
   "metadata": {},
   "source": [
    "БОльшую часть анализируемого периода средний чек группы В был выше среднего чека группы А. Резкие скачки графика  - это влияние выбросов."
   ]
  },
  {
   "cell_type": "markdown",
   "metadata": {},
   "source": [
    "### Кумулятивная конверсия"
   ]
  },
  {
   "cell_type": "markdown",
   "metadata": {},
   "source": [
    "Изучим кумулятивную конверсию:"
   ]
  },
  {
   "cell_type": "code",
   "execution_count": 28,
   "metadata": {},
   "outputs": [
    {
     "data": {
      "image/png": "[encoded data removed]",
      "text/plain": [
       "<Figure size 864x360 with 1 Axes>"
      ]
     },
     "metadata": {
      "needs_background": "light"
     },
     "output_type": "display_data"
    }
   ],
   "source": [
    "# считаем кумулятивную конверсию\n",
    "cum_data['conversion'] = cum_data['orders']/cum_data['visitors']\n",
    "\n",
    "# отделяем данные по группе A\n",
    "cum_data_a = cum_data[cum_data['group']=='A']\n",
    "\n",
    "# отделяем данные по группе B\n",
    "cum_data_b = cum_data[cum_data['group']=='B']\n",
    "\n",
    "# строим графики\n",
    "plt.figure(figsize=(12,5))\n",
    "plt.plot(cum_data_a['date'], cum_data_a['conversion'], label='A')\n",
    "plt.plot(cum_data_b['date'], cum_data_b['conversion'], label='B')\n",
    "plt.legend()\n",
    "plt.title('Кумулятивная конверсия по дням (сырые данные)')\n",
    "plt.xlabel('Дата')\n",
    "plt.ylabel('Конверсия')\n",
    "plt.grid()\n",
    "plt.show()"
   ]
  },
  {
   "cell_type": "markdown",
   "metadata": {},
   "source": [
    "Конверсия группы В после 6.08.2019 и до конца месяца была выше, чем конверсия группы А. После 10.08.2019 скачки графиков стали менее резкими, конверсия стабилизировалась. "
   ]
  },
  {
   "cell_type": "markdown",
   "metadata": {},
   "source": [
    "Построим график относительного изменения кумулятивной конверсии группы B к группе A:"
   ]
  },
  {
   "cell_type": "code",
   "execution_count": 29,
   "metadata": {},
   "outputs": [
    {
     "data": {
      "image/png": "[encoded data removed]",
      "text/plain": [
       "<Figure size 864x360 with 1 Axes>"
      ]
     },
     "metadata": {
      "needs_background": "light"
     },
     "output_type": "display_data"
    }
   ],
   "source": [
    "merged_сum_сonversions = cum_data_a[['date','conversion']].merge(\n",
    "    cum_data_b[['date','conversion']], left_on='date', right_on='date', how='left', suffixes=['_A', '_B']\n",
    ")\n",
    "\n",
    "plt.figure(figsize=(12,5))\n",
    "plt.plot(merged_сum_сonversions['date'], \n",
    "         merged_сum_сonversions['conversion_B']/merged_сum_сonversions['conversion_A']-1\n",
    "        )\n",
    "plt.title('Относительный прирост конверсии группы B относительно группы A (сырые данные)')\n",
    "plt.axhline(y=0, color='black', linestyle='--')\n",
    "plt.axhline(y=0.1, color='grey', linestyle='--')\n",
    "plt.xlabel('Дата')\n",
    "plt.ylabel('Прирост')\n",
    "plt.grid()\n",
    "plt.show()"
   ]
  },
  {
   "cell_type": "markdown",
   "metadata": {},
   "source": [
    "Конверсия группы В в последней декаде стабилизировалась на уровне не ниже +10% от конверсии группы А."
   ]
  },
  {
   "cell_type": "markdown",
   "metadata": {},
   "source": [
    "### Анализ статистической значимости на основе сырых данных"
   ]
  },
  {
   "cell_type": "markdown",
   "metadata": {},
   "source": [
    "#### Подготовка данных"
   ]
  },
  {
   "cell_type": "markdown",
   "metadata": {},
   "source": [
    "Подготовим таблицу, содержащую количество заказов, выручку и количество посещений сайта: \n",
    "- за каждый день, \n",
    "- нарастающим итогом с начала месяца,\n",
    "- для каждой группы отдельно\n",
    "\n",
    "Для этого сформируем отдельные мини-таблицы для каждого показателя, а затем объединим их в общую большую таблицу.\n",
    "\n",
    "Начнем с количества посещений сайта, которые мы можем взять из таблицы visitors:"
   ]
  },
  {
   "cell_type": "code",
   "execution_count": 30,
   "metadata": {},
   "outputs": [
    {
     "data": {
      "text/html": [
       "<div>\n",
       "<style scoped>\n",
       "    .dataframe tbody tr th:only-of-type {\n",
       "        vertical-align: middle;\n",
       "    }\n",
       "\n",
       "    .dataframe tbody tr th {\n",
       "        vertical-align: top;\n",
       "    }\n",
       "\n",
       "    .dataframe thead th {\n",
       "        text-align: right;\n",
       "    }\n",
       "</style>\n",
       "<table border=\"1\" class=\"dataframe\">\n",
       "  <thead>\n",
       "    <tr style=\"text-align: right;\">\n",
       "      <th></th>\n",
       "      <th>date</th>\n",
       "      <th>group</th>\n",
       "      <th>visitors</th>\n",
       "    </tr>\n",
       "  </thead>\n",
       "  <tbody>\n",
       "    <tr>\n",
       "      <th>0</th>\n",
       "      <td>2019-08-01</td>\n",
       "      <td>A</td>\n",
       "      <td>719</td>\n",
       "    </tr>\n",
       "    <tr>\n",
       "      <th>1</th>\n",
       "      <td>2019-08-02</td>\n",
       "      <td>A</td>\n",
       "      <td>619</td>\n",
       "    </tr>\n",
       "    <tr>\n",
       "      <th>2</th>\n",
       "      <td>2019-08-03</td>\n",
       "      <td>A</td>\n",
       "      <td>507</td>\n",
       "    </tr>\n",
       "  </tbody>\n",
       "</table>\n",
       "</div>"
      ],
      "text/plain": [
       "        date group  visitors\n",
       "0 2019-08-01     A       719\n",
       "1 2019-08-02     A       619\n",
       "2 2019-08-03     A       507"
      ]
     },
     "execution_count": 30,
     "metadata": {},
     "output_type": "execute_result"
    }
   ],
   "source": [
    "visitors.head(3)"
   ]
  },
  {
   "cell_type": "code",
   "execution_count": 31,
   "metadata": {},
   "outputs": [
    {
     "data": {
      "text/html": [
       "<div>\n",
       "<style scoped>\n",
       "    .dataframe tbody tr th:only-of-type {\n",
       "        vertical-align: middle;\n",
       "    }\n",
       "\n",
       "    .dataframe tbody tr th {\n",
       "        vertical-align: top;\n",
       "    }\n",
       "\n",
       "    .dataframe thead th {\n",
       "        text-align: right;\n",
       "    }\n",
       "</style>\n",
       "<table border=\"1\" class=\"dataframe\">\n",
       "  <thead>\n",
       "    <tr style=\"text-align: right;\">\n",
       "      <th></th>\n",
       "      <th>date</th>\n",
       "      <th>visitors_per_date_A</th>\n",
       "    </tr>\n",
       "  </thead>\n",
       "  <tbody>\n",
       "    <tr>\n",
       "      <th>0</th>\n",
       "      <td>2019-08-01</td>\n",
       "      <td>719</td>\n",
       "    </tr>\n",
       "    <tr>\n",
       "      <th>1</th>\n",
       "      <td>2019-08-02</td>\n",
       "      <td>619</td>\n",
       "    </tr>\n",
       "  </tbody>\n",
       "</table>\n",
       "</div>"
      ],
      "text/plain": [
       "        date  visitors_per_date_A\n",
       "0 2019-08-01                  719\n",
       "1 2019-08-02                  619"
      ]
     },
     "metadata": {},
     "output_type": "display_data"
    },
    {
     "data": {
      "text/html": [
       "<div>\n",
       "<style scoped>\n",
       "    .dataframe tbody tr th:only-of-type {\n",
       "        vertical-align: middle;\n",
       "    }\n",
       "\n",
       "    .dataframe tbody tr th {\n",
       "        vertical-align: top;\n",
       "    }\n",
       "\n",
       "    .dataframe thead th {\n",
       "        text-align: right;\n",
       "    }\n",
       "</style>\n",
       "<table border=\"1\" class=\"dataframe\">\n",
       "  <thead>\n",
       "    <tr style=\"text-align: right;\">\n",
       "      <th></th>\n",
       "      <th>date</th>\n",
       "      <th>visitors_cum_A</th>\n",
       "    </tr>\n",
       "  </thead>\n",
       "  <tbody>\n",
       "    <tr>\n",
       "      <th>0</th>\n",
       "      <td>2019-08-01</td>\n",
       "      <td>719</td>\n",
       "    </tr>\n",
       "    <tr>\n",
       "      <th>1</th>\n",
       "      <td>2019-08-02</td>\n",
       "      <td>1338</td>\n",
       "    </tr>\n",
       "  </tbody>\n",
       "</table>\n",
       "</div>"
      ],
      "text/plain": [
       "        date  visitors_cum_A\n",
       "0 2019-08-01             719\n",
       "1 2019-08-02            1338"
      ]
     },
     "metadata": {},
     "output_type": "display_data"
    },
    {
     "data": {
      "text/html": [
       "<div>\n",
       "<style scoped>\n",
       "    .dataframe tbody tr th:only-of-type {\n",
       "        vertical-align: middle;\n",
       "    }\n",
       "\n",
       "    .dataframe tbody tr th {\n",
       "        vertical-align: top;\n",
       "    }\n",
       "\n",
       "    .dataframe thead th {\n",
       "        text-align: right;\n",
       "    }\n",
       "</style>\n",
       "<table border=\"1\" class=\"dataframe\">\n",
       "  <thead>\n",
       "    <tr style=\"text-align: right;\">\n",
       "      <th></th>\n",
       "      <th>date</th>\n",
       "      <th>visitors_per_date_B</th>\n",
       "    </tr>\n",
       "  </thead>\n",
       "  <tbody>\n",
       "    <tr>\n",
       "      <th>31</th>\n",
       "      <td>2019-08-01</td>\n",
       "      <td>713</td>\n",
       "    </tr>\n",
       "    <tr>\n",
       "      <th>32</th>\n",
       "      <td>2019-08-02</td>\n",
       "      <td>581</td>\n",
       "    </tr>\n",
       "  </tbody>\n",
       "</table>\n",
       "</div>"
      ],
      "text/plain": [
       "         date  visitors_per_date_B\n",
       "31 2019-08-01                  713\n",
       "32 2019-08-02                  581"
      ]
     },
     "metadata": {},
     "output_type": "display_data"
    },
    {
     "data": {
      "text/html": [
       "<div>\n",
       "<style scoped>\n",
       "    .dataframe tbody tr th:only-of-type {\n",
       "        vertical-align: middle;\n",
       "    }\n",
       "\n",
       "    .dataframe tbody tr th {\n",
       "        vertical-align: top;\n",
       "    }\n",
       "\n",
       "    .dataframe thead th {\n",
       "        text-align: right;\n",
       "    }\n",
       "</style>\n",
       "<table border=\"1\" class=\"dataframe\">\n",
       "  <thead>\n",
       "    <tr style=\"text-align: right;\">\n",
       "      <th></th>\n",
       "      <th>date</th>\n",
       "      <th>visitors_cum_B</th>\n",
       "    </tr>\n",
       "  </thead>\n",
       "  <tbody>\n",
       "    <tr>\n",
       "      <th>31</th>\n",
       "      <td>2019-08-01</td>\n",
       "      <td>713</td>\n",
       "    </tr>\n",
       "    <tr>\n",
       "      <th>32</th>\n",
       "      <td>2019-08-02</td>\n",
       "      <td>1294</td>\n",
       "    </tr>\n",
       "  </tbody>\n",
       "</table>\n",
       "</div>"
      ],
      "text/plain": [
       "         date  visitors_cum_B\n",
       "31 2019-08-01             713\n",
       "32 2019-08-02            1294"
      ]
     },
     "metadata": {},
     "output_type": "display_data"
    }
   ],
   "source": [
    "# таблица с количеством посещений сайта по дням для группы А\n",
    "visitors_a_daily = visitors[visitors['group'] == 'A'][['date', 'visitors']]\n",
    "visitors_a_daily.columns = ['date', 'visitors_per_date_A']\n",
    "\n",
    "# таблица с количеством посещений нарастающим итогом для группы А\n",
    "visitors_a_cum = visitors_a_daily.apply(\n",
    "    lambda x: visitors_a_daily[visitors_a_daily['date'] <= x['date']].agg(\n",
    "        {'date': 'max', 'visitors_per_date_A': 'sum'}\n",
    "    ),\n",
    "    axis=1,\n",
    ")\n",
    "visitors_a_cum.columns = ['date', 'visitors_cum_A']\n",
    "\n",
    "# таблица с количеством посещений сайта по дням для группы B\n",
    "visitors_b_daily = visitors[visitors['group'] == 'B'][['date', 'visitors']]\n",
    "visitors_b_daily.columns = ['date', 'visitors_per_date_B']\n",
    "\n",
    "# таблица с количеством посещений нарастающим итогом для группы B\n",
    "visitors_b_cum = visitors_b_daily.apply(\n",
    "    lambda x: visitors_b_daily[visitors_b_daily['date'] <= x['date']].agg(\n",
    "        {'date': 'max', 'visitors_per_date_B': 'sum'}\n",
    "    ),\n",
    "    axis=1,\n",
    ")\n",
    "visitors_b_cum.columns = ['date', 'visitors_cum_B']\n",
    "\n",
    "display(visitors_a_daily.head(2), visitors_a_cum.head(2), visitors_b_daily.head(2), visitors_b_cum.head(2))"
   ]
  },
  {
   "cell_type": "markdown",
   "metadata": {},
   "source": [
    "Теперь подготовим таблицы с количеством заказов и выручкой на основе датасета orders:"
   ]
  },
  {
   "cell_type": "code",
   "execution_count": 32,
   "metadata": {},
   "outputs": [
    {
     "data": {
      "text/html": [
       "<div>\n",
       "<style scoped>\n",
       "    .dataframe tbody tr th:only-of-type {\n",
       "        vertical-align: middle;\n",
       "    }\n",
       "\n",
       "    .dataframe tbody tr th {\n",
       "        vertical-align: top;\n",
       "    }\n",
       "\n",
       "    .dataframe thead th {\n",
       "        text-align: right;\n",
       "    }\n",
       "</style>\n",
       "<table border=\"1\" class=\"dataframe\">\n",
       "  <thead>\n",
       "    <tr style=\"text-align: right;\">\n",
       "      <th></th>\n",
       "      <th>transaction_id</th>\n",
       "      <th>visitor_id</th>\n",
       "      <th>date</th>\n",
       "      <th>revenue</th>\n",
       "      <th>group</th>\n",
       "    </tr>\n",
       "  </thead>\n",
       "  <tbody>\n",
       "    <tr>\n",
       "      <th>0</th>\n",
       "      <td>3667963787</td>\n",
       "      <td>3312258926</td>\n",
       "      <td>2019-08-15</td>\n",
       "      <td>1650</td>\n",
       "      <td>B</td>\n",
       "    </tr>\n",
       "    <tr>\n",
       "      <th>1</th>\n",
       "      <td>2804400009</td>\n",
       "      <td>3642806036</td>\n",
       "      <td>2019-08-15</td>\n",
       "      <td>730</td>\n",
       "      <td>B</td>\n",
       "    </tr>\n",
       "    <tr>\n",
       "      <th>2</th>\n",
       "      <td>2961555356</td>\n",
       "      <td>4069496402</td>\n",
       "      <td>2019-08-15</td>\n",
       "      <td>400</td>\n",
       "      <td>A</td>\n",
       "    </tr>\n",
       "  </tbody>\n",
       "</table>\n",
       "</div>"
      ],
      "text/plain": [
       "   transaction_id  visitor_id       date  revenue group\n",
       "0      3667963787  3312258926 2019-08-15     1650     B\n",
       "1      2804400009  3642806036 2019-08-15      730     B\n",
       "2      2961555356  4069496402 2019-08-15      400     A"
      ]
     },
     "execution_count": 32,
     "metadata": {},
     "output_type": "execute_result"
    }
   ],
   "source": [
    "orders.head(3)"
   ]
  },
  {
   "cell_type": "code",
   "execution_count": 33,
   "metadata": {},
   "outputs": [
    {
     "data": {
      "text/html": [
       "<div>\n",
       "<style scoped>\n",
       "    .dataframe tbody tr th:only-of-type {\n",
       "        vertical-align: middle;\n",
       "    }\n",
       "\n",
       "    .dataframe tbody tr th {\n",
       "        vertical-align: top;\n",
       "    }\n",
       "\n",
       "    .dataframe thead th {\n",
       "        text-align: right;\n",
       "    }\n",
       "</style>\n",
       "<table border=\"1\" class=\"dataframe\">\n",
       "  <thead>\n",
       "    <tr style=\"text-align: right;\">\n",
       "      <th></th>\n",
       "      <th>date</th>\n",
       "      <th>orders_per_date_A</th>\n",
       "      <th>revenue_per_date_A</th>\n",
       "    </tr>\n",
       "  </thead>\n",
       "  <tbody>\n",
       "    <tr>\n",
       "      <th>0</th>\n",
       "      <td>2019-08-01</td>\n",
       "      <td>24</td>\n",
       "      <td>148579</td>\n",
       "    </tr>\n",
       "    <tr>\n",
       "      <th>1</th>\n",
       "      <td>2019-08-02</td>\n",
       "      <td>20</td>\n",
       "      <td>93822</td>\n",
       "    </tr>\n",
       "  </tbody>\n",
       "</table>\n",
       "</div>"
      ],
      "text/plain": [
       "        date  orders_per_date_A  revenue_per_date_A\n",
       "0 2019-08-01                 24              148579\n",
       "1 2019-08-02                 20               93822"
      ]
     },
     "metadata": {},
     "output_type": "display_data"
    },
    {
     "data": {
      "text/html": [
       "<div>\n",
       "<style scoped>\n",
       "    .dataframe tbody tr th:only-of-type {\n",
       "        vertical-align: middle;\n",
       "    }\n",
       "\n",
       "    .dataframe tbody tr th {\n",
       "        vertical-align: top;\n",
       "    }\n",
       "\n",
       "    .dataframe thead th {\n",
       "        text-align: right;\n",
       "    }\n",
       "</style>\n",
       "<table border=\"1\" class=\"dataframe\">\n",
       "  <thead>\n",
       "    <tr style=\"text-align: right;\">\n",
       "      <th></th>\n",
       "      <th>date</th>\n",
       "      <th>orders_cum_A</th>\n",
       "      <th>revenue_cum_A</th>\n",
       "    </tr>\n",
       "  </thead>\n",
       "  <tbody>\n",
       "    <tr>\n",
       "      <th>0</th>\n",
       "      <td>2019-08-01</td>\n",
       "      <td>24</td>\n",
       "      <td>148579</td>\n",
       "    </tr>\n",
       "    <tr>\n",
       "      <th>1</th>\n",
       "      <td>2019-08-02</td>\n",
       "      <td>44</td>\n",
       "      <td>242401</td>\n",
       "    </tr>\n",
       "  </tbody>\n",
       "</table>\n",
       "</div>"
      ],
      "text/plain": [
       "        date  orders_cum_A  revenue_cum_A\n",
       "0 2019-08-01            24         148579\n",
       "1 2019-08-02            44         242401"
      ]
     },
     "metadata": {},
     "output_type": "display_data"
    },
    {
     "data": {
      "text/html": [
       "<div>\n",
       "<style scoped>\n",
       "    .dataframe tbody tr th:only-of-type {\n",
       "        vertical-align: middle;\n",
       "    }\n",
       "\n",
       "    .dataframe tbody tr th {\n",
       "        vertical-align: top;\n",
       "    }\n",
       "\n",
       "    .dataframe thead th {\n",
       "        text-align: right;\n",
       "    }\n",
       "</style>\n",
       "<table border=\"1\" class=\"dataframe\">\n",
       "  <thead>\n",
       "    <tr style=\"text-align: right;\">\n",
       "      <th></th>\n",
       "      <th>date</th>\n",
       "      <th>orders_per_date_B</th>\n",
       "      <th>revenue_per_date_B</th>\n",
       "    </tr>\n",
       "  </thead>\n",
       "  <tbody>\n",
       "    <tr>\n",
       "      <th>0</th>\n",
       "      <td>2019-08-01</td>\n",
       "      <td>21</td>\n",
       "      <td>101217</td>\n",
       "    </tr>\n",
       "    <tr>\n",
       "      <th>1</th>\n",
       "      <td>2019-08-02</td>\n",
       "      <td>24</td>\n",
       "      <td>165531</td>\n",
       "    </tr>\n",
       "  </tbody>\n",
       "</table>\n",
       "</div>"
      ],
      "text/plain": [
       "        date  orders_per_date_B  revenue_per_date_B\n",
       "0 2019-08-01                 21              101217\n",
       "1 2019-08-02                 24              165531"
      ]
     },
     "metadata": {},
     "output_type": "display_data"
    },
    {
     "data": {
      "text/html": [
       "<div>\n",
       "<style scoped>\n",
       "    .dataframe tbody tr th:only-of-type {\n",
       "        vertical-align: middle;\n",
       "    }\n",
       "\n",
       "    .dataframe tbody tr th {\n",
       "        vertical-align: top;\n",
       "    }\n",
       "\n",
       "    .dataframe thead th {\n",
       "        text-align: right;\n",
       "    }\n",
       "</style>\n",
       "<table border=\"1\" class=\"dataframe\">\n",
       "  <thead>\n",
       "    <tr style=\"text-align: right;\">\n",
       "      <th></th>\n",
       "      <th>date</th>\n",
       "      <th>orders_cum_B</th>\n",
       "      <th>revenue_cum_B</th>\n",
       "    </tr>\n",
       "  </thead>\n",
       "  <tbody>\n",
       "    <tr>\n",
       "      <th>0</th>\n",
       "      <td>2019-08-01</td>\n",
       "      <td>21</td>\n",
       "      <td>101217</td>\n",
       "    </tr>\n",
       "    <tr>\n",
       "      <th>1</th>\n",
       "      <td>2019-08-02</td>\n",
       "      <td>45</td>\n",
       "      <td>266748</td>\n",
       "    </tr>\n",
       "  </tbody>\n",
       "</table>\n",
       "</div>"
      ],
      "text/plain": [
       "        date  orders_cum_B  revenue_cum_B\n",
       "0 2019-08-01            21         101217\n",
       "1 2019-08-02            45         266748"
      ]
     },
     "metadata": {},
     "output_type": "display_data"
    }
   ],
   "source": [
    "# таблица с количеством заказов и выручкой по дням для группы А\n",
    "orders_a_daily = (\n",
    "    orders[orders['group'] == 'A'][['date', 'transaction_id', 'visitor_id', 'revenue']]\n",
    "    .groupby('date', as_index=False)\n",
    "    .agg({'transaction_id': pd.Series.nunique, 'revenue': 'sum'})\n",
    ")\n",
    "orders_a_daily.columns = ['date', 'orders_per_date_A', 'revenue_per_date_A']\n",
    "\n",
    "# таблица с количеством заказов и выручкой нарастающим итогом для группы А\n",
    "orders_a_cum = orders_a_daily.apply(\n",
    "    lambda x: orders_a_daily[orders_a_daily['date'] <= x['date']].agg(\n",
    "        {'date': 'max', 'orders_per_date_A': 'sum', 'revenue_per_date_A': 'sum'}\n",
    "    ),\n",
    "    axis=1,\n",
    ").sort_values(by=['date'])\n",
    "orders_a_cum.columns = ['date','orders_cum_A','revenue_cum_A']\n",
    "\n",
    "# таблица с количеством заказов и выручкой по дням для группы B\n",
    "orders_b_daily = (\n",
    "    orders[orders['group'] == 'B'][['date', 'transaction_id', 'visitor_id', 'revenue']]\n",
    "    .groupby('date', as_index=False)\n",
    "    .agg({'transaction_id': pd.Series.nunique, 'revenue': 'sum'})\n",
    ")\n",
    "orders_b_daily.columns = ['date', 'orders_per_date_B', 'revenue_per_date_B']\n",
    "\n",
    "# таблица с количеством заказов и выручкой нарастающим итогом для группы B\n",
    "orders_b_cum = orders_b_daily.apply(\n",
    "    lambda x: orders_b_daily[orders_b_daily['date'] <= x['date']].agg(\n",
    "        {'date': 'max', 'orders_per_date_B': 'sum', 'revenue_per_date_B': 'sum'}\n",
    "    ),\n",
    "    axis=1,\n",
    ").sort_values(by=['date'])\n",
    "orders_b_cum.columns = ['date', 'orders_cum_B', 'revenue_cum_B']\n",
    "\n",
    "display(orders_a_daily.head(2), orders_a_cum.head(2), orders_b_daily.head(2), orders_b_cum.head(2))"
   ]
  },
  {
   "cell_type": "markdown",
   "metadata": {},
   "source": [
    "Теперь можем объединить полученные 8 таблиц в одну по датам:"
   ]
  },
  {
   "cell_type": "code",
   "execution_count": 34,
   "metadata": {},
   "outputs": [
    {
     "data": {
      "text/html": [
       "<div>\n",
       "<style scoped>\n",
       "    .dataframe tbody tr th:only-of-type {\n",
       "        vertical-align: middle;\n",
       "    }\n",
       "\n",
       "    .dataframe tbody tr th {\n",
       "        vertical-align: top;\n",
       "    }\n",
       "\n",
       "    .dataframe thead th {\n",
       "        text-align: right;\n",
       "    }\n",
       "</style>\n",
       "<table border=\"1\" class=\"dataframe\">\n",
       "  <thead>\n",
       "    <tr style=\"text-align: right;\">\n",
       "      <th></th>\n",
       "      <th>date</th>\n",
       "      <th>orders_per_date_A</th>\n",
       "      <th>revenue_per_date_A</th>\n",
       "      <th>orders_per_date_B</th>\n",
       "      <th>revenue_per_date_B</th>\n",
       "      <th>orders_cum_A</th>\n",
       "      <th>revenue_cum_A</th>\n",
       "      <th>orders_cum_B</th>\n",
       "      <th>revenue_cum_B</th>\n",
       "      <th>visitors_per_date_A</th>\n",
       "      <th>visitors_per_date_B</th>\n",
       "      <th>visitors_cum_A</th>\n",
       "      <th>visitors_cum_B</th>\n",
       "    </tr>\n",
       "  </thead>\n",
       "  <tbody>\n",
       "    <tr>\n",
       "      <th>0</th>\n",
       "      <td>2019-08-01</td>\n",
       "      <td>24</td>\n",
       "      <td>148579</td>\n",
       "      <td>21</td>\n",
       "      <td>101217</td>\n",
       "      <td>24</td>\n",
       "      <td>148579</td>\n",
       "      <td>21</td>\n",
       "      <td>101217</td>\n",
       "      <td>719</td>\n",
       "      <td>713</td>\n",
       "      <td>719</td>\n",
       "      <td>713</td>\n",
       "    </tr>\n",
       "    <tr>\n",
       "      <th>1</th>\n",
       "      <td>2019-08-02</td>\n",
       "      <td>20</td>\n",
       "      <td>93822</td>\n",
       "      <td>24</td>\n",
       "      <td>165531</td>\n",
       "      <td>44</td>\n",
       "      <td>242401</td>\n",
       "      <td>45</td>\n",
       "      <td>266748</td>\n",
       "      <td>619</td>\n",
       "      <td>581</td>\n",
       "      <td>1338</td>\n",
       "      <td>1294</td>\n",
       "    </tr>\n",
       "    <tr>\n",
       "      <th>2</th>\n",
       "      <td>2019-08-03</td>\n",
       "      <td>24</td>\n",
       "      <td>112473</td>\n",
       "      <td>16</td>\n",
       "      <td>114248</td>\n",
       "      <td>68</td>\n",
       "      <td>354874</td>\n",
       "      <td>61</td>\n",
       "      <td>380996</td>\n",
       "      <td>507</td>\n",
       "      <td>509</td>\n",
       "      <td>1845</td>\n",
       "      <td>1803</td>\n",
       "    </tr>\n",
       "  </tbody>\n",
       "</table>\n",
       "</div>"
      ],
      "text/plain": [
       "        date  orders_per_date_A  revenue_per_date_A  orders_per_date_B  \\\n",
       "0 2019-08-01                 24              148579                 21   \n",
       "1 2019-08-02                 20               93822                 24   \n",
       "2 2019-08-03                 24              112473                 16   \n",
       "\n",
       "   revenue_per_date_B  orders_cum_A  revenue_cum_A  orders_cum_B  \\\n",
       "0              101217            24         148579            21   \n",
       "1              165531            44         242401            45   \n",
       "2              114248            68         354874            61   \n",
       "\n",
       "   revenue_cum_B  visitors_per_date_A  visitors_per_date_B  visitors_cum_A  \\\n",
       "0         101217                  719                  713             719   \n",
       "1         266748                  619                  581            1338   \n",
       "2         380996                  507                  509            1845   \n",
       "\n",
       "   visitors_cum_B  \n",
       "0             713  \n",
       "1            1294  \n",
       "2            1803  "
      ]
     },
     "execution_count": 34,
     "metadata": {},
     "output_type": "execute_result"
    }
   ],
   "source": [
    "general_data = (\n",
    "    orders_a_daily.merge(orders_b_daily, left_on='date', right_on='date', how='left')\n",
    "    .merge(orders_a_cum, left_on='date', right_on='date', how='left')\n",
    "    .merge(orders_b_cum, left_on='date', right_on='date', how='left')\n",
    "    .merge(visitors_a_daily, left_on='date', right_on='date', how='left')\n",
    "    .merge(visitors_b_daily, left_on='date', right_on='date', how='left')\n",
    "    .merge(visitors_a_cum, left_on='date', right_on='date', how='left')\n",
    "    .merge(visitors_b_cum, left_on='date', right_on='date', how='left')\n",
    ")\n",
    "\n",
    "general_data.head(3)"
   ]
  },
  {
   "cell_type": "markdown",
   "metadata": {},
   "source": [
    "Таблица данных готова, можно считать статистическую значимость."
   ]
  },
  {
   "cell_type": "markdown",
   "metadata": {},
   "source": [
    "#### Статистическая значимость различий в конверсии по сырым данным"
   ]
  },
  {
   "cell_type": "markdown",
   "metadata": {},
   "source": [
    "Посчитаем статистическую значимость различий в конверсии между группами по «сырым» данным.\n",
    "\n",
    "**Нулевая гипотеза**: Конверсии групп А и В распределены одинаково.\n",
    "\n",
    "**Альтернативная гипотеза**: Конверсии групп А и В имеют разное распределение."
   ]
  },
  {
   "cell_type": "markdown",
   "metadata": {},
   "source": [
    "Поскольку распределения количества и стоимости заказов у нас ненормальные (это мы выяснили [здесь](#orders)  и [здесь](#revenue)), то будем использовать непараметрический тест Манна-Уитни.\n",
    "\n",
    "Подготовим выборки для анализа. Сначала рассчитаем количество заказов для каждого пользователя отдельно по каждой группе:"
   ]
  },
  {
   "cell_type": "code",
   "execution_count": 35,
   "metadata": {},
   "outputs": [
    {
     "data": {
      "text/html": [
       "<div>\n",
       "<style scoped>\n",
       "    .dataframe tbody tr th:only-of-type {\n",
       "        vertical-align: middle;\n",
       "    }\n",
       "\n",
       "    .dataframe tbody tr th {\n",
       "        vertical-align: top;\n",
       "    }\n",
       "\n",
       "    .dataframe thead th {\n",
       "        text-align: right;\n",
       "    }\n",
       "</style>\n",
       "<table border=\"1\" class=\"dataframe\">\n",
       "  <thead>\n",
       "    <tr style=\"text-align: right;\">\n",
       "      <th></th>\n",
       "      <th>transaction_id</th>\n",
       "      <th>visitor_id</th>\n",
       "      <th>date</th>\n",
       "      <th>revenue</th>\n",
       "      <th>group</th>\n",
       "    </tr>\n",
       "  </thead>\n",
       "  <tbody>\n",
       "    <tr>\n",
       "      <th>0</th>\n",
       "      <td>3667963787</td>\n",
       "      <td>3312258926</td>\n",
       "      <td>2019-08-15</td>\n",
       "      <td>1650</td>\n",
       "      <td>B</td>\n",
       "    </tr>\n",
       "    <tr>\n",
       "      <th>1</th>\n",
       "      <td>2804400009</td>\n",
       "      <td>3642806036</td>\n",
       "      <td>2019-08-15</td>\n",
       "      <td>730</td>\n",
       "      <td>B</td>\n",
       "    </tr>\n",
       "  </tbody>\n",
       "</table>\n",
       "</div>"
      ],
      "text/plain": [
       "   transaction_id  visitor_id       date  revenue group\n",
       "0      3667963787  3312258926 2019-08-15     1650     B\n",
       "1      2804400009  3642806036 2019-08-15      730     B"
      ]
     },
     "execution_count": 35,
     "metadata": {},
     "output_type": "execute_result"
    }
   ],
   "source": [
    "orders.head(2)"
   ]
  },
  {
   "cell_type": "code",
   "execution_count": 36,
   "metadata": {},
   "outputs": [
    {
     "data": {
      "text/plain": [
       "'group A'"
      ]
     },
     "metadata": {},
     "output_type": "display_data"
    },
    {
     "data": {
      "text/html": [
       "<div>\n",
       "<style scoped>\n",
       "    .dataframe tbody tr th:only-of-type {\n",
       "        vertical-align: middle;\n",
       "    }\n",
       "\n",
       "    .dataframe tbody tr th {\n",
       "        vertical-align: top;\n",
       "    }\n",
       "\n",
       "    .dataframe thead th {\n",
       "        text-align: right;\n",
       "    }\n",
       "</style>\n",
       "<table border=\"1\" class=\"dataframe\">\n",
       "  <thead>\n",
       "    <tr style=\"text-align: right;\">\n",
       "      <th></th>\n",
       "      <th>user_id</th>\n",
       "      <th>orders</th>\n",
       "    </tr>\n",
       "  </thead>\n",
       "  <tbody>\n",
       "    <tr>\n",
       "      <th>0</th>\n",
       "      <td>8300375</td>\n",
       "      <td>1</td>\n",
       "    </tr>\n",
       "    <tr>\n",
       "      <th>1</th>\n",
       "      <td>11685486</td>\n",
       "      <td>1</td>\n",
       "    </tr>\n",
       "  </tbody>\n",
       "</table>\n",
       "</div>"
      ],
      "text/plain": [
       "    user_id  orders\n",
       "0   8300375       1\n",
       "1  11685486       1"
      ]
     },
     "metadata": {},
     "output_type": "display_data"
    },
    {
     "data": {
      "text/plain": [
       "'group B'"
      ]
     },
     "metadata": {},
     "output_type": "display_data"
    },
    {
     "data": {
      "text/html": [
       "<div>\n",
       "<style scoped>\n",
       "    .dataframe tbody tr th:only-of-type {\n",
       "        vertical-align: middle;\n",
       "    }\n",
       "\n",
       "    .dataframe tbody tr th {\n",
       "        vertical-align: top;\n",
       "    }\n",
       "\n",
       "    .dataframe thead th {\n",
       "        text-align: right;\n",
       "    }\n",
       "</style>\n",
       "<table border=\"1\" class=\"dataframe\">\n",
       "  <thead>\n",
       "    <tr style=\"text-align: right;\">\n",
       "      <th></th>\n",
       "      <th>user_id</th>\n",
       "      <th>orders</th>\n",
       "    </tr>\n",
       "  </thead>\n",
       "  <tbody>\n",
       "    <tr>\n",
       "      <th>0</th>\n",
       "      <td>5114589</td>\n",
       "      <td>1</td>\n",
       "    </tr>\n",
       "    <tr>\n",
       "      <th>1</th>\n",
       "      <td>6958315</td>\n",
       "      <td>1</td>\n",
       "    </tr>\n",
       "  </tbody>\n",
       "</table>\n",
       "</div>"
      ],
      "text/plain": [
       "   user_id  orders\n",
       "0  5114589       1\n",
       "1  6958315       1"
      ]
     },
     "metadata": {},
     "output_type": "display_data"
    }
   ],
   "source": [
    "orders_by_users_a = (\n",
    "    orders[orders['group'] == 'A']\n",
    "    .groupby('visitor_id', as_index=False)\n",
    "    .agg({'transaction_id': pd.Series.nunique})\n",
    ")\n",
    "orders_by_users_a.columns = ['user_id', 'orders']\n",
    "\n",
    "orders_by_users_b = (\n",
    "    orders[orders['group'] == 'B']\n",
    "    .groupby('visitor_id', as_index=False)\n",
    "    .agg({'transaction_id': pd.Series.nunique})\n",
    ")\n",
    "orders_by_users_b.columns = ['user_id', 'orders']\n",
    "\n",
    "display('group A', orders_by_users_a.head(2))\n",
    "display('group B', orders_by_users_b.head(2))"
   ]
  },
  {
   "cell_type": "markdown",
   "metadata": {},
   "source": [
    "Теперь нам нужно добавить в полученные таблицы пользователей, которые не сделали ни одного заказа (у которых количество заказов = 0):"
   ]
  },
  {
   "cell_type": "code",
   "execution_count": 37,
   "metadata": {},
   "outputs": [
    {
     "name": "stdout",
     "output_type": "stream",
     "text": [
      "p_value = 0.017\n",
      "Отвергаем нулевую гипотезу, распределение конверсий различается\n",
      "Превышение конверсии группы В над конверсией группы А: 0.138\n"
     ]
    }
   ],
   "source": [
    "alpha = 0.05\n",
    "\n",
    "sample_a = pd.concat(\n",
    "    [\n",
    "        orders_by_users_a['orders'],\n",
    "        pd.Series(\n",
    "            0,\n",
    "            index=np.arange(\n",
    "                general_data['visitors_per_date_A'].sum() - len(orders_by_users_a['orders'])\n",
    "            ),\n",
    "            name='orders',\n",
    "        ),\n",
    "    ],\n",
    "    axis=0,\n",
    ")\n",
    "\n",
    "sample_b = pd.concat(\n",
    "    [\n",
    "        orders_by_users_b['orders'],\n",
    "        pd.Series(\n",
    "            0,\n",
    "            index=np.arange(\n",
    "                general_data['visitors_per_date_B'].sum() - len(orders_by_users_b['orders'])\n",
    "            ),\n",
    "            name='orders',\n",
    "        ),\n",
    "    ],\n",
    "    axis=0,\n",
    ")\n",
    "\n",
    "\n",
    "p_value = stats.mannwhitneyu(sample_a, sample_b)[1]\n",
    "\n",
    "print('p_value =', \"{0:.3f}\".format(p_value))\n",
    "if p_value < alpha:\n",
    "    print('Отвергаем нулевую гипотезу, распределение конверсий различается')\n",
    "else:\n",
    "    print('Нет оснований отвергнуть нулевую гипотезу, конверсии распределены одинаково')\n",
    "    \n",
    "\n",
    "print('Превышение конверсии группы В над конверсией группы А:', \n",
    "      \"{0:.3f}\".format(sample_b.mean() / sample_a.mean() - 1))"
   ]
  },
  {
   "cell_type": "markdown",
   "metadata": {},
   "source": [
    "Первое число (0,017) - это p-value, оно получилось меньше уровня статичстической значимости (0,05). Т.е. вероятность получить такое различие при верной нулевой гипотезе слишком мала (1,7%). Значит, у нас достаточно оснований, чтобы отвергнуть нулевую гипотезу, **конверсии групп А и В различаются**.\n",
    "\n",
    "Второе число (0,138) показывает нам, что конверсия группы В выше, чем конверсия группы А на 13,8%."
   ]
  },
  {
   "cell_type": "markdown",
   "metadata": {},
   "source": [
    "#### Статистическая значимость различий в среднем чеке по сырым данным"
   ]
  },
  {
   "cell_type": "markdown",
   "metadata": {},
   "source": [
    "Посчитаем статистическую значимость различий в среднем чеке между группами по «сырым» данным.\n",
    "\n",
    "**Нулевая гипотеза**: Средний чек групп А и В распределен одинаково.\n",
    "\n",
    "**Альтернативная гипотеза**: Распределения среднего чека групп А и В различаются."
   ]
  },
  {
   "cell_type": "code",
   "execution_count": 38,
   "metadata": {},
   "outputs": [
    {
     "name": "stdout",
     "output_type": "stream",
     "text": [
      "p_value = 0.729\n",
      "Нет оснований отвергнуть нулевую гипотезу, средний чек распределен одинаково\n",
      "Превышение среднего чека группы В над средним чеком группы А: 0.259\n"
     ]
    }
   ],
   "source": [
    "alpha = 0.05\n",
    "\n",
    "p_value = stats.mannwhitneyu(orders[orders['group']=='A']['revenue'], \n",
    "                                          orders[orders['group']=='B']['revenue'])[1]\n",
    "\n",
    "print('p_value =', \"{0:.3f}\".format(p_value))\n",
    "\n",
    "if p_value < alpha:\n",
    "    print('Отвергаем нулевую гипотезу, распределение среднего чека различается')\n",
    "else:\n",
    "    print('Нет оснований отвергнуть нулевую гипотезу, средний чек распределен одинаково')\n",
    "    \n",
    "\n",
    "print('Превышение среднего чека группы В над средним чеком группы А:', \n",
    "      '{0:.3f}'.format(orders[orders['group']=='B']['revenue'].mean()\n",
    "                       /orders[orders['group']=='A']['revenue'].mean()-1))"
   ]
  },
  {
   "cell_type": "markdown",
   "metadata": {},
   "source": [
    "Получили p-value 0,729, что значительно больше уровня статистической значимости (0,05). У нас нет оснований отвергнуть нулевую гипотезу. **Средние чеки групп А и В распределены одинаково**.\n",
    "\n",
    "Второе значение (0,259) говорит нам о том, что средний чек группы В выше, чем средний чек группы А на 25,9%. Однако вероятность получить такое различие при верной нулевой гипотезе (т.е. при одинаково распределенных средних чеках групп А и В) - 72,9% Значит, мы не можем делать вывод о значимом различии между средними чеками."
   ]
  },
  {
   "cell_type": "markdown",
   "metadata": {},
   "source": [
    "### Анализ статистической значимости по очищенным от аномалий данным"
   ]
  },
  {
   "cell_type": "markdown",
   "metadata": {},
   "source": [
    "#### Выделение аномальных пользователей"
   ]
  },
  {
   "cell_type": "markdown",
   "metadata": {},
   "source": [
    "Примем за аномальных пользователей тех, кто совершил [более 4-х покупок](#orders_pers) и заплатил за 1 заказ [более 30 000 у.е.](#revenue_pers) Так мы уберем 1% пользователей с наибольшим числом заказов и чуть меньше 5% пользоватлей с дорогими заказами. \n",
    "\n",
    "Узнаем количество таких пользователей:"
   ]
  },
  {
   "cell_type": "code",
   "execution_count": 39,
   "metadata": {},
   "outputs": [
    {
     "data": {
      "text/plain": [
       "1099    148427295\n",
       "928     204675465\n",
       "684     358944393\n",
       "648     382846391\n",
       "1189    393266494\n",
       "dtype: int64"
      ]
     },
     "metadata": {},
     "output_type": "display_data"
    },
    {
     "data": {
      "text/plain": [
       "(53,)"
      ]
     },
     "metadata": {},
     "output_type": "display_data"
    }
   ],
   "source": [
    "users_many_orders = pd.concat(\n",
    "    [\n",
    "        orders_by_users_a[orders_by_users_a['orders'] > 4]['user_id'],\n",
    "        orders_by_users_b[orders_by_users_b['orders'] > 4]['user_id'],\n",
    "    ],\n",
    "    axis=0,\n",
    ")\n",
    "users_expensive_orders = orders[orders['revenue'] > 30000]['visitor_id']\n",
    "\n",
    "abnormal_users = (\n",
    "    pd.concat([users_many_orders, users_expensive_orders], axis=0)\n",
    "    .drop_duplicates()\n",
    "    .sort_values()\n",
    ")\n",
    "display(abnormal_users.head(5), abnormal_users.shape)"
   ]
  },
  {
   "cell_type": "markdown",
   "metadata": {},
   "source": [
    "Итак, мы выделили пользователей с количеством заказов более 4х и стоимостью заказов более 30 000 у.е., их оказалось 53 человека. Проверим, как они повлияли на результаты теста."
   ]
  },
  {
   "cell_type": "markdown",
   "metadata": {},
   "source": [
    "#### Статистическая значимость различий в конверсии по очищенным данным"
   ]
  },
  {
   "cell_type": "markdown",
   "metadata": {},
   "source": [
    "Подготовим выборки для анализа с количеством заказов для каждого пользователя в группах:"
   ]
  },
  {
   "cell_type": "code",
   "execution_count": 40,
   "metadata": {},
   "outputs": [],
   "source": [
    "sample_a_filtered = pd.concat(\n",
    "    [\n",
    "        orders_by_users_a[\n",
    "            np.logical_not(orders_by_users_a['user_id'].isin(abnormal_users))\n",
    "        ]['orders'],\n",
    "        pd.Series(\n",
    "            0,\n",
    "            index=np.arange(\n",
    "                general_data['visitors_per_date_A'].sum() - len(orders_by_users_a['orders'])\n",
    "            ),\n",
    "            name='orders',\n",
    "        ),\n",
    "    ],\n",
    "    axis=0,\n",
    ")\n",
    "\n",
    "sample_b_filtered = pd.concat(\n",
    "    [\n",
    "        orders_by_users_b[\n",
    "            np.logical_not(orders_by_users_b['user_id'].isin(abnormal_users))\n",
    "        ]['orders'],\n",
    "        pd.Series(\n",
    "            0,\n",
    "            index=np.arange(\n",
    "                general_data['visitors_per_date_B'].sum() - len(orders_by_users_b['orders'])\n",
    "            ),\n",
    "            name='orders',\n",
    "        ),\n",
    "    ],\n",
    "    axis=0,\n",
    ")"
   ]
  },
  {
   "cell_type": "markdown",
   "metadata": {},
   "source": [
    "Применим статистический критерий Манна-Уитни к полученным выборкам:"
   ]
  },
  {
   "cell_type": "code",
   "execution_count": 41,
   "metadata": {
    "scrolled": true
   },
   "outputs": [
    {
     "name": "stdout",
     "output_type": "stream",
     "text": [
      "p_value = 0.019\n",
      "Отвергаем нулевую гипотезу, распределение конверсий различается\n",
      "Превышение конверсии группы В над конверсией группы А: 0.144\n"
     ]
    }
   ],
   "source": [
    "alpha = 0.05\n",
    "\n",
    "p_value = stats.mannwhitneyu(sample_a_filtered, sample_b_filtered)[1]\n",
    "\n",
    "print('p_value =', \"{0:.3f}\".format(p_value))\n",
    "if p_value < alpha:\n",
    "    print('Отвергаем нулевую гипотезу, распределение конверсий различается')\n",
    "else:\n",
    "    print('Нет оснований отвергнуть нулевую гипотезу, конверсии распределены одинаково')\n",
    "    \n",
    "\n",
    "print('Превышение конверсии группы В над конверсией группы А:', \n",
    "      \"{0:.3f}\".format(sample_b_filtered.mean() / sample_a_filtered.mean() - 1))"
   ]
  },
  {
   "cell_type": "markdown",
   "metadata": {},
   "source": [
    "Результаты по конверсии практически не изменились: \n",
    "- p-value стало 1,9% (было 1,7%), это ниже уровня статистической значимости, отвергаем нулевую гипотезу, конверсии групп А и В различаются;\n",
    "- конверсия группы В на 14,4% (было на 13,8%) превышает конверсию группы А."
   ]
  },
  {
   "cell_type": "markdown",
   "metadata": {},
   "source": [
    "#### Статистическая значимость различий в среднем чеке по очищенным данным"
   ]
  },
  {
   "cell_type": "markdown",
   "metadata": {},
   "source": [
    "Проверим, произошло ли после очистки что-либо с результатами по среднему чеку:"
   ]
  },
  {
   "cell_type": "code",
   "execution_count": 42,
   "metadata": {},
   "outputs": [
    {
     "name": "stdout",
     "output_type": "stream",
     "text": [
      "p_value = 0.979\n",
      "Нет оснований отвергнуть нулевую гипотезу, средний чек распределен одинаково\n",
      "Превышение среднего чека группы В над средним чеком группы А: -0.017\n"
     ]
    }
   ],
   "source": [
    "alpha = 0.05\n",
    "\n",
    "p_value = stats.mannwhitneyu(\n",
    "            orders[\n",
    "                np.logical_and(\n",
    "                    orders['group'] == 'A',\n",
    "                    np.logical_not(orders['visitor_id'].isin(abnormal_users)),\n",
    "                )\n",
    "            ]['revenue'],\n",
    "            orders[\n",
    "                np.logical_and(\n",
    "                    orders['group'] == 'B',\n",
    "                    np.logical_not(orders['visitor_id'].isin(abnormal_users)),\n",
    "                )\n",
    "            ]['revenue'],\n",
    "        )[1]\n",
    "\n",
    "print('p_value =', \"{0:.3f}\".format(p_value))\n",
    "\n",
    "if p_value < alpha:\n",
    "    print('Отвергаем нулевую гипотезу, распределение среднего чека различается')\n",
    "else:\n",
    "    print('Нет оснований отвергнуть нулевую гипотезу, средний чек распределен одинаково')\n",
    "    \n",
    "\n",
    "print('Превышение среднего чека группы В над средним чеком группы А:', \n",
    "      \"{0:.3f}\".format(\n",
    "        orders[\n",
    "            np.logical_and(\n",
    "                orders['group'] == 'B',\n",
    "                np.logical_not(orders['visitor_id'].isin(abnormal_users)),\n",
    "            )\n",
    "        ]['revenue'].mean()\n",
    "        / orders[\n",
    "            np.logical_and(\n",
    "                orders['group'] == 'A',\n",
    "                np.logical_not(orders['visitor_id'].isin(abnormal_users)),\n",
    "            )\n",
    "        ]['revenue'].mean()\n",
    "        - 1\n",
    "    )\n",
    ")"
   ]
  },
  {
   "cell_type": "markdown",
   "metadata": {},
   "source": [
    "Выводы по результатам теста не изменились.  \n",
    "Р-value увеличилось с 0,729 до 0,979, это значительно больше уровня статистической значимости 0,05. У нас нет оснований отвергнуть нулевую гипотезу. **Средние чеки групп А и В распределены одинаково**.\n",
    "\n",
    "Второе значение (было 0,259 стало -0,017) говорит нам о том, что средний чек группы В стал ниже, чем средний чек группы А на 1,7%. Однако вероятность получить такое различие при верной нулевой гипотезе - 97,9%. Значит, мы не можем делать вывод о значимом различии между средними чеками."
   ]
  },
  {
   "cell_type": "markdown",
   "metadata": {},
   "source": [
    "### Вывод"
   ]
  },
  {
   "cell_type": "markdown",
   "metadata": {},
   "source": [
    "<p></p>\n",
    "\n",
    "<div style=\"border:solid green 2px; padding: 20px\">\n",
    "\n",
    "\n",
    "После добавления формы подписки на все основные страницы:\n",
    "    \n",
    "- количество заказов стало больше, \n",
    "- средний чек остался прежним,\n",
    "- выручка выросла за счет увеличения конверсии.\n",
    "    \n",
    "Тест можно останавливать, группа В победила, прирост конверсии составил +14%. \n",
    "    \n",
    "Аномальные заказы повлияли на средний чек и выручку (в сторону увеличения), но не повлияли на конверсию.\n",
    " \n",
    "</div>"
   ]
  },
  {
   "cell_type": "markdown",
   "metadata": {},
   "source": [
    "## Итоговые выводы"
   ]
  },
  {
   "cell_type": "markdown",
   "metadata": {},
   "source": [
    "<p></p>\n",
    "\n",
    "<div style=\"border:solid green 2px; padding: 20px\">\n",
    "\n",
    "- Для тестирования выбрана гипотеза: \"Добавить форму подписки на все основные страницы, чтобы собрать базу клиентов для email-рассылок\".\n",
    "    \n",
    "- В августе 2019 года был проведен А/В-тест, в котором участвовал 1031 посетитель интернет-магазина.\n",
    "    \n",
    "- За исследуемый период пользователи успели сделать от 1 до 11 заказов. Покупателей, сделавших более 4-х заказов (1%) мы посчитали аномальными.\n",
    "    \n",
    "- Стоимость заказов варьировалась от 50 до 1,3 млн. у.е. Заказы стоимостью более 30 тыс. у.е. (это чуть менее 5% заказов) мы посчитали выбросами.\n",
    "    \n",
    "- В результате тестирования прирост конверсии группы В составил +14% относительно конверсии группы А. Средний чек не изменился.\n",
    "    \n",
    "- Аномальные заказы повлияли на средний чек и выручку (в сторону увеличения), но не повлияли на конверсию.\n",
    "    \n",
    "- **Добавление формы подписки на все основные страницы позволит увеличить выручку за счет увеличения конверсии**.   \n",
    "    \n",
    "- Необходимо обратить внимание отдела маркетинга на то, что разделение на группы было произвдено некорректно: 58 пользователей (5,6%) попали сразу в обе группы. В дальнейшем такие ошибки следует исключить.\n",
    "\n",
    "</div>"
   ]
  }
 ],
 "metadata": {
  "ExecuteTimeLog": [
   {
    "duration": 771,
    "start_time": "2022-04-06T11:04:42.151Z"
   },
   {
    "duration": 50,
    "start_time": "2022-04-06T11:11:27.633Z"
   },
   {
    "duration": 50,
    "start_time": "2022-04-06T11:13:34.998Z"
   },
   {
    "duration": 48,
    "start_time": "2022-04-06T11:13:54.859Z"
   },
   {
    "duration": 48,
    "start_time": "2022-04-06T11:14:18.749Z"
   },
   {
    "duration": 63,
    "start_time": "2022-04-06T11:15:29.788Z"
   },
   {
    "duration": 53,
    "start_time": "2022-04-06T11:15:49.287Z"
   },
   {
    "duration": 52,
    "start_time": "2022-04-06T11:16:08.938Z"
   },
   {
    "duration": 4,
    "start_time": "2022-04-06T11:27:13.697Z"
   },
   {
    "duration": 78,
    "start_time": "2022-04-06T11:28:31.490Z"
   },
   {
    "duration": 4,
    "start_time": "2022-04-06T11:29:46.918Z"
   },
   {
    "duration": 4,
    "start_time": "2022-04-06T11:30:14.486Z"
   },
   {
    "duration": 569,
    "start_time": "2022-04-06T11:31:01.331Z"
   },
   {
    "duration": 4,
    "start_time": "2022-04-06T11:31:09.212Z"
   },
   {
    "duration": 4,
    "start_time": "2022-04-06T11:31:32.078Z"
   },
   {
    "duration": 3,
    "start_time": "2022-04-06T11:31:41.251Z"
   },
   {
    "duration": 2,
    "start_time": "2022-04-06T11:32:14.061Z"
   },
   {
    "duration": 14,
    "start_time": "2022-04-06T11:33:26.740Z"
   },
   {
    "duration": 9,
    "start_time": "2022-04-06T11:34:56.036Z"
   },
   {
    "duration": 9,
    "start_time": "2022-04-06T11:35:27.003Z"
   },
   {
    "duration": 11,
    "start_time": "2022-04-06T11:42:31.767Z"
   },
   {
    "duration": 422,
    "start_time": "2022-04-06T11:43:07.601Z"
   },
   {
    "duration": 0,
    "start_time": "2022-04-06T11:44:57.984Z"
   },
   {
    "duration": 431,
    "start_time": "2022-04-06T11:45:19.798Z"
   },
   {
    "duration": 445,
    "start_time": "2022-04-06T11:45:26.543Z"
   },
   {
    "duration": 982,
    "start_time": "2022-04-06T11:47:44.491Z"
   },
   {
    "duration": 65,
    "start_time": "2022-04-06T11:47:45.476Z"
   },
   {
    "duration": 4,
    "start_time": "2022-04-06T11:47:45.543Z"
   },
   {
    "duration": 14,
    "start_time": "2022-04-06T11:47:45.549Z"
   },
   {
    "duration": 9,
    "start_time": "2022-04-06T11:47:45.564Z"
   },
   {
    "duration": 13,
    "start_time": "2022-04-06T11:47:45.574Z"
   },
   {
    "duration": 14,
    "start_time": "2022-04-06T11:47:45.588Z"
   },
   {
    "duration": 526,
    "start_time": "2022-04-06T11:48:01.573Z"
   },
   {
    "duration": 436,
    "start_time": "2022-04-06T11:48:08.511Z"
   },
   {
    "duration": 435,
    "start_time": "2022-04-06T11:48:19.652Z"
   },
   {
    "duration": 850,
    "start_time": "2022-04-06T11:48:55.760Z"
   },
   {
    "duration": 84,
    "start_time": "2022-04-06T11:48:56.612Z"
   },
   {
    "duration": 5,
    "start_time": "2022-04-06T11:48:56.697Z"
   },
   {
    "duration": 13,
    "start_time": "2022-04-06T11:48:56.704Z"
   },
   {
    "duration": 13,
    "start_time": "2022-04-06T11:48:56.718Z"
   },
   {
    "duration": 15,
    "start_time": "2022-04-06T11:48:56.736Z"
   },
   {
    "duration": 15,
    "start_time": "2022-04-06T11:48:56.753Z"
   },
   {
    "duration": 4,
    "start_time": "2022-04-06T11:49:23.418Z"
   },
   {
    "duration": 4,
    "start_time": "2022-04-06T11:49:51.024Z"
   },
   {
    "duration": 812,
    "start_time": "2022-04-06T11:50:15.982Z"
   },
   {
    "duration": 70,
    "start_time": "2022-04-06T11:50:16.797Z"
   },
   {
    "duration": 5,
    "start_time": "2022-04-06T11:50:16.869Z"
   },
   {
    "duration": 15,
    "start_time": "2022-04-06T11:50:16.876Z"
   },
   {
    "duration": 11,
    "start_time": "2022-04-06T11:50:16.893Z"
   },
   {
    "duration": 32,
    "start_time": "2022-04-06T11:50:16.906Z"
   },
   {
    "duration": 4,
    "start_time": "2022-04-06T11:50:16.940Z"
   },
   {
    "duration": 12,
    "start_time": "2022-04-06T11:50:16.946Z"
   },
   {
    "duration": 16,
    "start_time": "2022-04-06T11:50:16.959Z"
   },
   {
    "duration": 6,
    "start_time": "2022-04-06T11:50:16.978Z"
   },
   {
    "duration": 6,
    "start_time": "2022-04-06T11:50:16.985Z"
   },
   {
    "duration": 81,
    "start_time": "2022-04-06T11:54:24.539Z"
   },
   {
    "duration": 10,
    "start_time": "2022-04-06T11:55:16.845Z"
   },
   {
    "duration": 12,
    "start_time": "2022-04-06T12:01:11.270Z"
   },
   {
    "duration": 4,
    "start_time": "2022-04-06T12:02:08.510Z"
   },
   {
    "duration": 10,
    "start_time": "2022-04-06T12:10:08.653Z"
   },
   {
    "duration": 4,
    "start_time": "2022-04-06T12:11:30.055Z"
   },
   {
    "duration": 6,
    "start_time": "2022-04-06T12:14:10.762Z"
   },
   {
    "duration": 7,
    "start_time": "2022-04-06T12:14:46.515Z"
   },
   {
    "duration": 8,
    "start_time": "2022-04-06T12:16:47.259Z"
   },
   {
    "duration": 9,
    "start_time": "2022-04-06T12:17:20.315Z"
   },
   {
    "duration": 3,
    "start_time": "2022-04-06T12:31:42.654Z"
   },
   {
    "duration": 3,
    "start_time": "2022-04-06T12:38:05.012Z"
   },
   {
    "duration": 4,
    "start_time": "2022-04-06T12:38:54.284Z"
   },
   {
    "duration": 8,
    "start_time": "2022-04-06T12:41:40.011Z"
   },
   {
    "duration": 1038,
    "start_time": "2022-04-07T08:56:27.803Z"
   },
   {
    "duration": 97,
    "start_time": "2022-04-07T08:56:28.843Z"
   },
   {
    "duration": 4,
    "start_time": "2022-04-07T08:56:28.943Z"
   },
   {
    "duration": 40,
    "start_time": "2022-04-07T08:56:28.949Z"
   },
   {
    "duration": 23,
    "start_time": "2022-04-07T08:56:28.993Z"
   },
   {
    "duration": 18,
    "start_time": "2022-04-07T08:56:29.018Z"
   },
   {
    "duration": 43,
    "start_time": "2022-04-07T08:56:29.038Z"
   },
   {
    "duration": 12,
    "start_time": "2022-04-07T08:56:29.083Z"
   },
   {
    "duration": 14,
    "start_time": "2022-04-07T08:56:29.098Z"
   },
   {
    "duration": 8,
    "start_time": "2022-04-07T08:56:29.115Z"
   },
   {
    "duration": 14,
    "start_time": "2022-04-07T09:00:29.382Z"
   },
   {
    "duration": 17,
    "start_time": "2022-04-07T09:00:54.695Z"
   },
   {
    "duration": 12,
    "start_time": "2022-04-07T09:02:30.836Z"
   },
   {
    "duration": 11,
    "start_time": "2022-04-07T09:02:39.454Z"
   },
   {
    "duration": 11,
    "start_time": "2022-04-07T09:03:12.107Z"
   },
   {
    "duration": 12,
    "start_time": "2022-04-07T09:03:26.582Z"
   },
   {
    "duration": 14,
    "start_time": "2022-04-07T09:03:35.700Z"
   },
   {
    "duration": 22,
    "start_time": "2022-04-07T09:10:40.674Z"
   },
   {
    "duration": 14,
    "start_time": "2022-04-07T09:11:03.005Z"
   },
   {
    "duration": 15,
    "start_time": "2022-04-07T09:11:49.045Z"
   },
   {
    "duration": 24,
    "start_time": "2022-04-07T09:11:58.498Z"
   },
   {
    "duration": 24,
    "start_time": "2022-04-07T09:24:58.953Z"
   },
   {
    "duration": 12,
    "start_time": "2022-04-07T09:45:27.060Z"
   },
   {
    "duration": 121,
    "start_time": "2022-04-07T09:45:40.318Z"
   },
   {
    "duration": 18,
    "start_time": "2022-04-07T09:45:50.973Z"
   },
   {
    "duration": 45,
    "start_time": "2022-04-07T09:50:53.750Z"
   },
   {
    "duration": 39,
    "start_time": "2022-04-07T09:54:04.811Z"
   },
   {
    "duration": 1138,
    "start_time": "2022-04-07T09:54:18.348Z"
   },
   {
    "duration": 84,
    "start_time": "2022-04-07T09:54:19.488Z"
   },
   {
    "duration": 4,
    "start_time": "2022-04-07T09:54:19.575Z"
   },
   {
    "duration": 26,
    "start_time": "2022-04-07T09:54:19.582Z"
   },
   {
    "duration": 37,
    "start_time": "2022-04-07T09:54:19.610Z"
   },
   {
    "duration": 26,
    "start_time": "2022-04-07T09:54:19.649Z"
   },
   {
    "duration": 24,
    "start_time": "2022-04-07T09:54:19.677Z"
   },
   {
    "duration": 22,
    "start_time": "2022-04-07T09:54:19.704Z"
   },
   {
    "duration": 26,
    "start_time": "2022-04-07T09:54:19.729Z"
   },
   {
    "duration": 12,
    "start_time": "2022-04-07T09:54:19.758Z"
   },
   {
    "duration": 26,
    "start_time": "2022-04-07T09:54:19.773Z"
   },
   {
    "duration": 42,
    "start_time": "2022-04-07T09:54:19.801Z"
   },
   {
    "duration": 19,
    "start_time": "2022-04-07T09:54:19.845Z"
   },
   {
    "duration": 26,
    "start_time": "2022-04-07T09:54:19.866Z"
   },
   {
    "duration": 158,
    "start_time": "2022-04-07T09:54:19.894Z"
   },
   {
    "duration": 466,
    "start_time": "2022-04-07T09:55:57.247Z"
   },
   {
    "duration": 614,
    "start_time": "2022-04-07T10:02:19.504Z"
   },
   {
    "duration": 398,
    "start_time": "2022-04-07T10:05:11.661Z"
   },
   {
    "duration": 274,
    "start_time": "2022-04-07T10:05:30.118Z"
   },
   {
    "duration": 268,
    "start_time": "2022-04-07T10:07:12.599Z"
   },
   {
    "duration": 275,
    "start_time": "2022-04-07T10:07:23.608Z"
   },
   {
    "duration": 281,
    "start_time": "2022-04-07T10:07:41.454Z"
   },
   {
    "duration": 289,
    "start_time": "2022-04-07T10:09:33.429Z"
   },
   {
    "duration": 304,
    "start_time": "2022-04-07T10:11:30.884Z"
   },
   {
    "duration": 307,
    "start_time": "2022-04-07T10:26:12.680Z"
   },
   {
    "duration": 576,
    "start_time": "2022-04-07T10:26:27.993Z"
   },
   {
    "duration": 249,
    "start_time": "2022-04-07T10:26:54.654Z"
   },
   {
    "duration": 227,
    "start_time": "2022-04-07T10:27:22.988Z"
   },
   {
    "duration": 228,
    "start_time": "2022-04-07T10:27:45.897Z"
   },
   {
    "duration": 348,
    "start_time": "2022-04-07T10:27:54.215Z"
   },
   {
    "duration": 345,
    "start_time": "2022-04-07T10:29:05.758Z"
   },
   {
    "duration": 353,
    "start_time": "2022-04-07T10:29:14.244Z"
   },
   {
    "duration": 377,
    "start_time": "2022-04-07T10:29:29.414Z"
   },
   {
    "duration": 384,
    "start_time": "2022-04-07T10:30:22.272Z"
   },
   {
    "duration": 365,
    "start_time": "2022-04-07T10:30:39.836Z"
   },
   {
    "duration": 377,
    "start_time": "2022-04-07T10:32:12.614Z"
   },
   {
    "duration": 334,
    "start_time": "2022-04-07T10:43:54.923Z"
   },
   {
    "duration": 265,
    "start_time": "2022-04-07T10:44:16.816Z"
   },
   {
    "duration": 285,
    "start_time": "2022-04-07T10:44:42.025Z"
   },
   {
    "duration": 12,
    "start_time": "2022-04-07T10:49:42.822Z"
   },
   {
    "duration": 11,
    "start_time": "2022-04-07T10:50:42.813Z"
   },
   {
    "duration": 338,
    "start_time": "2022-04-07T10:51:23.941Z"
   },
   {
    "duration": 359,
    "start_time": "2022-04-07T11:02:22.468Z"
   },
   {
    "duration": 335,
    "start_time": "2022-04-07T11:03:30.132Z"
   },
   {
    "duration": 19,
    "start_time": "2022-04-07T11:41:03.107Z"
   },
   {
    "duration": 17,
    "start_time": "2022-04-07T11:42:17.860Z"
   },
   {
    "duration": 1330,
    "start_time": "2022-04-07T11:43:06.163Z"
   },
   {
    "duration": 121,
    "start_time": "2022-04-07T11:43:07.497Z"
   },
   {
    "duration": 5,
    "start_time": "2022-04-07T11:43:07.620Z"
   },
   {
    "duration": 27,
    "start_time": "2022-04-07T11:43:07.627Z"
   },
   {
    "duration": 16,
    "start_time": "2022-04-07T11:43:07.673Z"
   },
   {
    "duration": 22,
    "start_time": "2022-04-07T11:43:07.692Z"
   },
   {
    "duration": 24,
    "start_time": "2022-04-07T11:43:07.717Z"
   },
   {
    "duration": 33,
    "start_time": "2022-04-07T11:43:07.743Z"
   },
   {
    "duration": 11,
    "start_time": "2022-04-07T11:43:07.778Z"
   },
   {
    "duration": 13,
    "start_time": "2022-04-07T11:43:07.791Z"
   },
   {
    "duration": 27,
    "start_time": "2022-04-07T11:43:07.806Z"
   },
   {
    "duration": 18,
    "start_time": "2022-04-07T11:43:07.835Z"
   },
   {
    "duration": 34,
    "start_time": "2022-04-07T11:43:07.855Z"
   },
   {
    "duration": 24,
    "start_time": "2022-04-07T11:43:07.892Z"
   },
   {
    "duration": 480,
    "start_time": "2022-04-07T11:43:07.918Z"
   },
   {
    "duration": 478,
    "start_time": "2022-04-07T11:43:08.400Z"
   },
   {
    "duration": 355,
    "start_time": "2022-04-07T11:43:08.880Z"
   },
   {
    "duration": 154,
    "start_time": "2022-04-07T11:43:09.237Z"
   },
   {
    "duration": 380,
    "start_time": "2022-04-07T11:44:03.722Z"
   },
   {
    "duration": 385,
    "start_time": "2022-04-07T11:46:44.602Z"
   },
   {
    "duration": 443,
    "start_time": "2022-04-07T11:47:03.175Z"
   },
   {
    "duration": 441,
    "start_time": "2022-04-07T11:47:24.391Z"
   },
   {
    "duration": 449,
    "start_time": "2022-04-07T11:47:55.612Z"
   },
   {
    "duration": 460,
    "start_time": "2022-04-07T11:48:46.777Z"
   },
   {
    "duration": 310,
    "start_time": "2022-04-07T11:54:48.866Z"
   },
   {
    "duration": 687,
    "start_time": "2022-04-07T11:56:40.352Z"
   },
   {
    "duration": 520,
    "start_time": "2022-04-07T12:03:14.367Z"
   },
   {
    "duration": 379,
    "start_time": "2022-04-07T12:03:36.287Z"
   },
   {
    "duration": 393,
    "start_time": "2022-04-07T12:03:50.033Z"
   },
   {
    "duration": 434,
    "start_time": "2022-04-07T12:04:35.322Z"
   },
   {
    "duration": 359,
    "start_time": "2022-04-07T12:05:11.780Z"
   },
   {
    "duration": 431,
    "start_time": "2022-04-07T12:16:21.204Z"
   },
   {
    "duration": 1974,
    "start_time": "2022-04-07T12:17:11.298Z"
   },
   {
    "duration": 435,
    "start_time": "2022-04-07T12:17:28.857Z"
   },
   {
    "duration": 421,
    "start_time": "2022-04-07T12:18:25.665Z"
   },
   {
    "duration": 475,
    "start_time": "2022-04-07T12:18:52.059Z"
   },
   {
    "duration": 498,
    "start_time": "2022-04-07T12:20:18.313Z"
   },
   {
    "duration": 433,
    "start_time": "2022-04-07T12:21:57.880Z"
   },
   {
    "duration": 431,
    "start_time": "2022-04-07T12:22:06.552Z"
   },
   {
    "duration": 323,
    "start_time": "2022-04-07T12:22:21.319Z"
   },
   {
    "duration": 337,
    "start_time": "2022-04-07T12:22:33.027Z"
   },
   {
    "duration": 363,
    "start_time": "2022-04-07T12:23:24.601Z"
   },
   {
    "duration": 418,
    "start_time": "2022-04-07T12:23:43.681Z"
   },
   {
    "duration": 11,
    "start_time": "2022-04-07T12:42:12.299Z"
   },
   {
    "duration": 16,
    "start_time": "2022-04-07T12:44:56.817Z"
   },
   {
    "duration": 11,
    "start_time": "2022-04-07T12:45:14.693Z"
   },
   {
    "duration": 142,
    "start_time": "2022-04-07T12:46:00.324Z"
   },
   {
    "duration": 11,
    "start_time": "2022-04-07T12:46:06.800Z"
   },
   {
    "duration": 19,
    "start_time": "2022-04-07T12:48:19.634Z"
   },
   {
    "duration": 16,
    "start_time": "2022-04-07T12:48:29.002Z"
   },
   {
    "duration": 15,
    "start_time": "2022-04-07T12:48:35.930Z"
   },
   {
    "duration": 15,
    "start_time": "2022-04-07T12:48:39.937Z"
   },
   {
    "duration": 15,
    "start_time": "2022-04-07T12:49:05.332Z"
   },
   {
    "duration": 181,
    "start_time": "2022-04-07T12:52:19.311Z"
   },
   {
    "duration": 203,
    "start_time": "2022-04-07T12:54:34.582Z"
   },
   {
    "duration": 242,
    "start_time": "2022-04-07T12:54:51.599Z"
   },
   {
    "duration": 1298,
    "start_time": "2022-04-08T06:50:47.212Z"
   },
   {
    "duration": 128,
    "start_time": "2022-04-08T06:50:48.513Z"
   },
   {
    "duration": 4,
    "start_time": "2022-04-08T06:50:48.642Z"
   },
   {
    "duration": 13,
    "start_time": "2022-04-08T06:50:48.648Z"
   },
   {
    "duration": 10,
    "start_time": "2022-04-08T06:50:48.663Z"
   },
   {
    "duration": 38,
    "start_time": "2022-04-08T06:50:48.675Z"
   },
   {
    "duration": 15,
    "start_time": "2022-04-08T06:50:48.715Z"
   },
   {
    "duration": 10,
    "start_time": "2022-04-08T06:50:48.731Z"
   },
   {
    "duration": 10,
    "start_time": "2022-04-08T06:50:48.743Z"
   },
   {
    "duration": 5,
    "start_time": "2022-04-08T06:50:48.756Z"
   },
   {
    "duration": 11,
    "start_time": "2022-04-08T06:50:48.763Z"
   },
   {
    "duration": 47,
    "start_time": "2022-04-08T06:50:48.775Z"
   },
   {
    "duration": 12,
    "start_time": "2022-04-08T06:50:48.824Z"
   },
   {
    "duration": 13,
    "start_time": "2022-04-08T06:50:48.838Z"
   },
   {
    "duration": 328,
    "start_time": "2022-04-08T06:50:48.852Z"
   },
   {
    "duration": 315,
    "start_time": "2022-04-08T06:50:49.182Z"
   },
   {
    "duration": 220,
    "start_time": "2022-04-08T06:50:49.499Z"
   },
   {
    "duration": 371,
    "start_time": "2022-04-08T06:50:49.721Z"
   },
   {
    "duration": 251,
    "start_time": "2022-04-08T06:50:50.094Z"
   },
   {
    "duration": 317,
    "start_time": "2022-04-08T06:50:50.346Z"
   },
   {
    "duration": 9,
    "start_time": "2022-04-08T06:50:50.665Z"
   },
   {
    "duration": 12,
    "start_time": "2022-04-08T06:50:50.677Z"
   },
   {
    "duration": 157,
    "start_time": "2022-04-08T06:50:50.709Z"
   },
   {
    "duration": 1586,
    "start_time": "2022-04-08T07:14:26.292Z"
   },
   {
    "duration": 127,
    "start_time": "2022-04-08T07:16:04.051Z"
   },
   {
    "duration": 142,
    "start_time": "2022-04-08T07:16:41.400Z"
   },
   {
    "duration": 151,
    "start_time": "2022-04-08T07:17:50.186Z"
   },
   {
    "duration": 237,
    "start_time": "2022-04-08T07:18:15.432Z"
   },
   {
    "duration": 162,
    "start_time": "2022-04-08T07:21:25.978Z"
   },
   {
    "duration": 153,
    "start_time": "2022-04-08T07:21:34.607Z"
   },
   {
    "duration": 5,
    "start_time": "2022-04-08T07:28:39.500Z"
   },
   {
    "duration": 5,
    "start_time": "2022-04-08T07:39:22.554Z"
   },
   {
    "duration": 166,
    "start_time": "2022-04-08T07:42:14.745Z"
   },
   {
    "duration": 146,
    "start_time": "2022-04-08T07:47:38.797Z"
   },
   {
    "duration": 9,
    "start_time": "2022-04-08T07:59:51.979Z"
   },
   {
    "duration": 8,
    "start_time": "2022-04-08T08:00:45.333Z"
   },
   {
    "duration": 9,
    "start_time": "2022-04-08T09:10:54.381Z"
   },
   {
    "duration": 9,
    "start_time": "2022-04-08T09:11:29.528Z"
   },
   {
    "duration": 9,
    "start_time": "2022-04-08T09:12:04.646Z"
   },
   {
    "duration": 9,
    "start_time": "2022-04-08T09:12:26.510Z"
   },
   {
    "duration": 9,
    "start_time": "2022-04-08T09:14:52.314Z"
   },
   {
    "duration": 97,
    "start_time": "2022-04-08T09:15:05.018Z"
   },
   {
    "duration": 18,
    "start_time": "2022-04-08T09:15:09.465Z"
   },
   {
    "duration": 19,
    "start_time": "2022-04-08T09:16:12.120Z"
   },
   {
    "duration": 8,
    "start_time": "2022-04-08T09:17:24.569Z"
   },
   {
    "duration": 7,
    "start_time": "2022-04-08T09:17:35.506Z"
   },
   {
    "duration": 8,
    "start_time": "2022-04-08T09:17:42.665Z"
   },
   {
    "duration": 9,
    "start_time": "2022-04-08T09:21:00.690Z"
   },
   {
    "duration": 110,
    "start_time": "2022-04-08T09:30:32.562Z"
   },
   {
    "duration": 138,
    "start_time": "2022-04-08T09:31:44.687Z"
   },
   {
    "duration": 12,
    "start_time": "2022-04-08T09:43:33.003Z"
   },
   {
    "duration": 25,
    "start_time": "2022-04-08T09:45:25.422Z"
   },
   {
    "duration": 28,
    "start_time": "2022-04-08T09:45:35.097Z"
   },
   {
    "duration": 8,
    "start_time": "2022-04-08T09:50:11.796Z"
   },
   {
    "duration": 142,
    "start_time": "2022-04-08T09:52:17.220Z"
   },
   {
    "duration": 138,
    "start_time": "2022-04-08T09:52:31.877Z"
   },
   {
    "duration": 146,
    "start_time": "2022-04-08T09:52:51.820Z"
   },
   {
    "duration": 8,
    "start_time": "2022-04-08T09:55:18.796Z"
   },
   {
    "duration": 8,
    "start_time": "2022-04-08T09:55:42.253Z"
   },
   {
    "duration": 11,
    "start_time": "2022-04-08T10:04:36.101Z"
   },
   {
    "duration": 14,
    "start_time": "2022-04-08T10:09:54.263Z"
   },
   {
    "duration": 3,
    "start_time": "2022-04-08T10:10:35.423Z"
   },
   {
    "duration": 4,
    "start_time": "2022-04-08T10:10:44.104Z"
   },
   {
    "duration": 110,
    "start_time": "2022-04-08T10:35:01.464Z"
   },
   {
    "duration": 112,
    "start_time": "2022-04-08T10:35:27.911Z"
   },
   {
    "duration": 242,
    "start_time": "2022-04-08T10:36:13.695Z"
   },
   {
    "duration": 5,
    "start_time": "2022-04-08T10:39:36.144Z"
   },
   {
    "duration": 12,
    "start_time": "2022-04-08T11:08:29.791Z"
   },
   {
    "duration": 13,
    "start_time": "2022-04-08T11:09:11.493Z"
   },
   {
    "duration": 26,
    "start_time": "2022-04-08T11:09:23.443Z"
   },
   {
    "duration": 11,
    "start_time": "2022-04-08T11:20:18.015Z"
   },
   {
    "duration": 11,
    "start_time": "2022-04-08T13:01:28.818Z"
   },
   {
    "duration": 18,
    "start_time": "2022-04-08T13:22:27.221Z"
   },
   {
    "duration": 10,
    "start_time": "2022-04-08T13:22:41.617Z"
   },
   {
    "duration": 24,
    "start_time": "2022-04-08T13:24:20.280Z"
   },
   {
    "duration": 14,
    "start_time": "2022-04-08T13:32:04.440Z"
   },
   {
    "duration": 51,
    "start_time": "2022-04-09T06:56:59.675Z"
   },
   {
    "duration": 7,
    "start_time": "2022-04-09T06:57:04.985Z"
   },
   {
    "duration": 1190,
    "start_time": "2022-04-09T06:57:15.993Z"
   },
   {
    "duration": 130,
    "start_time": "2022-04-09T06:57:17.185Z"
   },
   {
    "duration": 3,
    "start_time": "2022-04-09T06:57:17.316Z"
   },
   {
    "duration": 14,
    "start_time": "2022-04-09T06:57:17.321Z"
   },
   {
    "duration": 11,
    "start_time": "2022-04-09T06:57:17.337Z"
   },
   {
    "duration": 32,
    "start_time": "2022-04-09T06:57:17.349Z"
   },
   {
    "duration": 15,
    "start_time": "2022-04-09T06:57:17.383Z"
   },
   {
    "duration": 8,
    "start_time": "2022-04-09T06:57:17.400Z"
   },
   {
    "duration": 8,
    "start_time": "2022-04-09T06:57:17.410Z"
   },
   {
    "duration": 8,
    "start_time": "2022-04-09T06:57:17.420Z"
   },
   {
    "duration": 4,
    "start_time": "2022-04-09T06:57:17.430Z"
   },
   {
    "duration": 11,
    "start_time": "2022-04-09T06:57:17.435Z"
   },
   {
    "duration": 39,
    "start_time": "2022-04-09T06:57:17.448Z"
   },
   {
    "duration": 7,
    "start_time": "2022-04-09T06:57:17.491Z"
   },
   {
    "duration": 5,
    "start_time": "2022-04-09T06:57:17.500Z"
   },
   {
    "duration": 166,
    "start_time": "2022-04-09T06:57:17.507Z"
   },
   {
    "duration": 7,
    "start_time": "2022-04-09T06:57:17.674Z"
   },
   {
    "duration": 9,
    "start_time": "2022-04-09T06:57:17.682Z"
   },
   {
    "duration": 5,
    "start_time": "2022-04-09T06:57:17.692Z"
   },
   {
    "duration": 224,
    "start_time": "2022-04-09T06:57:17.698Z"
   },
   {
    "duration": 0,
    "start_time": "2022-04-09T06:57:17.924Z"
   },
   {
    "duration": 0,
    "start_time": "2022-04-09T06:57:17.925Z"
   },
   {
    "duration": 0,
    "start_time": "2022-04-09T06:57:17.926Z"
   },
   {
    "duration": 0,
    "start_time": "2022-04-09T06:57:17.927Z"
   },
   {
    "duration": 0,
    "start_time": "2022-04-09T06:57:17.928Z"
   },
   {
    "duration": 0,
    "start_time": "2022-04-09T06:57:17.929Z"
   },
   {
    "duration": 0,
    "start_time": "2022-04-09T06:57:17.931Z"
   },
   {
    "duration": 0,
    "start_time": "2022-04-09T06:57:17.932Z"
   },
   {
    "duration": 0,
    "start_time": "2022-04-09T06:57:17.933Z"
   },
   {
    "duration": 0,
    "start_time": "2022-04-09T06:57:17.934Z"
   },
   {
    "duration": 0,
    "start_time": "2022-04-09T06:57:17.935Z"
   },
   {
    "duration": 0,
    "start_time": "2022-04-09T06:57:17.936Z"
   },
   {
    "duration": 0,
    "start_time": "2022-04-09T06:57:17.937Z"
   },
   {
    "duration": 0,
    "start_time": "2022-04-09T06:57:17.939Z"
   },
   {
    "duration": 0,
    "start_time": "2022-04-09T06:57:17.940Z"
   },
   {
    "duration": 0,
    "start_time": "2022-04-09T06:57:17.941Z"
   },
   {
    "duration": 0,
    "start_time": "2022-04-09T06:57:17.942Z"
   },
   {
    "duration": 0,
    "start_time": "2022-04-09T06:57:17.979Z"
   },
   {
    "duration": 0,
    "start_time": "2022-04-09T06:57:17.980Z"
   },
   {
    "duration": 0,
    "start_time": "2022-04-09T06:57:17.982Z"
   },
   {
    "duration": 0,
    "start_time": "2022-04-09T06:57:17.983Z"
   },
   {
    "duration": 0,
    "start_time": "2022-04-09T06:57:17.984Z"
   },
   {
    "duration": 0,
    "start_time": "2022-04-09T06:57:17.987Z"
   },
   {
    "duration": 0,
    "start_time": "2022-04-09T06:57:17.988Z"
   },
   {
    "duration": 4,
    "start_time": "2022-04-09T06:59:24.170Z"
   },
   {
    "duration": 10,
    "start_time": "2022-04-09T06:59:38.586Z"
   },
   {
    "duration": 11,
    "start_time": "2022-04-09T07:01:07.362Z"
   },
   {
    "duration": 12,
    "start_time": "2022-04-09T07:03:31.530Z"
   },
   {
    "duration": 20,
    "start_time": "2022-04-09T07:05:28.615Z"
   },
   {
    "duration": 16,
    "start_time": "2022-04-09T07:05:52.889Z"
   },
   {
    "duration": 15,
    "start_time": "2022-04-09T07:07:08.473Z"
   },
   {
    "duration": 15,
    "start_time": "2022-04-09T07:08:00.420Z"
   },
   {
    "duration": 10,
    "start_time": "2022-04-09T07:14:39.404Z"
   },
   {
    "duration": 13,
    "start_time": "2022-04-09T07:15:30.396Z"
   },
   {
    "duration": 12,
    "start_time": "2022-04-09T07:16:06.288Z"
   },
   {
    "duration": 10,
    "start_time": "2022-04-09T07:16:23.555Z"
   },
   {
    "duration": 13,
    "start_time": "2022-04-09T07:16:48.732Z"
   },
   {
    "duration": 12,
    "start_time": "2022-04-09T07:17:42.020Z"
   },
   {
    "duration": 13,
    "start_time": "2022-04-09T07:19:40.266Z"
   },
   {
    "duration": 14,
    "start_time": "2022-04-09T07:20:16.580Z"
   },
   {
    "duration": 14,
    "start_time": "2022-04-09T07:20:24.983Z"
   },
   {
    "duration": 8,
    "start_time": "2022-04-09T07:23:59.071Z"
   },
   {
    "duration": 8,
    "start_time": "2022-04-09T07:24:03.785Z"
   },
   {
    "duration": 14,
    "start_time": "2022-04-09T07:24:22.200Z"
   },
   {
    "duration": 8,
    "start_time": "2022-04-09T07:25:01.699Z"
   },
   {
    "duration": 65,
    "start_time": "2022-04-09T07:25:20.314Z"
   },
   {
    "duration": 12,
    "start_time": "2022-04-09T07:27:57.659Z"
   },
   {
    "duration": 13,
    "start_time": "2022-04-09T07:28:14.879Z"
   },
   {
    "duration": 983,
    "start_time": "2022-04-09T07:29:12.834Z"
   },
   {
    "duration": 118,
    "start_time": "2022-04-09T07:29:13.819Z"
   },
   {
    "duration": 3,
    "start_time": "2022-04-09T07:29:13.939Z"
   },
   {
    "duration": 16,
    "start_time": "2022-04-09T07:29:13.944Z"
   },
   {
    "duration": 11,
    "start_time": "2022-04-09T07:29:13.962Z"
   },
   {
    "duration": 15,
    "start_time": "2022-04-09T07:29:13.975Z"
   },
   {
    "duration": 27,
    "start_time": "2022-04-09T07:29:13.991Z"
   },
   {
    "duration": 17,
    "start_time": "2022-04-09T07:29:14.020Z"
   },
   {
    "duration": 10,
    "start_time": "2022-04-09T07:29:14.038Z"
   },
   {
    "duration": 8,
    "start_time": "2022-04-09T07:29:14.051Z"
   },
   {
    "duration": 29,
    "start_time": "2022-04-09T07:29:14.060Z"
   },
   {
    "duration": 7,
    "start_time": "2022-04-09T07:29:14.090Z"
   },
   {
    "duration": 5,
    "start_time": "2022-04-09T07:29:14.099Z"
   },
   {
    "duration": 13,
    "start_time": "2022-04-09T07:29:14.106Z"
   },
   {
    "duration": 8,
    "start_time": "2022-04-09T07:29:14.121Z"
   },
   {
    "duration": 6,
    "start_time": "2022-04-09T07:29:14.130Z"
   },
   {
    "duration": 178,
    "start_time": "2022-04-09T07:29:14.137Z"
   },
   {
    "duration": 5,
    "start_time": "2022-04-09T07:29:14.316Z"
   },
   {
    "duration": 10,
    "start_time": "2022-04-09T07:29:14.322Z"
   },
   {
    "duration": 4,
    "start_time": "2022-04-09T07:29:14.334Z"
   },
   {
    "duration": 215,
    "start_time": "2022-04-09T07:29:14.340Z"
   },
   {
    "duration": 0,
    "start_time": "2022-04-09T07:29:14.557Z"
   },
   {
    "duration": 0,
    "start_time": "2022-04-09T07:29:14.559Z"
   },
   {
    "duration": 0,
    "start_time": "2022-04-09T07:29:14.559Z"
   },
   {
    "duration": 0,
    "start_time": "2022-04-09T07:29:14.560Z"
   },
   {
    "duration": 0,
    "start_time": "2022-04-09T07:29:14.561Z"
   },
   {
    "duration": 0,
    "start_time": "2022-04-09T07:29:14.579Z"
   },
   {
    "duration": 0,
    "start_time": "2022-04-09T07:29:14.580Z"
   },
   {
    "duration": 0,
    "start_time": "2022-04-09T07:29:14.581Z"
   },
   {
    "duration": 0,
    "start_time": "2022-04-09T07:29:14.582Z"
   },
   {
    "duration": 0,
    "start_time": "2022-04-09T07:29:14.583Z"
   },
   {
    "duration": 0,
    "start_time": "2022-04-09T07:29:14.584Z"
   },
   {
    "duration": 0,
    "start_time": "2022-04-09T07:29:14.584Z"
   },
   {
    "duration": 0,
    "start_time": "2022-04-09T07:29:14.585Z"
   },
   {
    "duration": 0,
    "start_time": "2022-04-09T07:29:14.586Z"
   },
   {
    "duration": 0,
    "start_time": "2022-04-09T07:29:14.587Z"
   },
   {
    "duration": 0,
    "start_time": "2022-04-09T07:29:14.588Z"
   },
   {
    "duration": 0,
    "start_time": "2022-04-09T07:29:14.589Z"
   },
   {
    "duration": 0,
    "start_time": "2022-04-09T07:29:14.590Z"
   },
   {
    "duration": 0,
    "start_time": "2022-04-09T07:29:14.591Z"
   },
   {
    "duration": 0,
    "start_time": "2022-04-09T07:29:14.592Z"
   },
   {
    "duration": 0,
    "start_time": "2022-04-09T07:29:14.592Z"
   },
   {
    "duration": 0,
    "start_time": "2022-04-09T07:29:14.593Z"
   },
   {
    "duration": 0,
    "start_time": "2022-04-09T07:29:14.594Z"
   },
   {
    "duration": 0,
    "start_time": "2022-04-09T07:29:14.595Z"
   },
   {
    "duration": 13,
    "start_time": "2022-04-09T07:32:52.701Z"
   },
   {
    "duration": 11,
    "start_time": "2022-04-09T07:35:08.660Z"
   },
   {
    "duration": 10,
    "start_time": "2022-04-09T07:35:25.491Z"
   },
   {
    "duration": 6,
    "start_time": "2022-04-09T07:35:29.235Z"
   },
   {
    "duration": 6,
    "start_time": "2022-04-09T07:35:56.344Z"
   },
   {
    "duration": 11,
    "start_time": "2022-04-09T07:38:05.197Z"
   },
   {
    "duration": 12,
    "start_time": "2022-04-09T07:38:27.071Z"
   },
   {
    "duration": 13,
    "start_time": "2022-04-09T07:40:00.283Z"
   },
   {
    "duration": 113,
    "start_time": "2022-04-09T07:53:42.569Z"
   },
   {
    "duration": 982,
    "start_time": "2022-04-09T07:53:49.633Z"
   },
   {
    "duration": 117,
    "start_time": "2022-04-09T07:53:50.617Z"
   },
   {
    "duration": 4,
    "start_time": "2022-04-09T07:53:50.736Z"
   },
   {
    "duration": 14,
    "start_time": "2022-04-09T07:53:50.742Z"
   },
   {
    "duration": 21,
    "start_time": "2022-04-09T07:53:50.758Z"
   },
   {
    "duration": 14,
    "start_time": "2022-04-09T07:53:50.781Z"
   },
   {
    "duration": 18,
    "start_time": "2022-04-09T07:53:50.797Z"
   },
   {
    "duration": 10,
    "start_time": "2022-04-09T07:53:50.817Z"
   },
   {
    "duration": 9,
    "start_time": "2022-04-09T07:53:50.828Z"
   },
   {
    "duration": 5,
    "start_time": "2022-04-09T07:53:50.839Z"
   },
   {
    "duration": 39,
    "start_time": "2022-04-09T07:53:50.845Z"
   },
   {
    "duration": 8,
    "start_time": "2022-04-09T07:53:50.886Z"
   },
   {
    "duration": 5,
    "start_time": "2022-04-09T07:53:50.896Z"
   },
   {
    "duration": 180,
    "start_time": "2022-04-09T07:53:50.905Z"
   },
   {
    "duration": 5,
    "start_time": "2022-04-09T07:53:51.087Z"
   },
   {
    "duration": 8,
    "start_time": "2022-04-09T07:53:51.094Z"
   },
   {
    "duration": 5,
    "start_time": "2022-04-09T07:53:51.104Z"
   },
   {
    "duration": 225,
    "start_time": "2022-04-09T07:53:51.111Z"
   },
   {
    "duration": 0,
    "start_time": "2022-04-09T07:53:51.337Z"
   },
   {
    "duration": 0,
    "start_time": "2022-04-09T07:53:51.338Z"
   },
   {
    "duration": 0,
    "start_time": "2022-04-09T07:53:51.339Z"
   },
   {
    "duration": 0,
    "start_time": "2022-04-09T07:53:51.340Z"
   },
   {
    "duration": 0,
    "start_time": "2022-04-09T07:53:51.342Z"
   },
   {
    "duration": 0,
    "start_time": "2022-04-09T07:53:51.343Z"
   },
   {
    "duration": 0,
    "start_time": "2022-04-09T07:53:51.344Z"
   },
   {
    "duration": 0,
    "start_time": "2022-04-09T07:53:51.345Z"
   },
   {
    "duration": 0,
    "start_time": "2022-04-09T07:53:51.346Z"
   },
   {
    "duration": 0,
    "start_time": "2022-04-09T07:53:51.347Z"
   },
   {
    "duration": 0,
    "start_time": "2022-04-09T07:53:51.348Z"
   },
   {
    "duration": 0,
    "start_time": "2022-04-09T07:53:51.349Z"
   },
   {
    "duration": 0,
    "start_time": "2022-04-09T07:53:51.350Z"
   },
   {
    "duration": 0,
    "start_time": "2022-04-09T07:53:51.351Z"
   },
   {
    "duration": 0,
    "start_time": "2022-04-09T07:53:51.379Z"
   },
   {
    "duration": 0,
    "start_time": "2022-04-09T07:53:51.381Z"
   },
   {
    "duration": 0,
    "start_time": "2022-04-09T07:53:51.382Z"
   },
   {
    "duration": 0,
    "start_time": "2022-04-09T07:53:51.383Z"
   },
   {
    "duration": 0,
    "start_time": "2022-04-09T07:53:51.384Z"
   },
   {
    "duration": 0,
    "start_time": "2022-04-09T07:53:51.386Z"
   },
   {
    "duration": 0,
    "start_time": "2022-04-09T07:53:51.387Z"
   },
   {
    "duration": 0,
    "start_time": "2022-04-09T07:53:51.388Z"
   },
   {
    "duration": 0,
    "start_time": "2022-04-09T07:53:51.389Z"
   },
   {
    "duration": 0,
    "start_time": "2022-04-09T07:53:51.390Z"
   },
   {
    "duration": 9,
    "start_time": "2022-04-09T07:57:34.890Z"
   },
   {
    "duration": 134,
    "start_time": "2022-04-09T08:01:21.834Z"
   },
   {
    "duration": 1048,
    "start_time": "2022-04-09T08:01:31.544Z"
   },
   {
    "duration": 110,
    "start_time": "2022-04-09T08:01:32.594Z"
   },
   {
    "duration": 3,
    "start_time": "2022-04-09T08:01:32.706Z"
   },
   {
    "duration": 11,
    "start_time": "2022-04-09T08:01:32.711Z"
   },
   {
    "duration": 12,
    "start_time": "2022-04-09T08:01:32.724Z"
   },
   {
    "duration": 9,
    "start_time": "2022-04-09T08:01:32.738Z"
   },
   {
    "duration": 38,
    "start_time": "2022-04-09T08:01:32.749Z"
   },
   {
    "duration": 10,
    "start_time": "2022-04-09T08:01:32.788Z"
   },
   {
    "duration": 9,
    "start_time": "2022-04-09T08:01:32.800Z"
   },
   {
    "duration": 5,
    "start_time": "2022-04-09T08:01:32.811Z"
   },
   {
    "duration": 12,
    "start_time": "2022-04-09T08:01:32.818Z"
   },
   {
    "duration": 8,
    "start_time": "2022-04-09T08:01:32.832Z"
   },
   {
    "duration": 39,
    "start_time": "2022-04-09T08:01:32.842Z"
   },
   {
    "duration": 146,
    "start_time": "2022-04-09T08:01:32.883Z"
   },
   {
    "duration": 5,
    "start_time": "2022-04-09T08:01:33.030Z"
   },
   {
    "duration": 8,
    "start_time": "2022-04-09T08:01:33.037Z"
   },
   {
    "duration": 4,
    "start_time": "2022-04-09T08:01:33.047Z"
   },
   {
    "duration": 161,
    "start_time": "2022-04-09T08:01:33.053Z"
   },
   {
    "duration": 4,
    "start_time": "2022-04-09T08:01:33.216Z"
   },
   {
    "duration": 12,
    "start_time": "2022-04-09T08:01:33.222Z"
   },
   {
    "duration": 23,
    "start_time": "2022-04-09T08:01:33.236Z"
   },
   {
    "duration": 25,
    "start_time": "2022-04-09T08:01:33.261Z"
   },
   {
    "duration": 12,
    "start_time": "2022-04-09T08:01:33.288Z"
   },
   {
    "duration": 288,
    "start_time": "2022-04-09T08:01:33.302Z"
   },
   {
    "duration": 267,
    "start_time": "2022-04-09T08:01:33.591Z"
   },
   {
    "duration": 195,
    "start_time": "2022-04-09T08:01:33.859Z"
   },
   {
    "duration": 310,
    "start_time": "2022-04-09T08:01:34.056Z"
   },
   {
    "duration": 208,
    "start_time": "2022-04-09T08:01:34.378Z"
   },
   {
    "duration": 300,
    "start_time": "2022-04-09T08:01:34.587Z"
   },
   {
    "duration": 8,
    "start_time": "2022-04-09T08:01:34.888Z"
   },
   {
    "duration": 124,
    "start_time": "2022-04-09T08:01:34.897Z"
   },
   {
    "duration": 8,
    "start_time": "2022-04-09T08:01:35.023Z"
   },
   {
    "duration": 151,
    "start_time": "2022-04-09T08:01:35.032Z"
   },
   {
    "duration": 27,
    "start_time": "2022-04-09T08:01:35.185Z"
   },
   {
    "duration": 7,
    "start_time": "2022-04-09T08:01:35.214Z"
   },
   {
    "duration": 164,
    "start_time": "2022-04-09T08:01:35.222Z"
   },
   {
    "duration": 26,
    "start_time": "2022-04-09T08:01:35.388Z"
   },
   {
    "duration": 11,
    "start_time": "2022-04-09T08:01:35.415Z"
   },
   {
    "duration": 12,
    "start_time": "2022-04-09T08:01:35.428Z"
   },
   {
    "duration": 42,
    "start_time": "2022-04-09T08:01:35.442Z"
   },
   {
    "duration": 28,
    "start_time": "2022-04-09T08:01:35.485Z"
   },
   {
    "duration": 13,
    "start_time": "2022-04-09T08:01:35.515Z"
   },
   {
    "duration": 17,
    "start_time": "2022-04-09T08:04:00.876Z"
   },
   {
    "duration": 115,
    "start_time": "2022-04-09T08:08:13.571Z"
   },
   {
    "duration": 137,
    "start_time": "2022-04-09T08:08:29.986Z"
   },
   {
    "duration": 1116,
    "start_time": "2022-04-09T08:42:28.474Z"
   },
   {
    "duration": 116,
    "start_time": "2022-04-09T08:42:29.592Z"
   },
   {
    "duration": 3,
    "start_time": "2022-04-09T08:42:29.710Z"
   },
   {
    "duration": 13,
    "start_time": "2022-04-09T08:42:29.715Z"
   },
   {
    "duration": 12,
    "start_time": "2022-04-09T08:42:29.731Z"
   },
   {
    "duration": 41,
    "start_time": "2022-04-09T08:42:29.744Z"
   },
   {
    "duration": 13,
    "start_time": "2022-04-09T08:42:29.787Z"
   },
   {
    "duration": 11,
    "start_time": "2022-04-09T08:42:29.801Z"
   },
   {
    "duration": 10,
    "start_time": "2022-04-09T08:42:29.813Z"
   },
   {
    "duration": 5,
    "start_time": "2022-04-09T08:42:29.825Z"
   },
   {
    "duration": 48,
    "start_time": "2022-04-09T08:42:29.832Z"
   },
   {
    "duration": 9,
    "start_time": "2022-04-09T08:42:29.882Z"
   },
   {
    "duration": 12,
    "start_time": "2022-04-09T08:42:29.893Z"
   },
   {
    "duration": 161,
    "start_time": "2022-04-09T08:42:29.908Z"
   },
   {
    "duration": 12,
    "start_time": "2022-04-09T08:42:30.070Z"
   },
   {
    "duration": 14,
    "start_time": "2022-04-09T08:42:30.084Z"
   },
   {
    "duration": 10,
    "start_time": "2022-04-09T08:42:30.099Z"
   },
   {
    "duration": 154,
    "start_time": "2022-04-09T08:42:30.111Z"
   },
   {
    "duration": 12,
    "start_time": "2022-04-09T08:42:30.267Z"
   },
   {
    "duration": 19,
    "start_time": "2022-04-09T08:42:30.281Z"
   },
   {
    "duration": 36,
    "start_time": "2022-04-09T08:42:30.302Z"
   },
   {
    "duration": 16,
    "start_time": "2022-04-09T08:42:30.340Z"
   },
   {
    "duration": 21,
    "start_time": "2022-04-09T08:42:30.358Z"
   },
   {
    "duration": 393,
    "start_time": "2022-04-09T08:42:30.381Z"
   },
   {
    "duration": 412,
    "start_time": "2022-04-09T08:42:30.778Z"
   },
   {
    "duration": 301,
    "start_time": "2022-04-09T08:42:31.192Z"
   },
   {
    "duration": 373,
    "start_time": "2022-04-09T08:42:31.495Z"
   },
   {
    "duration": 298,
    "start_time": "2022-04-09T08:42:31.870Z"
   },
   {
    "duration": 308,
    "start_time": "2022-04-09T08:42:32.170Z"
   },
   {
    "duration": 8,
    "start_time": "2022-04-09T08:42:32.480Z"
   },
   {
    "duration": 117,
    "start_time": "2022-04-09T08:42:32.489Z"
   },
   {
    "duration": 8,
    "start_time": "2022-04-09T08:42:32.608Z"
   },
   {
    "duration": 141,
    "start_time": "2022-04-09T08:42:32.618Z"
   },
   {
    "duration": 43,
    "start_time": "2022-04-09T08:42:32.760Z"
   },
   {
    "duration": 7,
    "start_time": "2022-04-09T08:42:32.805Z"
   },
   {
    "duration": 176,
    "start_time": "2022-04-09T08:42:32.813Z"
   },
   {
    "duration": 27,
    "start_time": "2022-04-09T08:42:32.991Z"
   },
   {
    "duration": 11,
    "start_time": "2022-04-09T08:42:33.019Z"
   },
   {
    "duration": 11,
    "start_time": "2022-04-09T08:42:33.032Z"
   },
   {
    "duration": 41,
    "start_time": "2022-04-09T08:42:33.044Z"
   },
   {
    "duration": 23,
    "start_time": "2022-04-09T08:42:33.089Z"
   },
   {
    "duration": 14,
    "start_time": "2022-04-09T08:42:33.114Z"
   },
   {
    "duration": 1008,
    "start_time": "2022-04-09T09:02:12.509Z"
   },
   {
    "duration": 120,
    "start_time": "2022-04-09T09:02:13.519Z"
   },
   {
    "duration": 3,
    "start_time": "2022-04-09T09:02:13.640Z"
   },
   {
    "duration": 11,
    "start_time": "2022-04-09T09:02:13.646Z"
   },
   {
    "duration": 10,
    "start_time": "2022-04-09T09:02:13.659Z"
   },
   {
    "duration": 10,
    "start_time": "2022-04-09T09:02:13.679Z"
   },
   {
    "duration": 13,
    "start_time": "2022-04-09T09:02:13.691Z"
   },
   {
    "duration": 10,
    "start_time": "2022-04-09T09:02:13.706Z"
   },
   {
    "duration": 11,
    "start_time": "2022-04-09T09:02:13.717Z"
   },
   {
    "duration": 5,
    "start_time": "2022-04-09T09:02:13.730Z"
   },
   {
    "duration": 44,
    "start_time": "2022-04-09T09:02:13.737Z"
   },
   {
    "duration": 8,
    "start_time": "2022-04-09T09:02:13.783Z"
   },
   {
    "duration": 10,
    "start_time": "2022-04-09T09:02:13.792Z"
   },
   {
    "duration": 163,
    "start_time": "2022-04-09T09:02:13.804Z"
   },
   {
    "duration": 10,
    "start_time": "2022-04-09T09:02:13.969Z"
   },
   {
    "duration": 8,
    "start_time": "2022-04-09T09:02:13.981Z"
   },
   {
    "duration": 5,
    "start_time": "2022-04-09T09:02:13.990Z"
   },
   {
    "duration": 159,
    "start_time": "2022-04-09T09:02:13.996Z"
   },
   {
    "duration": 5,
    "start_time": "2022-04-09T09:02:14.156Z"
   },
   {
    "duration": 16,
    "start_time": "2022-04-09T09:02:14.163Z"
   },
   {
    "duration": 13,
    "start_time": "2022-04-09T09:02:14.181Z"
   },
   {
    "duration": 12,
    "start_time": "2022-04-09T09:02:14.195Z"
   },
   {
    "duration": 17,
    "start_time": "2022-04-09T09:02:14.209Z"
   },
   {
    "duration": 309,
    "start_time": "2022-04-09T09:02:14.227Z"
   },
   {
    "duration": 270,
    "start_time": "2022-04-09T09:02:14.538Z"
   },
   {
    "duration": 199,
    "start_time": "2022-04-09T09:02:14.809Z"
   },
   {
    "duration": 390,
    "start_time": "2022-04-09T09:02:15.010Z"
   },
   {
    "duration": 305,
    "start_time": "2022-04-09T09:02:15.405Z"
   },
   {
    "duration": 369,
    "start_time": "2022-04-09T09:02:15.712Z"
   },
   {
    "duration": 8,
    "start_time": "2022-04-09T09:02:16.083Z"
   },
   {
    "duration": 123,
    "start_time": "2022-04-09T09:02:16.093Z"
   },
   {
    "duration": 9,
    "start_time": "2022-04-09T09:02:16.218Z"
   },
   {
    "duration": 154,
    "start_time": "2022-04-09T09:02:16.229Z"
   },
   {
    "duration": 30,
    "start_time": "2022-04-09T09:02:16.385Z"
   },
   {
    "duration": 8,
    "start_time": "2022-04-09T09:02:16.417Z"
   },
   {
    "duration": 161,
    "start_time": "2022-04-09T09:02:16.427Z"
   },
   {
    "duration": 32,
    "start_time": "2022-04-09T09:02:16.590Z"
   },
   {
    "duration": 12,
    "start_time": "2022-04-09T09:02:16.624Z"
   },
   {
    "duration": 42,
    "start_time": "2022-04-09T09:02:16.638Z"
   },
   {
    "duration": 11,
    "start_time": "2022-04-09T09:02:16.682Z"
   },
   {
    "duration": 23,
    "start_time": "2022-04-09T09:02:16.695Z"
   },
   {
    "duration": 13,
    "start_time": "2022-04-09T09:02:16.720Z"
   },
   {
    "duration": 1068,
    "start_time": "2022-04-09T13:28:17.509Z"
   },
   {
    "duration": 122,
    "start_time": "2022-04-09T13:28:18.579Z"
   },
   {
    "duration": 3,
    "start_time": "2022-04-09T13:28:18.703Z"
   },
   {
    "duration": 13,
    "start_time": "2022-04-09T13:28:18.708Z"
   },
   {
    "duration": 12,
    "start_time": "2022-04-09T13:28:18.723Z"
   },
   {
    "duration": 14,
    "start_time": "2022-04-09T13:28:18.737Z"
   },
   {
    "duration": 13,
    "start_time": "2022-04-09T13:28:18.752Z"
   },
   {
    "duration": 13,
    "start_time": "2022-04-09T13:28:18.767Z"
   },
   {
    "duration": 11,
    "start_time": "2022-04-09T13:28:18.781Z"
   },
   {
    "duration": 4,
    "start_time": "2022-04-09T13:28:18.795Z"
   },
   {
    "duration": 25,
    "start_time": "2022-04-09T13:28:18.801Z"
   },
   {
    "duration": 26,
    "start_time": "2022-04-09T13:28:18.827Z"
   },
   {
    "duration": 7,
    "start_time": "2022-04-09T13:28:18.854Z"
   },
   {
    "duration": 156,
    "start_time": "2022-04-09T13:28:18.862Z"
   },
   {
    "duration": 6,
    "start_time": "2022-04-09T13:28:19.019Z"
   },
   {
    "duration": 22,
    "start_time": "2022-04-09T13:28:19.026Z"
   },
   {
    "duration": 4,
    "start_time": "2022-04-09T13:28:19.050Z"
   },
   {
    "duration": 149,
    "start_time": "2022-04-09T13:28:19.056Z"
   },
   {
    "duration": 5,
    "start_time": "2022-04-09T13:28:19.207Z"
   },
   {
    "duration": 12,
    "start_time": "2022-04-09T13:28:19.214Z"
   },
   {
    "duration": 25,
    "start_time": "2022-04-09T13:28:19.228Z"
   },
   {
    "duration": 13,
    "start_time": "2022-04-09T13:28:19.255Z"
   },
   {
    "duration": 13,
    "start_time": "2022-04-09T13:28:19.269Z"
   },
   {
    "duration": 281,
    "start_time": "2022-04-09T13:28:19.284Z"
   },
   {
    "duration": 291,
    "start_time": "2022-04-09T13:28:19.567Z"
   },
   {
    "duration": 207,
    "start_time": "2022-04-09T13:28:19.860Z"
   },
   {
    "duration": 299,
    "start_time": "2022-04-09T13:28:20.069Z"
   },
   {
    "duration": 217,
    "start_time": "2022-04-09T13:28:20.371Z"
   },
   {
    "duration": 288,
    "start_time": "2022-04-09T13:28:20.590Z"
   },
   {
    "duration": 9,
    "start_time": "2022-04-09T13:28:20.879Z"
   },
   {
    "duration": 127,
    "start_time": "2022-04-09T13:28:20.890Z"
   },
   {
    "duration": 8,
    "start_time": "2022-04-09T13:28:21.018Z"
   },
   {
    "duration": 146,
    "start_time": "2022-04-09T13:28:21.027Z"
   },
   {
    "duration": 27,
    "start_time": "2022-04-09T13:28:21.174Z"
   },
   {
    "duration": 6,
    "start_time": "2022-04-09T13:28:21.203Z"
   },
   {
    "duration": 156,
    "start_time": "2022-04-09T13:28:21.211Z"
   },
   {
    "duration": 26,
    "start_time": "2022-04-09T13:28:21.369Z"
   },
   {
    "duration": 9,
    "start_time": "2022-04-09T13:28:21.397Z"
   },
   {
    "duration": 12,
    "start_time": "2022-04-09T13:28:21.408Z"
   },
   {
    "duration": 19,
    "start_time": "2022-04-09T13:28:21.448Z"
   },
   {
    "duration": 23,
    "start_time": "2022-04-09T13:28:21.469Z"
   },
   {
    "duration": 14,
    "start_time": "2022-04-09T13:28:21.494Z"
   },
   {
    "duration": 4,
    "start_time": "2022-04-09T13:28:35.706Z"
   },
   {
    "duration": 5,
    "start_time": "2022-04-09T13:28:50.949Z"
   },
   {
    "duration": 130,
    "start_time": "2022-04-09T13:29:02.375Z"
   }
  ],
  "kernelspec": {
   "display_name": "Python 3 (ipykernel)",
   "language": "python",
   "name": "python3"
  },
  "language_info": {
   "codemirror_mode": {
    "name": "ipython",
    "version": 3
   },
   "file_extension": ".py",
   "mimetype": "text/x-python",
   "name": "python",
   "nbconvert_exporter": "python",
   "pygments_lexer": "ipython3",
   "version": "3.10.1"
  },
  "toc": {
   "base_numbering": 1,
   "nav_menu": {},
   "number_sections": true,
   "sideBar": true,
   "skip_h1_title": true,
   "title_cell": "Table of Contents",
   "title_sidebar": "Contents",
   "toc_cell": false,
   "toc_position": {
    "height": "calc(100% - 180px)",
    "left": "10px",
    "top": "150px",
    "width": "384px"
   },
   "toc_section_display": true,
   "toc_window_display": true
  }
 },
 "nbformat": 4,
 "nbformat_minor": 2
}
