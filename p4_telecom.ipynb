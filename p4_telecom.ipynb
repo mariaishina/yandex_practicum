{
 "cells": [
  {
   "cell_type": "markdown",
   "metadata": {},
   "source": [
    "# Выбор прибыльного тарифа для телеком компании"
   ]
  },
  {
   "cell_type": "markdown",
   "metadata": {
    "toc": true
   },
   "source": [
    "<h1>Оглавление<span class=\"tocSkip\"></span></h1>\n",
    "<div class=\"toc\"><ul class=\"toc-item\"><li><span><a href=\"#Цель-исследования\" data-toc-modified-id=\"Цель-исследования-1\"><span class=\"toc-item-num\">1&nbsp;&nbsp;</span>Цель исследования</a></span></li><li><span><a href=\"#Загрузка-данных-из-файла\" data-toc-modified-id=\"Загрузка-данных-из-файла-2\"><span class=\"toc-item-num\">2&nbsp;&nbsp;</span>Загрузка данных из файла</a></span><ul class=\"toc-item\"><li><span><a href=\"#Загрузка-библиотек\" data-toc-modified-id=\"Загрузка-библиотек-2.1\"><span class=\"toc-item-num\">2.1&nbsp;&nbsp;</span>Загрузка библиотек</a></span></li><li><span><a href=\"#Знакомство-с-данными\" data-toc-modified-id=\"Знакомство-с-данными-2.2\"><span class=\"toc-item-num\">2.2&nbsp;&nbsp;</span>Знакомство с данными</a></span></li><li><span><a href=\"#Вывод\" data-toc-modified-id=\"Вывод-2.3\"><span class=\"toc-item-num\">2.3&nbsp;&nbsp;</span>Вывод</a></span></li></ul></li><li><span><a href=\"#Проверка-корректности-данных\" data-toc-modified-id=\"Проверка-корректности-данных-3\"><span class=\"toc-item-num\">3&nbsp;&nbsp;</span>Проверка корректности данных</a></span><ul class=\"toc-item\"><li><span><a href=\"#Информация-о-пользователях\" data-toc-modified-id=\"Информация-о-пользователях-3.1\"><span class=\"toc-item-num\">3.1&nbsp;&nbsp;</span>Информация о пользователях</a></span></li><li><span><a href=\"#Информация-о-звонках\" data-toc-modified-id=\"Информация-о-звонках-3.2\"><span class=\"toc-item-num\">3.2&nbsp;&nbsp;</span>Информация о звонках</a></span></li><li><span><a href=\"#Информация-о-сообщениях\" data-toc-modified-id=\"Информация-о-сообщениях-3.3\"><span class=\"toc-item-num\">3.3&nbsp;&nbsp;</span>Информация о сообщениях</a></span></li><li><span><a href=\"#Информация-об-интернет-сессиях\" data-toc-modified-id=\"Информация-об-интернет-сессиях-3.4\"><span class=\"toc-item-num\">3.4&nbsp;&nbsp;</span>Информация об интернет-сессиях</a></span></li><li><span><a href=\"#Вывод\" data-toc-modified-id=\"Вывод-3.5\"><span class=\"toc-item-num\">3.5&nbsp;&nbsp;</span>Вывод</a></span></li></ul></li><li><span><a href=\"#Вспомогательные-расчеты\" data-toc-modified-id=\"Вспомогательные-расчеты-4\"><span class=\"toc-item-num\">4&nbsp;&nbsp;</span>Вспомогательные расчеты</a></span><ul class=\"toc-item\"><li><span><a href=\"#Звонки-и-минуты-по-месяцам\" data-toc-modified-id=\"Звонки-и-минуты-по-месяцам-4.1\"><span class=\"toc-item-num\">4.1&nbsp;&nbsp;</span>Звонки и минуты по месяцам</a></span></li><li><span><a href=\"#Количество-отправленных-сообщений-по-месяцам\" data-toc-modified-id=\"Количество-отправленных-сообщений-по-месяцам-4.2\"><span class=\"toc-item-num\">4.2&nbsp;&nbsp;</span>Количество отправленных сообщений по месяцам</a></span></li><li><span><a href=\"#Интернет-трафик-по-месяцам\" data-toc-modified-id=\"Интернет-трафик-по-месяцам-4.3\"><span class=\"toc-item-num\">4.3&nbsp;&nbsp;</span>Интернет-трафик по месяцам</a></span></li><li><span><a href=\"#Выручка-по-месяцам\" data-toc-modified-id=\"Выручка-по-месяцам-4.4\"><span class=\"toc-item-num\">4.4&nbsp;&nbsp;</span>Выручка по месяцам</a></span></li><li><span><a href=\"#Вывод\" data-toc-modified-id=\"Вывод-4.5\"><span class=\"toc-item-num\">4.5&nbsp;&nbsp;</span>Вывод</a></span></li></ul></li><li><span><a href=\"#Анализ-и-описание-данных\" data-toc-modified-id=\"Анализ-и-описание-данных-5\"><span class=\"toc-item-num\">5&nbsp;&nbsp;</span>Анализ и описание данных</a></span><ul class=\"toc-item\"><li><span><a href=\"#Количество-минут-разговора\" data-toc-modified-id=\"Количество-минут-разговора-5.1\"><span class=\"toc-item-num\">5.1&nbsp;&nbsp;</span>Количество минут разговора</a></span></li><li><span><a href=\"#Количество-сообщений\" data-toc-modified-id=\"Количество-сообщений-5.2\"><span class=\"toc-item-num\">5.2&nbsp;&nbsp;</span>Количество сообщений</a></span></li><li><span><a href=\"#Объем-интернет-трафика\" data-toc-modified-id=\"Объем-интернет-трафика-5.3\"><span class=\"toc-item-num\">5.3&nbsp;&nbsp;</span>Объем интернет-трафика</a></span></li><li><span><a href=\"#Вывод\" data-toc-modified-id=\"Вывод-5.4\"><span class=\"toc-item-num\">5.4&nbsp;&nbsp;</span>Вывод</a></span></li></ul></li><li><span><a href=\"#Проверка-гипотез\" data-toc-modified-id=\"Проверка-гипотез-6\"><span class=\"toc-item-num\">6&nbsp;&nbsp;</span>Проверка гипотез</a></span><ul class=\"toc-item\"><li><span><a href=\"#Сравнение-выручки-по-тарифам\" data-toc-modified-id=\"Сравнение-выручки-по-тарифам-6.1\"><span class=\"toc-item-num\">6.1&nbsp;&nbsp;</span>Сравнение выручки по тарифам</a></span></li><li><span><a href=\"#Сравнение-выручки-по-регионам\" data-toc-modified-id=\"Сравнение-выручки-по-регионам-6.2\"><span class=\"toc-item-num\">6.2&nbsp;&nbsp;</span>Сравнение выручки по регионам</a></span></li></ul></li><li><span><a href=\"#Общий-вывод\" data-toc-modified-id=\"Общий-вывод-7\"><span class=\"toc-item-num\">7&nbsp;&nbsp;</span>Общий вывод</a></span></li></ul></div>"
   ]
  },
  {
   "cell_type": "markdown",
   "metadata": {},
   "source": [
    "## Цель исследования"
   ]
  },
  {
   "cell_type": "markdown",
   "metadata": {},
   "source": [
    "Компания «Мегалайн» — федеральный оператор сотовой связи - предлагает клиентам два тарифных плана: «Смарт» и «Ультра». Чтобы скорректировать рекламный бюджет, коммерческий департамент хочет понять, какой тариф приносит больше денег.\n",
    "\n",
    "Нужно проанализировать поведение 500 клиентов и сделать вывод — какой тариф лучше.\n",
    "\n",
    "**Описание тарифов**\n",
    "\n",
    "Тариф «Смарт»\n",
    "\n",
    "- Ежемесячная плата: 550 рублей\n",
    "- Включено 500 минут разговора, 50 сообщений и 15 Гб интернет-трафика\n",
    "- Стоимость услуг сверх тарифного пакета: \n",
    "    - минута разговора: 3 рубля; \n",
    "    - сообщение: 3 рубля; \n",
    "    - 1 Гб интернет-трафика: 200 рублей.\n",
    "\n",
    "Тариф «Ультра»\n",
    "\n",
    "- Ежемесячная плата: 1950 рублей\n",
    "- Включено 3000 минут разговора, 1000 сообщений и 30 Гб интернет-трафика\n",
    "- Стоимость услуг сверх тарифного пакета: \n",
    "    - минута разговора: 1 рубль; \n",
    "    - сообщение: 1 рубль; \n",
    "    - 1 Гб интернет-трафика: 150 рублей.\n",
    "\n",
    "Примечание:\n",
    "\n",
    "«Мегалайн» всегда округляет секунды до минут, а мегабайты — до гигабайт. Каждый звонок округляется отдельно: даже если он длился всего 1 секунду, будет засчитан как 1 минута.  \n",
    "Для веб-трафика отдельные сессии не считаются. Вместо этого общая сумма за месяц округляется в бо́льшую сторону. Если абонент использует 1025 мегабайт в этом месяце, с него возьмут плату за 2 гигабайта."
   ]
  },
  {
   "cell_type": "markdown",
   "metadata": {},
   "source": [
    "## Загрузка данных из файла"
   ]
  },
  {
   "cell_type": "markdown",
   "metadata": {},
   "source": [
    "### Загрузка библиотек"
   ]
  },
  {
   "cell_type": "code",
   "execution_count": 1,
   "metadata": {},
   "outputs": [],
   "source": [
    "import pandas as pd\n",
    "import numpy as np\n",
    "import matplotlib.pyplot as plt\n",
    "from scipy import stats as st\n",
    "\n",
    "# настроим отображение больших чисел без плавающей точки\n",
    "pd.set_option('display.float_format', lambda x: '%.2f' % x)"
   ]
  },
  {
   "cell_type": "markdown",
   "metadata": {},
   "source": [
    "### Знакомство с данными"
   ]
  },
  {
   "cell_type": "markdown",
   "metadata": {},
   "source": [
    "Компания предоставила нам данные в 5 файлах:"
   ]
  },
  {
   "cell_type": "code",
   "execution_count": 2,
   "metadata": {},
   "outputs": [
    {
     "data": {
      "text/html": [
       "<div>\n",
       "<style scoped>\n",
       "    .dataframe tbody tr th:only-of-type {\n",
       "        vertical-align: middle;\n",
       "    }\n",
       "\n",
       "    .dataframe tbody tr th {\n",
       "        vertical-align: top;\n",
       "    }\n",
       "\n",
       "    .dataframe thead th {\n",
       "        text-align: right;\n",
       "    }\n",
       "</style>\n",
       "<table border=\"1\" class=\"dataframe\">\n",
       "  <thead>\n",
       "    <tr style=\"text-align: right;\">\n",
       "      <th></th>\n",
       "      <th>user_id</th>\n",
       "      <th>age</th>\n",
       "      <th>churn_date</th>\n",
       "      <th>city</th>\n",
       "      <th>first_name</th>\n",
       "      <th>last_name</th>\n",
       "      <th>reg_date</th>\n",
       "      <th>tariff</th>\n",
       "    </tr>\n",
       "  </thead>\n",
       "  <tbody>\n",
       "    <tr>\n",
       "      <th>0</th>\n",
       "      <td>1000</td>\n",
       "      <td>52</td>\n",
       "      <td>NaN</td>\n",
       "      <td>Краснодар</td>\n",
       "      <td>Рафаил</td>\n",
       "      <td>Верещагин</td>\n",
       "      <td>2018-05-25</td>\n",
       "      <td>ultra</td>\n",
       "    </tr>\n",
       "    <tr>\n",
       "      <th>1</th>\n",
       "      <td>1001</td>\n",
       "      <td>41</td>\n",
       "      <td>NaN</td>\n",
       "      <td>Москва</td>\n",
       "      <td>Иван</td>\n",
       "      <td>Ежов</td>\n",
       "      <td>2018-11-01</td>\n",
       "      <td>smart</td>\n",
       "    </tr>\n",
       "    <tr>\n",
       "      <th>2</th>\n",
       "      <td>1002</td>\n",
       "      <td>59</td>\n",
       "      <td>NaN</td>\n",
       "      <td>Стерлитамак</td>\n",
       "      <td>Евгений</td>\n",
       "      <td>Абрамович</td>\n",
       "      <td>2018-06-17</td>\n",
       "      <td>smart</td>\n",
       "    </tr>\n",
       "  </tbody>\n",
       "</table>\n",
       "</div>"
      ],
      "text/plain": [
       "   user_id  age churn_date         city first_name  last_name    reg_date  \\\n",
       "0     1000   52        NaN    Краснодар     Рафаил  Верещагин  2018-05-25   \n",
       "1     1001   41        NaN       Москва       Иван       Ежов  2018-11-01   \n",
       "2     1002   59        NaN  Стерлитамак    Евгений  Абрамович  2018-06-17   \n",
       "\n",
       "  tariff  \n",
       "0  ultra  \n",
       "1  smart  \n",
       "2  smart  "
      ]
     },
     "metadata": {},
     "output_type": "display_data"
    },
    {
     "data": {
      "text/html": [
       "<div>\n",
       "<style scoped>\n",
       "    .dataframe tbody tr th:only-of-type {\n",
       "        vertical-align: middle;\n",
       "    }\n",
       "\n",
       "    .dataframe tbody tr th {\n",
       "        vertical-align: top;\n",
       "    }\n",
       "\n",
       "    .dataframe thead th {\n",
       "        text-align: right;\n",
       "    }\n",
       "</style>\n",
       "<table border=\"1\" class=\"dataframe\">\n",
       "  <thead>\n",
       "    <tr style=\"text-align: right;\">\n",
       "      <th></th>\n",
       "      <th>id</th>\n",
       "      <th>call_date</th>\n",
       "      <th>duration</th>\n",
       "      <th>user_id</th>\n",
       "    </tr>\n",
       "  </thead>\n",
       "  <tbody>\n",
       "    <tr>\n",
       "      <th>0</th>\n",
       "      <td>1000_0</td>\n",
       "      <td>2018-07-25</td>\n",
       "      <td>0.00</td>\n",
       "      <td>1000</td>\n",
       "    </tr>\n",
       "    <tr>\n",
       "      <th>1</th>\n",
       "      <td>1000_1</td>\n",
       "      <td>2018-08-17</td>\n",
       "      <td>0.00</td>\n",
       "      <td>1000</td>\n",
       "    </tr>\n",
       "    <tr>\n",
       "      <th>2</th>\n",
       "      <td>1000_2</td>\n",
       "      <td>2018-06-11</td>\n",
       "      <td>2.85</td>\n",
       "      <td>1000</td>\n",
       "    </tr>\n",
       "  </tbody>\n",
       "</table>\n",
       "</div>"
      ],
      "text/plain": [
       "       id   call_date  duration  user_id\n",
       "0  1000_0  2018-07-25      0.00     1000\n",
       "1  1000_1  2018-08-17      0.00     1000\n",
       "2  1000_2  2018-06-11      2.85     1000"
      ]
     },
     "metadata": {},
     "output_type": "display_data"
    },
    {
     "data": {
      "text/html": [
       "<div>\n",
       "<style scoped>\n",
       "    .dataframe tbody tr th:only-of-type {\n",
       "        vertical-align: middle;\n",
       "    }\n",
       "\n",
       "    .dataframe tbody tr th {\n",
       "        vertical-align: top;\n",
       "    }\n",
       "\n",
       "    .dataframe thead th {\n",
       "        text-align: right;\n",
       "    }\n",
       "</style>\n",
       "<table border=\"1\" class=\"dataframe\">\n",
       "  <thead>\n",
       "    <tr style=\"text-align: right;\">\n",
       "      <th></th>\n",
       "      <th>id</th>\n",
       "      <th>message_date</th>\n",
       "      <th>user_id</th>\n",
       "    </tr>\n",
       "  </thead>\n",
       "  <tbody>\n",
       "    <tr>\n",
       "      <th>0</th>\n",
       "      <td>1000_0</td>\n",
       "      <td>2018-06-27</td>\n",
       "      <td>1000</td>\n",
       "    </tr>\n",
       "    <tr>\n",
       "      <th>1</th>\n",
       "      <td>1000_1</td>\n",
       "      <td>2018-10-08</td>\n",
       "      <td>1000</td>\n",
       "    </tr>\n",
       "    <tr>\n",
       "      <th>2</th>\n",
       "      <td>1000_2</td>\n",
       "      <td>2018-08-04</td>\n",
       "      <td>1000</td>\n",
       "    </tr>\n",
       "  </tbody>\n",
       "</table>\n",
       "</div>"
      ],
      "text/plain": [
       "       id message_date  user_id\n",
       "0  1000_0   2018-06-27     1000\n",
       "1  1000_1   2018-10-08     1000\n",
       "2  1000_2   2018-08-04     1000"
      ]
     },
     "metadata": {},
     "output_type": "display_data"
    },
    {
     "data": {
      "text/html": [
       "<div>\n",
       "<style scoped>\n",
       "    .dataframe tbody tr th:only-of-type {\n",
       "        vertical-align: middle;\n",
       "    }\n",
       "\n",
       "    .dataframe tbody tr th {\n",
       "        vertical-align: top;\n",
       "    }\n",
       "\n",
       "    .dataframe thead th {\n",
       "        text-align: right;\n",
       "    }\n",
       "</style>\n",
       "<table border=\"1\" class=\"dataframe\">\n",
       "  <thead>\n",
       "    <tr style=\"text-align: right;\">\n",
       "      <th></th>\n",
       "      <th>Unnamed: 0</th>\n",
       "      <th>id</th>\n",
       "      <th>mb_used</th>\n",
       "      <th>session_date</th>\n",
       "      <th>user_id</th>\n",
       "    </tr>\n",
       "  </thead>\n",
       "  <tbody>\n",
       "    <tr>\n",
       "      <th>0</th>\n",
       "      <td>0</td>\n",
       "      <td>1000_0</td>\n",
       "      <td>112.95</td>\n",
       "      <td>2018-11-25</td>\n",
       "      <td>1000</td>\n",
       "    </tr>\n",
       "    <tr>\n",
       "      <th>1</th>\n",
       "      <td>1</td>\n",
       "      <td>1000_1</td>\n",
       "      <td>1052.81</td>\n",
       "      <td>2018-09-07</td>\n",
       "      <td>1000</td>\n",
       "    </tr>\n",
       "    <tr>\n",
       "      <th>2</th>\n",
       "      <td>2</td>\n",
       "      <td>1000_2</td>\n",
       "      <td>1197.26</td>\n",
       "      <td>2018-06-25</td>\n",
       "      <td>1000</td>\n",
       "    </tr>\n",
       "  </tbody>\n",
       "</table>\n",
       "</div>"
      ],
      "text/plain": [
       "   Unnamed: 0      id  mb_used session_date  user_id\n",
       "0           0  1000_0   112.95   2018-11-25     1000\n",
       "1           1  1000_1  1052.81   2018-09-07     1000\n",
       "2           2  1000_2  1197.26   2018-06-25     1000"
      ]
     },
     "metadata": {},
     "output_type": "display_data"
    },
    {
     "data": {
      "text/html": [
       "<div>\n",
       "<style scoped>\n",
       "    .dataframe tbody tr th:only-of-type {\n",
       "        vertical-align: middle;\n",
       "    }\n",
       "\n",
       "    .dataframe tbody tr th {\n",
       "        vertical-align: top;\n",
       "    }\n",
       "\n",
       "    .dataframe thead th {\n",
       "        text-align: right;\n",
       "    }\n",
       "</style>\n",
       "<table border=\"1\" class=\"dataframe\">\n",
       "  <thead>\n",
       "    <tr style=\"text-align: right;\">\n",
       "      <th></th>\n",
       "      <th>messages_included</th>\n",
       "      <th>mb_per_month_included</th>\n",
       "      <th>minutes_included</th>\n",
       "      <th>rub_monthly_fee</th>\n",
       "      <th>rub_per_gb</th>\n",
       "      <th>rub_per_message</th>\n",
       "      <th>rub_per_minute</th>\n",
       "      <th>tariff_name</th>\n",
       "    </tr>\n",
       "  </thead>\n",
       "  <tbody>\n",
       "    <tr>\n",
       "      <th>0</th>\n",
       "      <td>50</td>\n",
       "      <td>15360</td>\n",
       "      <td>500</td>\n",
       "      <td>550</td>\n",
       "      <td>200</td>\n",
       "      <td>3</td>\n",
       "      <td>3</td>\n",
       "      <td>smart</td>\n",
       "    </tr>\n",
       "    <tr>\n",
       "      <th>1</th>\n",
       "      <td>1000</td>\n",
       "      <td>30720</td>\n",
       "      <td>3000</td>\n",
       "      <td>1950</td>\n",
       "      <td>150</td>\n",
       "      <td>1</td>\n",
       "      <td>1</td>\n",
       "      <td>ultra</td>\n",
       "    </tr>\n",
       "  </tbody>\n",
       "</table>\n",
       "</div>"
      ],
      "text/plain": [
       "   messages_included  mb_per_month_included  minutes_included  \\\n",
       "0                 50                  15360               500   \n",
       "1               1000                  30720              3000   \n",
       "\n",
       "   rub_monthly_fee  rub_per_gb  rub_per_message  rub_per_minute tariff_name  \n",
       "0              550         200                3               3       smart  \n",
       "1             1950         150                1               1       ultra  "
      ]
     },
     "metadata": {},
     "output_type": "display_data"
    }
   ],
   "source": [
    "users = pd.read_csv('users.csv')\n",
    "calls = pd.read_csv('calls.csv')\n",
    "messages = pd.read_csv('messages.csv')\n",
    "internet = pd.read_csv('internet.csv')\n",
    "tariffs = pd.read_csv('tariffs.csv')\n",
    "\n",
    "display(users.head(3))\n",
    "display(calls.head(3))\n",
    "display(messages.head(3))\n",
    "display(internet.head(3))\n",
    "display(tariffs.head(3))"
   ]
  },
  {
   "cell_type": "markdown",
   "metadata": {},
   "source": [
    "**Описание данных**\n",
    "\n",
    "Таблица users (информация о пользователях):\n",
    "\n",
    "- user_id — уникальный идентификатор пользователя\n",
    "- first_name — имя пользователя\n",
    "- last_name — фамилия пользователя\n",
    "- age — возраст пользователя (годы)\n",
    "- reg_date — дата подключения тарифа (день, месяц, год)\n",
    "- churn_date — дата прекращения пользования тарифом (если значение пропущено, то тариф ещё действовал на момент выгрузки данных)\n",
    "- city — город проживания пользователя\n",
    "- tarif — название тарифного плана\n",
    "\n",
    "Таблица calls (информация о звонках):\n",
    "\n",
    "- id — уникальный номер звонка\n",
    "- call_date — дата звонка\n",
    "- duration — длительность звонка в минутах\n",
    "- user_id — идентификатор пользователя, сделавшего звонок\n",
    "\n",
    "Таблица messages (информация о сообщениях):\n",
    "\n",
    "- id — уникальный номер сообщения\n",
    "- message_date — дата сообщения\n",
    "- user_id — идентификатор пользователя, отправившего сообщение\n",
    "\n",
    "Таблица internet (информация об интернет-сессиях):\n",
    "\n",
    "- id — уникальный номер сессии\n",
    "- mb_used — объём потраченного за сессию интернет-трафика (в мегабайтах)\n",
    "- session_date — дата интернет-сессии\n",
    "- user_id — идентификатор пользователя\n",
    "\n",
    "Таблица tariffs (информация о тарифах):\n",
    "\n",
    "- tariff_name — название тарифа\n",
    "- rub_monthly_fee — ежемесячная абонентская плата в рублях\n",
    "- minutes_included — количество минут разговора в месяц, включённых в абонентскую плату\n",
    "- messages_included — количество сообщений в месяц, включённых в абонентскую плату\n",
    "- mb_per_month_included — объём интернет-трафика, включённого в абонентскую плату (в мегабайтах)\n",
    "- rub_per_minute — стоимость минуты разговора сверх тарифного пакета (например, если в тарифе 100 минут разговора в месяц, то со 101 минуты будет взиматься плата)\n",
    "- rub_per_message — стоимость отправки сообщения сверх тарифного пакета\n",
    "- rub_per_gb — стоимость дополнительного гигабайта интернет-трафика сверх тарифного пакета (1 гигабайт = 1024 мегабайта)"
   ]
  },
  {
   "cell_type": "markdown",
   "metadata": {},
   "source": [
    "### Вывод"
   ]
  },
  {
   "cell_type": "markdown",
   "metadata": {},
   "source": [
    "<p></p>\n",
    "\n",
    "<div style=\"border:solid green 2px; padding: 20px\">\n",
    "\n",
    "    \n",
    "Для анализа имеем 5 таблиц, содержащих:\n",
    "    \n",
    "- социально-демографические характеристики пользователей;\n",
    "- количество, длительность и даты звонков;\n",
    "- количество и даты сообщений;\n",
    "- траффик и даты интернет-сессий;\n",
    "- величину абонентской платы, размер пакетов и стоимость услуг сверх пакета для каждого тарифа.\n",
    "</div>"
   ]
  },
  {
   "cell_type": "markdown",
   "metadata": {},
   "source": [
    "## Проверка корректности данных"
   ]
  },
  {
   "cell_type": "markdown",
   "metadata": {},
   "source": [
    "Проверим корректность типов данных, наличие пропусков и ошибок в каждом датасете."
   ]
  },
  {
   "cell_type": "markdown",
   "metadata": {},
   "source": [
    "### Информация о пользователях"
   ]
  },
  {
   "cell_type": "code",
   "execution_count": 3,
   "metadata": {},
   "outputs": [
    {
     "name": "stdout",
     "output_type": "stream",
     "text": [
      "<class 'pandas.core.frame.DataFrame'>\n",
      "RangeIndex: 500 entries, 0 to 499\n",
      "Data columns (total 8 columns):\n",
      " #   Column      Non-Null Count  Dtype \n",
      "---  ------      --------------  ----- \n",
      " 0   user_id     500 non-null    int64 \n",
      " 1   age         500 non-null    int64 \n",
      " 2   churn_date  38 non-null     object\n",
      " 3   city        500 non-null    object\n",
      " 4   first_name  500 non-null    object\n",
      " 5   last_name   500 non-null    object\n",
      " 6   reg_date    500 non-null    object\n",
      " 7   tariff      500 non-null    object\n",
      "dtypes: int64(2), object(6)\n",
      "memory usage: 31.4+ KB\n"
     ]
    }
   ],
   "source": [
    "users.info()"
   ]
  },
  {
   "cell_type": "markdown",
   "metadata": {},
   "source": [
    "В столбце 'churn_date' есть пропуски, это нормально, большая часть пользователей из нашей выборки продолжало пользоваться тарифом на момент выгрузки.\n",
    "\n",
    "Столбцы с датами переведем в формат даты:"
   ]
  },
  {
   "cell_type": "code",
   "execution_count": 4,
   "metadata": {},
   "outputs": [
    {
     "data": {
      "text/html": [
       "<div>\n",
       "<style scoped>\n",
       "    .dataframe tbody tr th:only-of-type {\n",
       "        vertical-align: middle;\n",
       "    }\n",
       "\n",
       "    .dataframe tbody tr th {\n",
       "        vertical-align: top;\n",
       "    }\n",
       "\n",
       "    .dataframe thead th {\n",
       "        text-align: right;\n",
       "    }\n",
       "</style>\n",
       "<table border=\"1\" class=\"dataframe\">\n",
       "  <thead>\n",
       "    <tr style=\"text-align: right;\">\n",
       "      <th></th>\n",
       "      <th>user_id</th>\n",
       "      <th>age</th>\n",
       "      <th>churn_date</th>\n",
       "      <th>city</th>\n",
       "      <th>first_name</th>\n",
       "      <th>last_name</th>\n",
       "      <th>reg_date</th>\n",
       "      <th>tariff</th>\n",
       "    </tr>\n",
       "  </thead>\n",
       "  <tbody>\n",
       "    <tr>\n",
       "      <th>19</th>\n",
       "      <td>1019</td>\n",
       "      <td>63</td>\n",
       "      <td>2018-10-05</td>\n",
       "      <td>Томск</td>\n",
       "      <td>Игнатий</td>\n",
       "      <td>Круглов</td>\n",
       "      <td>2018-05-16</td>\n",
       "      <td>ultra</td>\n",
       "    </tr>\n",
       "    <tr>\n",
       "      <th>20</th>\n",
       "      <td>1020</td>\n",
       "      <td>59</td>\n",
       "      <td>2018-12-18</td>\n",
       "      <td>Чита</td>\n",
       "      <td>Тала</td>\n",
       "      <td>Костина</td>\n",
       "      <td>2018-10-22</td>\n",
       "      <td>smart</td>\n",
       "    </tr>\n",
       "    <tr>\n",
       "      <th>34</th>\n",
       "      <td>1034</td>\n",
       "      <td>66</td>\n",
       "      <td>2018-11-21</td>\n",
       "      <td>Вологда</td>\n",
       "      <td>Святослав</td>\n",
       "      <td>Бондарев</td>\n",
       "      <td>2018-08-26</td>\n",
       "      <td>smart</td>\n",
       "    </tr>\n",
       "  </tbody>\n",
       "</table>\n",
       "</div>"
      ],
      "text/plain": [
       "    user_id  age  churn_date     city first_name last_name    reg_date tariff\n",
       "19     1019   63  2018-10-05    Томск    Игнатий   Круглов  2018-05-16  ultra\n",
       "20     1020   59  2018-12-18     Чита       Тала   Костина  2018-10-22  smart\n",
       "34     1034   66  2018-11-21  Вологда  Святослав  Бондарев  2018-08-26  smart"
      ]
     },
     "execution_count": 4,
     "metadata": {},
     "output_type": "execute_result"
    }
   ],
   "source": [
    "users.loc[users['churn_date'].isna() == 0].head(3) # проверим, как выглядят даты в столбце 'churn_date'"
   ]
  },
  {
   "cell_type": "code",
   "execution_count": 5,
   "metadata": {},
   "outputs": [
    {
     "name": "stdout",
     "output_type": "stream",
     "text": [
      "<class 'pandas.core.frame.DataFrame'>\n",
      "RangeIndex: 500 entries, 0 to 499\n",
      "Data columns (total 8 columns):\n",
      " #   Column      Non-Null Count  Dtype         \n",
      "---  ------      --------------  -----         \n",
      " 0   user_id     500 non-null    int64         \n",
      " 1   age         500 non-null    int64         \n",
      " 2   churn_date  38 non-null     datetime64[ns]\n",
      " 3   city        500 non-null    object        \n",
      " 4   first_name  500 non-null    object        \n",
      " 5   last_name   500 non-null    object        \n",
      " 6   reg_date    500 non-null    datetime64[ns]\n",
      " 7   tariff      500 non-null    object        \n",
      "dtypes: datetime64[ns](2), int64(2), object(4)\n",
      "memory usage: 31.4+ KB\n"
     ]
    }
   ],
   "source": [
    "users['churn_date'] = pd.to_datetime(users['churn_date'], format='%Y-%m-%d')\n",
    "users['reg_date'] = pd.to_datetime(users['reg_date'], format='%Y-%m-%d')\n",
    "users.info()"
   ]
  },
  {
   "cell_type": "markdown",
   "metadata": {},
   "source": [
    "Посмотрим на столбцы с числовыми значениями:"
   ]
  },
  {
   "cell_type": "code",
   "execution_count": 6,
   "metadata": {},
   "outputs": [
    {
     "data": {
      "text/html": [
       "<div>\n",
       "<style scoped>\n",
       "    .dataframe tbody tr th:only-of-type {\n",
       "        vertical-align: middle;\n",
       "    }\n",
       "\n",
       "    .dataframe tbody tr th {\n",
       "        vertical-align: top;\n",
       "    }\n",
       "\n",
       "    .dataframe thead th {\n",
       "        text-align: right;\n",
       "    }\n",
       "</style>\n",
       "<table border=\"1\" class=\"dataframe\">\n",
       "  <thead>\n",
       "    <tr style=\"text-align: right;\">\n",
       "      <th></th>\n",
       "      <th>count</th>\n",
       "      <th>mean</th>\n",
       "      <th>std</th>\n",
       "      <th>min</th>\n",
       "      <th>25%</th>\n",
       "      <th>50%</th>\n",
       "      <th>75%</th>\n",
       "      <th>max</th>\n",
       "    </tr>\n",
       "  </thead>\n",
       "  <tbody>\n",
       "    <tr>\n",
       "      <th>user_id</th>\n",
       "      <td>500.00</td>\n",
       "      <td>1249.50</td>\n",
       "      <td>144.48</td>\n",
       "      <td>1000.00</td>\n",
       "      <td>1124.75</td>\n",
       "      <td>1249.50</td>\n",
       "      <td>1374.25</td>\n",
       "      <td>1499.00</td>\n",
       "    </tr>\n",
       "    <tr>\n",
       "      <th>age</th>\n",
       "      <td>500.00</td>\n",
       "      <td>46.59</td>\n",
       "      <td>16.67</td>\n",
       "      <td>18.00</td>\n",
       "      <td>32.00</td>\n",
       "      <td>46.00</td>\n",
       "      <td>62.00</td>\n",
       "      <td>75.00</td>\n",
       "    </tr>\n",
       "  </tbody>\n",
       "</table>\n",
       "</div>"
      ],
      "text/plain": [
       "         count    mean    std     min     25%     50%     75%     max\n",
       "user_id 500.00 1249.50 144.48 1000.00 1124.75 1249.50 1374.25 1499.00\n",
       "age     500.00   46.59  16.67   18.00   32.00   46.00   62.00   75.00"
      ]
     },
     "execution_count": 6,
     "metadata": {},
     "output_type": "execute_result"
    }
   ],
   "source": [
    "users.describe().T"
   ]
  },
  {
   "cell_type": "markdown",
   "metadata": {},
   "source": [
    "В нашем распоряжении данные о 500 пользователях с номерами от 1000 до 1499, в возрасте от 18 до 75 лет (средний возраст 46 лет).\n",
    "Все в порядке, данные правдоподобные.\n",
    "\n",
    "Проверим уникальные значения в столбце с тарифом:"
   ]
  },
  {
   "cell_type": "code",
   "execution_count": 7,
   "metadata": {},
   "outputs": [
    {
     "data": {
      "text/plain": [
       "smart    351\n",
       "ultra    149\n",
       "Name: tariff, dtype: int64"
      ]
     },
     "execution_count": 7,
     "metadata": {},
     "output_type": "execute_result"
    }
   ],
   "source": [
    "users['tariff'].value_counts()"
   ]
  },
  {
   "cell_type": "markdown",
   "metadata": {},
   "source": [
    "Для каждого тарифа у нас есть более 100 наблюдений, этого достаточно для исследования. Пользователей тарифа «Смарт» больше примерно в 2 раза, это логично, т.к. тариф «Ультра» дороже."
   ]
  },
  {
   "cell_type": "markdown",
   "metadata": {},
   "source": [
    "### Информация о звонках"
   ]
  },
  {
   "cell_type": "code",
   "execution_count": 8,
   "metadata": {},
   "outputs": [
    {
     "name": "stdout",
     "output_type": "stream",
     "text": [
      "<class 'pandas.core.frame.DataFrame'>\n",
      "RangeIndex: 202607 entries, 0 to 202606\n",
      "Data columns (total 4 columns):\n",
      " #   Column     Non-Null Count   Dtype  \n",
      "---  ------     --------------   -----  \n",
      " 0   id         202607 non-null  object \n",
      " 1   call_date  202607 non-null  object \n",
      " 2   duration   202607 non-null  float64\n",
      " 3   user_id    202607 non-null  int64  \n",
      "dtypes: float64(1), int64(1), object(2)\n",
      "memory usage: 6.2+ MB\n"
     ]
    }
   ],
   "source": [
    "calls.info()"
   ]
  },
  {
   "cell_type": "markdown",
   "metadata": {},
   "source": [
    "Пропусков нет. Столбец с датой переведем в формат даты:"
   ]
  },
  {
   "cell_type": "code",
   "execution_count": 9,
   "metadata": {},
   "outputs": [
    {
     "data": {
      "text/plain": [
       "dtype('<M8[ns]')"
      ]
     },
     "execution_count": 9,
     "metadata": {},
     "output_type": "execute_result"
    }
   ],
   "source": [
    "calls['call_date'] = pd.to_datetime(calls['call_date'], format='%Y-%m-%d')\n",
    "calls['call_date'].dtypes"
   ]
  },
  {
   "cell_type": "markdown",
   "metadata": {},
   "source": [
    "Посмотрим характеристики столбцов с числовыми значениями:"
   ]
  },
  {
   "cell_type": "code",
   "execution_count": 10,
   "metadata": {},
   "outputs": [
    {
     "data": {
      "text/html": [
       "<div>\n",
       "<style scoped>\n",
       "    .dataframe tbody tr th:only-of-type {\n",
       "        vertical-align: middle;\n",
       "    }\n",
       "\n",
       "    .dataframe tbody tr th {\n",
       "        vertical-align: top;\n",
       "    }\n",
       "\n",
       "    .dataframe thead th {\n",
       "        text-align: right;\n",
       "    }\n",
       "</style>\n",
       "<table border=\"1\" class=\"dataframe\">\n",
       "  <thead>\n",
       "    <tr style=\"text-align: right;\">\n",
       "      <th></th>\n",
       "      <th>count</th>\n",
       "      <th>mean</th>\n",
       "      <th>std</th>\n",
       "      <th>min</th>\n",
       "      <th>25%</th>\n",
       "      <th>50%</th>\n",
       "      <th>75%</th>\n",
       "      <th>max</th>\n",
       "    </tr>\n",
       "  </thead>\n",
       "  <tbody>\n",
       "    <tr>\n",
       "      <th>duration</th>\n",
       "      <td>202607.00</td>\n",
       "      <td>6.76</td>\n",
       "      <td>5.84</td>\n",
       "      <td>0.00</td>\n",
       "      <td>1.30</td>\n",
       "      <td>6.00</td>\n",
       "      <td>10.70</td>\n",
       "      <td>38.00</td>\n",
       "    </tr>\n",
       "    <tr>\n",
       "      <th>user_id</th>\n",
       "      <td>202607.00</td>\n",
       "      <td>1253.94</td>\n",
       "      <td>144.72</td>\n",
       "      <td>1000.00</td>\n",
       "      <td>1126.00</td>\n",
       "      <td>1260.00</td>\n",
       "      <td>1379.00</td>\n",
       "      <td>1499.00</td>\n",
       "    </tr>\n",
       "  </tbody>\n",
       "</table>\n",
       "</div>"
      ],
      "text/plain": [
       "             count    mean    std     min     25%     50%     75%     max\n",
       "duration 202607.00    6.76   5.84    0.00    1.30    6.00   10.70   38.00\n",
       "user_id  202607.00 1253.94 144.72 1000.00 1126.00 1260.00 1379.00 1499.00"
      ]
     },
     "execution_count": 10,
     "metadata": {},
     "output_type": "execute_result"
    }
   ],
   "source": [
    "calls.describe().T"
   ]
  },
  {
   "cell_type": "markdown",
   "metadata": {},
   "source": [
    "Звонки с нулевой продолжительностью - это пропущенные звонки. Продолжительность звонков правдоподобная - от 0 до 38 минут, в среднем 6 минут. Номера пользователей совпадают с аналогичными номерами в таблице с информацией о пользователях."
   ]
  },
  {
   "cell_type": "markdown",
   "metadata": {},
   "source": [
    "### Информация о сообщениях"
   ]
  },
  {
   "cell_type": "code",
   "execution_count": 11,
   "metadata": {},
   "outputs": [
    {
     "name": "stdout",
     "output_type": "stream",
     "text": [
      "<class 'pandas.core.frame.DataFrame'>\n",
      "RangeIndex: 123036 entries, 0 to 123035\n",
      "Data columns (total 3 columns):\n",
      " #   Column        Non-Null Count   Dtype \n",
      "---  ------        --------------   ----- \n",
      " 0   id            123036 non-null  object\n",
      " 1   message_date  123036 non-null  object\n",
      " 2   user_id       123036 non-null  int64 \n",
      "dtypes: int64(1), object(2)\n",
      "memory usage: 2.8+ MB\n"
     ]
    }
   ],
   "source": [
    "messages.info()"
   ]
  },
  {
   "cell_type": "markdown",
   "metadata": {},
   "source": [
    "Пропусков нет. Преобразуем столбец с датой в соответствующий тип:"
   ]
  },
  {
   "cell_type": "code",
   "execution_count": 12,
   "metadata": {},
   "outputs": [
    {
     "data": {
      "text/plain": [
       "dtype('<M8[ns]')"
      ]
     },
     "execution_count": 12,
     "metadata": {},
     "output_type": "execute_result"
    }
   ],
   "source": [
    "messages['message_date'] = pd.to_datetime(messages['message_date'], format='%Y-%m-%d')\n",
    "messages['message_date'].dtypes"
   ]
  },
  {
   "cell_type": "markdown",
   "metadata": {},
   "source": [
    "Убедимся, что в выборку попали те же самые пользователи, что и в предыдущие 2 таблицы:"
   ]
  },
  {
   "cell_type": "code",
   "execution_count": 13,
   "metadata": {},
   "outputs": [
    {
     "data": {
      "text/html": [
       "<div>\n",
       "<style scoped>\n",
       "    .dataframe tbody tr th:only-of-type {\n",
       "        vertical-align: middle;\n",
       "    }\n",
       "\n",
       "    .dataframe tbody tr th {\n",
       "        vertical-align: top;\n",
       "    }\n",
       "\n",
       "    .dataframe thead th {\n",
       "        text-align: right;\n",
       "    }\n",
       "</style>\n",
       "<table border=\"1\" class=\"dataframe\">\n",
       "  <thead>\n",
       "    <tr style=\"text-align: right;\">\n",
       "      <th></th>\n",
       "      <th>count</th>\n",
       "      <th>mean</th>\n",
       "      <th>std</th>\n",
       "      <th>min</th>\n",
       "      <th>25%</th>\n",
       "      <th>50%</th>\n",
       "      <th>75%</th>\n",
       "      <th>max</th>\n",
       "    </tr>\n",
       "  </thead>\n",
       "  <tbody>\n",
       "    <tr>\n",
       "      <th>user_id</th>\n",
       "      <td>123036.00</td>\n",
       "      <td>1256.99</td>\n",
       "      <td>143.52</td>\n",
       "      <td>1000.00</td>\n",
       "      <td>1134.00</td>\n",
       "      <td>1271.00</td>\n",
       "      <td>1381.00</td>\n",
       "      <td>1499.00</td>\n",
       "    </tr>\n",
       "  </tbody>\n",
       "</table>\n",
       "</div>"
      ],
      "text/plain": [
       "            count    mean    std     min     25%     50%     75%     max\n",
       "user_id 123036.00 1256.99 143.52 1000.00 1134.00 1271.00 1381.00 1499.00"
      ]
     },
     "execution_count": 13,
     "metadata": {},
     "output_type": "execute_result"
    }
   ],
   "source": [
    "messages.describe().T"
   ]
  },
  {
   "cell_type": "markdown",
   "metadata": {},
   "source": [
    "Все в порядке, пользоватлеи те же."
   ]
  },
  {
   "cell_type": "markdown",
   "metadata": {},
   "source": [
    "### Информация об интернет-сессиях"
   ]
  },
  {
   "cell_type": "code",
   "execution_count": 14,
   "metadata": {},
   "outputs": [
    {
     "name": "stdout",
     "output_type": "stream",
     "text": [
      "<class 'pandas.core.frame.DataFrame'>\n",
      "RangeIndex: 149396 entries, 0 to 149395\n",
      "Data columns (total 5 columns):\n",
      " #   Column        Non-Null Count   Dtype  \n",
      "---  ------        --------------   -----  \n",
      " 0   Unnamed: 0    149396 non-null  int64  \n",
      " 1   id            149396 non-null  object \n",
      " 2   mb_used       149396 non-null  float64\n",
      " 3   session_date  149396 non-null  object \n",
      " 4   user_id       149396 non-null  int64  \n",
      "dtypes: float64(1), int64(2), object(2)\n",
      "memory usage: 5.7+ MB\n"
     ]
    }
   ],
   "source": [
    "internet.info()"
   ]
  },
  {
   "cell_type": "markdown",
   "metadata": {},
   "source": [
    "Пропусков нет. Преобразуем столбец с датой в тип даты:"
   ]
  },
  {
   "cell_type": "code",
   "execution_count": 15,
   "metadata": {},
   "outputs": [
    {
     "data": {
      "text/plain": [
       "dtype('<M8[ns]')"
      ]
     },
     "execution_count": 15,
     "metadata": {},
     "output_type": "execute_result"
    }
   ],
   "source": [
    "internet['session_date'] = pd.to_datetime(internet['session_date'], format='%Y-%m-%d')\n",
    "internet['session_date'].dtypes"
   ]
  },
  {
   "cell_type": "markdown",
   "metadata": {},
   "source": [
    "Проверим характеристики числовых столбцов:"
   ]
  },
  {
   "cell_type": "code",
   "execution_count": 16,
   "metadata": {},
   "outputs": [
    {
     "data": {
      "text/html": [
       "<div>\n",
       "<style scoped>\n",
       "    .dataframe tbody tr th:only-of-type {\n",
       "        vertical-align: middle;\n",
       "    }\n",
       "\n",
       "    .dataframe tbody tr th {\n",
       "        vertical-align: top;\n",
       "    }\n",
       "\n",
       "    .dataframe thead th {\n",
       "        text-align: right;\n",
       "    }\n",
       "</style>\n",
       "<table border=\"1\" class=\"dataframe\">\n",
       "  <thead>\n",
       "    <tr style=\"text-align: right;\">\n",
       "      <th></th>\n",
       "      <th>count</th>\n",
       "      <th>mean</th>\n",
       "      <th>std</th>\n",
       "      <th>min</th>\n",
       "      <th>25%</th>\n",
       "      <th>50%</th>\n",
       "      <th>75%</th>\n",
       "      <th>max</th>\n",
       "    </tr>\n",
       "  </thead>\n",
       "  <tbody>\n",
       "    <tr>\n",
       "      <th>Unnamed: 0</th>\n",
       "      <td>149396.00</td>\n",
       "      <td>74697.50</td>\n",
       "      <td>43127.05</td>\n",
       "      <td>0.00</td>\n",
       "      <td>37348.75</td>\n",
       "      <td>74697.50</td>\n",
       "      <td>112046.25</td>\n",
       "      <td>149395.00</td>\n",
       "    </tr>\n",
       "    <tr>\n",
       "      <th>mb_used</th>\n",
       "      <td>149396.00</td>\n",
       "      <td>370.19</td>\n",
       "      <td>278.30</td>\n",
       "      <td>0.00</td>\n",
       "      <td>138.19</td>\n",
       "      <td>348.01</td>\n",
       "      <td>559.55</td>\n",
       "      <td>1724.83</td>\n",
       "    </tr>\n",
       "    <tr>\n",
       "      <th>user_id</th>\n",
       "      <td>149396.00</td>\n",
       "      <td>1252.10</td>\n",
       "      <td>144.05</td>\n",
       "      <td>1000.00</td>\n",
       "      <td>1130.00</td>\n",
       "      <td>1251.00</td>\n",
       "      <td>1380.00</td>\n",
       "      <td>1499.00</td>\n",
       "    </tr>\n",
       "  </tbody>\n",
       "</table>\n",
       "</div>"
      ],
      "text/plain": [
       "               count     mean      std     min      25%      50%       75%  \\\n",
       "Unnamed: 0 149396.00 74697.50 43127.05    0.00 37348.75 74697.50 112046.25   \n",
       "mb_used    149396.00   370.19   278.30    0.00   138.19   348.01    559.55   \n",
       "user_id    149396.00  1252.10   144.05 1000.00  1130.00  1251.00   1380.00   \n",
       "\n",
       "                 max  \n",
       "Unnamed: 0 149395.00  \n",
       "mb_used      1724.83  \n",
       "user_id      1499.00  "
      ]
     },
     "execution_count": 16,
     "metadata": {},
     "output_type": "execute_result"
    }
   ],
   "source": [
    "internet.describe().T"
   ]
  },
  {
   "cell_type": "markdown",
   "metadata": {},
   "source": [
    " Для анализа у нас есть данные о почти 150 тыс. интернет-сессиях. За одну сессию скаяивалось от 0 до 1700 Мб, в среднем 370 Мб, медиана - 348 Мб. Данные о количестве мегабайт правдоподобные. Пользователи те же. Столбец 'Unnamed: 0' дублирует индексы, удалим его:"
   ]
  },
  {
   "cell_type": "code",
   "execution_count": 17,
   "metadata": {},
   "outputs": [
    {
     "data": {
      "text/html": [
       "<div>\n",
       "<style scoped>\n",
       "    .dataframe tbody tr th:only-of-type {\n",
       "        vertical-align: middle;\n",
       "    }\n",
       "\n",
       "    .dataframe tbody tr th {\n",
       "        vertical-align: top;\n",
       "    }\n",
       "\n",
       "    .dataframe thead th {\n",
       "        text-align: right;\n",
       "    }\n",
       "</style>\n",
       "<table border=\"1\" class=\"dataframe\">\n",
       "  <thead>\n",
       "    <tr style=\"text-align: right;\">\n",
       "      <th></th>\n",
       "      <th>id</th>\n",
       "      <th>mb_used</th>\n",
       "      <th>session_date</th>\n",
       "      <th>user_id</th>\n",
       "    </tr>\n",
       "  </thead>\n",
       "  <tbody>\n",
       "    <tr>\n",
       "      <th>0</th>\n",
       "      <td>1000_0</td>\n",
       "      <td>112.95</td>\n",
       "      <td>2018-11-25</td>\n",
       "      <td>1000</td>\n",
       "    </tr>\n",
       "    <tr>\n",
       "      <th>1</th>\n",
       "      <td>1000_1</td>\n",
       "      <td>1052.81</td>\n",
       "      <td>2018-09-07</td>\n",
       "      <td>1000</td>\n",
       "    </tr>\n",
       "    <tr>\n",
       "      <th>2</th>\n",
       "      <td>1000_2</td>\n",
       "      <td>1197.26</td>\n",
       "      <td>2018-06-25</td>\n",
       "      <td>1000</td>\n",
       "    </tr>\n",
       "  </tbody>\n",
       "</table>\n",
       "</div>"
      ],
      "text/plain": [
       "       id  mb_used session_date  user_id\n",
       "0  1000_0   112.95   2018-11-25     1000\n",
       "1  1000_1  1052.81   2018-09-07     1000\n",
       "2  1000_2  1197.26   2018-06-25     1000"
      ]
     },
     "execution_count": 17,
     "metadata": {},
     "output_type": "execute_result"
    }
   ],
   "source": [
    "internet.drop('Unnamed: 0', axis=1, inplace=True)\n",
    "internet.head(3)"
   ]
  },
  {
   "cell_type": "markdown",
   "metadata": {},
   "source": [
    "### Вывод"
   ]
  },
  {
   "cell_type": "markdown",
   "metadata": {},
   "source": [
    "<p></p>\n",
    "\n",
    "<div style=\"border:solid green 2px; padding: 20px\">\n",
    "    \n",
    "    Данные корректные и достаточные для анализа.   \n",
    "    Необоснованных пропусков нет.   \n",
    "    В таблице с информацией об интернет-сессиях удалили лишний столбец.   \n",
    "    Для удобства работы все столбцы с датами преобразовали в тип \"дата\".\n",
    "    \n",
    "</div>"
   ]
  },
  {
   "cell_type": "markdown",
   "metadata": {},
   "source": [
    "## Вспомогательные расчеты"
   ]
  },
  {
   "cell_type": "markdown",
   "metadata": {},
   "source": [
    "### Звонки и минуты по месяцам"
   ]
  },
  {
   "cell_type": "markdown",
   "metadata": {},
   "source": [
    "Посчитаем, сколько каждый пользователь сделал звонков и израсходовал минут разговора в разрезе по месяцам. \n",
    "\n",
    "Для этого добавим столбцы с месяцем и с округленной до минут продолжительностью звонка:"
   ]
  },
  {
   "cell_type": "code",
   "execution_count": 18,
   "metadata": {},
   "outputs": [
    {
     "data": {
      "text/html": [
       "<div>\n",
       "<style scoped>\n",
       "    .dataframe tbody tr th:only-of-type {\n",
       "        vertical-align: middle;\n",
       "    }\n",
       "\n",
       "    .dataframe tbody tr th {\n",
       "        vertical-align: top;\n",
       "    }\n",
       "\n",
       "    .dataframe thead th {\n",
       "        text-align: right;\n",
       "    }\n",
       "</style>\n",
       "<table border=\"1\" class=\"dataframe\">\n",
       "  <thead>\n",
       "    <tr style=\"text-align: right;\">\n",
       "      <th></th>\n",
       "      <th>id</th>\n",
       "      <th>call_date</th>\n",
       "      <th>duration</th>\n",
       "      <th>user_id</th>\n",
       "      <th>month</th>\n",
       "      <th>duration_round</th>\n",
       "    </tr>\n",
       "  </thead>\n",
       "  <tbody>\n",
       "    <tr>\n",
       "      <th>115497</th>\n",
       "      <td>1297_44</td>\n",
       "      <td>2018-12-12</td>\n",
       "      <td>15.25</td>\n",
       "      <td>1297</td>\n",
       "      <td>2018-12-01</td>\n",
       "      <td>16.00</td>\n",
       "    </tr>\n",
       "    <tr>\n",
       "      <th>42408</th>\n",
       "      <td>1104_310</td>\n",
       "      <td>2018-12-21</td>\n",
       "      <td>0.00</td>\n",
       "      <td>1104</td>\n",
       "      <td>2018-12-01</td>\n",
       "      <td>0.00</td>\n",
       "    </tr>\n",
       "    <tr>\n",
       "      <th>146352</th>\n",
       "      <td>1372_530</td>\n",
       "      <td>2018-02-04</td>\n",
       "      <td>9.24</td>\n",
       "      <td>1372</td>\n",
       "      <td>2018-02-01</td>\n",
       "      <td>10.00</td>\n",
       "    </tr>\n",
       "    <tr>\n",
       "      <th>10117</th>\n",
       "      <td>1026_188</td>\n",
       "      <td>2018-12-30</td>\n",
       "      <td>8.15</td>\n",
       "      <td>1026</td>\n",
       "      <td>2018-12-01</td>\n",
       "      <td>9.00</td>\n",
       "    </tr>\n",
       "    <tr>\n",
       "      <th>123283</th>\n",
       "      <td>1318_282</td>\n",
       "      <td>2018-05-24</td>\n",
       "      <td>8.27</td>\n",
       "      <td>1318</td>\n",
       "      <td>2018-05-01</td>\n",
       "      <td>9.00</td>\n",
       "    </tr>\n",
       "  </tbody>\n",
       "</table>\n",
       "</div>"
      ],
      "text/plain": [
       "              id  call_date  duration  user_id      month  duration_round\n",
       "115497   1297_44 2018-12-12     15.25     1297 2018-12-01           16.00\n",
       "42408   1104_310 2018-12-21      0.00     1104 2018-12-01            0.00\n",
       "146352  1372_530 2018-02-04      9.24     1372 2018-02-01           10.00\n",
       "10117   1026_188 2018-12-30      8.15     1026 2018-12-01            9.00\n",
       "123283  1318_282 2018-05-24      8.27     1318 2018-05-01            9.00"
      ]
     },
     "execution_count": 18,
     "metadata": {},
     "output_type": "execute_result"
    }
   ],
   "source": [
    "calls['month'] = calls['call_date'].astype('datetime64[M]')\n",
    "calls['duration_round'] = np.ceil(calls['duration'])\n",
    "calls.sample(5)"
   ]
  },
  {
   "cell_type": "markdown",
   "metadata": {},
   "source": [
    "Теперь можем формировать таблицу количества звонков и расхода минут в разрезе пользоватлей и месяцев:"
   ]
  },
  {
   "cell_type": "code",
   "execution_count": 19,
   "metadata": {},
   "outputs": [
    {
     "data": {
      "text/html": [
       "<div>\n",
       "<style scoped>\n",
       "    .dataframe tbody tr th:only-of-type {\n",
       "        vertical-align: middle;\n",
       "    }\n",
       "\n",
       "    .dataframe tbody tr th {\n",
       "        vertical-align: top;\n",
       "    }\n",
       "\n",
       "    .dataframe thead th {\n",
       "        text-align: right;\n",
       "    }\n",
       "</style>\n",
       "<table border=\"1\" class=\"dataframe\">\n",
       "  <thead>\n",
       "    <tr style=\"text-align: right;\">\n",
       "      <th></th>\n",
       "      <th>user_id</th>\n",
       "      <th>month</th>\n",
       "      <th>count_calls</th>\n",
       "      <th>sum_duration</th>\n",
       "    </tr>\n",
       "  </thead>\n",
       "  <tbody>\n",
       "    <tr>\n",
       "      <th>0</th>\n",
       "      <td>1000</td>\n",
       "      <td>2018-05-01</td>\n",
       "      <td>22</td>\n",
       "      <td>159.00</td>\n",
       "    </tr>\n",
       "    <tr>\n",
       "      <th>1</th>\n",
       "      <td>1000</td>\n",
       "      <td>2018-06-01</td>\n",
       "      <td>43</td>\n",
       "      <td>172.00</td>\n",
       "    </tr>\n",
       "    <tr>\n",
       "      <th>2</th>\n",
       "      <td>1000</td>\n",
       "      <td>2018-07-01</td>\n",
       "      <td>47</td>\n",
       "      <td>340.00</td>\n",
       "    </tr>\n",
       "    <tr>\n",
       "      <th>3</th>\n",
       "      <td>1000</td>\n",
       "      <td>2018-08-01</td>\n",
       "      <td>52</td>\n",
       "      <td>408.00</td>\n",
       "    </tr>\n",
       "    <tr>\n",
       "      <th>4</th>\n",
       "      <td>1000</td>\n",
       "      <td>2018-09-01</td>\n",
       "      <td>58</td>\n",
       "      <td>466.00</td>\n",
       "    </tr>\n",
       "  </tbody>\n",
       "</table>\n",
       "</div>"
      ],
      "text/plain": [
       "   user_id      month  count_calls  sum_duration\n",
       "0     1000 2018-05-01           22        159.00\n",
       "1     1000 2018-06-01           43        172.00\n",
       "2     1000 2018-07-01           47        340.00\n",
       "3     1000 2018-08-01           52        408.00\n",
       "4     1000 2018-09-01           58        466.00"
      ]
     },
     "execution_count": 19,
     "metadata": {},
     "output_type": "execute_result"
    }
   ],
   "source": [
    "calls_pivot = calls.pivot_table(index=['user_id', 'month'], values='duration_round', \\\n",
    "                                aggfunc=['count', 'sum']).reset_index()\n",
    "calls_pivot.columns = ['user_id', 'month', 'count_calls', 'sum_duration']\n",
    "calls_pivot.head()"
   ]
  },
  {
   "cell_type": "markdown",
   "metadata": {},
   "source": [
    "Мы получили сводную таблицу с количеством звонков и израсходованных минут по месяцам для каждого пользователя."
   ]
  },
  {
   "cell_type": "markdown",
   "metadata": {},
   "source": [
    "### Количество отправленных сообщений по месяцам"
   ]
  },
  {
   "cell_type": "markdown",
   "metadata": {},
   "source": [
    "Аналогично рассчитаем, сколько сообщений пользователи отправляли ежемесячно:"
   ]
  },
  {
   "cell_type": "code",
   "execution_count": 20,
   "metadata": {},
   "outputs": [
    {
     "data": {
      "text/html": [
       "<div>\n",
       "<style scoped>\n",
       "    .dataframe tbody tr th:only-of-type {\n",
       "        vertical-align: middle;\n",
       "    }\n",
       "\n",
       "    .dataframe tbody tr th {\n",
       "        vertical-align: top;\n",
       "    }\n",
       "\n",
       "    .dataframe thead th {\n",
       "        text-align: right;\n",
       "    }\n",
       "</style>\n",
       "<table border=\"1\" class=\"dataframe\">\n",
       "  <thead>\n",
       "    <tr style=\"text-align: right;\">\n",
       "      <th></th>\n",
       "      <th>id</th>\n",
       "      <th>message_date</th>\n",
       "      <th>user_id</th>\n",
       "      <th>month</th>\n",
       "    </tr>\n",
       "  </thead>\n",
       "  <tbody>\n",
       "    <tr>\n",
       "      <th>0</th>\n",
       "      <td>1000_0</td>\n",
       "      <td>2018-06-27</td>\n",
       "      <td>1000</td>\n",
       "      <td>2018-06-01</td>\n",
       "    </tr>\n",
       "    <tr>\n",
       "      <th>1</th>\n",
       "      <td>1000_1</td>\n",
       "      <td>2018-10-08</td>\n",
       "      <td>1000</td>\n",
       "      <td>2018-10-01</td>\n",
       "    </tr>\n",
       "    <tr>\n",
       "      <th>2</th>\n",
       "      <td>1000_2</td>\n",
       "      <td>2018-08-04</td>\n",
       "      <td>1000</td>\n",
       "      <td>2018-08-01</td>\n",
       "    </tr>\n",
       "  </tbody>\n",
       "</table>\n",
       "</div>"
      ],
      "text/plain": [
       "       id message_date  user_id      month\n",
       "0  1000_0   2018-06-27     1000 2018-06-01\n",
       "1  1000_1   2018-10-08     1000 2018-10-01\n",
       "2  1000_2   2018-08-04     1000 2018-08-01"
      ]
     },
     "execution_count": 20,
     "metadata": {},
     "output_type": "execute_result"
    }
   ],
   "source": [
    "messages['month'] = messages['message_date'].astype('datetime64[M]')\n",
    "messages.head(3)"
   ]
  },
  {
   "cell_type": "code",
   "execution_count": 21,
   "metadata": {},
   "outputs": [
    {
     "data": {
      "text/html": [
       "<div>\n",
       "<style scoped>\n",
       "    .dataframe tbody tr th:only-of-type {\n",
       "        vertical-align: middle;\n",
       "    }\n",
       "\n",
       "    .dataframe tbody tr th {\n",
       "        vertical-align: top;\n",
       "    }\n",
       "\n",
       "    .dataframe thead th {\n",
       "        text-align: right;\n",
       "    }\n",
       "</style>\n",
       "<table border=\"1\" class=\"dataframe\">\n",
       "  <thead>\n",
       "    <tr style=\"text-align: right;\">\n",
       "      <th></th>\n",
       "      <th>user_id</th>\n",
       "      <th>month</th>\n",
       "      <th>count_message</th>\n",
       "    </tr>\n",
       "  </thead>\n",
       "  <tbody>\n",
       "    <tr>\n",
       "      <th>0</th>\n",
       "      <td>1000</td>\n",
       "      <td>2018-05-01</td>\n",
       "      <td>22</td>\n",
       "    </tr>\n",
       "    <tr>\n",
       "      <th>1</th>\n",
       "      <td>1000</td>\n",
       "      <td>2018-06-01</td>\n",
       "      <td>60</td>\n",
       "    </tr>\n",
       "    <tr>\n",
       "      <th>2</th>\n",
       "      <td>1000</td>\n",
       "      <td>2018-07-01</td>\n",
       "      <td>75</td>\n",
       "    </tr>\n",
       "    <tr>\n",
       "      <th>3</th>\n",
       "      <td>1000</td>\n",
       "      <td>2018-08-01</td>\n",
       "      <td>81</td>\n",
       "    </tr>\n",
       "    <tr>\n",
       "      <th>4</th>\n",
       "      <td>1000</td>\n",
       "      <td>2018-09-01</td>\n",
       "      <td>57</td>\n",
       "    </tr>\n",
       "  </tbody>\n",
       "</table>\n",
       "</div>"
      ],
      "text/plain": [
       "   user_id      month  count_message\n",
       "0     1000 2018-05-01             22\n",
       "1     1000 2018-06-01             60\n",
       "2     1000 2018-07-01             75\n",
       "3     1000 2018-08-01             81\n",
       "4     1000 2018-09-01             57"
      ]
     },
     "execution_count": 21,
     "metadata": {},
     "output_type": "execute_result"
    }
   ],
   "source": [
    "messages_pivot = messages.pivot_table(index=['user_id', 'month'], values='message_date', \\\n",
    "                                aggfunc='count').reset_index()\n",
    "messages_pivot = messages_pivot.rename(columns={'message_date':'count_message'}) \n",
    "messages_pivot.head()"
   ]
  },
  {
   "cell_type": "markdown",
   "metadata": {},
   "source": [
    "Количество сообщений по месяцам для каждого пользователя посчитано."
   ]
  },
  {
   "cell_type": "markdown",
   "metadata": {},
   "source": [
    "### Интернет-трафик по месяцам"
   ]
  },
  {
   "cell_type": "markdown",
   "metadata": {},
   "source": [
    "Рассчитаем объем израсходованного интернет-трафика для каждого пользователя помесячно:"
   ]
  },
  {
   "cell_type": "code",
   "execution_count": 22,
   "metadata": {},
   "outputs": [
    {
     "data": {
      "text/html": [
       "<div>\n",
       "<style scoped>\n",
       "    .dataframe tbody tr th:only-of-type {\n",
       "        vertical-align: middle;\n",
       "    }\n",
       "\n",
       "    .dataframe tbody tr th {\n",
       "        vertical-align: top;\n",
       "    }\n",
       "\n",
       "    .dataframe thead th {\n",
       "        text-align: right;\n",
       "    }\n",
       "</style>\n",
       "<table border=\"1\" class=\"dataframe\">\n",
       "  <thead>\n",
       "    <tr style=\"text-align: right;\">\n",
       "      <th></th>\n",
       "      <th>id</th>\n",
       "      <th>mb_used</th>\n",
       "      <th>session_date</th>\n",
       "      <th>user_id</th>\n",
       "      <th>month</th>\n",
       "    </tr>\n",
       "  </thead>\n",
       "  <tbody>\n",
       "    <tr>\n",
       "      <th>0</th>\n",
       "      <td>1000_0</td>\n",
       "      <td>112.95</td>\n",
       "      <td>2018-11-25</td>\n",
       "      <td>1000</td>\n",
       "      <td>2018-11-01</td>\n",
       "    </tr>\n",
       "    <tr>\n",
       "      <th>1</th>\n",
       "      <td>1000_1</td>\n",
       "      <td>1052.81</td>\n",
       "      <td>2018-09-07</td>\n",
       "      <td>1000</td>\n",
       "      <td>2018-09-01</td>\n",
       "    </tr>\n",
       "    <tr>\n",
       "      <th>2</th>\n",
       "      <td>1000_2</td>\n",
       "      <td>1197.26</td>\n",
       "      <td>2018-06-25</td>\n",
       "      <td>1000</td>\n",
       "      <td>2018-06-01</td>\n",
       "    </tr>\n",
       "  </tbody>\n",
       "</table>\n",
       "</div>"
      ],
      "text/plain": [
       "       id  mb_used session_date  user_id      month\n",
       "0  1000_0   112.95   2018-11-25     1000 2018-11-01\n",
       "1  1000_1  1052.81   2018-09-07     1000 2018-09-01\n",
       "2  1000_2  1197.26   2018-06-25     1000 2018-06-01"
      ]
     },
     "execution_count": 22,
     "metadata": {},
     "output_type": "execute_result"
    }
   ],
   "source": [
    "internet['month'] = internet['session_date'].astype('datetime64[M]') \n",
    "internet.head(3)"
   ]
  },
  {
   "cell_type": "code",
   "execution_count": 23,
   "metadata": {},
   "outputs": [
    {
     "data": {
      "text/html": [
       "<div>\n",
       "<style scoped>\n",
       "    .dataframe tbody tr th:only-of-type {\n",
       "        vertical-align: middle;\n",
       "    }\n",
       "\n",
       "    .dataframe tbody tr th {\n",
       "        vertical-align: top;\n",
       "    }\n",
       "\n",
       "    .dataframe thead th {\n",
       "        text-align: right;\n",
       "    }\n",
       "</style>\n",
       "<table border=\"1\" class=\"dataframe\">\n",
       "  <thead>\n",
       "    <tr style=\"text-align: right;\">\n",
       "      <th></th>\n",
       "      <th>user_id</th>\n",
       "      <th>month</th>\n",
       "      <th>mb_used</th>\n",
       "      <th>gb_used</th>\n",
       "    </tr>\n",
       "  </thead>\n",
       "  <tbody>\n",
       "    <tr>\n",
       "      <th>0</th>\n",
       "      <td>1000</td>\n",
       "      <td>2018-05-01</td>\n",
       "      <td>2253.49</td>\n",
       "      <td>3.00</td>\n",
       "    </tr>\n",
       "    <tr>\n",
       "      <th>1</th>\n",
       "      <td>1000</td>\n",
       "      <td>2018-06-01</td>\n",
       "      <td>23233.77</td>\n",
       "      <td>23.00</td>\n",
       "    </tr>\n",
       "    <tr>\n",
       "      <th>2</th>\n",
       "      <td>1000</td>\n",
       "      <td>2018-07-01</td>\n",
       "      <td>14003.64</td>\n",
       "      <td>14.00</td>\n",
       "    </tr>\n",
       "    <tr>\n",
       "      <th>3</th>\n",
       "      <td>1000</td>\n",
       "      <td>2018-08-01</td>\n",
       "      <td>14055.93</td>\n",
       "      <td>14.00</td>\n",
       "    </tr>\n",
       "    <tr>\n",
       "      <th>4</th>\n",
       "      <td>1000</td>\n",
       "      <td>2018-09-01</td>\n",
       "      <td>14568.91</td>\n",
       "      <td>15.00</td>\n",
       "    </tr>\n",
       "  </tbody>\n",
       "</table>\n",
       "</div>"
      ],
      "text/plain": [
       "   user_id      month  mb_used  gb_used\n",
       "0     1000 2018-05-01  2253.49     3.00\n",
       "1     1000 2018-06-01 23233.77    23.00\n",
       "2     1000 2018-07-01 14003.64    14.00\n",
       "3     1000 2018-08-01 14055.93    14.00\n",
       "4     1000 2018-09-01 14568.91    15.00"
      ]
     },
     "execution_count": 23,
     "metadata": {},
     "output_type": "execute_result"
    }
   ],
   "source": [
    "internet_pivot = internet.pivot_table(index=['user_id', 'month'], values='mb_used', \\\n",
    "                                aggfunc='sum').reset_index()\n",
    "\n",
    "# oкруглим мегабайты до гигабайт:\n",
    "internet_pivot['gb_used'] = np.ceil(internet_pivot['mb_used'] / 1024)\n",
    "internet_pivot.head()"
   ]
  },
  {
   "cell_type": "markdown",
   "metadata": {},
   "source": [
    "Итак, мы получили расход интернет-трафика в гигабайтах для каждого пользователя помесячно."
   ]
  },
  {
   "cell_type": "markdown",
   "metadata": {},
   "source": [
    "### Выручка по месяцам"
   ]
  },
  {
   "cell_type": "markdown",
   "metadata": {},
   "source": [
    "Чтобы рассчитать выручку объединим полученные сводные таблицы по столбцам 'user_id' и 'month':"
   ]
  },
  {
   "cell_type": "code",
   "execution_count": 24,
   "metadata": {},
   "outputs": [
    {
     "data": {
      "text/html": [
       "<div>\n",
       "<style scoped>\n",
       "    .dataframe tbody tr th:only-of-type {\n",
       "        vertical-align: middle;\n",
       "    }\n",
       "\n",
       "    .dataframe tbody tr th {\n",
       "        vertical-align: top;\n",
       "    }\n",
       "\n",
       "    .dataframe thead th {\n",
       "        text-align: right;\n",
       "    }\n",
       "</style>\n",
       "<table border=\"1\" class=\"dataframe\">\n",
       "  <thead>\n",
       "    <tr style=\"text-align: right;\">\n",
       "      <th></th>\n",
       "      <th>user_id</th>\n",
       "      <th>month</th>\n",
       "      <th>count_calls</th>\n",
       "      <th>sum_duration</th>\n",
       "      <th>count_message</th>\n",
       "      <th>gb_used</th>\n",
       "    </tr>\n",
       "  </thead>\n",
       "  <tbody>\n",
       "    <tr>\n",
       "      <th>0</th>\n",
       "      <td>1000</td>\n",
       "      <td>2018-05-01</td>\n",
       "      <td>22.00</td>\n",
       "      <td>159.00</td>\n",
       "      <td>22.00</td>\n",
       "      <td>3.00</td>\n",
       "    </tr>\n",
       "    <tr>\n",
       "      <th>1</th>\n",
       "      <td>1000</td>\n",
       "      <td>2018-06-01</td>\n",
       "      <td>43.00</td>\n",
       "      <td>172.00</td>\n",
       "      <td>60.00</td>\n",
       "      <td>23.00</td>\n",
       "    </tr>\n",
       "    <tr>\n",
       "      <th>2</th>\n",
       "      <td>1000</td>\n",
       "      <td>2018-07-01</td>\n",
       "      <td>47.00</td>\n",
       "      <td>340.00</td>\n",
       "      <td>75.00</td>\n",
       "      <td>14.00</td>\n",
       "    </tr>\n",
       "    <tr>\n",
       "      <th>3</th>\n",
       "      <td>1000</td>\n",
       "      <td>2018-08-01</td>\n",
       "      <td>52.00</td>\n",
       "      <td>408.00</td>\n",
       "      <td>81.00</td>\n",
       "      <td>14.00</td>\n",
       "    </tr>\n",
       "    <tr>\n",
       "      <th>4</th>\n",
       "      <td>1000</td>\n",
       "      <td>2018-09-01</td>\n",
       "      <td>58.00</td>\n",
       "      <td>466.00</td>\n",
       "      <td>57.00</td>\n",
       "      <td>15.00</td>\n",
       "    </tr>\n",
       "  </tbody>\n",
       "</table>\n",
       "</div>"
      ],
      "text/plain": [
       "   user_id      month  count_calls  sum_duration  count_message  gb_used\n",
       "0     1000 2018-05-01        22.00        159.00          22.00     3.00\n",
       "1     1000 2018-06-01        43.00        172.00          60.00    23.00\n",
       "2     1000 2018-07-01        47.00        340.00          75.00    14.00\n",
       "3     1000 2018-08-01        52.00        408.00          81.00    14.00\n",
       "4     1000 2018-09-01        58.00        466.00          57.00    15.00"
      ]
     },
     "execution_count": 24,
     "metadata": {},
     "output_type": "execute_result"
    }
   ],
   "source": [
    "pivot1 = calls_pivot.merge(messages_pivot, on=['user_id', 'month'], how='outer')\n",
    "pivot2 = pivot1.merge(internet_pivot, on=['user_id', 'month'], how='outer')\n",
    "pivot2.drop('mb_used', axis=1, inplace=True) # столбец с мегабайтами нам не нужен\n",
    "pivot2.head()"
   ]
  },
  {
   "cell_type": "markdown",
   "metadata": {},
   "source": [
    "Для расчета выручки нужно знать, какому пользователю какой тариф соответствует, добавим эту информацию из таблицы с характеристиками пользователей:"
   ]
  },
  {
   "cell_type": "code",
   "execution_count": 25,
   "metadata": {},
   "outputs": [
    {
     "data": {
      "text/html": [
       "<div>\n",
       "<style scoped>\n",
       "    .dataframe tbody tr th:only-of-type {\n",
       "        vertical-align: middle;\n",
       "    }\n",
       "\n",
       "    .dataframe tbody tr th {\n",
       "        vertical-align: top;\n",
       "    }\n",
       "\n",
       "    .dataframe thead th {\n",
       "        text-align: right;\n",
       "    }\n",
       "</style>\n",
       "<table border=\"1\" class=\"dataframe\">\n",
       "  <thead>\n",
       "    <tr style=\"text-align: right;\">\n",
       "      <th></th>\n",
       "      <th>user_id</th>\n",
       "      <th>month</th>\n",
       "      <th>count_calls</th>\n",
       "      <th>sum_duration</th>\n",
       "      <th>count_message</th>\n",
       "      <th>gb_used</th>\n",
       "      <th>city</th>\n",
       "      <th>tariff</th>\n",
       "    </tr>\n",
       "  </thead>\n",
       "  <tbody>\n",
       "    <tr>\n",
       "      <th>0</th>\n",
       "      <td>1000</td>\n",
       "      <td>2018-05-01</td>\n",
       "      <td>22.00</td>\n",
       "      <td>159.00</td>\n",
       "      <td>22.00</td>\n",
       "      <td>3.00</td>\n",
       "      <td>Краснодар</td>\n",
       "      <td>ultra</td>\n",
       "    </tr>\n",
       "    <tr>\n",
       "      <th>1</th>\n",
       "      <td>1000</td>\n",
       "      <td>2018-06-01</td>\n",
       "      <td>43.00</td>\n",
       "      <td>172.00</td>\n",
       "      <td>60.00</td>\n",
       "      <td>23.00</td>\n",
       "      <td>Краснодар</td>\n",
       "      <td>ultra</td>\n",
       "    </tr>\n",
       "    <tr>\n",
       "      <th>2</th>\n",
       "      <td>1000</td>\n",
       "      <td>2018-07-01</td>\n",
       "      <td>47.00</td>\n",
       "      <td>340.00</td>\n",
       "      <td>75.00</td>\n",
       "      <td>14.00</td>\n",
       "      <td>Краснодар</td>\n",
       "      <td>ultra</td>\n",
       "    </tr>\n",
       "    <tr>\n",
       "      <th>3</th>\n",
       "      <td>1000</td>\n",
       "      <td>2018-08-01</td>\n",
       "      <td>52.00</td>\n",
       "      <td>408.00</td>\n",
       "      <td>81.00</td>\n",
       "      <td>14.00</td>\n",
       "      <td>Краснодар</td>\n",
       "      <td>ultra</td>\n",
       "    </tr>\n",
       "    <tr>\n",
       "      <th>4</th>\n",
       "      <td>1000</td>\n",
       "      <td>2018-09-01</td>\n",
       "      <td>58.00</td>\n",
       "      <td>466.00</td>\n",
       "      <td>57.00</td>\n",
       "      <td>15.00</td>\n",
       "      <td>Краснодар</td>\n",
       "      <td>ultra</td>\n",
       "    </tr>\n",
       "  </tbody>\n",
       "</table>\n",
       "</div>"
      ],
      "text/plain": [
       "   user_id      month  count_calls  sum_duration  count_message  gb_used  \\\n",
       "0     1000 2018-05-01        22.00        159.00          22.00     3.00   \n",
       "1     1000 2018-06-01        43.00        172.00          60.00    23.00   \n",
       "2     1000 2018-07-01        47.00        340.00          75.00    14.00   \n",
       "3     1000 2018-08-01        52.00        408.00          81.00    14.00   \n",
       "4     1000 2018-09-01        58.00        466.00          57.00    15.00   \n",
       "\n",
       "        city tariff  \n",
       "0  Краснодар  ultra  \n",
       "1  Краснодар  ultra  \n",
       "2  Краснодар  ultra  \n",
       "3  Краснодар  ultra  \n",
       "4  Краснодар  ultra  "
      ]
     },
     "execution_count": 25,
     "metadata": {},
     "output_type": "execute_result"
    }
   ],
   "source": [
    "pivot3 = pivot2.merge(users[['user_id', 'city', 'tariff']], on='user_id', how='outer')\n",
    "pivot3.head()"
   ]
  },
  {
   "cell_type": "markdown",
   "metadata": {},
   "source": [
    "В таблице с тарифами переведем мегабайты в гигабайты и переименуем столбец с названием тарифа:"
   ]
  },
  {
   "cell_type": "code",
   "execution_count": 26,
   "metadata": {},
   "outputs": [
    {
     "data": {
      "text/html": [
       "<div>\n",
       "<style scoped>\n",
       "    .dataframe tbody tr th:only-of-type {\n",
       "        vertical-align: middle;\n",
       "    }\n",
       "\n",
       "    .dataframe tbody tr th {\n",
       "        vertical-align: top;\n",
       "    }\n",
       "\n",
       "    .dataframe thead th {\n",
       "        text-align: right;\n",
       "    }\n",
       "</style>\n",
       "<table border=\"1\" class=\"dataframe\">\n",
       "  <thead>\n",
       "    <tr style=\"text-align: right;\">\n",
       "      <th></th>\n",
       "      <th>messages_included</th>\n",
       "      <th>gb_per_month_included</th>\n",
       "      <th>minutes_included</th>\n",
       "      <th>rub_monthly_fee</th>\n",
       "      <th>rub_per_gb</th>\n",
       "      <th>rub_per_message</th>\n",
       "      <th>rub_per_minute</th>\n",
       "      <th>tariff</th>\n",
       "    </tr>\n",
       "  </thead>\n",
       "  <tbody>\n",
       "    <tr>\n",
       "      <th>0</th>\n",
       "      <td>50</td>\n",
       "      <td>15.00</td>\n",
       "      <td>500</td>\n",
       "      <td>550</td>\n",
       "      <td>200</td>\n",
       "      <td>3</td>\n",
       "      <td>3</td>\n",
       "      <td>smart</td>\n",
       "    </tr>\n",
       "    <tr>\n",
       "      <th>1</th>\n",
       "      <td>1000</td>\n",
       "      <td>30.00</td>\n",
       "      <td>3000</td>\n",
       "      <td>1950</td>\n",
       "      <td>150</td>\n",
       "      <td>1</td>\n",
       "      <td>1</td>\n",
       "      <td>ultra</td>\n",
       "    </tr>\n",
       "  </tbody>\n",
       "</table>\n",
       "</div>"
      ],
      "text/plain": [
       "   messages_included  gb_per_month_included  minutes_included  \\\n",
       "0                 50                  15.00               500   \n",
       "1               1000                  30.00              3000   \n",
       "\n",
       "   rub_monthly_fee  rub_per_gb  rub_per_message  rub_per_minute tariff  \n",
       "0              550         200                3               3  smart  \n",
       "1             1950         150                1               1  ultra  "
      ]
     },
     "execution_count": 26,
     "metadata": {},
     "output_type": "execute_result"
    }
   ],
   "source": [
    "tariffs['mb_per_month_included'] /= 1024\n",
    "tariffs = tariffs.rename(columns={'mb_per_month_included':'gb_per_month_included', 'tariff_name':'tariff'})\n",
    "tariffs"
   ]
  },
  {
   "cell_type": "markdown",
   "metadata": {},
   "source": [
    "Добавим данные о тарифе:"
   ]
  },
  {
   "cell_type": "code",
   "execution_count": 27,
   "metadata": {},
   "outputs": [
    {
     "data": {
      "text/html": [
       "<div>\n",
       "<style scoped>\n",
       "    .dataframe tbody tr th:only-of-type {\n",
       "        vertical-align: middle;\n",
       "    }\n",
       "\n",
       "    .dataframe tbody tr th {\n",
       "        vertical-align: top;\n",
       "    }\n",
       "\n",
       "    .dataframe thead th {\n",
       "        text-align: right;\n",
       "    }\n",
       "</style>\n",
       "<table border=\"1\" class=\"dataframe\">\n",
       "  <thead>\n",
       "    <tr style=\"text-align: right;\">\n",
       "      <th></th>\n",
       "      <th>user_id</th>\n",
       "      <th>month</th>\n",
       "      <th>count_calls</th>\n",
       "      <th>sum_duration</th>\n",
       "      <th>count_message</th>\n",
       "      <th>gb_used</th>\n",
       "      <th>city</th>\n",
       "      <th>tariff</th>\n",
       "      <th>messages_included</th>\n",
       "      <th>gb_per_month_included</th>\n",
       "      <th>minutes_included</th>\n",
       "      <th>rub_monthly_fee</th>\n",
       "      <th>rub_per_gb</th>\n",
       "      <th>rub_per_message</th>\n",
       "      <th>rub_per_minute</th>\n",
       "    </tr>\n",
       "  </thead>\n",
       "  <tbody>\n",
       "    <tr>\n",
       "      <th>0</th>\n",
       "      <td>1000</td>\n",
       "      <td>2018-05-01</td>\n",
       "      <td>22.00</td>\n",
       "      <td>159.00</td>\n",
       "      <td>22.00</td>\n",
       "      <td>3.00</td>\n",
       "      <td>Краснодар</td>\n",
       "      <td>ultra</td>\n",
       "      <td>1000</td>\n",
       "      <td>30.00</td>\n",
       "      <td>3000</td>\n",
       "      <td>1950</td>\n",
       "      <td>150</td>\n",
       "      <td>1</td>\n",
       "      <td>1</td>\n",
       "    </tr>\n",
       "    <tr>\n",
       "      <th>1</th>\n",
       "      <td>1000</td>\n",
       "      <td>2018-06-01</td>\n",
       "      <td>43.00</td>\n",
       "      <td>172.00</td>\n",
       "      <td>60.00</td>\n",
       "      <td>23.00</td>\n",
       "      <td>Краснодар</td>\n",
       "      <td>ultra</td>\n",
       "      <td>1000</td>\n",
       "      <td>30.00</td>\n",
       "      <td>3000</td>\n",
       "      <td>1950</td>\n",
       "      <td>150</td>\n",
       "      <td>1</td>\n",
       "      <td>1</td>\n",
       "    </tr>\n",
       "    <tr>\n",
       "      <th>2</th>\n",
       "      <td>1000</td>\n",
       "      <td>2018-07-01</td>\n",
       "      <td>47.00</td>\n",
       "      <td>340.00</td>\n",
       "      <td>75.00</td>\n",
       "      <td>14.00</td>\n",
       "      <td>Краснодар</td>\n",
       "      <td>ultra</td>\n",
       "      <td>1000</td>\n",
       "      <td>30.00</td>\n",
       "      <td>3000</td>\n",
       "      <td>1950</td>\n",
       "      <td>150</td>\n",
       "      <td>1</td>\n",
       "      <td>1</td>\n",
       "    </tr>\n",
       "    <tr>\n",
       "      <th>3</th>\n",
       "      <td>1000</td>\n",
       "      <td>2018-08-01</td>\n",
       "      <td>52.00</td>\n",
       "      <td>408.00</td>\n",
       "      <td>81.00</td>\n",
       "      <td>14.00</td>\n",
       "      <td>Краснодар</td>\n",
       "      <td>ultra</td>\n",
       "      <td>1000</td>\n",
       "      <td>30.00</td>\n",
       "      <td>3000</td>\n",
       "      <td>1950</td>\n",
       "      <td>150</td>\n",
       "      <td>1</td>\n",
       "      <td>1</td>\n",
       "    </tr>\n",
       "    <tr>\n",
       "      <th>4</th>\n",
       "      <td>1000</td>\n",
       "      <td>2018-09-01</td>\n",
       "      <td>58.00</td>\n",
       "      <td>466.00</td>\n",
       "      <td>57.00</td>\n",
       "      <td>15.00</td>\n",
       "      <td>Краснодар</td>\n",
       "      <td>ultra</td>\n",
       "      <td>1000</td>\n",
       "      <td>30.00</td>\n",
       "      <td>3000</td>\n",
       "      <td>1950</td>\n",
       "      <td>150</td>\n",
       "      <td>1</td>\n",
       "      <td>1</td>\n",
       "    </tr>\n",
       "  </tbody>\n",
       "</table>\n",
       "</div>"
      ],
      "text/plain": [
       "   user_id      month  count_calls  sum_duration  count_message  gb_used  \\\n",
       "0     1000 2018-05-01        22.00        159.00          22.00     3.00   \n",
       "1     1000 2018-06-01        43.00        172.00          60.00    23.00   \n",
       "2     1000 2018-07-01        47.00        340.00          75.00    14.00   \n",
       "3     1000 2018-08-01        52.00        408.00          81.00    14.00   \n",
       "4     1000 2018-09-01        58.00        466.00          57.00    15.00   \n",
       "\n",
       "        city tariff  messages_included  gb_per_month_included  \\\n",
       "0  Краснодар  ultra               1000                  30.00   \n",
       "1  Краснодар  ultra               1000                  30.00   \n",
       "2  Краснодар  ultra               1000                  30.00   \n",
       "3  Краснодар  ultra               1000                  30.00   \n",
       "4  Краснодар  ultra               1000                  30.00   \n",
       "\n",
       "   minutes_included  rub_monthly_fee  rub_per_gb  rub_per_message  \\\n",
       "0              3000             1950         150                1   \n",
       "1              3000             1950         150                1   \n",
       "2              3000             1950         150                1   \n",
       "3              3000             1950         150                1   \n",
       "4              3000             1950         150                1   \n",
       "\n",
       "   rub_per_minute  \n",
       "0               1  \n",
       "1               1  \n",
       "2               1  \n",
       "3               1  \n",
       "4               1  "
      ]
     },
     "execution_count": 27,
     "metadata": {},
     "output_type": "execute_result"
    }
   ],
   "source": [
    "pivot4 = pivot3.merge(tariffs, on='tariff', how='outer')\n",
    "pivot4.head()"
   ]
  },
  {
   "cell_type": "markdown",
   "metadata": {},
   "source": [
    "Теперь можем считать выручку. Выручка  = абонентская плата + доплата сверх пакета. Абонентская плата у нас уже есть в отдельном столбце, создадим столбец с суммой доплаты, а затем рассчитаем итоговую выручку.\n",
    "\n",
    "Для расчета дополнительной платы напишем функцию:"
   ]
  },
  {
   "cell_type": "code",
   "execution_count": 28,
   "metadata": {},
   "outputs": [],
   "source": [
    "def extra(row):\n",
    "    '''\n",
    "    Функция принимает строку таблицы, проверяет, не превышен ли пакет,\n",
    "    и если превышен, то умножает объем превышения на цену \n",
    "    дополнительных минут/сообщений/Гб, суммирует все доплаты \n",
    "    и возвращает итоговую сумму доплаты сверх пакета\n",
    "    '''\n",
    "    extra = 0\n",
    "    if row['sum_duration'] > row['minutes_included']:\n",
    "        extra += (row['sum_duration'] - row['minutes_included']) * row['rub_per_minute']\n",
    "    if row['count_message'] > row['messages_included']:\n",
    "        extra += (row['count_message'] - row['messages_included']) * row['rub_per_message']\n",
    "    if row['gb_used'] > row['gb_per_month_included']:\n",
    "        extra += (row['gb_used'] - row['gb_per_month_included']) * row['rub_per_gb']\n",
    "    return extra"
   ]
  },
  {
   "cell_type": "markdown",
   "metadata": {},
   "source": [
    "Применим функцию к датафрейму, результаты запишем в новый столбец с суммой доплаты, проверим результат:"
   ]
  },
  {
   "cell_type": "code",
   "execution_count": 29,
   "metadata": {},
   "outputs": [
    {
     "data": {
      "text/html": [
       "<div>\n",
       "<style scoped>\n",
       "    .dataframe tbody tr th:only-of-type {\n",
       "        vertical-align: middle;\n",
       "    }\n",
       "\n",
       "    .dataframe tbody tr th {\n",
       "        vertical-align: top;\n",
       "    }\n",
       "\n",
       "    .dataframe thead th {\n",
       "        text-align: right;\n",
       "    }\n",
       "</style>\n",
       "<table border=\"1\" class=\"dataframe\">\n",
       "  <thead>\n",
       "    <tr style=\"text-align: right;\">\n",
       "      <th></th>\n",
       "      <th>user_id</th>\n",
       "      <th>month</th>\n",
       "      <th>count_calls</th>\n",
       "      <th>sum_duration</th>\n",
       "      <th>count_message</th>\n",
       "      <th>gb_used</th>\n",
       "      <th>city</th>\n",
       "      <th>tariff</th>\n",
       "      <th>messages_included</th>\n",
       "      <th>gb_per_month_included</th>\n",
       "      <th>minutes_included</th>\n",
       "      <th>rub_monthly_fee</th>\n",
       "      <th>rub_per_gb</th>\n",
       "      <th>rub_per_message</th>\n",
       "      <th>rub_per_minute</th>\n",
       "      <th>extra_fee</th>\n",
       "    </tr>\n",
       "  </thead>\n",
       "  <tbody>\n",
       "    <tr>\n",
       "      <th>2060</th>\n",
       "      <td>1229</td>\n",
       "      <td>2018-11-01</td>\n",
       "      <td>112.00</td>\n",
       "      <td>672.00</td>\n",
       "      <td>5.00</td>\n",
       "      <td>26.00</td>\n",
       "      <td>Москва</td>\n",
       "      <td>smart</td>\n",
       "      <td>50</td>\n",
       "      <td>15.00</td>\n",
       "      <td>500</td>\n",
       "      <td>550</td>\n",
       "      <td>200</td>\n",
       "      <td>3</td>\n",
       "      <td>3</td>\n",
       "      <td>2716.00</td>\n",
       "    </tr>\n",
       "    <tr>\n",
       "      <th>2681</th>\n",
       "      <td>1384</td>\n",
       "      <td>2018-10-01</td>\n",
       "      <td>94.00</td>\n",
       "      <td>667.00</td>\n",
       "      <td>1.00</td>\n",
       "      <td>26.00</td>\n",
       "      <td>Нижний Новгород</td>\n",
       "      <td>smart</td>\n",
       "      <td>50</td>\n",
       "      <td>15.00</td>\n",
       "      <td>500</td>\n",
       "      <td>550</td>\n",
       "      <td>200</td>\n",
       "      <td>3</td>\n",
       "      <td>3</td>\n",
       "      <td>2701.00</td>\n",
       "    </tr>\n",
       "    <tr>\n",
       "      <th>3180</th>\n",
       "      <td>1492</td>\n",
       "      <td>2018-11-01</td>\n",
       "      <td>81.00</td>\n",
       "      <td>510.00</td>\n",
       "      <td>13.00</td>\n",
       "      <td>17.00</td>\n",
       "      <td>Санкт-Петербург</td>\n",
       "      <td>smart</td>\n",
       "      <td>50</td>\n",
       "      <td>15.00</td>\n",
       "      <td>500</td>\n",
       "      <td>550</td>\n",
       "      <td>200</td>\n",
       "      <td>3</td>\n",
       "      <td>3</td>\n",
       "      <td>430.00</td>\n",
       "    </tr>\n",
       "  </tbody>\n",
       "</table>\n",
       "</div>"
      ],
      "text/plain": [
       "      user_id      month  count_calls  sum_duration  count_message  gb_used  \\\n",
       "2060     1229 2018-11-01       112.00        672.00           5.00    26.00   \n",
       "2681     1384 2018-10-01        94.00        667.00           1.00    26.00   \n",
       "3180     1492 2018-11-01        81.00        510.00          13.00    17.00   \n",
       "\n",
       "                 city tariff  messages_included  gb_per_month_included  \\\n",
       "2060           Москва  smart                 50                  15.00   \n",
       "2681  Нижний Новгород  smart                 50                  15.00   \n",
       "3180  Санкт-Петербург  smart                 50                  15.00   \n",
       "\n",
       "      minutes_included  rub_monthly_fee  rub_per_gb  rub_per_message  \\\n",
       "2060               500              550         200                3   \n",
       "2681               500              550         200                3   \n",
       "3180               500              550         200                3   \n",
       "\n",
       "      rub_per_minute  extra_fee  \n",
       "2060               3    2716.00  \n",
       "2681               3    2701.00  \n",
       "3180               3     430.00  "
      ]
     },
     "execution_count": 29,
     "metadata": {},
     "output_type": "execute_result"
    }
   ],
   "source": [
    "pivot4['extra_fee'] = pivot4.apply(extra, axis=1)\n",
    "pivot4.query('sum_duration > minutes_included').sample(3)"
   ]
  },
  {
   "cell_type": "markdown",
   "metadata": {},
   "source": [
    "Найдем выручку как сумму абонентской платы и доплаты сверх пакета:"
   ]
  },
  {
   "cell_type": "code",
   "execution_count": 30,
   "metadata": {},
   "outputs": [
    {
     "data": {
      "text/html": [
       "<div>\n",
       "<style scoped>\n",
       "    .dataframe tbody tr th:only-of-type {\n",
       "        vertical-align: middle;\n",
       "    }\n",
       "\n",
       "    .dataframe tbody tr th {\n",
       "        vertical-align: top;\n",
       "    }\n",
       "\n",
       "    .dataframe thead th {\n",
       "        text-align: right;\n",
       "    }\n",
       "</style>\n",
       "<table border=\"1\" class=\"dataframe\">\n",
       "  <thead>\n",
       "    <tr style=\"text-align: right;\">\n",
       "      <th></th>\n",
       "      <th>user_id</th>\n",
       "      <th>month</th>\n",
       "      <th>count_calls</th>\n",
       "      <th>sum_duration</th>\n",
       "      <th>count_message</th>\n",
       "      <th>gb_used</th>\n",
       "      <th>city</th>\n",
       "      <th>tariff</th>\n",
       "      <th>messages_included</th>\n",
       "      <th>gb_per_month_included</th>\n",
       "      <th>minutes_included</th>\n",
       "      <th>rub_monthly_fee</th>\n",
       "      <th>rub_per_gb</th>\n",
       "      <th>rub_per_message</th>\n",
       "      <th>rub_per_minute</th>\n",
       "      <th>extra_fee</th>\n",
       "      <th>revenue</th>\n",
       "    </tr>\n",
       "  </thead>\n",
       "  <tbody>\n",
       "    <tr>\n",
       "      <th>443</th>\n",
       "      <td>1271</td>\n",
       "      <td>2018-09-01</td>\n",
       "      <td>57.00</td>\n",
       "      <td>341.00</td>\n",
       "      <td>94.00</td>\n",
       "      <td>20.00</td>\n",
       "      <td>Челябинск</td>\n",
       "      <td>ultra</td>\n",
       "      <td>1000</td>\n",
       "      <td>30.00</td>\n",
       "      <td>3000</td>\n",
       "      <td>1950</td>\n",
       "      <td>150</td>\n",
       "      <td>1</td>\n",
       "      <td>1</td>\n",
       "      <td>0.00</td>\n",
       "      <td>1950.00</td>\n",
       "    </tr>\n",
       "    <tr>\n",
       "      <th>759</th>\n",
       "      <td>1396</td>\n",
       "      <td>2018-01-01</td>\n",
       "      <td>51.00</td>\n",
       "      <td>418.00</td>\n",
       "      <td>57.00</td>\n",
       "      <td>6.00</td>\n",
       "      <td>Пенза</td>\n",
       "      <td>ultra</td>\n",
       "      <td>1000</td>\n",
       "      <td>30.00</td>\n",
       "      <td>3000</td>\n",
       "      <td>1950</td>\n",
       "      <td>150</td>\n",
       "      <td>1</td>\n",
       "      <td>1</td>\n",
       "      <td>0.00</td>\n",
       "      <td>1950.00</td>\n",
       "    </tr>\n",
       "    <tr>\n",
       "      <th>1115</th>\n",
       "      <td>1027</td>\n",
       "      <td>2018-11-01</td>\n",
       "      <td>59.00</td>\n",
       "      <td>348.00</td>\n",
       "      <td>9.00</td>\n",
       "      <td>25.00</td>\n",
       "      <td>Петрозаводск</td>\n",
       "      <td>smart</td>\n",
       "      <td>50</td>\n",
       "      <td>15.00</td>\n",
       "      <td>500</td>\n",
       "      <td>550</td>\n",
       "      <td>200</td>\n",
       "      <td>3</td>\n",
       "      <td>3</td>\n",
       "      <td>2000.00</td>\n",
       "      <td>2550.00</td>\n",
       "    </tr>\n",
       "  </tbody>\n",
       "</table>\n",
       "</div>"
      ],
      "text/plain": [
       "      user_id      month  count_calls  sum_duration  count_message  gb_used  \\\n",
       "443      1271 2018-09-01        57.00        341.00          94.00    20.00   \n",
       "759      1396 2018-01-01        51.00        418.00          57.00     6.00   \n",
       "1115     1027 2018-11-01        59.00        348.00           9.00    25.00   \n",
       "\n",
       "              city tariff  messages_included  gb_per_month_included  \\\n",
       "443      Челябинск  ultra               1000                  30.00   \n",
       "759          Пенза  ultra               1000                  30.00   \n",
       "1115  Петрозаводск  smart                 50                  15.00   \n",
       "\n",
       "      minutes_included  rub_monthly_fee  rub_per_gb  rub_per_message  \\\n",
       "443               3000             1950         150                1   \n",
       "759               3000             1950         150                1   \n",
       "1115               500              550         200                3   \n",
       "\n",
       "      rub_per_minute  extra_fee  revenue  \n",
       "443                1       0.00  1950.00  \n",
       "759                1       0.00  1950.00  \n",
       "1115               3    2000.00  2550.00  "
      ]
     },
     "execution_count": 30,
     "metadata": {},
     "output_type": "execute_result"
    }
   ],
   "source": [
    "pivot4['revenue'] = pivot4['rub_monthly_fee'] + pivot4['extra_fee']\n",
    "pivot4.sample(3)"
   ]
  },
  {
   "cell_type": "markdown",
   "metadata": {},
   "source": [
    "Интересно проверить, данными за какой период мы располагаем:"
   ]
  },
  {
   "cell_type": "code",
   "execution_count": 31,
   "metadata": {},
   "outputs": [
    {
     "name": "stdout",
     "output_type": "stream",
     "text": [
      "Начало периода: 2018-01-01 00:00:00\n",
      "Конец периода: 2018-12-01 00:00:00\n",
      "Всего месяцев: 12\n"
     ]
    }
   ],
   "source": [
    "print('Начало периода:', pivot4['month'].min())\n",
    "print('Конец периода:', pivot4['month'].max())\n",
    "print('Всего месяцев:', pivot4['month'].nunique())"
   ]
  },
  {
   "cell_type": "markdown",
   "metadata": {},
   "source": [
    "### Вывод"
   ]
  },
  {
   "cell_type": "markdown",
   "metadata": {},
   "source": [
    "<p></p>\n",
    "\n",
    "<div style=\"border:solid green 2px; padding: 20px\">\n",
    "    \n",
    "Мы рассчитали для каждого пользователя количество минут, сообщений, объем интернет-трафика и выручку по месяцам.  Далее будем использовать эти данные для анализа.  \n",
    "    \n",
    "</div>"
   ]
  },
  {
   "cell_type": "markdown",
   "metadata": {},
   "source": [
    "## Анализ и описание данных"
   ]
  },
  {
   "cell_type": "markdown",
   "metadata": {},
   "source": [
    "Изучим поведение пользователей для каждого тарифа. Для этого удобнее будет для каждого тарифа создать свой срез:"
   ]
  },
  {
   "cell_type": "code",
   "execution_count": 32,
   "metadata": {},
   "outputs": [],
   "source": [
    "smart = pivot4.query('tariff == \"smart\"')\n",
    "ultra = pivot4.query('tariff == \"ultra\"')"
   ]
  },
  {
   "cell_type": "markdown",
   "metadata": {},
   "source": [
    "Напишем функцию, которая будет принимать название столбца (показателя) и выводить для каждого тарифа:\n",
    "- основные статистики,\n",
    "- диаграмму размаха,\n",
    "- гистограмму."
   ]
  },
  {
   "cell_type": "code",
   "execution_count": 33,
   "metadata": {},
   "outputs": [],
   "source": [
    "parameters = ['sum_duration', 'count_message', 'gb_used']\n",
    "labels = ['расход минут в месяц', 'количество сообщений в месяц', 'объем интерент-трафика в месяц, Гб']\n",
    "\n",
    "def description(parameter, label):\n",
    "    '''\n",
    "    parameter - название столбца, содержащего данные об интересующем нас показателе\n",
    "    label - подпись по оси х на гистограмме\n",
    "    '''\n",
    "    inf = pivot4.pivot_table(index= 'tariff', values= parameter, aggfunc= ['mean', 'median', 'var','std', \n",
    "                                                                           'min', 'max', 'count'])\n",
    "    display(inf)\n",
    "    \n",
    "    pivot4.boxplot(parameter, by='tariff', figsize=(12,4));\n",
    "    \n",
    "    ax = smart.plot(kind='hist', y=parameter, histtype='step', \n",
    "               bins=30, linewidth=3, alpha=0.5, label='smart', figsize=(12,4))\n",
    "    ultra.plot(kind='hist', y=parameter, histtype='step', figsize=(12,4),\n",
    "               bins=30, linewidth=3, alpha=0.5, label='ultra', ax=ax, grid=True, legend=True);\n",
    "    plt.xlabel(label)    "
   ]
  },
  {
   "cell_type": "markdown",
   "metadata": {},
   "source": [
    "### Количество минут разговора"
   ]
  },
  {
   "cell_type": "markdown",
   "metadata": {},
   "source": [
    "Посмотрим, сколько минут разговора расходуют пользователи изучаемых тарифов:"
   ]
  },
  {
   "cell_type": "code",
   "execution_count": 34,
   "metadata": {},
   "outputs": [
    {
     "data": {
      "text/html": [
       "<div>\n",
       "<style scoped>\n",
       "    .dataframe tbody tr th:only-of-type {\n",
       "        vertical-align: middle;\n",
       "    }\n",
       "\n",
       "    .dataframe tbody tr th {\n",
       "        vertical-align: top;\n",
       "    }\n",
       "\n",
       "    .dataframe thead tr th {\n",
       "        text-align: left;\n",
       "    }\n",
       "\n",
       "    .dataframe thead tr:last-of-type th {\n",
       "        text-align: right;\n",
       "    }\n",
       "</style>\n",
       "<table border=\"1\" class=\"dataframe\">\n",
       "  <thead>\n",
       "    <tr>\n",
       "      <th></th>\n",
       "      <th>mean</th>\n",
       "      <th>median</th>\n",
       "      <th>var</th>\n",
       "      <th>std</th>\n",
       "      <th>min</th>\n",
       "      <th>max</th>\n",
       "      <th>count</th>\n",
       "    </tr>\n",
       "    <tr>\n",
       "      <th></th>\n",
       "      <th>sum_duration</th>\n",
       "      <th>sum_duration</th>\n",
       "      <th>sum_duration</th>\n",
       "      <th>sum_duration</th>\n",
       "      <th>sum_duration</th>\n",
       "      <th>sum_duration</th>\n",
       "      <th>sum_duration</th>\n",
       "    </tr>\n",
       "    <tr>\n",
       "      <th>tariff</th>\n",
       "      <th></th>\n",
       "      <th></th>\n",
       "      <th></th>\n",
       "      <th></th>\n",
       "      <th></th>\n",
       "      <th></th>\n",
       "      <th></th>\n",
       "    </tr>\n",
       "  </thead>\n",
       "  <tbody>\n",
       "    <tr>\n",
       "      <th>smart</th>\n",
       "      <td>419.06</td>\n",
       "      <td>423.00</td>\n",
       "      <td>35844.19</td>\n",
       "      <td>189.33</td>\n",
       "      <td>0.00</td>\n",
       "      <td>1435.00</td>\n",
       "      <td>2223</td>\n",
       "    </tr>\n",
       "    <tr>\n",
       "      <th>ultra</th>\n",
       "      <td>545.45</td>\n",
       "      <td>528.00</td>\n",
       "      <td>94203.42</td>\n",
       "      <td>306.93</td>\n",
       "      <td>0.00</td>\n",
       "      <td>1673.00</td>\n",
       "      <td>951</td>\n",
       "    </tr>\n",
       "  </tbody>\n",
       "</table>\n",
       "</div>"
      ],
      "text/plain": [
       "               mean       median          var          std          min  \\\n",
       "       sum_duration sum_duration sum_duration sum_duration sum_duration   \n",
       "tariff                                                                    \n",
       "smart        419.06       423.00     35844.19       189.33         0.00   \n",
       "ultra        545.45       528.00     94203.42       306.93         0.00   \n",
       "\n",
       "                max        count  \n",
       "       sum_duration sum_duration  \n",
       "tariff                            \n",
       "smart       1435.00         2223  \n",
       "ultra       1673.00          951  "
      ]
     },
     "metadata": {},
     "output_type": "display_data"
    },
    {
     "data": {
      "image/png": "[encoded data removed]",
      "text/plain": [
       "<Figure size 864x288 with 1 Axes>"
      ]
     },
     "metadata": {
      "needs_background": "light"
     },
     "output_type": "display_data"
    },
    {
     "data": {
      "image/png": "[encoded data removed]",
      "text/plain": [
       "<Figure size 864x288 with 1 Axes>"
      ]
     },
     "metadata": {
      "needs_background": "light"
     },
     "output_type": "display_data"
    }
   ],
   "source": [
    "description('sum_duration', 'расход минут в месяц')"
   ]
  },
  {
   "cell_type": "markdown",
   "metadata": {},
   "source": [
    "Средний расход минут в месяц для тарифа «Смарт» составляет 419 мин., медиана чуть больше среднего - 423 мин., данные скошены влево. Значения свыше 900 мин./мес. (и до 1435 мин.) можно считать выбросами. БОльшая часть пользователей укладывается в пакет - 500 минут. Однако достаточно много и тех, кто превышает лимит.\n",
    "\n",
    "Средний расход минут в месяц для тарифа «Ультра» - 545 мин., медиана - 528, данные скошены вправо. График более плоский и растянутый вдоль оси Х. Хвост с выбросами начинается примерно с 1300 мин. и тянется до 1673 мин. Целевая аудитория тарифа «Ультра» менее однородна и тратит больше времени на звонки. В пакет включено 3000 минут, ни один пользователь из выборки не использовал пакет полностью."
   ]
  },
  {
   "cell_type": "markdown",
   "metadata": {},
   "source": [
    "### Количество сообщений"
   ]
  },
  {
   "cell_type": "markdown",
   "metadata": {},
   "source": [
    "Сравним количество сообщений, отправляемых пользователями двух разных тарифов в месяц:"
   ]
  },
  {
   "cell_type": "code",
   "execution_count": 35,
   "metadata": {},
   "outputs": [
    {
     "data": {
      "text/html": [
       "<div>\n",
       "<style scoped>\n",
       "    .dataframe tbody tr th:only-of-type {\n",
       "        vertical-align: middle;\n",
       "    }\n",
       "\n",
       "    .dataframe tbody tr th {\n",
       "        vertical-align: top;\n",
       "    }\n",
       "\n",
       "    .dataframe thead tr th {\n",
       "        text-align: left;\n",
       "    }\n",
       "\n",
       "    .dataframe thead tr:last-of-type th {\n",
       "        text-align: right;\n",
       "    }\n",
       "</style>\n",
       "<table border=\"1\" class=\"dataframe\">\n",
       "  <thead>\n",
       "    <tr>\n",
       "      <th></th>\n",
       "      <th>mean</th>\n",
       "      <th>median</th>\n",
       "      <th>var</th>\n",
       "      <th>std</th>\n",
       "      <th>min</th>\n",
       "      <th>max</th>\n",
       "      <th>count</th>\n",
       "    </tr>\n",
       "    <tr>\n",
       "      <th></th>\n",
       "      <th>count_message</th>\n",
       "      <th>count_message</th>\n",
       "      <th>count_message</th>\n",
       "      <th>count_message</th>\n",
       "      <th>count_message</th>\n",
       "      <th>count_message</th>\n",
       "      <th>count_message</th>\n",
       "    </tr>\n",
       "    <tr>\n",
       "      <th>tariff</th>\n",
       "      <th></th>\n",
       "      <th></th>\n",
       "      <th></th>\n",
       "      <th></th>\n",
       "      <th></th>\n",
       "      <th></th>\n",
       "      <th></th>\n",
       "    </tr>\n",
       "  </thead>\n",
       "  <tbody>\n",
       "    <tr>\n",
       "      <th>smart</th>\n",
       "      <td>38.72</td>\n",
       "      <td>34.00</td>\n",
       "      <td>717.59</td>\n",
       "      <td>26.79</td>\n",
       "      <td>1.00</td>\n",
       "      <td>143.00</td>\n",
       "      <td>1922</td>\n",
       "    </tr>\n",
       "    <tr>\n",
       "      <th>ultra</th>\n",
       "      <td>61.16</td>\n",
       "      <td>51.00</td>\n",
       "      <td>2109.66</td>\n",
       "      <td>45.93</td>\n",
       "      <td>1.00</td>\n",
       "      <td>224.00</td>\n",
       "      <td>795</td>\n",
       "    </tr>\n",
       "  </tbody>\n",
       "</table>\n",
       "</div>"
      ],
      "text/plain": [
       "                mean        median           var           std           min  \\\n",
       "       count_message count_message count_message count_message count_message   \n",
       "tariff                                                                         \n",
       "smart          38.72         34.00        717.59         26.79          1.00   \n",
       "ultra          61.16         51.00       2109.66         45.93          1.00   \n",
       "\n",
       "                 max         count  \n",
       "       count_message count_message  \n",
       "tariff                              \n",
       "smart         143.00          1922  \n",
       "ultra         224.00           795  "
      ]
     },
     "metadata": {},
     "output_type": "display_data"
    },
    {
     "data": {
      "image/png": "[encoded data removed]",
      "text/plain": [
       "<Figure size 864x288 with 1 Axes>"
      ]
     },
     "metadata": {
      "needs_background": "light"
     },
     "output_type": "display_data"
    },
    {
     "data": {
      "image/png": "[encoded data removed]",
      "text/plain": [
       "<Figure size 864x288 with 1 Axes>"
      ]
     },
     "metadata": {
      "needs_background": "light"
     },
     "output_type": "display_data"
    }
   ],
   "source": [
    "description('count_message', 'количество сообщений в месяц')"
   ]
  },
  {
   "cell_type": "markdown",
   "metadata": {},
   "source": [
    "Пользователи тарифа «Смарт» отправляют в месяц в среднем 39 сообщений, медиана - 34, имеем скос вправо. Выбросами можно считать значения от 112 до 143. В пакет включено 50 сообщений и бОльшая часть пользователей укладывается в этот лимит.\n",
    "\n",
    "Пользователи тарифа «Ультра» отправляют в среднем 61 сообщение в месяц, медиана - 51, распределение скошено вправо. График, как и в случае с длительностью звонков, более плоский и вытянутый вдоль оси Х. Хвост с выбросами начинается примерно от 170 и тянется до 224 сообщений в месяц. Пакет в 1000 сообщений никто полностью не использует.\n",
    "\n",
    "Пользователи тарифа «Ультра» имеют более разнообразные потребности и склонны отправлять больше сообщений, чем пользователи тарифа «Смарт»."
   ]
  },
  {
   "cell_type": "markdown",
   "metadata": {},
   "source": [
    "### Объем интернет-трафика"
   ]
  },
  {
   "cell_type": "markdown",
   "metadata": {},
   "source": [
    "Проанализируем, какой объем интернет трафика расходуют пользователи в разрезе тарифов:"
   ]
  },
  {
   "cell_type": "code",
   "execution_count": 36,
   "metadata": {},
   "outputs": [
    {
     "data": {
      "text/html": [
       "<div>\n",
       "<style scoped>\n",
       "    .dataframe tbody tr th:only-of-type {\n",
       "        vertical-align: middle;\n",
       "    }\n",
       "\n",
       "    .dataframe tbody tr th {\n",
       "        vertical-align: top;\n",
       "    }\n",
       "\n",
       "    .dataframe thead tr th {\n",
       "        text-align: left;\n",
       "    }\n",
       "\n",
       "    .dataframe thead tr:last-of-type th {\n",
       "        text-align: right;\n",
       "    }\n",
       "</style>\n",
       "<table border=\"1\" class=\"dataframe\">\n",
       "  <thead>\n",
       "    <tr>\n",
       "      <th></th>\n",
       "      <th>mean</th>\n",
       "      <th>median</th>\n",
       "      <th>var</th>\n",
       "      <th>std</th>\n",
       "      <th>min</th>\n",
       "      <th>max</th>\n",
       "      <th>count</th>\n",
       "    </tr>\n",
       "    <tr>\n",
       "      <th></th>\n",
       "      <th>gb_used</th>\n",
       "      <th>gb_used</th>\n",
       "      <th>gb_used</th>\n",
       "      <th>gb_used</th>\n",
       "      <th>gb_used</th>\n",
       "      <th>gb_used</th>\n",
       "      <th>gb_used</th>\n",
       "    </tr>\n",
       "    <tr>\n",
       "      <th>tariff</th>\n",
       "      <th></th>\n",
       "      <th></th>\n",
       "      <th></th>\n",
       "      <th></th>\n",
       "      <th></th>\n",
       "      <th></th>\n",
       "      <th></th>\n",
       "    </tr>\n",
       "  </thead>\n",
       "  <tbody>\n",
       "    <tr>\n",
       "      <th>smart</th>\n",
       "      <td>16.34</td>\n",
       "      <td>17.00</td>\n",
       "      <td>32.92</td>\n",
       "      <td>5.74</td>\n",
       "      <td>0.00</td>\n",
       "      <td>38.00</td>\n",
       "      <td>2228</td>\n",
       "    </tr>\n",
       "    <tr>\n",
       "      <th>ultra</th>\n",
       "      <td>19.69</td>\n",
       "      <td>19.00</td>\n",
       "      <td>94.15</td>\n",
       "      <td>9.70</td>\n",
       "      <td>0.00</td>\n",
       "      <td>49.00</td>\n",
       "      <td>975</td>\n",
       "    </tr>\n",
       "  </tbody>\n",
       "</table>\n",
       "</div>"
      ],
      "text/plain": [
       "          mean  median     var     std     min     max   count\n",
       "       gb_used gb_used gb_used gb_used gb_used gb_used gb_used\n",
       "tariff                                                        \n",
       "smart    16.34   17.00   32.92    5.74    0.00   38.00    2228\n",
       "ultra    19.69   19.00   94.15    9.70    0.00   49.00     975"
      ]
     },
     "metadata": {},
     "output_type": "display_data"
    },
    {
     "data": {
      "image/png": "[encoded data removed]",
      "text/plain": [
       "<Figure size 864x288 with 1 Axes>"
      ]
     },
     "metadata": {
      "needs_background": "light"
     },
     "output_type": "display_data"
    },
    {
     "data": {
      "image/png": "[encoded data removed]",
      "text/plain": [
       "<Figure size 864x288 with 1 Axes>"
      ]
     },
     "metadata": {
      "needs_background": "light"
     },
     "output_type": "display_data"
    }
   ],
   "source": [
    "description('gb_used', 'объем интерент-трафика в месяц, Гб')"
   ]
  },
  {
   "cell_type": "markdown",
   "metadata": {},
   "source": [
    "Пользователи тарифа «Смарт»  в среднем расходуют 16 Гб интеренет-трафика в месяц, медиана - 17, данные скошены влево. График имеет 2 пика - в районе 15 и 20 Гб. 15 Гб - это величина пакета, включенного в абонентскую плату, пользователи, чей расход близок к этой величине, стараются уложиться в пакет. 20 Гб - это уже значительно больше, сэкономить 5 Гб в месяц сложнее, видимо, поэтому имеем второй пик.\n",
    "\n",
    "Пользователи тарифа «Ультра» в среднем расходуют 20 Гб интернет-трафика в месяц, медиана - 19 Гб, данные скошены вправо. График более пологий и растянутый вдоль оси Х. Большая часть пользователей укладывается в стандартный пакет - 30 Гб, но есть и те, кто его превышают.\n",
    "\n",
    "Потребности в  интренет-трафике у пользователей тарифа «Ультра» более разноплановые и они готовы платить за бОльший объем."
   ]
  },
  {
   "cell_type": "markdown",
   "metadata": {},
   "source": [
    "### Вывод"
   ]
  },
  {
   "cell_type": "markdown",
   "metadata": {},
   "source": [
    "<p></p>\n",
    "\n",
    "<div style=\"border:solid green 2px; padding: 20px\">\n",
    "    \n",
    "Анализ длительности звонков, количества сообщений и объема интернет-трафика показал, что для тарифа **«Смарт»** характерна скошенность графиков количества минут и объема интернет-трафика влево (среднее меньше медианы). Это говорит о том, что пользователи тарифа склонны экономить и стремятся уложиться в предоставленный пакет, покрываемый абонентской платой. Что касается смс-сообщений - бесплатного лимита большинству достаточно и экономить не приходится. Распределение всех показателей имеет выраженные пики, что свидетельствует о том, что потребности большого количества пользователей тарифа схожи и типичны.   \n",
    "    \n",
    "Для показателей тарифа **«Ультра»** наоборот - характерна скошенность вправо (среднее больше медианы). Пользователи не экономят. Пакеты минут и сообщений не востребованы в полной мере и являются избыточными. Графики распределения более широко размазаны вдоль оси Х, пики слабо выражены. Это говорит о более разнообразных потребностях целевой аудитории.  \n",
    "    \n",
    "</div>"
   ]
  },
  {
   "cell_type": "markdown",
   "metadata": {},
   "source": [
    "## Проверка гипотез"
   ]
  },
  {
   "cell_type": "markdown",
   "metadata": {},
   "source": [
    "### Сравнение выручки по тарифам"
   ]
  },
  {
   "cell_type": "markdown",
   "metadata": {},
   "source": [
    "Для сравнения выручки по тарифам сначала посмотрим на распределение этого показателя:"
   ]
  },
  {
   "cell_type": "code",
   "execution_count": 37,
   "metadata": {},
   "outputs": [
    {
     "data": {
      "text/html": [
       "<div>\n",
       "<style scoped>\n",
       "    .dataframe tbody tr th:only-of-type {\n",
       "        vertical-align: middle;\n",
       "    }\n",
       "\n",
       "    .dataframe tbody tr th {\n",
       "        vertical-align: top;\n",
       "    }\n",
       "\n",
       "    .dataframe thead tr th {\n",
       "        text-align: left;\n",
       "    }\n",
       "\n",
       "    .dataframe thead tr:last-of-type th {\n",
       "        text-align: right;\n",
       "    }\n",
       "</style>\n",
       "<table border=\"1\" class=\"dataframe\">\n",
       "  <thead>\n",
       "    <tr>\n",
       "      <th></th>\n",
       "      <th>mean</th>\n",
       "      <th>median</th>\n",
       "      <th>var</th>\n",
       "      <th>std</th>\n",
       "      <th>min</th>\n",
       "      <th>max</th>\n",
       "      <th>count</th>\n",
       "    </tr>\n",
       "    <tr>\n",
       "      <th></th>\n",
       "      <th>revenue</th>\n",
       "      <th>revenue</th>\n",
       "      <th>revenue</th>\n",
       "      <th>revenue</th>\n",
       "      <th>revenue</th>\n",
       "      <th>revenue</th>\n",
       "      <th>revenue</th>\n",
       "    </tr>\n",
       "    <tr>\n",
       "      <th>tariff</th>\n",
       "      <th></th>\n",
       "      <th></th>\n",
       "      <th></th>\n",
       "      <th></th>\n",
       "      <th></th>\n",
       "      <th></th>\n",
       "      <th></th>\n",
       "    </tr>\n",
       "  </thead>\n",
       "  <tbody>\n",
       "    <tr>\n",
       "      <th>smart</th>\n",
       "      <td>1289.64</td>\n",
       "      <td>1021.00</td>\n",
       "      <td>669730.76</td>\n",
       "      <td>818.37</td>\n",
       "      <td>550.00</td>\n",
       "      <td>6770.00</td>\n",
       "      <td>2230</td>\n",
       "    </tr>\n",
       "    <tr>\n",
       "      <th>ultra</th>\n",
       "      <td>2070.03</td>\n",
       "      <td>1950.00</td>\n",
       "      <td>141387.71</td>\n",
       "      <td>376.02</td>\n",
       "      <td>1950.00</td>\n",
       "      <td>4800.00</td>\n",
       "      <td>986</td>\n",
       "    </tr>\n",
       "  </tbody>\n",
       "</table>\n",
       "</div>"
      ],
      "text/plain": [
       "          mean  median       var     std     min     max   count\n",
       "       revenue revenue   revenue revenue revenue revenue revenue\n",
       "tariff                                                          \n",
       "smart  1289.64 1021.00 669730.76  818.37  550.00 6770.00    2230\n",
       "ultra  2070.03 1950.00 141387.71  376.02 1950.00 4800.00     986"
      ]
     },
     "metadata": {},
     "output_type": "display_data"
    },
    {
     "data": {
      "image/png": "[encoded data removed]",
      "text/plain": [
       "<Figure size 864x288 with 1 Axes>"
      ]
     },
     "metadata": {
      "needs_background": "light"
     },
     "output_type": "display_data"
    },
    {
     "data": {
      "image/png": "[encoded data removed]",
      "text/plain": [
       "<Figure size 864x288 with 1 Axes>"
      ]
     },
     "metadata": {
      "needs_background": "light"
     },
     "output_type": "display_data"
    }
   ],
   "source": [
    "description('revenue', 'сумма выручки в месяц, руб.') "
   ]
  },
  {
   "cell_type": "markdown",
   "metadata": {},
   "source": [
    "\n",
    "\n",
    "Чаще всего пользователи обоих тарифов платят только абонентскую плату, о чем свидетельствуют выдающиеся столбики в районе минимальных значений (равных абонентской плате - 550 и 1950 руб.). Для тарифа «Ультра»  - это вообще почти вся выборка, лишь единицы доплачивают что-то еще сверх пакета.\n",
    "\n",
    "В этот раз дисперсия и стандартное отклонение тарифа «Смарт» оказались больше, чем у тарифа «Ультра»: 669731 и 818 против 141388 и 376 соответственно. Т.е. график тарифа «Смарт» сильнее растянут вдоль оси Х, что говорит о том, что значения выручки указанного тарифа (= платежеспособность пользователей) более разнообразны. \n",
    "\n",
    "При этом среднее значение выручки у тарифа «Ультра» составляет 2070 руб./мес. Это больше, чем у тарифа «Смарт» - 1290 руб./мес. У обоих тарифов среднее больше медианы, т.е. выборки скошены вправо.\n"
   ]
  },
  {
   "cell_type": "markdown",
   "metadata": {},
   "source": [
    "**Проверим гипотезу: средняя выручка пользователей тарифов «Ультра» и «Смарт» различается**.\n",
    "\n",
    "Нулевая гипотеза: средняя выручка пользователей тарифов «Ультра» и «Смарт» равна.\n",
    "\n",
    "Альтернативная гипотеза: средняя выручка пользователей тарифов «Ультра» и «Смарт» различается. (В этом случае будем ориентироваться на имеющееся среднее).\n",
    "\n",
    "Поскольку выборки являются независимыми и их всего 2, воспользуемся для проверки статистическим критерием Стьюдента.\n",
    "\n",
    "Выборки у нас разного размера (количество наблюдений для тарифа «Смарт» примерно в 2 раза больше, чем для тарифа ultra) и дисперсии генеральных совокупностей могут различаться (т.к. у выборок дисперсия различается). Поэтому equal_var примем равным False. Критический уровень статистической значимости зададим на уровне 5%."
   ]
  },
  {
   "cell_type": "code",
   "execution_count": 38,
   "metadata": {},
   "outputs": [
    {
     "name": "stdout",
     "output_type": "stream",
     "text": [
      "Ttest_indResult(statistic=-37.047170235598124, pvalue=1.927011394420941e-250)\n",
      "Отвергаем нулевую гипотезу\n"
     ]
    }
   ],
   "source": [
    "alpha = 0.05\n",
    "\n",
    "results = st.ttest_ind(smart['revenue'], ultra['revenue'], equal_var=False)\n",
    "print(results)\n",
    "\n",
    "if results.pvalue < alpha:\n",
    "    print('Отвергаем нулевую гипотезу')\n",
    "else:\n",
    "    print('Не получилось отвергнуть нулевую гипотезу')"
   ]
  },
  {
   "cell_type": "markdown",
   "metadata": {},
   "source": [
    "Вероятность получить одинаковые средние значения выручки для тарифов «Смарт» и «Ультра» крайне мала и была бы все равно ниже заданного уровня статистической значимости, даже если бы мы задали параметр альфа на уровне 1%."
   ]
  },
  {
   "cell_type": "markdown",
   "metadata": {},
   "source": [
    "<p></p>\n",
    "\n",
    "<div style=\"border:solid green 2px; padding: 20px\">\n",
    "    \n",
    "Вывод: средняя выручка пользователей тарифов «Ультра» и «Смарт» различается и их различия статистически значимы. \n",
    "    \n",
    "При этом средняя выручка тарифа «Ультра» больше средней выручки тарифа «Смарт», т.е. тариф «Ультра» выгоднее для мобильного оператора.\n",
    "    \n",
    "</div>"
   ]
  },
  {
   "cell_type": "markdown",
   "metadata": {},
   "source": [
    "### Сравнение выручки по регионам"
   ]
  },
  {
   "cell_type": "markdown",
   "metadata": {},
   "source": [
    "Проверим, сколько городов у нас представлено:"
   ]
  },
  {
   "cell_type": "code",
   "execution_count": 39,
   "metadata": {},
   "outputs": [
    {
     "data": {
      "text/plain": [
       "76"
      ]
     },
     "execution_count": 39,
     "metadata": {},
     "output_type": "execute_result"
    }
   ],
   "source": [
    "pivot4['city'].nunique()"
   ]
  },
  {
   "cell_type": "markdown",
   "metadata": {},
   "source": [
    "В выборку попали жители 76 городов. Сравнивать в разрезе городов будет неудобно. Поэтому будем сравнивать значения выручки по регионам, для этого добавим новый признак - \"Москва\"/\"Другие регионы\":"
   ]
  },
  {
   "cell_type": "code",
   "execution_count": 40,
   "metadata": {},
   "outputs": [],
   "source": [
    "def region(city):\n",
    "    '''\n",
    "    функция принимает название города \n",
    "    и возвращает категорию \"Москва\"/\"Другие регионы\"\n",
    "    '''\n",
    "    if city == 'Москва':\n",
    "        return 'Москва'\n",
    "    return 'Другие регионы'"
   ]
  },
  {
   "cell_type": "markdown",
   "metadata": {},
   "source": [
    "Применим функцию к столбцу с названием города и запишем результат в новый столбец:"
   ]
  },
  {
   "cell_type": "code",
   "execution_count": 41,
   "metadata": {},
   "outputs": [
    {
     "data": {
      "text/html": [
       "<div>\n",
       "<style scoped>\n",
       "    .dataframe tbody tr th:only-of-type {\n",
       "        vertical-align: middle;\n",
       "    }\n",
       "\n",
       "    .dataframe tbody tr th {\n",
       "        vertical-align: top;\n",
       "    }\n",
       "\n",
       "    .dataframe thead th {\n",
       "        text-align: right;\n",
       "    }\n",
       "</style>\n",
       "<table border=\"1\" class=\"dataframe\">\n",
       "  <thead>\n",
       "    <tr style=\"text-align: right;\">\n",
       "      <th></th>\n",
       "      <th>user_id</th>\n",
       "      <th>month</th>\n",
       "      <th>count_calls</th>\n",
       "      <th>sum_duration</th>\n",
       "      <th>count_message</th>\n",
       "      <th>gb_used</th>\n",
       "      <th>city</th>\n",
       "      <th>tariff</th>\n",
       "      <th>messages_included</th>\n",
       "      <th>gb_per_month_included</th>\n",
       "      <th>minutes_included</th>\n",
       "      <th>rub_monthly_fee</th>\n",
       "      <th>rub_per_gb</th>\n",
       "      <th>rub_per_message</th>\n",
       "      <th>rub_per_minute</th>\n",
       "      <th>extra_fee</th>\n",
       "      <th>revenue</th>\n",
       "      <th>region</th>\n",
       "    </tr>\n",
       "  </thead>\n",
       "  <tbody>\n",
       "    <tr>\n",
       "      <th>0</th>\n",
       "      <td>1000</td>\n",
       "      <td>2018-05-01</td>\n",
       "      <td>22.00</td>\n",
       "      <td>159.00</td>\n",
       "      <td>22.00</td>\n",
       "      <td>3.00</td>\n",
       "      <td>Краснодар</td>\n",
       "      <td>ultra</td>\n",
       "      <td>1000</td>\n",
       "      <td>30.00</td>\n",
       "      <td>3000</td>\n",
       "      <td>1950</td>\n",
       "      <td>150</td>\n",
       "      <td>1</td>\n",
       "      <td>1</td>\n",
       "      <td>0.00</td>\n",
       "      <td>1950.00</td>\n",
       "      <td>Другие регионы</td>\n",
       "    </tr>\n",
       "    <tr>\n",
       "      <th>1</th>\n",
       "      <td>1000</td>\n",
       "      <td>2018-06-01</td>\n",
       "      <td>43.00</td>\n",
       "      <td>172.00</td>\n",
       "      <td>60.00</td>\n",
       "      <td>23.00</td>\n",
       "      <td>Краснодар</td>\n",
       "      <td>ultra</td>\n",
       "      <td>1000</td>\n",
       "      <td>30.00</td>\n",
       "      <td>3000</td>\n",
       "      <td>1950</td>\n",
       "      <td>150</td>\n",
       "      <td>1</td>\n",
       "      <td>1</td>\n",
       "      <td>0.00</td>\n",
       "      <td>1950.00</td>\n",
       "      <td>Другие регионы</td>\n",
       "    </tr>\n",
       "    <tr>\n",
       "      <th>2</th>\n",
       "      <td>1000</td>\n",
       "      <td>2018-07-01</td>\n",
       "      <td>47.00</td>\n",
       "      <td>340.00</td>\n",
       "      <td>75.00</td>\n",
       "      <td>14.00</td>\n",
       "      <td>Краснодар</td>\n",
       "      <td>ultra</td>\n",
       "      <td>1000</td>\n",
       "      <td>30.00</td>\n",
       "      <td>3000</td>\n",
       "      <td>1950</td>\n",
       "      <td>150</td>\n",
       "      <td>1</td>\n",
       "      <td>1</td>\n",
       "      <td>0.00</td>\n",
       "      <td>1950.00</td>\n",
       "      <td>Другие регионы</td>\n",
       "    </tr>\n",
       "  </tbody>\n",
       "</table>\n",
       "</div>"
      ],
      "text/plain": [
       "   user_id      month  count_calls  sum_duration  count_message  gb_used  \\\n",
       "0     1000 2018-05-01        22.00        159.00          22.00     3.00   \n",
       "1     1000 2018-06-01        43.00        172.00          60.00    23.00   \n",
       "2     1000 2018-07-01        47.00        340.00          75.00    14.00   \n",
       "\n",
       "        city tariff  messages_included  gb_per_month_included  \\\n",
       "0  Краснодар  ultra               1000                  30.00   \n",
       "1  Краснодар  ultra               1000                  30.00   \n",
       "2  Краснодар  ultra               1000                  30.00   \n",
       "\n",
       "   minutes_included  rub_monthly_fee  rub_per_gb  rub_per_message  \\\n",
       "0              3000             1950         150                1   \n",
       "1              3000             1950         150                1   \n",
       "2              3000             1950         150                1   \n",
       "\n",
       "   rub_per_minute  extra_fee  revenue          region  \n",
       "0               1       0.00  1950.00  Другие регионы  \n",
       "1               1       0.00  1950.00  Другие регионы  \n",
       "2               1       0.00  1950.00  Другие регионы  "
      ]
     },
     "execution_count": 41,
     "metadata": {},
     "output_type": "execute_result"
    }
   ],
   "source": [
    "pivot4['region'] = pivot4['city'].apply(region)\n",
    "pivot4.head(3)"
   ]
  },
  {
   "cell_type": "code",
   "execution_count": 42,
   "metadata": {},
   "outputs": [
    {
     "data": {
      "text/html": [
       "<div>\n",
       "<style scoped>\n",
       "    .dataframe tbody tr th:only-of-type {\n",
       "        vertical-align: middle;\n",
       "    }\n",
       "\n",
       "    .dataframe tbody tr th {\n",
       "        vertical-align: top;\n",
       "    }\n",
       "\n",
       "    .dataframe thead tr th {\n",
       "        text-align: left;\n",
       "    }\n",
       "\n",
       "    .dataframe thead tr:last-of-type th {\n",
       "        text-align: right;\n",
       "    }\n",
       "</style>\n",
       "<table border=\"1\" class=\"dataframe\">\n",
       "  <thead>\n",
       "    <tr>\n",
       "      <th></th>\n",
       "      <th>mean</th>\n",
       "      <th>median</th>\n",
       "      <th>var</th>\n",
       "      <th>std</th>\n",
       "      <th>min</th>\n",
       "      <th>max</th>\n",
       "      <th>count</th>\n",
       "    </tr>\n",
       "    <tr>\n",
       "      <th></th>\n",
       "      <th>revenue</th>\n",
       "      <th>revenue</th>\n",
       "      <th>revenue</th>\n",
       "      <th>revenue</th>\n",
       "      <th>revenue</th>\n",
       "      <th>revenue</th>\n",
       "      <th>revenue</th>\n",
       "    </tr>\n",
       "    <tr>\n",
       "      <th>region</th>\n",
       "      <th></th>\n",
       "      <th></th>\n",
       "      <th></th>\n",
       "      <th></th>\n",
       "      <th></th>\n",
       "      <th></th>\n",
       "      <th></th>\n",
       "    </tr>\n",
       "  </thead>\n",
       "  <tbody>\n",
       "    <tr>\n",
       "      <th>Другие регионы</th>\n",
       "      <td>1524.73</td>\n",
       "      <td>1583.00</td>\n",
       "      <td>654069.57</td>\n",
       "      <td>808.75</td>\n",
       "      <td>550.00</td>\n",
       "      <td>6770.00</td>\n",
       "      <td>2605</td>\n",
       "    </tr>\n",
       "    <tr>\n",
       "      <th>Москва</th>\n",
       "      <td>1546.71</td>\n",
       "      <td>1750.00</td>\n",
       "      <td>565636.47</td>\n",
       "      <td>752.09</td>\n",
       "      <td>550.00</td>\n",
       "      <td>5321.00</td>\n",
       "      <td>611</td>\n",
       "    </tr>\n",
       "  </tbody>\n",
       "</table>\n",
       "</div>"
      ],
      "text/plain": [
       "                  mean  median       var     std     min     max   count\n",
       "               revenue revenue   revenue revenue revenue revenue revenue\n",
       "region                                                                  \n",
       "Другие регионы 1524.73 1583.00 654069.57  808.75  550.00 6770.00    2605\n",
       "Москва         1546.71 1750.00 565636.47  752.09  550.00 5321.00     611"
      ]
     },
     "metadata": {},
     "output_type": "display_data"
    },
    {
     "data": {
      "text/plain": [
       "Text(0.5, 0, 'сумма выручки в месяц, руб.')"
      ]
     },
     "execution_count": 42,
     "metadata": {},
     "output_type": "execute_result"
    },
    {
     "data": {
      "image/png": "[encoded data removed]",
      "text/plain": [
       "<Figure size 864x288 with 1 Axes>"
      ]
     },
     "metadata": {
      "needs_background": "light"
     },
     "output_type": "display_data"
    },
    {
     "data": {
      "image/png": "[encoded data removed]",
      "text/plain": [
       "<Figure size 864x288 with 1 Axes>"
      ]
     },
     "metadata": {
      "needs_background": "light"
     },
     "output_type": "display_data"
    }
   ],
   "source": [
    "msc = pivot4.query('city == \"Москва\"')\n",
    "reg = pivot4.query('city != \"Москва\"')\n",
    "\n",
    "inf = pivot4.pivot_table(index= 'region', values= 'revenue', aggfunc= ['mean', 'median', 'var','std', \n",
    "                                                                       'min', 'max', 'count'])\n",
    "display(inf)\n",
    "    \n",
    "pivot4.boxplot('revenue', by='region', figsize=(12,4));\n",
    "\n",
    "ax = msc.plot(kind='hist', y='revenue', histtype='step', \n",
    "               bins=30, linewidth=3, alpha=0.5, label='Москва', figsize=(12,4))\n",
    "reg.plot(kind='hist', y='revenue', histtype='step', figsize=(12,4),\n",
    "               bins=30, linewidth=3, alpha=0.5, label='Другие регионы', ax=ax, grid=True, legend=True);\n",
    "plt.xlabel('сумма выручки в месяц, руб.')"
   ]
  },
  {
   "cell_type": "markdown",
   "metadata": {},
   "source": [
    "Выборка по Москве примерно в 4 раза меньше, чем суммарно по другим регионам.\n",
    "\n",
    "Распределения визуально похожи. Среднее в Москве и регионах почти одинаковое - 1547 и 1525 соответственно. \n",
    "\n",
    "Медианы отличаются - 1750 в Москве и 1583 в других регионах. Обе выборки скошены влево (среднее меньше медианы), но у Москвы скос сильнее (разница между медианой и средним больше). Т.е. в Москве выбросы влияют сильнее.\n",
    "\n",
    "Для Москвы меньше дисперсия и стандартное отклонение - 565636 и 752 против 654070 и 809 для других регионов. Т.е. в Москве платежеспособность потребителей более однородна, чем в других регионах. "
   ]
  },
  {
   "cell_type": "markdown",
   "metadata": {},
   "source": [
    "**Проверим гипотезу: средняя выручка по пользователям из Москвы отличается от выручки по пользователям из других регионов**.\n",
    "\n",
    "Нулевая гипотеза: средняя выручка по пользователям из Москвы равна средней выручке по пользователям из других регионов.\n",
    "\n",
    "Альтернативная гипотеза: средняя выручка по пользователям из Москвы и из других регионов различается. (В этом случае будем сравнивать имеющиеся средние показатели).\n",
    "\n",
    "Здесь также имеем дело с 2мя независимыми выборками, воспользуемся статистическим критерием Стьюдента.\n",
    "\n",
    "Выборки разного размера и дисперсии генеральных совокупностей могут различаться (т.к. у выборок дисперсия различается). Поэтому equal_var примем равным False. Критический уровень статистической значимости зададим на уровне 5%."
   ]
  },
  {
   "cell_type": "code",
   "execution_count": 43,
   "metadata": {},
   "outputs": [
    {
     "name": "stdout",
     "output_type": "stream",
     "text": [
      "Ttest_indResult(statistic=0.6409677091149435, pvalue=0.5216952110000278)\n",
      "Не получилось отвергнуть нулевую гипотезу\n"
     ]
    }
   ],
   "source": [
    "alpha = 0.05\n",
    "\n",
    "results2 = st.ttest_ind(msc['revenue'], reg['revenue'], equal_var=False)\n",
    "print(results2)\n",
    "\n",
    "if results2.pvalue < alpha:\n",
    "    print('Отвергаем нулевую гипотезу')\n",
    "else:\n",
    "    print('Не получилось отвергнуть нулевую гипотезу')"
   ]
  },
  {
   "cell_type": "markdown",
   "metadata": {},
   "source": [
    "Вероятность получить одинаковые средние для Москвы и других регионов достаточно велика, различия между ними незначительны."
   ]
  },
  {
   "cell_type": "markdown",
   "metadata": {},
   "source": [
    "<p></p>\n",
    "\n",
    "<div style=\"border:solid green 2px; padding: 20px\">\n",
    "    \n",
    "Вывод: средняя выручка не зависит от региона.\n",
    "    \n",
    "</div>"
   ]
  },
  {
   "cell_type": "markdown",
   "metadata": {},
   "source": [
    "## Общий вывод"
   ]
  },
  {
   "cell_type": "markdown",
   "metadata": {},
   "source": [
    "<p></p>\n",
    "\n",
    "<div style=\"border:solid green 2px; padding: 20px\">\n",
    "    \n",
    "В ходе исследования изучены данные о поведении 500 пользователей в течение 2018 года, выбравших тарифы \"Смарт\" и \"Ультра\".\n",
    "Характеристики аудитории, попавшей в выборку:\n",
    "    - проживает в 76 городах РФ\n",
    "    - возраст колеблется от 18 до 75 лет (средний возраст - 46 лет)\n",
    "    \n",
    "**Для оператора мобильной связи тариф «Ультра» выгоднее тарифа «Смарт»**. Средняя выручка для тарифа «Ультра» составляет 2070 руб. в месяц, а для тарифа «Смарт» - 1290 руб. в месяц на одного пользователя. Данный показатель не зависит от региона.\n",
    "    \n",
    "Целевая аудитория **тарифа «Смарт»** более многочисленна, достаточно однородна и предсказуема, склонна экономить и стремится уложиться в предоставленный пакет, покрываемый абонентской платой (550 руб.). Это получается далеко не у всех, средний пользователь платит каждый месяц 1290 руб., что в 2.3 раза больше. Таким образом, тариф «Смарт» приносит больше дополнительной выручки (сверх абонентской платы) в расчете на одного пользователя (+740 руб. в месяц).\n",
    "\n",
    "Пользователей **тарифа «Ультра»** меньше и их потребности более разнообразны. Пакеты минут и сообщений не востребованы в полной мере и являются избыточными. Зато пользователи охотно доплачивают за интернет-трафик. При абонентской плате 1950 руб. в месяц, средний пользователь платит 2070 руб. в месяц. Дополнительная выручка в среднем составляет всего лишь 120 руб. на одного пользователя. Однако суммарный платеж среднего пользователя тарифа «Ультра» превышает суммарный платеж среднего пользователя тарифа «Смарт».\n",
    "    \n",
    "    \n",
    "</div>"
   ]
  }
 ],
 "metadata": {
  "ExecuteTimeLog": [
   {
    "duration": 802,
    "start_time": "2022-02-04T04:19:56.529Z"
   },
   {
    "duration": 598,
    "start_time": "2022-02-04T04:26:30.261Z"
   },
   {
    "duration": 367,
    "start_time": "2022-02-04T09:02:51.414Z"
   },
   {
    "duration": 548,
    "start_time": "2022-02-04T09:03:00.603Z"
   },
   {
    "duration": 418,
    "start_time": "2022-02-04T09:03:01.153Z"
   },
   {
    "duration": 6,
    "start_time": "2022-02-04T09:03:01.572Z"
   },
   {
    "duration": 96,
    "start_time": "2022-02-04T09:09:54.585Z"
   },
   {
    "duration": 326,
    "start_time": "2022-02-04T09:10:00.781Z"
   },
   {
    "duration": 253,
    "start_time": "2022-02-04T09:10:11.415Z"
   },
   {
    "duration": 11,
    "start_time": "2022-02-04T09:10:18.508Z"
   },
   {
    "duration": 1916,
    "start_time": "2022-02-04T09:15:43.405Z"
   },
   {
    "duration": 9,
    "start_time": "2022-02-04T09:16:10.063Z"
   },
   {
    "duration": 9,
    "start_time": "2022-02-04T09:16:59.412Z"
   },
   {
    "duration": 14,
    "start_time": "2022-02-04T09:22:13.950Z"
   },
   {
    "duration": 7,
    "start_time": "2022-02-04T09:25:14.836Z"
   },
   {
    "duration": 5,
    "start_time": "2022-02-04T09:26:45.422Z"
   },
   {
    "duration": 19,
    "start_time": "2022-02-04T09:29:56.566Z"
   },
   {
    "duration": 13,
    "start_time": "2022-02-04T09:30:51.040Z"
   },
   {
    "duration": 30,
    "start_time": "2022-02-04T09:33:54.108Z"
   },
   {
    "duration": 27,
    "start_time": "2022-02-04T09:45:24.160Z"
   },
   {
    "duration": 13,
    "start_time": "2022-02-04T09:52:24.843Z"
   },
   {
    "duration": 107,
    "start_time": "2022-02-04T09:53:42.316Z"
   },
   {
    "duration": 19,
    "start_time": "2022-02-04T09:55:15.754Z"
   },
   {
    "duration": 17,
    "start_time": "2022-02-04T09:56:33.265Z"
   },
   {
    "duration": 17,
    "start_time": "2022-02-04T09:58:35.794Z"
   },
   {
    "duration": 24,
    "start_time": "2022-02-04T10:00:31.009Z"
   },
   {
    "duration": 27,
    "start_time": "2022-02-04T10:01:32.839Z"
   },
   {
    "duration": 11,
    "start_time": "2022-02-04T10:06:55.275Z"
   },
   {
    "duration": 276,
    "start_time": "2022-02-04T10:07:09.474Z"
   },
   {
    "duration": 348,
    "start_time": "2022-02-04T10:10:25.468Z"
   },
   {
    "duration": 370,
    "start_time": "2022-02-04T10:10:30.263Z"
   },
   {
    "duration": 8,
    "start_time": "2022-02-04T10:10:56.955Z"
   },
   {
    "duration": 4,
    "start_time": "2022-02-04T10:11:15.107Z"
   },
   {
    "duration": 569,
    "start_time": "2022-02-04T10:11:55.594Z"
   },
   {
    "duration": 471,
    "start_time": "2022-02-04T10:11:56.165Z"
   },
   {
    "duration": 6,
    "start_time": "2022-02-04T10:11:56.638Z"
   },
   {
    "duration": 23,
    "start_time": "2022-02-04T10:11:56.646Z"
   },
   {
    "duration": 21,
    "start_time": "2022-02-04T10:11:56.670Z"
   },
   {
    "duration": 27,
    "start_time": "2022-02-04T10:11:56.693Z"
   },
   {
    "duration": 17,
    "start_time": "2022-02-04T10:11:56.721Z"
   },
   {
    "duration": 27,
    "start_time": "2022-02-04T10:11:56.739Z"
   },
   {
    "duration": 40,
    "start_time": "2022-02-04T10:11:56.768Z"
   },
   {
    "duration": 27,
    "start_time": "2022-02-04T10:11:56.810Z"
   },
   {
    "duration": 14,
    "start_time": "2022-02-04T10:11:56.839Z"
   },
   {
    "duration": 42,
    "start_time": "2022-02-04T10:11:56.855Z"
   },
   {
    "duration": 11,
    "start_time": "2022-02-04T10:11:56.899Z"
   },
   {
    "duration": 18,
    "start_time": "2022-02-04T10:11:56.912Z"
   },
   {
    "duration": 44,
    "start_time": "2022-02-04T10:11:56.932Z"
   },
   {
    "duration": 32,
    "start_time": "2022-02-04T10:11:56.978Z"
   },
   {
    "duration": 3,
    "start_time": "2022-02-04T10:11:57.012Z"
   },
   {
    "duration": 7,
    "start_time": "2022-02-04T10:12:20.122Z"
   },
   {
    "duration": 344,
    "start_time": "2022-02-04T10:12:29.056Z"
   },
   {
    "duration": 301,
    "start_time": "2022-02-04T10:12:38.243Z"
   },
   {
    "duration": 602,
    "start_time": "2022-02-04T10:12:49.539Z"
   },
   {
    "duration": 427,
    "start_time": "2022-02-04T10:12:50.142Z"
   },
   {
    "duration": 8,
    "start_time": "2022-02-04T10:12:50.570Z"
   },
   {
    "duration": 14,
    "start_time": "2022-02-04T10:12:50.581Z"
   },
   {
    "duration": 9,
    "start_time": "2022-02-04T10:12:50.597Z"
   },
   {
    "duration": 15,
    "start_time": "2022-02-04T10:12:50.607Z"
   },
   {
    "duration": 4,
    "start_time": "2022-02-04T10:12:50.624Z"
   },
   {
    "duration": 20,
    "start_time": "2022-02-04T10:12:50.629Z"
   },
   {
    "duration": 35,
    "start_time": "2022-02-04T10:12:50.672Z"
   },
   {
    "duration": 25,
    "start_time": "2022-02-04T10:12:50.709Z"
   },
   {
    "duration": 12,
    "start_time": "2022-02-04T10:12:50.735Z"
   },
   {
    "duration": 23,
    "start_time": "2022-02-04T10:12:50.771Z"
   },
   {
    "duration": 13,
    "start_time": "2022-02-04T10:12:50.796Z"
   },
   {
    "duration": 17,
    "start_time": "2022-02-04T10:12:50.810Z"
   },
   {
    "duration": 57,
    "start_time": "2022-02-04T10:12:50.829Z"
   },
   {
    "duration": 28,
    "start_time": "2022-02-04T10:12:50.888Z"
   },
   {
    "duration": 12,
    "start_time": "2022-02-04T10:12:50.917Z"
   },
   {
    "duration": 296,
    "start_time": "2022-02-05T03:41:38.613Z"
   },
   {
    "duration": 758,
    "start_time": "2022-02-05T03:41:46.120Z"
   },
   {
    "duration": 705,
    "start_time": "2022-02-05T03:41:46.881Z"
   },
   {
    "duration": 10,
    "start_time": "2022-02-05T03:41:47.589Z"
   },
   {
    "duration": 19,
    "start_time": "2022-02-05T03:41:47.601Z"
   },
   {
    "duration": 18,
    "start_time": "2022-02-05T03:41:47.648Z"
   },
   {
    "duration": 21,
    "start_time": "2022-02-05T03:41:47.669Z"
   },
   {
    "duration": 9,
    "start_time": "2022-02-05T03:41:47.692Z"
   },
   {
    "duration": 65,
    "start_time": "2022-02-05T03:41:47.704Z"
   },
   {
    "duration": 47,
    "start_time": "2022-02-05T03:41:47.773Z"
   },
   {
    "duration": 60,
    "start_time": "2022-02-05T03:41:47.823Z"
   },
   {
    "duration": 18,
    "start_time": "2022-02-05T03:41:47.886Z"
   },
   {
    "duration": 56,
    "start_time": "2022-02-05T03:41:47.907Z"
   },
   {
    "duration": 20,
    "start_time": "2022-02-05T03:41:47.965Z"
   },
   {
    "duration": 24,
    "start_time": "2022-02-05T03:41:47.988Z"
   },
   {
    "duration": 69,
    "start_time": "2022-02-05T03:41:48.014Z"
   },
   {
    "duration": 37,
    "start_time": "2022-02-05T03:41:48.085Z"
   },
   {
    "duration": 43,
    "start_time": "2022-02-05T03:41:48.124Z"
   },
   {
    "duration": 12,
    "start_time": "2022-02-05T03:41:48.170Z"
   },
   {
    "duration": 39,
    "start_time": "2022-02-05T03:44:40.043Z"
   },
   {
    "duration": 333,
    "start_time": "2022-02-05T03:52:40.284Z"
   },
   {
    "duration": 243,
    "start_time": "2022-02-05T03:52:58.580Z"
   },
   {
    "duration": 337,
    "start_time": "2022-02-05T03:53:59.383Z"
   },
   {
    "duration": 4,
    "start_time": "2022-02-05T03:55:39.839Z"
   },
   {
    "duration": 362,
    "start_time": "2022-02-05T03:56:07.076Z"
   },
   {
    "duration": 16,
    "start_time": "2022-02-05T03:56:23.390Z"
   },
   {
    "duration": 82,
    "start_time": "2022-02-05T04:01:12.339Z"
   },
   {
    "duration": 103,
    "start_time": "2022-02-05T04:03:03.011Z"
   },
   {
    "duration": 104,
    "start_time": "2022-02-05T04:04:14.898Z"
   },
   {
    "duration": 66,
    "start_time": "2022-02-05T04:09:34.551Z"
   },
   {
    "duration": 80,
    "start_time": "2022-02-05T04:09:52.041Z"
   },
   {
    "duration": 83,
    "start_time": "2022-02-05T04:10:57.016Z"
   },
   {
    "duration": 6,
    "start_time": "2022-02-05T04:12:03.201Z"
   },
   {
    "duration": 7,
    "start_time": "2022-02-05T04:12:37.154Z"
   },
   {
    "duration": 318,
    "start_time": "2022-02-05T04:14:23.412Z"
   },
   {
    "duration": 74,
    "start_time": "2022-02-05T04:14:34.329Z"
   },
   {
    "duration": 12,
    "start_time": "2022-02-05T04:14:48.641Z"
   },
   {
    "duration": 11,
    "start_time": "2022-02-05T04:16:13.194Z"
   },
   {
    "duration": 10,
    "start_time": "2022-02-05T04:20:44.657Z"
   },
   {
    "duration": 28,
    "start_time": "2022-02-05T04:22:04.028Z"
   },
   {
    "duration": 40,
    "start_time": "2022-02-05T04:22:14.622Z"
   },
   {
    "duration": 277,
    "start_time": "2022-02-05T04:23:52.118Z"
   },
   {
    "duration": 31,
    "start_time": "2022-02-05T04:24:14.306Z"
   },
   {
    "duration": 11,
    "start_time": "2022-02-05T04:27:44.834Z"
   },
   {
    "duration": 13,
    "start_time": "2022-02-05T04:56:32.374Z"
   },
   {
    "duration": 33,
    "start_time": "2022-02-05T04:57:53.962Z"
   },
   {
    "duration": 32,
    "start_time": "2022-02-05T04:59:00.629Z"
   },
   {
    "duration": 40,
    "start_time": "2022-02-05T05:01:30.763Z"
   },
   {
    "duration": 18,
    "start_time": "2022-02-05T05:05:51.897Z"
   },
   {
    "duration": 248,
    "start_time": "2022-02-05T05:06:37.381Z"
   },
   {
    "duration": 14,
    "start_time": "2022-02-05T05:06:53.904Z"
   },
   {
    "duration": 12,
    "start_time": "2022-02-05T05:07:46.429Z"
   },
   {
    "duration": 25,
    "start_time": "2022-02-05T05:20:37.788Z"
   },
   {
    "duration": 23,
    "start_time": "2022-02-05T05:24:47.299Z"
   },
   {
    "duration": 25,
    "start_time": "2022-02-05T05:26:19.203Z"
   },
   {
    "duration": 27,
    "start_time": "2022-02-05T05:29:24.691Z"
   },
   {
    "duration": 32,
    "start_time": "2022-02-05T05:29:49.757Z"
   },
   {
    "duration": 12,
    "start_time": "2022-02-05T05:31:29.966Z"
   },
   {
    "duration": 5,
    "start_time": "2022-02-05T05:40:41.645Z"
   },
   {
    "duration": 13,
    "start_time": "2022-02-05T05:40:50.878Z"
   },
   {
    "duration": 15,
    "start_time": "2022-02-05T05:42:46.695Z"
   },
   {
    "duration": 797,
    "start_time": "2022-02-05T05:43:01.584Z"
   },
   {
    "duration": 704,
    "start_time": "2022-02-05T05:43:02.385Z"
   },
   {
    "duration": 9,
    "start_time": "2022-02-05T05:43:03.092Z"
   },
   {
    "duration": 46,
    "start_time": "2022-02-05T05:43:03.104Z"
   },
   {
    "duration": 16,
    "start_time": "2022-02-05T05:43:03.152Z"
   },
   {
    "duration": 29,
    "start_time": "2022-02-05T05:43:03.170Z"
   },
   {
    "duration": 17,
    "start_time": "2022-02-05T05:43:03.202Z"
   },
   {
    "duration": 48,
    "start_time": "2022-02-05T05:43:03.222Z"
   },
   {
    "duration": 45,
    "start_time": "2022-02-05T05:43:03.273Z"
   },
   {
    "duration": 55,
    "start_time": "2022-02-05T05:43:03.321Z"
   },
   {
    "duration": 18,
    "start_time": "2022-02-05T05:43:03.379Z"
   },
   {
    "duration": 54,
    "start_time": "2022-02-05T05:43:03.399Z"
   },
   {
    "duration": 18,
    "start_time": "2022-02-05T05:43:03.456Z"
   },
   {
    "duration": 25,
    "start_time": "2022-02-05T05:43:03.476Z"
   },
   {
    "duration": 57,
    "start_time": "2022-02-05T05:43:03.504Z"
   },
   {
    "duration": 36,
    "start_time": "2022-02-05T05:43:03.563Z"
   },
   {
    "duration": 18,
    "start_time": "2022-02-05T05:43:03.602Z"
   },
   {
    "duration": 43,
    "start_time": "2022-02-05T05:43:03.649Z"
   },
   {
    "duration": 94,
    "start_time": "2022-02-05T05:43:03.694Z"
   },
   {
    "duration": 10,
    "start_time": "2022-02-05T05:43:03.791Z"
   },
   {
    "duration": 47,
    "start_time": "2022-02-05T05:43:03.803Z"
   },
   {
    "duration": 32,
    "start_time": "2022-02-05T05:43:03.852Z"
   },
   {
    "duration": 60,
    "start_time": "2022-02-05T05:43:03.890Z"
   },
   {
    "duration": 52,
    "start_time": "2022-02-05T05:43:03.953Z"
   },
   {
    "duration": 42,
    "start_time": "2022-02-05T05:43:04.008Z"
   },
   {
    "duration": 35,
    "start_time": "2022-02-05T05:43:04.053Z"
   },
   {
    "duration": 12,
    "start_time": "2022-02-05T05:43:04.091Z"
   },
   {
    "duration": 50,
    "start_time": "2022-02-05T05:43:04.105Z"
   },
   {
    "duration": 17,
    "start_time": "2022-02-05T05:51:58.337Z"
   },
   {
    "duration": 29,
    "start_time": "2022-02-05T06:02:30.324Z"
   },
   {
    "duration": 766,
    "start_time": "2022-02-05T06:24:20.974Z"
   },
   {
    "duration": 585,
    "start_time": "2022-02-05T06:24:21.743Z"
   },
   {
    "duration": 18,
    "start_time": "2022-02-05T06:24:22.331Z"
   },
   {
    "duration": 20,
    "start_time": "2022-02-05T06:24:22.352Z"
   },
   {
    "duration": 15,
    "start_time": "2022-02-05T06:24:22.375Z"
   },
   {
    "duration": 26,
    "start_time": "2022-02-05T06:24:22.392Z"
   },
   {
    "duration": 32,
    "start_time": "2022-02-05T06:24:22.420Z"
   },
   {
    "duration": 30,
    "start_time": "2022-02-05T06:24:22.456Z"
   },
   {
    "duration": 73,
    "start_time": "2022-02-05T06:24:22.489Z"
   },
   {
    "duration": 38,
    "start_time": "2022-02-05T06:24:22.565Z"
   },
   {
    "duration": 18,
    "start_time": "2022-02-05T06:24:22.605Z"
   },
   {
    "duration": 26,
    "start_time": "2022-02-05T06:24:22.649Z"
   },
   {
    "duration": 19,
    "start_time": "2022-02-05T06:24:22.677Z"
   },
   {
    "duration": 49,
    "start_time": "2022-02-05T06:24:22.699Z"
   },
   {
    "duration": 35,
    "start_time": "2022-02-05T06:24:22.751Z"
   },
   {
    "duration": 63,
    "start_time": "2022-02-05T06:24:22.788Z"
   },
   {
    "duration": 20,
    "start_time": "2022-02-05T06:24:22.854Z"
   },
   {
    "duration": 44,
    "start_time": "2022-02-05T06:24:22.877Z"
   },
   {
    "duration": 91,
    "start_time": "2022-02-05T06:24:22.924Z"
   },
   {
    "duration": 33,
    "start_time": "2022-02-05T06:24:23.017Z"
   },
   {
    "duration": 30,
    "start_time": "2022-02-05T06:24:23.053Z"
   },
   {
    "duration": 30,
    "start_time": "2022-02-05T06:24:23.086Z"
   },
   {
    "duration": 56,
    "start_time": "2022-02-05T06:24:23.121Z"
   },
   {
    "duration": 30,
    "start_time": "2022-02-05T06:24:23.180Z"
   },
   {
    "duration": 39,
    "start_time": "2022-02-05T06:24:23.212Z"
   },
   {
    "duration": 31,
    "start_time": "2022-02-05T06:24:23.253Z"
   },
   {
    "duration": 325,
    "start_time": "2022-02-05T06:24:23.287Z"
   },
   {
    "duration": 9837,
    "start_time": "2022-02-05T06:24:13.778Z"
   },
   {
    "duration": 9811,
    "start_time": "2022-02-05T06:24:13.806Z"
   },
   {
    "duration": 9782,
    "start_time": "2022-02-05T06:24:13.836Z"
   },
   {
    "duration": 783,
    "start_time": "2022-02-05T06:25:16.989Z"
   },
   {
    "duration": 594,
    "start_time": "2022-02-05T06:26:03.059Z"
   },
   {
    "duration": 809,
    "start_time": "2022-02-05T06:26:14.724Z"
   },
   {
    "duration": 755,
    "start_time": "2022-02-05T06:26:15.536Z"
   },
   {
    "duration": 28,
    "start_time": "2022-02-05T06:26:16.295Z"
   },
   {
    "duration": 106,
    "start_time": "2022-02-05T06:26:16.327Z"
   },
   {
    "duration": 143,
    "start_time": "2022-02-05T06:26:16.436Z"
   },
   {
    "duration": 51,
    "start_time": "2022-02-05T06:26:16.590Z"
   },
   {
    "duration": 95,
    "start_time": "2022-02-05T06:26:16.644Z"
   },
   {
    "duration": 37,
    "start_time": "2022-02-05T06:26:16.745Z"
   },
   {
    "duration": 80,
    "start_time": "2022-02-05T06:26:16.787Z"
   },
   {
    "duration": 38,
    "start_time": "2022-02-05T06:26:16.869Z"
   },
   {
    "duration": 44,
    "start_time": "2022-02-05T06:26:16.910Z"
   },
   {
    "duration": 29,
    "start_time": "2022-02-05T06:26:16.956Z"
   },
   {
    "duration": 22,
    "start_time": "2022-02-05T06:26:16.988Z"
   },
   {
    "duration": 66,
    "start_time": "2022-02-05T06:26:17.013Z"
   },
   {
    "duration": 45,
    "start_time": "2022-02-05T06:26:17.082Z"
   },
   {
    "duration": 69,
    "start_time": "2022-02-05T06:26:17.130Z"
   },
   {
    "duration": 49,
    "start_time": "2022-02-05T06:26:17.201Z"
   },
   {
    "duration": 51,
    "start_time": "2022-02-05T06:26:17.253Z"
   },
   {
    "duration": 109,
    "start_time": "2022-02-05T06:26:17.307Z"
   },
   {
    "duration": 11,
    "start_time": "2022-02-05T06:26:17.418Z"
   },
   {
    "duration": 53,
    "start_time": "2022-02-05T06:26:17.432Z"
   },
   {
    "duration": 62,
    "start_time": "2022-02-05T06:26:17.489Z"
   },
   {
    "duration": 42,
    "start_time": "2022-02-05T06:26:17.559Z"
   },
   {
    "duration": 76,
    "start_time": "2022-02-05T06:26:17.605Z"
   },
   {
    "duration": 24,
    "start_time": "2022-02-05T06:26:17.685Z"
   },
   {
    "duration": 66,
    "start_time": "2022-02-05T06:26:17.712Z"
   },
   {
    "duration": 612,
    "start_time": "2022-02-05T06:26:17.782Z"
   },
   {
    "duration": 10231,
    "start_time": "2022-02-05T06:26:08.167Z"
   },
   {
    "duration": 10194,
    "start_time": "2022-02-05T06:26:08.206Z"
   },
   {
    "duration": 10173,
    "start_time": "2022-02-05T06:26:08.228Z"
   },
   {
    "duration": 32,
    "start_time": "2022-02-05T06:26:39.596Z"
   },
   {
    "duration": 184,
    "start_time": "2022-02-05T06:27:10.083Z"
   },
   {
    "duration": 109,
    "start_time": "2022-02-05T06:27:34.005Z"
   },
   {
    "duration": 39,
    "start_time": "2022-02-05T06:28:01.637Z"
   },
   {
    "duration": 550,
    "start_time": "2022-02-05T12:52:24.529Z"
   },
   {
    "duration": 723,
    "start_time": "2022-02-05T12:53:05.918Z"
   },
   {
    "duration": 454,
    "start_time": "2022-02-05T12:53:06.643Z"
   },
   {
    "duration": 7,
    "start_time": "2022-02-05T12:53:07.099Z"
   },
   {
    "duration": 14,
    "start_time": "2022-02-05T12:53:07.108Z"
   },
   {
    "duration": 22,
    "start_time": "2022-02-05T12:53:07.124Z"
   },
   {
    "duration": 18,
    "start_time": "2022-02-05T12:53:07.148Z"
   },
   {
    "duration": 7,
    "start_time": "2022-02-05T12:53:07.168Z"
   },
   {
    "duration": 21,
    "start_time": "2022-02-05T12:53:07.177Z"
   },
   {
    "duration": 35,
    "start_time": "2022-02-05T12:53:07.217Z"
   },
   {
    "duration": 29,
    "start_time": "2022-02-05T12:53:07.254Z"
   },
   {
    "duration": 39,
    "start_time": "2022-02-05T12:53:07.285Z"
   },
   {
    "duration": 21,
    "start_time": "2022-02-05T12:53:07.326Z"
   },
   {
    "duration": 15,
    "start_time": "2022-02-05T12:53:07.348Z"
   },
   {
    "duration": 17,
    "start_time": "2022-02-05T12:53:07.365Z"
   },
   {
    "duration": 64,
    "start_time": "2022-02-05T12:53:07.385Z"
   },
   {
    "duration": 29,
    "start_time": "2022-02-05T12:53:07.451Z"
   },
   {
    "duration": 13,
    "start_time": "2022-02-05T12:53:07.482Z"
   },
   {
    "duration": 49,
    "start_time": "2022-02-05T12:53:07.497Z"
   },
   {
    "duration": 57,
    "start_time": "2022-02-05T12:53:07.547Z"
   },
   {
    "duration": 18,
    "start_time": "2022-02-05T12:53:07.605Z"
   },
   {
    "duration": 21,
    "start_time": "2022-02-05T12:53:07.625Z"
   },
   {
    "duration": 22,
    "start_time": "2022-02-05T12:53:07.648Z"
   },
   {
    "duration": 48,
    "start_time": "2022-02-05T12:53:07.673Z"
   },
   {
    "duration": 26,
    "start_time": "2022-02-05T12:53:07.723Z"
   },
   {
    "duration": 13,
    "start_time": "2022-02-05T12:53:07.750Z"
   },
   {
    "duration": 22,
    "start_time": "2022-02-05T12:53:07.765Z"
   },
   {
    "duration": 37,
    "start_time": "2022-02-05T12:53:07.789Z"
   },
   {
    "duration": 2,
    "start_time": "2022-02-05T12:53:07.828Z"
   },
   {
    "duration": 11,
    "start_time": "2022-02-05T12:53:07.831Z"
   },
   {
    "duration": 11,
    "start_time": "2022-02-05T12:53:07.844Z"
   },
   {
    "duration": 6239,
    "start_time": "2022-02-05T13:02:26.998Z"
   },
   {
    "duration": 653,
    "start_time": "2022-02-05T13:03:58.633Z"
   },
   {
    "duration": 459,
    "start_time": "2022-02-05T13:03:59.289Z"
   },
   {
    "duration": 6,
    "start_time": "2022-02-05T13:03:59.750Z"
   },
   {
    "duration": 23,
    "start_time": "2022-02-05T13:03:59.758Z"
   },
   {
    "duration": 15,
    "start_time": "2022-02-05T13:03:59.783Z"
   },
   {
    "duration": 27,
    "start_time": "2022-02-05T13:03:59.800Z"
   },
   {
    "duration": 6,
    "start_time": "2022-02-05T13:03:59.828Z"
   },
   {
    "duration": 25,
    "start_time": "2022-02-05T13:03:59.836Z"
   },
   {
    "duration": 55,
    "start_time": "2022-02-05T13:03:59.864Z"
   },
   {
    "duration": 30,
    "start_time": "2022-02-05T13:03:59.921Z"
   },
   {
    "duration": 15,
    "start_time": "2022-02-05T13:03:59.953Z"
   },
   {
    "duration": 40,
    "start_time": "2022-02-05T13:03:59.970Z"
   },
   {
    "duration": 29,
    "start_time": "2022-02-05T13:04:00.019Z"
   },
   {
    "duration": 39,
    "start_time": "2022-02-05T13:04:00.050Z"
   },
   {
    "duration": 34,
    "start_time": "2022-02-05T13:04:00.091Z"
   },
   {
    "duration": 40,
    "start_time": "2022-02-05T13:04:00.127Z"
   },
   {
    "duration": 17,
    "start_time": "2022-02-05T13:04:00.169Z"
   },
   {
    "duration": 54,
    "start_time": "2022-02-05T13:04:00.189Z"
   },
   {
    "duration": 77,
    "start_time": "2022-02-05T13:04:00.245Z"
   },
   {
    "duration": 9,
    "start_time": "2022-02-05T13:04:00.323Z"
   },
   {
    "duration": 49,
    "start_time": "2022-02-05T13:04:00.333Z"
   },
   {
    "duration": 49,
    "start_time": "2022-02-05T13:04:00.384Z"
   },
   {
    "duration": 30,
    "start_time": "2022-02-05T13:04:00.436Z"
   },
   {
    "duration": 52,
    "start_time": "2022-02-05T13:04:00.468Z"
   },
   {
    "duration": 18,
    "start_time": "2022-02-05T13:04:00.522Z"
   },
   {
    "duration": 39,
    "start_time": "2022-02-05T13:04:00.542Z"
   },
   {
    "duration": 39,
    "start_time": "2022-02-05T13:04:00.583Z"
   },
   {
    "duration": 17,
    "start_time": "2022-02-05T13:04:00.625Z"
   },
   {
    "duration": 4,
    "start_time": "2022-02-05T13:04:00.644Z"
   },
   {
    "duration": 1144,
    "start_time": "2022-02-05T13:19:31.173Z"
   },
   {
    "duration": 5438,
    "start_time": "2022-02-05T13:25:37.599Z"
   },
   {
    "duration": 576,
    "start_time": "2022-02-05T13:25:53.233Z"
   },
   {
    "duration": 456,
    "start_time": "2022-02-05T13:25:53.811Z"
   },
   {
    "duration": 6,
    "start_time": "2022-02-05T13:25:54.270Z"
   },
   {
    "duration": 14,
    "start_time": "2022-02-05T13:25:54.278Z"
   },
   {
    "duration": 24,
    "start_time": "2022-02-05T13:25:54.294Z"
   },
   {
    "duration": 16,
    "start_time": "2022-02-05T13:25:54.320Z"
   },
   {
    "duration": 13,
    "start_time": "2022-02-05T13:25:54.337Z"
   },
   {
    "duration": 23,
    "start_time": "2022-02-05T13:25:54.353Z"
   },
   {
    "duration": 54,
    "start_time": "2022-02-05T13:25:54.379Z"
   },
   {
    "duration": 30,
    "start_time": "2022-02-05T13:25:54.435Z"
   },
   {
    "duration": 14,
    "start_time": "2022-02-05T13:25:54.467Z"
   },
   {
    "duration": 41,
    "start_time": "2022-02-05T13:25:54.483Z"
   },
   {
    "duration": 13,
    "start_time": "2022-02-05T13:25:54.526Z"
   },
   {
    "duration": 17,
    "start_time": "2022-02-05T13:25:54.541Z"
   },
   {
    "duration": 26,
    "start_time": "2022-02-05T13:25:54.560Z"
   },
   {
    "duration": 58,
    "start_time": "2022-02-05T13:25:54.588Z"
   },
   {
    "duration": 15,
    "start_time": "2022-02-05T13:25:54.648Z"
   },
   {
    "duration": 36,
    "start_time": "2022-02-05T13:25:54.665Z"
   },
   {
    "duration": 72,
    "start_time": "2022-02-05T13:25:54.702Z"
   },
   {
    "duration": 7,
    "start_time": "2022-02-05T13:25:54.776Z"
   },
   {
    "duration": 38,
    "start_time": "2022-02-05T13:25:54.784Z"
   },
   {
    "duration": 24,
    "start_time": "2022-02-05T13:25:54.824Z"
   },
   {
    "duration": 24,
    "start_time": "2022-02-05T13:25:54.851Z"
   },
   {
    "duration": 53,
    "start_time": "2022-02-05T13:25:54.876Z"
   },
   {
    "duration": 14,
    "start_time": "2022-02-05T13:25:54.931Z"
   },
   {
    "duration": 22,
    "start_time": "2022-02-05T13:25:54.947Z"
   },
   {
    "duration": 20,
    "start_time": "2022-02-05T13:25:54.971Z"
   },
   {
    "duration": 13,
    "start_time": "2022-02-05T13:25:55.019Z"
   },
   {
    "duration": 5,
    "start_time": "2022-02-05T13:25:55.034Z"
   },
   {
    "duration": 24,
    "start_time": "2022-02-05T13:26:50.138Z"
   },
   {
    "duration": 21,
    "start_time": "2022-02-05T13:27:36.161Z"
   },
   {
    "duration": 24,
    "start_time": "2022-02-05T13:27:50.499Z"
   },
   {
    "duration": 27,
    "start_time": "2022-02-05T13:28:10.999Z"
   },
   {
    "duration": 26,
    "start_time": "2022-02-05T13:28:18.186Z"
   },
   {
    "duration": 70,
    "start_time": "2022-02-05T13:44:08.172Z"
   },
   {
    "duration": 456,
    "start_time": "2022-02-05T13:44:26.976Z"
   },
   {
    "duration": 4,
    "start_time": "2022-02-05T13:48:11.730Z"
   },
   {
    "duration": 8,
    "start_time": "2022-02-05T13:55:56.257Z"
   },
   {
    "duration": 18,
    "start_time": "2022-02-05T13:56:19.979Z"
   },
   {
    "duration": 4,
    "start_time": "2022-02-05T14:03:53.841Z"
   },
   {
    "duration": 5550,
    "start_time": "2022-02-05T14:04:44.657Z"
   },
   {
    "duration": 5,
    "start_time": "2022-02-05T14:05:21.057Z"
   },
   {
    "duration": 256,
    "start_time": "2022-02-07T04:05:43.528Z"
   },
   {
    "duration": 582,
    "start_time": "2022-02-07T04:05:51.161Z"
   },
   {
    "duration": 477,
    "start_time": "2022-02-07T04:05:51.745Z"
   },
   {
    "duration": 7,
    "start_time": "2022-02-07T04:05:52.223Z"
   },
   {
    "duration": 21,
    "start_time": "2022-02-07T04:05:52.232Z"
   },
   {
    "duration": 18,
    "start_time": "2022-02-07T04:05:52.255Z"
   },
   {
    "duration": 34,
    "start_time": "2022-02-07T04:05:52.274Z"
   },
   {
    "duration": 8,
    "start_time": "2022-02-07T04:05:52.310Z"
   },
   {
    "duration": 39,
    "start_time": "2022-02-07T04:05:52.320Z"
   },
   {
    "duration": 43,
    "start_time": "2022-02-07T04:05:52.362Z"
   },
   {
    "duration": 34,
    "start_time": "2022-02-07T04:05:52.407Z"
   },
   {
    "duration": 17,
    "start_time": "2022-02-07T04:05:52.443Z"
   },
   {
    "duration": 51,
    "start_time": "2022-02-07T04:05:52.463Z"
   },
   {
    "duration": 17,
    "start_time": "2022-02-07T04:05:52.516Z"
   },
   {
    "duration": 18,
    "start_time": "2022-02-07T04:05:52.535Z"
   },
   {
    "duration": 53,
    "start_time": "2022-02-07T04:05:52.554Z"
   },
   {
    "duration": 31,
    "start_time": "2022-02-07T04:05:52.609Z"
   },
   {
    "duration": 15,
    "start_time": "2022-02-07T04:05:52.641Z"
   },
   {
    "duration": 55,
    "start_time": "2022-02-07T04:05:52.657Z"
   },
   {
    "duration": 62,
    "start_time": "2022-02-07T04:05:52.714Z"
   },
   {
    "duration": 25,
    "start_time": "2022-02-07T04:05:52.778Z"
   },
   {
    "duration": 23,
    "start_time": "2022-02-07T04:05:52.804Z"
   },
   {
    "duration": 23,
    "start_time": "2022-02-07T04:05:52.829Z"
   },
   {
    "duration": 47,
    "start_time": "2022-02-07T04:05:52.855Z"
   },
   {
    "duration": 28,
    "start_time": "2022-02-07T04:05:52.904Z"
   },
   {
    "duration": 11,
    "start_time": "2022-02-07T04:05:52.933Z"
   },
   {
    "duration": 23,
    "start_time": "2022-02-07T04:05:52.945Z"
   },
   {
    "duration": 47,
    "start_time": "2022-02-07T04:05:52.969Z"
   },
   {
    "duration": 10,
    "start_time": "2022-02-07T04:05:53.018Z"
   },
   {
    "duration": 30,
    "start_time": "2022-02-07T04:05:53.030Z"
   },
   {
    "duration": 6140,
    "start_time": "2022-02-07T04:05:53.061Z"
   },
   {
    "duration": 8,
    "start_time": "2022-02-07T04:20:21.209Z"
   },
   {
    "duration": 6446,
    "start_time": "2022-02-07T04:22:02.116Z"
   },
   {
    "duration": 658,
    "start_time": "2022-02-07T04:22:24.801Z"
   },
   {
    "duration": 473,
    "start_time": "2022-02-07T04:22:25.461Z"
   },
   {
    "duration": 7,
    "start_time": "2022-02-07T04:22:25.936Z"
   },
   {
    "duration": 14,
    "start_time": "2022-02-07T04:22:25.945Z"
   },
   {
    "duration": 12,
    "start_time": "2022-02-07T04:22:25.961Z"
   },
   {
    "duration": 40,
    "start_time": "2022-02-07T04:22:25.975Z"
   },
   {
    "duration": 11,
    "start_time": "2022-02-07T04:22:26.017Z"
   },
   {
    "duration": 23,
    "start_time": "2022-02-07T04:22:26.030Z"
   },
   {
    "duration": 62,
    "start_time": "2022-02-07T04:22:26.056Z"
   },
   {
    "duration": 32,
    "start_time": "2022-02-07T04:22:26.120Z"
   },
   {
    "duration": 14,
    "start_time": "2022-02-07T04:22:26.154Z"
   },
   {
    "duration": 42,
    "start_time": "2022-02-07T04:22:26.170Z"
   },
   {
    "duration": 13,
    "start_time": "2022-02-07T04:22:26.214Z"
   },
   {
    "duration": 18,
    "start_time": "2022-02-07T04:22:26.229Z"
   },
   {
    "duration": 54,
    "start_time": "2022-02-07T04:22:26.249Z"
   },
   {
    "duration": 32,
    "start_time": "2022-02-07T04:22:26.305Z"
   },
   {
    "duration": 16,
    "start_time": "2022-02-07T04:22:26.338Z"
   },
   {
    "duration": 59,
    "start_time": "2022-02-07T04:22:26.355Z"
   },
   {
    "duration": 58,
    "start_time": "2022-02-07T04:22:26.416Z"
   },
   {
    "duration": 24,
    "start_time": "2022-02-07T04:22:26.476Z"
   },
   {
    "duration": 27,
    "start_time": "2022-02-07T04:22:26.501Z"
   },
   {
    "duration": 23,
    "start_time": "2022-02-07T04:22:26.530Z"
   },
   {
    "duration": 52,
    "start_time": "2022-02-07T04:22:26.556Z"
   },
   {
    "duration": 24,
    "start_time": "2022-02-07T04:22:26.610Z"
   },
   {
    "duration": 11,
    "start_time": "2022-02-07T04:22:26.636Z"
   },
   {
    "duration": 25,
    "start_time": "2022-02-07T04:22:26.648Z"
   },
   {
    "duration": 42,
    "start_time": "2022-02-07T04:22:26.675Z"
   },
   {
    "duration": 11,
    "start_time": "2022-02-07T04:22:26.719Z"
   },
   {
    "duration": 30,
    "start_time": "2022-02-07T04:22:26.731Z"
   },
   {
    "duration": 6394,
    "start_time": "2022-02-07T04:22:26.764Z"
   },
   {
    "duration": 3,
    "start_time": "2022-02-07T04:31:04.394Z"
   },
   {
    "duration": 179,
    "start_time": "2022-02-07T04:38:36.876Z"
   },
   {
    "duration": 85,
    "start_time": "2022-02-07T04:39:38.908Z"
   },
   {
    "duration": 177,
    "start_time": "2022-02-07T04:39:46.670Z"
   },
   {
    "duration": 178,
    "start_time": "2022-02-07T04:44:46.613Z"
   },
   {
    "duration": 212,
    "start_time": "2022-02-07T04:46:56.405Z"
   },
   {
    "duration": 18,
    "start_time": "2022-02-07T04:47:04.044Z"
   },
   {
    "duration": 5474,
    "start_time": "2022-02-07T04:50:53.913Z"
   },
   {
    "duration": 608,
    "start_time": "2022-02-07T04:51:08.461Z"
   },
   {
    "duration": 479,
    "start_time": "2022-02-07T04:51:09.071Z"
   },
   {
    "duration": 7,
    "start_time": "2022-02-07T04:51:09.552Z"
   },
   {
    "duration": 40,
    "start_time": "2022-02-07T04:51:09.561Z"
   },
   {
    "duration": 21,
    "start_time": "2022-02-07T04:51:09.603Z"
   },
   {
    "duration": 60,
    "start_time": "2022-02-07T04:51:09.626Z"
   },
   {
    "duration": 29,
    "start_time": "2022-02-07T04:51:09.688Z"
   },
   {
    "duration": 45,
    "start_time": "2022-02-07T04:51:09.720Z"
   },
   {
    "duration": 36,
    "start_time": "2022-02-07T04:51:09.767Z"
   },
   {
    "duration": 34,
    "start_time": "2022-02-07T04:51:09.805Z"
   },
   {
    "duration": 15,
    "start_time": "2022-02-07T04:51:09.840Z"
   },
   {
    "duration": 38,
    "start_time": "2022-02-07T04:51:09.857Z"
   },
   {
    "duration": 27,
    "start_time": "2022-02-07T04:51:09.897Z"
   },
   {
    "duration": 33,
    "start_time": "2022-02-07T04:51:09.926Z"
   },
   {
    "duration": 43,
    "start_time": "2022-02-07T04:51:09.960Z"
   },
   {
    "duration": 34,
    "start_time": "2022-02-07T04:51:10.005Z"
   },
   {
    "duration": 15,
    "start_time": "2022-02-07T04:51:10.041Z"
   },
   {
    "duration": 52,
    "start_time": "2022-02-07T04:51:10.058Z"
   },
   {
    "duration": 66,
    "start_time": "2022-02-07T04:51:10.112Z"
   },
   {
    "duration": 23,
    "start_time": "2022-02-07T04:51:10.179Z"
   },
   {
    "duration": 36,
    "start_time": "2022-02-07T04:51:10.204Z"
   },
   {
    "duration": 27,
    "start_time": "2022-02-07T04:51:10.242Z"
   },
   {
    "duration": 34,
    "start_time": "2022-02-07T04:51:10.272Z"
   },
   {
    "duration": 29,
    "start_time": "2022-02-07T04:51:10.308Z"
   },
   {
    "duration": 9,
    "start_time": "2022-02-07T04:51:10.339Z"
   },
   {
    "duration": 49,
    "start_time": "2022-02-07T04:51:10.350Z"
   },
   {
    "duration": 6112,
    "start_time": "2022-02-07T04:51:10.401Z"
   },
   {
    "duration": -782,
    "start_time": "2022-02-07T04:51:17.297Z"
   },
   {
    "duration": -805,
    "start_time": "2022-02-07T04:51:17.321Z"
   },
   {
    "duration": -818,
    "start_time": "2022-02-07T04:51:17.335Z"
   },
   {
    "duration": -826,
    "start_time": "2022-02-07T04:51:17.344Z"
   },
   {
    "duration": 17,
    "start_time": "2022-02-07T04:51:51.549Z"
   },
   {
    "duration": 12,
    "start_time": "2022-02-07T04:53:39.493Z"
   },
   {
    "duration": 27,
    "start_time": "2022-02-07T04:53:47.074Z"
   },
   {
    "duration": 19,
    "start_time": "2022-02-07T04:54:11.356Z"
   },
   {
    "duration": 177,
    "start_time": "2022-02-07T04:54:19.204Z"
   },
   {
    "duration": 19,
    "start_time": "2022-02-07T04:54:23.049Z"
   },
   {
    "duration": 240,
    "start_time": "2022-02-07T05:03:18.041Z"
   },
   {
    "duration": 28,
    "start_time": "2022-02-07T05:03:36.448Z"
   },
   {
    "duration": 28,
    "start_time": "2022-02-07T05:04:13.280Z"
   },
   {
    "duration": 8,
    "start_time": "2022-02-07T05:04:21.927Z"
   },
   {
    "duration": 8,
    "start_time": "2022-02-07T05:07:42.426Z"
   },
   {
    "duration": 9,
    "start_time": "2022-02-07T05:08:00.836Z"
   },
   {
    "duration": 294,
    "start_time": "2022-02-07T05:15:50.822Z"
   },
   {
    "duration": 220,
    "start_time": "2022-02-07T05:17:54.210Z"
   },
   {
    "duration": 222,
    "start_time": "2022-02-07T05:18:04.674Z"
   },
   {
    "duration": 573,
    "start_time": "2022-02-07T05:18:35.440Z"
   },
   {
    "duration": 496,
    "start_time": "2022-02-07T05:18:36.015Z"
   },
   {
    "duration": 7,
    "start_time": "2022-02-07T05:18:36.513Z"
   },
   {
    "duration": 24,
    "start_time": "2022-02-07T05:18:36.522Z"
   },
   {
    "duration": 28,
    "start_time": "2022-02-07T05:18:36.548Z"
   },
   {
    "duration": 24,
    "start_time": "2022-02-07T05:18:36.578Z"
   },
   {
    "duration": 5,
    "start_time": "2022-02-07T05:18:36.604Z"
   },
   {
    "duration": 45,
    "start_time": "2022-02-07T05:18:36.612Z"
   },
   {
    "duration": 38,
    "start_time": "2022-02-07T05:18:36.659Z"
   },
   {
    "duration": 33,
    "start_time": "2022-02-07T05:18:36.698Z"
   },
   {
    "duration": 15,
    "start_time": "2022-02-07T05:18:36.732Z"
   },
   {
    "duration": 35,
    "start_time": "2022-02-07T05:18:36.749Z"
   },
   {
    "duration": 23,
    "start_time": "2022-02-07T05:18:36.786Z"
   },
   {
    "duration": 20,
    "start_time": "2022-02-07T05:18:36.811Z"
   },
   {
    "duration": 24,
    "start_time": "2022-02-07T05:18:36.833Z"
   },
   {
    "duration": 55,
    "start_time": "2022-02-07T05:18:36.859Z"
   },
   {
    "duration": 15,
    "start_time": "2022-02-07T05:18:36.915Z"
   },
   {
    "duration": 43,
    "start_time": "2022-02-07T05:18:36.932Z"
   },
   {
    "duration": 81,
    "start_time": "2022-02-07T05:18:36.977Z"
   },
   {
    "duration": 9,
    "start_time": "2022-02-07T05:18:37.060Z"
   },
   {
    "duration": 38,
    "start_time": "2022-02-07T05:18:37.071Z"
   },
   {
    "duration": 24,
    "start_time": "2022-02-07T05:18:37.111Z"
   },
   {
    "duration": 26,
    "start_time": "2022-02-07T05:18:37.138Z"
   },
   {
    "duration": 55,
    "start_time": "2022-02-07T05:18:37.166Z"
   },
   {
    "duration": 10,
    "start_time": "2022-02-07T05:18:37.223Z"
   },
   {
    "duration": 33,
    "start_time": "2022-02-07T05:18:37.234Z"
   },
   {
    "duration": 31,
    "start_time": "2022-02-07T05:18:37.269Z"
   },
   {
    "duration": 12,
    "start_time": "2022-02-07T05:18:37.302Z"
   },
   {
    "duration": 37,
    "start_time": "2022-02-07T05:18:37.316Z"
   },
   {
    "duration": 183,
    "start_time": "2022-02-07T05:18:37.355Z"
   },
   {
    "duration": 18,
    "start_time": "2022-02-07T05:18:37.540Z"
   },
   {
    "duration": 26,
    "start_time": "2022-02-07T05:18:37.560Z"
   },
   {
    "duration": 20,
    "start_time": "2022-02-07T05:18:37.587Z"
   },
   {
    "duration": 11,
    "start_time": "2022-02-07T05:18:37.609Z"
   },
   {
    "duration": 300,
    "start_time": "2022-02-07T05:18:37.622Z"
   },
   {
    "duration": 495,
    "start_time": "2022-02-07T05:19:51.555Z"
   },
   {
    "duration": 224,
    "start_time": "2022-02-07T05:20:04.577Z"
   },
   {
    "duration": 70,
    "start_time": "2022-02-07T05:27:54.243Z"
   },
   {
    "duration": 339,
    "start_time": "2022-02-07T05:28:18.630Z"
   },
   {
    "duration": 263,
    "start_time": "2022-02-07T05:46:00.139Z"
   },
   {
    "duration": 257,
    "start_time": "2022-02-07T05:57:59.525Z"
   },
   {
    "duration": 238,
    "start_time": "2022-02-07T06:05:44.118Z"
   },
   {
    "duration": 683,
    "start_time": "2022-02-07T06:06:02.553Z"
   },
   {
    "duration": 502,
    "start_time": "2022-02-07T06:06:03.238Z"
   },
   {
    "duration": 7,
    "start_time": "2022-02-07T06:06:03.742Z"
   },
   {
    "duration": 17,
    "start_time": "2022-02-07T06:06:03.751Z"
   },
   {
    "duration": 13,
    "start_time": "2022-02-07T06:06:03.769Z"
   },
   {
    "duration": 17,
    "start_time": "2022-02-07T06:06:03.798Z"
   },
   {
    "duration": 8,
    "start_time": "2022-02-07T06:06:03.816Z"
   },
   {
    "duration": 24,
    "start_time": "2022-02-07T06:06:03.827Z"
   },
   {
    "duration": 63,
    "start_time": "2022-02-07T06:06:03.854Z"
   },
   {
    "duration": 33,
    "start_time": "2022-02-07T06:06:03.918Z"
   },
   {
    "duration": 15,
    "start_time": "2022-02-07T06:06:03.953Z"
   },
   {
    "duration": 45,
    "start_time": "2022-02-07T06:06:03.970Z"
   },
   {
    "duration": 15,
    "start_time": "2022-02-07T06:06:04.017Z"
   },
   {
    "duration": 19,
    "start_time": "2022-02-07T06:06:04.034Z"
   },
   {
    "duration": 53,
    "start_time": "2022-02-07T06:06:04.056Z"
   },
   {
    "duration": 36,
    "start_time": "2022-02-07T06:06:04.111Z"
   },
   {
    "duration": 16,
    "start_time": "2022-02-07T06:06:04.149Z"
   },
   {
    "duration": 61,
    "start_time": "2022-02-07T06:06:04.167Z"
   },
   {
    "duration": 77,
    "start_time": "2022-02-07T06:06:04.230Z"
   },
   {
    "duration": 9,
    "start_time": "2022-02-07T06:06:04.309Z"
   },
   {
    "duration": 24,
    "start_time": "2022-02-07T06:06:04.320Z"
   },
   {
    "duration": 24,
    "start_time": "2022-02-07T06:06:04.346Z"
   },
   {
    "duration": 26,
    "start_time": "2022-02-07T06:06:04.398Z"
   },
   {
    "duration": 29,
    "start_time": "2022-02-07T06:06:04.425Z"
   },
   {
    "duration": 11,
    "start_time": "2022-02-07T06:06:04.456Z"
   },
   {
    "duration": 51,
    "start_time": "2022-02-07T06:06:04.468Z"
   },
   {
    "duration": 17,
    "start_time": "2022-02-07T06:06:04.521Z"
   },
   {
    "duration": 11,
    "start_time": "2022-02-07T06:06:04.540Z"
   },
   {
    "duration": 47,
    "start_time": "2022-02-07T06:06:04.553Z"
   },
   {
    "duration": 191,
    "start_time": "2022-02-07T06:06:04.602Z"
   },
   {
    "duration": 19,
    "start_time": "2022-02-07T06:06:04.799Z"
   },
   {
    "duration": 13,
    "start_time": "2022-02-07T06:06:04.821Z"
   },
   {
    "duration": 6,
    "start_time": "2022-02-07T06:06:04.836Z"
   },
   {
    "duration": 538,
    "start_time": "2022-02-07T06:06:04.844Z"
   },
   {
    "duration": -1301,
    "start_time": "2022-02-07T06:06:06.685Z"
   },
   {
    "duration": -1311,
    "start_time": "2022-02-07T06:06:06.697Z"
   },
   {
    "duration": -1331,
    "start_time": "2022-02-07T06:06:06.719Z"
   },
   {
    "duration": -1343,
    "start_time": "2022-02-07T06:06:06.732Z"
   },
   {
    "duration": 5,
    "start_time": "2022-02-07T06:08:20.176Z"
   },
   {
    "duration": 464,
    "start_time": "2022-02-07T06:08:25.210Z"
   },
   {
    "duration": 6,
    "start_time": "2022-02-07T06:09:06.653Z"
   },
   {
    "duration": 499,
    "start_time": "2022-02-07T06:09:09.365Z"
   },
   {
    "duration": 6,
    "start_time": "2022-02-07T06:09:23.533Z"
   },
   {
    "duration": 539,
    "start_time": "2022-02-07T06:09:25.486Z"
   },
   {
    "duration": 6,
    "start_time": "2022-02-07T06:10:20.048Z"
   },
   {
    "duration": 500,
    "start_time": "2022-02-07T06:10:22.298Z"
   },
   {
    "duration": 6,
    "start_time": "2022-02-07T06:11:58.001Z"
   },
   {
    "duration": 501,
    "start_time": "2022-02-07T06:12:00.456Z"
   },
   {
    "duration": 5,
    "start_time": "2022-02-07T06:12:23.209Z"
   },
   {
    "duration": 493,
    "start_time": "2022-02-07T06:12:26.823Z"
   },
   {
    "duration": 488,
    "start_time": "2022-02-07T06:30:05.810Z"
   },
   {
    "duration": 470,
    "start_time": "2022-02-07T06:31:06.659Z"
   },
   {
    "duration": 502,
    "start_time": "2022-02-07T06:51:55.101Z"
   },
   {
    "duration": 5,
    "start_time": "2022-02-07T06:52:29.064Z"
   },
   {
    "duration": 418,
    "start_time": "2022-02-07T06:52:32.098Z"
   },
   {
    "duration": 471,
    "start_time": "2022-02-07T06:55:17.472Z"
   },
   {
    "duration": 461,
    "start_time": "2022-02-07T08:44:59.012Z"
   },
   {
    "duration": 73,
    "start_time": "2022-02-07T08:46:10.269Z"
   },
   {
    "duration": 6,
    "start_time": "2022-02-07T08:46:27.747Z"
   },
   {
    "duration": 513,
    "start_time": "2022-02-07T08:46:33.427Z"
   },
   {
    "duration": 520,
    "start_time": "2022-02-07T08:47:00.139Z"
   },
   {
    "duration": 7,
    "start_time": "2022-02-07T09:06:31.063Z"
   },
   {
    "duration": 509,
    "start_time": "2022-02-07T09:06:36.681Z"
   },
   {
    "duration": 499,
    "start_time": "2022-02-07T09:06:40.743Z"
   },
   {
    "duration": 74,
    "start_time": "2022-02-07T09:14:19.379Z"
   },
   {
    "duration": 510,
    "start_time": "2022-02-07T09:14:22.250Z"
   },
   {
    "duration": 500,
    "start_time": "2022-02-07T09:29:10.391Z"
   },
   {
    "duration": 217,
    "start_time": "2022-02-07T09:34:16.521Z"
   },
   {
    "duration": 6,
    "start_time": "2022-02-07T09:34:52.299Z"
   },
   {
    "duration": 509,
    "start_time": "2022-02-07T09:34:54.610Z"
   },
   {
    "duration": 471,
    "start_time": "2022-02-07T09:35:25.812Z"
   },
   {
    "duration": 482,
    "start_time": "2022-02-07T09:53:22.044Z"
   },
   {
    "duration": 6,
    "start_time": "2022-02-07T09:56:08.999Z"
   },
   {
    "duration": 35,
    "start_time": "2022-02-07T09:59:54.011Z"
   },
   {
    "duration": 677,
    "start_time": "2022-02-07T10:00:05.750Z"
   },
   {
    "duration": 554,
    "start_time": "2022-02-07T10:00:06.429Z"
   },
   {
    "duration": 8,
    "start_time": "2022-02-07T10:00:06.986Z"
   },
   {
    "duration": 22,
    "start_time": "2022-02-07T10:00:06.999Z"
   },
   {
    "duration": 33,
    "start_time": "2022-02-07T10:00:07.023Z"
   },
   {
    "duration": 43,
    "start_time": "2022-02-07T10:00:07.058Z"
   },
   {
    "duration": 25,
    "start_time": "2022-02-07T10:00:07.103Z"
   },
   {
    "duration": 39,
    "start_time": "2022-02-07T10:00:07.131Z"
   },
   {
    "duration": 49,
    "start_time": "2022-02-07T10:00:07.172Z"
   },
   {
    "duration": 32,
    "start_time": "2022-02-07T10:00:07.223Z"
   },
   {
    "duration": 23,
    "start_time": "2022-02-07T10:00:07.257Z"
   },
   {
    "duration": 40,
    "start_time": "2022-02-07T10:00:07.282Z"
   },
   {
    "duration": 27,
    "start_time": "2022-02-07T10:00:07.324Z"
   },
   {
    "duration": 38,
    "start_time": "2022-02-07T10:00:07.353Z"
   },
   {
    "duration": 31,
    "start_time": "2022-02-07T10:00:07.393Z"
   },
   {
    "duration": 37,
    "start_time": "2022-02-07T10:00:07.426Z"
   },
   {
    "duration": 23,
    "start_time": "2022-02-07T10:00:07.464Z"
   },
   {
    "duration": 62,
    "start_time": "2022-02-07T10:00:07.489Z"
   },
   {
    "duration": 67,
    "start_time": "2022-02-07T10:00:07.553Z"
   },
   {
    "duration": 9,
    "start_time": "2022-02-07T10:00:07.623Z"
   },
   {
    "duration": 27,
    "start_time": "2022-02-07T10:00:07.634Z"
   },
   {
    "duration": 57,
    "start_time": "2022-02-07T10:00:07.663Z"
   },
   {
    "duration": 26,
    "start_time": "2022-02-07T10:00:07.725Z"
   },
   {
    "duration": 54,
    "start_time": "2022-02-07T10:00:07.753Z"
   },
   {
    "duration": 11,
    "start_time": "2022-02-07T10:00:07.809Z"
   },
   {
    "duration": 32,
    "start_time": "2022-02-07T10:00:07.822Z"
   },
   {
    "duration": 31,
    "start_time": "2022-02-07T10:00:07.855Z"
   },
   {
    "duration": 18,
    "start_time": "2022-02-07T10:00:07.888Z"
   },
   {
    "duration": 12,
    "start_time": "2022-02-07T10:00:07.907Z"
   },
   {
    "duration": 32,
    "start_time": "2022-02-07T10:00:07.920Z"
   },
   {
    "duration": 217,
    "start_time": "2022-02-07T10:00:07.954Z"
   },
   {
    "duration": 33,
    "start_time": "2022-02-07T10:00:08.173Z"
   },
   {
    "duration": 9,
    "start_time": "2022-02-07T10:00:08.208Z"
   },
   {
    "duration": 6,
    "start_time": "2022-02-07T10:00:08.219Z"
   },
   {
    "duration": 545,
    "start_time": "2022-02-07T10:00:08.227Z"
   },
   {
    "duration": 481,
    "start_time": "2022-02-07T10:00:08.774Z"
   },
   {
    "duration": 556,
    "start_time": "2022-02-07T10:00:09.257Z"
   },
   {
    "duration": 7,
    "start_time": "2022-02-07T10:01:20.338Z"
   },
   {
    "duration": 493,
    "start_time": "2022-02-07T10:01:22.884Z"
   },
   {
    "duration": 490,
    "start_time": "2022-02-07T10:01:34.762Z"
   },
   {
    "duration": 484,
    "start_time": "2022-02-07T10:02:46.476Z"
   },
   {
    "duration": 7,
    "start_time": "2022-02-07T10:36:56.009Z"
   },
   {
    "duration": 500,
    "start_time": "2022-02-07T10:36:58.857Z"
   },
   {
    "duration": 7,
    "start_time": "2022-02-07T10:37:11.287Z"
   },
   {
    "duration": 259,
    "start_time": "2022-02-08T07:43:33.635Z"
   },
   {
    "duration": 628,
    "start_time": "2022-02-08T07:43:44.760Z"
   },
   {
    "duration": 415,
    "start_time": "2022-02-08T07:43:45.389Z"
   },
   {
    "duration": 6,
    "start_time": "2022-02-08T07:43:45.805Z"
   },
   {
    "duration": 11,
    "start_time": "2022-02-08T07:43:45.813Z"
   },
   {
    "duration": 9,
    "start_time": "2022-02-08T07:43:45.826Z"
   },
   {
    "duration": 14,
    "start_time": "2022-02-08T07:43:45.837Z"
   },
   {
    "duration": 5,
    "start_time": "2022-02-08T07:43:45.853Z"
   },
   {
    "duration": 52,
    "start_time": "2022-02-08T07:43:45.860Z"
   },
   {
    "duration": 32,
    "start_time": "2022-02-08T07:43:45.915Z"
   },
   {
    "duration": 28,
    "start_time": "2022-02-08T07:43:45.948Z"
   },
   {
    "duration": 38,
    "start_time": "2022-02-08T07:43:45.977Z"
   },
   {
    "duration": 19,
    "start_time": "2022-02-08T07:43:46.017Z"
   },
   {
    "duration": 13,
    "start_time": "2022-02-08T07:43:46.037Z"
   },
   {
    "duration": 15,
    "start_time": "2022-02-08T07:43:46.051Z"
   },
   {
    "duration": 50,
    "start_time": "2022-02-08T07:43:46.068Z"
   },
   {
    "duration": 25,
    "start_time": "2022-02-08T07:43:46.120Z"
   },
   {
    "duration": 12,
    "start_time": "2022-02-08T07:43:46.147Z"
   },
   {
    "duration": 52,
    "start_time": "2022-02-08T07:43:46.161Z"
   },
   {
    "duration": 56,
    "start_time": "2022-02-08T07:43:46.215Z"
   },
   {
    "duration": 7,
    "start_time": "2022-02-08T07:43:46.273Z"
   },
   {
    "duration": 38,
    "start_time": "2022-02-08T07:43:46.282Z"
   },
   {
    "duration": 21,
    "start_time": "2022-02-08T07:43:46.322Z"
   },
   {
    "duration": 21,
    "start_time": "2022-02-08T07:43:46.346Z"
   },
   {
    "duration": 49,
    "start_time": "2022-02-08T07:43:46.369Z"
   },
   {
    "duration": 9,
    "start_time": "2022-02-08T07:43:46.420Z"
   },
   {
    "duration": 20,
    "start_time": "2022-02-08T07:43:46.430Z"
   },
   {
    "duration": 14,
    "start_time": "2022-02-08T07:43:46.452Z"
   },
   {
    "duration": 10,
    "start_time": "2022-02-08T07:43:46.467Z"
   },
   {
    "duration": 45,
    "start_time": "2022-02-08T07:43:46.479Z"
   },
   {
    "duration": 199,
    "start_time": "2022-02-08T07:43:46.525Z"
   },
   {
    "duration": 16,
    "start_time": "2022-02-08T07:43:46.726Z"
   },
   {
    "duration": 9,
    "start_time": "2022-02-08T07:43:46.743Z"
   },
   {
    "duration": 6,
    "start_time": "2022-02-08T07:43:46.753Z"
   },
   {
    "duration": 464,
    "start_time": "2022-02-08T07:43:46.760Z"
   },
   {
    "duration": 437,
    "start_time": "2022-02-08T07:43:47.226Z"
   },
   {
    "duration": 481,
    "start_time": "2022-02-08T07:43:47.665Z"
   },
   {
    "duration": 440,
    "start_time": "2022-02-08T07:43:48.147Z"
   },
   {
    "duration": 1040,
    "start_time": "2022-02-08T08:12:38.148Z"
   },
   {
    "duration": 410,
    "start_time": "2022-02-08T08:12:39.190Z"
   },
   {
    "duration": 10,
    "start_time": "2022-02-08T08:12:39.602Z"
   },
   {
    "duration": 10,
    "start_time": "2022-02-08T08:12:39.614Z"
   },
   {
    "duration": 11,
    "start_time": "2022-02-08T08:12:39.625Z"
   },
   {
    "duration": 17,
    "start_time": "2022-02-08T08:12:39.638Z"
   },
   {
    "duration": 10,
    "start_time": "2022-02-08T08:12:39.656Z"
   },
   {
    "duration": 47,
    "start_time": "2022-02-08T08:12:39.668Z"
   },
   {
    "duration": 32,
    "start_time": "2022-02-08T08:12:39.717Z"
   },
   {
    "duration": 26,
    "start_time": "2022-02-08T08:12:39.751Z"
   },
   {
    "duration": 33,
    "start_time": "2022-02-08T08:12:39.779Z"
   },
   {
    "duration": 19,
    "start_time": "2022-02-08T08:12:39.814Z"
   },
   {
    "duration": 12,
    "start_time": "2022-02-08T08:12:39.835Z"
   },
   {
    "duration": 16,
    "start_time": "2022-02-08T08:12:39.849Z"
   },
   {
    "duration": 51,
    "start_time": "2022-02-08T08:12:39.866Z"
   },
   {
    "duration": 29,
    "start_time": "2022-02-08T08:12:39.918Z"
   },
   {
    "duration": 13,
    "start_time": "2022-02-08T08:12:39.949Z"
   },
   {
    "duration": 56,
    "start_time": "2022-02-08T08:12:39.965Z"
   },
   {
    "duration": 56,
    "start_time": "2022-02-08T08:12:40.024Z"
   },
   {
    "duration": 8,
    "start_time": "2022-02-08T08:12:40.082Z"
   },
   {
    "duration": 40,
    "start_time": "2022-02-08T08:12:40.092Z"
   },
   {
    "duration": 21,
    "start_time": "2022-02-08T08:12:40.134Z"
   },
   {
    "duration": 22,
    "start_time": "2022-02-08T08:12:40.159Z"
   },
   {
    "duration": 54,
    "start_time": "2022-02-08T08:12:40.183Z"
   },
   {
    "duration": 9,
    "start_time": "2022-02-08T08:12:40.239Z"
   },
   {
    "duration": 21,
    "start_time": "2022-02-08T08:12:40.249Z"
   },
   {
    "duration": 41,
    "start_time": "2022-02-08T08:12:40.271Z"
   },
   {
    "duration": 10,
    "start_time": "2022-02-08T08:12:40.314Z"
   },
   {
    "duration": 17,
    "start_time": "2022-02-08T08:12:40.326Z"
   },
   {
    "duration": 215,
    "start_time": "2022-02-08T08:12:40.345Z"
   },
   {
    "duration": 15,
    "start_time": "2022-02-08T08:12:40.562Z"
   },
   {
    "duration": 10,
    "start_time": "2022-02-08T08:12:40.579Z"
   },
   {
    "duration": 22,
    "start_time": "2022-02-08T08:12:40.591Z"
   },
   {
    "duration": 450,
    "start_time": "2022-02-08T08:12:40.615Z"
   },
   {
    "duration": 440,
    "start_time": "2022-02-08T08:12:41.066Z"
   },
   {
    "duration": 425,
    "start_time": "2022-02-08T08:12:41.508Z"
   },
   {
    "duration": 439,
    "start_time": "2022-02-08T08:12:41.934Z"
   },
   {
    "duration": 6,
    "start_time": "2022-02-08T08:18:16.849Z"
   },
   {
    "duration": 3,
    "start_time": "2022-02-08T08:21:36.401Z"
   },
   {
    "duration": 5,
    "start_time": "2022-02-08T08:21:44.329Z"
   },
   {
    "duration": 1091,
    "start_time": "2022-02-08T08:21:53.089Z"
   },
   {
    "duration": 397,
    "start_time": "2022-02-08T08:21:54.182Z"
   },
   {
    "duration": 6,
    "start_time": "2022-02-08T08:21:54.581Z"
   },
   {
    "duration": 13,
    "start_time": "2022-02-08T08:21:54.588Z"
   },
   {
    "duration": 9,
    "start_time": "2022-02-08T08:21:54.612Z"
   },
   {
    "duration": 31,
    "start_time": "2022-02-08T08:21:54.622Z"
   },
   {
    "duration": 7,
    "start_time": "2022-02-08T08:21:54.655Z"
   },
   {
    "duration": 20,
    "start_time": "2022-02-08T08:21:54.665Z"
   },
   {
    "duration": 52,
    "start_time": "2022-02-08T08:21:54.687Z"
   },
   {
    "duration": 26,
    "start_time": "2022-02-08T08:21:54.740Z"
   },
   {
    "duration": 13,
    "start_time": "2022-02-08T08:21:54.767Z"
   },
   {
    "duration": 43,
    "start_time": "2022-02-08T08:21:54.782Z"
   },
   {
    "duration": 13,
    "start_time": "2022-02-08T08:21:54.826Z"
   },
   {
    "duration": 15,
    "start_time": "2022-02-08T08:21:54.840Z"
   },
   {
    "duration": 22,
    "start_time": "2022-02-08T08:21:54.857Z"
   },
   {
    "duration": 50,
    "start_time": "2022-02-08T08:21:54.881Z"
   },
   {
    "duration": 12,
    "start_time": "2022-02-08T08:21:54.933Z"
   },
   {
    "duration": 31,
    "start_time": "2022-02-08T08:21:54.946Z"
   },
   {
    "duration": 77,
    "start_time": "2022-02-08T08:21:54.978Z"
   },
   {
    "duration": 7,
    "start_time": "2022-02-08T08:21:55.057Z"
   },
   {
    "duration": 23,
    "start_time": "2022-02-08T08:21:55.065Z"
   },
   {
    "duration": 37,
    "start_time": "2022-02-08T08:21:55.089Z"
   },
   {
    "duration": 22,
    "start_time": "2022-02-08T08:21:55.129Z"
   },
   {
    "duration": 27,
    "start_time": "2022-02-08T08:21:55.153Z"
   },
   {
    "duration": 32,
    "start_time": "2022-02-08T08:21:55.182Z"
   },
   {
    "duration": 18,
    "start_time": "2022-02-08T08:21:55.215Z"
   },
   {
    "duration": 14,
    "start_time": "2022-02-08T08:21:55.234Z"
   },
   {
    "duration": 9,
    "start_time": "2022-02-08T08:21:55.249Z"
   },
   {
    "duration": 14,
    "start_time": "2022-02-08T08:21:55.260Z"
   },
   {
    "duration": 227,
    "start_time": "2022-02-08T08:21:55.276Z"
   },
   {
    "duration": 16,
    "start_time": "2022-02-08T08:21:55.505Z"
   },
   {
    "duration": 7,
    "start_time": "2022-02-08T08:21:55.523Z"
   },
   {
    "duration": 5,
    "start_time": "2022-02-08T08:21:55.532Z"
   },
   {
    "duration": 456,
    "start_time": "2022-02-08T08:21:55.539Z"
   },
   {
    "duration": 461,
    "start_time": "2022-02-08T08:21:55.997Z"
   },
   {
    "duration": 441,
    "start_time": "2022-02-08T08:21:56.459Z"
   },
   {
    "duration": 435,
    "start_time": "2022-02-08T08:21:56.901Z"
   },
   {
    "duration": 5,
    "start_time": "2022-02-08T08:21:57.337Z"
   },
   {
    "duration": 7,
    "start_time": "2022-02-08T08:40:39.594Z"
   },
   {
    "duration": 2387,
    "start_time": "2022-02-08T08:50:46.509Z"
   },
   {
    "duration": 257,
    "start_time": "2022-02-08T08:51:28.923Z"
   },
   {
    "duration": 299,
    "start_time": "2022-02-08T08:56:08.197Z"
   },
   {
    "duration": 1080,
    "start_time": "2022-02-08T08:56:28.705Z"
   },
   {
    "duration": 436,
    "start_time": "2022-02-08T08:56:29.787Z"
   },
   {
    "duration": 7,
    "start_time": "2022-02-08T08:56:30.225Z"
   },
   {
    "duration": 19,
    "start_time": "2022-02-08T08:56:30.235Z"
   },
   {
    "duration": 17,
    "start_time": "2022-02-08T08:56:30.256Z"
   },
   {
    "duration": 37,
    "start_time": "2022-02-08T08:56:30.275Z"
   },
   {
    "duration": 7,
    "start_time": "2022-02-08T08:56:30.314Z"
   },
   {
    "duration": 24,
    "start_time": "2022-02-08T08:56:30.323Z"
   },
   {
    "duration": 35,
    "start_time": "2022-02-08T08:56:30.351Z"
   },
   {
    "duration": 29,
    "start_time": "2022-02-08T08:56:30.413Z"
   },
   {
    "duration": 15,
    "start_time": "2022-02-08T08:56:30.445Z"
   },
   {
    "duration": 49,
    "start_time": "2022-02-08T08:56:30.462Z"
   },
   {
    "duration": 14,
    "start_time": "2022-02-08T08:56:30.513Z"
   },
   {
    "duration": 18,
    "start_time": "2022-02-08T08:56:30.529Z"
   },
   {
    "duration": 25,
    "start_time": "2022-02-08T08:56:30.549Z"
   },
   {
    "duration": 57,
    "start_time": "2022-02-08T08:56:30.576Z"
   },
   {
    "duration": 14,
    "start_time": "2022-02-08T08:56:30.635Z"
   },
   {
    "duration": 34,
    "start_time": "2022-02-08T08:56:30.651Z"
   },
   {
    "duration": 81,
    "start_time": "2022-02-08T08:56:30.686Z"
   },
   {
    "duration": 7,
    "start_time": "2022-02-08T08:56:30.769Z"
   },
   {
    "duration": 38,
    "start_time": "2022-02-08T08:56:30.778Z"
   },
   {
    "duration": 24,
    "start_time": "2022-02-08T08:56:30.817Z"
   },
   {
    "duration": 23,
    "start_time": "2022-02-08T08:56:30.842Z"
   },
   {
    "duration": 53,
    "start_time": "2022-02-08T08:56:30.866Z"
   },
   {
    "duration": 10,
    "start_time": "2022-02-08T08:56:30.921Z"
   },
   {
    "duration": 18,
    "start_time": "2022-02-08T08:56:30.933Z"
   },
   {
    "duration": 13,
    "start_time": "2022-02-08T08:56:30.954Z"
   },
   {
    "duration": 9,
    "start_time": "2022-02-08T08:56:30.970Z"
   },
   {
    "duration": 14,
    "start_time": "2022-02-08T08:56:31.013Z"
   },
   {
    "duration": 196,
    "start_time": "2022-02-08T08:56:31.029Z"
   },
   {
    "duration": 11,
    "start_time": "2022-02-08T08:56:31.226Z"
   },
   {
    "duration": 18,
    "start_time": "2022-02-08T08:56:31.239Z"
   },
   {
    "duration": 6,
    "start_time": "2022-02-08T08:56:31.258Z"
   },
   {
    "duration": 463,
    "start_time": "2022-02-08T08:56:31.265Z"
   },
   {
    "duration": 456,
    "start_time": "2022-02-08T08:56:31.730Z"
   },
   {
    "duration": 445,
    "start_time": "2022-02-08T08:56:32.187Z"
   },
   {
    "duration": 454,
    "start_time": "2022-02-08T08:56:32.634Z"
   },
   {
    "duration": 5,
    "start_time": "2022-02-08T08:56:33.089Z"
   },
   {
    "duration": 285,
    "start_time": "2022-02-08T08:56:33.096Z"
   },
   {
    "duration": 330,
    "start_time": "2022-02-08T08:56:33.382Z"
   },
   {
    "duration": 15,
    "start_time": "2022-02-08T08:57:12.013Z"
   },
   {
    "duration": 238,
    "start_time": "2022-02-08T08:59:13.771Z"
   },
   {
    "duration": 265,
    "start_time": "2022-02-08T09:00:33.296Z"
   },
   {
    "duration": 196,
    "start_time": "2022-02-08T09:22:52.809Z"
   },
   {
    "duration": 5,
    "start_time": "2022-02-08T09:38:38.371Z"
   },
   {
    "duration": 5,
    "start_time": "2022-02-08T09:38:48.325Z"
   },
   {
    "duration": 5,
    "start_time": "2022-02-08T09:39:15.685Z"
   },
   {
    "duration": 452,
    "start_time": "2022-02-08T09:53:59.749Z"
   },
   {
    "duration": 441,
    "start_time": "2022-02-08T09:55:08.660Z"
   },
   {
    "duration": 5,
    "start_time": "2022-02-08T10:08:10.189Z"
   },
   {
    "duration": 1021,
    "start_time": "2022-02-08T10:24:05.773Z"
   },
   {
    "duration": 451,
    "start_time": "2022-02-08T10:24:06.795Z"
   },
   {
    "duration": 6,
    "start_time": "2022-02-08T10:24:07.248Z"
   },
   {
    "duration": 12,
    "start_time": "2022-02-08T10:24:07.256Z"
   },
   {
    "duration": 10,
    "start_time": "2022-02-08T10:24:07.270Z"
   },
   {
    "duration": 38,
    "start_time": "2022-02-08T10:24:07.281Z"
   },
   {
    "duration": 5,
    "start_time": "2022-02-08T10:24:07.320Z"
   },
   {
    "duration": 20,
    "start_time": "2022-02-08T10:24:07.328Z"
   },
   {
    "duration": 33,
    "start_time": "2022-02-08T10:24:07.350Z"
   },
   {
    "duration": 52,
    "start_time": "2022-02-08T10:24:07.384Z"
   },
   {
    "duration": 14,
    "start_time": "2022-02-08T10:24:07.438Z"
   },
   {
    "duration": 24,
    "start_time": "2022-02-08T10:24:07.453Z"
   },
   {
    "duration": 37,
    "start_time": "2022-02-08T10:24:07.479Z"
   },
   {
    "duration": 16,
    "start_time": "2022-02-08T10:24:07.517Z"
   },
   {
    "duration": 22,
    "start_time": "2022-02-08T10:24:07.535Z"
   },
   {
    "duration": 25,
    "start_time": "2022-02-08T10:24:07.558Z"
   },
   {
    "duration": 39,
    "start_time": "2022-02-08T10:24:07.584Z"
   },
   {
    "duration": 33,
    "start_time": "2022-02-08T10:24:07.625Z"
   },
   {
    "duration": 79,
    "start_time": "2022-02-08T10:24:07.660Z"
   },
   {
    "duration": 8,
    "start_time": "2022-02-08T10:24:07.741Z"
   },
   {
    "duration": 20,
    "start_time": "2022-02-08T10:24:07.751Z"
   },
   {
    "duration": 51,
    "start_time": "2022-02-08T10:24:07.773Z"
   },
   {
    "duration": 22,
    "start_time": "2022-02-08T10:24:07.829Z"
   },
   {
    "duration": 28,
    "start_time": "2022-02-08T10:24:07.853Z"
   },
   {
    "duration": 30,
    "start_time": "2022-02-08T10:24:07.883Z"
   },
   {
    "duration": 21,
    "start_time": "2022-02-08T10:24:07.915Z"
   },
   {
    "duration": 15,
    "start_time": "2022-02-08T10:24:07.938Z"
   },
   {
    "duration": 9,
    "start_time": "2022-02-08T10:24:07.955Z"
   },
   {
    "duration": 52,
    "start_time": "2022-02-08T10:24:07.966Z"
   },
   {
    "duration": 200,
    "start_time": "2022-02-08T10:24:08.020Z"
   },
   {
    "duration": 11,
    "start_time": "2022-02-08T10:24:08.222Z"
   },
   {
    "duration": 7,
    "start_time": "2022-02-08T10:24:08.234Z"
   },
   {
    "duration": 6,
    "start_time": "2022-02-08T10:24:08.243Z"
   },
   {
    "duration": 469,
    "start_time": "2022-02-08T10:24:08.250Z"
   },
   {
    "duration": 433,
    "start_time": "2022-02-08T10:24:08.720Z"
   },
   {
    "duration": 434,
    "start_time": "2022-02-08T10:24:09.155Z"
   },
   {
    "duration": 443,
    "start_time": "2022-02-08T10:24:09.591Z"
   },
   {
    "duration": 6,
    "start_time": "2022-02-08T10:24:10.036Z"
   },
   {
    "duration": 274,
    "start_time": "2022-02-08T10:24:10.044Z"
   },
   {
    "duration": 16,
    "start_time": "2022-02-08T10:24:10.320Z"
   },
   {
    "duration": 261,
    "start_time": "2022-02-08T10:24:10.338Z"
   },
   {
    "duration": 11,
    "start_time": "2022-02-08T10:24:10.601Z"
   },
   {
    "duration": 1315,
    "start_time": "2022-02-10T02:46:43.785Z"
   },
   {
    "duration": 530,
    "start_time": "2022-02-10T02:46:45.103Z"
   },
   {
    "duration": 20,
    "start_time": "2022-02-10T02:46:45.636Z"
   },
   {
    "duration": 18,
    "start_time": "2022-02-10T02:46:45.660Z"
   },
   {
    "duration": 18,
    "start_time": "2022-02-10T02:46:45.681Z"
   },
   {
    "duration": 66,
    "start_time": "2022-02-10T02:46:45.702Z"
   },
   {
    "duration": 10,
    "start_time": "2022-02-10T02:46:45.771Z"
   },
   {
    "duration": 26,
    "start_time": "2022-02-10T02:46:45.786Z"
   },
   {
    "duration": 48,
    "start_time": "2022-02-10T02:46:45.850Z"
   },
   {
    "duration": 67,
    "start_time": "2022-02-10T02:46:45.901Z"
   },
   {
    "duration": 17,
    "start_time": "2022-02-10T02:46:45.970Z"
   },
   {
    "duration": 28,
    "start_time": "2022-02-10T02:46:45.990Z"
   },
   {
    "duration": 43,
    "start_time": "2022-02-10T02:46:46.020Z"
   },
   {
    "duration": 23,
    "start_time": "2022-02-10T02:46:46.066Z"
   },
   {
    "duration": 64,
    "start_time": "2022-02-10T02:46:46.092Z"
   },
   {
    "duration": 37,
    "start_time": "2022-02-10T02:46:46.159Z"
   },
   {
    "duration": 18,
    "start_time": "2022-02-10T02:46:46.198Z"
   },
   {
    "duration": 42,
    "start_time": "2022-02-10T02:46:46.249Z"
   },
   {
    "duration": 103,
    "start_time": "2022-02-10T02:46:46.293Z"
   },
   {
    "duration": 10,
    "start_time": "2022-02-10T02:46:46.399Z"
   },
   {
    "duration": 54,
    "start_time": "2022-02-10T02:46:46.411Z"
   },
   {
    "duration": 30,
    "start_time": "2022-02-10T02:46:46.468Z"
   },
   {
    "duration": 61,
    "start_time": "2022-02-10T02:46:46.503Z"
   },
   {
    "duration": 37,
    "start_time": "2022-02-10T02:46:46.568Z"
   },
   {
    "duration": 40,
    "start_time": "2022-02-10T02:46:46.608Z"
   },
   {
    "duration": 29,
    "start_time": "2022-02-10T02:46:46.651Z"
   },
   {
    "duration": 21,
    "start_time": "2022-02-10T02:46:46.683Z"
   },
   {
    "duration": 14,
    "start_time": "2022-02-10T02:46:46.706Z"
   },
   {
    "duration": 24,
    "start_time": "2022-02-10T02:46:46.749Z"
   },
   {
    "duration": 375,
    "start_time": "2022-02-10T02:46:46.775Z"
   },
   {
    "duration": 29,
    "start_time": "2022-02-10T02:46:47.153Z"
   },
   {
    "duration": 18,
    "start_time": "2022-02-10T02:46:47.185Z"
   },
   {
    "duration": 42,
    "start_time": "2022-02-10T02:46:47.206Z"
   },
   {
    "duration": 746,
    "start_time": "2022-02-10T02:46:47.252Z"
   },
   {
    "duration": 679,
    "start_time": "2022-02-10T02:46:48.000Z"
   },
   {
    "duration": 785,
    "start_time": "2022-02-10T02:46:48.681Z"
   },
   {
    "duration": 910,
    "start_time": "2022-02-10T02:46:49.468Z"
   },
   {
    "duration": 9,
    "start_time": "2022-02-10T02:46:50.381Z"
   },
   {
    "duration": 629,
    "start_time": "2022-02-10T02:46:50.393Z"
   },
   {
    "duration": 26,
    "start_time": "2022-02-10T02:46:51.024Z"
   },
   {
    "duration": 379,
    "start_time": "2022-02-10T02:46:51.053Z"
   },
   {
    "duration": 16,
    "start_time": "2022-02-10T02:46:51.435Z"
   },
   {
    "duration": 1212,
    "start_time": "2022-02-15T16:16:26.657Z"
   },
   {
    "duration": 497,
    "start_time": "2022-02-15T16:16:27.871Z"
   },
   {
    "duration": 8,
    "start_time": "2022-02-15T16:16:28.371Z"
   },
   {
    "duration": 12,
    "start_time": "2022-02-15T16:16:28.381Z"
   },
   {
    "duration": 13,
    "start_time": "2022-02-15T16:16:28.395Z"
   },
   {
    "duration": 17,
    "start_time": "2022-02-15T16:16:28.410Z"
   },
   {
    "duration": 40,
    "start_time": "2022-02-15T16:16:28.429Z"
   },
   {
    "duration": 22,
    "start_time": "2022-02-15T16:16:28.472Z"
   },
   {
    "duration": 36,
    "start_time": "2022-02-15T16:16:28.496Z"
   },
   {
    "duration": 65,
    "start_time": "2022-02-15T16:16:28.534Z"
   },
   {
    "duration": 16,
    "start_time": "2022-02-15T16:16:28.601Z"
   },
   {
    "duration": 32,
    "start_time": "2022-02-15T16:16:28.619Z"
   },
   {
    "duration": 25,
    "start_time": "2022-02-15T16:16:28.653Z"
   },
   {
    "duration": 20,
    "start_time": "2022-02-15T16:16:28.680Z"
   },
   {
    "duration": 25,
    "start_time": "2022-02-15T16:16:28.702Z"
   },
   {
    "duration": 60,
    "start_time": "2022-02-15T16:16:28.729Z"
   },
   {
    "duration": 15,
    "start_time": "2022-02-15T16:16:28.791Z"
   },
   {
    "duration": 53,
    "start_time": "2022-02-15T16:16:28.808Z"
   },
   {
    "duration": 67,
    "start_time": "2022-02-15T16:16:28.863Z"
   },
   {
    "duration": 10,
    "start_time": "2022-02-15T16:16:28.932Z"
   },
   {
    "duration": 47,
    "start_time": "2022-02-15T16:16:28.944Z"
   },
   {
    "duration": 27,
    "start_time": "2022-02-15T16:16:28.993Z"
   },
   {
    "duration": 51,
    "start_time": "2022-02-15T16:16:29.025Z"
   },
   {
    "duration": 32,
    "start_time": "2022-02-15T16:16:29.079Z"
   },
   {
    "duration": 11,
    "start_time": "2022-02-15T16:16:29.113Z"
   },
   {
    "duration": 47,
    "start_time": "2022-02-15T16:16:29.126Z"
   },
   {
    "duration": 17,
    "start_time": "2022-02-15T16:16:29.176Z"
   },
   {
    "duration": 11,
    "start_time": "2022-02-15T16:16:29.195Z"
   },
   {
    "duration": 25,
    "start_time": "2022-02-15T16:16:29.208Z"
   },
   {
    "duration": 244,
    "start_time": "2022-02-15T16:16:29.234Z"
   },
   {
    "duration": 14,
    "start_time": "2022-02-15T16:16:29.480Z"
   },
   {
    "duration": 13,
    "start_time": "2022-02-15T16:16:29.496Z"
   },
   {
    "duration": 8,
    "start_time": "2022-02-15T16:16:29.511Z"
   },
   {
    "duration": 568,
    "start_time": "2022-02-15T16:16:29.521Z"
   },
   {
    "duration": 517,
    "start_time": "2022-02-15T16:16:30.091Z"
   },
   {
    "duration": 541,
    "start_time": "2022-02-15T16:16:30.611Z"
   },
   {
    "duration": 535,
    "start_time": "2022-02-15T16:16:31.154Z"
   },
   {
    "duration": 5,
    "start_time": "2022-02-15T16:16:31.691Z"
   },
   {
    "duration": 329,
    "start_time": "2022-02-15T16:16:31.698Z"
   },
   {
    "duration": 16,
    "start_time": "2022-02-15T16:16:32.029Z"
   },
   {
    "duration": 298,
    "start_time": "2022-02-15T16:16:32.047Z"
   },
   {
    "duration": 6,
    "start_time": "2022-02-15T16:16:32.347Z"
   },
   {
    "duration": 14,
    "start_time": "2022-02-15T16:23:26.683Z"
   },
   {
    "duration": 175,
    "start_time": "2022-02-16T03:45:40.451Z"
   },
   {
    "duration": 1013,
    "start_time": "2022-02-16T03:45:49.335Z"
   },
   {
    "duration": 424,
    "start_time": "2022-02-16T03:45:50.350Z"
   },
   {
    "duration": 6,
    "start_time": "2022-02-16T03:45:50.776Z"
   },
   {
    "duration": 13,
    "start_time": "2022-02-16T03:45:50.784Z"
   },
   {
    "duration": 10,
    "start_time": "2022-02-16T03:45:50.799Z"
   },
   {
    "duration": 18,
    "start_time": "2022-02-16T03:45:50.811Z"
   },
   {
    "duration": 6,
    "start_time": "2022-02-16T03:45:50.858Z"
   },
   {
    "duration": 27,
    "start_time": "2022-02-16T03:45:50.867Z"
   },
   {
    "duration": 33,
    "start_time": "2022-02-16T03:45:50.897Z"
   },
   {
    "duration": 45,
    "start_time": "2022-02-16T03:45:50.931Z"
   },
   {
    "duration": 13,
    "start_time": "2022-02-16T03:45:50.978Z"
   },
   {
    "duration": 20,
    "start_time": "2022-02-16T03:45:50.993Z"
   },
   {
    "duration": 13,
    "start_time": "2022-02-16T03:45:51.015Z"
   },
   {
    "duration": 18,
    "start_time": "2022-02-16T03:45:51.059Z"
   },
   {
    "duration": 25,
    "start_time": "2022-02-16T03:45:51.078Z"
   },
   {
    "duration": 28,
    "start_time": "2022-02-16T03:45:51.105Z"
   },
   {
    "duration": 38,
    "start_time": "2022-02-16T03:45:51.134Z"
   },
   {
    "duration": 35,
    "start_time": "2022-02-16T03:45:51.174Z"
   },
   {
    "duration": 80,
    "start_time": "2022-02-16T03:45:51.211Z"
   },
   {
    "duration": 7,
    "start_time": "2022-02-16T03:45:51.293Z"
   },
   {
    "duration": 23,
    "start_time": "2022-02-16T03:45:51.302Z"
   },
   {
    "duration": 42,
    "start_time": "2022-02-16T03:45:51.327Z"
   },
   {
    "duration": 22,
    "start_time": "2022-02-16T03:45:51.372Z"
   },
   {
    "duration": 28,
    "start_time": "2022-02-16T03:45:51.396Z"
   },
   {
    "duration": 34,
    "start_time": "2022-02-16T03:45:51.425Z"
   },
   {
    "duration": 21,
    "start_time": "2022-02-16T03:45:51.461Z"
   },
   {
    "duration": 14,
    "start_time": "2022-02-16T03:45:51.484Z"
   },
   {
    "duration": 9,
    "start_time": "2022-02-16T03:45:51.500Z"
   },
   {
    "duration": 17,
    "start_time": "2022-02-16T03:45:51.511Z"
   },
   {
    "duration": 205,
    "start_time": "2022-02-16T03:45:51.530Z"
   },
   {
    "duration": 13,
    "start_time": "2022-02-16T03:45:51.737Z"
   },
   {
    "duration": 9,
    "start_time": "2022-02-16T03:45:51.759Z"
   },
   {
    "duration": 11,
    "start_time": "2022-02-16T03:45:51.769Z"
   },
   {
    "duration": 425,
    "start_time": "2022-02-16T03:45:51.781Z"
   },
   {
    "duration": 421,
    "start_time": "2022-02-16T03:45:52.208Z"
   },
   {
    "duration": 216,
    "start_time": "2022-02-16T03:45:52.631Z"
   },
   {
    "duration": 2026,
    "start_time": "2022-02-16T03:45:50.823Z"
   },
   {
    "duration": 2021,
    "start_time": "2022-02-16T03:45:50.830Z"
   },
   {
    "duration": 2017,
    "start_time": "2022-02-16T03:45:50.835Z"
   },
   {
    "duration": 2013,
    "start_time": "2022-02-16T03:45:50.841Z"
   },
   {
    "duration": 2009,
    "start_time": "2022-02-16T03:45:50.846Z"
   },
   {
    "duration": 2004,
    "start_time": "2022-02-16T03:45:50.852Z"
   },
   {
    "duration": 2001,
    "start_time": "2022-02-16T03:45:50.857Z"
   },
   {
    "duration": 29,
    "start_time": "2022-02-16T03:46:46.251Z"
   },
   {
    "duration": 2118,
    "start_time": "2022-02-16T08:11:24.533Z"
   },
   {
    "duration": 397,
    "start_time": "2022-02-16T08:11:26.653Z"
   },
   {
    "duration": 9,
    "start_time": "2022-02-16T08:11:27.052Z"
   },
   {
    "duration": 15,
    "start_time": "2022-02-16T08:11:27.062Z"
   },
   {
    "duration": 11,
    "start_time": "2022-02-16T08:11:27.079Z"
   },
   {
    "duration": 11,
    "start_time": "2022-02-16T08:11:27.092Z"
   },
   {
    "duration": 5,
    "start_time": "2022-02-16T08:11:27.132Z"
   },
   {
    "duration": 21,
    "start_time": "2022-02-16T08:11:27.140Z"
   },
   {
    "duration": 27,
    "start_time": "2022-02-16T08:11:27.163Z"
   },
   {
    "duration": 46,
    "start_time": "2022-02-16T08:11:27.191Z"
   },
   {
    "duration": 16,
    "start_time": "2022-02-16T08:11:27.238Z"
   },
   {
    "duration": 18,
    "start_time": "2022-02-16T08:11:27.256Z"
   },
   {
    "duration": 11,
    "start_time": "2022-02-16T08:11:27.275Z"
   },
   {
    "duration": 46,
    "start_time": "2022-02-16T08:11:27.288Z"
   },
   {
    "duration": 22,
    "start_time": "2022-02-16T08:11:27.336Z"
   },
   {
    "duration": 24,
    "start_time": "2022-02-16T08:11:27.360Z"
   },
   {
    "duration": 11,
    "start_time": "2022-02-16T08:11:27.385Z"
   },
   {
    "duration": 51,
    "start_time": "2022-02-16T08:11:27.398Z"
   },
   {
    "duration": 62,
    "start_time": "2022-02-16T08:11:27.450Z"
   },
   {
    "duration": 22,
    "start_time": "2022-02-16T08:11:27.514Z"
   },
   {
    "duration": 18,
    "start_time": "2022-02-16T08:11:27.538Z"
   },
   {
    "duration": 22,
    "start_time": "2022-02-16T08:11:27.557Z"
   },
   {
    "duration": 20,
    "start_time": "2022-02-16T08:11:27.581Z"
   },
   {
    "duration": 46,
    "start_time": "2022-02-16T08:11:27.602Z"
   },
   {
    "duration": 7,
    "start_time": "2022-02-16T08:11:27.649Z"
   },
   {
    "duration": 16,
    "start_time": "2022-02-16T08:11:27.657Z"
   },
   {
    "duration": 12,
    "start_time": "2022-02-16T08:11:27.674Z"
   },
   {
    "duration": 7,
    "start_time": "2022-02-16T08:11:27.687Z"
   },
   {
    "duration": 43,
    "start_time": "2022-02-16T08:11:27.696Z"
   },
   {
    "duration": 106,
    "start_time": "2022-02-16T08:11:27.740Z"
   },
   {
    "duration": 10,
    "start_time": "2022-02-16T08:11:27.848Z"
   },
   {
    "duration": 7,
    "start_time": "2022-02-16T08:11:27.859Z"
   },
   {
    "duration": 4,
    "start_time": "2022-02-16T08:11:27.868Z"
   },
   {
    "duration": 1410,
    "start_time": "2022-02-16T08:11:27.874Z"
   },
   {
    "duration": 412,
    "start_time": "2022-02-16T08:11:29.286Z"
   },
   {
    "duration": 34,
    "start_time": "2022-02-16T08:11:29.699Z"
   },
   {
    "duration": 361,
    "start_time": "2022-02-16T08:11:29.734Z"
   },
   {
    "duration": 373,
    "start_time": "2022-02-16T08:11:30.096Z"
   },
   {
    "duration": 5,
    "start_time": "2022-02-16T08:11:30.471Z"
   },
   {
    "duration": 275,
    "start_time": "2022-02-16T08:11:30.477Z"
   },
   {
    "duration": 12,
    "start_time": "2022-02-16T08:11:30.754Z"
   },
   {
    "duration": 203,
    "start_time": "2022-02-16T08:11:30.768Z"
   },
   {
    "duration": 5,
    "start_time": "2022-02-16T08:11:30.972Z"
   },
   {
    "duration": 26,
    "start_time": "2022-02-16T08:11:42.083Z"
   }
  ],
  "kernelspec": {
   "display_name": "Python 3 (ipykernel)",
   "language": "python",
   "name": "python3"
  },
  "language_info": {
   "codemirror_mode": {
    "name": "ipython",
    "version": 3
   },
   "file_extension": ".py",
   "mimetype": "text/x-python",
   "name": "python",
   "nbconvert_exporter": "python",
   "pygments_lexer": "ipython3",
   "version": "3.10.1"
  },
  "toc": {
   "base_numbering": 1,
   "nav_menu": {
    "height": "517px",
    "width": "518px"
   },
   "number_sections": true,
   "sideBar": true,
   "skip_h1_title": true,
   "title_cell": "Оглавление",
   "title_sidebar": "Contents",
   "toc_cell": true,
   "toc_position": {
    "height": "calc(100% - 180px)",
    "left": "10px",
    "top": "150px",
    "width": "384px"
   },
   "toc_section_display": true,
   "toc_window_display": true
  }
 },
 "nbformat": 4,
 "nbformat_minor": 2
}
