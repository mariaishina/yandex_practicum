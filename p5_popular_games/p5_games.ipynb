{
 "cells": [
  {
   "cell_type": "markdown",
   "metadata": {},
   "source": [
    "# Определение критериев успешности компьютерных игр"
   ]
  },
  {
   "cell_type": "markdown",
   "metadata": {
    "toc": true
   },
   "source": [
    "<h1>Оглавление<span class=\"tocSkip\"></span></h1>\n",
    "<div class=\"toc\"><ul class=\"toc-item\"><li><span><a href=\"#Цель-исследования\" data-toc-modified-id=\"Цель-исследования-1\"><span class=\"toc-item-num\">1&nbsp;&nbsp;</span>Цель исследования</a></span></li><li><span><a href=\"#Изучение-данных\" data-toc-modified-id=\"Изучение-данных-2\"><span class=\"toc-item-num\">2&nbsp;&nbsp;</span>Изучение данных</a></span><ul class=\"toc-item\"><li><span><a href=\"#Загрузка-библиотек\" data-toc-modified-id=\"Загрузка-библиотек-2.1\"><span class=\"toc-item-num\">2.1&nbsp;&nbsp;</span>Загрузка библиотек</a></span></li><li><span><a href=\"#Знакомство-с-данными\" data-toc-modified-id=\"Знакомство-с-данными-2.2\"><span class=\"toc-item-num\">2.2&nbsp;&nbsp;</span>Знакомство с данными</a></span></li><li><span><a href=\"#Вывод\" data-toc-modified-id=\"Вывод-2.3\"><span class=\"toc-item-num\">2.3&nbsp;&nbsp;</span>Вывод</a></span></li></ul></li><li><span><a href=\"#Предобработка-данных\" data-toc-modified-id=\"Предобработка-данных-3\"><span class=\"toc-item-num\">3&nbsp;&nbsp;</span>Предобработка данных</a></span><ul class=\"toc-item\"><li><span><a href=\"#Переименование-столбцов\" data-toc-modified-id=\"Переименование-столбцов-3.1\"><span class=\"toc-item-num\">3.1&nbsp;&nbsp;</span>Переименование столбцов</a></span></li><li><span><a href=\"#Преобразование-типов-данных\" data-toc-modified-id=\"Преобразование-типов-данных-3.2\"><span class=\"toc-item-num\">3.2&nbsp;&nbsp;</span>Преобразование типов данных</a></span></li><li><span><a href=\"#Обработка-пропусков\" data-toc-modified-id=\"Обработка-пропусков-3.3\"><span class=\"toc-item-num\">3.3&nbsp;&nbsp;</span>Обработка пропусков</a></span></li><li><span><a href=\"#Поиск-дубликатов\" data-toc-modified-id=\"Поиск-дубликатов-3.4\"><span class=\"toc-item-num\">3.4&nbsp;&nbsp;</span>Поиск дубликатов</a></span></li><li><span><a href=\"#Вспомогательные-расчеты\" data-toc-modified-id=\"Вспомогательные-расчеты-3.5\"><span class=\"toc-item-num\">3.5&nbsp;&nbsp;</span>Вспомогательные расчеты</a></span></li><li><span><a href=\"#Вывод\" data-toc-modified-id=\"Вывод-3.6\"><span class=\"toc-item-num\">3.6&nbsp;&nbsp;</span>Вывод</a></span></li></ul></li><li><span><a href=\"#Анализ-данных\" data-toc-modified-id=\"Анализ-данных-4\"><span class=\"toc-item-num\">4&nbsp;&nbsp;</span>Анализ данных</a></span><ul class=\"toc-item\"><li><span><a href=\"#Количество-игр-по-годам\" data-toc-modified-id=\"Количество-игр-по-годам-4.1\"><span class=\"toc-item-num\">4.1&nbsp;&nbsp;</span>Количество игр по годам</a></span></li><li><span><a href=\"#Продажи-в-разрезе-платформ\" data-toc-modified-id=\"Продажи-в-разрезе-платформ-4.2\"><span class=\"toc-item-num\">4.2&nbsp;&nbsp;</span>Продажи в разрезе платформ</a></span></li><li><span><a href=\"#Влияние-отзывов-пользователей-и-критиков-на-продажи\" data-toc-modified-id=\"Влияние-отзывов-пользователей-и-критиков-на-продажи-4.3\"><span class=\"toc-item-num\">4.3&nbsp;&nbsp;</span>Влияние отзывов пользователей и критиков на продажи</a></span></li><li><span><a href=\"#Прибыльность-жанров\" data-toc-modified-id=\"Прибыльность-жанров-4.4\"><span class=\"toc-item-num\">4.4&nbsp;&nbsp;</span>Прибыльность жанров</a></span></li><li><span><a href=\"#Вывод\" data-toc-modified-id=\"Вывод-4.5\"><span class=\"toc-item-num\">4.5&nbsp;&nbsp;</span>Вывод</a></span></li></ul></li><li><span><a href=\"#Портрет-пользователя-для-каждого-региона\" data-toc-modified-id=\"Портрет-пользователя-для-каждого-региона-5\"><span class=\"toc-item-num\">5&nbsp;&nbsp;</span>Портрет пользователя для каждого региона</a></span><ul class=\"toc-item\"><li><span><a href=\"#Топ-5-платформ\" data-toc-modified-id=\"Топ-5-платформ-5.1\"><span class=\"toc-item-num\">5.1&nbsp;&nbsp;</span>Топ-5 платформ</a></span></li><li><span><a href=\"#Топ-5-жанров\" data-toc-modified-id=\"Топ-5-жанров-5.2\"><span class=\"toc-item-num\">5.2&nbsp;&nbsp;</span>Топ-5 жанров</a></span></li><li><span><a href=\"#Влияние-рейтинга-ESRB-на-продажи\" data-toc-modified-id=\"Влияние-рейтинга-ESRB-на-продажи-5.3\"><span class=\"toc-item-num\">5.3&nbsp;&nbsp;</span>Влияние рейтинга ESRB на продажи</a></span></li><li><span><a href=\"#Вывод\" data-toc-modified-id=\"Вывод-5.4\"><span class=\"toc-item-num\">5.4&nbsp;&nbsp;</span>Вывод</a></span></li></ul></li><li><span><a href=\"#Проверка-гипотез\" data-toc-modified-id=\"Проверка-гипотез-6\"><span class=\"toc-item-num\">6&nbsp;&nbsp;</span>Проверка гипотез</a></span><ul class=\"toc-item\"><li><span><a href=\"#Средние-пользовательские-рейтинги-платформ-Xbox-One-и-PC-одинаковые\" data-toc-modified-id=\"Средние-пользовательские-рейтинги-платформ-Xbox-One-и-PC-одинаковые-6.1\"><span class=\"toc-item-num\">6.1&nbsp;&nbsp;</span>Средние пользовательские рейтинги платформ Xbox One и PC одинаковые</a></span></li><li><span><a href=\"#Средние-пользовательские-рейтинги-жанров-Action-и-Sports-разные\" data-toc-modified-id=\"Средние-пользовательские-рейтинги-жанров-Action-и-Sports-разные-6.2\"><span class=\"toc-item-num\">6.2&nbsp;&nbsp;</span>Средние пользовательские рейтинги жанров Action и Sports разные</a></span></li><li><span><a href=\"#Вывод\" data-toc-modified-id=\"Вывод-6.3\"><span class=\"toc-item-num\">6.3&nbsp;&nbsp;</span>Вывод</a></span></li></ul></li><li><span><a href=\"#Общий-вывод\" data-toc-modified-id=\"Общий-вывод-7\"><span class=\"toc-item-num\">7&nbsp;&nbsp;</span>Общий вывод</a></span></li></ul></div>"
   ]
  },
  {
   "cell_type": "markdown",
   "metadata": {},
   "source": [
    "## Цель исследования"
   ]
  },
  {
   "cell_type": "markdown",
   "metadata": {},
   "source": [
    "Интернет-магазин «Стримчик» продаёт по всему миру компьютерные игры. Из открытых источников доступны исторические данные о продажах игр, оценки пользователей и экспертов, жанры и платформы. Нужно выявить определяющие успешность игры закономерности. Это позволит сделать ставку на потенциально популярный продукт и спланировать рекламные кампании."
   ]
  },
  {
   "cell_type": "markdown",
   "metadata": {},
   "source": [
    "## Изучение данных"
   ]
  },
  {
   "cell_type": "markdown",
   "metadata": {},
   "source": [
    "### Загрузка библиотек"
   ]
  },
  {
   "cell_type": "code",
   "execution_count": 1,
   "metadata": {},
   "outputs": [],
   "source": [
    "import pandas as pd\n",
    "import numpy as np\n",
    "import matplotlib.pyplot as plt\n",
    "from scipy import stats as st\n",
    "\n",
    "# настроим отображение больших чисел без плавающей точки\n",
    "pd.set_option('display.float_format', lambda x: '%.2f' % x)\n",
    "\n",
    "# уберем красные предупреждения при построении графиков\n",
    "import warnings\n",
    "warnings.filterwarnings('ignore')"
   ]
  },
  {
   "cell_type": "markdown",
   "metadata": {},
   "source": [
    "### Знакомство с данными"
   ]
  },
  {
   "cell_type": "code",
   "execution_count": 2,
   "metadata": {},
   "outputs": [
    {
     "data": {
      "text/html": [
       "<div>\n",
       "<style scoped>\n",
       "    .dataframe tbody tr th:only-of-type {\n",
       "        vertical-align: middle;\n",
       "    }\n",
       "\n",
       "    .dataframe tbody tr th {\n",
       "        vertical-align: top;\n",
       "    }\n",
       "\n",
       "    .dataframe thead th {\n",
       "        text-align: right;\n",
       "    }\n",
       "</style>\n",
       "<table border=\"1\" class=\"dataframe\">\n",
       "  <thead>\n",
       "    <tr style=\"text-align: right;\">\n",
       "      <th></th>\n",
       "      <th>Name</th>\n",
       "      <th>Platform</th>\n",
       "      <th>Year_of_Release</th>\n",
       "      <th>Genre</th>\n",
       "      <th>NA_sales</th>\n",
       "      <th>EU_sales</th>\n",
       "      <th>JP_sales</th>\n",
       "      <th>Other_sales</th>\n",
       "      <th>Critic_Score</th>\n",
       "      <th>User_Score</th>\n",
       "      <th>Rating</th>\n",
       "    </tr>\n",
       "  </thead>\n",
       "  <tbody>\n",
       "    <tr>\n",
       "      <th>0</th>\n",
       "      <td>Wii Sports</td>\n",
       "      <td>Wii</td>\n",
       "      <td>2006.00</td>\n",
       "      <td>Sports</td>\n",
       "      <td>41.36</td>\n",
       "      <td>28.96</td>\n",
       "      <td>3.77</td>\n",
       "      <td>8.45</td>\n",
       "      <td>76.00</td>\n",
       "      <td>8</td>\n",
       "      <td>E</td>\n",
       "    </tr>\n",
       "    <tr>\n",
       "      <th>1</th>\n",
       "      <td>Super Mario Bros.</td>\n",
       "      <td>NES</td>\n",
       "      <td>1985.00</td>\n",
       "      <td>Platform</td>\n",
       "      <td>29.08</td>\n",
       "      <td>3.58</td>\n",
       "      <td>6.81</td>\n",
       "      <td>0.77</td>\n",
       "      <td>NaN</td>\n",
       "      <td>NaN</td>\n",
       "      <td>NaN</td>\n",
       "    </tr>\n",
       "    <tr>\n",
       "      <th>2</th>\n",
       "      <td>Mario Kart Wii</td>\n",
       "      <td>Wii</td>\n",
       "      <td>2008.00</td>\n",
       "      <td>Racing</td>\n",
       "      <td>15.68</td>\n",
       "      <td>12.76</td>\n",
       "      <td>3.79</td>\n",
       "      <td>3.29</td>\n",
       "      <td>82.00</td>\n",
       "      <td>8.3</td>\n",
       "      <td>E</td>\n",
       "    </tr>\n",
       "    <tr>\n",
       "      <th>3</th>\n",
       "      <td>Wii Sports Resort</td>\n",
       "      <td>Wii</td>\n",
       "      <td>2009.00</td>\n",
       "      <td>Sports</td>\n",
       "      <td>15.61</td>\n",
       "      <td>10.93</td>\n",
       "      <td>3.28</td>\n",
       "      <td>2.95</td>\n",
       "      <td>80.00</td>\n",
       "      <td>8</td>\n",
       "      <td>E</td>\n",
       "    </tr>\n",
       "    <tr>\n",
       "      <th>4</th>\n",
       "      <td>Pokemon Red/Pokemon Blue</td>\n",
       "      <td>GB</td>\n",
       "      <td>1996.00</td>\n",
       "      <td>Role-Playing</td>\n",
       "      <td>11.27</td>\n",
       "      <td>8.89</td>\n",
       "      <td>10.22</td>\n",
       "      <td>1.00</td>\n",
       "      <td>NaN</td>\n",
       "      <td>NaN</td>\n",
       "      <td>NaN</td>\n",
       "    </tr>\n",
       "  </tbody>\n",
       "</table>\n",
       "</div>"
      ],
      "text/plain": [
       "                       Name Platform  Year_of_Release         Genre  NA_sales  \\\n",
       "0                Wii Sports      Wii          2006.00        Sports     41.36   \n",
       "1         Super Mario Bros.      NES          1985.00      Platform     29.08   \n",
       "2            Mario Kart Wii      Wii          2008.00        Racing     15.68   \n",
       "3         Wii Sports Resort      Wii          2009.00        Sports     15.61   \n",
       "4  Pokemon Red/Pokemon Blue       GB          1996.00  Role-Playing     11.27   \n",
       "\n",
       "   EU_sales  JP_sales  Other_sales  Critic_Score User_Score Rating  \n",
       "0     28.96      3.77         8.45         76.00          8      E  \n",
       "1      3.58      6.81         0.77           NaN        NaN    NaN  \n",
       "2     12.76      3.79         3.29         82.00        8.3      E  \n",
       "3     10.93      3.28         2.95         80.00          8      E  \n",
       "4      8.89     10.22         1.00           NaN        NaN    NaN  "
      ]
     },
     "metadata": {},
     "output_type": "display_data"
    },
    {
     "data": {
      "text/plain": [
       "(16715, 11)"
      ]
     },
     "execution_count": 2,
     "metadata": {},
     "output_type": "execute_result"
    }
   ],
   "source": [
    "df = pd.read_csv('games.csv')\n",
    "display(df.head())\n",
    "df.shape"
   ]
  },
  {
   "cell_type": "markdown",
   "metadata": {},
   "source": [
    "**Описание данных**\n",
    "\n",
    "- Name — название игры\n",
    "- Platform — платформа\n",
    "- Year_of_Release — год выпуска\n",
    "- Genre — жанр игры\n",
    "- NA_sales — продажи в Северной Америке (миллионы проданных копий)\n",
    "- EU_sales — продажи в Европе (миллионы проданных копий)\n",
    "- JP_sales — продажи в Японии (миллионы проданных копий)\n",
    "- Other_sales — продажи в других странах (миллионы проданных копий)\n",
    "- Critic_Score — оценка критиков (максимум 100)\n",
    "- User_Score — оценка пользователей (максимум 10)\n",
    "- Rating — рейтинг от организации ESRB (англ. Entertainment Software Rating Board). Эта ассоциация определяет рейтинг компьютерных игр и присваивает им подходящую возрастную категорию.\n",
    "\n",
    "Обозначения рейтингов:\n",
    "\n",
    "- «EC» («Early childhood») — «Для детей младшего возраста». Игра подходит для детей от 3 лет\n",
    "- «E» («Everyone») — «Для всех». Содержание вполне подходит для возрастной категории от 6 лет. Первоначально \"K-A\" (\"Kids to Adults\")\n",
    "- «E10+» («Everyone 10 and older») — «Для всех от 10 лет и старше»\n",
    "- «T» («Teen») — «Подросткам»: Игра подходит для лиц от 13 лет. \n",
    "- «M» («Mature») — «Для взрослых»: Материалы игры не подходят для подростков младше 17 лет.\n",
    "- «AO» («Adults Only 18+») — «Только для взрослых»: Содержание игры только для взрослых старше 18 лет. \n",
    "- «RP» («Rating Pending») — «Рейтинг ожидается»: Продукт был отправлен в ESRB и ожидает присвоения рейтинга. Данный логотип используется только на рекламных презентациях и в демо-версиях игр до официальной даты выпуска в продажу. \n",
    "\n",
    "\n",
    "За 2016 год данные могут быть неполными.\n"
   ]
  },
  {
   "cell_type": "markdown",
   "metadata": {},
   "source": [
    "### Вывод"
   ]
  },
  {
   "cell_type": "markdown",
   "metadata": {},
   "source": [
    "<p></p>\n",
    "\n",
    "<div style=\"border:solid green 2px; padding: 20px\">\n",
    "В нашем распоряжении датасет, состоящий из 16715 строк и 11 столбцов, который содержит информацию о годах выпуска, жанрах, объемах продаж и рейтингах компьютерных игр.\n",
    "</div>"
   ]
  },
  {
   "cell_type": "markdown",
   "metadata": {},
   "source": [
    "## Предобработка данных"
   ]
  },
  {
   "cell_type": "markdown",
   "metadata": {},
   "source": [
    "### Переименование столбцов"
   ]
  },
  {
   "cell_type": "markdown",
   "metadata": {},
   "source": [
    "Приведем названия столбцов к нижнему регистру:"
   ]
  },
  {
   "cell_type": "code",
   "execution_count": 3,
   "metadata": {},
   "outputs": [
    {
     "data": {
      "text/plain": [
       "Index(['name', 'platform', 'year_of_release', 'genre', 'na_sales', 'eu_sales',\n",
       "       'jp_sales', 'other_sales', 'critic_score', 'user_score', 'rating'],\n",
       "      dtype='object')"
      ]
     },
     "execution_count": 3,
     "metadata": {},
     "output_type": "execute_result"
    }
   ],
   "source": [
    "df.columns = df.columns.str.lower()\n",
    "df.columns"
   ]
  },
  {
   "cell_type": "markdown",
   "metadata": {},
   "source": [
    "### Преобразование типов данных"
   ]
  },
  {
   "cell_type": "markdown",
   "metadata": {},
   "source": [
    "Посмотрим, что за типы данных в нашем датасете:"
   ]
  },
  {
   "cell_type": "code",
   "execution_count": 4,
   "metadata": {},
   "outputs": [
    {
     "name": "stdout",
     "output_type": "stream",
     "text": [
      "<class 'pandas.core.frame.DataFrame'>\n",
      "RangeIndex: 16715 entries, 0 to 16714\n",
      "Data columns (total 11 columns):\n",
      " #   Column           Non-Null Count  Dtype  \n",
      "---  ------           --------------  -----  \n",
      " 0   name             16713 non-null  object \n",
      " 1   platform         16715 non-null  object \n",
      " 2   year_of_release  16446 non-null  float64\n",
      " 3   genre            16713 non-null  object \n",
      " 4   na_sales         16715 non-null  float64\n",
      " 5   eu_sales         16715 non-null  float64\n",
      " 6   jp_sales         16715 non-null  float64\n",
      " 7   other_sales      16715 non-null  float64\n",
      " 8   critic_score     8137 non-null   float64\n",
      " 9   user_score       10014 non-null  object \n",
      " 10  rating           9949 non-null   object \n",
      "dtypes: float64(6), object(5)\n",
      "memory usage: 1.4+ MB\n"
     ]
    }
   ],
   "source": [
    "df.info()"
   ]
  },
  {
   "cell_type": "markdown",
   "metadata": {},
   "source": [
    "**Год выпуска** преобразуем в целое число, т.к. год не бывает дробным."
   ]
  },
  {
   "cell_type": "code",
   "execution_count": 5,
   "metadata": {},
   "outputs": [
    {
     "data": {
      "text/plain": [
       "Int64Dtype()"
      ]
     },
     "execution_count": 5,
     "metadata": {},
     "output_type": "execute_result"
    }
   ],
   "source": [
    "df['year_of_release'] = df['year_of_release'].astype('Int64')\n",
    "df['year_of_release'].dtypes"
   ]
  },
  {
   "cell_type": "markdown",
   "metadata": {},
   "source": [
    "Столбец с **оценкой пользователей** необходимо перобразовать в тип дробного числа. Посмотрим, что за значения сделали этот столбец текстовым:"
   ]
  },
  {
   "cell_type": "code",
   "execution_count": 6,
   "metadata": {},
   "outputs": [
    {
     "data": {
      "text/plain": [
       "array(['8', nan, '8.3', '8.5', '6.6', '8.4', '8.6', '7.7', '6.3', '7.4',\n",
       "       '8.2', '9', '7.9', '8.1', '8.7', '7.1', '3.4', '5.3', '4.8', '3.2',\n",
       "       '8.9', '6.4', '7.8', '7.5', '2.6', '7.2', '9.2', '7', '7.3', '4.3',\n",
       "       '7.6', '5.7', '5', '9.1', '6.5', 'tbd', '8.8', '6.9', '9.4', '6.8',\n",
       "       '6.1', '6.7', '5.4', '4', '4.9', '4.5', '9.3', '6.2', '4.2', '6',\n",
       "       '3.7', '4.1', '5.8', '5.6', '5.5', '4.4', '4.6', '5.9', '3.9',\n",
       "       '3.1', '2.9', '5.2', '3.3', '4.7', '5.1', '3.5', '2.5', '1.9', '3',\n",
       "       '2.7', '2.2', '2', '9.5', '2.1', '3.6', '2.8', '1.8', '3.8', '0',\n",
       "       '1.6', '9.6', '2.4', '1.7', '1.1', '0.3', '1.5', '0.7', '1.2',\n",
       "       '2.3', '0.5', '1.3', '0.2', '0.6', '1.4', '0.9', '1', '9.7'],\n",
       "      dtype=object)"
      ]
     },
     "execution_count": 6,
     "metadata": {},
     "output_type": "execute_result"
    }
   ],
   "source": [
    "df['user_score'].unique()"
   ]
  },
  {
   "cell_type": "markdown",
   "metadata": {},
   "source": [
    "'tbd' - сокращение от To Be Determined. Служит для отметки неясностей или пропусков, которые надо заполнить. Заменим это обозначение на NaN и преобразуем тип данных в дробные числа"
   ]
  },
  {
   "cell_type": "code",
   "execution_count": 7,
   "metadata": {},
   "outputs": [
    {
     "data": {
      "text/plain": [
       "dtype('float64')"
      ]
     },
     "execution_count": 7,
     "metadata": {},
     "output_type": "execute_result"
    }
   ],
   "source": [
    "df['user_score'] = df['user_score'].replace('tbd', np.NaN)\n",
    "df['user_score'] = df['user_score'].astype('float')\n",
    "df['user_score'].dtypes"
   ]
  },
  {
   "cell_type": "markdown",
   "metadata": {},
   "source": [
    "Посмотрим на значения в столбце с **рейтингом**:"
   ]
  },
  {
   "cell_type": "code",
   "execution_count": 8,
   "metadata": {},
   "outputs": [
    {
     "data": {
      "text/plain": [
       "E       3990\n",
       "T       2961\n",
       "M       1563\n",
       "E10+    1420\n",
       "EC         8\n",
       "K-A        3\n",
       "RP         3\n",
       "AO         1\n",
       "Name: rating, dtype: int64"
      ]
     },
     "execution_count": 8,
     "metadata": {},
     "output_type": "execute_result"
    }
   ],
   "source": [
    "df['rating'].value_counts()"
   ]
  },
  {
   "cell_type": "markdown",
   "metadata": {},
   "source": [
    "\"К-А\" - устаревшее обозначение, заменим его на \"Е\". Кроме того, у нас присутствуют редкие рейтинги, составляющие ничтожно малую долю датасета - ЕС, RP, АО. Чтобы упростить в дальнейшем построение диаграмм, удалим соответствующие строки:"
   ]
  },
  {
   "cell_type": "code",
   "execution_count": 9,
   "metadata": {},
   "outputs": [
    {
     "name": "stdout",
     "output_type": "stream",
     "text": [
      "E       3993\n",
      "T       2961\n",
      "M       1563\n",
      "E10+    1420\n",
      "Name: rating, dtype: int64\n"
     ]
    }
   ],
   "source": [
    "df['rating'] = df['rating'].replace('K-A', 'E')\n",
    "\n",
    "rare_ratings = ['EC', 'RP', 'AO']\n",
    "df = df.query('rating not in @rare_ratings')\n",
    "print(df['rating'].value_counts())"
   ]
  },
  {
   "cell_type": "markdown",
   "metadata": {},
   "source": [
    "Итак, мы заменили типы данных в столбцах:\n",
    "- год выпуска - на целочисленный\n",
    "- оценка пользователей - на дробные числа\n",
    "\n",
    "А также избавились от неявных дубликатов и удалили редкие значения в столбце с рейтингом."
   ]
  },
  {
   "cell_type": "markdown",
   "metadata": {},
   "source": [
    "### Обработка пропусков"
   ]
  },
  {
   "cell_type": "markdown",
   "metadata": {},
   "source": [
    "Проверим, в каких столбцах есть пропуски в данных и какова их доля:"
   ]
  },
  {
   "cell_type": "code",
   "execution_count": 10,
   "metadata": {},
   "outputs": [
    {
     "data": {
      "text/plain": [
       "name              0.00\n",
       "platform          0.00\n",
       "year_of_release   0.02\n",
       "genre             0.00\n",
       "na_sales          0.00\n",
       "eu_sales          0.00\n",
       "jp_sales          0.00\n",
       "other_sales       0.00\n",
       "critic_score      0.51\n",
       "user_score        0.55\n",
       "rating            0.41\n",
       "dtype: float64"
      ]
     },
     "execution_count": 10,
     "metadata": {},
     "output_type": "execute_result"
    }
   ],
   "source": [
    "df.isna().mean()"
   ]
  },
  {
   "cell_type": "markdown",
   "metadata": {},
   "source": [
    "Имеем пропуски в толбцах:\n",
    "\n",
    "- с годом выпуска - 2%\n",
    "- с оценкой критиков - 51%\n",
    "- с оценкой пользователей - 55%\n",
    "- с рейтингом - 41%\n",
    "\n",
    "Пропуски могли появиться по следующим причинам:\n",
    "- некорректное заполнение начальных данных об игре (например, просто проигнорировали поле с годом выпуска или рейтинга);\n",
    "- некорректный сбор данных (например, менялась форма учета / сбора данных либо было одновременно несколько разных форм);\n",
    "- некорректная выгрузка данных (данные выгружались из разных источников с разными настройками);\n",
    "- отсутствие рейтинга у ряда игр (либо не присвоен вообще, либо присвоен, но по другой системе)."
   ]
  },
  {
   "cell_type": "markdown",
   "metadata": {},
   "source": [
    "Удалить можем только строки с пропущенным годом выпуска, т.к. их относительно немного. "
   ]
  },
  {
   "cell_type": "code",
   "execution_count": 11,
   "metadata": {
    "scrolled": true
   },
   "outputs": [],
   "source": [
    "df = df.dropna(subset=['year_of_release'])"
   ]
  },
  {
   "cell_type": "markdown",
   "metadata": {},
   "source": [
    "В столбцах critic_score и user_score можно было бы заменить пропуски на какие-то символические числовые значения, типа -1 или 999. Но это исказит нам статистики. Можно было бы заменить \"заглушкой\", например \"unknown\". Но тогда поменяется тип данных столбца и это может осложнить дальнейший анализ. Поэтому пропуски в данных столбцах оставляем как есть."
   ]
  },
  {
   "cell_type": "markdown",
   "metadata": {},
   "source": [
    "В столбце rating у нас тип данных не пострадает, если мы заполним пропуски значением \"unknown\". Зато тогда мы включим игры с таким рейтингом в наш анализ."
   ]
  },
  {
   "cell_type": "code",
   "execution_count": 12,
   "metadata": {},
   "outputs": [
    {
     "data": {
      "text/plain": [
       "name              0.00\n",
       "platform          0.00\n",
       "year_of_release   0.00\n",
       "genre             0.00\n",
       "na_sales          0.00\n",
       "eu_sales          0.00\n",
       "jp_sales          0.00\n",
       "other_sales       0.00\n",
       "critic_score      0.51\n",
       "user_score        0.55\n",
       "rating            0.00\n",
       "dtype: float64"
      ]
     },
     "execution_count": 12,
     "metadata": {},
     "output_type": "execute_result"
    }
   ],
   "source": [
    "df['rating'] = df['rating'].fillna('unknown')\n",
    "df.isna().mean()"
   ]
  },
  {
   "cell_type": "markdown",
   "metadata": {},
   "source": [
    "### Поиск дубликатов"
   ]
  },
  {
   "cell_type": "markdown",
   "metadata": {},
   "source": [
    "Проверим наличие дубликатов:"
   ]
  },
  {
   "cell_type": "code",
   "execution_count": 13,
   "metadata": {},
   "outputs": [
    {
     "data": {
      "text/plain": [
       "0"
      ]
     },
     "execution_count": 13,
     "metadata": {},
     "output_type": "execute_result"
    }
   ],
   "source": [
    "df.duplicated().sum()"
   ]
  },
  {
   "cell_type": "markdown",
   "metadata": {},
   "source": [
    "Явных дубликатов нет. Проверим неявные дубликаты - не повторяются ли игры на одной и той же платформе:"
   ]
  },
  {
   "cell_type": "code",
   "execution_count": 14,
   "metadata": {},
   "outputs": [
    {
     "data": {
      "text/html": [
       "<div>\n",
       "<style scoped>\n",
       "    .dataframe tbody tr th:only-of-type {\n",
       "        vertical-align: middle;\n",
       "    }\n",
       "\n",
       "    .dataframe tbody tr th {\n",
       "        vertical-align: top;\n",
       "    }\n",
       "\n",
       "    .dataframe thead th {\n",
       "        text-align: right;\n",
       "    }\n",
       "</style>\n",
       "<table border=\"1\" class=\"dataframe\">\n",
       "  <thead>\n",
       "    <tr style=\"text-align: right;\">\n",
       "      <th></th>\n",
       "      <th>name</th>\n",
       "      <th>platform</th>\n",
       "      <th>year_of_release</th>\n",
       "      <th>genre</th>\n",
       "      <th>na_sales</th>\n",
       "      <th>eu_sales</th>\n",
       "      <th>jp_sales</th>\n",
       "      <th>other_sales</th>\n",
       "      <th>critic_score</th>\n",
       "      <th>user_score</th>\n",
       "      <th>rating</th>\n",
       "    </tr>\n",
       "  </thead>\n",
       "  <tbody>\n",
       "    <tr>\n",
       "      <th>604</th>\n",
       "      <td>Madden NFL 13</td>\n",
       "      <td>PS3</td>\n",
       "      <td>2012</td>\n",
       "      <td>Sports</td>\n",
       "      <td>2.11</td>\n",
       "      <td>0.22</td>\n",
       "      <td>0.00</td>\n",
       "      <td>0.23</td>\n",
       "      <td>83.00</td>\n",
       "      <td>5.50</td>\n",
       "      <td>E</td>\n",
       "    </tr>\n",
       "    <tr>\n",
       "      <th>16230</th>\n",
       "      <td>Madden NFL 13</td>\n",
       "      <td>PS3</td>\n",
       "      <td>2012</td>\n",
       "      <td>Sports</td>\n",
       "      <td>0.00</td>\n",
       "      <td>0.01</td>\n",
       "      <td>0.00</td>\n",
       "      <td>0.00</td>\n",
       "      <td>83.00</td>\n",
       "      <td>5.50</td>\n",
       "      <td>E</td>\n",
       "    </tr>\n",
       "    <tr>\n",
       "      <th>5972</th>\n",
       "      <td>Need for Speed: Most Wanted</td>\n",
       "      <td>PC</td>\n",
       "      <td>2005</td>\n",
       "      <td>Racing</td>\n",
       "      <td>0.02</td>\n",
       "      <td>0.23</td>\n",
       "      <td>0.00</td>\n",
       "      <td>0.04</td>\n",
       "      <td>82.00</td>\n",
       "      <td>8.50</td>\n",
       "      <td>T</td>\n",
       "    </tr>\n",
       "    <tr>\n",
       "      <th>11715</th>\n",
       "      <td>Need for Speed: Most Wanted</td>\n",
       "      <td>PC</td>\n",
       "      <td>2012</td>\n",
       "      <td>Racing</td>\n",
       "      <td>0.00</td>\n",
       "      <td>0.06</td>\n",
       "      <td>0.00</td>\n",
       "      <td>0.02</td>\n",
       "      <td>82.00</td>\n",
       "      <td>8.50</td>\n",
       "      <td>T</td>\n",
       "    </tr>\n",
       "    <tr>\n",
       "      <th>1190</th>\n",
       "      <td>Need for Speed: Most Wanted</td>\n",
       "      <td>X360</td>\n",
       "      <td>2012</td>\n",
       "      <td>Racing</td>\n",
       "      <td>0.62</td>\n",
       "      <td>0.78</td>\n",
       "      <td>0.01</td>\n",
       "      <td>0.15</td>\n",
       "      <td>83.00</td>\n",
       "      <td>8.50</td>\n",
       "      <td>T</td>\n",
       "    </tr>\n",
       "    <tr>\n",
       "      <th>1591</th>\n",
       "      <td>Need for Speed: Most Wanted</td>\n",
       "      <td>X360</td>\n",
       "      <td>2005</td>\n",
       "      <td>Racing</td>\n",
       "      <td>1.00</td>\n",
       "      <td>0.13</td>\n",
       "      <td>0.02</td>\n",
       "      <td>0.10</td>\n",
       "      <td>83.00</td>\n",
       "      <td>8.50</td>\n",
       "      <td>T</td>\n",
       "    </tr>\n",
       "    <tr>\n",
       "      <th>659</th>\n",
       "      <td>NaN</td>\n",
       "      <td>GEN</td>\n",
       "      <td>1993</td>\n",
       "      <td>NaN</td>\n",
       "      <td>1.78</td>\n",
       "      <td>0.53</td>\n",
       "      <td>0.00</td>\n",
       "      <td>0.08</td>\n",
       "      <td>NaN</td>\n",
       "      <td>NaN</td>\n",
       "      <td>unknown</td>\n",
       "    </tr>\n",
       "    <tr>\n",
       "      <th>14244</th>\n",
       "      <td>NaN</td>\n",
       "      <td>GEN</td>\n",
       "      <td>1993</td>\n",
       "      <td>NaN</td>\n",
       "      <td>0.00</td>\n",
       "      <td>0.00</td>\n",
       "      <td>0.03</td>\n",
       "      <td>0.00</td>\n",
       "      <td>NaN</td>\n",
       "      <td>NaN</td>\n",
       "      <td>unknown</td>\n",
       "    </tr>\n",
       "  </tbody>\n",
       "</table>\n",
       "</div>"
      ],
      "text/plain": [
       "                              name platform  year_of_release   genre  \\\n",
       "604                  Madden NFL 13      PS3             2012  Sports   \n",
       "16230                Madden NFL 13      PS3             2012  Sports   \n",
       "5972   Need for Speed: Most Wanted       PC             2005  Racing   \n",
       "11715  Need for Speed: Most Wanted       PC             2012  Racing   \n",
       "1190   Need for Speed: Most Wanted     X360             2012  Racing   \n",
       "1591   Need for Speed: Most Wanted     X360             2005  Racing   \n",
       "659                            NaN      GEN             1993     NaN   \n",
       "14244                          NaN      GEN             1993     NaN   \n",
       "\n",
       "       na_sales  eu_sales  jp_sales  other_sales  critic_score  user_score  \\\n",
       "604        2.11      0.22      0.00         0.23         83.00        5.50   \n",
       "16230      0.00      0.01      0.00         0.00         83.00        5.50   \n",
       "5972       0.02      0.23      0.00         0.04         82.00        8.50   \n",
       "11715      0.00      0.06      0.00         0.02         82.00        8.50   \n",
       "1190       0.62      0.78      0.01         0.15         83.00        8.50   \n",
       "1591       1.00      0.13      0.02         0.10         83.00        8.50   \n",
       "659        1.78      0.53      0.00         0.08           NaN         NaN   \n",
       "14244      0.00      0.00      0.03         0.00           NaN         NaN   \n",
       "\n",
       "        rating  \n",
       "604          E  \n",
       "16230        E  \n",
       "5972         T  \n",
       "11715        T  \n",
       "1190         T  \n",
       "1591         T  \n",
       "659    unknown  \n",
       "14244  unknown  "
      ]
     },
     "execution_count": 14,
     "metadata": {},
     "output_type": "execute_result"
    }
   ],
   "source": [
    "duplicated_games = df[df.duplicated(subset=['name', 'platform'], keep=False)]\\\n",
    "                .sort_values(by=['name','platform'])\n",
    "duplicated_games"
   ]
  },
  {
   "cell_type": "markdown",
   "metadata": {},
   "source": [
    "Гугл сообщает, что игра Need for Speed: Most Wanted выходила несколько раз на одних и тех же платформах, так что эти записи - не дубликаты, оставляем.\n",
    "\n",
    "Madden NFL 13 выходила один раз. Вторая строка - дубль. Можно было бы прибавить продажи в Европе из второй строки к первой, но сумма незначительная, поэтому просто удалим вторую строку.\n",
    "\n",
    "Строки с игрой без названия содержат много пропусков, их также удалим."
   ]
  },
  {
   "cell_type": "code",
   "execution_count": 15,
   "metadata": {},
   "outputs": [],
   "source": [
    "df = df.drop(labels=[16230, 659, 14244])"
   ]
  },
  {
   "cell_type": "markdown",
   "metadata": {},
   "source": [
    "Проверим результат:"
   ]
  },
  {
   "cell_type": "code",
   "execution_count": 16,
   "metadata": {},
   "outputs": [
    {
     "data": {
      "text/html": [
       "<div>\n",
       "<style scoped>\n",
       "    .dataframe tbody tr th:only-of-type {\n",
       "        vertical-align: middle;\n",
       "    }\n",
       "\n",
       "    .dataframe tbody tr th {\n",
       "        vertical-align: top;\n",
       "    }\n",
       "\n",
       "    .dataframe thead th {\n",
       "        text-align: right;\n",
       "    }\n",
       "</style>\n",
       "<table border=\"1\" class=\"dataframe\">\n",
       "  <thead>\n",
       "    <tr style=\"text-align: right;\">\n",
       "      <th></th>\n",
       "      <th>name</th>\n",
       "      <th>platform</th>\n",
       "      <th>year_of_release</th>\n",
       "      <th>genre</th>\n",
       "      <th>na_sales</th>\n",
       "      <th>eu_sales</th>\n",
       "      <th>jp_sales</th>\n",
       "      <th>other_sales</th>\n",
       "      <th>critic_score</th>\n",
       "      <th>user_score</th>\n",
       "      <th>rating</th>\n",
       "    </tr>\n",
       "  </thead>\n",
       "  <tbody>\n",
       "    <tr>\n",
       "      <th>5972</th>\n",
       "      <td>Need for Speed: Most Wanted</td>\n",
       "      <td>PC</td>\n",
       "      <td>2005</td>\n",
       "      <td>Racing</td>\n",
       "      <td>0.02</td>\n",
       "      <td>0.23</td>\n",
       "      <td>0.00</td>\n",
       "      <td>0.04</td>\n",
       "      <td>82.00</td>\n",
       "      <td>8.50</td>\n",
       "      <td>T</td>\n",
       "    </tr>\n",
       "    <tr>\n",
       "      <th>11715</th>\n",
       "      <td>Need for Speed: Most Wanted</td>\n",
       "      <td>PC</td>\n",
       "      <td>2012</td>\n",
       "      <td>Racing</td>\n",
       "      <td>0.00</td>\n",
       "      <td>0.06</td>\n",
       "      <td>0.00</td>\n",
       "      <td>0.02</td>\n",
       "      <td>82.00</td>\n",
       "      <td>8.50</td>\n",
       "      <td>T</td>\n",
       "    </tr>\n",
       "    <tr>\n",
       "      <th>1190</th>\n",
       "      <td>Need for Speed: Most Wanted</td>\n",
       "      <td>X360</td>\n",
       "      <td>2012</td>\n",
       "      <td>Racing</td>\n",
       "      <td>0.62</td>\n",
       "      <td>0.78</td>\n",
       "      <td>0.01</td>\n",
       "      <td>0.15</td>\n",
       "      <td>83.00</td>\n",
       "      <td>8.50</td>\n",
       "      <td>T</td>\n",
       "    </tr>\n",
       "    <tr>\n",
       "      <th>1591</th>\n",
       "      <td>Need for Speed: Most Wanted</td>\n",
       "      <td>X360</td>\n",
       "      <td>2005</td>\n",
       "      <td>Racing</td>\n",
       "      <td>1.00</td>\n",
       "      <td>0.13</td>\n",
       "      <td>0.02</td>\n",
       "      <td>0.10</td>\n",
       "      <td>83.00</td>\n",
       "      <td>8.50</td>\n",
       "      <td>T</td>\n",
       "    </tr>\n",
       "  </tbody>\n",
       "</table>\n",
       "</div>"
      ],
      "text/plain": [
       "                              name platform  year_of_release   genre  \\\n",
       "5972   Need for Speed: Most Wanted       PC             2005  Racing   \n",
       "11715  Need for Speed: Most Wanted       PC             2012  Racing   \n",
       "1190   Need for Speed: Most Wanted     X360             2012  Racing   \n",
       "1591   Need for Speed: Most Wanted     X360             2005  Racing   \n",
       "\n",
       "       na_sales  eu_sales  jp_sales  other_sales  critic_score  user_score  \\\n",
       "5972       0.02      0.23      0.00         0.04         82.00        8.50   \n",
       "11715      0.00      0.06      0.00         0.02         82.00        8.50   \n",
       "1190       0.62      0.78      0.01         0.15         83.00        8.50   \n",
       "1591       1.00      0.13      0.02         0.10         83.00        8.50   \n",
       "\n",
       "      rating  \n",
       "5972       T  \n",
       "11715      T  \n",
       "1190       T  \n",
       "1591       T  "
      ]
     },
     "execution_count": 16,
     "metadata": {},
     "output_type": "execute_result"
    }
   ],
   "source": [
    "duplicated_games = df[df.duplicated(subset=['name', 'platform'], keep=False)]\\\n",
    "                .sort_values(by=['name','platform'])\n",
    "duplicated_games"
   ]
  },
  {
   "cell_type": "markdown",
   "metadata": {},
   "source": [
    "Неявные дубликаты удалены."
   ]
  },
  {
   "cell_type": "markdown",
   "metadata": {},
   "source": [
    "### Вспомогательные расчеты"
   ]
  },
  {
   "cell_type": "markdown",
   "metadata": {},
   "source": [
    "Для анализа нам необходим будет показатель суммарных продаж по всем регионам, добавим соотвтествующий столбец:"
   ]
  },
  {
   "cell_type": "code",
   "execution_count": 17,
   "metadata": {},
   "outputs": [
    {
     "data": {
      "text/html": [
       "<div>\n",
       "<style scoped>\n",
       "    .dataframe tbody tr th:only-of-type {\n",
       "        vertical-align: middle;\n",
       "    }\n",
       "\n",
       "    .dataframe tbody tr th {\n",
       "        vertical-align: top;\n",
       "    }\n",
       "\n",
       "    .dataframe thead th {\n",
       "        text-align: right;\n",
       "    }\n",
       "</style>\n",
       "<table border=\"1\" class=\"dataframe\">\n",
       "  <thead>\n",
       "    <tr style=\"text-align: right;\">\n",
       "      <th></th>\n",
       "      <th>name</th>\n",
       "      <th>platform</th>\n",
       "      <th>year_of_release</th>\n",
       "      <th>genre</th>\n",
       "      <th>na_sales</th>\n",
       "      <th>eu_sales</th>\n",
       "      <th>jp_sales</th>\n",
       "      <th>other_sales</th>\n",
       "      <th>critic_score</th>\n",
       "      <th>user_score</th>\n",
       "      <th>rating</th>\n",
       "      <th>total_sales</th>\n",
       "    </tr>\n",
       "  </thead>\n",
       "  <tbody>\n",
       "    <tr>\n",
       "      <th>0</th>\n",
       "      <td>Wii Sports</td>\n",
       "      <td>Wii</td>\n",
       "      <td>2006</td>\n",
       "      <td>Sports</td>\n",
       "      <td>41.36</td>\n",
       "      <td>28.96</td>\n",
       "      <td>3.77</td>\n",
       "      <td>8.45</td>\n",
       "      <td>76.00</td>\n",
       "      <td>8.00</td>\n",
       "      <td>E</td>\n",
       "      <td>82.54</td>\n",
       "    </tr>\n",
       "    <tr>\n",
       "      <th>1</th>\n",
       "      <td>Super Mario Bros.</td>\n",
       "      <td>NES</td>\n",
       "      <td>1985</td>\n",
       "      <td>Platform</td>\n",
       "      <td>29.08</td>\n",
       "      <td>3.58</td>\n",
       "      <td>6.81</td>\n",
       "      <td>0.77</td>\n",
       "      <td>NaN</td>\n",
       "      <td>NaN</td>\n",
       "      <td>unknown</td>\n",
       "      <td>40.24</td>\n",
       "    </tr>\n",
       "    <tr>\n",
       "      <th>2</th>\n",
       "      <td>Mario Kart Wii</td>\n",
       "      <td>Wii</td>\n",
       "      <td>2008</td>\n",
       "      <td>Racing</td>\n",
       "      <td>15.68</td>\n",
       "      <td>12.76</td>\n",
       "      <td>3.79</td>\n",
       "      <td>3.29</td>\n",
       "      <td>82.00</td>\n",
       "      <td>8.30</td>\n",
       "      <td>E</td>\n",
       "      <td>35.52</td>\n",
       "    </tr>\n",
       "  </tbody>\n",
       "</table>\n",
       "</div>"
      ],
      "text/plain": [
       "                name platform  year_of_release     genre  na_sales  eu_sales  \\\n",
       "0         Wii Sports      Wii             2006    Sports     41.36     28.96   \n",
       "1  Super Mario Bros.      NES             1985  Platform     29.08      3.58   \n",
       "2     Mario Kart Wii      Wii             2008    Racing     15.68     12.76   \n",
       "\n",
       "   jp_sales  other_sales  critic_score  user_score   rating  total_sales  \n",
       "0      3.77         8.45         76.00        8.00        E        82.54  \n",
       "1      6.81         0.77           NaN         NaN  unknown        40.24  \n",
       "2      3.79         3.29         82.00        8.30        E        35.52  "
      ]
     },
     "execution_count": 17,
     "metadata": {},
     "output_type": "execute_result"
    }
   ],
   "source": [
    "df['total_sales'] = df[['na_sales','eu_sales','jp_sales', 'other_sales']].sum(axis = 1)\n",
    "df.head(3)"
   ]
  },
  {
   "cell_type": "markdown",
   "metadata": {},
   "source": [
    "### Вывод"
   ]
  },
  {
   "cell_type": "markdown",
   "metadata": {},
   "source": [
    "<p></p>\n",
    "\n",
    "<div style=\"border:solid green 2px; padding: 20px\">\n",
    "В ходе предобработки данных мы сделали следующее:\n",
    "    \n",
    " - переименовали столбцы (привели их к нижнему регистру);\n",
    " - заменили утаревшее обозначение рейтинга \"К-А\" на актуальное \"Е\";\n",
    " - удалили записи с редкими рейтингами (ЕС, RP, АО) - 12 записей, менее 0,1% датасета;\n",
    " - заменили \"tbd\" на NaN в столбце с оценкой пользователей;\n",
    " - поменяли типы данных в столбцах с годом выпуска и оценкой пользователей;\n",
    " - удалили строки с пропущенным годом выпуска (2%);\n",
    " - заполнили пропуски в столбце с рейтингом на \"unknown\";\n",
    " - удалили неявные дубликаты (3 записи, менее 0,1% датасета);\n",
    " - добавили новый столбец \"total_sales\" с суммарными продажами по всем регионам.\n",
    "    \n",
    "    \n",
    "</div>"
   ]
  },
  {
   "cell_type": "markdown",
   "metadata": {},
   "source": [
    "## Анализ данных"
   ]
  },
  {
   "cell_type": "markdown",
   "metadata": {},
   "source": [
    "### Количество игр по годам"
   ]
  },
  {
   "cell_type": "markdown",
   "metadata": {},
   "source": [
    "Посмотрим, сколько игр выпускалось в разные годы:"
   ]
  },
  {
   "cell_type": "code",
   "execution_count": 18,
   "metadata": {},
   "outputs": [
    {
     "data": {
      "image/png": "[encoded data removed]",
      "text/plain": [
       "<Figure size 1152x360 with 1 Axes>"
      ]
     },
     "metadata": {
      "needs_background": "light"
     },
     "output_type": "display_data"
    }
   ],
   "source": [
    "pivot_games = df.pivot_table(index='year_of_release', values='name', aggfunc='count')\n",
    "pivot_games.plot(grid=True, figsize=(16,5), style='o-', title='Количество выпущенных игр по годам', legend=False);"
   ]
  },
  {
   "cell_type": "markdown",
   "metadata": {},
   "source": [
    "На графике видно, что до 2000 года включительно количество игр было низким  - менее 400 в год и росло медленно, а после 2000 года ежегодный прирост стал значительно больше (график круче). Максимум был достигнут в 2008-2009 годах, когда количество выпускаемых ежегодно игр достигло 1400+. Затем пошел спад и к 2016 году уже имеем около 500 игр за год. Но помним, что данные за 2016 год могут быть неполными.\n",
    "\n",
    "Нам нужно определить актуальный период. Можно было бы взять последние 3-5 лет. Но тогда мы можем не увидеть полный жизненный цикл платформы. Поэтому возьмем период с запасом - будем использовать для дальнейшего анализа данные за 2000-2016 годы, для этого сделаем срез:"
   ]
  },
  {
   "cell_type": "code",
   "execution_count": 19,
   "metadata": {},
   "outputs": [],
   "source": [
    "df_new = df.query('year_of_release >= 2000')"
   ]
  },
  {
   "cell_type": "markdown",
   "metadata": {},
   "source": [
    "### Продажи в разрезе платформ"
   ]
  },
  {
   "cell_type": "markdown",
   "metadata": {},
   "source": [
    "Посмотрим на продажи в разрезе платформ за выбранный актуальный период:"
   ]
  },
  {
   "cell_type": "code",
   "execution_count": 20,
   "metadata": {
    "scrolled": false
   },
   "outputs": [
    {
     "data": {
      "image/png": "[encoded data removed]",
      "text/plain": [
       "<Figure size 1152x288 with 1 Axes>"
      ]
     },
     "metadata": {
      "needs_background": "light"
     },
     "output_type": "display_data"
    }
   ],
   "source": [
    "pivot_platform = df_new.pivot_table(index='platform', values='total_sales', aggfunc='sum')\\\n",
    "                        .sort_values(by='total_sales', ascending=False)\n",
    "pivot_platform.plot(grid=True, figsize=(16,4), kind='bar', \n",
    "                    title='Продажи компьютерных игр в разрезе платформ, млн. копий', legend=False);"
   ]
  },
  {
   "cell_type": "markdown",
   "metadata": {},
   "source": [
    "Построим распределение по годам для топ-5 платформ чтобы определить жизненный цикл платформы:"
   ]
  },
  {
   "cell_type": "code",
   "execution_count": 21,
   "metadata": {},
   "outputs": [
    {
     "data": {
      "image/png": "[encoded data removed]",
      "text/plain": [
       "<Figure size 1152x360 with 1 Axes>"
      ]
     },
     "metadata": {
      "needs_background": "light"
     },
     "output_type": "display_data"
    }
   ],
   "source": [
    "platform_top = ['PS2', 'X360', 'PS3', 'Wii', 'DS']\n",
    "pivot_platform_top = df_new.query('platform in @platform_top')\\\n",
    "                            .pivot_table(index='year_of_release', columns='platform', values='total_sales', aggfunc='sum')\\\n",
    "                            .plot(grid=True, figsize=(16,5), title='Продажи по годам для топ-5 платформ, млн. копий',\n",
    "                                  alpha=0.7, linewidth=4);"
   ]
  },
  {
   "cell_type": "markdown",
   "metadata": {},
   "source": [
    "Как видим, топ-5 платформ появились в 2000-2006 годах и к 2016 г. они уже потеряли популярность (на них перестали выпускать игры). Жизненный цикл успешной платформы составляет примерно 9-11 лет. \n",
    "\n",
    "Посмотрим, какие платформы популярны в последние годы. Возьмем для дальнейшего 2013-2016 годы (данные за 2016 год у нас неполные, т.е. 3 последних полных года + 2016). Топ-5 платформ нам уже не нужны, т.к. они в этот период заканчивали свой жизненный цикл.\n",
    "\n",
    "Посмотрим на суммарные продажи \"молодых\" платформ всего за 2013-2016 годы, а так же в динамике:"
   ]
  },
  {
   "cell_type": "code",
   "execution_count": 22,
   "metadata": {},
   "outputs": [
    {
     "data": {
      "image/png": "[encoded data removed]",
      "text/plain": [
       "<Figure size 720x360 with 1 Axes>"
      ]
     },
     "metadata": {
      "needs_background": "light"
     },
     "output_type": "display_data"
    }
   ],
   "source": [
    "df_2013 = df_new.query('year_of_release >= 2013')\n",
    "pivot_platform_new2 = df_2013.query('platform not in @platform_top')\\\n",
    "                            .pivot_table(index='platform', values='total_sales', aggfunc='sum')\\\n",
    "                            .sort_values(by='total_sales', ascending=False)\\\n",
    "                            .plot(grid=True, figsize=(10,5), title='Продажи игр по годам для молодых платформ, млн. копий',\n",
    "                                  kind='bar', alpha=0.7, linewidth=4);"
   ]
  },
  {
   "cell_type": "markdown",
   "metadata": {},
   "source": [
    "Явный лидер - PS4, далее идут XOne и 3DS. Проверим динамику:"
   ]
  },
  {
   "cell_type": "code",
   "execution_count": 23,
   "metadata": {
    "scrolled": true
   },
   "outputs": [
    {
     "data": {
      "image/png": "[encoded data removed]",
      "text/plain": [
       "<Figure size 864x360 with 1 Axes>"
      ]
     },
     "metadata": {
      "needs_background": "light"
     },
     "output_type": "display_data"
    }
   ],
   "source": [
    "pivot_platform_new = df_2013.query('platform not in @platform_top')\\\n",
    "                            .pivot_table(index='year_of_release', columns='platform', values='total_sales', aggfunc='sum')\\\n",
    "                            .plot(grid=True, figsize=(12,5), title='Продажи игр по годам для молодых платформ, млн. копий',\n",
    "                                  alpha=0.7, linewidth=4)\n",
    "plt.xticks([2013, 2014, 2015, 2016])\n",
    "plt.show()"
   ]
  },
  {
   "cell_type": "markdown",
   "metadata": {},
   "source": [
    "3DS идет на спад, поэтому она нас не интересует. \n",
    "\n",
    "Среди относительно молодых платформ лидирует платформа PS4. Она появилась в 2013 году, в 2015 г. достигла объема продаж 120 млн. копий. \n",
    "\n",
    "На втором месте - XOne. Она также появилась в 2013 году, в 2015 году продажи составили 60 млн. копий.\n",
    "\n",
    "Поскольку данные за 2016 год у нас неполные, то мы не можем сделать вывод о том, как изменились продажи в 2016 году. Но очевидно, что из всех молодых платформ эти 2 являются наиболее перспективными и потенциально прибыльными.\n",
    "\n",
    "Продажи остальных молодых платформ существенно ниже лидеров и их продажи идут на спад с 2013-2014 годов (возможно, это как раз и связано с появлением 2х сильных конкурентов)."
   ]
  },
  {
   "cell_type": "markdown",
   "metadata": {},
   "source": [
    "Построим \"ящики с усами\" для перспективных платформ за весь период их существования:"
   ]
  },
  {
   "cell_type": "code",
   "execution_count": 24,
   "metadata": {},
   "outputs": [
    {
     "data": {
      "image/png": "[encoded data removed]",
      "text/plain": [
       "<Figure size 1152x360 with 1 Axes>"
      ]
     },
     "metadata": {
      "needs_background": "light"
     },
     "output_type": "display_data"
    }
   ],
   "source": [
    "df_new.query('platform == \"PS4\" or platform == \"XOne\"').boxplot('total_sales', by='platform', figsize=(16,5));"
   ]
  },
  {
   "cell_type": "markdown",
   "metadata": {},
   "source": [
    "Выбросов довольно много, у PS4 больше, чем у  XOne. Увеличим масштаб:"
   ]
  },
  {
   "cell_type": "code",
   "execution_count": 25,
   "metadata": {},
   "outputs": [
    {
     "data": {
      "image/png": "[encoded data removed]",
      "text/plain": [
       "<Figure size 1152x360 with 1 Axes>"
      ]
     },
     "metadata": {
      "needs_background": "light"
     },
     "output_type": "display_data"
    }
   ],
   "source": [
    "df_new.query('platform == \"PS4\" or platform == \"XOne\"').boxplot('total_sales', by='platform', figsize=(16,5));\n",
    "plt.ylim(0,2)\n",
    "plt.show()"
   ]
  },
  {
   "cell_type": "markdown",
   "metadata": {},
   "source": [
    "Ящики с усами показывают, что на обеих платформах продажи одной игры обычно не превышают 0.75 млн.копий. А медианный объем продаж - чуть больше 0.2 млн.копий. Но есть множество выбросов - особо популярных игр, продажи которых могут достигать 14+ млн.копий.\n",
    "\n",
    "У PS4 особо популярных игр больше и распределение объемов продаж сильнее растянуто вдоль оси с количеством копий. Судя по всему, на данной платформе представлен более разнообразный ассортимент игр."
   ]
  },
  {
   "cell_type": "markdown",
   "metadata": {},
   "source": [
    "### Влияние отзывов пользователей и критиков на продажи"
   ]
  },
  {
   "cell_type": "markdown",
   "metadata": {},
   "source": [
    "Для проверки корреляции напишем функцию, которая будет принимать название платформы и возвращать матрицу корреляций и матрицу диаграмм рассеяния для показателей 'critic_score', 'user_score', 'total_sales':"
   ]
  },
  {
   "cell_type": "code",
   "execution_count": 26,
   "metadata": {},
   "outputs": [],
   "source": [
    "def correlation(platform_name):\n",
    "    platform_name = platform_name\n",
    "    corr_table = df_2013.query('platform == @platform_name')[['critic_score', 'user_score', \n",
    "                                                            'total_sales']].corr()\n",
    "    display(corr_table)\n",
    "    pd.plotting.scatter_matrix(\n",
    "        df_2013.query('platform == @platform_name')\n",
    "        [['critic_score', 'user_score', 'total_sales']],\n",
    "        figsize=(9, 9)\n",
    "    );\n",
    "    "
   ]
  },
  {
   "cell_type": "markdown",
   "metadata": {},
   "source": [
    "Посмотрим, как как влияют на продажи отзывы пользователей и критиков на примере платформы PS4:"
   ]
  },
  {
   "cell_type": "code",
   "execution_count": 27,
   "metadata": {
    "scrolled": true
   },
   "outputs": [
    {
     "data": {
      "text/html": [
       "<div>\n",
       "<style scoped>\n",
       "    .dataframe tbody tr th:only-of-type {\n",
       "        vertical-align: middle;\n",
       "    }\n",
       "\n",
       "    .dataframe tbody tr th {\n",
       "        vertical-align: top;\n",
       "    }\n",
       "\n",
       "    .dataframe thead th {\n",
       "        text-align: right;\n",
       "    }\n",
       "</style>\n",
       "<table border=\"1\" class=\"dataframe\">\n",
       "  <thead>\n",
       "    <tr style=\"text-align: right;\">\n",
       "      <th></th>\n",
       "      <th>critic_score</th>\n",
       "      <th>user_score</th>\n",
       "      <th>total_sales</th>\n",
       "    </tr>\n",
       "  </thead>\n",
       "  <tbody>\n",
       "    <tr>\n",
       "      <th>critic_score</th>\n",
       "      <td>1.00</td>\n",
       "      <td>0.56</td>\n",
       "      <td>0.41</td>\n",
       "    </tr>\n",
       "    <tr>\n",
       "      <th>user_score</th>\n",
       "      <td>0.56</td>\n",
       "      <td>1.00</td>\n",
       "      <td>-0.03</td>\n",
       "    </tr>\n",
       "    <tr>\n",
       "      <th>total_sales</th>\n",
       "      <td>0.41</td>\n",
       "      <td>-0.03</td>\n",
       "      <td>1.00</td>\n",
       "    </tr>\n",
       "  </tbody>\n",
       "</table>\n",
       "</div>"
      ],
      "text/plain": [
       "              critic_score  user_score  total_sales\n",
       "critic_score          1.00        0.56         0.41\n",
       "user_score            0.56        1.00        -0.03\n",
       "total_sales           0.41       -0.03         1.00"
      ]
     },
     "metadata": {},
     "output_type": "display_data"
    },
    {
     "data": {
      "image/png": "[encoded data removed]",
      "text/plain": [
       "<Figure size 648x648 with 9 Axes>"
      ]
     },
     "metadata": {
      "needs_background": "light"
     },
     "output_type": "display_data"
    }
   ],
   "source": [
    "correlation('PS4')"
   ]
  },
  {
   "cell_type": "markdown",
   "metadata": {},
   "source": [
    "Матрица корреляции и матрица диаграмм рассеяния показывают, что продажи зависят от оценки критиков с коээфициентом Пирсона 0.41. Т.е. чем выше оценка критиков, тем выше продажи. То, что корреляция невысокая (ниже 0.5), говорит о том, что на продажи влияет одновременно несколько разных факторов. \n",
    "\n",
    "А вот оценка пользователей на продажи не влияет совсем (коэффициент корреляции близок к нулю и равен -0,03). \n",
    "\n",
    "При этом оценка пользователей и оценка критиков явно связаны между собой, для них коэффициент корреляции равен 0.56. Т.е. чем выше оценка критиков, тем выше оценка пользователей.\n",
    "\n",
    "Проверим эти выводы для платформы XOne:"
   ]
  },
  {
   "cell_type": "code",
   "execution_count": 28,
   "metadata": {
    "scrolled": true
   },
   "outputs": [
    {
     "data": {
      "text/html": [
       "<div>\n",
       "<style scoped>\n",
       "    .dataframe tbody tr th:only-of-type {\n",
       "        vertical-align: middle;\n",
       "    }\n",
       "\n",
       "    .dataframe tbody tr th {\n",
       "        vertical-align: top;\n",
       "    }\n",
       "\n",
       "    .dataframe thead th {\n",
       "        text-align: right;\n",
       "    }\n",
       "</style>\n",
       "<table border=\"1\" class=\"dataframe\">\n",
       "  <thead>\n",
       "    <tr style=\"text-align: right;\">\n",
       "      <th></th>\n",
       "      <th>critic_score</th>\n",
       "      <th>user_score</th>\n",
       "      <th>total_sales</th>\n",
       "    </tr>\n",
       "  </thead>\n",
       "  <tbody>\n",
       "    <tr>\n",
       "      <th>critic_score</th>\n",
       "      <td>1.00</td>\n",
       "      <td>0.47</td>\n",
       "      <td>0.42</td>\n",
       "    </tr>\n",
       "    <tr>\n",
       "      <th>user_score</th>\n",
       "      <td>0.47</td>\n",
       "      <td>1.00</td>\n",
       "      <td>-0.07</td>\n",
       "    </tr>\n",
       "    <tr>\n",
       "      <th>total_sales</th>\n",
       "      <td>0.42</td>\n",
       "      <td>-0.07</td>\n",
       "      <td>1.00</td>\n",
       "    </tr>\n",
       "  </tbody>\n",
       "</table>\n",
       "</div>"
      ],
      "text/plain": [
       "              critic_score  user_score  total_sales\n",
       "critic_score          1.00        0.47         0.42\n",
       "user_score            0.47        1.00        -0.07\n",
       "total_sales           0.42       -0.07         1.00"
      ]
     },
     "metadata": {},
     "output_type": "display_data"
    },
    {
     "data": {
      "image/png": "[encoded data removed]",
      "text/plain": [
       "<Figure size 648x648 with 9 Axes>"
      ]
     },
     "metadata": {
      "needs_background": "light"
     },
     "output_type": "display_data"
    }
   ],
   "source": [
    "correlation('XOne')"
   ]
  },
  {
   "cell_type": "markdown",
   "metadata": {},
   "source": [
    "Результат практически тот же.\n",
    "\n",
    "Проверим корреляцию для всех платформ:"
   ]
  },
  {
   "cell_type": "code",
   "execution_count": 29,
   "metadata": {},
   "outputs": [
    {
     "data": {
      "text/html": [
       "<div>\n",
       "<style scoped>\n",
       "    .dataframe tbody tr th:only-of-type {\n",
       "        vertical-align: middle;\n",
       "    }\n",
       "\n",
       "    .dataframe tbody tr th {\n",
       "        vertical-align: top;\n",
       "    }\n",
       "\n",
       "    .dataframe thead th {\n",
       "        text-align: right;\n",
       "    }\n",
       "</style>\n",
       "<table border=\"1\" class=\"dataframe\">\n",
       "  <thead>\n",
       "    <tr style=\"text-align: right;\">\n",
       "      <th></th>\n",
       "      <th>critic_score</th>\n",
       "      <th>user_score</th>\n",
       "      <th>total_sales</th>\n",
       "    </tr>\n",
       "  </thead>\n",
       "  <tbody>\n",
       "    <tr>\n",
       "      <th>critic_score</th>\n",
       "      <td>1.00</td>\n",
       "      <td>0.50</td>\n",
       "      <td>0.31</td>\n",
       "    </tr>\n",
       "    <tr>\n",
       "      <th>user_score</th>\n",
       "      <td>0.50</td>\n",
       "      <td>1.00</td>\n",
       "      <td>-0.00</td>\n",
       "    </tr>\n",
       "    <tr>\n",
       "      <th>total_sales</th>\n",
       "      <td>0.31</td>\n",
       "      <td>-0.00</td>\n",
       "      <td>1.00</td>\n",
       "    </tr>\n",
       "  </tbody>\n",
       "</table>\n",
       "</div>"
      ],
      "text/plain": [
       "              critic_score  user_score  total_sales\n",
       "critic_score          1.00        0.50         0.31\n",
       "user_score            0.50        1.00        -0.00\n",
       "total_sales           0.31       -0.00         1.00"
      ]
     },
     "execution_count": 29,
     "metadata": {},
     "output_type": "execute_result"
    }
   ],
   "source": [
    "df_2013[['critic_score', 'user_score', 'total_sales']].corr()"
   ]
  },
  {
   "cell_type": "code",
   "execution_count": 30,
   "metadata": {
    "scrolled": true
   },
   "outputs": [
    {
     "data": {
      "image/png": "[encoded data removed]",
      "text/plain": [
       "<Figure size 648x648 with 9 Axes>"
      ]
     },
     "metadata": {
      "needs_background": "light"
     },
     "output_type": "display_data"
    }
   ],
   "source": [
    "pd.plotting.scatter_matrix(df_2013[['critic_score', 'user_score', 'total_sales']],\n",
    "                          figsize=(9, 9));"
   ]
  },
  {
   "cell_type": "markdown",
   "metadata": {},
   "source": [
    "Для всего датасета зависимость продаж от оценки критиков еще ниже и составляет 0.31. Определенно, есть множество других влияющих на продажи факторов. Также можно сделать вывод, что для молодых и перспективных платформ оценки критиков важнее, чем для старых и теряющих популярность платформ.\n",
    "\n",
    "В остальном результаты совпадают: зависимость от оценки пользоватетей - нулевая, зависимость оценки пользователей от оценки критиков практически на том же уровне (0.5)."
   ]
  },
  {
   "cell_type": "markdown",
   "metadata": {},
   "source": [
    "### Прибыльность жанров"
   ]
  },
  {
   "cell_type": "markdown",
   "metadata": {},
   "source": [
    "Изучим распределение игр по жанрам за 2013-2016 годы, для этого посчитаем средние продажи по каждой платформе:"
   ]
  },
  {
   "cell_type": "code",
   "execution_count": 31,
   "metadata": {},
   "outputs": [
    {
     "data": {
      "image/png": "[encoded data removed]",
      "text/plain": [
       "<Figure size 1152x288 with 1 Axes>"
      ]
     },
     "metadata": {
      "needs_background": "light"
     },
     "output_type": "display_data"
    }
   ],
   "source": [
    "df_2013.pivot_table(index='genre', values='total_sales', aggfunc='mean')\\\n",
    "        .sort_values(by='total_sales', ascending=False)\\\n",
    "        .plot(grid=True, figsize=(16,4), kind='bar', legend=False,\n",
    "                    title='Средний объем продаж компьютерных игр по жанрам, млн. копий'); "
   ]
  },
  {
   "cell_type": "markdown",
   "metadata": {},
   "source": [
    "Жанр влияет на объем продаж. Самые прибыльные жанры в последнее время - Shooter, Sports, Platform, Role-Playing, Racing. Самые низкие продажи у жанров Puzle, Strategy, Adventure."
   ]
  },
  {
   "cell_type": "markdown",
   "metadata": {},
   "source": [
    "### Вывод"
   ]
  },
  {
   "cell_type": "markdown",
   "metadata": {},
   "source": [
    "<p></p>\n",
    "\n",
    "<div style=\"border:solid green 2px; padding: 20px\">\n",
    "Пик популярности компьютерных игр пришелся на 2007-2008 годы, тогда общие продажи превысили 1400 млн.копий в год. Далее продажи пошли на спад и к 2015 году снизились до 600 млн.копий, а к 2016 году по предварительным данным - до 500 млн.копий (данные могут быть неполными).  \n",
    "    \n",
    "    \n",
    "За период с 2000 по 2016 годы самыми прибыльными стали платформы: 'PS2', 'X360', 'PS3', 'Wii', 'DS', продавшие суммарно за указанный период от 800 до 1200+ млн.копий каждая. Однако к 2016 году они потеряли популярность.\n",
    "    \n",
    "Жизненный цикл успешной платформы составляет примерно 9-11 лет.\n",
    "    \n",
    "В 2013-2016 гг наиболее перспективными были платформы PS4 и XOne, появившиеся в 2013 году и продавшие за 2015 год 120 и 60 млн. копий соотвтетственно. \n",
    "    \n",
    "Отзывы критиков влияют на объем продаж и на отзывы пользователей. От отзывов пользователей продажи не зависят.\n",
    "    \n",
    "Жанр также влияет на объем продаж. Самые прибыльные жанры в последние годы - Shooter, Sports, Platform, Role-Playing, Racing. Самые низкие продажи у жанров Puzle, Strategy, Adventure.\n",
    "</div>"
   ]
  },
  {
   "cell_type": "markdown",
   "metadata": {},
   "source": [
    "## Портрет пользователя для каждого региона"
   ]
  },
  {
   "cell_type": "markdown",
   "metadata": {},
   "source": [
    "Для удобства сравнения предпочтений пользователей разных регионов напишем функцию, которая будет \n",
    "- принимать в качестве аргументов название региона, название столбца с продажами и признак сравнения\n",
    "- возвращать сводную таблицу топ-5 показателей продаж и курговую диаграмму для признака."
   ]
  },
  {
   "cell_type": "code",
   "execution_count": 32,
   "metadata": {},
   "outputs": [],
   "source": [
    "regions = ['Северная Америка', 'Европа', 'Япония']\n",
    "reg_sales = ['na_sales', 'eu_sales', 'jp_sales']\n",
    "features = ['platform', 'genre', 'rating']\n",
    "\n",
    "def reg_top(region, reg_sales, feature):\n",
    "    reg_pivot = df_2013.pivot_table(index=feature, values=reg_sales, aggfunc='sum')\\\n",
    "                        .sort_values(by=reg_sales, ascending=False)\\\n",
    "                        .head()\n",
    "    reg_plot = reg_pivot.plot(kind='pie', y=reg_sales, legend=False, autopct='%.0f%%');\n",
    "    \n",
    "    print(region)\n",
    "    display(reg_pivot.head().T)\n",
    "    reg_plot"
   ]
  },
  {
   "cell_type": "markdown",
   "metadata": {},
   "source": [
    "### Топ-5 платформ"
   ]
  },
  {
   "cell_type": "markdown",
   "metadata": {},
   "source": [
    "Исследуем популярность платформ в **Северной Америке**:"
   ]
  },
  {
   "cell_type": "code",
   "execution_count": 33,
   "metadata": {},
   "outputs": [
    {
     "name": "stdout",
     "output_type": "stream",
     "text": [
      "Северная Америка\n"
     ]
    },
    {
     "data": {
      "text/html": [
       "<div>\n",
       "<style scoped>\n",
       "    .dataframe tbody tr th:only-of-type {\n",
       "        vertical-align: middle;\n",
       "    }\n",
       "\n",
       "    .dataframe tbody tr th {\n",
       "        vertical-align: top;\n",
       "    }\n",
       "\n",
       "    .dataframe thead th {\n",
       "        text-align: right;\n",
       "    }\n",
       "</style>\n",
       "<table border=\"1\" class=\"dataframe\">\n",
       "  <thead>\n",
       "    <tr style=\"text-align: right;\">\n",
       "      <th>platform</th>\n",
       "      <th>PS4</th>\n",
       "      <th>XOne</th>\n",
       "      <th>X360</th>\n",
       "      <th>PS3</th>\n",
       "      <th>3DS</th>\n",
       "    </tr>\n",
       "  </thead>\n",
       "  <tbody>\n",
       "    <tr>\n",
       "      <th>na_sales</th>\n",
       "      <td>108.74</td>\n",
       "      <td>93.12</td>\n",
       "      <td>81.66</td>\n",
       "      <td>63.50</td>\n",
       "      <td>38.20</td>\n",
       "    </tr>\n",
       "  </tbody>\n",
       "</table>\n",
       "</div>"
      ],
      "text/plain": [
       "platform    PS4  XOne  X360   PS3   3DS\n",
       "na_sales 108.74 93.12 81.66 63.50 38.20"
      ]
     },
     "metadata": {},
     "output_type": "display_data"
    },
    {
     "data": {
      "image/png": "[encoded data removed]",
      "text/plain": [
       "<Figure size 432x288 with 1 Axes>"
      ]
     },
     "metadata": {},
     "output_type": "display_data"
    }
   ],
   "source": [
    "reg_top('Северная Америка', 'na_sales', 'platform')"
   ]
  },
  {
   "cell_type": "markdown",
   "metadata": {},
   "source": [
    "В Северной Америке среди продаж топ-5 платформ максимальную долю занимает PS4 - 28%. Чуть меньше доля XOne - 24%. Далее идут X360 (21%), PS3 (16%) и 3DS (10%). "
   ]
  },
  {
   "cell_type": "markdown",
   "metadata": {},
   "source": [
    "Проверим популярность платформ в **Европе**:"
   ]
  },
  {
   "cell_type": "code",
   "execution_count": 34,
   "metadata": {},
   "outputs": [
    {
     "name": "stdout",
     "output_type": "stream",
     "text": [
      "Европа\n"
     ]
    },
    {
     "data": {
      "text/html": [
       "<div>\n",
       "<style scoped>\n",
       "    .dataframe tbody tr th:only-of-type {\n",
       "        vertical-align: middle;\n",
       "    }\n",
       "\n",
       "    .dataframe tbody tr th {\n",
       "        vertical-align: top;\n",
       "    }\n",
       "\n",
       "    .dataframe thead th {\n",
       "        text-align: right;\n",
       "    }\n",
       "</style>\n",
       "<table border=\"1\" class=\"dataframe\">\n",
       "  <thead>\n",
       "    <tr style=\"text-align: right;\">\n",
       "      <th>platform</th>\n",
       "      <th>PS4</th>\n",
       "      <th>PS3</th>\n",
       "      <th>XOne</th>\n",
       "      <th>X360</th>\n",
       "      <th>3DS</th>\n",
       "    </tr>\n",
       "  </thead>\n",
       "  <tbody>\n",
       "    <tr>\n",
       "      <th>eu_sales</th>\n",
       "      <td>141.09</td>\n",
       "      <td>67.81</td>\n",
       "      <td>51.59</td>\n",
       "      <td>42.52</td>\n",
       "      <td>30.96</td>\n",
       "    </tr>\n",
       "  </tbody>\n",
       "</table>\n",
       "</div>"
      ],
      "text/plain": [
       "platform    PS4   PS3  XOne  X360   3DS\n",
       "eu_sales 141.09 67.81 51.59 42.52 30.96"
      ]
     },
     "metadata": {},
     "output_type": "display_data"
    },
    {
     "data": {
      "image/png": "[encoded data removed]",
      "text/plain": [
       "<Figure size 432x288 with 1 Axes>"
      ]
     },
     "metadata": {},
     "output_type": "display_data"
    }
   ],
   "source": [
    "reg_top('Европа', 'eu_sales', 'platform')"
   ]
  },
  {
   "cell_type": "markdown",
   "metadata": {},
   "source": [
    "В Европе список топ-5 платформ тот же, что и в Северной Америке, но доли и места распределились немного иначе. Доля PS2 - еще больше - 42%. Платформа PS3 вышла с 4 на 2 место с долей 20%, а X360 опустилась с 3 места на 4-ое с долей 15%."
   ]
  },
  {
   "cell_type": "markdown",
   "metadata": {},
   "source": [
    "Посмотрим, что у нас с платформами в **Японии**:"
   ]
  },
  {
   "cell_type": "code",
   "execution_count": 35,
   "metadata": {},
   "outputs": [
    {
     "name": "stdout",
     "output_type": "stream",
     "text": [
      "Япония\n"
     ]
    },
    {
     "data": {
      "text/html": [
       "<div>\n",
       "<style scoped>\n",
       "    .dataframe tbody tr th:only-of-type {\n",
       "        vertical-align: middle;\n",
       "    }\n",
       "\n",
       "    .dataframe tbody tr th {\n",
       "        vertical-align: top;\n",
       "    }\n",
       "\n",
       "    .dataframe thead th {\n",
       "        text-align: right;\n",
       "    }\n",
       "</style>\n",
       "<table border=\"1\" class=\"dataframe\">\n",
       "  <thead>\n",
       "    <tr style=\"text-align: right;\">\n",
       "      <th>platform</th>\n",
       "      <th>3DS</th>\n",
       "      <th>PS3</th>\n",
       "      <th>PSV</th>\n",
       "      <th>PS4</th>\n",
       "      <th>WiiU</th>\n",
       "    </tr>\n",
       "  </thead>\n",
       "  <tbody>\n",
       "    <tr>\n",
       "      <th>jp_sales</th>\n",
       "      <td>67.81</td>\n",
       "      <td>23.35</td>\n",
       "      <td>18.59</td>\n",
       "      <td>15.96</td>\n",
       "      <td>10.88</td>\n",
       "    </tr>\n",
       "  </tbody>\n",
       "</table>\n",
       "</div>"
      ],
      "text/plain": [
       "platform   3DS   PS3   PSV   PS4  WiiU\n",
       "jp_sales 67.81 23.35 18.59 15.96 10.88"
      ]
     },
     "metadata": {},
     "output_type": "display_data"
    },
    {
     "data": {
      "image/png": "[encoded data removed]",
      "text/plain": [
       "<Figure size 432x288 with 1 Axes>"
      ]
     },
     "metadata": {},
     "output_type": "display_data"
    }
   ],
   "source": [
    "reg_top('Япония', 'jp_sales', 'platform')"
   ]
  },
  {
   "cell_type": "markdown",
   "metadata": {},
   "source": [
    "В Японии также в топ-5 присутствуют платформы PS3(17%) и PS4(12%), но у них абсолютным лидером является 3DS (50%). Также популярны PSV(14%) и WiiU(8%).\n",
    "\n",
    "На Японском рынке наблюдается заметный перевес одной платформы среди топ-5 лидеров, и в целом рынок разделен менее равномерно, чем в Северной Америке и Европе. Японцы любят играть на платформах собственного производства."
   ]
  },
  {
   "cell_type": "markdown",
   "metadata": {},
   "source": [
    "### Топ-5 жанров"
   ]
  },
  {
   "cell_type": "markdown",
   "metadata": {},
   "source": [
    "Исследуем популярность жанров компьютерных игр в **Северной Америке**:"
   ]
  },
  {
   "cell_type": "code",
   "execution_count": 36,
   "metadata": {},
   "outputs": [
    {
     "name": "stdout",
     "output_type": "stream",
     "text": [
      "Северная Америка\n"
     ]
    },
    {
     "data": {
      "text/html": [
       "<div>\n",
       "<style scoped>\n",
       "    .dataframe tbody tr th:only-of-type {\n",
       "        vertical-align: middle;\n",
       "    }\n",
       "\n",
       "    .dataframe tbody tr th {\n",
       "        vertical-align: top;\n",
       "    }\n",
       "\n",
       "    .dataframe thead th {\n",
       "        text-align: right;\n",
       "    }\n",
       "</style>\n",
       "<table border=\"1\" class=\"dataframe\">\n",
       "  <thead>\n",
       "    <tr style=\"text-align: right;\">\n",
       "      <th>genre</th>\n",
       "      <th>Action</th>\n",
       "      <th>Shooter</th>\n",
       "      <th>Sports</th>\n",
       "      <th>Role-Playing</th>\n",
       "      <th>Misc</th>\n",
       "    </tr>\n",
       "  </thead>\n",
       "  <tbody>\n",
       "    <tr>\n",
       "      <th>na_sales</th>\n",
       "      <td>126.05</td>\n",
       "      <td>109.74</td>\n",
       "      <td>65.27</td>\n",
       "      <td>46.40</td>\n",
       "      <td>27.49</td>\n",
       "    </tr>\n",
       "  </tbody>\n",
       "</table>\n",
       "</div>"
      ],
      "text/plain": [
       "genre     Action  Shooter  Sports  Role-Playing  Misc\n",
       "na_sales  126.05   109.74   65.27         46.40 27.49"
      ]
     },
     "metadata": {},
     "output_type": "display_data"
    },
    {
     "data": {
      "image/png": "[encoded data removed]",
      "text/plain": [
       "<Figure size 432x288 with 1 Axes>"
      ]
     },
     "metadata": {},
     "output_type": "display_data"
    }
   ],
   "source": [
    "reg_top('Северная Америка', 'na_sales', 'genre')"
   ]
  },
  {
   "cell_type": "markdown",
   "metadata": {},
   "source": [
    "В Северной Америке самый популярный жанр - Action - 34% среди топ-5 жанров. На 2 месте - Shooter (29%). Отрывы между соседними позициями достаточно равномерные и равны 4-5 процентных пунктам. Т.е. вкусы аудитории достаточно разнообразны."
   ]
  },
  {
   "cell_type": "markdown",
   "metadata": {},
   "source": [
    "Посмотрим, какие жанры предпочитают в **Европе**:"
   ]
  },
  {
   "cell_type": "code",
   "execution_count": 37,
   "metadata": {},
   "outputs": [
    {
     "name": "stdout",
     "output_type": "stream",
     "text": [
      "Европа\n"
     ]
    },
    {
     "data": {
      "text/html": [
       "<div>\n",
       "<style scoped>\n",
       "    .dataframe tbody tr th:only-of-type {\n",
       "        vertical-align: middle;\n",
       "    }\n",
       "\n",
       "    .dataframe tbody tr th {\n",
       "        vertical-align: top;\n",
       "    }\n",
       "\n",
       "    .dataframe thead th {\n",
       "        text-align: right;\n",
       "    }\n",
       "</style>\n",
       "<table border=\"1\" class=\"dataframe\">\n",
       "  <thead>\n",
       "    <tr style=\"text-align: right;\">\n",
       "      <th>genre</th>\n",
       "      <th>Action</th>\n",
       "      <th>Shooter</th>\n",
       "      <th>Sports</th>\n",
       "      <th>Role-Playing</th>\n",
       "      <th>Racing</th>\n",
       "    </tr>\n",
       "  </thead>\n",
       "  <tbody>\n",
       "    <tr>\n",
       "      <th>eu_sales</th>\n",
       "      <td>118.13</td>\n",
       "      <td>87.86</td>\n",
       "      <td>60.52</td>\n",
       "      <td>36.97</td>\n",
       "      <td>20.19</td>\n",
       "    </tr>\n",
       "  </tbody>\n",
       "</table>\n",
       "</div>"
      ],
      "text/plain": [
       "genre     Action  Shooter  Sports  Role-Playing  Racing\n",
       "eu_sales  118.13    87.86   60.52         36.97   20.19"
      ]
     },
     "metadata": {},
     "output_type": "display_data"
    },
    {
     "data": {
      "image/png": "[encoded data removed]",
      "text/plain": [
       "<Figure size 432x288 with 1 Axes>"
      ]
     },
     "metadata": {},
     "output_type": "display_data"
    }
   ],
   "source": [
    "reg_top('Европа', 'eu_sales', 'genre')"
   ]
  },
  {
   "cell_type": "markdown",
   "metadata": {},
   "source": [
    "Европейский рейтинг жанров похож на Североамериканский с той лишь разницей, что в Европе на 5 месте вместо Misc находится Racing (6%). Здесь уже отрыв между соседними жанрами больше и составляет 5-9 процентных пунктов. В лидерах все также Action и  Shooter."
   ]
  },
  {
   "cell_type": "markdown",
   "metadata": {},
   "source": [
    "Теперь проверим топ-5 жанров в **Японии**:"
   ]
  },
  {
   "cell_type": "code",
   "execution_count": 38,
   "metadata": {},
   "outputs": [
    {
     "name": "stdout",
     "output_type": "stream",
     "text": [
      "Япония\n"
     ]
    },
    {
     "data": {
      "text/html": [
       "<div>\n",
       "<style scoped>\n",
       "    .dataframe tbody tr th:only-of-type {\n",
       "        vertical-align: middle;\n",
       "    }\n",
       "\n",
       "    .dataframe tbody tr th {\n",
       "        vertical-align: top;\n",
       "    }\n",
       "\n",
       "    .dataframe thead th {\n",
       "        text-align: right;\n",
       "    }\n",
       "</style>\n",
       "<table border=\"1\" class=\"dataframe\">\n",
       "  <thead>\n",
       "    <tr style=\"text-align: right;\">\n",
       "      <th>genre</th>\n",
       "      <th>Role-Playing</th>\n",
       "      <th>Action</th>\n",
       "      <th>Misc</th>\n",
       "      <th>Fighting</th>\n",
       "      <th>Shooter</th>\n",
       "    </tr>\n",
       "  </thead>\n",
       "  <tbody>\n",
       "    <tr>\n",
       "      <th>jp_sales</th>\n",
       "      <td>51.04</td>\n",
       "      <td>40.49</td>\n",
       "      <td>9.20</td>\n",
       "      <td>7.65</td>\n",
       "      <td>6.61</td>\n",
       "    </tr>\n",
       "  </tbody>\n",
       "</table>\n",
       "</div>"
      ],
      "text/plain": [
       "genre     Role-Playing  Action  Misc  Fighting  Shooter\n",
       "jp_sales         51.04   40.49  9.20      7.65     6.61"
      ]
     },
     "metadata": {},
     "output_type": "display_data"
    },
    {
     "data": {
      "image/png": "[encoded data removed]",
      "text/plain": [
       "<Figure size 432x288 with 1 Axes>"
      ]
     },
     "metadata": {},
     "output_type": "display_data"
    }
   ],
   "source": [
    "reg_top('Япония', 'jp_sales', 'genre')"
   ]
  },
  {
   "cell_type": "markdown",
   "metadata": {},
   "source": [
    "В Японии с большим отрывом лидирует жанр Role-Playing (44%). В Северной Америке и Европе он лишь на 4 месте. Action также популярен, как и в предыдущих регионах, но тем не менее занимает 2 место с долей 35%. Shooter менее популярен, чем на Западе, его доля всего 6%. В Японский рейтинг топ-5 также попал жанр Fighting (7%), который не ценят американцы и европейцы. Такие отличия в предпочтениях связаны с менталитетом и культурными особенностями. В японии аудитория более однородна по своим предпочтениям, чем на Западе."
   ]
  },
  {
   "cell_type": "markdown",
   "metadata": {},
   "source": [
    "### Влияние рейтинга ESRB на продажи "
   ]
  },
  {
   "cell_type": "markdown",
   "metadata": {},
   "source": [
    "Проверим, влияет ли возрастной рейтинг на объем продаж в **Северной Америке**:"
   ]
  },
  {
   "cell_type": "code",
   "execution_count": 39,
   "metadata": {},
   "outputs": [
    {
     "name": "stdout",
     "output_type": "stream",
     "text": [
      "Северная Америка\n"
     ]
    },
    {
     "data": {
      "text/html": [
       "<div>\n",
       "<style scoped>\n",
       "    .dataframe tbody tr th:only-of-type {\n",
       "        vertical-align: middle;\n",
       "    }\n",
       "\n",
       "    .dataframe tbody tr th {\n",
       "        vertical-align: top;\n",
       "    }\n",
       "\n",
       "    .dataframe thead th {\n",
       "        text-align: right;\n",
       "    }\n",
       "</style>\n",
       "<table border=\"1\" class=\"dataframe\">\n",
       "  <thead>\n",
       "    <tr style=\"text-align: right;\">\n",
       "      <th>rating</th>\n",
       "      <th>M</th>\n",
       "      <th>unknown</th>\n",
       "      <th>E</th>\n",
       "      <th>E10+</th>\n",
       "      <th>T</th>\n",
       "    </tr>\n",
       "  </thead>\n",
       "  <tbody>\n",
       "    <tr>\n",
       "      <th>na_sales</th>\n",
       "      <td>165.21</td>\n",
       "      <td>89.42</td>\n",
       "      <td>79.05</td>\n",
       "      <td>54.24</td>\n",
       "      <td>49.79</td>\n",
       "    </tr>\n",
       "  </tbody>\n",
       "</table>\n",
       "</div>"
      ],
      "text/plain": [
       "rating        M  unknown     E  E10+     T\n",
       "na_sales 165.21    89.42 79.05 54.24 49.79"
      ]
     },
     "metadata": {},
     "output_type": "display_data"
    },
    {
     "data": {
      "image/png": "[encoded data removed]",
      "text/plain": [
       "<Figure size 432x288 with 1 Axes>"
      ]
     },
     "metadata": {},
     "output_type": "display_data"
    }
   ],
   "source": [
    "reg_top('Северная Америка', 'na_sales', 'rating')"
   ]
  },
  {
   "cell_type": "markdown",
   "metadata": {},
   "source": [
    "Наибольшей популярностью в Северной Америке пользуются игры с рейтингом М - для взрослых (38% продаж). На 2 месте - игры без рейтинга, на 3м - игры для любых возрастов (18%)."
   ]
  },
  {
   "cell_type": "code",
   "execution_count": 40,
   "metadata": {},
   "outputs": [
    {
     "name": "stdout",
     "output_type": "stream",
     "text": [
      "Европа\n"
     ]
    },
    {
     "data": {
      "text/html": [
       "<div>\n",
       "<style scoped>\n",
       "    .dataframe tbody tr th:only-of-type {\n",
       "        vertical-align: middle;\n",
       "    }\n",
       "\n",
       "    .dataframe tbody tr th {\n",
       "        vertical-align: top;\n",
       "    }\n",
       "\n",
       "    .dataframe thead th {\n",
       "        text-align: right;\n",
       "    }\n",
       "</style>\n",
       "<table border=\"1\" class=\"dataframe\">\n",
       "  <thead>\n",
       "    <tr style=\"text-align: right;\">\n",
       "      <th>rating</th>\n",
       "      <th>M</th>\n",
       "      <th>E</th>\n",
       "      <th>unknown</th>\n",
       "      <th>E10+</th>\n",
       "      <th>T</th>\n",
       "    </tr>\n",
       "  </thead>\n",
       "  <tbody>\n",
       "    <tr>\n",
       "      <th>eu_sales</th>\n",
       "      <td>145.32</td>\n",
       "      <td>83.36</td>\n",
       "      <td>78.91</td>\n",
       "      <td>42.69</td>\n",
       "      <td>41.95</td>\n",
       "    </tr>\n",
       "  </tbody>\n",
       "</table>\n",
       "</div>"
      ],
      "text/plain": [
       "rating        M     E  unknown  E10+     T\n",
       "eu_sales 145.32 83.36    78.91 42.69 41.95"
      ]
     },
     "metadata": {},
     "output_type": "display_data"
    },
    {
     "data": {
      "image/png": "[encoded data removed]",
      "text/plain": [
       "<Figure size 432x288 with 1 Axes>"
      ]
     },
     "metadata": {},
     "output_type": "display_data"
    }
   ],
   "source": [
    "reg_top('Европа', 'eu_sales', 'rating')"
   ]
  },
  {
   "cell_type": "markdown",
   "metadata": {},
   "source": [
    "В Европе распределение долей возрастных рейтингов аналогичны североамериканским. "
   ]
  },
  {
   "cell_type": "code",
   "execution_count": 41,
   "metadata": {},
   "outputs": [
    {
     "name": "stdout",
     "output_type": "stream",
     "text": [
      "Япония\n"
     ]
    },
    {
     "data": {
      "text/html": [
       "<div>\n",
       "<style scoped>\n",
       "    .dataframe tbody tr th:only-of-type {\n",
       "        vertical-align: middle;\n",
       "    }\n",
       "\n",
       "    .dataframe tbody tr th {\n",
       "        vertical-align: top;\n",
       "    }\n",
       "\n",
       "    .dataframe thead th {\n",
       "        text-align: right;\n",
       "    }\n",
       "</style>\n",
       "<table border=\"1\" class=\"dataframe\">\n",
       "  <thead>\n",
       "    <tr style=\"text-align: right;\">\n",
       "      <th>rating</th>\n",
       "      <th>unknown</th>\n",
       "      <th>T</th>\n",
       "      <th>E</th>\n",
       "      <th>M</th>\n",
       "      <th>E10+</th>\n",
       "    </tr>\n",
       "  </thead>\n",
       "  <tbody>\n",
       "    <tr>\n",
       "      <th>jp_sales</th>\n",
       "      <td>85.05</td>\n",
       "      <td>20.59</td>\n",
       "      <td>15.14</td>\n",
       "      <td>14.11</td>\n",
       "      <td>5.89</td>\n",
       "    </tr>\n",
       "  </tbody>\n",
       "</table>\n",
       "</div>"
      ],
      "text/plain": [
       "rating    unknown     T     E     M  E10+\n",
       "jp_sales    85.05 20.59 15.14 14.11  5.89"
      ]
     },
     "metadata": {},
     "output_type": "display_data"
    },
    {
     "data": {
      "image/png": "[encoded data removed]",
      "text/plain": [
       "<Figure size 432x288 with 1 Axes>"
      ]
     },
     "metadata": {},
     "output_type": "display_data"
    }
   ],
   "source": [
    "reg_top('Япония', 'jp_sales', 'rating')"
   ]
  },
  {
   "cell_type": "markdown",
   "metadata": {},
   "source": [
    "В Японии на 1 месте игры, у которых рейтинг неизвестен - 60%. А все потому, что у Японцев есть своя рейтинговая система. \n",
    "\n",
    "Если анализировать западные рейтинги, то здесь игры для подростков популярнее игр для взрослых - 15% и 10% соотвтественно. Либо взрослые менее склонны играть в компьютерные игры, либо предпочитают более безобидные игры, подходящие и для детей тоже. Но для корректного сравнения нам необходимы данные о японских рейтингах, тогда можно было бы сопоставить их с западными и сделать обоснованные выводы."
   ]
  },
  {
   "cell_type": "markdown",
   "metadata": {},
   "source": [
    "### Вывод"
   ]
  },
  {
   "cell_type": "markdown",
   "metadata": {},
   "source": [
    "<p></p>\n",
    "\n",
    "<div style=\"border:solid green 2px; padding: 20px\">\n",
    "    \n",
    "Портреты пользователей в Северной Америке и Европе похожи. \n",
    "\n",
    "- Список топ-5 платформ у них одинаков (PS4, XOne, X360, PS3, 3DS).\n",
    "- Топ-5 популярных жанров также идентичны (Action, Shooter, Sports,  Role-Playing) и различаются только последним местом: в Северной Америке это Misc, а в Европе - Racing.    \n",
    "- Популярность игр в разрезе возрастных рейтингов совпадает (М - 37-38%, E - 18-21%, Е10+ - 11-12%, Т - 11%,).  \n",
    "    \n",
    "Пользователи в Японии более самобытны.\n",
    "\n",
    "- В топ-5 платформ не попали популярные на западе  XOne, X360, и 3DS, но попали 3DS, PSV и WiiU. Это связано с тем, что японцы любят играть на плдатформах собственного производства.  \n",
    "- По жанрам на 1 месте - Role-Playing, который на Западе занимает лишь 4ое место. На 2м месте - популярный на западе Action. Японцы не любят жанр Sports, но зато интересуются Fighting.  \n",
    "- Среди возрастных рейтингов меньшую долю занимают игры для взрослых (М)- всего лишь 10%. Японцы предпочитают им более универсальные игры для всех возрастов (Е) либо для подростков (Т). Однако значительная часть популярных игр (60%) не имеет западного возрастного рейтинга, т.к. в Японии есть собственная рейтинговая система.\n",
    "    \n",
    "</div>"
   ]
  },
  {
   "cell_type": "markdown",
   "metadata": {},
   "source": [
    "## Проверка гипотез"
   ]
  },
  {
   "cell_type": "markdown",
   "metadata": {},
   "source": [
    "Для анализа распределения пользовательских рейтингов по платформам и по жанрам напишем функцию, которая будет принимать в качестве аргументов признак сравнения и критерии фильтрации, а возвращать - описания статистик и гистограммы:"
   ]
  },
  {
   "cell_type": "code",
   "execution_count": 42,
   "metadata": {},
   "outputs": [],
   "source": [
    "attributes = ['platform', 'genre']\n",
    "filters1 = ['XOne', 'PC']\n",
    "filters2 = ['Action', 'Sports']\n",
    "\n",
    "def compare(attribute, filter1, filter2):\n",
    "    df_f1 = df_new[df_new[attribute] == filter1]['user_score']\n",
    "    df_f2 = df_new[df_new[attribute] == filter2]['user_score']\n",
    "    \n",
    "    descr = df_new[(df_new[attribute] == filter1) | (df_new[attribute] == filter2)]\\\n",
    "    .pivot_table(index= attribute, values= 'user_score', aggfunc= ['min', 'max','mean', 'median','var','std', 'count'])\n",
    "    \n",
    "    display(descr)\n",
    "    \n",
    "    ax = df_f1.plot(kind='hist', histtype='step', bins=30, linewidth=5, alpha=0.7, label=filter1)\n",
    "    df_f2.plot(kind='hist', histtype='step', bins=30, linewidth=5, alpha=0.7, label=filter2,\n",
    "              ax=ax, grid=True, legend=True, figsize=(16, 5));\n",
    "    plt.xlabel('оценка пользователей')"
   ]
  },
  {
   "cell_type": "markdown",
   "metadata": {},
   "source": [
    "### Средние пользовательские рейтинги платформ Xbox One и PC одинаковые"
   ]
  },
  {
   "cell_type": "markdown",
   "metadata": {},
   "source": [
    "Посмотрим на распределения пользовавтельских рейтингов для платформ Xbox One и PC:"
   ]
  },
  {
   "cell_type": "code",
   "execution_count": 43,
   "metadata": {},
   "outputs": [
    {
     "data": {
      "text/html": [
       "<div>\n",
       "<style scoped>\n",
       "    .dataframe tbody tr th:only-of-type {\n",
       "        vertical-align: middle;\n",
       "    }\n",
       "\n",
       "    .dataframe tbody tr th {\n",
       "        vertical-align: top;\n",
       "    }\n",
       "\n",
       "    .dataframe thead tr th {\n",
       "        text-align: left;\n",
       "    }\n",
       "\n",
       "    .dataframe thead tr:last-of-type th {\n",
       "        text-align: right;\n",
       "    }\n",
       "</style>\n",
       "<table border=\"1\" class=\"dataframe\">\n",
       "  <thead>\n",
       "    <tr>\n",
       "      <th></th>\n",
       "      <th>min</th>\n",
       "      <th>max</th>\n",
       "      <th>mean</th>\n",
       "      <th>median</th>\n",
       "      <th>var</th>\n",
       "      <th>std</th>\n",
       "      <th>count</th>\n",
       "    </tr>\n",
       "    <tr>\n",
       "      <th></th>\n",
       "      <th>user_score</th>\n",
       "      <th>user_score</th>\n",
       "      <th>user_score</th>\n",
       "      <th>user_score</th>\n",
       "      <th>user_score</th>\n",
       "      <th>user_score</th>\n",
       "      <th>user_score</th>\n",
       "    </tr>\n",
       "    <tr>\n",
       "      <th>platform</th>\n",
       "      <th></th>\n",
       "      <th></th>\n",
       "      <th></th>\n",
       "      <th></th>\n",
       "      <th></th>\n",
       "      <th></th>\n",
       "      <th></th>\n",
       "    </tr>\n",
       "  </thead>\n",
       "  <tbody>\n",
       "    <tr>\n",
       "      <th>PC</th>\n",
       "      <td>1.40</td>\n",
       "      <td>9.30</td>\n",
       "      <td>7.03</td>\n",
       "      <td>7.50</td>\n",
       "      <td>2.32</td>\n",
       "      <td>1.52</td>\n",
       "      <td>733</td>\n",
       "    </tr>\n",
       "    <tr>\n",
       "      <th>XOne</th>\n",
       "      <td>1.60</td>\n",
       "      <td>9.20</td>\n",
       "      <td>6.52</td>\n",
       "      <td>6.80</td>\n",
       "      <td>1.91</td>\n",
       "      <td>1.38</td>\n",
       "      <td>182</td>\n",
       "    </tr>\n",
       "  </tbody>\n",
       "</table>\n",
       "</div>"
      ],
      "text/plain": [
       "                min        max       mean     median        var        std  \\\n",
       "         user_score user_score user_score user_score user_score user_score   \n",
       "platform                                                                     \n",
       "PC             1.40       9.30       7.03       7.50       2.32       1.52   \n",
       "XOne           1.60       9.20       6.52       6.80       1.91       1.38   \n",
       "\n",
       "              count  \n",
       "         user_score  \n",
       "platform             \n",
       "PC              733  \n",
       "XOne            182  "
      ]
     },
     "metadata": {},
     "output_type": "display_data"
    },
    {
     "data": {
      "text/plain": [
       "Text(0.5, 1.0, 'Распределение оценок пользователей для платформ Xbox One и PC')"
      ]
     },
     "execution_count": 43,
     "metadata": {},
     "output_type": "execute_result"
    },
    {
     "data": {
      "image/png": "[encoded data removed]",
      "text/plain": [
       "<Figure size 1152x360 with 1 Axes>"
      ]
     },
     "metadata": {
      "needs_background": "light"
     },
     "output_type": "display_data"
    }
   ],
   "source": [
    "compare('platform', 'XOne', 'PC')\n",
    "plt.title('Распределение оценок пользователей для платформ Xbox One и PC')"
   ]
  },
  {
   "cell_type": "markdown",
   "metadata": {},
   "source": [
    "Средняя оценка пользователей для платформы XOne равна 6.52, медиана - 6.8.   \n",
    "Средняя оценка пользователей для платформы PC равна 7.03, медиана - 7.5.  \n",
    "Обе выборки скошены влево (среднее меньше медианы), диапазон оценок для РС чуть больше, чем для XOne (дисперсия у РС больше).\n",
    "\n",
    "**Проверим гипотезу: Средние пользовательские рейтинги платформ Xbox One и PC одинаковые**.\n",
    "\n",
    "Нулевая гипотеза: Средние пользовательские рейтинги платформ Xbox One и PC одинаковые.  \n",
    "Альтернативная гипотеза: Средние пользовательские рейтинги платформ Xbox One и PC различаются.\n",
    "\n",
    "Имеем 2 независимые выборки, проверять гипотезу будем критерием Стьюдента.\n",
    "\n",
    "Выборки у нас отличаются по объему и дисперсии разные. Значит, equal_var примем равным False. Критический уровень статистической значимости зададим на уровне 1%."
   ]
  },
  {
   "cell_type": "code",
   "execution_count": 44,
   "metadata": {},
   "outputs": [
    {
     "name": "stdout",
     "output_type": "stream",
     "text": [
      "Ttest_indResult(statistic=-4.392287969636033, pvalue=1.5572602375039903e-05)\n",
      "Отвергаем нулевую гипотезу\n"
     ]
    }
   ],
   "source": [
    "alpha = 0.01\n",
    "df_xone = df_new[(df_new['platform'] == 'XOne') & (df_new['user_score'].isna() == False)]['user_score']\n",
    "df_pc = df_new[(df_new['platform'] == 'PC') & (df_new['user_score'].isna() == False)]['user_score']\n",
    "\n",
    "results = st.ttest_ind(df_xone, df_pc, equal_var=False)\n",
    "print(results)\n",
    "\n",
    "if results.pvalue < alpha:\n",
    "    print('Отвергаем нулевую гипотезу')\n",
    "else:\n",
    "    print('Не получилось отвергнуть нулевую гипотезу')"
   ]
  },
  {
   "cell_type": "markdown",
   "metadata": {},
   "source": [
    "Вероятность того, что средние пользовательские рейтинги платформ Xbox One и PC одинаковые ниже уровня статистической значимости. \n",
    "\n",
    "Вывод: средние пользовательские рейтинги платформ Xbox One и PC различаются, у PC средняя оценка выше."
   ]
  },
  {
   "cell_type": "markdown",
   "metadata": {},
   "source": [
    "### Средние пользовательские рейтинги жанров Action и Sports разные"
   ]
  },
  {
   "cell_type": "markdown",
   "metadata": {},
   "source": [
    "Изучим распределение пользовтельского рейтинга для жанров Action и Sports:"
   ]
  },
  {
   "cell_type": "code",
   "execution_count": 45,
   "metadata": {},
   "outputs": [
    {
     "data": {
      "text/html": [
       "<div>\n",
       "<style scoped>\n",
       "    .dataframe tbody tr th:only-of-type {\n",
       "        vertical-align: middle;\n",
       "    }\n",
       "\n",
       "    .dataframe tbody tr th {\n",
       "        vertical-align: top;\n",
       "    }\n",
       "\n",
       "    .dataframe thead tr th {\n",
       "        text-align: left;\n",
       "    }\n",
       "\n",
       "    .dataframe thead tr:last-of-type th {\n",
       "        text-align: right;\n",
       "    }\n",
       "</style>\n",
       "<table border=\"1\" class=\"dataframe\">\n",
       "  <thead>\n",
       "    <tr>\n",
       "      <th></th>\n",
       "      <th>min</th>\n",
       "      <th>max</th>\n",
       "      <th>mean</th>\n",
       "      <th>median</th>\n",
       "      <th>var</th>\n",
       "      <th>std</th>\n",
       "      <th>count</th>\n",
       "    </tr>\n",
       "    <tr>\n",
       "      <th></th>\n",
       "      <th>user_score</th>\n",
       "      <th>user_score</th>\n",
       "      <th>user_score</th>\n",
       "      <th>user_score</th>\n",
       "      <th>user_score</th>\n",
       "      <th>user_score</th>\n",
       "      <th>user_score</th>\n",
       "    </tr>\n",
       "    <tr>\n",
       "      <th>genre</th>\n",
       "      <th></th>\n",
       "      <th></th>\n",
       "      <th></th>\n",
       "      <th></th>\n",
       "      <th></th>\n",
       "      <th></th>\n",
       "      <th></th>\n",
       "    </tr>\n",
       "  </thead>\n",
       "  <tbody>\n",
       "    <tr>\n",
       "      <th>Action</th>\n",
       "      <td>0.30</td>\n",
       "      <td>9.50</td>\n",
       "      <td>7.04</td>\n",
       "      <td>7.30</td>\n",
       "      <td>2.02</td>\n",
       "      <td>1.42</td>\n",
       "      <td>1780</td>\n",
       "    </tr>\n",
       "    <tr>\n",
       "      <th>Sports</th>\n",
       "      <td>0.20</td>\n",
       "      <td>9.50</td>\n",
       "      <td>6.95</td>\n",
       "      <td>7.40</td>\n",
       "      <td>2.62</td>\n",
       "      <td>1.62</td>\n",
       "      <td>1078</td>\n",
       "    </tr>\n",
       "  </tbody>\n",
       "</table>\n",
       "</div>"
      ],
      "text/plain": [
       "              min        max       mean     median        var        std  \\\n",
       "       user_score user_score user_score user_score user_score user_score   \n",
       "genre                                                                      \n",
       "Action       0.30       9.50       7.04       7.30       2.02       1.42   \n",
       "Sports       0.20       9.50       6.95       7.40       2.62       1.62   \n",
       "\n",
       "            count  \n",
       "       user_score  \n",
       "genre              \n",
       "Action       1780  \n",
       "Sports       1078  "
      ]
     },
     "metadata": {},
     "output_type": "display_data"
    },
    {
     "data": {
      "text/plain": [
       "Text(0.5, 1.0, 'Распределение оценок пользователей для жанров Action и Sports')"
      ]
     },
     "execution_count": 45,
     "metadata": {},
     "output_type": "execute_result"
    },
    {
     "data": {
      "image/png": "[encoded data removed]",
      "text/plain": [
       "<Figure size 1152x360 with 1 Axes>"
      ]
     },
     "metadata": {
      "needs_background": "light"
     },
     "output_type": "display_data"
    }
   ],
   "source": [
    "compare('genre', 'Action', 'Sports')\n",
    "plt.title('Распределение оценок пользователей для жанров Action и Sports')"
   ]
  },
  {
   "cell_type": "markdown",
   "metadata": {},
   "source": [
    "Для жанра Action средняя оценка пользователей в нашей выборке составляет 7.05, медиана - 7.3, дисперсия - 2.02.   \n",
    "Для жанра Sports эти показатели равны соответственно 6.95, 7.40, 2.62.  \n",
    "Обе выборки скошены влево (среднее меньше медианы).\n",
    "\n",
    "**Проверим гипотезу: Средние пользовательские рейтинги жанров Action и Sports разные**:\n",
    "\n",
    "Нулевая гипотеза: Средние пользовательские рейтинги жанров Action и Sports равны.  \n",
    "Альтернативная гипотеза: Средние пользовательские рейтинги жанров Action и Sports различаются.\n",
    "\n",
    "Выборки у нас отличаются по объему и дисперсии. Значит, equal_var примем равным False. Критический уровень статистической значимости зададим на уровне 1%."
   ]
  },
  {
   "cell_type": "code",
   "execution_count": 46,
   "metadata": {},
   "outputs": [
    {
     "name": "stdout",
     "output_type": "stream",
     "text": [
      "Ttest_indResult(statistic=1.6021934927750798, pvalue=0.10926700761431733)\n",
      "Не получилось отвергнуть нулевую гипотезу\n"
     ]
    }
   ],
   "source": [
    "alpha = 0.01\n",
    "df_action = df_new[(df_new['genre'] == 'Action') & (df_new['user_score'].isna() == False)]['user_score']\n",
    "df_sports = df_new[(df_new['genre'] == 'Sports') & (df_new['user_score'].isna() == False)]['user_score']\n",
    "\n",
    "results = st.ttest_ind(df_action, df_sports, equal_var=False)\n",
    "print(results)\n",
    "\n",
    "if results.pvalue < alpha:\n",
    "    print('Отвергаем нулевую гипотезу')\n",
    "else:\n",
    "    print('Не получилось отвергнуть нулевую гипотезу')"
   ]
  },
  {
   "cell_type": "markdown",
   "metadata": {},
   "source": [
    "Вывод: вероятность того, что средние пользовательские рейтинги жанров Action и Sports равны достаточно велика и составляет 10% (что значительно выше уровня статистической значимости)."
   ]
  },
  {
   "cell_type": "markdown",
   "metadata": {},
   "source": [
    "### Вывод"
   ]
  },
  {
   "cell_type": "markdown",
   "metadata": {},
   "source": [
    "<p></p>\n",
    "\n",
    "<div style=\"border:solid green 2px; padding: 20px\">\n",
    "Средние пользовательские рейтинги платформ Xbox One и PC различаются (вероятность их равенства ниже уровня статистической значимости).\n",
    "    \n",
    "Средние пользовательские рейтинги жанров Action и Sports равны с вероятностью выше уровня статистической значисмости.\n",
    "    \n",
    "    \n",
    "</div>"
   ]
  },
  {
   "cell_type": "markdown",
   "metadata": {},
   "source": [
    "## Общий вывод"
   ]
  },
  {
   "cell_type": "markdown",
   "metadata": {},
   "source": [
    "<p></p>\n",
    "\n",
    "<div style=\"border:solid green 2px; padding: 20px\">\n",
    "Для успешных продаж по всему миру интернет-магазину «Стримчик» следует включать в ассортимент, в первую очередь, следующие  компьютерные игры:\n",
    "    \n",
    "- выпущенные на перспективных платформах PS4 и Xbox One (а для Японии еще и 3DS);\n",
    "- с самыми прибыльными жанрами Shooter, Sports, Platform, Role-Playing, Racing, а также популярным жанром Action;\n",
    "- с наиболее популярными возрастными рейтингами  М, Т, E;\n",
    "- с высокой оценкой критиков.\n",
    "    \n",
    "Для успеха в отдельных регионах дополнительно следует включить:\n",
    "- для Северной Америки - жанр Misc;\n",
    "- для Японии - жанры Misc и Fighting.\n",
    "    \n",
    "Оценка пользователей на продажи не влияет, ее можно игнорировать.\n",
    "    \n",
    "</div>"
   ]
  }
 ],
 "metadata": {
  "ExecuteTimeLog": [
   {
    "duration": 1645,
    "start_time": "2022-02-09T06:33:16.835Z"
   },
   {
    "duration": 44,
    "start_time": "2022-02-09T06:34:20.955Z"
   },
   {
    "duration": 61,
    "start_time": "2022-02-09T06:34:31.550Z"
   },
   {
    "duration": 6,
    "start_time": "2022-02-09T06:40:51.803Z"
   },
   {
    "duration": 4,
    "start_time": "2022-02-09T06:42:51.061Z"
   },
   {
    "duration": 439,
    "start_time": "2022-02-09T06:43:02.385Z"
   },
   {
    "duration": 6,
    "start_time": "2022-02-09T06:43:06.101Z"
   },
   {
    "duration": 16,
    "start_time": "2022-02-09T06:45:04.785Z"
   },
   {
    "duration": 55,
    "start_time": "2022-02-09T06:49:50.954Z"
   },
   {
    "duration": 331,
    "start_time": "2022-02-09T07:02:00.472Z"
   },
   {
    "duration": 285,
    "start_time": "2022-02-09T07:02:16.430Z"
   },
   {
    "duration": 301,
    "start_time": "2022-02-09T07:02:28.258Z"
   },
   {
    "duration": 332,
    "start_time": "2022-02-09T07:02:34.666Z"
   },
   {
    "duration": 1372,
    "start_time": "2022-02-09T07:03:06.115Z"
   },
   {
    "duration": 69,
    "start_time": "2022-02-09T07:03:07.490Z"
   },
   {
    "duration": 6,
    "start_time": "2022-02-09T07:03:07.562Z"
   },
   {
    "duration": 15,
    "start_time": "2022-02-09T07:03:07.570Z"
   },
   {
    "duration": 454,
    "start_time": "2022-02-09T07:03:07.588Z"
   },
   {
    "duration": 302,
    "start_time": "2022-02-09T07:04:39.057Z"
   },
   {
    "duration": 5,
    "start_time": "2022-02-09T07:05:41.615Z"
   },
   {
    "duration": 24,
    "start_time": "2022-02-09T07:18:49.331Z"
   },
   {
    "duration": 14,
    "start_time": "2022-02-09T07:23:36.888Z"
   },
   {
    "duration": 14,
    "start_time": "2022-02-09T07:23:52.777Z"
   },
   {
    "duration": 14,
    "start_time": "2022-02-09T07:25:21.770Z"
   },
   {
    "duration": 36,
    "start_time": "2022-02-09T07:26:03.951Z"
   },
   {
    "duration": 13,
    "start_time": "2022-02-09T07:28:37.276Z"
   },
   {
    "duration": 10,
    "start_time": "2022-02-09T07:34:40.966Z"
   },
   {
    "duration": 7,
    "start_time": "2022-02-09T07:39:22.275Z"
   },
   {
    "duration": 7,
    "start_time": "2022-02-09T07:40:17.355Z"
   },
   {
    "duration": 412,
    "start_time": "2022-02-09T07:41:05.665Z"
   },
   {
    "duration": 327,
    "start_time": "2022-02-09T07:41:12.725Z"
   },
   {
    "duration": 384,
    "start_time": "2022-02-09T07:41:18.495Z"
   },
   {
    "duration": 297,
    "start_time": "2022-02-09T07:41:32.473Z"
   },
   {
    "duration": 343,
    "start_time": "2022-02-09T07:42:05.198Z"
   },
   {
    "duration": 299,
    "start_time": "2022-02-09T07:42:24.342Z"
   },
   {
    "duration": 306,
    "start_time": "2022-02-09T07:50:48.498Z"
   },
   {
    "duration": 4,
    "start_time": "2022-02-09T07:51:03.960Z"
   },
   {
    "duration": 308,
    "start_time": "2022-02-09T07:52:05.653Z"
   },
   {
    "duration": 319,
    "start_time": "2022-02-09T07:52:15.773Z"
   },
   {
    "duration": 283,
    "start_time": "2022-02-09T07:52:37.936Z"
   },
   {
    "duration": 302,
    "start_time": "2022-02-09T07:53:50.770Z"
   },
   {
    "duration": 9,
    "start_time": "2022-02-09T07:53:57.416Z"
   },
   {
    "duration": 11,
    "start_time": "2022-02-09T08:07:01.883Z"
   },
   {
    "duration": 289,
    "start_time": "2022-02-09T08:11:53.221Z"
   },
   {
    "duration": 8,
    "start_time": "2022-02-09T08:12:04.519Z"
   },
   {
    "duration": 295,
    "start_time": "2022-02-09T08:12:13.272Z"
   },
   {
    "duration": 315,
    "start_time": "2022-02-09T08:13:40.543Z"
   },
   {
    "duration": 9,
    "start_time": "2022-02-09T08:17:24.810Z"
   },
   {
    "duration": 11,
    "start_time": "2022-02-09T08:17:33.127Z"
   },
   {
    "duration": 12,
    "start_time": "2022-02-09T08:17:39.917Z"
   },
   {
    "duration": 12,
    "start_time": "2022-02-09T08:17:48.257Z"
   },
   {
    "duration": 316,
    "start_time": "2022-02-09T08:19:04.443Z"
   },
   {
    "duration": 11,
    "start_time": "2022-02-09T08:19:15.667Z"
   },
   {
    "duration": 10,
    "start_time": "2022-02-09T08:21:08.056Z"
   },
   {
    "duration": 12,
    "start_time": "2022-02-09T08:34:42.772Z"
   },
   {
    "duration": 13,
    "start_time": "2022-02-09T08:37:45.850Z"
   },
   {
    "duration": 13,
    "start_time": "2022-02-09T08:38:25.192Z"
   },
   {
    "duration": 13,
    "start_time": "2022-02-09T08:39:27.533Z"
   },
   {
    "duration": 12,
    "start_time": "2022-02-09T08:43:07.062Z"
   },
   {
    "duration": 9,
    "start_time": "2022-02-09T08:43:47.786Z"
   },
   {
    "duration": 15,
    "start_time": "2022-02-09T08:44:02.617Z"
   },
   {
    "duration": 13,
    "start_time": "2022-02-09T08:49:47.212Z"
   },
   {
    "duration": 26,
    "start_time": "2022-02-09T08:50:45.952Z"
   },
   {
    "duration": 14,
    "start_time": "2022-02-09T08:50:59.822Z"
   },
   {
    "duration": 19,
    "start_time": "2022-02-09T09:01:02.852Z"
   },
   {
    "duration": 21,
    "start_time": "2022-02-09T09:01:15.421Z"
   },
   {
    "duration": 296,
    "start_time": "2022-02-10T04:06:29.429Z"
   },
   {
    "duration": 1273,
    "start_time": "2022-02-10T04:06:40.764Z"
   },
   {
    "duration": 60,
    "start_time": "2022-02-10T04:06:42.039Z"
   },
   {
    "duration": 6,
    "start_time": "2022-02-10T04:06:42.102Z"
   },
   {
    "duration": 48,
    "start_time": "2022-02-10T04:06:42.111Z"
   },
   {
    "duration": 9,
    "start_time": "2022-02-10T04:06:42.163Z"
   },
   {
    "duration": 13,
    "start_time": "2022-02-10T04:06:42.175Z"
   },
   {
    "duration": 14,
    "start_time": "2022-02-10T04:06:42.192Z"
   },
   {
    "duration": 48,
    "start_time": "2022-02-10T04:06:42.211Z"
   },
   {
    "duration": 18,
    "start_time": "2022-02-10T04:06:42.263Z"
   },
   {
    "duration": 17,
    "start_time": "2022-02-10T04:06:42.283Z"
   },
   {
    "duration": 5,
    "start_time": "2022-02-10T04:06:42.302Z"
   },
   {
    "duration": 62,
    "start_time": "2022-02-10T04:06:42.309Z"
   },
   {
    "duration": 17,
    "start_time": "2022-02-10T04:13:07.189Z"
   },
   {
    "duration": 25,
    "start_time": "2022-02-10T04:14:27.867Z"
   },
   {
    "duration": 25,
    "start_time": "2022-02-10T07:37:10.781Z"
   },
   {
    "duration": 323,
    "start_time": "2022-02-10T07:37:47.915Z"
   },
   {
    "duration": 304,
    "start_time": "2022-02-10T07:38:18.197Z"
   },
   {
    "duration": 309,
    "start_time": "2022-02-10T07:39:05.579Z"
   },
   {
    "duration": 377,
    "start_time": "2022-02-10T07:39:35.097Z"
   },
   {
    "duration": 355,
    "start_time": "2022-02-10T07:40:09.487Z"
   },
   {
    "duration": 418,
    "start_time": "2022-02-10T07:43:18.918Z"
   },
   {
    "duration": 387,
    "start_time": "2022-02-10T07:44:18.861Z"
   },
   {
    "duration": 143,
    "start_time": "2022-02-10T07:44:39.046Z"
   },
   {
    "duration": 489,
    "start_time": "2022-02-10T07:44:44.859Z"
   },
   {
    "duration": 684,
    "start_time": "2022-02-10T07:46:21.728Z"
   },
   {
    "duration": 413,
    "start_time": "2022-02-10T07:46:47.167Z"
   },
   {
    "duration": 388,
    "start_time": "2022-02-10T07:47:02.739Z"
   },
   {
    "duration": 10,
    "start_time": "2022-02-10T07:52:04.423Z"
   },
   {
    "duration": 18,
    "start_time": "2022-02-10T08:23:59.082Z"
   },
   {
    "duration": 49,
    "start_time": "2022-02-10T08:24:32.552Z"
   },
   {
    "duration": 9,
    "start_time": "2022-02-10T08:24:40.137Z"
   },
   {
    "duration": 21,
    "start_time": "2022-02-10T08:28:22.057Z"
   },
   {
    "duration": 22,
    "start_time": "2022-02-10T08:29:30.398Z"
   },
   {
    "duration": 316,
    "start_time": "2022-02-10T08:30:42.211Z"
   },
   {
    "duration": 596,
    "start_time": "2022-02-10T08:31:12.143Z"
   },
   {
    "duration": 486,
    "start_time": "2022-02-10T08:31:42.128Z"
   },
   {
    "duration": 415,
    "start_time": "2022-02-10T08:33:53.084Z"
   },
   {
    "duration": 289,
    "start_time": "2022-02-10T08:39:51.237Z"
   },
   {
    "duration": 1305,
    "start_time": "2022-02-10T08:40:24.994Z"
   },
   {
    "duration": 64,
    "start_time": "2022-02-10T08:40:26.301Z"
   },
   {
    "duration": 6,
    "start_time": "2022-02-10T08:40:26.368Z"
   },
   {
    "duration": 18,
    "start_time": "2022-02-10T08:40:26.376Z"
   },
   {
    "duration": 7,
    "start_time": "2022-02-10T08:40:26.397Z"
   },
   {
    "duration": 44,
    "start_time": "2022-02-10T08:40:26.407Z"
   },
   {
    "duration": 14,
    "start_time": "2022-02-10T08:40:26.454Z"
   },
   {
    "duration": 10,
    "start_time": "2022-02-10T08:40:26.472Z"
   },
   {
    "duration": 22,
    "start_time": "2022-02-10T08:40:26.485Z"
   },
   {
    "duration": 45,
    "start_time": "2022-02-10T08:40:26.509Z"
   },
   {
    "duration": 29,
    "start_time": "2022-02-10T08:40:26.557Z"
   },
   {
    "duration": 20,
    "start_time": "2022-02-10T08:40:26.589Z"
   },
   {
    "duration": 414,
    "start_time": "2022-02-10T08:40:26.611Z"
   },
   {
    "duration": 25,
    "start_time": "2022-02-10T08:40:27.029Z"
   },
   {
    "duration": 435,
    "start_time": "2022-02-10T08:40:27.058Z"
   },
   {
    "duration": 384,
    "start_time": "2022-02-10T08:40:27.496Z"
   },
   {
    "duration": 51,
    "start_time": "2022-02-10T08:42:07.034Z"
   },
   {
    "duration": 9,
    "start_time": "2022-02-10T08:44:23.015Z"
   },
   {
    "duration": 41,
    "start_time": "2022-02-10T08:46:46.899Z"
   },
   {
    "duration": 10,
    "start_time": "2022-02-10T08:48:30.568Z"
   },
   {
    "duration": 40,
    "start_time": "2022-02-10T08:48:51.175Z"
   },
   {
    "duration": 523,
    "start_time": "2022-02-10T08:51:32.482Z"
   },
   {
    "duration": 509,
    "start_time": "2022-02-10T08:52:17.134Z"
   },
   {
    "duration": 87,
    "start_time": "2022-02-10T08:52:25.091Z"
   },
   {
    "duration": 491,
    "start_time": "2022-02-10T08:52:32.427Z"
   },
   {
    "duration": 5975,
    "start_time": "2022-02-10T08:53:18.311Z"
   },
   {
    "duration": 236,
    "start_time": "2022-02-10T08:55:49.076Z"
   },
   {
    "duration": 512,
    "start_time": "2022-02-10T08:56:43.338Z"
   },
   {
    "duration": 41,
    "start_time": "2022-02-10T08:56:52.920Z"
   },
   {
    "duration": 457,
    "start_time": "2022-02-10T08:56:55.564Z"
   },
   {
    "duration": 27,
    "start_time": "2022-02-10T08:58:54.071Z"
   },
   {
    "duration": 462,
    "start_time": "2022-02-10T08:59:36.281Z"
   },
   {
    "duration": 780,
    "start_time": "2022-02-10T09:01:29.835Z"
   },
   {
    "duration": 1484,
    "start_time": "2022-02-10T09:01:49.446Z"
   },
   {
    "duration": 2646,
    "start_time": "2022-02-10T09:02:06.237Z"
   },
   {
    "duration": 429,
    "start_time": "2022-02-10T09:02:30.124Z"
   },
   {
    "duration": 425,
    "start_time": "2022-02-10T09:02:57.730Z"
   },
   {
    "duration": 609,
    "start_time": "2022-02-10T09:03:22.586Z"
   },
   {
    "duration": 475,
    "start_time": "2022-02-10T09:04:06.296Z"
   },
   {
    "duration": 463,
    "start_time": "2022-02-10T09:05:29.322Z"
   },
   {
    "duration": 473,
    "start_time": "2022-02-10T09:06:06.490Z"
   },
   {
    "duration": 475,
    "start_time": "2022-02-10T09:06:19.093Z"
   },
   {
    "duration": 14,
    "start_time": "2022-02-10T09:10:32.055Z"
   },
   {
    "duration": 466,
    "start_time": "2022-02-10T09:10:37.844Z"
   },
   {
    "duration": 525,
    "start_time": "2022-02-10T09:10:49.464Z"
   },
   {
    "duration": 613,
    "start_time": "2022-02-10T09:11:10.336Z"
   },
   {
    "duration": 10,
    "start_time": "2022-02-10T09:14:06.574Z"
   },
   {
    "duration": 587,
    "start_time": "2022-02-10T09:14:08.704Z"
   },
   {
    "duration": 548,
    "start_time": "2022-02-10T09:14:19.800Z"
   },
   {
    "duration": 572,
    "start_time": "2022-02-10T09:14:25.039Z"
   },
   {
    "duration": 465,
    "start_time": "2022-02-10T09:14:35.406Z"
   },
   {
    "duration": 563,
    "start_time": "2022-02-10T09:15:09.020Z"
   },
   {
    "duration": 482,
    "start_time": "2022-02-10T09:15:30.290Z"
   },
   {
    "duration": 9,
    "start_time": "2022-02-10T09:15:51.518Z"
   },
   {
    "duration": 551,
    "start_time": "2022-02-10T09:15:55.482Z"
   },
   {
    "duration": 832,
    "start_time": "2022-02-10T09:16:03.386Z"
   },
   {
    "duration": 9,
    "start_time": "2022-02-10T09:17:26.277Z"
   },
   {
    "duration": 11,
    "start_time": "2022-02-10T09:18:03.534Z"
   },
   {
    "duration": 578,
    "start_time": "2022-02-10T09:18:07.386Z"
   },
   {
    "duration": 9,
    "start_time": "2022-02-10T09:18:10.714Z"
   },
   {
    "duration": 461,
    "start_time": "2022-02-10T09:18:14.977Z"
   },
   {
    "duration": 47,
    "start_time": "2022-02-10T09:19:16.253Z"
   },
   {
    "duration": 1421,
    "start_time": "2022-02-10T09:20:06.593Z"
   },
   {
    "duration": 68,
    "start_time": "2022-02-10T09:20:08.017Z"
   },
   {
    "duration": 6,
    "start_time": "2022-02-10T09:20:08.088Z"
   },
   {
    "duration": 17,
    "start_time": "2022-02-10T09:20:08.096Z"
   },
   {
    "duration": 34,
    "start_time": "2022-02-10T09:20:08.116Z"
   },
   {
    "duration": 8,
    "start_time": "2022-02-10T09:20:08.152Z"
   },
   {
    "duration": 17,
    "start_time": "2022-02-10T09:20:08.163Z"
   },
   {
    "duration": 9,
    "start_time": "2022-02-10T09:20:08.184Z"
   },
   {
    "duration": 59,
    "start_time": "2022-02-10T09:20:08.196Z"
   },
   {
    "duration": 30,
    "start_time": "2022-02-10T09:20:08.257Z"
   },
   {
    "duration": 37,
    "start_time": "2022-02-10T09:20:08.290Z"
   },
   {
    "duration": 27,
    "start_time": "2022-02-10T09:20:08.350Z"
   },
   {
    "duration": 463,
    "start_time": "2022-02-10T09:20:08.379Z"
   },
   {
    "duration": 11,
    "start_time": "2022-02-10T09:20:08.844Z"
   },
   {
    "duration": 589,
    "start_time": "2022-02-10T09:20:08.858Z"
   },
   {
    "duration": 10,
    "start_time": "2022-02-10T09:20:09.449Z"
   },
   {
    "duration": 68,
    "start_time": "2022-02-10T09:20:09.461Z"
   },
   {
    "duration": 36,
    "start_time": "2022-02-10T09:25:02.533Z"
   },
   {
    "duration": 9,
    "start_time": "2022-02-10T09:25:28.968Z"
   },
   {
    "duration": 95,
    "start_time": "2022-02-10T09:26:29.852Z"
   },
   {
    "duration": 487,
    "start_time": "2022-02-10T09:26:39.131Z"
   },
   {
    "duration": 440,
    "start_time": "2022-02-10T09:27:55.770Z"
   },
   {
    "duration": 443,
    "start_time": "2022-02-10T09:28:09.791Z"
   },
   {
    "duration": 521,
    "start_time": "2022-02-10T09:47:48.957Z"
   },
   {
    "duration": 616,
    "start_time": "2022-02-10T09:49:33.390Z"
   },
   {
    "duration": 521,
    "start_time": "2022-02-10T09:49:50.253Z"
   },
   {
    "duration": 521,
    "start_time": "2022-02-10T09:53:07.722Z"
   },
   {
    "duration": 438,
    "start_time": "2022-02-10T09:54:20.180Z"
   },
   {
    "duration": 471,
    "start_time": "2022-02-10T09:54:45.820Z"
   },
   {
    "duration": 500,
    "start_time": "2022-02-10T09:54:52.042Z"
   },
   {
    "duration": 467,
    "start_time": "2022-02-10T09:55:39.929Z"
   },
   {
    "duration": 456,
    "start_time": "2022-02-10T09:55:55.276Z"
   },
   {
    "duration": 416,
    "start_time": "2022-02-10T09:56:17.968Z"
   },
   {
    "duration": 5,
    "start_time": "2022-02-10T09:59:20.022Z"
   },
   {
    "duration": 35,
    "start_time": "2022-02-10T09:59:52.671Z"
   },
   {
    "duration": 510,
    "start_time": "2022-02-10T10:06:01.289Z"
   },
   {
    "duration": 535,
    "start_time": "2022-02-10T10:06:38.953Z"
   },
   {
    "duration": 468,
    "start_time": "2022-02-10T10:08:19.166Z"
   },
   {
    "duration": 409,
    "start_time": "2022-02-10T10:10:11.316Z"
   },
   {
    "duration": 53,
    "start_time": "2022-02-10T10:11:11.529Z"
   },
   {
    "duration": 435,
    "start_time": "2022-02-10T10:33:02.176Z"
   },
   {
    "duration": 793,
    "start_time": "2022-02-10T10:33:38.936Z"
   },
   {
    "duration": 79,
    "start_time": "2022-02-10T10:34:33.703Z"
   },
   {
    "duration": 274,
    "start_time": "2022-02-10T10:34:43.686Z"
   },
   {
    "duration": 716,
    "start_time": "2022-02-10T10:35:25.936Z"
   },
   {
    "duration": 825,
    "start_time": "2022-02-10T10:37:51.276Z"
   },
   {
    "duration": 838,
    "start_time": "2022-02-10T10:37:59.125Z"
   },
   {
    "duration": 629,
    "start_time": "2022-02-10T10:39:16.133Z"
   },
   {
    "duration": 1193,
    "start_time": "2022-02-10T10:39:47.298Z"
   },
   {
    "duration": 1225,
    "start_time": "2022-02-10T10:40:09.443Z"
   },
   {
    "duration": 609,
    "start_time": "2022-02-10T10:43:34.147Z"
   },
   {
    "duration": 825,
    "start_time": "2022-02-10T10:44:17.518Z"
   },
   {
    "duration": 885,
    "start_time": "2022-02-10T10:49:33.466Z"
   },
   {
    "duration": 854,
    "start_time": "2022-02-10T10:49:50.159Z"
   },
   {
    "duration": 889,
    "start_time": "2022-02-10T10:52:05.248Z"
   },
   {
    "duration": 275,
    "start_time": "2022-02-10T10:53:46.008Z"
   },
   {
    "duration": 287,
    "start_time": "2022-02-11T03:36:04.490Z"
   },
   {
    "duration": 215,
    "start_time": "2022-02-11T03:36:10.694Z"
   },
   {
    "duration": 1059,
    "start_time": "2022-02-11T03:36:19.152Z"
   },
   {
    "duration": 49,
    "start_time": "2022-02-11T03:36:20.213Z"
   },
   {
    "duration": 5,
    "start_time": "2022-02-11T03:36:20.264Z"
   },
   {
    "duration": 15,
    "start_time": "2022-02-11T03:36:20.271Z"
   },
   {
    "duration": 23,
    "start_time": "2022-02-11T03:36:20.288Z"
   },
   {
    "duration": 9,
    "start_time": "2022-02-11T03:36:20.313Z"
   },
   {
    "duration": 13,
    "start_time": "2022-02-11T03:36:20.324Z"
   },
   {
    "duration": 14,
    "start_time": "2022-02-11T03:36:20.340Z"
   },
   {
    "duration": 21,
    "start_time": "2022-02-11T03:36:20.357Z"
   },
   {
    "duration": 34,
    "start_time": "2022-02-11T03:36:20.380Z"
   },
   {
    "duration": 23,
    "start_time": "2022-02-11T03:36:20.416Z"
   },
   {
    "duration": 31,
    "start_time": "2022-02-11T03:36:20.441Z"
   },
   {
    "duration": 293,
    "start_time": "2022-02-11T03:36:20.474Z"
   },
   {
    "duration": 9,
    "start_time": "2022-02-11T03:36:20.769Z"
   },
   {
    "duration": 370,
    "start_time": "2022-02-11T03:36:20.780Z"
   },
   {
    "duration": 357,
    "start_time": "2022-02-11T03:36:21.152Z"
   },
   {
    "duration": 287,
    "start_time": "2022-02-11T03:36:21.511Z"
   },
   {
    "duration": 204,
    "start_time": "2022-02-11T03:36:21.808Z"
   },
   {
    "duration": 23,
    "start_time": "2022-02-11T03:44:47.105Z"
   },
   {
    "duration": 468,
    "start_time": "2022-02-11T03:46:26.179Z"
   },
   {
    "duration": 622,
    "start_time": "2022-02-11T03:46:57.655Z"
   },
   {
    "duration": 543,
    "start_time": "2022-02-11T03:47:17.405Z"
   },
   {
    "duration": 682,
    "start_time": "2022-02-11T03:48:11.529Z"
   },
   {
    "duration": 1169,
    "start_time": "2022-02-11T03:48:57.064Z"
   },
   {
    "duration": 1104,
    "start_time": "2022-02-11T03:50:13.539Z"
   },
   {
    "duration": 648,
    "start_time": "2022-02-11T03:51:29.520Z"
   },
   {
    "duration": 549,
    "start_time": "2022-02-11T03:51:40.669Z"
   },
   {
    "duration": 654,
    "start_time": "2022-02-11T03:52:05.186Z"
   },
   {
    "duration": 562,
    "start_time": "2022-02-11T03:52:23.618Z"
   },
   {
    "duration": 534,
    "start_time": "2022-02-11T03:52:54.003Z"
   },
   {
    "duration": 546,
    "start_time": "2022-02-11T03:54:58.164Z"
   },
   {
    "duration": 548,
    "start_time": "2022-02-11T03:59:08.725Z"
   },
   {
    "duration": 18,
    "start_time": "2022-02-11T04:09:39.073Z"
   },
   {
    "duration": 8,
    "start_time": "2022-02-11T04:13:52.129Z"
   },
   {
    "duration": 1093,
    "start_time": "2022-02-11T04:14:04.314Z"
   },
   {
    "duration": 48,
    "start_time": "2022-02-11T04:14:05.410Z"
   },
   {
    "duration": 5,
    "start_time": "2022-02-11T04:14:05.460Z"
   },
   {
    "duration": 19,
    "start_time": "2022-02-11T04:14:05.467Z"
   },
   {
    "duration": 26,
    "start_time": "2022-02-11T04:14:05.488Z"
   },
   {
    "duration": 10,
    "start_time": "2022-02-11T04:14:05.516Z"
   },
   {
    "duration": 24,
    "start_time": "2022-02-11T04:14:05.528Z"
   },
   {
    "duration": 9,
    "start_time": "2022-02-11T04:14:05.554Z"
   },
   {
    "duration": 15,
    "start_time": "2022-02-11T04:14:05.565Z"
   },
   {
    "duration": 17,
    "start_time": "2022-02-11T04:14:05.582Z"
   },
   {
    "duration": 25,
    "start_time": "2022-02-11T04:14:05.601Z"
   },
   {
    "duration": 28,
    "start_time": "2022-02-11T04:14:05.627Z"
   },
   {
    "duration": 283,
    "start_time": "2022-02-11T04:14:05.657Z"
   },
   {
    "duration": 8,
    "start_time": "2022-02-11T04:14:05.942Z"
   },
   {
    "duration": 307,
    "start_time": "2022-02-11T04:14:05.952Z"
   },
   {
    "duration": 333,
    "start_time": "2022-02-11T04:14:06.261Z"
   },
   {
    "duration": 289,
    "start_time": "2022-02-11T04:14:06.596Z"
   },
   {
    "duration": 557,
    "start_time": "2022-02-11T04:14:06.887Z"
   },
   {
    "duration": 553,
    "start_time": "2022-02-11T04:14:07.446Z"
   },
   {
    "duration": 18,
    "start_time": "2022-02-11T04:14:08.001Z"
   },
   {
    "duration": 362,
    "start_time": "2022-02-11T04:14:22.820Z"
   },
   {
    "duration": 311,
    "start_time": "2022-02-11T04:17:47.367Z"
   },
   {
    "duration": 275,
    "start_time": "2022-02-11T04:18:52.394Z"
   },
   {
    "duration": 544,
    "start_time": "2022-02-11T04:20:40.602Z"
   },
   {
    "duration": 545,
    "start_time": "2022-02-11T04:20:51.751Z"
   },
   {
    "duration": 17,
    "start_time": "2022-02-11T04:21:09.291Z"
   },
   {
    "duration": 234,
    "start_time": "2022-02-11T04:25:37.573Z"
   },
   {
    "duration": 19,
    "start_time": "2022-02-11T04:28:43.775Z"
   },
   {
    "duration": 349,
    "start_time": "2022-02-11T04:31:36.578Z"
   },
   {
    "duration": 350,
    "start_time": "2022-02-11T04:32:03.888Z"
   },
   {
    "duration": 14,
    "start_time": "2022-02-11T04:40:05.247Z"
   },
   {
    "duration": 13,
    "start_time": "2022-02-11T04:41:20.612Z"
   },
   {
    "duration": 14,
    "start_time": "2022-02-11T04:42:39.402Z"
   },
   {
    "duration": 13,
    "start_time": "2022-02-11T04:43:47.826Z"
   },
   {
    "duration": 14,
    "start_time": "2022-02-11T04:44:38.459Z"
   },
   {
    "duration": 13,
    "start_time": "2022-02-11T04:44:56.319Z"
   },
   {
    "duration": 13,
    "start_time": "2022-02-11T04:45:20.752Z"
   },
   {
    "duration": 881,
    "start_time": "2022-02-11T04:47:57.993Z"
   },
   {
    "duration": 808,
    "start_time": "2022-02-11T04:48:10.222Z"
   },
   {
    "duration": 1104,
    "start_time": "2022-02-11T04:49:07.220Z"
   },
   {
    "duration": 1025,
    "start_time": "2022-02-11T04:49:16.690Z"
   },
   {
    "duration": 891,
    "start_time": "2022-02-11T04:50:23.362Z"
   },
   {
    "duration": 10,
    "start_time": "2022-02-11T05:01:09.497Z"
   },
   {
    "duration": 1604,
    "start_time": "2022-02-11T05:03:14.861Z"
   },
   {
    "duration": 15,
    "start_time": "2022-02-11T05:11:49.624Z"
   },
   {
    "duration": 17,
    "start_time": "2022-02-11T05:12:32.603Z"
   },
   {
    "duration": 73,
    "start_time": "2022-02-11T05:14:29.903Z"
   },
   {
    "duration": 269,
    "start_time": "2022-02-11T05:14:40.838Z"
   },
   {
    "duration": 392,
    "start_time": "2022-02-11T05:14:56.254Z"
   },
   {
    "duration": 423,
    "start_time": "2022-02-11T08:58:22.135Z"
   },
   {
    "duration": 1652,
    "start_time": "2022-02-11T08:58:33.667Z"
   },
   {
    "duration": 1655,
    "start_time": "2022-02-11T08:58:35.322Z"
   },
   {
    "duration": 6,
    "start_time": "2022-02-11T08:58:36.979Z"
   },
   {
    "duration": 17,
    "start_time": "2022-02-11T08:58:36.989Z"
   },
   {
    "duration": 10,
    "start_time": "2022-02-11T08:58:37.009Z"
   },
   {
    "duration": 26,
    "start_time": "2022-02-11T08:58:37.061Z"
   },
   {
    "duration": 16,
    "start_time": "2022-02-11T08:58:37.089Z"
   },
   {
    "duration": 9,
    "start_time": "2022-02-11T08:58:37.110Z"
   },
   {
    "duration": 42,
    "start_time": "2022-02-11T08:58:37.122Z"
   },
   {
    "duration": 12,
    "start_time": "2022-02-11T08:58:37.166Z"
   },
   {
    "duration": 26,
    "start_time": "2022-02-11T08:58:37.180Z"
   },
   {
    "duration": 58,
    "start_time": "2022-02-11T08:58:37.210Z"
   },
   {
    "duration": 452,
    "start_time": "2022-02-11T08:58:37.272Z"
   },
   {
    "duration": 10,
    "start_time": "2022-02-11T08:58:37.727Z"
   },
   {
    "duration": 497,
    "start_time": "2022-02-11T08:58:37.739Z"
   },
   {
    "duration": 622,
    "start_time": "2022-02-11T08:58:38.239Z"
   },
   {
    "duration": 699,
    "start_time": "2022-02-11T08:58:38.863Z"
   },
   {
    "duration": 384,
    "start_time": "2022-02-11T08:58:39.565Z"
   },
   {
    "duration": 19,
    "start_time": "2022-02-11T08:58:39.960Z"
   },
   {
    "duration": 22,
    "start_time": "2022-02-11T08:58:39.981Z"
   },
   {
    "duration": 1474,
    "start_time": "2022-02-11T08:58:40.005Z"
   },
   {
    "duration": 11,
    "start_time": "2022-02-11T08:58:41.481Z"
   },
   {
    "duration": 3091,
    "start_time": "2022-02-11T08:58:41.496Z"
   },
   {
    "duration": 431,
    "start_time": "2022-02-11T08:58:44.591Z"
   },
   {
    "duration": 432,
    "start_time": "2022-02-11T09:01:17.772Z"
   },
   {
    "duration": 18,
    "start_time": "2022-02-11T09:09:55.978Z"
   },
   {
    "duration": 1154,
    "start_time": "2022-02-11T09:20:28.710Z"
   },
   {
    "duration": 467,
    "start_time": "2022-02-11T09:20:47.388Z"
   },
   {
    "duration": 468,
    "start_time": "2022-02-11T09:21:24.595Z"
   },
   {
    "duration": 507,
    "start_time": "2022-02-11T09:27:40.913Z"
   },
   {
    "duration": 7,
    "start_time": "2022-02-11T09:32:14.537Z"
   },
   {
    "duration": 448,
    "start_time": "2022-02-11T09:34:48.462Z"
   },
   {
    "duration": 206,
    "start_time": "2022-02-11T09:38:03.369Z"
   },
   {
    "duration": 6,
    "start_time": "2022-02-11T09:38:09.394Z"
   },
   {
    "duration": 793,
    "start_time": "2022-02-11T09:38:11.706Z"
   },
   {
    "duration": 6,
    "start_time": "2022-02-11T09:39:18.492Z"
   },
   {
    "duration": 242,
    "start_time": "2022-02-11T09:39:21.061Z"
   },
   {
    "duration": 6,
    "start_time": "2022-02-11T09:40:11.392Z"
   },
   {
    "duration": 276,
    "start_time": "2022-02-11T09:40:14.400Z"
   },
   {
    "duration": 6,
    "start_time": "2022-02-11T09:40:23.816Z"
   },
   {
    "duration": 216,
    "start_time": "2022-02-11T09:40:26.521Z"
   },
   {
    "duration": 6,
    "start_time": "2022-02-11T09:40:47.261Z"
   },
   {
    "duration": 174,
    "start_time": "2022-02-11T09:40:47.270Z"
   },
   {
    "duration": 6,
    "start_time": "2022-02-11T09:40:53.694Z"
   },
   {
    "duration": 158,
    "start_time": "2022-02-11T09:40:56.168Z"
   },
   {
    "duration": 7,
    "start_time": "2022-02-11T09:42:58.878Z"
   },
   {
    "duration": 146,
    "start_time": "2022-02-11T09:43:00.869Z"
   },
   {
    "duration": 136,
    "start_time": "2022-02-11T09:49:14.472Z"
   },
   {
    "duration": 6,
    "start_time": "2022-02-11T09:50:58.591Z"
   },
   {
    "duration": 150,
    "start_time": "2022-02-11T09:51:06.055Z"
   },
   {
    "duration": 6,
    "start_time": "2022-02-11T09:51:15.871Z"
   },
   {
    "duration": 872,
    "start_time": "2022-02-11T09:51:18.206Z"
   },
   {
    "duration": 6,
    "start_time": "2022-02-11T09:51:34.437Z"
   },
   {
    "duration": 141,
    "start_time": "2022-02-11T09:51:36.740Z"
   },
   {
    "duration": 145,
    "start_time": "2022-02-11T09:53:41.260Z"
   },
   {
    "duration": 143,
    "start_time": "2022-02-11T10:07:59.529Z"
   },
   {
    "duration": 6,
    "start_time": "2022-02-11T10:23:52.613Z"
   },
   {
    "duration": 233,
    "start_time": "2022-02-11T10:23:54.855Z"
   },
   {
    "duration": 175,
    "start_time": "2022-02-11T10:23:58.927Z"
   },
   {
    "duration": 208,
    "start_time": "2022-02-11T10:24:02.291Z"
   },
   {
    "duration": 148,
    "start_time": "2022-02-11T10:25:41.014Z"
   },
   {
    "duration": 158,
    "start_time": "2022-02-11T10:25:50.371Z"
   },
   {
    "duration": 142,
    "start_time": "2022-02-11T10:44:19.579Z"
   },
   {
    "duration": 153,
    "start_time": "2022-02-11T10:47:16.257Z"
   },
   {
    "duration": 219,
    "start_time": "2022-02-11T10:56:33.413Z"
   },
   {
    "duration": 162,
    "start_time": "2022-02-11T10:57:17.688Z"
   },
   {
    "duration": 142,
    "start_time": "2022-02-11T10:58:07.606Z"
   },
   {
    "duration": 311,
    "start_time": "2022-02-12T05:41:41.776Z"
   },
   {
    "duration": 1070,
    "start_time": "2022-02-12T05:41:53.039Z"
   },
   {
    "duration": 45,
    "start_time": "2022-02-12T05:41:54.111Z"
   },
   {
    "duration": 4,
    "start_time": "2022-02-12T05:41:54.158Z"
   },
   {
    "duration": 21,
    "start_time": "2022-02-12T05:41:54.163Z"
   },
   {
    "duration": 6,
    "start_time": "2022-02-12T05:41:54.186Z"
   },
   {
    "duration": 13,
    "start_time": "2022-02-12T05:41:54.193Z"
   },
   {
    "duration": 16,
    "start_time": "2022-02-12T05:41:54.208Z"
   },
   {
    "duration": 13,
    "start_time": "2022-02-12T05:41:54.226Z"
   },
   {
    "duration": 19,
    "start_time": "2022-02-12T05:41:54.241Z"
   },
   {
    "duration": 12,
    "start_time": "2022-02-12T05:41:54.261Z"
   },
   {
    "duration": 28,
    "start_time": "2022-02-12T05:41:54.274Z"
   },
   {
    "duration": 23,
    "start_time": "2022-02-12T05:41:54.303Z"
   },
   {
    "duration": 268,
    "start_time": "2022-02-12T05:41:54.328Z"
   },
   {
    "duration": 8,
    "start_time": "2022-02-12T05:41:54.598Z"
   },
   {
    "duration": 280,
    "start_time": "2022-02-12T05:41:54.607Z"
   },
   {
    "duration": 298,
    "start_time": "2022-02-12T05:41:54.888Z"
   },
   {
    "duration": 276,
    "start_time": "2022-02-12T05:41:55.188Z"
   },
   {
    "duration": 331,
    "start_time": "2022-02-12T05:41:55.466Z"
   },
   {
    "duration": 24,
    "start_time": "2022-02-12T05:41:55.799Z"
   },
   {
    "duration": 15,
    "start_time": "2022-02-12T05:41:55.825Z"
   },
   {
    "duration": 883,
    "start_time": "2022-02-12T05:41:55.841Z"
   },
   {
    "duration": 8,
    "start_time": "2022-02-12T05:41:56.726Z"
   },
   {
    "duration": 1533,
    "start_time": "2022-02-12T05:41:56.738Z"
   },
   {
    "duration": 253,
    "start_time": "2022-02-12T05:41:58.274Z"
   },
   {
    "duration": 5,
    "start_time": "2022-02-12T05:41:58.529Z"
   },
   {
    "duration": 104,
    "start_time": "2022-02-12T05:41:58.536Z"
   },
   {
    "duration": 102,
    "start_time": "2022-02-12T05:41:58.642Z"
   },
   {
    "duration": 100,
    "start_time": "2022-02-12T05:41:58.745Z"
   },
   {
    "duration": 101,
    "start_time": "2022-02-12T05:41:58.847Z"
   },
   {
    "duration": 100,
    "start_time": "2022-02-12T05:41:58.950Z"
   },
   {
    "duration": 99,
    "start_time": "2022-02-12T05:41:59.052Z"
   },
   {
    "duration": 177,
    "start_time": "2022-02-12T05:41:59.152Z"
   },
   {
    "duration": 101,
    "start_time": "2022-02-12T05:41:59.331Z"
   },
   {
    "duration": 95,
    "start_time": "2022-02-12T05:41:59.434Z"
   },
   {
    "duration": 11,
    "start_time": "2022-02-12T05:41:59.530Z"
   },
   {
    "duration": 74,
    "start_time": "2022-02-12T05:41:59.543Z"
   },
   {
    "duration": 4,
    "start_time": "2022-02-12T05:50:36.625Z"
   },
   {
    "duration": 309,
    "start_time": "2022-02-12T05:52:21.969Z"
   },
   {
    "duration": 4,
    "start_time": "2022-02-12T05:52:34.376Z"
   },
   {
    "duration": 444,
    "start_time": "2022-02-12T05:52:36.472Z"
   },
   {
    "duration": 3,
    "start_time": "2022-02-12T05:53:09.755Z"
   },
   {
    "duration": 472,
    "start_time": "2022-02-12T05:53:11.795Z"
   },
   {
    "duration": 3,
    "start_time": "2022-02-12T05:53:34.331Z"
   },
   {
    "duration": 497,
    "start_time": "2022-02-12T05:53:36.347Z"
   },
   {
    "duration": 1067,
    "start_time": "2022-02-12T05:54:29.449Z"
   },
   {
    "duration": 46,
    "start_time": "2022-02-12T05:54:30.518Z"
   },
   {
    "duration": 4,
    "start_time": "2022-02-12T05:54:30.567Z"
   },
   {
    "duration": 15,
    "start_time": "2022-02-12T05:54:30.573Z"
   },
   {
    "duration": 8,
    "start_time": "2022-02-12T05:54:30.590Z"
   },
   {
    "duration": 33,
    "start_time": "2022-02-12T05:54:30.600Z"
   },
   {
    "duration": 16,
    "start_time": "2022-02-12T05:54:30.636Z"
   },
   {
    "duration": 16,
    "start_time": "2022-02-12T05:54:30.654Z"
   },
   {
    "duration": 19,
    "start_time": "2022-02-12T05:54:30.672Z"
   },
   {
    "duration": 21,
    "start_time": "2022-02-12T05:54:30.693Z"
   },
   {
    "duration": 22,
    "start_time": "2022-02-12T05:54:30.716Z"
   },
   {
    "duration": 21,
    "start_time": "2022-02-12T05:54:30.739Z"
   },
   {
    "duration": 261,
    "start_time": "2022-02-12T05:54:30.761Z"
   },
   {
    "duration": 10,
    "start_time": "2022-02-12T05:54:31.024Z"
   },
   {
    "duration": 289,
    "start_time": "2022-02-12T05:54:31.036Z"
   },
   {
    "duration": 316,
    "start_time": "2022-02-12T05:54:31.327Z"
   },
   {
    "duration": 276,
    "start_time": "2022-02-12T05:54:31.646Z"
   },
   {
    "duration": 220,
    "start_time": "2022-02-12T05:54:31.924Z"
   },
   {
    "duration": 10,
    "start_time": "2022-02-12T05:54:32.146Z"
   },
   {
    "duration": 17,
    "start_time": "2022-02-12T05:54:32.158Z"
   },
   {
    "duration": 829,
    "start_time": "2022-02-12T05:54:32.177Z"
   },
   {
    "duration": 16,
    "start_time": "2022-02-12T05:54:33.008Z"
   },
   {
    "duration": 1587,
    "start_time": "2022-02-12T05:54:33.028Z"
   },
   {
    "duration": 256,
    "start_time": "2022-02-12T05:54:34.617Z"
   },
   {
    "duration": 4,
    "start_time": "2022-02-12T05:54:34.874Z"
   },
   {
    "duration": 92,
    "start_time": "2022-02-12T05:54:34.880Z"
   },
   {
    "duration": 95,
    "start_time": "2022-02-12T05:54:34.973Z"
   },
   {
    "duration": 99,
    "start_time": "2022-02-12T05:54:35.070Z"
   },
   {
    "duration": 99,
    "start_time": "2022-02-12T05:54:35.171Z"
   },
   {
    "duration": 99,
    "start_time": "2022-02-12T05:54:35.271Z"
   },
   {
    "duration": 105,
    "start_time": "2022-02-12T05:54:35.372Z"
   },
   {
    "duration": 182,
    "start_time": "2022-02-12T05:54:35.479Z"
   },
   {
    "duration": 104,
    "start_time": "2022-02-12T05:54:35.663Z"
   },
   {
    "duration": 99,
    "start_time": "2022-02-12T05:54:35.769Z"
   },
   {
    "duration": 12,
    "start_time": "2022-02-12T05:54:35.869Z"
   },
   {
    "duration": 15,
    "start_time": "2022-02-12T05:54:35.882Z"
   },
   {
    "duration": 515,
    "start_time": "2022-02-12T05:54:35.899Z"
   },
   {
    "duration": 3,
    "start_time": "2022-02-12T05:55:52.064Z"
   },
   {
    "duration": 747,
    "start_time": "2022-02-12T05:55:54.337Z"
   },
   {
    "duration": 4,
    "start_time": "2022-02-12T06:00:43.239Z"
   },
   {
    "duration": 487,
    "start_time": "2022-02-12T06:00:56.412Z"
   },
   {
    "duration": 5,
    "start_time": "2022-02-12T06:04:27.284Z"
   },
   {
    "duration": 14,
    "start_time": "2022-02-12T06:04:29.533Z"
   },
   {
    "duration": 4,
    "start_time": "2022-02-12T06:04:39.454Z"
   },
   {
    "duration": 14,
    "start_time": "2022-02-12T06:04:41.539Z"
   },
   {
    "duration": 4,
    "start_time": "2022-02-12T06:07:12.027Z"
   },
   {
    "duration": 15,
    "start_time": "2022-02-12T06:07:14.224Z"
   },
   {
    "duration": 5,
    "start_time": "2022-02-12T06:11:37.828Z"
   },
   {
    "duration": 196,
    "start_time": "2022-02-12T06:11:39.964Z"
   },
   {
    "duration": 5,
    "start_time": "2022-02-12T06:12:08.066Z"
   },
   {
    "duration": 246,
    "start_time": "2022-02-12T06:12:10.273Z"
   },
   {
    "duration": 5,
    "start_time": "2022-02-12T06:13:05.996Z"
   },
   {
    "duration": 252,
    "start_time": "2022-02-12T06:13:08.036Z"
   },
   {
    "duration": 5,
    "start_time": "2022-02-12T06:14:26.087Z"
   },
   {
    "duration": 239,
    "start_time": "2022-02-12T06:14:29.534Z"
   },
   {
    "duration": 5,
    "start_time": "2022-02-12T06:17:24.289Z"
   },
   {
    "duration": 247,
    "start_time": "2022-02-12T06:17:30.284Z"
   },
   {
    "duration": 261,
    "start_time": "2022-02-12T06:20:06.171Z"
   },
   {
    "duration": 261,
    "start_time": "2022-02-12T06:22:36.802Z"
   },
   {
    "duration": 5,
    "start_time": "2022-02-12T06:35:32.550Z"
   },
   {
    "duration": 256,
    "start_time": "2022-02-12T06:35:34.886Z"
   },
   {
    "duration": 6,
    "start_time": "2022-02-12T06:48:39.016Z"
   },
   {
    "duration": 263,
    "start_time": "2022-02-12T06:48:41.092Z"
   },
   {
    "duration": 11,
    "start_time": "2022-02-12T06:50:35.897Z"
   },
   {
    "duration": 12,
    "start_time": "2022-02-12T06:52:41.018Z"
   },
   {
    "duration": 12,
    "start_time": "2022-02-12T06:52:55.960Z"
   },
   {
    "duration": 12,
    "start_time": "2022-02-12T06:53:03.602Z"
   },
   {
    "duration": 348,
    "start_time": "2022-02-12T06:59:42.362Z"
   },
   {
    "duration": 279,
    "start_time": "2022-02-12T07:00:13.413Z"
   },
   {
    "duration": 15,
    "start_time": "2022-02-12T07:07:35.687Z"
   },
   {
    "duration": 14,
    "start_time": "2022-02-12T07:08:28.610Z"
   },
   {
    "duration": 12,
    "start_time": "2022-02-12T07:08:47.068Z"
   },
   {
    "duration": 373,
    "start_time": "2022-02-17T03:56:08.871Z"
   },
   {
    "duration": 1302,
    "start_time": "2022-02-17T03:56:15.868Z"
   },
   {
    "duration": 61,
    "start_time": "2022-02-17T03:56:17.172Z"
   },
   {
    "duration": 6,
    "start_time": "2022-02-17T03:56:17.236Z"
   },
   {
    "duration": 15,
    "start_time": "2022-02-17T03:56:17.245Z"
   },
   {
    "duration": 7,
    "start_time": "2022-02-17T03:56:17.263Z"
   },
   {
    "duration": 7,
    "start_time": "2022-02-17T03:56:17.272Z"
   },
   {
    "duration": 10,
    "start_time": "2022-02-17T03:56:17.324Z"
   },
   {
    "duration": 14,
    "start_time": "2022-02-17T03:56:17.337Z"
   },
   {
    "duration": 17,
    "start_time": "2022-02-17T03:56:17.354Z"
   },
   {
    "duration": 10,
    "start_time": "2022-02-17T03:56:17.374Z"
   },
   {
    "duration": 27,
    "start_time": "2022-02-17T03:56:17.422Z"
   },
   {
    "duration": 23,
    "start_time": "2022-02-17T03:56:17.452Z"
   },
   {
    "duration": 432,
    "start_time": "2022-02-17T03:56:17.477Z"
   },
   {
    "duration": 18,
    "start_time": "2022-02-17T03:56:17.912Z"
   },
   {
    "duration": 474,
    "start_time": "2022-02-17T03:56:17.933Z"
   },
   {
    "duration": 489,
    "start_time": "2022-02-17T03:56:18.410Z"
   },
   {
    "duration": 432,
    "start_time": "2022-02-17T03:56:18.902Z"
   },
   {
    "duration": 373,
    "start_time": "2022-02-17T03:56:19.336Z"
   },
   {
    "duration": 26,
    "start_time": "2022-02-17T03:56:19.712Z"
   },
   {
    "duration": 15,
    "start_time": "2022-02-17T03:56:19.740Z"
   },
   {
    "duration": 1490,
    "start_time": "2022-02-17T03:56:19.757Z"
   },
   {
    "duration": 17,
    "start_time": "2022-02-17T03:56:21.250Z"
   },
   {
    "duration": 16,
    "start_time": "2022-02-17T03:56:21.272Z"
   },
   {
    "duration": 2470,
    "start_time": "2022-02-17T03:56:21.291Z"
   },
   {
    "duration": 429,
    "start_time": "2022-02-17T03:56:23.764Z"
   },
   {
    "duration": 7,
    "start_time": "2022-02-17T03:56:24.196Z"
   },
   {
    "duration": 160,
    "start_time": "2022-02-17T03:56:24.205Z"
   },
   {
    "duration": 161,
    "start_time": "2022-02-17T03:56:24.367Z"
   },
   {
    "duration": 160,
    "start_time": "2022-02-17T03:56:24.530Z"
   },
   {
    "duration": 163,
    "start_time": "2022-02-17T03:56:24.693Z"
   },
   {
    "duration": 150,
    "start_time": "2022-02-17T03:56:24.859Z"
   },
   {
    "duration": 175,
    "start_time": "2022-02-17T03:56:25.011Z"
   },
   {
    "duration": 218,
    "start_time": "2022-02-17T03:56:25.188Z"
   },
   {
    "duration": 165,
    "start_time": "2022-02-17T03:56:25.409Z"
   },
   {
    "duration": 156,
    "start_time": "2022-02-17T03:56:25.577Z"
   },
   {
    "duration": 16,
    "start_time": "2022-02-17T03:56:25.736Z"
   },
   {
    "duration": 8,
    "start_time": "2022-02-17T03:56:25.755Z"
   },
   {
    "duration": 464,
    "start_time": "2022-02-17T03:56:25.765Z"
   },
   {
    "duration": 16,
    "start_time": "2022-02-17T03:56:26.232Z"
   },
   {
    "duration": 456,
    "start_time": "2022-02-17T03:56:26.250Z"
   },
   {
    "duration": 26,
    "start_time": "2022-02-17T03:56:26.708Z"
   },
   {
    "duration": 1489,
    "start_time": "2022-02-17T03:57:05.012Z"
   },
   {
    "duration": 1484,
    "start_time": "2022-02-17T03:57:18.703Z"
   },
   {
    "duration": 115,
    "start_time": "2022-02-17T04:19:08.234Z"
   },
   {
    "duration": 7,
    "start_time": "2022-02-17T04:19:22.903Z"
   },
   {
    "duration": 788,
    "start_time": "2022-02-17T04:19:26.109Z"
   },
   {
    "duration": 9,
    "start_time": "2022-02-17T04:21:00.660Z"
   },
   {
    "duration": 487,
    "start_time": "2022-02-17T04:21:03.716Z"
   },
   {
    "duration": 9,
    "start_time": "2022-02-17T04:21:28.805Z"
   },
   {
    "duration": 485,
    "start_time": "2022-02-17T04:21:31.260Z"
   },
   {
    "duration": 491,
    "start_time": "2022-02-17T04:23:35.503Z"
   },
   {
    "duration": 7,
    "start_time": "2022-02-17T04:24:13.627Z"
   },
   {
    "duration": 475,
    "start_time": "2022-02-17T04:24:16.078Z"
   },
   {
    "duration": 9,
    "start_time": "2022-02-17T04:24:36.555Z"
   },
   {
    "duration": 724,
    "start_time": "2022-02-17T04:24:39.150Z"
   },
   {
    "duration": 8,
    "start_time": "2022-02-17T04:24:51.455Z"
   },
   {
    "duration": 504,
    "start_time": "2022-02-17T04:24:54.653Z"
   },
   {
    "duration": 8,
    "start_time": "2022-02-17T04:29:00.583Z"
   },
   {
    "duration": 500,
    "start_time": "2022-02-17T04:29:02.855Z"
   },
   {
    "duration": 1375,
    "start_time": "2022-02-17T04:36:57.312Z"
   },
   {
    "duration": 65,
    "start_time": "2022-02-17T04:36:58.690Z"
   },
   {
    "duration": 6,
    "start_time": "2022-02-17T04:36:58.758Z"
   },
   {
    "duration": 19,
    "start_time": "2022-02-17T04:36:58.766Z"
   },
   {
    "duration": 35,
    "start_time": "2022-02-17T04:36:58.788Z"
   },
   {
    "duration": 9,
    "start_time": "2022-02-17T04:36:58.826Z"
   },
   {
    "duration": 12,
    "start_time": "2022-02-17T04:36:58.838Z"
   },
   {
    "duration": 9,
    "start_time": "2022-02-17T04:36:58.853Z"
   },
   {
    "duration": 16,
    "start_time": "2022-02-17T04:36:58.864Z"
   },
   {
    "duration": 12,
    "start_time": "2022-02-17T04:36:58.923Z"
   },
   {
    "duration": 26,
    "start_time": "2022-02-17T04:36:58.938Z"
   },
   {
    "duration": 19,
    "start_time": "2022-02-17T04:36:58.967Z"
   },
   {
    "duration": 446,
    "start_time": "2022-02-17T04:36:58.988Z"
   },
   {
    "duration": 12,
    "start_time": "2022-02-17T04:36:59.437Z"
   },
   {
    "duration": 471,
    "start_time": "2022-02-17T04:36:59.452Z"
   },
   {
    "duration": 497,
    "start_time": "2022-02-17T04:36:59.926Z"
   },
   {
    "duration": 441,
    "start_time": "2022-02-17T04:37:00.425Z"
   },
   {
    "duration": 377,
    "start_time": "2022-02-17T04:37:00.869Z"
   },
   {
    "duration": 18,
    "start_time": "2022-02-17T04:37:01.248Z"
   },
   {
    "duration": 20,
    "start_time": "2022-02-17T04:37:01.268Z"
   },
   {
    "duration": 1359,
    "start_time": "2022-02-17T04:37:01.290Z"
   },
   {
    "duration": 16,
    "start_time": "2022-02-17T04:37:02.651Z"
   },
   {
    "duration": 1415,
    "start_time": "2022-02-17T04:37:02.672Z"
   },
   {
    "duration": 12,
    "start_time": "2022-02-17T04:37:04.089Z"
   },
   {
    "duration": 2291,
    "start_time": "2022-02-17T04:37:04.103Z"
   },
   {
    "duration": 417,
    "start_time": "2022-02-17T04:37:06.397Z"
   },
   {
    "duration": 10,
    "start_time": "2022-02-17T04:37:06.817Z"
   },
   {
    "duration": 154,
    "start_time": "2022-02-17T04:37:06.829Z"
   },
   {
    "duration": 149,
    "start_time": "2022-02-17T04:37:06.986Z"
   },
   {
    "duration": 247,
    "start_time": "2022-02-17T04:37:07.137Z"
   },
   {
    "duration": 158,
    "start_time": "2022-02-17T04:37:07.387Z"
   },
   {
    "duration": 154,
    "start_time": "2022-02-17T04:37:07.547Z"
   },
   {
    "duration": 163,
    "start_time": "2022-02-17T04:37:07.704Z"
   },
   {
    "duration": 158,
    "start_time": "2022-02-17T04:37:07.869Z"
   },
   {
    "duration": 150,
    "start_time": "2022-02-17T04:37:08.029Z"
   },
   {
    "duration": 169,
    "start_time": "2022-02-17T04:37:08.182Z"
   },
   {
    "duration": 18,
    "start_time": "2022-02-17T04:37:08.353Z"
   },
   {
    "duration": 12,
    "start_time": "2022-02-17T04:37:08.373Z"
   },
   {
    "duration": 508,
    "start_time": "2022-02-17T04:37:08.387Z"
   },
   {
    "duration": 30,
    "start_time": "2022-02-17T04:37:08.897Z"
   },
   {
    "duration": 477,
    "start_time": "2022-02-17T04:37:08.930Z"
   },
   {
    "duration": 24,
    "start_time": "2022-02-17T04:37:09.409Z"
   },
   {
    "duration": 7,
    "start_time": "2022-02-17T05:52:45.162Z"
   },
   {
    "duration": 763,
    "start_time": "2022-02-17T05:52:47.827Z"
   },
   {
    "duration": 1828,
    "start_time": "2022-02-17T05:52:56.895Z"
   },
   {
    "duration": 97,
    "start_time": "2022-02-17T05:52:58.727Z"
   },
   {
    "duration": 8,
    "start_time": "2022-02-17T05:52:58.828Z"
   },
   {
    "duration": 16,
    "start_time": "2022-02-17T05:52:58.839Z"
   },
   {
    "duration": 8,
    "start_time": "2022-02-17T05:52:58.858Z"
   },
   {
    "duration": 46,
    "start_time": "2022-02-17T05:52:58.868Z"
   },
   {
    "duration": 12,
    "start_time": "2022-02-17T05:52:58.916Z"
   },
   {
    "duration": 9,
    "start_time": "2022-02-17T05:52:58.934Z"
   },
   {
    "duration": 16,
    "start_time": "2022-02-17T05:52:58.947Z"
   },
   {
    "duration": 52,
    "start_time": "2022-02-17T05:52:58.966Z"
   },
   {
    "duration": 24,
    "start_time": "2022-02-17T05:52:59.021Z"
   },
   {
    "duration": 25,
    "start_time": "2022-02-17T05:52:59.048Z"
   },
   {
    "duration": 464,
    "start_time": "2022-02-17T05:52:59.075Z"
   },
   {
    "duration": 10,
    "start_time": "2022-02-17T05:52:59.542Z"
   },
   {
    "duration": 499,
    "start_time": "2022-02-17T05:52:59.555Z"
   },
   {
    "duration": 500,
    "start_time": "2022-02-17T05:53:00.058Z"
   },
   {
    "duration": 458,
    "start_time": "2022-02-17T05:53:00.560Z"
   },
   {
    "duration": 385,
    "start_time": "2022-02-17T05:53:01.021Z"
   },
   {
    "duration": 19,
    "start_time": "2022-02-17T05:53:01.411Z"
   },
   {
    "duration": 18,
    "start_time": "2022-02-17T05:53:01.433Z"
   },
   {
    "duration": 1360,
    "start_time": "2022-02-17T05:53:01.453Z"
   },
   {
    "duration": 16,
    "start_time": "2022-02-17T05:53:02.816Z"
   },
   {
    "duration": 1558,
    "start_time": "2022-02-17T05:53:02.840Z"
   },
   {
    "duration": 20,
    "start_time": "2022-02-17T05:53:04.402Z"
   },
   {
    "duration": 2487,
    "start_time": "2022-02-17T05:53:04.425Z"
   },
   {
    "duration": 433,
    "start_time": "2022-02-17T05:53:06.916Z"
   },
   {
    "duration": 7,
    "start_time": "2022-02-17T05:53:07.352Z"
   },
   {
    "duration": 173,
    "start_time": "2022-02-17T05:53:07.362Z"
   },
   {
    "duration": 155,
    "start_time": "2022-02-17T05:53:07.537Z"
   },
   {
    "duration": 256,
    "start_time": "2022-02-17T05:53:07.695Z"
   },
   {
    "duration": 168,
    "start_time": "2022-02-17T05:53:07.954Z"
   },
   {
    "duration": 238,
    "start_time": "2022-02-17T05:53:08.125Z"
   },
   {
    "duration": 231,
    "start_time": "2022-02-17T05:53:08.366Z"
   },
   {
    "duration": 211,
    "start_time": "2022-02-17T05:53:08.599Z"
   },
   {
    "duration": 204,
    "start_time": "2022-02-17T05:53:08.814Z"
   },
   {
    "duration": 238,
    "start_time": "2022-02-17T05:53:09.020Z"
   },
   {
    "duration": 17,
    "start_time": "2022-02-17T05:53:09.311Z"
   },
   {
    "duration": 9,
    "start_time": "2022-02-17T05:53:09.330Z"
   },
   {
    "duration": 872,
    "start_time": "2022-02-17T05:53:09.341Z"
   },
   {
    "duration": 20,
    "start_time": "2022-02-17T05:53:10.216Z"
   },
   {
    "duration": 517,
    "start_time": "2022-02-17T05:53:10.239Z"
   },
   {
    "duration": 18,
    "start_time": "2022-02-17T05:53:10.759Z"
   },
   {
    "duration": 1029,
    "start_time": "2022-02-17T06:19:24.175Z"
   },
   {
    "duration": 53,
    "start_time": "2022-02-17T06:19:25.206Z"
   },
   {
    "duration": 4,
    "start_time": "2022-02-17T06:19:25.261Z"
   },
   {
    "duration": 15,
    "start_time": "2022-02-17T06:19:25.267Z"
   },
   {
    "duration": 6,
    "start_time": "2022-02-17T06:19:25.283Z"
   },
   {
    "duration": 5,
    "start_time": "2022-02-17T06:19:25.290Z"
   },
   {
    "duration": 8,
    "start_time": "2022-02-17T06:19:25.312Z"
   },
   {
    "duration": 18,
    "start_time": "2022-02-17T06:19:25.322Z"
   },
   {
    "duration": 18,
    "start_time": "2022-02-17T06:19:25.343Z"
   },
   {
    "duration": 9,
    "start_time": "2022-02-17T06:19:25.362Z"
   },
   {
    "duration": 18,
    "start_time": "2022-02-17T06:19:25.373Z"
   },
   {
    "duration": 14,
    "start_time": "2022-02-17T06:19:25.413Z"
   },
   {
    "duration": 305,
    "start_time": "2022-02-17T06:19:25.430Z"
   },
   {
    "duration": 8,
    "start_time": "2022-02-17T06:19:25.737Z"
   },
   {
    "duration": 329,
    "start_time": "2022-02-17T06:19:25.747Z"
   },
   {
    "duration": 340,
    "start_time": "2022-02-17T06:19:26.078Z"
   },
   {
    "duration": 298,
    "start_time": "2022-02-17T06:19:26.420Z"
   },
   {
    "duration": 245,
    "start_time": "2022-02-17T06:19:26.720Z"
   },
   {
    "duration": 11,
    "start_time": "2022-02-17T06:19:26.967Z"
   },
   {
    "duration": 10,
    "start_time": "2022-02-17T06:19:26.979Z"
   },
   {
    "duration": 973,
    "start_time": "2022-02-17T06:19:26.991Z"
   },
   {
    "duration": 13,
    "start_time": "2022-02-17T06:19:27.966Z"
   },
   {
    "duration": 1016,
    "start_time": "2022-02-17T06:19:27.982Z"
   },
   {
    "duration": 13,
    "start_time": "2022-02-17T06:19:29.000Z"
   },
   {
    "duration": 1649,
    "start_time": "2022-02-17T06:19:29.015Z"
   },
   {
    "duration": 283,
    "start_time": "2022-02-17T06:19:30.666Z"
   },
   {
    "duration": 4,
    "start_time": "2022-02-17T06:19:30.951Z"
   },
   {
    "duration": 102,
    "start_time": "2022-02-17T06:19:30.957Z"
   },
   {
    "duration": 99,
    "start_time": "2022-02-17T06:19:31.061Z"
   },
   {
    "duration": 176,
    "start_time": "2022-02-17T06:19:31.162Z"
   },
   {
    "duration": 101,
    "start_time": "2022-02-17T06:19:31.340Z"
   },
   {
    "duration": 105,
    "start_time": "2022-02-17T06:19:31.443Z"
   },
   {
    "duration": 95,
    "start_time": "2022-02-17T06:19:31.550Z"
   },
   {
    "duration": 97,
    "start_time": "2022-02-17T06:19:31.647Z"
   },
   {
    "duration": 106,
    "start_time": "2022-02-17T06:19:31.746Z"
   },
   {
    "duration": 99,
    "start_time": "2022-02-17T06:19:31.853Z"
   },
   {
    "duration": 16,
    "start_time": "2022-02-17T06:19:31.953Z"
   },
   {
    "duration": 5,
    "start_time": "2022-02-17T06:19:31.970Z"
   },
   {
    "duration": 299,
    "start_time": "2022-02-17T06:19:31.977Z"
   },
   {
    "duration": 11,
    "start_time": "2022-02-17T06:19:32.277Z"
   },
   {
    "duration": 305,
    "start_time": "2022-02-17T06:19:32.289Z"
   },
   {
    "duration": 20,
    "start_time": "2022-02-17T06:19:32.596Z"
   },
   {
    "duration": 84,
    "start_time": "2022-02-17T06:31:44.904Z"
   },
   {
    "duration": 6,
    "start_time": "2022-02-17T06:33:46.349Z"
   },
   {
    "duration": 5,
    "start_time": "2022-02-17T06:34:11.119Z"
   },
   {
    "duration": 6,
    "start_time": "2022-02-17T06:34:17.013Z"
   },
   {
    "duration": 5,
    "start_time": "2022-02-17T06:34:26.961Z"
   },
   {
    "duration": 9,
    "start_time": "2022-02-17T06:36:38.188Z"
   },
   {
    "duration": 72,
    "start_time": "2022-02-17T06:49:43.498Z"
   },
   {
    "duration": 295,
    "start_time": "2022-02-17T10:22:09.190Z"
   },
   {
    "duration": 1198,
    "start_time": "2022-02-17T10:22:18.902Z"
   },
   {
    "duration": 47,
    "start_time": "2022-02-17T10:22:20.102Z"
   },
   {
    "duration": 6,
    "start_time": "2022-02-17T10:22:20.152Z"
   },
   {
    "duration": 16,
    "start_time": "2022-02-17T10:22:20.160Z"
   },
   {
    "duration": 6,
    "start_time": "2022-02-17T10:22:20.178Z"
   },
   {
    "duration": 32,
    "start_time": "2022-02-17T10:22:20.186Z"
   },
   {
    "duration": 10,
    "start_time": "2022-02-17T10:22:20.221Z"
   },
   {
    "duration": 13,
    "start_time": "2022-02-17T10:22:20.234Z"
   },
   {
    "duration": 21,
    "start_time": "2022-02-17T10:22:20.249Z"
   },
   {
    "duration": 11,
    "start_time": "2022-02-17T10:22:20.273Z"
   },
   {
    "duration": 46,
    "start_time": "2022-02-17T10:22:20.286Z"
   },
   {
    "duration": 26,
    "start_time": "2022-02-17T10:22:20.334Z"
   },
   {
    "duration": 289,
    "start_time": "2022-02-17T10:22:20.363Z"
   },
   {
    "duration": 8,
    "start_time": "2022-02-17T10:22:20.653Z"
   },
   {
    "duration": 310,
    "start_time": "2022-02-17T10:22:20.663Z"
   },
   {
    "duration": 323,
    "start_time": "2022-02-17T10:22:20.975Z"
   },
   {
    "duration": 321,
    "start_time": "2022-02-17T10:22:21.300Z"
   },
   {
    "duration": 255,
    "start_time": "2022-02-17T10:22:21.623Z"
   },
   {
    "duration": 13,
    "start_time": "2022-02-17T10:22:21.880Z"
   },
   {
    "duration": 33,
    "start_time": "2022-02-17T10:22:21.895Z"
   },
   {
    "duration": 973,
    "start_time": "2022-02-17T10:22:21.930Z"
   },
   {
    "duration": 25,
    "start_time": "2022-02-17T10:22:22.905Z"
   },
   {
    "duration": 1066,
    "start_time": "2022-02-17T10:22:22.934Z"
   },
   {
    "duration": 18,
    "start_time": "2022-02-17T10:22:24.003Z"
   },
   {
    "duration": 2034,
    "start_time": "2022-02-17T10:22:24.023Z"
   },
   {
    "duration": 279,
    "start_time": "2022-02-17T10:22:26.058Z"
   },
   {
    "duration": 5,
    "start_time": "2022-02-17T10:22:26.339Z"
   },
   {
    "duration": 113,
    "start_time": "2022-02-17T10:22:26.346Z"
   },
   {
    "duration": 108,
    "start_time": "2022-02-17T10:22:26.460Z"
   },
   {
    "duration": 206,
    "start_time": "2022-02-17T10:22:26.570Z"
   },
   {
    "duration": 111,
    "start_time": "2022-02-17T10:22:26.778Z"
   },
   {
    "duration": 117,
    "start_time": "2022-02-17T10:22:26.891Z"
   },
   {
    "duration": 112,
    "start_time": "2022-02-17T10:22:27.019Z"
   },
   {
    "duration": 111,
    "start_time": "2022-02-17T10:22:27.133Z"
   },
   {
    "duration": 111,
    "start_time": "2022-02-17T10:22:27.246Z"
   },
   {
    "duration": 108,
    "start_time": "2022-02-17T10:22:27.359Z"
   },
   {
    "duration": 13,
    "start_time": "2022-02-17T10:22:27.470Z"
   },
   {
    "duration": 52,
    "start_time": "2022-02-17T10:22:27.485Z"
   },
   {
    "duration": 371,
    "start_time": "2022-02-17T10:22:27.539Z"
   },
   {
    "duration": 15,
    "start_time": "2022-02-17T10:22:27.912Z"
   },
   {
    "duration": 16,
    "start_time": "2022-02-17T10:22:27.929Z"
   },
   {
    "duration": 349,
    "start_time": "2022-02-17T10:22:27.946Z"
   },
   {
    "duration": 23,
    "start_time": "2022-02-17T10:22:28.296Z"
   },
   {
    "duration": 13,
    "start_time": "2022-02-17T10:23:57.549Z"
   },
   {
    "duration": 5,
    "start_time": "2022-02-17T10:26:56.362Z"
   },
   {
    "duration": 5,
    "start_time": "2022-02-17T10:27:02.306Z"
   },
   {
    "duration": 4,
    "start_time": "2022-02-17T10:27:19.535Z"
   },
   {
    "duration": 11,
    "start_time": "2022-02-17T10:27:30.274Z"
   },
   {
    "duration": 24,
    "start_time": "2022-02-17T10:28:09.178Z"
   },
   {
    "duration": 8,
    "start_time": "2022-02-17T10:39:52.549Z"
   },
   {
    "duration": 10,
    "start_time": "2022-02-17T10:39:59.707Z"
   },
   {
    "duration": 9,
    "start_time": "2022-02-17T10:40:06.558Z"
   },
   {
    "duration": 9,
    "start_time": "2022-02-17T10:40:20.732Z"
   },
   {
    "duration": 1138,
    "start_time": "2022-02-17T10:40:48.883Z"
   },
   {
    "duration": 48,
    "start_time": "2022-02-17T10:40:50.023Z"
   },
   {
    "duration": 6,
    "start_time": "2022-02-17T10:40:50.073Z"
   },
   {
    "duration": 16,
    "start_time": "2022-02-17T10:40:50.081Z"
   },
   {
    "duration": 21,
    "start_time": "2022-02-17T10:40:50.099Z"
   },
   {
    "duration": 18,
    "start_time": "2022-02-17T10:40:50.121Z"
   },
   {
    "duration": 14,
    "start_time": "2022-02-17T10:40:50.140Z"
   },
   {
    "duration": 9,
    "start_time": "2022-02-17T10:40:50.156Z"
   },
   {
    "duration": 37,
    "start_time": "2022-02-17T10:40:50.167Z"
   },
   {
    "duration": 22,
    "start_time": "2022-02-17T10:40:50.205Z"
   },
   {
    "duration": 19,
    "start_time": "2022-02-17T10:40:50.229Z"
   },
   {
    "duration": 15,
    "start_time": "2022-02-17T10:40:50.249Z"
   },
   {
    "duration": 290,
    "start_time": "2022-02-17T10:40:50.266Z"
   },
   {
    "duration": 8,
    "start_time": "2022-02-17T10:40:50.558Z"
   },
   {
    "duration": 309,
    "start_time": "2022-02-17T10:40:50.568Z"
   },
   {
    "duration": 330,
    "start_time": "2022-02-17T10:40:50.878Z"
   },
   {
    "duration": 287,
    "start_time": "2022-02-17T10:40:51.218Z"
   },
   {
    "duration": 239,
    "start_time": "2022-02-17T10:40:51.507Z"
   },
   {
    "duration": 12,
    "start_time": "2022-02-17T10:40:51.748Z"
   },
   {
    "duration": 16,
    "start_time": "2022-02-17T10:40:51.762Z"
   },
   {
    "duration": 902,
    "start_time": "2022-02-17T10:40:51.780Z"
   },
   {
    "duration": 12,
    "start_time": "2022-02-17T10:40:52.684Z"
   },
   {
    "duration": 980,
    "start_time": "2022-02-17T10:40:52.700Z"
   },
   {
    "duration": 10,
    "start_time": "2022-02-17T10:40:53.682Z"
   },
   {
    "duration": 1654,
    "start_time": "2022-02-17T10:40:53.693Z"
   },
   {
    "duration": 283,
    "start_time": "2022-02-17T10:40:55.349Z"
   },
   {
    "duration": 4,
    "start_time": "2022-02-17T10:40:55.633Z"
   },
   {
    "duration": 116,
    "start_time": "2022-02-17T10:40:55.639Z"
   },
   {
    "duration": 106,
    "start_time": "2022-02-17T10:40:55.756Z"
   },
   {
    "duration": 205,
    "start_time": "2022-02-17T10:40:55.864Z"
   },
   {
    "duration": 109,
    "start_time": "2022-02-17T10:40:56.071Z"
   },
   {
    "duration": 104,
    "start_time": "2022-02-17T10:40:56.182Z"
   },
   {
    "duration": 109,
    "start_time": "2022-02-17T10:40:56.288Z"
   },
   {
    "duration": 107,
    "start_time": "2022-02-17T10:40:56.399Z"
   },
   {
    "duration": 129,
    "start_time": "2022-02-17T10:40:56.508Z"
   },
   {
    "duration": 114,
    "start_time": "2022-02-17T10:40:56.640Z"
   },
   {
    "duration": 13,
    "start_time": "2022-02-17T10:40:56.755Z"
   },
   {
    "duration": 6,
    "start_time": "2022-02-17T10:40:56.770Z"
   },
   {
    "duration": 359,
    "start_time": "2022-02-17T10:40:56.778Z"
   },
   {
    "duration": 13,
    "start_time": "2022-02-17T10:40:57.138Z"
   },
   {
    "duration": 339,
    "start_time": "2022-02-17T10:40:57.152Z"
   },
   {
    "duration": 25,
    "start_time": "2022-02-17T10:40:57.493Z"
   },
   {
    "duration": 25,
    "start_time": "2022-02-17T10:40:57.520Z"
   },
   {
    "duration": 252,
    "start_time": "2022-02-18T05:14:19.150Z"
   },
   {
    "duration": 1097,
    "start_time": "2022-02-18T05:14:25.929Z"
   },
   {
    "duration": 54,
    "start_time": "2022-02-18T05:14:27.028Z"
   },
   {
    "duration": 6,
    "start_time": "2022-02-18T05:14:27.084Z"
   },
   {
    "duration": 28,
    "start_time": "2022-02-18T05:14:27.092Z"
   },
   {
    "duration": 6,
    "start_time": "2022-02-18T05:14:27.122Z"
   },
   {
    "duration": 5,
    "start_time": "2022-02-18T05:14:27.130Z"
   },
   {
    "duration": 8,
    "start_time": "2022-02-18T05:14:27.137Z"
   },
   {
    "duration": 7,
    "start_time": "2022-02-18T05:14:27.148Z"
   },
   {
    "duration": 13,
    "start_time": "2022-02-18T05:14:27.157Z"
   },
   {
    "duration": 8,
    "start_time": "2022-02-18T05:14:27.172Z"
   },
   {
    "duration": 342,
    "start_time": "2022-02-18T05:14:27.181Z"
   },
   {
    "duration": 3014,
    "start_time": "2022-02-18T05:14:24.512Z"
   },
   {
    "duration": 3008,
    "start_time": "2022-02-18T05:14:24.519Z"
   },
   {
    "duration": 3003,
    "start_time": "2022-02-18T05:14:24.525Z"
   },
   {
    "duration": 2999,
    "start_time": "2022-02-18T05:14:24.530Z"
   },
   {
    "duration": 2994,
    "start_time": "2022-02-18T05:14:24.536Z"
   },
   {
    "duration": 2990,
    "start_time": "2022-02-18T05:14:24.541Z"
   },
   {
    "duration": 2985,
    "start_time": "2022-02-18T05:14:24.547Z"
   },
   {
    "duration": 2981,
    "start_time": "2022-02-18T05:14:24.552Z"
   },
   {
    "duration": 2975,
    "start_time": "2022-02-18T05:14:24.558Z"
   },
   {
    "duration": 2971,
    "start_time": "2022-02-18T05:14:24.563Z"
   },
   {
    "duration": 2964,
    "start_time": "2022-02-18T05:14:24.571Z"
   },
   {
    "duration": 2960,
    "start_time": "2022-02-18T05:14:24.576Z"
   },
   {
    "duration": 2953,
    "start_time": "2022-02-18T05:14:24.583Z"
   },
   {
    "duration": 2926,
    "start_time": "2022-02-18T05:14:24.611Z"
   },
   {
    "duration": 2921,
    "start_time": "2022-02-18T05:14:24.617Z"
   },
   {
    "duration": 2914,
    "start_time": "2022-02-18T05:14:24.624Z"
   },
   {
    "duration": 2908,
    "start_time": "2022-02-18T05:14:24.631Z"
   },
   {
    "duration": 2904,
    "start_time": "2022-02-18T05:14:24.636Z"
   },
   {
    "duration": 2897,
    "start_time": "2022-02-18T05:14:24.644Z"
   },
   {
    "duration": 2892,
    "start_time": "2022-02-18T05:14:24.650Z"
   },
   {
    "duration": 2887,
    "start_time": "2022-02-18T05:14:24.656Z"
   },
   {
    "duration": 2881,
    "start_time": "2022-02-18T05:14:24.662Z"
   },
   {
    "duration": 2876,
    "start_time": "2022-02-18T05:14:24.668Z"
   },
   {
    "duration": 2872,
    "start_time": "2022-02-18T05:14:24.673Z"
   },
   {
    "duration": 2867,
    "start_time": "2022-02-18T05:14:24.679Z"
   },
   {
    "duration": 2860,
    "start_time": "2022-02-18T05:14:24.687Z"
   },
   {
    "duration": 2855,
    "start_time": "2022-02-18T05:14:24.693Z"
   },
   {
    "duration": 2850,
    "start_time": "2022-02-18T05:14:24.698Z"
   },
   {
    "duration": 2845,
    "start_time": "2022-02-18T05:14:24.704Z"
   },
   {
    "duration": 2833,
    "start_time": "2022-02-18T05:14:24.717Z"
   },
   {
    "duration": 2829,
    "start_time": "2022-02-18T05:14:24.722Z"
   },
   {
    "duration": 2824,
    "start_time": "2022-02-18T05:14:24.728Z"
   },
   {
    "duration": 2819,
    "start_time": "2022-02-18T05:14:24.733Z"
   },
   {
    "duration": 9,
    "start_time": "2022-02-18T05:14:56.382Z"
   },
   {
    "duration": 21,
    "start_time": "2022-02-18T05:15:25.468Z"
   },
   {
    "duration": 14,
    "start_time": "2022-02-18T05:15:34.733Z"
   },
   {
    "duration": 13,
    "start_time": "2022-02-18T05:16:29.427Z"
   },
   {
    "duration": 12,
    "start_time": "2022-02-18T05:18:47.583Z"
   },
   {
    "duration": 1051,
    "start_time": "2022-02-18T05:20:14.771Z"
   },
   {
    "duration": 45,
    "start_time": "2022-02-18T05:20:15.824Z"
   },
   {
    "duration": 5,
    "start_time": "2022-02-18T05:20:15.871Z"
   },
   {
    "duration": 14,
    "start_time": "2022-02-18T05:20:15.878Z"
   },
   {
    "duration": 27,
    "start_time": "2022-02-18T05:20:15.893Z"
   },
   {
    "duration": 5,
    "start_time": "2022-02-18T05:20:15.922Z"
   },
   {
    "duration": 35,
    "start_time": "2022-02-18T05:20:15.929Z"
   },
   {
    "duration": 16,
    "start_time": "2022-02-18T05:20:15.966Z"
   },
   {
    "duration": 36,
    "start_time": "2022-02-18T05:20:15.985Z"
   },
   {
    "duration": 11,
    "start_time": "2022-02-18T05:20:16.023Z"
   },
   {
    "duration": 12,
    "start_time": "2022-02-18T05:20:16.036Z"
   },
   {
    "duration": 19,
    "start_time": "2022-02-18T05:20:16.050Z"
   },
   {
    "duration": 18,
    "start_time": "2022-02-18T05:20:16.071Z"
   },
   {
    "duration": 299,
    "start_time": "2022-02-18T05:20:16.091Z"
   },
   {
    "duration": 8,
    "start_time": "2022-02-18T05:20:16.392Z"
   },
   {
    "duration": 294,
    "start_time": "2022-02-18T05:20:16.401Z"
   },
   {
    "duration": 322,
    "start_time": "2022-02-18T05:20:16.697Z"
   },
   {
    "duration": 278,
    "start_time": "2022-02-18T05:20:17.021Z"
   },
   {
    "duration": 237,
    "start_time": "2022-02-18T05:20:17.300Z"
   },
   {
    "duration": 12,
    "start_time": "2022-02-18T05:20:17.539Z"
   },
   {
    "duration": 23,
    "start_time": "2022-02-18T05:20:17.553Z"
   },
   {
    "duration": 911,
    "start_time": "2022-02-18T05:20:17.578Z"
   },
   {
    "duration": 12,
    "start_time": "2022-02-18T05:20:18.491Z"
   },
   {
    "duration": 1450,
    "start_time": "2022-02-18T05:20:18.518Z"
   },
   {
    "duration": 10,
    "start_time": "2022-02-18T05:20:19.969Z"
   },
   {
    "duration": 1945,
    "start_time": "2022-02-18T05:20:19.980Z"
   },
   {
    "duration": 270,
    "start_time": "2022-02-18T05:20:21.929Z"
   },
   {
    "duration": 5,
    "start_time": "2022-02-18T05:20:22.201Z"
   },
   {
    "duration": 112,
    "start_time": "2022-02-18T05:20:22.208Z"
   },
   {
    "duration": 103,
    "start_time": "2022-02-18T05:20:22.322Z"
   },
   {
    "duration": 218,
    "start_time": "2022-02-18T05:20:22.426Z"
   },
   {
    "duration": 107,
    "start_time": "2022-02-18T05:20:22.646Z"
   },
   {
    "duration": 112,
    "start_time": "2022-02-18T05:20:22.756Z"
   },
   {
    "duration": 108,
    "start_time": "2022-02-18T05:20:22.870Z"
   },
   {
    "duration": 111,
    "start_time": "2022-02-18T05:20:22.980Z"
   },
   {
    "duration": 108,
    "start_time": "2022-02-18T05:20:23.093Z"
   },
   {
    "duration": 115,
    "start_time": "2022-02-18T05:20:23.203Z"
   },
   {
    "duration": 12,
    "start_time": "2022-02-18T05:20:23.320Z"
   },
   {
    "duration": 10,
    "start_time": "2022-02-18T05:20:23.334Z"
   },
   {
    "duration": 328,
    "start_time": "2022-02-18T05:20:23.346Z"
   },
   {
    "duration": 12,
    "start_time": "2022-02-18T05:20:23.676Z"
   },
   {
    "duration": 324,
    "start_time": "2022-02-18T05:20:23.690Z"
   },
   {
    "duration": 12,
    "start_time": "2022-02-18T05:20:24.018Z"
   },
   {
    "duration": 24,
    "start_time": "2022-02-18T05:20:24.031Z"
   },
   {
    "duration": 285,
    "start_time": "2022-02-18T05:23:29.317Z"
   },
   {
    "duration": 4,
    "start_time": "2022-02-18T05:29:34.944Z"
   },
   {
    "duration": 4,
    "start_time": "2022-02-18T05:30:04.248Z"
   },
   {
    "duration": 1104,
    "start_time": "2022-02-18T05:30:11.905Z"
   },
   {
    "duration": 47,
    "start_time": "2022-02-18T05:30:13.011Z"
   },
   {
    "duration": 4,
    "start_time": "2022-02-18T05:30:13.060Z"
   },
   {
    "duration": 12,
    "start_time": "2022-02-18T05:30:13.066Z"
   },
   {
    "duration": 5,
    "start_time": "2022-02-18T05:30:13.080Z"
   },
   {
    "duration": 6,
    "start_time": "2022-02-18T05:30:13.086Z"
   },
   {
    "duration": 30,
    "start_time": "2022-02-18T05:30:13.094Z"
   },
   {
    "duration": 8,
    "start_time": "2022-02-18T05:30:13.127Z"
   },
   {
    "duration": 15,
    "start_time": "2022-02-18T05:30:13.137Z"
   },
   {
    "duration": 10,
    "start_time": "2022-02-18T05:30:13.153Z"
   },
   {
    "duration": 12,
    "start_time": "2022-02-18T05:30:13.165Z"
   },
   {
    "duration": 53,
    "start_time": "2022-02-18T05:30:13.178Z"
   },
   {
    "duration": 45,
    "start_time": "2022-02-18T05:30:13.233Z"
   },
   {
    "duration": 281,
    "start_time": "2022-02-18T05:30:13.280Z"
   },
   {
    "duration": 7,
    "start_time": "2022-02-18T05:30:13.563Z"
   },
   {
    "duration": 307,
    "start_time": "2022-02-18T05:30:13.572Z"
   },
   {
    "duration": 314,
    "start_time": "2022-02-18T05:30:13.881Z"
   },
   {
    "duration": 281,
    "start_time": "2022-02-18T05:30:14.197Z"
   },
   {
    "duration": 233,
    "start_time": "2022-02-18T05:30:14.480Z"
   },
   {
    "duration": 12,
    "start_time": "2022-02-18T05:30:14.715Z"
   },
   {
    "duration": 13,
    "start_time": "2022-02-18T05:30:14.729Z"
   },
   {
    "duration": 1448,
    "start_time": "2022-02-18T05:30:14.744Z"
   },
   {
    "duration": 26,
    "start_time": "2022-02-18T05:30:16.197Z"
   },
   {
    "duration": 1032,
    "start_time": "2022-02-18T05:30:16.225Z"
   },
   {
    "duration": 10,
    "start_time": "2022-02-18T05:30:17.260Z"
   },
   {
    "duration": 1797,
    "start_time": "2022-02-18T05:30:17.272Z"
   },
   {
    "duration": 274,
    "start_time": "2022-02-18T05:30:19.071Z"
   },
   {
    "duration": 5,
    "start_time": "2022-02-18T05:30:19.346Z"
   },
   {
    "duration": 104,
    "start_time": "2022-02-18T05:30:19.353Z"
   },
   {
    "duration": 107,
    "start_time": "2022-02-18T05:30:19.459Z"
   },
   {
    "duration": 200,
    "start_time": "2022-02-18T05:30:19.568Z"
   },
   {
    "duration": 100,
    "start_time": "2022-02-18T05:30:19.770Z"
   },
   {
    "duration": 102,
    "start_time": "2022-02-18T05:30:19.872Z"
   },
   {
    "duration": 116,
    "start_time": "2022-02-18T05:30:19.976Z"
   },
   {
    "duration": 95,
    "start_time": "2022-02-18T05:30:20.095Z"
   },
   {
    "duration": 110,
    "start_time": "2022-02-18T05:30:20.192Z"
   },
   {
    "duration": 117,
    "start_time": "2022-02-18T05:30:20.304Z"
   },
   {
    "duration": 13,
    "start_time": "2022-02-18T05:30:20.423Z"
   },
   {
    "duration": 7,
    "start_time": "2022-02-18T05:30:20.439Z"
   },
   {
    "duration": 344,
    "start_time": "2022-02-18T05:30:20.448Z"
   },
   {
    "duration": 12,
    "start_time": "2022-02-18T05:30:20.794Z"
   },
   {
    "duration": 322,
    "start_time": "2022-02-18T05:30:20.819Z"
   },
   {
    "duration": 14,
    "start_time": "2022-02-18T05:30:21.144Z"
   },
   {
    "duration": 25,
    "start_time": "2022-02-18T05:30:21.160Z"
   },
   {
    "duration": 285,
    "start_time": "2022-02-18T05:32:56.506Z"
   },
   {
    "duration": 219,
    "start_time": "2022-02-18T05:33:29.282Z"
   },
   {
    "duration": 331,
    "start_time": "2022-02-18T05:34:10.257Z"
   },
   {
    "duration": 303,
    "start_time": "2022-02-18T05:34:34.207Z"
   },
   {
    "duration": 420,
    "start_time": "2022-02-18T05:46:41.794Z"
   },
   {
    "duration": 218,
    "start_time": "2022-02-18T05:47:16.725Z"
   },
   {
    "duration": 248,
    "start_time": "2022-02-18T05:49:37.952Z"
   },
   {
    "duration": 261,
    "start_time": "2022-02-18T05:50:06.694Z"
   },
   {
    "duration": 5,
    "start_time": "2022-02-18T05:51:55.724Z"
   },
   {
    "duration": 255,
    "start_time": "2022-02-18T05:55:57.723Z"
   },
   {
    "duration": 246,
    "start_time": "2022-02-18T05:58:24.726Z"
   },
   {
    "duration": 342,
    "start_time": "2022-02-18T06:35:00.050Z"
   },
   {
    "duration": 1109,
    "start_time": "2022-02-18T06:35:11.725Z"
   },
   {
    "duration": 52,
    "start_time": "2022-02-18T06:35:12.837Z"
   },
   {
    "duration": 6,
    "start_time": "2022-02-18T06:35:12.891Z"
   },
   {
    "duration": 12,
    "start_time": "2022-02-18T06:35:12.898Z"
   },
   {
    "duration": 7,
    "start_time": "2022-02-18T06:35:12.918Z"
   },
   {
    "duration": 7,
    "start_time": "2022-02-18T06:35:12.927Z"
   },
   {
    "duration": 16,
    "start_time": "2022-02-18T06:35:12.936Z"
   },
   {
    "duration": 9,
    "start_time": "2022-02-18T06:35:12.955Z"
   },
   {
    "duration": 22,
    "start_time": "2022-02-18T06:35:12.967Z"
   },
   {
    "duration": 32,
    "start_time": "2022-02-18T06:35:12.991Z"
   },
   {
    "duration": 12,
    "start_time": "2022-02-18T06:35:13.025Z"
   },
   {
    "duration": 340,
    "start_time": "2022-02-18T06:35:13.039Z"
   },
   {
    "duration": 2614,
    "start_time": "2022-02-18T06:35:10.768Z"
   },
   {
    "duration": 2610,
    "start_time": "2022-02-18T06:35:10.773Z"
   },
   {
    "duration": 2604,
    "start_time": "2022-02-18T06:35:10.780Z"
   },
   {
    "duration": 2600,
    "start_time": "2022-02-18T06:35:10.785Z"
   },
   {
    "duration": 2595,
    "start_time": "2022-02-18T06:35:10.791Z"
   },
   {
    "duration": 2591,
    "start_time": "2022-02-18T06:35:10.796Z"
   },
   {
    "duration": 2586,
    "start_time": "2022-02-18T06:35:10.802Z"
   },
   {
    "duration": 2582,
    "start_time": "2022-02-18T06:35:10.807Z"
   },
   {
    "duration": 2578,
    "start_time": "2022-02-18T06:35:10.812Z"
   },
   {
    "duration": 2574,
    "start_time": "2022-02-18T06:35:10.818Z"
   },
   {
    "duration": 2570,
    "start_time": "2022-02-18T06:35:10.823Z"
   },
   {
    "duration": 2565,
    "start_time": "2022-02-18T06:35:10.829Z"
   },
   {
    "duration": 2562,
    "start_time": "2022-02-18T06:35:10.834Z"
   },
   {
    "duration": 2557,
    "start_time": "2022-02-18T06:35:10.840Z"
   },
   {
    "duration": 2552,
    "start_time": "2022-02-18T06:35:10.845Z"
   },
   {
    "duration": 2547,
    "start_time": "2022-02-18T06:35:10.851Z"
   },
   {
    "duration": 2543,
    "start_time": "2022-02-18T06:35:10.856Z"
   },
   {
    "duration": 2531,
    "start_time": "2022-02-18T06:35:10.869Z"
   },
   {
    "duration": 2526,
    "start_time": "2022-02-18T06:35:10.875Z"
   },
   {
    "duration": 2522,
    "start_time": "2022-02-18T06:35:10.880Z"
   },
   {
    "duration": 2517,
    "start_time": "2022-02-18T06:35:10.886Z"
   },
   {
    "duration": 2512,
    "start_time": "2022-02-18T06:35:10.892Z"
   },
   {
    "duration": 2508,
    "start_time": "2022-02-18T06:35:10.897Z"
   },
   {
    "duration": 2503,
    "start_time": "2022-02-18T06:35:10.903Z"
   },
   {
    "duration": 2499,
    "start_time": "2022-02-18T06:35:10.908Z"
   },
   {
    "duration": 2494,
    "start_time": "2022-02-18T06:35:10.914Z"
   },
   {
    "duration": 2489,
    "start_time": "2022-02-18T06:35:10.919Z"
   },
   {
    "duration": 2485,
    "start_time": "2022-02-18T06:35:10.925Z"
   },
   {
    "duration": 2481,
    "start_time": "2022-02-18T06:35:10.930Z"
   },
   {
    "duration": 2476,
    "start_time": "2022-02-18T06:35:10.936Z"
   },
   {
    "duration": 2472,
    "start_time": "2022-02-18T06:35:10.941Z"
   },
   {
    "duration": 2468,
    "start_time": "2022-02-18T06:35:10.946Z"
   },
   {
    "duration": 2464,
    "start_time": "2022-02-18T06:35:10.952Z"
   },
   {
    "duration": 2459,
    "start_time": "2022-02-18T06:35:10.958Z"
   },
   {
    "duration": 2455,
    "start_time": "2022-02-18T06:35:10.963Z"
   },
   {
    "duration": 2443,
    "start_time": "2022-02-18T06:35:10.976Z"
   },
   {
    "duration": 8,
    "start_time": "2022-02-18T06:36:14.464Z"
   },
   {
    "duration": 256,
    "start_time": "2022-02-18T06:36:30.920Z"
   },
   {
    "duration": 1063,
    "start_time": "2022-02-18T06:36:40.661Z"
   },
   {
    "duration": 47,
    "start_time": "2022-02-18T06:36:41.727Z"
   },
   {
    "duration": 5,
    "start_time": "2022-02-18T06:36:41.777Z"
   },
   {
    "duration": 13,
    "start_time": "2022-02-18T06:36:41.784Z"
   },
   {
    "duration": 6,
    "start_time": "2022-02-18T06:36:41.819Z"
   },
   {
    "duration": 10,
    "start_time": "2022-02-18T06:36:41.827Z"
   },
   {
    "duration": 8,
    "start_time": "2022-02-18T06:36:41.839Z"
   },
   {
    "duration": 7,
    "start_time": "2022-02-18T06:36:41.849Z"
   },
   {
    "duration": 14,
    "start_time": "2022-02-18T06:36:41.859Z"
   },
   {
    "duration": 13,
    "start_time": "2022-02-18T06:36:41.875Z"
   },
   {
    "duration": 42,
    "start_time": "2022-02-18T06:36:41.890Z"
   },
   {
    "duration": 5,
    "start_time": "2022-02-18T06:36:41.934Z"
   },
   {
    "duration": 23,
    "start_time": "2022-02-18T06:36:41.941Z"
   },
   {
    "duration": 19,
    "start_time": "2022-02-18T06:36:41.966Z"
   },
   {
    "duration": 313,
    "start_time": "2022-02-18T06:36:41.987Z"
   },
   {
    "duration": 20,
    "start_time": "2022-02-18T06:36:42.302Z"
   },
   {
    "duration": 317,
    "start_time": "2022-02-18T06:36:42.324Z"
   },
   {
    "duration": 351,
    "start_time": "2022-02-18T06:36:42.643Z"
   },
   {
    "duration": 284,
    "start_time": "2022-02-18T06:36:42.996Z"
   },
   {
    "duration": 231,
    "start_time": "2022-02-18T06:36:43.282Z"
   },
   {
    "duration": 240,
    "start_time": "2022-02-18T06:36:43.519Z"
   },
   {
    "duration": 238,
    "start_time": "2022-02-18T06:36:43.760Z"
   },
   {
    "duration": 19,
    "start_time": "2022-02-18T06:36:44.000Z"
   },
   {
    "duration": 12,
    "start_time": "2022-02-18T06:36:44.021Z"
   },
   {
    "duration": 1004,
    "start_time": "2022-02-18T06:36:44.035Z"
   },
   {
    "duration": 12,
    "start_time": "2022-02-18T06:36:45.041Z"
   },
   {
    "duration": 1018,
    "start_time": "2022-02-18T06:36:45.057Z"
   },
   {
    "duration": 10,
    "start_time": "2022-02-18T06:36:46.078Z"
   },
   {
    "duration": 1928,
    "start_time": "2022-02-18T06:36:46.090Z"
   },
   {
    "duration": 287,
    "start_time": "2022-02-18T06:36:48.020Z"
   },
   {
    "duration": 12,
    "start_time": "2022-02-18T06:36:48.309Z"
   },
   {
    "duration": 4,
    "start_time": "2022-02-18T06:36:48.323Z"
   },
   {
    "duration": 229,
    "start_time": "2022-02-18T06:36:48.329Z"
   },
   {
    "duration": 109,
    "start_time": "2022-02-18T06:36:48.560Z"
   },
   {
    "duration": 105,
    "start_time": "2022-02-18T06:36:48.671Z"
   },
   {
    "duration": 108,
    "start_time": "2022-02-18T06:36:48.778Z"
   },
   {
    "duration": 106,
    "start_time": "2022-02-18T06:36:48.888Z"
   },
   {
    "duration": 111,
    "start_time": "2022-02-18T06:36:48.996Z"
   },
   {
    "duration": 112,
    "start_time": "2022-02-18T06:36:49.118Z"
   },
   {
    "duration": 114,
    "start_time": "2022-02-18T06:36:49.232Z"
   },
   {
    "duration": 115,
    "start_time": "2022-02-18T06:36:49.348Z"
   },
   {
    "duration": 12,
    "start_time": "2022-02-18T06:36:49.465Z"
   },
   {
    "duration": 6,
    "start_time": "2022-02-18T06:36:49.480Z"
   },
   {
    "duration": 346,
    "start_time": "2022-02-18T06:36:49.487Z"
   },
   {
    "duration": 13,
    "start_time": "2022-02-18T06:36:49.834Z"
   },
   {
    "duration": 375,
    "start_time": "2022-02-18T06:36:49.848Z"
   },
   {
    "duration": 16,
    "start_time": "2022-02-18T06:36:50.225Z"
   },
   {
    "duration": 28,
    "start_time": "2022-02-18T06:36:50.243Z"
   },
   {
    "duration": 5,
    "start_time": "2022-02-18T06:37:29.165Z"
   },
   {
    "duration": 10,
    "start_time": "2022-02-18T06:37:43.605Z"
   },
   {
    "duration": 8,
    "start_time": "2022-02-18T06:37:50.556Z"
   },
   {
    "duration": 1096,
    "start_time": "2022-02-18T06:41:30.126Z"
   },
   {
    "duration": 49,
    "start_time": "2022-02-18T06:41:31.225Z"
   },
   {
    "duration": 4,
    "start_time": "2022-02-18T06:41:31.276Z"
   },
   {
    "duration": 17,
    "start_time": "2022-02-18T06:41:31.282Z"
   },
   {
    "duration": 16,
    "start_time": "2022-02-18T06:41:31.301Z"
   },
   {
    "duration": 25,
    "start_time": "2022-02-18T06:41:31.318Z"
   },
   {
    "duration": 12,
    "start_time": "2022-02-18T06:41:31.345Z"
   },
   {
    "duration": 10,
    "start_time": "2022-02-18T06:41:31.358Z"
   },
   {
    "duration": 9,
    "start_time": "2022-02-18T06:41:31.370Z"
   },
   {
    "duration": 12,
    "start_time": "2022-02-18T06:41:31.381Z"
   },
   {
    "duration": 8,
    "start_time": "2022-02-18T06:41:31.395Z"
   },
   {
    "duration": 17,
    "start_time": "2022-02-18T06:41:31.404Z"
   },
   {
    "duration": 18,
    "start_time": "2022-02-18T06:41:31.423Z"
   },
   {
    "duration": 17,
    "start_time": "2022-02-18T06:41:31.443Z"
   },
   {
    "duration": 288,
    "start_time": "2022-02-18T06:41:31.461Z"
   },
   {
    "duration": 8,
    "start_time": "2022-02-18T06:41:31.751Z"
   },
   {
    "duration": 305,
    "start_time": "2022-02-18T06:41:31.760Z"
   },
   {
    "duration": 307,
    "start_time": "2022-02-18T06:41:32.067Z"
   },
   {
    "duration": 272,
    "start_time": "2022-02-18T06:41:32.376Z"
   },
   {
    "duration": 231,
    "start_time": "2022-02-18T06:41:32.650Z"
   },
   {
    "duration": 244,
    "start_time": "2022-02-18T06:41:32.883Z"
   },
   {
    "duration": 242,
    "start_time": "2022-02-18T06:41:33.129Z"
   },
   {
    "duration": 17,
    "start_time": "2022-02-18T06:41:33.373Z"
   },
   {
    "duration": 29,
    "start_time": "2022-02-18T06:41:33.392Z"
   },
   {
    "duration": 998,
    "start_time": "2022-02-18T06:41:33.423Z"
   },
   {
    "duration": 12,
    "start_time": "2022-02-18T06:41:34.423Z"
   },
   {
    "duration": 917,
    "start_time": "2022-02-18T06:41:34.439Z"
   },
   {
    "duration": 11,
    "start_time": "2022-02-18T06:41:35.358Z"
   },
   {
    "duration": 1634,
    "start_time": "2022-02-18T06:41:35.371Z"
   },
   {
    "duration": 268,
    "start_time": "2022-02-18T06:41:37.007Z"
   },
   {
    "duration": 5,
    "start_time": "2022-02-18T06:41:37.276Z"
   },
   {
    "duration": 5,
    "start_time": "2022-02-18T06:41:37.283Z"
   },
   {
    "duration": 218,
    "start_time": "2022-02-18T06:41:37.290Z"
   },
   {
    "duration": 110,
    "start_time": "2022-02-18T06:41:37.510Z"
   },
   {
    "duration": 105,
    "start_time": "2022-02-18T06:41:37.623Z"
   },
   {
    "duration": 106,
    "start_time": "2022-02-18T06:41:37.730Z"
   },
   {
    "duration": 108,
    "start_time": "2022-02-18T06:41:37.837Z"
   },
   {
    "duration": 114,
    "start_time": "2022-02-18T06:41:37.947Z"
   },
   {
    "duration": 106,
    "start_time": "2022-02-18T06:41:38.063Z"
   },
   {
    "duration": 104,
    "start_time": "2022-02-18T06:41:38.171Z"
   },
   {
    "duration": 109,
    "start_time": "2022-02-18T06:41:38.277Z"
   },
   {
    "duration": 12,
    "start_time": "2022-02-18T06:41:38.388Z"
   },
   {
    "duration": 6,
    "start_time": "2022-02-18T06:41:38.418Z"
   },
   {
    "duration": 333,
    "start_time": "2022-02-18T06:41:38.427Z"
   },
   {
    "duration": 13,
    "start_time": "2022-02-18T06:41:38.762Z"
   },
   {
    "duration": 325,
    "start_time": "2022-02-18T06:41:38.777Z"
   },
   {
    "duration": 20,
    "start_time": "2022-02-18T06:41:39.105Z"
   },
   {
    "duration": 22,
    "start_time": "2022-02-18T06:41:39.127Z"
   },
   {
    "duration": 5,
    "start_time": "2022-02-18T06:52:43.060Z"
   },
   {
    "duration": 91,
    "start_time": "2022-02-18T06:52:46.508Z"
   },
   {
    "duration": 101,
    "start_time": "2022-02-18T06:55:05.045Z"
   },
   {
    "duration": 192,
    "start_time": "2022-02-18T06:56:54.934Z"
   },
   {
    "duration": 104,
    "start_time": "2022-02-18T07:01:52.221Z"
   },
   {
    "duration": 113,
    "start_time": "2022-02-18T07:04:01.418Z"
   },
   {
    "duration": 103,
    "start_time": "2022-02-18T07:06:07.375Z"
   },
   {
    "duration": 90,
    "start_time": "2022-02-18T07:09:44.641Z"
   },
   {
    "duration": 106,
    "start_time": "2022-02-18T07:11:41.892Z"
   },
   {
    "duration": 97,
    "start_time": "2022-02-18T07:12:16.401Z"
   },
   {
    "duration": 1088,
    "start_time": "2022-02-18T07:47:26.740Z"
   },
   {
    "duration": 46,
    "start_time": "2022-02-18T07:47:27.830Z"
   },
   {
    "duration": 5,
    "start_time": "2022-02-18T07:47:27.878Z"
   },
   {
    "duration": 15,
    "start_time": "2022-02-18T07:47:27.886Z"
   },
   {
    "duration": 8,
    "start_time": "2022-02-18T07:47:27.919Z"
   },
   {
    "duration": 6,
    "start_time": "2022-02-18T07:47:27.929Z"
   },
   {
    "duration": 15,
    "start_time": "2022-02-18T07:47:27.937Z"
   },
   {
    "duration": 9,
    "start_time": "2022-02-18T07:47:27.956Z"
   },
   {
    "duration": 18,
    "start_time": "2022-02-18T07:47:27.967Z"
   },
   {
    "duration": 34,
    "start_time": "2022-02-18T07:47:27.987Z"
   },
   {
    "duration": 8,
    "start_time": "2022-02-18T07:47:28.023Z"
   },
   {
    "duration": 12,
    "start_time": "2022-02-18T07:47:28.033Z"
   },
   {
    "duration": 19,
    "start_time": "2022-02-18T07:47:28.047Z"
   },
   {
    "duration": 18,
    "start_time": "2022-02-18T07:47:28.068Z"
   },
   {
    "duration": 316,
    "start_time": "2022-02-18T07:47:28.088Z"
   },
   {
    "duration": 16,
    "start_time": "2022-02-18T07:47:28.405Z"
   },
   {
    "duration": 302,
    "start_time": "2022-02-18T07:47:28.423Z"
   },
   {
    "duration": 328,
    "start_time": "2022-02-18T07:47:28.727Z"
   },
   {
    "duration": 282,
    "start_time": "2022-02-18T07:47:29.057Z"
   },
   {
    "duration": 239,
    "start_time": "2022-02-18T07:47:29.341Z"
   },
   {
    "duration": 253,
    "start_time": "2022-02-18T07:47:29.582Z"
   },
   {
    "duration": 257,
    "start_time": "2022-02-18T07:47:29.837Z"
   },
   {
    "duration": 20,
    "start_time": "2022-02-18T07:47:30.098Z"
   },
   {
    "duration": 13,
    "start_time": "2022-02-18T07:47:30.121Z"
   },
   {
    "duration": 1087,
    "start_time": "2022-02-18T07:47:30.137Z"
   },
   {
    "duration": 14,
    "start_time": "2022-02-18T07:47:31.226Z"
   },
   {
    "duration": 925,
    "start_time": "2022-02-18T07:47:31.241Z"
   },
   {
    "duration": 9,
    "start_time": "2022-02-18T07:47:32.168Z"
   },
   {
    "duration": 1591,
    "start_time": "2022-02-18T07:47:32.178Z"
   },
   {
    "duration": 254,
    "start_time": "2022-02-18T07:47:33.770Z"
   },
   {
    "duration": 4,
    "start_time": "2022-02-18T07:47:34.026Z"
   },
   {
    "duration": 217,
    "start_time": "2022-02-18T07:47:34.032Z"
   },
   {
    "duration": 105,
    "start_time": "2022-02-18T07:47:34.251Z"
   },
   {
    "duration": 103,
    "start_time": "2022-02-18T07:47:34.358Z"
   },
   {
    "duration": 106,
    "start_time": "2022-02-18T07:47:34.462Z"
   },
   {
    "duration": 103,
    "start_time": "2022-02-18T07:47:34.570Z"
   },
   {
    "duration": 103,
    "start_time": "2022-02-18T07:47:34.675Z"
   },
   {
    "duration": 98,
    "start_time": "2022-02-18T07:47:34.779Z"
   },
   {
    "duration": 102,
    "start_time": "2022-02-18T07:47:34.879Z"
   },
   {
    "duration": 135,
    "start_time": "2022-02-18T07:47:34.983Z"
   },
   {
    "duration": 13,
    "start_time": "2022-02-18T07:47:35.120Z"
   },
   {
    "duration": 8,
    "start_time": "2022-02-18T07:47:35.135Z"
   },
   {
    "duration": 331,
    "start_time": "2022-02-18T07:47:35.145Z"
   },
   {
    "duration": 13,
    "start_time": "2022-02-18T07:47:35.477Z"
   },
   {
    "duration": 331,
    "start_time": "2022-02-18T07:47:35.491Z"
   },
   {
    "duration": 13,
    "start_time": "2022-02-18T07:47:35.824Z"
   },
   {
    "duration": 25,
    "start_time": "2022-02-18T07:47:35.839Z"
   },
   {
    "duration": 1401,
    "start_time": "2022-02-18T10:53:39.665Z"
   },
   {
    "duration": 70,
    "start_time": "2022-02-18T10:53:41.070Z"
   },
   {
    "duration": 7,
    "start_time": "2022-02-18T10:53:41.144Z"
   },
   {
    "duration": 18,
    "start_time": "2022-02-18T10:53:41.154Z"
   },
   {
    "duration": 43,
    "start_time": "2022-02-18T10:53:41.175Z"
   },
   {
    "duration": 9,
    "start_time": "2022-02-18T10:53:41.221Z"
   },
   {
    "duration": 11,
    "start_time": "2022-02-18T10:53:41.232Z"
   },
   {
    "duration": 8,
    "start_time": "2022-02-18T10:53:41.248Z"
   },
   {
    "duration": 55,
    "start_time": "2022-02-18T10:53:41.259Z"
   },
   {
    "duration": 14,
    "start_time": "2022-02-18T10:53:41.316Z"
   },
   {
    "duration": 10,
    "start_time": "2022-02-18T10:53:41.332Z"
   },
   {
    "duration": 13,
    "start_time": "2022-02-18T10:53:41.344Z"
   },
   {
    "duration": 68,
    "start_time": "2022-02-18T10:53:41.359Z"
   },
   {
    "duration": 20,
    "start_time": "2022-02-18T10:53:41.429Z"
   },
   {
    "duration": 450,
    "start_time": "2022-02-18T10:53:41.451Z"
   },
   {
    "duration": 14,
    "start_time": "2022-02-18T10:53:41.904Z"
   },
   {
    "duration": 481,
    "start_time": "2022-02-18T10:53:41.920Z"
   },
   {
    "duration": 493,
    "start_time": "2022-02-18T10:53:42.410Z"
   },
   {
    "duration": 461,
    "start_time": "2022-02-18T10:53:42.910Z"
   },
   {
    "duration": 440,
    "start_time": "2022-02-18T10:53:43.374Z"
   },
   {
    "duration": 379,
    "start_time": "2022-02-18T10:53:43.816Z"
   },
   {
    "duration": 371,
    "start_time": "2022-02-18T10:53:44.197Z"
   },
   {
    "duration": 16,
    "start_time": "2022-02-18T10:53:44.573Z"
   },
   {
    "duration": 30,
    "start_time": "2022-02-18T10:53:44.592Z"
   },
   {
    "duration": 1589,
    "start_time": "2022-02-18T10:53:44.624Z"
   },
   {
    "duration": 16,
    "start_time": "2022-02-18T10:53:46.215Z"
   },
   {
    "duration": 1401,
    "start_time": "2022-02-18T10:53:46.233Z"
   },
   {
    "duration": 13,
    "start_time": "2022-02-18T10:53:47.636Z"
   },
   {
    "duration": 2484,
    "start_time": "2022-02-18T10:53:47.651Z"
   },
   {
    "duration": 428,
    "start_time": "2022-02-18T10:53:50.137Z"
   },
   {
    "duration": 7,
    "start_time": "2022-02-18T10:53:50.568Z"
   },
   {
    "duration": 270,
    "start_time": "2022-02-18T10:53:50.578Z"
   },
   {
    "duration": 164,
    "start_time": "2022-02-18T10:53:50.850Z"
   },
   {
    "duration": 161,
    "start_time": "2022-02-18T10:53:51.017Z"
   },
   {
    "duration": 174,
    "start_time": "2022-02-18T10:53:51.180Z"
   },
   {
    "duration": 160,
    "start_time": "2022-02-18T10:53:51.357Z"
   },
   {
    "duration": 168,
    "start_time": "2022-02-18T10:53:51.520Z"
   },
   {
    "duration": 169,
    "start_time": "2022-02-18T10:53:51.691Z"
   },
   {
    "duration": 175,
    "start_time": "2022-02-18T10:53:51.863Z"
   },
   {
    "duration": 154,
    "start_time": "2022-02-18T10:53:52.041Z"
   },
   {
    "duration": 28,
    "start_time": "2022-02-18T10:53:52.197Z"
   },
   {
    "duration": 8,
    "start_time": "2022-02-18T10:53:52.227Z"
   },
   {
    "duration": 534,
    "start_time": "2022-02-18T10:53:52.238Z"
   },
   {
    "duration": 18,
    "start_time": "2022-02-18T10:53:52.775Z"
   },
   {
    "duration": 518,
    "start_time": "2022-02-18T10:53:52.811Z"
   },
   {
    "duration": 16,
    "start_time": "2022-02-18T10:53:53.332Z"
   },
   {
    "duration": 173,
    "start_time": "2022-02-18T11:04:36.052Z"
   }
  ],
  "kernelspec": {
   "display_name": "Python 3 (ipykernel)",
   "language": "python",
   "name": "python3"
  },
  "language_info": {
   "codemirror_mode": {
    "name": "ipython",
    "version": 3
   },
   "file_extension": ".py",
   "mimetype": "text/x-python",
   "name": "python",
   "nbconvert_exporter": "python",
   "pygments_lexer": "ipython3",
   "version": "3.10.1"
  },
  "toc": {
   "base_numbering": 1,
   "nav_menu": {},
   "number_sections": true,
   "sideBar": true,
   "skip_h1_title": true,
   "title_cell": "Оглавление",
   "title_sidebar": "Оглавление",
   "toc_cell": true,
   "toc_position": {
    "height": "calc(100% - 180px)",
    "left": "10px",
    "top": "150px",
    "width": "384px"
   },
   "toc_section_display": true,
   "toc_window_display": true
  }
 },
 "nbformat": 4,
 "nbformat_minor": 2
}
