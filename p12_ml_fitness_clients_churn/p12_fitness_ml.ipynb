{
 "cells": [
  {
   "cell_type": "markdown",
   "metadata": {},
   "source": [
    "# Выбор стратегии работы с клиентами для сети фитнес-центров"
   ]
  },
  {
   "cell_type": "markdown",
   "metadata": {},
   "source": [
    "## Цель исследования"
   ]
  },
  {
   "cell_type": "markdown",
   "metadata": {},
   "source": [
    "Сеть фитнес-центров «Культурист-датасаентист» разрабатывает стратегию взаимодействия с клиентами на основе аналитических данных. \n",
    "\n",
    "Необходимо подготовить следующие аналитические данные:\n",
    "1. типичные портреты клиентов: наиболее яркие группы и их основные характеристики;\n",
    "2. основные признаки, наиболее сильно влияющие на отток;\n",
    "3. рекомендации по повышению качества работы с клиентами:\n",
    " - целевые группы клиентов;\n",
    " - меры по снижению оттока;\n",
    " - особенности взаимодействия с клиентами."
   ]
  },
  {
   "cell_type": "markdown",
   "metadata": {},
   "source": [
    "## Загрузка данных"
   ]
  },
  {
   "cell_type": "markdown",
   "metadata": {},
   "source": [
    "### Импорт библиотек"
   ]
  },
  {
   "cell_type": "code",
   "execution_count": 1,
   "metadata": {},
   "outputs": [],
   "source": [
    "import pandas as pd\n",
    "import matplotlib.pyplot as plt\n",
    "import seaborn as sns\n",
    "\n",
    "from sklearn.model_selection import train_test_split\n",
    "from sklearn.linear_model import LogisticRegression\n",
    "from sklearn.ensemble import RandomForestClassifier\n",
    "from sklearn.metrics import accuracy_score, precision_score, recall_score, f1_score, roc_auc_score\n",
    "from sklearn.preprocessing import StandardScaler\n",
    "from sklearn.cluster import KMeans\n",
    "\n",
    "from scipy.cluster.hierarchy import dendrogram, linkage\n",
    "import itertools"
   ]
  },
  {
   "cell_type": "markdown",
   "metadata": {},
   "source": [
    "### Загрузка данных из файла"
   ]
  },
  {
   "cell_type": "code",
   "execution_count": 2,
   "metadata": {},
   "outputs": [
    {
     "data": {
      "text/plain": [
       "(4000, 14)"
      ]
     },
     "execution_count": 2,
     "metadata": {},
     "output_type": "execute_result"
    }
   ],
   "source": [
    "gym = pd.read_csv('/datasets/gym_churn.csv')\n",
    "gym.shape"
   ]
  },
  {
   "cell_type": "code",
   "execution_count": 3,
   "metadata": {},
   "outputs": [
    {
     "data": {
      "text/html": [
       "<div>\n",
       "<style scoped>\n",
       "    .dataframe tbody tr th:only-of-type {\n",
       "        vertical-align: middle;\n",
       "    }\n",
       "\n",
       "    .dataframe tbody tr th {\n",
       "        vertical-align: top;\n",
       "    }\n",
       "\n",
       "    .dataframe thead th {\n",
       "        text-align: right;\n",
       "    }\n",
       "</style>\n",
       "<table border=\"1\" class=\"dataframe\">\n",
       "  <thead>\n",
       "    <tr style=\"text-align: right;\">\n",
       "      <th></th>\n",
       "      <th>gender</th>\n",
       "      <th>Near_Location</th>\n",
       "      <th>Partner</th>\n",
       "      <th>Promo_friends</th>\n",
       "      <th>Phone</th>\n",
       "      <th>Contract_period</th>\n",
       "      <th>Group_visits</th>\n",
       "      <th>Age</th>\n",
       "      <th>Avg_additional_charges_total</th>\n",
       "      <th>Month_to_end_contract</th>\n",
       "      <th>Lifetime</th>\n",
       "      <th>Avg_class_frequency_total</th>\n",
       "      <th>Avg_class_frequency_current_month</th>\n",
       "      <th>Churn</th>\n",
       "    </tr>\n",
       "  </thead>\n",
       "  <tbody>\n",
       "    <tr>\n",
       "      <th>0</th>\n",
       "      <td>1</td>\n",
       "      <td>1</td>\n",
       "      <td>1</td>\n",
       "      <td>1</td>\n",
       "      <td>0</td>\n",
       "      <td>6</td>\n",
       "      <td>1</td>\n",
       "      <td>29</td>\n",
       "      <td>14.227470</td>\n",
       "      <td>5.0</td>\n",
       "      <td>3</td>\n",
       "      <td>0.020398</td>\n",
       "      <td>0.000000</td>\n",
       "      <td>0</td>\n",
       "    </tr>\n",
       "    <tr>\n",
       "      <th>1</th>\n",
       "      <td>0</td>\n",
       "      <td>1</td>\n",
       "      <td>0</td>\n",
       "      <td>0</td>\n",
       "      <td>1</td>\n",
       "      <td>12</td>\n",
       "      <td>1</td>\n",
       "      <td>31</td>\n",
       "      <td>113.202938</td>\n",
       "      <td>12.0</td>\n",
       "      <td>7</td>\n",
       "      <td>1.922936</td>\n",
       "      <td>1.910244</td>\n",
       "      <td>0</td>\n",
       "    </tr>\n",
       "    <tr>\n",
       "      <th>2</th>\n",
       "      <td>0</td>\n",
       "      <td>1</td>\n",
       "      <td>1</td>\n",
       "      <td>0</td>\n",
       "      <td>1</td>\n",
       "      <td>1</td>\n",
       "      <td>0</td>\n",
       "      <td>28</td>\n",
       "      <td>129.448479</td>\n",
       "      <td>1.0</td>\n",
       "      <td>2</td>\n",
       "      <td>1.859098</td>\n",
       "      <td>1.736502</td>\n",
       "      <td>0</td>\n",
       "    </tr>\n",
       "    <tr>\n",
       "      <th>3</th>\n",
       "      <td>0</td>\n",
       "      <td>1</td>\n",
       "      <td>1</td>\n",
       "      <td>1</td>\n",
       "      <td>1</td>\n",
       "      <td>12</td>\n",
       "      <td>1</td>\n",
       "      <td>33</td>\n",
       "      <td>62.669863</td>\n",
       "      <td>12.0</td>\n",
       "      <td>2</td>\n",
       "      <td>3.205633</td>\n",
       "      <td>3.357215</td>\n",
       "      <td>0</td>\n",
       "    </tr>\n",
       "    <tr>\n",
       "      <th>4</th>\n",
       "      <td>1</td>\n",
       "      <td>1</td>\n",
       "      <td>1</td>\n",
       "      <td>1</td>\n",
       "      <td>1</td>\n",
       "      <td>1</td>\n",
       "      <td>0</td>\n",
       "      <td>26</td>\n",
       "      <td>198.362265</td>\n",
       "      <td>1.0</td>\n",
       "      <td>3</td>\n",
       "      <td>1.113884</td>\n",
       "      <td>1.120078</td>\n",
       "      <td>0</td>\n",
       "    </tr>\n",
       "  </tbody>\n",
       "</table>\n",
       "</div>"
      ],
      "text/plain": [
       "   gender  Near_Location  Partner  Promo_friends  Phone  Contract_period  \\\n",
       "0       1              1        1              1      0                6   \n",
       "1       0              1        0              0      1               12   \n",
       "2       0              1        1              0      1                1   \n",
       "3       0              1        1              1      1               12   \n",
       "4       1              1        1              1      1                1   \n",
       "\n",
       "   Group_visits  Age  Avg_additional_charges_total  Month_to_end_contract  \\\n",
       "0             1   29                     14.227470                    5.0   \n",
       "1             1   31                    113.202938                   12.0   \n",
       "2             0   28                    129.448479                    1.0   \n",
       "3             1   33                     62.669863                   12.0   \n",
       "4             0   26                    198.362265                    1.0   \n",
       "\n",
       "   Lifetime  Avg_class_frequency_total  Avg_class_frequency_current_month  \\\n",
       "0         3                   0.020398                           0.000000   \n",
       "1         7                   1.922936                           1.910244   \n",
       "2         2                   1.859098                           1.736502   \n",
       "3         2                   3.205633                           3.357215   \n",
       "4         3                   1.113884                           1.120078   \n",
       "\n",
       "   Churn  \n",
       "0      0  \n",
       "1      0  \n",
       "2      0  \n",
       "3      0  \n",
       "4      0  "
      ]
     },
     "execution_count": 3,
     "metadata": {},
     "output_type": "execute_result"
    }
   ],
   "source": [
    "gym.head()"
   ]
  },
  {
   "cell_type": "markdown",
   "metadata": {},
   "source": [
    "### Вывод"
   ]
  },
  {
   "cell_type": "markdown",
   "metadata": {},
   "source": [
    "Заказчик подготовил данные, которые содержат данные на месяц до оттока и факт оттока на определённый месяц. Полученный датасет модержит  4000 строк и 14 столбцов.\n",
    "\n",
    "Набор данных включает следующие поля:\n",
    "\n",
    "\n",
    "Данные клиента за предыдущий до проверки факта оттока месяц:\n",
    "- 'gender' — пол;\n",
    "- 'Near_Location' — проживание или работа в районе, где находится фитнес-центр;\n",
    "- 'Partner' — сотрудник компании-партнёра клуба (сотрудничество с компаниями, чьи сотрудники могут получать скидки на абонемент — в таком случае фитнес-центр хранит информацию о работодателе клиента);\n",
    "- Promo_friends — факт первоначальной записи в рамках акции «приведи друга» (использовал промо-код от знакомого при оплате первого абонемента);\n",
    "- 'Phone' — наличие контактного телефона;\n",
    "- 'Age' — возраст;\n",
    "- 'Lifetime' — время с момента первого обращения в фитнес-центр (в месяцах).\n",
    "\n",
    "\n",
    "Информация на основе журнала посещений, покупок и информация о текущем статусе абонемента клиента:\n",
    "- 'Contract_period' — длительность текущего действующего абонемента (месяц, 6 месяцев, год);\n",
    "- 'Month_to_end_contract' — срок до окончания текущего действующего абонемента (в месяцах);\n",
    "- 'Group_visits' — факт посещения групповых занятий;\n",
    "- 'Avg_class_frequency_total' — средняя частота посещений в неделю за все время с начала действия абонемента;\n",
    "- 'Avg_class_frequency_current_month' — средняя частота посещений в неделю за предыдущий месяц;\n",
    "- 'Avg_additional_charges_total' — суммарная выручка от других услуг фитнес-центра: кафе, спорттовары, косметический и массажный салон.\n",
    "- 'Churn' — факт оттока в текущем месяце."
   ]
  },
  {
   "cell_type": "markdown",
   "metadata": {},
   "source": [
    "## Предобработка данных"
   ]
  },
  {
   "cell_type": "markdown",
   "metadata": {},
   "source": [
    "### Типы данных и пропуски"
   ]
  },
  {
   "cell_type": "code",
   "execution_count": 4,
   "metadata": {},
   "outputs": [
    {
     "name": "stdout",
     "output_type": "stream",
     "text": [
      "<class 'pandas.core.frame.DataFrame'>\n",
      "RangeIndex: 4000 entries, 0 to 3999\n",
      "Data columns (total 14 columns):\n",
      " #   Column                             Non-Null Count  Dtype  \n",
      "---  ------                             --------------  -----  \n",
      " 0   gender                             4000 non-null   int64  \n",
      " 1   Near_Location                      4000 non-null   int64  \n",
      " 2   Partner                            4000 non-null   int64  \n",
      " 3   Promo_friends                      4000 non-null   int64  \n",
      " 4   Phone                              4000 non-null   int64  \n",
      " 5   Contract_period                    4000 non-null   int64  \n",
      " 6   Group_visits                       4000 non-null   int64  \n",
      " 7   Age                                4000 non-null   int64  \n",
      " 8   Avg_additional_charges_total       4000 non-null   float64\n",
      " 9   Month_to_end_contract              4000 non-null   float64\n",
      " 10  Lifetime                           4000 non-null   int64  \n",
      " 11  Avg_class_frequency_total          4000 non-null   float64\n",
      " 12  Avg_class_frequency_current_month  4000 non-null   float64\n",
      " 13  Churn                              4000 non-null   int64  \n",
      "dtypes: float64(4), int64(10)\n",
      "memory usage: 437.6 KB\n"
     ]
    }
   ],
   "source": [
    "gym.info()"
   ]
  },
  {
   "cell_type": "markdown",
   "metadata": {},
   "source": [
    "Пропусков не обнаружено, все данные имеют числовой тип, это нас устраивает."
   ]
  },
  {
   "cell_type": "markdown",
   "metadata": {},
   "source": [
    "### Переименование столбцов"
   ]
  },
  {
   "cell_type": "markdown",
   "metadata": {},
   "source": [
    "Для удобства приведем названия столбцов к нижнему регистру:"
   ]
  },
  {
   "cell_type": "code",
   "execution_count": 5,
   "metadata": {},
   "outputs": [],
   "source": [
    "gym.columns = gym.columns.str.lower()"
   ]
  },
  {
   "cell_type": "code",
   "execution_count": 6,
   "metadata": {},
   "outputs": [
    {
     "data": {
      "text/plain": [
       "Index(['gender', 'near_location', 'partner', 'promo_friends', 'phone',\n",
       "       'contract_period', 'group_visits', 'age',\n",
       "       'avg_additional_charges_total', 'month_to_end_contract', 'lifetime',\n",
       "       'avg_class_frequency_total', 'avg_class_frequency_current_month',\n",
       "       'churn'],\n",
       "      dtype='object')"
      ]
     },
     "execution_count": 6,
     "metadata": {},
     "output_type": "execute_result"
    }
   ],
   "source": [
    "gym.columns"
   ]
  },
  {
   "cell_type": "markdown",
   "metadata": {},
   "source": [
    "### Проверка наличия дубликатов"
   ]
  },
  {
   "cell_type": "code",
   "execution_count": 7,
   "metadata": {},
   "outputs": [
    {
     "data": {
      "text/plain": [
       "0"
      ]
     },
     "execution_count": 7,
     "metadata": {},
     "output_type": "execute_result"
    }
   ],
   "source": [
    "gym.duplicated().sum()"
   ]
  },
  {
   "cell_type": "markdown",
   "metadata": {},
   "source": [
    "Дубликатов не обнаружено."
   ]
  },
  {
   "cell_type": "markdown",
   "metadata": {},
   "source": [
    "## Исследовательский анализ данных"
   ]
  },
  {
   "cell_type": "markdown",
   "metadata": {},
   "source": [
    "### Описание данных"
   ]
  },
  {
   "cell_type": "markdown",
   "metadata": {},
   "source": [
    "Посмотрим на основные числовые характеристики параметров и целевой переменной:"
   ]
  },
  {
   "cell_type": "code",
   "execution_count": 8,
   "metadata": {},
   "outputs": [
    {
     "data": {
      "text/html": [
       "<div>\n",
       "<style scoped>\n",
       "    .dataframe tbody tr th:only-of-type {\n",
       "        vertical-align: middle;\n",
       "    }\n",
       "\n",
       "    .dataframe tbody tr th {\n",
       "        vertical-align: top;\n",
       "    }\n",
       "\n",
       "    .dataframe thead th {\n",
       "        text-align: right;\n",
       "    }\n",
       "</style>\n",
       "<table border=\"1\" class=\"dataframe\">\n",
       "  <thead>\n",
       "    <tr style=\"text-align: right;\">\n",
       "      <th></th>\n",
       "      <th>count</th>\n",
       "      <th>mean</th>\n",
       "      <th>std</th>\n",
       "      <th>min</th>\n",
       "      <th>25%</th>\n",
       "      <th>50%</th>\n",
       "      <th>75%</th>\n",
       "      <th>max</th>\n",
       "    </tr>\n",
       "  </thead>\n",
       "  <tbody>\n",
       "    <tr>\n",
       "      <th>gender</th>\n",
       "      <td>4000.0</td>\n",
       "      <td>0.510250</td>\n",
       "      <td>0.499957</td>\n",
       "      <td>0.000000</td>\n",
       "      <td>0.000000</td>\n",
       "      <td>1.000000</td>\n",
       "      <td>1.000000</td>\n",
       "      <td>1.000000</td>\n",
       "    </tr>\n",
       "    <tr>\n",
       "      <th>near_location</th>\n",
       "      <td>4000.0</td>\n",
       "      <td>0.845250</td>\n",
       "      <td>0.361711</td>\n",
       "      <td>0.000000</td>\n",
       "      <td>1.000000</td>\n",
       "      <td>1.000000</td>\n",
       "      <td>1.000000</td>\n",
       "      <td>1.000000</td>\n",
       "    </tr>\n",
       "    <tr>\n",
       "      <th>partner</th>\n",
       "      <td>4000.0</td>\n",
       "      <td>0.486750</td>\n",
       "      <td>0.499887</td>\n",
       "      <td>0.000000</td>\n",
       "      <td>0.000000</td>\n",
       "      <td>0.000000</td>\n",
       "      <td>1.000000</td>\n",
       "      <td>1.000000</td>\n",
       "    </tr>\n",
       "    <tr>\n",
       "      <th>promo_friends</th>\n",
       "      <td>4000.0</td>\n",
       "      <td>0.308500</td>\n",
       "      <td>0.461932</td>\n",
       "      <td>0.000000</td>\n",
       "      <td>0.000000</td>\n",
       "      <td>0.000000</td>\n",
       "      <td>1.000000</td>\n",
       "      <td>1.000000</td>\n",
       "    </tr>\n",
       "    <tr>\n",
       "      <th>phone</th>\n",
       "      <td>4000.0</td>\n",
       "      <td>0.903500</td>\n",
       "      <td>0.295313</td>\n",
       "      <td>0.000000</td>\n",
       "      <td>1.000000</td>\n",
       "      <td>1.000000</td>\n",
       "      <td>1.000000</td>\n",
       "      <td>1.000000</td>\n",
       "    </tr>\n",
       "    <tr>\n",
       "      <th>contract_period</th>\n",
       "      <td>4000.0</td>\n",
       "      <td>4.681250</td>\n",
       "      <td>4.549706</td>\n",
       "      <td>1.000000</td>\n",
       "      <td>1.000000</td>\n",
       "      <td>1.000000</td>\n",
       "      <td>6.000000</td>\n",
       "      <td>12.000000</td>\n",
       "    </tr>\n",
       "    <tr>\n",
       "      <th>group_visits</th>\n",
       "      <td>4000.0</td>\n",
       "      <td>0.412250</td>\n",
       "      <td>0.492301</td>\n",
       "      <td>0.000000</td>\n",
       "      <td>0.000000</td>\n",
       "      <td>0.000000</td>\n",
       "      <td>1.000000</td>\n",
       "      <td>1.000000</td>\n",
       "    </tr>\n",
       "    <tr>\n",
       "      <th>age</th>\n",
       "      <td>4000.0</td>\n",
       "      <td>29.184250</td>\n",
       "      <td>3.258367</td>\n",
       "      <td>18.000000</td>\n",
       "      <td>27.000000</td>\n",
       "      <td>29.000000</td>\n",
       "      <td>31.000000</td>\n",
       "      <td>41.000000</td>\n",
       "    </tr>\n",
       "    <tr>\n",
       "      <th>avg_additional_charges_total</th>\n",
       "      <td>4000.0</td>\n",
       "      <td>146.943728</td>\n",
       "      <td>96.355602</td>\n",
       "      <td>0.148205</td>\n",
       "      <td>68.868830</td>\n",
       "      <td>136.220159</td>\n",
       "      <td>210.949625</td>\n",
       "      <td>552.590740</td>\n",
       "    </tr>\n",
       "    <tr>\n",
       "      <th>month_to_end_contract</th>\n",
       "      <td>4000.0</td>\n",
       "      <td>4.322750</td>\n",
       "      <td>4.191297</td>\n",
       "      <td>1.000000</td>\n",
       "      <td>1.000000</td>\n",
       "      <td>1.000000</td>\n",
       "      <td>6.000000</td>\n",
       "      <td>12.000000</td>\n",
       "    </tr>\n",
       "    <tr>\n",
       "      <th>lifetime</th>\n",
       "      <td>4000.0</td>\n",
       "      <td>3.724750</td>\n",
       "      <td>3.749267</td>\n",
       "      <td>0.000000</td>\n",
       "      <td>1.000000</td>\n",
       "      <td>3.000000</td>\n",
       "      <td>5.000000</td>\n",
       "      <td>31.000000</td>\n",
       "    </tr>\n",
       "    <tr>\n",
       "      <th>avg_class_frequency_total</th>\n",
       "      <td>4000.0</td>\n",
       "      <td>1.879020</td>\n",
       "      <td>0.972245</td>\n",
       "      <td>0.000000</td>\n",
       "      <td>1.180875</td>\n",
       "      <td>1.832768</td>\n",
       "      <td>2.536078</td>\n",
       "      <td>6.023668</td>\n",
       "    </tr>\n",
       "    <tr>\n",
       "      <th>avg_class_frequency_current_month</th>\n",
       "      <td>4000.0</td>\n",
       "      <td>1.767052</td>\n",
       "      <td>1.052906</td>\n",
       "      <td>0.000000</td>\n",
       "      <td>0.963003</td>\n",
       "      <td>1.719574</td>\n",
       "      <td>2.510336</td>\n",
       "      <td>6.146783</td>\n",
       "    </tr>\n",
       "    <tr>\n",
       "      <th>churn</th>\n",
       "      <td>4000.0</td>\n",
       "      <td>0.265250</td>\n",
       "      <td>0.441521</td>\n",
       "      <td>0.000000</td>\n",
       "      <td>0.000000</td>\n",
       "      <td>0.000000</td>\n",
       "      <td>1.000000</td>\n",
       "      <td>1.000000</td>\n",
       "    </tr>\n",
       "  </tbody>\n",
       "</table>\n",
       "</div>"
      ],
      "text/plain": [
       "                                    count        mean        std        min  \\\n",
       "gender                             4000.0    0.510250   0.499957   0.000000   \n",
       "near_location                      4000.0    0.845250   0.361711   0.000000   \n",
       "partner                            4000.0    0.486750   0.499887   0.000000   \n",
       "promo_friends                      4000.0    0.308500   0.461932   0.000000   \n",
       "phone                              4000.0    0.903500   0.295313   0.000000   \n",
       "contract_period                    4000.0    4.681250   4.549706   1.000000   \n",
       "group_visits                       4000.0    0.412250   0.492301   0.000000   \n",
       "age                                4000.0   29.184250   3.258367  18.000000   \n",
       "avg_additional_charges_total       4000.0  146.943728  96.355602   0.148205   \n",
       "month_to_end_contract              4000.0    4.322750   4.191297   1.000000   \n",
       "lifetime                           4000.0    3.724750   3.749267   0.000000   \n",
       "avg_class_frequency_total          4000.0    1.879020   0.972245   0.000000   \n",
       "avg_class_frequency_current_month  4000.0    1.767052   1.052906   0.000000   \n",
       "churn                              4000.0    0.265250   0.441521   0.000000   \n",
       "\n",
       "                                         25%         50%         75%  \\\n",
       "gender                              0.000000    1.000000    1.000000   \n",
       "near_location                       1.000000    1.000000    1.000000   \n",
       "partner                             0.000000    0.000000    1.000000   \n",
       "promo_friends                       0.000000    0.000000    1.000000   \n",
       "phone                               1.000000    1.000000    1.000000   \n",
       "contract_period                     1.000000    1.000000    6.000000   \n",
       "group_visits                        0.000000    0.000000    1.000000   \n",
       "age                                27.000000   29.000000   31.000000   \n",
       "avg_additional_charges_total       68.868830  136.220159  210.949625   \n",
       "month_to_end_contract               1.000000    1.000000    6.000000   \n",
       "lifetime                            1.000000    3.000000    5.000000   \n",
       "avg_class_frequency_total           1.180875    1.832768    2.536078   \n",
       "avg_class_frequency_current_month   0.963003    1.719574    2.510336   \n",
       "churn                               0.000000    0.000000    1.000000   \n",
       "\n",
       "                                          max  \n",
       "gender                               1.000000  \n",
       "near_location                        1.000000  \n",
       "partner                              1.000000  \n",
       "promo_friends                        1.000000  \n",
       "phone                                1.000000  \n",
       "contract_period                     12.000000  \n",
       "group_visits                         1.000000  \n",
       "age                                 41.000000  \n",
       "avg_additional_charges_total       552.590740  \n",
       "month_to_end_contract               12.000000  \n",
       "lifetime                            31.000000  \n",
       "avg_class_frequency_total            6.023668  \n",
       "avg_class_frequency_current_month    6.146783  \n",
       "churn                                1.000000  "
      ]
     },
     "execution_count": 8,
     "metadata": {},
     "output_type": "execute_result"
    }
   ],
   "source": [
    "gym.describe().T"
   ]
  },
  {
   "cell_type": "markdown",
   "metadata": {},
   "source": [
    "Признаки gender, near_location, partner, promo_friends, phone, group_visits, а также целевая переменная churn являются бинарными, т.е. принимают значения 0 (\"нет\") или 1(\"да\").\n",
    "\n",
    "\n",
    "- Распределение по полу у нас довольно равномерное - 49/51. Кто из них мужчины, а кто женщины, мы не знаем, но раз их почти поровну, то это не критично.\n",
    "- 85% клиентов сети живут или работают рядом с фитнес-клубом, что логично, т.к. минимизирует затраты времени на дорогу.\n",
    "- Примерно половина клиентов (49%) - это сотрудники компаний-партнеров клуба.\n",
    "- 31% клиентов использовали при оплате первого абонемента промокод друга. Довольно высокий показатель, акция \"приведи друга\" пользуется популярностью. Но радует и то, что подавляющее большинство клиентов (69%) приходят и без акции.\n",
    "- 90% посетителей оставили свой контактный номер телефона. В наше время это обычная и удобная практика.\n",
    "- 41% занимающихся посещают групповые занятия. Соответственно бОльшая часть (59%) предпочитает индивидуальные занятия либо ходят самостоятельно заниматься в тренажерный зал.\n",
    "- Отток в текущем месяце составил 27%. Много это или мало - мы не можем оценить, для оценки нужно либо сравнение с конкурентами, либо с другими периодами.\n",
    "\n",
    "Характеристики небинарных признаков:\n",
    "- Срок абонемента бывает 1, 6 или 12 месяцев, медиана - 1 месяц, среднее - 4,7 месяцев, т.е. данные имеют пик в районе 1 месяца и хвост справа. Длительные абонементы на год менее популярны, чем краткосрочные. Это и понятно, годовой абонемент требует единовременного вложения относительно крупной суммы денег и предсказать свою жизнь на год вперед способны не многие.\n",
    "- Возраст аудитории у нас от 18 до 41 года, средний и медианный возраст совпадают и составляют 29 лет.\n",
    "- Отдельный клиент приобретает сопутствующие товары и услуги на сумму от 0,2 до 553 у.е., в среднем - 145 у.е., медиана- 136 у.е. Т.е. пик распределения смещен влево, посетители в большинстве своем склонны экономить на дополнительных \"плюшках\".\n",
    "- Количество месяцев до конца абонемента - данный показатель по своим характеристикам сильно похож на срок абонемента.\n",
    "- Время с момента первого обращения - срок жизни клиента в месяцах - от 0 до 31 месяца (2 года и 7 месяцев). Медиана - 3 месяца, средний показатель - 3,7 месяцев. 75% аудитории посещает фитнес-клубы нашей сети 5 или менее месяцев. Пик смещен влево,  хвост справа. \"Долгожители\" в меньшинстве.\n",
    "- Средняя посещаемость в неделю за весь период - от 0 до 6 раз. В среднем около 2х раз. Нормальная ситуация для большинства людей со средней физической подготовкой. Пик смещен влево, хвост справа. 6 раз в неделю - это уже для фанатов.\n",
    "- Средняя посещаемость в неделю за последний месяц - показатель по своим характеристикам аналогичен предыдущему."
   ]
  },
  {
   "cell_type": "markdown",
   "metadata": {},
   "source": [
    "### Среднее значение признаков для оттока и для оставшихся"
   ]
  },
  {
   "cell_type": "markdown",
   "metadata": {},
   "source": [
    "Посмотрим, различаются ли средние значения признаков для тех, кто ушел, и тех, кто остался:"
   ]
  },
  {
   "cell_type": "code",
   "execution_count": 9,
   "metadata": {},
   "outputs": [
    {
     "data": {
      "text/html": [
       "<div>\n",
       "<style scoped>\n",
       "    .dataframe tbody tr th:only-of-type {\n",
       "        vertical-align: middle;\n",
       "    }\n",
       "\n",
       "    .dataframe tbody tr th {\n",
       "        vertical-align: top;\n",
       "    }\n",
       "\n",
       "    .dataframe thead th {\n",
       "        text-align: right;\n",
       "    }\n",
       "</style>\n",
       "<table border=\"1\" class=\"dataframe\">\n",
       "  <thead>\n",
       "    <tr style=\"text-align: right;\">\n",
       "      <th>churn</th>\n",
       "      <th>0</th>\n",
       "      <th>1</th>\n",
       "    </tr>\n",
       "  </thead>\n",
       "  <tbody>\n",
       "    <tr>\n",
       "      <th>gender</th>\n",
       "      <td>0.510037</td>\n",
       "      <td>0.510839</td>\n",
       "    </tr>\n",
       "    <tr>\n",
       "      <th>near_location</th>\n",
       "      <td>0.873086</td>\n",
       "      <td>0.768143</td>\n",
       "    </tr>\n",
       "    <tr>\n",
       "      <th>partner</th>\n",
       "      <td>0.534195</td>\n",
       "      <td>0.355325</td>\n",
       "    </tr>\n",
       "    <tr>\n",
       "      <th>promo_friends</th>\n",
       "      <td>0.353522</td>\n",
       "      <td>0.183789</td>\n",
       "    </tr>\n",
       "    <tr>\n",
       "      <th>phone</th>\n",
       "      <td>0.903709</td>\n",
       "      <td>0.902922</td>\n",
       "    </tr>\n",
       "    <tr>\n",
       "      <th>contract_period</th>\n",
       "      <td>5.747193</td>\n",
       "      <td>1.728558</td>\n",
       "    </tr>\n",
       "    <tr>\n",
       "      <th>group_visits</th>\n",
       "      <td>0.464103</td>\n",
       "      <td>0.268615</td>\n",
       "    </tr>\n",
       "    <tr>\n",
       "      <th>age</th>\n",
       "      <td>29.976523</td>\n",
       "      <td>26.989632</td>\n",
       "    </tr>\n",
       "    <tr>\n",
       "      <th>avg_additional_charges_total</th>\n",
       "      <td>158.445715</td>\n",
       "      <td>115.082899</td>\n",
       "    </tr>\n",
       "    <tr>\n",
       "      <th>month_to_end_contract</th>\n",
       "      <td>5.283089</td>\n",
       "      <td>1.662582</td>\n",
       "    </tr>\n",
       "    <tr>\n",
       "      <th>lifetime</th>\n",
       "      <td>4.711807</td>\n",
       "      <td>0.990575</td>\n",
       "    </tr>\n",
       "    <tr>\n",
       "      <th>avg_class_frequency_total</th>\n",
       "      <td>2.024876</td>\n",
       "      <td>1.474995</td>\n",
       "    </tr>\n",
       "    <tr>\n",
       "      <th>avg_class_frequency_current_month</th>\n",
       "      <td>2.027882</td>\n",
       "      <td>1.044546</td>\n",
       "    </tr>\n",
       "  </tbody>\n",
       "</table>\n",
       "</div>"
      ],
      "text/plain": [
       "churn                                       0           1\n",
       "gender                               0.510037    0.510839\n",
       "near_location                        0.873086    0.768143\n",
       "partner                              0.534195    0.355325\n",
       "promo_friends                        0.353522    0.183789\n",
       "phone                                0.903709    0.902922\n",
       "contract_period                      5.747193    1.728558\n",
       "group_visits                         0.464103    0.268615\n",
       "age                                 29.976523   26.989632\n",
       "avg_additional_charges_total       158.445715  115.082899\n",
       "month_to_end_contract                5.283089    1.662582\n",
       "lifetime                             4.711807    0.990575\n",
       "avg_class_frequency_total            2.024876    1.474995\n",
       "avg_class_frequency_current_month    2.027882    1.044546"
      ]
     },
     "execution_count": 9,
     "metadata": {},
     "output_type": "execute_result"
    }
   ],
   "source": [
    "groups = gym.groupby('churn').agg('mean')\n",
    "groups.T"
   ]
  },
  {
   "cell_type": "markdown",
   "metadata": {},
   "source": [
    " Половой состав и наличие контактного телефона одинаковы у обеих групп. Значит, эти признаки не влияют на отток.\n",
    " Остальные показатели у оставшихся в среднем выше, чем у попавших в отток. \n",
    " "
   ]
  },
  {
   "cell_type": "markdown",
   "metadata": {},
   "source": [
    "### Распределение признаков для оттока и для оставшихся"
   ]
  },
  {
   "cell_type": "markdown",
   "metadata": {},
   "source": [
    "Для наглядности визуализируем распределения признаков для обеих групп:"
   ]
  },
  {
   "cell_type": "code",
   "execution_count": 10,
   "metadata": {},
   "outputs": [
    {
     "data": {
      "image/png": "[encoded data removed]",
      "text/plain": [
       "<Figure size 1080x360 with 2 Axes>"
      ]
     },
     "metadata": {
      "needs_background": "light"
     },
     "output_type": "display_data"
    },
    {
     "data": {
      "image/png": "[encoded data removed]",
      "text/plain": [
       "<Figure size 1080x360 with 2 Axes>"
      ]
     },
     "metadata": {
      "needs_background": "light"
     },
     "output_type": "display_data"
    },
    {
     "data": {
      "image/png": "[encoded data removed]",
      "text/plain": [
       "<Figure size 1080x360 with 2 Axes>"
      ]
     },
     "metadata": {
      "needs_background": "light"
     },
     "output_type": "display_data"
    },
    {
     "data": {
      "image/png": "[encoded data removed]",
      "text/plain": [
       "<Figure size 1080x360 with 2 Axes>"
      ]
     },
     "metadata": {
      "needs_background": "light"
     },
     "output_type": "display_data"
    },
    {
     "data": {
      "image/png": "[encoded data removed]",
      "text/plain": [
       "<Figure size 1080x360 with 2 Axes>"
      ]
     },
     "metadata": {
      "needs_background": "light"
     },
     "output_type": "display_data"
    },
    {
     "data": {
      "image/png": "[encoded data removed]",
      "text/plain": [
       "<Figure size 1080x360 with 2 Axes>"
      ]
     },
     "metadata": {
      "needs_background": "light"
     },
     "output_type": "display_data"
    },
    {
     "data": {
      "image/png": "[encoded data removed]",
      "text/plain": [
       "<Figure size 1080x360 with 2 Axes>"
      ]
     },
     "metadata": {
      "needs_background": "light"
     },
     "output_type": "display_data"
    },
    {
     "data": {
      "image/png": "[encoded data removed]",
      "text/plain": [
       "<Figure size 1080x360 with 2 Axes>"
      ]
     },
     "metadata": {
      "needs_background": "light"
     },
     "output_type": "display_data"
    },
    {
     "data": {
      "image/png": "[encoded data removed]",
      "text/plain": [
       "<Figure size 1080x360 with 2 Axes>"
      ]
     },
     "metadata": {
      "needs_background": "light"
     },
     "output_type": "display_data"
    },
    {
     "data": {
      "image/png": "[encoded data removed]",
      "text/plain": [
       "<Figure size 1080x360 with 2 Axes>"
      ]
     },
     "metadata": {
      "needs_background": "light"
     },
     "output_type": "display_data"
    },
    {
     "data": {
      "image/png": "[encoded data removed]",
      "text/plain": [
       "<Figure size 1080x360 with 2 Axes>"
      ]
     },
     "metadata": {
      "needs_background": "light"
     },
     "output_type": "display_data"
    },
    {
     "data": {
      "image/png": "[encoded data removed]",
      "text/plain": [
       "<Figure size 1080x360 with 2 Axes>"
      ]
     },
     "metadata": {
      "needs_background": "light"
     },
     "output_type": "display_data"
    },
    {
     "data": {
      "image/png": "[encoded data removed]",
      "text/plain": [
       "<Figure size 1080x360 with 2 Axes>"
      ]
     },
     "metadata": {
      "needs_background": "light"
     },
     "output_type": "display_data"
    },
    {
     "data": {
      "image/png": "[encoded data removed]",
      "text/plain": [
       "<Figure size 1080x360 with 2 Axes>"
      ]
     },
     "metadata": {
      "needs_background": "light"
     },
     "output_type": "display_data"
    }
   ],
   "source": [
    "# напишем функцию, которая будет принимать \n",
    "# 1) признак (название колонки датафрейма), \n",
    "# 2) номер колонки в сетке диаграмм для признака (0 или 1) \n",
    "# 3) номер строки в сетке диаграмм для признака (0),\n",
    "# 4) значение целевой переменной (0 или 1),\n",
    "# а возвращать 2 гистограммы распределения признака\n",
    "\n",
    "def create_hist(col, x, y, is_churn):\n",
    "    gym[gym['churn'] == is_churn][col].hist(grid=False, ax=ax[x], bins=20)\\\n",
    "                                    .set(title=col + f',\\n is_churn={is_churn}');\n",
    "\n",
    "# теперь применим функцию ко всем признакам\n",
    "for col in gym.columns.to_list():\n",
    "    fig, ax = plt.subplots(nrows=1, ncols=2, figsize=(15, 5), sharex=True, sharey=True)\n",
    "    create_hist(col, 0, 0, 0)\n",
    "    create_hist(col, 1, 0, 1)\n",
    "    plt.show()"
   ]
  },
  {
   "cell_type": "markdown",
   "metadata": {},
   "source": [
    "В дополнение к характеристикам небинарных признаков можно отметить следующее:\n",
    "- Среди оставшихся абонементы на год более популярны, чем абонементы на 6 месяцев. А среди ушедших - наоборот. Т.е. если человек купил абонемент на год, то он, вероятнее всего, останется.\n",
    "- Возраст основной массы оставшихся - от 25 до 35 и выражен пик в районе 31 года, а возраст основной массы ушедших - от 23 до 32 и таких явных пиков нет. Т.е. аудитория, склонная к оттоку чуть моложе постоянных клиентов и более равномерно распределена по возрасту.\n",
    "- Клиенты, которые потратили на сопутствующие товары и услуги более 300 у.е., скорее всего, останутся.\n",
    "- Склонные к оттоку посетители занимаются в клубе не более полугода.\n",
    "- Наиболее склонны к оттоку клиенты, занимающиеся не более 2х раз в неделю.\n",
    "\n"
   ]
  },
  {
   "cell_type": "markdown",
   "metadata": {},
   "source": [
    "### Матрица корреляций"
   ]
  },
  {
   "cell_type": "code",
   "execution_count": 11,
   "metadata": {
    "scrolled": false
   },
   "outputs": [
    {
     "data": {
      "image/png": "[encoded data removed]",
      "text/plain": [
       "<Figure size 864x864 with 2 Axes>"
      ]
     },
     "metadata": {
      "needs_background": "light"
     },
     "output_type": "display_data"
    }
   ],
   "source": [
    "plt.figure(figsize=(12,12))\n",
    "sns.heatmap(gym.corr(), annot=True, square=True)\n",
    "plt.show()"
   ]
  },
  {
   "cell_type": "markdown",
   "metadata": {},
   "source": [
    "Наибольшее влияние на отток оказывают следующие признаки:\n",
    "- срок, прошедший с момента первого обращения (-0,44),\n",
    "- частота посещений за последний месяц (-0,41),\n",
    "- возраст (-0,4),\n",
    "- срок абонемента (-0,39),\n",
    "- срок до окончания абонемента(-0,38).\n",
    "\n",
    "Матрица корреляции подтверждает, что пол и наличие контактного телефона в базе практически не влияют на отток, можем их удалять. \n",
    "\n",
    "Также у нас есть сильно коррелирующие между собой пары признаков:\n",
    " - срок абонемента и количество месяцев до окончания абонемента (для прогноза оттока в следующем месяце оставим второй);\n",
    " - средняя посещаемость за весь период и за последний месяц (для прогноза оттока в следующем месяце логичнее использовать второй).\n",
    " \n",
    "Удалим лишние признаки:"
   ]
  },
  {
   "cell_type": "code",
   "execution_count": 12,
   "metadata": {},
   "outputs": [
    {
     "data": {
      "text/html": [
       "<div>\n",
       "<style scoped>\n",
       "    .dataframe tbody tr th:only-of-type {\n",
       "        vertical-align: middle;\n",
       "    }\n",
       "\n",
       "    .dataframe tbody tr th {\n",
       "        vertical-align: top;\n",
       "    }\n",
       "\n",
       "    .dataframe thead th {\n",
       "        text-align: right;\n",
       "    }\n",
       "</style>\n",
       "<table border=\"1\" class=\"dataframe\">\n",
       "  <thead>\n",
       "    <tr style=\"text-align: right;\">\n",
       "      <th></th>\n",
       "      <th>near_location</th>\n",
       "      <th>partner</th>\n",
       "      <th>promo_friends</th>\n",
       "      <th>group_visits</th>\n",
       "      <th>age</th>\n",
       "      <th>avg_additional_charges_total</th>\n",
       "      <th>month_to_end_contract</th>\n",
       "      <th>lifetime</th>\n",
       "      <th>avg_class_frequency_current_month</th>\n",
       "      <th>churn</th>\n",
       "    </tr>\n",
       "  </thead>\n",
       "  <tbody>\n",
       "    <tr>\n",
       "      <th>3346</th>\n",
       "      <td>1</td>\n",
       "      <td>0</td>\n",
       "      <td>1</td>\n",
       "      <td>0</td>\n",
       "      <td>24</td>\n",
       "      <td>35.664125</td>\n",
       "      <td>1.0</td>\n",
       "      <td>0</td>\n",
       "      <td>1.011329</td>\n",
       "      <td>1</td>\n",
       "    </tr>\n",
       "    <tr>\n",
       "      <th>595</th>\n",
       "      <td>0</td>\n",
       "      <td>1</td>\n",
       "      <td>0</td>\n",
       "      <td>0</td>\n",
       "      <td>30</td>\n",
       "      <td>55.177486</td>\n",
       "      <td>1.0</td>\n",
       "      <td>5</td>\n",
       "      <td>3.943236</td>\n",
       "      <td>0</td>\n",
       "    </tr>\n",
       "    <tr>\n",
       "      <th>2150</th>\n",
       "      <td>0</td>\n",
       "      <td>1</td>\n",
       "      <td>0</td>\n",
       "      <td>1</td>\n",
       "      <td>30</td>\n",
       "      <td>168.618696</td>\n",
       "      <td>1.0</td>\n",
       "      <td>1</td>\n",
       "      <td>1.272483</td>\n",
       "      <td>1</td>\n",
       "    </tr>\n",
       "  </tbody>\n",
       "</table>\n",
       "</div>"
      ],
      "text/plain": [
       "      near_location  partner  promo_friends  group_visits  age  \\\n",
       "3346              1        0              1             0   24   \n",
       "595               0        1              0             0   30   \n",
       "2150              0        1              0             1   30   \n",
       "\n",
       "      avg_additional_charges_total  month_to_end_contract  lifetime  \\\n",
       "3346                     35.664125                    1.0         0   \n",
       "595                      55.177486                    1.0         5   \n",
       "2150                    168.618696                    1.0         1   \n",
       "\n",
       "      avg_class_frequency_current_month  churn  \n",
       "3346                           1.011329      1  \n",
       "595                            3.943236      0  \n",
       "2150                           1.272483      1  "
      ]
     },
     "execution_count": 12,
     "metadata": {},
     "output_type": "execute_result"
    }
   ],
   "source": [
    "gym = gym.drop(['gender', 'phone', 'contract_period', 'avg_class_frequency_total'], axis=1)\n",
    "gym.sample(3)"
   ]
  },
  {
   "cell_type": "markdown",
   "metadata": {},
   "source": [
    "### Вывод"
   ]
  },
  {
   "cell_type": "markdown",
   "metadata": {},
   "source": [
    "Мы удалили пол и наличие контактного телефона в базе денных, т.к. данные признаки не влияют на отток.\n",
    "\n",
    "\n",
    "Также мы избавились от мультиколинеарности, удалив срок действия абонемента и среднюю посещаемость за весь период.\n",
    "\n",
    "В итоге осталось 9 признаков, среди которых наибольшее влияние на отток оказывают:\n",
    "- срок, прошедший с момента первого обращения,\n",
    "- частота посещений за последний месяц,\n",
    "- возраст,\n",
    "- срок до окончания абонемента.\n",
    "\n",
    "Портрет наиболее склонного к оттоку клиента (чем больше признаков присутствует одновременно, тем больше вероятность ухода):\n",
    "- живет и работает далеко от клуба;\n",
    "- не является сотрудником компании-партнера;\n",
    "- не пользовался промо-кодом друга;\n",
    "- не посещает групповые занятия;\n",
    "- возраст до 32 лет;\n",
    "- потратил менее 300 у.е. на сопутствующие товары и услуги;\n",
    "- абонемент заканчивается через месяц;\n",
    "- пришел впервые в клуб менее полугода назад;\n",
    "- посещает занятия не чаще 2х раз в неделю.\n"
   ]
  },
  {
   "cell_type": "markdown",
   "metadata": {},
   "source": [
    "## Модель прогнозирования оттока клиентов"
   ]
  },
  {
   "cell_type": "markdown",
   "metadata": {},
   "source": [
    "### Функция для обучения модели и расчета метрик"
   ]
  },
  {
   "cell_type": "markdown",
   "metadata": {},
   "source": [
    "Построим модель бинарной классификации клиентов, где целевой признак — факт оттока клиента в следующем месяце. \n",
    "\n",
    "Для этого разобьем данные на обучающую и валидационную выборку:"
   ]
  },
  {
   "cell_type": "code",
   "execution_count": 13,
   "metadata": {},
   "outputs": [],
   "source": [
    "X = gym.drop('churn', axis=1)\n",
    "y = gym['churn']\n",
    "\n",
    "X_train, X_test, y_train, y_test = train_test_split(X, y, test_size=0.2, random_state=0)"
   ]
  },
  {
   "cell_type": "markdown",
   "metadata": {},
   "source": [
    "Обучим модель  на train-выборке двумя способами: логистической риегрессией и случайным лесом. Чтобы не дублировать код, напишем функцию, которая будет принимать название модели и возвращать долю правильных ответов, точность, полноту, f1-меру и площадь под кривой ошибок:"
   ]
  },
  {
   "cell_type": "code",
   "execution_count": 14,
   "metadata": {},
   "outputs": [],
   "source": [
    "def model_train(mod):\n",
    "    model = mod\n",
    "    model.fit(X_train, y_train)\n",
    "    y_pred = model.predict(X_test)\n",
    "    probabilities = model.predict_proba(X_test)\n",
    "    \n",
    "    acc = accuracy_score(y_test, y_pred)\n",
    "    precision = precision_score (y_test, y_pred)\n",
    "    recall = recall_score (y_test, y_pred)\n",
    "    f1= f1_score(y_test, y_pred)\n",
    "    roc_auc = roc_auc_score(y_test, probabilities[:,1])\n",
    "    \n",
    "    print('Для модели {}:\\n доля правильных ответов = {:.2f} \\n точность = {:.2f} \\\n",
    "    \\n полнота = {:.2f} \\n F1-мера = {:.2f} \\n площадь под кривой ошибок = {:.2f}'\\\n",
    "          .format(mod, acc, precision, recall, f1, roc_auc))"
   ]
  },
  {
   "cell_type": "markdown",
   "metadata": {},
   "source": [
    "### Сравнение моделей"
   ]
  },
  {
   "cell_type": "markdown",
   "metadata": {},
   "source": [
    "Применим нашу функцию сначала для логистистической регрессии:"
   ]
  },
  {
   "cell_type": "code",
   "execution_count": 15,
   "metadata": {},
   "outputs": [
    {
     "name": "stdout",
     "output_type": "stream",
     "text": [
      "Для модели LogisticRegression(random_state=0, solver='liblinear'):\n",
      " доля правильных ответов = 0.90 \n",
      " точность = 0.79     \n",
      " полнота = 0.79 \n",
      " F1-мера = 0.79 \n",
      " площадь под кривой ошибок = 0.96\n"
     ]
    }
   ],
   "source": [
    "model_train(LogisticRegression(solver='liblinear', random_state=0))"
   ]
  },
  {
   "cell_type": "markdown",
   "metadata": {},
   "source": [
    "А теперь сделаем то же самое для случайного леса:"
   ]
  },
  {
   "cell_type": "code",
   "execution_count": 16,
   "metadata": {},
   "outputs": [
    {
     "name": "stdout",
     "output_type": "stream",
     "text": [
      "Для модели RandomForestClassifier(random_state=0):\n",
      " доля правильных ответов = 0.90 \n",
      " точность = 0.81     \n",
      " полнота = 0.77 \n",
      " F1-мера = 0.79 \n",
      " площадь под кривой ошибок = 0.95\n"
     ]
    }
   ],
   "source": [
    "model_train(RandomForestClassifier(n_estimators = 100, random_state=0))"
   ]
  },
  {
   "cell_type": "markdown",
   "metadata": {},
   "source": [
    "### Вывод"
   ]
  },
  {
   "cell_type": "markdown",
   "metadata": {},
   "source": [
    "Доля правильных ответов у расматриваемых моделей одинакова - 0,9.\n",
    "\n",
    "Точность (доля правильных ответов среди целевого класса, т.е. оттока) выше у случайного леса (0,81 против 0,79). Т.е модель случайного леса минимизирует ложноположительные результаты.\n",
    "\n",
    "Полнота (сколько реальных объектов целевого класса обнаружено) выше у логистической регрессии (0,79 против 0,77). Данная модель минимизирует ложноотрицательные результаты. Нам ложноотрицательные результаты \"страшнее\" (лучше провести лишние профилактические противооттоковые мероприятия для клиента, чем упустить его).\n",
    "\n",
    "F1-мера у обеих моделей составляет 0,79.\n",
    "\n",
    "Площадь под кривой ошибок ближе к 1 у линейной регрессии (0,96 против 0,95).\n",
    "\n",
    "Итак, в нашем случае линейная регрессия даст более точный прогноз."
   ]
  },
  {
   "cell_type": "markdown",
   "metadata": {},
   "source": [
    "## Кластеризация клиентов"
   ]
  },
  {
   "cell_type": "markdown",
   "metadata": {},
   "source": [
    "### Стандартизация признаков"
   ]
  },
  {
   "cell_type": "markdown",
   "metadata": {},
   "source": [
    "Чтобы разбить клиентов на кластеры, проведем сначала стандартизацию признаков."
   ]
  },
  {
   "cell_type": "code",
   "execution_count": 17,
   "metadata": {},
   "outputs": [],
   "source": [
    "scaler = StandardScaler()\n",
    "x_sc = scaler.fit_transform(X)"
   ]
  },
  {
   "cell_type": "markdown",
   "metadata": {},
   "source": [
    "### Матрица расстояний и дендрограмма"
   ]
  },
  {
   "cell_type": "markdown",
   "metadata": {},
   "source": [
    "Теперь построим матрицу расстояний и дендрограмму:"
   ]
  },
  {
   "cell_type": "code",
   "execution_count": 18,
   "metadata": {},
   "outputs": [
    {
     "data": {
      "image/png": "[encoded data removed]",
      "text/plain": [
       "<Figure size 1080x720 with 1 Axes>"
      ]
     },
     "metadata": {
      "needs_background": "light"
     },
     "output_type": "display_data"
    }
   ],
   "source": [
    "linked = linkage(x_sc, method = 'ward')\n",
    "\n",
    "plt.figure(figsize=(15, 10))  \n",
    "dendrogram(linked, orientation='top')\n",
    "plt.title('Дендрограмма для кластеризации клиентов')\n",
    "plt.show()"
   ]
  },
  {
   "cell_type": "markdown",
   "metadata": {},
   "source": [
    "Судя по количеству цветов на дендрограмме, оптимальное количество кластеров - 3. Но тогда кластер 3 получается слишком большой, чтобы наш подход был более гибким и индивидуальным, разобьем клиентов на 4 группы."
   ]
  },
  {
   "cell_type": "markdown",
   "metadata": {},
   "source": [
    "### Прогнозирование кластеров клиентов"
   ]
  },
  {
   "cell_type": "markdown",
   "metadata": {},
   "source": [
    "Обучим модель кластеризации на основании алгоритма K-Means и спрогнозируем кластеры клиентов. "
   ]
  },
  {
   "cell_type": "code",
   "execution_count": 19,
   "metadata": {},
   "outputs": [],
   "source": [
    "km = KMeans(n_clusters=4, random_state=0) \n",
    "labels = km.fit_predict(x_sc)"
   ]
  },
  {
   "cell_type": "markdown",
   "metadata": {},
   "source": [
    "Теперь добавим номера кластеров в наш датасет и сгруппируем его по номеру кластера, чтобы посмотреть на средние значения признаков для каждой группы клиентов:"
   ]
  },
  {
   "cell_type": "code",
   "execution_count": 20,
   "metadata": {},
   "outputs": [
    {
     "data": {
      "text/html": [
       "<div>\n",
       "<style scoped>\n",
       "    .dataframe tbody tr th:only-of-type {\n",
       "        vertical-align: middle;\n",
       "    }\n",
       "\n",
       "    .dataframe tbody tr th {\n",
       "        vertical-align: top;\n",
       "    }\n",
       "\n",
       "    .dataframe thead th {\n",
       "        text-align: right;\n",
       "    }\n",
       "</style>\n",
       "<table border=\"1\" class=\"dataframe\">\n",
       "  <thead>\n",
       "    <tr style=\"text-align: right;\">\n",
       "      <th>cluster_km</th>\n",
       "      <th>0</th>\n",
       "      <th>1</th>\n",
       "      <th>2</th>\n",
       "      <th>3</th>\n",
       "    </tr>\n",
       "  </thead>\n",
       "  <tbody>\n",
       "    <tr>\n",
       "      <th>near_location</th>\n",
       "      <td>1.000000</td>\n",
       "      <td>0.996350</td>\n",
       "      <td>0.000000</td>\n",
       "      <td>0.996429</td>\n",
       "    </tr>\n",
       "    <tr>\n",
       "      <th>partner</th>\n",
       "      <td>0.219949</td>\n",
       "      <td>0.884124</td>\n",
       "      <td>0.489362</td>\n",
       "      <td>0.375893</td>\n",
       "    </tr>\n",
       "    <tr>\n",
       "      <th>promo_friends</th>\n",
       "      <td>0.068201</td>\n",
       "      <td>1.000000</td>\n",
       "      <td>0.075286</td>\n",
       "      <td>0.010714</td>\n",
       "    </tr>\n",
       "    <tr>\n",
       "      <th>group_visits</th>\n",
       "      <td>0.283887</td>\n",
       "      <td>0.525547</td>\n",
       "      <td>0.230769</td>\n",
       "      <td>0.534821</td>\n",
       "    </tr>\n",
       "    <tr>\n",
       "      <th>age</th>\n",
       "      <td>27.589088</td>\n",
       "      <td>29.642336</td>\n",
       "      <td>28.680851</td>\n",
       "      <td>30.681250</td>\n",
       "    </tr>\n",
       "    <tr>\n",
       "      <th>avg_additional_charges_total</th>\n",
       "      <td>117.552268</td>\n",
       "      <td>154.056489</td>\n",
       "      <td>137.210096</td>\n",
       "      <td>176.075732</td>\n",
       "    </tr>\n",
       "    <tr>\n",
       "      <th>month_to_end_contract</th>\n",
       "      <td>1.925831</td>\n",
       "      <td>6.308394</td>\n",
       "      <td>2.828151</td>\n",
       "      <td>5.705357</td>\n",
       "    </tr>\n",
       "    <tr>\n",
       "      <th>lifetime</th>\n",
       "      <td>1.867008</td>\n",
       "      <td>4.264599</td>\n",
       "      <td>2.993453</td>\n",
       "      <td>5.541071</td>\n",
       "    </tr>\n",
       "    <tr>\n",
       "      <th>avg_class_frequency_current_month</th>\n",
       "      <td>1.212463</td>\n",
       "      <td>1.913861</td>\n",
       "      <td>1.596004</td>\n",
       "      <td>2.297535</td>\n",
       "    </tr>\n",
       "    <tr>\n",
       "      <th>churn</th>\n",
       "      <td>0.568627</td>\n",
       "      <td>0.117701</td>\n",
       "      <td>0.402619</td>\n",
       "      <td>0.016964</td>\n",
       "    </tr>\n",
       "  </tbody>\n",
       "</table>\n",
       "</div>"
      ],
      "text/plain": [
       "cluster_km                                  0           1           2  \\\n",
       "near_location                        1.000000    0.996350    0.000000   \n",
       "partner                              0.219949    0.884124    0.489362   \n",
       "promo_friends                        0.068201    1.000000    0.075286   \n",
       "group_visits                         0.283887    0.525547    0.230769   \n",
       "age                                 27.589088   29.642336   28.680851   \n",
       "avg_additional_charges_total       117.552268  154.056489  137.210096   \n",
       "month_to_end_contract                1.925831    6.308394    2.828151   \n",
       "lifetime                             1.867008    4.264599    2.993453   \n",
       "avg_class_frequency_current_month    1.212463    1.913861    1.596004   \n",
       "churn                                0.568627    0.117701    0.402619   \n",
       "\n",
       "cluster_km                                  3  \n",
       "near_location                        0.996429  \n",
       "partner                              0.375893  \n",
       "promo_friends                        0.010714  \n",
       "group_visits                         0.534821  \n",
       "age                                 30.681250  \n",
       "avg_additional_charges_total       176.075732  \n",
       "month_to_end_contract                5.705357  \n",
       "lifetime                             5.541071  \n",
       "avg_class_frequency_current_month    2.297535  \n",
       "churn                                0.016964  "
      ]
     },
     "execution_count": 20,
     "metadata": {},
     "output_type": "execute_result"
    }
   ],
   "source": [
    "labels = list(labels)\n",
    "gym['cluster_km'] = labels\n",
    "\n",
    "clasters = gym.groupby('cluster_km').agg('mean')\n",
    "clasters.T"
   ]
  },
  {
   "cell_type": "markdown",
   "metadata": {},
   "source": [
    "Интересно также посмотреть на численность кластеров:"
   ]
  },
  {
   "cell_type": "code",
   "execution_count": 21,
   "metadata": {},
   "outputs": [
    {
     "data": {
      "text/html": [
       "<style  type=\"text/css\" >\n",
       "</style><table id=\"T_b926e_\" ><thead>    <tr>        <th class=\"blank level0\" ></th>        <th class=\"col_heading level0 col0\" >cluster_km</th>        <th class=\"col_heading level0 col1\" >size</th>        <th class=\"col_heading level0 col2\" >share</th>    </tr></thead><tbody>\n",
       "                <tr>\n",
       "                        <th id=\"T_b926e_level0_row0\" class=\"row_heading level0 row0\" >0</th>\n",
       "                        <td id=\"T_b926e_row0_col0\" class=\"data row0 col0\" >0</td>\n",
       "                        <td id=\"T_b926e_row0_col1\" class=\"data row0 col1\" >1173</td>\n",
       "                        <td id=\"T_b926e_row0_col2\" class=\"data row0 col2\" >29.3%</td>\n",
       "            </tr>\n",
       "            <tr>\n",
       "                        <th id=\"T_b926e_level0_row1\" class=\"row_heading level0 row1\" >1</th>\n",
       "                        <td id=\"T_b926e_row1_col0\" class=\"data row1 col0\" >1</td>\n",
       "                        <td id=\"T_b926e_row1_col1\" class=\"data row1 col1\" >1096</td>\n",
       "                        <td id=\"T_b926e_row1_col2\" class=\"data row1 col2\" >27.4%</td>\n",
       "            </tr>\n",
       "            <tr>\n",
       "                        <th id=\"T_b926e_level0_row2\" class=\"row_heading level0 row2\" >2</th>\n",
       "                        <td id=\"T_b926e_row2_col0\" class=\"data row2 col0\" >2</td>\n",
       "                        <td id=\"T_b926e_row2_col1\" class=\"data row2 col1\" >611</td>\n",
       "                        <td id=\"T_b926e_row2_col2\" class=\"data row2 col2\" >15.3%</td>\n",
       "            </tr>\n",
       "            <tr>\n",
       "                        <th id=\"T_b926e_level0_row3\" class=\"row_heading level0 row3\" >3</th>\n",
       "                        <td id=\"T_b926e_row3_col0\" class=\"data row3 col0\" >3</td>\n",
       "                        <td id=\"T_b926e_row3_col1\" class=\"data row3 col1\" >1120</td>\n",
       "                        <td id=\"T_b926e_row3_col2\" class=\"data row3 col2\" >28.0%</td>\n",
       "            </tr>\n",
       "    </tbody></table>"
      ],
      "text/plain": [
       "<pandas.io.formats.style.Styler at 0x7f15e3bc17c0>"
      ]
     },
     "execution_count": 21,
     "metadata": {},
     "output_type": "execute_result"
    }
   ],
   "source": [
    "clasters_size = gym.groupby('cluster_km')['age'].agg('count').reset_index()\n",
    "clasters_size.columns = ['cluster_km', 'size']\n",
    "clasters_size['share'] = clasters_size['size'] / clasters_size['size'].sum()\n",
    "clasters_size = clasters_size.style.format({'share':'{:.1%}'})\n",
    "clasters_size"
   ]
  },
  {
   "cell_type": "markdown",
   "metadata": {},
   "source": [
    "Кластер 2 самый малочисленный, остальные примерно одинаковы по размеру.\n",
    "Кластеры 0 и 2 склонны к оттоку, кластеры 1 и 3 достаточно лояльны."
   ]
  },
  {
   "cell_type": "markdown",
   "metadata": {},
   "source": [
    "### Распределение признаков по кластерам"
   ]
  },
  {
   "cell_type": "markdown",
   "metadata": {},
   "source": [
    "Визуализируем распределение признаков по кластерам для большей наглядности. Для этого напишем функцию, которая будет принимать, датафрейм, признак группировки и список параметров для сравнения:"
   ]
  },
  {
   "cell_type": "code",
   "execution_count": 22,
   "metadata": {},
   "outputs": [
    {
     "name": "stdout",
     "output_type": "stream",
     "text": [
      "Распределение признака near_location по кластерам\n"
     ]
    },
    {
     "data": {
      "image/png": "[encoded data removed]",
      "text/plain": [
       "<Figure size 806.4x288 with 4 Axes>"
      ]
     },
     "metadata": {
      "needs_background": "light"
     },
     "output_type": "display_data"
    },
    {
     "name": "stdout",
     "output_type": "stream",
     "text": [
      "Распределение признака partner по кластерам\n"
     ]
    },
    {
     "data": {
      "image/png": "[encoded data removed]",
      "text/plain": [
       "<Figure size 806.4x288 with 4 Axes>"
      ]
     },
     "metadata": {
      "needs_background": "light"
     },
     "output_type": "display_data"
    },
    {
     "name": "stdout",
     "output_type": "stream",
     "text": [
      "Распределение признака promo_friends по кластерам\n"
     ]
    },
    {
     "data": {
      "image/png": "[encoded data removed]",
      "text/plain": [
       "<Figure size 806.4x288 with 4 Axes>"
      ]
     },
     "metadata": {
      "needs_background": "light"
     },
     "output_type": "display_data"
    },
    {
     "name": "stdout",
     "output_type": "stream",
     "text": [
      "Распределение признака group_visits по кластерам\n"
     ]
    },
    {
     "data": {
      "image/png": "[encoded data removed]",
      "text/plain": [
       "<Figure size 806.4x288 with 4 Axes>"
      ]
     },
     "metadata": {
      "needs_background": "light"
     },
     "output_type": "display_data"
    },
    {
     "name": "stdout",
     "output_type": "stream",
     "text": [
      "Распределение признака age по кластерам\n"
     ]
    },
    {
     "data": {
      "image/png": "[encoded data removed]",
      "text/plain": [
       "<Figure size 806.4x288 with 4 Axes>"
      ]
     },
     "metadata": {
      "needs_background": "light"
     },
     "output_type": "display_data"
    },
    {
     "name": "stdout",
     "output_type": "stream",
     "text": [
      "Распределение признака avg_additional_charges_total по кластерам\n"
     ]
    },
    {
     "data": {
      "image/png": "[encoded data removed]",
      "text/plain": [
       "<Figure size 806.4x288 with 4 Axes>"
      ]
     },
     "metadata": {
      "needs_background": "light"
     },
     "output_type": "display_data"
    },
    {
     "name": "stdout",
     "output_type": "stream",
     "text": [
      "Распределение признака month_to_end_contract по кластерам\n"
     ]
    },
    {
     "data": {
      "image/png": "[encoded data removed]",
      "text/plain": [
       "<Figure size 806.4x288 with 4 Axes>"
      ]
     },
     "metadata": {
      "needs_background": "light"
     },
     "output_type": "display_data"
    },
    {
     "name": "stdout",
     "output_type": "stream",
     "text": [
      "Распределение признака lifetime по кластерам\n"
     ]
    },
    {
     "data": {
      "image/png": "[encoded data removed]",
      "text/plain": [
       "<Figure size 806.4x288 with 4 Axes>"
      ]
     },
     "metadata": {
      "needs_background": "light"
     },
     "output_type": "display_data"
    },
    {
     "name": "stdout",
     "output_type": "stream",
     "text": [
      "Распределение признака avg_class_frequency_current_month по кластерам\n"
     ]
    },
    {
     "data": {
      "image/png": "[encoded data removed]",
      "text/plain": [
       "<Figure size 806.4x288 with 4 Axes>"
      ]
     },
     "metadata": {
      "needs_background": "light"
     },
     "output_type": "display_data"
    },
    {
     "name": "stdout",
     "output_type": "stream",
     "text": [
      "Распределение признака churn по кластерам\n"
     ]
    },
    {
     "data": {
      "image/png": "[encoded data removed]",
      "text/plain": [
       "<Figure size 806.4x288 with 4 Axes>"
      ]
     },
     "metadata": {
      "needs_background": "light"
     },
     "output_type": "display_data"
    },
    {
     "name": "stdout",
     "output_type": "stream",
     "text": [
      "Распределение признака cluster_km по кластерам\n"
     ]
    },
    {
     "data": {
      "image/png": "[encoded data removed]",
      "text/plain": [
       "<Figure size 806.4x288 with 4 Axes>"
      ]
     },
     "metadata": {
      "needs_background": "light"
     },
     "output_type": "display_data"
    }
   ],
   "source": [
    "def compare(df, group, features):\n",
    "    df_new = gym.copy()\n",
    "    df_new[features] = df[features]\n",
    "    for f in features:\n",
    "        print('Распределение признака {} по кластерам'.format(f))\n",
    "        sns.displot(data=df_new, x=df_new[f], col=group,\n",
    "                    height=4, aspect=0.7)\n",
    "        plt.show()\n",
    "        \n",
    "compare(gym, 'cluster_km', gym.columns)"
   ]
  },
  {
   "cell_type": "markdown",
   "metadata": {},
   "source": [
    "### Вывод"
   ]
  },
  {
   "cell_type": "markdown",
   "metadata": {},
   "source": [
    "**Кластер 0 - наиболее склонные к оттоку (в 57% случаев)**:\n",
    "- живут или работают рядом\n",
    "- реже других являются сотрудниками компаний-партнеров\n",
    "- предпочитают индивидуальные и самостоятельные тренировки\n",
    "- средний возраст 28 лет\n",
    "- потратили на сопутствующие товары меньше всех - в среднем 118 у.е., в основной своей массе - до 180 у.е.\n",
    "- до окончания абонемента осталось менее 2х месяцев\n",
    "- занимаются в клубе менее 2х месяцев, посещают тренировки от 0 до 2х раз в неделю, в среднем 1 раз в неделю\n",
    "\n",
    "\n",
    "Назовем их условно \"Новички\", т.к. они недавно пришли в клуб. Они присматриваются, пока еще не привыкли и не втянулись, возможно, чувствуют себя в клубе неуверенно, т.к. не обзавелись знакомствами, не выбрали себе оптимальный вид нагрузки.\n",
    "\n",
    "**Кластер 1 - малосклонные к оттоку (в 12% случаев)**:\n",
    "- живут или работают рядом\n",
    "- часто являются сотрудниками компаний-партнеров\n",
    "- воспользовались промокодом друга\n",
    "- посещают как групповые, так и индивидуальные/самостоятельные занятия\n",
    "- средний возраст 30 лет\n",
    "- потратили дополнительно к абонементам в среднем 154 у.е., в основной массе  - до 250 у.е.\n",
    "- до окончания абонемента осталось в среднем более 6 месяцев\n",
    "- в клубе уже более 4х месяцев, тренируются от 0 до 3 х раз св неделю, в среднем 2 раза в неделю\n",
    "\n",
    "\n",
    "Назовем их условно \"Пришедшие за компанию\", т.к. они воспользовались промокодом друга. Пример друзей/коллег служит для них дополнительной мотивацией продолжать занятия.\n",
    "\n",
    "**Кластер 2 - средне склонные к оттоку (в 40% случаев)**:\n",
    "- живут и работают далеко от клуба\n",
    "- могут как являться сотрудниками компаний-партнеров, так и не являться (50/50)\n",
    "- предпочитают индивидуальные и самостоятельные тренировки\n",
    "- средний возраст 29 лет\n",
    "- потратили дополнительно в среднем 137 у.е., в основной массе - до 220 у.е.\n",
    "- до окончания абонемента осталось большей частью менее 2х месяцев\n",
    "- занимаются в клубе 3 месяца, от 0 до 2х раз в неделю, в среднем 1,5 реза в неделю\n",
    "\n",
    "\n",
    "Назовем их условно \"Самомотивированные\", т.к. чтобы добираться в фитнес-клуб издалека однозначно требуется самомотивация. Их склонность к оттоку, скорее всего, как раз и вызвана неудобством логистики.\n",
    "\n",
    "**Кластер 3 - не склонные к оттоку (попадают в отток только в 2% случаев)**:\n",
    "- живут или работают рядом\n",
    "- могут как являться сотрудниками компаний-партнеров, так и не являться, но чаще не являются\n",
    "- средний возраст - 31 год\n",
    "- больше всех потратили денег на дополнительные \"плюшки\" - 176 у.е., в основной массе - до 300 у.е.\n",
    "- до окончания абонемента осталось в среднем более 5 месяцев\n",
    "- занимаются в клубе более 5 месяцев от 1 до 4х раз в неделю, в среднем чаще 2х раз в неделю.\n",
    "\n",
    "\n",
    "Назовем их условно \"Лояльные\". Им все удобно и привычно. Это самая взрослая и стабильная аудитория."
   ]
  },
  {
   "cell_type": "markdown",
   "metadata": {},
   "source": [
    "## Выводы и рекомендации"
   ]
  },
  {
   "cell_type": "markdown",
   "metadata": {},
   "source": [
    "Исследованы данные по 4 000 клиентов сети фитнес-клубов. Среди 13 характеристик клиентов  выделены 9, влияющих на отток.\n",
    "\n",
    "Наибольшее влияние на отток оказывают следующие признаки:\n",
    "\n",
    "- срок, прошедший с момента первого обращения,\n",
    "- частота посещений за последний месяц,\n",
    "- возраст,\n",
    "- срок до окончания абонемента.\n",
    "\n",
    "Для прогнозирования оттока клиентов были обучены 2 модели - логистическая регрессия и случайный лес, рассчитаны метрики:\n",
    "- доля правильных ответов, \n",
    "- точность, \n",
    "- полнота, \n",
    "- f1-мера,\n",
    "- площадь под кривой ошибок. \n",
    "\n",
    "\n",
    "Сравнительный анализ метрик показал, что модель логистической регрессии является более предпочтительной для прогнозирования оттока, т.к. она минимизирует ложноотрицательные результаты и помогает \"перестраховаться\".\n",
    "\n",
    "Проведена кластеризация клиентов, всего выделено 4 кластера:\n",
    "- \"Новички\" (кластер 0)\n",
    "- \"Самомотивированные\" (кластер 2)\n",
    "- \"Пришедшие за компанию\" (кластер 1)\n",
    "- \"Лояльные\" (кластер 3)\n",
    "\n",
    "**Описание кластеров и рекомендации по работе с ними**:\n",
    "\n",
    "**\"Новички\"** - склонны к оттоку в 57% случаев. Редко являются сотрудниками компаний-партнеров, редко посещают групповые занятия, занимаются в клубе в среднем менее 2х месяцев, посещают тренировки в среднем 1 раз в неделю, до окночания абонемента осталось менее 2х месяцев, потратили на сопутствующие товары и услуги до 180 у.е., средний возраст 28 лет. При этом живут либо работают рядом. Главная проблема - слабая вовлеченность.\n",
    "\n",
    "С данной группой рекомендуется работать по профилактике оттока наиболее активно. Важно социализировать их, чтобы почувствовали себя в клубе своими - вовлекать в групповые тренировки (\"для разнообразия\" и заведения новых друзей), знакомить с направлениями и инструкторами, помогать выбрать оптимальный уровень нагрузки и режим занятий, чтобы \"подсадить\" на регулярные тренировки хотя бы 2 раза в неделю, предлагать дополнительные товары и услуги, но без навязывания. \n",
    "\n",
    "**\"Самомотивированные\"** - склонны к оттоку в 40% случаев. Самый малочисленный кластер, в 2 раза меньше остальных. Их главная проблема - далеко живут/работают, т.е. неудобная логистика. Отсюда и редкая посещаемость - 1,5 раза в неделю, и склонность бросать занятия, когда самомотивация заканчивается. Средний возраст 29 лет. Для них, возможно, стоит разработать систему индивидуальных бонусов/скидок/промокодов, желательно, накопительных, чтобы они были заинтересованы дольше оставаться в клубе и больше тратить там денег. Но слишком цепляться за этот кластер не стоит, все-таки если человеку долго/неудобно добираться до клуба, то скорее всего, он уйдет, даже несмотря на выгодные предложения. \n",
    "\n",
    "**\"Пришедшие за компанию\"** - стабильный кластер, склонен к оттоку только в 12% случаев. Их отличительная черта - пришли по акции \"Приведи друга\", и часто являются сотрудниками компаний-партнеров, соответственно в клубе у них уже есть знакомства и положительный пример друга/коллег. Средний возраст 30 лет. Данный кластер в профилактике оттока практически не нуждается. Можно расширять перечень компаний-партнеров (рассчитав рентабельность такого партнерства, разумеется). Сотрудники компаний-партнеров склонны посещать занятия регулярно, длительно и приобретать дополнительные товары и услуги. Если этот кластер станет самым массовым, он может и не принесет сверхприбылей, но обеспечит устойчивость бизнесу.\n",
    "\n",
    "**Лояльные** - самый стабильный кластер, склонен к оттоку только в 2% случаев. Их все устраивает, занимаются более 5 месяцев и более 2х раз в неделю, охотно тратят деньги на дополнительные товары и услуги. Средний возраст - 31 год. Специальных мероприятий по профилактике оттока не требует. Чтобы расширять данный кластер, стоит больше ориентироваться в рекламно-информационных кампаниях на целевую аудиторию в возрасте 30-35 лет, т.к. более молодая аудитория менее постоянна."
   ]
  },
  {
   "cell_type": "code",
   "execution_count": null,
   "metadata": {},
   "outputs": [],
   "source": []
  }
 ],
 "metadata": {
  "ExecuteTimeLog": [
   {
    "duration": 621,
    "start_time": "2022-05-31T09:15:26.242Z"
   },
   {
    "duration": 76,
    "start_time": "2022-05-31T09:17:40.610Z"
   },
   {
    "duration": 13,
    "start_time": "2022-05-31T09:18:05.520Z"
   },
   {
    "duration": 13,
    "start_time": "2022-05-31T09:18:50.804Z"
   },
   {
    "duration": 12,
    "start_time": "2022-05-31T09:22:22.341Z"
   },
   {
    "duration": 46,
    "start_time": "2022-05-31T09:24:30.238Z"
   },
   {
    "duration": 4,
    "start_time": "2022-05-31T09:27:36.263Z"
   },
   {
    "duration": 3,
    "start_time": "2022-05-31T09:28:05.839Z"
   },
   {
    "duration": 3,
    "start_time": "2022-05-31T09:28:12.464Z"
   },
   {
    "duration": 4,
    "start_time": "2022-05-31T09:28:23.200Z"
   },
   {
    "duration": 10,
    "start_time": "2022-05-31T09:31:15.109Z"
   },
   {
    "duration": 8,
    "start_time": "2022-05-31T09:31:25.247Z"
   },
   {
    "duration": 10,
    "start_time": "2022-05-31T09:32:27.225Z"
   },
   {
    "duration": 53,
    "start_time": "2022-05-31T09:47:00.821Z"
   },
   {
    "duration": 69,
    "start_time": "2022-05-31T09:48:00.837Z"
   },
   {
    "duration": 5,
    "start_time": "2022-05-31T09:48:12.319Z"
   },
   {
    "duration": 15,
    "start_time": "2022-05-31T09:48:21.267Z"
   },
   {
    "duration": 11,
    "start_time": "2022-05-31T09:48:37.509Z"
   },
   {
    "duration": 42,
    "start_time": "2022-05-31T09:49:40.546Z"
   },
   {
    "duration": 271,
    "start_time": "2022-05-31T09:52:53.239Z"
   },
   {
    "duration": 2823,
    "start_time": "2022-05-31T09:53:05.799Z"
   },
   {
    "duration": 4,
    "start_time": "2022-05-31T09:53:15.600Z"
   },
   {
    "duration": 2665,
    "start_time": "2022-05-31T09:53:23.075Z"
   },
   {
    "duration": 2742,
    "start_time": "2022-05-31T09:53:54.771Z"
   },
   {
    "duration": 2923,
    "start_time": "2022-05-31T09:54:08.941Z"
   },
   {
    "duration": 3014,
    "start_time": "2022-05-31T09:54:25.474Z"
   },
   {
    "duration": 520,
    "start_time": "2022-05-31T09:54:54.653Z"
   },
   {
    "duration": 260,
    "start_time": "2022-05-31T09:55:26.788Z"
   },
   {
    "duration": 15,
    "start_time": "2022-05-31T09:59:52.804Z"
   },
   {
    "duration": 20,
    "start_time": "2022-05-31T10:00:35.021Z"
   },
   {
    "duration": 1004,
    "start_time": "2022-05-31T10:00:44.924Z"
   },
   {
    "duration": 3044,
    "start_time": "2022-05-31T10:01:22.112Z"
   },
   {
    "duration": 2911,
    "start_time": "2022-05-31T10:01:32.620Z"
   },
   {
    "duration": 3547,
    "start_time": "2022-05-31T10:01:58.326Z"
   },
   {
    "duration": 3270,
    "start_time": "2022-05-31T10:03:26.134Z"
   },
   {
    "duration": 3,
    "start_time": "2022-05-31T10:05:13.540Z"
   },
   {
    "duration": 27,
    "start_time": "2022-05-31T10:18:42.326Z"
   },
   {
    "duration": 196,
    "start_time": "2022-05-31T10:19:10.752Z"
   },
   {
    "duration": 174,
    "start_time": "2022-05-31T10:20:06.329Z"
   },
   {
    "duration": 5,
    "start_time": "2022-05-31T10:21:56.691Z"
   },
   {
    "duration": 174,
    "start_time": "2022-05-31T10:52:14.583Z"
   },
   {
    "duration": 34,
    "start_time": "2022-05-31T10:57:01.250Z"
   },
   {
    "duration": 180,
    "start_time": "2022-05-31T10:57:10.676Z"
   },
   {
    "duration": 267,
    "start_time": "2022-05-31T10:57:51.887Z"
   },
   {
    "duration": 59,
    "start_time": "2022-06-01T10:44:32.543Z"
   },
   {
    "duration": 800,
    "start_time": "2022-06-01T10:44:47.978Z"
   },
   {
    "duration": 71,
    "start_time": "2022-06-01T10:44:48.780Z"
   },
   {
    "duration": 14,
    "start_time": "2022-06-01T10:44:48.852Z"
   },
   {
    "duration": 11,
    "start_time": "2022-06-01T10:44:48.867Z"
   },
   {
    "duration": 5,
    "start_time": "2022-06-01T10:44:48.880Z"
   },
   {
    "duration": 6,
    "start_time": "2022-06-01T10:44:48.886Z"
   },
   {
    "duration": 8,
    "start_time": "2022-06-01T10:44:48.893Z"
   },
   {
    "duration": 11,
    "start_time": "2022-06-01T10:44:48.903Z"
   },
   {
    "duration": 48,
    "start_time": "2022-06-01T10:44:48.923Z"
   },
   {
    "duration": 11,
    "start_time": "2022-06-01T10:44:48.973Z"
   },
   {
    "duration": 99,
    "start_time": "2022-06-01T10:44:48.985Z"
   },
   {
    "duration": 0,
    "start_time": "2022-06-01T10:44:49.086Z"
   },
   {
    "duration": 167,
    "start_time": "2022-06-01T10:45:00.787Z"
   },
   {
    "duration": 23,
    "start_time": "2022-06-01T10:51:40.883Z"
   },
   {
    "duration": 1383,
    "start_time": "2022-06-01T10:52:26.862Z"
   },
   {
    "duration": 1209,
    "start_time": "2022-06-01T10:54:34.184Z"
   },
   {
    "duration": 16,
    "start_time": "2022-06-01T10:56:03.015Z"
   },
   {
    "duration": 155,
    "start_time": "2022-06-01T10:58:13.317Z"
   },
   {
    "duration": 3646,
    "start_time": "2022-06-01T11:00:57.207Z"
   },
   {
    "duration": 3223,
    "start_time": "2022-06-01T11:04:08.181Z"
   },
   {
    "duration": 3278,
    "start_time": "2022-06-01T11:09:53.311Z"
   },
   {
    "duration": 3223,
    "start_time": "2022-06-01T11:10:55.363Z"
   },
   {
    "duration": 25,
    "start_time": "2022-06-01T11:16:42.654Z"
   },
   {
    "duration": 424,
    "start_time": "2022-06-01T11:52:28.561Z"
   },
   {
    "duration": 12,
    "start_time": "2022-06-01T11:57:44.944Z"
   },
   {
    "duration": 153603,
    "start_time": "2022-06-01T11:59:08.461Z"
   },
   {
    "duration": 1469,
    "start_time": "2022-06-01T12:01:57.970Z"
   },
   {
    "duration": 142,
    "start_time": "2022-06-01T12:10:25.550Z"
   },
   {
    "duration": 1414,
    "start_time": "2022-06-01T12:10:51.229Z"
   },
   {
    "duration": 1464,
    "start_time": "2022-06-01T12:11:13.427Z"
   },
   {
    "duration": 1450,
    "start_time": "2022-06-01T12:11:26.491Z"
   },
   {
    "duration": 1315,
    "start_time": "2022-06-01T12:11:44.427Z"
   },
   {
    "duration": 198,
    "start_time": "2022-06-01T12:25:19.014Z"
   },
   {
    "duration": 6,
    "start_time": "2022-06-01T12:27:22.849Z"
   },
   {
    "duration": 21,
    "start_time": "2022-06-01T12:33:48.329Z"
   },
   {
    "duration": 114,
    "start_time": "2022-06-01T12:46:13.609Z"
   },
   {
    "duration": 37,
    "start_time": "2022-06-01T12:48:39.919Z"
   },
   {
    "duration": 27,
    "start_time": "2022-06-01T12:48:50.271Z"
   },
   {
    "duration": 344,
    "start_time": "2022-06-01T12:51:09.207Z"
   },
   {
    "duration": 250,
    "start_time": "2022-06-01T13:01:39.177Z"
   },
   {
    "duration": 4,
    "start_time": "2022-06-01T13:03:11.803Z"
   },
   {
    "duration": 54,
    "start_time": "2022-06-01T13:03:17.877Z"
   },
   {
    "duration": 411,
    "start_time": "2022-06-01T13:05:11.020Z"
   },
   {
    "duration": 394,
    "start_time": "2022-06-01T13:06:20.731Z"
   },
   {
    "duration": 31,
    "start_time": "2022-06-01T13:06:24.347Z"
   },
   {
    "duration": 57,
    "start_time": "2022-06-02T11:34:50.405Z"
   },
   {
    "duration": 1371,
    "start_time": "2022-06-02T11:34:57.778Z"
   },
   {
    "duration": 72,
    "start_time": "2022-06-02T11:34:59.151Z"
   },
   {
    "duration": 13,
    "start_time": "2022-06-02T11:34:59.224Z"
   },
   {
    "duration": 10,
    "start_time": "2022-06-02T11:34:59.238Z"
   },
   {
    "duration": 3,
    "start_time": "2022-06-02T11:34:59.250Z"
   },
   {
    "duration": 3,
    "start_time": "2022-06-02T11:34:59.255Z"
   },
   {
    "duration": 5,
    "start_time": "2022-06-02T11:34:59.260Z"
   },
   {
    "duration": 11,
    "start_time": "2022-06-02T11:34:59.266Z"
   },
   {
    "duration": 45,
    "start_time": "2022-06-02T11:34:59.278Z"
   },
   {
    "duration": 9,
    "start_time": "2022-06-02T11:34:59.325Z"
   },
   {
    "duration": 2880,
    "start_time": "2022-06-02T11:34:59.335Z"
   },
   {
    "duration": 3,
    "start_time": "2022-06-02T11:35:02.216Z"
   },
   {
    "duration": 29,
    "start_time": "2022-06-02T11:35:02.220Z"
   },
   {
    "duration": 2201,
    "start_time": "2022-06-02T11:35:02.250Z"
   },
   {
    "duration": 7,
    "start_time": "2022-06-02T11:35:04.452Z"
   },
   {
    "duration": 38,
    "start_time": "2022-06-02T11:35:04.460Z"
   },
   {
    "duration": 508,
    "start_time": "2022-06-02T11:35:04.500Z"
   },
   {
    "duration": 1903,
    "start_time": "2022-06-02T11:36:56.730Z"
   },
   {
    "duration": 2972,
    "start_time": "2022-06-02T11:38:15.210Z"
   },
   {
    "duration": 5,
    "start_time": "2022-06-02T11:42:02.358Z"
   },
   {
    "duration": 88,
    "start_time": "2022-06-02T11:42:28.206Z"
   },
   {
    "duration": 365,
    "start_time": "2022-06-02T11:42:57.127Z"
   },
   {
    "duration": 9,
    "start_time": "2022-06-02T11:57:03.769Z"
   },
   {
    "duration": 3,
    "start_time": "2022-06-02T11:57:27.894Z"
   },
   {
    "duration": 26,
    "start_time": "2022-06-02T12:00:28.115Z"
   },
   {
    "duration": 7,
    "start_time": "2022-06-02T12:00:37.572Z"
   },
   {
    "duration": 10,
    "start_time": "2022-06-02T12:03:57.668Z"
   },
   {
    "duration": 3,
    "start_time": "2022-06-02T12:17:08.196Z"
   },
   {
    "duration": 12,
    "start_time": "2022-06-02T12:18:58.784Z"
   },
   {
    "duration": 83736,
    "start_time": "2022-06-02T12:19:28.741Z"
   },
   {
    "duration": 175,
    "start_time": "2022-06-02T12:24:35.197Z"
   },
   {
    "duration": 1171,
    "start_time": "2022-06-02T12:26:02.531Z"
   },
   {
    "duration": 879,
    "start_time": "2022-06-02T12:33:21.714Z"
   },
   {
    "duration": 8,
    "start_time": "2022-06-02T12:37:52.385Z"
   },
   {
    "duration": 1351,
    "start_time": "2022-06-02T12:37:56.542Z"
   },
   {
    "duration": 1797,
    "start_time": "2022-06-02T12:38:12.506Z"
   },
   {
    "duration": 9,
    "start_time": "2022-06-02T12:40:50.605Z"
   },
   {
    "duration": 3,
    "start_time": "2022-06-02T12:41:11.837Z"
   },
   {
    "duration": 13,
    "start_time": "2022-06-02T12:41:17.189Z"
   },
   {
    "duration": 33822,
    "start_time": "2022-06-02T12:42:08.031Z"
   },
   {
    "duration": 2,
    "start_time": "2022-06-02T12:43:59.542Z"
   },
   {
    "duration": 11,
    "start_time": "2022-06-02T12:48:35.790Z"
   },
   {
    "duration": 1213,
    "start_time": "2022-06-02T12:49:21.345Z"
   },
   {
    "duration": 37,
    "start_time": "2022-06-02T12:49:22.560Z"
   },
   {
    "duration": 14,
    "start_time": "2022-06-02T12:49:22.599Z"
   },
   {
    "duration": 11,
    "start_time": "2022-06-02T12:49:22.615Z"
   },
   {
    "duration": 6,
    "start_time": "2022-06-02T12:49:22.628Z"
   },
   {
    "duration": 5,
    "start_time": "2022-06-02T12:49:22.635Z"
   },
   {
    "duration": 8,
    "start_time": "2022-06-02T12:49:22.641Z"
   },
   {
    "duration": 10,
    "start_time": "2022-06-02T12:49:22.651Z"
   },
   {
    "duration": 55,
    "start_time": "2022-06-02T12:49:22.692Z"
   },
   {
    "duration": 10,
    "start_time": "2022-06-02T12:49:22.749Z"
   },
   {
    "duration": 3015,
    "start_time": "2022-06-02T12:49:22.761Z"
   },
   {
    "duration": 2,
    "start_time": "2022-06-02T12:49:25.778Z"
   },
   {
    "duration": 1377,
    "start_time": "2022-06-02T12:49:25.782Z"
   },
   {
    "duration": 10,
    "start_time": "2022-06-02T12:49:27.161Z"
   },
   {
    "duration": 7,
    "start_time": "2022-06-02T12:49:27.172Z"
   },
   {
    "duration": 21,
    "start_time": "2022-06-02T12:49:27.180Z"
   },
   {
    "duration": 282,
    "start_time": "2022-06-02T12:49:27.202Z"
   },
   {
    "duration": 10,
    "start_time": "2022-06-02T12:49:27.485Z"
   },
   {
    "duration": 3,
    "start_time": "2022-06-02T12:49:27.496Z"
   },
   {
    "duration": 1102,
    "start_time": "2022-06-02T12:49:27.501Z"
   },
   {
    "duration": 11,
    "start_time": "2022-06-02T12:49:28.605Z"
   },
   {
    "duration": 1249,
    "start_time": "2022-06-02T12:50:26.314Z"
   },
   {
    "duration": 36,
    "start_time": "2022-06-02T12:50:27.564Z"
   },
   {
    "duration": 13,
    "start_time": "2022-06-02T12:50:27.601Z"
   },
   {
    "duration": 10,
    "start_time": "2022-06-02T12:50:27.615Z"
   },
   {
    "duration": 6,
    "start_time": "2022-06-02T12:50:27.626Z"
   },
   {
    "duration": 5,
    "start_time": "2022-06-02T12:50:27.633Z"
   },
   {
    "duration": 6,
    "start_time": "2022-06-02T12:50:27.640Z"
   },
   {
    "duration": 10,
    "start_time": "2022-06-02T12:50:27.647Z"
   },
   {
    "duration": 62,
    "start_time": "2022-06-02T12:50:27.658Z"
   },
   {
    "duration": 10,
    "start_time": "2022-06-02T12:50:27.722Z"
   },
   {
    "duration": 2814,
    "start_time": "2022-06-02T12:50:27.734Z"
   },
   {
    "duration": 2,
    "start_time": "2022-06-02T12:50:30.550Z"
   },
   {
    "duration": 1426,
    "start_time": "2022-06-02T12:50:30.553Z"
   },
   {
    "duration": 12,
    "start_time": "2022-06-02T12:50:31.982Z"
   },
   {
    "duration": 13,
    "start_time": "2022-06-02T12:50:31.997Z"
   },
   {
    "duration": 41,
    "start_time": "2022-06-02T12:50:32.012Z"
   },
   {
    "duration": 318,
    "start_time": "2022-06-02T12:50:32.054Z"
   },
   {
    "duration": 6,
    "start_time": "2022-06-02T12:50:32.374Z"
   },
   {
    "duration": 11,
    "start_time": "2022-06-02T12:50:32.381Z"
   },
   {
    "duration": 1406,
    "start_time": "2022-06-02T12:50:32.393Z"
   },
   {
    "duration": 2,
    "start_time": "2022-06-02T12:50:33.801Z"
   },
   {
    "duration": 1692,
    "start_time": "2022-06-02T12:53:07.200Z"
   },
   {
    "duration": 117,
    "start_time": "2022-06-02T12:58:04.689Z"
   },
   {
    "duration": 16690,
    "start_time": "2022-06-02T12:58:18.019Z"
   },
   {
    "duration": 58,
    "start_time": "2022-06-04T08:24:31.124Z"
   },
   {
    "duration": 94,
    "start_time": "2022-06-04T08:24:41.018Z"
   },
   {
    "duration": 1679,
    "start_time": "2022-06-04T08:24:54.230Z"
   },
   {
    "duration": 72,
    "start_time": "2022-06-04T08:24:55.911Z"
   },
   {
    "duration": 14,
    "start_time": "2022-06-04T08:24:55.985Z"
   },
   {
    "duration": 21,
    "start_time": "2022-06-04T08:24:56.000Z"
   },
   {
    "duration": 10,
    "start_time": "2022-06-04T08:24:56.023Z"
   },
   {
    "duration": 27,
    "start_time": "2022-06-04T08:24:56.034Z"
   },
   {
    "duration": 23,
    "start_time": "2022-06-04T08:24:56.062Z"
   },
   {
    "duration": 56,
    "start_time": "2022-06-04T08:24:56.087Z"
   },
   {
    "duration": 10,
    "start_time": "2022-06-04T08:24:56.144Z"
   },
   {
    "duration": 244589,
    "start_time": "2022-06-04T08:24:56.155Z"
   },
   {
    "duration": 5,
    "start_time": "2022-06-04T08:29:00.746Z"
   },
   {
    "duration": 29,
    "start_time": "2022-06-04T08:29:00.753Z"
   },
   {
    "duration": 1635,
    "start_time": "2022-06-04T08:29:00.784Z"
   },
   {
    "duration": 13,
    "start_time": "2022-06-04T08:29:02.422Z"
   },
   {
    "duration": 18,
    "start_time": "2022-06-04T08:29:02.436Z"
   },
   {
    "duration": 38,
    "start_time": "2022-06-04T08:29:02.456Z"
   },
   {
    "duration": 340,
    "start_time": "2022-06-04T08:29:02.497Z"
   },
   {
    "duration": 11,
    "start_time": "2022-06-04T08:29:02.839Z"
   },
   {
    "duration": 16,
    "start_time": "2022-06-04T08:29:02.852Z"
   },
   {
    "duration": 1380,
    "start_time": "2022-06-04T08:29:02.870Z"
   },
   {
    "duration": 3,
    "start_time": "2022-06-04T08:29:04.252Z"
   },
   {
    "duration": 23837,
    "start_time": "2022-06-04T08:29:04.257Z"
   },
   {
    "duration": 144,
    "start_time": "2022-06-04T08:35:31.009Z"
   },
   {
    "duration": 3392,
    "start_time": "2022-06-04T08:37:01.917Z"
   },
   {
    "duration": 2667,
    "start_time": "2022-06-04T08:38:22.398Z"
   },
   {
    "duration": 31,
    "start_time": "2022-06-04T08:40:41.022Z"
   },
   {
    "duration": 3665,
    "start_time": "2022-06-04T08:40:55.632Z"
   },
   {
    "duration": 3054,
    "start_time": "2022-06-04T08:42:52.912Z"
   },
   {
    "duration": 247,
    "start_time": "2022-06-04T08:48:28.498Z"
   },
   {
    "duration": 194,
    "start_time": "2022-06-04T08:48:55.324Z"
   },
   {
    "duration": 4500,
    "start_time": "2022-06-04T08:50:00.983Z"
   },
   {
    "duration": 24,
    "start_time": "2022-06-04T08:51:11.736Z"
   },
   {
    "duration": 4438,
    "start_time": "2022-06-04T08:51:32.699Z"
   },
   {
    "duration": 4410,
    "start_time": "2022-06-04T08:51:50.314Z"
   },
   {
    "duration": 3876,
    "start_time": "2022-06-04T08:52:29.807Z"
   },
   {
    "duration": 317,
    "start_time": "2022-06-04T08:53:39.332Z"
   },
   {
    "duration": 4713,
    "start_time": "2022-06-04T08:54:04.434Z"
   },
   {
    "duration": 27,
    "start_time": "2022-06-04T08:54:11.903Z"
   },
   {
    "duration": 4728,
    "start_time": "2022-06-04T08:55:32.350Z"
   },
   {
    "duration": 4080,
    "start_time": "2022-06-04T08:57:06.557Z"
   },
   {
    "duration": 317,
    "start_time": "2022-06-04T09:05:55.027Z"
   },
   {
    "duration": 4244,
    "start_time": "2022-06-04T09:10:18.116Z"
   },
   {
    "duration": 5,
    "start_time": "2022-06-04T09:11:25.921Z"
   },
   {
    "duration": 66,
    "start_time": "2022-06-04T09:11:25.928Z"
   },
   {
    "duration": 18,
    "start_time": "2022-06-04T09:11:25.997Z"
   },
   {
    "duration": 37,
    "start_time": "2022-06-04T09:11:26.017Z"
   },
   {
    "duration": 8,
    "start_time": "2022-06-04T09:11:26.058Z"
   },
   {
    "duration": 30,
    "start_time": "2022-06-04T09:11:26.071Z"
   },
   {
    "duration": 19,
    "start_time": "2022-06-04T09:11:26.103Z"
   },
   {
    "duration": 63,
    "start_time": "2022-06-04T09:11:26.125Z"
   },
   {
    "duration": 18,
    "start_time": "2022-06-04T09:11:26.191Z"
   },
   {
    "duration": 1679,
    "start_time": "2022-06-04T09:12:24.015Z"
   },
   {
    "duration": 41,
    "start_time": "2022-06-04T09:12:25.696Z"
   },
   {
    "duration": 23,
    "start_time": "2022-06-04T09:12:25.741Z"
   },
   {
    "duration": 21,
    "start_time": "2022-06-04T09:12:25.766Z"
   },
   {
    "duration": 4,
    "start_time": "2022-06-04T09:12:25.790Z"
   },
   {
    "duration": 10,
    "start_time": "2022-06-04T09:12:25.795Z"
   },
   {
    "duration": 29,
    "start_time": "2022-06-04T09:12:25.807Z"
   },
   {
    "duration": 71,
    "start_time": "2022-06-04T09:12:25.840Z"
   },
   {
    "duration": 23,
    "start_time": "2022-06-04T09:12:25.913Z"
   },
   {
    "duration": 5078,
    "start_time": "2022-06-04T09:12:32.209Z"
   },
   {
    "duration": 4551,
    "start_time": "2022-06-04T09:31:33.014Z"
   },
   {
    "duration": 4698,
    "start_time": "2022-06-04T09:45:30.007Z"
   },
   {
    "duration": 3750,
    "start_time": "2022-06-04T09:54:12.038Z"
   },
   {
    "duration": 1744,
    "start_time": "2022-06-04T10:02:53.739Z"
   },
   {
    "duration": 22,
    "start_time": "2022-06-04T10:05:18.827Z"
   },
   {
    "duration": 193,
    "start_time": "2022-06-04T10:05:46.207Z"
   },
   {
    "duration": 5,
    "start_time": "2022-06-04T10:06:21.279Z"
   },
   {
    "duration": 52,
    "start_time": "2022-06-04T10:06:21.286Z"
   },
   {
    "duration": 17,
    "start_time": "2022-06-04T10:06:21.340Z"
   },
   {
    "duration": 30,
    "start_time": "2022-06-04T10:06:21.360Z"
   },
   {
    "duration": 4,
    "start_time": "2022-06-04T10:06:21.392Z"
   },
   {
    "duration": 10,
    "start_time": "2022-06-04T10:06:21.397Z"
   },
   {
    "duration": 31,
    "start_time": "2022-06-04T10:06:21.409Z"
   },
   {
    "duration": 56,
    "start_time": "2022-06-04T10:06:21.442Z"
   },
   {
    "duration": 13,
    "start_time": "2022-06-04T10:06:21.501Z"
   },
   {
    "duration": 5319,
    "start_time": "2022-06-04T10:06:21.516Z"
   },
   {
    "duration": 1647,
    "start_time": "2022-06-04T10:06:26.841Z"
   },
   {
    "duration": 1245,
    "start_time": "2022-06-04T10:06:50.591Z"
   },
   {
    "duration": 43,
    "start_time": "2022-06-04T10:06:51.841Z"
   },
   {
    "duration": 18,
    "start_time": "2022-06-04T10:06:51.886Z"
   },
   {
    "duration": 14,
    "start_time": "2022-06-04T10:06:51.906Z"
   },
   {
    "duration": 7,
    "start_time": "2022-06-04T10:06:51.922Z"
   },
   {
    "duration": 26,
    "start_time": "2022-06-04T10:06:51.933Z"
   },
   {
    "duration": 10,
    "start_time": "2022-06-04T10:06:51.960Z"
   },
   {
    "duration": 45,
    "start_time": "2022-06-04T10:06:51.972Z"
   },
   {
    "duration": 27,
    "start_time": "2022-06-04T10:06:52.020Z"
   },
   {
    "duration": 4035,
    "start_time": "2022-06-04T10:06:52.050Z"
   },
   {
    "duration": 1662,
    "start_time": "2022-06-04T10:06:56.087Z"
   },
   {
    "duration": 20,
    "start_time": "2022-06-04T10:07:04.841Z"
   },
   {
    "duration": 8,
    "start_time": "2022-06-04T10:29:20.935Z"
   },
   {
    "duration": 5,
    "start_time": "2022-06-04T10:45:48.324Z"
   },
   {
    "duration": 150,
    "start_time": "2022-06-04T10:46:15.033Z"
   },
   {
    "duration": 5,
    "start_time": "2022-06-04T10:46:36.330Z"
   },
   {
    "duration": 33,
    "start_time": "2022-06-04T10:46:38.207Z"
   },
   {
    "duration": 4,
    "start_time": "2022-06-04T10:46:58.147Z"
   },
   {
    "duration": 30,
    "start_time": "2022-06-04T10:47:00.107Z"
   },
   {
    "duration": 4,
    "start_time": "2022-06-04T10:47:05.995Z"
   },
   {
    "duration": 26,
    "start_time": "2022-06-04T10:47:08.342Z"
   },
   {
    "duration": 4,
    "start_time": "2022-06-04T10:47:19.083Z"
   },
   {
    "duration": 28,
    "start_time": "2022-06-04T10:47:21.087Z"
   },
   {
    "duration": 4,
    "start_time": "2022-06-04T10:48:42.956Z"
   },
   {
    "duration": 31,
    "start_time": "2022-06-04T10:48:45.007Z"
   },
   {
    "duration": 3,
    "start_time": "2022-06-04T10:55:00.188Z"
   },
   {
    "duration": 34,
    "start_time": "2022-06-04T10:55:43.338Z"
   },
   {
    "duration": 146,
    "start_time": "2022-06-04T10:55:56.124Z"
   },
   {
    "duration": 43,
    "start_time": "2022-06-04T10:58:43.312Z"
   },
   {
    "duration": 422,
    "start_time": "2022-06-04T10:59:03.720Z"
   },
   {
    "duration": 488,
    "start_time": "2022-06-04T11:02:13.188Z"
   },
   {
    "duration": 382,
    "start_time": "2022-06-04T11:02:38.844Z"
   },
   {
    "duration": 5,
    "start_time": "2022-06-04T11:11:00.692Z"
   },
   {
    "duration": 56,
    "start_time": "2022-06-04T11:11:03.396Z"
   },
   {
    "duration": 5,
    "start_time": "2022-06-04T11:11:36.390Z"
   },
   {
    "duration": 57,
    "start_time": "2022-06-04T11:11:49.809Z"
   },
   {
    "duration": 478,
    "start_time": "2022-06-04T11:11:54.395Z"
   },
   {
    "duration": 54,
    "start_time": "2022-06-06T03:14:14.958Z"
   },
   {
    "duration": 1373,
    "start_time": "2022-06-06T03:14:27.242Z"
   },
   {
    "duration": 73,
    "start_time": "2022-06-06T03:14:28.617Z"
   },
   {
    "duration": 14,
    "start_time": "2022-06-06T03:14:28.692Z"
   },
   {
    "duration": 11,
    "start_time": "2022-06-06T03:14:28.709Z"
   },
   {
    "duration": 2,
    "start_time": "2022-06-06T03:14:28.722Z"
   },
   {
    "duration": 6,
    "start_time": "2022-06-06T03:14:28.726Z"
   },
   {
    "duration": 9,
    "start_time": "2022-06-06T03:14:28.733Z"
   },
   {
    "duration": 42,
    "start_time": "2022-06-06T03:14:28.743Z"
   },
   {
    "duration": 11,
    "start_time": "2022-06-06T03:14:28.787Z"
   },
   {
    "duration": 3378,
    "start_time": "2022-06-06T03:14:28.801Z"
   },
   {
    "duration": 1390,
    "start_time": "2022-06-06T03:14:32.180Z"
   },
   {
    "duration": 11,
    "start_time": "2022-06-06T03:14:33.572Z"
   },
   {
    "duration": 18,
    "start_time": "2022-06-06T03:14:33.584Z"
   },
   {
    "duration": 23,
    "start_time": "2022-06-06T03:14:33.603Z"
   },
   {
    "duration": 136,
    "start_time": "2022-06-06T03:14:33.627Z"
   },
   {
    "duration": 349,
    "start_time": "2022-06-06T03:14:33.765Z"
   },
   {
    "duration": 1166,
    "start_time": "2022-06-06T03:15:33.747Z"
   },
   {
    "duration": 35,
    "start_time": "2022-06-06T03:15:34.915Z"
   },
   {
    "duration": 12,
    "start_time": "2022-06-06T03:15:34.952Z"
   },
   {
    "duration": 11,
    "start_time": "2022-06-06T03:15:34.965Z"
   },
   {
    "duration": 3,
    "start_time": "2022-06-06T03:15:34.977Z"
   },
   {
    "duration": 14,
    "start_time": "2022-06-06T03:15:34.981Z"
   },
   {
    "duration": 19,
    "start_time": "2022-06-06T03:15:34.996Z"
   },
   {
    "duration": 43,
    "start_time": "2022-06-06T03:15:35.016Z"
   },
   {
    "duration": 11,
    "start_time": "2022-06-06T03:15:35.060Z"
   },
   {
    "duration": 3242,
    "start_time": "2022-06-06T03:15:35.072Z"
   },
   {
    "duration": 1334,
    "start_time": "2022-06-06T03:15:38.316Z"
   },
   {
    "duration": 10,
    "start_time": "2022-06-06T03:15:39.652Z"
   },
   {
    "duration": 7,
    "start_time": "2022-06-06T03:15:39.664Z"
   },
   {
    "duration": 4,
    "start_time": "2022-06-06T03:15:39.673Z"
   },
   {
    "duration": 29,
    "start_time": "2022-06-06T03:15:39.679Z"
   },
   {
    "duration": 433,
    "start_time": "2022-06-06T03:15:39.709Z"
   },
   {
    "duration": 113,
    "start_time": "2022-06-06T03:15:40.143Z"
   },
   {
    "duration": 0,
    "start_time": "2022-06-06T03:15:40.257Z"
   },
   {
    "duration": 0,
    "start_time": "2022-06-06T03:15:40.258Z"
   },
   {
    "duration": 0,
    "start_time": "2022-06-06T03:15:40.259Z"
   },
   {
    "duration": 0,
    "start_time": "2022-06-06T03:15:40.260Z"
   },
   {
    "duration": 9,
    "start_time": "2022-06-06T03:20:34.054Z"
   },
   {
    "duration": 8,
    "start_time": "2022-06-06T03:22:08.799Z"
   },
   {
    "duration": 7,
    "start_time": "2022-06-06T03:22:15.572Z"
   },
   {
    "duration": 556,
    "start_time": "2022-06-06T03:24:31.871Z"
   },
   {
    "duration": 96717,
    "start_time": "2022-06-06T03:26:42.234Z"
   },
   {
    "duration": 1266,
    "start_time": "2022-06-06T03:35:18.763Z"
   },
   {
    "duration": 4,
    "start_time": "2022-06-06T03:36:56.902Z"
   },
   {
    "duration": 15,
    "start_time": "2022-06-06T03:37:49.332Z"
   },
   {
    "duration": 902,
    "start_time": "2022-06-06T03:45:36.326Z"
   },
   {
    "duration": 14,
    "start_time": "2022-06-06T03:45:42.726Z"
   },
   {
    "duration": 1275,
    "start_time": "2022-06-06T03:58:08.965Z"
   },
   {
    "duration": 14,
    "start_time": "2022-06-06T03:58:11.994Z"
   },
   {
    "duration": 1345,
    "start_time": "2022-06-06T04:02:00.682Z"
   },
   {
    "duration": 14,
    "start_time": "2022-06-06T04:02:04.036Z"
   },
   {
    "duration": 5,
    "start_time": "2022-06-06T04:26:24.040Z"
   },
   {
    "duration": 6,
    "start_time": "2022-06-06T04:26:33.956Z"
   },
   {
    "duration": 14,
    "start_time": "2022-06-06T04:27:18.607Z"
   },
   {
    "duration": 6,
    "start_time": "2022-06-06T04:27:29.696Z"
   },
   {
    "duration": 8,
    "start_time": "2022-06-06T04:28:27.818Z"
   },
   {
    "duration": 7,
    "start_time": "2022-06-06T04:28:41.503Z"
   },
   {
    "duration": 9,
    "start_time": "2022-06-06T04:29:10.208Z"
   },
   {
    "duration": 6,
    "start_time": "2022-06-06T04:29:54.712Z"
   },
   {
    "duration": 14,
    "start_time": "2022-06-06T04:30:03.629Z"
   },
   {
    "duration": 14,
    "start_time": "2022-06-06T04:32:13.392Z"
   },
   {
    "duration": 13,
    "start_time": "2022-06-06T04:33:11.221Z"
   },
   {
    "duration": 87,
    "start_time": "2022-06-06T04:34:25.159Z"
   },
   {
    "duration": 4,
    "start_time": "2022-06-06T05:18:56.175Z"
   },
   {
    "duration": 16,
    "start_time": "2022-06-06T05:20:37.288Z"
   },
   {
    "duration": 25,
    "start_time": "2022-06-06T05:21:20.348Z"
   },
   {
    "duration": 21,
    "start_time": "2022-06-06T05:22:02.943Z"
   },
   {
    "duration": 7504,
    "start_time": "2022-06-06T05:22:34.368Z"
   },
   {
    "duration": 7874,
    "start_time": "2022-06-06T05:23:58.339Z"
   },
   {
    "duration": 1287,
    "start_time": "2022-06-06T08:47:07.762Z"
   },
   {
    "duration": 35,
    "start_time": "2022-06-06T08:47:09.051Z"
   },
   {
    "duration": 14,
    "start_time": "2022-06-06T08:47:09.088Z"
   },
   {
    "duration": 12,
    "start_time": "2022-06-06T08:47:09.104Z"
   },
   {
    "duration": 3,
    "start_time": "2022-06-06T08:47:09.118Z"
   },
   {
    "duration": 22,
    "start_time": "2022-06-06T08:47:09.122Z"
   },
   {
    "duration": 15,
    "start_time": "2022-06-06T08:47:09.145Z"
   },
   {
    "duration": 42,
    "start_time": "2022-06-06T08:47:09.162Z"
   },
   {
    "duration": 10,
    "start_time": "2022-06-06T08:47:09.206Z"
   },
   {
    "duration": 3730,
    "start_time": "2022-06-06T08:47:09.226Z"
   },
   {
    "duration": 1456,
    "start_time": "2022-06-06T08:47:12.958Z"
   },
   {
    "duration": 15,
    "start_time": "2022-06-06T08:47:14.416Z"
   },
   {
    "duration": 20,
    "start_time": "2022-06-06T08:47:14.442Z"
   },
   {
    "duration": 26,
    "start_time": "2022-06-06T08:47:14.463Z"
   },
   {
    "duration": 170,
    "start_time": "2022-06-06T08:47:14.490Z"
   },
   {
    "duration": 387,
    "start_time": "2022-06-06T08:47:14.661Z"
   },
   {
    "duration": 7,
    "start_time": "2022-06-06T08:47:15.050Z"
   },
   {
    "duration": 110487,
    "start_time": "2022-06-06T08:47:15.058Z"
   },
   {
    "duration": 1490,
    "start_time": "2022-06-06T08:49:05.548Z"
   },
   {
    "duration": 116,
    "start_time": "2022-06-06T08:49:07.041Z"
   },
   {
    "duration": 78,
    "start_time": "2022-06-06T08:49:07.160Z"
   },
   {
    "duration": 8727,
    "start_time": "2022-06-06T08:49:07.240Z"
   }
  ],
  "kernelspec": {
   "display_name": "Python 3 (ipykernel)",
   "language": "python",
   "name": "python3"
  },
  "language_info": {
   "codemirror_mode": {
    "name": "ipython",
    "version": 3
   },
   "file_extension": ".py",
   "mimetype": "text/x-python",
   "name": "python",
   "nbconvert_exporter": "python",
   "pygments_lexer": "ipython3",
   "version": "3.10.1"
  },
  "toc": {
   "base_numbering": 1,
   "nav_menu": {},
   "number_sections": true,
   "sideBar": true,
   "skip_h1_title": true,
   "title_cell": "Table of Contents",
   "title_sidebar": "Contents",
   "toc_cell": false,
   "toc_position": {
    "height": "calc(100% - 180px)",
    "left": "10px",
    "top": "150px",
    "width": "384px"
   },
   "toc_section_display": true,
   "toc_window_display": true
  }
 },
 "nbformat": 4,
 "nbformat_minor": 2
}
