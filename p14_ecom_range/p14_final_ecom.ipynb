{
 "cells": [
  {
   "cell_type": "markdown",
   "metadata": {},
   "source": [
    "# E-commerce — Анализ товарного ассортимента"
   ]
  },
  {
   "cell_type": "markdown",
   "metadata": {},
   "source": [
    "## Материалы"
   ]
  },
  {
   "cell_type": "markdown",
   "metadata": {},
   "source": [
    "[Презентация](https://docs.google.com/presentation/d/1_10B8yOrLyYag0A-_JhzTrF7_laM3HJaGtUjmY3fIe8/edit?usp=sharing)"
   ]
  },
  {
   "cell_type": "markdown",
   "metadata": {},
   "source": [
    "## Цель исследования"
   ]
  },
  {
   "cell_type": "markdown",
   "metadata": {},
   "source": [
    "Менеджер проекта, ответственный за ассортимент интернет-магазина товаров для дома и быта «Пока\n",
    "все ещё тут», поставил задачу проанализирвать продажи и дать рекомендации для:\n",
    "- оптимизации асортимента, \n",
    "- увеличения выручки."
   ]
  },
  {
   "cell_type": "markdown",
   "metadata": {},
   "source": [
    "## Знакомство с данными"
   ]
  },
  {
   "cell_type": "markdown",
   "metadata": {},
   "source": [
    "### Загрузка библиотек"
   ]
  },
  {
   "cell_type": "code",
   "execution_count": 1,
   "metadata": {},
   "outputs": [],
   "source": [
    "import pandas as pd\n",
    "import numpy as np\n",
    "\n",
    "import scipy.stats as stats\n",
    "from scipy import stats as st\n",
    "import math as mth\n",
    "\n",
    "import matplotlib.pyplot as plt \n",
    "import seaborn as sns\n",
    "\n",
    "from pymystem3 import Mystem\n",
    "m = Mystem()\n",
    "from collections import Counter\n",
    "\n",
    "import re\n",
    "\n",
    "pd.options.display.max_colwidth = 100\n",
    "\n",
    "import warnings\n",
    "warnings.simplefilter(\"ignore\")"
   ]
  },
  {
   "cell_type": "markdown",
   "metadata": {},
   "source": [
    "### Загрузка данных"
   ]
  },
  {
   "cell_type": "code",
   "execution_count": 2,
   "metadata": {},
   "outputs": [
    {
     "data": {
      "text/plain": [
       "(6737, 6)"
      ]
     },
     "execution_count": 2,
     "metadata": {},
     "output_type": "execute_result"
    }
   ],
   "source": [
    "df = pd.read_csv('/datasets/ecommerce_dataset.csv')\n",
    "df.shape"
   ]
  },
  {
   "cell_type": "code",
   "execution_count": 3,
   "metadata": {
    "scrolled": false
   },
   "outputs": [
    {
     "data": {
      "text/html": [
       "<div>\n",
       "<style scoped>\n",
       "    .dataframe tbody tr th:only-of-type {\n",
       "        vertical-align: middle;\n",
       "    }\n",
       "\n",
       "    .dataframe tbody tr th {\n",
       "        vertical-align: top;\n",
       "    }\n",
       "\n",
       "    .dataframe thead th {\n",
       "        text-align: right;\n",
       "    }\n",
       "</style>\n",
       "<table border=\"1\" class=\"dataframe\">\n",
       "  <thead>\n",
       "    <tr style=\"text-align: right;\">\n",
       "      <th></th>\n",
       "      <th>date</th>\n",
       "      <th>customer_id</th>\n",
       "      <th>order_id</th>\n",
       "      <th>product</th>\n",
       "      <th>quantity</th>\n",
       "      <th>price</th>\n",
       "    </tr>\n",
       "  </thead>\n",
       "  <tbody>\n",
       "    <tr>\n",
       "      <th>333</th>\n",
       "      <td>2018101922</td>\n",
       "      <td>6f1a9a1a-0322-46e4-a692-0f253fdcd1ce</td>\n",
       "      <td>14490</td>\n",
       "      <td>Пеларгония зональная диам. 12 см малиновая с красным полумахровая</td>\n",
       "      <td>1</td>\n",
       "      <td>150.0</td>\n",
       "    </tr>\n",
       "    <tr>\n",
       "      <th>4806</th>\n",
       "      <td>2019060716</td>\n",
       "      <td>db77c238-3c80-4032-9e3c-c30a43f4a650</td>\n",
       "      <td>14835</td>\n",
       "      <td>Калибрахоа Mini Famous Double Blue фиолетовая махровая объем 0,5 л</td>\n",
       "      <td>1</td>\n",
       "      <td>90.0</td>\n",
       "    </tr>\n",
       "    <tr>\n",
       "      <th>5375</th>\n",
       "      <td>2019061610</td>\n",
       "      <td>1d6c8c1f-a799-4418-9af2-1ded47d7a85c</td>\n",
       "      <td>14833</td>\n",
       "      <td>Рассада Огурец Кристина ячейки по 6 шт Е6</td>\n",
       "      <td>1</td>\n",
       "      <td>120.0</td>\n",
       "    </tr>\n",
       "    <tr>\n",
       "      <th>2900</th>\n",
       "      <td>2019041616</td>\n",
       "      <td>0184f535-b60a-4914-a982-231e3f615206</td>\n",
       "      <td>14649</td>\n",
       "      <td>Львиный зев рассада однолетних цветов в кассете по 6 шт</td>\n",
       "      <td>1</td>\n",
       "      <td>128.0</td>\n",
       "    </tr>\n",
       "    <tr>\n",
       "      <th>1113</th>\n",
       "      <td>2018120517</td>\n",
       "      <td>34c0b91c-c8cc-4a47-98c6-f55cdfc287fb</td>\n",
       "      <td>69221</td>\n",
       "      <td>Корзина для белья пластмассовая 45 л угловая С299 1704006</td>\n",
       "      <td>1</td>\n",
       "      <td>697.0</td>\n",
       "    </tr>\n",
       "  </tbody>\n",
       "</table>\n",
       "</div>"
      ],
      "text/plain": [
       "            date                           customer_id  order_id  \\\n",
       "333   2018101922  6f1a9a1a-0322-46e4-a692-0f253fdcd1ce     14490   \n",
       "4806  2019060716  db77c238-3c80-4032-9e3c-c30a43f4a650     14835   \n",
       "5375  2019061610  1d6c8c1f-a799-4418-9af2-1ded47d7a85c     14833   \n",
       "2900  2019041616  0184f535-b60a-4914-a982-231e3f615206     14649   \n",
       "1113  2018120517  34c0b91c-c8cc-4a47-98c6-f55cdfc287fb     69221   \n",
       "\n",
       "                                                                 product  \\\n",
       "333    Пеларгония зональная диам. 12 см малиновая с красным полумахровая   \n",
       "4806  Калибрахоа Mini Famous Double Blue фиолетовая махровая объем 0,5 л   \n",
       "5375                           Рассада Огурец Кристина ячейки по 6 шт Е6   \n",
       "2900             Львиный зев рассада однолетних цветов в кассете по 6 шт   \n",
       "1113           Корзина для белья пластмассовая 45 л угловая С299 1704006   \n",
       "\n",
       "      quantity  price  \n",
       "333          1  150.0  \n",
       "4806         1   90.0  \n",
       "5375         1  120.0  \n",
       "2900         1  128.0  \n",
       "1113         1  697.0  "
      ]
     },
     "execution_count": 3,
     "metadata": {},
     "output_type": "execute_result"
    }
   ],
   "source": [
    "df.sample(5)"
   ]
  },
  {
   "cell_type": "markdown",
   "metadata": {},
   "source": [
    "### Описание данных"
   ]
  },
  {
   "cell_type": "markdown",
   "metadata": {},
   "source": [
    "В нашем распоряжении таблица из 6737 строк и 6 столбцов. \n",
    "\n",
    "Датасет описывает транзакции интернет-магазина товаров для дома и быта «Пока все ещё тут».\n",
    "- date — дата заказа;\n",
    "- customer_id — идентификатор покупателя;\n",
    "- order_id — идентификатор заказа;\n",
    "- product — наименование товара;\n",
    "- quantity — количество товара в заказе;\n",
    "- price — цена товара.\n",
    "\n",
    "\n"
   ]
  },
  {
   "cell_type": "markdown",
   "metadata": {},
   "source": [
    "## Предобработка данных"
   ]
  },
  {
   "cell_type": "markdown",
   "metadata": {},
   "source": [
    "### Типы данных и пропуски"
   ]
  },
  {
   "cell_type": "code",
   "execution_count": 4,
   "metadata": {},
   "outputs": [
    {
     "name": "stdout",
     "output_type": "stream",
     "text": [
      "<class 'pandas.core.frame.DataFrame'>\n",
      "RangeIndex: 6737 entries, 0 to 6736\n",
      "Data columns (total 6 columns):\n",
      " #   Column       Non-Null Count  Dtype  \n",
      "---  ------       --------------  -----  \n",
      " 0   date         6737 non-null   int64  \n",
      " 1   customer_id  6737 non-null   object \n",
      " 2   order_id     6737 non-null   int64  \n",
      " 3   product      6737 non-null   object \n",
      " 4   quantity     6737 non-null   int64  \n",
      " 5   price        6737 non-null   float64\n",
      "dtypes: float64(1), int64(3), object(2)\n",
      "memory usage: 315.9+ KB\n"
     ]
    }
   ],
   "source": [
    "df.info()"
   ]
  },
  {
   "cell_type": "markdown",
   "metadata": {},
   "source": [
    "Пропусков не обнаружено. Типы данных нас устраивают, за исключением столбца 'date', который приведем к типу datetime:"
   ]
  },
  {
   "cell_type": "code",
   "execution_count": 5,
   "metadata": {},
   "outputs": [
    {
     "data": {
      "text/html": [
       "<div>\n",
       "<style scoped>\n",
       "    .dataframe tbody tr th:only-of-type {\n",
       "        vertical-align: middle;\n",
       "    }\n",
       "\n",
       "    .dataframe tbody tr th {\n",
       "        vertical-align: top;\n",
       "    }\n",
       "\n",
       "    .dataframe thead th {\n",
       "        text-align: right;\n",
       "    }\n",
       "</style>\n",
       "<table border=\"1\" class=\"dataframe\">\n",
       "  <thead>\n",
       "    <tr style=\"text-align: right;\">\n",
       "      <th></th>\n",
       "      <th>date</th>\n",
       "      <th>customer_id</th>\n",
       "      <th>order_id</th>\n",
       "      <th>product</th>\n",
       "      <th>quantity</th>\n",
       "      <th>price</th>\n",
       "    </tr>\n",
       "  </thead>\n",
       "  <tbody>\n",
       "    <tr>\n",
       "      <th>6576</th>\n",
       "      <td>2019-10-10 22:00:00</td>\n",
       "      <td>31a39955-8a93-42f3-8839-04a9693632a7</td>\n",
       "      <td>72778</td>\n",
       "      <td>Шеффлера Голд Капелла d-12 см h-25 см</td>\n",
       "      <td>1</td>\n",
       "      <td>149.0</td>\n",
       "    </tr>\n",
       "    <tr>\n",
       "      <th>416</th>\n",
       "      <td>2018-10-26 13:00:00</td>\n",
       "      <td>9f1e7d7d-ff10-4eb1-b596-1cbf8075aa3f</td>\n",
       "      <td>68760</td>\n",
       "      <td>Вешалка деревянная с расширенными плечиками и перекладиной 44,5х23 см см серый JAPANESE BLACK VA...</td>\n",
       "      <td>8</td>\n",
       "      <td>262.0</td>\n",
       "    </tr>\n",
       "    <tr>\n",
       "      <th>6355</th>\n",
       "      <td>2019-09-18 21:00:00</td>\n",
       "      <td>a35f9963-ce9a-4cb5-b954-f1b6206ec0ac</td>\n",
       "      <td>72689</td>\n",
       "      <td>Мята перечная Тач Tachi d-7 см h-10 см мандариновая мята укорененный черенок</td>\n",
       "      <td>1</td>\n",
       "      <td>74.0</td>\n",
       "    </tr>\n",
       "  </tbody>\n",
       "</table>\n",
       "</div>"
      ],
      "text/plain": [
       "                    date                           customer_id  order_id  \\\n",
       "6576 2019-10-10 22:00:00  31a39955-8a93-42f3-8839-04a9693632a7     72778   \n",
       "416  2018-10-26 13:00:00  9f1e7d7d-ff10-4eb1-b596-1cbf8075aa3f     68760   \n",
       "6355 2019-09-18 21:00:00  a35f9963-ce9a-4cb5-b954-f1b6206ec0ac     72689   \n",
       "\n",
       "                                                                                                  product  \\\n",
       "6576                                                                Шеффлера Голд Капелла d-12 см h-25 см   \n",
       "416   Вешалка деревянная с расширенными плечиками и перекладиной 44,5х23 см см серый JAPANESE BLACK VA...   \n",
       "6355                         Мята перечная Тач Tachi d-7 см h-10 см мандариновая мята укорененный черенок   \n",
       "\n",
       "      quantity  price  \n",
       "6576         1  149.0  \n",
       "416          8  262.0  \n",
       "6355         1   74.0  "
      ]
     },
     "execution_count": 5,
     "metadata": {},
     "output_type": "execute_result"
    }
   ],
   "source": [
    "df['date'] = pd.to_datetime(df['date'], format='%Y%m%d%H')\n",
    "df.sample(3)"
   ]
  },
  {
   "cell_type": "markdown",
   "metadata": {},
   "source": [
    "Также на всякий случай переведем номера заказов из целочисленного типа в текст, чтобы не оперировать ими как числами:"
   ]
  },
  {
   "cell_type": "code",
   "execution_count": 6,
   "metadata": {},
   "outputs": [
    {
     "data": {
      "text/plain": [
       "dtype('O')"
      ]
     },
     "execution_count": 6,
     "metadata": {},
     "output_type": "execute_result"
    }
   ],
   "source": [
    "df['order_id'] = df['order_id'].astype('str')\n",
    "df['order_id'].dtype"
   ]
  },
  {
   "cell_type": "markdown",
   "metadata": {},
   "source": [
    "### Дубликаты"
   ]
  },
  {
   "cell_type": "code",
   "execution_count": 7,
   "metadata": {},
   "outputs": [
    {
     "data": {
      "text/plain": [
       "0"
      ]
     },
     "execution_count": 7,
     "metadata": {},
     "output_type": "execute_result"
    }
   ],
   "source": [
    "df.duplicated().sum()"
   ]
  },
  {
   "cell_type": "markdown",
   "metadata": {},
   "source": [
    "Явные дубликаты не обнаружены. Попробуем найти неявные, для этого проверим коректность присвоения номеров заказов:"
   ]
  },
  {
   "cell_type": "markdown",
   "metadata": {},
   "source": [
    "Посмотрим, не используются ли у нас одинаковые номера заказов для разных покупателей:"
   ]
  },
  {
   "cell_type": "code",
   "execution_count": 8,
   "metadata": {},
   "outputs": [
    {
     "name": "stdout",
     "output_type": "stream",
     "text": [
      "(29, 2)\n"
     ]
    },
    {
     "data": {
      "text/html": [
       "<div>\n",
       "<style scoped>\n",
       "    .dataframe tbody tr th:only-of-type {\n",
       "        vertical-align: middle;\n",
       "    }\n",
       "\n",
       "    .dataframe tbody tr th {\n",
       "        vertical-align: top;\n",
       "    }\n",
       "\n",
       "    .dataframe thead th {\n",
       "        text-align: right;\n",
       "    }\n",
       "</style>\n",
       "<table border=\"1\" class=\"dataframe\">\n",
       "  <thead>\n",
       "    <tr style=\"text-align: right;\">\n",
       "      <th></th>\n",
       "      <th>order_id</th>\n",
       "      <th>customer_id</th>\n",
       "    </tr>\n",
       "  </thead>\n",
       "  <tbody>\n",
       "    <tr>\n",
       "      <th>2610</th>\n",
       "      <td>72845</td>\n",
       "      <td>4</td>\n",
       "    </tr>\n",
       "    <tr>\n",
       "      <th>902</th>\n",
       "      <td>69485</td>\n",
       "      <td>3</td>\n",
       "    </tr>\n",
       "    <tr>\n",
       "      <th>1914</th>\n",
       "      <td>71480</td>\n",
       "      <td>3</td>\n",
       "    </tr>\n",
       "    <tr>\n",
       "      <th>248</th>\n",
       "      <td>14872</td>\n",
       "      <td>2</td>\n",
       "    </tr>\n",
       "    <tr>\n",
       "      <th>1651</th>\n",
       "      <td>70946</td>\n",
       "      <td>2</td>\n",
       "    </tr>\n",
       "  </tbody>\n",
       "</table>\n",
       "</div>"
      ],
      "text/plain": [
       "     order_id  customer_id\n",
       "2610    72845            4\n",
       "902     69485            3\n",
       "1914    71480            3\n",
       "248     14872            2\n",
       "1651    70946            2"
      ]
     },
     "execution_count": 8,
     "metadata": {},
     "output_type": "execute_result"
    }
   ],
   "source": [
    "orders_duplicates_1 = df.groupby('order_id').agg({'customer_id':'nunique'})\\\n",
    "                    .reset_index()\\\n",
    "                    .query('customer_id > 1')\\\n",
    "                    .sort_values(by='customer_id', ascending=False)\n",
    "\n",
    "print(orders_duplicates_1.shape)\n",
    "orders_duplicates_1.head()"
   ]
  },
  {
   "cell_type": "markdown",
   "metadata": {},
   "source": [
    "Итак, 29 номеров заказов присвоены сразу нескольким покупателям - от 2х до 4х. Проверим сколько строк, содержат повторяющиеся номера заказов:"
   ]
  },
  {
   "cell_type": "code",
   "execution_count": 9,
   "metadata": {},
   "outputs": [
    {
     "data": {
      "text/plain": [
       "(89, 6)"
      ]
     },
     "execution_count": 9,
     "metadata": {},
     "output_type": "execute_result"
    }
   ],
   "source": [
    "wrong_orders_1 = orders_duplicates_1['order_id'].to_list()\n",
    "\n",
    "df.query('order_id in @wrong_orders_1').shape"
   ]
  },
  {
   "cell_type": "markdown",
   "metadata": {},
   "source": [
    "89 записей содержат дублирующиеся номера заказов. Посмотрим, что это за записи на примере одного заказа (примечание: я проверила 5 номеров заказов):"
   ]
  },
  {
   "cell_type": "code",
   "execution_count": 10,
   "metadata": {},
   "outputs": [
    {
     "data": {
      "text/html": [
       "<div>\n",
       "<style scoped>\n",
       "    .dataframe tbody tr th:only-of-type {\n",
       "        vertical-align: middle;\n",
       "    }\n",
       "\n",
       "    .dataframe tbody tr th {\n",
       "        vertical-align: top;\n",
       "    }\n",
       "\n",
       "    .dataframe thead th {\n",
       "        text-align: right;\n",
       "    }\n",
       "</style>\n",
       "<table border=\"1\" class=\"dataframe\">\n",
       "  <thead>\n",
       "    <tr style=\"text-align: right;\">\n",
       "      <th></th>\n",
       "      <th>date</th>\n",
       "      <th>customer_id</th>\n",
       "      <th>order_id</th>\n",
       "      <th>product</th>\n",
       "      <th>quantity</th>\n",
       "      <th>price</th>\n",
       "    </tr>\n",
       "  </thead>\n",
       "  <tbody>\n",
       "    <tr>\n",
       "      <th>6504</th>\n",
       "      <td>2019-10-03 14:00:00</td>\n",
       "      <td>d8465f63-35db-4809-aff3-a8f7ebfc257f</td>\n",
       "      <td>72845</td>\n",
       "      <td>Муляж Яблоко зеленый 9 см полиуретан</td>\n",
       "      <td>40</td>\n",
       "      <td>59.0</td>\n",
       "    </tr>\n",
       "    <tr>\n",
       "      <th>6505</th>\n",
       "      <td>2019-10-03 15:00:00</td>\n",
       "      <td>0309d37c-ab5f-4793-ba72-5484c019b840</td>\n",
       "      <td>72845</td>\n",
       "      <td>Муляж Яблоко зеленый 9 см полиуретан</td>\n",
       "      <td>40</td>\n",
       "      <td>59.0</td>\n",
       "    </tr>\n",
       "    <tr>\n",
       "      <th>6508</th>\n",
       "      <td>2019-10-04 08:00:00</td>\n",
       "      <td>25a8cd52-3efa-48ee-a6bd-d413d7e2b42f</td>\n",
       "      <td>72845</td>\n",
       "      <td>Муляж Яблоко зеленый 9 см полиуретан</td>\n",
       "      <td>40</td>\n",
       "      <td>59.0</td>\n",
       "    </tr>\n",
       "    <tr>\n",
       "      <th>6538</th>\n",
       "      <td>2019-10-07 20:00:00</td>\n",
       "      <td>2ac05362-3ca7-4d19-899c-7ba266902611</td>\n",
       "      <td>72845</td>\n",
       "      <td>Муляж Яблоко зеленый 9 см полиуретан</td>\n",
       "      <td>40</td>\n",
       "      <td>59.0</td>\n",
       "    </tr>\n",
       "  </tbody>\n",
       "</table>\n",
       "</div>"
      ],
      "text/plain": [
       "                    date                           customer_id order_id  \\\n",
       "6504 2019-10-03 14:00:00  d8465f63-35db-4809-aff3-a8f7ebfc257f    72845   \n",
       "6505 2019-10-03 15:00:00  0309d37c-ab5f-4793-ba72-5484c019b840    72845   \n",
       "6508 2019-10-04 08:00:00  25a8cd52-3efa-48ee-a6bd-d413d7e2b42f    72845   \n",
       "6538 2019-10-07 20:00:00  2ac05362-3ca7-4d19-899c-7ba266902611    72845   \n",
       "\n",
       "                                   product  quantity  price  \n",
       "6504  Муляж Яблоко зеленый 9 см полиуретан        40   59.0  \n",
       "6505  Муляж Яблоко зеленый 9 см полиуретан        40   59.0  \n",
       "6508  Муляж Яблоко зеленый 9 см полиуретан        40   59.0  \n",
       "6538  Муляж Яблоко зеленый 9 см полиуретан        40   59.0  "
      ]
     },
     "execution_count": 10,
     "metadata": {},
     "output_type": "execute_result"
    }
   ],
   "source": [
    "df.query('order_id == \"72845\"')"
   ]
  },
  {
   "cell_type": "markdown",
   "metadata": {},
   "source": [
    "Разные даты, разные покупатели, все остальное - совпадает. Похоже на техническую ошибку при формировании / выгрузке базы данных.\n",
    "\n",
    "\n",
    "Теперь проверим, не дублируются ли номера заказов для одного и того же покупателя в разные даты:"
   ]
  },
  {
   "cell_type": "code",
   "execution_count": 11,
   "metadata": {},
   "outputs": [
    {
     "name": "stdout",
     "output_type": "stream",
     "text": [
      "(265, 3)\n"
     ]
    },
    {
     "data": {
      "text/html": [
       "<div>\n",
       "<style scoped>\n",
       "    .dataframe tbody tr th:only-of-type {\n",
       "        vertical-align: middle;\n",
       "    }\n",
       "\n",
       "    .dataframe tbody tr th {\n",
       "        vertical-align: top;\n",
       "    }\n",
       "\n",
       "    .dataframe thead th {\n",
       "        text-align: right;\n",
       "    }\n",
       "</style>\n",
       "<table border=\"1\" class=\"dataframe\">\n",
       "  <thead>\n",
       "    <tr style=\"text-align: right;\">\n",
       "      <th></th>\n",
       "      <th>customer_id</th>\n",
       "      <th>order_id</th>\n",
       "      <th>date</th>\n",
       "    </tr>\n",
       "  </thead>\n",
       "  <tbody>\n",
       "    <tr>\n",
       "      <th>307</th>\n",
       "      <td>1d6c8c1f-a799-4418-9af2-1ded47d7a85c</td>\n",
       "      <td>14833</td>\n",
       "      <td>74</td>\n",
       "    </tr>\n",
       "    <tr>\n",
       "      <th>924</th>\n",
       "      <td>57cc80a2-2610-4eef-9457-e7c3bf0c72f0</td>\n",
       "      <td>70960</td>\n",
       "      <td>60</td>\n",
       "    </tr>\n",
       "    <tr>\n",
       "      <th>1477</th>\n",
       "      <td>8c290149-ad54-4d7a-87a7-9386b36390ee</td>\n",
       "      <td>69162</td>\n",
       "      <td>23</td>\n",
       "    </tr>\n",
       "    <tr>\n",
       "      <th>1810</th>\n",
       "      <td>ae6940d3-a1c7-4997-8853-a5b8afc60d51</td>\n",
       "      <td>71148</td>\n",
       "      <td>16</td>\n",
       "    </tr>\n",
       "    <tr>\n",
       "      <th>1044</th>\n",
       "      <td>63b6c7b2-f6c2-4a42-ba02-1910ec67f57e</td>\n",
       "      <td>70419</td>\n",
       "      <td>10</td>\n",
       "    </tr>\n",
       "  </tbody>\n",
       "</table>\n",
       "</div>"
      ],
      "text/plain": [
       "                               customer_id order_id  date\n",
       "307   1d6c8c1f-a799-4418-9af2-1ded47d7a85c    14833    74\n",
       "924   57cc80a2-2610-4eef-9457-e7c3bf0c72f0    70960    60\n",
       "1477  8c290149-ad54-4d7a-87a7-9386b36390ee    69162    23\n",
       "1810  ae6940d3-a1c7-4997-8853-a5b8afc60d51    71148    16\n",
       "1044  63b6c7b2-f6c2-4a42-ba02-1910ec67f57e    70419    10"
      ]
     },
     "execution_count": 11,
     "metadata": {},
     "output_type": "execute_result"
    }
   ],
   "source": [
    "orders_duplicates_2 = df.groupby(['customer_id','order_id']).agg({'date':'nunique'})\\\n",
    "                    .reset_index()\\\n",
    "                    .query('date > 1')\\\n",
    "                    .sort_values(by='date', ascending=False)\n",
    "\n",
    "print(orders_duplicates_2.shape)\n",
    "orders_duplicates_2.head()"
   ]
  },
  {
   "cell_type": "markdown",
   "metadata": {},
   "source": [
    "Как видим, 265 номеров заказов дублируются для одного и того же покупателя в разные даты. Это тоже нетипичная картина. Посчитаем количество строк с проблемными номерами заказов:"
   ]
  },
  {
   "cell_type": "code",
   "execution_count": 12,
   "metadata": {},
   "outputs": [
    {
     "data": {
      "text/plain": [
       "(2427, 6)"
      ]
     },
     "execution_count": 12,
     "metadata": {},
     "output_type": "execute_result"
    }
   ],
   "source": [
    "wrong_orders_2 = orders_duplicates_2['order_id'].to_list()\n",
    "\n",
    "df.query('order_id in @wrong_orders_2').shape"
   ]
  },
  {
   "cell_type": "markdown",
   "metadata": {},
   "source": [
    "В этот раз найдено 2427 записей с дублирующимеся номерами заказов. Посмотрим на эти записи:"
   ]
  },
  {
   "cell_type": "code",
   "execution_count": 13,
   "metadata": {
    "scrolled": true
   },
   "outputs": [
    {
     "data": {
      "text/html": [
       "<div>\n",
       "<style scoped>\n",
       "    .dataframe tbody tr th:only-of-type {\n",
       "        vertical-align: middle;\n",
       "    }\n",
       "\n",
       "    .dataframe tbody tr th {\n",
       "        vertical-align: top;\n",
       "    }\n",
       "\n",
       "    .dataframe thead th {\n",
       "        text-align: right;\n",
       "    }\n",
       "</style>\n",
       "<table border=\"1\" class=\"dataframe\">\n",
       "  <thead>\n",
       "    <tr style=\"text-align: right;\">\n",
       "      <th></th>\n",
       "      <th>date</th>\n",
       "      <th>customer_id</th>\n",
       "      <th>order_id</th>\n",
       "      <th>product</th>\n",
       "      <th>quantity</th>\n",
       "      <th>price</th>\n",
       "    </tr>\n",
       "  </thead>\n",
       "  <tbody>\n",
       "    <tr>\n",
       "      <th>1046</th>\n",
       "      <td>2018-12-01 20:00:00</td>\n",
       "      <td>8c290149-ad54-4d7a-87a7-9386b36390ee</td>\n",
       "      <td>69162</td>\n",
       "      <td>Термометр на окно уличный на липучках Т-5 h-20 см 1210035</td>\n",
       "      <td>2</td>\n",
       "      <td>44.0</td>\n",
       "    </tr>\n",
       "    <tr>\n",
       "      <th>1133</th>\n",
       "      <td>2018-12-08 18:00:00</td>\n",
       "      <td>8c290149-ad54-4d7a-87a7-9386b36390ee</td>\n",
       "      <td>69162</td>\n",
       "      <td>Термометр на окно уличный на липучках Т-5 h-20 см 1210035</td>\n",
       "      <td>2</td>\n",
       "      <td>44.0</td>\n",
       "    </tr>\n",
       "    <tr>\n",
       "      <th>1045</th>\n",
       "      <td>2018-12-01 18:00:00</td>\n",
       "      <td>8c290149-ad54-4d7a-87a7-9386b36390ee</td>\n",
       "      <td>69162</td>\n",
       "      <td>Термометр на окно уличный на липучках Т-5 h-20 см 1210035</td>\n",
       "      <td>2</td>\n",
       "      <td>44.0</td>\n",
       "    </tr>\n",
       "    <tr>\n",
       "      <th>1220</th>\n",
       "      <td>2018-12-16 13:00:00</td>\n",
       "      <td>8c290149-ad54-4d7a-87a7-9386b36390ee</td>\n",
       "      <td>69162</td>\n",
       "      <td>Термометр на окно уличный на липучках Т-5 h-20 см 1210035</td>\n",
       "      <td>2</td>\n",
       "      <td>44.0</td>\n",
       "    </tr>\n",
       "    <tr>\n",
       "      <th>1308</th>\n",
       "      <td>2018-12-22 20:00:00</td>\n",
       "      <td>8c290149-ad54-4d7a-87a7-9386b36390ee</td>\n",
       "      <td>69162</td>\n",
       "      <td>Термометр на окно уличный на липучках Т-5 h-20 см 1210035</td>\n",
       "      <td>2</td>\n",
       "      <td>44.0</td>\n",
       "    </tr>\n",
       "  </tbody>\n",
       "</table>\n",
       "</div>"
      ],
      "text/plain": [
       "                    date                           customer_id order_id  \\\n",
       "1046 2018-12-01 20:00:00  8c290149-ad54-4d7a-87a7-9386b36390ee    69162   \n",
       "1133 2018-12-08 18:00:00  8c290149-ad54-4d7a-87a7-9386b36390ee    69162   \n",
       "1045 2018-12-01 18:00:00  8c290149-ad54-4d7a-87a7-9386b36390ee    69162   \n",
       "1220 2018-12-16 13:00:00  8c290149-ad54-4d7a-87a7-9386b36390ee    69162   \n",
       "1308 2018-12-22 20:00:00  8c290149-ad54-4d7a-87a7-9386b36390ee    69162   \n",
       "\n",
       "                                                        product  quantity  \\\n",
       "1046  Термометр на окно уличный на липучках Т-5 h-20 см 1210035         2   \n",
       "1133  Термометр на окно уличный на липучках Т-5 h-20 см 1210035         2   \n",
       "1045  Термометр на окно уличный на липучках Т-5 h-20 см 1210035         2   \n",
       "1220  Термометр на окно уличный на липучках Т-5 h-20 см 1210035         2   \n",
       "1308  Термометр на окно уличный на липучках Т-5 h-20 см 1210035         2   \n",
       "\n",
       "      price  \n",
       "1046   44.0  \n",
       "1133   44.0  \n",
       "1045   44.0  \n",
       "1220   44.0  \n",
       "1308   44.0  "
      ]
     },
     "execution_count": 13,
     "metadata": {},
     "output_type": "execute_result"
    }
   ],
   "source": [
    "df.query('order_id == \"69162\"').sample(5)"
   ]
  },
  {
   "cell_type": "markdown",
   "metadata": {},
   "source": [
    "Один и тот же человек покупает один и тот же товар в одинаковом количестве несколько раз с интервалом в несколько дней / часов - это на правду не похоже. Явно идет задвоение заказов.\n",
    "\n",
    "Посчитаем дубликаты по всем столбцам кроме номера покупателя и даты:"
   ]
  },
  {
   "cell_type": "code",
   "execution_count": 14,
   "metadata": {},
   "outputs": [
    {
     "data": {
      "text/plain": [
       "1897"
      ]
     },
     "execution_count": 14,
     "metadata": {},
     "output_type": "execute_result"
    }
   ],
   "source": [
    "df.drop(['customer_id', 'date'], axis=1).duplicated().sum()"
   ]
  },
  {
   "cell_type": "code",
   "execution_count": 15,
   "metadata": {},
   "outputs": [
    {
     "name": "stdout",
     "output_type": "stream",
     "text": [
      "Количество неявных дубликатов: 1897, что составляет 28.2% от датасета\n"
     ]
    }
   ],
   "source": [
    "print('Количество неявных дубликатов: {}, что составляет {:.1%} от датасета'\n",
    "      .format(df[['order_id', 'product', 'quantity', 'price']].duplicated().sum(), \n",
    "             df[['order_id', 'product', 'quantity', 'price']].duplicated().sum()/len(df)))"
   ]
  },
  {
   "cell_type": "markdown",
   "metadata": {},
   "source": [
    "Дубликаты составляют почти треть датасета, но удалить их все же придется. Оставим при этом последние записи, как более актуальные. \n",
    "\n",
    "Точная причина задвоения номеров заказов нам не известна, но будем исходить из того, что после того как заказ состоялся, его номер уже не может быть присвоен другому заказу. Т.е. предположим, что предыдущие дубли - это неудачные попытки создать заказ, которые почему-то попали в базу данных как оформленные заказы."
   ]
  },
  {
   "cell_type": "code",
   "execution_count": 16,
   "metadata": {},
   "outputs": [
    {
     "data": {
      "text/plain": [
       "(4840, 6)"
      ]
     },
     "execution_count": 16,
     "metadata": {},
     "output_type": "execute_result"
    }
   ],
   "source": [
    "df = df.drop_duplicates(subset=['order_id','product','quantity','price'], keep='last')\n",
    "df.shape"
   ]
  },
  {
   "cell_type": "markdown",
   "metadata": {},
   "source": [
    "### Вывод"
   ]
  },
  {
   "cell_type": "markdown",
   "metadata": {},
   "source": [
    "В ходе предобработки данных мы\n",
    "- преобразовали тип данных для столбца с датой и временем в datetime\n",
    "- преобразовали столбец с номером заказов в текстовый тип\n",
    "- удалили неявные дубликаты (28% датасета) - задвоения номеров заказов для разных покупателей и для разных дат.\n",
    "\n",
    "В результате в датасете осталось 4840 записей."
   ]
  },
  {
   "cell_type": "markdown",
   "metadata": {},
   "source": [
    "## Исследовательский анализ данных"
   ]
  },
  {
   "cell_type": "markdown",
   "metadata": {},
   "source": [
    "### Характеристики распределения показателей"
   ]
  },
  {
   "cell_type": "markdown",
   "metadata": {},
   "source": [
    "Изучим общую картину продаж и поищем закономерности в данных."
   ]
  },
  {
   "cell_type": "markdown",
   "metadata": {},
   "source": [
    "#### Распределение покупок по дням"
   ]
  },
  {
   "cell_type": "markdown",
   "metadata": {},
   "source": [
    "Для начала посмотрим, с каким периодом мы имеем дело и как распределяются покупки по датам (под покупкой понимаем 1 запись в базе данных):"
   ]
  },
  {
   "cell_type": "code",
   "execution_count": 17,
   "metadata": {},
   "outputs": [
    {
     "name": "stdout",
     "output_type": "stream",
     "text": [
      "Начало периода: 2018-10-01 00:00:00, окончание периода 2019-10-31 16:00:00\n"
     ]
    }
   ],
   "source": [
    "date_min = df['date'].min()\n",
    "date_max = df['date'].max()\n",
    "\n",
    "print(f'Начало периода: {date_min}, окончание периода {date_max}')"
   ]
  },
  {
   "cell_type": "code",
   "execution_count": 18,
   "metadata": {
    "scrolled": true
   },
   "outputs": [
    {
     "data": {
      "image/png": "[encoded data removed]",
      "text/plain": [
       "<Figure size 1008x288 with 1 Axes>"
      ]
     },
     "metadata": {
      "needs_background": "light"
     },
     "output_type": "display_data"
    }
   ],
   "source": [
    "df.date.hist(bins=100, figsize=(14,4));"
   ]
  },
  {
   "cell_type": "markdown",
   "metadata": {},
   "source": [
    "- Анализируемый период - год и один месяц - с октября 2018 по октябрь 2019 г включительно. Интересно, что количество покупок (записей датасета) в октябре 2018 выше, чем в октябре 2019.\n",
    "\n",
    "- Продажи в нашем магазине подвержены сезонным колебаниям.\n",
    "\n",
    "- На гистограмме наблюдаем пики в мае и июне, скорее всего, связанные с началом дачного сезона и праздничными днями. \n",
    "\n",
    "- Заметен спад в конце декабря-начале января, что вполне закономерно, т.к. подготовка к Новому году и закупка праздничных товаров идет обычно заранее. \n",
    "\n",
    "- Также есть спад в конце июня, следующий сразу после пика. Видимо, это временное затишье после массовой скупки сезонных товаров. Либо какие-то технические работы на сайте.\n",
    "\n",
    "В целом распределение покупок по датам выглядит правдоподобно."
   ]
  },
  {
   "cell_type": "markdown",
   "metadata": {},
   "source": [
    "#### Количество покупателей"
   ]
  },
  {
   "cell_type": "code",
   "execution_count": 19,
   "metadata": {},
   "outputs": [
    {
     "data": {
      "text/plain": [
       "2423"
      ]
     },
     "execution_count": 19,
     "metadata": {},
     "output_type": "execute_result"
    }
   ],
   "source": [
    "df['customer_id'].nunique()"
   ]
  },
  {
   "cell_type": "markdown",
   "metadata": {},
   "source": [
    "Наш интернет-магазин за весь период посетили 2 422 покупателя."
   ]
  },
  {
   "cell_type": "markdown",
   "metadata": {},
   "source": [
    "#### Характеристики числовых столбцов"
   ]
  },
  {
   "cell_type": "markdown",
   "metadata": {},
   "source": [
    "Прежде чем выводить описание числовых столбцов, добавим столбец с выручкой, который так и напрашивается при наличии цены и количества:"
   ]
  },
  {
   "cell_type": "code",
   "execution_count": 20,
   "metadata": {},
   "outputs": [
    {
     "data": {
      "text/html": [
       "<div>\n",
       "<style scoped>\n",
       "    .dataframe tbody tr th:only-of-type {\n",
       "        vertical-align: middle;\n",
       "    }\n",
       "\n",
       "    .dataframe tbody tr th {\n",
       "        vertical-align: top;\n",
       "    }\n",
       "\n",
       "    .dataframe thead th {\n",
       "        text-align: right;\n",
       "    }\n",
       "</style>\n",
       "<table border=\"1\" class=\"dataframe\">\n",
       "  <thead>\n",
       "    <tr style=\"text-align: right;\">\n",
       "      <th></th>\n",
       "      <th>date</th>\n",
       "      <th>customer_id</th>\n",
       "      <th>order_id</th>\n",
       "      <th>product</th>\n",
       "      <th>quantity</th>\n",
       "      <th>price</th>\n",
       "      <th>revenue</th>\n",
       "    </tr>\n",
       "  </thead>\n",
       "  <tbody>\n",
       "    <tr>\n",
       "      <th>1058</th>\n",
       "      <td>2018-12-02 15:00:00</td>\n",
       "      <td>036118cf-c198-48fa-ba15-6d841482a56d</td>\n",
       "      <td>69176</td>\n",
       "      <td>Тарелка суповая ВОЛАРЭ БЛЭК 23 см G9402 Luminarc</td>\n",
       "      <td>3</td>\n",
       "      <td>127.0</td>\n",
       "      <td>381.0</td>\n",
       "    </tr>\n",
       "    <tr>\n",
       "      <th>3493</th>\n",
       "      <td>2019-05-09 15:00:00</td>\n",
       "      <td>1809d8b0-c702-450d-a73c-76fc90386411</td>\n",
       "      <td>14742</td>\n",
       "      <td>Фуксия Dark Eyes синяя с красным чашелистом объем 0,5 л</td>\n",
       "      <td>1</td>\n",
       "      <td>112.0</td>\n",
       "      <td>112.0</td>\n",
       "    </tr>\n",
       "    <tr>\n",
       "      <th>2849</th>\n",
       "      <td>2019-04-14 22:00:00</td>\n",
       "      <td>6a5dc143-5814-4d37-93f3-e4414d8adc41</td>\n",
       "      <td>71142</td>\n",
       "      <td>Искусственный цветок Ландыш пластиковый большой белый</td>\n",
       "      <td>10</td>\n",
       "      <td>20.0</td>\n",
       "      <td>200.0</td>\n",
       "    </tr>\n",
       "  </tbody>\n",
       "</table>\n",
       "</div>"
      ],
      "text/plain": [
       "                    date                           customer_id order_id  \\\n",
       "1058 2018-12-02 15:00:00  036118cf-c198-48fa-ba15-6d841482a56d    69176   \n",
       "3493 2019-05-09 15:00:00  1809d8b0-c702-450d-a73c-76fc90386411    14742   \n",
       "2849 2019-04-14 22:00:00  6a5dc143-5814-4d37-93f3-e4414d8adc41    71142   \n",
       "\n",
       "                                                      product  quantity  \\\n",
       "1058         Тарелка суповая ВОЛАРЭ БЛЭК 23 см G9402 Luminarc         3   \n",
       "3493  Фуксия Dark Eyes синяя с красным чашелистом объем 0,5 л         1   \n",
       "2849    Искусственный цветок Ландыш пластиковый большой белый        10   \n",
       "\n",
       "      price  revenue  \n",
       "1058  127.0    381.0  \n",
       "3493  112.0    112.0  \n",
       "2849   20.0    200.0  "
      ]
     },
     "execution_count": 20,
     "metadata": {},
     "output_type": "execute_result"
    }
   ],
   "source": [
    "df['revenue'] = df['price'] * df['quantity']\n",
    "df.sample(3)"
   ]
  },
  {
   "cell_type": "markdown",
   "metadata": {},
   "source": [
    "Теперь можем выводить общие характеристики числовых столбцов:"
   ]
  },
  {
   "cell_type": "code",
   "execution_count": 21,
   "metadata": {
    "scrolled": true
   },
   "outputs": [
    {
     "data": {
      "text/html": [
       "<div>\n",
       "<style scoped>\n",
       "    .dataframe tbody tr th:only-of-type {\n",
       "        vertical-align: middle;\n",
       "    }\n",
       "\n",
       "    .dataframe tbody tr th {\n",
       "        vertical-align: top;\n",
       "    }\n",
       "\n",
       "    .dataframe thead th {\n",
       "        text-align: right;\n",
       "    }\n",
       "</style>\n",
       "<table border=\"1\" class=\"dataframe\">\n",
       "  <thead>\n",
       "    <tr style=\"text-align: right;\">\n",
       "      <th></th>\n",
       "      <th>count</th>\n",
       "      <th>mean</th>\n",
       "      <th>std</th>\n",
       "      <th>min</th>\n",
       "      <th>25%</th>\n",
       "      <th>50%</th>\n",
       "      <th>75%</th>\n",
       "      <th>max</th>\n",
       "    </tr>\n",
       "  </thead>\n",
       "  <tbody>\n",
       "    <tr>\n",
       "      <th>quantity</th>\n",
       "      <td>4840.0</td>\n",
       "      <td>2.815702</td>\n",
       "      <td>17.637293</td>\n",
       "      <td>1.0</td>\n",
       "      <td>1.0</td>\n",
       "      <td>1.0</td>\n",
       "      <td>1.0</td>\n",
       "      <td>1000.0</td>\n",
       "    </tr>\n",
       "    <tr>\n",
       "      <th>price</th>\n",
       "      <td>4840.0</td>\n",
       "      <td>514.925413</td>\n",
       "      <td>945.454941</td>\n",
       "      <td>9.0</td>\n",
       "      <td>90.0</td>\n",
       "      <td>150.0</td>\n",
       "      <td>488.0</td>\n",
       "      <td>14917.0</td>\n",
       "    </tr>\n",
       "    <tr>\n",
       "      <th>revenue</th>\n",
       "      <td>4840.0</td>\n",
       "      <td>850.548347</td>\n",
       "      <td>9840.403436</td>\n",
       "      <td>9.0</td>\n",
       "      <td>120.0</td>\n",
       "      <td>194.0</td>\n",
       "      <td>734.0</td>\n",
       "      <td>675000.0</td>\n",
       "    </tr>\n",
       "  </tbody>\n",
       "</table>\n",
       "</div>"
      ],
      "text/plain": [
       "           count        mean          std  min    25%    50%    75%       max\n",
       "quantity  4840.0    2.815702    17.637293  1.0    1.0    1.0    1.0    1000.0\n",
       "price     4840.0  514.925413   945.454941  9.0   90.0  150.0  488.0   14917.0\n",
       "revenue   4840.0  850.548347  9840.403436  9.0  120.0  194.0  734.0  675000.0"
      ]
     },
     "execution_count": 21,
     "metadata": {},
     "output_type": "execute_result"
    }
   ],
   "source": [
    "df.describe().T"
   ]
  },
  {
   "cell_type": "markdown",
   "metadata": {},
   "source": [
    "- В подавляющем большинстве заказов товары покупаются по 1 шт. Однако встречаются и заказы с 1000 единиц одного наименования. У распределения пик в районе 1 шт и длинный хвост с выбросами справа.\n",
    "\n",
    "- Цены в нашем интерент-магазине варьируются от 9 до 14 917 у.е. Но обычно товары стоят в пределах 500 у.е. Медианная цена (150) ниже средней (515), значит пик у нас слева, а хвост с выбросами - справа.\n",
    "\n",
    "- Стоимость одной позиции в заказе  с учетом количества может составлять от 9 до 675000 у.е., чаще всего - до 700 у.е., медиана (194) ниже среднего (851), распределение также скошено вправо (имеет хвост с выбросами справа).\n",
    "\n",
    "Оценим теперь основные показатели визуально."
   ]
  },
  {
   "cell_type": "markdown",
   "metadata": {},
   "source": [
    "#### Распределение количества одинаковых товаров в заказе"
   ]
  },
  {
   "cell_type": "markdown",
   "metadata": {},
   "source": [
    "Интересно, сколько штук одного наименования покупают чаще всего:"
   ]
  },
  {
   "cell_type": "code",
   "execution_count": 22,
   "metadata": {},
   "outputs": [
    {
     "data": {
      "text/plain": [
       "(0.0, 30.0)"
      ]
     },
     "execution_count": 22,
     "metadata": {},
     "output_type": "execute_result"
    },
    {
     "data": {
      "image/png": "[encoded data removed]",
      "text/plain": [
       "<Figure size 1008x288 with 1 Axes>"
      ]
     },
     "metadata": {
      "needs_background": "light"
     },
     "output_type": "display_data"
    }
   ],
   "source": [
    "df.quantity.hist(bins=1000, figsize=(14,4));\n",
    "plt.ylabel('Частотность')\n",
    "plt.xlabel('Количество шт. одного наименования в заказе')\n",
    "plt.xlim(0,30)"
   ]
  },
  {
   "cell_type": "markdown",
   "metadata": {},
   "source": [
    "Обычно товары покупают по 1 шт. Иногда - по 2-10 шт. Свыше 10 шт - уже большая редкость. Посмотрим на аномальные строки датасета:"
   ]
  },
  {
   "cell_type": "code",
   "execution_count": 23,
   "metadata": {
    "scrolled": true
   },
   "outputs": [
    {
     "name": "stdout",
     "output_type": "stream",
     "text": [
      "Количество строк, где в заказе более 10 шт. одного наименования: 149, доля от всего датасета: 3.1%\n"
     ]
    },
    {
     "data": {
      "text/html": [
       "<div>\n",
       "<style scoped>\n",
       "    .dataframe tbody tr th:only-of-type {\n",
       "        vertical-align: middle;\n",
       "    }\n",
       "\n",
       "    .dataframe tbody tr th {\n",
       "        vertical-align: top;\n",
       "    }\n",
       "\n",
       "    .dataframe thead th {\n",
       "        text-align: right;\n",
       "    }\n",
       "</style>\n",
       "<table border=\"1\" class=\"dataframe\">\n",
       "  <thead>\n",
       "    <tr style=\"text-align: right;\">\n",
       "      <th></th>\n",
       "      <th>date</th>\n",
       "      <th>customer_id</th>\n",
       "      <th>order_id</th>\n",
       "      <th>product</th>\n",
       "      <th>quantity</th>\n",
       "      <th>price</th>\n",
       "      <th>revenue</th>\n",
       "    </tr>\n",
       "  </thead>\n",
       "  <tbody>\n",
       "    <tr>\n",
       "      <th>5456</th>\n",
       "      <td>2019-06-18 15:00:00</td>\n",
       "      <td>312e9a3e-5fca-43ff-a6a1-892d2b2d5ba6</td>\n",
       "      <td>71743</td>\n",
       "      <td>Вантуз с деревянной ручкой d14 см красный, Burstenmann, 0522/0000</td>\n",
       "      <td>1000</td>\n",
       "      <td>675.0</td>\n",
       "      <td>675000.0</td>\n",
       "    </tr>\n",
       "    <tr>\n",
       "      <th>5071</th>\n",
       "      <td>2019-06-11 07:00:00</td>\n",
       "      <td>146cd9bf-a95c-4afb-915b-5f6684b17444</td>\n",
       "      <td>71668</td>\n",
       "      <td>Вешалки мягкие для деликатных вещей 3 шт шоколад</td>\n",
       "      <td>334</td>\n",
       "      <td>148.0</td>\n",
       "      <td>49432.0</td>\n",
       "    </tr>\n",
       "    <tr>\n",
       "      <th>3961</th>\n",
       "      <td>2019-05-20 21:00:00</td>\n",
       "      <td>5d189e88-d4d6-4eac-ab43-fa65a3c4d106</td>\n",
       "      <td>71478</td>\n",
       "      <td>Муляж ЯБЛОКО 9 см красное</td>\n",
       "      <td>300</td>\n",
       "      <td>51.0</td>\n",
       "      <td>15300.0</td>\n",
       "    </tr>\n",
       "    <tr>\n",
       "      <th>1158</th>\n",
       "      <td>2018-12-10 14:00:00</td>\n",
       "      <td>a984c5b7-ff7e-4647-b84e-ef0b85a2762d</td>\n",
       "      <td>69289</td>\n",
       "      <td>Ручка-скоба РС-100 белая *Трибатрон*, 1108035</td>\n",
       "      <td>200</td>\n",
       "      <td>29.0</td>\n",
       "      <td>5800.0</td>\n",
       "    </tr>\n",
       "    <tr>\n",
       "      <th>568</th>\n",
       "      <td>2018-11-01 08:00:00</td>\n",
       "      <td>aa42dc38-780f-4b50-9a65-83b6fa64e766</td>\n",
       "      <td>68815</td>\n",
       "      <td>Муляж ЯБЛОКО 9 см красное</td>\n",
       "      <td>170</td>\n",
       "      <td>51.0</td>\n",
       "      <td>8670.0</td>\n",
       "    </tr>\n",
       "  </tbody>\n",
       "</table>\n",
       "</div>"
      ],
      "text/plain": [
       "                    date                           customer_id order_id  \\\n",
       "5456 2019-06-18 15:00:00  312e9a3e-5fca-43ff-a6a1-892d2b2d5ba6    71743   \n",
       "5071 2019-06-11 07:00:00  146cd9bf-a95c-4afb-915b-5f6684b17444    71668   \n",
       "3961 2019-05-20 21:00:00  5d189e88-d4d6-4eac-ab43-fa65a3c4d106    71478   \n",
       "1158 2018-12-10 14:00:00  a984c5b7-ff7e-4647-b84e-ef0b85a2762d    69289   \n",
       "568  2018-11-01 08:00:00  aa42dc38-780f-4b50-9a65-83b6fa64e766    68815   \n",
       "\n",
       "                                                                product  \\\n",
       "5456  Вантуз с деревянной ручкой d14 см красный, Burstenmann, 0522/0000   \n",
       "5071                   Вешалки мягкие для деликатных вещей 3 шт шоколад   \n",
       "3961                                          Муляж ЯБЛОКО 9 см красное   \n",
       "1158                      Ручка-скоба РС-100 белая *Трибатрон*, 1108035   \n",
       "568                                           Муляж ЯБЛОКО 9 см красное   \n",
       "\n",
       "      quantity  price   revenue  \n",
       "5456      1000  675.0  675000.0  \n",
       "5071       334  148.0   49432.0  \n",
       "3961       300   51.0   15300.0  \n",
       "1158       200   29.0    5800.0  \n",
       "568        170   51.0    8670.0  "
      ]
     },
     "execution_count": 23,
     "metadata": {},
     "output_type": "execute_result"
    }
   ],
   "source": [
    "anomaly_quantity = df.query('quantity > 10')\\\n",
    "                    .sort_values(by='quantity', ascending=False)\n",
    "\n",
    "print('Количество строк, где в заказе более 10 шт. одного наименования: {}, доля от всего датасета: {:.1%}'\n",
    "      .format(len(anomaly_quantity), len(anomaly_quantity)/len(df)))\n",
    "\n",
    "anomaly_quantity.head()"
   ]
  },
  {
   "cell_type": "markdown",
   "metadata": {},
   "source": [
    "Посмотрим также на \"хвост\" нашего среза, чтобы убедиться, что мы корректно выбрали границу аномалии. (Примечание: я пробовала устанавливать границу среза на 5 штуках, но когда вывела \"хвост\", поняла, что эти товары действительно покупают в таком количестве обычные люди, поэтому остановилась на 10 шт.)"
   ]
  },
  {
   "cell_type": "code",
   "execution_count": 24,
   "metadata": {},
   "outputs": [
    {
     "data": {
      "text/html": [
       "<div>\n",
       "<style scoped>\n",
       "    .dataframe tbody tr th:only-of-type {\n",
       "        vertical-align: middle;\n",
       "    }\n",
       "\n",
       "    .dataframe tbody tr th {\n",
       "        vertical-align: top;\n",
       "    }\n",
       "\n",
       "    .dataframe thead th {\n",
       "        text-align: right;\n",
       "    }\n",
       "</style>\n",
       "<table border=\"1\" class=\"dataframe\">\n",
       "  <thead>\n",
       "    <tr style=\"text-align: right;\">\n",
       "      <th></th>\n",
       "      <th>date</th>\n",
       "      <th>customer_id</th>\n",
       "      <th>order_id</th>\n",
       "      <th>product</th>\n",
       "      <th>quantity</th>\n",
       "      <th>price</th>\n",
       "      <th>revenue</th>\n",
       "    </tr>\n",
       "  </thead>\n",
       "  <tbody>\n",
       "    <tr>\n",
       "      <th>5978</th>\n",
       "      <td>2019-07-28 14:00:00</td>\n",
       "      <td>6b0c6cfb-7717-4c34-8535-bbc6e2b2c758</td>\n",
       "      <td>72125</td>\n",
       "      <td>Муляж Красное яблоко мини полиуретан d-5 см</td>\n",
       "      <td>11</td>\n",
       "      <td>22.0</td>\n",
       "      <td>242.0</td>\n",
       "    </tr>\n",
       "    <tr>\n",
       "      <th>50</th>\n",
       "      <td>2018-10-02 15:00:00</td>\n",
       "      <td>4d93d3f6-8b24-403b-a74b-f5173e40d7db</td>\n",
       "      <td>68506</td>\n",
       "      <td>Герань домашняя (пеларгония зональная) цветущая D12, H25-30, коралловая, полумахровая</td>\n",
       "      <td>11</td>\n",
       "      <td>142.0</td>\n",
       "      <td>1562.0</td>\n",
       "    </tr>\n",
       "    <tr>\n",
       "      <th>3502</th>\n",
       "      <td>2019-05-09 21:00:00</td>\n",
       "      <td>f479df63-c15c-4d4e-9866-cd91b3e8bcfc</td>\n",
       "      <td>14745</td>\n",
       "      <td>Пеларгония зональная диам. 12 см красная махровая</td>\n",
       "      <td>11</td>\n",
       "      <td>188.0</td>\n",
       "      <td>2068.0</td>\n",
       "    </tr>\n",
       "    <tr>\n",
       "      <th>3068</th>\n",
       "      <td>2019-04-24 09:00:00</td>\n",
       "      <td>909530ce-406f-457a-8289-fc62cba16d14</td>\n",
       "      <td>71262</td>\n",
       "      <td>Цветок искусственный Гвоздика пластиковая одиночная в ассортименте 50 см</td>\n",
       "      <td>11</td>\n",
       "      <td>21.0</td>\n",
       "      <td>231.0</td>\n",
       "    </tr>\n",
       "    <tr>\n",
       "      <th>2373</th>\n",
       "      <td>2019-03-18 13:00:00</td>\n",
       "      <td>f454ae14-70ad-4678-b71e-0da3c1c8c6f2</td>\n",
       "      <td>70718</td>\n",
       "      <td>Емкость для СВЧ LUX 3.2 л прямоугольная, Curver, 15552</td>\n",
       "      <td>11</td>\n",
       "      <td>265.0</td>\n",
       "      <td>2915.0</td>\n",
       "    </tr>\n",
       "  </tbody>\n",
       "</table>\n",
       "</div>"
      ],
      "text/plain": [
       "                    date                           customer_id order_id  \\\n",
       "5978 2019-07-28 14:00:00  6b0c6cfb-7717-4c34-8535-bbc6e2b2c758    72125   \n",
       "50   2018-10-02 15:00:00  4d93d3f6-8b24-403b-a74b-f5173e40d7db    68506   \n",
       "3502 2019-05-09 21:00:00  f479df63-c15c-4d4e-9866-cd91b3e8bcfc    14745   \n",
       "3068 2019-04-24 09:00:00  909530ce-406f-457a-8289-fc62cba16d14    71262   \n",
       "2373 2019-03-18 13:00:00  f454ae14-70ad-4678-b71e-0da3c1c8c6f2    70718   \n",
       "\n",
       "                                                                                    product  \\\n",
       "5978                                            Муляж Красное яблоко мини полиуретан d-5 см   \n",
       "50    Герань домашняя (пеларгония зональная) цветущая D12, H25-30, коралловая, полумахровая   \n",
       "3502                                      Пеларгония зональная диам. 12 см красная махровая   \n",
       "3068               Цветок искусственный Гвоздика пластиковая одиночная в ассортименте 50 см   \n",
       "2373                                 Емкость для СВЧ LUX 3.2 л прямоугольная, Curver, 15552   \n",
       "\n",
       "      quantity  price  revenue  \n",
       "5978        11   22.0    242.0  \n",
       "50          11  142.0   1562.0  \n",
       "3502        11  188.0   2068.0  \n",
       "3068        11   21.0    231.0  \n",
       "2373        11  265.0   2915.0  "
      ]
     },
     "execution_count": 24,
     "metadata": {},
     "output_type": "execute_result"
    }
   ],
   "source": [
    "anomaly_quantity.tail()"
   ]
  },
  {
   "cell_type": "markdown",
   "metadata": {},
   "source": [
    "Похоже, что там, где количество товара более 10 шт. - это закупки для нужд малого бизнеса (например, гостиничного). Ну а 1000 вантузов - это либо закупка с целью перепродажи, либо ошибка. \n",
    "\n",
    "Всего у нас 149 строк c аномальным количеством, это 3,1% датасета. Можно было бы их удалить. Но мы не станем этого делать, удалим только 1000 вантузов (чтобы не искажали нам остальные показатели), а остальные строки пометим в отдельном столбце. И далее при анализе будем смотреть на них отдельно."
   ]
  },
  {
   "cell_type": "code",
   "execution_count": 25,
   "metadata": {},
   "outputs": [
    {
     "data": {
      "text/plain": [
       "(4839, 7)"
      ]
     },
     "execution_count": 25,
     "metadata": {},
     "output_type": "execute_result"
    }
   ],
   "source": [
    "df = df.query('quantity < 1000')\n",
    "df.shape"
   ]
  },
  {
   "cell_type": "markdown",
   "metadata": {},
   "source": [
    "Сформируем список покупателей с крупными заказами и пометим все строки датасета для этих покупателей (и всех их заказов) условным обзначением 'b2b':"
   ]
  },
  {
   "cell_type": "code",
   "execution_count": 26,
   "metadata": {
    "scrolled": false
   },
   "outputs": [
    {
     "data": {
      "text/html": [
       "<div>\n",
       "<style scoped>\n",
       "    .dataframe tbody tr th:only-of-type {\n",
       "        vertical-align: middle;\n",
       "    }\n",
       "\n",
       "    .dataframe tbody tr th {\n",
       "        vertical-align: top;\n",
       "    }\n",
       "\n",
       "    .dataframe thead th {\n",
       "        text-align: right;\n",
       "    }\n",
       "</style>\n",
       "<table border=\"1\" class=\"dataframe\">\n",
       "  <thead>\n",
       "    <tr style=\"text-align: right;\">\n",
       "      <th></th>\n",
       "      <th>date</th>\n",
       "      <th>customer_id</th>\n",
       "      <th>order_id</th>\n",
       "      <th>product</th>\n",
       "      <th>quantity</th>\n",
       "      <th>price</th>\n",
       "      <th>revenue</th>\n",
       "      <th>b2b</th>\n",
       "    </tr>\n",
       "  </thead>\n",
       "  <tbody>\n",
       "    <tr>\n",
       "      <th>4499</th>\n",
       "      <td>2019-06-04 17:00:00</td>\n",
       "      <td>07abcccf-1887-4b4e-b6bf-8054759bc419</td>\n",
       "      <td>71605</td>\n",
       "      <td>Штора для ванной комнаты полиэстер Dasch 180х180 см Аквамарин ВТ-822502, 5698</td>\n",
       "      <td>1</td>\n",
       "      <td>329.0</td>\n",
       "      <td>329.0</td>\n",
       "      <td>False</td>\n",
       "    </tr>\n",
       "    <tr>\n",
       "      <th>300</th>\n",
       "      <td>2018-10-18 14:00:00</td>\n",
       "      <td>b371ce80-259a-4bb8-a550-0ebff690e3e1</td>\n",
       "      <td>68682</td>\n",
       "      <td>Жидкое мыло Vestar Хозяйственное 750 мл Россия 4620757212370</td>\n",
       "      <td>1</td>\n",
       "      <td>59.0</td>\n",
       "      <td>59.0</td>\n",
       "      <td>False</td>\n",
       "    </tr>\n",
       "    <tr>\n",
       "      <th>107</th>\n",
       "      <td>2018-10-05 12:00:00</td>\n",
       "      <td>b463177a-cc14-44f6-a225-0e03170f5d41</td>\n",
       "      <td>68536</td>\n",
       "      <td>Коврик хлопковый 45х75 см цвета в ассортименте 6195</td>\n",
       "      <td>2</td>\n",
       "      <td>127.0</td>\n",
       "      <td>254.0</td>\n",
       "      <td>False</td>\n",
       "    </tr>\n",
       "  </tbody>\n",
       "</table>\n",
       "</div>"
      ],
      "text/plain": [
       "                    date                           customer_id order_id  \\\n",
       "4499 2019-06-04 17:00:00  07abcccf-1887-4b4e-b6bf-8054759bc419    71605   \n",
       "300  2018-10-18 14:00:00  b371ce80-259a-4bb8-a550-0ebff690e3e1    68682   \n",
       "107  2018-10-05 12:00:00  b463177a-cc14-44f6-a225-0e03170f5d41    68536   \n",
       "\n",
       "                                                                            product  \\\n",
       "4499  Штора для ванной комнаты полиэстер Dasch 180х180 см Аквамарин ВТ-822502, 5698   \n",
       "300                    Жидкое мыло Vestar Хозяйственное 750 мл Россия 4620757212370   \n",
       "107                             Коврик хлопковый 45х75 см цвета в ассортименте 6195   \n",
       "\n",
       "      quantity  price  revenue    b2b  \n",
       "4499         1  329.0    329.0  False  \n",
       "300          1   59.0     59.0  False  \n",
       "107          2  127.0    254.0  False  "
      ]
     },
     "execution_count": 26,
     "metadata": {},
     "output_type": "execute_result"
    }
   ],
   "source": [
    "big_orders = anomaly_quantity['customer_id'].unique()\n",
    "\n",
    "def b2b(customer_id):\n",
    "    '''\n",
    "    Функция принимает номер покупателя, \n",
    "    а возвращает принадлежность покупки к типу b2b:\n",
    "    - True - номер покупателя в списке покупателей с крупными заказами\n",
    "    - False - в противном случае\n",
    "    '''\n",
    "    if customer_id in big_orders:\n",
    "        return True\n",
    "    return False\n",
    "\n",
    "df['b2b'] = df['customer_id'].apply(b2b)\n",
    "df.sample(3)"
   ]
  },
  {
   "cell_type": "markdown",
   "metadata": {},
   "source": [
    "Теперь у нас есть возможность анализировать покупки массовых покупателей и предпринимателей отдельно. Посчитаем соотношение заказов обычных потребителей и предпринимателей:"
   ]
  },
  {
   "cell_type": "code",
   "execution_count": 27,
   "metadata": {},
   "outputs": [
    {
     "data": {
      "text/html": [
       "<div>\n",
       "<style scoped>\n",
       "    .dataframe tbody tr th:only-of-type {\n",
       "        vertical-align: middle;\n",
       "    }\n",
       "\n",
       "    .dataframe tbody tr th {\n",
       "        vertical-align: top;\n",
       "    }\n",
       "\n",
       "    .dataframe thead th {\n",
       "        text-align: right;\n",
       "    }\n",
       "</style>\n",
       "<table border=\"1\" class=\"dataframe\">\n",
       "  <thead>\n",
       "    <tr style=\"text-align: right;\">\n",
       "      <th></th>\n",
       "      <th>b2b</th>\n",
       "      <th>customer_id</th>\n",
       "      <th>order_id</th>\n",
       "      <th>customers_share</th>\n",
       "      <th>orders_share</th>\n",
       "    </tr>\n",
       "  </thead>\n",
       "  <tbody>\n",
       "    <tr>\n",
       "      <th>0</th>\n",
       "      <td>False</td>\n",
       "      <td>2296</td>\n",
       "      <td>2481</td>\n",
       "      <td>0.95</td>\n",
       "      <td>0.89</td>\n",
       "    </tr>\n",
       "    <tr>\n",
       "      <th>1</th>\n",
       "      <td>True</td>\n",
       "      <td>126</td>\n",
       "      <td>302</td>\n",
       "      <td>0.05</td>\n",
       "      <td>0.11</td>\n",
       "    </tr>\n",
       "  </tbody>\n",
       "</table>\n",
       "</div>"
      ],
      "text/plain": [
       "     b2b  customer_id  order_id  customers_share  orders_share\n",
       "0  False         2296      2481             0.95          0.89\n",
       "1   True          126       302             0.05          0.11"
      ]
     },
     "execution_count": 27,
     "metadata": {},
     "output_type": "execute_result"
    }
   ],
   "source": [
    "customer_groups = df.groupby('b2b').agg({'customer_id':'nunique', 'order_id':'nunique'})\\\n",
    "                    .reset_index()\n",
    "customer_groups['customers_share'] = round(customer_groups['customer_id'] / customer_groups['customer_id'].sum(),2)\n",
    "customer_groups['orders_share'] = round(customer_groups['order_id'] / customer_groups['order_id'].sum(),2)\n",
    "customer_groups"
   ]
  },
  {
   "cell_type": "markdown",
   "metadata": {},
   "source": [
    "95% покупателей - обычные, на их долю приходится 89% заказов.\n",
    "\n",
    "5% покупателей - предприниматели, на их долю приходится 11% заказов. Т.е. повторные заказы у нас характерны имеено для предпринимателей."
   ]
  },
  {
   "cell_type": "markdown",
   "metadata": {},
   "source": [
    "#### Распределение цен"
   ]
  },
  {
   "cell_type": "markdown",
   "metadata": {},
   "source": [
    "Посмотрим, товары какого ценового уровня продаются в нашем интернет-магазине:"
   ]
  },
  {
   "cell_type": "code",
   "execution_count": 28,
   "metadata": {},
   "outputs": [
    {
     "data": {
      "text/plain": [
       "(0.0, 2000.0)"
      ]
     },
     "execution_count": 28,
     "metadata": {},
     "output_type": "execute_result"
    },
    {
     "data": {
      "image/png": "[encoded data removed]",
      "text/plain": [
       "<Figure size 1008x288 with 1 Axes>"
      ]
     },
     "metadata": {
      "needs_background": "light"
     },
     "output_type": "display_data"
    }
   ],
   "source": [
    "df.price.hist(bins=500, figsize=(14,4));\n",
    "plt.ylabel('Частотность')\n",
    "plt.xlabel('Цена товара, у.е.')\n",
    "plt.xlim(0,2000)"
   ]
  },
  {
   "cell_type": "markdown",
   "metadata": {},
   "source": [
    "В основном, цены покупаемых товаров находятся в пределах 200 у.е. Реже  цена доходит до 1200 у.е. Свыше 1200 - это уже единичные случаи. Посмотрим, сколько у нас таких редких случаев и как они выглядят в датасете:"
   ]
  },
  {
   "cell_type": "code",
   "execution_count": 29,
   "metadata": {},
   "outputs": [
    {
     "name": "stdout",
     "output_type": "stream",
     "text": [
      "Количество строк c ценами выше 1200 у.е.: 519, доля от всего датасета: 10.7%\n"
     ]
    },
    {
     "data": {
      "text/html": [
       "<div>\n",
       "<style scoped>\n",
       "    .dataframe tbody tr th:only-of-type {\n",
       "        vertical-align: middle;\n",
       "    }\n",
       "\n",
       "    .dataframe tbody tr th {\n",
       "        vertical-align: top;\n",
       "    }\n",
       "\n",
       "    .dataframe thead th {\n",
       "        text-align: right;\n",
       "    }\n",
       "</style>\n",
       "<table border=\"1\" class=\"dataframe\">\n",
       "  <thead>\n",
       "    <tr style=\"text-align: right;\">\n",
       "      <th></th>\n",
       "      <th>date</th>\n",
       "      <th>customer_id</th>\n",
       "      <th>order_id</th>\n",
       "      <th>product</th>\n",
       "      <th>quantity</th>\n",
       "      <th>price</th>\n",
       "      <th>revenue</th>\n",
       "      <th>b2b</th>\n",
       "    </tr>\n",
       "  </thead>\n",
       "  <tbody>\n",
       "    <tr>\n",
       "      <th>5992</th>\n",
       "      <td>2019-07-29 17:00:00</td>\n",
       "      <td>0d87f4ae-465a-4fac-81e6-5d629761783e</td>\n",
       "      <td>72139</td>\n",
       "      <td>Сушилка уличная Leifheit 85210 LINOMATIC V 400 40 м 175х237х237 см зеленая</td>\n",
       "      <td>1</td>\n",
       "      <td>14917.0</td>\n",
       "      <td>14917.0</td>\n",
       "      <td>False</td>\n",
       "    </tr>\n",
       "    <tr>\n",
       "      <th>2697</th>\n",
       "      <td>2019-04-05 19:00:00</td>\n",
       "      <td>c0c60544-3a99-49d0-8a8e-cf7f293c22cb</td>\n",
       "      <td>71035</td>\n",
       "      <td>Сумка-тележка хозяйственная Andersen Royal Shopper, Hera, синяя 166-004-90</td>\n",
       "      <td>1</td>\n",
       "      <td>8737.0</td>\n",
       "      <td>8737.0</td>\n",
       "      <td>False</td>\n",
       "    </tr>\n",
       "    <tr>\n",
       "      <th>1981</th>\n",
       "      <td>2019-02-24 10:00:00</td>\n",
       "      <td>ac250053-a236-467a-97d2-ddbb9bf4a1ba</td>\n",
       "      <td>70423</td>\n",
       "      <td>Сумка-тележка хозяйственная Andersen Alu Star Shopper, Hava, синяя 115-103-90</td>\n",
       "      <td>1</td>\n",
       "      <td>8437.0</td>\n",
       "      <td>8437.0</td>\n",
       "      <td>False</td>\n",
       "    </tr>\n",
       "    <tr>\n",
       "      <th>2997</th>\n",
       "      <td>2019-04-21 16:00:00</td>\n",
       "      <td>19d904d8-8d16-476d-8f66-b2a3b7a23660</td>\n",
       "      <td>71227</td>\n",
       "      <td>Сумка-тележка хозяйственная Rolser MNB019 rojo LOGIC DOS+2 красная</td>\n",
       "      <td>1</td>\n",
       "      <td>8077.0</td>\n",
       "      <td>8077.0</td>\n",
       "      <td>False</td>\n",
       "    </tr>\n",
       "    <tr>\n",
       "      <th>6629</th>\n",
       "      <td>2019-10-16 15:00:00</td>\n",
       "      <td>d5584388-ffbe-42fd-a746-a98828ec919f</td>\n",
       "      <td>72992</td>\n",
       "      <td>Стремянка 7 ступенчатая Hailo 8040-707 XXL 13 см алюминиевая с лотком для инструментов</td>\n",
       "      <td>1</td>\n",
       "      <td>7724.0</td>\n",
       "      <td>7724.0</td>\n",
       "      <td>False</td>\n",
       "    </tr>\n",
       "  </tbody>\n",
       "</table>\n",
       "</div>"
      ],
      "text/plain": [
       "                    date                           customer_id order_id  \\\n",
       "5992 2019-07-29 17:00:00  0d87f4ae-465a-4fac-81e6-5d629761783e    72139   \n",
       "2697 2019-04-05 19:00:00  c0c60544-3a99-49d0-8a8e-cf7f293c22cb    71035   \n",
       "1981 2019-02-24 10:00:00  ac250053-a236-467a-97d2-ddbb9bf4a1ba    70423   \n",
       "2997 2019-04-21 16:00:00  19d904d8-8d16-476d-8f66-b2a3b7a23660    71227   \n",
       "6629 2019-10-16 15:00:00  d5584388-ffbe-42fd-a746-a98828ec919f    72992   \n",
       "\n",
       "                                                                                     product  \\\n",
       "5992              Сушилка уличная Leifheit 85210 LINOMATIC V 400 40 м 175х237х237 см зеленая   \n",
       "2697              Сумка-тележка хозяйственная Andersen Royal Shopper, Hera, синяя 166-004-90   \n",
       "1981           Сумка-тележка хозяйственная Andersen Alu Star Shopper, Hava, синяя 115-103-90   \n",
       "2997                      Сумка-тележка хозяйственная Rolser MNB019 rojo LOGIC DOS+2 красная   \n",
       "6629  Стремянка 7 ступенчатая Hailo 8040-707 XXL 13 см алюминиевая с лотком для инструментов   \n",
       "\n",
       "      quantity    price  revenue    b2b  \n",
       "5992         1  14917.0  14917.0  False  \n",
       "2697         1   8737.0   8737.0  False  \n",
       "1981         1   8437.0   8437.0  False  \n",
       "2997         1   8077.0   8077.0  False  \n",
       "6629         1   7724.0   7724.0  False  "
      ]
     },
     "execution_count": 29,
     "metadata": {},
     "output_type": "execute_result"
    }
   ],
   "source": [
    "high_prices = df.query('price > 1200').sort_values(by='price', ascending=False)\n",
    "\n",
    "print('Количество строк c ценами выше 1200 у.е.: {}, доля от всего датасета: {:.1%}'\n",
    "      .format(len(high_prices), len(high_prices)/len(df)))\n",
    "\n",
    "high_prices.head(5)"
   ]
  },
  {
   "cell_type": "markdown",
   "metadata": {},
   "source": [
    "Цены реальные (я загуглила), доля таких товаров ощутимая - почти 11% датасета, исключать из анализа их не хотелось бы, поэтому просто классифицируем товары по цене и выделим дорогие товары в отдельную группу:"
   ]
  },
  {
   "cell_type": "code",
   "execution_count": 30,
   "metadata": {},
   "outputs": [
    {
     "data": {
      "text/html": [
       "<div>\n",
       "<style scoped>\n",
       "    .dataframe tbody tr th:only-of-type {\n",
       "        vertical-align: middle;\n",
       "    }\n",
       "\n",
       "    .dataframe tbody tr th {\n",
       "        vertical-align: top;\n",
       "    }\n",
       "\n",
       "    .dataframe thead th {\n",
       "        text-align: right;\n",
       "    }\n",
       "</style>\n",
       "<table border=\"1\" class=\"dataframe\">\n",
       "  <thead>\n",
       "    <tr style=\"text-align: right;\">\n",
       "      <th></th>\n",
       "      <th>date</th>\n",
       "      <th>customer_id</th>\n",
       "      <th>order_id</th>\n",
       "      <th>product</th>\n",
       "      <th>quantity</th>\n",
       "      <th>price</th>\n",
       "      <th>revenue</th>\n",
       "      <th>b2b</th>\n",
       "      <th>price_level</th>\n",
       "    </tr>\n",
       "  </thead>\n",
       "  <tbody>\n",
       "    <tr>\n",
       "      <th>2741</th>\n",
       "      <td>2019-04-08 14:00:00</td>\n",
       "      <td>35fe171f-0ce0-4c9e-9c32-10be72f17792</td>\n",
       "      <td>14626</td>\n",
       "      <td>Петуния простая рассада однолетних цветов в кассете по 10 шт</td>\n",
       "      <td>1</td>\n",
       "      <td>210.0</td>\n",
       "      <td>210.0</td>\n",
       "      <td>False</td>\n",
       "      <td>Средний ценовой сегмент</td>\n",
       "    </tr>\n",
       "    <tr>\n",
       "      <th>1718</th>\n",
       "      <td>2019-02-06 12:00:00</td>\n",
       "      <td>62952c5b-e5ef-4009-a2f9-1ebff401c514</td>\n",
       "      <td>14532</td>\n",
       "      <td>Пеларгония зональная махровая белая взрослое растение</td>\n",
       "      <td>1</td>\n",
       "      <td>150.0</td>\n",
       "      <td>150.0</td>\n",
       "      <td>False</td>\n",
       "      <td>Дешевые</td>\n",
       "    </tr>\n",
       "    <tr>\n",
       "      <th>3515</th>\n",
       "      <td>2019-05-11 08:00:00</td>\n",
       "      <td>240622a9-246f-46e8-b356-4be471d112d4</td>\n",
       "      <td>71396</td>\n",
       "      <td>Ковер придверный Tango RUS 60х90 см белый РВ322</td>\n",
       "      <td>1</td>\n",
       "      <td>599.0</td>\n",
       "      <td>599.0</td>\n",
       "      <td>False</td>\n",
       "      <td>Средний ценовой сегмент</td>\n",
       "    </tr>\n",
       "  </tbody>\n",
       "</table>\n",
       "</div>"
      ],
      "text/plain": [
       "                    date                           customer_id order_id  \\\n",
       "2741 2019-04-08 14:00:00  35fe171f-0ce0-4c9e-9c32-10be72f17792    14626   \n",
       "1718 2019-02-06 12:00:00  62952c5b-e5ef-4009-a2f9-1ebff401c514    14532   \n",
       "3515 2019-05-11 08:00:00  240622a9-246f-46e8-b356-4be471d112d4    71396   \n",
       "\n",
       "                                                           product  quantity  \\\n",
       "2741  Петуния простая рассада однолетних цветов в кассете по 10 шт         1   \n",
       "1718         Пеларгония зональная махровая белая взрослое растение         1   \n",
       "3515               Ковер придверный Tango RUS 60х90 см белый РВ322         1   \n",
       "\n",
       "      price  revenue    b2b              price_level  \n",
       "2741  210.0    210.0  False  Средний ценовой сегмент  \n",
       "1718  150.0    150.0  False                  Дешевые  \n",
       "3515  599.0    599.0  False  Средний ценовой сегмент  "
      ]
     },
     "execution_count": 30,
     "metadata": {},
     "output_type": "execute_result"
    }
   ],
   "source": [
    "def price_level(price):\n",
    "    '''\n",
    "    Функция принимает цену товара, \n",
    "    а возвращает принадлежность товара к одному из типов:\n",
    "    - Дорогостоящие - если цена > 1200\n",
    "    - Средний ценовой сегмент - если цена > 200\n",
    "    - Дешевые - если цена <= 200\n",
    "    '''\n",
    "    if price > 1200:\n",
    "        return 'Дорогостоящие'\n",
    "    if price > 200:\n",
    "        return 'Средний ценовой сегмент'\n",
    "    return 'Дешевые'\n",
    "\n",
    "df['price_level'] = df['price'].apply(price_level)\n",
    "df.sample(3)"
   ]
  },
  {
   "cell_type": "markdown",
   "metadata": {},
   "source": [
    "Итак, мы получили представления о ценах и заодно разделили наш ассортимент по ценовым сегментам.\n",
    "\n",
    "Посчитаем, сколько у нас всего наименований товаров и какую долю занимают ценовые сегменты:"
   ]
  },
  {
   "cell_type": "code",
   "execution_count": 31,
   "metadata": {},
   "outputs": [
    {
     "data": {
      "text/plain": [
       "2342"
      ]
     },
     "execution_count": 31,
     "metadata": {},
     "output_type": "execute_result"
    }
   ],
   "source": [
    "df['product'].nunique()"
   ]
  },
  {
   "cell_type": "markdown",
   "metadata": {},
   "source": [
    "Всего у нас представлено 2342 наименования товаров."
   ]
  },
  {
   "cell_type": "code",
   "execution_count": 32,
   "metadata": {},
   "outputs": [
    {
     "data": {
      "text/html": [
       "<div>\n",
       "<style scoped>\n",
       "    .dataframe tbody tr th:only-of-type {\n",
       "        vertical-align: middle;\n",
       "    }\n",
       "\n",
       "    .dataframe tbody tr th {\n",
       "        vertical-align: top;\n",
       "    }\n",
       "\n",
       "    .dataframe thead th {\n",
       "        text-align: right;\n",
       "    }\n",
       "</style>\n",
       "<table border=\"1\" class=\"dataframe\">\n",
       "  <thead>\n",
       "    <tr style=\"text-align: right;\">\n",
       "      <th></th>\n",
       "      <th>price_level</th>\n",
       "      <th>product_names_count</th>\n",
       "      <th>share</th>\n",
       "    </tr>\n",
       "  </thead>\n",
       "  <tbody>\n",
       "    <tr>\n",
       "      <th>0</th>\n",
       "      <td>Дешевые</td>\n",
       "      <td>1258</td>\n",
       "      <td>0.53</td>\n",
       "    </tr>\n",
       "    <tr>\n",
       "      <th>2</th>\n",
       "      <td>Средний ценовой сегмент</td>\n",
       "      <td>765</td>\n",
       "      <td>0.32</td>\n",
       "    </tr>\n",
       "    <tr>\n",
       "      <th>1</th>\n",
       "      <td>Дорогостоящие</td>\n",
       "      <td>331</td>\n",
       "      <td>0.14</td>\n",
       "    </tr>\n",
       "  </tbody>\n",
       "</table>\n",
       "</div>"
      ],
      "text/plain": [
       "               price_level  product_names_count  share\n",
       "0                  Дешевые                 1258   0.53\n",
       "2  Средний ценовой сегмент                  765   0.32\n",
       "1            Дорогостоящие                  331   0.14"
      ]
     },
     "execution_count": 32,
     "metadata": {},
     "output_type": "execute_result"
    }
   ],
   "source": [
    "price_levels = df.groupby('price_level').agg({'product':'nunique'})\\\n",
    "                    .reset_index()\\\n",
    "                    .sort_values(by='product', ascending=False)\n",
    "price_levels.columns = ['price_level', 'product_names_count']\n",
    "price_levels['share'] = round(price_levels['product_names_count'] / price_levels['product_names_count'].sum(),2)\n",
    "price_levels"
   ]
  },
  {
   "cell_type": "markdown",
   "metadata": {},
   "source": [
    "53% ассортимента (по количеству наименований) составляют дешевые товары стоимостью до 200 у.е. 14% - дорогостоящие товары стоимостью свыше 1200 у.е."
   ]
  },
  {
   "cell_type": "markdown",
   "metadata": {},
   "source": [
    "#### Распределение стоимости заказов"
   ]
  },
  {
   "cell_type": "markdown",
   "metadata": {},
   "source": [
    "Проверим также, как распределена стоимость заказов, нет ли там аномалий - сверхкрупных разовых заказов, искажающих динамику. Для этого сначала сгруппируем данные по номеру заказа, рассчитаем стоимость каждого заказа, а затем построим распределение:"
   ]
  },
  {
   "cell_type": "code",
   "execution_count": 33,
   "metadata": {},
   "outputs": [
    {
     "data": {
      "text/html": [
       "<div>\n",
       "<style scoped>\n",
       "    .dataframe tbody tr th:only-of-type {\n",
       "        vertical-align: middle;\n",
       "    }\n",
       "\n",
       "    .dataframe tbody tr th {\n",
       "        vertical-align: top;\n",
       "    }\n",
       "\n",
       "    .dataframe thead th {\n",
       "        text-align: right;\n",
       "    }\n",
       "</style>\n",
       "<table border=\"1\" class=\"dataframe\">\n",
       "  <thead>\n",
       "    <tr style=\"text-align: right;\">\n",
       "      <th></th>\n",
       "      <th>order_id</th>\n",
       "      <th>order_sum</th>\n",
       "    </tr>\n",
       "  </thead>\n",
       "  <tbody>\n",
       "    <tr>\n",
       "      <th>0</th>\n",
       "      <td>12624</td>\n",
       "      <td>375.0</td>\n",
       "    </tr>\n",
       "    <tr>\n",
       "      <th>1</th>\n",
       "      <td>13547</td>\n",
       "      <td>684.0</td>\n",
       "    </tr>\n",
       "    <tr>\n",
       "      <th>2</th>\n",
       "      <td>14480</td>\n",
       "      <td>359.0</td>\n",
       "    </tr>\n",
       "    <tr>\n",
       "      <th>3</th>\n",
       "      <td>14481</td>\n",
       "      <td>600.0</td>\n",
       "    </tr>\n",
       "    <tr>\n",
       "      <th>4</th>\n",
       "      <td>14482</td>\n",
       "      <td>376.0</td>\n",
       "    </tr>\n",
       "  </tbody>\n",
       "</table>\n",
       "</div>"
      ],
      "text/plain": [
       "  order_id  order_sum\n",
       "0    12624      375.0\n",
       "1    13547      684.0\n",
       "2    14480      359.0\n",
       "3    14481      600.0\n",
       "4    14482      376.0"
      ]
     },
     "execution_count": 33,
     "metadata": {},
     "output_type": "execute_result"
    }
   ],
   "source": [
    "orders_sum = df.groupby('order_id').agg({'revenue':'sum'}).reset_index()\n",
    "orders_sum.columns=['order_id', 'order_sum']\n",
    "orders_sum.head()"
   ]
  },
  {
   "cell_type": "code",
   "execution_count": 34,
   "metadata": {},
   "outputs": [
    {
     "data": {
      "text/html": [
       "<div>\n",
       "<style scoped>\n",
       "    .dataframe tbody tr th:only-of-type {\n",
       "        vertical-align: middle;\n",
       "    }\n",
       "\n",
       "    .dataframe tbody tr th {\n",
       "        vertical-align: top;\n",
       "    }\n",
       "\n",
       "    .dataframe thead th {\n",
       "        text-align: right;\n",
       "    }\n",
       "</style>\n",
       "<table border=\"1\" class=\"dataframe\">\n",
       "  <thead>\n",
       "    <tr style=\"text-align: right;\">\n",
       "      <th></th>\n",
       "      <th>count</th>\n",
       "      <th>mean</th>\n",
       "      <th>std</th>\n",
       "      <th>min</th>\n",
       "      <th>25%</th>\n",
       "      <th>50%</th>\n",
       "      <th>75%</th>\n",
       "      <th>max</th>\n",
       "    </tr>\n",
       "  </thead>\n",
       "  <tbody>\n",
       "    <tr>\n",
       "      <th>order_sum</th>\n",
       "      <td>2783.0</td>\n",
       "      <td>1236.670499</td>\n",
       "      <td>2231.953313</td>\n",
       "      <td>14.0</td>\n",
       "      <td>291.5</td>\n",
       "      <td>688.0</td>\n",
       "      <td>1466.0</td>\n",
       "      <td>49432.0</td>\n",
       "    </tr>\n",
       "  </tbody>\n",
       "</table>\n",
       "</div>"
      ],
      "text/plain": [
       "            count         mean          std   min    25%    50%     75%  \\\n",
       "order_sum  2783.0  1236.670499  2231.953313  14.0  291.5  688.0  1466.0   \n",
       "\n",
       "               max  \n",
       "order_sum  49432.0  "
      ]
     },
     "execution_count": 34,
     "metadata": {},
     "output_type": "execute_result"
    }
   ],
   "source": [
    "orders_sum.describe().T"
   ]
  },
  {
   "cell_type": "code",
   "execution_count": 35,
   "metadata": {},
   "outputs": [
    {
     "data": {
      "text/plain": [
       "(0.0, 20000.0)"
      ]
     },
     "execution_count": 35,
     "metadata": {},
     "output_type": "execute_result"
    },
    {
     "data": {
      "image/png": "[encoded data removed]",
      "text/plain": [
       "<Figure size 1008x288 with 1 Axes>"
      ]
     },
     "metadata": {
      "needs_background": "light"
     },
     "output_type": "display_data"
    }
   ],
   "source": [
    "orders_sum.hist(bins=200, figsize=(14,4));\n",
    "plt.ylabel('Частотность')\n",
    "plt.xlabel('Стоимость заказа, у.е.')\n",
    "plt.xlim(0,20000)"
   ]
  },
  {
   "cell_type": "markdown",
   "metadata": {},
   "source": [
    "Всего у нас за исследуемый период оформлено 2783 заказа, стоимость заказов варьируется от 14 до почти 50 000 у.е. Средняя стоимость заказа - 1236 у.е., медианная - 688 у.е.\n",
    "\n",
    "Здесь мы не делим заказы на массовых покупателей и предпринимателей, потому что наша цель -  выявить только особо крупные заказы, которые могут исказить картину выручки и помешать анализировать сезонность.\n",
    "\n",
    "Распространенной является стоимость заказа до 5 000 у.е. Где-то до 9 000 у.е. заказы продолжают встречаться, но уже редко. Далее гистограмма начинает прерываться, значит пошли выбросы.\n",
    "\n",
    "Посмотрим на выбросы:"
   ]
  },
  {
   "cell_type": "code",
   "execution_count": 36,
   "metadata": {},
   "outputs": [
    {
     "data": {
      "text/html": [
       "<div>\n",
       "<style scoped>\n",
       "    .dataframe tbody tr th:only-of-type {\n",
       "        vertical-align: middle;\n",
       "    }\n",
       "\n",
       "    .dataframe tbody tr th {\n",
       "        vertical-align: top;\n",
       "    }\n",
       "\n",
       "    .dataframe thead th {\n",
       "        text-align: right;\n",
       "    }\n",
       "</style>\n",
       "<table border=\"1\" class=\"dataframe\">\n",
       "  <thead>\n",
       "    <tr style=\"text-align: right;\">\n",
       "      <th></th>\n",
       "      <th>order_id</th>\n",
       "      <th>order_sum</th>\n",
       "    </tr>\n",
       "  </thead>\n",
       "  <tbody>\n",
       "    <tr>\n",
       "      <th>2008</th>\n",
       "      <td>71668</td>\n",
       "      <td>49432.0</td>\n",
       "    </tr>\n",
       "    <tr>\n",
       "      <th>1065</th>\n",
       "      <td>69830</td>\n",
       "      <td>47385.0</td>\n",
       "    </tr>\n",
       "    <tr>\n",
       "      <th>722</th>\n",
       "      <td>69156</td>\n",
       "      <td>33680.0</td>\n",
       "    </tr>\n",
       "    <tr>\n",
       "      <th>917</th>\n",
       "      <td>69504</td>\n",
       "      <td>32718.0</td>\n",
       "    </tr>\n",
       "    <tr>\n",
       "      <th>569</th>\n",
       "      <td>68878</td>\n",
       "      <td>24370.0</td>\n",
       "    </tr>\n",
       "  </tbody>\n",
       "</table>\n",
       "</div>"
      ],
      "text/plain": [
       "     order_id  order_sum\n",
       "2008    71668    49432.0\n",
       "1065    69830    47385.0\n",
       "722     69156    33680.0\n",
       "917     69504    32718.0\n",
       "569     68878    24370.0"
      ]
     },
     "execution_count": 36,
     "metadata": {},
     "output_type": "execute_result"
    }
   ],
   "source": [
    "large_orders = orders_sum.query('order_sum > 9000').sort_values(by='order_sum', ascending=False)\n",
    "large_orders.head()"
   ]
  },
  {
   "cell_type": "code",
   "execution_count": 37,
   "metadata": {},
   "outputs": [
    {
     "data": {
      "text/html": [
       "<div>\n",
       "<style scoped>\n",
       "    .dataframe tbody tr th:only-of-type {\n",
       "        vertical-align: middle;\n",
       "    }\n",
       "\n",
       "    .dataframe tbody tr th {\n",
       "        vertical-align: top;\n",
       "    }\n",
       "\n",
       "    .dataframe thead th {\n",
       "        text-align: right;\n",
       "    }\n",
       "</style>\n",
       "<table border=\"1\" class=\"dataframe\">\n",
       "  <thead>\n",
       "    <tr style=\"text-align: right;\">\n",
       "      <th></th>\n",
       "      <th>order_id</th>\n",
       "      <th>order_sum</th>\n",
       "    </tr>\n",
       "  </thead>\n",
       "  <tbody>\n",
       "    <tr>\n",
       "      <th>1105</th>\n",
       "      <td>69928</td>\n",
       "      <td>11250.0</td>\n",
       "    </tr>\n",
       "    <tr>\n",
       "      <th>1214</th>\n",
       "      <td>70135</td>\n",
       "      <td>11000.0</td>\n",
       "    </tr>\n",
       "    <tr>\n",
       "      <th>152</th>\n",
       "      <td>14735</td>\n",
       "      <td>10656.0</td>\n",
       "    </tr>\n",
       "    <tr>\n",
       "      <th>705</th>\n",
       "      <td>69127</td>\n",
       "      <td>9915.0</td>\n",
       "    </tr>\n",
       "    <tr>\n",
       "      <th>482</th>\n",
       "      <td>68727</td>\n",
       "      <td>9010.0</td>\n",
       "    </tr>\n",
       "  </tbody>\n",
       "</table>\n",
       "</div>"
      ],
      "text/plain": [
       "     order_id  order_sum\n",
       "1105    69928    11250.0\n",
       "1214    70135    11000.0\n",
       "152     14735    10656.0\n",
       "705     69127     9915.0\n",
       "482     68727     9010.0"
      ]
     },
     "execution_count": 37,
     "metadata": {},
     "output_type": "execute_result"
    }
   ],
   "source": [
    "large_orders.tail()"
   ]
  },
  {
   "cell_type": "code",
   "execution_count": 38,
   "metadata": {
    "scrolled": true
   },
   "outputs": [
    {
     "name": "stdout",
     "output_type": "stream",
     "text": [
      "Количество крупных заказов: 18\n"
     ]
    },
    {
     "data": {
      "text/html": [
       "<div>\n",
       "<style scoped>\n",
       "    .dataframe tbody tr th:only-of-type {\n",
       "        vertical-align: middle;\n",
       "    }\n",
       "\n",
       "    .dataframe tbody tr th {\n",
       "        vertical-align: top;\n",
       "    }\n",
       "\n",
       "    .dataframe thead th {\n",
       "        text-align: right;\n",
       "    }\n",
       "</style>\n",
       "<table border=\"1\" class=\"dataframe\">\n",
       "  <thead>\n",
       "    <tr style=\"text-align: right;\">\n",
       "      <th></th>\n",
       "      <th>date</th>\n",
       "      <th>customer_id</th>\n",
       "      <th>order_id</th>\n",
       "      <th>product</th>\n",
       "      <th>quantity</th>\n",
       "      <th>price</th>\n",
       "      <th>revenue</th>\n",
       "      <th>b2b</th>\n",
       "      <th>price_level</th>\n",
       "    </tr>\n",
       "  </thead>\n",
       "  <tbody>\n",
       "    <tr>\n",
       "      <th>999</th>\n",
       "      <td>2018-11-27 15:00:00</td>\n",
       "      <td>7d8528bb-623e-477f-a059-efc312b62d29</td>\n",
       "      <td>69127</td>\n",
       "      <td>Вешалка деревянная с расширенными плечиками и перекладиной 44,5х23 см см белый JAPANESE WHITE VA...</td>\n",
       "      <td>12</td>\n",
       "      <td>263.0</td>\n",
       "      <td>3156.0</td>\n",
       "      <td>True</td>\n",
       "      <td>Средний ценовой сегмент</td>\n",
       "    </tr>\n",
       "    <tr>\n",
       "      <th>1000</th>\n",
       "      <td>2018-11-27 15:00:00</td>\n",
       "      <td>7d8528bb-623e-477f-a059-efc312b62d29</td>\n",
       "      <td>69127</td>\n",
       "      <td>Вешалка для брюк Attribute CLASSIC 38 см AHN271</td>\n",
       "      <td>10</td>\n",
       "      <td>132.0</td>\n",
       "      <td>1320.0</td>\n",
       "      <td>True</td>\n",
       "      <td>Дешевые</td>\n",
       "    </tr>\n",
       "    <tr>\n",
       "      <th>1001</th>\n",
       "      <td>2018-11-27 15:00:00</td>\n",
       "      <td>7d8528bb-623e-477f-a059-efc312b62d29</td>\n",
       "      <td>69127</td>\n",
       "      <td>Набор вешалок для костюма 45 см 4 шт цвет кремовый Attribute AHP224</td>\n",
       "      <td>25</td>\n",
       "      <td>202.0</td>\n",
       "      <td>5050.0</td>\n",
       "      <td>True</td>\n",
       "      <td>Средний ценовой сегмент</td>\n",
       "    </tr>\n",
       "    <tr>\n",
       "      <th>1002</th>\n",
       "      <td>2018-11-27 15:00:00</td>\n",
       "      <td>7d8528bb-623e-477f-a059-efc312b62d29</td>\n",
       "      <td>69127</td>\n",
       "      <td>Набор вешалок универсальных Attribute SILUET CREAM 45 см 4 шт AHP224</td>\n",
       "      <td>1</td>\n",
       "      <td>389.0</td>\n",
       "      <td>389.0</td>\n",
       "      <td>True</td>\n",
       "      <td>Средний ценовой сегмент</td>\n",
       "    </tr>\n",
       "  </tbody>\n",
       "</table>\n",
       "</div>"
      ],
      "text/plain": [
       "                    date                           customer_id order_id  \\\n",
       "999  2018-11-27 15:00:00  7d8528bb-623e-477f-a059-efc312b62d29    69127   \n",
       "1000 2018-11-27 15:00:00  7d8528bb-623e-477f-a059-efc312b62d29    69127   \n",
       "1001 2018-11-27 15:00:00  7d8528bb-623e-477f-a059-efc312b62d29    69127   \n",
       "1002 2018-11-27 15:00:00  7d8528bb-623e-477f-a059-efc312b62d29    69127   \n",
       "\n",
       "                                                                                                  product  \\\n",
       "999   Вешалка деревянная с расширенными плечиками и перекладиной 44,5х23 см см белый JAPANESE WHITE VA...   \n",
       "1000                                                      Вешалка для брюк Attribute CLASSIC 38 см AHN271   \n",
       "1001                                  Набор вешалок для костюма 45 см 4 шт цвет кремовый Attribute AHP224   \n",
       "1002                                 Набор вешалок универсальных Attribute SILUET CREAM 45 см 4 шт AHP224   \n",
       "\n",
       "      quantity  price  revenue   b2b              price_level  \n",
       "999         12  263.0   3156.0  True  Средний ценовой сегмент  \n",
       "1000        10  132.0   1320.0  True                  Дешевые  \n",
       "1001        25  202.0   5050.0  True  Средний ценовой сегмент  \n",
       "1002         1  389.0    389.0  True  Средний ценовой сегмент  "
      ]
     },
     "execution_count": 38,
     "metadata": {},
     "output_type": "execute_result"
    }
   ],
   "source": [
    "large_orders_list = large_orders['order_id'].to_list()\n",
    "print('Количество крупных заказов:', len(large_orders_list))\n",
    "\n",
    "df.query('order_id == \"69127\"')"
   ]
  },
  {
   "cell_type": "markdown",
   "metadata": {},
   "source": [
    "Итого у нас 18 крупных заказов стоимостью свыше 9000 у.е. Проверим, все ли они относятся к категории b2b, и если это так, то нет необходимости их исключать или как-то дополнительно помечать, т.к. категорию b2b мы и так будем анализировать отдельно:"
   ]
  },
  {
   "cell_type": "code",
   "execution_count": 39,
   "metadata": {},
   "outputs": [
    {
     "data": {
      "text/plain": [
       "array(['68760', '68878', '70080', '14735', '71598', '72139'], dtype=object)"
      ]
     },
     "execution_count": 39,
     "metadata": {},
     "output_type": "execute_result"
    }
   ],
   "source": [
    "df.query('order_id in @large_orders_list & not b2b')['order_id'].unique()"
   ]
  },
  {
   "cell_type": "code",
   "execution_count": 40,
   "metadata": {},
   "outputs": [
    {
     "data": {
      "text/html": [
       "<div>\n",
       "<style scoped>\n",
       "    .dataframe tbody tr th:only-of-type {\n",
       "        vertical-align: middle;\n",
       "    }\n",
       "\n",
       "    .dataframe tbody tr th {\n",
       "        vertical-align: top;\n",
       "    }\n",
       "\n",
       "    .dataframe thead th {\n",
       "        text-align: right;\n",
       "    }\n",
       "</style>\n",
       "<table border=\"1\" class=\"dataframe\">\n",
       "  <thead>\n",
       "    <tr style=\"text-align: right;\">\n",
       "      <th></th>\n",
       "      <th>date</th>\n",
       "      <th>customer_id</th>\n",
       "      <th>order_id</th>\n",
       "      <th>product</th>\n",
       "      <th>quantity</th>\n",
       "      <th>price</th>\n",
       "      <th>revenue</th>\n",
       "      <th>b2b</th>\n",
       "      <th>price_level</th>\n",
       "    </tr>\n",
       "  </thead>\n",
       "  <tbody>\n",
       "    <tr>\n",
       "      <th>5992</th>\n",
       "      <td>2019-07-29 17:00:00</td>\n",
       "      <td>0d87f4ae-465a-4fac-81e6-5d629761783e</td>\n",
       "      <td>72139</td>\n",
       "      <td>Сушилка уличная Leifheit 85210 LINOMATIC V 400 40 м 175х237х237 см зеленая</td>\n",
       "      <td>1</td>\n",
       "      <td>14917.0</td>\n",
       "      <td>14917.0</td>\n",
       "      <td>False</td>\n",
       "      <td>Дорогостоящие</td>\n",
       "    </tr>\n",
       "  </tbody>\n",
       "</table>\n",
       "</div>"
      ],
      "text/plain": [
       "                    date                           customer_id order_id  \\\n",
       "5992 2019-07-29 17:00:00  0d87f4ae-465a-4fac-81e6-5d629761783e    72139   \n",
       "\n",
       "                                                                         product  \\\n",
       "5992  Сушилка уличная Leifheit 85210 LINOMATIC V 400 40 м 175х237х237 см зеленая   \n",
       "\n",
       "      quantity    price  revenue    b2b    price_level  \n",
       "5992         1  14917.0  14917.0  False  Дорогостоящие  "
      ]
     },
     "execution_count": 40,
     "metadata": {},
     "output_type": "execute_result"
    }
   ],
   "source": [
    "df.query('order_id == \"72139\"')"
   ]
  },
  {
   "cell_type": "markdown",
   "metadata": {},
   "source": [
    "Из 18 крупных заказов 6 у нас отнесены к заказам обычных покупателей (остальные 12 - к заказам предпринимателей). \n",
    "\n",
    "В 4 из 6 крупных заказов обычных покупателей попали дорогостоящие позиции, дорогостоящие товары мы уже выдедили в отдельную категорию, поэтому при желании можем анализировать их отдельно.\n",
    "\n",
    "Оставшиеся 2 крупных заказа обычных покупателей (14735 и 71598) содержат большое количество товаров среднего ценового сегмента (но каждая позиция не более 10 шт.): суммарно 20 разных кашпо с петуниями и 10 скатертей соответственно. Логично будет перенести эти заказы в категорию b2b, чтобы анализировать отдельно от основной массы заказов. Перепишем ранее созданную функцию, добавив в нее 2 новых заказа и заново применим к столбцу b2b:"
   ]
  },
  {
   "cell_type": "code",
   "execution_count": 41,
   "metadata": {},
   "outputs": [],
   "source": [
    "big_orders_new = df.query('b2b')['order_id'].unique().tolist()\n",
    "new_orders = ['14735', '71598']\n",
    "big_orders_new = big_orders_new + new_orders\n",
    "\n",
    "def b2b_new(order_id):\n",
    "    '''\n",
    "    Функция принимает номер заказа, \n",
    "    а возвращает принадлежность покупки к типу b2b:\n",
    "    - True - номер заказа в списке крупных заказов\n",
    "    - False - в противном случае\n",
    "    '''\n",
    "    if order_id in big_orders_new:\n",
    "        return True\n",
    "    return False\n",
    "\n",
    "df['b2b'] = df['order_id'].apply(b2b_new)"
   ]
  },
  {
   "cell_type": "code",
   "execution_count": 42,
   "metadata": {
    "scrolled": true
   },
   "outputs": [
    {
     "data": {
      "text/html": [
       "<div>\n",
       "<style scoped>\n",
       "    .dataframe tbody tr th:only-of-type {\n",
       "        vertical-align: middle;\n",
       "    }\n",
       "\n",
       "    .dataframe tbody tr th {\n",
       "        vertical-align: top;\n",
       "    }\n",
       "\n",
       "    .dataframe thead th {\n",
       "        text-align: right;\n",
       "    }\n",
       "</style>\n",
       "<table border=\"1\" class=\"dataframe\">\n",
       "  <thead>\n",
       "    <tr style=\"text-align: right;\">\n",
       "      <th></th>\n",
       "      <th>date</th>\n",
       "      <th>customer_id</th>\n",
       "      <th>order_id</th>\n",
       "      <th>product</th>\n",
       "      <th>quantity</th>\n",
       "      <th>price</th>\n",
       "      <th>revenue</th>\n",
       "      <th>b2b</th>\n",
       "      <th>price_level</th>\n",
       "    </tr>\n",
       "  </thead>\n",
       "  <tbody>\n",
       "    <tr>\n",
       "      <th>4435</th>\n",
       "      <td>2019-06-04 07:00:00</td>\n",
       "      <td>940c175f-ea87-44e0-9e16-0a3d0a9abecd</td>\n",
       "      <td>71598</td>\n",
       "      <td>Скатерть круглая d-175 см 50% полиэстер 50% хлопок белая Wellness MLd-187-Эстель*01</td>\n",
       "      <td>10</td>\n",
       "      <td>1140.0</td>\n",
       "      <td>11400.0</td>\n",
       "      <td>True</td>\n",
       "      <td>Средний ценовой сегмент</td>\n",
       "    </tr>\n",
       "  </tbody>\n",
       "</table>\n",
       "</div>"
      ],
      "text/plain": [
       "                    date                           customer_id order_id  \\\n",
       "4435 2019-06-04 07:00:00  940c175f-ea87-44e0-9e16-0a3d0a9abecd    71598   \n",
       "\n",
       "                                                                                  product  \\\n",
       "4435  Скатерть круглая d-175 см 50% полиэстер 50% хлопок белая Wellness MLd-187-Эстель*01   \n",
       "\n",
       "      quantity   price  revenue   b2b              price_level  \n",
       "4435        10  1140.0  11400.0  True  Средний ценовой сегмент  "
      ]
     },
     "execution_count": 42,
     "metadata": {},
     "output_type": "execute_result"
    }
   ],
   "source": [
    "df.query('order_id == \"71598\"')"
   ]
  },
  {
   "cell_type": "markdown",
   "metadata": {},
   "source": [
    "Теперь мы знаем, что крупные заказы у нас - это либо заказы для бизнеса, либо покупки дорогостоящих товаров. Заказы для бизнеса у нас помечены, дорогостоящие товары тоже выделены в отдельную категорию, так что при анализе мы можем их отделять от остальных данных."
   ]
  },
  {
   "cell_type": "markdown",
   "metadata": {},
   "source": [
    "### Динамика агрегированных показателей"
   ]
  },
  {
   "cell_type": "markdown",
   "metadata": {},
   "source": [
    "#### Выручка по месяцам"
   ]
  },
  {
   "cell_type": "markdown",
   "metadata": {},
   "source": [
    "Хотелось бы посмотреть на выручку от продаж по месяцам. Для этого выделим месяц в отдельный столбец. Помним, что у нас два октября, поэтому выведем в новый столбец не номер/название месяца, а первое число месяца с указанием года:"
   ]
  },
  {
   "cell_type": "code",
   "execution_count": 43,
   "metadata": {},
   "outputs": [
    {
     "data": {
      "text/html": [
       "<div>\n",
       "<style scoped>\n",
       "    .dataframe tbody tr th:only-of-type {\n",
       "        vertical-align: middle;\n",
       "    }\n",
       "\n",
       "    .dataframe tbody tr th {\n",
       "        vertical-align: top;\n",
       "    }\n",
       "\n",
       "    .dataframe thead th {\n",
       "        text-align: right;\n",
       "    }\n",
       "</style>\n",
       "<table border=\"1\" class=\"dataframe\">\n",
       "  <thead>\n",
       "    <tr style=\"text-align: right;\">\n",
       "      <th></th>\n",
       "      <th>date</th>\n",
       "      <th>customer_id</th>\n",
       "      <th>order_id</th>\n",
       "      <th>product</th>\n",
       "      <th>quantity</th>\n",
       "      <th>price</th>\n",
       "      <th>revenue</th>\n",
       "      <th>b2b</th>\n",
       "      <th>price_level</th>\n",
       "      <th>month</th>\n",
       "    </tr>\n",
       "  </thead>\n",
       "  <tbody>\n",
       "    <tr>\n",
       "      <th>360</th>\n",
       "      <td>2018-10-22 13:00:00</td>\n",
       "      <td>e1443c41-ef4c-4749-a67e-cb94ecfcdcb9</td>\n",
       "      <td>68716</td>\n",
       "      <td>Сушилка для белья потолочная Лиана 2,4 м 1703011</td>\n",
       "      <td>1</td>\n",
       "      <td>734.0</td>\n",
       "      <td>734.0</td>\n",
       "      <td>False</td>\n",
       "      <td>Средний ценовой сегмент</td>\n",
       "      <td>2018-10-01</td>\n",
       "    </tr>\n",
       "    <tr>\n",
       "      <th>5227</th>\n",
       "      <td>2019-06-13 14:00:00</td>\n",
       "      <td>891f87e2-0077-42b1-b350-5361115ef7c0</td>\n",
       "      <td>71697</td>\n",
       "      <td>Тележка багажная DELTA ТБР-20 коричневый с оранжевым грузоподъемность 25 кг сумка и 50 кг каркас...</td>\n",
       "      <td>1</td>\n",
       "      <td>734.0</td>\n",
       "      <td>734.0</td>\n",
       "      <td>False</td>\n",
       "      <td>Средний ценовой сегмент</td>\n",
       "      <td>2019-06-01</td>\n",
       "    </tr>\n",
       "    <tr>\n",
       "      <th>3315</th>\n",
       "      <td>2019-04-29 15:00:00</td>\n",
       "      <td>cce13789-408b-44e1-8147-3c74dc393bf1</td>\n",
       "      <td>14701</td>\n",
       "      <td>Тагетис крупноцветковый рассада однолетних цветов в кассете по 10 шт</td>\n",
       "      <td>2</td>\n",
       "      <td>210.0</td>\n",
       "      <td>420.0</td>\n",
       "      <td>False</td>\n",
       "      <td>Средний ценовой сегмент</td>\n",
       "      <td>2019-04-01</td>\n",
       "    </tr>\n",
       "  </tbody>\n",
       "</table>\n",
       "</div>"
      ],
      "text/plain": [
       "                    date                           customer_id order_id  \\\n",
       "360  2018-10-22 13:00:00  e1443c41-ef4c-4749-a67e-cb94ecfcdcb9    68716   \n",
       "5227 2019-06-13 14:00:00  891f87e2-0077-42b1-b350-5361115ef7c0    71697   \n",
       "3315 2019-04-29 15:00:00  cce13789-408b-44e1-8147-3c74dc393bf1    14701   \n",
       "\n",
       "                                                                                                  product  \\\n",
       "360                                                      Сушилка для белья потолочная Лиана 2,4 м 1703011   \n",
       "5227  Тележка багажная DELTA ТБР-20 коричневый с оранжевым грузоподъемность 25 кг сумка и 50 кг каркас...   \n",
       "3315                                 Тагетис крупноцветковый рассада однолетних цветов в кассете по 10 шт   \n",
       "\n",
       "      quantity  price  revenue    b2b              price_level      month  \n",
       "360          1  734.0    734.0  False  Средний ценовой сегмент 2018-10-01  \n",
       "5227         1  734.0    734.0  False  Средний ценовой сегмент 2019-06-01  \n",
       "3315         2  210.0    420.0  False  Средний ценовой сегмент 2019-04-01  "
      ]
     },
     "execution_count": 43,
     "metadata": {},
     "output_type": "execute_result"
    }
   ],
   "source": [
    "df['month'] = df['date'].astype('datetime64[M]')\n",
    "df.sample(3)"
   ]
  },
  {
   "cell_type": "markdown",
   "metadata": {},
   "source": [
    "Теперь рассчитаем выручку за каждый месяц и построим диаграмму:"
   ]
  },
  {
   "cell_type": "code",
   "execution_count": 44,
   "metadata": {},
   "outputs": [],
   "source": [
    "def dynamic(feature, func, header):\n",
    "    '''\n",
    "    Функция принимает название показателя (колонки) датафрейма,\n",
    "    название агрегирующей функции и заголовок,   \n",
    "    затем строит сводную таблицу этого показателя по месяцам\n",
    "    и возвращает диаграмму с областями\n",
    "    '''\n",
    "    pivot = df.pivot_table(index='month', columns='b2b', values=feature, aggfunc=func)\n",
    "    \n",
    "    pivot.plot(figsize=(14,4), title=header, \n",
    "               grid=True, style='-o', stacked=True, kind='area')\n",
    "    plt.legend(['Обычные потребители','Предприниматели'])\n",
    "    plt.show()"
   ]
  },
  {
   "cell_type": "code",
   "execution_count": 45,
   "metadata": {},
   "outputs": [
    {
     "data": {
      "image/png": "[encoded data removed]",
      "text/plain": [
       "<Figure size 1008x288 with 1 Axes>"
      ]
     },
     "metadata": {
      "needs_background": "light"
     },
     "output_type": "display_data"
    }
   ],
   "source": [
    "dynamic('revenue', 'sum', 'Динамика выручки, у.е.')"
   ]
  },
  {
   "cell_type": "markdown",
   "metadata": {},
   "source": [
    "Судя по графику, выручка падает, и это плохая новость. Причем падение идет за счет сегмента предпринимателей (b2b). Соответственно, наша задача - выручку увеличивать, но сначала нужно найти причину падения. \n",
    "\n",
    "Выручка зависит от количества покупателей, количества заказов и среднего чека, посчитаем эти показатели далее."
   ]
  },
  {
   "cell_type": "markdown",
   "metadata": {},
   "source": [
    "#### Количество покупателей по месяцам"
   ]
  },
  {
   "cell_type": "markdown",
   "metadata": {},
   "source": [
    "Посчитаем количество покупателей за каждый месяц и построим график:"
   ]
  },
  {
   "cell_type": "code",
   "execution_count": 46,
   "metadata": {},
   "outputs": [
    {
     "data": {
      "image/png": "[encoded data removed]",
      "text/plain": [
       "<Figure size 1008x288 with 1 Axes>"
      ]
     },
     "metadata": {
      "needs_background": "light"
     },
     "output_type": "display_data"
    }
   ],
   "source": [
    "dynamic('customer_id', 'nunique', 'Динамика количества покупателей, чел.')"
   ]
  },
  {
   "cell_type": "markdown",
   "metadata": {},
   "source": [
    "В количестве покупателей среди обычных потребителей четко просматриваются: \n",
    "- спад в январе (новогодние каникулы), \n",
    "- пики в декабре (подготовка к новому году), феврале-апреле (подготовка к летнему сезону) и июле (разгар летнего сезона). \n",
    "\n",
    "Количество покупателей-предпринимателей было максимальным также в феврале - апреле, а вот минимумы достигнуты были в июле и августе - в сезон отпусков.\n",
    "\n",
    "Сезонность в количестве покупателей выражена, тенденция к падению не прослеживается."
   ]
  },
  {
   "cell_type": "markdown",
   "metadata": {},
   "source": [
    "#### Количество заказов по месяцам"
   ]
  },
  {
   "cell_type": "markdown",
   "metadata": {},
   "source": [
    "Проверим, как менялось количество заказов в течение рассматриваемого периода:"
   ]
  },
  {
   "cell_type": "code",
   "execution_count": 47,
   "metadata": {},
   "outputs": [
    {
     "data": {
      "image/png": "[encoded data removed]",
      "text/plain": [
       "<Figure size 1008x288 with 1 Axes>"
      ]
     },
     "metadata": {
      "needs_background": "light"
     },
     "output_type": "display_data"
    }
   ],
   "source": [
    "dynamic('order_id', 'nunique', 'Динамика количества заказов, шт.')"
   ]
  },
  {
   "cell_type": "markdown",
   "metadata": {},
   "source": [
    "Количество заказов у предпринимателей упало. У обычных покупателей динамика количества заказов аналогична динамике количества покупателей (это логично, т.к. повторные покупки у нас характерны именно для предпринимателей)."
   ]
  },
  {
   "cell_type": "markdown",
   "metadata": {},
   "source": [
    "#### Средний чек"
   ]
  },
  {
   "cell_type": "markdown",
   "metadata": {},
   "source": [
    "Для более полного представления о текущей ситуации в нашем интернет-магазине изучим также средний чек:"
   ]
  },
  {
   "cell_type": "code",
   "execution_count": 48,
   "metadata": {},
   "outputs": [],
   "source": [
    "def avg_order_value(data, header):\n",
    "    '''\n",
    "    Функция принимает датасет и заголовок,\n",
    "    строит сводную таблицу по выручке и количеству заказов\n",
    "    в разрезе по месяцам и типам покупателей,\n",
    "    добавляет в таблицу расчет среднего чека,\n",
    "    строит диаграмму на основе полученной таблицы\n",
    "    '''\n",
    "    # построение сводной таблицы\n",
    "    aov = data.pivot_table(index='month', columns='b2b', values=['order_id','revenue'],\n",
    "                           aggfunc={'order_id':'nunique','revenue':'sum'})\\\n",
    "                .reset_index()\n",
    "    \n",
    "    # переименование колонок сводной таблицы\n",
    "    aov.columns = ['month', 'orders_b2c', 'orders_b2b', 'revenue_b2c', 'revenue_b2b']\n",
    "    \n",
    "    # добавление новых колонок в таблицу с расчетом среднего чека\n",
    "    aov['aov_b2c'] = round(aov['revenue_b2c'] / aov['orders_b2c'],0)\n",
    "    aov['aov_b2b'] = round(aov['revenue_b2b'] / aov['orders_b2b'],0)\n",
    "    \n",
    "    # вывод на печать сводной таблицы\n",
    "    print(header)\n",
    "    display(aov)\n",
    "    \n",
    "    # построение диаграммы\n",
    "    aov.plot(figsize=(14,4), title=header, grid=True, style='-o', \n",
    "             y=['aov_b2c', 'aov_b2b'], stacked=True, kind='area',\n",
    "            x='month')\n",
    "    plt.xlabel('Месяц')\n",
    "    plt.legend(['Обычные потребители','Предприниматели'])\n",
    "    plt.show()    "
   ]
  },
  {
   "cell_type": "code",
   "execution_count": 49,
   "metadata": {
    "scrolled": true
   },
   "outputs": [
    {
     "name": "stdout",
     "output_type": "stream",
     "text": [
      "Динамика среднего чека (у.е.) для всех заказов\n"
     ]
    },
    {
     "data": {
      "text/html": [
       "<div>\n",
       "<style scoped>\n",
       "    .dataframe tbody tr th:only-of-type {\n",
       "        vertical-align: middle;\n",
       "    }\n",
       "\n",
       "    .dataframe tbody tr th {\n",
       "        vertical-align: top;\n",
       "    }\n",
       "\n",
       "    .dataframe thead th {\n",
       "        text-align: right;\n",
       "    }\n",
       "</style>\n",
       "<table border=\"1\" class=\"dataframe\">\n",
       "  <thead>\n",
       "    <tr style=\"text-align: right;\">\n",
       "      <th></th>\n",
       "      <th>month</th>\n",
       "      <th>orders_b2c</th>\n",
       "      <th>orders_b2b</th>\n",
       "      <th>revenue_b2c</th>\n",
       "      <th>revenue_b2b</th>\n",
       "      <th>aov_b2c</th>\n",
       "      <th>aov_b2b</th>\n",
       "    </tr>\n",
       "  </thead>\n",
       "  <tbody>\n",
       "    <tr>\n",
       "      <th>0</th>\n",
       "      <td>2018-10-01</td>\n",
       "      <td>176</td>\n",
       "      <td>62</td>\n",
       "      <td>240924.0</td>\n",
       "      <td>109824.0</td>\n",
       "      <td>1369.0</td>\n",
       "      <td>1771.0</td>\n",
       "    </tr>\n",
       "    <tr>\n",
       "      <th>1</th>\n",
       "      <td>2018-11-01</td>\n",
       "      <td>173</td>\n",
       "      <td>31</td>\n",
       "      <td>252060.0</td>\n",
       "      <td>107712.0</td>\n",
       "      <td>1457.0</td>\n",
       "      <td>3475.0</td>\n",
       "    </tr>\n",
       "    <tr>\n",
       "      <th>2</th>\n",
       "      <td>2018-12-01</td>\n",
       "      <td>223</td>\n",
       "      <td>57</td>\n",
       "      <td>237732.0</td>\n",
       "      <td>108007.0</td>\n",
       "      <td>1066.0</td>\n",
       "      <td>1895.0</td>\n",
       "    </tr>\n",
       "    <tr>\n",
       "      <th>3</th>\n",
       "      <td>2019-01-01</td>\n",
       "      <td>150</td>\n",
       "      <td>19</td>\n",
       "      <td>143956.0</td>\n",
       "      <td>90915.0</td>\n",
       "      <td>960.0</td>\n",
       "      <td>4785.0</td>\n",
       "    </tr>\n",
       "    <tr>\n",
       "      <th>4</th>\n",
       "      <td>2019-02-01</td>\n",
       "      <td>244</td>\n",
       "      <td>45</td>\n",
       "      <td>225928.0</td>\n",
       "      <td>80609.0</td>\n",
       "      <td>926.0</td>\n",
       "      <td>1791.0</td>\n",
       "    </tr>\n",
       "    <tr>\n",
       "      <th>5</th>\n",
       "      <td>2019-03-01</td>\n",
       "      <td>224</td>\n",
       "      <td>25</td>\n",
       "      <td>224228.0</td>\n",
       "      <td>32712.0</td>\n",
       "      <td>1001.0</td>\n",
       "      <td>1308.0</td>\n",
       "    </tr>\n",
       "    <tr>\n",
       "      <th>6</th>\n",
       "      <td>2019-04-01</td>\n",
       "      <td>247</td>\n",
       "      <td>18</td>\n",
       "      <td>252623.0</td>\n",
       "      <td>64068.0</td>\n",
       "      <td>1023.0</td>\n",
       "      <td>3559.0</td>\n",
       "    </tr>\n",
       "    <tr>\n",
       "      <th>7</th>\n",
       "      <td>2019-05-01</td>\n",
       "      <td>170</td>\n",
       "      <td>10</td>\n",
       "      <td>189473.0</td>\n",
       "      <td>42305.0</td>\n",
       "      <td>1115.0</td>\n",
       "      <td>4230.0</td>\n",
       "    </tr>\n",
       "    <tr>\n",
       "      <th>8</th>\n",
       "      <td>2019-06-01</td>\n",
       "      <td>155</td>\n",
       "      <td>8</td>\n",
       "      <td>168151.0</td>\n",
       "      <td>72027.0</td>\n",
       "      <td>1085.0</td>\n",
       "      <td>9003.0</td>\n",
       "    </tr>\n",
       "    <tr>\n",
       "      <th>9</th>\n",
       "      <td>2019-07-01</td>\n",
       "      <td>190</td>\n",
       "      <td>7</td>\n",
       "      <td>221805.0</td>\n",
       "      <td>4795.0</td>\n",
       "      <td>1167.0</td>\n",
       "      <td>685.0</td>\n",
       "    </tr>\n",
       "    <tr>\n",
       "      <th>10</th>\n",
       "      <td>2019-08-01</td>\n",
       "      <td>171</td>\n",
       "      <td>4</td>\n",
       "      <td>176555.0</td>\n",
       "      <td>4676.0</td>\n",
       "      <td>1032.0</td>\n",
       "      <td>1169.0</td>\n",
       "    </tr>\n",
       "    <tr>\n",
       "      <th>11</th>\n",
       "      <td>2019-09-01</td>\n",
       "      <td>174</td>\n",
       "      <td>6</td>\n",
       "      <td>166448.0</td>\n",
       "      <td>13032.0</td>\n",
       "      <td>957.0</td>\n",
       "      <td>2172.0</td>\n",
       "    </tr>\n",
       "    <tr>\n",
       "      <th>12</th>\n",
       "      <td>2019-10-01</td>\n",
       "      <td>189</td>\n",
       "      <td>12</td>\n",
       "      <td>186293.0</td>\n",
       "      <td>24796.0</td>\n",
       "      <td>986.0</td>\n",
       "      <td>2066.0</td>\n",
       "    </tr>\n",
       "  </tbody>\n",
       "</table>\n",
       "</div>"
      ],
      "text/plain": [
       "        month  orders_b2c  orders_b2b  revenue_b2c  revenue_b2b  aov_b2c  \\\n",
       "0  2018-10-01         176          62     240924.0     109824.0   1369.0   \n",
       "1  2018-11-01         173          31     252060.0     107712.0   1457.0   \n",
       "2  2018-12-01         223          57     237732.0     108007.0   1066.0   \n",
       "3  2019-01-01         150          19     143956.0      90915.0    960.0   \n",
       "4  2019-02-01         244          45     225928.0      80609.0    926.0   \n",
       "5  2019-03-01         224          25     224228.0      32712.0   1001.0   \n",
       "6  2019-04-01         247          18     252623.0      64068.0   1023.0   \n",
       "7  2019-05-01         170          10     189473.0      42305.0   1115.0   \n",
       "8  2019-06-01         155           8     168151.0      72027.0   1085.0   \n",
       "9  2019-07-01         190           7     221805.0       4795.0   1167.0   \n",
       "10 2019-08-01         171           4     176555.0       4676.0   1032.0   \n",
       "11 2019-09-01         174           6     166448.0      13032.0    957.0   \n",
       "12 2019-10-01         189          12     186293.0      24796.0    986.0   \n",
       "\n",
       "    aov_b2b  \n",
       "0    1771.0  \n",
       "1    3475.0  \n",
       "2    1895.0  \n",
       "3    4785.0  \n",
       "4    1791.0  \n",
       "5    1308.0  \n",
       "6    3559.0  \n",
       "7    4230.0  \n",
       "8    9003.0  \n",
       "9     685.0  \n",
       "10   1169.0  \n",
       "11   2172.0  \n",
       "12   2066.0  "
      ]
     },
     "metadata": {},
     "output_type": "display_data"
    },
    {
     "data": {
      "image/png": "[encoded data removed]",
      "text/plain": [
       "<Figure size 1008x288 with 1 Axes>"
      ]
     },
     "metadata": {
      "needs_background": "light"
     },
     "output_type": "display_data"
    }
   ],
   "source": [
    "avg_order_value(df, 'Динамика среднего чека (у.е.) для всех заказов')"
   ]
  },
  {
   "cell_type": "markdown",
   "metadata": {},
   "source": [
    "Для сравнения, сделаем то же самое для датафрейма без крупных заказов (более 9 000 у.е.):"
   ]
  },
  {
   "cell_type": "code",
   "execution_count": 50,
   "metadata": {
    "scrolled": true
   },
   "outputs": [
    {
     "name": "stdout",
     "output_type": "stream",
     "text": [
      "Динамика среднего чека (у.е.) без учета крупных заказов (более 9 000 у.е.)\n"
     ]
    },
    {
     "data": {
      "text/html": [
       "<div>\n",
       "<style scoped>\n",
       "    .dataframe tbody tr th:only-of-type {\n",
       "        vertical-align: middle;\n",
       "    }\n",
       "\n",
       "    .dataframe tbody tr th {\n",
       "        vertical-align: top;\n",
       "    }\n",
       "\n",
       "    .dataframe thead th {\n",
       "        text-align: right;\n",
       "    }\n",
       "</style>\n",
       "<table border=\"1\" class=\"dataframe\">\n",
       "  <thead>\n",
       "    <tr style=\"text-align: right;\">\n",
       "      <th></th>\n",
       "      <th>month</th>\n",
       "      <th>orders_b2c</th>\n",
       "      <th>orders_b2b</th>\n",
       "      <th>revenue_b2c</th>\n",
       "      <th>revenue_b2b</th>\n",
       "      <th>aov_b2c</th>\n",
       "      <th>aov_b2b</th>\n",
       "    </tr>\n",
       "  </thead>\n",
       "  <tbody>\n",
       "    <tr>\n",
       "      <th>0</th>\n",
       "      <td>2018-10-01</td>\n",
       "      <td>175</td>\n",
       "      <td>61</td>\n",
       "      <td>218868.0</td>\n",
       "      <td>100814.0</td>\n",
       "      <td>1251.0</td>\n",
       "      <td>1653.0</td>\n",
       "    </tr>\n",
       "    <tr>\n",
       "      <th>1</th>\n",
       "      <td>2018-11-01</td>\n",
       "      <td>172</td>\n",
       "      <td>29</td>\n",
       "      <td>227690.0</td>\n",
       "      <td>64117.0</td>\n",
       "      <td>1324.0</td>\n",
       "      <td>2211.0</td>\n",
       "    </tr>\n",
       "    <tr>\n",
       "      <th>2</th>\n",
       "      <td>2018-12-01</td>\n",
       "      <td>223</td>\n",
       "      <td>56</td>\n",
       "      <td>237732.0</td>\n",
       "      <td>75289.0</td>\n",
       "      <td>1066.0</td>\n",
       "      <td>1344.0</td>\n",
       "    </tr>\n",
       "    <tr>\n",
       "      <th>3</th>\n",
       "      <td>2019-01-01</td>\n",
       "      <td>150</td>\n",
       "      <td>17</td>\n",
       "      <td>143956.0</td>\n",
       "      <td>32280.0</td>\n",
       "      <td>960.0</td>\n",
       "      <td>1899.0</td>\n",
       "    </tr>\n",
       "    <tr>\n",
       "      <th>4</th>\n",
       "      <td>2019-02-01</td>\n",
       "      <td>243</td>\n",
       "      <td>44</td>\n",
       "      <td>209392.0</td>\n",
       "      <td>69609.0</td>\n",
       "      <td>862.0</td>\n",
       "      <td>1582.0</td>\n",
       "    </tr>\n",
       "    <tr>\n",
       "      <th>5</th>\n",
       "      <td>2019-03-01</td>\n",
       "      <td>224</td>\n",
       "      <td>25</td>\n",
       "      <td>224228.0</td>\n",
       "      <td>32712.0</td>\n",
       "      <td>1001.0</td>\n",
       "      <td>1308.0</td>\n",
       "    </tr>\n",
       "    <tr>\n",
       "      <th>6</th>\n",
       "      <td>2019-04-01</td>\n",
       "      <td>247</td>\n",
       "      <td>15</td>\n",
       "      <td>252623.0</td>\n",
       "      <td>22732.0</td>\n",
       "      <td>1023.0</td>\n",
       "      <td>1515.0</td>\n",
       "    </tr>\n",
       "    <tr>\n",
       "      <th>7</th>\n",
       "      <td>2019-05-01</td>\n",
       "      <td>170</td>\n",
       "      <td>8</td>\n",
       "      <td>189473.0</td>\n",
       "      <td>16349.0</td>\n",
       "      <td>1115.0</td>\n",
       "      <td>2044.0</td>\n",
       "    </tr>\n",
       "    <tr>\n",
       "      <th>8</th>\n",
       "      <td>2019-06-01</td>\n",
       "      <td>155</td>\n",
       "      <td>6</td>\n",
       "      <td>168151.0</td>\n",
       "      <td>11195.0</td>\n",
       "      <td>1085.0</td>\n",
       "      <td>1866.0</td>\n",
       "    </tr>\n",
       "    <tr>\n",
       "      <th>9</th>\n",
       "      <td>2019-07-01</td>\n",
       "      <td>189</td>\n",
       "      <td>7</td>\n",
       "      <td>206888.0</td>\n",
       "      <td>4795.0</td>\n",
       "      <td>1095.0</td>\n",
       "      <td>685.0</td>\n",
       "    </tr>\n",
       "    <tr>\n",
       "      <th>10</th>\n",
       "      <td>2019-08-01</td>\n",
       "      <td>171</td>\n",
       "      <td>4</td>\n",
       "      <td>176555.0</td>\n",
       "      <td>4676.0</td>\n",
       "      <td>1032.0</td>\n",
       "      <td>1169.0</td>\n",
       "    </tr>\n",
       "    <tr>\n",
       "      <th>11</th>\n",
       "      <td>2019-09-01</td>\n",
       "      <td>174</td>\n",
       "      <td>6</td>\n",
       "      <td>166448.0</td>\n",
       "      <td>13032.0</td>\n",
       "      <td>957.0</td>\n",
       "      <td>2172.0</td>\n",
       "    </tr>\n",
       "    <tr>\n",
       "      <th>12</th>\n",
       "      <td>2019-10-01</td>\n",
       "      <td>189</td>\n",
       "      <td>12</td>\n",
       "      <td>186293.0</td>\n",
       "      <td>24796.0</td>\n",
       "      <td>986.0</td>\n",
       "      <td>2066.0</td>\n",
       "    </tr>\n",
       "  </tbody>\n",
       "</table>\n",
       "</div>"
      ],
      "text/plain": [
       "        month  orders_b2c  orders_b2b  revenue_b2c  revenue_b2b  aov_b2c  \\\n",
       "0  2018-10-01         175          61     218868.0     100814.0   1251.0   \n",
       "1  2018-11-01         172          29     227690.0      64117.0   1324.0   \n",
       "2  2018-12-01         223          56     237732.0      75289.0   1066.0   \n",
       "3  2019-01-01         150          17     143956.0      32280.0    960.0   \n",
       "4  2019-02-01         243          44     209392.0      69609.0    862.0   \n",
       "5  2019-03-01         224          25     224228.0      32712.0   1001.0   \n",
       "6  2019-04-01         247          15     252623.0      22732.0   1023.0   \n",
       "7  2019-05-01         170           8     189473.0      16349.0   1115.0   \n",
       "8  2019-06-01         155           6     168151.0      11195.0   1085.0   \n",
       "9  2019-07-01         189           7     206888.0       4795.0   1095.0   \n",
       "10 2019-08-01         171           4     176555.0       4676.0   1032.0   \n",
       "11 2019-09-01         174           6     166448.0      13032.0    957.0   \n",
       "12 2019-10-01         189          12     186293.0      24796.0    986.0   \n",
       "\n",
       "    aov_b2b  \n",
       "0    1653.0  \n",
       "1    2211.0  \n",
       "2    1344.0  \n",
       "3    1899.0  \n",
       "4    1582.0  \n",
       "5    1308.0  \n",
       "6    1515.0  \n",
       "7    2044.0  \n",
       "8    1866.0  \n",
       "9     685.0  \n",
       "10   1169.0  \n",
       "11   2172.0  \n",
       "12   2066.0  "
      ]
     },
     "metadata": {},
     "output_type": "display_data"
    },
    {
     "data": {
      "image/png": "[encoded data removed]",
      "text/plain": [
       "<Figure size 1008x288 with 1 Axes>"
      ]
     },
     "metadata": {
      "needs_background": "light"
     },
     "output_type": "display_data"
    }
   ],
   "source": [
    "avg_order_value(df.query('order_id not in @large_orders_list'), \n",
    "                'Динамика среднего чека (у.е.) без учета крупных заказов (более 9 000 у.е.)')"
   ]
  },
  {
   "cell_type": "markdown",
   "metadata": {},
   "source": [
    "Исключение из анализа крупных заказов сгладило пики, но не изменило тенденции.\n",
    "\n",
    "Средний чек обычных массовых потребителей, приобретающих товары в небольших количествах для себя, весь период был относительно стабильным. Небольшое снижение есть (октябрь 2019 / октябрь 2018), но для прослеживания явной тенденции нужно рассматривать более длительный период, желательно 2 года.\n",
    "\n",
    "Cредний чек предпринимателей имеет выраженную сезонность: \n",
    "- увеличение в сентябре-ноябре (подготовка к новому году), январе (простые люди отдыхают - у кафе, гостиниц и др.предприятий сферы услуг - высокий сезон), мае-июне (подготовка к летнему высокому сезону)\n",
    "- снижение в июле-августе (время отпусков руководителй и персонала)\n",
    "\n",
    "Итак, выручка у нас падает из-за снижения количества заказов предпринимателей."
   ]
  },
  {
   "cell_type": "markdown",
   "metadata": {},
   "source": [
    "### Вывод"
   ]
  },
  {
   "cell_type": "markdown",
   "metadata": {},
   "source": [
    "**Количество покупателей и заказов**\n",
    "\n",
    "\n",
    "За период с октября 2018 по октябрь 2019\n",
    "- наш интернет-магазин посетили 2 422 покупателя;\n",
    "- оформлено 2 783 заказа, т.е. повторных заказов 361 шт. или 13% от общего числа заказов;\n",
    "- среди покупателей можно выделить обычных потребителей (95%) - покупают товары в количестве 1-2 шт., реже до 10 шт.  и предпринимателей (5%) - покупают от 10 шт. и более одного наименования;\n",
    "- на обычных потребителей приходится 89% заказов (по количеству), на предпринимателей - 11%;\n",
    "\n",
    "\n",
    "**Цены и аасортимент**\n",
    "\n",
    "\n",
    "В магазине представлено (продано за анализируемый период) 2 337 наименований товаров.\n",
    "\n",
    "\n",
    "Цены колеблются от 9 до 15 000 у.е.\n",
    "\n",
    "\n",
    "Ассортимент товаров мы разделили на 3 ценовых сегмента:\n",
    "- дешевые (до 200 у.е.) - 53% наименований\n",
    "- средний ценовой сегмент (от 200 до 1200 у.е.) - 32% наименований\n",
    "- дорогостоящие (свыше 1200 у.е.) - 14% наименований\n",
    "\n",
    "\n",
    "**Стоимость заказов, выручка и средний чек**\n",
    "\n",
    "\n",
    "Стоимость заказов:\n",
    "- варьируется от 14 до 500 000 у.е. \n",
    "- медианная стоимость - 688 у.е.\n",
    "- заказы стоимостью свыше 9000 у.е. мы сочли выбросами (крупными заказами), но не стали исключать из анализа, т.к. они либо относятся к заказам предпринимателей, либо содержат дорогостоящие позиции, т.е. при желании их можно отфильтровать и анализировать отдельно.\n",
    "\n",
    "Выручка:\n",
    "- динамика выручки по месяцам носит сезонный характер и аналогична динамике количества покупателей и динамике количества заказов;\n",
    "- для обычных покупателей пики активности приходятся на декабрь, февраль-апрель и июль; спад наблюдается в январе и июне;\n",
    "- для предпринимателей пики активности приходятся на февраль-апрель, а спад - на июль-август;\n",
    "- выручка от продаж предпринимателям имеет тенденцию к снижению за счет уменьшения количества заказов.\n",
    "\n",
    "Средний чек:\n",
    "- средний чек обычных покупателей в течение всего периода колебался незначительно (от 900 до 1300 у.е. без учета крупных заказов, от 900 до 1500 с учетом крупных заказов);\n",
    "- средний чек предпринимателей варьируется от 700 до 2200 у.е. без учета крупных заказов (от 700 до 9 000 у.е. с учетом крупных заказов);\n",
    "- средний чек предпринимателей имеет выраженную сезонность: увеличение в сентябре-ноябре, январе, мае-июне; снижение в июле.\n",
    "\n",
    "Для увеличения выручки рекомендуется:\n",
    "- поощрять повторные и крупные заказы, особенно предпринимателей (скидки/бонусы - но выборочно и предварительно просчитав экономическую целесообразность);\n",
    "- повышать средний чек за счет увеличения  количества позиций в заказе - рекомендовать всем покупателям сопутствующие товары."
   ]
  },
  {
   "cell_type": "markdown",
   "metadata": {},
   "source": [
    "## Анализ ассортимента"
   ]
  },
  {
   "cell_type": "markdown",
   "metadata": {},
   "source": [
    "### Категории товаров по назначению"
   ]
  },
  {
   "cell_type": "markdown",
   "metadata": {},
   "source": [
    "Чтобы разбить ассортимент на категории по назначению, сначала приведем названия товаров к нижнему регистру, заменим ё на е, удалим кавычки, скобки, знаки препинания, символы и лишние пробелы:"
   ]
  },
  {
   "cell_type": "code",
   "execution_count": 51,
   "metadata": {},
   "outputs": [
    {
     "data": {
      "text/html": [
       "<div>\n",
       "<style scoped>\n",
       "    .dataframe tbody tr th:only-of-type {\n",
       "        vertical-align: middle;\n",
       "    }\n",
       "\n",
       "    .dataframe tbody tr th {\n",
       "        vertical-align: top;\n",
       "    }\n",
       "\n",
       "    .dataframe thead th {\n",
       "        text-align: right;\n",
       "    }\n",
       "</style>\n",
       "<table border=\"1\" class=\"dataframe\">\n",
       "  <thead>\n",
       "    <tr style=\"text-align: right;\">\n",
       "      <th></th>\n",
       "      <th>date</th>\n",
       "      <th>customer_id</th>\n",
       "      <th>order_id</th>\n",
       "      <th>product</th>\n",
       "      <th>quantity</th>\n",
       "      <th>price</th>\n",
       "      <th>revenue</th>\n",
       "      <th>b2b</th>\n",
       "      <th>price_level</th>\n",
       "      <th>month</th>\n",
       "    </tr>\n",
       "  </thead>\n",
       "  <tbody>\n",
       "    <tr>\n",
       "      <th>0</th>\n",
       "      <td>2018-10-01 00:00:00</td>\n",
       "      <td>ee47d746-6d2f-4d3c-9622-c31412542920</td>\n",
       "      <td>68477</td>\n",
       "      <td>комнатное растение в горшке алое вера d12 h30</td>\n",
       "      <td>1</td>\n",
       "      <td>142.0</td>\n",
       "      <td>142.0</td>\n",
       "      <td>False</td>\n",
       "      <td>Дешевые</td>\n",
       "      <td>2018-10-01</td>\n",
       "    </tr>\n",
       "    <tr>\n",
       "      <th>1</th>\n",
       "      <td>2018-10-01 00:00:00</td>\n",
       "      <td>ee47d746-6d2f-4d3c-9622-c31412542920</td>\n",
       "      <td>68477</td>\n",
       "      <td>комнатное растение в горшке кофе арабика d12 h25</td>\n",
       "      <td>1</td>\n",
       "      <td>194.0</td>\n",
       "      <td>194.0</td>\n",
       "      <td>False</td>\n",
       "      <td>Дешевые</td>\n",
       "      <td>2018-10-01</td>\n",
       "    </tr>\n",
       "    <tr>\n",
       "      <th>2</th>\n",
       "      <td>2018-10-01 00:00:00</td>\n",
       "      <td>ee47d746-6d2f-4d3c-9622-c31412542920</td>\n",
       "      <td>68477</td>\n",
       "      <td>радермахера d 12 см h 20 см</td>\n",
       "      <td>1</td>\n",
       "      <td>112.0</td>\n",
       "      <td>112.0</td>\n",
       "      <td>False</td>\n",
       "      <td>Дешевые</td>\n",
       "      <td>2018-10-01</td>\n",
       "    </tr>\n",
       "    <tr>\n",
       "      <th>3</th>\n",
       "      <td>2018-10-01 00:00:00</td>\n",
       "      <td>ee47d746-6d2f-4d3c-9622-c31412542920</td>\n",
       "      <td>68477</td>\n",
       "      <td>хризолидокарпус лутесценс d 9 см</td>\n",
       "      <td>1</td>\n",
       "      <td>179.0</td>\n",
       "      <td>179.0</td>\n",
       "      <td>False</td>\n",
       "      <td>Дешевые</td>\n",
       "      <td>2018-10-01</td>\n",
       "    </tr>\n",
       "    <tr>\n",
       "      <th>4</th>\n",
       "      <td>2018-10-01 00:00:00</td>\n",
       "      <td>ee47d746-6d2f-4d3c-9622-c31412542920</td>\n",
       "      <td>68477</td>\n",
       "      <td>циперус зумула d 12 см h 25 см</td>\n",
       "      <td>1</td>\n",
       "      <td>112.0</td>\n",
       "      <td>112.0</td>\n",
       "      <td>False</td>\n",
       "      <td>Дешевые</td>\n",
       "      <td>2018-10-01</td>\n",
       "    </tr>\n",
       "    <tr>\n",
       "      <th>5</th>\n",
       "      <td>2018-10-01 00:00:00</td>\n",
       "      <td>ee47d746-6d2f-4d3c-9622-c31412542920</td>\n",
       "      <td>68477</td>\n",
       "      <td>шеффлера лузеана d 9 см</td>\n",
       "      <td>1</td>\n",
       "      <td>164.0</td>\n",
       "      <td>164.0</td>\n",
       "      <td>False</td>\n",
       "      <td>Дешевые</td>\n",
       "      <td>2018-10-01</td>\n",
       "    </tr>\n",
       "    <tr>\n",
       "      <th>6</th>\n",
       "      <td>2018-10-01 00:00:00</td>\n",
       "      <td>ee47d746-6d2f-4d3c-9622-c31412542920</td>\n",
       "      <td>68477</td>\n",
       "      <td>юкка нитчатая d 12 см h 25 35 см</td>\n",
       "      <td>1</td>\n",
       "      <td>134.0</td>\n",
       "      <td>134.0</td>\n",
       "      <td>False</td>\n",
       "      <td>Дешевые</td>\n",
       "      <td>2018-10-01</td>\n",
       "    </tr>\n",
       "    <tr>\n",
       "      <th>7</th>\n",
       "      <td>2018-10-01 08:00:00</td>\n",
       "      <td>375e0724-f033-4c76-b579-84969cf38ee2</td>\n",
       "      <td>68479</td>\n",
       "      <td>настенная сушилка для белья gimi brio super 100</td>\n",
       "      <td>1</td>\n",
       "      <td>824.0</td>\n",
       "      <td>824.0</td>\n",
       "      <td>False</td>\n",
       "      <td>Средний ценовой сегмент</td>\n",
       "      <td>2018-10-01</td>\n",
       "    </tr>\n",
       "    <tr>\n",
       "      <th>8</th>\n",
       "      <td>2018-10-01 08:00:00</td>\n",
       "      <td>6644e5b4-9934-4863-9778-aaa125207701</td>\n",
       "      <td>68478</td>\n",
       "      <td>таз пластмассовый 210 л круглый водолей с614 1404056</td>\n",
       "      <td>1</td>\n",
       "      <td>269.0</td>\n",
       "      <td>269.0</td>\n",
       "      <td>False</td>\n",
       "      <td>Средний ценовой сегмент</td>\n",
       "      <td>2018-10-01</td>\n",
       "    </tr>\n",
       "    <tr>\n",
       "      <th>9</th>\n",
       "      <td>2018-10-01 09:00:00</td>\n",
       "      <td>c971fb21-d54c-4134-938f-16b62ee86d3b</td>\n",
       "      <td>68480</td>\n",
       "      <td>чехол для гладильной доски colombo persia beige 130х50 см из хлопка 5379</td>\n",
       "      <td>1</td>\n",
       "      <td>674.0</td>\n",
       "      <td>674.0</td>\n",
       "      <td>True</td>\n",
       "      <td>Средний ценовой сегмент</td>\n",
       "      <td>2018-10-01</td>\n",
       "    </tr>\n",
       "  </tbody>\n",
       "</table>\n",
       "</div>"
      ],
      "text/plain": [
       "                 date                           customer_id order_id  \\\n",
       "0 2018-10-01 00:00:00  ee47d746-6d2f-4d3c-9622-c31412542920    68477   \n",
       "1 2018-10-01 00:00:00  ee47d746-6d2f-4d3c-9622-c31412542920    68477   \n",
       "2 2018-10-01 00:00:00  ee47d746-6d2f-4d3c-9622-c31412542920    68477   \n",
       "3 2018-10-01 00:00:00  ee47d746-6d2f-4d3c-9622-c31412542920    68477   \n",
       "4 2018-10-01 00:00:00  ee47d746-6d2f-4d3c-9622-c31412542920    68477   \n",
       "5 2018-10-01 00:00:00  ee47d746-6d2f-4d3c-9622-c31412542920    68477   \n",
       "6 2018-10-01 00:00:00  ee47d746-6d2f-4d3c-9622-c31412542920    68477   \n",
       "7 2018-10-01 08:00:00  375e0724-f033-4c76-b579-84969cf38ee2    68479   \n",
       "8 2018-10-01 08:00:00  6644e5b4-9934-4863-9778-aaa125207701    68478   \n",
       "9 2018-10-01 09:00:00  c971fb21-d54c-4134-938f-16b62ee86d3b    68480   \n",
       "\n",
       "                                                                    product  \\\n",
       "0                             комнатное растение в горшке алое вера d12 h30   \n",
       "1                          комнатное растение в горшке кофе арабика d12 h25   \n",
       "2                                               радермахера d 12 см h 20 см   \n",
       "3                                          хризолидокарпус лутесценс d 9 см   \n",
       "4                                            циперус зумула d 12 см h 25 см   \n",
       "5                                                   шеффлера лузеана d 9 см   \n",
       "6                                          юкка нитчатая d 12 см h 25 35 см   \n",
       "7                           настенная сушилка для белья gimi brio super 100   \n",
       "8                      таз пластмассовый 210 л круглый водолей с614 1404056   \n",
       "9  чехол для гладильной доски colombo persia beige 130х50 см из хлопка 5379   \n",
       "\n",
       "   quantity  price  revenue    b2b              price_level      month  \n",
       "0         1  142.0    142.0  False                  Дешевые 2018-10-01  \n",
       "1         1  194.0    194.0  False                  Дешевые 2018-10-01  \n",
       "2         1  112.0    112.0  False                  Дешевые 2018-10-01  \n",
       "3         1  179.0    179.0  False                  Дешевые 2018-10-01  \n",
       "4         1  112.0    112.0  False                  Дешевые 2018-10-01  \n",
       "5         1  164.0    164.0  False                  Дешевые 2018-10-01  \n",
       "6         1  134.0    134.0  False                  Дешевые 2018-10-01  \n",
       "7         1  824.0    824.0  False  Средний ценовой сегмент 2018-10-01  \n",
       "8         1  269.0    269.0  False  Средний ценовой сегмент 2018-10-01  \n",
       "9         1  674.0    674.0   True  Средний ценовой сегмент 2018-10-01  "
      ]
     },
     "execution_count": 51,
     "metadata": {},
     "output_type": "execute_result"
    }
   ],
   "source": [
    "df['product'] = df['product'].str.lower()\n",
    "\n",
    "replace_values={'\"':'',\n",
    "               '(':'',\n",
    "               ')':'',\n",
    "               '  ':' ',\n",
    "               'ё':'е',\n",
    "               '-':' ',\n",
    "               ',':'',\n",
    "               '.':'',\n",
    "               ':':'',\n",
    "               '+':'',\n",
    "               '=':'',\n",
    "               '/':'',\n",
    "               '%':'',\n",
    "               '*':'',\n",
    "               '_':'',\n",
    "               '№':''}\n",
    "\n",
    "def multiple_replace(row, replace_values):\n",
    "    '''\n",
    "    Функция, которая принимает исходную строку и словарь замен,\n",
    "    а возвращает измененную строку\n",
    "    '''\n",
    "    for i, j in replace_values.items():\n",
    "        row = row.str.replace(i, j)\n",
    "    return row\n",
    "\n",
    "df['product'] = multiple_replace(df['product'], replace_values)\n",
    "df.head(10)"
   ]
  },
  {
   "cell_type": "markdown",
   "metadata": {},
   "source": [
    "Попробуем сформировать список ключевых слов, по которым будем выделять категории. Для этого сначала объединим все названия в строку:"
   ]
  },
  {
   "cell_type": "code",
   "execution_count": 52,
   "metadata": {},
   "outputs": [],
   "source": [
    "products_list = df['product'].unique()\n",
    "key_words = ' '.join(products_list)"
   ]
  },
  {
   "cell_type": "markdown",
   "metadata": {},
   "source": [
    "Теперь удалим цифры:"
   ]
  },
  {
   "cell_type": "code",
   "execution_count": 53,
   "metadata": {},
   "outputs": [],
   "source": [
    "key_words = re.sub('\\d+', '', key_words)"
   ]
  },
  {
   "cell_type": "markdown",
   "metadata": {},
   "source": [
    "Далее удалим слова короче 3х букв:"
   ]
  },
  {
   "cell_type": "code",
   "execution_count": 54,
   "metadata": {},
   "outputs": [
    {
     "data": {
      "text/plain": [
       "['комнатное',\n",
       " 'растение',\n",
       " 'горшке',\n",
       " 'алое',\n",
       " 'вера',\n",
       " 'комнатное',\n",
       " 'растение',\n",
       " 'горшке',\n",
       " 'кофе',\n",
       " 'арабика',\n",
       " 'радермахера',\n",
       " 'хризолидокарпус',\n",
       " 'лутесценс',\n",
       " 'циперус',\n",
       " 'зумула',\n",
       " 'шеффлера',\n",
       " 'лузеана',\n",
       " 'юкка',\n",
       " 'нитчатая',\n",
       " 'настенная',\n",
       " 'сушилка',\n",
       " 'для',\n",
       " 'белья',\n",
       " 'gimi',\n",
       " 'brio',\n",
       " 'super',\n",
       " 'таз',\n",
       " 'пластмассовый',\n",
       " 'круглый',\n",
       " 'водолей',\n",
       " 'чехол',\n",
       " 'для',\n",
       " 'гладильной',\n",
       " 'доски',\n",
       " 'colombo',\n",
       " 'persia',\n",
       " 'beige',\n",
       " 'хлопка',\n",
       " 'вешалка',\n",
       " 'для',\n",
       " 'брюк',\n",
       " 'металлическая',\n",
       " 'резиновым',\n",
       " 'покрытием',\n",
       " 'цвет',\n",
       " 'синяя',\n",
       " 'attribute',\n",
       " 'ahs',\n",
       " 'сушилка',\n",
       " 'для',\n",
       " 'белья',\n",
       " 'потолочная',\n",
       " 'zalger',\n",
       " 'lift',\n",
       " 'basic',\n",
       " 'чехол',\n",
       " 'eurogold',\n",
       " 'clean',\n",
       " 'basic',\n",
       " 'хлопок',\n",
       " 'для',\n",
       " 'досок',\n",
       " 'крючок',\n",
       " 'одежный',\n",
       " 'рожковый',\n",
       " 'серый',\n",
       " 'металлик',\n",
       " 'полимерным',\n",
       " 'покрытием',\n",
       " 'тонар',\n",
       " 'корзина',\n",
       " 'мягкая',\n",
       " 'пластиковая',\n",
       " 'пластика',\n",
       " 'чехол',\n",
       " 'для',\n",
       " 'гладильной',\n",
       " 'доски',\n",
       " 'festival',\n",
       " 'хлопка',\n",
       " 'сумка',\n",
       " 'тележка',\n",
       " 'колесная',\n",
       " 'gimi',\n",
       " 'argo',\n",
       " 'синяя',\n",
       " 'многолетнее',\n",
       " 'растение',\n",
       " 'тимьян',\n",
       " 'чабрец',\n",
       " 'розовый',\n",
       " 'объем',\n",
       " 'рассада',\n",
       " 'зелени',\n",
       " 'для',\n",
       " 'кухни',\n",
       " 'базилик',\n",
       " 'тонус',\n",
       " 'кассета',\n",
       " 'рассада',\n",
       " 'зелени',\n",
       " 'для',\n",
       " 'кухни',\n",
       " 'мелиссы',\n",
       " 'горшке',\n",
       " 'диам',\n",
       " 'муляж',\n",
       " 'райские',\n",
       " 'яблочки',\n",
       " 'зеленые',\n",
       " 'полиуретан',\n",
       " 'муляж',\n",
       " 'банан',\n",
       " 'желтый',\n",
       " 'полиуретан',\n",
       " 'fancy',\n",
       " 'fairff',\n",
       " 'муляж',\n",
       " 'виноград',\n",
       " 'цвет',\n",
       " 'ассортименте',\n",
       " 'муляж',\n",
       " 'гранат',\n",
       " 'красный',\n",
       " 'fancy',\n",
       " 'fair',\n",
       " 'красный',\n",
       " 'муляж',\n",
       " 'груша',\n",
       " 'мини',\n",
       " 'желтая',\n",
       " 'муляж',\n",
       " 'груша',\n",
       " 'желтый',\n",
       " 'полиуретан',\n",
       " 'fancy',\n",
       " 'fairff',\n",
       " 'муляж',\n",
       " 'зеленое',\n",
       " 'яблоко',\n",
       " 'полиуретан',\n",
       " 'муляж',\n",
       " 'клубника',\n",
       " 'полиуретан',\n",
       " 'муляж',\n",
       " 'клубника',\n",
       " 'магните',\n",
       " 'муляж',\n",
       " 'красное',\n",
       " 'яблоко',\n",
       " 'мини',\n",
       " 'полиуретан',\n",
       " 'муляж',\n",
       " 'лимон',\n",
       " 'желтый',\n",
       " 'полиуретан',\n",
       " 'fancy',\n",
       " 'fairff',\n",
       " 'муляж',\n",
       " 'мандарин',\n",
       " 'оранжевый',\n",
       " 'полиуретан',\n",
       " 'fancy',\n",
       " 'fairff',\n",
       " 'муляж',\n",
       " 'перец',\n",
       " 'зеленый',\n",
       " 'полиуретан',\n",
       " 'fancy',\n",
       " 'fairff',\n",
       " 'муляж',\n",
       " 'перец',\n",
       " 'красный',\n",
       " 'полиуретан',\n",
       " 'fancy',\n",
       " 'fairff',\n",
       " 'муляж',\n",
       " 'персики',\n",
       " 'мини',\n",
       " 'полиуретан',\n",
       " 'муляж',\n",
       " 'томат',\n",
       " 'оранжевый',\n",
       " 'полиуретан',\n",
       " 'fancy',\n",
       " 'fairff',\n",
       " 'муляж',\n",
       " 'черешня',\n",
       " 'желтый',\n",
       " 'fancy',\n",
       " 'fair',\n",
       " 'scr',\n",
       " 'желтый',\n",
       " 'щетка',\n",
       " 'сметка',\n",
       " 'рядная',\n",
       " 'деревянная',\n",
       " 'плоская',\n",
       " 'ручка',\n",
       " 'поиск',\n",
       " 'риф',\n",
       " 'щетка',\n",
       " 'сметка',\n",
       " 'рядная',\n",
       " 'деревянная',\n",
       " 'фигурная',\n",
       " 'ручка',\n",
       " 'ворс',\n",
       " 'сумка',\n",
       " 'для',\n",
       " 'тележки',\n",
       " 'большая',\n",
       " 'комбинированная',\n",
       " 'тарелка',\n",
       " 'обеденная',\n",
       " 'лимон',\n",
       " 'фиц',\n",
       " 'luminarc',\n",
       " 'франция',\n",
       " 'вилка',\n",
       " 'столовая',\n",
       " 'ripple',\n",
       " 'сталь',\n",
       " 'attribute',\n",
       " 'acr',\n",
       " 'ложка',\n",
       " 'столовая',\n",
       " 'ripple',\n",
       " 'сталь',\n",
       " 'attribute',\n",
       " 'acr',\n",
       " 'ложка',\n",
       " 'чайная',\n",
       " 'ripple',\n",
       " 'сталь',\n",
       " 'attribute',\n",
       " 'acr',\n",
       " 'нож',\n",
       " 'столовый',\n",
       " 'ripple',\n",
       " 'attribute',\n",
       " 'acr',\n",
       " 'герань',\n",
       " 'домашняя',\n",
       " 'пеларгония',\n",
       " 'зональная',\n",
       " 'цветущая',\n",
       " 'коралловая',\n",
       " 'полумахровая',\n",
       " 'ерш',\n",
       " 'для',\n",
       " 'туалета',\n",
       " 'подставкой',\n",
       " 'malibu',\n",
       " 'фарфор',\n",
       " 'белый',\n",
       " 'spirella',\n",
       " 'пеларгония',\n",
       " 'зональная',\n",
       " 'диам',\n",
       " 'малиновая',\n",
       " 'красным',\n",
       " 'полумахровая',\n",
       " 'пеларгония',\n",
       " 'зональная',\n",
       " 'диам',\n",
       " 'сиренево',\n",
       " 'красная',\n",
       " 'простая',\n",
       " 'пеларгония',\n",
       " 'зональная',\n",
       " 'диам',\n",
       " 'сиреневый',\n",
       " 'полумахровый',\n",
       " 'пеларгония',\n",
       " 'зональная',\n",
       " 'диам',\n",
       " 'сиреневый',\n",
       " 'простая',\n",
       " 'сушилка',\n",
       " 'для',\n",
       " 'белья',\n",
       " 'настенная',\n",
       " 'zalger',\n",
       " 'prima',\n",
       " 'веревочная',\n",
       " 'линий',\n",
       " 'котел',\n",
       " 'алюминиевый',\n",
       " 'без',\n",
       " 'крышки',\n",
       " 'балезино',\n",
       " 'хозлэнд',\n",
       " 'суккулент',\n",
       " 'микс',\n",
       " 'эхеверия',\n",
       " 'перл',\n",
       " 'фон',\n",
       " 'нюрнберг',\n",
       " 'доска',\n",
       " 'гладильная',\n",
       " 'eurogold',\n",
       " 'professional',\n",
       " 'металлическая',\n",
       " 'сетка',\n",
       " 'набор',\n",
       " 'прищепок',\n",
       " 'большие',\n",
       " 'пластиковые',\n",
       " 'rozenbal',\n",
       " 'пиноккио',\n",
       " 'сушилка',\n",
       " 'для',\n",
       " 'белья',\n",
       " 'attribute',\n",
       " 'прима',\n",
       " 'синяя',\n",
       " 'напольная',\n",
       " 'adp',\n",
       " 'коврик',\n",
       " 'придверный',\n",
       " 'хсм',\n",
       " 'рельефным',\n",
       " 'рисунком',\n",
       " 'welcome',\n",
       " 'коричневый',\n",
       " 'коврик',\n",
       " 'bacchetta',\n",
       " 'magicstop',\n",
       " 'бежевый',\n",
       " 'для',\n",
       " 'сушки',\n",
       " 'посуды',\n",
       " 'корзина',\n",
       " 'для',\n",
       " 'глаженного',\n",
       " 'белья',\n",
       " 'natural',\n",
       " 'style',\n",
       " 'коричневая',\n",
       " 'curver',\n",
       " 'корзина',\n",
       " 'пластиковая',\n",
       " 'для',\n",
       " 'белья',\n",
       " 'крышкой',\n",
       " 'бежевая',\n",
       " 'виолет',\n",
       " 'сушилка',\n",
       " 'для',\n",
       " 'белья',\n",
       " 'потолочно',\n",
       " 'настенная',\n",
       " 'gimi',\n",
       " 'lift',\n",
       " 'подкладка',\n",
       " 'под',\n",
       " 'чехол',\n",
       " 'zalger',\n",
       " 'поролон',\n",
       " 'набор',\n",
       " 'кружек',\n",
       " 'для',\n",
       " 'пива',\n",
       " 'гамбург',\n",
       " 'luminarc',\n",
       " 'россия',\n",
       " 'коврик',\n",
       " 'интерьерный',\n",
       " 'для',\n",
       " 'кухни',\n",
       " 'village',\n",
       " 'street',\n",
       " 'floral',\n",
       " 'пвх',\n",
       " 'прямоугольный',\n",
       " 'apache',\n",
       " 'дозатор',\n",
       " 'для',\n",
       " 'мыла',\n",
       " 'hausmann',\n",
       " 'белый',\n",
       " 'ерш',\n",
       " 'унитазный',\n",
       " 'подставкой',\n",
       " 'стандарт',\n",
       " 'мультипласт',\n",
       " 'нож',\n",
       " 'для',\n",
       " 'чистки',\n",
       " 'овощей',\n",
       " 'webber',\n",
       " 'нержавеющей',\n",
       " 'стали',\n",
       " 'подкладка',\n",
       " 'под',\n",
       " 'чехол',\n",
       " 'zalger',\n",
       " 'войлок',\n",
       " 'муляж',\n",
       " 'виноград',\n",
       " 'желтый',\n",
       " 'полиуретан',\n",
       " 'fancy',\n",
       " 'fairg',\n",
       " 'муляж',\n",
       " 'виноград',\n",
       " 'зеленый',\n",
       " 'полиуретан',\n",
       " 'fancy',\n",
       " 'fairg',\n",
       " 'муляж',\n",
       " 'виноград',\n",
       " 'черный',\n",
       " 'полиуретан',\n",
       " 'fancy',\n",
       " 'fairg',\n",
       " 'муляж',\n",
       " 'вишня',\n",
       " 'вишневый',\n",
       " 'полиуретан',\n",
       " 'fancy',\n",
       " 'fairff',\n",
       " 'муляж',\n",
       " 'груша',\n",
       " 'желтый',\n",
       " 'полиуретан',\n",
       " 'fancy',\n",
       " 'fairff',\n",
       " 'муляж',\n",
       " 'персик',\n",
       " 'оранжевый',\n",
       " 'полиуретан',\n",
       " 'fancy',\n",
       " 'fairff',\n",
       " 'набор',\n",
       " 'фужеров',\n",
       " 'luminarc',\n",
       " 'дампьер',\n",
       " 'сильвер',\n",
       " 'для',\n",
       " 'вина',\n",
       " 'цветок',\n",
       " 'искусственный',\n",
       " 'гвоздика',\n",
       " 'тканевая',\n",
       " 'красная',\n",
       " 'ерш',\n",
       " 'унитазный',\n",
       " 'деревянной',\n",
       " 'ручкой',\n",
       " 'ваир',\n",
       " 'эвкалипт',\n",
       " 'гунни',\n",
       " 'сумка',\n",
       " 'тележка',\n",
       " 'хозяйственная',\n",
       " 'gimi',\n",
       " 'market',\n",
       " 'желтая',\n",
       " 'герань',\n",
       " 'домашняя',\n",
       " 'пеларгония',\n",
       " 'зональная',\n",
       " 'цветущая',\n",
       " 'красная',\n",
       " 'махровая',\n",
       " 'мусорный',\n",
       " 'контейнер',\n",
       " 'ванную',\n",
       " 'комнату',\n",
       " 'bowl',\n",
       " 'shiny',\n",
       " 'полистирол',\n",
       " 'белый',\n",
       " 'spirella',\n",
       " 'сумка',\n",
       " 'тележка',\n",
       " 'хозяйственная',\n",
       " 'andersen',\n",
       " 'scala',\n",
       " 'shopper',\n",
       " 'plus',\n",
       " 'elba',\n",
       " 'черная',\n",
       " 'сумка',\n",
       " 'тележка',\n",
       " 'хозяйственная',\n",
       " 'rolser',\n",
       " 'jet',\n",
       " 'cuadro',\n",
       " 'joy',\n",
       " 'серо',\n",
       " 'желтая',\n",
       " 'jet',\n",
       " 'marengo',\n",
       " 'joy',\n",
       " 'плед',\n",
       " 'флисовый',\n",
       " 'полиэстер',\n",
       " 'бежевый',\n",
       " 'wellness',\n",
       " 'айленд',\n",
       " 'скатерть',\n",
       " 'династия',\n",
       " 'полиэфир',\n",
       " 'прямоугольная',\n",
       " 'сливочная',\n",
       " 'wellness',\n",
       " 'династия',\n",
       " 'герань',\n",
       " 'домашняя',\n",
       " 'пеларгония',\n",
       " 'зональная',\n",
       " 'цветущая',\n",
       " 'лососевая',\n",
       " 'махровая',\n",
       " 'коврик',\n",
       " 'хлопковый',\n",
       " 'цвета',\n",
       " 'ассортименте',\n",
       " 'коврик',\n",
       " 'хлопковый',\n",
       " 'цвета',\n",
       " 'ассортименте',\n",
       " 'сушилка',\n",
       " 'для',\n",
       " 'белья',\n",
       " 'батарею',\n",
       " 'ника',\n",
       " 'таз',\n",
       " 'пластмассовый',\n",
       " 'пищевой',\n",
       " 'круглый',\n",
       " 'кувшин',\n",
       " 'пластмассовый',\n",
       " 'крышкой',\n",
       " 'кумган',\n",
       " 'муляж',\n",
       " 'перец',\n",
       " 'чили',\n",
       " 'связке',\n",
       " 'зеленый',\n",
       " 'полиуретан',\n",
       " 'fancy',\n",
       " 'fairff',\n",
       " 'адиантум',\n",
       " 'лиза',\n",
       " 'герань',\n",
       " 'домашняя',\n",
       " 'пеларгония',\n",
       " 'зональная',\n",
       " 'цветущая',\n",
       " 'белая',\n",
       " 'махровая',\n",
       " 'ковер',\n",
       " 'придверный',\n",
       " 'multy',\n",
       " 'rus',\n",
       " 'хсм',\n",
       " 'коричневый',\n",
       " 'перчатки',\n",
       " 'латексные',\n",
       " 'для',\n",
       " 'дома',\n",
       " 'утолщенные',\n",
       " 'rozenbal',\n",
       " 'стремянка',\n",
       " 'алюминиевая',\n",
       " 'hailo',\n",
       " 'livingstep',\n",
       " 'comfort',\n",
       " 'plus',\n",
       " 'ступенчатая',\n",
       " 'алюминиевая',\n",
       " 'пеларгония',\n",
       " 'зональная',\n",
       " 'диам',\n",
       " 'темнорозовая',\n",
       " 'полумахровая',\n",
       " 'гладильная',\n",
       " 'доска',\n",
       " 'gimi',\n",
       " 'jean',\n",
       " 'green',\n",
       " 'line',\n",
       " 'сумка',\n",
       " 'тележка',\n",
       " 'хозяйственная',\n",
       " 'gimi',\n",
       " 'market',\n",
       " 'синяя',\n",
       " 'лестница',\n",
       " 'стремянка',\n",
       " 'dogrular',\n",
       " 'ufuk',\n",
       " 'оцинкованная',\n",
       " 'ступенчатая',\n",
       " 'толкушка',\n",
       " 'для',\n",
       " 'картофеля',\n",
       " 'нержавеющей',\n",
       " 'стали',\n",
       " 'proline',\n",
       " 'leifheit',\n",
       " 'тележка',\n",
       " 'багажная',\n",
       " 'delta',\n",
       " 'тбр',\n",
       " 'коричневый',\n",
       " 'оранжевым',\n",
       " 'грузоподъемность',\n",
       " 'сумка',\n",
       " 'каркас',\n",
       " 'россия',\n",
       " 'готовая',\n",
       " 'скатерть',\n",
       " 'ажурная',\n",
       " 'dia',\n",
       " 'rose',\n",
       " 'круглая',\n",
       " 'белая',\n",
       " 'towa',\n",
       " 'ltd',\n",
       " 'сушилка',\n",
       " 'для',\n",
       " 'белья',\n",
       " 'напольная',\n",
       " 'gimi',\n",
       " 'modular',\n",
       " 'lux',\n",
       " 'silver',\n",
       " 'искусственный',\n",
       " 'цветок',\n",
       " 'роза',\n",
       " 'маргарита',\n",
       " 'пластик',\n",
       " 'простыня',\n",
       " 'резинке',\n",
       " 'односпальная',\n",
       " 'wellness',\n",
       " 'арктик',\n",
       " 'хлопок',\n",
       " 'белая',\n",
       " 'сумка',\n",
       " 'тележка',\n",
       " 'хозяйственная',\n",
       " 'gimi',\n",
       " 'bella',\n",
       " 'синяя',\n",
       " 'чайник',\n",
       " 'эмалированный',\n",
       " 'алые',\n",
       " 'маки',\n",
       " 'свистком',\n",
       " 'ерш',\n",
       " 'для',\n",
       " 'бутылки',\n",
       " 'натурального',\n",
       " 'волокна',\n",
       " 'металла',\n",
       " 'кремовый',\n",
       " 'burstenmann',\n",
       " 'таз',\n",
       " 'пластмассовый',\n",
       " 'квадратный',\n",
       " 'пластхозторг',\n",
       " 'набор',\n",
       " 'вешалок',\n",
       " 'для',\n",
       " 'костюма',\n",
       " 'цвет',\n",
       " 'кремовый',\n",
       " 'attribute',\n",
       " 'ahp',\n",
       " 'таз',\n",
       " 'пластмассовый',\n",
       " 'пищевой',\n",
       " 'овальный',\n",
       " 'ekko',\n",
       " 'штора',\n",
       " 'текстильная',\n",
       " 'для',\n",
       " 'ванны',\n",
       " 'душа',\n",
       " 'полиэстер',\n",
       " 'разноцветные',\n",
       " 'пузырьки',\n",
       " 'хсм',\n",
       " 'розовжелтбелый',\n",
       " 'dscn',\n",
       " 'сушилка',\n",
       " 'для',\n",
       " 'белья',\n",
       " 'потолочно',\n",
       " 'настенная',\n",
       " 'gimi',\n",
       " 'lift',\n",
       " 'таз',\n",
       " 'пластмассовый',\n",
       " 'пищевой',\n",
       " 'овальный',\n",
       " 'ekko',\n",
       " 'таз',\n",
       " 'пластмассовый',\n",
       " 'пищевой',\n",
       " 'таз',\n",
       " 'пластмассовый',\n",
       " 'пищевой',\n",
       " 'минеральные',\n",
       " 'воды',\n",
       " 'настенная',\n",
       " 'сушилка',\n",
       " 'для',\n",
       " 'белья',\n",
       " 'gimi',\n",
       " 'brio',\n",
       " 'super',\n",
       " 'сушилка',\n",
       " 'для',\n",
       " 'белья',\n",
       " 'потолочная',\n",
       " 'лиана',\n",
       " 'банка',\n",
       " 'стеклянной',\n",
       " 'крышкой',\n",
       " 'color',\n",
       " 'series',\n",
       " 'круглая',\n",
       " 'valiant',\n",
       " 'банка',\n",
       " 'стеклянной',\n",
       " 'крышкой',\n",
       " 'color',\n",
       " 'series',\n",
       " 'круглая',\n",
       " 'valiant',\n",
       " 'стяжка',\n",
       " 'оконная',\n",
       " 'болтом',\n",
       " 'цинк',\n",
       " 'сумка',\n",
       " 'тележка',\n",
       " 'колесная',\n",
       " 'gimi',\n",
       " 'tris',\n",
       " 'floral',\n",
       " 'синяя',\n",
       " 'сушилка',\n",
       " 'для',\n",
       " 'белья',\n",
       " 'потолочная',\n",
       " 'лиана',\n",
       " 'люкс',\n",
       " 'лдн',\n",
       " 'крючок',\n",
       " 'одежный',\n",
       " 'тройной',\n",
       " 'латунь',\n",
       " 'набор',\n",
       " 'ковров',\n",
       " 'для',\n",
       " 'ванной',\n",
       " 'комнаты',\n",
       " 'офелия',\n",
       " 'ххсм',\n",
       " 'серыйбежевый',\n",
       " 'ntbm',\n",
       " 'сушилка',\n",
       " 'для',\n",
       " 'белья',\n",
       " 'виолет',\n",
       " 'ricko',\n",
       " 'настенная',\n",
       " 'комплект',\n",
       " 'для',\n",
       " 'ванной',\n",
       " 'туалета',\n",
       " 'dasch',\n",
       " 'лавр',\n",
       " 'бежевый',\n",
       " 'тележка',\n",
       " 'багажная',\n",
       " 'delta',\n",
       " 'тбр',\n",
       " 'синий',\n",
       " 'грузоподъемность',\n",
       " 'сумка',\n",
       " 'каркас',\n",
       " 'россия',\n",
       " 'сумка',\n",
       " 'тележка',\n",
       " 'хозяйственная',\n",
       " 'andersen',\n",
       " 'scala',\n",
       " 'shopper',\n",
       " 'elba',\n",
       " 'черная',\n",
       " 'муляж',\n",
       " 'апельсин',\n",
       " 'полиуретан',\n",
       " 'муляж',\n",
       " 'яблоко',\n",
       " 'зеленый',\n",
       " 'полиуретан',\n",
       " 'сумка',\n",
       " 'тележка',\n",
       " 'хозяйственная',\n",
       " 'welfull',\n",
       " 'daisy',\n",
       " 'черная',\n",
       " 'кампанула',\n",
       " 'махровая',\n",
       " 'двухцветная',\n",
       " 'пеларгония',\n",
       " 'душистая',\n",
       " 'сушилка',\n",
       " 'для',\n",
       " 'белья',\n",
       " 'gimi',\n",
       " 'alablock',\n",
       " 'тележка',\n",
       " 'багажная',\n",
       " 'delta',\n",
       " 'тбр',\n",
       " 'синий',\n",
       " 'грузоподъемность',\n",
       " 'сумка',\n",
       " 'каркас',\n",
       " 'россия',\n",
       " 'пеларгония',\n",
       " 'зональная',\n",
       " 'диам',\n",
       " 'красная',\n",
       " 'махровая',\n",
       " 'пеларгония',\n",
       " 'зональная',\n",
       " 'диам',\n",
       " 'ярко',\n",
       " 'красная',\n",
       " 'махровая',\n",
       " 'пеларгония',\n",
       " 'зональная',\n",
       " 'махровая',\n",
       " 'белая',\n",
       " 'герань',\n",
       " 'домашняя',\n",
       " 'пеларгония',\n",
       " 'зональная',\n",
       " 'цветущая',\n",
       " 'малиновая',\n",
       " 'красным',\n",
       " 'полумахровая',\n",
       " 'декоративная',\n",
       " 'композиция',\n",
       " 'искуственных',\n",
       " 'цветов',\n",
       " 'букет',\n",
       " 'роз',\n",
       " 'три',\n",
       " 'цветка',\n",
       " 'цвет',\n",
       " 'ассортименте',\n",
       " 'искусственный',\n",
       " 'цветок',\n",
       " 'роза',\n",
       " 'бархатная',\n",
       " 'закрытым',\n",
       " 'бутоном',\n",
       " 'цвет',\n",
       " 'ассортименте',\n",
       " 'сумка',\n",
       " 'тележка',\n",
       " 'хозяйственная',\n",
       " 'rolser',\n",
       " 'jet',\n",
       " 'capri',\n",
       " 'joy',\n",
       " 'синяя',\n",
       " 'jet',\n",
       " 'azul',\n",
       " 'joy',\n",
       " 'противень',\n",
       " 'прямоугольный',\n",
       " 'алюминиевый',\n",
       " 'эксперт',\n",
       " 'scovo',\n",
       " 'сушилка',\n",
       " 'для',\n",
       " 'белья',\n",
       " 'потолочно',\n",
       " 'настенная',\n",
       " 'gimi',\n",
       " 'lift',\n",
       " 'герань',\n",
       " 'домашняя',\n",
       " 'пеларгония',\n",
       " 'зональная',\n",
       " 'цветущая',\n",
       " 'малиновая',\n",
       " 'махровая',\n",
       " 'калатея',\n",
       " 'микс',\n",
       " 'коврик',\n",
       " 'придверный',\n",
       " 'влаговпитывающий',\n",
       " 'ребристый',\n",
       " 'полимерных',\n",
       " 'материалов',\n",
       " 'серый',\n",
       " 'vortex',\n",
       " 'нолина',\n",
       " 'цветной',\n",
       " 'керамике',\n",
       " 'плечики',\n",
       " 'пластмассовые',\n",
       " 'размер',\n",
       " 'подушка',\n",
       " 'декоративная',\n",
       " 'флисовая',\n",
       " 'полиэстер',\n",
       " 'синяя',\n",
       " 'клетка',\n",
       " 'wellness',\n",
       " 'атланта',\n",
       " 'полотенце',\n",
       " 'кухонное',\n",
       " 'мила',\n",
       " 'mix',\n",
       " 'хлопок',\n",
       " 'цвета',\n",
       " 'ассортименте',\n",
       " 'wellness',\n",
       " 'хлорофитум',\n",
       " 'цикламен',\n",
       " 'пеларгония',\n",
       " 'зональная',\n",
       " 'диам',\n",
       " 'розовая',\n",
       " 'полумахровая',\n",
       " 'пеларгония',\n",
       " 'зональная',\n",
       " 'диам',\n",
       " 'розовая',\n",
       " 'малиновым',\n",
       " 'полумахровая',\n",
       " 'пеларгония',\n",
       " 'зональная',\n",
       " 'диам',\n",
       " 'розово',\n",
       " 'малиновая',\n",
       " 'простая',\n",
       " 'пеларгония',\n",
       " 'зональная',\n",
       " 'махровая',\n",
       " 'лососевая',\n",
       " 'глоксиния',\n",
       " 'азалия',\n",
       " 'индика',\n",
       " 'биколор',\n",
       " 'гортензия',\n",
       " 'микс',\n",
       " 'хризантема',\n",
       " 'космо',\n",
       " 'микс',\n",
       " 'сушилка',\n",
       " 'для',\n",
       " 'белья',\n",
       " 'потолочная',\n",
       " 'лиана',\n",
       " 'муляж',\n",
       " 'тыквы',\n",
       " 'сушилка',\n",
       " 'для',\n",
       " 'белья',\n",
       " 'батарею',\n",
       " 'ника',\n",
       " 'герань',\n",
       " 'домашняя',\n",
       " 'пеларгония',\n",
       " 'зональная',\n",
       " 'цветущая',\n",
       " 'розовая',\n",
       " 'малиновым',\n",
       " 'полумахровая',\n",
       " 'герань',\n",
       " 'домашняя',\n",
       " 'пеларгония',\n",
       " 'зональная',\n",
       " 'цветущая',\n",
       " 'розовая',\n",
       " 'махровая',\n",
       " 'герань',\n",
       " 'домашняя',\n",
       " 'пеларгония',\n",
       " 'зональная',\n",
       " 'цветущая',\n",
       " 'розово',\n",
       " 'красная',\n",
       " 'полумахровая',\n",
       " ...]"
      ]
     },
     "execution_count": 54,
     "metadata": {},
     "output_type": "execute_result"
    }
   ],
   "source": [
    "key_words = re.findall(r'\\b\\w{3,}\\b', key_words)\n",
    "key_words"
   ]
  },
  {
   "cell_type": "markdown",
   "metadata": {},
   "source": [
    "У нас получился список, а для лемматизации нужна строка:"
   ]
  },
  {
   "cell_type": "code",
   "execution_count": 55,
   "metadata": {},
   "outputs": [
    {
     "data": {
      "text/plain": [
       "str"
      ]
     },
     "execution_count": 55,
     "metadata": {},
     "output_type": "execute_result"
    }
   ],
   "source": [
    "key_words = ' '.join(key_words)\n",
    "type(key_words)"
   ]
  },
  {
   "cell_type": "markdown",
   "metadata": {},
   "source": [
    "Теперь можно подсчитать количество одинаковых слов:"
   ]
  },
  {
   "cell_type": "code",
   "execution_count": 56,
   "metadata": {},
   "outputs": [],
   "source": [
    "count_words = Counter(m.lemmatize(key_words))"
   ]
  },
  {
   "cell_type": "markdown",
   "metadata": {},
   "source": [
    "Но чтобы было удобнее пользоваться результатом, преобразуем его в датафрейм:"
   ]
  },
  {
   "cell_type": "code",
   "execution_count": 57,
   "metadata": {
    "scrolled": true
   },
   "outputs": [
    {
     "data": {
      "text/html": [
       "<div>\n",
       "<style scoped>\n",
       "    .dataframe tbody tr th:only-of-type {\n",
       "        vertical-align: middle;\n",
       "    }\n",
       "\n",
       "    .dataframe tbody tr th {\n",
       "        vertical-align: top;\n",
       "    }\n",
       "\n",
       "    .dataframe thead th {\n",
       "        text-align: right;\n",
       "    }\n",
       "</style>\n",
       "<table border=\"1\" class=\"dataframe\">\n",
       "  <thead>\n",
       "    <tr style=\"text-align: right;\">\n",
       "      <th></th>\n",
       "      <th>word</th>\n",
       "      <th>count</th>\n",
       "    </tr>\n",
       "  </thead>\n",
       "  <tbody>\n",
       "    <tr>\n",
       "      <th>1</th>\n",
       "      <td></td>\n",
       "      <td>13341</td>\n",
       "    </tr>\n",
       "    <tr>\n",
       "      <th>19</th>\n",
       "      <td>для</td>\n",
       "      <td>545</td>\n",
       "    </tr>\n",
       "    <tr>\n",
       "      <th>71</th>\n",
       "      <td>рассада</td>\n",
       "      <td>221</td>\n",
       "    </tr>\n",
       "    <tr>\n",
       "      <th>1723</th>\n",
       "      <td>сорт</td>\n",
       "      <td>171</td>\n",
       "    </tr>\n",
       "    <tr>\n",
       "      <th>76</th>\n",
       "      <td>кассета</td>\n",
       "      <td>170</td>\n",
       "    </tr>\n",
       "    <tr>\n",
       "      <th>144</th>\n",
       "      <td>белый</td>\n",
       "      <td>164</td>\n",
       "    </tr>\n",
       "    <tr>\n",
       "      <th>20</th>\n",
       "      <td>белье</td>\n",
       "      <td>142</td>\n",
       "    </tr>\n",
       "    <tr>\n",
       "      <th>91</th>\n",
       "      <td>красный</td>\n",
       "      <td>141</td>\n",
       "    </tr>\n",
       "    <tr>\n",
       "      <th>30</th>\n",
       "      <td>доска</td>\n",
       "      <td>132</td>\n",
       "    </tr>\n",
       "    <tr>\n",
       "      <th>3</th>\n",
       "      <td>горшок</td>\n",
       "      <td>130</td>\n",
       "    </tr>\n",
       "    <tr>\n",
       "      <th>224</th>\n",
       "      <td>цветок</td>\n",
       "      <td>118</td>\n",
       "    </tr>\n",
       "    <tr>\n",
       "      <th>18</th>\n",
       "      <td>сушилка</td>\n",
       "      <td>118</td>\n",
       "    </tr>\n",
       "    <tr>\n",
       "      <th>70</th>\n",
       "      <td>объем</td>\n",
       "      <td>114</td>\n",
       "    </tr>\n",
       "    <tr>\n",
       "      <th>29</th>\n",
       "      <td>гладильный</td>\n",
       "      <td>113</td>\n",
       "    </tr>\n",
       "    <tr>\n",
       "      <th>63</th>\n",
       "      <td>тележка</td>\n",
       "      <td>108</td>\n",
       "    </tr>\n",
       "    <tr>\n",
       "      <th>103</th>\n",
       "      <td>томат</td>\n",
       "      <td>100</td>\n",
       "    </tr>\n",
       "    <tr>\n",
       "      <th>62</th>\n",
       "      <td>сумка</td>\n",
       "      <td>98</td>\n",
       "    </tr>\n",
       "    <tr>\n",
       "      <th>78</th>\n",
       "      <td>диам</td>\n",
       "      <td>95</td>\n",
       "    </tr>\n",
       "    <tr>\n",
       "      <th>1726</th>\n",
       "      <td>помидор</td>\n",
       "      <td>93</td>\n",
       "    </tr>\n",
       "    <tr>\n",
       "      <th>69</th>\n",
       "      <td>розовый</td>\n",
       "      <td>87</td>\n",
       "    </tr>\n",
       "    <tr>\n",
       "      <th>134</th>\n",
       "      <td>пеларгония</td>\n",
       "      <td>86</td>\n",
       "    </tr>\n",
       "    <tr>\n",
       "      <th>121</th>\n",
       "      <td>luminarc</td>\n",
       "      <td>79</td>\n",
       "    </tr>\n",
       "    <tr>\n",
       "      <th>231</th>\n",
       "      <td>хозяйственный</td>\n",
       "      <td>77</td>\n",
       "    </tr>\n",
       "    <tr>\n",
       "      <th>264</th>\n",
       "      <td>ника</td>\n",
       "      <td>75</td>\n",
       "    </tr>\n",
       "    <tr>\n",
       "      <th>21</th>\n",
       "      <td>gimi</td>\n",
       "      <td>74</td>\n",
       "    </tr>\n",
       "    <tr>\n",
       "      <th>1959</th>\n",
       "      <td>среднеспелый</td>\n",
       "      <td>73</td>\n",
       "    </tr>\n",
       "    <tr>\n",
       "      <th>359</th>\n",
       "      <td>ванный</td>\n",
       "      <td>72</td>\n",
       "    </tr>\n",
       "    <tr>\n",
       "      <th>173</th>\n",
       "      <td>коврик</td>\n",
       "      <td>72</td>\n",
       "    </tr>\n",
       "    <tr>\n",
       "      <th>73</th>\n",
       "      <td>кухня</td>\n",
       "      <td>71</td>\n",
       "    </tr>\n",
       "    <tr>\n",
       "      <th>310</th>\n",
       "      <td>роза</td>\n",
       "      <td>68</td>\n",
       "    </tr>\n",
       "    <tr>\n",
       "      <th>72</th>\n",
       "      <td>зелень</td>\n",
       "      <td>68</td>\n",
       "    </tr>\n",
       "    <tr>\n",
       "      <th>79</th>\n",
       "      <td>муляж</td>\n",
       "      <td>67</td>\n",
       "    </tr>\n",
       "    <tr>\n",
       "      <th>217</th>\n",
       "      <td>черный</td>\n",
       "      <td>64</td>\n",
       "    </tr>\n",
       "    <tr>\n",
       "      <th>41</th>\n",
       "      <td>синий</td>\n",
       "      <td>63</td>\n",
       "    </tr>\n",
       "    <tr>\n",
       "      <th>233</th>\n",
       "      <td>махровый</td>\n",
       "      <td>62</td>\n",
       "    </tr>\n",
       "    <tr>\n",
       "      <th>135</th>\n",
       "      <td>зональный</td>\n",
       "      <td>61</td>\n",
       "    </tr>\n",
       "    <tr>\n",
       "      <th>225</th>\n",
       "      <td>искусственный</td>\n",
       "      <td>61</td>\n",
       "    </tr>\n",
       "    <tr>\n",
       "      <th>42</th>\n",
       "      <td>attribute</td>\n",
       "      <td>60</td>\n",
       "    </tr>\n",
       "    <tr>\n",
       "      <th>28</th>\n",
       "      <td>чехол</td>\n",
       "      <td>60</td>\n",
       "    </tr>\n",
       "    <tr>\n",
       "      <th>25</th>\n",
       "      <td>пластмассовый</td>\n",
       "      <td>58</td>\n",
       "    </tr>\n",
       "    <tr>\n",
       "      <th>1803</th>\n",
       "      <td>однолетний</td>\n",
       "      <td>57</td>\n",
       "    </tr>\n",
       "    <tr>\n",
       "      <th>334</th>\n",
       "      <td>штора</td>\n",
       "      <td>54</td>\n",
       "    </tr>\n",
       "    <tr>\n",
       "      <th>59</th>\n",
       "      <td>пластиковый</td>\n",
       "      <td>54</td>\n",
       "    </tr>\n",
       "    <tr>\n",
       "      <th>768</th>\n",
       "      <td>штука</td>\n",
       "      <td>54</td>\n",
       "    </tr>\n",
       "    <tr>\n",
       "      <th>237</th>\n",
       "      <td>комната</td>\n",
       "      <td>53</td>\n",
       "    </tr>\n",
       "    <tr>\n",
       "      <th>111</th>\n",
       "      <td>ручка</td>\n",
       "      <td>51</td>\n",
       "    </tr>\n",
       "    <tr>\n",
       "      <th>197</th>\n",
       "      <td>россия</td>\n",
       "      <td>50</td>\n",
       "    </tr>\n",
       "    <tr>\n",
       "      <th>255</th>\n",
       "      <td>wellness</td>\n",
       "      <td>50</td>\n",
       "    </tr>\n",
       "    <tr>\n",
       "      <th>1729</th>\n",
       "      <td>индетерминантный</td>\n",
       "      <td>50</td>\n",
       "    </tr>\n",
       "    <tr>\n",
       "      <th>35</th>\n",
       "      <td>вешалка</td>\n",
       "      <td>49</td>\n",
       "    </tr>\n",
       "  </tbody>\n",
       "</table>\n",
       "</div>"
      ],
      "text/plain": [
       "                  word  count\n",
       "1                       13341\n",
       "19                 для    545\n",
       "71             рассада    221\n",
       "1723              сорт    171\n",
       "76             кассета    170\n",
       "144              белый    164\n",
       "20               белье    142\n",
       "91             красный    141\n",
       "30               доска    132\n",
       "3               горшок    130\n",
       "224             цветок    118\n",
       "18             сушилка    118\n",
       "70               объем    114\n",
       "29          гладильный    113\n",
       "63             тележка    108\n",
       "103              томат    100\n",
       "62               сумка     98\n",
       "78                диам     95\n",
       "1726           помидор     93\n",
       "69             розовый     87\n",
       "134         пеларгония     86\n",
       "121           luminarc     79\n",
       "231      хозяйственный     77\n",
       "264               ника     75\n",
       "21                gimi     74\n",
       "1959      среднеспелый     73\n",
       "359             ванный     72\n",
       "173             коврик     72\n",
       "73               кухня     71\n",
       "310               роза     68\n",
       "72              зелень     68\n",
       "79               муляж     67\n",
       "217             черный     64\n",
       "41               синий     63\n",
       "233           махровый     62\n",
       "135          зональный     61\n",
       "225      искусственный     61\n",
       "42           attribute     60\n",
       "28               чехол     60\n",
       "25       пластмассовый     58\n",
       "1803        однолетний     57\n",
       "334              штора     54\n",
       "59         пластиковый     54\n",
       "768              штука     54\n",
       "237            комната     53\n",
       "111              ручка     51\n",
       "197             россия     50\n",
       "255           wellness     50\n",
       "1729  индетерминантный     50\n",
       "35             вешалка     49"
      ]
     },
     "execution_count": 57,
     "metadata": {},
     "output_type": "execute_result"
    }
   ],
   "source": [
    "count_words_df = pd.DataFrame.from_dict(count_words, orient='index').reset_index()\n",
    "count_words_df.columns = ['word', 'count']\n",
    "count_words_df.sort_values(by='count', ascending=False).head(50)"
   ]
  },
  {
   "cell_type": "markdown",
   "metadata": {},
   "source": [
    "Заведем 8 категорий: Интерьер, Хозтовары, Растения, Посуда, Текстиль, Стройка, Бытовая техника, Косметика и гигиена. Для каждой категории составим список ключевых слов. Сначала возьмем результаты лемматизации, потом будем корректировать вручную, проверяя каждый раз строки, по которым категория еще не присвоена."
   ]
  },
  {
   "cell_type": "code",
   "execution_count": 58,
   "metadata": {},
   "outputs": [],
   "source": [
    "interior = ['муляж', 'интерьерный', 'искусственный', 'ковер', 'искуственных', 'комод', 'фоторамка', 'этажерка', 'полки', \n",
    "            'ключница', 'искусственная','гипсофила', 'полка', 'венге', 'стеллаж', 'пуф']\n",
    "\n",
    "household = ['сушилка', 'белье', 'таз', 'гладильная', 'вешалок', 'вешалка', 'крючок', 'корзина', 'сумка', 'щетка', 'ручка', \n",
    "             'ерш', 'прищепок', 'коврик', 'унитазный','мусорный','сумка-тележка', 'посуды', 'кофр', 'подрукавник', 'штора',\n",
    "            'чехол', 'дозатор','перчатки','щетка-сметка', 'плечики', 'стиральный', 'чистящий', 'ванной', 'карниз', 'веник',\n",
    "             'щетка-утюжок',  'контейнер', 'швабра', 'ящик', 'короб', 'вешалка-плечики', 'коробка','термометр', 'моп',\n",
    "            'швабры', 'сиденье', 'шнур',  'сметка', 'линейка', 'швабре','удаления', 'бензин', 'полировки', 'шило',\n",
    "             'вешалка-стойка', 'держатель', 'пробка', 'вешалки', 'губка', 'антижир', 'средство', 'чистки', 'сменный',\n",
    "            'ковш', 'рассекатель', 'посудомоечных', 'глажения', 'подставка', 'вешалка-сушилка', 'мыльница', 'подголовник',\n",
    "            'кольца', 'вантуз', 'белья', 'вешалка-перекладина', 'ведра', 'нетканые', 'гладильной', 'урна-пепельница', 'ткань',\n",
    "            'насадка-моп', 'тряпкодержатель', 'прищепки', 'скребок', 'мытья', 'антинакипин', 'окномойка', 'бидон', 'корзинка', \n",
    "             'отбеливатель', 'стирки', 'пьезозажигалка', 'ерша', 'хранения', 'тряпка', 'совок', 'тележка', 'мусора', 'ведро']\n",
    "\n",
    "plants = ['рассада', 'радермахера', 'хризолидокарпус', 'циперус', 'шеффлера', 'юкка', 'многолетнее','герань', 'пеларгония',\n",
    "         'суккулент','эхеверия', 'кашпо', 'эвкалипт', 'адиантум','растение', 'кампанула', 'калатея', 'нолина', 'хлорофитум',\n",
    "         'цикламен', 'глоксиния', 'азалия', 'гортензия', 'кассете', 'среднеспелый', 'хризантема', 'мирт', 'иссоп',\n",
    "         'сантолина', 'аспарагус', 'антуриум', 'молодило', 'фиалка', 'гербера', 'душица', 'мелисса', 'роза', 'бегония',\n",
    "         'розмарин', 'альбука', 'бальзамин', 'крассула', 'артемизия', 'лаванда', 'мята', 'каланхое', 'примула', 'дендробиум',\n",
    "         'калоцефалус', 'каллуна', 'капсикум', 'мимоза', 'соланум', 'бархатцы', 'морковь', 'настурция', 'огурец', 'петуния',\n",
    "         'космея', 'алиссум', 'гвоздика', 'годеция', 'календула', 'капуста', 'кореопсис', 'лапчатка', 'флокс', 'цинерария',\n",
    "         'эшшольция', 'диффенбахия', 'фаленопсис', 'подсолнечник', 'пуансетия', 'черенок', 'аптения', 'ель', 'пуансеттия',\n",
    "         'скиммия', 'фиттония', 'тимьян', 'алоэ', 'спатифиллум', 'фикус', 'гимнокалициум', 'кофе', 'эхинокактус', 'крокусы',\n",
    "         'тюльпаны', 'ампельная', 'эпипремнум','гиацинты', 'аквилегия', 'базилик', 'горох', 'земляника', 'незабудка',\n",
    "         'седум', 'томат', 'укроп', 'нефролепис', 'крупноцветковая', 'горшке', 'тюльпан', 'луковиц', 'чабер', 'калибрахоа',\n",
    "         'ранункулус', 'овсянница', 'георгина', 'смолевка', 'цинния', 'вербейник', 'ясколка', 'колокольчик', 'котовник', \n",
    "          'микс', 'афеляндра', 'объем', 'штамбовая', 'пеперомия', 'дыня', 'синнингия', 'томата', 'гардения', 'виноград', \n",
    "          'муррайя', 'раннеспелый', 'позднеспелая', 'баклажан', 'клубника', 'патиссон', 'джункус', 'драцена', 'арбуз', 'фатсия',\n",
    "         'осина', 'лавр', 'лантана', 'лаватера', 'хамедорея', 'зверобой', 'мединилла', 'замиокулькас', 'петрушка', 'рукола',\n",
    "         'пахира', 'кипарисовик']\n",
    "\n",
    "tableware = ['тарелка', 'обеденный', 'вилка', 'столовая', 'ложка', 'чайная', 'нож', 'столовый', 'посуда','кружек', 'кружка',\n",
    "          'фужеров', 'пищевой', 'кувшин','толкушка','банка', 'противень', 'сковороды', 'tepмокружка', 'мини-сковорода',\n",
    "            'сковорода', 'luminarc', 'салатников','овощеварка', 'терка', 'рыбочистка', 'ножеточка', 'лопатка', 'салфетница',\n",
    "            'овощечистка', 'измельчитель', 'лоток', 'мантоварка', 'стаканов','кухонные', 'ножей', 'выпечки',\n",
    "            'кондитерский', 'картофелемялка', 'кексов', 'миска', 'чеснока', 'термостакан', 'столовых', 'термокружка', 'термос',\n",
    "            'разделочная', 'мантоварка-пароварка', 'соуса', 'просеиватель', 'кастрюля', 'хлебница', 'емкость', 'орехоколка',\n",
    "            'скалка', 'венчик', 'сито', 'тортница', 'блюдо', 'сотейник', 'отделитель', 'крышка', 'сахарница', 'соковарка',\n",
    "            'цитрусовых', 'половник', 'салатник', 'напитков', 'стакан']\n",
    "\n",
    "textile = ['плед', 'простыня', 'подушка', 'подушка', 'полотенце', 'скатерть', 'салфетка', 'наматрасник', 'наматрицник-чехол',\n",
    "          'халат', 'полотенец', 'покрывало', 'одеяло', 'салфеток', 'простынь', 'наматрацник', 'наволочка', 'пододеяльник',\n",
    "          'хлопковый']\n",
    "\n",
    "construction = ['гаражная', 'батарея', 'котел', 'лестница-стремянка','стяжка', 'стремянка', 'крепеж', 'пружина', 'стремянки',\n",
    "               'сверел', 'сверло-фреза', 'корыто', 'сварка', 'угольник', 'петля-стрела', 'ручка-скоба', 'инструмент',\n",
    "                'стремянка-табурет', 'петля', 'бухте', 'штангенциркуль', 'напильников', 'сверло', 'фиксатор-шар', 'шпагат', \n",
    "                'ванна', 'веревка', 'строительного', 'инструментов', 'форточная', 'вентиляционная', 'уголок', 'шпингалет',\n",
    "               'пробки', 'строительное', 'урна', 'урна', 'фиксатор']\n",
    "\n",
    "appliances = ['чайник', 'миксер', 'утюг', 'фен', 'весы', 'электроштопор', 'пылесос', 'кипятильник', 'светильник']\n",
    "\n",
    "cosmetics = ['ванн','зубная','мыло', 'увлажняющая', 'мыло-скраб']"
   ]
  },
  {
   "cell_type": "markdown",
   "metadata": {},
   "source": [
    "Теперь напишем функцию, которая будет искать в названии товара ключевое слово и присваивать этому товару  соответствующую категорию:"
   ]
  },
  {
   "cell_type": "code",
   "execution_count": 59,
   "metadata": {
    "scrolled": true
   },
   "outputs": [
    {
     "data": {
      "text/html": [
       "<div>\n",
       "<style scoped>\n",
       "    .dataframe tbody tr th:only-of-type {\n",
       "        vertical-align: middle;\n",
       "    }\n",
       "\n",
       "    .dataframe tbody tr th {\n",
       "        vertical-align: top;\n",
       "    }\n",
       "\n",
       "    .dataframe thead th {\n",
       "        text-align: right;\n",
       "    }\n",
       "</style>\n",
       "<table border=\"1\" class=\"dataframe\">\n",
       "  <thead>\n",
       "    <tr style=\"text-align: right;\">\n",
       "      <th></th>\n",
       "      <th>date</th>\n",
       "      <th>customer_id</th>\n",
       "      <th>order_id</th>\n",
       "      <th>product</th>\n",
       "      <th>quantity</th>\n",
       "      <th>price</th>\n",
       "      <th>revenue</th>\n",
       "      <th>b2b</th>\n",
       "      <th>price_level</th>\n",
       "      <th>month</th>\n",
       "      <th>product_category</th>\n",
       "    </tr>\n",
       "  </thead>\n",
       "  <tbody>\n",
       "  </tbody>\n",
       "</table>\n",
       "</div>"
      ],
      "text/plain": [
       "Empty DataFrame\n",
       "Columns: [date, customer_id, order_id, product, quantity, price, revenue, b2b, price_level, month, product_category]\n",
       "Index: []"
      ]
     },
     "execution_count": 59,
     "metadata": {},
     "output_type": "execute_result"
    }
   ],
   "source": [
    "def get_category(row):\n",
    "    product_name = row.split(' ')\n",
    "    \n",
    "    for word in product_name:\n",
    "            if word in interior:\n",
    "                return 'Интерьер'\n",
    "            if word in appliances:\n",
    "                return 'Бытовая техника'\n",
    "            if word in cosmetics:\n",
    "                return 'Косметика и гигиена'\n",
    "            if word in tableware:\n",
    "                return 'Посуда'\n",
    "            if word in textile:\n",
    "                return 'Текстиль'\n",
    "            if word in household:\n",
    "                return 'Хозтовары'\n",
    "            if word in plants:\n",
    "                return 'Растения'\n",
    "            if word in construction:\n",
    "                return 'Стройка'\n",
    "    return 'нет данных'\n",
    "\n",
    "df['product_category'] = df['product'].apply(get_category)\n",
    "\n",
    "# проверим, всем ли товарам присвоена категория:\n",
    "df.query('product_category == \"нет данных\"')"
   ]
  },
  {
   "cell_type": "code",
   "execution_count": 60,
   "metadata": {},
   "outputs": [
    {
     "data": {
      "text/html": [
       "<div>\n",
       "<style scoped>\n",
       "    .dataframe tbody tr th:only-of-type {\n",
       "        vertical-align: middle;\n",
       "    }\n",
       "\n",
       "    .dataframe tbody tr th {\n",
       "        vertical-align: top;\n",
       "    }\n",
       "\n",
       "    .dataframe thead th {\n",
       "        text-align: right;\n",
       "    }\n",
       "</style>\n",
       "<table border=\"1\" class=\"dataframe\">\n",
       "  <thead>\n",
       "    <tr style=\"text-align: right;\">\n",
       "      <th></th>\n",
       "      <th>date</th>\n",
       "      <th>customer_id</th>\n",
       "      <th>order_id</th>\n",
       "      <th>product</th>\n",
       "      <th>quantity</th>\n",
       "      <th>price</th>\n",
       "      <th>revenue</th>\n",
       "      <th>b2b</th>\n",
       "      <th>price_level</th>\n",
       "      <th>month</th>\n",
       "      <th>product_category</th>\n",
       "    </tr>\n",
       "  </thead>\n",
       "  <tbody>\n",
       "    <tr>\n",
       "      <th>1675</th>\n",
       "      <td>2019-02-04 06:00:00</td>\n",
       "      <td>909564b8-3a5c-4d3e-8310-5ba1c837bbd7</td>\n",
       "      <td>70080</td>\n",
       "      <td>мусорный контейнер hailo bigbin swing 45 0845 010 45 л хром</td>\n",
       "      <td>3</td>\n",
       "      <td>5512.0</td>\n",
       "      <td>16536.0</td>\n",
       "      <td>False</td>\n",
       "      <td>Дорогостоящие</td>\n",
       "      <td>2019-02-01</td>\n",
       "      <td>Хозтовары</td>\n",
       "    </tr>\n",
       "    <tr>\n",
       "      <th>6123</th>\n",
       "      <td>2019-08-17 10:00:00</td>\n",
       "      <td>79e65126-3b66-4822-a1a1-d915b14070a5</td>\n",
       "      <td>72321</td>\n",
       "      <td>пеларгония розебудная prins nikolai укорененный черенок</td>\n",
       "      <td>1</td>\n",
       "      <td>134.0</td>\n",
       "      <td>134.0</td>\n",
       "      <td>False</td>\n",
       "      <td>Дешевые</td>\n",
       "      <td>2019-08-01</td>\n",
       "      <td>Растения</td>\n",
       "    </tr>\n",
       "    <tr>\n",
       "      <th>2976</th>\n",
       "      <td>2019-04-20 08:00:00</td>\n",
       "      <td>16838b36-762a-474d-bda4-bad95f8d7813</td>\n",
       "      <td>71209</td>\n",
       "      <td>автоматическая щетка leifheit для мытья окон с ручкой 43 см 51114</td>\n",
       "      <td>1</td>\n",
       "      <td>7229.0</td>\n",
       "      <td>7229.0</td>\n",
       "      <td>False</td>\n",
       "      <td>Дорогостоящие</td>\n",
       "      <td>2019-04-01</td>\n",
       "      <td>Хозтовары</td>\n",
       "    </tr>\n",
       "    <tr>\n",
       "      <th>4034</th>\n",
       "      <td>2019-05-26 09:00:00</td>\n",
       "      <td>14af8c4f-98fe-486a-b139-9a0507fb6a52</td>\n",
       "      <td>71515</td>\n",
       "      <td>кружка тачки 250мл e9131 h1496 luminarc франция</td>\n",
       "      <td>1</td>\n",
       "      <td>284.0</td>\n",
       "      <td>284.0</td>\n",
       "      <td>False</td>\n",
       "      <td>Средний ценовой сегмент</td>\n",
       "      <td>2019-05-01</td>\n",
       "      <td>Посуда</td>\n",
       "    </tr>\n",
       "    <tr>\n",
       "      <th>3752</th>\n",
       "      <td>2019-05-14 11:00:00</td>\n",
       "      <td>a3394ff2-4cd2-4332-9f6c-2668ac608fbc</td>\n",
       "      <td>14769</td>\n",
       "      <td>томата помидор этуаль 85 сорт детерминантный среднеспелый розовый</td>\n",
       "      <td>1</td>\n",
       "      <td>38.0</td>\n",
       "      <td>38.0</td>\n",
       "      <td>False</td>\n",
       "      <td>Дешевые</td>\n",
       "      <td>2019-05-01</td>\n",
       "      <td>Растения</td>\n",
       "    </tr>\n",
       "  </tbody>\n",
       "</table>\n",
       "</div>"
      ],
      "text/plain": [
       "                    date                           customer_id order_id  \\\n",
       "1675 2019-02-04 06:00:00  909564b8-3a5c-4d3e-8310-5ba1c837bbd7    70080   \n",
       "6123 2019-08-17 10:00:00  79e65126-3b66-4822-a1a1-d915b14070a5    72321   \n",
       "2976 2019-04-20 08:00:00  16838b36-762a-474d-bda4-bad95f8d7813    71209   \n",
       "4034 2019-05-26 09:00:00  14af8c4f-98fe-486a-b139-9a0507fb6a52    71515   \n",
       "3752 2019-05-14 11:00:00  a3394ff2-4cd2-4332-9f6c-2668ac608fbc    14769   \n",
       "\n",
       "                                                                product  \\\n",
       "1675        мусорный контейнер hailo bigbin swing 45 0845 010 45 л хром   \n",
       "6123            пеларгония розебудная prins nikolai укорененный черенок   \n",
       "2976  автоматическая щетка leifheit для мытья окон с ручкой 43 см 51114   \n",
       "4034                    кружка тачки 250мл e9131 h1496 luminarc франция   \n",
       "3752  томата помидор этуаль 85 сорт детерминантный среднеспелый розовый   \n",
       "\n",
       "      quantity   price  revenue    b2b              price_level      month  \\\n",
       "1675         3  5512.0  16536.0  False            Дорогостоящие 2019-02-01   \n",
       "6123         1   134.0    134.0  False                  Дешевые 2019-08-01   \n",
       "2976         1  7229.0   7229.0  False            Дорогостоящие 2019-04-01   \n",
       "4034         1   284.0    284.0  False  Средний ценовой сегмент 2019-05-01   \n",
       "3752         1    38.0     38.0  False                  Дешевые 2019-05-01   \n",
       "\n",
       "     product_category  \n",
       "1675        Хозтовары  \n",
       "6123         Растения  \n",
       "2976        Хозтовары  \n",
       "4034           Посуда  \n",
       "3752         Растения  "
      ]
     },
     "execution_count": 60,
     "metadata": {},
     "output_type": "execute_result"
    }
   ],
   "source": [
    "df.sample(5)"
   ]
  },
  {
   "cell_type": "markdown",
   "metadata": {},
   "source": [
    "Категории по назначению присвоены, теперь сгруппируем товары по новым категориям и сравним показатели."
   ]
  },
  {
   "cell_type": "markdown",
   "metadata": {},
   "source": [
    "### Разделение на основной и дополнительный ассортимент "
   ]
  },
  {
   "cell_type": "code",
   "execution_count": 61,
   "metadata": {},
   "outputs": [],
   "source": [
    "def analys(data, val, func, header):\n",
    "    '''\n",
    "    Функция принимает датафрейм, показатель, функцию и заголовок,\n",
    "    строит сводную таблицу для показателя в разрезе товарных катгорий и ценовых сегментов,\n",
    "    затем выводит столбчатую диаграмму\n",
    "    '''\n",
    "    pivot = data.pivot_table(index='product_category', columns='price_level', values=val, aggfunc=func)\\\n",
    "            .reset_index()\n",
    "    pivot = pivot.fillna(0)\n",
    "    pivot['total'] = pivot['Дешевые'] + pivot['Дорогостоящие'] + pivot['Средний ценовой сегмент']\n",
    "    pivot = pivot.sort_values(by='total', ascending=False)\n",
    "    pivot['total_share'] = round(pivot['total'] / pivot['total'].sum(),2)\n",
    "    display(pivot)\n",
    "    \n",
    "    pivot.plot(x='product_category', y=['Дешевые', 'Средний ценовой сегмент', 'Дорогостоящие'],\n",
    "          kind='bar', stacked=True, figsize=(14,6), rot=45,\n",
    "          title=header);\n"
   ]
  },
  {
   "cell_type": "code",
   "execution_count": 62,
   "metadata": {
    "scrolled": false
   },
   "outputs": [
    {
     "data": {
      "text/html": [
       "<div>\n",
       "<style scoped>\n",
       "    .dataframe tbody tr th:only-of-type {\n",
       "        vertical-align: middle;\n",
       "    }\n",
       "\n",
       "    .dataframe tbody tr th {\n",
       "        vertical-align: top;\n",
       "    }\n",
       "\n",
       "    .dataframe thead th {\n",
       "        text-align: right;\n",
       "    }\n",
       "</style>\n",
       "<table border=\"1\" class=\"dataframe\">\n",
       "  <thead>\n",
       "    <tr style=\"text-align: right;\">\n",
       "      <th>price_level</th>\n",
       "      <th>product_category</th>\n",
       "      <th>Дешевые</th>\n",
       "      <th>Дорогостоящие</th>\n",
       "      <th>Средний ценовой сегмент</th>\n",
       "      <th>total</th>\n",
       "      <th>total_share</th>\n",
       "    </tr>\n",
       "  </thead>\n",
       "  <tbody>\n",
       "    <tr>\n",
       "      <th>7</th>\n",
       "      <td>Хозтовары</td>\n",
       "      <td>171623.0</td>\n",
       "      <td>1095019.0</td>\n",
       "      <td>753070.0</td>\n",
       "      <td>2019712.0</td>\n",
       "      <td>0.59</td>\n",
       "    </tr>\n",
       "    <tr>\n",
       "      <th>4</th>\n",
       "      <td>Растения</td>\n",
       "      <td>353918.0</td>\n",
       "      <td>35156.0</td>\n",
       "      <td>132525.0</td>\n",
       "      <td>521599.0</td>\n",
       "      <td>0.15</td>\n",
       "    </tr>\n",
       "    <tr>\n",
       "      <th>3</th>\n",
       "      <td>Посуда</td>\n",
       "      <td>70709.0</td>\n",
       "      <td>38238.0</td>\n",
       "      <td>115884.0</td>\n",
       "      <td>224831.0</td>\n",
       "      <td>0.07</td>\n",
       "    </tr>\n",
       "    <tr>\n",
       "      <th>6</th>\n",
       "      <td>Текстиль</td>\n",
       "      <td>21026.0</td>\n",
       "      <td>123071.0</td>\n",
       "      <td>74698.0</td>\n",
       "      <td>218795.0</td>\n",
       "      <td>0.06</td>\n",
       "    </tr>\n",
       "    <tr>\n",
       "      <th>1</th>\n",
       "      <td>Интерьер</td>\n",
       "      <td>109424.0</td>\n",
       "      <td>76208.0</td>\n",
       "      <td>22333.0</td>\n",
       "      <td>207965.0</td>\n",
       "      <td>0.06</td>\n",
       "    </tr>\n",
       "    <tr>\n",
       "      <th>5</th>\n",
       "      <td>Стройка</td>\n",
       "      <td>25095.0</td>\n",
       "      <td>157886.0</td>\n",
       "      <td>21268.0</td>\n",
       "      <td>204249.0</td>\n",
       "      <td>0.06</td>\n",
       "    </tr>\n",
       "    <tr>\n",
       "      <th>0</th>\n",
       "      <td>Бытовая техника</td>\n",
       "      <td>0.0</td>\n",
       "      <td>11064.0</td>\n",
       "      <td>25010.0</td>\n",
       "      <td>36074.0</td>\n",
       "      <td>0.01</td>\n",
       "    </tr>\n",
       "    <tr>\n",
       "      <th>2</th>\n",
       "      <td>Косметика и гигиена</td>\n",
       "      <td>2593.0</td>\n",
       "      <td>0.0</td>\n",
       "      <td>5836.0</td>\n",
       "      <td>8429.0</td>\n",
       "      <td>0.00</td>\n",
       "    </tr>\n",
       "  </tbody>\n",
       "</table>\n",
       "</div>"
      ],
      "text/plain": [
       "price_level     product_category   Дешевые  Дорогостоящие  \\\n",
       "7                      Хозтовары  171623.0      1095019.0   \n",
       "4                       Растения  353918.0        35156.0   \n",
       "3                         Посуда   70709.0        38238.0   \n",
       "6                       Текстиль   21026.0       123071.0   \n",
       "1                       Интерьер  109424.0        76208.0   \n",
       "5                        Стройка   25095.0       157886.0   \n",
       "0                Бытовая техника       0.0        11064.0   \n",
       "2            Косметика и гигиена    2593.0            0.0   \n",
       "\n",
       "price_level  Средний ценовой сегмент      total  total_share  \n",
       "7                           753070.0  2019712.0         0.59  \n",
       "4                           132525.0   521599.0         0.15  \n",
       "3                           115884.0   224831.0         0.07  \n",
       "6                            74698.0   218795.0         0.06  \n",
       "1                            22333.0   207965.0         0.06  \n",
       "5                            21268.0   204249.0         0.06  \n",
       "0                            25010.0    36074.0         0.01  \n",
       "2                             5836.0     8429.0         0.00  "
      ]
     },
     "metadata": {},
     "output_type": "display_data"
    },
    {
     "data": {
      "image/png": "[encoded data removed]",
      "text/plain": [
       "<Figure size 1008x432 with 1 Axes>"
      ]
     },
     "metadata": {
      "needs_background": "light"
     },
     "output_type": "display_data"
    }
   ],
   "source": [
    "analys(df, 'revenue', 'sum', 'Выручка в разрезе товарных категорий и ценовых сегментов, млн. у.е.')"
   ]
  },
  {
   "cell_type": "markdown",
   "metadata": {},
   "source": [
    "Больше всего выручки приносят нам Хозтовары - порядка 2 млн. у.е. или 59%. При этом чуть больше половины выручки от Хозтоваров приносят дорогостоящие товары. Очевидно, что Хозтовары для нас - это основной ассортимент.\n",
    "\n",
    "На втором месте по доле в выручке - растения - 0,5 млн. у.е. или 15%. Данная категория - чемпион по дешевым товарам (т.к. в эту категорию попадают семена и рассада).\n",
    "\n",
    "Посуда, Текстиль, Интерьер и Стройка имеют примерно одинаковую долю в выручке - по 0,2 млн. у.е. или 6-7%. \n",
    "\n",
    "Бытовая техника а также Косметика и гигиена практически незаметны в выручке и однозначно являются дополнительным ассортиментом (сопутствующими товарами).\n",
    "\n",
    "Посмотрим теперь, как распределяется по категориям количество проданных товаров в штуках:"
   ]
  },
  {
   "cell_type": "code",
   "execution_count": 63,
   "metadata": {
    "scrolled": false
   },
   "outputs": [
    {
     "data": {
      "text/html": [
       "<div>\n",
       "<style scoped>\n",
       "    .dataframe tbody tr th:only-of-type {\n",
       "        vertical-align: middle;\n",
       "    }\n",
       "\n",
       "    .dataframe tbody tr th {\n",
       "        vertical-align: top;\n",
       "    }\n",
       "\n",
       "    .dataframe thead th {\n",
       "        text-align: right;\n",
       "    }\n",
       "</style>\n",
       "<table border=\"1\" class=\"dataframe\">\n",
       "  <thead>\n",
       "    <tr style=\"text-align: right;\">\n",
       "      <th>price_level</th>\n",
       "      <th>product_category</th>\n",
       "      <th>Дешевые</th>\n",
       "      <th>Дорогостоящие</th>\n",
       "      <th>Средний ценовой сегмент</th>\n",
       "      <th>total</th>\n",
       "      <th>total_share</th>\n",
       "    </tr>\n",
       "  </thead>\n",
       "  <tbody>\n",
       "    <tr>\n",
       "      <th>7</th>\n",
       "      <td>Хозтовары</td>\n",
       "      <td>2282.0</td>\n",
       "      <td>394.0</td>\n",
       "      <td>1360.0</td>\n",
       "      <td>4036.0</td>\n",
       "      <td>0.32</td>\n",
       "    </tr>\n",
       "    <tr>\n",
       "      <th>4</th>\n",
       "      <td>Растения</td>\n",
       "      <td>3374.0</td>\n",
       "      <td>17.0</td>\n",
       "      <td>377.0</td>\n",
       "      <td>3768.0</td>\n",
       "      <td>0.30</td>\n",
       "    </tr>\n",
       "    <tr>\n",
       "      <th>1</th>\n",
       "      <td>Интерьер</td>\n",
       "      <td>2378.0</td>\n",
       "      <td>35.0</td>\n",
       "      <td>41.0</td>\n",
       "      <td>2454.0</td>\n",
       "      <td>0.19</td>\n",
       "    </tr>\n",
       "    <tr>\n",
       "      <th>3</th>\n",
       "      <td>Посуда</td>\n",
       "      <td>766.0</td>\n",
       "      <td>22.0</td>\n",
       "      <td>270.0</td>\n",
       "      <td>1058.0</td>\n",
       "      <td>0.08</td>\n",
       "    </tr>\n",
       "    <tr>\n",
       "      <th>5</th>\n",
       "      <td>Стройка</td>\n",
       "      <td>817.0</td>\n",
       "      <td>50.0</td>\n",
       "      <td>27.0</td>\n",
       "      <td>894.0</td>\n",
       "      <td>0.07</td>\n",
       "    </tr>\n",
       "    <tr>\n",
       "      <th>6</th>\n",
       "      <td>Текстиль</td>\n",
       "      <td>162.0</td>\n",
       "      <td>63.0</td>\n",
       "      <td>119.0</td>\n",
       "      <td>344.0</td>\n",
       "      <td>0.03</td>\n",
       "    </tr>\n",
       "    <tr>\n",
       "      <th>0</th>\n",
       "      <td>Бытовая техника</td>\n",
       "      <td>0.0</td>\n",
       "      <td>6.0</td>\n",
       "      <td>31.0</td>\n",
       "      <td>37.0</td>\n",
       "      <td>0.00</td>\n",
       "    </tr>\n",
       "    <tr>\n",
       "      <th>2</th>\n",
       "      <td>Косметика и гигиена</td>\n",
       "      <td>30.0</td>\n",
       "      <td>0.0</td>\n",
       "      <td>7.0</td>\n",
       "      <td>37.0</td>\n",
       "      <td>0.00</td>\n",
       "    </tr>\n",
       "  </tbody>\n",
       "</table>\n",
       "</div>"
      ],
      "text/plain": [
       "price_level     product_category  Дешевые  Дорогостоящие  \\\n",
       "7                      Хозтовары   2282.0          394.0   \n",
       "4                       Растения   3374.0           17.0   \n",
       "1                       Интерьер   2378.0           35.0   \n",
       "3                         Посуда    766.0           22.0   \n",
       "5                        Стройка    817.0           50.0   \n",
       "6                       Текстиль    162.0           63.0   \n",
       "0                Бытовая техника      0.0            6.0   \n",
       "2            Косметика и гигиена     30.0            0.0   \n",
       "\n",
       "price_level  Средний ценовой сегмент   total  total_share  \n",
       "7                             1360.0  4036.0         0.32  \n",
       "4                              377.0  3768.0         0.30  \n",
       "1                               41.0  2454.0         0.19  \n",
       "3                              270.0  1058.0         0.08  \n",
       "5                               27.0   894.0         0.07  \n",
       "6                              119.0   344.0         0.03  \n",
       "0                               31.0    37.0         0.00  \n",
       "2                                7.0    37.0         0.00  "
      ]
     },
     "metadata": {},
     "output_type": "display_data"
    },
    {
     "data": {
      "image/png": "[encoded data removed]",
      "text/plain": [
       "<Figure size 1008x432 with 1 Axes>"
      ]
     },
     "metadata": {
      "needs_background": "light"
     },
     "output_type": "display_data"
    }
   ],
   "source": [
    "analys(df, 'quantity', 'sum', 'Количество проданных товаров в штуках в разрезе товарных категорий и ценовых сегментов')"
   ]
  },
  {
   "cell_type": "markdown",
   "metadata": {},
   "source": [
    "По штукам Растения не далеко ушли от лидера - Хозтоваров и занимают долю в 30%. Поэтому растения тоже отнесем к основному ассортименту.\n",
    "\n",
    "Интерьер - 19% - под вопросом, смущает то, что основная масса товаров данной группы относится к дешевым, очень мало товаров среднего ценового сегмента и дорогостоящих. Посмотрим на остальные показатели данной категории.\n",
    "\n",
    "Изучим теперь количество заказов: какая доля заказов содержит в себе ту или иную группу товаров."
   ]
  },
  {
   "cell_type": "code",
   "execution_count": 64,
   "metadata": {
    "scrolled": false
   },
   "outputs": [
    {
     "data": {
      "text/html": [
       "<div>\n",
       "<style scoped>\n",
       "    .dataframe tbody tr th:only-of-type {\n",
       "        vertical-align: middle;\n",
       "    }\n",
       "\n",
       "    .dataframe tbody tr th {\n",
       "        vertical-align: top;\n",
       "    }\n",
       "\n",
       "    .dataframe thead th {\n",
       "        text-align: right;\n",
       "    }\n",
       "</style>\n",
       "<table border=\"1\" class=\"dataframe\">\n",
       "  <thead>\n",
       "    <tr style=\"text-align: right;\">\n",
       "      <th>price_level</th>\n",
       "      <th>product_category</th>\n",
       "      <th>Дешевые</th>\n",
       "      <th>Дорогостоящие</th>\n",
       "      <th>Средний ценовой сегмент</th>\n",
       "      <th>total</th>\n",
       "      <th>total_share</th>\n",
       "    </tr>\n",
       "  </thead>\n",
       "  <tbody>\n",
       "    <tr>\n",
       "      <th>7</th>\n",
       "      <td>Хозтовары</td>\n",
       "      <td>216.0</td>\n",
       "      <td>371.0</td>\n",
       "      <td>804.0</td>\n",
       "      <td>1391.0</td>\n",
       "      <td>0.48</td>\n",
       "    </tr>\n",
       "    <tr>\n",
       "      <th>4</th>\n",
       "      <td>Растения</td>\n",
       "      <td>628.0</td>\n",
       "      <td>13.0</td>\n",
       "      <td>166.0</td>\n",
       "      <td>807.0</td>\n",
       "      <td>0.28</td>\n",
       "    </tr>\n",
       "    <tr>\n",
       "      <th>1</th>\n",
       "      <td>Интерьер</td>\n",
       "      <td>192.0</td>\n",
       "      <td>31.0</td>\n",
       "      <td>28.0</td>\n",
       "      <td>251.0</td>\n",
       "      <td>0.09</td>\n",
       "    </tr>\n",
       "    <tr>\n",
       "      <th>3</th>\n",
       "      <td>Посуда</td>\n",
       "      <td>118.0</td>\n",
       "      <td>20.0</td>\n",
       "      <td>110.0</td>\n",
       "      <td>248.0</td>\n",
       "      <td>0.08</td>\n",
       "    </tr>\n",
       "    <tr>\n",
       "      <th>5</th>\n",
       "      <td>Стройка</td>\n",
       "      <td>29.0</td>\n",
       "      <td>44.0</td>\n",
       "      <td>22.0</td>\n",
       "      <td>95.0</td>\n",
       "      <td>0.03</td>\n",
       "    </tr>\n",
       "    <tr>\n",
       "      <th>6</th>\n",
       "      <td>Текстиль</td>\n",
       "      <td>22.0</td>\n",
       "      <td>23.0</td>\n",
       "      <td>40.0</td>\n",
       "      <td>85.0</td>\n",
       "      <td>0.03</td>\n",
       "    </tr>\n",
       "    <tr>\n",
       "      <th>0</th>\n",
       "      <td>Бытовая техника</td>\n",
       "      <td>0.0</td>\n",
       "      <td>6.0</td>\n",
       "      <td>29.0</td>\n",
       "      <td>35.0</td>\n",
       "      <td>0.01</td>\n",
       "    </tr>\n",
       "    <tr>\n",
       "      <th>2</th>\n",
       "      <td>Косметика и гигиена</td>\n",
       "      <td>7.0</td>\n",
       "      <td>0.0</td>\n",
       "      <td>3.0</td>\n",
       "      <td>10.0</td>\n",
       "      <td>0.00</td>\n",
       "    </tr>\n",
       "  </tbody>\n",
       "</table>\n",
       "</div>"
      ],
      "text/plain": [
       "price_level     product_category  Дешевые  Дорогостоящие  \\\n",
       "7                      Хозтовары    216.0          371.0   \n",
       "4                       Растения    628.0           13.0   \n",
       "1                       Интерьер    192.0           31.0   \n",
       "3                         Посуда    118.0           20.0   \n",
       "5                        Стройка     29.0           44.0   \n",
       "6                       Текстиль     22.0           23.0   \n",
       "0                Бытовая техника      0.0            6.0   \n",
       "2            Косметика и гигиена      7.0            0.0   \n",
       "\n",
       "price_level  Средний ценовой сегмент   total  total_share  \n",
       "7                              804.0  1391.0         0.48  \n",
       "4                              166.0   807.0         0.28  \n",
       "1                               28.0   251.0         0.09  \n",
       "3                              110.0   248.0         0.08  \n",
       "5                               22.0    95.0         0.03  \n",
       "6                               40.0    85.0         0.03  \n",
       "0                               29.0    35.0         0.01  \n",
       "2                                3.0    10.0         0.00  "
      ]
     },
     "metadata": {},
     "output_type": "display_data"
    },
    {
     "data": {
      "image/png": "[encoded data removed]",
      "text/plain": [
       "<Figure size 1008x432 with 1 Axes>"
      ]
     },
     "metadata": {
      "needs_background": "light"
     },
     "output_type": "display_data"
    }
   ],
   "source": [
    "analys(df, 'order_id', 'nunique', 'Количество заказов в разрезе товарных категорий и ценовых сегментов, шт.')"
   ]
  },
  {
   "cell_type": "markdown",
   "metadata": {},
   "source": [
    "Все-таки Интерьер не дотягивает до основного ассортимента, товары этой группы присутствуют только в 9% заказов, тогда как Хозтовары - в 48%, а растения - в 28%.\n",
    "\n",
    "Итак, основной ассортимент нашего интернет-магазина - это Хозтовары и Растения, все остальное - дополнительный ассортимент (сопутствующие товары).  Для рекламы, баннеров, главных экранов, первых позиций в каталоге рекомендуется брать только основной ассортимент.\n",
    "\n",
    "В рекомендации можно включать как основной, так и дополнительный. "
   ]
  },
  {
   "cell_type": "markdown",
   "metadata": {},
   "source": [
    "### Анализ сезонности"
   ]
  },
  {
   "cell_type": "markdown",
   "metadata": {},
   "source": [
    "Чтобы проанализировать сезонность каждой категории, посчитаем количество заказов с этой категорией для каждого месяца:"
   ]
  },
  {
   "cell_type": "code",
   "execution_count": 65,
   "metadata": {},
   "outputs": [
    {
     "data": {
      "text/html": [
       "<div>\n",
       "<style scoped>\n",
       "    .dataframe tbody tr th:only-of-type {\n",
       "        vertical-align: middle;\n",
       "    }\n",
       "\n",
       "    .dataframe tbody tr th {\n",
       "        vertical-align: top;\n",
       "    }\n",
       "\n",
       "    .dataframe thead th {\n",
       "        text-align: right;\n",
       "    }\n",
       "</style>\n",
       "<table border=\"1\" class=\"dataframe\">\n",
       "  <thead>\n",
       "    <tr style=\"text-align: right;\">\n",
       "      <th>product_category</th>\n",
       "      <th>Бытовая техника</th>\n",
       "      <th>Интерьер</th>\n",
       "      <th>Косметика и гигиена</th>\n",
       "      <th>Посуда</th>\n",
       "      <th>Растения</th>\n",
       "      <th>Стройка</th>\n",
       "      <th>Текстиль</th>\n",
       "      <th>Хозтовары</th>\n",
       "    </tr>\n",
       "    <tr>\n",
       "      <th>month</th>\n",
       "      <th></th>\n",
       "      <th></th>\n",
       "      <th></th>\n",
       "      <th></th>\n",
       "      <th></th>\n",
       "      <th></th>\n",
       "      <th></th>\n",
       "      <th></th>\n",
       "    </tr>\n",
       "  </thead>\n",
       "  <tbody>\n",
       "    <tr>\n",
       "      <th>2018-10-01</th>\n",
       "      <td>5.0</td>\n",
       "      <td>16.0</td>\n",
       "      <td>2.0</td>\n",
       "      <td>23.0</td>\n",
       "      <td>37.0</td>\n",
       "      <td>15.0</td>\n",
       "      <td>10.0</td>\n",
       "      <td>152.0</td>\n",
       "    </tr>\n",
       "    <tr>\n",
       "      <th>2018-11-01</th>\n",
       "      <td>2.0</td>\n",
       "      <td>20.0</td>\n",
       "      <td>1.0</td>\n",
       "      <td>28.0</td>\n",
       "      <td>30.0</td>\n",
       "      <td>6.0</td>\n",
       "      <td>11.0</td>\n",
       "      <td>123.0</td>\n",
       "    </tr>\n",
       "    <tr>\n",
       "      <th>2018-12-01</th>\n",
       "      <td>6.0</td>\n",
       "      <td>14.0</td>\n",
       "      <td>1.0</td>\n",
       "      <td>39.0</td>\n",
       "      <td>52.0</td>\n",
       "      <td>8.0</td>\n",
       "      <td>12.0</td>\n",
       "      <td>152.0</td>\n",
       "    </tr>\n",
       "    <tr>\n",
       "      <th>2019-01-01</th>\n",
       "      <td>5.0</td>\n",
       "      <td>15.0</td>\n",
       "      <td>0.0</td>\n",
       "      <td>22.0</td>\n",
       "      <td>26.0</td>\n",
       "      <td>7.0</td>\n",
       "      <td>8.0</td>\n",
       "      <td>86.0</td>\n",
       "    </tr>\n",
       "    <tr>\n",
       "      <th>2019-02-01</th>\n",
       "      <td>3.0</td>\n",
       "      <td>35.0</td>\n",
       "      <td>2.0</td>\n",
       "      <td>27.0</td>\n",
       "      <td>75.0</td>\n",
       "      <td>6.0</td>\n",
       "      <td>8.0</td>\n",
       "      <td>135.0</td>\n",
       "    </tr>\n",
       "    <tr>\n",
       "      <th>2019-03-01</th>\n",
       "      <td>3.0</td>\n",
       "      <td>24.0</td>\n",
       "      <td>2.0</td>\n",
       "      <td>23.0</td>\n",
       "      <td>86.0</td>\n",
       "      <td>5.0</td>\n",
       "      <td>5.0</td>\n",
       "      <td>101.0</td>\n",
       "    </tr>\n",
       "    <tr>\n",
       "      <th>2019-04-01</th>\n",
       "      <td>3.0</td>\n",
       "      <td>37.0</td>\n",
       "      <td>0.0</td>\n",
       "      <td>9.0</td>\n",
       "      <td>103.0</td>\n",
       "      <td>6.0</td>\n",
       "      <td>3.0</td>\n",
       "      <td>104.0</td>\n",
       "    </tr>\n",
       "    <tr>\n",
       "      <th>2019-05-01</th>\n",
       "      <td>0.0</td>\n",
       "      <td>11.0</td>\n",
       "      <td>0.0</td>\n",
       "      <td>11.0</td>\n",
       "      <td>96.0</td>\n",
       "      <td>5.0</td>\n",
       "      <td>2.0</td>\n",
       "      <td>55.0</td>\n",
       "    </tr>\n",
       "    <tr>\n",
       "      <th>2019-06-01</th>\n",
       "      <td>0.0</td>\n",
       "      <td>8.0</td>\n",
       "      <td>0.0</td>\n",
       "      <td>7.0</td>\n",
       "      <td>53.0</td>\n",
       "      <td>5.0</td>\n",
       "      <td>6.0</td>\n",
       "      <td>84.0</td>\n",
       "    </tr>\n",
       "    <tr>\n",
       "      <th>2019-07-01</th>\n",
       "      <td>2.0</td>\n",
       "      <td>20.0</td>\n",
       "      <td>0.0</td>\n",
       "      <td>11.0</td>\n",
       "      <td>49.0</td>\n",
       "      <td>9.0</td>\n",
       "      <td>3.0</td>\n",
       "      <td>103.0</td>\n",
       "    </tr>\n",
       "    <tr>\n",
       "      <th>2019-08-01</th>\n",
       "      <td>0.0</td>\n",
       "      <td>11.0</td>\n",
       "      <td>2.0</td>\n",
       "      <td>16.0</td>\n",
       "      <td>41.0</td>\n",
       "      <td>8.0</td>\n",
       "      <td>2.0</td>\n",
       "      <td>95.0</td>\n",
       "    </tr>\n",
       "    <tr>\n",
       "      <th>2019-09-01</th>\n",
       "      <td>2.0</td>\n",
       "      <td>13.0</td>\n",
       "      <td>0.0</td>\n",
       "      <td>16.0</td>\n",
       "      <td>50.0</td>\n",
       "      <td>4.0</td>\n",
       "      <td>8.0</td>\n",
       "      <td>87.0</td>\n",
       "    </tr>\n",
       "    <tr>\n",
       "      <th>2019-10-01</th>\n",
       "      <td>4.0</td>\n",
       "      <td>24.0</td>\n",
       "      <td>0.0</td>\n",
       "      <td>9.0</td>\n",
       "      <td>56.0</td>\n",
       "      <td>12.0</td>\n",
       "      <td>5.0</td>\n",
       "      <td>91.0</td>\n",
       "    </tr>\n",
       "  </tbody>\n",
       "</table>\n",
       "</div>"
      ],
      "text/plain": [
       "product_category  Бытовая техника  Интерьер  Косметика и гигиена  Посуда  \\\n",
       "month                                                                      \n",
       "2018-10-01                    5.0      16.0                  2.0    23.0   \n",
       "2018-11-01                    2.0      20.0                  1.0    28.0   \n",
       "2018-12-01                    6.0      14.0                  1.0    39.0   \n",
       "2019-01-01                    5.0      15.0                  0.0    22.0   \n",
       "2019-02-01                    3.0      35.0                  2.0    27.0   \n",
       "2019-03-01                    3.0      24.0                  2.0    23.0   \n",
       "2019-04-01                    3.0      37.0                  0.0     9.0   \n",
       "2019-05-01                    0.0      11.0                  0.0    11.0   \n",
       "2019-06-01                    0.0       8.0                  0.0     7.0   \n",
       "2019-07-01                    2.0      20.0                  0.0    11.0   \n",
       "2019-08-01                    0.0      11.0                  2.0    16.0   \n",
       "2019-09-01                    2.0      13.0                  0.0    16.0   \n",
       "2019-10-01                    4.0      24.0                  0.0     9.0   \n",
       "\n",
       "product_category  Растения  Стройка  Текстиль  Хозтовары  \n",
       "month                                                     \n",
       "2018-10-01            37.0     15.0      10.0      152.0  \n",
       "2018-11-01            30.0      6.0      11.0      123.0  \n",
       "2018-12-01            52.0      8.0      12.0      152.0  \n",
       "2019-01-01            26.0      7.0       8.0       86.0  \n",
       "2019-02-01            75.0      6.0       8.0      135.0  \n",
       "2019-03-01            86.0      5.0       5.0      101.0  \n",
       "2019-04-01           103.0      6.0       3.0      104.0  \n",
       "2019-05-01            96.0      5.0       2.0       55.0  \n",
       "2019-06-01            53.0      5.0       6.0       84.0  \n",
       "2019-07-01            49.0      9.0       3.0      103.0  \n",
       "2019-08-01            41.0      8.0       2.0       95.0  \n",
       "2019-09-01            50.0      4.0       8.0       87.0  \n",
       "2019-10-01            56.0     12.0       5.0       91.0  "
      ]
     },
     "execution_count": 65,
     "metadata": {},
     "output_type": "execute_result"
    }
   ],
   "source": [
    "season_products = df.pivot_table(index='month', columns='product_category', \n",
    "                                 values='order_id', aggfunc='nunique')\n",
    "season_products = season_products.fillna(0)\n",
    "season_products"
   ]
  },
  {
   "cell_type": "code",
   "execution_count": 66,
   "metadata": {},
   "outputs": [
    {
     "data": {
      "image/png": "[encoded data removed]",
      "text/plain": [
       "<Figure size 1008x432 with 1 Axes>"
      ]
     },
     "metadata": {
      "needs_background": "light"
     },
     "output_type": "display_data"
    }
   ],
   "source": [
    "season_products.plot(figsize=(14,6), grid=True, ylabel='Количество заказов',\n",
    "                    title='Популярность товаров в зависимости от сезона (количество заказов)',\n",
    "                    linewidth=4, alpha=0.5);"
   ]
  },
  {
   "cell_type": "markdown",
   "metadata": {},
   "source": [
    "У Хозтоваров спады в мае и январе (видимо, сказывается обилие выходных дней, которые люди стремятся провести вне дома), пики в декабре и феврале (наведение порядка перед новым годом и 8 марта). Но поскольку это основной ассортимент, рекламировать их и рекомендовать можно независимо от сезона.\n",
    "\n",
    "Растения наиболее популярны с февраля по май - время выращивания рассады и первых посадок на огороде, наименее популярны в ноябре и январе. В декабре спада нет, т.к. пользуются популярностью горшечные растения - в качестве подарков и украшений к новому году. Растения желательно активно рекламировать и рекомендовать в соответствии с сезоном: горшечные - осенью и зимой, семена - с февраля по май, рассаду - с апреля по июнь, саженцы - с мая по сентябрь.\n",
    "\n",
    "Категория Интерьер (куда входит мебель, ковры, искусственные цветы и фрукты) наиболее востребована с февраля по апрель - время весеннего обновления, завершения ремонтов и подготовки к лету. В этот период данную категорию можно включать в рекомендации более активно, чем в другие периоды.\n",
    "\n",
    "Категория Посуда более популярна с ноября по март, менее популярна с апреля по октябрь - время дач и путешествий, когда готовить обычно некогда. Соответственно посуду активнее продвигаем с ноября по март.\n",
    "\n",
    "По остальным категориям сезонность не прослеживается, рекомендовать можно круглый год."
   ]
  },
  {
   "cell_type": "markdown",
   "metadata": {},
   "source": [
    "### Вывод"
   ]
  },
  {
   "cell_type": "markdown",
   "metadata": {},
   "source": [
    "**Основной ассортимент** интернет-магазина составляют Хозтовары и Растения.\n",
    "\n",
    "Хозтовары\n",
    "- занимают 59% продаж в денежном выражении, 32% в натуральном выражении, присутствуют в 48% заказов.\n",
    "- категория является сбалансированной по ценовым сегментам, расширения ассортимента не требуется, но и не возбраняется.\n",
    "- рекомендуется продвигать, рекламировать и включать в рекомендации независимо от сезона.\n",
    "\n",
    "Растения\n",
    "- занимают 15% выручки, 30% объема продаж в натуральном выражении, содержатся в 28% заказов.\n",
    "- категория состоит, в основном, из дешевых товаров, рекомендуется расширять ассортимент за счет товаров среднего ценового сегмента (от 200 до 1200 у.е.) - саженцев, горшечных растений, наборов рассады, а также дорогостоящих товаров (свыше 1200 у.е.) - редких/экзотических/крупных саженцев, горшечных растений.\n",
    "- рекомендуется рекламировать и рекомендовать в соответствии с сезоном: горшечные - осенью и зимой, семена - с февраля по май, рассаду - с апреля по июнь, саженцы - с мая по сентябрь.\n",
    "\n",
    "**Дополнительный ассортимент**  - все остальные категории\n",
    "\n",
    "Интерьер (мебель, ковры, искусственные цветы, аксессуары)\n",
    "- занимает 6% выручки, 19% объема продаж в натуральном выражении, содержится в 9% заказов.\n",
    "- имеет потенциал перехода в основной ассортимент.\n",
    "- по количеству преобладают дешевые товары, если хотим переводить в основной ассортимент, рекомендуется расширять товарную номенклатуру за счет среднего ценового сегмента (от 200 до 1200 у.е.) и дорогостоящих товаров (свыше 1200 у.е.) - наиболее популярных и востребованных предметов мебели класса масс-маркет.\n",
    "- текущий ассортимент наиболее востребован с февраля по апрель, однако в случае расширения ассортимента за счет мебели, пиком спроса будет август-декабрь (исходя из моего опыта работы в мебельной отрасли).\n",
    "- в случае перехода в основной ассортимент продвигать категорию рекомендуется круглый год, в низкий сезон (лето) желательно устраивать распродажи.\n",
    "- если расширять не планируем и оставляем в качестве дополнительного ассортимента, то более активно рекомендуем с февраля по апрель.\n",
    "\n",
    "Посуда\n",
    "- занимает 7% выручки, 8% объема продаж в натуральном выражении, содержится в 8% заказов.\n",
    "- по количеству преобладают дешевые товары (до 200 у.е.), товары среднего ценового диапазона и дорогостоящие также присутствуют.\n",
    "- рекомендуется более активно рекомендовать с ноября по март\n",
    "\n",
    "Стройка (товары для ремонта)\n",
    "- занимает 6% выручки, 7% объема продаж в натуральном выражении, содержится в 3% заказов.\n",
    "- по количеству преобладают дешевые товары (до 200 у.е.), товары среднего ценового диапазона и дорогостоящие также присутствуют.\n",
    "- текущий ассортимент востребован одинаково весь год, рекомендовать независимо от сезона\n",
    "\n",
    "Текстиль (полотенца, постельное белье, салфетки, скатерти, халаты)\n",
    "- занимает 6% выручки, 3% объема продаж в натуральном выражении, содержится в 3% заказов.\n",
    "- по количеству преобладают дешевые товары (до 200 у.е.), товары среднего ценового диапазона и дорогостоящие также присутствуют.\n",
    "- текущий ассортимент востребован одинаково весь год, рекомендовать независимо от сезона\n",
    "\n",
    "Бытовая техника (чайники, утюги, светильники, кипятильники, фены, миксеры, весы, пылесосы)\n",
    "- занимает 1% выручки, менее 1% объема продаж в натуральном выражении, содержится в 1% заказов.\n",
    "- по количеству преобладают товары среднего ценового диапазона (от 200 до 1200 у.е.)\n",
    "- текущий ассортимент востребован одинаково весь год, рекомендовать независимо от сезона \n",
    "\n",
    "Косметика и гигиена (мыло, пена для ванн, маски для лица, зубная паста)\n",
    "- занимает менее 1% выручки, объема продаж в натуральном выражении и заказов.\n",
    "- по количеству преобладают дешевые товары (до 200 у.е.)\n",
    "- текущий ассортимент востребован одинаково весь год, рекомендовать независимо от сезона."
   ]
  },
  {
   "cell_type": "markdown",
   "metadata": {},
   "source": [
    "## Проверка гипотез"
   ]
  },
  {
   "cell_type": "markdown",
   "metadata": {},
   "source": [
    "### Выбор показателя и формулирование гипотезы"
   ]
  },
  {
   "cell_type": "markdown",
   "metadata": {},
   "source": [
    "Наиболее важным показателем у нас является выручка. Основная цель исследования - анализ ассортимента. Значит, логично будет проверить гипотезу о том, какие доли занимают у нас разные ассортиментные группы в выручке.\n",
    "\n",
    "Ассортимент мы поделили по ценовым сегментам и по 8 категориям назначения. Категории назначения можно объединить в 2 группы - основной и дополнительный ассортимент.\n",
    "\n",
    "Интересно проверить, различаются ли доли ценовых сегментов в выручке для основного и дополнительного ассортимента. Гипотезу на человеческом языке сформулируем так: **основной и дополнительный ассортимент имеют разную структуру по ценовым сегментам**. \n",
    "\n",
    "Т.е. например, доля дешевых товаров в основном ассортименте отличается от доли дешевых товаров в дополнительном ассортименте. На графиках мы сейчас видим это различие, однако не является ли оно случайным? Что если мы возьмем другой период (более длительный), то получим равные доли для ценовых сегментов?"
   ]
  },
  {
   "cell_type": "markdown",
   "metadata": {},
   "source": [
    "### Подготовка данных для проверки гипотезы"
   ]
  },
  {
   "cell_type": "markdown",
   "metadata": {},
   "source": [
    "Сначала нам нужно пометить основной и дополнительный ассортимент в отдельном столбце:"
   ]
  },
  {
   "cell_type": "code",
   "execution_count": 67,
   "metadata": {},
   "outputs": [],
   "source": [
    "def priority(category):\n",
    "    \n",
    "    if category == 'Хозтовары' or category == 'Растения':\n",
    "        return 'main'\n",
    "    return 'additional'\n",
    "\n",
    "\n",
    "df['priority'] = df['product_category'].apply(priority)"
   ]
  },
  {
   "cell_type": "code",
   "execution_count": 68,
   "metadata": {
    "scrolled": false
   },
   "outputs": [
    {
     "data": {
      "text/html": [
       "<div>\n",
       "<style scoped>\n",
       "    .dataframe tbody tr th:only-of-type {\n",
       "        vertical-align: middle;\n",
       "    }\n",
       "\n",
       "    .dataframe tbody tr th {\n",
       "        vertical-align: top;\n",
       "    }\n",
       "\n",
       "    .dataframe thead th {\n",
       "        text-align: right;\n",
       "    }\n",
       "</style>\n",
       "<table border=\"1\" class=\"dataframe\">\n",
       "  <thead>\n",
       "    <tr style=\"text-align: right;\">\n",
       "      <th></th>\n",
       "      <th>date</th>\n",
       "      <th>customer_id</th>\n",
       "      <th>order_id</th>\n",
       "      <th>product</th>\n",
       "      <th>quantity</th>\n",
       "      <th>price</th>\n",
       "      <th>revenue</th>\n",
       "      <th>b2b</th>\n",
       "      <th>price_level</th>\n",
       "      <th>month</th>\n",
       "      <th>product_category</th>\n",
       "      <th>priority</th>\n",
       "    </tr>\n",
       "  </thead>\n",
       "  <tbody>\n",
       "    <tr>\n",
       "      <th>67</th>\n",
       "      <td>2018-10-03 10:00:00</td>\n",
       "      <td>d0c6d3d9-dc3b-4406-afb7-f6cb0da3a4a9</td>\n",
       "      <td>68515</td>\n",
       "      <td>коврик bacchetta magicstop 03x15 м бежевый для сушки посуды 2289</td>\n",
       "      <td>1</td>\n",
       "      <td>187.0</td>\n",
       "      <td>187.0</td>\n",
       "      <td>False</td>\n",
       "      <td>Дешевые</td>\n",
       "      <td>2018-10-01</td>\n",
       "      <td>Хозтовары</td>\n",
       "      <td>main</td>\n",
       "    </tr>\n",
       "    <tr>\n",
       "      <th>6574</th>\n",
       "      <td>2019-10-10 17:00:00</td>\n",
       "      <td>21a6f64a-52bc-48b2-b6e3-e7d197620b08</td>\n",
       "      <td>72924</td>\n",
       "      <td>термокружка яромир кремль яр 2406м 400 мл</td>\n",
       "      <td>1</td>\n",
       "      <td>225.0</td>\n",
       "      <td>225.0</td>\n",
       "      <td>False</td>\n",
       "      <td>Средний ценовой сегмент</td>\n",
       "      <td>2019-10-01</td>\n",
       "      <td>Посуда</td>\n",
       "      <td>additional</td>\n",
       "    </tr>\n",
       "    <tr>\n",
       "      <th>1044</th>\n",
       "      <td>2018-12-01 17:00:00</td>\n",
       "      <td>95d35195-81d6-400c-9f2d-bdc947d6c5bd</td>\n",
       "      <td>69163</td>\n",
       "      <td>сумка тележка 2 х колесная gimi argo синяя</td>\n",
       "      <td>1</td>\n",
       "      <td>1049.0</td>\n",
       "      <td>1049.0</td>\n",
       "      <td>False</td>\n",
       "      <td>Средний ценовой сегмент</td>\n",
       "      <td>2018-12-01</td>\n",
       "      <td>Хозтовары</td>\n",
       "      <td>main</td>\n",
       "    </tr>\n",
       "    <tr>\n",
       "      <th>920</th>\n",
       "      <td>2018-11-23 04:00:00</td>\n",
       "      <td>81a07ad7-0646-477c-9e11-0a52c6f6f7e1</td>\n",
       "      <td>69090</td>\n",
       "      <td>герань домашняя пеларгония зональная цветущая d12 h25 30 малиновая махровая</td>\n",
       "      <td>1</td>\n",
       "      <td>149.0</td>\n",
       "      <td>149.0</td>\n",
       "      <td>False</td>\n",
       "      <td>Дешевые</td>\n",
       "      <td>2018-11-01</td>\n",
       "      <td>Растения</td>\n",
       "      <td>main</td>\n",
       "    </tr>\n",
       "    <tr>\n",
       "      <th>5206</th>\n",
       "      <td>2019-06-13 09:00:00</td>\n",
       "      <td>3a6d1d0f-af18-4baa-ae90-3b481469d6eb</td>\n",
       "      <td>14862</td>\n",
       "      <td>пеларгония зональная мультиблум скарлет ай d 7 см h 10 см укорененный черенок</td>\n",
       "      <td>1</td>\n",
       "      <td>75.0</td>\n",
       "      <td>75.0</td>\n",
       "      <td>False</td>\n",
       "      <td>Дешевые</td>\n",
       "      <td>2019-06-01</td>\n",
       "      <td>Растения</td>\n",
       "      <td>main</td>\n",
       "    </tr>\n",
       "  </tbody>\n",
       "</table>\n",
       "</div>"
      ],
      "text/plain": [
       "                    date                           customer_id order_id  \\\n",
       "67   2018-10-03 10:00:00  d0c6d3d9-dc3b-4406-afb7-f6cb0da3a4a9    68515   \n",
       "6574 2019-10-10 17:00:00  21a6f64a-52bc-48b2-b6e3-e7d197620b08    72924   \n",
       "1044 2018-12-01 17:00:00  95d35195-81d6-400c-9f2d-bdc947d6c5bd    69163   \n",
       "920  2018-11-23 04:00:00  81a07ad7-0646-477c-9e11-0a52c6f6f7e1    69090   \n",
       "5206 2019-06-13 09:00:00  3a6d1d0f-af18-4baa-ae90-3b481469d6eb    14862   \n",
       "\n",
       "                                                                            product  \\\n",
       "67                 коврик bacchetta magicstop 03x15 м бежевый для сушки посуды 2289   \n",
       "6574                                      термокружка яромир кремль яр 2406м 400 мл   \n",
       "1044                                     сумка тележка 2 х колесная gimi argo синяя   \n",
       "920     герань домашняя пеларгония зональная цветущая d12 h25 30 малиновая махровая   \n",
       "5206  пеларгония зональная мультиблум скарлет ай d 7 см h 10 см укорененный черенок   \n",
       "\n",
       "      quantity   price  revenue    b2b              price_level      month  \\\n",
       "67           1   187.0    187.0  False                  Дешевые 2018-10-01   \n",
       "6574         1   225.0    225.0  False  Средний ценовой сегмент 2019-10-01   \n",
       "1044         1  1049.0   1049.0  False  Средний ценовой сегмент 2018-12-01   \n",
       "920          1   149.0    149.0  False                  Дешевые 2018-11-01   \n",
       "5206         1    75.0     75.0  False                  Дешевые 2019-06-01   \n",
       "\n",
       "     product_category    priority  \n",
       "67          Хозтовары        main  \n",
       "6574           Посуда  additional  \n",
       "1044        Хозтовары        main  \n",
       "920          Растения        main  \n",
       "5206         Растения        main  "
      ]
     },
     "execution_count": 68,
     "metadata": {},
     "output_type": "execute_result"
    }
   ],
   "source": [
    "df.sample(5)"
   ]
  },
  {
   "cell_type": "markdown",
   "metadata": {},
   "source": [
    "Рассчитаем общую сумму выручки для основного и дополнительного ассортимента:"
   ]
  },
  {
   "cell_type": "code",
   "execution_count": 69,
   "metadata": {},
   "outputs": [
    {
     "data": {
      "text/html": [
       "<div>\n",
       "<style scoped>\n",
       "    .dataframe tbody tr th:only-of-type {\n",
       "        vertical-align: middle;\n",
       "    }\n",
       "\n",
       "    .dataframe tbody tr th {\n",
       "        vertical-align: top;\n",
       "    }\n",
       "\n",
       "    .dataframe thead th {\n",
       "        text-align: right;\n",
       "    }\n",
       "</style>\n",
       "<table border=\"1\" class=\"dataframe\">\n",
       "  <thead>\n",
       "    <tr style=\"text-align: right;\">\n",
       "      <th></th>\n",
       "      <th>revenue</th>\n",
       "    </tr>\n",
       "    <tr>\n",
       "      <th>priority</th>\n",
       "      <th></th>\n",
       "    </tr>\n",
       "  </thead>\n",
       "  <tbody>\n",
       "    <tr>\n",
       "      <th>additional</th>\n",
       "      <td>900343.0</td>\n",
       "    </tr>\n",
       "    <tr>\n",
       "      <th>main</th>\n",
       "      <td>2541311.0</td>\n",
       "    </tr>\n",
       "  </tbody>\n",
       "</table>\n",
       "</div>"
      ],
      "text/plain": [
       "              revenue\n",
       "priority             \n",
       "additional   900343.0\n",
       "main        2541311.0"
      ]
     },
     "execution_count": 69,
     "metadata": {},
     "output_type": "execute_result"
    }
   ],
   "source": [
    "df.groupby('priority').agg({'revenue':'sum'})"
   ]
  },
  {
   "cell_type": "markdown",
   "metadata": {},
   "source": [
    "Теперь сформируем сводную таблицу для выручки в разрезе ценовых категорий и основного/дополнительного ассортимента, добавим в нее строку Итого:"
   ]
  },
  {
   "cell_type": "code",
   "execution_count": 70,
   "metadata": {},
   "outputs": [
    {
     "data": {
      "text/html": [
       "<div>\n",
       "<style scoped>\n",
       "    .dataframe tbody tr th:only-of-type {\n",
       "        vertical-align: middle;\n",
       "    }\n",
       "\n",
       "    .dataframe tbody tr th {\n",
       "        vertical-align: top;\n",
       "    }\n",
       "\n",
       "    .dataframe thead th {\n",
       "        text-align: right;\n",
       "    }\n",
       "</style>\n",
       "<table border=\"1\" class=\"dataframe\">\n",
       "  <thead>\n",
       "    <tr style=\"text-align: right;\">\n",
       "      <th></th>\n",
       "      <th>price_level</th>\n",
       "      <th>additional</th>\n",
       "      <th>main</th>\n",
       "    </tr>\n",
       "  </thead>\n",
       "  <tbody>\n",
       "    <tr>\n",
       "      <th>0</th>\n",
       "      <td>Дорогостоящие</td>\n",
       "      <td>406467.0</td>\n",
       "      <td>1130175.0</td>\n",
       "    </tr>\n",
       "    <tr>\n",
       "      <th>1</th>\n",
       "      <td>Средний ценовой сегмент</td>\n",
       "      <td>265029.0</td>\n",
       "      <td>885595.0</td>\n",
       "    </tr>\n",
       "    <tr>\n",
       "      <th>2</th>\n",
       "      <td>Дешевые</td>\n",
       "      <td>228847.0</td>\n",
       "      <td>525541.0</td>\n",
       "    </tr>\n",
       "    <tr>\n",
       "      <th>3</th>\n",
       "      <td>Итого</td>\n",
       "      <td>900343.0</td>\n",
       "      <td>2541311.0</td>\n",
       "    </tr>\n",
       "  </tbody>\n",
       "</table>\n",
       "</div>"
      ],
      "text/plain": [
       "               price_level  additional       main\n",
       "0            Дорогостоящие    406467.0  1130175.0\n",
       "1  Средний ценовой сегмент    265029.0   885595.0\n",
       "2                  Дешевые    228847.0   525541.0\n",
       "3                    Итого    900343.0  2541311.0"
      ]
     },
     "execution_count": 70,
     "metadata": {},
     "output_type": "execute_result"
    }
   ],
   "source": [
    "compare = df.pivot_table(index='price_level', columns='priority', values='revenue', aggfunc='sum')\\\n",
    "            .sort_values(by='main', ascending=False)\\\n",
    "            .reset_index()\n",
    "new_raw = {'price_level':'Итого', 'main':2541311, 'additional':900343}\n",
    "compare = compare.append(new_raw, ignore_index=True)\n",
    "\n",
    "compare"
   ]
  },
  {
   "cell_type": "markdown",
   "metadata": {},
   "source": [
    "Данные для проверки гипотезы о равенстве долей готовы."
   ]
  },
  {
   "cell_type": "markdown",
   "metadata": {},
   "source": [
    "### Написание  функции для проверки гипотезы"
   ]
  },
  {
   "cell_type": "markdown",
   "metadata": {},
   "source": [
    "Чтобы можно было менять количество групп и уровень статистической значимости при необходимости, удобно написать функцию.\n",
    "\n",
    "Напишем функцию, которая будет проверять гипотезу о равенстве долей для заданных видов ассортимента по каждому ценовому сегменту. Будем использовать Z-тест, зададим уровень значимости  𝛼  = 0.017.\n",
    "\n",
    "Здесь мы используем поправку Бенферрони для  𝛼  = 0.05, разделив это значение на 3, т.к. у нас будет 3 проверки для 2х групп и 3х ценовых сегментов."
   ]
  },
  {
   "cell_type": "code",
   "execution_count": 71,
   "metadata": {},
   "outputs": [],
   "source": [
    "def test(group1, group2, set_alpha = 0.017):\n",
    "    \n",
    "    alpha = set_alpha\n",
    "    \n",
    "    # перебираем список из 3х сегментов \n",
    "    for i in range(3):\n",
    "            \n",
    "        # пропорция для первой группы\n",
    "        p1 = compare.loc[i, group1] / compare.loc[3,group1]\n",
    "\n",
    "        # пропорция для второй группы\n",
    "        p2 = compare.loc[i, group2] / compare.loc[3,group2]\n",
    "\n",
    "        # пропорция для комбинации групп\n",
    "        p_comb = ((compare.loc[i, group1] + compare.loc[i, group2]) / \n",
    "                  (compare.loc[3, group1] + compare.loc[3, group2]))\n",
    "\n",
    "        # разница пропорций\n",
    "        dif = p1 - p2\n",
    "\n",
    "        # считаем статистику в ст.отклонениях стандартного нормального распределения\n",
    "        z_value = dif / mth.sqrt(\n",
    "            p_comb * (1 - p_comb) * (1 / compare.loc[3,group1] + 1 / compare.loc[3,group2])\n",
    "        )\n",
    "\n",
    "        # задаем стандартное нормальное распределение (среднее 0, ст.отклонение 1)\n",
    "        distr = st.norm(0, 1)\n",
    "\n",
    "        p_value = (1 - distr.cdf(abs(z_value))) * 2\n",
    "\n",
    "        print('Ценовой сегмент:', i)\n",
    "        print('p-значение: ', p_value)\n",
    "\n",
    "        if p_value < alpha:\n",
    "            print('Отвергаем нулевую гипотезу: между долями есть значимая разница')\n",
    "        else:\n",
    "            print(\n",
    "            'Не получилось отвергнуть нулевую гипотезу, нет оснований считать доли разными'\n",
    "            )\n",
    "        print()\n",
    "        \n",
    "        # переходим к следующему ценовому сегменту\n",
    "        i += 1"
   ]
  },
  {
   "cell_type": "markdown",
   "metadata": {},
   "source": [
    "### Проверка гипотезы о равенстве долей"
   ]
  },
  {
   "cell_type": "markdown",
   "metadata": {},
   "source": [
    "**Нулевая гипотеза**: между долями товаров основного и дополнительного ассортимента в выручке для одного и того же ценового сегмента нет статистически значимых различий.\n",
    "\n",
    "**Альтернативная гипотеза**: доли товаров основного и дополнительного ассортимента в выручке для одного и того же ценового сегмента различаются.\n",
    "\n",
    "Проверим:"
   ]
  },
  {
   "cell_type": "code",
   "execution_count": 72,
   "metadata": {},
   "outputs": [
    {
     "name": "stdout",
     "output_type": "stream",
     "text": [
      "Ценовой сегмент: 0\n",
      "p-значение:  0.0\n",
      "Отвергаем нулевую гипотезу: между долями есть значимая разница\n",
      "\n",
      "Ценовой сегмент: 1\n",
      "p-значение:  0.0\n",
      "Отвергаем нулевую гипотезу: между долями есть значимая разница\n",
      "\n",
      "Ценовой сегмент: 2\n",
      "p-значение:  0.0\n",
      "Отвергаем нулевую гипотезу: между долями есть значимая разница\n",
      "\n"
     ]
    }
   ],
   "source": [
    "test('main','additional')"
   ]
  },
  {
   "cell_type": "markdown",
   "metadata": {},
   "source": [
    "### Уровень значимости и групповой коэффициент ошибок"
   ]
  },
  {
   "cell_type": "markdown",
   "metadata": {},
   "source": [
    "Мы провели множественную проверку гипотезы - по 1 тесту для каждого из 3-х ценовых сегментов, всего 3 сравненя. Уровень статистической значимости для каждого теста задали на уровне = 0.017. Групповой коэффициент ошибок в нашем случае будет равен:"
   ]
  },
  {
   "cell_type": "code",
   "execution_count": 73,
   "metadata": {},
   "outputs": [
    {
     "data": {
      "text/plain": [
       "0.050137913000000034"
      ]
     },
     "execution_count": 73,
     "metadata": {},
     "output_type": "execute_result"
    }
   ],
   "source": [
    "alpha = 0.017\n",
    "fwer = 1 - (1 - alpha)**3\n",
    "fwer"
   ]
  },
  {
   "cell_type": "markdown",
   "metadata": {},
   "source": [
    "5% - это приемлемая вероятность ошибки."
   ]
  },
  {
   "cell_type": "markdown",
   "metadata": {},
   "source": [
    "### Вывод"
   ]
  },
  {
   "cell_type": "markdown",
   "metadata": {},
   "source": [
    "Мы провели множественный тест, в ходе которого сравнили между собой выручку от продажи товаров основного и дополнительного асортимента.\n",
    "\n",
    "Показатели для сравнения:\n",
    "- доля дешевых товаров в выручке;\n",
    "- доля товаров среднего ценового сегмента в выручке;\n",
    "- доля дорогостоящих товаров в выручке.\n",
    "\n",
    "\n",
    "Уровень статистической значимости был задан на уровне 1,7%. Групповой коэффициент ошибок равен 5%.\n",
    "\n",
    "Тест показал, что между одними и теми же показателями разных групп есть статистически значимые различия. \n",
    "\n",
    "Основной и дополнительный ассортимент отличаются структурой по ценовым сегментам. \n",
    "\n",
    "Практическое применение: если мы захотим какую-то категорию товаров перевести в из дополнительного ассортимента в основной или наоборот, то нам нужно будет поменять соотношение ценовых сегментов в данной категории."
   ]
  },
  {
   "cell_type": "markdown",
   "metadata": {},
   "source": [
    "## Выводы и рекомендации"
   ]
  },
  {
   "cell_type": "markdown",
   "metadata": {},
   "source": [
    "**Общее описание ситуации**\n",
    "\n",
    "За период с октября 2018 по октябрь 2019\n",
    "- интернет-магазин посетили 2 422 покупателя;\n",
    "- продано 2 337 наименований товаров;\n",
    "- оформлено 2 783 заказа, \n",
    "- повторных заказов 361 шт. или 13% от общего числа заказов;\n",
    "- 95% покупателей - обычные потребители, на которых приходится 89% заказов, средний чек не зависит от сезона и колеблется от 900 до 1300 у.е. (без учета выбросов);\n",
    "- 5% покупателей - предприниматели, на которых приходится 11% заказов, средний чек имеет выраженную сезонность и варьируется от 700 до 2200 у.е. (без учета выбросов);\n",
    "- выручка имеет тенденцию к снижению за счет уменьшения количества заказов предпринимателей.\n",
    "\n",
    "\n",
    "**Ассортимент**\n",
    "\n",
    "Мы разделили товары на 3 ценовых сегмента:\n",
    " - дешевые (до 200 у.е.) - 53% наименований\n",
    " - средний ценовой сегмент (от 200 до 1200 у.е.) - 32% наименований\n",
    " - дорогостоящие (от 1200 до 15000 у.е.) - 14% наименований\n",
    " \n",
    "Выделили 8 товарных категорий по назначению и 2 супер-категории по приоритету:\n",
    "- Основной ассортимент (74% выручки и 62% продаж в шт)\n",
    " - Хозтовары (59% выручки и 32% продаж в шт)\n",
    " - Растения (15% выручки и 30% продаж в шт)\n",
    "- Дополнительный ассортимент (26% выручки и 38% продаж в шт)\n",
    " - Интерьер (6% выручки и 19% продаж в шт)\n",
    " - Посуда (7% выручки и 8% продаж в шт)\n",
    " - Стройка (6% выручки и 7% продаж в шт)\n",
    " - Текстиль (6% выручки и 3% продаж в шт)\n",
    " - Бытовая техника (1% выручки и менее 1% продаж в шт)\n",
    " - Косметика и гигиена (менее 1% выручки и продаж в шт)\n",
    " \n",
    "**Рекомендации по увеличению выручки**\n",
    "- Поощрять повторные и крупные заказы, особенно предпринимателей (скидки/бонусы - но выборочно и предварительно просчитав экономическую целесообразность).\n",
    "- Повышать средний чек за счет увеличения количества позиций в заказе - активно рекомендовать покупателям сопутствующие товары с учетом сезона:\n",
    " - Хозтовары - круглый год\n",
    " - Растения: горшечные - с октября по март, семена - с февраля по май, рассаду - с апреля по июнь, саженцы - с мая по сентябрь.\n",
    " - Интерьер: без расширения ассортимента - с февраля по апрель, в случае расширения ассортимента - круглый год + распродажи в низкий сезон (май-июль)\n",
    " - Посуду: с ноября по март\n",
    " - Стройку, Текстиль, Бытовыю технику, Косметику и гигиену - круглый год\n",
    "- Активно продвигать, рекламировать, размещать на первом экране и в начале католога только основной ассортимент, в систему рекомендаций включать все товары.\n",
    "\n",
    "**Рекомендации по оптимизации ассортимента**\n",
    "- Расширять ассортимент Растений за счет товаров среднего ценового сегмента (от 200 до 1200 у.е.) - саженцев, горшечных растений, наборов рассады, а также дорогостоящих товаров (свыше 1200 у.е.) - редких/экзотических/крупных саженцев, горшечных растений.\n",
    "- Категорию Интерьер перевести в основной ассортимент, для этого рекомендуется расширять товарную номенклатуру за счет среднего ценового сегмента (от 200 до 1200 у.е.) и дорогостоящих товаров (свыше 1200 у.е.) - наиболее популярных и востребованных предметов мебели класса масс-маркет.\n",
    "- Унифицировать названия товаров, классифицировать их проанализировать на предмет востребованности. По результатам вывести из ассортимента редкопродаваемые дешевые товары (чтобы ассортимент дешевых товаров не был излишне раздут). На данный момент такой анализ провести невозможно, т.к. один и тот же товар имеет в базе несколько вариантов наименования.\n",
    "\n",
    "**Рекомендации по ведению базы данных и выгрузке данных**\n",
    "- Выяснить причину задвоения номеров заказов для разных пользователей и разных дат, исключить такие преценденты в будущем."
   ]
  },
  {
   "cell_type": "code",
   "execution_count": null,
   "metadata": {},
   "outputs": [],
   "source": [
    "     "
   ]
  }
 ],
 "metadata": {
  "ExecuteTimeLog": [
   {
    "duration": 435,
    "start_time": "2022-06-12T08:00:19.150Z"
   },
   {
    "duration": 1177,
    "start_time": "2022-06-12T08:02:12.924Z"
   },
   {
    "duration": 803,
    "start_time": "2022-06-12T08:02:38.486Z"
   },
   {
    "duration": 981,
    "start_time": "2022-06-12T08:03:57.139Z"
   },
   {
    "duration": 32,
    "start_time": "2022-06-12T08:06:47.923Z"
   },
   {
    "duration": 785,
    "start_time": "2022-06-12T08:12:36.200Z"
   },
   {
    "duration": 828,
    "start_time": "2022-06-12T08:12:44.790Z"
   },
   {
    "duration": 8,
    "start_time": "2022-06-12T08:32:15.908Z"
   },
   {
    "duration": 79,
    "start_time": "2022-06-12T08:36:38.374Z"
   },
   {
    "duration": 530,
    "start_time": "2022-06-12T08:36:42.551Z"
   },
   {
    "duration": 49,
    "start_time": "2022-06-12T08:38:44.068Z"
   },
   {
    "duration": 169,
    "start_time": "2022-06-12T08:39:05.135Z"
   },
   {
    "duration": 3,
    "start_time": "2022-06-12T08:39:55.521Z"
   },
   {
    "duration": 57,
    "start_time": "2022-06-12T08:40:03.845Z"
   },
   {
    "duration": 7,
    "start_time": "2022-06-12T08:41:31.162Z"
   },
   {
    "duration": 8,
    "start_time": "2022-06-12T08:42:05.270Z"
   },
   {
    "duration": 44,
    "start_time": "2022-06-12T08:42:08.978Z"
   },
   {
    "duration": 8,
    "start_time": "2022-06-12T08:42:11.161Z"
   },
   {
    "duration": 14,
    "start_time": "2022-06-12T08:42:32.211Z"
   },
   {
    "duration": 53,
    "start_time": "2022-06-12T08:43:39.822Z"
   },
   {
    "duration": 47,
    "start_time": "2022-06-12T08:46:30.377Z"
   },
   {
    "duration": 54,
    "start_time": "2022-06-12T08:47:08.602Z"
   },
   {
    "duration": 50,
    "start_time": "2022-06-12T09:01:39.984Z"
   },
   {
    "duration": 19,
    "start_time": "2022-06-12T09:22:58.762Z"
   },
   {
    "duration": 393,
    "start_time": "2022-06-13T06:52:33.904Z"
   },
   {
    "duration": 172,
    "start_time": "2022-06-13T06:54:28.426Z"
   },
   {
    "duration": 13,
    "start_time": "2022-06-13T06:54:49.309Z"
   },
   {
    "duration": 51,
    "start_time": "2022-06-13T06:57:52.545Z"
   },
   {
    "duration": 12,
    "start_time": "2022-06-13T06:57:54.737Z"
   },
   {
    "duration": 11,
    "start_time": "2022-06-13T06:58:08.224Z"
   },
   {
    "duration": 7,
    "start_time": "2022-06-13T07:06:20.433Z"
   },
   {
    "duration": 21,
    "start_time": "2022-06-13T07:06:28.913Z"
   },
   {
    "duration": 56,
    "start_time": "2022-06-13T07:07:05.397Z"
   },
   {
    "duration": 18,
    "start_time": "2022-06-13T07:07:16.764Z"
   },
   {
    "duration": 15,
    "start_time": "2022-06-13T07:15:13.465Z"
   },
   {
    "duration": 16,
    "start_time": "2022-06-13T07:15:22.801Z"
   },
   {
    "duration": 16,
    "start_time": "2022-06-13T07:15:39.488Z"
   },
   {
    "duration": 3,
    "start_time": "2022-06-13T07:21:02.458Z"
   },
   {
    "duration": 59,
    "start_time": "2022-06-13T07:23:23.566Z"
   },
   {
    "duration": 2,
    "start_time": "2022-06-13T07:25:49.051Z"
   },
   {
    "duration": 8,
    "start_time": "2022-06-13T07:26:25.227Z"
   },
   {
    "duration": 2,
    "start_time": "2022-06-13T07:28:52.190Z"
   },
   {
    "duration": 17,
    "start_time": "2022-06-13T08:46:06.498Z"
   },
   {
    "duration": 21,
    "start_time": "2022-06-13T08:47:10.254Z"
   },
   {
    "duration": 14,
    "start_time": "2022-06-13T08:47:25.184Z"
   },
   {
    "duration": 21,
    "start_time": "2022-06-13T08:49:26.730Z"
   },
   {
    "duration": 18,
    "start_time": "2022-06-13T08:50:48.226Z"
   },
   {
    "duration": 114,
    "start_time": "2022-06-13T08:51:11.978Z"
   },
   {
    "duration": 102,
    "start_time": "2022-06-13T08:51:17.115Z"
   },
   {
    "duration": 17,
    "start_time": "2022-06-13T08:51:31.780Z"
   },
   {
    "duration": 2,
    "start_time": "2022-06-13T08:54:13.374Z"
   },
   {
    "duration": 14,
    "start_time": "2022-06-13T08:54:17.680Z"
   },
   {
    "duration": 15,
    "start_time": "2022-06-13T08:54:35.993Z"
   },
   {
    "duration": 2,
    "start_time": "2022-06-13T08:56:21.298Z"
   },
   {
    "duration": 216,
    "start_time": "2022-06-13T09:02:35.475Z"
   },
   {
    "duration": 422,
    "start_time": "2022-06-13T09:02:55.054Z"
   },
   {
    "duration": 49,
    "start_time": "2022-06-13T09:02:55.477Z"
   },
   {
    "duration": 12,
    "start_time": "2022-06-13T09:02:55.527Z"
   },
   {
    "duration": 20,
    "start_time": "2022-06-13T09:02:55.540Z"
   },
   {
    "duration": 42,
    "start_time": "2022-06-13T09:02:55.562Z"
   },
   {
    "duration": 405,
    "start_time": "2022-06-13T09:03:23.476Z"
   },
   {
    "duration": 48,
    "start_time": "2022-06-13T09:03:23.883Z"
   },
   {
    "duration": 11,
    "start_time": "2022-06-13T09:03:23.932Z"
   },
   {
    "duration": 12,
    "start_time": "2022-06-13T09:03:23.945Z"
   },
   {
    "duration": 24,
    "start_time": "2022-06-13T09:03:23.959Z"
   },
   {
    "duration": 65,
    "start_time": "2022-06-13T09:05:21.816Z"
   },
   {
    "duration": 405,
    "start_time": "2022-06-13T09:07:08.635Z"
   },
   {
    "duration": 51,
    "start_time": "2022-06-13T09:07:09.041Z"
   },
   {
    "duration": 11,
    "start_time": "2022-06-13T09:07:09.093Z"
   },
   {
    "duration": 10,
    "start_time": "2022-06-13T09:07:09.106Z"
   },
   {
    "duration": 18,
    "start_time": "2022-06-13T09:07:09.117Z"
   },
   {
    "duration": 77,
    "start_time": "2022-06-13T09:07:09.136Z"
   },
   {
    "duration": 12,
    "start_time": "2022-06-13T09:07:27.498Z"
   },
   {
    "duration": 17,
    "start_time": "2022-06-13T09:11:07.680Z"
   },
   {
    "duration": 27,
    "start_time": "2022-06-13T09:12:09.143Z"
   },
   {
    "duration": 26,
    "start_time": "2022-06-13T09:13:05.794Z"
   },
   {
    "duration": 17,
    "start_time": "2022-06-13T09:13:23.400Z"
   },
   {
    "duration": 4,
    "start_time": "2022-06-13T09:13:34.890Z"
   },
   {
    "duration": 30,
    "start_time": "2022-06-13T09:16:37.686Z"
   },
   {
    "duration": 31,
    "start_time": "2022-06-13T09:16:55.942Z"
   },
   {
    "duration": 5,
    "start_time": "2022-06-13T09:18:31.813Z"
   },
   {
    "duration": 15,
    "start_time": "2022-06-13T09:21:02.869Z"
   },
   {
    "duration": 5,
    "start_time": "2022-06-13T09:23:49.237Z"
   },
   {
    "duration": 6,
    "start_time": "2022-06-13T09:35:44.598Z"
   },
   {
    "duration": 14,
    "start_time": "2022-06-13T09:35:57.124Z"
   },
   {
    "duration": 10,
    "start_time": "2022-06-13T09:38:48.791Z"
   },
   {
    "duration": 11,
    "start_time": "2022-06-13T09:39:28.876Z"
   },
   {
    "duration": 11,
    "start_time": "2022-06-13T09:40:41.855Z"
   },
   {
    "duration": 12,
    "start_time": "2022-06-13T09:41:19.181Z"
   },
   {
    "duration": 17,
    "start_time": "2022-06-13T09:42:32.292Z"
   },
   {
    "duration": 14,
    "start_time": "2022-06-13T09:42:58.756Z"
   },
   {
    "duration": 12,
    "start_time": "2022-06-13T09:43:29.916Z"
   },
   {
    "duration": 12,
    "start_time": "2022-06-13T09:43:51.787Z"
   },
   {
    "duration": 12,
    "start_time": "2022-06-13T09:48:12.432Z"
   },
   {
    "duration": 19,
    "start_time": "2022-06-13T09:50:03.566Z"
   },
   {
    "duration": 18,
    "start_time": "2022-06-13T09:50:31.572Z"
   },
   {
    "duration": 2,
    "start_time": "2022-06-13T09:52:20.028Z"
   },
   {
    "duration": 81,
    "start_time": "2022-06-13T09:52:20.035Z"
   },
   {
    "duration": 12,
    "start_time": "2022-06-13T09:52:20.119Z"
   },
   {
    "duration": 44,
    "start_time": "2022-06-13T09:52:20.133Z"
   },
   {
    "duration": 33,
    "start_time": "2022-06-13T09:52:20.180Z"
   },
   {
    "duration": 26,
    "start_time": "2022-06-13T09:52:20.215Z"
   },
   {
    "duration": 36,
    "start_time": "2022-06-13T09:52:20.243Z"
   },
   {
    "duration": 39,
    "start_time": "2022-06-13T09:52:20.281Z"
   },
   {
    "duration": 7,
    "start_time": "2022-06-13T09:52:20.322Z"
   },
   {
    "duration": 37,
    "start_time": "2022-06-13T09:52:20.330Z"
   },
   {
    "duration": 35,
    "start_time": "2022-06-13T09:52:20.369Z"
   },
   {
    "duration": 18,
    "start_time": "2022-06-13T09:53:32.453Z"
   },
   {
    "duration": 25,
    "start_time": "2022-06-13T09:54:04.053Z"
   },
   {
    "duration": 5,
    "start_time": "2022-06-13T10:00:54.942Z"
   },
   {
    "duration": 3,
    "start_time": "2022-06-13T10:01:02.591Z"
   },
   {
    "duration": 20,
    "start_time": "2022-06-13T10:02:38.617Z"
   },
   {
    "duration": 7,
    "start_time": "2022-06-13T10:03:14.199Z"
   },
   {
    "duration": 11,
    "start_time": "2022-06-13T10:03:52.532Z"
   },
   {
    "duration": 8,
    "start_time": "2022-06-13T10:12:59.843Z"
   },
   {
    "duration": 6,
    "start_time": "2022-06-13T10:13:13.366Z"
   },
   {
    "duration": 14,
    "start_time": "2022-06-13T10:20:52.209Z"
   },
   {
    "duration": 13,
    "start_time": "2022-06-13T10:21:32.496Z"
   },
   {
    "duration": 13,
    "start_time": "2022-06-13T10:21:55.629Z"
   },
   {
    "duration": 13,
    "start_time": "2022-06-13T10:22:46.795Z"
   },
   {
    "duration": 15,
    "start_time": "2022-06-13T10:27:42.959Z"
   },
   {
    "duration": 13,
    "start_time": "2022-06-13T10:30:22.359Z"
   },
   {
    "duration": 51,
    "start_time": "2022-06-13T10:30:45.691Z"
   },
   {
    "duration": 894,
    "start_time": "2022-06-13T10:34:30.851Z"
   },
   {
    "duration": 926,
    "start_time": "2022-06-13T10:34:46.627Z"
   },
   {
    "duration": 7,
    "start_time": "2022-06-13T10:34:57.469Z"
   },
   {
    "duration": 916,
    "start_time": "2022-06-13T10:35:02.092Z"
   },
   {
    "duration": 856,
    "start_time": "2022-06-13T10:35:32.791Z"
   },
   {
    "duration": 990,
    "start_time": "2022-06-13T10:35:38.314Z"
   },
   {
    "duration": 903,
    "start_time": "2022-06-13T10:35:48.106Z"
   },
   {
    "duration": 1138,
    "start_time": "2022-06-13T10:36:02.707Z"
   },
   {
    "duration": 43,
    "start_time": "2022-06-14T04:17:02.596Z"
   },
   {
    "duration": 364,
    "start_time": "2022-06-14T04:17:11.828Z"
   },
   {
    "duration": 172,
    "start_time": "2022-06-14T04:17:12.194Z"
   },
   {
    "duration": 10,
    "start_time": "2022-06-14T04:17:12.368Z"
   },
   {
    "duration": 13,
    "start_time": "2022-06-14T04:17:12.380Z"
   },
   {
    "duration": 10,
    "start_time": "2022-06-14T04:17:12.395Z"
   },
   {
    "duration": 13,
    "start_time": "2022-06-14T04:17:12.406Z"
   },
   {
    "duration": 9,
    "start_time": "2022-06-14T04:17:12.421Z"
   },
   {
    "duration": 43,
    "start_time": "2022-06-14T04:17:12.431Z"
   },
   {
    "duration": 4,
    "start_time": "2022-06-14T04:17:12.476Z"
   },
   {
    "duration": 674,
    "start_time": "2022-06-14T04:17:12.481Z"
   },
   {
    "duration": 20,
    "start_time": "2022-06-14T04:17:13.157Z"
   },
   {
    "duration": 5,
    "start_time": "2022-06-14T04:17:13.179Z"
   },
   {
    "duration": 23,
    "start_time": "2022-06-14T04:17:13.186Z"
   },
   {
    "duration": 17,
    "start_time": "2022-06-14T04:17:13.211Z"
   },
   {
    "duration": 6,
    "start_time": "2022-06-14T04:17:13.230Z"
   },
   {
    "duration": 30,
    "start_time": "2022-06-14T04:17:13.237Z"
   },
   {
    "duration": 10,
    "start_time": "2022-06-14T04:17:13.269Z"
   },
   {
    "duration": 534,
    "start_time": "2022-06-14T04:17:29.786Z"
   },
   {
    "duration": 567,
    "start_time": "2022-06-14T04:17:44.308Z"
   },
   {
    "duration": 409,
    "start_time": "2022-06-14T04:17:48.629Z"
   },
   {
    "duration": 473,
    "start_time": "2022-06-14T04:18:03.491Z"
   },
   {
    "duration": 447,
    "start_time": "2022-06-14T04:18:46.707Z"
   },
   {
    "duration": 412,
    "start_time": "2022-06-14T04:20:26.149Z"
   },
   {
    "duration": 430,
    "start_time": "2022-06-14T04:29:25.419Z"
   },
   {
    "duration": 418,
    "start_time": "2022-06-14T04:29:30.713Z"
   },
   {
    "duration": 500,
    "start_time": "2022-06-14T04:29:45.283Z"
   },
   {
    "duration": 656,
    "start_time": "2022-06-14T04:30:22.076Z"
   },
   {
    "duration": 372,
    "start_time": "2022-06-14T04:30:26.683Z"
   },
   {
    "duration": 265,
    "start_time": "2022-06-14T04:30:31.376Z"
   },
   {
    "duration": 269,
    "start_time": "2022-06-14T04:34:51.703Z"
   },
   {
    "duration": 244,
    "start_time": "2022-06-14T04:36:50.258Z"
   },
   {
    "duration": 39,
    "start_time": "2022-06-14T04:37:15.035Z"
   },
   {
    "duration": 314,
    "start_time": "2022-06-14T04:37:32.121Z"
   },
   {
    "duration": 3,
    "start_time": "2022-06-14T04:40:38.732Z"
   },
   {
    "duration": 10,
    "start_time": "2022-06-14T04:42:01.491Z"
   },
   {
    "duration": 127,
    "start_time": "2022-06-14T04:43:17.058Z"
   },
   {
    "duration": 143,
    "start_time": "2022-06-14T04:43:44.515Z"
   },
   {
    "duration": 138,
    "start_time": "2022-06-14T04:44:02.114Z"
   },
   {
    "duration": 129,
    "start_time": "2022-06-14T04:44:18.509Z"
   },
   {
    "duration": 208,
    "start_time": "2022-06-14T04:44:45.377Z"
   },
   {
    "duration": 157,
    "start_time": "2022-06-14T04:45:12.881Z"
   },
   {
    "duration": 186,
    "start_time": "2022-06-14T04:45:17.843Z"
   },
   {
    "duration": 290,
    "start_time": "2022-06-14T04:45:40.721Z"
   },
   {
    "duration": 219,
    "start_time": "2022-06-14T04:45:47.328Z"
   },
   {
    "duration": 340,
    "start_time": "2022-06-14T04:46:00.657Z"
   },
   {
    "duration": 334,
    "start_time": "2022-06-14T04:46:41.424Z"
   },
   {
    "duration": 1317,
    "start_time": "2022-06-14T04:47:00.828Z"
   },
   {
    "duration": 1289,
    "start_time": "2022-06-14T04:47:22.585Z"
   },
   {
    "duration": 1284,
    "start_time": "2022-06-14T04:47:44.396Z"
   },
   {
    "duration": 1317,
    "start_time": "2022-06-14T04:47:58.545Z"
   },
   {
    "duration": 1318,
    "start_time": "2022-06-14T04:48:22.777Z"
   },
   {
    "duration": 1324,
    "start_time": "2022-06-14T04:48:44.448Z"
   },
   {
    "duration": 1296,
    "start_time": "2022-06-14T04:48:55.847Z"
   },
   {
    "duration": 1421,
    "start_time": "2022-06-14T04:50:45.527Z"
   },
   {
    "duration": 1265,
    "start_time": "2022-06-14T04:51:11.934Z"
   },
   {
    "duration": 18,
    "start_time": "2022-06-14T04:57:23.120Z"
   },
   {
    "duration": 19,
    "start_time": "2022-06-14T04:58:22.324Z"
   },
   {
    "duration": 13,
    "start_time": "2022-06-14T04:58:28.728Z"
   },
   {
    "duration": 20,
    "start_time": "2022-06-14T05:02:00.985Z"
   },
   {
    "duration": 13,
    "start_time": "2022-06-14T05:03:36.878Z"
   },
   {
    "duration": 1379,
    "start_time": "2022-06-14T05:04:07.021Z"
   },
   {
    "duration": 16,
    "start_time": "2022-06-14T05:05:30.123Z"
   },
   {
    "duration": 12,
    "start_time": "2022-06-14T05:05:34.693Z"
   },
   {
    "duration": 12,
    "start_time": "2022-06-14T05:06:36.796Z"
   },
   {
    "duration": 15,
    "start_time": "2022-06-14T05:06:39.275Z"
   },
   {
    "duration": 15,
    "start_time": "2022-06-14T05:08:37.813Z"
   },
   {
    "duration": 12,
    "start_time": "2022-06-14T05:08:42.531Z"
   },
   {
    "duration": 22,
    "start_time": "2022-06-14T05:23:58.976Z"
   },
   {
    "duration": 11,
    "start_time": "2022-06-14T05:24:17.615Z"
   },
   {
    "duration": 17,
    "start_time": "2022-06-14T05:24:24.248Z"
   },
   {
    "duration": 21,
    "start_time": "2022-06-14T05:25:17.153Z"
   },
   {
    "duration": 13,
    "start_time": "2022-06-14T05:25:53.499Z"
   },
   {
    "duration": 418,
    "start_time": "2022-06-14T05:32:45.720Z"
   },
   {
    "duration": 310,
    "start_time": "2022-06-14T05:33:19.903Z"
   },
   {
    "duration": 331,
    "start_time": "2022-06-14T05:33:35.662Z"
   },
   {
    "duration": 1420,
    "start_time": "2022-06-14T05:33:49.797Z"
   },
   {
    "duration": 739,
    "start_time": "2022-06-14T05:33:55.177Z"
   },
   {
    "duration": 914,
    "start_time": "2022-06-14T05:34:07.758Z"
   },
   {
    "duration": 768,
    "start_time": "2022-06-14T05:34:26.720Z"
   },
   {
    "duration": 694,
    "start_time": "2022-06-14T05:34:48.015Z"
   },
   {
    "duration": 825,
    "start_time": "2022-06-14T05:38:20.452Z"
   },
   {
    "duration": 8,
    "start_time": "2022-06-14T05:42:15.952Z"
   },
   {
    "duration": 16,
    "start_time": "2022-06-14T05:44:47.082Z"
   },
   {
    "duration": 15,
    "start_time": "2022-06-14T05:47:29.480Z"
   },
   {
    "duration": 16,
    "start_time": "2022-06-14T05:49:02.647Z"
   },
   {
    "duration": 18,
    "start_time": "2022-06-14T05:49:22.596Z"
   },
   {
    "duration": 15,
    "start_time": "2022-06-14T05:49:34.030Z"
   },
   {
    "duration": 15,
    "start_time": "2022-06-14T05:49:40.790Z"
   },
   {
    "duration": 17,
    "start_time": "2022-06-14T05:50:30.340Z"
   },
   {
    "duration": 16,
    "start_time": "2022-06-14T05:52:13.030Z"
   },
   {
    "duration": 778,
    "start_time": "2022-06-14T06:02:32.125Z"
   },
   {
    "duration": 1511,
    "start_time": "2022-06-14T06:02:45.523Z"
   },
   {
    "duration": 1018,
    "start_time": "2022-06-14T06:03:08.367Z"
   },
   {
    "duration": 754,
    "start_time": "2022-06-14T06:03:19.393Z"
   },
   {
    "duration": 17,
    "start_time": "2022-06-14T06:06:37.881Z"
   },
   {
    "duration": 43,
    "start_time": "2022-06-14T11:22:03.708Z"
   },
   {
    "duration": 700,
    "start_time": "2022-06-14T11:22:12.072Z"
   },
   {
    "duration": 74,
    "start_time": "2022-06-14T11:22:12.774Z"
   },
   {
    "duration": 13,
    "start_time": "2022-06-14T11:22:12.850Z"
   },
   {
    "duration": 12,
    "start_time": "2022-06-14T11:22:12.865Z"
   },
   {
    "duration": 12,
    "start_time": "2022-06-14T11:22:12.879Z"
   },
   {
    "duration": 14,
    "start_time": "2022-06-14T11:22:12.893Z"
   },
   {
    "duration": 9,
    "start_time": "2022-06-14T11:22:12.908Z"
   },
   {
    "duration": 11,
    "start_time": "2022-06-14T11:22:12.919Z"
   },
   {
    "duration": 17,
    "start_time": "2022-06-14T11:22:12.931Z"
   },
   {
    "duration": 4,
    "start_time": "2022-06-14T11:22:12.950Z"
   },
   {
    "duration": 336,
    "start_time": "2022-06-14T11:22:12.955Z"
   },
   {
    "duration": 1103,
    "start_time": "2022-06-14T11:22:13.293Z"
   },
   {
    "duration": 16,
    "start_time": "2022-06-14T11:22:14.398Z"
   },
   {
    "duration": 9,
    "start_time": "2022-06-14T11:22:14.416Z"
   },
   {
    "duration": 13,
    "start_time": "2022-06-14T11:22:14.427Z"
   },
   {
    "duration": 746,
    "start_time": "2022-06-14T11:22:14.441Z"
   },
   {
    "duration": 16,
    "start_time": "2022-06-14T11:22:15.191Z"
   },
   {
    "duration": 16,
    "start_time": "2022-06-14T11:22:15.208Z"
   },
   {
    "duration": 12,
    "start_time": "2022-06-14T11:22:15.225Z"
   },
   {
    "duration": 5,
    "start_time": "2022-06-14T11:22:15.239Z"
   },
   {
    "duration": 13,
    "start_time": "2022-06-14T11:22:15.246Z"
   },
   {
    "duration": 17,
    "start_time": "2022-06-14T11:22:15.291Z"
   },
   {
    "duration": 6,
    "start_time": "2022-06-14T11:22:15.310Z"
   },
   {
    "duration": 13,
    "start_time": "2022-06-14T11:22:15.317Z"
   },
   {
    "duration": 12,
    "start_time": "2022-06-14T11:22:15.331Z"
   },
   {
    "duration": 7,
    "start_time": "2022-06-14T11:43:54.375Z"
   },
   {
    "duration": 13,
    "start_time": "2022-06-14T11:45:01.073Z"
   },
   {
    "duration": 16,
    "start_time": "2022-06-14T11:45:06.203Z"
   },
   {
    "duration": 16,
    "start_time": "2022-06-14T11:54:47.508Z"
   },
   {
    "duration": 16,
    "start_time": "2022-06-14T11:55:02.492Z"
   },
   {
    "duration": 12,
    "start_time": "2022-06-14T11:55:26.060Z"
   },
   {
    "duration": 9,
    "start_time": "2022-06-14T12:00:07.266Z"
   },
   {
    "duration": 18,
    "start_time": "2022-06-14T12:00:49.484Z"
   },
   {
    "duration": 17,
    "start_time": "2022-06-14T12:01:23.010Z"
   },
   {
    "duration": 13,
    "start_time": "2022-06-14T12:01:31.681Z"
   },
   {
    "duration": 15,
    "start_time": "2022-06-14T12:01:48.200Z"
   },
   {
    "duration": 13,
    "start_time": "2022-06-14T12:02:18.572Z"
   },
   {
    "duration": 14,
    "start_time": "2022-06-14T12:05:48.528Z"
   },
   {
    "duration": 42,
    "start_time": "2022-06-15T06:05:53.048Z"
   },
   {
    "duration": 730,
    "start_time": "2022-06-15T06:06:00.087Z"
   },
   {
    "duration": 92,
    "start_time": "2022-06-15T06:06:00.819Z"
   },
   {
    "duration": 12,
    "start_time": "2022-06-15T06:06:00.913Z"
   },
   {
    "duration": 11,
    "start_time": "2022-06-15T06:06:00.927Z"
   },
   {
    "duration": 17,
    "start_time": "2022-06-15T06:06:00.941Z"
   },
   {
    "duration": 21,
    "start_time": "2022-06-15T06:06:00.960Z"
   },
   {
    "duration": 7,
    "start_time": "2022-06-15T06:06:00.982Z"
   },
   {
    "duration": 14,
    "start_time": "2022-06-15T06:06:00.991Z"
   },
   {
    "duration": 16,
    "start_time": "2022-06-15T06:06:01.006Z"
   },
   {
    "duration": 7,
    "start_time": "2022-06-15T06:06:01.025Z"
   },
   {
    "duration": 13,
    "start_time": "2022-06-15T06:06:01.033Z"
   },
   {
    "duration": 39,
    "start_time": "2022-06-15T06:06:01.048Z"
   },
   {
    "duration": 6,
    "start_time": "2022-06-15T06:06:01.089Z"
   },
   {
    "duration": 87,
    "start_time": "2022-06-15T06:06:01.097Z"
   },
   {
    "duration": 0,
    "start_time": "2022-06-15T06:06:01.186Z"
   },
   {
    "duration": 0,
    "start_time": "2022-06-15T06:06:01.187Z"
   },
   {
    "duration": 0,
    "start_time": "2022-06-15T06:06:01.189Z"
   },
   {
    "duration": 0,
    "start_time": "2022-06-15T06:06:01.190Z"
   },
   {
    "duration": 0,
    "start_time": "2022-06-15T06:06:01.191Z"
   },
   {
    "duration": 0,
    "start_time": "2022-06-15T06:06:01.192Z"
   },
   {
    "duration": 0,
    "start_time": "2022-06-15T06:06:01.193Z"
   },
   {
    "duration": 0,
    "start_time": "2022-06-15T06:06:01.194Z"
   },
   {
    "duration": 0,
    "start_time": "2022-06-15T06:06:01.194Z"
   },
   {
    "duration": 0,
    "start_time": "2022-06-15T06:06:01.195Z"
   },
   {
    "duration": 0,
    "start_time": "2022-06-15T06:06:01.196Z"
   },
   {
    "duration": 0,
    "start_time": "2022-06-15T06:06:01.197Z"
   },
   {
    "duration": 0,
    "start_time": "2022-06-15T06:06:01.198Z"
   },
   {
    "duration": 8,
    "start_time": "2022-06-15T06:06:50.168Z"
   },
   {
    "duration": 550,
    "start_time": "2022-06-15T06:07:23.596Z"
   },
   {
    "duration": 47,
    "start_time": "2022-06-15T06:07:26.192Z"
   },
   {
    "duration": 14,
    "start_time": "2022-06-15T06:07:28.246Z"
   },
   {
    "duration": 11,
    "start_time": "2022-06-15T06:07:35.862Z"
   },
   {
    "duration": 11,
    "start_time": "2022-06-15T06:07:40.295Z"
   },
   {
    "duration": 14,
    "start_time": "2022-06-15T06:07:44.046Z"
   },
   {
    "duration": 9,
    "start_time": "2022-06-15T06:07:49.149Z"
   },
   {
    "duration": 10,
    "start_time": "2022-06-15T06:07:51.774Z"
   },
   {
    "duration": 16,
    "start_time": "2022-06-15T06:08:13.326Z"
   },
   {
    "duration": 8,
    "start_time": "2022-06-15T06:08:48.893Z"
   },
   {
    "duration": 9,
    "start_time": "2022-06-15T06:08:57.055Z"
   },
   {
    "duration": 8,
    "start_time": "2022-06-15T06:09:15.457Z"
   },
   {
    "duration": 12,
    "start_time": "2022-06-15T06:10:02.114Z"
   },
   {
    "duration": 11,
    "start_time": "2022-06-15T06:10:51.295Z"
   },
   {
    "duration": 12,
    "start_time": "2022-06-15T06:11:20.430Z"
   },
   {
    "duration": 20,
    "start_time": "2022-06-15T06:12:31.189Z"
   },
   {
    "duration": 7,
    "start_time": "2022-06-15T06:13:40.653Z"
   },
   {
    "duration": 169,
    "start_time": "2022-06-15T06:14:26.549Z"
   },
   {
    "duration": 19,
    "start_time": "2022-06-15T06:14:42.624Z"
   },
   {
    "duration": 9,
    "start_time": "2022-06-15T06:18:30.676Z"
   },
   {
    "duration": 8,
    "start_time": "2022-06-15T06:19:24.005Z"
   },
   {
    "duration": 10,
    "start_time": "2022-06-15T06:20:06.660Z"
   },
   {
    "duration": 11,
    "start_time": "2022-06-15T06:21:50.713Z"
   },
   {
    "duration": 25,
    "start_time": "2022-06-15T06:28:18.412Z"
   },
   {
    "duration": 12,
    "start_time": "2022-06-15T06:28:39.746Z"
   },
   {
    "duration": 12,
    "start_time": "2022-06-15T06:42:47.427Z"
   },
   {
    "duration": 5,
    "start_time": "2022-06-15T06:49:28.697Z"
   },
   {
    "duration": 378,
    "start_time": "2022-06-15T06:49:35.624Z"
   },
   {
    "duration": 12,
    "start_time": "2022-06-15T06:50:34.653Z"
   },
   {
    "duration": 20,
    "start_time": "2022-06-15T06:50:45.597Z"
   },
   {
    "duration": 1260,
    "start_time": "2022-06-15T06:54:03.958Z"
   },
   {
    "duration": 1274,
    "start_time": "2022-06-15T06:54:59.477Z"
   },
   {
    "duration": 1319,
    "start_time": "2022-06-15T06:55:13.093Z"
   },
   {
    "duration": 29,
    "start_time": "2022-06-15T06:56:35.876Z"
   },
   {
    "duration": 11,
    "start_time": "2022-06-15T06:58:13.404Z"
   },
   {
    "duration": 15,
    "start_time": "2022-06-15T06:59:59.638Z"
   },
   {
    "duration": 19,
    "start_time": "2022-06-15T07:00:18.709Z"
   },
   {
    "duration": 15,
    "start_time": "2022-06-15T07:01:08.628Z"
   },
   {
    "duration": 11,
    "start_time": "2022-06-15T07:01:13.915Z"
   },
   {
    "duration": 7,
    "start_time": "2022-06-15T07:03:46.306Z"
   },
   {
    "duration": 18,
    "start_time": "2022-06-15T07:13:06.276Z"
   },
   {
    "duration": 782,
    "start_time": "2022-06-15T07:14:08.376Z"
   },
   {
    "duration": 705,
    "start_time": "2022-06-15T07:15:14.349Z"
   },
   {
    "duration": 738,
    "start_time": "2022-06-15T07:15:24.482Z"
   },
   {
    "duration": 27,
    "start_time": "2022-06-15T07:22:50.518Z"
   },
   {
    "duration": 761,
    "start_time": "2022-06-15T07:23:31.885Z"
   },
   {
    "duration": 1232,
    "start_time": "2022-06-15T07:24:02.334Z"
   },
   {
    "duration": 1364,
    "start_time": "2022-06-15T07:24:14.795Z"
   },
   {
    "duration": 635,
    "start_time": "2022-06-15T07:24:26.863Z"
   },
   {
    "duration": 17,
    "start_time": "2022-06-15T07:25:20.014Z"
   },
   {
    "duration": 6,
    "start_time": "2022-06-15T07:53:51.074Z"
   },
   {
    "duration": 15,
    "start_time": "2022-06-15T07:54:00.109Z"
   },
   {
    "duration": 170,
    "start_time": "2022-06-15T07:55:26.854Z"
   },
   {
    "duration": 166,
    "start_time": "2022-06-15T07:56:28.109Z"
   },
   {
    "duration": 27,
    "start_time": "2022-06-15T08:04:43.833Z"
   },
   {
    "duration": 11,
    "start_time": "2022-06-15T08:04:53.089Z"
   },
   {
    "duration": 11,
    "start_time": "2022-06-15T08:05:55.251Z"
   },
   {
    "duration": 156,
    "start_time": "2022-06-15T08:07:26.393Z"
   },
   {
    "duration": 11,
    "start_time": "2022-06-15T08:08:15.515Z"
   },
   {
    "duration": 153,
    "start_time": "2022-06-15T08:09:12.180Z"
   },
   {
    "duration": 9,
    "start_time": "2022-06-15T08:10:16.658Z"
   },
   {
    "duration": 29,
    "start_time": "2022-06-15T08:11:07.289Z"
   },
   {
    "duration": 27,
    "start_time": "2022-06-15T08:11:24.497Z"
   },
   {
    "duration": 453,
    "start_time": "2022-06-15T08:11:39.721Z"
   },
   {
    "duration": 309,
    "start_time": "2022-06-15T08:12:08.442Z"
   },
   {
    "duration": 148,
    "start_time": "2022-06-15T08:12:28.441Z"
   },
   {
    "duration": 153,
    "start_time": "2022-06-15T08:12:45.544Z"
   },
   {
    "duration": 159,
    "start_time": "2022-06-15T08:14:08.392Z"
   },
   {
    "duration": 197,
    "start_time": "2022-06-15T08:14:48.152Z"
   },
   {
    "duration": 180,
    "start_time": "2022-06-15T08:15:11.688Z"
   },
   {
    "duration": 175,
    "start_time": "2022-06-15T08:15:34.591Z"
   },
   {
    "duration": 10,
    "start_time": "2022-06-15T08:29:40.868Z"
   },
   {
    "duration": 166,
    "start_time": "2022-06-15T08:31:06.843Z"
   },
   {
    "duration": 10,
    "start_time": "2022-06-15T08:35:26.923Z"
   },
   {
    "duration": 171,
    "start_time": "2022-06-15T08:36:12.283Z"
   },
   {
    "duration": 161,
    "start_time": "2022-06-15T08:37:10.330Z"
   },
   {
    "duration": 12,
    "start_time": "2022-06-15T08:43:46.103Z"
   },
   {
    "duration": 18,
    "start_time": "2022-06-15T08:46:35.669Z"
   },
   {
    "duration": 18,
    "start_time": "2022-06-15T08:46:57.608Z"
   },
   {
    "duration": 15,
    "start_time": "2022-06-15T08:47:14.361Z"
   },
   {
    "duration": 209,
    "start_time": "2022-06-15T08:48:08.972Z"
   },
   {
    "duration": 302,
    "start_time": "2022-06-15T08:48:48.818Z"
   },
   {
    "duration": 22,
    "start_time": "2022-06-15T09:03:41.428Z"
   },
   {
    "duration": 20,
    "start_time": "2022-06-15T09:09:23.528Z"
   },
   {
    "duration": 184,
    "start_time": "2022-06-15T09:09:54.662Z"
   },
   {
    "duration": 229,
    "start_time": "2022-06-15T09:10:19.221Z"
   },
   {
    "duration": 243,
    "start_time": "2022-06-15T09:12:07.567Z"
   },
   {
    "duration": 209,
    "start_time": "2022-06-15T09:12:52.319Z"
   },
   {
    "duration": 19,
    "start_time": "2022-06-15T09:14:49.685Z"
   },
   {
    "duration": 188,
    "start_time": "2022-06-15T09:15:46.344Z"
   },
   {
    "duration": 20,
    "start_time": "2022-06-15T09:17:15.418Z"
   },
   {
    "duration": 196,
    "start_time": "2022-06-15T09:17:57.368Z"
   },
   {
    "duration": 31,
    "start_time": "2022-06-15T09:20:11.794Z"
   },
   {
    "duration": 26,
    "start_time": "2022-06-15T09:20:30.994Z"
   },
   {
    "duration": 20,
    "start_time": "2022-06-15T09:21:03.994Z"
   },
   {
    "duration": 40,
    "start_time": "2022-06-15T09:21:17.888Z"
   },
   {
    "duration": 31,
    "start_time": "2022-06-15T09:21:38.531Z"
   },
   {
    "duration": 24,
    "start_time": "2022-06-15T09:21:50.708Z"
   },
   {
    "duration": 24,
    "start_time": "2022-06-15T09:23:32.615Z"
   },
   {
    "duration": 21,
    "start_time": "2022-06-15T09:23:47.179Z"
   },
   {
    "duration": 24,
    "start_time": "2022-06-15T09:24:20.110Z"
   },
   {
    "duration": 22,
    "start_time": "2022-06-15T09:25:46.797Z"
   },
   {
    "duration": 33,
    "start_time": "2022-06-15T09:25:54.831Z"
   },
   {
    "duration": 24,
    "start_time": "2022-06-15T09:26:00.808Z"
   },
   {
    "duration": 24,
    "start_time": "2022-06-15T09:26:29.550Z"
   },
   {
    "duration": 27,
    "start_time": "2022-06-15T09:28:03.246Z"
   },
   {
    "duration": 28,
    "start_time": "2022-06-15T09:28:47.010Z"
   },
   {
    "duration": 3,
    "start_time": "2022-06-15T09:30:01.007Z"
   },
   {
    "duration": 162,
    "start_time": "2022-06-15T09:30:07.395Z"
   },
   {
    "duration": 163,
    "start_time": "2022-06-15T09:34:02.846Z"
   },
   {
    "duration": 14,
    "start_time": "2022-06-15T09:41:25.759Z"
   },
   {
    "duration": 14,
    "start_time": "2022-06-15T09:41:32.215Z"
   },
   {
    "duration": 15,
    "start_time": "2022-06-15T09:41:55.348Z"
   },
   {
    "duration": 126,
    "start_time": "2022-06-15T09:42:58.247Z"
   },
   {
    "duration": 326,
    "start_time": "2022-06-15T09:43:22.219Z"
   },
   {
    "duration": 329,
    "start_time": "2022-06-15T09:43:50.099Z"
   },
   {
    "duration": 255,
    "start_time": "2022-06-15T09:44:25.009Z"
   },
   {
    "duration": 383,
    "start_time": "2022-06-15T09:44:35.504Z"
   },
   {
    "duration": 378,
    "start_time": "2022-06-15T09:44:45.123Z"
   },
   {
    "duration": 946,
    "start_time": "2022-06-15T09:44:56.902Z"
   },
   {
    "duration": 521,
    "start_time": "2022-06-15T09:45:08.403Z"
   },
   {
    "duration": 863,
    "start_time": "2022-06-15T09:45:15.647Z"
   },
   {
    "duration": 392,
    "start_time": "2022-06-15T09:45:20.743Z"
   },
   {
    "duration": 556,
    "start_time": "2022-06-15T09:45:31.729Z"
   },
   {
    "duration": 469,
    "start_time": "2022-06-15T09:45:43.092Z"
   },
   {
    "duration": 596,
    "start_time": "2022-06-15T09:45:51.146Z"
   },
   {
    "duration": 1100,
    "start_time": "2022-06-15T09:45:58.117Z"
   },
   {
    "duration": 1153,
    "start_time": "2022-06-15T09:46:07.995Z"
   },
   {
    "duration": 7,
    "start_time": "2022-06-15T09:47:19.643Z"
   },
   {
    "duration": 15,
    "start_time": "2022-06-15T09:54:25.920Z"
   },
   {
    "duration": 17,
    "start_time": "2022-06-15T09:54:52.806Z"
   },
   {
    "duration": 14,
    "start_time": "2022-06-15T09:56:25.257Z"
   },
   {
    "duration": 8,
    "start_time": "2022-06-15T09:56:44.009Z"
   },
   {
    "duration": 163,
    "start_time": "2022-06-15T09:57:22.210Z"
   },
   {
    "duration": 26,
    "start_time": "2022-06-15T10:00:47.166Z"
   },
   {
    "duration": 7,
    "start_time": "2022-06-15T10:01:27.046Z"
   },
   {
    "duration": 28,
    "start_time": "2022-06-15T10:01:38.480Z"
   },
   {
    "duration": 20,
    "start_time": "2022-06-15T10:02:38.903Z"
   },
   {
    "duration": 19,
    "start_time": "2022-06-15T10:04:03.911Z"
   },
   {
    "duration": 32,
    "start_time": "2022-06-15T10:08:07.724Z"
   },
   {
    "duration": 151,
    "start_time": "2022-06-15T10:22:55.756Z"
   },
   {
    "duration": 147,
    "start_time": "2022-06-15T10:26:28.312Z"
   },
   {
    "duration": 26,
    "start_time": "2022-06-15T10:27:39.165Z"
   },
   {
    "duration": 63,
    "start_time": "2022-06-15T10:28:04.841Z"
   },
   {
    "duration": 50,
    "start_time": "2022-06-15T10:33:53.440Z"
   },
   {
    "duration": 14,
    "start_time": "2022-06-15T10:35:05.002Z"
   },
   {
    "duration": 10,
    "start_time": "2022-06-15T10:35:19.962Z"
   },
   {
    "duration": 52,
    "start_time": "2022-06-15T10:36:26.060Z"
   },
   {
    "duration": 18,
    "start_time": "2022-06-15T10:36:37.886Z"
   },
   {
    "duration": 3,
    "start_time": "2022-06-15T10:37:31.466Z"
   },
   {
    "duration": 32,
    "start_time": "2022-06-15T10:43:30.741Z"
   },
   {
    "duration": 4,
    "start_time": "2022-06-15T11:02:37.176Z"
   },
   {
    "duration": 8,
    "start_time": "2022-06-15T11:03:41.979Z"
   },
   {
    "duration": 11,
    "start_time": "2022-06-15T11:06:57.603Z"
   },
   {
    "duration": 1385,
    "start_time": "2022-06-15T11:07:05.735Z"
   },
   {
    "duration": 634,
    "start_time": "2022-06-15T11:14:57.482Z"
   },
   {
    "duration": 19,
    "start_time": "2022-06-15T11:17:16.584Z"
   },
   {
    "duration": 559,
    "start_time": "2022-06-15T11:23:06.405Z"
   },
   {
    "duration": 32,
    "start_time": "2022-06-15T11:23:17.988Z"
   },
   {
    "duration": 752,
    "start_time": "2022-06-15T11:23:37.801Z"
   },
   {
    "duration": 477,
    "start_time": "2022-06-15T12:20:53.031Z"
   },
   {
    "duration": 4,
    "start_time": "2022-06-15T12:27:30.073Z"
   },
   {
    "duration": 71,
    "start_time": "2022-06-15T12:28:42.098Z"
   },
   {
    "duration": 47,
    "start_time": "2022-06-15T12:28:52.202Z"
   },
   {
    "duration": 51,
    "start_time": "2022-06-15T12:30:53.188Z"
   },
   {
    "duration": 29,
    "start_time": "2022-06-15T12:37:15.829Z"
   },
   {
    "duration": 30,
    "start_time": "2022-06-15T12:39:03.324Z"
   },
   {
    "duration": 24,
    "start_time": "2022-06-15T12:39:14.178Z"
   },
   {
    "duration": 28,
    "start_time": "2022-06-15T12:39:20.078Z"
   },
   {
    "duration": 4,
    "start_time": "2022-06-15T12:39:43.154Z"
   },
   {
    "duration": 28,
    "start_time": "2022-06-15T12:39:46.226Z"
   },
   {
    "duration": 5,
    "start_time": "2022-06-15T12:40:03.289Z"
   },
   {
    "duration": 27,
    "start_time": "2022-06-15T12:40:05.434Z"
   },
   {
    "duration": 165,
    "start_time": "2022-06-15T12:41:59.978Z"
   },
   {
    "duration": 3,
    "start_time": "2022-06-15T12:42:11.215Z"
   },
   {
    "duration": 27,
    "start_time": "2022-06-15T12:42:12.648Z"
   },
   {
    "duration": 4,
    "start_time": "2022-06-15T12:43:47.148Z"
   },
   {
    "duration": 32,
    "start_time": "2022-06-15T12:43:50.847Z"
   },
   {
    "duration": 4,
    "start_time": "2022-06-15T12:50:23.546Z"
   },
   {
    "duration": 40,
    "start_time": "2022-06-15T12:50:25.690Z"
   },
   {
    "duration": 31,
    "start_time": "2022-06-15T12:50:41.449Z"
   },
   {
    "duration": 149,
    "start_time": "2022-06-15T12:50:54.200Z"
   },
   {
    "duration": 108,
    "start_time": "2022-06-15T12:51:53.203Z"
   },
   {
    "duration": 27,
    "start_time": "2022-06-15T12:53:40.022Z"
   },
   {
    "duration": 4,
    "start_time": "2022-06-15T12:54:19.744Z"
   },
   {
    "duration": 30,
    "start_time": "2022-06-15T12:54:22.047Z"
   },
   {
    "duration": 4,
    "start_time": "2022-06-15T12:54:38.351Z"
   },
   {
    "duration": 27,
    "start_time": "2022-06-15T12:54:42.286Z"
   },
   {
    "duration": 42,
    "start_time": "2022-06-15T12:55:19.961Z"
   },
   {
    "duration": 13,
    "start_time": "2022-06-15T12:55:24.296Z"
   },
   {
    "duration": 565,
    "start_time": "2022-06-15T12:55:30.535Z"
   },
   {
    "duration": 6,
    "start_time": "2022-06-15T12:55:34.117Z"
   },
   {
    "duration": 553,
    "start_time": "2022-06-15T12:56:05.711Z"
   },
   {
    "duration": 89,
    "start_time": "2022-06-15T12:56:06.265Z"
   },
   {
    "duration": 11,
    "start_time": "2022-06-15T12:56:06.355Z"
   },
   {
    "duration": 23,
    "start_time": "2022-06-15T12:56:06.368Z"
   },
   {
    "duration": 18,
    "start_time": "2022-06-15T12:56:06.392Z"
   },
   {
    "duration": 17,
    "start_time": "2022-06-15T12:56:06.412Z"
   },
   {
    "duration": 20,
    "start_time": "2022-06-15T12:56:06.431Z"
   },
   {
    "duration": 15,
    "start_time": "2022-06-15T12:56:06.453Z"
   },
   {
    "duration": 29,
    "start_time": "2022-06-15T12:56:06.470Z"
   },
   {
    "duration": 10,
    "start_time": "2022-06-15T12:56:06.504Z"
   },
   {
    "duration": 17,
    "start_time": "2022-06-15T12:56:06.516Z"
   },
   {
    "duration": 30,
    "start_time": "2022-06-15T12:56:06.536Z"
   },
   {
    "duration": 12,
    "start_time": "2022-06-15T12:56:06.579Z"
   },
   {
    "duration": 18,
    "start_time": "2022-06-15T12:56:06.593Z"
   },
   {
    "duration": 10,
    "start_time": "2022-06-15T12:56:06.613Z"
   },
   {
    "duration": 11,
    "start_time": "2022-06-15T12:56:06.624Z"
   },
   {
    "duration": 8,
    "start_time": "2022-06-15T12:56:06.636Z"
   },
   {
    "duration": 4,
    "start_time": "2022-06-15T12:56:06.645Z"
   },
   {
    "duration": 366,
    "start_time": "2022-06-15T12:56:06.651Z"
   },
   {
    "duration": 12,
    "start_time": "2022-06-15T12:56:07.019Z"
   },
   {
    "duration": 14,
    "start_time": "2022-06-15T12:56:07.033Z"
   },
   {
    "duration": 1420,
    "start_time": "2022-06-15T12:56:07.049Z"
   },
   {
    "duration": 33,
    "start_time": "2022-06-15T12:56:08.471Z"
   },
   {
    "duration": 12,
    "start_time": "2022-06-15T12:56:08.506Z"
   },
   {
    "duration": 9,
    "start_time": "2022-06-15T12:56:08.520Z"
   },
   {
    "duration": 14,
    "start_time": "2022-06-15T12:56:08.531Z"
   },
   {
    "duration": 757,
    "start_time": "2022-06-15T12:56:08.546Z"
   },
   {
    "duration": 18,
    "start_time": "2022-06-15T12:56:09.307Z"
   },
   {
    "duration": 20,
    "start_time": "2022-06-15T12:56:09.326Z"
   },
   {
    "duration": 39,
    "start_time": "2022-06-15T12:56:09.349Z"
   },
   {
    "duration": 36,
    "start_time": "2022-06-15T12:56:09.390Z"
   },
   {
    "duration": 230,
    "start_time": "2022-06-15T12:56:09.428Z"
   },
   {
    "duration": 29,
    "start_time": "2022-06-15T12:56:09.659Z"
   },
   {
    "duration": 180,
    "start_time": "2022-06-15T12:56:09.693Z"
   },
   {
    "duration": 27,
    "start_time": "2022-06-15T12:56:09.877Z"
   },
   {
    "duration": 187,
    "start_time": "2022-06-15T12:56:09.906Z"
   },
   {
    "duration": 29,
    "start_time": "2022-06-15T12:56:10.096Z"
   },
   {
    "duration": 169,
    "start_time": "2022-06-15T12:56:10.127Z"
   },
   {
    "duration": 13,
    "start_time": "2022-06-15T12:56:10.298Z"
   },
   {
    "duration": 7,
    "start_time": "2022-06-15T12:56:10.312Z"
   },
   {
    "duration": 153,
    "start_time": "2022-06-15T12:56:10.320Z"
   },
   {
    "duration": 40,
    "start_time": "2022-06-15T12:56:10.479Z"
   },
   {
    "duration": 10,
    "start_time": "2022-06-15T12:56:10.521Z"
   },
   {
    "duration": 1211,
    "start_time": "2022-06-15T12:56:10.532Z"
   },
   {
    "duration": 4,
    "start_time": "2022-06-15T12:56:11.744Z"
   },
   {
    "duration": 49,
    "start_time": "2022-06-15T12:56:11.750Z"
   },
   {
    "duration": 27,
    "start_time": "2022-06-15T13:03:29.224Z"
   },
   {
    "duration": 10,
    "start_time": "2022-06-15T13:04:47.394Z"
   },
   {
    "duration": 6,
    "start_time": "2022-06-15T13:04:52.903Z"
   },
   {
    "duration": 28,
    "start_time": "2022-06-15T13:04:54.998Z"
   },
   {
    "duration": 4,
    "start_time": "2022-06-15T13:05:46.194Z"
   },
   {
    "duration": 33,
    "start_time": "2022-06-15T13:05:48.550Z"
   },
   {
    "duration": 45,
    "start_time": "2022-06-15T13:08:32.903Z"
   },
   {
    "duration": 5,
    "start_time": "2022-06-15T13:09:05.356Z"
   },
   {
    "duration": 54,
    "start_time": "2022-06-15T13:09:07.082Z"
   },
   {
    "duration": 4,
    "start_time": "2022-06-15T13:09:28.761Z"
   },
   {
    "duration": 67,
    "start_time": "2022-06-15T13:09:31.318Z"
   },
   {
    "duration": 697,
    "start_time": "2022-06-16T12:19:07.277Z"
   },
   {
    "duration": 194,
    "start_time": "2022-06-16T12:19:16.157Z"
   },
   {
    "duration": 15,
    "start_time": "2022-06-16T12:19:18.547Z"
   },
   {
    "duration": 16,
    "start_time": "2022-06-16T12:19:31.656Z"
   },
   {
    "duration": 16,
    "start_time": "2022-06-16T12:19:53.693Z"
   },
   {
    "duration": 11,
    "start_time": "2022-06-16T12:20:03.510Z"
   },
   {
    "duration": 285,
    "start_time": "2022-06-16T12:20:17.901Z"
   },
   {
    "duration": 665,
    "start_time": "2022-06-16T12:20:59.823Z"
   },
   {
    "duration": 57,
    "start_time": "2022-06-16T12:21:00.491Z"
   },
   {
    "duration": 17,
    "start_time": "2022-06-16T12:21:00.550Z"
   },
   {
    "duration": 46,
    "start_time": "2022-06-16T12:21:00.570Z"
   },
   {
    "duration": 75,
    "start_time": "2022-06-16T12:21:00.618Z"
   },
   {
    "duration": 9,
    "start_time": "2022-06-16T12:21:18.763Z"
   },
   {
    "duration": 11,
    "start_time": "2022-06-16T12:21:23.040Z"
   },
   {
    "duration": 265,
    "start_time": "2022-06-16T12:22:09.327Z"
   },
   {
    "duration": 3,
    "start_time": "2022-06-16T12:22:17.649Z"
   },
   {
    "duration": 83,
    "start_time": "2022-06-16T12:22:17.655Z"
   },
   {
    "duration": 10,
    "start_time": "2022-06-16T12:22:17.741Z"
   },
   {
    "duration": 43,
    "start_time": "2022-06-16T12:22:17.753Z"
   },
   {
    "duration": 46,
    "start_time": "2022-06-16T12:22:17.798Z"
   },
   {
    "duration": 12,
    "start_time": "2022-06-16T12:22:26.300Z"
   },
   {
    "duration": 9,
    "start_time": "2022-06-16T12:22:36.667Z"
   },
   {
    "duration": 58,
    "start_time": "2022-06-16T12:23:04.925Z"
   },
   {
    "duration": 8,
    "start_time": "2022-06-16T12:23:19.367Z"
   },
   {
    "duration": 11,
    "start_time": "2022-06-16T12:23:27.757Z"
   },
   {
    "duration": 20,
    "start_time": "2022-06-16T12:24:12.315Z"
   },
   {
    "duration": 7,
    "start_time": "2022-06-16T12:25:22.102Z"
   },
   {
    "duration": 12,
    "start_time": "2022-06-16T12:25:43.067Z"
   },
   {
    "duration": 9,
    "start_time": "2022-06-16T12:26:10.706Z"
   },
   {
    "duration": 12,
    "start_time": "2022-06-16T12:26:29.411Z"
   },
   {
    "duration": 9,
    "start_time": "2022-06-16T12:27:11.248Z"
   },
   {
    "duration": 6,
    "start_time": "2022-06-16T12:27:50.590Z"
   },
   {
    "duration": 377,
    "start_time": "2022-06-16T12:28:01.452Z"
   },
   {
    "duration": 12,
    "start_time": "2022-06-16T12:30:11.856Z"
   },
   {
    "duration": 22,
    "start_time": "2022-06-16T12:30:21.626Z"
   },
   {
    "duration": 1299,
    "start_time": "2022-06-16T12:31:04.301Z"
   },
   {
    "duration": 23,
    "start_time": "2022-06-16T12:32:00.003Z"
   },
   {
    "duration": 13,
    "start_time": "2022-06-16T12:32:37.787Z"
   },
   {
    "duration": 20,
    "start_time": "2022-06-16T12:36:31.690Z"
   },
   {
    "duration": 22,
    "start_time": "2022-06-16T12:37:11.762Z"
   },
   {
    "duration": 881,
    "start_time": "2022-06-16T12:38:58.216Z"
   },
   {
    "duration": 17,
    "start_time": "2022-06-16T12:39:58.466Z"
   },
   {
    "duration": 15,
    "start_time": "2022-06-16T12:40:40.557Z"
   },
   {
    "duration": 19,
    "start_time": "2022-06-16T12:42:58.965Z"
   },
   {
    "duration": 13,
    "start_time": "2022-06-16T12:43:20.378Z"
   },
   {
    "duration": 208,
    "start_time": "2022-06-16T12:44:15.761Z"
   },
   {
    "duration": 247,
    "start_time": "2022-06-16T12:45:33.962Z"
   },
   {
    "duration": 21,
    "start_time": "2022-06-16T12:52:36.773Z"
   },
   {
    "duration": 30,
    "start_time": "2022-06-16T12:54:03.796Z"
   },
   {
    "duration": 26,
    "start_time": "2022-06-16T12:54:31.271Z"
   },
   {
    "duration": 20,
    "start_time": "2022-06-16T12:54:49.781Z"
   },
   {
    "duration": 20,
    "start_time": "2022-06-16T12:55:36.798Z"
   },
   {
    "duration": 365,
    "start_time": "2022-06-16T12:56:46.519Z"
   },
   {
    "duration": 548,
    "start_time": "2022-06-16T12:57:17.093Z"
   },
   {
    "duration": 14,
    "start_time": "2022-06-16T12:58:33.742Z"
   },
   {
    "duration": 20,
    "start_time": "2022-06-16T12:58:40.581Z"
   },
   {
    "duration": 23,
    "start_time": "2022-06-16T12:58:55.367Z"
   },
   {
    "duration": 300,
    "start_time": "2022-06-16T12:59:47.950Z"
   },
   {
    "duration": 356,
    "start_time": "2022-06-16T13:01:31.743Z"
   },
   {
    "duration": 358,
    "start_time": "2022-06-16T13:07:17.599Z"
   },
   {
    "duration": 337,
    "start_time": "2022-06-16T13:07:40.709Z"
   },
   {
    "duration": 580,
    "start_time": "2022-06-16T13:08:27.229Z"
   },
   {
    "duration": 160,
    "start_time": "2022-06-16T13:09:45.710Z"
   },
   {
    "duration": 187,
    "start_time": "2022-06-16T13:10:22.232Z"
   },
   {
    "duration": 284,
    "start_time": "2022-06-16T13:11:10.916Z"
   },
   {
    "duration": 381,
    "start_time": "2022-06-16T13:11:18.579Z"
   },
   {
    "duration": 303,
    "start_time": "2022-06-16T13:11:59.868Z"
   },
   {
    "duration": 301,
    "start_time": "2022-06-16T13:12:30.642Z"
   },
   {
    "duration": 12,
    "start_time": "2022-06-16T13:21:39.238Z"
   },
   {
    "duration": 15,
    "start_time": "2022-06-16T13:23:14.876Z"
   },
   {
    "duration": 14,
    "start_time": "2022-06-16T13:27:51.242Z"
   },
   {
    "duration": 185,
    "start_time": "2022-06-16T13:28:26.488Z"
   },
   {
    "duration": 227,
    "start_time": "2022-06-16T13:28:32.768Z"
   },
   {
    "duration": 14,
    "start_time": "2022-06-16T13:29:01.305Z"
   },
   {
    "duration": 16,
    "start_time": "2022-06-16T13:30:36.672Z"
   },
   {
    "duration": 243,
    "start_time": "2022-06-16T13:30:39.527Z"
   },
   {
    "duration": 365,
    "start_time": "2022-06-16T13:31:35.176Z"
   },
   {
    "duration": 458,
    "start_time": "2022-06-16T13:31:44.638Z"
   },
   {
    "duration": 367,
    "start_time": "2022-06-16T13:31:58.990Z"
   },
   {
    "duration": 348,
    "start_time": "2022-06-16T13:32:08.526Z"
   },
   {
    "duration": 538,
    "start_time": "2022-06-16T13:32:15.613Z"
   },
   {
    "duration": 13,
    "start_time": "2022-06-16T13:39:08.851Z"
   },
   {
    "duration": 34,
    "start_time": "2022-06-16T13:40:09.839Z"
   },
   {
    "duration": 16,
    "start_time": "2022-06-16T13:40:25.002Z"
   },
   {
    "duration": 10,
    "start_time": "2022-06-16T13:47:04.202Z"
   },
   {
    "duration": 4,
    "start_time": "2022-06-16T13:47:41.804Z"
   },
   {
    "duration": 5,
    "start_time": "2022-06-16T13:48:21.413Z"
   },
   {
    "duration": 14,
    "start_time": "2022-06-16T13:49:17.813Z"
   },
   {
    "duration": 14,
    "start_time": "2022-06-16T13:50:05.338Z"
   },
   {
    "duration": 22,
    "start_time": "2022-06-16T13:50:30.492Z"
   },
   {
    "duration": 16,
    "start_time": "2022-06-16T13:52:35.020Z"
   },
   {
    "duration": 10,
    "start_time": "2022-06-16T13:53:37.972Z"
   },
   {
    "duration": 13,
    "start_time": "2022-06-16T13:54:08.677Z"
   },
   {
    "duration": 15,
    "start_time": "2022-06-16T13:54:32.852Z"
   },
   {
    "duration": 16,
    "start_time": "2022-06-16T13:54:45.678Z"
   },
   {
    "duration": 17,
    "start_time": "2022-06-16T13:55:06.287Z"
   },
   {
    "duration": 26,
    "start_time": "2022-06-16T14:02:57.522Z"
   },
   {
    "duration": 22,
    "start_time": "2022-06-16T14:03:01.623Z"
   },
   {
    "duration": 23,
    "start_time": "2022-06-16T14:04:40.425Z"
   },
   {
    "duration": 32,
    "start_time": "2022-06-16T14:05:41.610Z"
   },
   {
    "duration": 199,
    "start_time": "2022-06-16T14:06:14.898Z"
   },
   {
    "duration": 24,
    "start_time": "2022-06-16T14:06:58.915Z"
   },
   {
    "duration": 54,
    "start_time": "2022-06-17T08:56:39.107Z"
   },
   {
    "duration": 1344,
    "start_time": "2022-06-17T08:56:57.755Z"
   },
   {
    "duration": 179,
    "start_time": "2022-06-17T08:56:59.102Z"
   },
   {
    "duration": 13,
    "start_time": "2022-06-17T08:56:59.284Z"
   },
   {
    "duration": 14,
    "start_time": "2022-06-17T08:56:59.299Z"
   },
   {
    "duration": 32,
    "start_time": "2022-06-17T08:56:59.315Z"
   },
   {
    "duration": 9,
    "start_time": "2022-06-17T08:56:59.349Z"
   },
   {
    "duration": 12,
    "start_time": "2022-06-17T08:56:59.360Z"
   },
   {
    "duration": 18,
    "start_time": "2022-06-17T08:56:59.374Z"
   },
   {
    "duration": 7,
    "start_time": "2022-06-17T08:56:59.393Z"
   },
   {
    "duration": 39,
    "start_time": "2022-06-17T08:56:59.402Z"
   },
   {
    "duration": 21,
    "start_time": "2022-06-17T08:56:59.443Z"
   },
   {
    "duration": 6,
    "start_time": "2022-06-17T08:56:59.466Z"
   },
   {
    "duration": 13,
    "start_time": "2022-06-17T08:56:59.473Z"
   },
   {
    "duration": 8,
    "start_time": "2022-06-17T08:56:59.489Z"
   },
   {
    "duration": 41,
    "start_time": "2022-06-17T08:56:59.498Z"
   },
   {
    "duration": 15,
    "start_time": "2022-06-17T08:56:59.541Z"
   },
   {
    "duration": 5,
    "start_time": "2022-06-17T08:56:59.558Z"
   },
   {
    "duration": 387,
    "start_time": "2022-06-17T08:56:59.565Z"
   },
   {
    "duration": 13,
    "start_time": "2022-06-17T08:56:59.954Z"
   },
   {
    "duration": 33,
    "start_time": "2022-06-17T08:56:59.969Z"
   },
   {
    "duration": 1408,
    "start_time": "2022-06-17T08:57:00.003Z"
   },
   {
    "duration": 26,
    "start_time": "2022-06-17T08:57:01.413Z"
   },
   {
    "duration": 22,
    "start_time": "2022-06-17T08:57:01.441Z"
   },
   {
    "duration": 18,
    "start_time": "2022-06-17T08:57:01.464Z"
   },
   {
    "duration": 28,
    "start_time": "2022-06-17T08:57:01.484Z"
   },
   {
    "duration": 23,
    "start_time": "2022-06-17T08:57:06.199Z"
   },
   {
    "duration": 21,
    "start_time": "2022-06-17T08:57:54.841Z"
   },
   {
    "duration": 32,
    "start_time": "2022-06-17T08:58:18.018Z"
   },
   {
    "duration": 34,
    "start_time": "2022-06-17T09:00:16.904Z"
   },
   {
    "duration": 4,
    "start_time": "2022-06-17T09:02:40.206Z"
   },
   {
    "duration": 5,
    "start_time": "2022-06-17T09:02:51.661Z"
   },
   {
    "duration": 114,
    "start_time": "2022-06-17T09:11:46.382Z"
   },
   {
    "duration": 14,
    "start_time": "2022-06-17T09:12:16.270Z"
   },
   {
    "duration": 106,
    "start_time": "2022-06-17T09:17:41.441Z"
   },
   {
    "duration": 140,
    "start_time": "2022-06-17T09:17:54.810Z"
   },
   {
    "duration": 124,
    "start_time": "2022-06-17T09:18:11.398Z"
   },
   {
    "duration": 377,
    "start_time": "2022-06-17T09:19:24.036Z"
   },
   {
    "duration": 659,
    "start_time": "2022-06-17T09:20:16.834Z"
   },
   {
    "duration": 300,
    "start_time": "2022-06-17T09:24:57.508Z"
   },
   {
    "duration": 386,
    "start_time": "2022-06-17T09:26:00.015Z"
   },
   {
    "duration": 9,
    "start_time": "2022-06-17T09:31:15.412Z"
   },
   {
    "duration": 6,
    "start_time": "2022-06-17T09:31:24.808Z"
   },
   {
    "duration": 392,
    "start_time": "2022-06-17T09:34:24.953Z"
   },
   {
    "duration": 44,
    "start_time": "2022-06-17T09:36:08.337Z"
   },
   {
    "duration": 25,
    "start_time": "2022-06-17T09:36:52.897Z"
   },
   {
    "duration": 846,
    "start_time": "2022-06-17T09:37:20.568Z"
   },
   {
    "duration": 20,
    "start_time": "2022-06-17T09:37:36.185Z"
   },
   {
    "duration": 24,
    "start_time": "2022-06-17T09:37:52.528Z"
   },
   {
    "duration": 14,
    "start_time": "2022-06-17T09:38:21.804Z"
   },
   {
    "duration": 21,
    "start_time": "2022-06-17T09:38:29.932Z"
   },
   {
    "duration": 373,
    "start_time": "2022-06-17T09:38:35.565Z"
   },
   {
    "duration": 11,
    "start_time": "2022-06-17T09:39:44.871Z"
   },
   {
    "duration": 8,
    "start_time": "2022-06-17T09:39:50.060Z"
   },
   {
    "duration": 27,
    "start_time": "2022-06-17T09:40:23.037Z"
   },
   {
    "duration": 16,
    "start_time": "2022-06-17T09:41:00.378Z"
   },
   {
    "duration": 23,
    "start_time": "2022-06-17T09:44:55.910Z"
   },
   {
    "duration": 9,
    "start_time": "2022-06-17T09:51:46.410Z"
   },
   {
    "duration": 8,
    "start_time": "2022-06-17T09:54:22.281Z"
   },
   {
    "duration": 18,
    "start_time": "2022-06-17T09:55:15.609Z"
   },
   {
    "duration": 15,
    "start_time": "2022-06-17T09:55:53.995Z"
   },
   {
    "duration": 17,
    "start_time": "2022-06-17T09:56:09.410Z"
   },
   {
    "duration": 12,
    "start_time": "2022-06-17T09:56:19.425Z"
   },
   {
    "duration": 21,
    "start_time": "2022-06-17T09:56:29.837Z"
   },
   {
    "duration": 19,
    "start_time": "2022-06-17T09:57:01.745Z"
   },
   {
    "duration": 17,
    "start_time": "2022-06-17T09:57:22.122Z"
   },
   {
    "duration": 26,
    "start_time": "2022-06-17T10:00:19.433Z"
   },
   {
    "duration": 14,
    "start_time": "2022-06-17T10:00:44.116Z"
   },
   {
    "duration": 17,
    "start_time": "2022-06-17T10:00:59.304Z"
   },
   {
    "duration": 18,
    "start_time": "2022-06-17T10:01:11.322Z"
   },
   {
    "duration": 21,
    "start_time": "2022-06-17T10:01:42.632Z"
   },
   {
    "duration": 15,
    "start_time": "2022-06-17T10:02:36.046Z"
   },
   {
    "duration": 16,
    "start_time": "2022-06-17T10:03:02.628Z"
   },
   {
    "duration": 22,
    "start_time": "2022-06-17T10:11:21.722Z"
   },
   {
    "duration": 22,
    "start_time": "2022-06-17T10:11:38.439Z"
   },
   {
    "duration": 14,
    "start_time": "2022-06-17T10:13:23.841Z"
   },
   {
    "duration": 69,
    "start_time": "2022-06-17T10:13:42.874Z"
   },
   {
    "duration": 12,
    "start_time": "2022-06-17T10:13:50.976Z"
   },
   {
    "duration": 10,
    "start_time": "2022-06-17T10:15:51.081Z"
   },
   {
    "duration": 12,
    "start_time": "2022-06-17T10:17:13.841Z"
   },
   {
    "duration": 12,
    "start_time": "2022-06-17T10:19:18.399Z"
   },
   {
    "duration": 12,
    "start_time": "2022-06-17T10:20:08.022Z"
   },
   {
    "duration": 9,
    "start_time": "2022-06-17T10:20:14.063Z"
   },
   {
    "duration": 14,
    "start_time": "2022-06-17T10:20:24.320Z"
   },
   {
    "duration": 11,
    "start_time": "2022-06-17T10:20:58.585Z"
   },
   {
    "duration": 5,
    "start_time": "2022-06-17T10:23:35.098Z"
   },
   {
    "duration": 4,
    "start_time": "2022-06-17T10:24:26.944Z"
   },
   {
    "duration": 4,
    "start_time": "2022-06-17T10:24:40.210Z"
   },
   {
    "duration": 4,
    "start_time": "2022-06-17T10:24:51.162Z"
   },
   {
    "duration": 4,
    "start_time": "2022-06-17T10:26:39.569Z"
   },
   {
    "duration": 10,
    "start_time": "2022-06-17T10:27:03.505Z"
   },
   {
    "duration": 1252,
    "start_time": "2022-06-17T10:27:27.561Z"
   },
   {
    "duration": 48,
    "start_time": "2022-06-17T10:27:28.815Z"
   },
   {
    "duration": 12,
    "start_time": "2022-06-17T10:27:28.864Z"
   },
   {
    "duration": 17,
    "start_time": "2022-06-17T10:27:28.878Z"
   },
   {
    "duration": 39,
    "start_time": "2022-06-17T10:27:28.897Z"
   },
   {
    "duration": 11,
    "start_time": "2022-06-17T10:27:28.946Z"
   },
   {
    "duration": 33,
    "start_time": "2022-06-17T10:27:28.959Z"
   },
   {
    "duration": 20,
    "start_time": "2022-06-17T10:27:28.994Z"
   },
   {
    "duration": 10,
    "start_time": "2022-06-17T10:27:29.016Z"
   },
   {
    "duration": 32,
    "start_time": "2022-06-17T10:27:29.030Z"
   },
   {
    "duration": 22,
    "start_time": "2022-06-17T10:27:29.064Z"
   },
   {
    "duration": 7,
    "start_time": "2022-06-17T10:27:29.088Z"
   },
   {
    "duration": 16,
    "start_time": "2022-06-17T10:27:29.096Z"
   },
   {
    "duration": 22,
    "start_time": "2022-06-17T10:27:29.113Z"
   },
   {
    "duration": 29,
    "start_time": "2022-06-17T10:27:29.137Z"
   },
   {
    "duration": 10,
    "start_time": "2022-06-17T10:27:29.168Z"
   },
   {
    "duration": 5,
    "start_time": "2022-06-17T10:27:29.179Z"
   },
   {
    "duration": 432,
    "start_time": "2022-06-17T10:27:29.186Z"
   },
   {
    "duration": 17,
    "start_time": "2022-06-17T10:27:29.620Z"
   },
   {
    "duration": 26,
    "start_time": "2022-06-17T10:27:29.638Z"
   },
   {
    "duration": 1457,
    "start_time": "2022-06-17T10:27:29.666Z"
   },
   {
    "duration": 20,
    "start_time": "2022-06-17T10:27:31.126Z"
   },
   {
    "duration": 40,
    "start_time": "2022-06-17T10:27:31.147Z"
   },
   {
    "duration": 25,
    "start_time": "2022-06-17T10:27:31.189Z"
   },
   {
    "duration": 72,
    "start_time": "2022-06-17T10:27:31.216Z"
   },
   {
    "duration": 956,
    "start_time": "2022-06-17T10:27:31.290Z"
   },
   {
    "duration": 18,
    "start_time": "2022-06-17T10:27:32.248Z"
   },
   {
    "duration": 16,
    "start_time": "2022-06-17T10:27:32.270Z"
   },
   {
    "duration": 27,
    "start_time": "2022-06-17T10:27:32.288Z"
   },
   {
    "duration": 17,
    "start_time": "2022-06-17T10:27:32.324Z"
   },
   {
    "duration": 462,
    "start_time": "2022-06-17T10:27:32.344Z"
   },
   {
    "duration": 14,
    "start_time": "2022-06-17T10:27:32.815Z"
   },
   {
    "duration": 31,
    "start_time": "2022-06-17T10:27:32.835Z"
   },
   {
    "duration": 31,
    "start_time": "2022-06-17T10:27:32.868Z"
   },
   {
    "duration": 24,
    "start_time": "2022-06-17T10:27:32.900Z"
   },
   {
    "duration": 49,
    "start_time": "2022-06-17T10:27:32.926Z"
   },
   {
    "duration": 130,
    "start_time": "2022-06-17T10:27:40.822Z"
   },
   {
    "duration": 4,
    "start_time": "2022-06-17T10:29:36.644Z"
   },
   {
    "duration": 4,
    "start_time": "2022-06-17T10:30:32.268Z"
   },
   {
    "duration": 10,
    "start_time": "2022-06-17T10:34:23.392Z"
   },
   {
    "duration": 6,
    "start_time": "2022-06-17T10:34:30.237Z"
   },
   {
    "duration": 1156,
    "start_time": "2022-06-17T10:35:44.146Z"
   },
   {
    "duration": 53,
    "start_time": "2022-06-17T10:35:45.304Z"
   },
   {
    "duration": 12,
    "start_time": "2022-06-17T10:35:45.359Z"
   },
   {
    "duration": 12,
    "start_time": "2022-06-17T10:35:45.372Z"
   },
   {
    "duration": 19,
    "start_time": "2022-06-17T10:35:45.386Z"
   },
   {
    "duration": 29,
    "start_time": "2022-06-17T10:35:45.406Z"
   },
   {
    "duration": 18,
    "start_time": "2022-06-17T10:35:45.436Z"
   },
   {
    "duration": 17,
    "start_time": "2022-06-17T10:35:45.456Z"
   },
   {
    "duration": 7,
    "start_time": "2022-06-17T10:35:45.474Z"
   },
   {
    "duration": 12,
    "start_time": "2022-06-17T10:35:45.483Z"
   },
   {
    "duration": 50,
    "start_time": "2022-06-17T10:35:45.497Z"
   },
   {
    "duration": 7,
    "start_time": "2022-06-17T10:35:45.549Z"
   },
   {
    "duration": 13,
    "start_time": "2022-06-17T10:35:45.558Z"
   },
   {
    "duration": 9,
    "start_time": "2022-06-17T10:35:45.574Z"
   },
   {
    "duration": 54,
    "start_time": "2022-06-17T10:35:45.584Z"
   },
   {
    "duration": 9,
    "start_time": "2022-06-17T10:35:45.643Z"
   },
   {
    "duration": 12,
    "start_time": "2022-06-17T10:35:45.654Z"
   },
   {
    "duration": 476,
    "start_time": "2022-06-17T10:35:45.668Z"
   },
   {
    "duration": 17,
    "start_time": "2022-06-17T10:35:46.147Z"
   },
   {
    "duration": 23,
    "start_time": "2022-06-17T10:35:46.167Z"
   },
   {
    "duration": 1511,
    "start_time": "2022-06-17T10:35:46.192Z"
   },
   {
    "duration": 28,
    "start_time": "2022-06-17T10:35:47.705Z"
   },
   {
    "duration": 29,
    "start_time": "2022-06-17T10:35:47.735Z"
   },
   {
    "duration": 36,
    "start_time": "2022-06-17T10:35:47.767Z"
   },
   {
    "duration": 66,
    "start_time": "2022-06-17T10:35:47.805Z"
   },
   {
    "duration": 936,
    "start_time": "2022-06-17T10:35:47.873Z"
   },
   {
    "duration": 35,
    "start_time": "2022-06-17T10:35:48.811Z"
   },
   {
    "duration": 22,
    "start_time": "2022-06-17T10:35:48.848Z"
   },
   {
    "duration": 14,
    "start_time": "2022-06-17T10:35:48.871Z"
   },
   {
    "duration": 18,
    "start_time": "2022-06-17T10:35:48.886Z"
   },
   {
    "duration": 418,
    "start_time": "2022-06-17T10:35:48.905Z"
   },
   {
    "duration": 13,
    "start_time": "2022-06-17T10:35:49.326Z"
   },
   {
    "duration": 10,
    "start_time": "2022-06-17T10:35:49.341Z"
   },
   {
    "duration": 15,
    "start_time": "2022-06-17T10:35:49.353Z"
   },
   {
    "duration": 9,
    "start_time": "2022-06-17T10:35:49.370Z"
   },
   {
    "duration": 17,
    "start_time": "2022-06-17T10:35:49.381Z"
   },
   {
    "duration": 6,
    "start_time": "2022-06-17T10:35:50.685Z"
   },
   {
    "duration": 6,
    "start_time": "2022-06-17T10:36:39.731Z"
   },
   {
    "duration": 4,
    "start_time": "2022-06-17T10:36:54.988Z"
   },
   {
    "duration": 5,
    "start_time": "2022-06-17T10:39:18.297Z"
   },
   {
    "duration": 1222,
    "start_time": "2022-06-17T10:39:51.953Z"
   },
   {
    "duration": 46,
    "start_time": "2022-06-17T10:39:53.176Z"
   },
   {
    "duration": 13,
    "start_time": "2022-06-17T10:39:53.227Z"
   },
   {
    "duration": 18,
    "start_time": "2022-06-17T10:39:53.243Z"
   },
   {
    "duration": 32,
    "start_time": "2022-06-17T10:39:53.263Z"
   },
   {
    "duration": 9,
    "start_time": "2022-06-17T10:39:53.297Z"
   },
   {
    "duration": 23,
    "start_time": "2022-06-17T10:39:53.307Z"
   },
   {
    "duration": 19,
    "start_time": "2022-06-17T10:39:53.331Z"
   },
   {
    "duration": 8,
    "start_time": "2022-06-17T10:39:53.351Z"
   },
   {
    "duration": 14,
    "start_time": "2022-06-17T10:39:53.361Z"
   },
   {
    "duration": 60,
    "start_time": "2022-06-17T10:39:53.377Z"
   },
   {
    "duration": 7,
    "start_time": "2022-06-17T10:39:53.442Z"
   },
   {
    "duration": 19,
    "start_time": "2022-06-17T10:39:53.451Z"
   },
   {
    "duration": 12,
    "start_time": "2022-06-17T10:39:53.472Z"
   },
   {
    "duration": 13,
    "start_time": "2022-06-17T10:39:53.486Z"
   },
   {
    "duration": 32,
    "start_time": "2022-06-17T10:39:53.500Z"
   },
   {
    "duration": 11,
    "start_time": "2022-06-17T10:39:53.535Z"
   },
   {
    "duration": 395,
    "start_time": "2022-06-17T10:39:53.548Z"
   },
   {
    "duration": 16,
    "start_time": "2022-06-17T10:39:53.946Z"
   },
   {
    "duration": 33,
    "start_time": "2022-06-17T10:39:53.964Z"
   },
   {
    "duration": 1519,
    "start_time": "2022-06-17T10:39:53.999Z"
   },
   {
    "duration": 21,
    "start_time": "2022-06-17T10:39:55.530Z"
   },
   {
    "duration": 12,
    "start_time": "2022-06-17T10:39:55.552Z"
   },
   {
    "duration": 8,
    "start_time": "2022-06-17T10:39:55.566Z"
   },
   {
    "duration": 61,
    "start_time": "2022-06-17T10:39:55.576Z"
   },
   {
    "duration": 876,
    "start_time": "2022-06-17T10:39:55.640Z"
   },
   {
    "duration": 21,
    "start_time": "2022-06-17T10:39:56.526Z"
   },
   {
    "duration": 23,
    "start_time": "2022-06-17T10:39:56.549Z"
   },
   {
    "duration": 13,
    "start_time": "2022-06-17T10:39:56.574Z"
   },
   {
    "duration": 20,
    "start_time": "2022-06-17T10:39:56.589Z"
   },
   {
    "duration": 390,
    "start_time": "2022-06-17T10:39:56.610Z"
   },
   {
    "duration": 10,
    "start_time": "2022-06-17T10:39:57.002Z"
   },
   {
    "duration": 17,
    "start_time": "2022-06-17T10:39:57.023Z"
   },
   {
    "duration": 19,
    "start_time": "2022-06-17T10:39:57.041Z"
   },
   {
    "duration": 16,
    "start_time": "2022-06-17T10:39:57.062Z"
   },
   {
    "duration": 27,
    "start_time": "2022-06-17T10:39:57.079Z"
   },
   {
    "duration": 50,
    "start_time": "2022-06-17T10:39:57.108Z"
   },
   {
    "duration": 103,
    "start_time": "2022-06-17T10:40:39.340Z"
   },
   {
    "duration": 1251,
    "start_time": "2022-06-17T10:41:33.308Z"
   },
   {
    "duration": 46,
    "start_time": "2022-06-17T10:41:34.561Z"
   },
   {
    "duration": 18,
    "start_time": "2022-06-17T10:41:34.610Z"
   },
   {
    "duration": 38,
    "start_time": "2022-06-17T10:41:34.640Z"
   },
   {
    "duration": 30,
    "start_time": "2022-06-17T10:41:34.680Z"
   },
   {
    "duration": 8,
    "start_time": "2022-06-17T10:41:34.712Z"
   },
   {
    "duration": 36,
    "start_time": "2022-06-17T10:41:34.721Z"
   },
   {
    "duration": 18,
    "start_time": "2022-06-17T10:41:34.759Z"
   },
   {
    "duration": 8,
    "start_time": "2022-06-17T10:41:34.778Z"
   },
   {
    "duration": 14,
    "start_time": "2022-06-17T10:41:34.789Z"
   },
   {
    "duration": 38,
    "start_time": "2022-06-17T10:41:34.805Z"
   },
   {
    "duration": 8,
    "start_time": "2022-06-17T10:41:34.845Z"
   },
   {
    "duration": 23,
    "start_time": "2022-06-17T10:41:34.855Z"
   },
   {
    "duration": 16,
    "start_time": "2022-06-17T10:41:34.881Z"
   },
   {
    "duration": 38,
    "start_time": "2022-06-17T10:41:34.899Z"
   },
   {
    "duration": 9,
    "start_time": "2022-06-17T10:41:34.939Z"
   },
   {
    "duration": 11,
    "start_time": "2022-06-17T10:41:34.950Z"
   },
   {
    "duration": 387,
    "start_time": "2022-06-17T10:41:34.963Z"
   },
   {
    "duration": 14,
    "start_time": "2022-06-17T10:41:35.352Z"
   },
   {
    "duration": 25,
    "start_time": "2022-06-17T10:41:35.368Z"
   },
   {
    "duration": 1417,
    "start_time": "2022-06-17T10:41:35.395Z"
   },
   {
    "duration": 27,
    "start_time": "2022-06-17T10:41:36.814Z"
   },
   {
    "duration": 13,
    "start_time": "2022-06-17T10:41:36.843Z"
   },
   {
    "duration": 12,
    "start_time": "2022-06-17T10:41:36.857Z"
   },
   {
    "duration": 61,
    "start_time": "2022-06-17T10:41:36.871Z"
   },
   {
    "duration": 881,
    "start_time": "2022-06-17T10:41:36.934Z"
   },
   {
    "duration": 30,
    "start_time": "2022-06-17T10:41:37.817Z"
   },
   {
    "duration": 19,
    "start_time": "2022-06-17T10:41:37.850Z"
   },
   {
    "duration": 13,
    "start_time": "2022-06-17T10:41:37.871Z"
   },
   {
    "duration": 16,
    "start_time": "2022-06-17T10:41:37.886Z"
   },
   {
    "duration": 391,
    "start_time": "2022-06-17T10:41:37.925Z"
   },
   {
    "duration": 23,
    "start_time": "2022-06-17T10:41:38.318Z"
   },
   {
    "duration": 10,
    "start_time": "2022-06-17T10:41:38.342Z"
   },
   {
    "duration": 19,
    "start_time": "2022-06-17T10:41:38.354Z"
   },
   {
    "duration": 7,
    "start_time": "2022-06-17T10:41:38.374Z"
   },
   {
    "duration": 13,
    "start_time": "2022-06-17T10:41:38.383Z"
   },
   {
    "duration": 15,
    "start_time": "2022-06-17T10:41:42.445Z"
   },
   {
    "duration": 21,
    "start_time": "2022-06-17T10:41:45.409Z"
   },
   {
    "duration": 15,
    "start_time": "2022-06-17T10:41:56.637Z"
   },
   {
    "duration": 13,
    "start_time": "2022-06-17T10:42:08.093Z"
   },
   {
    "duration": 13,
    "start_time": "2022-06-17T10:42:22.945Z"
   },
   {
    "duration": 13,
    "start_time": "2022-06-17T10:42:35.851Z"
   },
   {
    "duration": 21,
    "start_time": "2022-06-17T10:47:52.851Z"
   },
   {
    "duration": 272,
    "start_time": "2022-06-17T10:48:13.789Z"
   },
   {
    "duration": 226,
    "start_time": "2022-06-17T10:51:14.149Z"
   },
   {
    "duration": 214,
    "start_time": "2022-06-17T11:34:56.058Z"
   },
   {
    "duration": 42,
    "start_time": "2022-06-17T11:36:22.161Z"
   },
   {
    "duration": 189,
    "start_time": "2022-06-17T11:37:18.752Z"
   },
   {
    "duration": 47,
    "start_time": "2022-06-17T11:43:50.292Z"
   },
   {
    "duration": 186,
    "start_time": "2022-06-17T11:44:09.415Z"
   },
   {
    "duration": 19,
    "start_time": "2022-06-17T11:49:49.738Z"
   },
   {
    "duration": 20,
    "start_time": "2022-06-17T11:50:06.095Z"
   },
   {
    "duration": 19,
    "start_time": "2022-06-17T11:50:32.789Z"
   },
   {
    "duration": 22,
    "start_time": "2022-06-17T11:51:42.119Z"
   },
   {
    "duration": 10,
    "start_time": "2022-06-17T11:51:57.599Z"
   },
   {
    "duration": 27,
    "start_time": "2022-06-17T11:52:35.617Z"
   },
   {
    "duration": 282,
    "start_time": "2022-06-17T11:53:09.539Z"
   },
   {
    "duration": 408,
    "start_time": "2022-06-17T11:53:24.700Z"
   },
   {
    "duration": 270,
    "start_time": "2022-06-17T11:53:54.078Z"
   },
   {
    "duration": 28,
    "start_time": "2022-06-17T11:54:09.278Z"
   },
   {
    "duration": 279,
    "start_time": "2022-06-17T11:54:41.380Z"
   },
   {
    "duration": 373,
    "start_time": "2022-06-17T11:54:50.557Z"
   },
   {
    "duration": 281,
    "start_time": "2022-06-17T11:55:07.653Z"
   },
   {
    "duration": 356,
    "start_time": "2022-06-17T11:55:27.596Z"
   },
   {
    "duration": 232,
    "start_time": "2022-06-17T11:55:46.185Z"
   },
   {
    "duration": 243,
    "start_time": "2022-06-17T11:55:54.943Z"
   },
   {
    "duration": 16,
    "start_time": "2022-06-17T11:57:19.687Z"
   },
   {
    "duration": 14,
    "start_time": "2022-06-17T11:57:25.638Z"
   },
   {
    "duration": 12,
    "start_time": "2022-06-17T11:57:33.631Z"
   },
   {
    "duration": 22,
    "start_time": "2022-06-17T11:58:01.183Z"
   },
   {
    "duration": 11,
    "start_time": "2022-06-17T11:58:07.622Z"
   },
   {
    "duration": 147,
    "start_time": "2022-06-17T11:58:20.941Z"
   },
   {
    "duration": 143,
    "start_time": "2022-06-17T11:58:26.438Z"
   },
   {
    "duration": 39,
    "start_time": "2022-06-17T12:00:01.059Z"
   },
   {
    "duration": 43,
    "start_time": "2022-06-17T12:03:24.198Z"
   },
   {
    "duration": 4,
    "start_time": "2022-06-17T12:06:05.547Z"
   },
   {
    "duration": 3,
    "start_time": "2022-06-17T12:11:29.151Z"
   },
   {
    "duration": 11,
    "start_time": "2022-06-17T12:12:44.794Z"
   },
   {
    "duration": 39,
    "start_time": "2022-06-17T12:14:20.376Z"
   },
   {
    "duration": 10,
    "start_time": "2022-06-17T12:14:24.274Z"
   },
   {
    "duration": 13,
    "start_time": "2022-06-17T12:14:28.768Z"
   },
   {
    "duration": 109,
    "start_time": "2022-06-17T12:33:00.450Z"
   },
   {
    "duration": 1123,
    "start_time": "2022-06-17T12:33:22.697Z"
   },
   {
    "duration": 64,
    "start_time": "2022-06-17T12:33:23.822Z"
   },
   {
    "duration": 12,
    "start_time": "2022-06-17T12:33:23.888Z"
   },
   {
    "duration": 31,
    "start_time": "2022-06-17T12:33:23.902Z"
   },
   {
    "duration": 36,
    "start_time": "2022-06-17T12:33:23.936Z"
   },
   {
    "duration": 9,
    "start_time": "2022-06-17T12:33:23.974Z"
   },
   {
    "duration": 14,
    "start_time": "2022-06-17T12:33:23.984Z"
   },
   {
    "duration": 17,
    "start_time": "2022-06-17T12:33:23.999Z"
   },
   {
    "duration": 9,
    "start_time": "2022-06-17T12:33:24.018Z"
   },
   {
    "duration": 37,
    "start_time": "2022-06-17T12:33:24.036Z"
   },
   {
    "duration": 25,
    "start_time": "2022-06-17T12:33:24.075Z"
   },
   {
    "duration": 7,
    "start_time": "2022-06-17T12:33:24.102Z"
   },
   {
    "duration": 27,
    "start_time": "2022-06-17T12:33:24.111Z"
   },
   {
    "duration": 27,
    "start_time": "2022-06-17T12:33:24.141Z"
   },
   {
    "duration": 11,
    "start_time": "2022-06-17T12:33:24.170Z"
   },
   {
    "duration": 7,
    "start_time": "2022-06-17T12:33:24.183Z"
   },
   {
    "duration": 4,
    "start_time": "2022-06-17T12:33:24.192Z"
   },
   {
    "duration": 367,
    "start_time": "2022-06-17T12:33:24.197Z"
   },
   {
    "duration": 12,
    "start_time": "2022-06-17T12:33:24.566Z"
   },
   {
    "duration": 23,
    "start_time": "2022-06-17T12:33:24.580Z"
   },
   {
    "duration": 1494,
    "start_time": "2022-06-17T12:33:24.604Z"
   },
   {
    "duration": 26,
    "start_time": "2022-06-17T12:33:26.100Z"
   },
   {
    "duration": 40,
    "start_time": "2022-06-17T12:33:26.127Z"
   },
   {
    "duration": 10,
    "start_time": "2022-06-17T12:33:26.168Z"
   },
   {
    "duration": 49,
    "start_time": "2022-06-17T12:33:26.179Z"
   },
   {
    "duration": 967,
    "start_time": "2022-06-17T12:33:26.240Z"
   },
   {
    "duration": 42,
    "start_time": "2022-06-17T12:33:27.209Z"
   },
   {
    "duration": 15,
    "start_time": "2022-06-17T12:33:27.254Z"
   },
   {
    "duration": 11,
    "start_time": "2022-06-17T12:33:27.270Z"
   },
   {
    "duration": 14,
    "start_time": "2022-06-17T12:33:27.283Z"
   },
   {
    "duration": 384,
    "start_time": "2022-06-17T12:33:27.299Z"
   },
   {
    "duration": 11,
    "start_time": "2022-06-17T12:33:27.684Z"
   },
   {
    "duration": 11,
    "start_time": "2022-06-17T12:33:27.697Z"
   },
   {
    "duration": 29,
    "start_time": "2022-06-17T12:33:27.709Z"
   },
   {
    "duration": 35,
    "start_time": "2022-06-17T12:33:27.739Z"
   },
   {
    "duration": 13,
    "start_time": "2022-06-17T12:33:27.776Z"
   },
   {
    "duration": 15,
    "start_time": "2022-06-17T12:33:27.791Z"
   },
   {
    "duration": 31,
    "start_time": "2022-06-17T12:33:27.808Z"
   },
   {
    "duration": 22,
    "start_time": "2022-06-17T12:33:27.841Z"
   },
   {
    "duration": 233,
    "start_time": "2022-06-17T12:33:27.865Z"
   },
   {
    "duration": 225,
    "start_time": "2022-06-17T12:33:28.102Z"
   },
   {
    "duration": 243,
    "start_time": "2022-06-17T12:33:28.337Z"
   },
   {
    "duration": 32,
    "start_time": "2022-06-17T12:33:28.581Z"
   },
   {
    "duration": 185,
    "start_time": "2022-06-17T12:33:28.624Z"
   },
   {
    "duration": 40,
    "start_time": "2022-06-17T12:33:28.811Z"
   },
   {
    "duration": 213,
    "start_time": "2022-06-17T12:33:28.852Z"
   },
   {
    "duration": 18,
    "start_time": "2022-06-17T12:33:29.067Z"
   },
   {
    "duration": 6,
    "start_time": "2022-06-17T12:33:29.087Z"
   },
   {
    "duration": 16,
    "start_time": "2022-06-17T12:33:29.095Z"
   },
   {
    "duration": 266,
    "start_time": "2022-06-17T12:33:29.113Z"
   },
   {
    "duration": 15,
    "start_time": "2022-06-17T12:33:29.381Z"
   },
   {
    "duration": 6,
    "start_time": "2022-06-17T12:33:29.398Z"
   },
   {
    "duration": 272,
    "start_time": "2022-06-17T12:33:29.426Z"
   },
   {
    "duration": 58,
    "start_time": "2022-06-17T12:33:29.700Z"
   },
   {
    "duration": 48,
    "start_time": "2022-06-17T12:33:29.760Z"
   },
   {
    "duration": 3,
    "start_time": "2022-06-17T12:33:29.810Z"
   },
   {
    "duration": 112,
    "start_time": "2022-06-17T12:34:30.541Z"
   },
   {
    "duration": 12,
    "start_time": "2022-06-17T12:35:13.769Z"
   },
   {
    "duration": 9,
    "start_time": "2022-06-17T12:36:22.750Z"
   },
   {
    "duration": 5,
    "start_time": "2022-06-17T12:37:08.851Z"
   },
   {
    "duration": 6,
    "start_time": "2022-06-17T12:40:22.910Z"
   },
   {
    "duration": 1186,
    "start_time": "2022-06-17T12:45:27.054Z"
   },
   {
    "duration": 47,
    "start_time": "2022-06-17T12:45:28.243Z"
   },
   {
    "duration": 13,
    "start_time": "2022-06-17T12:45:28.292Z"
   },
   {
    "duration": 17,
    "start_time": "2022-06-17T12:45:28.307Z"
   },
   {
    "duration": 33,
    "start_time": "2022-06-17T12:45:28.327Z"
   },
   {
    "duration": 9,
    "start_time": "2022-06-17T12:45:28.362Z"
   },
   {
    "duration": 17,
    "start_time": "2022-06-17T12:45:28.373Z"
   },
   {
    "duration": 19,
    "start_time": "2022-06-17T12:45:28.392Z"
   },
   {
    "duration": 18,
    "start_time": "2022-06-17T12:45:28.424Z"
   },
   {
    "duration": 12,
    "start_time": "2022-06-17T12:45:28.444Z"
   },
   {
    "duration": 26,
    "start_time": "2022-06-17T12:45:28.458Z"
   },
   {
    "duration": 7,
    "start_time": "2022-06-17T12:45:28.485Z"
   },
   {
    "duration": 46,
    "start_time": "2022-06-17T12:45:28.493Z"
   },
   {
    "duration": 23,
    "start_time": "2022-06-17T12:45:28.543Z"
   },
   {
    "duration": 11,
    "start_time": "2022-06-17T12:45:28.568Z"
   },
   {
    "duration": 7,
    "start_time": "2022-06-17T12:45:28.581Z"
   },
   {
    "duration": 5,
    "start_time": "2022-06-17T12:45:28.589Z"
   },
   {
    "duration": 466,
    "start_time": "2022-06-17T12:45:28.596Z"
   },
   {
    "duration": 13,
    "start_time": "2022-06-17T12:45:29.065Z"
   },
   {
    "duration": 23,
    "start_time": "2022-06-17T12:45:29.080Z"
   },
   {
    "duration": 1666,
    "start_time": "2022-06-17T12:45:29.105Z"
   },
   {
    "duration": 18,
    "start_time": "2022-06-17T12:45:30.774Z"
   },
   {
    "duration": 43,
    "start_time": "2022-06-17T12:45:30.793Z"
   },
   {
    "duration": 17,
    "start_time": "2022-06-17T12:45:30.839Z"
   },
   {
    "duration": 64,
    "start_time": "2022-06-17T12:45:30.858Z"
   },
   {
    "duration": 948,
    "start_time": "2022-06-17T12:45:30.929Z"
   },
   {
    "duration": 22,
    "start_time": "2022-06-17T12:45:31.879Z"
   },
   {
    "duration": 44,
    "start_time": "2022-06-17T12:45:31.903Z"
   },
   {
    "duration": 15,
    "start_time": "2022-06-17T12:45:31.949Z"
   },
   {
    "duration": 47,
    "start_time": "2022-06-17T12:45:31.966Z"
   },
   {
    "duration": 426,
    "start_time": "2022-06-17T12:45:32.015Z"
   },
   {
    "duration": 15,
    "start_time": "2022-06-17T12:45:32.444Z"
   },
   {
    "duration": 14,
    "start_time": "2022-06-17T12:45:32.461Z"
   },
   {
    "duration": 16,
    "start_time": "2022-06-17T12:45:32.477Z"
   },
   {
    "duration": 7,
    "start_time": "2022-06-17T12:45:32.494Z"
   },
   {
    "duration": 35,
    "start_time": "2022-06-17T12:45:32.503Z"
   },
   {
    "duration": 39,
    "start_time": "2022-06-17T12:45:32.540Z"
   },
   {
    "duration": 28,
    "start_time": "2022-06-17T12:45:32.582Z"
   },
   {
    "duration": 24,
    "start_time": "2022-06-17T12:45:32.613Z"
   },
   {
    "duration": 275,
    "start_time": "2022-06-17T12:45:32.639Z"
   },
   {
    "duration": 233,
    "start_time": "2022-06-17T12:45:32.924Z"
   },
   {
    "duration": 243,
    "start_time": "2022-06-17T12:45:33.159Z"
   },
   {
    "duration": 44,
    "start_time": "2022-06-17T12:45:33.404Z"
   },
   {
    "duration": 299,
    "start_time": "2022-06-17T12:45:33.450Z"
   },
   {
    "duration": 82,
    "start_time": "2022-06-17T12:45:33.752Z"
   },
   {
    "duration": 187,
    "start_time": "2022-06-17T12:45:33.840Z"
   },
   {
    "duration": 17,
    "start_time": "2022-06-17T12:45:34.029Z"
   },
   {
    "duration": 21,
    "start_time": "2022-06-17T12:45:34.047Z"
   },
   {
    "duration": 28,
    "start_time": "2022-06-17T12:45:34.070Z"
   },
   {
    "duration": 266,
    "start_time": "2022-06-17T12:45:34.101Z"
   },
   {
    "duration": 14,
    "start_time": "2022-06-17T12:45:34.369Z"
   },
   {
    "duration": 48,
    "start_time": "2022-06-17T12:45:34.385Z"
   },
   {
    "duration": 318,
    "start_time": "2022-06-17T12:45:34.437Z"
   },
   {
    "duration": 62,
    "start_time": "2022-06-17T12:45:41.481Z"
   },
   {
    "duration": 41,
    "start_time": "2022-06-17T12:45:46.843Z"
   },
   {
    "duration": 4,
    "start_time": "2022-06-17T12:45:54.096Z"
   },
   {
    "duration": 27,
    "start_time": "2022-06-17T12:45:57.623Z"
   },
   {
    "duration": 8,
    "start_time": "2022-06-17T12:49:05.456Z"
   },
   {
    "duration": 11,
    "start_time": "2022-06-17T12:54:09.296Z"
   },
   {
    "duration": 8,
    "start_time": "2022-06-17T12:54:23.360Z"
   },
   {
    "duration": 1330,
    "start_time": "2022-06-17T12:56:53.782Z"
   },
   {
    "duration": 108,
    "start_time": "2022-06-17T12:58:30.136Z"
   },
   {
    "duration": 5,
    "start_time": "2022-06-17T12:58:58.241Z"
   },
   {
    "duration": 112,
    "start_time": "2022-06-17T13:03:09.392Z"
   },
   {
    "duration": 161,
    "start_time": "2022-06-17T13:04:02.096Z"
   },
   {
    "duration": 70,
    "start_time": "2022-06-17T13:05:04.281Z"
   },
   {
    "duration": 63,
    "start_time": "2022-06-17T13:05:37.008Z"
   },
   {
    "duration": 38,
    "start_time": "2022-06-17T13:05:55.078Z"
   },
   {
    "duration": 36,
    "start_time": "2022-06-17T13:06:12.441Z"
   },
   {
    "duration": 123,
    "start_time": "2022-06-17T13:19:28.455Z"
   },
   {
    "duration": 43,
    "start_time": "2022-06-17T13:19:41.497Z"
   },
   {
    "duration": 124,
    "start_time": "2022-06-17T13:29:22.251Z"
   },
   {
    "duration": 92,
    "start_time": "2022-06-17T13:29:40.355Z"
   },
   {
    "duration": 130,
    "start_time": "2022-06-17T13:30:00.462Z"
   },
   {
    "duration": 152,
    "start_time": "2022-06-17T13:35:05.682Z"
   },
   {
    "duration": 98,
    "start_time": "2022-06-17T13:35:37.789Z"
   },
   {
    "duration": 1143,
    "start_time": "2022-06-17T13:37:04.901Z"
   },
   {
    "duration": 49,
    "start_time": "2022-06-17T13:37:06.046Z"
   },
   {
    "duration": 12,
    "start_time": "2022-06-17T13:37:06.097Z"
   },
   {
    "duration": 24,
    "start_time": "2022-06-17T13:37:06.110Z"
   },
   {
    "duration": 36,
    "start_time": "2022-06-17T13:37:06.136Z"
   },
   {
    "duration": 9,
    "start_time": "2022-06-17T13:37:06.174Z"
   },
   {
    "duration": 21,
    "start_time": "2022-06-17T13:37:06.185Z"
   },
   {
    "duration": 26,
    "start_time": "2022-06-17T13:37:06.208Z"
   },
   {
    "duration": 15,
    "start_time": "2022-06-17T13:37:06.236Z"
   },
   {
    "duration": 13,
    "start_time": "2022-06-17T13:37:06.253Z"
   },
   {
    "duration": 25,
    "start_time": "2022-06-17T13:37:06.268Z"
   },
   {
    "duration": 8,
    "start_time": "2022-06-17T13:37:06.294Z"
   },
   {
    "duration": 43,
    "start_time": "2022-06-17T13:37:06.303Z"
   },
   {
    "duration": 8,
    "start_time": "2022-06-17T13:37:06.353Z"
   },
   {
    "duration": 12,
    "start_time": "2022-06-17T13:37:06.363Z"
   },
   {
    "duration": 8,
    "start_time": "2022-06-17T13:37:06.377Z"
   },
   {
    "duration": 4,
    "start_time": "2022-06-17T13:37:06.386Z"
   },
   {
    "duration": 395,
    "start_time": "2022-06-17T13:37:06.392Z"
   },
   {
    "duration": 18,
    "start_time": "2022-06-17T13:37:06.789Z"
   },
   {
    "duration": 39,
    "start_time": "2022-06-17T13:37:06.809Z"
   },
   {
    "duration": 1516,
    "start_time": "2022-06-17T13:37:06.854Z"
   },
   {
    "duration": 14,
    "start_time": "2022-06-17T13:37:08.372Z"
   },
   {
    "duration": 15,
    "start_time": "2022-06-17T13:37:08.388Z"
   },
   {
    "duration": 9,
    "start_time": "2022-06-17T13:37:08.404Z"
   },
   {
    "duration": 54,
    "start_time": "2022-06-17T13:37:08.414Z"
   },
   {
    "duration": 978,
    "start_time": "2022-06-17T13:37:08.469Z"
   },
   {
    "duration": 16,
    "start_time": "2022-06-17T13:37:09.449Z"
   },
   {
    "duration": 14,
    "start_time": "2022-06-17T13:37:09.467Z"
   },
   {
    "duration": 12,
    "start_time": "2022-06-17T13:37:09.483Z"
   },
   {
    "duration": 40,
    "start_time": "2022-06-17T13:37:09.497Z"
   },
   {
    "duration": 400,
    "start_time": "2022-06-17T13:37:09.538Z"
   },
   {
    "duration": 16,
    "start_time": "2022-06-17T13:37:09.945Z"
   },
   {
    "duration": 12,
    "start_time": "2022-06-17T13:37:09.963Z"
   },
   {
    "duration": 26,
    "start_time": "2022-06-17T13:37:09.977Z"
   },
   {
    "duration": 37,
    "start_time": "2022-06-17T13:37:10.005Z"
   },
   {
    "duration": 22,
    "start_time": "2022-06-17T13:37:10.049Z"
   },
   {
    "duration": 18,
    "start_time": "2022-06-17T13:37:10.072Z"
   },
   {
    "duration": 18,
    "start_time": "2022-06-17T13:37:10.092Z"
   },
   {
    "duration": 24,
    "start_time": "2022-06-17T13:37:10.111Z"
   },
   {
    "duration": 240,
    "start_time": "2022-06-17T13:37:10.137Z"
   },
   {
    "duration": 232,
    "start_time": "2022-06-17T13:37:10.381Z"
   },
   {
    "duration": 265,
    "start_time": "2022-06-17T13:37:10.615Z"
   },
   {
    "duration": 50,
    "start_time": "2022-06-17T13:37:10.882Z"
   },
   {
    "duration": 185,
    "start_time": "2022-06-17T13:37:10.934Z"
   },
   {
    "duration": 40,
    "start_time": "2022-06-17T13:37:11.121Z"
   },
   {
    "duration": 197,
    "start_time": "2022-06-17T13:37:11.163Z"
   },
   {
    "duration": 14,
    "start_time": "2022-06-17T13:37:11.362Z"
   },
   {
    "duration": 12,
    "start_time": "2022-06-17T13:37:11.378Z"
   },
   {
    "duration": 19,
    "start_time": "2022-06-17T13:37:11.392Z"
   },
   {
    "duration": 239,
    "start_time": "2022-06-17T13:37:11.425Z"
   },
   {
    "duration": 14,
    "start_time": "2022-06-17T13:37:11.665Z"
   },
   {
    "duration": 14,
    "start_time": "2022-06-17T13:37:11.681Z"
   },
   {
    "duration": 307,
    "start_time": "2022-06-17T13:37:11.697Z"
   },
   {
    "duration": 79,
    "start_time": "2022-06-17T13:37:12.005Z"
   },
   {
    "duration": 34,
    "start_time": "2022-06-17T13:37:12.085Z"
   },
   {
    "duration": 7,
    "start_time": "2022-06-17T13:37:12.121Z"
   },
   {
    "duration": 37,
    "start_time": "2022-06-17T13:37:12.129Z"
   },
   {
    "duration": 1396,
    "start_time": "2022-06-17T13:37:12.167Z"
   },
   {
    "duration": 6,
    "start_time": "2022-06-17T13:37:13.565Z"
   },
   {
    "duration": 15,
    "start_time": "2022-06-17T13:37:13.573Z"
   },
   {
    "duration": 96,
    "start_time": "2022-06-17T13:37:21.101Z"
   },
   {
    "duration": 5,
    "start_time": "2022-06-17T13:37:52.967Z"
   },
   {
    "duration": 94,
    "start_time": "2022-06-17T13:37:58.000Z"
   },
   {
    "duration": 5,
    "start_time": "2022-06-17T13:38:19.357Z"
   },
   {
    "duration": 88,
    "start_time": "2022-06-17T13:38:23.451Z"
   },
   {
    "duration": 107,
    "start_time": "2022-06-17T13:39:27.879Z"
   },
   {
    "duration": 1317,
    "start_time": "2022-06-18T07:17:17.766Z"
   },
   {
    "duration": 161,
    "start_time": "2022-06-18T07:17:21.717Z"
   },
   {
    "duration": 13,
    "start_time": "2022-06-18T07:17:24.045Z"
   },
   {
    "duration": 12,
    "start_time": "2022-06-18T07:17:29.766Z"
   },
   {
    "duration": 18,
    "start_time": "2022-06-18T07:17:32.921Z"
   },
   {
    "duration": 10,
    "start_time": "2022-06-18T07:17:36.643Z"
   },
   {
    "duration": 11,
    "start_time": "2022-06-18T07:17:39.395Z"
   },
   {
    "duration": 17,
    "start_time": "2022-06-18T07:17:47.988Z"
   },
   {
    "duration": 8,
    "start_time": "2022-06-18T07:17:51.091Z"
   },
   {
    "duration": 12,
    "start_time": "2022-06-18T07:17:53.386Z"
   },
   {
    "duration": 20,
    "start_time": "2022-06-18T07:17:56.761Z"
   },
   {
    "duration": 7,
    "start_time": "2022-06-18T07:18:00.281Z"
   },
   {
    "duration": 12,
    "start_time": "2022-06-18T07:18:04.625Z"
   },
   {
    "duration": 9,
    "start_time": "2022-06-18T07:18:07.257Z"
   },
   {
    "duration": 12,
    "start_time": "2022-06-18T07:18:11.584Z"
   },
   {
    "duration": 8,
    "start_time": "2022-06-18T07:18:16.802Z"
   },
   {
    "duration": 4,
    "start_time": "2022-06-18T07:18:21.633Z"
   },
   {
    "duration": 357,
    "start_time": "2022-06-18T07:18:25.807Z"
   },
   {
    "duration": 12,
    "start_time": "2022-06-18T07:18:29.641Z"
   },
   {
    "duration": 19,
    "start_time": "2022-06-18T07:18:35.962Z"
   },
   {
    "duration": 1271,
    "start_time": "2022-06-18T07:18:39.680Z"
   },
   {
    "duration": 15,
    "start_time": "2022-06-18T07:18:44.216Z"
   },
   {
    "duration": 10,
    "start_time": "2022-06-18T07:18:47.324Z"
   },
   {
    "duration": 8,
    "start_time": "2022-06-18T07:19:08.447Z"
   },
   {
    "duration": 60,
    "start_time": "2022-06-18T07:19:20.660Z"
   },
   {
    "duration": 814,
    "start_time": "2022-06-18T07:19:35.241Z"
   },
   {
    "duration": 18,
    "start_time": "2022-06-18T07:20:23.495Z"
   },
   {
    "duration": 17,
    "start_time": "2022-06-18T07:20:32.642Z"
   },
   {
    "duration": 13,
    "start_time": "2022-06-18T07:20:36.102Z"
   },
   {
    "duration": 16,
    "start_time": "2022-06-18T07:20:38.819Z"
   },
   {
    "duration": 362,
    "start_time": "2022-06-18T07:20:41.972Z"
   },
   {
    "duration": 10,
    "start_time": "2022-06-18T07:20:48.283Z"
   },
   {
    "duration": 7,
    "start_time": "2022-06-18T07:20:51.052Z"
   },
   {
    "duration": 16,
    "start_time": "2022-06-18T07:21:14.546Z"
   },
   {
    "duration": 8,
    "start_time": "2022-06-18T07:21:19.050Z"
   },
   {
    "duration": 15,
    "start_time": "2022-06-18T07:21:22.492Z"
   },
   {
    "duration": 14,
    "start_time": "2022-06-18T07:21:29.822Z"
   },
   {
    "duration": 14,
    "start_time": "2022-06-18T07:21:32.706Z"
   },
   {
    "duration": 14,
    "start_time": "2022-06-18T07:21:57.207Z"
   },
   {
    "duration": 205,
    "start_time": "2022-06-18T07:21:59.963Z"
   },
   {
    "duration": 201,
    "start_time": "2022-06-18T07:22:03.140Z"
   },
   {
    "duration": 190,
    "start_time": "2022-06-18T07:22:06.819Z"
   },
   {
    "duration": 29,
    "start_time": "2022-06-18T07:22:10.571Z"
   },
   {
    "duration": 155,
    "start_time": "2022-06-18T07:22:13.716Z"
   },
   {
    "duration": 34,
    "start_time": "2022-06-18T07:22:17.930Z"
   },
   {
    "duration": 154,
    "start_time": "2022-06-18T07:22:21.236Z"
   },
   {
    "duration": 14,
    "start_time": "2022-06-18T07:22:28.348Z"
   },
   {
    "duration": 7,
    "start_time": "2022-06-18T07:22:31.635Z"
   },
   {
    "duration": 17,
    "start_time": "2022-06-18T07:22:34.090Z"
   },
   {
    "duration": 201,
    "start_time": "2022-06-18T07:22:36.498Z"
   },
   {
    "duration": 13,
    "start_time": "2022-06-18T07:22:39.522Z"
   },
   {
    "duration": 7,
    "start_time": "2022-06-18T07:22:42.226Z"
   },
   {
    "duration": 252,
    "start_time": "2022-06-18T07:22:46.562Z"
   },
   {
    "duration": 4,
    "start_time": "2022-06-18T07:32:24.228Z"
   },
   {
    "duration": 100,
    "start_time": "2022-06-18T07:32:56.346Z"
   },
   {
    "duration": 15,
    "start_time": "2022-06-18T07:36:47.240Z"
   },
   {
    "duration": 61,
    "start_time": "2022-06-18T07:37:50.145Z"
   },
   {
    "duration": 26,
    "start_time": "2022-06-18T07:38:13.487Z"
   },
   {
    "duration": 5,
    "start_time": "2022-06-18T07:38:18.989Z"
   },
   {
    "duration": 14,
    "start_time": "2022-06-18T07:38:33.373Z"
   },
   {
    "duration": 19,
    "start_time": "2022-06-18T07:41:48.340Z"
   },
   {
    "duration": 1183,
    "start_time": "2022-06-18T07:43:32.804Z"
   },
   {
    "duration": 64,
    "start_time": "2022-06-18T07:43:33.989Z"
   },
   {
    "duration": 13,
    "start_time": "2022-06-18T07:43:34.055Z"
   },
   {
    "duration": 11,
    "start_time": "2022-06-18T07:43:34.069Z"
   },
   {
    "duration": 15,
    "start_time": "2022-06-18T07:43:34.083Z"
   },
   {
    "duration": 14,
    "start_time": "2022-06-18T07:43:34.100Z"
   },
   {
    "duration": 13,
    "start_time": "2022-06-18T07:43:34.116Z"
   },
   {
    "duration": 17,
    "start_time": "2022-06-18T07:43:34.130Z"
   },
   {
    "duration": 7,
    "start_time": "2022-06-18T07:43:34.149Z"
   },
   {
    "duration": 16,
    "start_time": "2022-06-18T07:43:34.158Z"
   },
   {
    "duration": 21,
    "start_time": "2022-06-18T07:43:34.194Z"
   },
   {
    "duration": 6,
    "start_time": "2022-06-18T07:43:34.217Z"
   },
   {
    "duration": 12,
    "start_time": "2022-06-18T07:43:34.225Z"
   },
   {
    "duration": 11,
    "start_time": "2022-06-18T07:43:34.240Z"
   },
   {
    "duration": 13,
    "start_time": "2022-06-18T07:43:34.252Z"
   },
   {
    "duration": 9,
    "start_time": "2022-06-18T07:43:34.295Z"
   },
   {
    "duration": 4,
    "start_time": "2022-06-18T07:43:34.306Z"
   },
   {
    "duration": 377,
    "start_time": "2022-06-18T07:43:34.312Z"
   },
   {
    "duration": 16,
    "start_time": "2022-06-18T07:43:34.691Z"
   },
   {
    "duration": 22,
    "start_time": "2022-06-18T07:43:34.708Z"
   },
   {
    "duration": 1322,
    "start_time": "2022-06-18T07:43:34.732Z"
   },
   {
    "duration": 15,
    "start_time": "2022-06-18T07:43:36.056Z"
   },
   {
    "duration": 22,
    "start_time": "2022-06-18T07:43:36.073Z"
   },
   {
    "duration": 8,
    "start_time": "2022-06-18T07:43:36.096Z"
   },
   {
    "duration": 44,
    "start_time": "2022-06-18T07:43:36.106Z"
   },
   {
    "duration": 827,
    "start_time": "2022-06-18T07:43:36.152Z"
   },
   {
    "duration": 25,
    "start_time": "2022-06-18T07:43:36.981Z"
   },
   {
    "duration": 24,
    "start_time": "2022-06-18T07:43:37.008Z"
   },
   {
    "duration": 33,
    "start_time": "2022-06-18T07:43:37.033Z"
   },
   {
    "duration": 22,
    "start_time": "2022-06-18T07:43:37.068Z"
   },
   {
    "duration": 360,
    "start_time": "2022-06-18T07:43:37.091Z"
   },
   {
    "duration": 10,
    "start_time": "2022-06-18T07:43:37.453Z"
   },
   {
    "duration": 10,
    "start_time": "2022-06-18T07:43:37.464Z"
   },
   {
    "duration": 27,
    "start_time": "2022-06-18T07:43:37.475Z"
   },
   {
    "duration": 6,
    "start_time": "2022-06-18T07:43:37.504Z"
   },
   {
    "duration": 17,
    "start_time": "2022-06-18T07:43:37.512Z"
   },
   {
    "duration": 17,
    "start_time": "2022-06-18T07:43:37.530Z"
   },
   {
    "duration": 16,
    "start_time": "2022-06-18T07:43:37.548Z"
   },
   {
    "duration": 34,
    "start_time": "2022-06-18T07:43:37.566Z"
   },
   {
    "duration": 216,
    "start_time": "2022-06-18T07:43:37.602Z"
   },
   {
    "duration": 213,
    "start_time": "2022-06-18T07:43:37.822Z"
   },
   {
    "duration": 208,
    "start_time": "2022-06-18T07:43:38.036Z"
   },
   {
    "duration": 30,
    "start_time": "2022-06-18T07:43:38.246Z"
   },
   {
    "duration": 169,
    "start_time": "2022-06-18T07:43:38.277Z"
   },
   {
    "duration": 33,
    "start_time": "2022-06-18T07:43:38.448Z"
   },
   {
    "duration": 175,
    "start_time": "2022-06-18T07:43:38.483Z"
   },
   {
    "duration": 13,
    "start_time": "2022-06-18T07:43:38.660Z"
   },
   {
    "duration": 22,
    "start_time": "2022-06-18T07:43:38.675Z"
   },
   {
    "duration": 24,
    "start_time": "2022-06-18T07:43:38.699Z"
   },
   {
    "duration": 255,
    "start_time": "2022-06-18T07:43:38.725Z"
   },
   {
    "duration": 20,
    "start_time": "2022-06-18T07:43:38.985Z"
   },
   {
    "duration": 19,
    "start_time": "2022-06-18T07:43:39.007Z"
   },
   {
    "duration": 264,
    "start_time": "2022-06-18T07:43:39.028Z"
   },
   {
    "duration": 58,
    "start_time": "2022-06-18T07:43:39.293Z"
   },
   {
    "duration": 32,
    "start_time": "2022-06-18T07:43:39.353Z"
   },
   {
    "duration": 7,
    "start_time": "2022-06-18T07:43:39.387Z"
   },
   {
    "duration": 10,
    "start_time": "2022-06-18T07:43:39.395Z"
   },
   {
    "duration": 1063,
    "start_time": "2022-06-18T07:44:25.423Z"
   },
   {
    "duration": 47,
    "start_time": "2022-06-18T07:44:26.489Z"
   },
   {
    "duration": 12,
    "start_time": "2022-06-18T07:44:26.537Z"
   },
   {
    "duration": 11,
    "start_time": "2022-06-18T07:44:26.551Z"
   },
   {
    "duration": 20,
    "start_time": "2022-06-18T07:44:26.563Z"
   },
   {
    "duration": 8,
    "start_time": "2022-06-18T07:44:26.584Z"
   },
   {
    "duration": 9,
    "start_time": "2022-06-18T07:44:26.594Z"
   },
   {
    "duration": 14,
    "start_time": "2022-06-18T07:44:26.605Z"
   },
   {
    "duration": 6,
    "start_time": "2022-06-18T07:44:26.621Z"
   },
   {
    "duration": 10,
    "start_time": "2022-06-18T07:44:26.629Z"
   },
   {
    "duration": 21,
    "start_time": "2022-06-18T07:44:26.641Z"
   },
   {
    "duration": 8,
    "start_time": "2022-06-18T07:44:26.694Z"
   },
   {
    "duration": 15,
    "start_time": "2022-06-18T07:44:26.703Z"
   },
   {
    "duration": 13,
    "start_time": "2022-06-18T07:44:26.719Z"
   },
   {
    "duration": 13,
    "start_time": "2022-06-18T07:44:26.733Z"
   },
   {
    "duration": 9,
    "start_time": "2022-06-18T07:44:26.747Z"
   },
   {
    "duration": 7,
    "start_time": "2022-06-18T07:44:26.758Z"
   },
   {
    "duration": 381,
    "start_time": "2022-06-18T07:44:26.767Z"
   },
   {
    "duration": 11,
    "start_time": "2022-06-18T07:44:27.150Z"
   },
   {
    "duration": 32,
    "start_time": "2022-06-18T07:44:27.163Z"
   },
   {
    "duration": 1288,
    "start_time": "2022-06-18T07:44:27.197Z"
   },
   {
    "duration": 18,
    "start_time": "2022-06-18T07:44:28.487Z"
   },
   {
    "duration": 15,
    "start_time": "2022-06-18T07:44:28.506Z"
   },
   {
    "duration": 9,
    "start_time": "2022-06-18T07:44:28.522Z"
   },
   {
    "duration": 67,
    "start_time": "2022-06-18T07:44:28.532Z"
   },
   {
    "duration": 909,
    "start_time": "2022-06-18T07:44:28.600Z"
   },
   {
    "duration": 16,
    "start_time": "2022-06-18T07:44:29.510Z"
   },
   {
    "duration": 16,
    "start_time": "2022-06-18T07:44:29.529Z"
   },
   {
    "duration": 13,
    "start_time": "2022-06-18T07:44:29.546Z"
   },
   {
    "duration": 46,
    "start_time": "2022-06-18T07:44:29.561Z"
   },
   {
    "duration": 388,
    "start_time": "2022-06-18T07:44:29.609Z"
   },
   {
    "duration": 11,
    "start_time": "2022-06-18T07:44:29.998Z"
   },
   {
    "duration": 23,
    "start_time": "2022-06-18T07:44:30.010Z"
   },
   {
    "duration": 32,
    "start_time": "2022-06-18T07:44:30.034Z"
   },
   {
    "duration": 13,
    "start_time": "2022-06-18T07:44:30.068Z"
   },
   {
    "duration": 15,
    "start_time": "2022-06-18T07:44:30.082Z"
   },
   {
    "duration": 15,
    "start_time": "2022-06-18T07:44:30.099Z"
   },
   {
    "duration": 20,
    "start_time": "2022-06-18T07:44:30.116Z"
   },
   {
    "duration": 20,
    "start_time": "2022-06-18T07:44:30.137Z"
   },
   {
    "duration": 243,
    "start_time": "2022-06-18T07:44:30.158Z"
   },
   {
    "duration": 224,
    "start_time": "2022-06-18T07:44:30.403Z"
   },
   {
    "duration": 247,
    "start_time": "2022-06-18T07:44:30.629Z"
   },
   {
    "duration": 39,
    "start_time": "2022-06-18T07:44:30.878Z"
   },
   {
    "duration": 179,
    "start_time": "2022-06-18T07:44:30.919Z"
   },
   {
    "duration": 33,
    "start_time": "2022-06-18T07:44:31.100Z"
   },
   {
    "duration": 183,
    "start_time": "2022-06-18T07:44:31.134Z"
   },
   {
    "duration": 14,
    "start_time": "2022-06-18T07:44:31.319Z"
   },
   {
    "duration": 9,
    "start_time": "2022-06-18T07:44:31.335Z"
   },
   {
    "duration": 31,
    "start_time": "2022-06-18T07:44:31.346Z"
   },
   {
    "duration": 235,
    "start_time": "2022-06-18T07:44:31.379Z"
   },
   {
    "duration": 14,
    "start_time": "2022-06-18T07:44:31.616Z"
   },
   {
    "duration": 22,
    "start_time": "2022-06-18T07:44:31.632Z"
   },
   {
    "duration": 287,
    "start_time": "2022-06-18T07:44:31.655Z"
   },
   {
    "duration": 8,
    "start_time": "2022-06-18T07:44:40.826Z"
   },
   {
    "duration": 31,
    "start_time": "2022-06-18T07:44:48.674Z"
   },
   {
    "duration": 4,
    "start_time": "2022-06-18T07:44:58.383Z"
   },
   {
    "duration": 19,
    "start_time": "2022-06-18T07:45:02.329Z"
   },
   {
    "duration": 102,
    "start_time": "2022-06-18T07:46:07.081Z"
   },
   {
    "duration": 1079,
    "start_time": "2022-06-18T07:46:29.520Z"
   },
   {
    "duration": 48,
    "start_time": "2022-06-18T07:46:30.601Z"
   },
   {
    "duration": 13,
    "start_time": "2022-06-18T07:46:30.651Z"
   },
   {
    "duration": 21,
    "start_time": "2022-06-18T07:46:30.667Z"
   },
   {
    "duration": 26,
    "start_time": "2022-06-18T07:46:30.690Z"
   },
   {
    "duration": 16,
    "start_time": "2022-06-18T07:46:30.718Z"
   },
   {
    "duration": 15,
    "start_time": "2022-06-18T07:46:30.736Z"
   },
   {
    "duration": 25,
    "start_time": "2022-06-18T07:46:30.752Z"
   },
   {
    "duration": 21,
    "start_time": "2022-06-18T07:46:30.780Z"
   },
   {
    "duration": 24,
    "start_time": "2022-06-18T07:46:30.805Z"
   },
   {
    "duration": 34,
    "start_time": "2022-06-18T07:46:30.831Z"
   },
   {
    "duration": 7,
    "start_time": "2022-06-18T07:46:30.867Z"
   },
   {
    "duration": 19,
    "start_time": "2022-06-18T07:46:30.876Z"
   },
   {
    "duration": 14,
    "start_time": "2022-06-18T07:46:30.897Z"
   },
   {
    "duration": 23,
    "start_time": "2022-06-18T07:46:30.912Z"
   },
   {
    "duration": 15,
    "start_time": "2022-06-18T07:46:30.937Z"
   },
   {
    "duration": 16,
    "start_time": "2022-06-18T07:46:30.954Z"
   },
   {
    "duration": 389,
    "start_time": "2022-06-18T07:46:30.972Z"
   },
   {
    "duration": 14,
    "start_time": "2022-06-18T07:46:31.362Z"
   },
   {
    "duration": 34,
    "start_time": "2022-06-18T07:46:31.377Z"
   },
   {
    "duration": 1407,
    "start_time": "2022-06-18T07:46:31.413Z"
   },
   {
    "duration": 16,
    "start_time": "2022-06-18T07:46:32.821Z"
   },
   {
    "duration": 13,
    "start_time": "2022-06-18T07:46:32.839Z"
   },
   {
    "duration": 8,
    "start_time": "2022-06-18T07:46:32.853Z"
   },
   {
    "duration": 68,
    "start_time": "2022-06-18T07:46:32.863Z"
   },
   {
    "duration": 823,
    "start_time": "2022-06-18T07:46:32.933Z"
   },
   {
    "duration": 16,
    "start_time": "2022-06-18T07:46:33.758Z"
   },
   {
    "duration": 28,
    "start_time": "2022-06-18T07:46:33.777Z"
   },
   {
    "duration": 20,
    "start_time": "2022-06-18T07:46:33.807Z"
   },
   {
    "duration": 15,
    "start_time": "2022-06-18T07:46:33.828Z"
   },
   {
    "duration": 381,
    "start_time": "2022-06-18T07:46:33.844Z"
   },
   {
    "duration": 10,
    "start_time": "2022-06-18T07:46:34.227Z"
   },
   {
    "duration": 16,
    "start_time": "2022-06-18T07:46:34.239Z"
   },
   {
    "duration": 20,
    "start_time": "2022-06-18T07:46:34.257Z"
   },
   {
    "duration": 19,
    "start_time": "2022-06-18T07:46:34.278Z"
   },
   {
    "duration": 15,
    "start_time": "2022-06-18T07:46:34.299Z"
   },
   {
    "duration": 17,
    "start_time": "2022-06-18T07:46:34.316Z"
   },
   {
    "duration": 16,
    "start_time": "2022-06-18T07:46:34.334Z"
   },
   {
    "duration": 19,
    "start_time": "2022-06-18T07:46:34.351Z"
   },
   {
    "duration": 244,
    "start_time": "2022-06-18T07:46:34.371Z"
   },
   {
    "duration": 208,
    "start_time": "2022-06-18T07:46:34.617Z"
   },
   {
    "duration": 213,
    "start_time": "2022-06-18T07:46:34.826Z"
   },
   {
    "duration": 30,
    "start_time": "2022-06-18T07:46:35.041Z"
   },
   {
    "duration": 174,
    "start_time": "2022-06-18T07:46:35.073Z"
   },
   {
    "duration": 49,
    "start_time": "2022-06-18T07:46:35.249Z"
   },
   {
    "duration": 166,
    "start_time": "2022-06-18T07:46:35.300Z"
   },
   {
    "duration": 14,
    "start_time": "2022-06-18T07:46:35.468Z"
   },
   {
    "duration": 14,
    "start_time": "2022-06-18T07:46:35.484Z"
   },
   {
    "duration": 17,
    "start_time": "2022-06-18T07:46:35.500Z"
   },
   {
    "duration": 237,
    "start_time": "2022-06-18T07:46:35.518Z"
   },
   {
    "duration": 14,
    "start_time": "2022-06-18T07:46:35.757Z"
   },
   {
    "duration": 7,
    "start_time": "2022-06-18T07:46:35.772Z"
   },
   {
    "duration": 268,
    "start_time": "2022-06-18T07:46:35.794Z"
   },
   {
    "duration": 7,
    "start_time": "2022-06-18T07:46:36.064Z"
   },
   {
    "duration": 48,
    "start_time": "2022-06-18T07:46:36.073Z"
   },
   {
    "duration": 4,
    "start_time": "2022-06-18T07:46:42.209Z"
   },
   {
    "duration": 13,
    "start_time": "2022-06-18T07:46:44.607Z"
   },
   {
    "duration": 19,
    "start_time": "2022-06-18T07:46:56.367Z"
   },
   {
    "duration": 103,
    "start_time": "2022-06-18T07:47:02.712Z"
   },
   {
    "duration": 4,
    "start_time": "2022-06-18T07:47:48.383Z"
   },
   {
    "duration": 5,
    "start_time": "2022-06-18T07:51:28.543Z"
   },
   {
    "duration": 1095,
    "start_time": "2022-06-18T07:51:32.263Z"
   },
   {
    "duration": 16,
    "start_time": "2022-06-18T07:52:38.081Z"
   },
   {
    "duration": 1186,
    "start_time": "2022-06-18T07:53:48.989Z"
   },
   {
    "duration": 50,
    "start_time": "2022-06-18T07:53:50.178Z"
   },
   {
    "duration": 11,
    "start_time": "2022-06-18T07:53:50.230Z"
   },
   {
    "duration": 11,
    "start_time": "2022-06-18T07:53:50.243Z"
   },
   {
    "duration": 20,
    "start_time": "2022-06-18T07:53:50.256Z"
   },
   {
    "duration": 8,
    "start_time": "2022-06-18T07:53:50.277Z"
   },
   {
    "duration": 24,
    "start_time": "2022-06-18T07:53:50.295Z"
   },
   {
    "duration": 18,
    "start_time": "2022-06-18T07:53:50.321Z"
   },
   {
    "duration": 7,
    "start_time": "2022-06-18T07:53:50.340Z"
   },
   {
    "duration": 14,
    "start_time": "2022-06-18T07:53:50.348Z"
   },
   {
    "duration": 37,
    "start_time": "2022-06-18T07:53:50.363Z"
   },
   {
    "duration": 13,
    "start_time": "2022-06-18T07:53:50.402Z"
   },
   {
    "duration": 16,
    "start_time": "2022-06-18T07:53:50.416Z"
   },
   {
    "duration": 8,
    "start_time": "2022-06-18T07:53:50.435Z"
   },
   {
    "duration": 13,
    "start_time": "2022-06-18T07:53:50.444Z"
   },
   {
    "duration": 38,
    "start_time": "2022-06-18T07:53:50.459Z"
   },
   {
    "duration": 9,
    "start_time": "2022-06-18T07:53:50.501Z"
   },
   {
    "duration": 419,
    "start_time": "2022-06-18T07:53:50.512Z"
   },
   {
    "duration": 12,
    "start_time": "2022-06-18T07:53:50.933Z"
   },
   {
    "duration": 20,
    "start_time": "2022-06-18T07:53:50.946Z"
   },
   {
    "duration": 1472,
    "start_time": "2022-06-18T07:53:50.968Z"
   },
   {
    "duration": 19,
    "start_time": "2022-06-18T07:53:52.442Z"
   },
   {
    "duration": 36,
    "start_time": "2022-06-18T07:53:52.463Z"
   },
   {
    "duration": 15,
    "start_time": "2022-06-18T07:53:52.502Z"
   },
   {
    "duration": 52,
    "start_time": "2022-06-18T07:53:52.519Z"
   },
   {
    "duration": 870,
    "start_time": "2022-06-18T07:53:52.573Z"
   },
   {
    "duration": 17,
    "start_time": "2022-06-18T07:53:53.445Z"
   },
   {
    "duration": 32,
    "start_time": "2022-06-18T07:53:53.463Z"
   },
   {
    "duration": 13,
    "start_time": "2022-06-18T07:53:53.496Z"
   },
   {
    "duration": 16,
    "start_time": "2022-06-18T07:53:53.511Z"
   },
   {
    "duration": 389,
    "start_time": "2022-06-18T07:53:53.528Z"
   },
   {
    "duration": 12,
    "start_time": "2022-06-18T07:53:53.918Z"
   },
   {
    "duration": 14,
    "start_time": "2022-06-18T07:53:53.932Z"
   },
   {
    "duration": 24,
    "start_time": "2022-06-18T07:53:53.947Z"
   },
   {
    "duration": 22,
    "start_time": "2022-06-18T07:53:53.972Z"
   },
   {
    "duration": 13,
    "start_time": "2022-06-18T07:53:53.996Z"
   },
   {
    "duration": 17,
    "start_time": "2022-06-18T07:53:54.011Z"
   },
   {
    "duration": 17,
    "start_time": "2022-06-18T07:53:54.030Z"
   },
   {
    "duration": 15,
    "start_time": "2022-06-18T07:53:54.048Z"
   },
   {
    "duration": 269,
    "start_time": "2022-06-18T07:53:54.065Z"
   },
   {
    "duration": 226,
    "start_time": "2022-06-18T07:53:54.338Z"
   },
   {
    "duration": 242,
    "start_time": "2022-06-18T07:53:54.566Z"
   },
   {
    "duration": 37,
    "start_time": "2022-06-18T07:53:54.810Z"
   },
   {
    "duration": 185,
    "start_time": "2022-06-18T07:53:54.849Z"
   },
   {
    "duration": 35,
    "start_time": "2022-06-18T07:53:55.036Z"
   },
   {
    "duration": 196,
    "start_time": "2022-06-18T07:53:55.073Z"
   },
   {
    "duration": 28,
    "start_time": "2022-06-18T07:53:55.270Z"
   },
   {
    "duration": 10,
    "start_time": "2022-06-18T07:53:55.301Z"
   },
   {
    "duration": 22,
    "start_time": "2022-06-18T07:53:55.314Z"
   },
   {
    "duration": 242,
    "start_time": "2022-06-18T07:53:55.338Z"
   },
   {
    "duration": 26,
    "start_time": "2022-06-18T07:53:55.582Z"
   },
   {
    "duration": 19,
    "start_time": "2022-06-18T07:53:55.611Z"
   },
   {
    "duration": 279,
    "start_time": "2022-06-18T07:53:55.631Z"
   },
   {
    "duration": 8,
    "start_time": "2022-06-18T07:53:55.912Z"
   },
   {
    "duration": 43,
    "start_time": "2022-06-18T07:53:55.922Z"
   },
   {
    "duration": 4,
    "start_time": "2022-06-18T07:53:55.966Z"
   },
   {
    "duration": 16,
    "start_time": "2022-06-18T07:53:55.971Z"
   },
   {
    "duration": 18,
    "start_time": "2022-06-18T07:54:04.202Z"
   },
   {
    "duration": 109,
    "start_time": "2022-06-18T07:54:10.671Z"
   },
   {
    "duration": 5,
    "start_time": "2022-06-18T07:54:31.461Z"
   },
   {
    "duration": 1104,
    "start_time": "2022-06-18T07:54:36.650Z"
   },
   {
    "duration": 477,
    "start_time": "2022-06-18T07:55:00.728Z"
   },
   {
    "duration": 9,
    "start_time": "2022-06-18T07:55:12.248Z"
   },
   {
    "duration": 7,
    "start_time": "2022-06-18T07:57:43.236Z"
   },
   {
    "duration": 11,
    "start_time": "2022-06-18T07:57:55.964Z"
   },
   {
    "duration": 13,
    "start_time": "2022-06-18T07:58:59.304Z"
   },
   {
    "duration": 14,
    "start_time": "2022-06-18T08:00:41.031Z"
   },
   {
    "duration": 9,
    "start_time": "2022-06-18T08:02:29.795Z"
   },
   {
    "duration": 43,
    "start_time": "2022-06-18T08:03:10.324Z"
   },
   {
    "duration": 5,
    "start_time": "2022-06-18T08:05:13.775Z"
   },
   {
    "duration": 46,
    "start_time": "2022-06-18T08:05:16.977Z"
   },
   {
    "duration": 5,
    "start_time": "2022-06-18T08:05:57.742Z"
   },
   {
    "duration": 42,
    "start_time": "2022-06-18T08:05:59.409Z"
   },
   {
    "duration": 8,
    "start_time": "2022-06-18T08:06:14.800Z"
   },
   {
    "duration": 39,
    "start_time": "2022-06-18T08:06:16.705Z"
   },
   {
    "duration": 21,
    "start_time": "2022-06-18T08:08:20.007Z"
   },
   {
    "duration": 17,
    "start_time": "2022-06-18T08:08:32.198Z"
   },
   {
    "duration": 17,
    "start_time": "2022-06-18T08:08:35.503Z"
   },
   {
    "duration": 5,
    "start_time": "2022-06-18T08:08:56.159Z"
   },
   {
    "duration": 49,
    "start_time": "2022-06-18T08:08:59.984Z"
   },
   {
    "duration": 6,
    "start_time": "2022-06-18T08:09:28.033Z"
   },
   {
    "duration": 39,
    "start_time": "2022-06-18T08:09:31.030Z"
   },
   {
    "duration": 5,
    "start_time": "2022-06-18T08:09:57.415Z"
   },
   {
    "duration": 38,
    "start_time": "2022-06-18T08:09:59.732Z"
   },
   {
    "duration": 5,
    "start_time": "2022-06-18T08:10:41.952Z"
   },
   {
    "duration": 38,
    "start_time": "2022-06-18T08:10:44.446Z"
   },
   {
    "duration": 5,
    "start_time": "2022-06-18T08:12:55.070Z"
   },
   {
    "duration": 48,
    "start_time": "2022-06-18T08:12:57.182Z"
   },
   {
    "duration": 5,
    "start_time": "2022-06-18T08:13:29.949Z"
   },
   {
    "duration": 47,
    "start_time": "2022-06-18T08:13:32.503Z"
   },
   {
    "duration": 32,
    "start_time": "2022-06-18T08:15:06.516Z"
   },
   {
    "duration": 6,
    "start_time": "2022-06-18T08:15:17.613Z"
   },
   {
    "duration": 46,
    "start_time": "2022-06-18T08:15:19.477Z"
   },
   {
    "duration": 5,
    "start_time": "2022-06-18T08:17:38.467Z"
   },
   {
    "duration": 40,
    "start_time": "2022-06-18T08:17:40.333Z"
   },
   {
    "duration": 5,
    "start_time": "2022-06-18T08:21:04.060Z"
   },
   {
    "duration": 49,
    "start_time": "2022-06-18T08:21:06.085Z"
   },
   {
    "duration": 5,
    "start_time": "2022-06-18T08:22:05.107Z"
   },
   {
    "duration": 41,
    "start_time": "2022-06-18T08:22:08.409Z"
   },
   {
    "duration": 5,
    "start_time": "2022-06-18T08:23:29.274Z"
   },
   {
    "duration": 37,
    "start_time": "2022-06-18T08:23:35.952Z"
   },
   {
    "duration": 5,
    "start_time": "2022-06-18T08:25:16.150Z"
   },
   {
    "duration": 39,
    "start_time": "2022-06-18T08:25:18.434Z"
   },
   {
    "duration": 5,
    "start_time": "2022-06-18T08:26:04.260Z"
   },
   {
    "duration": 45,
    "start_time": "2022-06-18T08:26:06.746Z"
   },
   {
    "duration": 6,
    "start_time": "2022-06-18T08:30:13.536Z"
   },
   {
    "duration": 51,
    "start_time": "2022-06-18T08:30:15.165Z"
   },
   {
    "duration": 6,
    "start_time": "2022-06-18T08:31:30.879Z"
   },
   {
    "duration": 49,
    "start_time": "2022-06-18T08:31:32.415Z"
   },
   {
    "duration": 6,
    "start_time": "2022-06-18T08:32:06.142Z"
   },
   {
    "duration": 38,
    "start_time": "2022-06-18T08:32:07.749Z"
   },
   {
    "duration": 5,
    "start_time": "2022-06-18T08:33:46.666Z"
   },
   {
    "duration": 39,
    "start_time": "2022-06-18T08:33:49.254Z"
   },
   {
    "duration": 5,
    "start_time": "2022-06-18T08:35:37.823Z"
   },
   {
    "duration": 56,
    "start_time": "2022-06-18T08:35:39.139Z"
   },
   {
    "duration": 11,
    "start_time": "2022-06-18T08:36:40.289Z"
   },
   {
    "duration": 64,
    "start_time": "2022-06-18T08:36:41.960Z"
   },
   {
    "duration": 10,
    "start_time": "2022-06-18T08:38:17.410Z"
   },
   {
    "duration": 46,
    "start_time": "2022-06-18T08:38:18.828Z"
   },
   {
    "duration": 6,
    "start_time": "2022-06-18T08:39:15.355Z"
   },
   {
    "duration": 45,
    "start_time": "2022-06-18T08:39:16.865Z"
   },
   {
    "duration": 6,
    "start_time": "2022-06-18T08:39:53.942Z"
   },
   {
    "duration": 41,
    "start_time": "2022-06-18T08:39:55.339Z"
   },
   {
    "duration": 5,
    "start_time": "2022-06-18T08:41:54.806Z"
   },
   {
    "duration": 46,
    "start_time": "2022-06-18T08:41:56.062Z"
   },
   {
    "duration": 9,
    "start_time": "2022-06-18T08:43:24.790Z"
   },
   {
    "duration": 43,
    "start_time": "2022-06-18T08:43:27.054Z"
   },
   {
    "duration": 5,
    "start_time": "2022-06-18T08:43:55.880Z"
   },
   {
    "duration": 40,
    "start_time": "2022-06-18T08:43:57.344Z"
   },
   {
    "duration": 6,
    "start_time": "2022-06-18T08:46:44.370Z"
   },
   {
    "duration": 71,
    "start_time": "2022-06-18T08:47:28.858Z"
   },
   {
    "duration": 8,
    "start_time": "2022-06-18T08:48:50.248Z"
   },
   {
    "duration": 47,
    "start_time": "2022-06-18T08:48:52.855Z"
   },
   {
    "duration": 13,
    "start_time": "2022-06-18T08:50:52.742Z"
   },
   {
    "duration": 11,
    "start_time": "2022-06-18T08:50:54.959Z"
   },
   {
    "duration": 5,
    "start_time": "2022-06-18T08:51:00.570Z"
   },
   {
    "duration": 19,
    "start_time": "2022-06-18T08:51:02.687Z"
   },
   {
    "duration": 1191,
    "start_time": "2022-06-18T08:51:23.117Z"
   },
   {
    "duration": 48,
    "start_time": "2022-06-18T08:51:24.310Z"
   },
   {
    "duration": 12,
    "start_time": "2022-06-18T08:51:24.360Z"
   },
   {
    "duration": 12,
    "start_time": "2022-06-18T08:51:24.374Z"
   },
   {
    "duration": 27,
    "start_time": "2022-06-18T08:51:24.388Z"
   },
   {
    "duration": 10,
    "start_time": "2022-06-18T08:51:24.416Z"
   },
   {
    "duration": 12,
    "start_time": "2022-06-18T08:51:24.427Z"
   },
   {
    "duration": 20,
    "start_time": "2022-06-18T08:51:24.440Z"
   },
   {
    "duration": 8,
    "start_time": "2022-06-18T08:51:24.461Z"
   },
   {
    "duration": 17,
    "start_time": "2022-06-18T08:51:24.499Z"
   },
   {
    "duration": 22,
    "start_time": "2022-06-18T08:51:24.518Z"
   },
   {
    "duration": 6,
    "start_time": "2022-06-18T08:51:24.542Z"
   },
   {
    "duration": 11,
    "start_time": "2022-06-18T08:51:24.550Z"
   },
   {
    "duration": 36,
    "start_time": "2022-06-18T08:51:24.562Z"
   },
   {
    "duration": 16,
    "start_time": "2022-06-18T08:51:24.601Z"
   },
   {
    "duration": 9,
    "start_time": "2022-06-18T08:51:24.618Z"
   },
   {
    "duration": 4,
    "start_time": "2022-06-18T08:51:24.628Z"
   },
   {
    "duration": 422,
    "start_time": "2022-06-18T08:51:24.633Z"
   },
   {
    "duration": 13,
    "start_time": "2022-06-18T08:51:25.057Z"
   },
   {
    "duration": 41,
    "start_time": "2022-06-18T08:51:25.072Z"
   },
   {
    "duration": 1387,
    "start_time": "2022-06-18T08:51:25.115Z"
   },
   {
    "duration": 16,
    "start_time": "2022-06-18T08:51:26.508Z"
   },
   {
    "duration": 11,
    "start_time": "2022-06-18T08:51:26.526Z"
   },
   {
    "duration": 8,
    "start_time": "2022-06-18T08:51:26.538Z"
   },
   {
    "duration": 66,
    "start_time": "2022-06-18T08:51:26.548Z"
   },
   {
    "duration": 885,
    "start_time": "2022-06-18T08:51:26.615Z"
   },
   {
    "duration": 19,
    "start_time": "2022-06-18T08:51:27.503Z"
   },
   {
    "duration": 14,
    "start_time": "2022-06-18T08:51:27.526Z"
   },
   {
    "duration": 16,
    "start_time": "2022-06-18T08:51:27.542Z"
   },
   {
    "duration": 46,
    "start_time": "2022-06-18T08:51:27.561Z"
   },
   {
    "duration": 397,
    "start_time": "2022-06-18T08:51:27.610Z"
   },
   {
    "duration": 12,
    "start_time": "2022-06-18T08:51:28.010Z"
   },
   {
    "duration": 9,
    "start_time": "2022-06-18T08:51:28.023Z"
   },
   {
    "duration": 23,
    "start_time": "2022-06-18T08:51:28.034Z"
   },
   {
    "duration": 12,
    "start_time": "2022-06-18T08:51:28.059Z"
   },
   {
    "duration": 39,
    "start_time": "2022-06-18T08:51:28.073Z"
   },
   {
    "duration": 16,
    "start_time": "2022-06-18T08:51:28.114Z"
   },
   {
    "duration": 15,
    "start_time": "2022-06-18T08:51:28.132Z"
   },
   {
    "duration": 15,
    "start_time": "2022-06-18T08:51:28.148Z"
   },
   {
    "duration": 253,
    "start_time": "2022-06-18T08:51:28.165Z"
   },
   {
    "duration": 220,
    "start_time": "2022-06-18T08:51:28.420Z"
   },
   {
    "duration": 230,
    "start_time": "2022-06-18T08:51:28.642Z"
   },
   {
    "duration": 53,
    "start_time": "2022-06-18T08:51:28.874Z"
   },
   {
    "duration": 212,
    "start_time": "2022-06-18T08:51:28.929Z"
   },
   {
    "duration": 34,
    "start_time": "2022-06-18T08:51:29.143Z"
   },
   {
    "duration": 197,
    "start_time": "2022-06-18T08:51:29.180Z"
   },
   {
    "duration": 29,
    "start_time": "2022-06-18T08:51:29.378Z"
   },
   {
    "duration": 11,
    "start_time": "2022-06-18T08:51:29.409Z"
   },
   {
    "duration": 18,
    "start_time": "2022-06-18T08:51:29.421Z"
   },
   {
    "duration": 243,
    "start_time": "2022-06-18T08:51:29.440Z"
   },
   {
    "duration": 29,
    "start_time": "2022-06-18T08:51:29.685Z"
   },
   {
    "duration": 8,
    "start_time": "2022-06-18T08:51:29.715Z"
   },
   {
    "duration": 310,
    "start_time": "2022-06-18T08:51:29.724Z"
   },
   {
    "duration": 15,
    "start_time": "2022-06-18T08:51:30.036Z"
   },
   {
    "duration": 55,
    "start_time": "2022-06-18T08:51:30.053Z"
   },
   {
    "duration": 3,
    "start_time": "2022-06-18T08:51:30.110Z"
   },
   {
    "duration": 18,
    "start_time": "2022-06-18T08:51:30.114Z"
   },
   {
    "duration": 22,
    "start_time": "2022-06-18T08:51:30.134Z"
   },
   {
    "duration": 9,
    "start_time": "2022-06-18T08:51:30.158Z"
   },
   {
    "duration": 1260,
    "start_time": "2022-06-18T08:51:30.168Z"
   },
   {
    "duration": 16,
    "start_time": "2022-06-18T08:51:31.431Z"
   },
   {
    "duration": 12,
    "start_time": "2022-06-18T08:51:35.091Z"
   },
   {
    "duration": 46,
    "start_time": "2022-06-18T08:51:40.066Z"
   },
   {
    "duration": 8,
    "start_time": "2022-06-18T08:53:54.891Z"
   },
   {
    "duration": 45,
    "start_time": "2022-06-18T08:53:57.244Z"
   },
   {
    "duration": 7,
    "start_time": "2022-06-18T08:57:31.428Z"
   },
   {
    "duration": 42,
    "start_time": "2022-06-18T08:57:33.121Z"
   },
   {
    "duration": 6,
    "start_time": "2022-06-18T09:01:28.183Z"
   },
   {
    "duration": 48,
    "start_time": "2022-06-18T09:01:29.858Z"
   },
   {
    "duration": 51,
    "start_time": "2022-06-18T09:02:00.621Z"
   },
   {
    "duration": 7,
    "start_time": "2022-06-18T09:06:08.454Z"
   },
   {
    "duration": 54,
    "start_time": "2022-06-18T09:06:09.970Z"
   },
   {
    "duration": 57,
    "start_time": "2022-06-18T09:06:17.065Z"
   },
   {
    "duration": 6,
    "start_time": "2022-06-18T09:11:24.681Z"
   },
   {
    "duration": 54,
    "start_time": "2022-06-18T09:11:26.922Z"
   },
   {
    "duration": 57,
    "start_time": "2022-06-18T09:56:25.630Z"
   },
   {
    "duration": 8,
    "start_time": "2022-06-18T10:03:56.471Z"
   },
   {
    "duration": 51,
    "start_time": "2022-06-18T10:03:59.454Z"
   },
   {
    "duration": 9,
    "start_time": "2022-06-18T10:10:55.121Z"
   },
   {
    "duration": 53,
    "start_time": "2022-06-18T10:10:56.918Z"
   },
   {
    "duration": 8,
    "start_time": "2022-06-18T10:12:33.323Z"
   },
   {
    "duration": 51,
    "start_time": "2022-06-18T10:12:35.236Z"
   },
   {
    "duration": 8,
    "start_time": "2022-06-18T10:12:48.083Z"
   },
   {
    "duration": 61,
    "start_time": "2022-06-18T10:12:50.698Z"
   },
   {
    "duration": 9,
    "start_time": "2022-06-18T10:18:28.765Z"
   },
   {
    "duration": 49,
    "start_time": "2022-06-18T10:18:30.936Z"
   },
   {
    "duration": 9,
    "start_time": "2022-06-18T10:23:40.476Z"
   },
   {
    "duration": 48,
    "start_time": "2022-06-18T10:23:42.724Z"
   },
   {
    "duration": 8,
    "start_time": "2022-06-18T10:27:54.847Z"
   },
   {
    "duration": 51,
    "start_time": "2022-06-18T10:27:57.902Z"
   },
   {
    "duration": 10,
    "start_time": "2022-06-18T10:31:24.182Z"
   },
   {
    "duration": 8,
    "start_time": "2022-06-18T10:31:26.772Z"
   },
   {
    "duration": 52,
    "start_time": "2022-06-18T10:31:28.389Z"
   },
   {
    "duration": 12,
    "start_time": "2022-06-18T10:36:50.670Z"
   },
   {
    "duration": 49,
    "start_time": "2022-06-18T10:36:52.531Z"
   },
   {
    "duration": 11,
    "start_time": "2022-06-18T10:39:27.829Z"
   },
   {
    "duration": 55,
    "start_time": "2022-06-18T10:39:29.227Z"
   },
   {
    "duration": 32,
    "start_time": "2022-06-18T10:42:45.505Z"
   },
   {
    "duration": 61,
    "start_time": "2022-06-18T10:42:57.740Z"
   },
   {
    "duration": 10,
    "start_time": "2022-06-18T10:47:35.466Z"
   },
   {
    "duration": 66,
    "start_time": "2022-06-18T10:47:37.507Z"
   },
   {
    "duration": 11,
    "start_time": "2022-06-18T10:54:54.953Z"
   },
   {
    "duration": 50,
    "start_time": "2022-06-18T10:54:56.814Z"
   },
   {
    "duration": 12,
    "start_time": "2022-06-18T11:00:22.452Z"
   },
   {
    "duration": 50,
    "start_time": "2022-06-18T11:00:24.320Z"
   },
   {
    "duration": 11,
    "start_time": "2022-06-18T11:08:51.786Z"
   },
   {
    "duration": 60,
    "start_time": "2022-06-18T11:08:55.533Z"
   },
   {
    "duration": 13,
    "start_time": "2022-06-18T11:23:27.006Z"
   },
   {
    "duration": 46,
    "start_time": "2022-06-18T11:23:29.529Z"
   },
   {
    "duration": 13,
    "start_time": "2022-06-18T11:29:12.224Z"
   },
   {
    "duration": 46,
    "start_time": "2022-06-18T11:29:13.750Z"
   },
   {
    "duration": 12,
    "start_time": "2022-06-18T11:46:19.929Z"
   },
   {
    "duration": 55,
    "start_time": "2022-06-18T11:46:21.744Z"
   },
   {
    "duration": 12,
    "start_time": "2022-06-18T11:52:52.678Z"
   },
   {
    "duration": 45,
    "start_time": "2022-06-18T11:52:55.358Z"
   },
   {
    "duration": 14,
    "start_time": "2022-06-18T11:56:57.863Z"
   },
   {
    "duration": 40,
    "start_time": "2022-06-18T11:56:59.861Z"
   },
   {
    "duration": 16,
    "start_time": "2022-06-18T11:57:53.153Z"
   },
   {
    "duration": 35,
    "start_time": "2022-06-18T11:57:54.789Z"
   },
   {
    "duration": 45,
    "start_time": "2022-06-18T11:58:22.748Z"
   },
   {
    "duration": 50,
    "start_time": "2022-06-18T11:58:53.253Z"
   },
   {
    "duration": 14,
    "start_time": "2022-06-18T11:59:14.808Z"
   },
   {
    "duration": 65,
    "start_time": "2022-06-18T11:59:16.990Z"
   },
   {
    "duration": 12,
    "start_time": "2022-06-18T11:59:32.877Z"
   },
   {
    "duration": 65,
    "start_time": "2022-06-18T11:59:34.678Z"
   },
   {
    "duration": 63,
    "start_time": "2022-06-18T11:59:56.051Z"
   },
   {
    "duration": 56,
    "start_time": "2022-06-18T12:01:33.999Z"
   },
   {
    "duration": 51,
    "start_time": "2022-06-18T12:03:07.095Z"
   },
   {
    "duration": 52,
    "start_time": "2022-06-18T12:03:29.359Z"
   },
   {
    "duration": 13,
    "start_time": "2022-06-18T12:06:32.170Z"
   },
   {
    "duration": 52,
    "start_time": "2022-06-18T12:06:33.642Z"
   },
   {
    "duration": 52,
    "start_time": "2022-06-18T12:07:36.883Z"
   },
   {
    "duration": 60,
    "start_time": "2022-06-18T12:10:42.397Z"
   },
   {
    "duration": 53,
    "start_time": "2022-06-18T12:11:23.864Z"
   },
   {
    "duration": 59,
    "start_time": "2022-06-18T12:12:12.496Z"
   },
   {
    "duration": 50,
    "start_time": "2022-06-18T12:14:45.554Z"
   },
   {
    "duration": 14,
    "start_time": "2022-06-18T12:15:52.341Z"
   },
   {
    "duration": 53,
    "start_time": "2022-06-18T12:15:54.427Z"
   },
   {
    "duration": 52,
    "start_time": "2022-06-18T12:16:57.079Z"
   },
   {
    "duration": 50,
    "start_time": "2022-06-18T12:17:48.465Z"
   },
   {
    "duration": 13,
    "start_time": "2022-06-18T12:21:51.655Z"
   },
   {
    "duration": 56,
    "start_time": "2022-06-18T12:21:53.841Z"
   },
   {
    "duration": 53,
    "start_time": "2022-06-18T12:22:55.226Z"
   },
   {
    "duration": 47,
    "start_time": "2022-06-18T12:23:53.803Z"
   },
   {
    "duration": 51,
    "start_time": "2022-06-18T12:24:34.216Z"
   },
   {
    "duration": 49,
    "start_time": "2022-06-18T12:27:23.271Z"
   },
   {
    "duration": 45,
    "start_time": "2022-06-18T12:27:55.806Z"
   },
   {
    "duration": 13,
    "start_time": "2022-06-18T12:32:10.977Z"
   },
   {
    "duration": 40,
    "start_time": "2022-06-18T12:32:13.267Z"
   },
   {
    "duration": 16,
    "start_time": "2022-06-18T12:32:54.735Z"
   },
   {
    "duration": 15,
    "start_time": "2022-06-18T12:33:30.073Z"
   },
   {
    "duration": 20,
    "start_time": "2022-06-18T12:38:03.948Z"
   },
   {
    "duration": 11,
    "start_time": "2022-06-18T12:40:19.162Z"
   },
   {
    "duration": 12,
    "start_time": "2022-06-18T12:41:36.542Z"
   },
   {
    "duration": 14,
    "start_time": "2022-06-18T12:42:25.215Z"
   },
   {
    "duration": 13,
    "start_time": "2022-06-18T12:42:40.792Z"
   },
   {
    "duration": 13,
    "start_time": "2022-06-18T12:44:20.165Z"
   },
   {
    "duration": 13,
    "start_time": "2022-06-18T12:45:34.524Z"
   },
   {
    "duration": 17,
    "start_time": "2022-06-18T12:47:55.094Z"
   },
   {
    "duration": 21,
    "start_time": "2022-06-18T12:48:10.589Z"
   },
   {
    "duration": 68,
    "start_time": "2022-06-19T05:26:32.396Z"
   },
   {
    "duration": 1305,
    "start_time": "2022-06-19T05:26:41.464Z"
   },
   {
    "duration": 170,
    "start_time": "2022-06-19T05:26:42.771Z"
   },
   {
    "duration": 12,
    "start_time": "2022-06-19T05:26:42.944Z"
   },
   {
    "duration": 12,
    "start_time": "2022-06-19T05:26:42.958Z"
   },
   {
    "duration": 17,
    "start_time": "2022-06-19T05:26:42.973Z"
   },
   {
    "duration": 10,
    "start_time": "2022-06-19T05:26:42.991Z"
   },
   {
    "duration": 29,
    "start_time": "2022-06-19T05:26:43.003Z"
   },
   {
    "duration": 18,
    "start_time": "2022-06-19T05:26:43.034Z"
   },
   {
    "duration": 9,
    "start_time": "2022-06-19T05:26:43.054Z"
   },
   {
    "duration": 14,
    "start_time": "2022-06-19T05:26:43.065Z"
   },
   {
    "duration": 54,
    "start_time": "2022-06-19T05:26:43.081Z"
   },
   {
    "duration": 6,
    "start_time": "2022-06-19T05:26:43.137Z"
   },
   {
    "duration": 18,
    "start_time": "2022-06-19T05:26:43.145Z"
   },
   {
    "duration": 12,
    "start_time": "2022-06-19T05:26:43.166Z"
   },
   {
    "duration": 15,
    "start_time": "2022-06-19T05:26:43.179Z"
   },
   {
    "duration": 32,
    "start_time": "2022-06-19T05:26:43.196Z"
   },
   {
    "duration": 5,
    "start_time": "2022-06-19T05:26:43.230Z"
   },
   {
    "duration": 391,
    "start_time": "2022-06-19T05:26:43.237Z"
   },
   {
    "duration": 13,
    "start_time": "2022-06-19T05:26:43.630Z"
   },
   {
    "duration": 24,
    "start_time": "2022-06-19T05:26:43.645Z"
   },
   {
    "duration": 1417,
    "start_time": "2022-06-19T05:26:43.671Z"
   },
   {
    "duration": 17,
    "start_time": "2022-06-19T05:26:45.091Z"
   },
   {
    "duration": 31,
    "start_time": "2022-06-19T05:26:45.110Z"
   },
   {
    "duration": 11,
    "start_time": "2022-06-19T05:26:45.142Z"
   },
   {
    "duration": 73,
    "start_time": "2022-06-19T05:26:45.154Z"
   },
   {
    "duration": 821,
    "start_time": "2022-06-19T05:26:45.229Z"
   },
   {
    "duration": 17,
    "start_time": "2022-06-19T05:26:46.052Z"
   },
   {
    "duration": 17,
    "start_time": "2022-06-19T05:26:46.071Z"
   },
   {
    "duration": 44,
    "start_time": "2022-06-19T05:26:46.089Z"
   },
   {
    "duration": 23,
    "start_time": "2022-06-19T05:26:46.136Z"
   },
   {
    "duration": 388,
    "start_time": "2022-06-19T05:26:46.161Z"
   },
   {
    "duration": 15,
    "start_time": "2022-06-19T05:26:46.551Z"
   },
   {
    "duration": 16,
    "start_time": "2022-06-19T05:26:46.568Z"
   },
   {
    "duration": 22,
    "start_time": "2022-06-19T05:26:46.585Z"
   },
   {
    "duration": 27,
    "start_time": "2022-06-19T05:26:46.609Z"
   },
   {
    "duration": 15,
    "start_time": "2022-06-19T05:26:46.638Z"
   },
   {
    "duration": 25,
    "start_time": "2022-06-19T05:26:46.655Z"
   },
   {
    "duration": 16,
    "start_time": "2022-06-19T05:26:46.682Z"
   },
   {
    "duration": 28,
    "start_time": "2022-06-19T05:26:46.700Z"
   },
   {
    "duration": 244,
    "start_time": "2022-06-19T05:26:46.729Z"
   },
   {
    "duration": 256,
    "start_time": "2022-06-19T05:26:46.979Z"
   },
   {
    "duration": 227,
    "start_time": "2022-06-19T05:26:47.237Z"
   },
   {
    "duration": 41,
    "start_time": "2022-06-19T05:26:47.466Z"
   },
   {
    "duration": 189,
    "start_time": "2022-06-19T05:26:47.509Z"
   },
   {
    "duration": 42,
    "start_time": "2022-06-19T05:26:47.700Z"
   },
   {
    "duration": 177,
    "start_time": "2022-06-19T05:26:47.745Z"
   },
   {
    "duration": 15,
    "start_time": "2022-06-19T05:26:47.925Z"
   },
   {
    "duration": 7,
    "start_time": "2022-06-19T05:26:47.942Z"
   },
   {
    "duration": 28,
    "start_time": "2022-06-19T05:26:47.950Z"
   },
   {
    "duration": 246,
    "start_time": "2022-06-19T05:26:47.980Z"
   },
   {
    "duration": 14,
    "start_time": "2022-06-19T05:26:48.227Z"
   },
   {
    "duration": 11,
    "start_time": "2022-06-19T05:26:48.242Z"
   },
   {
    "duration": 281,
    "start_time": "2022-06-19T05:26:48.254Z"
   },
   {
    "duration": 13,
    "start_time": "2022-06-19T05:26:48.536Z"
   },
   {
    "duration": 50,
    "start_time": "2022-06-19T05:26:48.551Z"
   },
   {
    "duration": 4,
    "start_time": "2022-06-19T05:26:48.603Z"
   },
   {
    "duration": 23,
    "start_time": "2022-06-19T05:26:48.609Z"
   },
   {
    "duration": 29,
    "start_time": "2022-06-19T05:26:48.635Z"
   },
   {
    "duration": 63,
    "start_time": "2022-06-19T05:26:48.666Z"
   },
   {
    "duration": 2071,
    "start_time": "2022-06-19T05:26:48.731Z"
   },
   {
    "duration": 22,
    "start_time": "2022-06-19T05:26:50.805Z"
   },
   {
    "duration": 20,
    "start_time": "2022-06-19T05:26:50.830Z"
   },
   {
    "duration": 52,
    "start_time": "2022-06-19T05:26:50.852Z"
   },
   {
    "duration": 21,
    "start_time": "2022-06-19T05:26:50.907Z"
   },
   {
    "duration": 24,
    "start_time": "2022-06-19T05:26:50.930Z"
   },
   {
    "duration": 17,
    "start_time": "2022-06-19T05:26:50.956Z"
   },
   {
    "duration": 1343,
    "start_time": "2022-06-19T05:27:41.839Z"
   },
   {
    "duration": 1420,
    "start_time": "2022-06-19T05:28:02.071Z"
   },
   {
    "duration": 1507,
    "start_time": "2022-06-19T05:28:20.642Z"
   },
   {
    "duration": 1405,
    "start_time": "2022-06-19T05:28:39.394Z"
   },
   {
    "duration": 1395,
    "start_time": "2022-06-19T05:28:58.262Z"
   },
   {
    "duration": 1575,
    "start_time": "2022-06-19T05:29:14.679Z"
   },
   {
    "duration": 941,
    "start_time": "2022-06-19T05:29:22.119Z"
   },
   {
    "duration": 245,
    "start_time": "2022-06-19T05:29:29.662Z"
   },
   {
    "duration": 1602,
    "start_time": "2022-06-19T05:29:35.167Z"
   },
   {
    "duration": 1695,
    "start_time": "2022-06-19T05:30:24.212Z"
   },
   {
    "duration": 1945,
    "start_time": "2022-06-19T05:30:43.173Z"
   },
   {
    "duration": 936,
    "start_time": "2022-06-19T05:36:26.778Z"
   },
   {
    "duration": 429,
    "start_time": "2022-06-19T05:39:47.294Z"
   },
   {
    "duration": 3,
    "start_time": "2022-06-19T05:50:18.780Z"
   },
   {
    "duration": 34,
    "start_time": "2022-06-19T05:50:40.847Z"
   },
   {
    "duration": 253,
    "start_time": "2022-06-19T05:51:00.446Z"
   },
   {
    "duration": 4,
    "start_time": "2022-06-19T05:51:20.266Z"
   },
   {
    "duration": 233,
    "start_time": "2022-06-19T05:51:23.966Z"
   },
   {
    "duration": 4,
    "start_time": "2022-06-19T05:53:21.086Z"
   },
   {
    "duration": 257,
    "start_time": "2022-06-19T05:53:24.622Z"
   },
   {
    "duration": 4,
    "start_time": "2022-06-19T05:53:36.973Z"
   },
   {
    "duration": 244,
    "start_time": "2022-06-19T05:53:40.857Z"
   },
   {
    "duration": 5,
    "start_time": "2022-06-19T05:57:24.404Z"
   },
   {
    "duration": 259,
    "start_time": "2022-06-19T05:57:26.418Z"
   },
   {
    "duration": 7,
    "start_time": "2022-06-19T06:03:06.456Z"
   },
   {
    "duration": 283,
    "start_time": "2022-06-19T06:03:08.894Z"
   },
   {
    "duration": 258,
    "start_time": "2022-06-19T06:03:49.129Z"
   },
   {
    "duration": 4,
    "start_time": "2022-06-19T06:04:47.310Z"
   },
   {
    "duration": 428,
    "start_time": "2022-06-19T06:04:49.422Z"
   },
   {
    "duration": 5,
    "start_time": "2022-06-19T06:06:56.158Z"
   },
   {
    "duration": 244,
    "start_time": "2022-06-19T06:06:58.166Z"
   },
   {
    "duration": 309,
    "start_time": "2022-06-19T06:07:30.996Z"
   },
   {
    "duration": 293,
    "start_time": "2022-06-19T06:08:04.210Z"
   },
   {
    "duration": 260,
    "start_time": "2022-06-19T06:08:08.249Z"
   },
   {
    "duration": 268,
    "start_time": "2022-06-19T06:11:39.304Z"
   },
   {
    "duration": 21,
    "start_time": "2022-06-19T06:16:29.116Z"
   },
   {
    "duration": 50,
    "start_time": "2022-06-19T06:16:49.913Z"
   },
   {
    "duration": 191,
    "start_time": "2022-06-19T06:17:46.177Z"
   },
   {
    "duration": 51,
    "start_time": "2022-06-19T06:24:36.755Z"
   },
   {
    "duration": 8,
    "start_time": "2022-06-19T06:30:39.542Z"
   },
   {
    "duration": 313,
    "start_time": "2022-06-19T06:31:50.099Z"
   },
   {
    "duration": 262,
    "start_time": "2022-06-19T06:32:06.651Z"
   },
   {
    "duration": 310,
    "start_time": "2022-06-19T06:34:40.246Z"
   },
   {
    "duration": 18,
    "start_time": "2022-06-19T06:35:49.051Z"
   },
   {
    "duration": 245,
    "start_time": "2022-06-19T06:36:37.154Z"
   },
   {
    "duration": 229,
    "start_time": "2022-06-19T06:41:17.452Z"
   },
   {
    "duration": 252,
    "start_time": "2022-06-19T06:43:24.021Z"
   },
   {
    "duration": 9,
    "start_time": "2022-06-19T06:57:46.854Z"
   },
   {
    "duration": 12,
    "start_time": "2022-06-19T07:05:00.009Z"
   },
   {
    "duration": 33,
    "start_time": "2022-06-19T07:05:56.153Z"
   },
   {
    "duration": 8,
    "start_time": "2022-06-19T07:06:58.912Z"
   },
   {
    "duration": 18,
    "start_time": "2022-06-19T07:08:30.941Z"
   },
   {
    "duration": 14,
    "start_time": "2022-06-19T07:09:58.169Z"
   },
   {
    "duration": 13,
    "start_time": "2022-06-19T07:10:20.082Z"
   },
   {
    "duration": 135,
    "start_time": "2022-06-19T07:34:09.476Z"
   },
   {
    "duration": 25,
    "start_time": "2022-06-19T07:35:13.300Z"
   },
   {
    "duration": 29,
    "start_time": "2022-06-19T07:35:26.244Z"
   },
   {
    "duration": 18,
    "start_time": "2022-06-19T07:35:41.456Z"
   },
   {
    "duration": 17,
    "start_time": "2022-06-19T07:35:45.674Z"
   },
   {
    "duration": 12,
    "start_time": "2022-06-19T07:40:19.396Z"
   },
   {
    "duration": 24,
    "start_time": "2022-06-19T07:40:51.950Z"
   },
   {
    "duration": 14,
    "start_time": "2022-06-19T07:41:12.676Z"
   },
   {
    "duration": 20,
    "start_time": "2022-06-19T07:42:10.063Z"
   },
   {
    "duration": 22,
    "start_time": "2022-06-19T07:42:48.648Z"
   },
   {
    "duration": 28,
    "start_time": "2022-06-19T07:43:11.316Z"
   },
   {
    "duration": 24,
    "start_time": "2022-06-19T07:43:31.060Z"
   },
   {
    "duration": 24,
    "start_time": "2022-06-19T07:43:50.810Z"
   },
   {
    "duration": 20,
    "start_time": "2022-06-19T07:44:12.973Z"
   },
   {
    "duration": 52,
    "start_time": "2022-06-19T07:44:40.740Z"
   },
   {
    "duration": 24,
    "start_time": "2022-06-19T07:46:04.148Z"
   },
   {
    "duration": 25,
    "start_time": "2022-06-19T07:46:21.641Z"
   },
   {
    "duration": 27,
    "start_time": "2022-06-19T07:46:45.553Z"
   },
   {
    "duration": 27,
    "start_time": "2022-06-19T07:47:03.764Z"
   },
   {
    "duration": 17,
    "start_time": "2022-06-19T07:47:21.872Z"
   },
   {
    "duration": 39,
    "start_time": "2022-06-19T07:47:35.330Z"
   },
   {
    "duration": 1302,
    "start_time": "2022-06-19T07:51:13.502Z"
   },
   {
    "duration": 69,
    "start_time": "2022-06-19T07:51:14.807Z"
   },
   {
    "duration": 15,
    "start_time": "2022-06-19T07:51:14.877Z"
   },
   {
    "duration": 14,
    "start_time": "2022-06-19T07:51:14.894Z"
   },
   {
    "duration": 32,
    "start_time": "2022-06-19T07:51:14.911Z"
   },
   {
    "duration": 36,
    "start_time": "2022-06-19T07:51:14.945Z"
   },
   {
    "duration": 28,
    "start_time": "2022-06-19T07:51:14.983Z"
   },
   {
    "duration": 68,
    "start_time": "2022-06-19T07:51:15.013Z"
   },
   {
    "duration": 9,
    "start_time": "2022-06-19T07:51:15.083Z"
   },
   {
    "duration": 16,
    "start_time": "2022-06-19T07:51:15.094Z"
   },
   {
    "duration": 36,
    "start_time": "2022-06-19T07:51:15.112Z"
   },
   {
    "duration": 23,
    "start_time": "2022-06-19T07:51:15.153Z"
   },
   {
    "duration": 15,
    "start_time": "2022-06-19T07:51:15.178Z"
   },
   {
    "duration": 13,
    "start_time": "2022-06-19T07:51:15.197Z"
   },
   {
    "duration": 12,
    "start_time": "2022-06-19T07:51:15.211Z"
   },
   {
    "duration": 33,
    "start_time": "2022-06-19T07:51:15.231Z"
   },
   {
    "duration": 7,
    "start_time": "2022-06-19T07:51:15.266Z"
   },
   {
    "duration": 405,
    "start_time": "2022-06-19T07:51:15.275Z"
   },
   {
    "duration": 6,
    "start_time": "2022-06-19T07:51:15.682Z"
   },
   {
    "duration": 21,
    "start_time": "2022-06-19T07:51:15.689Z"
   },
   {
    "duration": 27,
    "start_time": "2022-06-19T07:51:15.712Z"
   },
   {
    "duration": 1539,
    "start_time": "2022-06-19T07:51:15.741Z"
   },
   {
    "duration": 20,
    "start_time": "2022-06-19T07:51:17.282Z"
   },
   {
    "duration": 32,
    "start_time": "2022-06-19T07:51:17.304Z"
   },
   {
    "duration": 36,
    "start_time": "2022-06-19T07:51:17.338Z"
   },
   {
    "duration": 45,
    "start_time": "2022-06-19T07:51:17.376Z"
   },
   {
    "duration": 123,
    "start_time": "2022-06-19T07:51:17.423Z"
   },
   {
    "duration": 0,
    "start_time": "2022-06-19T07:51:17.551Z"
   },
   {
    "duration": 0,
    "start_time": "2022-06-19T07:51:17.553Z"
   },
   {
    "duration": 0,
    "start_time": "2022-06-19T07:51:17.554Z"
   },
   {
    "duration": 0,
    "start_time": "2022-06-19T07:51:17.555Z"
   },
   {
    "duration": 0,
    "start_time": "2022-06-19T07:51:17.557Z"
   },
   {
    "duration": 0,
    "start_time": "2022-06-19T07:51:17.558Z"
   },
   {
    "duration": 0,
    "start_time": "2022-06-19T07:51:17.559Z"
   },
   {
    "duration": 0,
    "start_time": "2022-06-19T07:51:17.560Z"
   },
   {
    "duration": 0,
    "start_time": "2022-06-19T07:51:17.561Z"
   },
   {
    "duration": 1,
    "start_time": "2022-06-19T07:51:17.562Z"
   },
   {
    "duration": 0,
    "start_time": "2022-06-19T07:51:17.566Z"
   },
   {
    "duration": 1,
    "start_time": "2022-06-19T07:51:17.567Z"
   },
   {
    "duration": 0,
    "start_time": "2022-06-19T07:51:17.569Z"
   },
   {
    "duration": 0,
    "start_time": "2022-06-19T07:51:17.570Z"
   },
   {
    "duration": 0,
    "start_time": "2022-06-19T07:51:17.572Z"
   },
   {
    "duration": 0,
    "start_time": "2022-06-19T07:51:17.573Z"
   },
   {
    "duration": 0,
    "start_time": "2022-06-19T07:51:17.575Z"
   },
   {
    "duration": 0,
    "start_time": "2022-06-19T07:51:17.576Z"
   },
   {
    "duration": 0,
    "start_time": "2022-06-19T07:51:17.578Z"
   },
   {
    "duration": 0,
    "start_time": "2022-06-19T07:51:17.579Z"
   },
   {
    "duration": 0,
    "start_time": "2022-06-19T07:51:17.581Z"
   },
   {
    "duration": 0,
    "start_time": "2022-06-19T07:51:17.583Z"
   },
   {
    "duration": 0,
    "start_time": "2022-06-19T07:51:17.584Z"
   },
   {
    "duration": 0,
    "start_time": "2022-06-19T07:51:17.586Z"
   },
   {
    "duration": 0,
    "start_time": "2022-06-19T07:51:17.626Z"
   },
   {
    "duration": 0,
    "start_time": "2022-06-19T07:51:17.627Z"
   },
   {
    "duration": 0,
    "start_time": "2022-06-19T07:51:17.628Z"
   },
   {
    "duration": 0,
    "start_time": "2022-06-19T07:51:17.630Z"
   },
   {
    "duration": 0,
    "start_time": "2022-06-19T07:51:17.630Z"
   },
   {
    "duration": 0,
    "start_time": "2022-06-19T07:51:17.631Z"
   },
   {
    "duration": 0,
    "start_time": "2022-06-19T07:51:17.632Z"
   },
   {
    "duration": 0,
    "start_time": "2022-06-19T07:51:17.633Z"
   },
   {
    "duration": 0,
    "start_time": "2022-06-19T07:51:17.634Z"
   },
   {
    "duration": 0,
    "start_time": "2022-06-19T07:51:17.636Z"
   },
   {
    "duration": 0,
    "start_time": "2022-06-19T07:51:17.639Z"
   },
   {
    "duration": 0,
    "start_time": "2022-06-19T07:51:17.640Z"
   },
   {
    "duration": 0,
    "start_time": "2022-06-19T07:51:17.641Z"
   },
   {
    "duration": 0,
    "start_time": "2022-06-19T07:51:17.641Z"
   },
   {
    "duration": 0,
    "start_time": "2022-06-19T07:51:17.643Z"
   },
   {
    "duration": 0,
    "start_time": "2022-06-19T07:51:17.644Z"
   },
   {
    "duration": 0,
    "start_time": "2022-06-19T07:51:17.645Z"
   },
   {
    "duration": 0,
    "start_time": "2022-06-19T07:51:17.646Z"
   },
   {
    "duration": 0,
    "start_time": "2022-06-19T07:51:17.649Z"
   },
   {
    "duration": 0,
    "start_time": "2022-06-19T07:51:17.649Z"
   },
   {
    "duration": 0,
    "start_time": "2022-06-19T07:51:17.651Z"
   },
   {
    "duration": 18,
    "start_time": "2022-06-19T07:56:26.773Z"
   },
   {
    "duration": 1279,
    "start_time": "2022-06-19T07:59:10.903Z"
   },
   {
    "duration": 49,
    "start_time": "2022-06-19T07:59:12.184Z"
   },
   {
    "duration": 13,
    "start_time": "2022-06-19T07:59:12.235Z"
   },
   {
    "duration": 38,
    "start_time": "2022-06-19T07:59:12.249Z"
   },
   {
    "duration": 20,
    "start_time": "2022-06-19T07:59:12.290Z"
   },
   {
    "duration": 8,
    "start_time": "2022-06-19T07:59:12.312Z"
   },
   {
    "duration": 71,
    "start_time": "2022-06-19T07:59:12.321Z"
   },
   {
    "duration": 25,
    "start_time": "2022-06-19T07:59:12.394Z"
   },
   {
    "duration": 11,
    "start_time": "2022-06-19T07:59:12.420Z"
   },
   {
    "duration": 39,
    "start_time": "2022-06-19T07:59:12.432Z"
   },
   {
    "duration": 19,
    "start_time": "2022-06-19T07:59:12.473Z"
   },
   {
    "duration": 7,
    "start_time": "2022-06-19T07:59:12.494Z"
   },
   {
    "duration": 13,
    "start_time": "2022-06-19T07:59:12.502Z"
   },
   {
    "duration": 17,
    "start_time": "2022-06-19T07:59:12.518Z"
   },
   {
    "duration": 40,
    "start_time": "2022-06-19T07:59:12.537Z"
   },
   {
    "duration": 8,
    "start_time": "2022-06-19T07:59:12.579Z"
   },
   {
    "duration": 5,
    "start_time": "2022-06-19T07:59:12.589Z"
   },
   {
    "duration": 398,
    "start_time": "2022-06-19T07:59:12.596Z"
   },
   {
    "duration": 6,
    "start_time": "2022-06-19T07:59:12.996Z"
   },
   {
    "duration": 31,
    "start_time": "2022-06-19T07:59:13.004Z"
   },
   {
    "duration": 35,
    "start_time": "2022-06-19T07:59:13.036Z"
   },
   {
    "duration": 1707,
    "start_time": "2022-06-19T07:59:13.073Z"
   },
   {
    "duration": 21,
    "start_time": "2022-06-19T07:59:14.782Z"
   },
   {
    "duration": 34,
    "start_time": "2022-06-19T07:59:14.805Z"
   },
   {
    "duration": 9,
    "start_time": "2022-06-19T07:59:14.841Z"
   },
   {
    "duration": 64,
    "start_time": "2022-06-19T07:59:14.852Z"
   },
   {
    "duration": 23,
    "start_time": "2022-06-19T07:59:14.917Z"
   },
   {
    "duration": 974,
    "start_time": "2022-06-19T07:59:14.943Z"
   },
   {
    "duration": 35,
    "start_time": "2022-06-19T07:59:15.919Z"
   },
   {
    "duration": 27,
    "start_time": "2022-06-19T07:59:15.959Z"
   },
   {
    "duration": 12,
    "start_time": "2022-06-19T07:59:15.987Z"
   },
   {
    "duration": 26,
    "start_time": "2022-06-19T07:59:16.001Z"
   },
   {
    "duration": 448,
    "start_time": "2022-06-19T07:59:16.028Z"
   },
   {
    "duration": 10,
    "start_time": "2022-06-19T07:59:16.478Z"
   },
   {
    "duration": 25,
    "start_time": "2022-06-19T07:59:16.490Z"
   },
   {
    "duration": 31,
    "start_time": "2022-06-19T07:59:16.517Z"
   },
   {
    "duration": 22,
    "start_time": "2022-06-19T07:59:16.550Z"
   },
   {
    "duration": 15,
    "start_time": "2022-06-19T07:59:16.574Z"
   },
   {
    "duration": 18,
    "start_time": "2022-06-19T07:59:16.593Z"
   },
   {
    "duration": 17,
    "start_time": "2022-06-19T07:59:16.613Z"
   },
   {
    "duration": 42,
    "start_time": "2022-06-19T07:59:16.636Z"
   },
   {
    "duration": 4,
    "start_time": "2022-06-19T07:59:16.680Z"
   },
   {
    "duration": 266,
    "start_time": "2022-06-19T07:59:16.686Z"
   },
   {
    "duration": 235,
    "start_time": "2022-06-19T07:59:16.956Z"
   },
   {
    "duration": 238,
    "start_time": "2022-06-19T07:59:17.193Z"
   },
   {
    "duration": 10,
    "start_time": "2022-06-19T07:59:17.433Z"
   },
   {
    "duration": 249,
    "start_time": "2022-06-19T07:59:17.444Z"
   },
   {
    "duration": 13,
    "start_time": "2022-06-19T07:59:17.695Z"
   },
   {
    "duration": 155,
    "start_time": "2022-06-19T07:59:17.710Z"
   },
   {
    "duration": 0,
    "start_time": "2022-06-19T07:59:17.867Z"
   },
   {
    "duration": 0,
    "start_time": "2022-06-19T07:59:17.868Z"
   },
   {
    "duration": 0,
    "start_time": "2022-06-19T07:59:17.869Z"
   },
   {
    "duration": 0,
    "start_time": "2022-06-19T07:59:17.870Z"
   },
   {
    "duration": 0,
    "start_time": "2022-06-19T07:59:17.871Z"
   },
   {
    "duration": 0,
    "start_time": "2022-06-19T07:59:17.873Z"
   },
   {
    "duration": 0,
    "start_time": "2022-06-19T07:59:17.873Z"
   },
   {
    "duration": 0,
    "start_time": "2022-06-19T07:59:17.874Z"
   },
   {
    "duration": 0,
    "start_time": "2022-06-19T07:59:17.875Z"
   },
   {
    "duration": 0,
    "start_time": "2022-06-19T07:59:17.876Z"
   },
   {
    "duration": 0,
    "start_time": "2022-06-19T07:59:17.877Z"
   },
   {
    "duration": 0,
    "start_time": "2022-06-19T07:59:17.878Z"
   },
   {
    "duration": 0,
    "start_time": "2022-06-19T07:59:17.879Z"
   },
   {
    "duration": 0,
    "start_time": "2022-06-19T07:59:17.881Z"
   },
   {
    "duration": 0,
    "start_time": "2022-06-19T07:59:17.882Z"
   },
   {
    "duration": 0,
    "start_time": "2022-06-19T07:59:17.883Z"
   },
   {
    "duration": 0,
    "start_time": "2022-06-19T07:59:17.884Z"
   },
   {
    "duration": 0,
    "start_time": "2022-06-19T07:59:17.885Z"
   },
   {
    "duration": 0,
    "start_time": "2022-06-19T07:59:17.886Z"
   },
   {
    "duration": 0,
    "start_time": "2022-06-19T07:59:17.887Z"
   },
   {
    "duration": 20,
    "start_time": "2022-06-19T08:01:20.374Z"
   },
   {
    "duration": 14,
    "start_time": "2022-06-19T08:01:32.780Z"
   },
   {
    "duration": 23,
    "start_time": "2022-06-19T08:01:42.445Z"
   },
   {
    "duration": 28,
    "start_time": "2022-06-19T08:01:52.049Z"
   },
   {
    "duration": 15,
    "start_time": "2022-06-19T08:02:02.078Z"
   },
   {
    "duration": 18,
    "start_time": "2022-06-19T08:02:13.373Z"
   },
   {
    "duration": 14,
    "start_time": "2022-06-19T08:02:26.965Z"
   },
   {
    "duration": 11,
    "start_time": "2022-06-19T08:08:35.881Z"
   },
   {
    "duration": 16,
    "start_time": "2022-06-19T08:08:38.858Z"
   },
   {
    "duration": 1301,
    "start_time": "2022-06-19T08:12:12.253Z"
   },
   {
    "duration": 48,
    "start_time": "2022-06-19T08:12:13.564Z"
   },
   {
    "duration": 16,
    "start_time": "2022-06-19T08:12:13.614Z"
   },
   {
    "duration": 16,
    "start_time": "2022-06-19T08:12:13.631Z"
   },
   {
    "duration": 42,
    "start_time": "2022-06-19T08:12:13.650Z"
   },
   {
    "duration": 12,
    "start_time": "2022-06-19T08:12:13.694Z"
   },
   {
    "duration": 21,
    "start_time": "2022-06-19T08:12:13.708Z"
   },
   {
    "duration": 25,
    "start_time": "2022-06-19T08:12:13.735Z"
   },
   {
    "duration": 23,
    "start_time": "2022-06-19T08:12:13.765Z"
   },
   {
    "duration": 14,
    "start_time": "2022-06-19T08:12:13.790Z"
   },
   {
    "duration": 30,
    "start_time": "2022-06-19T08:12:13.806Z"
   },
   {
    "duration": 8,
    "start_time": "2022-06-19T08:12:13.844Z"
   },
   {
    "duration": 35,
    "start_time": "2022-06-19T08:12:13.854Z"
   },
   {
    "duration": 18,
    "start_time": "2022-06-19T08:12:13.893Z"
   },
   {
    "duration": 21,
    "start_time": "2022-06-19T08:12:13.913Z"
   },
   {
    "duration": 27,
    "start_time": "2022-06-19T08:12:13.940Z"
   },
   {
    "duration": 13,
    "start_time": "2022-06-19T08:12:13.969Z"
   },
   {
    "duration": 484,
    "start_time": "2022-06-19T08:12:13.984Z"
   },
   {
    "duration": 9,
    "start_time": "2022-06-19T08:12:14.475Z"
   },
   {
    "duration": 18,
    "start_time": "2022-06-19T08:12:14.486Z"
   },
   {
    "duration": 58,
    "start_time": "2022-06-19T08:12:14.506Z"
   },
   {
    "duration": 1723,
    "start_time": "2022-06-19T08:12:14.566Z"
   },
   {
    "duration": 19,
    "start_time": "2022-06-19T08:12:16.291Z"
   },
   {
    "duration": 32,
    "start_time": "2022-06-19T08:12:16.312Z"
   },
   {
    "duration": 31,
    "start_time": "2022-06-19T08:12:16.346Z"
   },
   {
    "duration": 45,
    "start_time": "2022-06-19T08:12:16.379Z"
   },
   {
    "duration": 25,
    "start_time": "2022-06-19T08:12:16.426Z"
   },
   {
    "duration": 1060,
    "start_time": "2022-06-19T08:12:16.454Z"
   },
   {
    "duration": 35,
    "start_time": "2022-06-19T08:12:17.516Z"
   },
   {
    "duration": 33,
    "start_time": "2022-06-19T08:12:17.553Z"
   },
   {
    "duration": 13,
    "start_time": "2022-06-19T08:12:17.588Z"
   },
   {
    "duration": 25,
    "start_time": "2022-06-19T08:12:17.602Z"
   },
   {
    "duration": 461,
    "start_time": "2022-06-19T08:12:17.629Z"
   },
   {
    "duration": 11,
    "start_time": "2022-06-19T08:12:18.092Z"
   },
   {
    "duration": 25,
    "start_time": "2022-06-19T08:12:18.105Z"
   },
   {
    "duration": 24,
    "start_time": "2022-06-19T08:12:18.132Z"
   },
   {
    "duration": 27,
    "start_time": "2022-06-19T08:12:18.158Z"
   },
   {
    "duration": 17,
    "start_time": "2022-06-19T08:12:18.187Z"
   },
   {
    "duration": 65,
    "start_time": "2022-06-19T08:12:18.206Z"
   },
   {
    "duration": 16,
    "start_time": "2022-06-19T08:12:18.274Z"
   },
   {
    "duration": 37,
    "start_time": "2022-06-19T08:12:18.295Z"
   },
   {
    "duration": 18,
    "start_time": "2022-06-19T08:12:18.334Z"
   },
   {
    "duration": 272,
    "start_time": "2022-06-19T08:12:18.366Z"
   },
   {
    "duration": 272,
    "start_time": "2022-06-19T08:12:18.640Z"
   },
   {
    "duration": 277,
    "start_time": "2022-06-19T08:12:18.913Z"
   },
   {
    "duration": 5,
    "start_time": "2022-06-19T08:12:19.192Z"
   },
   {
    "duration": 272,
    "start_time": "2022-06-19T08:12:19.199Z"
   },
   {
    "duration": 15,
    "start_time": "2022-06-19T08:12:19.473Z"
   },
   {
    "duration": 303,
    "start_time": "2022-06-19T08:12:19.490Z"
   },
   {
    "duration": 16,
    "start_time": "2022-06-19T08:12:19.795Z"
   },
   {
    "duration": 12,
    "start_time": "2022-06-19T08:12:19.826Z"
   },
   {
    "duration": 46,
    "start_time": "2022-06-19T08:12:19.841Z"
   },
   {
    "duration": 273,
    "start_time": "2022-06-19T08:12:19.889Z"
   },
   {
    "duration": 21,
    "start_time": "2022-06-19T08:12:20.164Z"
   },
   {
    "duration": 9,
    "start_time": "2022-06-19T08:12:20.189Z"
   },
   {
    "duration": 364,
    "start_time": "2022-06-19T08:12:20.200Z"
   },
   {
    "duration": 17,
    "start_time": "2022-06-19T08:12:20.565Z"
   },
   {
    "duration": 56,
    "start_time": "2022-06-19T08:12:20.584Z"
   },
   {
    "duration": 5,
    "start_time": "2022-06-19T08:12:20.642Z"
   },
   {
    "duration": 19,
    "start_time": "2022-06-19T08:12:20.649Z"
   },
   {
    "duration": 33,
    "start_time": "2022-06-19T08:12:20.669Z"
   },
   {
    "duration": 36,
    "start_time": "2022-06-19T08:12:20.704Z"
   },
   {
    "duration": 1420,
    "start_time": "2022-06-19T08:12:20.742Z"
   },
   {
    "duration": 20,
    "start_time": "2022-06-19T08:12:22.164Z"
   },
   {
    "duration": 22,
    "start_time": "2022-06-19T08:12:22.187Z"
   },
   {
    "duration": 83,
    "start_time": "2022-06-19T08:12:22.211Z"
   },
   {
    "duration": 16,
    "start_time": "2022-06-19T08:12:22.296Z"
   },
   {
    "duration": 68,
    "start_time": "2022-06-19T08:12:22.315Z"
   },
   {
    "duration": 43,
    "start_time": "2022-06-19T08:12:22.385Z"
   },
   {
    "duration": 268,
    "start_time": "2022-06-19T08:17:57.508Z"
   },
   {
    "duration": 6,
    "start_time": "2022-06-19T08:22:52.993Z"
   },
   {
    "duration": 238,
    "start_time": "2022-06-19T08:22:54.955Z"
   },
   {
    "duration": 6,
    "start_time": "2022-06-19T08:23:05.080Z"
   },
   {
    "duration": 229,
    "start_time": "2022-06-19T08:23:08.351Z"
   },
   {
    "duration": 10,
    "start_time": "2022-06-19T08:24:47.556Z"
   },
   {
    "duration": 365,
    "start_time": "2022-06-19T08:24:49.774Z"
   },
   {
    "duration": 7,
    "start_time": "2022-06-19T08:25:06.366Z"
   },
   {
    "duration": 234,
    "start_time": "2022-06-19T08:25:08.377Z"
   },
   {
    "duration": 8,
    "start_time": "2022-06-19T08:25:50.791Z"
   },
   {
    "duration": 329,
    "start_time": "2022-06-19T08:25:52.852Z"
   },
   {
    "duration": 316,
    "start_time": "2022-06-19T08:26:07.879Z"
   },
   {
    "duration": 13,
    "start_time": "2022-06-19T08:51:57.417Z"
   },
   {
    "duration": 22,
    "start_time": "2022-06-19T08:52:32.629Z"
   },
   {
    "duration": 14,
    "start_time": "2022-06-19T08:53:45.957Z"
   },
   {
    "duration": 10,
    "start_time": "2022-06-19T08:54:31.513Z"
   },
   {
    "duration": 13,
    "start_time": "2022-06-19T08:54:42.161Z"
   },
   {
    "duration": 115,
    "start_time": "2022-06-19T08:56:00.409Z"
   },
   {
    "duration": 6,
    "start_time": "2022-06-19T08:56:26.361Z"
   },
   {
    "duration": 16,
    "start_time": "2022-06-19T08:58:21.955Z"
   },
   {
    "duration": 81,
    "start_time": "2022-06-19T09:53:11.190Z"
   },
   {
    "duration": 38,
    "start_time": "2022-06-19T09:54:06.980Z"
   },
   {
    "duration": 56,
    "start_time": "2022-06-19T09:54:13.351Z"
   },
   {
    "duration": 56,
    "start_time": "2022-06-19T10:02:46.001Z"
   },
   {
    "duration": 4,
    "start_time": "2022-06-19T10:02:50.769Z"
   },
   {
    "duration": 56,
    "start_time": "2022-06-19T10:02:58.158Z"
   },
   {
    "duration": 1168,
    "start_time": "2022-06-19T10:08:38.401Z"
   },
   {
    "duration": 30,
    "start_time": "2022-06-19T10:08:59.928Z"
   },
   {
    "duration": 19,
    "start_time": "2022-06-19T10:19:54.014Z"
   },
   {
    "duration": 13,
    "start_time": "2022-06-19T10:20:00.410Z"
   },
   {
    "duration": 26,
    "start_time": "2022-06-19T10:29:33.647Z"
   },
   {
    "duration": 24,
    "start_time": "2022-06-19T10:32:47.049Z"
   },
   {
    "duration": 23,
    "start_time": "2022-06-19T10:33:09.902Z"
   },
   {
    "duration": 32,
    "start_time": "2022-06-19T10:33:56.126Z"
   },
   {
    "duration": 24,
    "start_time": "2022-06-19T10:34:19.901Z"
   },
   {
    "duration": 29,
    "start_time": "2022-06-19T10:35:08.213Z"
   },
   {
    "duration": 53,
    "start_time": "2022-06-19T11:50:40.477Z"
   },
   {
    "duration": 1367,
    "start_time": "2022-06-19T11:50:50.680Z"
   },
   {
    "duration": 334,
    "start_time": "2022-06-19T11:50:52.049Z"
   },
   {
    "duration": 13,
    "start_time": "2022-06-19T11:50:52.386Z"
   },
   {
    "duration": 18,
    "start_time": "2022-06-19T11:50:52.402Z"
   },
   {
    "duration": 24,
    "start_time": "2022-06-19T11:50:52.422Z"
   },
   {
    "duration": 10,
    "start_time": "2022-06-19T11:50:52.459Z"
   },
   {
    "duration": 21,
    "start_time": "2022-06-19T11:50:52.471Z"
   },
   {
    "duration": 17,
    "start_time": "2022-06-19T11:50:52.494Z"
   },
   {
    "duration": 7,
    "start_time": "2022-06-19T11:50:52.513Z"
   },
   {
    "duration": 38,
    "start_time": "2022-06-19T11:50:52.523Z"
   },
   {
    "duration": 28,
    "start_time": "2022-06-19T11:50:52.564Z"
   },
   {
    "duration": 8,
    "start_time": "2022-06-19T11:50:52.593Z"
   },
   {
    "duration": 18,
    "start_time": "2022-06-19T11:50:52.603Z"
   },
   {
    "duration": 38,
    "start_time": "2022-06-19T11:50:52.623Z"
   },
   {
    "duration": 15,
    "start_time": "2022-06-19T11:50:52.663Z"
   },
   {
    "duration": 15,
    "start_time": "2022-06-19T11:50:52.680Z"
   },
   {
    "duration": 5,
    "start_time": "2022-06-19T11:50:52.697Z"
   },
   {
    "duration": 471,
    "start_time": "2022-06-19T11:50:52.704Z"
   },
   {
    "duration": 6,
    "start_time": "2022-06-19T11:50:53.177Z"
   },
   {
    "duration": 15,
    "start_time": "2022-06-19T11:50:53.185Z"
   },
   {
    "duration": 23,
    "start_time": "2022-06-19T11:50:53.202Z"
   },
   {
    "duration": 1589,
    "start_time": "2022-06-19T11:50:53.226Z"
   },
   {
    "duration": 16,
    "start_time": "2022-06-19T11:50:54.817Z"
   },
   {
    "duration": 31,
    "start_time": "2022-06-19T11:50:54.835Z"
   },
   {
    "duration": 11,
    "start_time": "2022-06-19T11:50:54.868Z"
   },
   {
    "duration": 45,
    "start_time": "2022-06-19T11:50:54.880Z"
   },
   {
    "duration": 13,
    "start_time": "2022-06-19T11:50:54.927Z"
   },
   {
    "duration": 883,
    "start_time": "2022-06-19T11:50:54.960Z"
   },
   {
    "duration": 22,
    "start_time": "2022-06-19T11:50:55.844Z"
   },
   {
    "duration": 17,
    "start_time": "2022-06-19T11:50:55.869Z"
   },
   {
    "duration": 10,
    "start_time": "2022-06-19T11:50:55.888Z"
   },
   {
    "duration": 22,
    "start_time": "2022-06-19T11:50:55.900Z"
   },
   {
    "duration": 38,
    "start_time": "2022-06-19T11:50:55.924Z"
   },
   {
    "duration": 20,
    "start_time": "2022-06-19T11:50:55.965Z"
   },
   {
    "duration": 381,
    "start_time": "2022-06-19T11:50:55.986Z"
   },
   {
    "duration": 10,
    "start_time": "2022-06-19T11:50:56.369Z"
   },
   {
    "duration": 12,
    "start_time": "2022-06-19T11:50:56.382Z"
   },
   {
    "duration": 24,
    "start_time": "2022-06-19T11:50:56.396Z"
   },
   {
    "duration": 7,
    "start_time": "2022-06-19T11:50:56.423Z"
   },
   {
    "duration": 43,
    "start_time": "2022-06-19T11:50:56.433Z"
   },
   {
    "duration": 29,
    "start_time": "2022-06-19T11:50:56.478Z"
   },
   {
    "duration": 13,
    "start_time": "2022-06-19T11:50:56.509Z"
   },
   {
    "duration": 15,
    "start_time": "2022-06-19T11:50:56.524Z"
   },
   {
    "duration": 5,
    "start_time": "2022-06-19T11:50:56.559Z"
   },
   {
    "duration": 243,
    "start_time": "2022-06-19T11:50:56.566Z"
   },
   {
    "duration": 205,
    "start_time": "2022-06-19T11:50:56.811Z"
   },
   {
    "duration": 220,
    "start_time": "2022-06-19T11:50:57.018Z"
   },
   {
    "duration": 7,
    "start_time": "2022-06-19T11:50:57.240Z"
   },
   {
    "duration": 266,
    "start_time": "2022-06-19T11:50:57.249Z"
   },
   {
    "duration": 232,
    "start_time": "2022-06-19T11:50:57.517Z"
   },
   {
    "duration": 18,
    "start_time": "2022-06-19T11:50:57.751Z"
   },
   {
    "duration": 6,
    "start_time": "2022-06-19T11:50:57.771Z"
   },
   {
    "duration": 15,
    "start_time": "2022-06-19T11:50:57.779Z"
   },
   {
    "duration": 223,
    "start_time": "2022-06-19T11:50:57.796Z"
   },
   {
    "duration": 12,
    "start_time": "2022-06-19T11:50:58.021Z"
   },
   {
    "duration": 7,
    "start_time": "2022-06-19T11:50:58.034Z"
   },
   {
    "duration": 258,
    "start_time": "2022-06-19T11:50:58.042Z"
   },
   {
    "duration": 65,
    "start_time": "2022-06-19T11:50:58.302Z"
   },
   {
    "duration": 39,
    "start_time": "2022-06-19T11:50:58.369Z"
   },
   {
    "duration": 12,
    "start_time": "2022-06-19T11:50:58.410Z"
   },
   {
    "duration": 17,
    "start_time": "2022-06-19T11:50:58.423Z"
   },
   {
    "duration": 8,
    "start_time": "2022-06-19T11:50:58.442Z"
   },
   {
    "duration": 1126,
    "start_time": "2022-06-19T11:50:58.452Z"
   },
   {
    "duration": 16,
    "start_time": "2022-06-19T11:50:59.580Z"
   },
   {
    "duration": 21,
    "start_time": "2022-06-19T11:50:59.598Z"
   },
   {
    "duration": 50,
    "start_time": "2022-06-19T11:50:59.621Z"
   },
   {
    "duration": 13,
    "start_time": "2022-06-19T11:50:59.673Z"
   },
   {
    "duration": 5,
    "start_time": "2022-06-19T11:50:59.688Z"
   },
   {
    "duration": 20,
    "start_time": "2022-06-19T11:50:59.695Z"
   },
   {
    "duration": 137,
    "start_time": "2022-06-19T11:50:59.717Z"
   },
   {
    "duration": 0,
    "start_time": "2022-06-19T11:50:59.855Z"
   },
   {
    "duration": 23,
    "start_time": "2022-06-19T11:51:10.221Z"
   },
   {
    "duration": 261,
    "start_time": "2022-06-19T11:53:42.867Z"
   },
   {
    "duration": 16,
    "start_time": "2022-06-19T11:55:02.543Z"
   },
   {
    "duration": 37,
    "start_time": "2022-06-19T11:55:04.569Z"
   },
   {
    "duration": 29,
    "start_time": "2022-06-19T11:55:23.839Z"
   },
   {
    "duration": 295,
    "start_time": "2022-06-19T11:55:30.208Z"
   },
   {
    "duration": 18,
    "start_time": "2022-06-19T11:56:29.106Z"
   },
   {
    "duration": 236,
    "start_time": "2022-06-19T11:56:33.511Z"
   },
   {
    "duration": 23,
    "start_time": "2022-06-19T11:58:00.646Z"
   },
   {
    "duration": 292,
    "start_time": "2022-06-19T11:58:05.969Z"
   },
   {
    "duration": 264,
    "start_time": "2022-06-19T11:58:52.105Z"
   },
   {
    "duration": 241,
    "start_time": "2022-06-19T12:01:23.987Z"
   },
   {
    "duration": 295,
    "start_time": "2022-06-19T12:02:00.418Z"
   },
   {
    "duration": 263,
    "start_time": "2022-06-19T12:02:57.698Z"
   },
   {
    "duration": 9,
    "start_time": "2022-06-19T12:08:31.105Z"
   },
   {
    "duration": 10,
    "start_time": "2022-06-19T12:08:38.957Z"
   },
   {
    "duration": 279,
    "start_time": "2022-06-19T12:08:41.225Z"
   },
   {
    "duration": 5,
    "start_time": "2022-06-19T12:11:59.085Z"
   },
   {
    "duration": 315,
    "start_time": "2022-06-19T12:12:01.301Z"
   },
   {
    "duration": 7,
    "start_time": "2022-06-19T12:13:01.851Z"
   },
   {
    "duration": 336,
    "start_time": "2022-06-19T12:13:04.569Z"
   },
   {
    "duration": 309,
    "start_time": "2022-06-19T12:22:30.977Z"
   },
   {
    "duration": 264,
    "start_time": "2022-06-19T12:28:21.590Z"
   },
   {
    "duration": 330,
    "start_time": "2022-06-19T12:34:07.426Z"
   },
   {
    "duration": 14,
    "start_time": "2022-06-19T12:46:10.381Z"
   },
   {
    "duration": 17,
    "start_time": "2022-06-19T12:47:01.166Z"
   },
   {
    "duration": 21,
    "start_time": "2022-06-19T12:50:03.954Z"
   },
   {
    "duration": 39,
    "start_time": "2022-06-19T12:50:14.153Z"
   },
   {
    "duration": 35,
    "start_time": "2022-06-19T12:50:40.907Z"
   },
   {
    "duration": 50,
    "start_time": "2022-06-19T12:50:54.027Z"
   },
   {
    "duration": 401,
    "start_time": "2022-06-19T12:51:46.642Z"
   },
   {
    "duration": 365,
    "start_time": "2022-06-19T12:52:41.643Z"
   },
   {
    "duration": 307,
    "start_time": "2022-06-19T12:53:35.725Z"
   },
   {
    "duration": 26,
    "start_time": "2022-06-19T12:54:38.786Z"
   },
   {
    "duration": 319,
    "start_time": "2022-06-19T12:54:42.069Z"
   },
   {
    "duration": 27,
    "start_time": "2022-06-19T12:55:17.513Z"
   },
   {
    "duration": 321,
    "start_time": "2022-06-19T12:55:22.113Z"
   },
   {
    "duration": 325,
    "start_time": "2022-06-19T12:55:54.109Z"
   },
   {
    "duration": 28,
    "start_time": "2022-06-19T12:56:41.160Z"
   },
   {
    "duration": 19,
    "start_time": "2022-06-19T12:56:47.719Z"
   },
   {
    "duration": 325,
    "start_time": "2022-06-19T12:56:55.264Z"
   },
   {
    "duration": 371,
    "start_time": "2022-06-19T12:57:09.450Z"
   },
   {
    "duration": 350,
    "start_time": "2022-06-19T13:00:24.688Z"
   },
   {
    "duration": 307,
    "start_time": "2022-06-19T13:00:31.296Z"
   },
   {
    "duration": 305,
    "start_time": "2022-06-19T13:00:41.487Z"
   },
   {
    "duration": 446,
    "start_time": "2022-06-19T13:01:32.947Z"
   },
   {
    "duration": 371,
    "start_time": "2022-06-19T13:02:13.630Z"
   },
   {
    "duration": 31,
    "start_time": "2022-06-19T13:06:22.507Z"
   },
   {
    "duration": 294,
    "start_time": "2022-06-19T13:06:26.689Z"
   },
   {
    "duration": 274,
    "start_time": "2022-06-19T13:06:33.838Z"
   },
   {
    "duration": 46,
    "start_time": "2022-06-19T13:08:01.989Z"
   },
   {
    "duration": 363,
    "start_time": "2022-06-19T13:08:12.777Z"
   },
   {
    "duration": 1377,
    "start_time": "2022-06-20T05:43:52.060Z"
   },
   {
    "duration": 174,
    "start_time": "2022-06-20T05:43:53.439Z"
   },
   {
    "duration": 13,
    "start_time": "2022-06-20T05:43:53.615Z"
   },
   {
    "duration": 12,
    "start_time": "2022-06-20T05:43:53.629Z"
   },
   {
    "duration": 20,
    "start_time": "2022-06-20T05:43:53.644Z"
   },
   {
    "duration": 9,
    "start_time": "2022-06-20T05:43:53.666Z"
   },
   {
    "duration": 13,
    "start_time": "2022-06-20T05:43:53.677Z"
   },
   {
    "duration": 42,
    "start_time": "2022-06-20T05:43:53.691Z"
   },
   {
    "duration": 8,
    "start_time": "2022-06-20T05:43:53.735Z"
   },
   {
    "duration": 16,
    "start_time": "2022-06-20T05:43:53.745Z"
   },
   {
    "duration": 32,
    "start_time": "2022-06-20T05:43:53.763Z"
   },
   {
    "duration": 33,
    "start_time": "2022-06-20T05:43:53.797Z"
   },
   {
    "duration": 13,
    "start_time": "2022-06-20T05:43:53.832Z"
   },
   {
    "duration": 11,
    "start_time": "2022-06-20T05:43:53.849Z"
   },
   {
    "duration": 13,
    "start_time": "2022-06-20T05:43:53.861Z"
   },
   {
    "duration": 47,
    "start_time": "2022-06-20T05:43:53.876Z"
   },
   {
    "duration": 5,
    "start_time": "2022-06-20T05:43:53.925Z"
   },
   {
    "duration": 355,
    "start_time": "2022-06-20T05:43:53.931Z"
   },
   {
    "duration": 6,
    "start_time": "2022-06-20T05:43:54.287Z"
   },
   {
    "duration": 13,
    "start_time": "2022-06-20T05:43:54.294Z"
   },
   {
    "duration": 34,
    "start_time": "2022-06-20T05:43:54.308Z"
   },
   {
    "duration": 1368,
    "start_time": "2022-06-20T05:43:54.344Z"
   },
   {
    "duration": 22,
    "start_time": "2022-06-20T05:43:55.714Z"
   },
   {
    "duration": 11,
    "start_time": "2022-06-20T05:43:55.737Z"
   },
   {
    "duration": 8,
    "start_time": "2022-06-20T05:43:55.750Z"
   },
   {
    "duration": 72,
    "start_time": "2022-06-20T05:43:55.759Z"
   },
   {
    "duration": 15,
    "start_time": "2022-06-20T05:43:55.833Z"
   },
   {
    "duration": 898,
    "start_time": "2022-06-20T05:43:55.850Z"
   },
   {
    "duration": 18,
    "start_time": "2022-06-20T05:43:56.750Z"
   },
   {
    "duration": 17,
    "start_time": "2022-06-20T05:43:56.770Z"
   },
   {
    "duration": 6,
    "start_time": "2022-06-20T05:43:56.788Z"
   },
   {
    "duration": 15,
    "start_time": "2022-06-20T05:43:56.824Z"
   },
   {
    "duration": 13,
    "start_time": "2022-06-20T05:43:56.840Z"
   },
   {
    "duration": 17,
    "start_time": "2022-06-20T05:43:56.855Z"
   },
   {
    "duration": 427,
    "start_time": "2022-06-20T05:43:56.874Z"
   },
   {
    "duration": 11,
    "start_time": "2022-06-20T05:43:57.303Z"
   },
   {
    "duration": 11,
    "start_time": "2022-06-20T05:43:57.323Z"
   },
   {
    "duration": 19,
    "start_time": "2022-06-20T05:43:57.336Z"
   },
   {
    "duration": 14,
    "start_time": "2022-06-20T05:43:57.357Z"
   },
   {
    "duration": 17,
    "start_time": "2022-06-20T05:43:57.373Z"
   },
   {
    "duration": 52,
    "start_time": "2022-06-20T05:43:57.394Z"
   },
   {
    "duration": 13,
    "start_time": "2022-06-20T05:43:57.448Z"
   },
   {
    "duration": 16,
    "start_time": "2022-06-20T05:43:57.462Z"
   },
   {
    "duration": 4,
    "start_time": "2022-06-20T05:43:57.479Z"
   },
   {
    "duration": 261,
    "start_time": "2022-06-20T05:43:57.485Z"
   },
   {
    "duration": 476,
    "start_time": "2022-06-20T05:43:57.748Z"
   },
   {
    "duration": 419,
    "start_time": "2022-06-20T05:43:58.225Z"
   },
   {
    "duration": 5,
    "start_time": "2022-06-20T05:43:58.646Z"
   },
   {
    "duration": 509,
    "start_time": "2022-06-20T05:43:58.652Z"
   },
   {
    "duration": 447,
    "start_time": "2022-06-20T05:43:59.163Z"
   },
   {
    "duration": 103,
    "start_time": "2022-06-20T05:43:59.611Z"
   },
   {
    "duration": 0,
    "start_time": "2022-06-20T05:43:59.716Z"
   },
   {
    "duration": 0,
    "start_time": "2022-06-20T05:43:59.723Z"
   },
   {
    "duration": 0,
    "start_time": "2022-06-20T05:43:59.724Z"
   },
   {
    "duration": 0,
    "start_time": "2022-06-20T05:43:59.725Z"
   },
   {
    "duration": 0,
    "start_time": "2022-06-20T05:43:59.726Z"
   },
   {
    "duration": 1,
    "start_time": "2022-06-20T05:43:59.727Z"
   },
   {
    "duration": 0,
    "start_time": "2022-06-20T05:43:59.728Z"
   },
   {
    "duration": 0,
    "start_time": "2022-06-20T05:43:59.730Z"
   },
   {
    "duration": 0,
    "start_time": "2022-06-20T05:43:59.732Z"
   },
   {
    "duration": 0,
    "start_time": "2022-06-20T05:43:59.733Z"
   },
   {
    "duration": 0,
    "start_time": "2022-06-20T05:43:59.734Z"
   },
   {
    "duration": 0,
    "start_time": "2022-06-20T05:43:59.736Z"
   },
   {
    "duration": 0,
    "start_time": "2022-06-20T05:43:59.737Z"
   },
   {
    "duration": 0,
    "start_time": "2022-06-20T05:43:59.739Z"
   },
   {
    "duration": 0,
    "start_time": "2022-06-20T05:43:59.740Z"
   },
   {
    "duration": 0,
    "start_time": "2022-06-20T05:43:59.742Z"
   },
   {
    "duration": 0,
    "start_time": "2022-06-20T05:43:59.743Z"
   },
   {
    "duration": 1159,
    "start_time": "2022-06-20T05:55:40.365Z"
   },
   {
    "duration": 48,
    "start_time": "2022-06-20T05:55:41.526Z"
   },
   {
    "duration": 12,
    "start_time": "2022-06-20T05:55:41.575Z"
   },
   {
    "duration": 11,
    "start_time": "2022-06-20T05:55:41.589Z"
   },
   {
    "duration": 19,
    "start_time": "2022-06-20T05:55:41.601Z"
   },
   {
    "duration": 9,
    "start_time": "2022-06-20T05:55:41.622Z"
   },
   {
    "duration": 19,
    "start_time": "2022-06-20T05:55:41.633Z"
   },
   {
    "duration": 17,
    "start_time": "2022-06-20T05:55:41.654Z"
   },
   {
    "duration": 7,
    "start_time": "2022-06-20T05:55:41.673Z"
   },
   {
    "duration": 41,
    "start_time": "2022-06-20T05:55:41.684Z"
   },
   {
    "duration": 23,
    "start_time": "2022-06-20T05:55:41.727Z"
   },
   {
    "duration": 8,
    "start_time": "2022-06-20T05:55:41.753Z"
   },
   {
    "duration": 25,
    "start_time": "2022-06-20T05:55:41.762Z"
   },
   {
    "duration": 36,
    "start_time": "2022-06-20T05:55:41.789Z"
   },
   {
    "duration": 13,
    "start_time": "2022-06-20T05:55:41.826Z"
   },
   {
    "duration": 9,
    "start_time": "2022-06-20T05:55:41.841Z"
   },
   {
    "duration": 5,
    "start_time": "2022-06-20T05:55:41.851Z"
   },
   {
    "duration": 400,
    "start_time": "2022-06-20T05:55:41.858Z"
   },
   {
    "duration": 7,
    "start_time": "2022-06-20T05:55:42.259Z"
   },
   {
    "duration": 21,
    "start_time": "2022-06-20T05:55:42.268Z"
   },
   {
    "duration": 43,
    "start_time": "2022-06-20T05:55:42.291Z"
   },
   {
    "duration": 1380,
    "start_time": "2022-06-20T05:55:42.336Z"
   },
   {
    "duration": 16,
    "start_time": "2022-06-20T05:55:43.722Z"
   },
   {
    "duration": 13,
    "start_time": "2022-06-20T05:55:43.740Z"
   },
   {
    "duration": 13,
    "start_time": "2022-06-20T05:55:43.755Z"
   },
   {
    "duration": 61,
    "start_time": "2022-06-20T05:55:43.769Z"
   },
   {
    "duration": 16,
    "start_time": "2022-06-20T05:55:43.831Z"
   },
   {
    "duration": 875,
    "start_time": "2022-06-20T05:55:43.851Z"
   },
   {
    "duration": 17,
    "start_time": "2022-06-20T05:55:44.728Z"
   },
   {
    "duration": 15,
    "start_time": "2022-06-20T05:55:44.747Z"
   },
   {
    "duration": 10,
    "start_time": "2022-06-20T05:55:44.764Z"
   },
   {
    "duration": 14,
    "start_time": "2022-06-20T05:55:44.776Z"
   },
   {
    "duration": 40,
    "start_time": "2022-06-20T05:55:44.792Z"
   },
   {
    "duration": 15,
    "start_time": "2022-06-20T05:55:44.834Z"
   },
   {
    "duration": 432,
    "start_time": "2022-06-20T05:55:44.851Z"
   },
   {
    "duration": 11,
    "start_time": "2022-06-20T05:55:45.285Z"
   },
   {
    "duration": 9,
    "start_time": "2022-06-20T05:55:45.298Z"
   },
   {
    "duration": 32,
    "start_time": "2022-06-20T05:55:45.309Z"
   },
   {
    "duration": 11,
    "start_time": "2022-06-20T05:55:45.343Z"
   },
   {
    "duration": 16,
    "start_time": "2022-06-20T05:55:45.356Z"
   },
   {
    "duration": 29,
    "start_time": "2022-06-20T05:55:45.374Z"
   },
   {
    "duration": 26,
    "start_time": "2022-06-20T05:55:45.405Z"
   },
   {
    "duration": 18,
    "start_time": "2022-06-20T05:55:45.433Z"
   },
   {
    "duration": 4,
    "start_time": "2022-06-20T05:55:45.453Z"
   },
   {
    "duration": 248,
    "start_time": "2022-06-20T05:55:45.458Z"
   },
   {
    "duration": 205,
    "start_time": "2022-06-20T05:55:45.709Z"
   },
   {
    "duration": 234,
    "start_time": "2022-06-20T05:55:45.922Z"
   },
   {
    "duration": 5,
    "start_time": "2022-06-20T05:55:46.158Z"
   },
   {
    "duration": 245,
    "start_time": "2022-06-20T05:55:46.165Z"
   },
   {
    "duration": 257,
    "start_time": "2022-06-20T05:55:46.412Z"
   },
   {
    "duration": 66,
    "start_time": "2022-06-20T05:55:46.671Z"
   },
   {
    "duration": 36,
    "start_time": "2022-06-20T05:55:46.739Z"
   },
   {
    "duration": 13,
    "start_time": "2022-06-20T05:55:46.777Z"
   },
   {
    "duration": 35,
    "start_time": "2022-06-20T05:55:46.791Z"
   },
   {
    "duration": 8,
    "start_time": "2022-06-20T05:55:46.828Z"
   },
   {
    "duration": 1205,
    "start_time": "2022-06-20T05:55:46.838Z"
   },
   {
    "duration": 15,
    "start_time": "2022-06-20T05:55:48.045Z"
   },
   {
    "duration": 15,
    "start_time": "2022-06-20T05:55:48.063Z"
   },
   {
    "duration": 57,
    "start_time": "2022-06-20T05:55:48.079Z"
   },
   {
    "duration": 14,
    "start_time": "2022-06-20T05:55:48.138Z"
   },
   {
    "duration": 5,
    "start_time": "2022-06-20T05:55:48.154Z"
   },
   {
    "duration": 289,
    "start_time": "2022-06-20T05:55:48.161Z"
   },
   {
    "duration": 257,
    "start_time": "2022-06-20T05:55:48.452Z"
   },
   {
    "duration": 277,
    "start_time": "2022-06-20T05:55:48.711Z"
   },
   {
    "duration": 37,
    "start_time": "2022-06-20T05:55:48.990Z"
   },
   {
    "duration": 326,
    "start_time": "2022-06-20T05:55:49.029Z"
   },
   {
    "duration": 7,
    "start_time": "2022-06-20T05:56:40.514Z"
   },
   {
    "duration": 8,
    "start_time": "2022-06-20T05:56:54.306Z"
   },
   {
    "duration": 361,
    "start_time": "2022-06-20T07:36:36.550Z"
   },
   {
    "duration": 5,
    "start_time": "2022-06-20T07:36:46.548Z"
   },
   {
    "duration": 20,
    "start_time": "2022-06-20T07:37:04.636Z"
   },
   {
    "duration": 29,
    "start_time": "2022-06-20T07:37:20.136Z"
   },
   {
    "duration": 14,
    "start_time": "2022-06-20T07:37:54.187Z"
   },
   {
    "duration": 26,
    "start_time": "2022-06-20T07:38:02.819Z"
   },
   {
    "duration": 17,
    "start_time": "2022-06-20T07:49:15.467Z"
   },
   {
    "duration": 18,
    "start_time": "2022-06-20T07:50:16.781Z"
   },
   {
    "duration": 73,
    "start_time": "2022-06-20T07:51:09.939Z"
   },
   {
    "duration": 21,
    "start_time": "2022-06-20T07:51:18.294Z"
   },
   {
    "duration": 5,
    "start_time": "2022-06-20T07:57:00.377Z"
   },
   {
    "duration": 24,
    "start_time": "2022-06-20T07:57:02.559Z"
   },
   {
    "duration": 23,
    "start_time": "2022-06-20T07:57:09.449Z"
   },
   {
    "duration": 15,
    "start_time": "2022-06-20T07:59:39.054Z"
   },
   {
    "duration": 26,
    "start_time": "2022-06-20T08:02:00.514Z"
   },
   {
    "duration": 6,
    "start_time": "2022-06-20T08:14:37.171Z"
   },
   {
    "duration": 24,
    "start_time": "2022-06-20T08:18:00.882Z"
   },
   {
    "duration": 32,
    "start_time": "2022-06-20T08:18:52.675Z"
   },
   {
    "duration": 20,
    "start_time": "2022-06-20T08:24:52.066Z"
   },
   {
    "duration": 13,
    "start_time": "2022-06-20T08:32:20.576Z"
   },
   {
    "duration": 28,
    "start_time": "2022-06-20T08:33:16.313Z"
   },
   {
    "duration": 8,
    "start_time": "2022-06-20T08:33:29.800Z"
   },
   {
    "duration": 6,
    "start_time": "2022-06-20T08:55:41.053Z"
   },
   {
    "duration": 5,
    "start_time": "2022-06-20T08:56:01.672Z"
   },
   {
    "duration": 14,
    "start_time": "2022-06-20T09:48:01.435Z"
   },
   {
    "duration": 19,
    "start_time": "2022-06-20T09:50:16.262Z"
   },
   {
    "duration": 1093,
    "start_time": "2022-06-20T09:57:55.267Z"
   },
   {
    "duration": 46,
    "start_time": "2022-06-20T09:57:56.361Z"
   },
   {
    "duration": 13,
    "start_time": "2022-06-20T09:57:56.408Z"
   },
   {
    "duration": 13,
    "start_time": "2022-06-20T09:57:56.423Z"
   },
   {
    "duration": 19,
    "start_time": "2022-06-20T09:57:56.437Z"
   },
   {
    "duration": 8,
    "start_time": "2022-06-20T09:57:56.457Z"
   },
   {
    "duration": 13,
    "start_time": "2022-06-20T09:57:56.466Z"
   },
   {
    "duration": 15,
    "start_time": "2022-06-20T09:57:56.481Z"
   },
   {
    "duration": 32,
    "start_time": "2022-06-20T09:57:56.497Z"
   },
   {
    "duration": 11,
    "start_time": "2022-06-20T09:57:56.532Z"
   },
   {
    "duration": 18,
    "start_time": "2022-06-20T09:57:56.544Z"
   },
   {
    "duration": 6,
    "start_time": "2022-06-20T09:57:56.564Z"
   },
   {
    "duration": 13,
    "start_time": "2022-06-20T09:57:56.571Z"
   },
   {
    "duration": 43,
    "start_time": "2022-06-20T09:57:56.586Z"
   },
   {
    "duration": 12,
    "start_time": "2022-06-20T09:57:56.631Z"
   },
   {
    "duration": 8,
    "start_time": "2022-06-20T09:57:56.645Z"
   },
   {
    "duration": 4,
    "start_time": "2022-06-20T09:57:56.655Z"
   },
   {
    "duration": 370,
    "start_time": "2022-06-20T09:57:56.661Z"
   },
   {
    "duration": 6,
    "start_time": "2022-06-20T09:57:57.033Z"
   },
   {
    "duration": 13,
    "start_time": "2022-06-20T09:57:57.041Z"
   },
   {
    "duration": 21,
    "start_time": "2022-06-20T09:57:57.056Z"
   },
   {
    "duration": 1410,
    "start_time": "2022-06-20T09:57:57.079Z"
   },
   {
    "duration": 17,
    "start_time": "2022-06-20T09:57:58.490Z"
   },
   {
    "duration": 29,
    "start_time": "2022-06-20T09:57:58.509Z"
   },
   {
    "duration": 9,
    "start_time": "2022-06-20T09:57:58.540Z"
   },
   {
    "duration": 46,
    "start_time": "2022-06-20T09:57:58.551Z"
   },
   {
    "duration": 25,
    "start_time": "2022-06-20T09:57:58.599Z"
   },
   {
    "duration": 744,
    "start_time": "2022-06-20T09:57:58.628Z"
   },
   {
    "duration": 18,
    "start_time": "2022-06-20T09:57:59.375Z"
   },
   {
    "duration": 34,
    "start_time": "2022-06-20T09:57:59.395Z"
   },
   {
    "duration": 7,
    "start_time": "2022-06-20T09:57:59.431Z"
   },
   {
    "duration": 16,
    "start_time": "2022-06-20T09:57:59.439Z"
   },
   {
    "duration": 13,
    "start_time": "2022-06-20T09:57:59.456Z"
   },
   {
    "duration": 15,
    "start_time": "2022-06-20T09:57:59.471Z"
   },
   {
    "duration": 567,
    "start_time": "2022-06-20T09:57:59.523Z"
   },
   {
    "duration": 11,
    "start_time": "2022-06-20T09:58:00.092Z"
   },
   {
    "duration": 19,
    "start_time": "2022-06-20T09:58:00.105Z"
   },
   {
    "duration": 22,
    "start_time": "2022-06-20T09:58:00.126Z"
   },
   {
    "duration": 16,
    "start_time": "2022-06-20T09:58:00.150Z"
   },
   {
    "duration": 17,
    "start_time": "2022-06-20T09:58:00.168Z"
   },
   {
    "duration": 44,
    "start_time": "2022-06-20T09:58:00.187Z"
   },
   {
    "duration": 15,
    "start_time": "2022-06-20T09:58:00.232Z"
   },
   {
    "duration": 26,
    "start_time": "2022-06-20T09:58:00.248Z"
   },
   {
    "duration": 8,
    "start_time": "2022-06-20T09:58:00.276Z"
   },
   {
    "duration": 218,
    "start_time": "2022-06-20T09:58:00.286Z"
   },
   {
    "duration": 205,
    "start_time": "2022-06-20T09:58:00.505Z"
   },
   {
    "duration": 222,
    "start_time": "2022-06-20T09:58:00.712Z"
   },
   {
    "duration": 6,
    "start_time": "2022-06-20T09:58:00.935Z"
   },
   {
    "duration": 242,
    "start_time": "2022-06-20T09:58:00.942Z"
   },
   {
    "duration": 266,
    "start_time": "2022-06-20T09:58:01.186Z"
   },
   {
    "duration": 74,
    "start_time": "2022-06-20T09:58:01.454Z"
   },
   {
    "duration": 7,
    "start_time": "2022-06-20T09:58:01.530Z"
   },
   {
    "duration": 35,
    "start_time": "2022-06-20T09:58:01.539Z"
   },
   {
    "duration": 58,
    "start_time": "2022-06-20T09:58:01.576Z"
   },
   {
    "duration": 16,
    "start_time": "2022-06-20T09:58:01.636Z"
   },
   {
    "duration": 1327,
    "start_time": "2022-06-20T09:58:01.654Z"
   },
   {
    "duration": 13,
    "start_time": "2022-06-20T09:58:02.983Z"
   },
   {
    "duration": 13,
    "start_time": "2022-06-20T09:58:02.998Z"
   },
   {
    "duration": 35,
    "start_time": "2022-06-20T09:58:03.023Z"
   },
   {
    "duration": 14,
    "start_time": "2022-06-20T09:58:03.059Z"
   },
   {
    "duration": 8,
    "start_time": "2022-06-20T09:58:03.075Z"
   },
   {
    "duration": 289,
    "start_time": "2022-06-20T09:58:03.084Z"
   },
   {
    "duration": 340,
    "start_time": "2022-06-20T09:58:03.376Z"
   },
   {
    "duration": 275,
    "start_time": "2022-06-20T09:58:03.718Z"
   },
   {
    "duration": 39,
    "start_time": "2022-06-20T09:58:03.995Z"
   },
   {
    "duration": 329,
    "start_time": "2022-06-20T09:58:04.036Z"
   },
   {
    "duration": 5,
    "start_time": "2022-06-20T09:58:04.367Z"
   },
   {
    "duration": 20,
    "start_time": "2022-06-20T09:58:04.374Z"
   },
   {
    "duration": 12,
    "start_time": "2022-06-20T09:58:04.395Z"
   },
   {
    "duration": 24,
    "start_time": "2022-06-20T09:58:04.423Z"
   },
   {
    "duration": 6,
    "start_time": "2022-06-20T09:58:04.448Z"
   },
   {
    "duration": 18,
    "start_time": "2022-06-20T09:58:04.455Z"
   },
   {
    "duration": 14,
    "start_time": "2022-06-20T09:58:04.474Z"
   },
   {
    "duration": 1485,
    "start_time": "2022-06-23T05:24:57.778Z"
   },
   {
    "duration": 86,
    "start_time": "2022-06-23T05:24:59.266Z"
   },
   {
    "duration": 16,
    "start_time": "2022-06-23T05:24:59.354Z"
   },
   {
    "duration": 16,
    "start_time": "2022-06-23T05:24:59.372Z"
   },
   {
    "duration": 20,
    "start_time": "2022-06-23T05:24:59.390Z"
   },
   {
    "duration": 31,
    "start_time": "2022-06-23T05:24:59.412Z"
   },
   {
    "duration": 14,
    "start_time": "2022-06-23T05:24:59.445Z"
   },
   {
    "duration": 20,
    "start_time": "2022-06-23T05:24:59.460Z"
   },
   {
    "duration": 9,
    "start_time": "2022-06-23T05:24:59.482Z"
   },
   {
    "duration": 52,
    "start_time": "2022-06-23T05:24:59.494Z"
   },
   {
    "duration": 25,
    "start_time": "2022-06-23T05:24:59.549Z"
   },
   {
    "duration": 9,
    "start_time": "2022-06-23T05:24:59.576Z"
   },
   {
    "duration": 17,
    "start_time": "2022-06-23T05:24:59.587Z"
   },
   {
    "duration": 37,
    "start_time": "2022-06-23T05:24:59.606Z"
   },
   {
    "duration": 14,
    "start_time": "2022-06-23T05:24:59.645Z"
   },
   {
    "duration": 10,
    "start_time": "2022-06-23T05:24:59.661Z"
   },
   {
    "duration": 5,
    "start_time": "2022-06-23T05:24:59.672Z"
   },
   {
    "duration": 502,
    "start_time": "2022-06-23T05:24:59.679Z"
   },
   {
    "duration": 8,
    "start_time": "2022-06-23T05:25:00.183Z"
   },
   {
    "duration": 56,
    "start_time": "2022-06-23T05:25:00.193Z"
   },
   {
    "duration": 36,
    "start_time": "2022-06-23T05:25:00.251Z"
   },
   {
    "duration": 1604,
    "start_time": "2022-06-23T05:25:00.288Z"
   },
   {
    "duration": 17,
    "start_time": "2022-06-23T05:25:01.894Z"
   },
   {
    "duration": 29,
    "start_time": "2022-06-23T05:25:01.914Z"
   },
   {
    "duration": 15,
    "start_time": "2022-06-23T05:25:01.944Z"
   },
   {
    "duration": 53,
    "start_time": "2022-06-23T05:25:01.961Z"
   },
   {
    "duration": 38,
    "start_time": "2022-06-23T05:25:02.017Z"
   },
   {
    "duration": 846,
    "start_time": "2022-06-23T05:25:02.061Z"
   },
   {
    "duration": 19,
    "start_time": "2022-06-23T05:25:02.909Z"
   },
   {
    "duration": 18,
    "start_time": "2022-06-23T05:25:02.942Z"
   },
   {
    "duration": 5,
    "start_time": "2022-06-23T05:25:02.962Z"
   },
   {
    "duration": 20,
    "start_time": "2022-06-23T05:25:02.969Z"
   },
   {
    "duration": 50,
    "start_time": "2022-06-23T05:25:02.993Z"
   },
   {
    "duration": 21,
    "start_time": "2022-06-23T05:25:03.046Z"
   },
   {
    "duration": 650,
    "start_time": "2022-06-23T05:25:03.069Z"
   },
   {
    "duration": 10,
    "start_time": "2022-06-23T05:25:03.721Z"
   },
   {
    "duration": 8,
    "start_time": "2022-06-23T05:25:03.742Z"
   },
   {
    "duration": 21,
    "start_time": "2022-06-23T05:25:03.752Z"
   },
   {
    "duration": 12,
    "start_time": "2022-06-23T05:25:03.774Z"
   },
   {
    "duration": 19,
    "start_time": "2022-06-23T05:25:03.788Z"
   },
   {
    "duration": 47,
    "start_time": "2022-06-23T05:25:03.808Z"
   },
   {
    "duration": 15,
    "start_time": "2022-06-23T05:25:03.857Z"
   },
   {
    "duration": 23,
    "start_time": "2022-06-23T05:25:03.874Z"
   },
   {
    "duration": 5,
    "start_time": "2022-06-23T05:25:03.898Z"
   },
   {
    "duration": 282,
    "start_time": "2022-06-23T05:25:03.905Z"
   },
   {
    "duration": 236,
    "start_time": "2022-06-23T05:25:04.188Z"
   },
   {
    "duration": 234,
    "start_time": "2022-06-23T05:25:04.425Z"
   },
   {
    "duration": 6,
    "start_time": "2022-06-23T05:25:04.660Z"
   },
   {
    "duration": 280,
    "start_time": "2022-06-23T05:25:04.667Z"
   },
   {
    "duration": 284,
    "start_time": "2022-06-23T05:25:04.949Z"
   },
   {
    "duration": 67,
    "start_time": "2022-06-23T05:25:05.235Z"
   },
   {
    "duration": 6,
    "start_time": "2022-06-23T05:25:05.303Z"
   },
   {
    "duration": 14,
    "start_time": "2022-06-23T05:25:05.311Z"
   },
   {
    "duration": 35,
    "start_time": "2022-06-23T05:25:05.327Z"
   },
   {
    "duration": 10,
    "start_time": "2022-06-23T05:25:05.363Z"
   },
   {
    "duration": 1338,
    "start_time": "2022-06-23T05:25:05.376Z"
   },
   {
    "duration": 33,
    "start_time": "2022-06-23T05:25:06.718Z"
   },
   {
    "duration": 18,
    "start_time": "2022-06-23T05:25:06.754Z"
   },
   {
    "duration": 52,
    "start_time": "2022-06-23T05:25:06.774Z"
   },
   {
    "duration": 35,
    "start_time": "2022-06-23T05:25:06.829Z"
   },
   {
    "duration": 17,
    "start_time": "2022-06-23T05:25:06.866Z"
   },
   {
    "duration": 336,
    "start_time": "2022-06-23T05:25:06.886Z"
   },
   {
    "duration": 355,
    "start_time": "2022-06-23T05:25:07.224Z"
   },
   {
    "duration": 308,
    "start_time": "2022-06-23T05:25:07.581Z"
   },
   {
    "duration": 34,
    "start_time": "2022-06-23T05:25:07.891Z"
   },
   {
    "duration": 364,
    "start_time": "2022-06-23T05:25:07.941Z"
   },
   {
    "duration": 6,
    "start_time": "2022-06-23T05:25:08.307Z"
   },
   {
    "duration": 31,
    "start_time": "2022-06-23T05:25:08.314Z"
   },
   {
    "duration": 12,
    "start_time": "2022-06-23T05:25:08.347Z"
   },
   {
    "duration": 27,
    "start_time": "2022-06-23T05:25:08.361Z"
   },
   {
    "duration": 6,
    "start_time": "2022-06-23T05:25:08.391Z"
   },
   {
    "duration": 43,
    "start_time": "2022-06-23T05:25:08.399Z"
   },
   {
    "duration": 4,
    "start_time": "2022-06-23T05:25:08.444Z"
   },
   {
    "duration": 235,
    "start_time": "2022-06-23T05:26:09.267Z"
   }
  ],
  "kernelspec": {
   "display_name": "Python 3 (ipykernel)",
   "language": "python",
   "name": "python3"
  },
  "language_info": {
   "codemirror_mode": {
    "name": "ipython",
    "version": 3
   },
   "file_extension": ".py",
   "mimetype": "text/x-python",
   "name": "python",
   "nbconvert_exporter": "python",
   "pygments_lexer": "ipython3",
   "version": "3.10.1"
  },
  "toc": {
   "base_numbering": 1,
   "nav_menu": {},
   "number_sections": true,
   "sideBar": true,
   "skip_h1_title": true,
   "title_cell": "Table of Contents",
   "title_sidebar": "Contents",
   "toc_cell": false,
   "toc_position": {
    "height": "calc(100% - 180px)",
    "left": "10px",
    "top": "150px",
    "width": "384px"
   },
   "toc_section_display": true,
   "toc_window_display": true
  }
 },
 "nbformat": 4,
 "nbformat_minor": 2
}
