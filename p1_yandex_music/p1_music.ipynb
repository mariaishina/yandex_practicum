{
 "cells": [
  {
   "cell_type": "markdown",
   "metadata": {
    "id": "E0vqbgi9ay0H"
   },
   "source": [
    "# Яндекс.Музыка: сравнение предпочтений жителей Москвы и Санкт-Петербурга"
   ]
  },
  {
   "cell_type": "markdown",
   "metadata": {
    "toc": true
   },
   "source": [
    "<h1>Оглавление<span class=\"tocSkip\"></span></h1>\n",
    "<div class=\"toc\"><ul class=\"toc-item\"><li><span><a href=\"#Цель-исследования\" data-toc-modified-id=\"Цель-исследования-1\"><span class=\"toc-item-num\">1&nbsp;&nbsp;</span>Цель исследования</a></span></li><li><span><a href=\"#Обзор-данных\" data-toc-modified-id=\"Обзор-данных-2\"><span class=\"toc-item-num\">2&nbsp;&nbsp;</span>Обзор данных</a></span></li><li><span><a href=\"#Предобработка-данных\" data-toc-modified-id=\"Предобработка-данных-3\"><span class=\"toc-item-num\">3&nbsp;&nbsp;</span>Предобработка данных</a></span><ul class=\"toc-item\"><li><span><a href=\"#Стиль-заголовков\" data-toc-modified-id=\"Стиль-заголовков-3.1\"><span class=\"toc-item-num\">3.1&nbsp;&nbsp;</span>Стиль заголовков</a></span></li><li><span><a href=\"#Пропуски-значений\" data-toc-modified-id=\"Пропуски-значений-3.2\"><span class=\"toc-item-num\">3.2&nbsp;&nbsp;</span>Пропуски значений</a></span></li><li><span><a href=\"#Дубликаты\" data-toc-modified-id=\"Дубликаты-3.3\"><span class=\"toc-item-num\">3.3&nbsp;&nbsp;</span>Дубликаты</a></span></li></ul></li><li><span><a href=\"#Проверка-гипотез\" data-toc-modified-id=\"Проверка-гипотез-4\"><span class=\"toc-item-num\">4&nbsp;&nbsp;</span>Проверка гипотез</a></span><ul class=\"toc-item\"><li><span><a href=\"#Сравнение-поведения-пользователей-двух-столиц\" data-toc-modified-id=\"Сравнение-поведения-пользователей-двух-столиц-4.1\"><span class=\"toc-item-num\">4.1&nbsp;&nbsp;</span>Сравнение поведения пользователей двух столиц</a></span></li><li><span><a href=\"#Музыка-в-начале-и-в-конце-недели\" data-toc-modified-id=\"Музыка-в-начале-и-в-конце-недели-4.2\"><span class=\"toc-item-num\">4.2&nbsp;&nbsp;</span>Музыка в начале и в конце недели</a></span></li><li><span><a href=\"#Жанровые-предпочтения-в-Москве-и-Петербурге\" data-toc-modified-id=\"Жанровые-предпочтения-в-Москве-и-Петербурге-4.3\"><span class=\"toc-item-num\">4.3&nbsp;&nbsp;</span>Жанровые предпочтения в Москве и Петербурге</a></span></li></ul></li><li><span><a href=\"#Итоги-исследования\" data-toc-modified-id=\"Итоги-исследования-5\"><span class=\"toc-item-num\">5&nbsp;&nbsp;</span>Итоги исследования</a></span></li></ul></div>"
   ]
  },
  {
   "cell_type": "markdown",
   "metadata": {
    "id": "Ml1hmfXC_Zcs"
   },
   "source": [
    "## Цель исследования\n",
    "\n"
   ]
  },
  {
   "cell_type": "markdown",
   "metadata": {
    "id": "VUC88oWjTJw2"
   },
   "source": [
    "**Задача**: сравнить поведение пользователей сервиса Яндекс.Музыка в Москве и Санкт-Петербурге.\n",
    "\n",
    "Необходимо проверить три гипотезы:\n",
    "1. Активность пользователей зависит от дня недели. Причём в Москве и Петербурге это проявляется по-разному.\n",
    "2. В понедельник утром в Москве преобладают одни жанры, а в Петербурге — другие. Так же и вечером пятницы преобладают разные жанры — в зависимости от города. \n",
    "3. Москва и Петербург предпочитают разные жанры музыки. В Москве чаще слушают поп-музыку, в Петербурге — русский рэп."
   ]
  },
  {
   "cell_type": "markdown",
   "metadata": {
    "id": "Ml1hmfXC_Zcs"
   },
   "source": [
    "## Обзор данных\n",
    "\n"
   ]
  },
  {
   "cell_type": "markdown",
   "metadata": {},
   "source": [
    "Импортируем библиотеку pandas:"
   ]
  },
  {
   "cell_type": "code",
   "execution_count": 1,
   "metadata": {
    "id": "AXN7PHPN_Zcs"
   },
   "outputs": [],
   "source": [
    "import pandas as pd"
   ]
  },
  {
   "cell_type": "markdown",
   "metadata": {},
   "source": [
    "Прочитаем файл с данными и сохраним его в df:"
   ]
  },
  {
   "cell_type": "code",
   "execution_count": 2,
   "metadata": {
    "id": "fFVu7vqh_Zct"
   },
   "outputs": [],
   "source": [
    "df = pd.read_csv('yandex_music_project.csv')"
   ]
  },
  {
   "cell_type": "markdown",
   "metadata": {},
   "source": [
    "Выведем первые 10 строк датасета:"
   ]
  },
  {
   "cell_type": "code",
   "execution_count": 3,
   "metadata": {
    "id": "oWTVX3gW_Zct",
    "scrolled": true
   },
   "outputs": [
    {
     "data": {
      "text/html": [
       "<div>\n",
       "<style scoped>\n",
       "    .dataframe tbody tr th:only-of-type {\n",
       "        vertical-align: middle;\n",
       "    }\n",
       "\n",
       "    .dataframe tbody tr th {\n",
       "        vertical-align: top;\n",
       "    }\n",
       "\n",
       "    .dataframe thead th {\n",
       "        text-align: right;\n",
       "    }\n",
       "</style>\n",
       "<table border=\"1\" class=\"dataframe\">\n",
       "  <thead>\n",
       "    <tr style=\"text-align: right;\">\n",
       "      <th></th>\n",
       "      <th>userID</th>\n",
       "      <th>Track</th>\n",
       "      <th>artist</th>\n",
       "      <th>genre</th>\n",
       "      <th>City</th>\n",
       "      <th>time</th>\n",
       "      <th>Day</th>\n",
       "    </tr>\n",
       "  </thead>\n",
       "  <tbody>\n",
       "    <tr>\n",
       "      <th>0</th>\n",
       "      <td>FFB692EC</td>\n",
       "      <td>Kamigata To Boots</td>\n",
       "      <td>The Mass Missile</td>\n",
       "      <td>rock</td>\n",
       "      <td>Saint-Petersburg</td>\n",
       "      <td>20:28:33</td>\n",
       "      <td>Wednesday</td>\n",
       "    </tr>\n",
       "    <tr>\n",
       "      <th>1</th>\n",
       "      <td>55204538</td>\n",
       "      <td>Delayed Because of Accident</td>\n",
       "      <td>Andreas Rönnberg</td>\n",
       "      <td>rock</td>\n",
       "      <td>Moscow</td>\n",
       "      <td>14:07:09</td>\n",
       "      <td>Friday</td>\n",
       "    </tr>\n",
       "    <tr>\n",
       "      <th>2</th>\n",
       "      <td>20EC38</td>\n",
       "      <td>Funiculì funiculà</td>\n",
       "      <td>Mario Lanza</td>\n",
       "      <td>pop</td>\n",
       "      <td>Saint-Petersburg</td>\n",
       "      <td>20:58:07</td>\n",
       "      <td>Wednesday</td>\n",
       "    </tr>\n",
       "    <tr>\n",
       "      <th>3</th>\n",
       "      <td>A3DD03C9</td>\n",
       "      <td>Dragons in the Sunset</td>\n",
       "      <td>Fire + Ice</td>\n",
       "      <td>folk</td>\n",
       "      <td>Saint-Petersburg</td>\n",
       "      <td>08:37:09</td>\n",
       "      <td>Monday</td>\n",
       "    </tr>\n",
       "    <tr>\n",
       "      <th>4</th>\n",
       "      <td>E2DC1FAE</td>\n",
       "      <td>Soul People</td>\n",
       "      <td>Space Echo</td>\n",
       "      <td>dance</td>\n",
       "      <td>Moscow</td>\n",
       "      <td>08:34:34</td>\n",
       "      <td>Monday</td>\n",
       "    </tr>\n",
       "    <tr>\n",
       "      <th>5</th>\n",
       "      <td>842029A1</td>\n",
       "      <td>Преданная</td>\n",
       "      <td>IMPERVTOR</td>\n",
       "      <td>rusrap</td>\n",
       "      <td>Saint-Petersburg</td>\n",
       "      <td>13:09:41</td>\n",
       "      <td>Friday</td>\n",
       "    </tr>\n",
       "    <tr>\n",
       "      <th>6</th>\n",
       "      <td>4CB90AA5</td>\n",
       "      <td>True</td>\n",
       "      <td>Roman Messer</td>\n",
       "      <td>dance</td>\n",
       "      <td>Moscow</td>\n",
       "      <td>13:00:07</td>\n",
       "      <td>Wednesday</td>\n",
       "    </tr>\n",
       "    <tr>\n",
       "      <th>7</th>\n",
       "      <td>F03E1C1F</td>\n",
       "      <td>Feeling This Way</td>\n",
       "      <td>Polina Griffith</td>\n",
       "      <td>dance</td>\n",
       "      <td>Moscow</td>\n",
       "      <td>20:47:49</td>\n",
       "      <td>Wednesday</td>\n",
       "    </tr>\n",
       "    <tr>\n",
       "      <th>8</th>\n",
       "      <td>8FA1D3BE</td>\n",
       "      <td>И вновь продолжается бой</td>\n",
       "      <td>NaN</td>\n",
       "      <td>ruspop</td>\n",
       "      <td>Moscow</td>\n",
       "      <td>09:17:40</td>\n",
       "      <td>Friday</td>\n",
       "    </tr>\n",
       "    <tr>\n",
       "      <th>9</th>\n",
       "      <td>E772D5C0</td>\n",
       "      <td>Pessimist</td>\n",
       "      <td>NaN</td>\n",
       "      <td>dance</td>\n",
       "      <td>Saint-Petersburg</td>\n",
       "      <td>21:20:49</td>\n",
       "      <td>Wednesday</td>\n",
       "    </tr>\n",
       "  </tbody>\n",
       "</table>\n",
       "</div>"
      ],
      "text/plain": [
       "     userID                        Track            artist   genre  \\\n",
       "0  FFB692EC            Kamigata To Boots  The Mass Missile    rock   \n",
       "1  55204538  Delayed Because of Accident  Andreas Rönnberg    rock   \n",
       "2    20EC38            Funiculì funiculà       Mario Lanza     pop   \n",
       "3  A3DD03C9        Dragons in the Sunset        Fire + Ice    folk   \n",
       "4  E2DC1FAE                  Soul People        Space Echo   dance   \n",
       "5  842029A1                    Преданная         IMPERVTOR  rusrap   \n",
       "6  4CB90AA5                         True      Roman Messer   dance   \n",
       "7  F03E1C1F             Feeling This Way   Polina Griffith   dance   \n",
       "8  8FA1D3BE     И вновь продолжается бой               NaN  ruspop   \n",
       "9  E772D5C0                    Pessimist               NaN   dance   \n",
       "\n",
       "             City        time        Day  \n",
       "0  Saint-Petersburg  20:28:33  Wednesday  \n",
       "1            Moscow  14:07:09     Friday  \n",
       "2  Saint-Petersburg  20:58:07  Wednesday  \n",
       "3  Saint-Petersburg  08:37:09     Monday  \n",
       "4            Moscow  08:34:34     Monday  \n",
       "5  Saint-Petersburg  13:09:41     Friday  \n",
       "6            Moscow  13:00:07  Wednesday  \n",
       "7            Moscow  20:47:49  Wednesday  \n",
       "8            Moscow  09:17:40     Friday  \n",
       "9  Saint-Petersburg  21:20:49  Wednesday  "
      ]
     },
     "execution_count": 3,
     "metadata": {},
     "output_type": "execute_result"
    }
   ],
   "source": [
    "df.head(10)"
   ]
  },
  {
   "cell_type": "markdown",
   "metadata": {
    "id": "EO73Kwic_Zct"
   },
   "source": [
    "Получим общую информацию о таблице:"
   ]
  },
  {
   "cell_type": "code",
   "execution_count": 4,
   "metadata": {
    "id": "DSf2kIb-_Zct",
    "scrolled": true
   },
   "outputs": [
    {
     "name": "stdout",
     "output_type": "stream",
     "text": [
      "<class 'pandas.core.frame.DataFrame'>\n",
      "RangeIndex: 65079 entries, 0 to 65078\n",
      "Data columns (total 7 columns):\n",
      " #   Column    Non-Null Count  Dtype \n",
      "---  ------    --------------  ----- \n",
      " 0     userID  65079 non-null  object\n",
      " 1   Track     63848 non-null  object\n",
      " 2   artist    57876 non-null  object\n",
      " 3   genre     63881 non-null  object\n",
      " 4     City    65079 non-null  object\n",
      " 5   time      65079 non-null  object\n",
      " 6   Day       65079 non-null  object\n",
      "dtypes: object(7)\n",
      "memory usage: 3.5+ MB\n"
     ]
    }
   ],
   "source": [
    "\n",
    "df.info()"
   ]
  },
  {
   "cell_type": "markdown",
   "metadata": {
    "id": "TaQ2Iwbr_Zct"
   },
   "source": [
    "Итак, в таблице семь столбцов. Тип данных во всех столбцах — `object`.\n",
    "\n",
    "Согласно документации к данным:\n",
    "* `userID` — идентификатор пользователя;\n",
    "* `Track` — название трека;  \n",
    "* `artist` — имя исполнителя;\n",
    "* `genre` — название жанра;\n",
    "* `City` — город пользователя;\n",
    "* `time` — время начала прослушивания;\n",
    "* `Day` — день недели.\n",
    "\n",
    "В названиях колонок видны три нарушения стиля:\n",
    "1. Строчные буквы сочетаются с прописными.\n",
    "2. Встречаются пробелы.\n",
    "3. Названия столбцов недостаточно информативны.\n",
    "4. Вместо змеиного регистра используется верблюжий.\n",
    "\n",
    "\n",
    "\n",
    "Количество значений в столбцах различается. Значит, в данных есть пропуски.\n"
   ]
  },
  {
   "cell_type": "markdown",
   "metadata": {
    "id": "MCB6-dXG_Zct"
   },
   "source": [
    "**Выводы**\n",
    "\n",
    "Каждая строка датасета представляет собой данные о прослушанном треке. Часть колонок описывает саму композицию: название, исполнителя и жанр. Остальные данные рассказывают о пользователе: из какого он города и когда слушал трек. \n",
    "\n",
    "Предварительно можно утверждать, что, данных достаточно для проверки гипотез. Но есть недочеты -  пропуски и расхождения с хорошим стилем. Недочеты устраним в ходе предобработки данных."
   ]
  },
  {
   "cell_type": "markdown",
   "metadata": {
    "id": "SjYF6Ub9_Zct"
   },
   "source": [
    "## Предобработка данных"
   ]
  },
  {
   "cell_type": "markdown",
   "metadata": {
    "id": "dIaKXr29_Zct"
   },
   "source": [
    "### Стиль заголовков"
   ]
  },
  {
   "cell_type": "markdown",
   "metadata": {},
   "source": [
    "Выведем названия столбцов:"
   ]
  },
  {
   "cell_type": "code",
   "execution_count": 5,
   "metadata": {
    "id": "oKOTdF_Q_Zct"
   },
   "outputs": [
    {
     "data": {
      "text/plain": [
       "Index(['  userID', 'Track', 'artist', 'genre', '  City  ', 'time', 'Day'], dtype='object')"
      ]
     },
     "execution_count": 5,
     "metadata": {},
     "output_type": "execute_result"
    }
   ],
   "source": [
    "df.columns"
   ]
  },
  {
   "cell_type": "markdown",
   "metadata": {
    "id": "zj5534cv_Zct"
   },
   "source": [
    "Приведем названия столбцов к змеиному регистру и уберем лишние пробелы:"
   ]
  },
  {
   "cell_type": "code",
   "execution_count": 6,
   "metadata": {
    "id": "ISlFqs5y_Zct"
   },
   "outputs": [],
   "source": [
    "df = df.rename(columns={'  userID': 'user_id', 'Track':'track', '  City  ': 'city', 'Day': 'week_day'})"
   ]
  },
  {
   "cell_type": "markdown",
   "metadata": {
    "id": "1dqbh00J_Zct"
   },
   "source": [
    "Проверим результат:"
   ]
  },
  {
   "cell_type": "code",
   "execution_count": 7,
   "metadata": {
    "id": "d4NOAmTW_Zct"
   },
   "outputs": [
    {
     "data": {
      "text/plain": [
       "Index(['user_id', 'track', 'artist', 'genre', 'city', 'time', 'week_day'], dtype='object')"
      ]
     },
     "execution_count": 7,
     "metadata": {},
     "output_type": "execute_result"
    }
   ],
   "source": [
    "df.columns"
   ]
  },
  {
   "cell_type": "markdown",
   "metadata": {
    "id": "5ISfbcfY_Zct"
   },
   "source": [
    "### Пропуски значений"
   ]
  },
  {
   "cell_type": "markdown",
   "metadata": {},
   "source": [
    "Посчитаем количество пропусков в данных:"
   ]
  },
  {
   "cell_type": "code",
   "execution_count": 8,
   "metadata": {
    "id": "RskX29qr_Zct",
    "scrolled": true
   },
   "outputs": [
    {
     "data": {
      "text/plain": [
       "user_id        0\n",
       "track       1231\n",
       "artist      7203\n",
       "genre       1198\n",
       "city           0\n",
       "time           0\n",
       "week_day       0\n",
       "dtype: int64"
      ]
     },
     "execution_count": 8,
     "metadata": {},
     "output_type": "execute_result"
    }
   ],
   "source": [
    "df.isna().sum()"
   ]
  },
  {
   "cell_type": "markdown",
   "metadata": {
    "id": "qubhgnlO_Zct"
   },
   "source": [
    "Пропуски в `track` и `artist` не важны для выполнения поставленной задачи. Поэтому можем заменить на 'unknown'.\n",
    "\n",
    "Но пропуски в `genre` могут помешать сравнению музыкальных вкусов в Москве и Санкт-Петербурге. На практике было бы правильно установить причину пропусков и восстановить данные. Но такой возможности нет. Попробуем также заполнить их на 'unknown' и оценим, насколько они повредят расчётам. "
   ]
  },
  {
   "cell_type": "code",
   "execution_count": 9,
   "metadata": {
    "id": "KplB5qWs_Zct"
   },
   "outputs": [],
   "source": [
    "columns_to_replace = ['track', 'artist', 'genre']\n",
    "\n",
    "for column in columns_to_replace:\n",
    "    df[column] = df[column].fillna('unknown')"
   ]
  },
  {
   "cell_type": "markdown",
   "metadata": {
    "id": "Ilsm-MZo_Zct"
   },
   "source": [
    "Убедимся, что в таблице не осталось пропусков:"
   ]
  },
  {
   "cell_type": "code",
   "execution_count": 10,
   "metadata": {
    "id": "Tq4nYRX4_Zct",
    "scrolled": true
   },
   "outputs": [
    {
     "data": {
      "text/plain": [
       "user_id     0\n",
       "track       0\n",
       "artist      0\n",
       "genre       0\n",
       "city        0\n",
       "time        0\n",
       "week_day    0\n",
       "dtype: int64"
      ]
     },
     "execution_count": 10,
     "metadata": {},
     "output_type": "execute_result"
    }
   ],
   "source": [
    "df.isna().sum()"
   ]
  },
  {
   "cell_type": "markdown",
   "metadata": {
    "id": "BWKRtBJ3_Zct"
   },
   "source": [
    "### Дубликаты"
   ]
  },
  {
   "cell_type": "markdown",
   "metadata": {},
   "source": [
    "Посчитаем количество явных дубликатов:"
   ]
  },
  {
   "cell_type": "code",
   "execution_count": 11,
   "metadata": {
    "id": "36eES_S0_Zct",
    "scrolled": true
   },
   "outputs": [
    {
     "data": {
      "text/plain": [
       "3826"
      ]
     },
     "execution_count": 11,
     "metadata": {},
     "output_type": "execute_result"
    }
   ],
   "source": [
    "df.duplicated().sum()"
   ]
  },
  {
   "cell_type": "markdown",
   "metadata": {
    "id": "Ot25h6XR_Zct"
   },
   "source": [
    "Дубликаты нам не нужны, удалим их:"
   ]
  },
  {
   "cell_type": "code",
   "execution_count": 12,
   "metadata": {
    "id": "exFHq6tt_Zct"
   },
   "outputs": [],
   "source": [
    "df = df.drop_duplicates().reset_index(drop=True)"
   ]
  },
  {
   "cell_type": "markdown",
   "metadata": {
    "id": "Im2YwBEG_Zct"
   },
   "source": [
    "Убедимся, что дубликатов не осталось:"
   ]
  },
  {
   "cell_type": "code",
   "execution_count": 13,
   "metadata": {
    "id": "-8PuNWQ0_Zct"
   },
   "outputs": [
    {
     "data": {
      "text/plain": [
       "0"
      ]
     },
     "execution_count": 13,
     "metadata": {},
     "output_type": "execute_result"
    }
   ],
   "source": [
    "df.duplicated().sum()"
   ]
  },
  {
   "cell_type": "markdown",
   "metadata": {
    "id": "QlFBsxAr_Zct"
   },
   "source": [
    "Теперь проверим неявные дубликаты в колонке `genre`, для этого выведем список уникальных названий жанров:"
   ]
  },
  {
   "cell_type": "code",
   "execution_count": 14,
   "metadata": {
    "id": "JIUcqzZN_Zct",
    "scrolled": true
   },
   "outputs": [
    {
     "data": {
      "text/plain": [
       "array(['acid', 'acoustic', 'action', 'adult', 'africa', 'afrikaans',\n",
       "       'alternative', 'alternativepunk', 'ambient', 'americana',\n",
       "       'animated', 'anime', 'arabesk', 'arabic', 'arena',\n",
       "       'argentinetango', 'art', 'audiobook', 'author', 'avantgarde',\n",
       "       'axé', 'baile', 'balkan', 'beats', 'bigroom', 'black', 'bluegrass',\n",
       "       'blues', 'bollywood', 'bossa', 'brazilian', 'breakbeat', 'breaks',\n",
       "       'broadway', 'cantautori', 'cantopop', 'canzone', 'caribbean',\n",
       "       'caucasian', 'celtic', 'chamber', 'chanson', 'children', 'chill',\n",
       "       'chinese', 'choral', 'christian', 'christmas', 'classical',\n",
       "       'classicmetal', 'club', 'colombian', 'comedy', 'conjazz',\n",
       "       'contemporary', 'country', 'cuban', 'dance', 'dancehall',\n",
       "       'dancepop', 'dark', 'death', 'deep', 'deutschrock', 'deutschspr',\n",
       "       'dirty', 'disco', 'dnb', 'documentary', 'downbeat', 'downtempo',\n",
       "       'drum', 'dub', 'dubstep', 'eastern', 'easy', 'electronic',\n",
       "       'electropop', 'emo', 'entehno', 'epicmetal', 'estrada', 'ethnic',\n",
       "       'eurofolk', 'european', 'experimental', 'extrememetal', 'fado',\n",
       "       'fairytail', 'film', 'fitness', 'flamenco', 'folk', 'folklore',\n",
       "       'folkmetal', 'folkrock', 'folktronica', 'forró', 'frankreich',\n",
       "       'französisch', 'french', 'funk', 'future', 'gangsta', 'garage',\n",
       "       'german', 'ghazal', 'gitarre', 'glitch', 'gospel', 'gothic',\n",
       "       'grime', 'grunge', 'gypsy', 'handsup', \"hard'n'heavy\", 'hardcore',\n",
       "       'hardstyle', 'hardtechno', 'hip', 'hip-hop', 'hiphop',\n",
       "       'historisch', 'holiday', 'hop', 'horror', 'house', 'hymn', 'idm',\n",
       "       'independent', 'indian', 'indie', 'indipop', 'industrial',\n",
       "       'inspirational', 'instrumental', 'international', 'irish', 'jam',\n",
       "       'japanese', 'jazz', 'jewish', 'jpop', 'jungle', 'k-pop',\n",
       "       'karadeniz', 'karaoke', 'kayokyoku', 'korean', 'laiko', 'latin',\n",
       "       'latino', 'leftfield', 'local', 'lounge', 'loungeelectronic',\n",
       "       'lovers', 'malaysian', 'mandopop', 'marschmusik', 'meditative',\n",
       "       'mediterranean', 'melodic', 'metal', 'metalcore', 'mexican',\n",
       "       'middle', 'minimal', 'miscellaneous', 'modern', 'mood', 'mpb',\n",
       "       'muslim', 'native', 'neoklassik', 'neue', 'new', 'newage',\n",
       "       'newwave', 'nu', 'nujazz', 'numetal', 'oceania', 'old', 'opera',\n",
       "       'orchestral', 'other', 'piano', 'podcasts', 'pop', 'popdance',\n",
       "       'popelectronic', 'popeurodance', 'poprussian', 'post',\n",
       "       'posthardcore', 'postrock', 'power', 'progmetal', 'progressive',\n",
       "       'psychedelic', 'punjabi', 'punk', 'quebecois', 'ragga', 'ram',\n",
       "       'rancheras', 'rap', 'rave', 'reggae', 'reggaeton', 'regional',\n",
       "       'relax', 'religious', 'retro', 'rhythm', 'rnb', 'rnr', 'rock',\n",
       "       'rockabilly', 'rockalternative', 'rockindie', 'rockother',\n",
       "       'romance', 'roots', 'ruspop', 'rusrap', 'rusrock', 'russian',\n",
       "       'salsa', 'samba', 'scenic', 'schlager', 'self', 'sertanejo',\n",
       "       'shanson', 'shoegazing', 'showtunes', 'singer', 'ska', 'skarock',\n",
       "       'slow', 'smooth', 'soft', 'soul', 'soulful', 'sound', 'soundtrack',\n",
       "       'southern', 'specialty', 'speech', 'spiritual', 'sport',\n",
       "       'stonerrock', 'surf', 'swing', 'synthpop', 'synthrock',\n",
       "       'sängerportrait', 'tango', 'tanzorchester', 'taraftar', 'tatar',\n",
       "       'tech', 'techno', 'teen', 'thrash', 'top', 'traditional',\n",
       "       'tradjazz', 'trance', 'tribal', 'trip', 'triphop', 'tropical',\n",
       "       'türk', 'türkçe', 'ukrrock', 'unknown', 'urban', 'uzbek',\n",
       "       'variété', 'vi', 'videogame', 'vocal', 'western', 'world',\n",
       "       'worldbeat', 'ïîï', 'электроника'], dtype=object)"
      ]
     },
     "execution_count": 14,
     "metadata": {},
     "output_type": "execute_result"
    }
   ],
   "source": [
    "df['genre'].sort_values().unique()"
   ]
  },
  {
   "cell_type": "markdown",
   "metadata": {
    "id": "qej-Qmuo_Zct"
   },
   "source": [
    "Обнаружены несколько вариантов названия жанра 'hiphop':\n",
    "* 'hiphop',\n",
    "* 'hip',\n",
    "* 'hop',\n",
    "* 'hip-hop'.\n",
    "\n",
    "А также 2 варианта названия жанра 'electronic':\n",
    "* 'electronic',\n",
    "* 'электроника'\n",
    "\n",
    "Чтобы очистить от них таблицу, напишем функцию `replace_wrong_genres()` с двумя параметрами: \n",
    "* `wrong_genres` — список дубликатов,\n",
    "* `correct_genre` — строка с правильным значением.\n",
    "\n",
    "Функция будет заменять каждое значение из списка `wrong_genres` на значение из `correct_genre` в коллонке 'genre' нашего датасета."
   ]
  },
  {
   "cell_type": "code",
   "execution_count": 15,
   "metadata": {
    "id": "ErNDkmns_Zct"
   },
   "outputs": [],
   "source": [
    "def replace_wrong_genres(wrong_genres, correct_genre):\n",
    "    for wrong_genre in wrong_genres:\n",
    "        df['genre'] = df['genre'].replace(wrong_genre, correct_genre)       \n",
    "            "
   ]
  },
  {
   "cell_type": "markdown",
   "metadata": {
    "id": "aDoBJxbA_Zct"
   },
   "source": [
    "Теперь вызовем функцию и устраним дубликаты в названии жанров:"
   ]
  },
  {
   "cell_type": "code",
   "execution_count": 16,
   "metadata": {
    "id": "YN5i2hpmSo09"
   },
   "outputs": [],
   "source": [
    "replace_wrong_genres(['hip', 'hop', 'hip-hop'], 'hiphop')\n",
    "replace_wrong_genres(['электроника'], 'electronic')"
   ]
  },
  {
   "cell_type": "markdown",
   "metadata": {
    "id": "zQKF16_RG15m"
   },
   "source": [
    "Проверим, что функция сработала корректно:"
   ]
  },
  {
   "cell_type": "code",
   "execution_count": 17,
   "metadata": {
    "id": "wvixALnFG15m"
   },
   "outputs": [
    {
     "data": {
      "text/plain": [
       "array(['acid', 'acoustic', 'action', 'adult', 'africa', 'afrikaans',\n",
       "       'alternative', 'alternativepunk', 'ambient', 'americana',\n",
       "       'animated', 'anime', 'arabesk', 'arabic', 'arena',\n",
       "       'argentinetango', 'art', 'audiobook', 'author', 'avantgarde',\n",
       "       'axé', 'baile', 'balkan', 'beats', 'bigroom', 'black', 'bluegrass',\n",
       "       'blues', 'bollywood', 'bossa', 'brazilian', 'breakbeat', 'breaks',\n",
       "       'broadway', 'cantautori', 'cantopop', 'canzone', 'caribbean',\n",
       "       'caucasian', 'celtic', 'chamber', 'chanson', 'children', 'chill',\n",
       "       'chinese', 'choral', 'christian', 'christmas', 'classical',\n",
       "       'classicmetal', 'club', 'colombian', 'comedy', 'conjazz',\n",
       "       'contemporary', 'country', 'cuban', 'dance', 'dancehall',\n",
       "       'dancepop', 'dark', 'death', 'deep', 'deutschrock', 'deutschspr',\n",
       "       'dirty', 'disco', 'dnb', 'documentary', 'downbeat', 'downtempo',\n",
       "       'drum', 'dub', 'dubstep', 'eastern', 'easy', 'electronic',\n",
       "       'electropop', 'emo', 'entehno', 'epicmetal', 'estrada', 'ethnic',\n",
       "       'eurofolk', 'european', 'experimental', 'extrememetal', 'fado',\n",
       "       'fairytail', 'film', 'fitness', 'flamenco', 'folk', 'folklore',\n",
       "       'folkmetal', 'folkrock', 'folktronica', 'forró', 'frankreich',\n",
       "       'französisch', 'french', 'funk', 'future', 'gangsta', 'garage',\n",
       "       'german', 'ghazal', 'gitarre', 'glitch', 'gospel', 'gothic',\n",
       "       'grime', 'grunge', 'gypsy', 'handsup', \"hard'n'heavy\", 'hardcore',\n",
       "       'hardstyle', 'hardtechno', 'hiphop', 'historisch', 'holiday',\n",
       "       'horror', 'house', 'hymn', 'idm', 'independent', 'indian', 'indie',\n",
       "       'indipop', 'industrial', 'inspirational', 'instrumental',\n",
       "       'international', 'irish', 'jam', 'japanese', 'jazz', 'jewish',\n",
       "       'jpop', 'jungle', 'k-pop', 'karadeniz', 'karaoke', 'kayokyoku',\n",
       "       'korean', 'laiko', 'latin', 'latino', 'leftfield', 'local',\n",
       "       'lounge', 'loungeelectronic', 'lovers', 'malaysian', 'mandopop',\n",
       "       'marschmusik', 'meditative', 'mediterranean', 'melodic', 'metal',\n",
       "       'metalcore', 'mexican', 'middle', 'minimal', 'miscellaneous',\n",
       "       'modern', 'mood', 'mpb', 'muslim', 'native', 'neoklassik', 'neue',\n",
       "       'new', 'newage', 'newwave', 'nu', 'nujazz', 'numetal', 'oceania',\n",
       "       'old', 'opera', 'orchestral', 'other', 'piano', 'podcasts', 'pop',\n",
       "       'popdance', 'popelectronic', 'popeurodance', 'poprussian', 'post',\n",
       "       'posthardcore', 'postrock', 'power', 'progmetal', 'progressive',\n",
       "       'psychedelic', 'punjabi', 'punk', 'quebecois', 'ragga', 'ram',\n",
       "       'rancheras', 'rap', 'rave', 'reggae', 'reggaeton', 'regional',\n",
       "       'relax', 'religious', 'retro', 'rhythm', 'rnb', 'rnr', 'rock',\n",
       "       'rockabilly', 'rockalternative', 'rockindie', 'rockother',\n",
       "       'romance', 'roots', 'ruspop', 'rusrap', 'rusrock', 'russian',\n",
       "       'salsa', 'samba', 'scenic', 'schlager', 'self', 'sertanejo',\n",
       "       'shanson', 'shoegazing', 'showtunes', 'singer', 'ska', 'skarock',\n",
       "       'slow', 'smooth', 'soft', 'soul', 'soulful', 'sound', 'soundtrack',\n",
       "       'southern', 'specialty', 'speech', 'spiritual', 'sport',\n",
       "       'stonerrock', 'surf', 'swing', 'synthpop', 'synthrock',\n",
       "       'sängerportrait', 'tango', 'tanzorchester', 'taraftar', 'tatar',\n",
       "       'tech', 'techno', 'teen', 'thrash', 'top', 'traditional',\n",
       "       'tradjazz', 'trance', 'tribal', 'trip', 'triphop', 'tropical',\n",
       "       'türk', 'türkçe', 'ukrrock', 'unknown', 'urban', 'uzbek',\n",
       "       'variété', 'vi', 'videogame', 'vocal', 'western', 'world',\n",
       "       'worldbeat', 'ïîï'], dtype=object)"
      ]
     },
     "execution_count": 17,
     "metadata": {},
     "output_type": "execute_result"
    }
   ],
   "source": [
    "df['genre'].sort_values().unique()\n"
   ]
  },
  {
   "cell_type": "markdown",
   "metadata": {},
   "source": [
    "Проверим, не появились ли у нас новые явные дубликаты:"
   ]
  },
  {
   "cell_type": "code",
   "execution_count": 18,
   "metadata": {
    "id": "-8PuNWQ0_Zct"
   },
   "outputs": [
    {
     "data": {
      "text/plain": [
       "0"
      ]
     },
     "execution_count": 18,
     "metadata": {},
     "output_type": "execute_result"
    }
   ],
   "source": [
    "df.duplicated().sum()"
   ]
  },
  {
   "cell_type": "markdown",
   "metadata": {
    "id": "jz6a9-7HQUDd"
   },
   "source": [
    "**Выводы**\n",
    "\n",
    "В ходе предобработки данных устранены следующие недочеты:\n",
    "\n",
    "- исправлен стиль названий столбцов - приведен к змеиному регистру,\n",
    "- пропущенные значения заменены на 'unknown',\n",
    "- удалены явные дубликаты,\n",
    "- устранены неявные дубликаты в столбце `genre`.\n",
    "\n",
    "Далее мы обязательно проверим, не повредят ли исследованию пропуски в колонке `genre`.\n",
    "\n",
    "Теперь перейдем к проверке гипотез. "
   ]
  },
  {
   "cell_type": "markdown",
   "metadata": {
    "id": "WttZHXH0SqKk"
   },
   "source": [
    "## Проверка гипотез"
   ]
  },
  {
   "cell_type": "markdown",
   "metadata": {
    "id": "Im936VVi_Zcu"
   },
   "source": [
    "### Сравнение поведения пользователей двух столиц"
   ]
  },
  {
   "cell_type": "markdown",
   "metadata": {
    "id": "nwt_MuaL_Zcu"
   },
   "source": [
    "Первая гипотеза утверждает, что пользователи по-разному слушают музыку в Москве и Санкт-Петербурге. Проверим это предположение по данным о трёх днях недели — понедельнике, среде и пятнице. Для этого:\n",
    "\n",
    "* Разделим пользователей Москвы и Санкт-Петербурга\n",
    "* Сравним, сколько треков послушала каждая группа пользователей в понедельник, среду и пятницу.\n",
    "\n",
    "Сначала сгруппируем данные по городу:"
   ]
  },
  {
   "cell_type": "code",
   "execution_count": 19,
   "metadata": {
    "id": "0_Qs96oh_Zcu",
    "scrolled": true
   },
   "outputs": [
    {
     "data": {
      "text/plain": [
       "city\n",
       "Moscow              42741\n",
       "Saint-Petersburg    18512\n",
       "Name: genre, dtype: int64"
      ]
     },
     "execution_count": 19,
     "metadata": {},
     "output_type": "execute_result"
    }
   ],
   "source": [
    "df.groupby('city')['genre'].count()"
   ]
  },
  {
   "cell_type": "markdown",
   "metadata": {
    "id": "dzli3w8o_Zcu"
   },
   "source": [
    "В Москве прослушиваний больше, чем в Петербурге. Из этого не следует, что московские пользователи чаще слушают музыку. Просто самих пользователей в Москве больше.\n",
    "\n",
    "Теперь сгруппирем данные по дню недели (у нас есть данные только по 3м дням недели - пн, ср и пт):"
   ]
  },
  {
   "cell_type": "code",
   "execution_count": 20,
   "metadata": {
    "id": "uZMKjiJz_Zcu"
   },
   "outputs": [
    {
     "data": {
      "text/plain": [
       "week_day\n",
       "Friday       21840\n",
       "Monday       21354\n",
       "Wednesday    18059\n",
       "Name: genre, dtype: int64"
      ]
     },
     "execution_count": 20,
     "metadata": {},
     "output_type": "execute_result"
    }
   ],
   "source": [
    "df.groupby('week_day')['genre'].count()"
   ]
  },
  {
   "cell_type": "markdown",
   "metadata": {
    "id": "cC2tNrlL_Zcu"
   },
   "source": [
    "В среднем пользователи из двух городов менее активны по средам. Но картина может измениться, если рассмотреть каждый город в отдельности."
   ]
  },
  {
   "cell_type": "markdown",
   "metadata": {
    "id": "POzs8bGa_Zcu"
   },
   "source": [
    "Теперь напишем функцию, которая посчитает прослушивания для заданного дня и города."
   ]
  },
  {
   "cell_type": "code",
   "execution_count": 21,
   "metadata": {
    "id": "Nz3GdQB1_Zcu"
   },
   "outputs": [],
   "source": [
    "def number_tracks(day, city):\n",
    "    '''\n",
    "    Функция принимает параметры day и city.\n",
    "    В переменной track_list сохраняются те строки таблицы df, для которых значение в столбце \n",
    "    'day' равно параметру day и одновременно значение  в столбце 'city' равно параметру city.\n",
    "    В переменной track_list_count сохраняется число значений столбца 'user_id' для таблицы track_list.\n",
    "    Функция возвращает число - значение track_list_count.\n",
    "    '''\n",
    "    track_list = df[(df['week_day'] == day) & (df['city'] == city)]\n",
    "    track_list_count = track_list['user_id'].count()\n",
    "    return track_list_count"
   ]
  },
  {
   "cell_type": "markdown",
   "metadata": {
    "id": "ytf7xFrFJQ2r"
   },
   "source": [
    "Вызовем функцию `number_tracks()`, меняя значение параметров — так, чтобы получить данные для каждого города в каждый из трёх дней."
   ]
  },
  {
   "cell_type": "code",
   "execution_count": 22,
   "metadata": {},
   "outputs": [
    {
     "name": "stdout",
     "output_type": "stream",
     "text": [
      "Monday Moscow 15740\n",
      "Wednesday Moscow 11056\n",
      "Friday Moscow 15945\n",
      "Monday Saint-Petersburg 5614\n",
      "Wednesday Saint-Petersburg 7003\n",
      "Friday Saint-Petersburg 5895\n"
     ]
    }
   ],
   "source": [
    "cities = ['Moscow', 'Saint-Petersburg']\n",
    "days = ['Monday', 'Wednesday', 'Friday']\n",
    "\n",
    "for city in cities:\n",
    "    for day in days:\n",
    "        print(day, city, number_tracks(day, city))"
   ]
  },
  {
   "cell_type": "markdown",
   "metadata": {
    "id": "7QXffbO-_Zcu"
   },
   "source": [
    "Запишем результаты в таблицу для удобства восприятия:"
   ]
  },
  {
   "cell_type": "code",
   "execution_count": 23,
   "metadata": {
    "id": "APAcLpOr_Zcu",
    "scrolled": true
   },
   "outputs": [
    {
     "data": {
      "text/html": [
       "<div>\n",
       "<style scoped>\n",
       "    .dataframe tbody tr th:only-of-type {\n",
       "        vertical-align: middle;\n",
       "    }\n",
       "\n",
       "    .dataframe tbody tr th {\n",
       "        vertical-align: top;\n",
       "    }\n",
       "\n",
       "    .dataframe thead th {\n",
       "        text-align: right;\n",
       "    }\n",
       "</style>\n",
       "<table border=\"1\" class=\"dataframe\">\n",
       "  <thead>\n",
       "    <tr style=\"text-align: right;\">\n",
       "      <th></th>\n",
       "      <th>city</th>\n",
       "      <th>monday</th>\n",
       "      <th>wednesday</th>\n",
       "      <th>friday</th>\n",
       "    </tr>\n",
       "  </thead>\n",
       "  <tbody>\n",
       "    <tr>\n",
       "      <th>0</th>\n",
       "      <td>Moscow</td>\n",
       "      <td>15740</td>\n",
       "      <td>11056</td>\n",
       "      <td>15945</td>\n",
       "    </tr>\n",
       "    <tr>\n",
       "      <th>1</th>\n",
       "      <td>Saint-Petersburg</td>\n",
       "      <td>5614</td>\n",
       "      <td>7003</td>\n",
       "      <td>5895</td>\n",
       "    </tr>\n",
       "  </tbody>\n",
       "</table>\n",
       "</div>"
      ],
      "text/plain": [
       "               city  monday  wednesday  friday\n",
       "0            Moscow   15740      11056   15945\n",
       "1  Saint-Petersburg    5614       7003    5895"
      ]
     },
     "execution_count": 23,
     "metadata": {},
     "output_type": "execute_result"
    }
   ],
   "source": [
    "columns = ['city', 'monday', 'wednesday', 'friday']\n",
    "data = [['Moscow', 15740, 11056, 15945],\n",
    "        ['Saint-Petersburg', 5614, 7003, 5895]\n",
    "       ]\n",
    "pd.DataFrame(columns=columns, data=data)"
   ]
  },
  {
   "cell_type": "markdown",
   "metadata": {
    "id": "-EgPIHYu_Zcu"
   },
   "source": [
    "**Выводы**\n",
    "\n",
    "Данные показывают разницу поведения пользователей по дням недели:\n",
    "\n",
    "- В Москве пик прослушиваний приходится на понедельник и пятницу, а в среду заметен спад.\n",
    "- В Петербурге, наоборот, по средам музыку слушают больше, чем по понедельникам и пятницам."
   ]
  },
  {
   "cell_type": "markdown",
   "metadata": {
    "id": "atZAxtq4_Zcu"
   },
   "source": [
    "### Музыка в начале и в конце недели"
   ]
  },
  {
   "cell_type": "markdown",
   "metadata": {
    "id": "eXrQqXFH_Zcu"
   },
   "source": [
    "Согласно второй гипотезе, утром в понедельник в Москве преобладают одни жанры, а в Петербурге — другие. Так же и вечером пятницы преобладают разные жанры — в зависимости от города."
   ]
  },
  {
   "cell_type": "markdown",
   "metadata": {
    "id": "S8UcW6Hw_Zcu"
   },
   "source": [
    "Сохраним таблицы с данными в две переменные:\n",
    "* по Москве — в `moscow_general`;\n",
    "* по Санкт-Петербургу — в `spb_general`."
   ]
  },
  {
   "cell_type": "code",
   "execution_count": 24,
   "metadata": {
    "id": "qeaFfM_P_Zcu"
   },
   "outputs": [
    {
     "data": {
      "text/html": [
       "<div>\n",
       "<style scoped>\n",
       "    .dataframe tbody tr th:only-of-type {\n",
       "        vertical-align: middle;\n",
       "    }\n",
       "\n",
       "    .dataframe tbody tr th {\n",
       "        vertical-align: top;\n",
       "    }\n",
       "\n",
       "    .dataframe thead th {\n",
       "        text-align: right;\n",
       "    }\n",
       "</style>\n",
       "<table border=\"1\" class=\"dataframe\">\n",
       "  <thead>\n",
       "    <tr style=\"text-align: right;\">\n",
       "      <th></th>\n",
       "      <th>user_id</th>\n",
       "      <th>track</th>\n",
       "      <th>artist</th>\n",
       "      <th>genre</th>\n",
       "      <th>city</th>\n",
       "      <th>time</th>\n",
       "      <th>week_day</th>\n",
       "    </tr>\n",
       "  </thead>\n",
       "  <tbody>\n",
       "    <tr>\n",
       "      <th>1</th>\n",
       "      <td>55204538</td>\n",
       "      <td>Delayed Because of Accident</td>\n",
       "      <td>Andreas Rönnberg</td>\n",
       "      <td>rock</td>\n",
       "      <td>Moscow</td>\n",
       "      <td>14:07:09</td>\n",
       "      <td>Friday</td>\n",
       "    </tr>\n",
       "    <tr>\n",
       "      <th>4</th>\n",
       "      <td>E2DC1FAE</td>\n",
       "      <td>Soul People</td>\n",
       "      <td>Space Echo</td>\n",
       "      <td>dance</td>\n",
       "      <td>Moscow</td>\n",
       "      <td>08:34:34</td>\n",
       "      <td>Monday</td>\n",
       "    </tr>\n",
       "    <tr>\n",
       "      <th>6</th>\n",
       "      <td>4CB90AA5</td>\n",
       "      <td>True</td>\n",
       "      <td>Roman Messer</td>\n",
       "      <td>dance</td>\n",
       "      <td>Moscow</td>\n",
       "      <td>13:00:07</td>\n",
       "      <td>Wednesday</td>\n",
       "    </tr>\n",
       "    <tr>\n",
       "      <th>7</th>\n",
       "      <td>F03E1C1F</td>\n",
       "      <td>Feeling This Way</td>\n",
       "      <td>Polina Griffith</td>\n",
       "      <td>dance</td>\n",
       "      <td>Moscow</td>\n",
       "      <td>20:47:49</td>\n",
       "      <td>Wednesday</td>\n",
       "    </tr>\n",
       "    <tr>\n",
       "      <th>8</th>\n",
       "      <td>8FA1D3BE</td>\n",
       "      <td>И вновь продолжается бой</td>\n",
       "      <td>unknown</td>\n",
       "      <td>ruspop</td>\n",
       "      <td>Moscow</td>\n",
       "      <td>09:17:40</td>\n",
       "      <td>Friday</td>\n",
       "    </tr>\n",
       "  </tbody>\n",
       "</table>\n",
       "</div>"
      ],
      "text/plain": [
       "    user_id                        track            artist   genre    city  \\\n",
       "1  55204538  Delayed Because of Accident  Andreas Rönnberg    rock  Moscow   \n",
       "4  E2DC1FAE                  Soul People        Space Echo   dance  Moscow   \n",
       "6  4CB90AA5                         True      Roman Messer   dance  Moscow   \n",
       "7  F03E1C1F             Feeling This Way   Polina Griffith   dance  Moscow   \n",
       "8  8FA1D3BE     И вновь продолжается бой           unknown  ruspop  Moscow   \n",
       "\n",
       "       time   week_day  \n",
       "1  14:07:09     Friday  \n",
       "4  08:34:34     Monday  \n",
       "6  13:00:07  Wednesday  \n",
       "7  20:47:49  Wednesday  \n",
       "8  09:17:40     Friday  "
      ]
     },
     "execution_count": 24,
     "metadata": {},
     "output_type": "execute_result"
    }
   ],
   "source": [
    "moscow_general = df[df['city'] == 'Moscow']\n",
    "moscow_general.head()"
   ]
  },
  {
   "cell_type": "code",
   "execution_count": 25,
   "metadata": {
    "id": "ORaVRKto_Zcu"
   },
   "outputs": [
    {
     "data": {
      "text/html": [
       "<div>\n",
       "<style scoped>\n",
       "    .dataframe tbody tr th:only-of-type {\n",
       "        vertical-align: middle;\n",
       "    }\n",
       "\n",
       "    .dataframe tbody tr th {\n",
       "        vertical-align: top;\n",
       "    }\n",
       "\n",
       "    .dataframe thead th {\n",
       "        text-align: right;\n",
       "    }\n",
       "</style>\n",
       "<table border=\"1\" class=\"dataframe\">\n",
       "  <thead>\n",
       "    <tr style=\"text-align: right;\">\n",
       "      <th></th>\n",
       "      <th>user_id</th>\n",
       "      <th>track</th>\n",
       "      <th>artist</th>\n",
       "      <th>genre</th>\n",
       "      <th>city</th>\n",
       "      <th>time</th>\n",
       "      <th>week_day</th>\n",
       "    </tr>\n",
       "  </thead>\n",
       "  <tbody>\n",
       "    <tr>\n",
       "      <th>0</th>\n",
       "      <td>FFB692EC</td>\n",
       "      <td>Kamigata To Boots</td>\n",
       "      <td>The Mass Missile</td>\n",
       "      <td>rock</td>\n",
       "      <td>Saint-Petersburg</td>\n",
       "      <td>20:28:33</td>\n",
       "      <td>Wednesday</td>\n",
       "    </tr>\n",
       "    <tr>\n",
       "      <th>2</th>\n",
       "      <td>20EC38</td>\n",
       "      <td>Funiculì funiculà</td>\n",
       "      <td>Mario Lanza</td>\n",
       "      <td>pop</td>\n",
       "      <td>Saint-Petersburg</td>\n",
       "      <td>20:58:07</td>\n",
       "      <td>Wednesday</td>\n",
       "    </tr>\n",
       "    <tr>\n",
       "      <th>3</th>\n",
       "      <td>A3DD03C9</td>\n",
       "      <td>Dragons in the Sunset</td>\n",
       "      <td>Fire + Ice</td>\n",
       "      <td>folk</td>\n",
       "      <td>Saint-Petersburg</td>\n",
       "      <td>08:37:09</td>\n",
       "      <td>Monday</td>\n",
       "    </tr>\n",
       "    <tr>\n",
       "      <th>5</th>\n",
       "      <td>842029A1</td>\n",
       "      <td>Преданная</td>\n",
       "      <td>IMPERVTOR</td>\n",
       "      <td>rusrap</td>\n",
       "      <td>Saint-Petersburg</td>\n",
       "      <td>13:09:41</td>\n",
       "      <td>Friday</td>\n",
       "    </tr>\n",
       "    <tr>\n",
       "      <th>9</th>\n",
       "      <td>E772D5C0</td>\n",
       "      <td>Pessimist</td>\n",
       "      <td>unknown</td>\n",
       "      <td>dance</td>\n",
       "      <td>Saint-Petersburg</td>\n",
       "      <td>21:20:49</td>\n",
       "      <td>Wednesday</td>\n",
       "    </tr>\n",
       "  </tbody>\n",
       "</table>\n",
       "</div>"
      ],
      "text/plain": [
       "    user_id                  track            artist   genre  \\\n",
       "0  FFB692EC      Kamigata To Boots  The Mass Missile    rock   \n",
       "2    20EC38      Funiculì funiculà       Mario Lanza     pop   \n",
       "3  A3DD03C9  Dragons in the Sunset        Fire + Ice    folk   \n",
       "5  842029A1              Преданная         IMPERVTOR  rusrap   \n",
       "9  E772D5C0              Pessimist           unknown   dance   \n",
       "\n",
       "               city      time   week_day  \n",
       "0  Saint-Petersburg  20:28:33  Wednesday  \n",
       "2  Saint-Petersburg  20:58:07  Wednesday  \n",
       "3  Saint-Petersburg  08:37:09     Monday  \n",
       "5  Saint-Petersburg  13:09:41     Friday  \n",
       "9  Saint-Petersburg  21:20:49  Wednesday  "
      ]
     },
     "execution_count": 25,
     "metadata": {},
     "output_type": "execute_result"
    }
   ],
   "source": [
    "spb_general = df[df['city'] == 'Saint-Petersburg']\n",
    "spb_general.head()"
   ]
  },
  {
   "cell_type": "markdown",
   "metadata": {
    "id": "MEJV-CX2_Zcu"
   },
   "source": [
    "Напишем функцию `genre_weekday()` с четырьмя параметрами:\n",
    "* таблица (датафрейм) с данными,\n",
    "* день недели,\n",
    "* начальная временная метка в формате 'hh:mm', \n",
    "* последняя временная метка в формате 'hh:mm'.\n",
    "\n",
    "Функция должна вернуть информацию о топ-10 жанров тех треков, которые прослушивали в указанный день, в промежутке между двумя отметками времени."
   ]
  },
  {
   "cell_type": "code",
   "execution_count": 26,
   "metadata": {
    "id": "laJT9BYl_Zcu"
   },
   "outputs": [],
   "source": [
    "def genre_weekday(table, day, time1, time2):\n",
    "    '''\n",
    "    Функция принимает параметры table, day, time1, time2,\n",
    "    и возвращает информацию о самых популярных жанрах в указанный день в\n",
    "    заданное время:\n",
    "    1) в переменную genre_df сохраняюет те строки переданного датафрейма table, для\n",
    "    которых одновременно:\n",
    "    - значение в столбце day равно значению аргумента day\n",
    "    - значение в столбце time больше значения аргумента time1\n",
    "    - значение в столбце time меньше значения аргумента time2\n",
    "    2) группирует датафрейм genre_df по столбцу genre, берет один из его\n",
    "    столбцов и считает количество записей для каждого из присутствующих жанров, \n",
    "    получившийся Series записывает в переменную genre_df_count\n",
    "    3) сортирует genre_df_count по убыванию встречаемости \n",
    "    и сохраняет в переменную genre_df_sorted\n",
    "    4) возвращает Series из 10 первых значений genre_df_sorted, это будут топ-10\n",
    "    популярных жанров (в указанный день, в заданное время)\n",
    "    '''\n",
    "    genre_df = table[(table['week_day'] == day)&\n",
    "                 (table['time'] > time1 ) &\n",
    "                  (table['time'] < time2)]\n",
    "    genre_df_count = genre_df.groupby('genre')['user_id'].count()\n",
    "    genre_df_sorted = genre_df_count.sort_values(ascending=False)\n",
    "    return genre_df_sorted.head(10)"
   ]
  },
  {
   "cell_type": "markdown",
   "metadata": {
    "id": "la2s2_PF_Zcu"
   },
   "source": [
    "Cравним результаты функции `genre_weekday()` для Москвы и Санкт-Петербурга в понедельник утром (с 7:00 до 11:00) и в пятницу вечером (с 17:00 до 23:00):"
   ]
  },
  {
   "cell_type": "code",
   "execution_count": 27,
   "metadata": {
    "id": "yz7itPUQ_Zcu"
   },
   "outputs": [
    {
     "data": {
      "text/plain": [
       "genre\n",
       "pop            781\n",
       "dance          549\n",
       "electronic     480\n",
       "rock           474\n",
       "hiphop         286\n",
       "ruspop         186\n",
       "world          181\n",
       "rusrap         175\n",
       "alternative    164\n",
       "unknown        161\n",
       "Name: user_id, dtype: int64"
      ]
     },
     "execution_count": 27,
     "metadata": {},
     "output_type": "execute_result"
    }
   ],
   "source": [
    "genre_weekday(moscow_general, 'Monday', '07:00', '11:00')"
   ]
  },
  {
   "cell_type": "code",
   "execution_count": 28,
   "metadata": {
    "id": "kwUcHPdy_Zcu"
   },
   "outputs": [
    {
     "data": {
      "text/plain": [
       "genre\n",
       "pop            218\n",
       "dance          182\n",
       "rock           162\n",
       "electronic     147\n",
       "hiphop          80\n",
       "ruspop          64\n",
       "alternative     58\n",
       "rusrap          55\n",
       "jazz            44\n",
       "classical       40\n",
       "Name: user_id, dtype: int64"
      ]
     },
     "execution_count": 28,
     "metadata": {},
     "output_type": "execute_result"
    }
   ],
   "source": [
    "genre_weekday(spb_general, 'Monday', '07:00', '11:00')"
   ]
  },
  {
   "cell_type": "code",
   "execution_count": 29,
   "metadata": {
    "id": "EzXVRE1o_Zcu"
   },
   "outputs": [
    {
     "data": {
      "text/plain": [
       "genre\n",
       "pop            713\n",
       "rock           517\n",
       "dance          495\n",
       "electronic     482\n",
       "hiphop         273\n",
       "world          208\n",
       "ruspop         170\n",
       "alternative    163\n",
       "classical      163\n",
       "rusrap         142\n",
       "Name: user_id, dtype: int64"
      ]
     },
     "execution_count": 29,
     "metadata": {},
     "output_type": "execute_result"
    }
   ],
   "source": [
    "genre_weekday(moscow_general, 'Friday', '17:00', '23:00')"
   ]
  },
  {
   "cell_type": "code",
   "execution_count": 30,
   "metadata": {
    "id": "JZaEKu5v_Zcu"
   },
   "outputs": [
    {
     "data": {
      "text/plain": [
       "genre\n",
       "pop            256\n",
       "electronic     216\n",
       "rock           216\n",
       "dance          210\n",
       "hiphop          97\n",
       "alternative     63\n",
       "jazz            61\n",
       "classical       60\n",
       "rusrap          59\n",
       "world           54\n",
       "Name: user_id, dtype: int64"
      ]
     },
     "execution_count": 30,
     "metadata": {},
     "output_type": "execute_result"
    }
   ],
   "source": [
    "genre_weekday(spb_general, 'Friday', '17:00', '23:00')"
   ]
  },
  {
   "cell_type": "markdown",
   "metadata": {
    "id": "wrCe4MNX_Zcu"
   },
   "source": [
    "**Выводы**\n",
    "\n",
    "Если сравнить топ-10 жанров в понедельник утром, можно сделать такие выводы:\n",
    "\n",
    "1. В Москве и Петербурге слушают похожую музыку. Единственное отличие — в московский рейтинг вошёл жанр “world”, а в петербургский — джаз и классика.\n",
    "\n",
    "2. В Москве пропущенных значений оказалось так много, что значение `'unknown'` заняло десятое место среди самых популярных жанров. Значит, пропущенные значения занимают существенную долю в данных и угрожают достоверности исследования.\n",
    "\n",
    "Вечер пятницы не меняет эту картину. Некоторые жанры поднимаются немного выше, другие спускаются, но в целом топ-10 остаётся тем же самым.\n",
    "\n",
    "Таким образом, вторая гипотеза подтвердилась лишь частично:\n",
    "* Пользователи слушают похожую музыку в начале недели и в конце.\n",
    "* Разница между Москвой и Петербургом не слишком выражена. В Москве чаще слушают русскую популярную музыку, в Петербурге — джаз.\n",
    "\n",
    "Однако пропуски в данных ставят под сомнение этот результат. В Москве их так много, что рейтинг топ-10 мог бы выглядеть иначе, если бы не утерянные  данные о жанрах."
   ]
  },
  {
   "cell_type": "markdown",
   "metadata": {
    "id": "JolODAqr_Zcu"
   },
   "source": [
    "### Жанровые предпочтения в Москве и Петербурге\n",
    "\n",
    "Гипотеза: Петербург — столица рэпа, музыку этого жанра там слушают чаще, чем в Москве.  А Москва — город контрастов, в котором, тем не менее, преобладает поп-музыка."
   ]
  },
  {
   "cell_type": "markdown",
   "metadata": {
    "id": "DlegSvaT_Zcu"
   },
   "source": [
    "Сгруппируем таблицу `moscow_general` по жанру и посчитаем прослушивания треков каждого жанра. "
   ]
  },
  {
   "cell_type": "code",
   "execution_count": 31,
   "metadata": {
    "id": "r19lIPke_Zcu"
   },
   "outputs": [
    {
     "data": {
      "text/plain": [
       "genre\n",
       "pop            5892\n",
       "dance          4435\n",
       "rock           3965\n",
       "electronic     3786\n",
       "hiphop         2096\n",
       "classical      1616\n",
       "world          1432\n",
       "alternative    1379\n",
       "ruspop         1372\n",
       "rusrap         1161\n",
       "Name: user_id, dtype: int64"
      ]
     },
     "execution_count": 31,
     "metadata": {},
     "output_type": "execute_result"
    }
   ],
   "source": [
    "moscow_genres = moscow_general.groupby('genre')['user_id'].count().sort_values(ascending=False)\n",
    "moscow_genres.head(10)"
   ]
  },
  {
   "cell_type": "markdown",
   "metadata": {
    "id": "cnPG2vnN_Zcv"
   },
   "source": [
    "Теперь повторим то же и для Петербурга."
   ]
  },
  {
   "cell_type": "code",
   "execution_count": 32,
   "metadata": {
    "id": "gluLIpE7_Zcv"
   },
   "outputs": [
    {
     "data": {
      "text/plain": [
       "genre\n",
       "pop            2431\n",
       "dance          1932\n",
       "rock           1879\n",
       "electronic     1737\n",
       "hiphop          960\n",
       "alternative     649\n",
       "classical       646\n",
       "rusrap          564\n",
       "ruspop          538\n",
       "world           515\n",
       "Name: user_id, dtype: int64"
      ]
     },
     "execution_count": 32,
     "metadata": {},
     "output_type": "execute_result"
    }
   ],
   "source": [
    "spb_genres = spb_general.groupby('genre')['user_id'].count().sort_values(ascending=False)\n",
    "spb_genres.head(10)"
   ]
  },
  {
   "cell_type": "markdown",
   "metadata": {
    "id": "RY51YJYu_Zcv"
   },
   "source": [
    "**Выводы**"
   ]
  },
  {
   "cell_type": "markdown",
   "metadata": {
    "id": "nVhnJEm__Zcv"
   },
   "source": [
    "Гипотеза не подтвердилась:\n",
    "* Поп-музыка — самый популярный жанр как в Москве, так и в Санкт-Петербурге. В топ-10 жанров встречается близкий жанр — русская популярная музыка - 9 место в каждом из рассматриваемом городов.\n",
    "* Рэп в Петербурге чуть более популярен, чем в Москве (8 место против 10-го соответственно), но данное различие несущественно. \n"
   ]
  },
  {
   "cell_type": "markdown",
   "metadata": {
    "id": "ykKQ0N65_Zcv"
   },
   "source": [
    "## Итоги исследования"
   ]
  },
  {
   "cell_type": "markdown",
   "metadata": {
    "id": "tjUwbHb3_Zcv"
   },
   "source": [
    "Мы проверили три гипотезы и установили:\n",
    "\n",
    "1. День недели по-разному влияет на активность пользователей в Москве и Петербурге. \n",
    "\n",
    "Первая гипотеза полностью подтвердилась. В Москве пользователи в пн и пт более активны, чем в среду, а в Петербурге - наоборот.\n",
    "\n",
    "2. Музыкальные предпочтения не сильно меняются в течение недели — будь то Москва или Петербург. Небольшие различия заметны в начале недели, по понедельникам:\n",
    "* в Москве слушают музыку жанра “world”,\n",
    "* в Петербурге — джаз и классику.\n",
    "\n",
    "Таким образом, вторая гипотеза подтвердилась лишь отчасти. Этот результат мог оказаться иным, если бы не пропуски в данных.\n",
    "\n",
    "3. Во вкусах пользователей Москвы и Петербурга больше общего чем различий. Вопреки ожиданиям, предпочтения жанров в Петербурге напоминают московские.\n",
    "\n",
    "Третья гипотеза не подтвердилась. Если различия в предпочтениях и существуют, на основной массе пользователей они незаметны."
   ]
  }
 ],
 "metadata": {
  "ExecuteTimeLog": [
   {
    "duration": 544,
    "start_time": "2021-12-22T03:53:33.603Z"
   },
   {
    "duration": 137,
    "start_time": "2021-12-22T03:54:45.509Z"
   },
   {
    "duration": 17,
    "start_time": "2021-12-22T03:55:12.117Z"
   },
   {
    "duration": 24,
    "start_time": "2021-12-22T03:55:57.187Z"
   },
   {
    "duration": 4,
    "start_time": "2021-12-22T03:59:14.907Z"
   },
   {
    "duration": 23,
    "start_time": "2021-12-22T04:06:46.297Z"
   },
   {
    "duration": 4,
    "start_time": "2021-12-22T04:06:50.413Z"
   },
   {
    "duration": 30,
    "start_time": "2021-12-22T04:07:43.160Z"
   },
   {
    "duration": 23,
    "start_time": "2021-12-22T04:07:58.748Z"
   },
   {
    "duration": 23,
    "start_time": "2021-12-22T04:08:24.636Z"
   },
   {
    "duration": 17,
    "start_time": "2021-12-22T04:13:46.954Z"
   },
   {
    "duration": 23,
    "start_time": "2021-12-22T04:14:08.219Z"
   },
   {
    "duration": 57,
    "start_time": "2021-12-22T04:14:52.941Z"
   },
   {
    "duration": 69,
    "start_time": "2021-12-22T04:16:24.710Z"
   },
   {
    "duration": 60,
    "start_time": "2021-12-22T04:17:11.647Z"
   },
   {
    "duration": 51,
    "start_time": "2021-12-22T04:17:36.596Z"
   },
   {
    "duration": 46,
    "start_time": "2021-12-22T04:20:07.627Z"
   },
   {
    "duration": 39,
    "start_time": "2021-12-22T04:21:41.828Z"
   },
   {
    "duration": 3,
    "start_time": "2021-12-22T04:31:31.448Z"
   },
   {
    "duration": 337,
    "start_time": "2021-12-22T04:33:18.536Z"
   },
   {
    "duration": 411,
    "start_time": "2021-12-22T04:37:15.066Z"
   },
   {
    "duration": 263,
    "start_time": "2021-12-22T04:39:31.873Z"
   },
   {
    "duration": 3,
    "start_time": "2021-12-22T04:44:56.126Z"
   },
   {
    "duration": 268,
    "start_time": "2021-12-22T04:45:16.420Z"
   },
   {
    "duration": 3,
    "start_time": "2021-12-22T04:46:28.331Z"
   },
   {
    "duration": 133,
    "start_time": "2021-12-22T04:46:28.339Z"
   },
   {
    "duration": 18,
    "start_time": "2021-12-22T04:46:28.474Z"
   },
   {
    "duration": 23,
    "start_time": "2021-12-22T04:46:28.494Z"
   },
   {
    "duration": 4,
    "start_time": "2021-12-22T04:46:28.519Z"
   },
   {
    "duration": 23,
    "start_time": "2021-12-22T04:46:28.524Z"
   },
   {
    "duration": 4,
    "start_time": "2021-12-22T04:46:28.548Z"
   },
   {
    "duration": 56,
    "start_time": "2021-12-22T04:46:28.554Z"
   },
   {
    "duration": 16,
    "start_time": "2021-12-22T04:46:28.613Z"
   },
   {
    "duration": 21,
    "start_time": "2021-12-22T04:46:28.631Z"
   },
   {
    "duration": 82,
    "start_time": "2021-12-22T04:46:28.653Z"
   },
   {
    "duration": 68,
    "start_time": "2021-12-22T04:46:28.736Z"
   },
   {
    "duration": 45,
    "start_time": "2021-12-22T04:46:28.805Z"
   },
   {
    "duration": 49,
    "start_time": "2021-12-22T04:46:28.851Z"
   },
   {
    "duration": 3,
    "start_time": "2021-12-22T04:46:28.901Z"
   },
   {
    "duration": 274,
    "start_time": "2021-12-22T04:46:28.905Z"
   },
   {
    "duration": 3635,
    "start_time": "2021-12-22T04:46:25.547Z"
   },
   {
    "duration": 3616,
    "start_time": "2021-12-22T04:46:25.567Z"
   },
   {
    "duration": 3597,
    "start_time": "2021-12-22T04:46:25.587Z"
   },
   {
    "duration": 3515,
    "start_time": "2021-12-22T04:46:25.670Z"
   },
   {
    "duration": 3488,
    "start_time": "2021-12-22T04:46:25.698Z"
   },
   {
    "duration": 3461,
    "start_time": "2021-12-22T04:46:25.726Z"
   },
   {
    "duration": 3401,
    "start_time": "2021-12-22T04:46:25.787Z"
   },
   {
    "duration": 3379,
    "start_time": "2021-12-22T04:46:25.809Z"
   },
   {
    "duration": 3350,
    "start_time": "2021-12-22T04:46:25.839Z"
   },
   {
    "duration": 3289,
    "start_time": "2021-12-22T04:46:25.901Z"
   },
   {
    "duration": 3242,
    "start_time": "2021-12-22T04:46:25.949Z"
   },
   {
    "duration": 3194,
    "start_time": "2021-12-22T04:46:25.998Z"
   },
   {
    "duration": 3152,
    "start_time": "2021-12-22T04:46:26.041Z"
   },
   {
    "duration": 3114,
    "start_time": "2021-12-22T04:46:26.080Z"
   },
   {
    "duration": 3079,
    "start_time": "2021-12-22T04:46:26.116Z"
   },
   {
    "duration": 3043,
    "start_time": "2021-12-22T04:46:26.152Z"
   },
   {
    "duration": 3016,
    "start_time": "2021-12-22T04:46:26.180Z"
   },
   {
    "duration": 3005,
    "start_time": "2021-12-22T04:46:26.192Z"
   },
   {
    "duration": 2986,
    "start_time": "2021-12-22T04:46:26.212Z"
   },
   {
    "duration": 2971,
    "start_time": "2021-12-22T04:46:26.228Z"
   },
   {
    "duration": 2944,
    "start_time": "2021-12-22T04:46:26.256Z"
   },
   {
    "duration": 2901,
    "start_time": "2021-12-22T04:46:26.300Z"
   },
   {
    "duration": 499,
    "start_time": "2021-12-22T04:49:33.548Z"
   },
   {
    "duration": 134,
    "start_time": "2021-12-22T04:49:34.049Z"
   },
   {
    "duration": 17,
    "start_time": "2021-12-22T04:49:34.185Z"
   },
   {
    "duration": 24,
    "start_time": "2021-12-22T04:49:34.203Z"
   },
   {
    "duration": 4,
    "start_time": "2021-12-22T04:49:34.228Z"
   },
   {
    "duration": 27,
    "start_time": "2021-12-22T04:49:34.233Z"
   },
   {
    "duration": 3,
    "start_time": "2021-12-22T04:49:34.262Z"
   },
   {
    "duration": 23,
    "start_time": "2021-12-22T04:49:34.292Z"
   },
   {
    "duration": 17,
    "start_time": "2021-12-22T04:49:34.317Z"
   },
   {
    "duration": 20,
    "start_time": "2021-12-22T04:49:34.336Z"
   },
   {
    "duration": 83,
    "start_time": "2021-12-22T04:49:34.358Z"
   },
   {
    "duration": 77,
    "start_time": "2021-12-22T04:49:34.443Z"
   },
   {
    "duration": 48,
    "start_time": "2021-12-22T04:49:34.522Z"
   },
   {
    "duration": 52,
    "start_time": "2021-12-22T04:49:34.571Z"
   },
   {
    "duration": 3,
    "start_time": "2021-12-22T04:49:34.625Z"
   },
   {
    "duration": 308,
    "start_time": "2021-12-22T04:49:34.629Z"
   },
   {
    "duration": 3830,
    "start_time": "2021-12-22T04:49:31.109Z"
   },
   {
    "duration": 3789,
    "start_time": "2021-12-22T04:49:31.151Z"
   },
   {
    "duration": 3758,
    "start_time": "2021-12-22T04:49:31.183Z"
   },
   {
    "duration": 3737,
    "start_time": "2021-12-22T04:49:31.205Z"
   },
   {
    "duration": 3723,
    "start_time": "2021-12-22T04:49:31.220Z"
   },
   {
    "duration": 3701,
    "start_time": "2021-12-22T04:49:31.243Z"
   },
   {
    "duration": 3640,
    "start_time": "2021-12-22T04:49:31.304Z"
   },
   {
    "duration": 3629,
    "start_time": "2021-12-22T04:49:31.316Z"
   },
   {
    "duration": 3611,
    "start_time": "2021-12-22T04:49:31.335Z"
   },
   {
    "duration": 3589,
    "start_time": "2021-12-22T04:49:31.358Z"
   },
   {
    "duration": 3569,
    "start_time": "2021-12-22T04:49:31.379Z"
   },
   {
    "duration": 3550,
    "start_time": "2021-12-22T04:49:31.398Z"
   },
   {
    "duration": 3535,
    "start_time": "2021-12-22T04:49:31.414Z"
   },
   {
    "duration": 3519,
    "start_time": "2021-12-22T04:49:31.431Z"
   },
   {
    "duration": 3501,
    "start_time": "2021-12-22T04:49:31.450Z"
   },
   {
    "duration": 3474,
    "start_time": "2021-12-22T04:49:31.477Z"
   },
   {
    "duration": 3440,
    "start_time": "2021-12-22T04:49:31.512Z"
   },
   {
    "duration": 3417,
    "start_time": "2021-12-22T04:49:31.536Z"
   },
   {
    "duration": 3394,
    "start_time": "2021-12-22T04:49:31.559Z"
   },
   {
    "duration": 3381,
    "start_time": "2021-12-22T04:49:31.573Z"
   },
   {
    "duration": 3362,
    "start_time": "2021-12-22T04:49:31.593Z"
   },
   {
    "duration": 3343,
    "start_time": "2021-12-22T04:49:31.613Z"
   },
   {
    "duration": 3,
    "start_time": "2021-12-22T05:15:12.150Z"
   },
   {
    "duration": 273,
    "start_time": "2021-12-22T05:15:15.476Z"
   },
   {
    "duration": 3,
    "start_time": "2021-12-22T05:15:28.130Z"
   },
   {
    "duration": 157,
    "start_time": "2021-12-22T05:15:28.135Z"
   },
   {
    "duration": 9,
    "start_time": "2021-12-22T05:15:28.294Z"
   },
   {
    "duration": 27,
    "start_time": "2021-12-22T05:15:28.305Z"
   },
   {
    "duration": 4,
    "start_time": "2021-12-22T05:15:28.333Z"
   },
   {
    "duration": 23,
    "start_time": "2021-12-22T05:15:28.339Z"
   },
   {
    "duration": 29,
    "start_time": "2021-12-22T05:15:28.364Z"
   },
   {
    "duration": 22,
    "start_time": "2021-12-22T05:15:28.396Z"
   },
   {
    "duration": 16,
    "start_time": "2021-12-22T05:15:28.420Z"
   },
   {
    "duration": 22,
    "start_time": "2021-12-22T05:15:28.438Z"
   },
   {
    "duration": 84,
    "start_time": "2021-12-22T05:15:28.461Z"
   },
   {
    "duration": 75,
    "start_time": "2021-12-22T05:15:28.547Z"
   },
   {
    "duration": 48,
    "start_time": "2021-12-22T05:15:28.624Z"
   },
   {
    "duration": 50,
    "start_time": "2021-12-22T05:15:28.674Z"
   },
   {
    "duration": 4,
    "start_time": "2021-12-22T05:15:28.726Z"
   },
   {
    "duration": 248,
    "start_time": "2021-12-22T05:15:28.732Z"
   },
   {
    "duration": 3158,
    "start_time": "2021-12-22T05:15:25.826Z"
   },
   {
    "duration": 3119,
    "start_time": "2021-12-22T05:15:25.866Z"
   },
   {
    "duration": 3081,
    "start_time": "2021-12-22T05:15:25.905Z"
   },
   {
    "duration": 3061,
    "start_time": "2021-12-22T05:15:25.927Z"
   },
   {
    "duration": 3044,
    "start_time": "2021-12-22T05:15:25.946Z"
   },
   {
    "duration": 3010,
    "start_time": "2021-12-22T05:15:25.981Z"
   },
   {
    "duration": 2990,
    "start_time": "2021-12-22T05:15:26.003Z"
   },
   {
    "duration": 2963,
    "start_time": "2021-12-22T05:15:26.031Z"
   },
   {
    "duration": 2945,
    "start_time": "2021-12-22T05:15:26.050Z"
   },
   {
    "duration": 2930,
    "start_time": "2021-12-22T05:15:26.067Z"
   },
   {
    "duration": 2913,
    "start_time": "2021-12-22T05:15:26.085Z"
   },
   {
    "duration": 2879,
    "start_time": "2021-12-22T05:15:26.121Z"
   },
   {
    "duration": 2847,
    "start_time": "2021-12-22T05:15:26.154Z"
   },
   {
    "duration": 2813,
    "start_time": "2021-12-22T05:15:26.190Z"
   },
   {
    "duration": 2788,
    "start_time": "2021-12-22T05:15:26.216Z"
   },
   {
    "duration": 2778,
    "start_time": "2021-12-22T05:15:26.228Z"
   },
   {
    "duration": 2750,
    "start_time": "2021-12-22T05:15:26.257Z"
   },
   {
    "duration": 2733,
    "start_time": "2021-12-22T05:15:26.275Z"
   },
   {
    "duration": 2703,
    "start_time": "2021-12-22T05:15:26.306Z"
   },
   {
    "duration": 2667,
    "start_time": "2021-12-22T05:15:26.343Z"
   },
   {
    "duration": 2640,
    "start_time": "2021-12-22T05:15:26.371Z"
   },
   {
    "duration": 2603,
    "start_time": "2021-12-22T05:15:26.409Z"
   },
   {
    "duration": 564,
    "start_time": "2021-12-22T05:21:50.190Z"
   },
   {
    "duration": 134,
    "start_time": "2021-12-22T05:21:50.756Z"
   },
   {
    "duration": 16,
    "start_time": "2021-12-22T05:21:50.892Z"
   },
   {
    "duration": 24,
    "start_time": "2021-12-22T05:21:50.910Z"
   },
   {
    "duration": 4,
    "start_time": "2021-12-22T05:21:50.936Z"
   },
   {
    "duration": 51,
    "start_time": "2021-12-22T05:21:50.941Z"
   },
   {
    "duration": 4,
    "start_time": "2021-12-22T05:21:50.994Z"
   },
   {
    "duration": 24,
    "start_time": "2021-12-22T05:21:51.001Z"
   },
   {
    "duration": 18,
    "start_time": "2021-12-22T05:21:51.027Z"
   },
   {
    "duration": 21,
    "start_time": "2021-12-22T05:21:51.047Z"
   },
   {
    "duration": 60,
    "start_time": "2021-12-22T05:21:51.092Z"
   },
   {
    "duration": 86,
    "start_time": "2021-12-22T05:21:51.153Z"
   },
   {
    "duration": 54,
    "start_time": "2021-12-22T05:21:51.241Z"
   },
   {
    "duration": 40,
    "start_time": "2021-12-22T05:21:51.297Z"
   },
   {
    "duration": 3,
    "start_time": "2021-12-22T05:21:51.338Z"
   },
   {
    "duration": 322,
    "start_time": "2021-12-22T05:21:51.343Z"
   },
   {
    "duration": 3521,
    "start_time": "2021-12-22T05:21:48.146Z"
   },
   {
    "duration": 3478,
    "start_time": "2021-12-22T05:21:48.190Z"
   },
   {
    "duration": 3456,
    "start_time": "2021-12-22T05:21:48.213Z"
   },
   {
    "duration": 3409,
    "start_time": "2021-12-22T05:21:48.262Z"
   },
   {
    "duration": 3381,
    "start_time": "2021-12-22T05:21:48.291Z"
   },
   {
    "duration": 3335,
    "start_time": "2021-12-22T05:21:48.338Z"
   },
   {
    "duration": 3309,
    "start_time": "2021-12-22T05:21:48.365Z"
   },
   {
    "duration": 3285,
    "start_time": "2021-12-22T05:21:48.390Z"
   },
   {
    "duration": 3257,
    "start_time": "2021-12-22T05:21:48.419Z"
   },
   {
    "duration": 3237,
    "start_time": "2021-12-22T05:21:48.440Z"
   },
   {
    "duration": 3161,
    "start_time": "2021-12-22T05:21:48.517Z"
   },
   {
    "duration": 3147,
    "start_time": "2021-12-22T05:21:48.532Z"
   },
   {
    "duration": 3136,
    "start_time": "2021-12-22T05:21:48.544Z"
   },
   {
    "duration": 3127,
    "start_time": "2021-12-22T05:21:48.554Z"
   },
   {
    "duration": 3115,
    "start_time": "2021-12-22T05:21:48.567Z"
   },
   {
    "duration": 3079,
    "start_time": "2021-12-22T05:21:48.604Z"
   },
   {
    "duration": 3061,
    "start_time": "2021-12-22T05:21:48.623Z"
   },
   {
    "duration": 3049,
    "start_time": "2021-12-22T05:21:48.636Z"
   },
   {
    "duration": 3026,
    "start_time": "2021-12-22T05:21:48.660Z"
   },
   {
    "duration": 2904,
    "start_time": "2021-12-22T05:21:48.783Z"
   },
   {
    "duration": 2891,
    "start_time": "2021-12-22T05:21:48.797Z"
   },
   {
    "duration": 2876,
    "start_time": "2021-12-22T05:21:48.813Z"
   },
   {
    "duration": 3,
    "start_time": "2021-12-22T05:27:11.137Z"
   },
   {
    "duration": 246,
    "start_time": "2021-12-22T05:27:15.554Z"
   },
   {
    "duration": 3,
    "start_time": "2021-12-22T05:27:40.927Z"
   },
   {
    "duration": 421,
    "start_time": "2021-12-22T05:27:43.475Z"
   },
   {
    "duration": 491,
    "start_time": "2021-12-22T05:27:51.241Z"
   },
   {
    "duration": 137,
    "start_time": "2021-12-22T05:27:51.734Z"
   },
   {
    "duration": 19,
    "start_time": "2021-12-22T05:27:51.873Z"
   },
   {
    "duration": 26,
    "start_time": "2021-12-22T05:27:51.894Z"
   },
   {
    "duration": 3,
    "start_time": "2021-12-22T05:27:51.922Z"
   },
   {
    "duration": 25,
    "start_time": "2021-12-22T05:27:51.927Z"
   },
   {
    "duration": 4,
    "start_time": "2021-12-22T05:27:51.954Z"
   },
   {
    "duration": 47,
    "start_time": "2021-12-22T05:27:51.960Z"
   },
   {
    "duration": 17,
    "start_time": "2021-12-22T05:27:52.009Z"
   },
   {
    "duration": 23,
    "start_time": "2021-12-22T05:27:52.028Z"
   },
   {
    "duration": 87,
    "start_time": "2021-12-22T05:27:52.053Z"
   },
   {
    "duration": 83,
    "start_time": "2021-12-22T05:27:52.141Z"
   },
   {
    "duration": 51,
    "start_time": "2021-12-22T05:27:52.226Z"
   },
   {
    "duration": 47,
    "start_time": "2021-12-22T05:27:52.278Z"
   },
   {
    "duration": 3,
    "start_time": "2021-12-22T05:27:52.326Z"
   },
   {
    "duration": 522,
    "start_time": "2021-12-22T05:27:52.331Z"
   },
   {
    "duration": 3617,
    "start_time": "2021-12-22T05:27:49.238Z"
   },
   {
    "duration": 3570,
    "start_time": "2021-12-22T05:27:49.286Z"
   },
   {
    "duration": 3556,
    "start_time": "2021-12-22T05:27:49.302Z"
   },
   {
    "duration": 3534,
    "start_time": "2021-12-22T05:27:49.324Z"
   },
   {
    "duration": 3482,
    "start_time": "2021-12-22T05:27:49.378Z"
   },
   {
    "duration": 3472,
    "start_time": "2021-12-22T05:27:49.389Z"
   },
   {
    "duration": 3461,
    "start_time": "2021-12-22T05:27:49.401Z"
   },
   {
    "duration": 3451,
    "start_time": "2021-12-22T05:27:49.412Z"
   },
   {
    "duration": 3439,
    "start_time": "2021-12-22T05:27:49.425Z"
   },
   {
    "duration": 3428,
    "start_time": "2021-12-22T05:27:49.437Z"
   },
   {
    "duration": 3416,
    "start_time": "2021-12-22T05:27:49.450Z"
   },
   {
    "duration": 3392,
    "start_time": "2021-12-22T05:27:49.475Z"
   },
   {
    "duration": 3376,
    "start_time": "2021-12-22T05:27:49.492Z"
   },
   {
    "duration": 3364,
    "start_time": "2021-12-22T05:27:49.505Z"
   },
   {
    "duration": 3355,
    "start_time": "2021-12-22T05:27:49.516Z"
   },
   {
    "duration": 3340,
    "start_time": "2021-12-22T05:27:49.532Z"
   },
   {
    "duration": 3299,
    "start_time": "2021-12-22T05:27:49.574Z"
   },
   {
    "duration": 3256,
    "start_time": "2021-12-22T05:27:49.618Z"
   },
   {
    "duration": 3222,
    "start_time": "2021-12-22T05:27:49.653Z"
   },
   {
    "duration": 3194,
    "start_time": "2021-12-22T05:27:49.682Z"
   },
   {
    "duration": 3174,
    "start_time": "2021-12-22T05:27:49.703Z"
   },
   {
    "duration": 3147,
    "start_time": "2021-12-22T05:27:49.731Z"
   },
   {
    "duration": 3,
    "start_time": "2021-12-22T05:31:07.837Z"
   },
   {
    "duration": 273,
    "start_time": "2021-12-22T05:31:10.146Z"
   },
   {
    "duration": 10,
    "start_time": "2021-12-22T05:34:19.715Z"
   },
   {
    "duration": 3,
    "start_time": "2021-12-22T05:34:45.800Z"
   },
   {
    "duration": 138,
    "start_time": "2021-12-22T05:34:45.805Z"
   },
   {
    "duration": 10,
    "start_time": "2021-12-22T05:34:45.945Z"
   },
   {
    "duration": 34,
    "start_time": "2021-12-22T05:34:45.957Z"
   },
   {
    "duration": 4,
    "start_time": "2021-12-22T05:34:45.993Z"
   },
   {
    "duration": 24,
    "start_time": "2021-12-22T05:34:45.999Z"
   },
   {
    "duration": 5,
    "start_time": "2021-12-22T05:34:46.025Z"
   },
   {
    "duration": 26,
    "start_time": "2021-12-22T05:34:46.032Z"
   },
   {
    "duration": 19,
    "start_time": "2021-12-22T05:34:46.093Z"
   },
   {
    "duration": 25,
    "start_time": "2021-12-22T05:34:46.114Z"
   },
   {
    "duration": 79,
    "start_time": "2021-12-22T05:34:46.142Z"
   },
   {
    "duration": 82,
    "start_time": "2021-12-22T05:34:46.223Z"
   },
   {
    "duration": 52,
    "start_time": "2021-12-22T05:34:46.307Z"
   },
   {
    "duration": 61,
    "start_time": "2021-12-22T05:34:46.361Z"
   },
   {
    "duration": 4,
    "start_time": "2021-12-22T05:34:46.424Z"
   },
   {
    "duration": 11,
    "start_time": "2021-12-22T05:34:46.430Z"
   },
   {
    "duration": 2,
    "start_time": "2021-12-22T05:34:46.445Z"
   },
   {
    "duration": 4,
    "start_time": "2021-12-22T05:34:46.450Z"
   },
   {
    "duration": 5,
    "start_time": "2021-12-22T05:34:46.455Z"
   },
   {
    "duration": 3,
    "start_time": "2021-12-22T05:34:46.492Z"
   },
   {
    "duration": 9,
    "start_time": "2021-12-22T05:34:46.497Z"
   },
   {
    "duration": 15,
    "start_time": "2021-12-22T05:34:46.507Z"
   },
   {
    "duration": 5,
    "start_time": "2021-12-22T05:34:46.524Z"
   },
   {
    "duration": 4,
    "start_time": "2021-12-22T05:34:46.531Z"
   },
   {
    "duration": 4,
    "start_time": "2021-12-22T05:34:46.537Z"
   },
   {
    "duration": 6,
    "start_time": "2021-12-22T05:34:46.543Z"
   },
   {
    "duration": 5,
    "start_time": "2021-12-22T05:34:46.551Z"
   },
   {
    "duration": 6,
    "start_time": "2021-12-22T05:34:46.558Z"
   },
   {
    "duration": 9,
    "start_time": "2021-12-22T05:34:46.565Z"
   },
   {
    "duration": 5,
    "start_time": "2021-12-22T05:34:46.575Z"
   },
   {
    "duration": 3,
    "start_time": "2021-12-22T05:34:46.591Z"
   },
   {
    "duration": 4,
    "start_time": "2021-12-22T05:34:46.596Z"
   },
   {
    "duration": 7,
    "start_time": "2021-12-22T05:34:46.601Z"
   },
   {
    "duration": 5,
    "start_time": "2021-12-22T05:34:46.609Z"
   },
   {
    "duration": 4,
    "start_time": "2021-12-22T05:34:46.616Z"
   },
   {
    "duration": 4,
    "start_time": "2021-12-22T05:34:46.623Z"
   },
   {
    "duration": 6,
    "start_time": "2021-12-22T05:34:46.628Z"
   },
   {
    "duration": 5,
    "start_time": "2021-12-22T05:34:46.635Z"
   },
   {
    "duration": 38,
    "start_time": "2021-12-22T05:45:07.856Z"
   },
   {
    "duration": 30,
    "start_time": "2021-12-22T05:46:42.095Z"
   },
   {
    "duration": 40,
    "start_time": "2021-12-22T05:46:46.355Z"
   },
   {
    "duration": 2,
    "start_time": "2021-12-22T05:47:03.016Z"
   },
   {
    "duration": 150,
    "start_time": "2021-12-22T05:47:03.026Z"
   },
   {
    "duration": 18,
    "start_time": "2021-12-22T05:47:03.178Z"
   },
   {
    "duration": 25,
    "start_time": "2021-12-22T05:47:03.198Z"
   },
   {
    "duration": 4,
    "start_time": "2021-12-22T05:47:03.226Z"
   },
   {
    "duration": 18,
    "start_time": "2021-12-22T05:47:03.232Z"
   },
   {
    "duration": 4,
    "start_time": "2021-12-22T05:47:03.251Z"
   },
   {
    "duration": 54,
    "start_time": "2021-12-22T05:47:03.256Z"
   },
   {
    "duration": 16,
    "start_time": "2021-12-22T05:47:03.313Z"
   },
   {
    "duration": 22,
    "start_time": "2021-12-22T05:47:03.331Z"
   },
   {
    "duration": 81,
    "start_time": "2021-12-22T05:47:03.354Z"
   },
   {
    "duration": 68,
    "start_time": "2021-12-22T05:47:03.436Z"
   },
   {
    "duration": 52,
    "start_time": "2021-12-22T05:47:03.506Z"
   },
   {
    "duration": 53,
    "start_time": "2021-12-22T05:47:03.560Z"
   },
   {
    "duration": 4,
    "start_time": "2021-12-22T05:47:03.614Z"
   },
   {
    "duration": 31,
    "start_time": "2021-12-22T05:47:03.619Z"
   },
   {
    "duration": 56,
    "start_time": "2021-12-22T05:47:03.651Z"
   },
   {
    "duration": 2,
    "start_time": "2021-12-22T05:47:03.709Z"
   },
   {
    "duration": 4,
    "start_time": "2021-12-22T05:47:03.713Z"
   },
   {
    "duration": 5,
    "start_time": "2021-12-22T05:47:03.719Z"
   },
   {
    "duration": 3,
    "start_time": "2021-12-22T05:47:03.834Z"
   },
   {
    "duration": 5,
    "start_time": "2021-12-22T05:47:03.839Z"
   },
   {
    "duration": 5,
    "start_time": "2021-12-22T05:47:03.846Z"
   },
   {
    "duration": 7,
    "start_time": "2021-12-22T05:47:03.852Z"
   },
   {
    "duration": 5,
    "start_time": "2021-12-22T05:47:03.860Z"
   },
   {
    "duration": 12,
    "start_time": "2021-12-22T05:47:03.866Z"
   },
   {
    "duration": 4,
    "start_time": "2021-12-22T05:47:03.880Z"
   },
   {
    "duration": 5,
    "start_time": "2021-12-22T05:47:03.886Z"
   },
   {
    "duration": 3,
    "start_time": "2021-12-22T05:47:03.893Z"
   },
   {
    "duration": 5,
    "start_time": "2021-12-22T05:47:03.898Z"
   },
   {
    "duration": 7,
    "start_time": "2021-12-22T05:47:03.904Z"
   },
   {
    "duration": 4,
    "start_time": "2021-12-22T05:47:03.913Z"
   },
   {
    "duration": 7,
    "start_time": "2021-12-22T05:47:03.918Z"
   },
   {
    "duration": 6,
    "start_time": "2021-12-22T05:47:03.926Z"
   },
   {
    "duration": 5,
    "start_time": "2021-12-22T05:47:03.933Z"
   },
   {
    "duration": 5,
    "start_time": "2021-12-22T05:47:03.939Z"
   },
   {
    "duration": 4,
    "start_time": "2021-12-22T05:47:03.945Z"
   },
   {
    "duration": 4,
    "start_time": "2021-12-22T05:47:03.951Z"
   },
   {
    "duration": 569,
    "start_time": "2021-12-22T05:48:07.471Z"
   },
   {
    "duration": 136,
    "start_time": "2021-12-22T05:48:08.042Z"
   },
   {
    "duration": 20,
    "start_time": "2021-12-22T05:48:08.180Z"
   },
   {
    "duration": 40,
    "start_time": "2021-12-22T05:48:08.202Z"
   },
   {
    "duration": 24,
    "start_time": "2021-12-22T05:48:08.244Z"
   },
   {
    "duration": 31,
    "start_time": "2021-12-22T05:48:08.269Z"
   },
   {
    "duration": 36,
    "start_time": "2021-12-22T05:48:08.302Z"
   },
   {
    "duration": 36,
    "start_time": "2021-12-22T05:48:08.341Z"
   },
   {
    "duration": 31,
    "start_time": "2021-12-22T05:48:08.379Z"
   },
   {
    "duration": 53,
    "start_time": "2021-12-22T05:48:08.412Z"
   },
   {
    "duration": 86,
    "start_time": "2021-12-22T05:48:08.467Z"
   },
   {
    "duration": 68,
    "start_time": "2021-12-22T05:48:08.555Z"
   },
   {
    "duration": 50,
    "start_time": "2021-12-22T05:48:08.625Z"
   },
   {
    "duration": 45,
    "start_time": "2021-12-22T05:48:08.677Z"
   },
   {
    "duration": 12,
    "start_time": "2021-12-22T05:48:08.723Z"
   },
   {
    "duration": 55,
    "start_time": "2021-12-22T05:48:08.736Z"
   },
   {
    "duration": 37,
    "start_time": "2021-12-22T05:48:08.793Z"
   },
   {
    "duration": 13,
    "start_time": "2021-12-22T05:48:08.832Z"
   },
   {
    "duration": 22,
    "start_time": "2021-12-22T05:48:08.846Z"
   },
   {
    "duration": 10,
    "start_time": "2021-12-22T05:48:08.870Z"
   },
   {
    "duration": 31,
    "start_time": "2021-12-22T05:48:08.881Z"
   },
   {
    "duration": 17,
    "start_time": "2021-12-22T05:48:08.913Z"
   },
   {
    "duration": 22,
    "start_time": "2021-12-22T05:48:08.934Z"
   },
   {
    "duration": 21,
    "start_time": "2021-12-22T05:48:08.957Z"
   },
   {
    "duration": 27,
    "start_time": "2021-12-22T05:48:08.979Z"
   },
   {
    "duration": 29,
    "start_time": "2021-12-22T05:48:09.008Z"
   },
   {
    "duration": 20,
    "start_time": "2021-12-22T05:48:09.039Z"
   },
   {
    "duration": 19,
    "start_time": "2021-12-22T05:48:09.061Z"
   },
   {
    "duration": 20,
    "start_time": "2021-12-22T05:48:09.082Z"
   },
   {
    "duration": 29,
    "start_time": "2021-12-22T05:48:09.103Z"
   },
   {
    "duration": 35,
    "start_time": "2021-12-22T05:48:09.134Z"
   },
   {
    "duration": 14,
    "start_time": "2021-12-22T05:48:09.171Z"
   },
   {
    "duration": 33,
    "start_time": "2021-12-22T05:48:09.187Z"
   },
   {
    "duration": 17,
    "start_time": "2021-12-22T05:48:09.222Z"
   },
   {
    "duration": 17,
    "start_time": "2021-12-22T05:48:09.240Z"
   },
   {
    "duration": 13,
    "start_time": "2021-12-22T05:48:09.259Z"
   },
   {
    "duration": 27,
    "start_time": "2021-12-22T05:48:09.274Z"
   },
   {
    "duration": 22,
    "start_time": "2021-12-22T05:48:09.303Z"
   },
   {
    "duration": 12,
    "start_time": "2021-12-22T05:51:48.591Z"
   },
   {
    "duration": 41,
    "start_time": "2021-12-22T05:51:52.359Z"
   },
   {
    "duration": 183,
    "start_time": "2021-12-22T06:38:50.350Z"
   },
   {
    "duration": 11,
    "start_time": "2021-12-22T06:38:59.158Z"
   },
   {
    "duration": 12,
    "start_time": "2021-12-22T06:40:17.700Z"
   },
   {
    "duration": 3,
    "start_time": "2021-12-22T06:49:59.123Z"
   },
   {
    "duration": 16,
    "start_time": "2021-12-22T06:51:02.616Z"
   },
   {
    "duration": 14,
    "start_time": "2021-12-22T06:51:32.675Z"
   },
   {
    "duration": 15,
    "start_time": "2021-12-22T06:52:05.616Z"
   },
   {
    "duration": 14,
    "start_time": "2021-12-22T06:52:27.297Z"
   },
   {
    "duration": 16,
    "start_time": "2021-12-22T06:53:01.134Z"
   },
   {
    "duration": 15,
    "start_time": "2021-12-22T06:53:36.425Z"
   },
   {
    "duration": 9,
    "start_time": "2021-12-22T06:57:52.652Z"
   },
   {
    "duration": 18,
    "start_time": "2021-12-22T07:02:52.837Z"
   },
   {
    "duration": 13,
    "start_time": "2021-12-22T07:03:11.313Z"
   },
   {
    "duration": 17,
    "start_time": "2021-12-22T07:04:56.592Z"
   },
   {
    "duration": 12,
    "start_time": "2021-12-22T07:05:09.082Z"
   },
   {
    "duration": 4,
    "start_time": "2021-12-22T07:15:56.666Z"
   },
   {
    "duration": 308,
    "start_time": "2021-12-22T07:16:57.397Z"
   },
   {
    "duration": 5,
    "start_time": "2021-12-22T07:19:13.332Z"
   },
   {
    "duration": 268,
    "start_time": "2021-12-22T07:19:17.930Z"
   },
   {
    "duration": 4,
    "start_time": "2021-12-22T07:20:24.901Z"
   },
   {
    "duration": 22,
    "start_time": "2021-12-22T07:20:27.818Z"
   },
   {
    "duration": 23,
    "start_time": "2021-12-22T07:21:50.048Z"
   },
   {
    "duration": 23,
    "start_time": "2021-12-22T07:22:12.246Z"
   },
   {
    "duration": 2,
    "start_time": "2021-12-22T07:22:30.946Z"
   },
   {
    "duration": 159,
    "start_time": "2021-12-22T07:22:30.954Z"
   },
   {
    "duration": 10,
    "start_time": "2021-12-22T07:22:31.115Z"
   },
   {
    "duration": 30,
    "start_time": "2021-12-22T07:22:31.128Z"
   },
   {
    "duration": 11,
    "start_time": "2021-12-22T07:22:31.160Z"
   },
   {
    "duration": 18,
    "start_time": "2021-12-22T07:22:31.191Z"
   },
   {
    "duration": 4,
    "start_time": "2021-12-22T07:22:31.210Z"
   },
   {
    "duration": 29,
    "start_time": "2021-12-22T07:22:31.216Z"
   },
   {
    "duration": 44,
    "start_time": "2021-12-22T07:22:31.248Z"
   },
   {
    "duration": 40,
    "start_time": "2021-12-22T07:22:31.294Z"
   },
   {
    "duration": 74,
    "start_time": "2021-12-22T07:22:31.335Z"
   },
   {
    "duration": 63,
    "start_time": "2021-12-22T07:22:31.411Z"
   },
   {
    "duration": 63,
    "start_time": "2021-12-22T07:22:31.476Z"
   },
   {
    "duration": 53,
    "start_time": "2021-12-22T07:22:31.540Z"
   },
   {
    "duration": 3,
    "start_time": "2021-12-22T07:22:31.595Z"
   },
   {
    "duration": 18,
    "start_time": "2021-12-22T07:22:31.599Z"
   },
   {
    "duration": 40,
    "start_time": "2021-12-22T07:22:31.619Z"
   },
   {
    "duration": 14,
    "start_time": "2021-12-22T07:22:31.661Z"
   },
   {
    "duration": 24,
    "start_time": "2021-12-22T07:22:31.676Z"
   },
   {
    "duration": 4,
    "start_time": "2021-12-22T07:22:31.701Z"
   },
   {
    "duration": 24,
    "start_time": "2021-12-22T07:22:31.706Z"
   },
   {
    "duration": 13,
    "start_time": "2021-12-22T07:22:31.732Z"
   },
   {
    "duration": 22,
    "start_time": "2021-12-22T07:22:31.746Z"
   },
   {
    "duration": 13,
    "start_time": "2021-12-22T07:22:31.792Z"
   },
   {
    "duration": 18,
    "start_time": "2021-12-22T07:22:31.807Z"
   },
   {
    "duration": 14,
    "start_time": "2021-12-22T07:22:31.826Z"
   },
   {
    "duration": 18,
    "start_time": "2021-12-22T07:22:31.841Z"
   },
   {
    "duration": 13,
    "start_time": "2021-12-22T07:22:31.861Z"
   },
   {
    "duration": 25,
    "start_time": "2021-12-22T07:22:31.875Z"
   },
   {
    "duration": 5,
    "start_time": "2021-12-22T07:22:31.901Z"
   },
   {
    "duration": 27,
    "start_time": "2021-12-22T07:22:31.908Z"
   },
   {
    "duration": 20,
    "start_time": "2021-12-22T07:22:31.937Z"
   },
   {
    "duration": 2,
    "start_time": "2021-12-22T07:22:31.958Z"
   },
   {
    "duration": 7,
    "start_time": "2021-12-22T07:22:31.962Z"
   },
   {
    "duration": 2,
    "start_time": "2021-12-22T07:22:31.991Z"
   },
   {
    "duration": 5,
    "start_time": "2021-12-22T07:22:31.995Z"
   },
   {
    "duration": 5,
    "start_time": "2021-12-22T07:22:32.002Z"
   },
   {
    "duration": 6,
    "start_time": "2021-12-22T07:22:32.009Z"
   },
   {
    "duration": 21,
    "start_time": "2021-12-22T07:23:57.864Z"
   },
   {
    "duration": 22,
    "start_time": "2021-12-22T07:24:02.736Z"
   },
   {
    "duration": 22,
    "start_time": "2021-12-22T07:41:21.202Z"
   },
   {
    "duration": 12,
    "start_time": "2021-12-22T07:41:30.583Z"
   },
   {
    "duration": 17,
    "start_time": "2021-12-22T07:42:16.945Z"
   },
   {
    "duration": 10,
    "start_time": "2021-12-22T07:42:27.277Z"
   },
   {
    "duration": 3,
    "start_time": "2021-12-22T07:43:36.761Z"
   },
   {
    "duration": 18,
    "start_time": "2021-12-22T07:43:41.107Z"
   },
   {
    "duration": 13,
    "start_time": "2021-12-22T07:43:46.043Z"
   },
   {
    "duration": 20,
    "start_time": "2021-12-22T07:44:58.302Z"
   },
   {
    "duration": 19,
    "start_time": "2021-12-22T07:45:50.827Z"
   },
   {
    "duration": 13,
    "start_time": "2021-12-22T07:45:56.786Z"
   },
   {
    "duration": 11,
    "start_time": "2021-12-22T07:52:22.536Z"
   },
   {
    "duration": 5,
    "start_time": "2021-12-22T07:52:46.377Z"
   },
   {
    "duration": 6,
    "start_time": "2021-12-22T07:53:47.902Z"
   },
   {
    "duration": 5,
    "start_time": "2021-12-22T07:54:11.005Z"
   },
   {
    "duration": 4,
    "start_time": "2021-12-22T08:17:28.292Z"
   },
   {
    "duration": 3,
    "start_time": "2021-12-22T08:18:29.322Z"
   },
   {
    "duration": 4,
    "start_time": "2021-12-22T08:19:17.480Z"
   },
   {
    "duration": 4,
    "start_time": "2021-12-22T08:22:17.116Z"
   },
   {
    "duration": 4,
    "start_time": "2021-12-22T08:22:23.701Z"
   },
   {
    "duration": 42,
    "start_time": "2021-12-22T08:37:31.512Z"
   },
   {
    "duration": 62,
    "start_time": "2021-12-22T08:38:05.268Z"
   },
   {
    "duration": 150,
    "start_time": "2021-12-22T08:40:35.282Z"
   },
   {
    "duration": 10,
    "start_time": "2021-12-22T08:44:52.050Z"
   },
   {
    "duration": 3,
    "start_time": "2021-12-22T08:44:56.727Z"
   },
   {
    "duration": 146,
    "start_time": "2021-12-22T08:44:56.732Z"
   },
   {
    "duration": 19,
    "start_time": "2021-12-22T08:44:56.881Z"
   },
   {
    "duration": 27,
    "start_time": "2021-12-22T08:44:56.902Z"
   },
   {
    "duration": 4,
    "start_time": "2021-12-22T08:44:56.931Z"
   },
   {
    "duration": 23,
    "start_time": "2021-12-22T08:44:56.937Z"
   },
   {
    "duration": 5,
    "start_time": "2021-12-22T08:44:56.991Z"
   },
   {
    "duration": 29,
    "start_time": "2021-12-22T08:44:56.997Z"
   },
   {
    "duration": 22,
    "start_time": "2021-12-22T08:44:57.029Z"
   },
   {
    "duration": 52,
    "start_time": "2021-12-22T08:44:57.053Z"
   },
   {
    "duration": 66,
    "start_time": "2021-12-22T08:44:57.107Z"
   },
   {
    "duration": 75,
    "start_time": "2021-12-22T08:44:57.190Z"
   },
   {
    "duration": 60,
    "start_time": "2021-12-22T08:44:57.267Z"
   },
   {
    "duration": 39,
    "start_time": "2021-12-22T08:44:57.329Z"
   },
   {
    "duration": 3,
    "start_time": "2021-12-22T08:44:57.369Z"
   },
   {
    "duration": 25,
    "start_time": "2021-12-22T08:44:57.374Z"
   },
   {
    "duration": 38,
    "start_time": "2021-12-22T08:44:57.401Z"
   },
   {
    "duration": 10,
    "start_time": "2021-12-22T08:44:57.441Z"
   },
   {
    "duration": 10,
    "start_time": "2021-12-22T08:44:57.452Z"
   },
   {
    "duration": 29,
    "start_time": "2021-12-22T08:44:57.463Z"
   },
   {
    "duration": 25,
    "start_time": "2021-12-22T08:44:57.494Z"
   },
   {
    "duration": 15,
    "start_time": "2021-12-22T08:44:57.521Z"
   },
   {
    "duration": 14,
    "start_time": "2021-12-22T08:44:57.537Z"
   },
   {
    "duration": 12,
    "start_time": "2021-12-22T08:44:57.553Z"
   },
   {
    "duration": 15,
    "start_time": "2021-12-22T08:44:57.591Z"
   },
   {
    "duration": 13,
    "start_time": "2021-12-22T08:44:57.608Z"
   },
   {
    "duration": 8,
    "start_time": "2021-12-22T08:44:57.624Z"
   },
   {
    "duration": 16,
    "start_time": "2021-12-22T08:44:57.634Z"
   },
   {
    "duration": 41,
    "start_time": "2021-12-22T08:44:57.651Z"
   },
   {
    "duration": 4,
    "start_time": "2021-12-22T08:44:57.693Z"
   },
   {
    "duration": 22,
    "start_time": "2021-12-22T08:44:57.699Z"
   },
   {
    "duration": 12,
    "start_time": "2021-12-22T08:44:57.723Z"
   },
   {
    "duration": 16,
    "start_time": "2021-12-22T08:44:57.737Z"
   },
   {
    "duration": 39,
    "start_time": "2021-12-22T08:44:57.755Z"
   },
   {
    "duration": 10,
    "start_time": "2021-12-22T08:44:57.796Z"
   },
   {
    "duration": 5,
    "start_time": "2021-12-22T08:44:57.807Z"
   },
   {
    "duration": 8,
    "start_time": "2021-12-22T08:44:57.813Z"
   },
   {
    "duration": 4,
    "start_time": "2021-12-22T08:44:57.823Z"
   },
   {
    "duration": 849,
    "start_time": "2021-12-22T15:40:52.251Z"
   },
   {
    "duration": 199,
    "start_time": "2021-12-22T15:40:53.102Z"
   },
   {
    "duration": 27,
    "start_time": "2021-12-22T15:40:53.304Z"
   },
   {
    "duration": 53,
    "start_time": "2021-12-22T15:40:53.334Z"
   },
   {
    "duration": 8,
    "start_time": "2021-12-22T15:40:53.390Z"
   },
   {
    "duration": 38,
    "start_time": "2021-12-22T15:40:53.400Z"
   },
   {
    "duration": 30,
    "start_time": "2021-12-22T15:40:53.441Z"
   },
   {
    "duration": 38,
    "start_time": "2021-12-22T15:40:53.473Z"
   },
   {
    "duration": 61,
    "start_time": "2021-12-22T15:40:53.516Z"
   },
   {
    "duration": 32,
    "start_time": "2021-12-22T15:40:53.580Z"
   },
   {
    "duration": 117,
    "start_time": "2021-12-22T15:40:53.615Z"
   },
   {
    "duration": 120,
    "start_time": "2021-12-22T15:40:53.734Z"
   },
   {
    "duration": 86,
    "start_time": "2021-12-22T15:40:53.856Z"
   },
   {
    "duration": 71,
    "start_time": "2021-12-22T15:40:53.944Z"
   },
   {
    "duration": 4,
    "start_time": "2021-12-22T15:40:54.018Z"
   },
   {
    "duration": 24,
    "start_time": "2021-12-22T15:40:54.024Z"
   },
   {
    "duration": 60,
    "start_time": "2021-12-22T15:40:54.066Z"
   },
   {
    "duration": 15,
    "start_time": "2021-12-22T15:40:54.128Z"
   },
   {
    "duration": 35,
    "start_time": "2021-12-22T15:40:54.145Z"
   },
   {
    "duration": 8,
    "start_time": "2021-12-22T15:40:54.183Z"
   },
   {
    "duration": 37,
    "start_time": "2021-12-22T15:40:54.194Z"
   },
   {
    "duration": 39,
    "start_time": "2021-12-22T15:40:54.234Z"
   },
   {
    "duration": 20,
    "start_time": "2021-12-22T15:40:54.275Z"
   },
   {
    "duration": 22,
    "start_time": "2021-12-22T15:40:54.298Z"
   },
   {
    "duration": 51,
    "start_time": "2021-12-22T15:40:54.323Z"
   },
   {
    "duration": 20,
    "start_time": "2021-12-22T15:40:54.376Z"
   },
   {
    "duration": 12,
    "start_time": "2021-12-22T15:40:54.402Z"
   },
   {
    "duration": 19,
    "start_time": "2021-12-22T15:40:54.417Z"
   },
   {
    "duration": 12,
    "start_time": "2021-12-22T15:40:54.468Z"
   },
   {
    "duration": 7,
    "start_time": "2021-12-22T15:40:54.483Z"
   },
   {
    "duration": 44,
    "start_time": "2021-12-22T15:40:54.492Z"
   },
   {
    "duration": 34,
    "start_time": "2021-12-22T15:40:54.539Z"
   },
   {
    "duration": 26,
    "start_time": "2021-12-22T15:40:54.576Z"
   },
   {
    "duration": 18,
    "start_time": "2021-12-22T15:40:54.604Z"
   },
   {
    "duration": 45,
    "start_time": "2021-12-22T15:40:54.625Z"
   },
   {
    "duration": 7,
    "start_time": "2021-12-22T15:40:54.672Z"
   },
   {
    "duration": 15,
    "start_time": "2021-12-22T15:40:54.681Z"
   },
   {
    "duration": 7,
    "start_time": "2021-12-22T15:40:54.698Z"
   },
   {
    "duration": 799,
    "start_time": "2021-12-22T15:51:03.827Z"
   },
   {
    "duration": 188,
    "start_time": "2021-12-22T15:51:04.629Z"
   },
   {
    "duration": 25,
    "start_time": "2021-12-22T15:51:04.820Z"
   },
   {
    "duration": 51,
    "start_time": "2021-12-22T15:51:04.848Z"
   },
   {
    "duration": 6,
    "start_time": "2021-12-22T15:51:04.901Z"
   },
   {
    "duration": 59,
    "start_time": "2021-12-22T15:51:04.909Z"
   },
   {
    "duration": 6,
    "start_time": "2021-12-22T15:51:04.970Z"
   },
   {
    "duration": 40,
    "start_time": "2021-12-22T15:51:04.978Z"
   },
   {
    "duration": 24,
    "start_time": "2021-12-22T15:51:05.022Z"
   },
   {
    "duration": 32,
    "start_time": "2021-12-22T15:51:05.069Z"
   },
   {
    "duration": 127,
    "start_time": "2021-12-22T15:51:05.103Z"
   },
   {
    "duration": 119,
    "start_time": "2021-12-22T15:51:05.233Z"
   },
   {
    "duration": 87,
    "start_time": "2021-12-22T15:51:05.355Z"
   },
   {
    "duration": 70,
    "start_time": "2021-12-22T15:51:05.445Z"
   },
   {
    "duration": 4,
    "start_time": "2021-12-22T15:51:05.518Z"
   },
   {
    "duration": 26,
    "start_time": "2021-12-22T15:51:05.524Z"
   },
   {
    "duration": 59,
    "start_time": "2021-12-22T15:51:05.568Z"
   },
   {
    "duration": 38,
    "start_time": "2021-12-22T15:51:05.630Z"
   },
   {
    "duration": 14,
    "start_time": "2021-12-22T15:51:05.671Z"
   },
   {
    "duration": 5,
    "start_time": "2021-12-22T15:51:05.687Z"
   },
   {
    "duration": 37,
    "start_time": "2021-12-22T15:51:05.694Z"
   },
   {
    "duration": 35,
    "start_time": "2021-12-22T15:51:05.733Z"
   },
   {
    "duration": 19,
    "start_time": "2021-12-22T15:51:05.771Z"
   },
   {
    "duration": 20,
    "start_time": "2021-12-22T15:51:05.793Z"
   },
   {
    "duration": 61,
    "start_time": "2021-12-22T15:51:05.816Z"
   },
   {
    "duration": 21,
    "start_time": "2021-12-22T15:51:05.879Z"
   },
   {
    "duration": 12,
    "start_time": "2021-12-22T15:51:05.905Z"
   },
   {
    "duration": 47,
    "start_time": "2021-12-22T15:51:05.920Z"
   },
   {
    "duration": 12,
    "start_time": "2021-12-22T15:51:05.970Z"
   },
   {
    "duration": 7,
    "start_time": "2021-12-22T15:51:05.984Z"
   },
   {
    "duration": 35,
    "start_time": "2021-12-22T15:51:05.993Z"
   },
   {
    "duration": 41,
    "start_time": "2021-12-22T15:51:06.031Z"
   },
   {
    "duration": 28,
    "start_time": "2021-12-22T15:51:06.075Z"
   },
   {
    "duration": 20,
    "start_time": "2021-12-22T15:51:06.106Z"
   },
   {
    "duration": 14,
    "start_time": "2021-12-22T15:51:06.168Z"
   },
   {
    "duration": 10,
    "start_time": "2021-12-22T15:51:06.184Z"
   },
   {
    "duration": 29,
    "start_time": "2021-12-22T15:51:06.197Z"
   },
   {
    "duration": 9,
    "start_time": "2021-12-22T15:51:06.229Z"
   },
   {
    "duration": 88,
    "start_time": "2021-12-23T03:12:03.554Z"
   },
   {
    "duration": 81,
    "start_time": "2021-12-23T03:12:14.927Z"
   },
   {
    "duration": 546,
    "start_time": "2021-12-23T07:55:43.061Z"
   },
   {
    "duration": 138,
    "start_time": "2021-12-23T07:55:43.609Z"
   },
   {
    "duration": 17,
    "start_time": "2021-12-23T07:55:43.749Z"
   },
   {
    "duration": 26,
    "start_time": "2021-12-23T07:55:43.768Z"
   },
   {
    "duration": 4,
    "start_time": "2021-12-23T07:55:43.806Z"
   },
   {
    "duration": 23,
    "start_time": "2021-12-23T07:55:43.812Z"
   },
   {
    "duration": 6,
    "start_time": "2021-12-23T07:55:43.837Z"
   },
   {
    "duration": 24,
    "start_time": "2021-12-23T07:55:43.846Z"
   },
   {
    "duration": 42,
    "start_time": "2021-12-23T07:55:43.872Z"
   },
   {
    "duration": 24,
    "start_time": "2021-12-23T07:55:43.916Z"
   },
   {
    "duration": 77,
    "start_time": "2021-12-23T07:55:43.942Z"
   },
   {
    "duration": 62,
    "start_time": "2021-12-23T07:55:44.021Z"
   },
   {
    "duration": 60,
    "start_time": "2021-12-23T07:55:44.084Z"
   },
   {
    "duration": 40,
    "start_time": "2021-12-23T07:55:44.145Z"
   },
   {
    "duration": 2,
    "start_time": "2021-12-23T07:55:44.187Z"
   },
   {
    "duration": 12,
    "start_time": "2021-12-23T07:55:44.206Z"
   },
   {
    "duration": 42,
    "start_time": "2021-12-23T07:55:44.219Z"
   },
   {
    "duration": 10,
    "start_time": "2021-12-23T07:55:44.263Z"
   },
   {
    "duration": 35,
    "start_time": "2021-12-23T07:55:44.274Z"
   },
   {
    "duration": 3,
    "start_time": "2021-12-23T07:55:44.311Z"
   },
   {
    "duration": 19,
    "start_time": "2021-12-23T07:55:44.316Z"
   },
   {
    "duration": 13,
    "start_time": "2021-12-23T07:55:44.337Z"
   },
   {
    "duration": 14,
    "start_time": "2021-12-23T07:55:44.353Z"
   },
   {
    "duration": 42,
    "start_time": "2021-12-23T07:55:44.369Z"
   },
   {
    "duration": 16,
    "start_time": "2021-12-23T07:55:44.413Z"
   },
   {
    "duration": 16,
    "start_time": "2021-12-23T07:55:44.431Z"
   },
   {
    "duration": 9,
    "start_time": "2021-12-23T07:55:44.449Z"
   },
   {
    "duration": 12,
    "start_time": "2021-12-23T07:55:44.460Z"
   },
   {
    "duration": 39,
    "start_time": "2021-12-23T07:55:44.474Z"
   },
   {
    "duration": 4,
    "start_time": "2021-12-23T07:55:44.514Z"
   },
   {
    "duration": 24,
    "start_time": "2021-12-23T07:55:44.520Z"
   },
   {
    "duration": 13,
    "start_time": "2021-12-23T07:55:44.546Z"
   },
   {
    "duration": 18,
    "start_time": "2021-12-23T07:55:44.560Z"
   },
   {
    "duration": 13,
    "start_time": "2021-12-23T07:55:44.607Z"
   },
   {
    "duration": 8,
    "start_time": "2021-12-23T07:55:44.621Z"
   },
   {
    "duration": 4,
    "start_time": "2021-12-23T07:55:44.631Z"
   },
   {
    "duration": 8,
    "start_time": "2021-12-23T07:55:44.637Z"
   },
   {
    "duration": 4,
    "start_time": "2021-12-23T07:55:44.647Z"
   },
   {
    "duration": 170,
    "start_time": "2022-01-15T06:52:51.745Z"
   },
   {
    "duration": 571,
    "start_time": "2022-01-15T06:53:26.785Z"
   },
   {
    "duration": 715,
    "start_time": "2022-01-15T06:53:27.358Z"
   },
   {
    "duration": 19,
    "start_time": "2022-01-15T06:53:28.075Z"
   },
   {
    "duration": 63,
    "start_time": "2022-01-15T06:53:28.096Z"
   },
   {
    "duration": 4,
    "start_time": "2022-01-15T06:53:28.161Z"
   },
   {
    "duration": 24,
    "start_time": "2022-01-15T06:53:28.166Z"
   },
   {
    "duration": 4,
    "start_time": "2022-01-15T06:53:28.191Z"
   },
   {
    "duration": 25,
    "start_time": "2022-01-15T06:53:28.197Z"
   },
   {
    "duration": 19,
    "start_time": "2022-01-15T06:53:28.224Z"
   },
   {
    "duration": 49,
    "start_time": "2022-01-15T06:53:28.244Z"
   },
   {
    "duration": 56,
    "start_time": "2022-01-15T06:53:28.295Z"
   },
   {
    "duration": 81,
    "start_time": "2022-01-15T06:53:28.353Z"
   },
   {
    "duration": 56,
    "start_time": "2022-01-15T06:53:28.436Z"
   },
   {
    "duration": 41,
    "start_time": "2022-01-15T06:53:28.494Z"
   },
   {
    "duration": 3,
    "start_time": "2022-01-15T06:53:28.536Z"
   },
   {
    "duration": 15,
    "start_time": "2022-01-15T06:53:28.541Z"
   },
   {
    "duration": 58,
    "start_time": "2022-01-15T06:53:28.558Z"
   },
   {
    "duration": 9,
    "start_time": "2022-01-15T06:53:28.618Z"
   },
   {
    "duration": 8,
    "start_time": "2022-01-15T06:53:28.629Z"
   },
   {
    "duration": 3,
    "start_time": "2022-01-15T06:53:28.639Z"
   },
   {
    "duration": 20,
    "start_time": "2022-01-15T06:53:28.643Z"
   },
   {
    "duration": 38,
    "start_time": "2022-01-15T06:53:28.665Z"
   },
   {
    "duration": 15,
    "start_time": "2022-01-15T06:53:28.707Z"
   },
   {
    "duration": 14,
    "start_time": "2022-01-15T06:53:28.724Z"
   },
   {
    "duration": 16,
    "start_time": "2022-01-15T06:53:28.740Z"
   },
   {
    "duration": 16,
    "start_time": "2022-01-15T06:53:28.792Z"
   },
   {
    "duration": 10,
    "start_time": "2022-01-15T06:53:28.809Z"
   },
   {
    "duration": 11,
    "start_time": "2022-01-15T06:53:28.821Z"
   },
   {
    "duration": 10,
    "start_time": "2022-01-15T06:53:28.834Z"
   },
   {
    "duration": 5,
    "start_time": "2022-01-15T06:53:28.846Z"
   },
   {
    "duration": 53,
    "start_time": "2022-01-15T06:53:28.852Z"
   },
   {
    "duration": 12,
    "start_time": "2022-01-15T06:53:28.907Z"
   },
   {
    "duration": 17,
    "start_time": "2022-01-15T06:53:28.921Z"
   },
   {
    "duration": 12,
    "start_time": "2022-01-15T06:53:28.940Z"
   },
   {
    "duration": 44,
    "start_time": "2022-01-15T06:53:28.953Z"
   },
   {
    "duration": 4,
    "start_time": "2022-01-15T06:53:28.999Z"
   },
   {
    "duration": 7,
    "start_time": "2022-01-15T06:53:29.005Z"
   },
   {
    "duration": 4,
    "start_time": "2022-01-15T06:53:29.014Z"
   }
  ],
  "colab": {
   "collapsed_sections": [
    "E0vqbgi9ay0H",
    "VUC88oWjTJw2"
   ],
   "name": "yandex_music_project_2021.2.ipynb",
   "provenance": []
  },
  "kernelspec": {
   "display_name": "Python 3 (ipykernel)",
   "language": "python",
   "name": "python3"
  },
  "language_info": {
   "codemirror_mode": {
    "name": "ipython",
    "version": 3
   },
   "file_extension": ".py",
   "mimetype": "text/x-python",
   "name": "python",
   "nbconvert_exporter": "python",
   "pygments_lexer": "ipython3",
   "version": "3.10.1"
  },
  "toc": {
   "base_numbering": 1,
   "nav_menu": {},
   "number_sections": true,
   "sideBar": true,
   "skip_h1_title": true,
   "title_cell": "Оглавление",
   "title_sidebar": "Contents",
   "toc_cell": true,
   "toc_position": {},
   "toc_section_display": true,
   "toc_window_display": true
  }
 },
 "nbformat": 4,
 "nbformat_minor": 1
}
