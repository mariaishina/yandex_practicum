{
 "cells": [
  {
   "cell_type": "markdown",
   "metadata": {},
   "source": [
    "# Рынок заведений общественного питания Москвы"
   ]
  },
  {
   "cell_type": "markdown",
   "metadata": {
    "toc": true
   },
   "source": [
    "<h1>Оглавление<span class=\"tocSkip\"></span></h1>\n",
    "<div class=\"toc\"><ul class=\"toc-item\"><li><span><a href=\"#Цель-исследования\" data-toc-modified-id=\"Цель-исследования-1\"><span class=\"toc-item-num\">1&nbsp;&nbsp;</span>Цель исследования</a></span></li><li><span><a href=\"#Знакомство-с-данными\" data-toc-modified-id=\"Знакомство-с-данными-2\"><span class=\"toc-item-num\">2&nbsp;&nbsp;</span>Знакомство с данными</a></span><ul class=\"toc-item\"><li><span><a href=\"#Загрузка-библиотек\" data-toc-modified-id=\"Загрузка-библиотек-2.1\"><span class=\"toc-item-num\">2.1&nbsp;&nbsp;</span>Загрузка библиотек</a></span></li><li><span><a href=\"#Загрузка-данных\" data-toc-modified-id=\"Загрузка-данных-2.2\"><span class=\"toc-item-num\">2.2&nbsp;&nbsp;</span>Загрузка данных</a></span></li><li><span><a href=\"#Вывод\" data-toc-modified-id=\"Вывод-2.3\"><span class=\"toc-item-num\">2.3&nbsp;&nbsp;</span>Вывод</a></span></li></ul></li><li><span><a href=\"#Предобработка-данных\" data-toc-modified-id=\"Предобработка-данных-3\"><span class=\"toc-item-num\">3&nbsp;&nbsp;</span>Предобработка данных</a></span><ul class=\"toc-item\"><li><span><a href=\"#Типы-данных-и-пропуски\" data-toc-modified-id=\"Типы-данных-и-пропуски-3.1\"><span class=\"toc-item-num\">3.1&nbsp;&nbsp;</span>Типы данных и пропуски</a></span></li><li><span><a href=\"#Дубликаты\" data-toc-modified-id=\"Дубликаты-3.2\"><span class=\"toc-item-num\">3.2&nbsp;&nbsp;</span>Дубликаты</a></span></li><li><span><a href=\"#Вывод\" data-toc-modified-id=\"Вывод-3.3\"><span class=\"toc-item-num\">3.3&nbsp;&nbsp;</span>Вывод</a></span></li></ul></li><li><span><a href=\"#Подготовка-данных-к-анализу\" data-toc-modified-id=\"Подготовка-данных-к-анализу-4\"><span class=\"toc-item-num\">4&nbsp;&nbsp;</span>Подготовка данных к анализу</a></span><ul class=\"toc-item\"><li><span><a href=\"#Выделение-названий-улиц-в-отдельный-столбец\" data-toc-modified-id=\"Выделение-названий-улиц-в-отдельный-столбец-4.1\"><span class=\"toc-item-num\">4.1&nbsp;&nbsp;</span>Выделение названий улиц в отдельный столбец</a></span></li><li><span><a href=\"#Выделение-районов\" data-toc-modified-id=\"Выделение-районов-4.2\"><span class=\"toc-item-num\">4.2&nbsp;&nbsp;</span>Выделение районов</a></span></li><li><span><a href=\"#Унификация-названий-объектов-общественного-питания-(ОП)\" data-toc-modified-id=\"Унификация-названий-объектов-общественного-питания-(ОП)-4.3\"><span class=\"toc-item-num\">4.3&nbsp;&nbsp;</span>Унификация названий объектов общественного питания (ОП)</a></span></li><li><span><a href=\"#Вывод\" data-toc-modified-id=\"Вывод-4.4\"><span class=\"toc-item-num\">4.4&nbsp;&nbsp;</span>Вывод</a></span></li></ul></li><li><span><a href=\"#Анализ-данных\" data-toc-modified-id=\"Анализ-данных-5\"><span class=\"toc-item-num\">5&nbsp;&nbsp;</span>Анализ данных</a></span><ul class=\"toc-item\"><li><span><a href=\"#Общая-характеристика-объектов-общественного-питания-(ОП)\" data-toc-modified-id=\"Общая-характеристика-объектов-общественного-питания-(ОП)-5.1\"><span class=\"toc-item-num\">5.1&nbsp;&nbsp;</span>Общая характеристика объектов общественного питания (ОП)</a></span><ul class=\"toc-item\"><li><span><a href=\"#Виды-объектов-ОП\" data-toc-modified-id=\"Виды-объектов-ОП-5.1.1\"><span class=\"toc-item-num\">5.1.1&nbsp;&nbsp;</span>Виды объектов ОП</a></span></li><li><span><a href=\"#Количество-посадочных-мест\" data-toc-modified-id=\"Количество-посадочных-мест-5.1.2\"><span class=\"toc-item-num\">5.1.2&nbsp;&nbsp;</span>Количество посадочных мест</a></span></li><li><span><a href=\"#Вывод\" data-toc-modified-id=\"Вывод-5.1.3\"><span class=\"toc-item-num\">5.1.3&nbsp;&nbsp;</span>Вывод</a></span></li></ul></li><li><span><a href=\"#Сравнение-сетевых-и-несетевых-объектов\" data-toc-modified-id=\"Сравнение-сетевых-и-несетевых-объектов-5.2\"><span class=\"toc-item-num\">5.2&nbsp;&nbsp;</span>Сравнение сетевых и несетевых объектов</a></span><ul class=\"toc-item\"><li><span><a href=\"#Количество-сетевых-и-несетевых-объектов-ОП\" data-toc-modified-id=\"Количество-сетевых-и-несетевых-объектов-ОП-5.2.1\"><span class=\"toc-item-num\">5.2.1&nbsp;&nbsp;</span>Количество сетевых и несетевых объектов ОП</a></span></li><li><span><a href=\"#Виды-сетевых-и-несетевых-объектов-ОП\" data-toc-modified-id=\"Виды-сетевых-и-несетевых-объектов-ОП-5.2.2\"><span class=\"toc-item-num\">5.2.2&nbsp;&nbsp;</span>Виды сетевых и несетевых объектов ОП</a></span></li><li><span><a href=\"#Количество-посадочных-мест-в-сетевых-и-несетевых-объектах-ОП\" data-toc-modified-id=\"Количество-посадочных-мест-в-сетевых-и-несетевых-объектах-ОП-5.2.3\"><span class=\"toc-item-num\">5.2.3&nbsp;&nbsp;</span>Количество посадочных мест в сетевых и несетевых объектах ОП</a></span></li><li><span><a href=\"#Характеристики-наиболее-распространенных-сетей:-размер-сети-и-среднее-количество-мест\" data-toc-modified-id=\"Характеристики-наиболее-распространенных-сетей:-размер-сети-и-среднее-количество-мест-5.2.4\"><span class=\"toc-item-num\">5.2.4&nbsp;&nbsp;</span>Характеристики наиболее распространенных сетей: размер сети и среднее количество мест</a></span></li><li><span><a href=\"#Вывод\" data-toc-modified-id=\"Вывод-5.2.5\"><span class=\"toc-item-num\">5.2.5&nbsp;&nbsp;</span>Вывод</a></span></li></ul></li><li><span><a href=\"#Расположение-объектов-ОП\" data-toc-modified-id=\"Расположение-объектов-ОП-5.3\"><span class=\"toc-item-num\">5.3&nbsp;&nbsp;</span>Расположение объектов ОП</a></span><ul class=\"toc-item\"><li><span><a href=\"#ТОП-10-улиц-с-указанием-районов-по-количеству-объектов-ОП\" data-toc-modified-id=\"ТОП-10-улиц-с-указанием-районов-по-количеству-объектов-ОП-5.3.1\"><span class=\"toc-item-num\">5.3.1&nbsp;&nbsp;</span>ТОП-10 улиц с указанием районов по количеству объектов ОП</a></span></li><li><span><a href=\"#Улицы-с-одним-объектом-ОП\" data-toc-modified-id=\"Улицы-с-одним-объектом-ОП-5.3.2\"><span class=\"toc-item-num\">5.3.2&nbsp;&nbsp;</span>Улицы с одним объектом ОП</a></span></li><li><span><a href=\"#Улицы-с-большим-количеством-объектов-ОП:-число-посадочных-мест\" data-toc-modified-id=\"Улицы-с-большим-количеством-объектов-ОП:-число-посадочных-мест-5.3.3\"><span class=\"toc-item-num\">5.3.3&nbsp;&nbsp;</span>Улицы с большим количеством объектов ОП: число посадочных мест</a></span></li><li><span><a href=\"#Вывод\" data-toc-modified-id=\"Вывод-5.3.4\"><span class=\"toc-item-num\">5.3.4&nbsp;&nbsp;</span>Вывод</a></span></li></ul></li></ul></li><li><span><a href=\"#Выводы-и-рекомендации\" data-toc-modified-id=\"Выводы-и-рекомендации-6\"><span class=\"toc-item-num\">6&nbsp;&nbsp;</span>Выводы и рекомендации</a></span></li><li><span><a href=\"#Презентация\" data-toc-modified-id=\"Презентация-7\"><span class=\"toc-item-num\">7&nbsp;&nbsp;</span>Презентация</a></span></li></ul></div>"
   ]
  },
  {
   "cell_type": "markdown",
   "metadata": {},
   "source": [
    "## Цель исследования"
   ]
  },
  {
   "cell_type": "markdown",
   "metadata": {},
   "source": [
    "Планируется открыть небольшое кафе в Москве, в котором гостей будут обслуживать роботы. \n",
    "\n",
    "Для реализации данного проекта необходимо привлечь инвестиции. Инвесторы запросили исследование: каково текущее положение дел на рынке и сможет ли новое заведение снискать популярность на долгое время. \n",
    "\n",
    "Проведем это исследование на основе открытых данных о заведениях общественного питания в Москве.\n",
    "\n",
    "Используемые сокращения:\n",
    "- ОП - общественное питание"
   ]
  },
  {
   "cell_type": "markdown",
   "metadata": {},
   "source": [
    "## Знакомство с данными"
   ]
  },
  {
   "cell_type": "markdown",
   "metadata": {},
   "source": [
    "### Загрузка библиотек"
   ]
  },
  {
   "cell_type": "code",
   "execution_count": 1,
   "metadata": {
    "scrolled": true
   },
   "outputs": [
    {
     "name": "stderr",
     "output_type": "stream",
     "text": [
      "C:\\Dev\\Jupyter\\dist\\pyenv3.7-win64\\lib\\site-packages\\scipy\\__init__.py:146: UserWarning: A NumPy version >=1.16.5 and <1.23.0 is required for this version of SciPy (detected version 1.23.2\n",
      "  warnings.warn(f\"A NumPy version >={np_minversion} and <{np_maxversion}\"\n"
     ]
    }
   ],
   "source": [
    "import pandas as pd\n",
    "import numpy as np\n",
    "import matplotlib.pyplot as plt\n",
    "import seaborn as sns\n",
    "from plotly import graph_objects as go\n",
    "\n",
    "#!pip install matplotlib --user --upgrade\n",
    "\n",
    "plt.style.use('seaborn-pastel')\n",
    "pd.set_option('mode.chained_assignment', None)\n",
    "pd.options.display.max_colwidth = 100"
   ]
  },
  {
   "cell_type": "markdown",
   "metadata": {},
   "source": [
    "### Загрузка данных"
   ]
  },
  {
   "cell_type": "code",
   "execution_count": 2,
   "metadata": {},
   "outputs": [
    {
     "name": "stdout",
     "output_type": "stream",
     "text": [
      "(15366, 6)\n"
     ]
    },
    {
     "data": {
      "text/html": [
       "<div>\n",
       "<style scoped>\n",
       "    .dataframe tbody tr th:only-of-type {\n",
       "        vertical-align: middle;\n",
       "    }\n",
       "\n",
       "    .dataframe tbody tr th {\n",
       "        vertical-align: top;\n",
       "    }\n",
       "\n",
       "    .dataframe thead th {\n",
       "        text-align: right;\n",
       "    }\n",
       "</style>\n",
       "<table border=\"1\" class=\"dataframe\">\n",
       "  <thead>\n",
       "    <tr style=\"text-align: right;\">\n",
       "      <th></th>\n",
       "      <th>id</th>\n",
       "      <th>object_name</th>\n",
       "      <th>chain</th>\n",
       "      <th>object_type</th>\n",
       "      <th>address</th>\n",
       "      <th>number</th>\n",
       "    </tr>\n",
       "  </thead>\n",
       "  <tbody>\n",
       "    <tr>\n",
       "      <th>0</th>\n",
       "      <td>151635</td>\n",
       "      <td>СМЕТАНА</td>\n",
       "      <td>нет</td>\n",
       "      <td>кафе</td>\n",
       "      <td>город Москва, улица Егора Абакумова, дом 9</td>\n",
       "      <td>48</td>\n",
       "    </tr>\n",
       "    <tr>\n",
       "      <th>1</th>\n",
       "      <td>77874</td>\n",
       "      <td>Родник</td>\n",
       "      <td>нет</td>\n",
       "      <td>кафе</td>\n",
       "      <td>город Москва, улица Талалихина, дом 2/1, корпус 1</td>\n",
       "      <td>35</td>\n",
       "    </tr>\n",
       "    <tr>\n",
       "      <th>2</th>\n",
       "      <td>24309</td>\n",
       "      <td>Кафе «Академия»</td>\n",
       "      <td>нет</td>\n",
       "      <td>кафе</td>\n",
       "      <td>город Москва, Абельмановская улица, дом 6</td>\n",
       "      <td>95</td>\n",
       "    </tr>\n",
       "    <tr>\n",
       "      <th>3</th>\n",
       "      <td>21894</td>\n",
       "      <td>ПИЦЦЕТОРИЯ</td>\n",
       "      <td>да</td>\n",
       "      <td>кафе</td>\n",
       "      <td>город Москва, Абрамцевская улица, дом 1</td>\n",
       "      <td>40</td>\n",
       "    </tr>\n",
       "    <tr>\n",
       "      <th>4</th>\n",
       "      <td>119365</td>\n",
       "      <td>Кафе «Вишневая метель»</td>\n",
       "      <td>нет</td>\n",
       "      <td>кафе</td>\n",
       "      <td>город Москва, Абрамцевская улица, дом 9, корпус 1</td>\n",
       "      <td>50</td>\n",
       "    </tr>\n",
       "  </tbody>\n",
       "</table>\n",
       "</div>"
      ],
      "text/plain": [
       "       id             object_name chain object_type  \\\n",
       "0  151635                 СМЕТАНА   нет        кафе   \n",
       "1   77874                  Родник   нет        кафе   \n",
       "2   24309         Кафе «Академия»   нет        кафе   \n",
       "3   21894              ПИЦЦЕТОРИЯ    да        кафе   \n",
       "4  119365  Кафе «Вишневая метель»   нет        кафе   \n",
       "\n",
       "                                             address  number  \n",
       "0         город Москва, улица Егора Абакумова, дом 9      48  \n",
       "1  город Москва, улица Талалихина, дом 2/1, корпус 1      35  \n",
       "2          город Москва, Абельмановская улица, дом 6      95  \n",
       "3            город Москва, Абрамцевская улица, дом 1      40  \n",
       "4  город Москва, Абрамцевская улица, дом 9, корпус 1      50  "
      ]
     },
     "execution_count": 2,
     "metadata": {},
     "output_type": "execute_result"
    }
   ],
   "source": [
    "rest = pd.read_csv('rest_data.csv')\n",
    "print(rest.shape)\n",
    "rest.head()"
   ]
  },
  {
   "cell_type": "markdown",
   "metadata": {},
   "source": [
    "### Вывод"
   ]
  },
  {
   "cell_type": "markdown",
   "metadata": {},
   "source": [
    "<p></p>\n",
    "\n",
    "<div style=\"border:solid green 2px; padding: 20px\">\n",
    "В нашем распоряжении датасет, состоящий из 15 тыс. строк и 6 столбцов:\n",
    "    \n",
    "- id — идентификатор объекта;\n",
    "- object_name — название объекта общественного питания;\n",
    "- chain — сетевой ресторан;\n",
    "- object_type — тип объекта общественного питания;\n",
    "- address — адрес;\n",
    "- number — количество посадочных мест\n",
    " \n",
    "</div>"
   ]
  },
  {
   "cell_type": "markdown",
   "metadata": {},
   "source": [
    "## Предобработка данных"
   ]
  },
  {
   "cell_type": "markdown",
   "metadata": {},
   "source": [
    "### Типы данных и пропуски"
   ]
  },
  {
   "cell_type": "markdown",
   "metadata": {},
   "source": [
    "Проверим типы данных (а заодно и пропуски) в нашем датасете:"
   ]
  },
  {
   "cell_type": "code",
   "execution_count": 3,
   "metadata": {
    "scrolled": true
   },
   "outputs": [
    {
     "name": "stdout",
     "output_type": "stream",
     "text": [
      "<class 'pandas.core.frame.DataFrame'>\n",
      "RangeIndex: 15366 entries, 0 to 15365\n",
      "Data columns (total 6 columns):\n",
      " #   Column       Non-Null Count  Dtype \n",
      "---  ------       --------------  ----- \n",
      " 0   id           15366 non-null  int64 \n",
      " 1   object_name  15366 non-null  object\n",
      " 2   chain        15366 non-null  object\n",
      " 3   object_type  15366 non-null  object\n",
      " 4   address      15366 non-null  object\n",
      " 5   number       15366 non-null  int64 \n",
      "dtypes: int64(2), object(4)\n",
      "memory usage: 720.4+ KB\n"
     ]
    }
   ],
   "source": [
    "rest.info()"
   ]
  },
  {
   "cell_type": "markdown",
   "metadata": {},
   "source": [
    "Пропусков нет.\n",
    "\n",
    "Для удобства дальнейшней работы поменяем значения в столбце chain:"
   ]
  },
  {
   "cell_type": "code",
   "execution_count": 4,
   "metadata": {},
   "outputs": [
    {
     "data": {
      "text/plain": [
       "не сеть    12398\n",
       "сеть        2968\n",
       "Name: chain, dtype: int64"
      ]
     },
     "execution_count": 4,
     "metadata": {},
     "output_type": "execute_result"
    }
   ],
   "source": [
    "rest['chain'] = rest['chain'].replace({'нет':'не сеть', 'да':'сеть'})\n",
    "rest['chain'].value_counts()"
   ]
  },
  {
   "cell_type": "markdown",
   "metadata": {},
   "source": [
    "### Дубликаты"
   ]
  },
  {
   "cell_type": "markdown",
   "metadata": {},
   "source": [
    "Проверим наличие явных дубликатов:"
   ]
  },
  {
   "cell_type": "code",
   "execution_count": 5,
   "metadata": {},
   "outputs": [
    {
     "data": {
      "text/plain": [
       "0"
      ]
     },
     "execution_count": 5,
     "metadata": {},
     "output_type": "execute_result"
    }
   ],
   "source": [
    "rest.duplicated().sum()"
   ]
  },
  {
   "cell_type": "markdown",
   "metadata": {},
   "source": [
    "Явные дубликаты не найдены.\n",
    "\n",
    "Неявные дубликаты теоретически могут присутствовать, например, одно и то же заведение могли внести дважды. Проверим их позже, после приведения названий к нижнему регистру и удаления кавычек."
   ]
  },
  {
   "cell_type": "markdown",
   "metadata": {},
   "source": [
    "### Вывод"
   ]
  },
  {
   "cell_type": "markdown",
   "metadata": {},
   "source": [
    "<p></p>\n",
    "\n",
    "<div style=\"border:solid green 2px; padding: 20px\">\n",
    "    \n",
    "В ходе первичной предобработки данных мы поменяли значения в столбце chain на более информативные. Пропуски и явные дубликаты не обнаружены.    \n",
    "\n",
    " \n",
    "</div>"
   ]
  },
  {
   "cell_type": "markdown",
   "metadata": {},
   "source": [
    "## Подготовка данных к анализу"
   ]
  },
  {
   "cell_type": "markdown",
   "metadata": {},
   "source": [
    "### Выделение названий улиц в отдельный столбец"
   ]
  },
  {
   "cell_type": "markdown",
   "metadata": {},
   "source": [
    "Для дальнейшего анализа нам было бы удобно выделить названия улиц в отдельный столбец. Напишем для этого функцию, которая будет:\n",
    "- принимать в качестве аргумента строку с адресом, \n",
    "- разбивать ее на элементы, отделенные запятой,\n",
    "- искать и возвращать элемент, содержащий слово \"улица\" либо его синоним,\n",
    "- возвращать \"нет данных\", если такой элемент не найден:"
   ]
  },
  {
   "cell_type": "code",
   "execution_count": 6,
   "metadata": {
    "scrolled": true
   },
   "outputs": [
    {
     "data": {
      "text/html": [
       "<div>\n",
       "<style scoped>\n",
       "    .dataframe tbody tr th:only-of-type {\n",
       "        vertical-align: middle;\n",
       "    }\n",
       "\n",
       "    .dataframe tbody tr th {\n",
       "        vertical-align: top;\n",
       "    }\n",
       "\n",
       "    .dataframe thead th {\n",
       "        text-align: right;\n",
       "    }\n",
       "</style>\n",
       "<table border=\"1\" class=\"dataframe\">\n",
       "  <thead>\n",
       "    <tr style=\"text-align: right;\">\n",
       "      <th></th>\n",
       "      <th>id</th>\n",
       "      <th>object_name</th>\n",
       "      <th>chain</th>\n",
       "      <th>object_type</th>\n",
       "      <th>address</th>\n",
       "      <th>number</th>\n",
       "      <th>street</th>\n",
       "    </tr>\n",
       "  </thead>\n",
       "  <tbody>\n",
       "    <tr>\n",
       "      <th>10723</th>\n",
       "      <td>181029</td>\n",
       "      <td>Subway</td>\n",
       "      <td>сеть</td>\n",
       "      <td>закусочная</td>\n",
       "      <td>город Москва, Варшавское шоссе, дом 34</td>\n",
       "      <td>5</td>\n",
       "      <td>Варшавское шоссе</td>\n",
       "    </tr>\n",
       "    <tr>\n",
       "      <th>447</th>\n",
       "      <td>25181</td>\n",
       "      <td>Гриль Хаус Lamb Cook</td>\n",
       "      <td>не сеть</td>\n",
       "      <td>ресторан</td>\n",
       "      <td>город Москва, Комсомольский проспект, дом 7, строение 1</td>\n",
       "      <td>50</td>\n",
       "      <td>Комсомольский проспект</td>\n",
       "    </tr>\n",
       "    <tr>\n",
       "      <th>6616</th>\n",
       "      <td>19765</td>\n",
       "      <td>Кафе при ГКНПЦ им. М.В.Хруничева</td>\n",
       "      <td>не сеть</td>\n",
       "      <td>кафе</td>\n",
       "      <td>город Москва, Новозаводская улица, домовладение 18</td>\n",
       "      <td>9</td>\n",
       "      <td>Новозаводская улица</td>\n",
       "    </tr>\n",
       "    <tr>\n",
       "      <th>8999</th>\n",
       "      <td>161009</td>\n",
       "      <td>Мацони</td>\n",
       "      <td>не сеть</td>\n",
       "      <td>кафе</td>\n",
       "      <td>город Москва, улица Бориса Галушкина, дом 18</td>\n",
       "      <td>15</td>\n",
       "      <td>улица Бориса Галушкина</td>\n",
       "    </tr>\n",
       "    <tr>\n",
       "      <th>5889</th>\n",
       "      <td>28883</td>\n",
       "      <td>школа 2010</td>\n",
       "      <td>не сеть</td>\n",
       "      <td>буфет</td>\n",
       "      <td>город Москва, Белореченская улица, дом 8</td>\n",
       "      <td>228</td>\n",
       "      <td>Белореченская улица</td>\n",
       "    </tr>\n",
       "  </tbody>\n",
       "</table>\n",
       "</div>"
      ],
      "text/plain": [
       "           id                       object_name    chain object_type  \\\n",
       "10723  181029                            Subway     сеть  закусочная   \n",
       "447     25181              Гриль Хаус Lamb Cook  не сеть    ресторан   \n",
       "6616    19765  Кафе при ГКНПЦ им. М.В.Хруничева  не сеть        кафе   \n",
       "8999   161009                            Мацони  не сеть        кафе   \n",
       "5889    28883                        школа 2010  не сеть       буфет   \n",
       "\n",
       "                                                       address  number  \\\n",
       "10723                   город Москва, Варшавское шоссе, дом 34       5   \n",
       "447    город Москва, Комсомольский проспект, дом 7, строение 1      50   \n",
       "6616        город Москва, Новозаводская улица, домовладение 18       9   \n",
       "8999              город Москва, улица Бориса Галушкина, дом 18      15   \n",
       "5889                  город Москва, Белореченская улица, дом 8     228   \n",
       "\n",
       "                       street  \n",
       "10723        Варшавское шоссе  \n",
       "447    Комсомольский проспект  \n",
       "6616      Новозаводская улица  \n",
       "8999   улица Бориса Галушкина  \n",
       "5889      Белореченская улица  "
      ]
     },
     "execution_count": 6,
     "metadata": {},
     "output_type": "execute_result"
    }
   ],
   "source": [
    "def get_street(row):\n",
    "    adress = row.split(', ')\n",
    "    words = ['улица','переулок','шоссе','проспект', 'площадь', 'проезд', 'аллея','бульвар',\n",
    "            'набережная','тупик','линия', 'квартал', 'микрорайон', 'километр', \n",
    "            'территория', 'просек']\n",
    "    for word in words:\n",
    "        for i in range(len(adress)):\n",
    "            if word in adress[i]:\n",
    "                return adress[i]\n",
    "            else:\n",
    "                i+=1\n",
    "    return 'нет данных'\n",
    "\n",
    "rest['street'] = rest['address'].apply(get_street)    \n",
    "rest.sample(5)"
   ]
  },
  {
   "cell_type": "markdown",
   "metadata": {},
   "source": [
    "Посмотрим, все ли строки в новом столбце заполнились:"
   ]
  },
  {
   "cell_type": "code",
   "execution_count": 7,
   "metadata": {},
   "outputs": [
    {
     "data": {
      "text/plain": [
       "0"
      ]
     },
     "execution_count": 7,
     "metadata": {},
     "output_type": "execute_result"
    }
   ],
   "source": [
    "rest['street'].isna().sum()"
   ]
  },
  {
   "cell_type": "markdown",
   "metadata": {},
   "source": [
    "Проверим, сколько раз у нас встречается значение \"нет данных\" и для каких именно адресов оно характерно:"
   ]
  },
  {
   "cell_type": "code",
   "execution_count": 8,
   "metadata": {
    "scrolled": true
   },
   "outputs": [
    {
     "name": "stdout",
     "output_type": "stream",
     "text": [
      "252\n"
     ]
    },
    {
     "data": {
      "text/html": [
       "<div>\n",
       "<style scoped>\n",
       "    .dataframe tbody tr th:only-of-type {\n",
       "        vertical-align: middle;\n",
       "    }\n",
       "\n",
       "    .dataframe tbody tr th {\n",
       "        vertical-align: top;\n",
       "    }\n",
       "\n",
       "    .dataframe thead th {\n",
       "        text-align: right;\n",
       "    }\n",
       "</style>\n",
       "<table border=\"1\" class=\"dataframe\">\n",
       "  <thead>\n",
       "    <tr style=\"text-align: right;\">\n",
       "      <th></th>\n",
       "      <th>id</th>\n",
       "      <th>object_name</th>\n",
       "      <th>chain</th>\n",
       "      <th>object_type</th>\n",
       "      <th>address</th>\n",
       "      <th>number</th>\n",
       "      <th>street</th>\n",
       "    </tr>\n",
       "  </thead>\n",
       "  <tbody>\n",
       "    <tr>\n",
       "      <th>8600</th>\n",
       "      <td>136348</td>\n",
       "      <td>Детский сад № 2070</td>\n",
       "      <td>не сеть</td>\n",
       "      <td>столовая</td>\n",
       "      <td>город Москва, поселение Воскресенское, посёлок Воскресенское, дом 20А</td>\n",
       "      <td>273</td>\n",
       "      <td>нет данных</td>\n",
       "    </tr>\n",
       "    <tr>\n",
       "      <th>10533</th>\n",
       "      <td>190332</td>\n",
       "      <td>Зефир</td>\n",
       "      <td>не сеть</td>\n",
       "      <td>кафе</td>\n",
       "      <td>город Москва, город Зеленоград, корпус 618</td>\n",
       "      <td>35</td>\n",
       "      <td>нет данных</td>\n",
       "    </tr>\n",
       "    <tr>\n",
       "      <th>8924</th>\n",
       "      <td>159104</td>\n",
       "      <td>Белые Аллеи</td>\n",
       "      <td>не сеть</td>\n",
       "      <td>ресторан</td>\n",
       "      <td>город Москва, поселение Вороновское, деревня Бабенки, дом 1</td>\n",
       "      <td>40</td>\n",
       "      <td>нет данных</td>\n",
       "    </tr>\n",
       "    <tr>\n",
       "      <th>1894</th>\n",
       "      <td>77765</td>\n",
       "      <td>Оазис Внуково</td>\n",
       "      <td>не сеть</td>\n",
       "      <td>ресторан</td>\n",
       "      <td>город Москва, поселение Московский, деревня Лапшинка, дом 2Б</td>\n",
       "      <td>80</td>\n",
       "      <td>нет данных</td>\n",
       "    </tr>\n",
       "    <tr>\n",
       "      <th>7196</th>\n",
       "      <td>29116</td>\n",
       "      <td>ГОСУДАРСТВЕННОЕ БЮДЖЕТНОЕ ОБЩЕОРАЗОВАТЕЛЬНОЕ УЧРЕЖДЕНИЕ ГОРОДА МОСКВЫ ШКОЛА №1528</td>\n",
       "      <td>не сеть</td>\n",
       "      <td>столовая</td>\n",
       "      <td>город Москва, город Зеленоград, корпус 844</td>\n",
       "      <td>160</td>\n",
       "      <td>нет данных</td>\n",
       "    </tr>\n",
       "    <tr>\n",
       "      <th>14969</th>\n",
       "      <td>206061</td>\n",
       "      <td>Кафе</td>\n",
       "      <td>не сеть</td>\n",
       "      <td>кафе</td>\n",
       "      <td>город Москва, поселение Щаповское, деревня Троицкое, дом 2Б</td>\n",
       "      <td>12</td>\n",
       "      <td>нет данных</td>\n",
       "    </tr>\n",
       "    <tr>\n",
       "      <th>10710</th>\n",
       "      <td>23840</td>\n",
       "      <td>НЕГОСУДАРСТВЕННАЯ ШКОЛА «ГЛОБУС»</td>\n",
       "      <td>не сеть</td>\n",
       "      <td>столовая</td>\n",
       "      <td>город Москва, город Зеленоград, корпус 430А</td>\n",
       "      <td>40</td>\n",
       "      <td>нет данных</td>\n",
       "    </tr>\n",
       "    <tr>\n",
       "      <th>11747</th>\n",
       "      <td>190248</td>\n",
       "      <td>Суши</td>\n",
       "      <td>не сеть</td>\n",
       "      <td>кафе</td>\n",
       "      <td>город Москва, поселение Рязановское, посёлок Знамя Октября, дом 14</td>\n",
       "      <td>12</td>\n",
       "      <td>нет данных</td>\n",
       "    </tr>\n",
       "    <tr>\n",
       "      <th>10837</th>\n",
       "      <td>23848</td>\n",
       "      <td>ШКОЛА 1710</td>\n",
       "      <td>не сеть</td>\n",
       "      <td>столовая</td>\n",
       "      <td>город Москва, город Зеленоград, корпус 428А</td>\n",
       "      <td>100</td>\n",
       "      <td>нет данных</td>\n",
       "    </tr>\n",
       "    <tr>\n",
       "      <th>2415</th>\n",
       "      <td>28599</td>\n",
       "      <td>СТОЛОВАЯ ПОЛИТЕХНИЧЕСКОГО КОЛЛЕДЖА № 50</td>\n",
       "      <td>не сеть</td>\n",
       "      <td>столовая</td>\n",
       "      <td>город Москва, город Зеленоград, корпус 855</td>\n",
       "      <td>160</td>\n",
       "      <td>нет данных</td>\n",
       "    </tr>\n",
       "  </tbody>\n",
       "</table>\n",
       "</div>"
      ],
      "text/plain": [
       "           id  \\\n",
       "8600   136348   \n",
       "10533  190332   \n",
       "8924   159104   \n",
       "1894    77765   \n",
       "7196    29116   \n",
       "14969  206061   \n",
       "10710   23840   \n",
       "11747  190248   \n",
       "10837   23848   \n",
       "2415    28599   \n",
       "\n",
       "                                                                             object_name  \\\n",
       "8600                                                                  Детский сад № 2070   \n",
       "10533                                                                              Зефир   \n",
       "8924                                                                         Белые Аллеи   \n",
       "1894                                                                       Оазис Внуково   \n",
       "7196   ГОСУДАРСТВЕННОЕ БЮДЖЕТНОЕ ОБЩЕОРАЗОВАТЕЛЬНОЕ УЧРЕЖДЕНИЕ ГОРОДА МОСКВЫ ШКОЛА №1528   \n",
       "14969                                                                               Кафе   \n",
       "10710                                                   НЕГОСУДАРСТВЕННАЯ ШКОЛА «ГЛОБУС»   \n",
       "11747                                                                               Суши   \n",
       "10837                                                                         ШКОЛА 1710   \n",
       "2415                                             СТОЛОВАЯ ПОЛИТЕХНИЧЕСКОГО КОЛЛЕДЖА № 50   \n",
       "\n",
       "         chain object_type  \\\n",
       "8600   не сеть    столовая   \n",
       "10533  не сеть        кафе   \n",
       "8924   не сеть    ресторан   \n",
       "1894   не сеть    ресторан   \n",
       "7196   не сеть    столовая   \n",
       "14969  не сеть        кафе   \n",
       "10710  не сеть    столовая   \n",
       "11747  не сеть        кафе   \n",
       "10837  не сеть    столовая   \n",
       "2415   не сеть    столовая   \n",
       "\n",
       "                                                                     address  \\\n",
       "8600   город Москва, поселение Воскресенское, посёлок Воскресенское, дом 20А   \n",
       "10533                             город Москва, город Зеленоград, корпус 618   \n",
       "8924             город Москва, поселение Вороновское, деревня Бабенки, дом 1   \n",
       "1894            город Москва, поселение Московский, деревня Лапшинка, дом 2Б   \n",
       "7196                              город Москва, город Зеленоград, корпус 844   \n",
       "14969            город Москва, поселение Щаповское, деревня Троицкое, дом 2Б   \n",
       "10710                            город Москва, город Зеленоград, корпус 430А   \n",
       "11747     город Москва, поселение Рязановское, посёлок Знамя Октября, дом 14   \n",
       "10837                            город Москва, город Зеленоград, корпус 428А   \n",
       "2415                              город Москва, город Зеленоград, корпус 855   \n",
       "\n",
       "       number      street  \n",
       "8600      273  нет данных  \n",
       "10533      35  нет данных  \n",
       "8924       40  нет данных  \n",
       "1894       80  нет данных  \n",
       "7196      160  нет данных  \n",
       "14969      12  нет данных  \n",
       "10710      40  нет данных  \n",
       "11747      12  нет данных  \n",
       "10837     100  нет данных  \n",
       "2415      160  нет данных  "
      ]
     },
     "execution_count": 8,
     "metadata": {},
     "output_type": "execute_result"
    }
   ],
   "source": [
    "print(len(rest.query('street == \"нет данных\"')))\n",
    "rest.query('street == \"нет данных\"').sample(10)"
   ]
  },
  {
   "cell_type": "markdown",
   "metadata": {},
   "source": [
    "Итак, нашлось 252 адреса, из которых не получилось выделить улицу. Эти адреса находятся в городе Зеленограде,  поселениях Сосенском, Марушинском, Воскресенском и др. Если посмотреть на карту Москвы, то можно заметить, что все они расположены за пределами МКАД. Вряд ли новое кафе с роботами мы будем открывать в этих удаленных районах. К тому же доля таких адресов всего лишь 1,6% от всего датасета. Поэтому удалим их."
   ]
  },
  {
   "cell_type": "code",
   "execution_count": 9,
   "metadata": {},
   "outputs": [
    {
     "data": {
      "text/plain": [
       "(15114, 7)"
      ]
     },
     "execution_count": 9,
     "metadata": {},
     "output_type": "execute_result"
    }
   ],
   "source": [
    "rest = rest.query('street != \"нет данных\"')\n",
    "rest.shape"
   ]
  },
  {
   "cell_type": "markdown",
   "metadata": {},
   "source": [
    "### Выделение районов"
   ]
  },
  {
   "cell_type": "markdown",
   "metadata": {},
   "source": [
    "Также для анализа нам необходимо понимать, какая улица в каком районе находится. Для этого воспользуемся данными из внешнего источника:"
   ]
  },
  {
   "cell_type": "code",
   "execution_count": 10,
   "metadata": {},
   "outputs": [
    {
     "data": {
      "text/html": [
       "<div>\n",
       "<style scoped>\n",
       "    .dataframe tbody tr th:only-of-type {\n",
       "        vertical-align: middle;\n",
       "    }\n",
       "\n",
       "    .dataframe tbody tr th {\n",
       "        vertical-align: top;\n",
       "    }\n",
       "\n",
       "    .dataframe thead th {\n",
       "        text-align: right;\n",
       "    }\n",
       "</style>\n",
       "<table border=\"1\" class=\"dataframe\">\n",
       "  <thead>\n",
       "    <tr style=\"text-align: right;\">\n",
       "      <th></th>\n",
       "      <th>streetname</th>\n",
       "      <th>areaid</th>\n",
       "      <th>okrug</th>\n",
       "      <th>area</th>\n",
       "    </tr>\n",
       "  </thead>\n",
       "  <tbody>\n",
       "    <tr>\n",
       "      <th>0</th>\n",
       "      <td>Выставочный переулок</td>\n",
       "      <td>17</td>\n",
       "      <td>ЦАО</td>\n",
       "      <td>Пресненский район</td>\n",
       "    </tr>\n",
       "    <tr>\n",
       "      <th>1</th>\n",
       "      <td>улица Гашека</td>\n",
       "      <td>17</td>\n",
       "      <td>ЦАО</td>\n",
       "      <td>Пресненский район</td>\n",
       "    </tr>\n",
       "    <tr>\n",
       "      <th>2</th>\n",
       "      <td>Большая Никитская улица</td>\n",
       "      <td>17</td>\n",
       "      <td>ЦАО</td>\n",
       "      <td>Пресненский район</td>\n",
       "    </tr>\n",
       "    <tr>\n",
       "      <th>3</th>\n",
       "      <td>Глубокий переулок</td>\n",
       "      <td>17</td>\n",
       "      <td>ЦАО</td>\n",
       "      <td>Пресненский район</td>\n",
       "    </tr>\n",
       "    <tr>\n",
       "      <th>4</th>\n",
       "      <td>Большой Гнездниковский переулок</td>\n",
       "      <td>17</td>\n",
       "      <td>ЦАО</td>\n",
       "      <td>Пресненский район</td>\n",
       "    </tr>\n",
       "  </tbody>\n",
       "</table>\n",
       "</div>"
      ],
      "text/plain": [
       "                        streetname  areaid okrug               area\n",
       "0             Выставочный переулок      17   ЦАО  Пресненский район\n",
       "1                     улица Гашека      17   ЦАО  Пресненский район\n",
       "2          Большая Никитская улица      17   ЦАО  Пресненский район\n",
       "3                Глубокий переулок      17   ЦАО  Пресненский район\n",
       "4  Большой Гнездниковский переулок      17   ЦАО  Пресненский район"
      ]
     },
     "execution_count": 10,
     "metadata": {},
     "output_type": "execute_result"
    }
   ],
   "source": [
    "mosgaz = pd.read_csv('mosgaz-streets.csv')\n",
    "mosgaz.head()"
   ]
  },
  {
   "cell_type": "markdown",
   "metadata": {},
   "source": [
    "Нам нужны только столбцы streetname и area."
   ]
  },
  {
   "cell_type": "code",
   "execution_count": 11,
   "metadata": {},
   "outputs": [
    {
     "data": {
      "text/plain": [
       "(4398, 2)"
      ]
     },
     "execution_count": 11,
     "metadata": {},
     "output_type": "execute_result"
    }
   ],
   "source": [
    "mosgaz = mosgaz[['streetname', 'area']]\n",
    "mosgaz.columns = ['street', 'area']\n",
    "mosgaz.shape"
   ]
  },
  {
   "cell_type": "markdown",
   "metadata": {},
   "source": [
    "Во внешней таблице с районами и улицами у нас всего 4398 записей. Изучим таблицу поподробнее - посчитаем количество районов:"
   ]
  },
  {
   "cell_type": "code",
   "execution_count": 12,
   "metadata": {},
   "outputs": [
    {
     "name": "stdout",
     "output_type": "stream",
     "text": [
      "(123, 2)\n"
     ]
    },
    {
     "data": {
      "text/html": [
       "<div>\n",
       "<style scoped>\n",
       "    .dataframe tbody tr th:only-of-type {\n",
       "        vertical-align: middle;\n",
       "    }\n",
       "\n",
       "    .dataframe tbody tr th {\n",
       "        vertical-align: top;\n",
       "    }\n",
       "\n",
       "    .dataframe thead th {\n",
       "        text-align: right;\n",
       "    }\n",
       "</style>\n",
       "<table border=\"1\" class=\"dataframe\">\n",
       "  <thead>\n",
       "    <tr style=\"text-align: right;\">\n",
       "      <th></th>\n",
       "      <th>area</th>\n",
       "      <th>street</th>\n",
       "    </tr>\n",
       "  </thead>\n",
       "  <tbody>\n",
       "    <tr>\n",
       "      <th>118</th>\n",
       "      <td>Тверской район</td>\n",
       "      <td>179</td>\n",
       "    </tr>\n",
       "    <tr>\n",
       "      <th>117</th>\n",
       "      <td>Таганский район</td>\n",
       "      <td>173</td>\n",
       "    </tr>\n",
       "    <tr>\n",
       "      <th>4</th>\n",
       "      <td>Басманный район</td>\n",
       "      <td>152</td>\n",
       "    </tr>\n",
       "    <tr>\n",
       "      <th>23</th>\n",
       "      <td>Пресненский район</td>\n",
       "      <td>144</td>\n",
       "    </tr>\n",
       "    <tr>\n",
       "      <th>101</th>\n",
       "      <td>Район Хамовники</td>\n",
       "      <td>140</td>\n",
       "    </tr>\n",
       "  </tbody>\n",
       "</table>\n",
       "</div>"
      ],
      "text/plain": [
       "                  area  street\n",
       "118     Тверской район     179\n",
       "117    Таганский район     173\n",
       "4      Басманный район     152\n",
       "23   Пресненский район     144\n",
       "101    Район Хамовники     140"
      ]
     },
     "execution_count": 12,
     "metadata": {},
     "output_type": "execute_result"
    }
   ],
   "source": [
    "mosgaz_areas = mosgaz.groupby('area').agg({'street':'count'})\\\n",
    "                        .reset_index()\\\n",
    "                        .sort_values(by='street', ascending=False)\n",
    "print(mosgaz_areas.shape)\n",
    "mosgaz_areas.head()"
   ]
  },
  {
   "cell_type": "markdown",
   "metadata": {},
   "source": [
    "Итак, у нас 123 района. Теперь посмотрим, есть ли у нас такие улицы, которые проходят через несколько районов:"
   ]
  },
  {
   "cell_type": "code",
   "execution_count": 13,
   "metadata": {},
   "outputs": [
    {
     "name": "stdout",
     "output_type": "stream",
     "text": [
      "(549, 2)\n"
     ]
    },
    {
     "data": {
      "text/html": [
       "<div>\n",
       "<style scoped>\n",
       "    .dataframe tbody tr th:only-of-type {\n",
       "        vertical-align: middle;\n",
       "    }\n",
       "\n",
       "    .dataframe tbody tr th {\n",
       "        vertical-align: top;\n",
       "    }\n",
       "\n",
       "    .dataframe thead th {\n",
       "        text-align: right;\n",
       "    }\n",
       "</style>\n",
       "<table border=\"1\" class=\"dataframe\">\n",
       "  <thead>\n",
       "    <tr style=\"text-align: right;\">\n",
       "      <th></th>\n",
       "      <th>street</th>\n",
       "      <th>area</th>\n",
       "    </tr>\n",
       "  </thead>\n",
       "  <tbody>\n",
       "    <tr>\n",
       "      <th>1794</th>\n",
       "      <td>Московская Кольцевая Автодорога</td>\n",
       "      <td>42</td>\n",
       "    </tr>\n",
       "    <tr>\n",
       "      <th>1667</th>\n",
       "      <td>Малое кольцо Московской железной дороги (МКМЖД)</td>\n",
       "      <td>40</td>\n",
       "    </tr>\n",
       "    <tr>\n",
       "      <th>1459</th>\n",
       "      <td>Ленинский проспект</td>\n",
       "      <td>8</td>\n",
       "    </tr>\n",
       "    <tr>\n",
       "      <th>918</th>\n",
       "      <td>Варшавское шоссе</td>\n",
       "      <td>8</td>\n",
       "    </tr>\n",
       "    <tr>\n",
       "      <th>2986</th>\n",
       "      <td>проспект Мира</td>\n",
       "      <td>7</td>\n",
       "    </tr>\n",
       "  </tbody>\n",
       "</table>\n",
       "</div>"
      ],
      "text/plain": [
       "                                               street  area\n",
       "1794                  Московская Кольцевая Автодорога    42\n",
       "1667  Малое кольцо Московской железной дороги (МКМЖД)    40\n",
       "1459                               Ленинский проспект     8\n",
       "918                                  Варшавское шоссе     8\n",
       "2986                                    проспект Мира     7"
      ]
     },
     "execution_count": 13,
     "metadata": {},
     "output_type": "execute_result"
    }
   ],
   "source": [
    "mosgaz_many_areas = mosgaz.groupby('street').agg({'area':'count'})\\\n",
    "                        .reset_index()\\\n",
    "                        .query('area > 1')\\\n",
    "                        .sort_values(by='area', ascending=False)\n",
    "print(mosgaz_many_areas.shape)\n",
    "mosgaz_many_areas.head()"
   ]
  },
  {
   "cell_type": "markdown",
   "metadata": {},
   "source": [
    "Имеем 549 улиц, проходящих через несколько районов. В идеале нужно было бы разбить каждую улицу на районы по адресам. Но в данном случае у нас нет такой возможности, поэтому оставим как есть. \n",
    "\n",
    "Полученную вспомогательную таблицу будем использовать далее при анализе районов."
   ]
  },
  {
   "cell_type": "markdown",
   "metadata": {},
   "source": [
    "### Унификация названий объектов общественного питания (ОП)"
   ]
  },
  {
   "cell_type": "markdown",
   "metadata": {},
   "source": [
    "Невооруженным глазом видно, что в названиях заведений встречаются разные регистры, кавычки / отсутствие кавычек, латиница / кириллица и т.п. Добавим чуть больше единообразия.\n",
    "\n",
    "Для начала приведем к нижнему регистру:"
   ]
  },
  {
   "cell_type": "code",
   "execution_count": 14,
   "metadata": {},
   "outputs": [
    {
     "data": {
      "text/html": [
       "<div>\n",
       "<style scoped>\n",
       "    .dataframe tbody tr th:only-of-type {\n",
       "        vertical-align: middle;\n",
       "    }\n",
       "\n",
       "    .dataframe tbody tr th {\n",
       "        vertical-align: top;\n",
       "    }\n",
       "\n",
       "    .dataframe thead th {\n",
       "        text-align: right;\n",
       "    }\n",
       "</style>\n",
       "<table border=\"1\" class=\"dataframe\">\n",
       "  <thead>\n",
       "    <tr style=\"text-align: right;\">\n",
       "      <th></th>\n",
       "      <th>id</th>\n",
       "      <th>object_name</th>\n",
       "      <th>chain</th>\n",
       "      <th>object_type</th>\n",
       "      <th>address</th>\n",
       "      <th>number</th>\n",
       "      <th>street</th>\n",
       "    </tr>\n",
       "  </thead>\n",
       "  <tbody>\n",
       "    <tr>\n",
       "      <th>4041</th>\n",
       "      <td>27597</td>\n",
       "      <td>гбоу школа №867 оао «комбинат дошкольного питания»</td>\n",
       "      <td>не сеть</td>\n",
       "      <td>столовая</td>\n",
       "      <td>город Москва, улица Борисовские Пруды, дом 20, корпус 3</td>\n",
       "      <td>180</td>\n",
       "      <td>улица Борисовские Пруды</td>\n",
       "    </tr>\n",
       "    <tr>\n",
       "      <th>4952</th>\n",
       "      <td>24642</td>\n",
       "      <td>родина</td>\n",
       "      <td>не сеть</td>\n",
       "      <td>кафе</td>\n",
       "      <td>город Москва, Анадырский проезд, дом 16</td>\n",
       "      <td>40</td>\n",
       "      <td>Анадырский проезд</td>\n",
       "    </tr>\n",
       "    <tr>\n",
       "      <th>7118</th>\n",
       "      <td>27414</td>\n",
       "      <td>столовая при школе</td>\n",
       "      <td>не сеть</td>\n",
       "      <td>столовая</td>\n",
       "      <td>город Москва, Клинская улица, дом 16А</td>\n",
       "      <td>218</td>\n",
       "      <td>Клинская улица</td>\n",
       "    </tr>\n",
       "    <tr>\n",
       "      <th>13876</th>\n",
       "      <td>220962</td>\n",
       "      <td>plov.com</td>\n",
       "      <td>не сеть</td>\n",
       "      <td>предприятие быстрого обслуживания</td>\n",
       "      <td>город Москва, улица Вавилова, дом 64/1, строение 1</td>\n",
       "      <td>0</td>\n",
       "      <td>улица Вавилова</td>\n",
       "    </tr>\n",
       "    <tr>\n",
       "      <th>5020</th>\n",
       "      <td>157710</td>\n",
       "      <td>кафе «тбилисоба»</td>\n",
       "      <td>не сеть</td>\n",
       "      <td>кафе</td>\n",
       "      <td>город Москва, Петрозаводская улица, дом 24А, строение 2</td>\n",
       "      <td>72</td>\n",
       "      <td>Петрозаводская улица</td>\n",
       "    </tr>\n",
       "  </tbody>\n",
       "</table>\n",
       "</div>"
      ],
      "text/plain": [
       "           id                                         object_name    chain  \\\n",
       "4041    27597  гбоу школа №867 оао «комбинат дошкольного питания»  не сеть   \n",
       "4952    24642                                              родина  не сеть   \n",
       "7118    27414                                  столовая при школе  не сеть   \n",
       "13876  220962                                            plov.com  не сеть   \n",
       "5020   157710                                    кафе «тбилисоба»  не сеть   \n",
       "\n",
       "                             object_type  \\\n",
       "4041                            столовая   \n",
       "4952                                кафе   \n",
       "7118                            столовая   \n",
       "13876  предприятие быстрого обслуживания   \n",
       "5020                                кафе   \n",
       "\n",
       "                                                       address  number  \\\n",
       "4041   город Москва, улица Борисовские Пруды, дом 20, корпус 3     180   \n",
       "4952                   город Москва, Анадырский проезд, дом 16      40   \n",
       "7118                     город Москва, Клинская улица, дом 16А     218   \n",
       "13876       город Москва, улица Вавилова, дом 64/1, строение 1       0   \n",
       "5020   город Москва, Петрозаводская улица, дом 24А, строение 2      72   \n",
       "\n",
       "                        street  \n",
       "4041   улица Борисовские Пруды  \n",
       "4952         Анадырский проезд  \n",
       "7118            Клинская улица  \n",
       "13876           улица Вавилова  \n",
       "5020      Петрозаводская улица  "
      ]
     },
     "execution_count": 14,
     "metadata": {},
     "output_type": "execute_result"
    }
   ],
   "source": [
    "rest['object_name'] = rest['object_name'].str.lower()\n",
    "rest.sample(5)"
   ]
  },
  {
   "cell_type": "markdown",
   "metadata": {},
   "source": [
    "Теперь уберем кавычки и заменим ё на е:"
   ]
  },
  {
   "cell_type": "code",
   "execution_count": 15,
   "metadata": {},
   "outputs": [
    {
     "data": {
      "text/html": [
       "<div>\n",
       "<style scoped>\n",
       "    .dataframe tbody tr th:only-of-type {\n",
       "        vertical-align: middle;\n",
       "    }\n",
       "\n",
       "    .dataframe tbody tr th {\n",
       "        vertical-align: top;\n",
       "    }\n",
       "\n",
       "    .dataframe thead th {\n",
       "        text-align: right;\n",
       "    }\n",
       "</style>\n",
       "<table border=\"1\" class=\"dataframe\">\n",
       "  <thead>\n",
       "    <tr style=\"text-align: right;\">\n",
       "      <th></th>\n",
       "      <th>id</th>\n",
       "      <th>object_name</th>\n",
       "      <th>chain</th>\n",
       "      <th>object_type</th>\n",
       "      <th>address</th>\n",
       "      <th>number</th>\n",
       "      <th>street</th>\n",
       "    </tr>\n",
       "  </thead>\n",
       "  <tbody>\n",
       "    <tr>\n",
       "      <th>3047</th>\n",
       "      <td>136269</td>\n",
       "      <td>паб андердог</td>\n",
       "      <td>не сеть</td>\n",
       "      <td>бар</td>\n",
       "      <td>город Москва, Климентовский переулок, дом 14</td>\n",
       "      <td>20</td>\n",
       "      <td>Климентовский переулок</td>\n",
       "    </tr>\n",
       "    <tr>\n",
       "      <th>4742</th>\n",
       "      <td>158162</td>\n",
       "      <td>кафетерий</td>\n",
       "      <td>не сеть</td>\n",
       "      <td>кафетерий</td>\n",
       "      <td>город Москва, Николоямская улица, дом 1</td>\n",
       "      <td>10</td>\n",
       "      <td>Николоямская улица</td>\n",
       "    </tr>\n",
       "    <tr>\n",
       "      <th>10438</th>\n",
       "      <td>189499</td>\n",
       "      <td>cofix</td>\n",
       "      <td>сеть</td>\n",
       "      <td>кафетерий</td>\n",
       "      <td>город Москва, Профсоюзная улица, дом 2/22</td>\n",
       "      <td>9</td>\n",
       "      <td>Профсоюзная улица</td>\n",
       "    </tr>\n",
       "    <tr>\n",
       "      <th>11</th>\n",
       "      <td>23394</td>\n",
       "      <td>гогиели</td>\n",
       "      <td>не сеть</td>\n",
       "      <td>кафе</td>\n",
       "      <td>город Москва, Авиамоторная улица, дом 49/1</td>\n",
       "      <td>24</td>\n",
       "      <td>Авиамоторная улица</td>\n",
       "    </tr>\n",
       "    <tr>\n",
       "      <th>6410</th>\n",
       "      <td>20188</td>\n",
       "      <td>шоколадница</td>\n",
       "      <td>сеть</td>\n",
       "      <td>кафе</td>\n",
       "      <td>город Москва, Боровское шоссе, дом 36-А</td>\n",
       "      <td>99</td>\n",
       "      <td>Боровское шоссе</td>\n",
       "    </tr>\n",
       "  </tbody>\n",
       "</table>\n",
       "</div>"
      ],
      "text/plain": [
       "           id   object_name    chain object_type  \\\n",
       "3047   136269  паб андердог  не сеть         бар   \n",
       "4742   158162     кафетерий  не сеть   кафетерий   \n",
       "10438  189499         cofix     сеть   кафетерий   \n",
       "11      23394       гогиели  не сеть        кафе   \n",
       "6410    20188   шоколадница     сеть        кафе   \n",
       "\n",
       "                                            address  number  \\\n",
       "3047   город Москва, Климентовский переулок, дом 14      20   \n",
       "4742        город Москва, Николоямская улица, дом 1      10   \n",
       "10438     город Москва, Профсоюзная улица, дом 2/22       9   \n",
       "11       город Москва, Авиамоторная улица, дом 49/1      24   \n",
       "6410        город Москва, Боровское шоссе, дом 36-А      99   \n",
       "\n",
       "                       street  \n",
       "3047   Климентовский переулок  \n",
       "4742       Николоямская улица  \n",
       "10438       Профсоюзная улица  \n",
       "11         Авиамоторная улица  \n",
       "6410          Боровское шоссе  "
      ]
     },
     "execution_count": 15,
     "metadata": {},
     "output_type": "execute_result"
    }
   ],
   "source": [
    "rest['object_name'] = rest['object_name'].str.replace('«','')\\\n",
    "                                        .str.replace('»','')\\\n",
    "                                        .str.replace('ё','е')\n",
    "rest.sample(5)"
   ]
  },
  {
   "cell_type": "markdown",
   "metadata": {},
   "source": [
    "Пришло время проверить неявные дубликаты - совпадения во всех изначальных столбцах, кроме id:"
   ]
  },
  {
   "cell_type": "code",
   "execution_count": 16,
   "metadata": {},
   "outputs": [
    {
     "data": {
      "text/plain": [
       "85"
      ]
     },
     "execution_count": 16,
     "metadata": {},
     "output_type": "execute_result"
    }
   ],
   "source": [
    "rest[['object_name', 'chain', 'object_type', 'address', 'number']].duplicated().sum()"
   ]
  },
  {
   "cell_type": "markdown",
   "metadata": {},
   "source": [
    "Нашлось 85 дубликатов. Посмотрим, что это за заведения:"
   ]
  },
  {
   "cell_type": "code",
   "execution_count": 17,
   "metadata": {},
   "outputs": [
    {
     "data": {
      "text/html": [
       "<div>\n",
       "<style scoped>\n",
       "    .dataframe tbody tr th:only-of-type {\n",
       "        vertical-align: middle;\n",
       "    }\n",
       "\n",
       "    .dataframe tbody tr th {\n",
       "        vertical-align: top;\n",
       "    }\n",
       "\n",
       "    .dataframe thead th {\n",
       "        text-align: right;\n",
       "    }\n",
       "</style>\n",
       "<table border=\"1\" class=\"dataframe\">\n",
       "  <thead>\n",
       "    <tr style=\"text-align: right;\">\n",
       "      <th></th>\n",
       "      <th>id</th>\n",
       "      <th>object_name</th>\n",
       "      <th>chain</th>\n",
       "      <th>object_type</th>\n",
       "      <th>address</th>\n",
       "      <th>number</th>\n",
       "      <th>street</th>\n",
       "    </tr>\n",
       "  </thead>\n",
       "  <tbody>\n",
       "    <tr>\n",
       "      <th>3481</th>\n",
       "      <td>20914</td>\n",
       "      <td>буфет мади</td>\n",
       "      <td>не сеть</td>\n",
       "      <td>буфет</td>\n",
       "      <td>город Москва, Ленинградский проспект, дом 64</td>\n",
       "      <td>40</td>\n",
       "      <td>Ленинградский проспект</td>\n",
       "    </tr>\n",
       "    <tr>\n",
       "      <th>14119</th>\n",
       "      <td>222452</td>\n",
       "      <td>шаурма</td>\n",
       "      <td>не сеть</td>\n",
       "      <td>предприятие быстрого обслуживания</td>\n",
       "      <td>город Москва, улица Сущёвский Вал, дом 5, строение 5</td>\n",
       "      <td>1</td>\n",
       "      <td>улица Сущёвский Вал</td>\n",
       "    </tr>\n",
       "    <tr>\n",
       "      <th>8520</th>\n",
       "      <td>145287</td>\n",
       "      <td>кафе лукойл</td>\n",
       "      <td>не сеть</td>\n",
       "      <td>кафе</td>\n",
       "      <td>город Москва, поселение Марушкинское, Киевское шоссе, 39-й километр, владение 2, строение 1</td>\n",
       "      <td>0</td>\n",
       "      <td>Киевское шоссе</td>\n",
       "    </tr>\n",
       "    <tr>\n",
       "      <th>10750</th>\n",
       "      <td>173706</td>\n",
       "      <td>шаурма</td>\n",
       "      <td>не сеть</td>\n",
       "      <td>предприятие быстрого обслуживания</td>\n",
       "      <td>город Москва, Бескудниковский бульвар, дом 12</td>\n",
       "      <td>0</td>\n",
       "      <td>Бескудниковский бульвар</td>\n",
       "    </tr>\n",
       "    <tr>\n",
       "      <th>15217</th>\n",
       "      <td>214146</td>\n",
       "      <td>макдоналдс</td>\n",
       "      <td>сеть</td>\n",
       "      <td>предприятие быстрого обслуживания</td>\n",
       "      <td>город Москва, Кировоградская улица, дом 13А</td>\n",
       "      <td>0</td>\n",
       "      <td>Кировоградская улица</td>\n",
       "    </tr>\n",
       "  </tbody>\n",
       "</table>\n",
       "</div>"
      ],
      "text/plain": [
       "           id  object_name    chain                        object_type  \\\n",
       "3481    20914   буфет мади  не сеть                              буфет   \n",
       "14119  222452       шаурма  не сеть  предприятие быстрого обслуживания   \n",
       "8520   145287  кафе лукойл  не сеть                               кафе   \n",
       "10750  173706       шаурма  не сеть  предприятие быстрого обслуживания   \n",
       "15217  214146   макдоналдс     сеть  предприятие быстрого обслуживания   \n",
       "\n",
       "                                                                                           address  \\\n",
       "3481                                                  город Москва, Ленинградский проспект, дом 64   \n",
       "14119                                         город Москва, улица Сущёвский Вал, дом 5, строение 5   \n",
       "8520   город Москва, поселение Марушкинское, Киевское шоссе, 39-й километр, владение 2, строение 1   \n",
       "10750                                                город Москва, Бескудниковский бульвар, дом 12   \n",
       "15217                                                  город Москва, Кировоградская улица, дом 13А   \n",
       "\n",
       "       number                   street  \n",
       "3481       40   Ленинградский проспект  \n",
       "14119       1      улица Сущёвский Вал  \n",
       "8520        0           Киевское шоссе  \n",
       "10750       0  Бескудниковский бульвар  \n",
       "15217       0     Кировоградская улица  "
      ]
     },
     "execution_count": 17,
     "metadata": {},
     "output_type": "execute_result"
    }
   ],
   "source": [
    "duplicates = rest[rest[['object_name', 'chain', 'object_type', 'address', 'number']].duplicated()]\n",
    "\n",
    "duplicates.sample(5)"
   ]
  },
  {
   "cell_type": "markdown",
   "metadata": {},
   "source": [
    "Посмотрим, сколько из них сетевых и несетевых:"
   ]
  },
  {
   "cell_type": "code",
   "execution_count": 18,
   "metadata": {},
   "outputs": [
    {
     "data": {
      "text/plain": [
       "не сеть    81\n",
       "сеть        4\n",
       "Name: chain, dtype: int64"
      ]
     },
     "execution_count": 18,
     "metadata": {},
     "output_type": "execute_result"
    }
   ],
   "source": [
    "duplicates['chain'].value_counts()"
   ]
  },
  {
   "cell_type": "markdown",
   "metadata": {},
   "source": [
    "В основном, среди дубликатов несетевые заведения (81 из 85). \n",
    "\n",
    "Теоретически можно предположить, что 4 дубля у сетевых заведений - это просто одинаковые объекты на разных этажах крупного ТРЦ или в разных концах огромного фудкорта. Но маловероятно. И 4 строки в масштабах нашего датасета - это ничтожно мало, даже если мы удалим их неправомерно, существенного влияния на результаты это не окажет.\n",
    "\n",
    "У несетевых - это однозначно дубликаты, т.к. 2 отдельных заведения - это уже сеть. И трудно представить 2 одинаковых кафе при АЗС в одном и том же здании. Поэтому обнаруженные дубликаты удаляем."
   ]
  },
  {
   "cell_type": "code",
   "execution_count": 19,
   "metadata": {},
   "outputs": [
    {
     "data": {
      "text/plain": [
       "(15029, 7)"
      ]
     },
     "execution_count": 19,
     "metadata": {},
     "output_type": "execute_result"
    }
   ],
   "source": [
    "rest = rest.drop_duplicates(subset=['object_name', 'chain', 'object_type', 'address', 'number'])\n",
    "rest.shape"
   ]
  },
  {
   "cell_type": "markdown",
   "metadata": {},
   "source": [
    "Неявные дубликаты удалили.\n",
    "\n",
    "\n",
    "Теперь сделаем чуть более единообразными названия наиболее крупных сетей (это нам пригодится при анализе количества заведений в одной сети):"
   ]
  },
  {
   "cell_type": "code",
   "execution_count": 20,
   "metadata": {
    "scrolled": true
   },
   "outputs": [
    {
     "data": {
      "text/plain": [
       "шоколадница        155\n",
       "kfc                154\n",
       "макдоналдс         148\n",
       "бургер кинг        137\n",
       "теремок             93\n",
       "домино'с пицца      90\n",
       "крошка картошка     89\n",
       "суши wok            72\n",
       "милти               72\n",
       "папа джонс          51\n",
       "додо пицца          48\n",
       "кофе с собой        44\n",
       "чайхона №1          43\n",
       "хинкальная          38\n",
       "якитория            37\n",
       "кофе хаус           34\n",
       "subway              34\n",
       "хлеб насущный       32\n",
       "тануки              32\n",
       "starbucks           30\n",
       "Name: object_name, dtype: int64"
      ]
     },
     "execution_count": 20,
     "metadata": {},
     "output_type": "execute_result"
    }
   ],
   "source": [
    "rest.query('chain == \"сеть\"')['object_name'].value_counts().head(20)"
   ]
  },
  {
   "cell_type": "markdown",
   "metadata": {},
   "source": [
    "Унифицируем эти названия:"
   ]
  },
  {
   "cell_type": "code",
   "execution_count": 21,
   "metadata": {},
   "outputs": [],
   "source": [
    "def universal_name(name):\n",
    "    if 'шоколадница' in name:\n",
    "        return 'шоколадница'\n",
    "    if 'kfc' in name:\n",
    "        return 'kfc'\n",
    "    if 'макдонал' in name:\n",
    "        return 'макдоналдс'\n",
    "    if 'бургер кинг' in name:\n",
    "        return 'бургер кинг'\n",
    "    if 'теремок' in name:\n",
    "        return 'теремок'\n",
    "    if \"домино'с пицца\" in name:\n",
    "        return \"домино'с пицца\"\n",
    "    if 'крошка картошка' in name:\n",
    "        return 'крошка картошка'\n",
    "    if 'милти' in name:\n",
    "        return 'милти'\n",
    "    if 'суши wok' in name:\n",
    "        return 'суши wok'\n",
    "    if 'папа джонс' in name:\n",
    "        return 'папа джонс'\n",
    "    if 'додо пицца' in name:\n",
    "        return 'додо пицца'\n",
    "    if 'кофе хаус' in name:\n",
    "        return 'кофе хаус'\n",
    "    if 'якитория' in name:\n",
    "        return 'якитория'\n",
    "    if 'чайхона №1' in name:\n",
    "        return 'чайхона №1'\n",
    "    if 'subway' in name:\n",
    "        return 'subway'\n",
    "    if 'starbucks' in name:\n",
    "        return 'starbucks'\n",
    "    if 'хлеб насущный' in name:\n",
    "        return 'хлеб насущный'\n",
    "    if 'тануки' in name:\n",
    "        return 'тануки'\n",
    "    else:\n",
    "        return name\n",
    "    \n",
    "rest['object_name'] = rest['object_name'].apply(universal_name) "
   ]
  },
  {
   "cell_type": "markdown",
   "metadata": {},
   "source": [
    "Проверим результат:"
   ]
  },
  {
   "cell_type": "code",
   "execution_count": 22,
   "metadata": {
    "scrolled": true
   },
   "outputs": [
    {
     "data": {
      "text/plain": [
       "kfc                187\n",
       "шоколадница        183\n",
       "макдоналдс         170\n",
       "бургер кинг        159\n",
       "теремок            110\n",
       "домино'с пицца      99\n",
       "крошка картошка     95\n",
       "милти               81\n",
       "суши wok            76\n",
       "папа джонс          66\n",
       "додо пицца          53\n",
       "чайхона №1          52\n",
       "якитория            49\n",
       "тануки              46\n",
       "кофе с собой        44\n",
       "кофе хаус           40\n",
       "starbucks           40\n",
       "хинкальная          38\n",
       "subway              38\n",
       "хлеб насущный       33\n",
       "Name: object_name, dtype: int64"
      ]
     },
     "execution_count": 22,
     "metadata": {},
     "output_type": "execute_result"
    }
   ],
   "source": [
    "rest.query('chain == \"сеть\"')['object_name'].value_counts().head(20)"
   ]
  },
  {
   "cell_type": "markdown",
   "metadata": {},
   "source": [
    "Также приведем к единому стандарту самые крупные по количеству мест сетевые заведения, у которых всего один объект (т.к. сеть предполагает обычно хотя бы 2 объекта):"
   ]
  },
  {
   "cell_type": "code",
   "execution_count": 23,
   "metadata": {},
   "outputs": [
    {
     "data": {
      "text/html": [
       "<div>\n",
       "<style scoped>\n",
       "    .dataframe tbody tr th:only-of-type {\n",
       "        vertical-align: middle;\n",
       "    }\n",
       "\n",
       "    .dataframe tbody tr th {\n",
       "        vertical-align: top;\n",
       "    }\n",
       "\n",
       "    .dataframe thead th {\n",
       "        text-align: right;\n",
       "    }\n",
       "</style>\n",
       "<table border=\"1\" class=\"dataframe\">\n",
       "  <thead>\n",
       "    <tr style=\"text-align: right;\">\n",
       "      <th></th>\n",
       "      <th>object_name</th>\n",
       "      <th>number</th>\n",
       "    </tr>\n",
       "    <tr>\n",
       "      <th>object_name</th>\n",
       "      <th></th>\n",
       "      <th></th>\n",
       "    </tr>\n",
       "  </thead>\n",
       "  <tbody>\n",
       "    <tr>\n",
       "      <th>чешская пивная козловица</th>\n",
       "      <td>1</td>\n",
       "      <td>306.0</td>\n",
       "    </tr>\n",
       "    <tr>\n",
       "      <th>ян примус</th>\n",
       "      <td>1</td>\n",
       "      <td>300.0</td>\n",
       "    </tr>\n",
       "    <tr>\n",
       "      <th>старина миллер</th>\n",
       "      <td>1</td>\n",
       "      <td>280.0</td>\n",
       "    </tr>\n",
       "    <tr>\n",
       "      <th>пражечка</th>\n",
       "      <td>1</td>\n",
       "      <td>266.0</td>\n",
       "    </tr>\n",
       "    <tr>\n",
       "      <th>молли гвинз</th>\n",
       "      <td>1</td>\n",
       "      <td>250.0</td>\n",
       "    </tr>\n",
       "    <tr>\n",
       "      <th>ресторан чайхана урюк</th>\n",
       "      <td>1</td>\n",
       "      <td>250.0</td>\n",
       "    </tr>\n",
       "    <tr>\n",
       "      <th>кафе быстрого питания му-му</th>\n",
       "      <td>1</td>\n",
       "      <td>225.0</td>\n",
       "    </tr>\n",
       "    <tr>\n",
       "      <th>нияма. пицца пи</th>\n",
       "      <td>1</td>\n",
       "      <td>215.0</td>\n",
       "    </tr>\n",
       "    <tr>\n",
       "      <th>территория ясенево</th>\n",
       "      <td>1</td>\n",
       "      <td>200.0</td>\n",
       "    </tr>\n",
       "    <tr>\n",
       "      <th>сказка</th>\n",
       "      <td>1</td>\n",
       "      <td>200.0</td>\n",
       "    </tr>\n",
       "    <tr>\n",
       "      <th>брудер</th>\n",
       "      <td>1</td>\n",
       "      <td>190.0</td>\n",
       "    </tr>\n",
       "    <tr>\n",
       "      <th>торро гриль</th>\n",
       "      <td>1</td>\n",
       "      <td>180.0</td>\n",
       "    </tr>\n",
       "    <tr>\n",
       "      <th>кафе иль патио il patio</th>\n",
       "      <td>1</td>\n",
       "      <td>176.0</td>\n",
       "    </tr>\n",
       "    <tr>\n",
       "      <th>кафе кофемания</th>\n",
       "      <td>1</td>\n",
       "      <td>175.0</td>\n",
       "    </tr>\n",
       "    <tr>\n",
       "      <th>марчеллис</th>\n",
       "      <td>1</td>\n",
       "      <td>170.0</td>\n",
       "    </tr>\n",
       "    <tr>\n",
       "      <th>ресторан торро гриль</th>\n",
       "      <td>1</td>\n",
       "      <td>170.0</td>\n",
       "    </tr>\n",
       "    <tr>\n",
       "      <th>кафе менза</th>\n",
       "      <td>1</td>\n",
       "      <td>165.0</td>\n",
       "    </tr>\n",
       "    <tr>\n",
       "      <th>японский ресторан ваби-саби</th>\n",
       "      <td>1</td>\n",
       "      <td>155.0</td>\n",
       "    </tr>\n",
       "    <tr>\n",
       "      <th>ариана</th>\n",
       "      <td>1</td>\n",
       "      <td>150.0</td>\n",
       "    </tr>\n",
       "    <tr>\n",
       "      <th>white rabbite (белый кролик)</th>\n",
       "      <td>1</td>\n",
       "      <td>150.0</td>\n",
       "    </tr>\n",
       "  </tbody>\n",
       "</table>\n",
       "</div>"
      ],
      "text/plain": [
       "                              object_name  number\n",
       "object_name                                      \n",
       "чешская пивная козловица                1   306.0\n",
       "ян примус                               1   300.0\n",
       "старина миллер                          1   280.0\n",
       "пражечка                                1   266.0\n",
       "молли гвинз                             1   250.0\n",
       "ресторан чайхана урюк                   1   250.0\n",
       "кафе быстрого питания му-му             1   225.0\n",
       "нияма. пицца пи                         1   215.0\n",
       "территория ясенево                      1   200.0\n",
       "сказка                                  1   200.0\n",
       "брудер                                  1   190.0\n",
       "торро гриль                             1   180.0\n",
       "кафе иль патио il patio                 1   176.0\n",
       "кафе кофемания                          1   175.0\n",
       "марчеллис                               1   170.0\n",
       "ресторан торро гриль                    1   170.0\n",
       "кафе менза                              1   165.0\n",
       "японский ресторан ваби-саби             1   155.0\n",
       "ариана                                  1   150.0\n",
       "white rabbite (белый кролик)            1   150.0"
      ]
     },
     "execution_count": 23,
     "metadata": {},
     "output_type": "execute_result"
    }
   ],
   "source": [
    "rest_1 = rest.query('chain == \"сеть\"')\\\n",
    "                .groupby('object_name')\\\n",
    "                .agg({'object_name':'count', 'number':'mean'})\\\n",
    "                .query('object_name == 1')\\\n",
    "                .sort_values(by='number', ascending=False)\n",
    "rest_1.head(20)"
   ]
  },
  {
   "cell_type": "code",
   "execution_count": 24,
   "metadata": {},
   "outputs": [],
   "source": [
    "def universal_name_1(name):\n",
    "    if 'козловица' in name:\n",
    "        return 'чешская пивная козловица'\n",
    "    if 'ян примус' in name:\n",
    "        return 'ян примус'\n",
    "    if 'старина миллер' in name:\n",
    "        return 'старина миллер'\n",
    "    if 'пражечка' in name:\n",
    "        return 'пражечка'\n",
    "    if 'молли гвинз' in name:\n",
    "        return 'молли гвинз'\n",
    "    if \"урюк\" in name:\n",
    "        return \"урюк\"\n",
    "    if 'му-му' in name:\n",
    "        return 'му-му'\n",
    "    if 'нияма' in name:\n",
    "        return 'нияма'\n",
    "    if 'ясенево' in name:\n",
    "        return 'территория ясенево'\n",
    "    if 'сказка' in name:\n",
    "        return 'сказка'\n",
    "    if 'брудер' in name:\n",
    "        return 'брудер'\n",
    "    if 'торро гриль' in name:\n",
    "        return 'торро гриль'\n",
    "    if 'иль патио' in name or 'il patio' in name:\n",
    "        return 'иль патио'\n",
    "    if 'кофемания' in name:\n",
    "        return 'кофемания'\n",
    "    if 'марчеллис' in name:\n",
    "        return 'марчеллис'\n",
    "    if 'менза' in name:\n",
    "        return 'менза'\n",
    "    if 'ваби-саби' in name:\n",
    "        return 'ваби-саби'\n",
    "    if 'ариана' in name:\n",
    "        return 'ариана'\n",
    "    if 'белый кролик' in name or 'white rabbite' in name:\n",
    "        return 'белый кролик'\n",
    "    else:\n",
    "        return name\n",
    "    \n",
    "rest['object_name'] = rest['object_name'].apply(universal_name_1) "
   ]
  },
  {
   "cell_type": "markdown",
   "metadata": {},
   "source": [
    "У нас нет цели унифицировать абсолютно все названия заведений, поэтому ограничимся только самыми крупными сетями и самыми крупными сетевыми заведениями, чтобы уменьшить искажения, когда будем считать среднее количество мест. \n",
    "\n",
    "Можем приступать к анализу данных."
   ]
  },
  {
   "cell_type": "markdown",
   "metadata": {},
   "source": [
    "### Вывод"
   ]
  },
  {
   "cell_type": "markdown",
   "metadata": {},
   "source": [
    "<p></p>\n",
    "\n",
    "<div style=\"border:solid green 2px; padding: 20px\">\n",
    "    \n",
    "Мы провели дополнительную обработку и подготовку данных к анализу:\n",
    "- выделили названия улиц в отдельный столбец,\n",
    "- удалили строки, где выделение улицы невозможно (1,6% данных, районы за МКАДом),\n",
    "- загрузили и изучили внешние данные о связи улиц и районов Москвы,\n",
    "- унифицировали названия топ-20 сетей.\n",
    "\n",
    " \n",
    "</div>"
   ]
  },
  {
   "cell_type": "markdown",
   "metadata": {},
   "source": [
    "## Анализ данных"
   ]
  },
  {
   "cell_type": "markdown",
   "metadata": {},
   "source": [
    "### Общая характеристика объектов общественного питания (ОП)"
   ]
  },
  {
   "cell_type": "markdown",
   "metadata": {},
   "source": [
    "Посмотрим, какие объекты ОП чаще всего встречаются в Москве: каких видов и с каким количеством мест."
   ]
  },
  {
   "cell_type": "markdown",
   "metadata": {},
   "source": [
    "#### Виды объектов ОП"
   ]
  },
  {
   "cell_type": "code",
   "execution_count": 25,
   "metadata": {},
   "outputs": [
    {
     "data": {
      "text/plain": [
       "кафе                                 5967\n",
       "столовая                             2512\n",
       "ресторан                             2258\n",
       "предприятие быстрого обслуживания    1882\n",
       "бар                                   846\n",
       "буфет                                 568\n",
       "кафетерий                             383\n",
       "закусочная                            343\n",
       "магазин (отдел кулинарии)             270\n",
       "Name: object_type, dtype: int64"
      ]
     },
     "execution_count": 25,
     "metadata": {},
     "output_type": "execute_result"
    }
   ],
   "source": [
    "rest.object_type.value_counts()"
   ]
  },
  {
   "cell_type": "markdown",
   "metadata": {},
   "source": [
    "Последние 4 типа слишком немногочисленны и не очень понятно чем между собой отличаются. Поэтому нет смысла анализировать их детально. Объединим их в категорию \"прочие\". Для этого напишем функцию, которая будет принимать исходный тип, а возвращать укрупненный: "
   ]
  },
  {
   "cell_type": "code",
   "execution_count": 26,
   "metadata": {},
   "outputs": [
    {
     "data": {
      "text/plain": [
       "кафе                                 5967\n",
       "столовая                             2512\n",
       "ресторан                             2258\n",
       "предприятие быстрого обслуживания    1882\n",
       "прочие                               1564\n",
       "бар                                   846\n",
       "Name: object_type, dtype: int64"
      ]
     },
     "execution_count": 26,
     "metadata": {},
     "output_type": "execute_result"
    }
   ],
   "source": [
    "def integration(object_type):\n",
    "    if object_type == 'буфет' or object_type == 'кафетерий' or\\\n",
    "    object_type == 'закусочная' or object_type == 'магазин (отдел кулинарии)':\n",
    "        return 'прочие'\n",
    "    else:\n",
    "        return object_type\n",
    "\n",
    "rest['object_type'] = rest['object_type'].apply(integration)\n",
    "rest['object_type'].value_counts()"
   ]
  },
  {
   "cell_type": "markdown",
   "metadata": {},
   "source": [
    "'Предприятие быстрого обслуживания' - это слишком длинно и неудобочитаемо. Заменим на 'фастфуд':"
   ]
  },
  {
   "cell_type": "code",
   "execution_count": 27,
   "metadata": {},
   "outputs": [
    {
     "data": {
      "text/plain": [
       "кафе        5967\n",
       "столовая    2512\n",
       "ресторан    2258\n",
       "фастфуд     1882\n",
       "прочие      1564\n",
       "бар          846\n",
       "Name: object_type, dtype: int64"
      ]
     },
     "execution_count": 27,
     "metadata": {},
     "output_type": "execute_result"
    }
   ],
   "source": [
    "rest['object_type'] = rest['object_type'].replace('предприятие быстрого обслуживания', 'фастфуд')\n",
    "\n",
    "types = rest['object_type'].value_counts()\n",
    "types"
   ]
  },
  {
   "cell_type": "markdown",
   "metadata": {},
   "source": [
    "Теперь можно строить диаграмму:"
   ]
  },
  {
   "cell_type": "code",
   "execution_count": 28,
   "metadata": {},
   "outputs": [
    {
     "data": {
      "image/png": "[encoded data removed]",
      "text/plain": [
       "<Figure size 504x504 with 1 Axes>"
      ]
     },
     "metadata": {},
     "output_type": "display_data"
    }
   ],
   "source": [
    "types.plot(kind='pie', figsize=(7,7), autopct='%.0f%%', title=('Структура общепита г.Москвы по видам объектов'));"
   ]
  },
  {
   "cell_type": "markdown",
   "metadata": {},
   "source": [
    "В Москве преобладают кафе (40%), на 2м месте - столовые (17%), на 3м  - рестораны (15%). Популярность этих заведений говорит об их востребованности (спрос рождает предложение). \n",
    "\n",
    "Изначально предполагается, что наше заведение с роботами будет в формате небольшого кафе. Т.е. тип заведения выбран удачно. Но не будем сразу отбрасывать столовые с ресторанами, изучим и другие характеристики."
   ]
  },
  {
   "cell_type": "markdown",
   "metadata": {},
   "source": [
    "#### Количество посадочных мест"
   ]
  },
  {
   "cell_type": "markdown",
   "metadata": {},
   "source": [
    "Количество посадочных мест - важная характеристика, она определяет масштаб заведения. Проверим масштаб Московского общепита:"
   ]
  },
  {
   "cell_type": "code",
   "execution_count": 29,
   "metadata": {},
   "outputs": [
    {
     "data": {
      "text/plain": [
       "count    15029.000000\n",
       "mean        59.725797\n",
       "std         74.998957\n",
       "min          0.000000\n",
       "25%         14.000000\n",
       "50%         40.000000\n",
       "75%         80.000000\n",
       "max       1700.000000\n",
       "Name: number, dtype: float64"
      ]
     },
     "execution_count": 29,
     "metadata": {},
     "output_type": "execute_result"
    }
   ],
   "source": [
    "rest['number'].describe()"
   ]
  },
  {
   "cell_type": "markdown",
   "metadata": {},
   "source": [
    "Минимальное количество мест - 0, максимальное - 1700, среднее - 60, медианное 40. Имеем длинный хвост из выбросов справа."
   ]
  },
  {
   "cell_type": "code",
   "execution_count": 30,
   "metadata": {
    "scrolled": true
   },
   "outputs": [
    {
     "data": {
      "image/png": "[encoded data removed]",
      "text/plain": [
       "<Figure size 1152x288 with 1 Axes>"
      ]
     },
     "metadata": {
      "needs_background": "light"
     },
     "output_type": "display_data"
    }
   ],
   "source": [
    "plt.figure(figsize=(16, 4))\n",
    "sns.distplot(rest['number'], bins=300)\n",
    "plt.xlim(0,300)\n",
    "plt.title('Количество мест в заведениях общепита города Москвы')\n",
    "plt.grid(linewidth=0.2)\n",
    "plt.show()"
   ]
  },
  {
   "cell_type": "markdown",
   "metadata": {},
   "source": [
    "Наблюдаем пик в районе нуля - это заведения, работающие на вынос или на доставку.\n",
    "\n",
    "Среди остальных объектов наиболее популярны заведения вместимостью до 50 мест. \n",
    "\n",
    "От 50 до 100 мест - встречается тоже довольно часто. \n",
    "\n",
    "Более 100 мест - уже редкость. Это и понятно, чем больше мест - тем больше площадь, а значит стоимость аренды и затраты на содержание помещения. Не многие бизнесы могут себе такое позволить.\n",
    "\n",
    "А вот что за заведение-рекордсмен на 1700 мест? не ошибка ли это? Проверим самые вместительные объекты:"
   ]
  },
  {
   "cell_type": "code",
   "execution_count": 31,
   "metadata": {
    "scrolled": true
   },
   "outputs": [
    {
     "data": {
      "text/html": [
       "<div>\n",
       "<style scoped>\n",
       "    .dataframe tbody tr th:only-of-type {\n",
       "        vertical-align: middle;\n",
       "    }\n",
       "\n",
       "    .dataframe tbody tr th {\n",
       "        vertical-align: top;\n",
       "    }\n",
       "\n",
       "    .dataframe thead th {\n",
       "        text-align: right;\n",
       "    }\n",
       "</style>\n",
       "<table border=\"1\" class=\"dataframe\">\n",
       "  <thead>\n",
       "    <tr style=\"text-align: right;\">\n",
       "      <th></th>\n",
       "      <th>id</th>\n",
       "      <th>object_name</th>\n",
       "      <th>chain</th>\n",
       "      <th>object_type</th>\n",
       "      <th>address</th>\n",
       "      <th>number</th>\n",
       "      <th>street</th>\n",
       "    </tr>\n",
       "  </thead>\n",
       "  <tbody>\n",
       "    <tr>\n",
       "      <th>12723</th>\n",
       "      <td>199696</td>\n",
       "      <td>arena by soho family</td>\n",
       "      <td>не сеть</td>\n",
       "      <td>бар</td>\n",
       "      <td>город Москва, Кутузовский проспект, дом 36, строение 11</td>\n",
       "      <td>1700</td>\n",
       "      <td>Кутузовский проспект</td>\n",
       "    </tr>\n",
       "    <tr>\n",
       "      <th>8148</th>\n",
       "      <td>80291</td>\n",
       "      <td>банкетный зал шелк</td>\n",
       "      <td>не сеть</td>\n",
       "      <td>ресторан</td>\n",
       "      <td>город Москва, Большой Саввинский переулок, дом 12, строение 10Г</td>\n",
       "      <td>1500</td>\n",
       "      <td>Большой Саввинский переулок</td>\n",
       "    </tr>\n",
       "    <tr>\n",
       "      <th>8345</th>\n",
       "      <td>27750</td>\n",
       "      <td>столовая-буфет</td>\n",
       "      <td>не сеть</td>\n",
       "      <td>столовая</td>\n",
       "      <td>город Москва, улица Волхонка, дом 15</td>\n",
       "      <td>1400</td>\n",
       "      <td>улица Волхонка</td>\n",
       "    </tr>\n",
       "    <tr>\n",
       "      <th>9064</th>\n",
       "      <td>19719</td>\n",
       "      <td>комбинат питания управление академсервис</td>\n",
       "      <td>не сеть</td>\n",
       "      <td>столовая</td>\n",
       "      <td>город Москва, проспект Вернадского, дом 84, строение 1</td>\n",
       "      <td>1288</td>\n",
       "      <td>проспект Вернадского</td>\n",
       "    </tr>\n",
       "    <tr>\n",
       "      <th>4480</th>\n",
       "      <td>27024</td>\n",
       "      <td>рум сервис</td>\n",
       "      <td>не сеть</td>\n",
       "      <td>ресторан</td>\n",
       "      <td>город Москва, Кутузовский проспект, дом 2/1, строение 1</td>\n",
       "      <td>1200</td>\n",
       "      <td>Кутузовский проспект</td>\n",
       "    </tr>\n",
       "  </tbody>\n",
       "</table>\n",
       "</div>"
      ],
      "text/plain": [
       "           id                               object_name    chain object_type  \\\n",
       "12723  199696                      arena by soho family  не сеть         бар   \n",
       "8148    80291                        банкетный зал шелк  не сеть    ресторан   \n",
       "8345    27750                            столовая-буфет  не сеть    столовая   \n",
       "9064    19719  комбинат питания управление академсервис  не сеть    столовая   \n",
       "4480    27024                                рум сервис  не сеть    ресторан   \n",
       "\n",
       "                                                               address  \\\n",
       "12723          город Москва, Кутузовский проспект, дом 36, строение 11   \n",
       "8148   город Москва, Большой Саввинский переулок, дом 12, строение 10Г   \n",
       "8345                              город Москва, улица Волхонка, дом 15   \n",
       "9064            город Москва, проспект Вернадского, дом 84, строение 1   \n",
       "4480           город Москва, Кутузовский проспект, дом 2/1, строение 1   \n",
       "\n",
       "       number                       street  \n",
       "12723    1700         Кутузовский проспект  \n",
       "8148     1500  Большой Саввинский переулок  \n",
       "8345     1400               улица Волхонка  \n",
       "9064     1288         проспект Вернадского  \n",
       "4480     1200         Кутузовский проспект  "
      ]
     },
     "execution_count": 31,
     "metadata": {},
     "output_type": "execute_result"
    }
   ],
   "source": [
    "rest.sort_values(by='number', ascending=False).head()"
   ]
  },
  {
   "cell_type": "markdown",
   "metadata": {},
   "source": [
    "Концертный зал, банкетный комплекс, трапезная в цоколе Храма Христа-Спасителя, столовая РАНХиГС, гостиница и бизнес-центр Radisson - вполне правдоподобная вместимость для таких заведений.\n",
    "\n",
    "Изучим также количество посадочных мест в разрезе типов заведений:"
   ]
  },
  {
   "cell_type": "code",
   "execution_count": 32,
   "metadata": {},
   "outputs": [
    {
     "data": {
      "image/png": "[encoded data removed]",
      "text/plain": [
       "<Figure size 1152x432 with 1 Axes>"
      ]
     },
     "metadata": {
      "needs_background": "light"
     },
     "output_type": "display_data"
    }
   ],
   "source": [
    "plt.figure(figsize=(16, 6))\n",
    "sns.boxplot(x='object_type', y='number', data=rest)\n",
    "plt.title('Количество мест в заведениях общепита города Москвы в разрезе типов объектов')\n",
    "plt.xticks(rotation=45)\n",
    "plt.ylim(0,400)\n",
    "plt.grid(linewidth=0.2)\n",
    "plt.show()"
   ]
  },
  {
   "cell_type": "markdown",
   "metadata": {},
   "source": [
    "Как видим, количество мест в значительной степени обусловлено типом заведения:\n",
    "- самые крупные заведения - это столовые, вмещающие обычно от 50 до 200 человек,\n",
    "- средние заведения - рестораны (50-110 человек),\n",
    "- чуть мельче - кафе (10-50 человек) и бары (20-50 человек),\n",
    "- самые мелкие - работающие большей частью на вынос - фастфуд и прочие (закусочные, кулинарии, кафетерии, буфеты), вмещающие до 30 человек."
   ]
  },
  {
   "cell_type": "markdown",
   "metadata": {},
   "source": [
    "#### Вывод"
   ]
  },
  {
   "cell_type": "markdown",
   "metadata": {},
   "source": [
    "<p></p>\n",
    "\n",
    "<div style=\"border:solid green 2px; padding: 20px\">\n",
    "    \n",
    "Среди заведений общепита г. Москвы наиболее распространены:\n",
    "    \n",
    "    - кафе (40% заведений) вместимостью от 10 до 50 чел.,\n",
    "    - столовые (17% заведений) вместимостью от 50 до 200 чел.,\n",
    "    - рестораны (15% заведений) вместимостью от 50 до 110 чел.\n",
    "\n",
    " \n",
    "</div>"
   ]
  },
  {
   "cell_type": "markdown",
   "metadata": {},
   "source": [
    "### Сравнение сетевых и несетевых объектов"
   ]
  },
  {
   "cell_type": "markdown",
   "metadata": {},
   "source": [
    "Сравним, чем отличаются между собой  сетевые и несетевые заведения."
   ]
  },
  {
   "cell_type": "markdown",
   "metadata": {},
   "source": [
    "#### Количество сетевых и несетевых объектов ОП"
   ]
  },
  {
   "cell_type": "markdown",
   "metadata": {},
   "source": [
    "Посчитаем для начала общее количество сетевых и несетевых объектов:"
   ]
  },
  {
   "cell_type": "code",
   "execution_count": 33,
   "metadata": {},
   "outputs": [
    {
     "data": {
      "text/html": [
       "<div>\n",
       "<style scoped>\n",
       "    .dataframe tbody tr th:only-of-type {\n",
       "        vertical-align: middle;\n",
       "    }\n",
       "\n",
       "    .dataframe tbody tr th {\n",
       "        vertical-align: top;\n",
       "    }\n",
       "\n",
       "    .dataframe thead th {\n",
       "        text-align: right;\n",
       "    }\n",
       "</style>\n",
       "<table border=\"1\" class=\"dataframe\">\n",
       "  <thead>\n",
       "    <tr style=\"text-align: right;\">\n",
       "      <th></th>\n",
       "      <th>count</th>\n",
       "      <th>share</th>\n",
       "    </tr>\n",
       "    <tr>\n",
       "      <th>chain</th>\n",
       "      <th></th>\n",
       "      <th></th>\n",
       "    </tr>\n",
       "  </thead>\n",
       "  <tbody>\n",
       "    <tr>\n",
       "      <th>не сеть</th>\n",
       "      <td>12091</td>\n",
       "      <td>0.8</td>\n",
       "    </tr>\n",
       "    <tr>\n",
       "      <th>сеть</th>\n",
       "      <td>2938</td>\n",
       "      <td>0.2</td>\n",
       "    </tr>\n",
       "  </tbody>\n",
       "</table>\n",
       "</div>"
      ],
      "text/plain": [
       "         count  share\n",
       "chain                \n",
       "не сеть  12091    0.8\n",
       "сеть      2938    0.2"
      ]
     },
     "execution_count": 33,
     "metadata": {},
     "output_type": "execute_result"
    }
   ],
   "source": [
    "chain = rest.groupby('chain')\\\n",
    "            .agg({'id':'count'})\\\n",
    "            .reset_index()\n",
    "chain.columns = ['chain', 'count']\n",
    "chain = chain.set_index('chain')\n",
    "\n",
    "chain['share'] = round(chain['count']/sum(chain['count']), 2)\n",
    "chain"
   ]
  },
  {
   "cell_type": "code",
   "execution_count": 34,
   "metadata": {},
   "outputs": [
    {
     "data": {
      "image/png": "[encoded data removed]",
      "text/plain": [
       "<Figure size 504x504 with 1 Axes>"
      ]
     },
     "metadata": {},
     "output_type": "display_data"
    }
   ],
   "source": [
    "chain.plot(kind='pie', x='chain', y='count' , figsize=(7,7), autopct='%.0f%%', \n",
    "           title=('Доля сетевых и несетевых объектов ОП в г. Москве'))\n",
    "plt.xlabel('chain')\n",
    "plt.show()"
   ]
  },
  {
   "cell_type": "markdown",
   "metadata": {},
   "source": [
    "Итак, в Москве преобладают несетевые заведения общепита (80%). Сетевые составляют только 20% от общего числа объектов."
   ]
  },
  {
   "cell_type": "markdown",
   "metadata": {},
   "source": [
    "#### Виды сетевых и несетевых объектов ОП"
   ]
  },
  {
   "cell_type": "markdown",
   "metadata": {},
   "source": [
    "Посчитаем теперь соотношение сетевых и несетевых объектов отдельно для каждого вида заведений:"
   ]
  },
  {
   "cell_type": "code",
   "execution_count": 35,
   "metadata": {
    "scrolled": true
   },
   "outputs": [
    {
     "data": {
      "text/html": [
       "<style type=\"text/css\">\n",
       "</style>\n",
       "<table id=\"T_0835a_\">\n",
       "  <thead>\n",
       "    <tr>\n",
       "      <th class=\"blank level0\" >&nbsp;</th>\n",
       "      <th class=\"col_heading level0 col0\" >not_chain</th>\n",
       "      <th class=\"col_heading level0 col1\" >is_chain</th>\n",
       "      <th class=\"col_heading level0 col2\" >total</th>\n",
       "      <th class=\"col_heading level0 col3\" >not_chain_%</th>\n",
       "      <th class=\"col_heading level0 col4\" >is_chain_%</th>\n",
       "    </tr>\n",
       "    <tr>\n",
       "      <th class=\"index_name level0\" >object_type</th>\n",
       "      <th class=\"blank col0\" >&nbsp;</th>\n",
       "      <th class=\"blank col1\" >&nbsp;</th>\n",
       "      <th class=\"blank col2\" >&nbsp;</th>\n",
       "      <th class=\"blank col3\" >&nbsp;</th>\n",
       "      <th class=\"blank col4\" >&nbsp;</th>\n",
       "    </tr>\n",
       "  </thead>\n",
       "  <tbody>\n",
       "    <tr>\n",
       "      <th id=\"T_0835a_level0_row0\" class=\"row_heading level0 row0\" >столовая</th>\n",
       "      <td id=\"T_0835a_row0_col0\" class=\"data row0 col0\" >2509</td>\n",
       "      <td id=\"T_0835a_row0_col1\" class=\"data row0 col1\" >3</td>\n",
       "      <td id=\"T_0835a_row0_col2\" class=\"data row0 col2\" >2512</td>\n",
       "      <td id=\"T_0835a_row0_col3\" class=\"data row0 col3\" >99.9%</td>\n",
       "      <td id=\"T_0835a_row0_col4\" class=\"data row0 col4\" >0.1%</td>\n",
       "    </tr>\n",
       "    <tr>\n",
       "      <th id=\"T_0835a_level0_row1\" class=\"row_heading level0 row1\" >бар</th>\n",
       "      <td id=\"T_0835a_row1_col0\" class=\"data row1 col0\" >810</td>\n",
       "      <td id=\"T_0835a_row1_col1\" class=\"data row1 col1\" >36</td>\n",
       "      <td id=\"T_0835a_row1_col2\" class=\"data row1 col2\" >846</td>\n",
       "      <td id=\"T_0835a_row1_col3\" class=\"data row1 col3\" >95.7%</td>\n",
       "      <td id=\"T_0835a_row1_col4\" class=\"data row1 col4\" >4.3%</td>\n",
       "    </tr>\n",
       "    <tr>\n",
       "      <th id=\"T_0835a_level0_row2\" class=\"row_heading level0 row2\" >прочие</th>\n",
       "      <td id=\"T_0835a_row2_col0\" class=\"data row2 col0\" >1368</td>\n",
       "      <td id=\"T_0835a_row2_col1\" class=\"data row2 col1\" >196</td>\n",
       "      <td id=\"T_0835a_row2_col2\" class=\"data row2 col2\" >1564</td>\n",
       "      <td id=\"T_0835a_row2_col3\" class=\"data row2 col3\" >87.5%</td>\n",
       "      <td id=\"T_0835a_row2_col4\" class=\"data row2 col4\" >12.5%</td>\n",
       "    </tr>\n",
       "    <tr>\n",
       "      <th id=\"T_0835a_level0_row3\" class=\"row_heading level0 row3\" >кафе</th>\n",
       "      <td id=\"T_0835a_row3_col0\" class=\"data row3 col0\" >4581</td>\n",
       "      <td id=\"T_0835a_row3_col1\" class=\"data row3 col1\" >1386</td>\n",
       "      <td id=\"T_0835a_row3_col2\" class=\"data row3 col2\" >5967</td>\n",
       "      <td id=\"T_0835a_row3_col3\" class=\"data row3 col3\" >76.8%</td>\n",
       "      <td id=\"T_0835a_row3_col4\" class=\"data row3 col4\" >23.2%</td>\n",
       "    </tr>\n",
       "    <tr>\n",
       "      <th id=\"T_0835a_level0_row4\" class=\"row_heading level0 row4\" >ресторан</th>\n",
       "      <td id=\"T_0835a_row4_col0\" class=\"data row4 col0\" >1721</td>\n",
       "      <td id=\"T_0835a_row4_col1\" class=\"data row4 col1\" >537</td>\n",
       "      <td id=\"T_0835a_row4_col2\" class=\"data row4 col2\" >2258</td>\n",
       "      <td id=\"T_0835a_row4_col3\" class=\"data row4 col3\" >76.2%</td>\n",
       "      <td id=\"T_0835a_row4_col4\" class=\"data row4 col4\" >23.8%</td>\n",
       "    </tr>\n",
       "    <tr>\n",
       "      <th id=\"T_0835a_level0_row5\" class=\"row_heading level0 row5\" >фастфуд</th>\n",
       "      <td id=\"T_0835a_row5_col0\" class=\"data row5 col0\" >1102</td>\n",
       "      <td id=\"T_0835a_row5_col1\" class=\"data row5 col1\" >780</td>\n",
       "      <td id=\"T_0835a_row5_col2\" class=\"data row5 col2\" >1882</td>\n",
       "      <td id=\"T_0835a_row5_col3\" class=\"data row5 col3\" >58.6%</td>\n",
       "      <td id=\"T_0835a_row5_col4\" class=\"data row5 col4\" >41.4%</td>\n",
       "    </tr>\n",
       "  </tbody>\n",
       "</table>\n"
      ],
      "text/plain": [
       "<pandas.io.formats.style.Styler at 0x23b2f998a30>"
      ]
     },
     "execution_count": 35,
     "metadata": {},
     "output_type": "execute_result"
    }
   ],
   "source": [
    "chain_type = rest.pivot_table(index='object_type', columns='chain', \n",
    "                              values='object_name', aggfunc=['count'])\\\n",
    "                .reset_index()\n",
    "\n",
    "chain_type.columns = ['object_type', 'not_chain', 'is_chain']\n",
    "chain_type = chain_type.set_index('object_type')\n",
    "\n",
    "chain_type['total'] = chain_type['not_chain'] + chain_type['is_chain']\n",
    "chain_type['not_chain_%'] = chain_type['not_chain'] / chain_type['total']\n",
    "chain_type['is_chain_%'] = chain_type['is_chain'] / chain_type['total']\n",
    "\n",
    "chain_type = chain_type.sort_values(by='is_chain_%')\n",
    "chain_type.style.format({'not_chain_%':'{:.1%}', 'is_chain_%':'{:.1%}'})"
   ]
  },
  {
   "cell_type": "code",
   "execution_count": 36,
   "metadata": {},
   "outputs": [
    {
     "data": {
      "image/png": "[encoded data removed]",
      "text/plain": [
       "<Figure size 1008x288 with 1 Axes>"
      ]
     },
     "metadata": {
      "needs_background": "light"
     },
     "output_type": "display_data"
    }
   ],
   "source": [
    "chain_type.plot(y=['not_chain_%', 'is_chain_%'],\n",
    "               kind='bar', figsize=(14, 4),\n",
    "               title='Соотношение сетевых и несетевых заведений для разных типов объектов ОП',\n",
    "               rot=45, ylabel='Доля')\n",
    "plt.grid(linewidth=0.2)\n",
    "plt.show()"
   ]
  },
  {
   "cell_type": "markdown",
   "metadata": {},
   "source": [
    "Сетевая организация бизнеса наиболее характерна для фастфуда (41% заведений этого типа являются сетевыми), а также для кафе и ресторанов (по 24% объектов являются сетевыми). Менее всего склонные к сетевой организации бизнеса заведения общепита - столовые (0,1%) и бары (4%)."
   ]
  },
  {
   "cell_type": "markdown",
   "metadata": {},
   "source": [
    "#### Количество посадочных мест в сетевых и несетевых объектах ОП"
   ]
  },
  {
   "cell_type": "markdown",
   "metadata": {},
   "source": [
    "Сравним теперь количество посадочных мест для сетевых и несетевых заведений:"
   ]
  },
  {
   "cell_type": "code",
   "execution_count": 37,
   "metadata": {},
   "outputs": [
    {
     "data": {
      "image/png": "[encoded data removed]",
      "text/plain": [
       "<Figure size 1152x432 with 1 Axes>"
      ]
     },
     "metadata": {
      "needs_background": "light"
     },
     "output_type": "display_data"
    }
   ],
   "source": [
    "plt.figure(figsize=(16, 6))\n",
    "sns.boxplot(x='object_type', y='number', data=rest, hue='chain')\n",
    "plt.title('Количество мест в сетевых и несетевых заведениях общепита города Москвы в разрезе типов объектов')\n",
    "plt.ylim(0,400)\n",
    "plt.grid(linewidth=0.2)\n",
    "plt.show()"
   ]
  },
  {
   "cell_type": "markdown",
   "metadata": {},
   "source": [
    "Интересно, что практически у всех видов сетевых заведений медианное количество мест выше, чем у аналогичных несетевых (кроме прочих - в эту категорию мы объединили буфеты, закусочные, кулинарии и кафетерии). \n",
    "\n",
    "У сетевых столовых разброс количества мест значительно меньше (от 90 до 145), чем у несетевых (от 50 до 200). А у сетевых заведений фастфуда, ресторанов и баров  - наоборот - более широкий диапазон количества мест, чем у несетевых.\n",
    "\n",
    "Посчитаем, на сколько % медианы вместимости сетевых заведений выше несетевых (берем именно медианы, потому что у нас довольно много выбросов, которые приводят к смещению среднего):"
   ]
  },
  {
   "cell_type": "code",
   "execution_count": 38,
   "metadata": {},
   "outputs": [
    {
     "data": {
      "text/html": [
       "<style type=\"text/css\">\n",
       "</style>\n",
       "<table id=\"T_875d7_\">\n",
       "  <thead>\n",
       "    <tr>\n",
       "      <th class=\"blank level0\" >&nbsp;</th>\n",
       "      <th class=\"col_heading level0 col0\" >med_not_chain</th>\n",
       "      <th class=\"col_heading level0 col1\" >med_is_chain</th>\n",
       "      <th class=\"col_heading level0 col2\" >difference</th>\n",
       "    </tr>\n",
       "    <tr>\n",
       "      <th class=\"index_name level0\" >object_type</th>\n",
       "      <th class=\"blank col0\" >&nbsp;</th>\n",
       "      <th class=\"blank col1\" >&nbsp;</th>\n",
       "      <th class=\"blank col2\" >&nbsp;</th>\n",
       "    </tr>\n",
       "  </thead>\n",
       "  <tbody>\n",
       "    <tr>\n",
       "      <th id=\"T_875d7_level0_row0\" class=\"row_heading level0 row0\" >столовая</th>\n",
       "      <td id=\"T_875d7_row0_col0\" class=\"data row0 col0\" >103</td>\n",
       "      <td id=\"T_875d7_row0_col1\" class=\"data row0 col1\" >120</td>\n",
       "      <td id=\"T_875d7_row0_col2\" class=\"data row0 col2\" >16.5%</td>\n",
       "    </tr>\n",
       "    <tr>\n",
       "      <th id=\"T_875d7_level0_row1\" class=\"row_heading level0 row1\" >ресторан</th>\n",
       "      <td id=\"T_875d7_row1_col0\" class=\"data row1 col0\" >75</td>\n",
       "      <td id=\"T_875d7_row1_col1\" class=\"data row1 col1\" >88</td>\n",
       "      <td id=\"T_875d7_row1_col2\" class=\"data row1 col2\" >17.3%</td>\n",
       "    </tr>\n",
       "    <tr>\n",
       "      <th id=\"T_875d7_level0_row2\" class=\"row_heading level0 row2\" >бар</th>\n",
       "      <td id=\"T_875d7_row2_col0\" class=\"data row2 col0\" >34</td>\n",
       "      <td id=\"T_875d7_row2_col1\" class=\"data row2 col1\" >44</td>\n",
       "      <td id=\"T_875d7_row2_col2\" class=\"data row2 col2\" >29.4%</td>\n",
       "    </tr>\n",
       "    <tr>\n",
       "      <th id=\"T_875d7_level0_row3\" class=\"row_heading level0 row3\" >кафе</th>\n",
       "      <td id=\"T_875d7_row3_col0\" class=\"data row3 col0\" >30</td>\n",
       "      <td id=\"T_875d7_row3_col1\" class=\"data row3 col1\" >40</td>\n",
       "      <td id=\"T_875d7_row3_col2\" class=\"data row3 col2\" >33.3%</td>\n",
       "    </tr>\n",
       "    <tr>\n",
       "      <th id=\"T_875d7_level0_row4\" class=\"row_heading level0 row4\" >фастфуд</th>\n",
       "      <td id=\"T_875d7_row4_col0\" class=\"data row4 col0\" >0</td>\n",
       "      <td id=\"T_875d7_row4_col1\" class=\"data row4 col1\" >25</td>\n",
       "      <td id=\"T_875d7_row4_col2\" class=\"data row4 col2\" >inf%</td>\n",
       "    </tr>\n",
       "    <tr>\n",
       "      <th id=\"T_875d7_level0_row5\" class=\"row_heading level0 row5\" >прочие</th>\n",
       "      <td id=\"T_875d7_row5_col0\" class=\"data row5 col0\" >10</td>\n",
       "      <td id=\"T_875d7_row5_col1\" class=\"data row5 col1\" >5</td>\n",
       "      <td id=\"T_875d7_row5_col2\" class=\"data row5 col2\" >-50.0%</td>\n",
       "    </tr>\n",
       "  </tbody>\n",
       "</table>\n"
      ],
      "text/plain": [
       "<pandas.io.formats.style.Styler at 0x23b2fa889a0>"
      ]
     },
     "execution_count": 38,
     "metadata": {},
     "output_type": "execute_result"
    }
   ],
   "source": [
    "rest_pivot = rest.pivot_table(index='object_type', columns='chain', \n",
    "                             values='number', aggfunc='median')\\\n",
    "                 .sort_values(by='сеть', ascending=False)\n",
    "rest_pivot.columns = ['med_not_chain', 'med_is_chain']\n",
    "rest_pivot['difference'] = rest_pivot['med_is_chain'] / rest_pivot['med_not_chain'] - 1\n",
    "rest_pivot.style.format({'difference':'{:.1%}'})"
   ]
  },
  {
   "cell_type": "markdown",
   "metadata": {},
   "source": [
    "В таблице представлены медианы количества посадочных мест для каждого вида заведений. Самые крупные заведения - это столовые (103 места у несетевых и 120 у сетевых). На втором месте - рестораны (75 мест у несетевых и 88 мест у сетевых).\n",
    "\n",
    "Медианы вместимости сетевых заведений выше несетевых на 17-33% в зависимости от типа заведения. \n",
    "\n",
    "Несетевой фастфуд работает, в основном, на вынос и на доставку. Прочие - это мелкие и редко встречающиеся заведения не совсем понятного формата (кафетерии, закусочные, кулинарии и буфеты), в нашем анализе они существенной роли не играют."
   ]
  },
  {
   "cell_type": "markdown",
   "metadata": {},
   "source": [
    "#### Характеристики наиболее распространенных сетей: размер сети и среднее количество мест"
   ]
  },
  {
   "cell_type": "markdown",
   "metadata": {},
   "source": [
    "Разберемся, какие сети преобладают:\n",
    "- по размеру (количеству заведений)\n",
    "- по вместимости (среднему количеству мест в одном заведении).\n",
    "\n",
    "Для этого сгруппируем данные по названию сети и выведем топ-10 сетей по количеству заведений и топ-10 сетей по среднему количеству мест:"
   ]
  },
  {
   "cell_type": "code",
   "execution_count": 39,
   "metadata": {},
   "outputs": [
    {
     "name": "stdout",
     "output_type": "stream",
     "text": [
      "Всего сетей: 443\n",
      "ТОП-10 сетей по количеству заведений\n"
     ]
    },
    {
     "data": {
      "text/html": [
       "<div>\n",
       "<style scoped>\n",
       "    .dataframe tbody tr th:only-of-type {\n",
       "        vertical-align: middle;\n",
       "    }\n",
       "\n",
       "    .dataframe tbody tr th {\n",
       "        vertical-align: top;\n",
       "    }\n",
       "\n",
       "    .dataframe thead th {\n",
       "        text-align: right;\n",
       "    }\n",
       "</style>\n",
       "<table border=\"1\" class=\"dataframe\">\n",
       "  <thead>\n",
       "    <tr style=\"text-align: right;\">\n",
       "      <th></th>\n",
       "      <th>seats_mean</th>\n",
       "      <th>objects_count</th>\n",
       "    </tr>\n",
       "    <tr>\n",
       "      <th>object_name</th>\n",
       "      <th></th>\n",
       "      <th></th>\n",
       "    </tr>\n",
       "  </thead>\n",
       "  <tbody>\n",
       "    <tr>\n",
       "      <th>kfc</th>\n",
       "      <td>56.0</td>\n",
       "      <td>187</td>\n",
       "    </tr>\n",
       "    <tr>\n",
       "      <th>шоколадница</th>\n",
       "      <td>58.0</td>\n",
       "      <td>183</td>\n",
       "    </tr>\n",
       "    <tr>\n",
       "      <th>макдоналдс</th>\n",
       "      <td>88.0</td>\n",
       "      <td>170</td>\n",
       "    </tr>\n",
       "    <tr>\n",
       "      <th>бургер кинг</th>\n",
       "      <td>48.0</td>\n",
       "      <td>159</td>\n",
       "    </tr>\n",
       "    <tr>\n",
       "      <th>теремок</th>\n",
       "      <td>27.0</td>\n",
       "      <td>110</td>\n",
       "    </tr>\n",
       "    <tr>\n",
       "      <th>домино'с пицца</th>\n",
       "      <td>18.0</td>\n",
       "      <td>99</td>\n",
       "    </tr>\n",
       "    <tr>\n",
       "      <th>крошка картошка</th>\n",
       "      <td>21.0</td>\n",
       "      <td>95</td>\n",
       "    </tr>\n",
       "    <tr>\n",
       "      <th>милти</th>\n",
       "      <td>1.0</td>\n",
       "      <td>81</td>\n",
       "    </tr>\n",
       "    <tr>\n",
       "      <th>суши wok</th>\n",
       "      <td>7.0</td>\n",
       "      <td>76</td>\n",
       "    </tr>\n",
       "    <tr>\n",
       "      <th>папа джонс</th>\n",
       "      <td>22.0</td>\n",
       "      <td>66</td>\n",
       "    </tr>\n",
       "  </tbody>\n",
       "</table>\n",
       "</div>"
      ],
      "text/plain": [
       "                 seats_mean  objects_count\n",
       "object_name                               \n",
       "kfc                    56.0            187\n",
       "шоколадница            58.0            183\n",
       "макдоналдс             88.0            170\n",
       "бургер кинг            48.0            159\n",
       "теремок                27.0            110\n",
       "домино'с пицца         18.0             99\n",
       "крошка картошка        21.0             95\n",
       "милти                   1.0             81\n",
       "суши wok                7.0             76\n",
       "папа джонс             22.0             66"
      ]
     },
     "execution_count": 39,
     "metadata": {},
     "output_type": "execute_result"
    }
   ],
   "source": [
    "rest_chain = rest.query('chain == \"сеть\"').groupby('object_name').agg({'number':'mean', 'id':'count'})\n",
    "rest_chain.columns = ['seats_mean', 'objects_count']\n",
    "rest_chain['seats_mean'] = round(rest_chain['seats_mean'],0)\n",
    "\n",
    "print('Всего сетей:', len(rest_chain))\n",
    "print('ТОП-10 сетей по количеству заведений')\n",
    "rest_chain.sort_values(by='objects_count', ascending=False).head(10)"
   ]
  },
  {
   "cell_type": "code",
   "execution_count": 40,
   "metadata": {},
   "outputs": [
    {
     "name": "stdout",
     "output_type": "stream",
     "text": [
      "ТОП-10 сетей по среднему количеству мест\n"
     ]
    },
    {
     "data": {
      "text/html": [
       "<div>\n",
       "<style scoped>\n",
       "    .dataframe tbody tr th:only-of-type {\n",
       "        vertical-align: middle;\n",
       "    }\n",
       "\n",
       "    .dataframe tbody tr th {\n",
       "        vertical-align: top;\n",
       "    }\n",
       "\n",
       "    .dataframe thead th {\n",
       "        text-align: right;\n",
       "    }\n",
       "</style>\n",
       "<table border=\"1\" class=\"dataframe\">\n",
       "  <thead>\n",
       "    <tr style=\"text-align: right;\">\n",
       "      <th></th>\n",
       "      <th>seats_mean</th>\n",
       "      <th>objects_count</th>\n",
       "    </tr>\n",
       "    <tr>\n",
       "      <th>object_name</th>\n",
       "      <th></th>\n",
       "      <th></th>\n",
       "    </tr>\n",
       "  </thead>\n",
       "  <tbody>\n",
       "    <tr>\n",
       "      <th>чешская пивная козловица</th>\n",
       "      <td>306.0</td>\n",
       "      <td>1</td>\n",
       "    </tr>\n",
       "    <tr>\n",
       "      <th>пражечка</th>\n",
       "      <td>266.0</td>\n",
       "      <td>1</td>\n",
       "    </tr>\n",
       "    <tr>\n",
       "      <th>бакинский бульвар</th>\n",
       "      <td>259.0</td>\n",
       "      <td>3</td>\n",
       "    </tr>\n",
       "    <tr>\n",
       "      <th>молли гвинз</th>\n",
       "      <td>250.0</td>\n",
       "      <td>1</td>\n",
       "    </tr>\n",
       "    <tr>\n",
       "      <th>пилзнер</th>\n",
       "      <td>245.0</td>\n",
       "      <td>2</td>\n",
       "    </tr>\n",
       "    <tr>\n",
       "      <th>старина миллер</th>\n",
       "      <td>237.0</td>\n",
       "      <td>3</td>\n",
       "    </tr>\n",
       "    <tr>\n",
       "      <th>темпл бар</th>\n",
       "      <td>217.0</td>\n",
       "      <td>3</td>\n",
       "    </tr>\n",
       "    <tr>\n",
       "      <th>кафе пронто</th>\n",
       "      <td>206.0</td>\n",
       "      <td>2</td>\n",
       "    </tr>\n",
       "    <tr>\n",
       "      <th>территория ясенево</th>\n",
       "      <td>200.0</td>\n",
       "      <td>1</td>\n",
       "    </tr>\n",
       "    <tr>\n",
       "      <th>ян примус</th>\n",
       "      <td>200.0</td>\n",
       "      <td>2</td>\n",
       "    </tr>\n",
       "  </tbody>\n",
       "</table>\n",
       "</div>"
      ],
      "text/plain": [
       "                          seats_mean  objects_count\n",
       "object_name                                        \n",
       "чешская пивная козловица       306.0              1\n",
       "пражечка                       266.0              1\n",
       "бакинский бульвар              259.0              3\n",
       "молли гвинз                    250.0              1\n",
       "пилзнер                        245.0              2\n",
       "старина миллер                 237.0              3\n",
       "темпл бар                      217.0              3\n",
       "кафе пронто                    206.0              2\n",
       "территория ясенево             200.0              1\n",
       "ян примус                      200.0              2"
      ]
     },
     "execution_count": 40,
     "metadata": {},
     "output_type": "execute_result"
    }
   ],
   "source": [
    "print('ТОП-10 сетей по среднему количеству мест')\n",
    "rest_chain.sort_values(by='seats_mean', ascending=False).head(10)"
   ]
  },
  {
   "cell_type": "markdown",
   "metadata": {},
   "source": [
    "Как видим, у нас присутствуют сети с одним заведением в Москве. В идеале такого быть не должно. Проверим, сколько таких в нашем датасете:"
   ]
  },
  {
   "cell_type": "code",
   "execution_count": 41,
   "metadata": {},
   "outputs": [
    {
     "data": {
      "text/plain": [
       "234"
      ]
     },
     "execution_count": 41,
     "metadata": {},
     "output_type": "execute_result"
    }
   ],
   "source": [
    "len(rest_chain.query('objects_count == 1'))"
   ]
  },
  {
   "cell_type": "markdown",
   "metadata": {},
   "source": [
    "У 234 сетей (т.е. почти у половины) всего лишь 1 заведение в Москве. Гугл сообщает, что \"Чешская пивная козловица\" - сеть из 3х ресторанов, у \"Молли Гвинз\" - 2 заведения, у \"Территории Ясенево\" - 7.  Значит, в нашей базе неполные данные, либо названия части заведений написаны с ошибкой / не единообразно. \n",
    "\n",
    "Могут быть случаи, когда сетевой ресторан имеет одно заведение в Москве + заведения в других крупных городах. Также не исключено, что в некоторых случаях неверно указан тип заведения (\"сеть\" вместо \"не сеть\"). Но проверять 234 строки и приводить абсолютно все названия заведений к единому стандарту в нашем случае нецелесообразно, поэтому оставим как есть. И будем иметь в виду, что статистика топ-10 заведений по среденму количеству мест у нас искажена.\n",
    "\n",
    "\n",
    "Всего имеем в Москве 443 сети. У самых крупных сетей (от 66 до 187 заведений) вместительность не так уж и велика - от 18 до 88 мест в среднем на одно заведение (исключая \"Милти\" и \"Суши Wok\", которые работают большей частью на доставку). Зато у самых вместительных сетей (от 200 до 306 мест) всего по несколько заведений в Москве. Это вполне логично: одни делают ставку на доступность в разных точках города, а другие - на возможность обслужить всех желающих в выбранном суперпроходимом месте.\n",
    "\n",
    "Попробуем оценить, какие сети по количеству заведений и вместимости преобдалают в Москве с помощью диаграммы:"
   ]
  },
  {
   "cell_type": "code",
   "execution_count": 42,
   "metadata": {},
   "outputs": [
    {
     "data": {
      "image/png": "[encoded data removed]",
      "text/plain": [
       "<Figure size 432x432 with 3 Axes>"
      ]
     },
     "metadata": {
      "needs_background": "light"
     },
     "output_type": "display_data"
    }
   ],
   "source": [
    "sns.jointplot(x='seats_mean', y='objects_count', data=rest_chain)\n",
    "plt.ylim(0,30)\n",
    "plt.show()"
   ]
  },
  {
   "cell_type": "markdown",
   "metadata": {},
   "source": [
    "Судя по диаграмме, преобладают сети с 1-2 заведениями вместимостью до 50 мест. Много это или мало? Попробуем найти границы нормы с помощью персентилей. \n",
    "\n",
    "Для количества мест пусть 40% минимальных значений - это будет \"мало\", 40% максимальных значений - \"много\", 20% посередине - \"среднее количество\"."
   ]
  },
  {
   "cell_type": "code",
   "execution_count": 43,
   "metadata": {},
   "outputs": [
    {
     "name": "stdout",
     "output_type": "stream",
     "text": [
      "Границы для среднего количества мест [32. 50.]\n"
     ]
    }
   ],
   "source": [
    "print('Границы для среднего количества мест', np.percentile(rest_chain['seats_mean'], [40, 60]))"
   ]
  },
  {
   "cell_type": "markdown",
   "metadata": {},
   "source": [
    "Для среднего количества посадочных мест:\n",
    "- \"мало мест\" - до 35 мест включительно,\n",
    "- \"среднее количество мест\" - 36-60 мест,\n",
    "- \"много мест\" - свыше 60 мест.\n",
    "\n",
    "Для количества заведений возьмем немного другие границы, т.к. половина сетей у нас с 1 объектом:"
   ]
  },
  {
   "cell_type": "code",
   "execution_count": 44,
   "metadata": {},
   "outputs": [
    {
     "name": "stdout",
     "output_type": "stream",
     "text": [
      "Границы для количества объектов в сети [ 3. 10.]\n"
     ]
    }
   ],
   "source": [
    "print('Границы для количества объектов в сети', np.percentile(rest_chain['objects_count'], [70, 90]))"
   ]
  },
  {
   "cell_type": "markdown",
   "metadata": {},
   "source": [
    "Для размера сети :\n",
    "- \"мало объектов\" - 1-3 заведения, \n",
    "- \"среднее количество объектов\" - 4-10 заведений, \n",
    "- \"много объектов\" - от 11 заведений и более.\n",
    "\n",
    "Теперь категоризируем наши данные, чтобы посчитать, какие сети преобладают:"
   ]
  },
  {
   "cell_type": "code",
   "execution_count": 45,
   "metadata": {},
   "outputs": [
    {
     "data": {
      "text/html": [
       "<div>\n",
       "<style scoped>\n",
       "    .dataframe tbody tr th:only-of-type {\n",
       "        vertical-align: middle;\n",
       "    }\n",
       "\n",
       "    .dataframe tbody tr th {\n",
       "        vertical-align: top;\n",
       "    }\n",
       "\n",
       "    .dataframe thead th {\n",
       "        text-align: right;\n",
       "    }\n",
       "</style>\n",
       "<table border=\"1\" class=\"dataframe\">\n",
       "  <thead>\n",
       "    <tr style=\"text-align: right;\">\n",
       "      <th></th>\n",
       "      <th>seats_mean</th>\n",
       "      <th>objects_count</th>\n",
       "      <th>seats_mean_cat</th>\n",
       "      <th>objects_count_cat</th>\n",
       "    </tr>\n",
       "    <tr>\n",
       "      <th>object_name</th>\n",
       "      <th></th>\n",
       "      <th></th>\n",
       "      <th></th>\n",
       "      <th></th>\n",
       "    </tr>\n",
       "  </thead>\n",
       "  <tbody>\n",
       "    <tr>\n",
       "      <th>beverly hills diner</th>\n",
       "      <td>88.0</td>\n",
       "      <td>1</td>\n",
       "      <td>много мест</td>\n",
       "      <td>мало объектов</td>\n",
       "    </tr>\n",
       "    <tr>\n",
       "      <th>bierloga</th>\n",
       "      <td>75.0</td>\n",
       "      <td>1</td>\n",
       "      <td>много мест</td>\n",
       "      <td>мало объектов</td>\n",
       "    </tr>\n",
       "    <tr>\n",
       "      <th>black &amp; white</th>\n",
       "      <td>40.0</td>\n",
       "      <td>1</td>\n",
       "      <td>среднее количество мест</td>\n",
       "      <td>мало объектов</td>\n",
       "    </tr>\n",
       "    <tr>\n",
       "      <th>bocconcino</th>\n",
       "      <td>67.0</td>\n",
       "      <td>3</td>\n",
       "      <td>много мест</td>\n",
       "      <td>мало объектов</td>\n",
       "    </tr>\n",
       "    <tr>\n",
       "      <th>boobo</th>\n",
       "      <td>46.0</td>\n",
       "      <td>1</td>\n",
       "      <td>среднее количество мест</td>\n",
       "      <td>мало объектов</td>\n",
       "    </tr>\n",
       "  </tbody>\n",
       "</table>\n",
       "</div>"
      ],
      "text/plain": [
       "                     seats_mean  objects_count           seats_mean_cat  \\\n",
       "object_name                                                               \n",
       "beverly hills diner        88.0              1               много мест   \n",
       "bierloga                   75.0              1               много мест   \n",
       "black & white              40.0              1  среднее количество мест   \n",
       "bocconcino                 67.0              3               много мест   \n",
       "boobo                      46.0              1  среднее количество мест   \n",
       "\n",
       "                    objects_count_cat  \n",
       "object_name                            \n",
       "beverly hills diner     мало объектов  \n",
       "bierloga                мало объектов  \n",
       "black & white           мало объектов  \n",
       "bocconcino              мало объектов  \n",
       "boobo                   мало объектов  "
      ]
     },
     "execution_count": 45,
     "metadata": {},
     "output_type": "execute_result"
    }
   ],
   "source": [
    "# функция для категоризации среднего количества мест\n",
    "def seats_category(seats_mean):\n",
    "    if seats_mean <= 35:\n",
    "        return 'мало мест'\n",
    "    if seats_mean <= 60:\n",
    "        return 'среднее количество мест'\n",
    "    else:\n",
    "        return 'много мест'\n",
    "\n",
    "# функция для категоризации количества заведений в сети    \n",
    "def objects_category(objects_count):\n",
    "    if objects_count <= 3:\n",
    "        return 'мало объектов'\n",
    "    if objects_count <= 10:\n",
    "        return 'среднее количество объектов'\n",
    "    else:\n",
    "        return 'много объектов'\n",
    "\n",
    "    \n",
    "rest_chain['seats_mean_cat'] =  rest_chain['seats_mean'].apply(seats_category)\n",
    "rest_chain['objects_count_cat'] =  rest_chain['objects_count'].apply(objects_category)\n",
    "rest_chain.head()"
   ]
  },
  {
   "cell_type": "markdown",
   "metadata": {},
   "source": [
    "Теперь можем группировать данные по категориям:"
   ]
  },
  {
   "cell_type": "code",
   "execution_count": 46,
   "metadata": {},
   "outputs": [
    {
     "data": {
      "text/html": [
       "<div>\n",
       "<style scoped>\n",
       "    .dataframe tbody tr th:only-of-type {\n",
       "        vertical-align: middle;\n",
       "    }\n",
       "\n",
       "    .dataframe tbody tr th {\n",
       "        vertical-align: top;\n",
       "    }\n",
       "\n",
       "    .dataframe thead th {\n",
       "        text-align: right;\n",
       "    }\n",
       "</style>\n",
       "<table border=\"1\" class=\"dataframe\">\n",
       "  <thead>\n",
       "    <tr style=\"text-align: right;\">\n",
       "      <th></th>\n",
       "      <th></th>\n",
       "      <th>seats_mean_cat</th>\n",
       "    </tr>\n",
       "    <tr>\n",
       "      <th>seats_mean_cat</th>\n",
       "      <th>objects_count_cat</th>\n",
       "      <th></th>\n",
       "    </tr>\n",
       "  </thead>\n",
       "  <tbody>\n",
       "    <tr>\n",
       "      <th rowspan=\"3\" valign=\"top\">мало мест</th>\n",
       "      <th>мало объектов</th>\n",
       "      <td>141</td>\n",
       "    </tr>\n",
       "    <tr>\n",
       "      <th>много объектов</th>\n",
       "      <td>21</td>\n",
       "    </tr>\n",
       "    <tr>\n",
       "      <th>среднее количество объектов</th>\n",
       "      <td>27</td>\n",
       "    </tr>\n",
       "    <tr>\n",
       "      <th rowspan=\"3\" valign=\"top\">много мест</th>\n",
       "      <th>мало объектов</th>\n",
       "      <td>119</td>\n",
       "    </tr>\n",
       "    <tr>\n",
       "      <th>много объектов</th>\n",
       "      <td>12</td>\n",
       "    </tr>\n",
       "    <tr>\n",
       "      <th>среднее количество объектов</th>\n",
       "      <td>23</td>\n",
       "    </tr>\n",
       "    <tr>\n",
       "      <th rowspan=\"3\" valign=\"top\">среднее количество мест</th>\n",
       "      <th>мало объектов</th>\n",
       "      <td>77</td>\n",
       "    </tr>\n",
       "    <tr>\n",
       "      <th>много объектов</th>\n",
       "      <td>11</td>\n",
       "    </tr>\n",
       "    <tr>\n",
       "      <th>среднее количество объектов</th>\n",
       "      <td>12</td>\n",
       "    </tr>\n",
       "  </tbody>\n",
       "</table>\n",
       "</div>"
      ],
      "text/plain": [
       "                                                     seats_mean_cat\n",
       "seats_mean_cat          objects_count_cat                          \n",
       "мало мест               мало объектов                           141\n",
       "                        много объектов                           21\n",
       "                        среднее количество объектов              27\n",
       "много мест              мало объектов                           119\n",
       "                        много объектов                           12\n",
       "                        среднее количество объектов              23\n",
       "среднее количество мест мало объектов                            77\n",
       "                        много объектов                           11\n",
       "                        среднее количество объектов              12"
      ]
     },
     "execution_count": 46,
     "metadata": {},
     "output_type": "execute_result"
    }
   ],
   "source": [
    "rest_chain.groupby(['seats_mean_cat', 'objects_count_cat'])\\\n",
    "          .agg({'seats_mean_cat':'count'})       "
   ]
  },
  {
   "cell_type": "markdown",
   "metadata": {},
   "source": [
    "Итого у нас преобладают сети с с небольшим количеством мест (до 35) и небольшим количеством объектов (1-3 заведения в Москве) - таких 141 сеть.  \n",
    "Чуть отстают сети с большим количеством мест (более 60) и небольшим количеством объектов - 119 сетей.  \n",
    "Реже всего встречаются сети со средним количеством мест (от 36 до 60) и большим количеством объектов (более 10 заведений)."
   ]
  },
  {
   "cell_type": "markdown",
   "metadata": {},
   "source": [
    "#### Вывод"
   ]
  },
  {
   "cell_type": "markdown",
   "metadata": {},
   "source": [
    "<p></p>\n",
    "\n",
    "<div style=\"border:solid green 2px; padding: 20px\">\n",
    "    \n",
    "В Москве 80% заведений общепита являются несетевыми, 20% - сетевыми. \n",
    "    \n",
    "Сетевая организация бизнеса наиболее характерна для фастфуда (41% заведений этого типа являются сетевыми), а также кафе и ресторанов (23 и 24% соотвтетсвенно). Всего в Москве насчитывается 443 сетевых организации ОП.\n",
    "    \n",
    "У большинства сетевых заведений медианное количество мест выше, чем у несетевых объектов аналогичного типа на 17-33%.\n",
    "\n",
    "Преобладают сети с с небольшим количеством мест (до 35) и небольшим количеством объектов (1-3 заведения в Москве) - 141 сеть из 443 или 32%. Чуть отстают сети с большим количеством мест (более 60) и небольшим количеством объектов - 119 сетей или 27%.\n",
    "</div>"
   ]
  },
  {
   "cell_type": "markdown",
   "metadata": {},
   "source": [
    "### Расположение объектов ОП"
   ]
  },
  {
   "cell_type": "markdown",
   "metadata": {},
   "source": [
    "Проанализируем теперь расположение объектов общепита, для этого используем информацию об улицах и районах."
   ]
  },
  {
   "cell_type": "markdown",
   "metadata": {},
   "source": [
    "#### ТОП-10 улиц с указанием районов по количеству объектов ОП"
   ]
  },
  {
   "cell_type": "markdown",
   "metadata": {},
   "source": [
    "Посмотрим, на каких улицах расположено больше всего объектов ОП:"
   ]
  },
  {
   "cell_type": "code",
   "execution_count": 47,
   "metadata": {},
   "outputs": [
    {
     "data": {
      "text/html": [
       "<div>\n",
       "<style scoped>\n",
       "    .dataframe tbody tr th:only-of-type {\n",
       "        vertical-align: middle;\n",
       "    }\n",
       "\n",
       "    .dataframe tbody tr th {\n",
       "        vertical-align: top;\n",
       "    }\n",
       "\n",
       "    .dataframe thead th {\n",
       "        text-align: right;\n",
       "    }\n",
       "</style>\n",
       "<table border=\"1\" class=\"dataframe\">\n",
       "  <thead>\n",
       "    <tr style=\"text-align: right;\">\n",
       "      <th></th>\n",
       "      <th>object_count</th>\n",
       "    </tr>\n",
       "    <tr>\n",
       "      <th>street</th>\n",
       "      <th></th>\n",
       "    </tr>\n",
       "  </thead>\n",
       "  <tbody>\n",
       "    <tr>\n",
       "      <th>проспект Мира</th>\n",
       "      <td>203</td>\n",
       "    </tr>\n",
       "    <tr>\n",
       "      <th>Профсоюзная улица</th>\n",
       "      <td>182</td>\n",
       "    </tr>\n",
       "    <tr>\n",
       "      <th>Ленинградский проспект</th>\n",
       "      <td>172</td>\n",
       "    </tr>\n",
       "    <tr>\n",
       "      <th>Пресненская набережная</th>\n",
       "      <td>167</td>\n",
       "    </tr>\n",
       "    <tr>\n",
       "      <th>Варшавское шоссе</th>\n",
       "      <td>165</td>\n",
       "    </tr>\n",
       "    <tr>\n",
       "      <th>Ленинский проспект</th>\n",
       "      <td>148</td>\n",
       "    </tr>\n",
       "    <tr>\n",
       "      <th>проспект Вернадского</th>\n",
       "      <td>128</td>\n",
       "    </tr>\n",
       "    <tr>\n",
       "      <th>Кутузовский проспект</th>\n",
       "      <td>114</td>\n",
       "    </tr>\n",
       "    <tr>\n",
       "      <th>Каширское шоссе</th>\n",
       "      <td>111</td>\n",
       "    </tr>\n",
       "    <tr>\n",
       "      <th>Кировоградская улица</th>\n",
       "      <td>108</td>\n",
       "    </tr>\n",
       "  </tbody>\n",
       "</table>\n",
       "</div>"
      ],
      "text/plain": [
       "                        object_count\n",
       "street                              \n",
       "проспект Мира                    203\n",
       "Профсоюзная улица                182\n",
       "Ленинградский проспект           172\n",
       "Пресненская набережная           167\n",
       "Варшавское шоссе                 165\n",
       "Ленинский проспект               148\n",
       "проспект Вернадского             128\n",
       "Кутузовский проспект             114\n",
       "Каширское шоссе                  111\n",
       "Кировоградская улица             108"
      ]
     },
     "execution_count": 47,
     "metadata": {},
     "output_type": "execute_result"
    }
   ],
   "source": [
    "rest_top_srteets = rest.groupby('street')\\\n",
    "                    .agg({'id':'count'})\\\n",
    "                    .sort_values(by='id', ascending=False)\\\n",
    "                    .head(10)\n",
    "\n",
    "rest_top_srteets.columns = ['object_count']\n",
    "rest_top_srteets"
   ]
  },
  {
   "cell_type": "markdown",
   "metadata": {},
   "source": [
    "Присоединим к полученной таблице внешнюю таблицу с районами:"
   ]
  },
  {
   "cell_type": "code",
   "execution_count": 48,
   "metadata": {},
   "outputs": [
    {
     "name": "stdout",
     "output_type": "stream",
     "text": [
      "(48, 3)\n"
     ]
    },
    {
     "data": {
      "text/html": [
       "<div>\n",
       "<style scoped>\n",
       "    .dataframe tbody tr th:only-of-type {\n",
       "        vertical-align: middle;\n",
       "    }\n",
       "\n",
       "    .dataframe tbody tr th {\n",
       "        vertical-align: top;\n",
       "    }\n",
       "\n",
       "    .dataframe thead th {\n",
       "        text-align: right;\n",
       "    }\n",
       "</style>\n",
       "<table border=\"1\" class=\"dataframe\">\n",
       "  <thead>\n",
       "    <tr style=\"text-align: right;\">\n",
       "      <th></th>\n",
       "      <th>street</th>\n",
       "      <th>object_count</th>\n",
       "      <th>area</th>\n",
       "    </tr>\n",
       "  </thead>\n",
       "  <tbody>\n",
       "    <tr>\n",
       "      <th>0</th>\n",
       "      <td>проспект Мира</td>\n",
       "      <td>203</td>\n",
       "      <td>Алексеевский район</td>\n",
       "    </tr>\n",
       "    <tr>\n",
       "      <th>1</th>\n",
       "      <td>проспект Мира</td>\n",
       "      <td>203</td>\n",
       "      <td>Ярославский Район</td>\n",
       "    </tr>\n",
       "    <tr>\n",
       "      <th>2</th>\n",
       "      <td>проспект Мира</td>\n",
       "      <td>203</td>\n",
       "      <td>Район Марьина роща</td>\n",
       "    </tr>\n",
       "    <tr>\n",
       "      <th>3</th>\n",
       "      <td>проспект Мира</td>\n",
       "      <td>203</td>\n",
       "      <td>Останкинский район</td>\n",
       "    </tr>\n",
       "    <tr>\n",
       "      <th>4</th>\n",
       "      <td>проспект Мира</td>\n",
       "      <td>203</td>\n",
       "      <td>Район Ростокино</td>\n",
       "    </tr>\n",
       "  </tbody>\n",
       "</table>\n",
       "</div>"
      ],
      "text/plain": [
       "          street  object_count                area\n",
       "0  проспект Мира           203  Алексеевский район\n",
       "1  проспект Мира           203   Ярославский Район\n",
       "2  проспект Мира           203  Район Марьина роща\n",
       "3  проспект Мира           203  Останкинский район\n",
       "4  проспект Мира           203     Район Ростокино"
      ]
     },
     "execution_count": 48,
     "metadata": {},
     "output_type": "execute_result"
    }
   ],
   "source": [
    "top_streets_areas = rest_top_srteets.merge(mosgaz, on='street', how='left')\n",
    "print(top_streets_areas.shape)\n",
    "top_streets_areas.head()"
   ]
  },
  {
   "cell_type": "markdown",
   "metadata": {},
   "source": [
    "В нашей новой объединенной таблице 48 строк, т.к. одна и та же улица проходит через несколько районов. Посчитаем количество районов для каждой улицы:"
   ]
  },
  {
   "cell_type": "code",
   "execution_count": 49,
   "metadata": {},
   "outputs": [
    {
     "data": {
      "text/html": [
       "<div>\n",
       "<style scoped>\n",
       "    .dataframe tbody tr th:only-of-type {\n",
       "        vertical-align: middle;\n",
       "    }\n",
       "\n",
       "    .dataframe tbody tr th {\n",
       "        vertical-align: top;\n",
       "    }\n",
       "\n",
       "    .dataframe thead th {\n",
       "        text-align: right;\n",
       "    }\n",
       "</style>\n",
       "<table border=\"1\" class=\"dataframe\">\n",
       "  <thead>\n",
       "    <tr style=\"text-align: right;\">\n",
       "      <th></th>\n",
       "      <th>area</th>\n",
       "    </tr>\n",
       "    <tr>\n",
       "      <th>street</th>\n",
       "      <th></th>\n",
       "    </tr>\n",
       "  </thead>\n",
       "  <tbody>\n",
       "    <tr>\n",
       "      <th>Варшавское шоссе</th>\n",
       "      <td>8</td>\n",
       "    </tr>\n",
       "    <tr>\n",
       "      <th>Ленинский проспект</th>\n",
       "      <td>8</td>\n",
       "    </tr>\n",
       "    <tr>\n",
       "      <th>проспект Мира</th>\n",
       "      <td>7</td>\n",
       "    </tr>\n",
       "    <tr>\n",
       "      <th>Профсоюзная улица</th>\n",
       "      <td>6</td>\n",
       "    </tr>\n",
       "    <tr>\n",
       "      <th>проспект Вернадского</th>\n",
       "      <td>5</td>\n",
       "    </tr>\n",
       "    <tr>\n",
       "      <th>Каширское шоссе</th>\n",
       "      <td>4</td>\n",
       "    </tr>\n",
       "    <tr>\n",
       "      <th>Ленинградский проспект</th>\n",
       "      <td>4</td>\n",
       "    </tr>\n",
       "    <tr>\n",
       "      <th>Кировоградская улица</th>\n",
       "      <td>3</td>\n",
       "    </tr>\n",
       "    <tr>\n",
       "      <th>Кутузовский проспект</th>\n",
       "      <td>2</td>\n",
       "    </tr>\n",
       "    <tr>\n",
       "      <th>Пресненская набережная</th>\n",
       "      <td>1</td>\n",
       "    </tr>\n",
       "  </tbody>\n",
       "</table>\n",
       "</div>"
      ],
      "text/plain": [
       "                        area\n",
       "street                      \n",
       "Варшавское шоссе           8\n",
       "Ленинский проспект         8\n",
       "проспект Мира              7\n",
       "Профсоюзная улица          6\n",
       "проспект Вернадского       5\n",
       "Каширское шоссе            4\n",
       "Ленинградский проспект     4\n",
       "Кировоградская улица       3\n",
       "Кутузовский проспект       2\n",
       "Пресненская набережная     1"
      ]
     },
     "execution_count": 49,
     "metadata": {},
     "output_type": "execute_result"
    }
   ],
   "source": [
    "top_streets_areas.groupby('street')\\\n",
    "                .agg({'area':'count'})\\\n",
    "                .sort_values(by='area', ascending=False)"
   ]
  },
  {
   "cell_type": "markdown",
   "metadata": {},
   "source": [
    "Если взглянуть на карту, большинство этих улиц \n",
    "- достаточно протяженные, \n",
    "- идущие радиусами от центральной части к периферии Москвы,\n",
    "- являются крупными транспортными магистралями,\n",
    "- на них расположены станции метро.\n",
    "\n",
    "Не удивительно, что они вошли в топ-10 по количеству заведений общепита, протяженность и доступность с точки зрения инфраструктуры способствуют появлению большого количества объектов. При этом плотность заведений там может быть обычная (за счет протяженности), а значит и конкуренция будет умеренная.\n",
    "\n",
    "Исключение - Пресненская набережная, которая относительно короткая и проходит всего через 1 район. При этом на ней расположено 167 заведений - это очень высокая плотность, которая свидетельствует как о высокой востребованности (проходимости), так и о высокой конкуренции (\"кровавый океан\"). \n",
    "\n",
    "Конечно, для полноты картины нам не хватает данных о трафике и степени удовлетворенности спроса на каждой улице. Мы не можем определить локации, где спрос превышает предложение (в идеале именно там и следовало бы разместить наше кафе), а где предложение уже избыточно (в таких местах точно не стоит размещать новое кафе). Но на всякий случай не будем рисковать и рассматривать Пресненскую набережную. А вот остальные топ-9 улиц вполне подходят.\n",
    "\n",
    "Выведем список всех районов, через которые проходят улицы-лидеры:"
   ]
  },
  {
   "cell_type": "code",
   "execution_count": 50,
   "metadata": {},
   "outputs": [
    {
     "name": "stdout",
     "output_type": "stream",
     "text": [
      "37\n"
     ]
    },
    {
     "data": {
      "text/plain": [
       "array(['Алексеевский район', 'Ярославский Район', 'Район Марьина роща',\n",
       "       'Останкинский район', 'Район Ростокино', 'Район Свиблово',\n",
       "       'Мещанский район', 'Академический район', 'Район Черемушки',\n",
       "       'Район Ясенево', 'Район Коньково', 'Обручевский район',\n",
       "       'Район Теплый Стан', 'Район Аэропорт', 'Район Беговой',\n",
       "       'Хорошевский район', 'Район Сокол', 'Пресненский район',\n",
       "       'Район Чертаново Центральное', 'Район Чертаново Северное',\n",
       "       'Район Чертаново Южное', 'Донской район',\n",
       "       'Район Нагатино-Садовники', 'Нагорный район',\n",
       "       'Район Северное Бутово', 'Район Южное Бутово',\n",
       "       'Район Проспект Вернадского', 'Район Тропарево-Никулино',\n",
       "       'Район Гагаринский', 'Ломоносовский район', 'Район Якиманка',\n",
       "       'Район Раменки', 'Район Дорогомилово', 'Район Фили-Давыдково',\n",
       "       'Район Москворечье-Сабурово', 'Район Орехово-Борисово Южное',\n",
       "       'Район Орехово-Борисово Северное'], dtype=object)"
      ]
     },
     "execution_count": 50,
     "metadata": {},
     "output_type": "execute_result"
    }
   ],
   "source": [
    "print(top_streets_areas.area.nunique())\n",
    "top_streets_areas.area.unique()"
   ]
  },
  {
   "cell_type": "markdown",
   "metadata": {},
   "source": [
    "Улицы-лидеры расположены в центре и проходят по 37 районам Москвы из 123, это 30%. Т.е. выбор локации у нас достаточно велик."
   ]
  },
  {
   "cell_type": "markdown",
   "metadata": {},
   "source": [
    "#### Улицы с одним объектом ОП"
   ]
  },
  {
   "cell_type": "markdown",
   "metadata": {},
   "source": [
    "Теперь посмотрим на улицы, на которых расположен всего лишь один объект ОП:"
   ]
  },
  {
   "cell_type": "code",
   "execution_count": 51,
   "metadata": {},
   "outputs": [
    {
     "name": "stdout",
     "output_type": "stream",
     "text": [
      "(571, 1)\n"
     ]
    },
    {
     "data": {
      "text/html": [
       "<div>\n",
       "<style scoped>\n",
       "    .dataframe tbody tr th:only-of-type {\n",
       "        vertical-align: middle;\n",
       "    }\n",
       "\n",
       "    .dataframe tbody tr th {\n",
       "        vertical-align: top;\n",
       "    }\n",
       "\n",
       "    .dataframe thead th {\n",
       "        text-align: right;\n",
       "    }\n",
       "</style>\n",
       "<table border=\"1\" class=\"dataframe\">\n",
       "  <thead>\n",
       "    <tr style=\"text-align: right;\">\n",
       "      <th></th>\n",
       "      <th>id</th>\n",
       "    </tr>\n",
       "    <tr>\n",
       "      <th>street</th>\n",
       "      <th></th>\n",
       "    </tr>\n",
       "  </thead>\n",
       "  <tbody>\n",
       "    <tr>\n",
       "      <th>1-й Балтийский переулок</th>\n",
       "      <td>1</td>\n",
       "    </tr>\n",
       "    <tr>\n",
       "      <th>1-й Басманный переулок</th>\n",
       "      <td>1</td>\n",
       "    </tr>\n",
       "    <tr>\n",
       "      <th>1-й Ботанический проезд</th>\n",
       "      <td>1</td>\n",
       "    </tr>\n",
       "    <tr>\n",
       "      <th>1-й Вешняковский проезд</th>\n",
       "      <td>1</td>\n",
       "    </tr>\n",
       "    <tr>\n",
       "      <th>1-й Голутвинский переулок</th>\n",
       "      <td>1</td>\n",
       "    </tr>\n",
       "  </tbody>\n",
       "</table>\n",
       "</div>"
      ],
      "text/plain": [
       "                           id\n",
       "street                       \n",
       "1-й Балтийский переулок     1\n",
       "1-й Басманный переулок      1\n",
       "1-й Ботанический проезд     1\n",
       "1-й Вешняковский проезд     1\n",
       "1-й Голутвинский переулок   1"
      ]
     },
     "execution_count": 51,
     "metadata": {},
     "output_type": "execute_result"
    }
   ],
   "source": [
    "one_object_streets = rest.groupby('street')\\\n",
    "                    .agg({'id':'count'})\\\n",
    "                    .query('id == 1')\n",
    "print(one_object_streets.shape)\n",
    "one_object_streets.head()"
   ]
  },
  {
   "cell_type": "markdown",
   "metadata": {},
   "source": [
    "Получили 571 улицу с единичными заведениями общепита. Сопоставим эти улицы с районами:"
   ]
  },
  {
   "cell_type": "code",
   "execution_count": 52,
   "metadata": {},
   "outputs": [
    {
     "name": "stdout",
     "output_type": "stream",
     "text": [
      "(617, 3)\n"
     ]
    },
    {
     "data": {
      "text/html": [
       "<div>\n",
       "<style scoped>\n",
       "    .dataframe tbody tr th:only-of-type {\n",
       "        vertical-align: middle;\n",
       "    }\n",
       "\n",
       "    .dataframe tbody tr th {\n",
       "        vertical-align: top;\n",
       "    }\n",
       "\n",
       "    .dataframe thead th {\n",
       "        text-align: right;\n",
       "    }\n",
       "</style>\n",
       "<table border=\"1\" class=\"dataframe\">\n",
       "  <thead>\n",
       "    <tr style=\"text-align: right;\">\n",
       "      <th></th>\n",
       "      <th>street</th>\n",
       "      <th>id</th>\n",
       "      <th>area</th>\n",
       "    </tr>\n",
       "  </thead>\n",
       "  <tbody>\n",
       "    <tr>\n",
       "      <th>0</th>\n",
       "      <td>1-й Балтийский переулок</td>\n",
       "      <td>1</td>\n",
       "      <td>Район Аэропорт</td>\n",
       "    </tr>\n",
       "    <tr>\n",
       "      <th>1</th>\n",
       "      <td>1-й Басманный переулок</td>\n",
       "      <td>1</td>\n",
       "      <td>Басманный район</td>\n",
       "    </tr>\n",
       "    <tr>\n",
       "      <th>2</th>\n",
       "      <td>1-й Басманный переулок</td>\n",
       "      <td>1</td>\n",
       "      <td>Красносельский район</td>\n",
       "    </tr>\n",
       "    <tr>\n",
       "      <th>3</th>\n",
       "      <td>1-й Ботанический проезд</td>\n",
       "      <td>1</td>\n",
       "      <td>Район Свиблово</td>\n",
       "    </tr>\n",
       "    <tr>\n",
       "      <th>4</th>\n",
       "      <td>1-й Вешняковский проезд</td>\n",
       "      <td>1</td>\n",
       "      <td>Рязанский район</td>\n",
       "    </tr>\n",
       "  </tbody>\n",
       "</table>\n",
       "</div>"
      ],
      "text/plain": [
       "                    street  id                  area\n",
       "0  1-й Балтийский переулок   1        Район Аэропорт\n",
       "1   1-й Басманный переулок   1       Басманный район\n",
       "2   1-й Басманный переулок   1  Красносельский район\n",
       "3  1-й Ботанический проезд   1        Район Свиблово\n",
       "4  1-й Вешняковский проезд   1       Рязанский район"
      ]
     },
     "execution_count": 52,
     "metadata": {},
     "output_type": "execute_result"
    }
   ],
   "source": [
    "one_object_street_areas = one_object_streets.merge(mosgaz, on='street', how='left')\n",
    "print(one_object_street_areas.shape)\n",
    "one_object_street_areas.head()"
   ]
  },
  {
   "cell_type": "markdown",
   "metadata": {},
   "source": [
    "Получили 617 строк, некоторые улицы с одним объектом ОП тоже проходят через несколько районов. Изучим список этих улиц и проверим их на карте (вдруг это длинные и удобно расположенные улицы, до которых еще не добрались заведения-конкуренты):"
   ]
  },
  {
   "cell_type": "code",
   "execution_count": 53,
   "metadata": {},
   "outputs": [
    {
     "name": "stdout",
     "output_type": "stream",
     "text": [
      "(42, 1)\n"
     ]
    },
    {
     "data": {
      "text/html": [
       "<div>\n",
       "<style scoped>\n",
       "    .dataframe tbody tr th:only-of-type {\n",
       "        vertical-align: middle;\n",
       "    }\n",
       "\n",
       "    .dataframe tbody tr th {\n",
       "        vertical-align: top;\n",
       "    }\n",
       "\n",
       "    .dataframe thead th {\n",
       "        text-align: right;\n",
       "    }\n",
       "</style>\n",
       "<table border=\"1\" class=\"dataframe\">\n",
       "  <thead>\n",
       "    <tr style=\"text-align: right;\">\n",
       "      <th></th>\n",
       "      <th>area</th>\n",
       "    </tr>\n",
       "    <tr>\n",
       "      <th>street</th>\n",
       "      <th></th>\n",
       "    </tr>\n",
       "  </thead>\n",
       "  <tbody>\n",
       "    <tr>\n",
       "      <th>11-я Парковая улица</th>\n",
       "      <td>3</td>\n",
       "    </tr>\n",
       "    <tr>\n",
       "      <th>Хавская улица</th>\n",
       "      <td>3</td>\n",
       "    </tr>\n",
       "    <tr>\n",
       "      <th>улица Достоевского</th>\n",
       "      <td>3</td>\n",
       "    </tr>\n",
       "    <tr>\n",
       "      <th>Нарвская улица</th>\n",
       "      <td>3</td>\n",
       "    </tr>\n",
       "    <tr>\n",
       "      <th>1-й Басманный переулок</th>\n",
       "      <td>2</td>\n",
       "    </tr>\n",
       "    <tr>\n",
       "      <th>Черноморский бульвар</th>\n",
       "      <td>2</td>\n",
       "    </tr>\n",
       "    <tr>\n",
       "      <th>Средняя Калитниковская улица</th>\n",
       "      <td>2</td>\n",
       "    </tr>\n",
       "    <tr>\n",
       "      <th>Утренняя улица</th>\n",
       "      <td>2</td>\n",
       "    </tr>\n",
       "    <tr>\n",
       "      <th>Фруктовая улица</th>\n",
       "      <td>2</td>\n",
       "    </tr>\n",
       "    <tr>\n",
       "      <th>Хлебный переулок</th>\n",
       "      <td>2</td>\n",
       "    </tr>\n",
       "  </tbody>\n",
       "</table>\n",
       "</div>"
      ],
      "text/plain": [
       "                              area\n",
       "street                            \n",
       "11-я Парковая улица              3\n",
       "Хавская улица                    3\n",
       "улица Достоевского               3\n",
       "Нарвская улица                   3\n",
       "1-й Басманный переулок           2\n",
       "Черноморский бульвар             2\n",
       "Средняя Калитниковская улица     2\n",
       "Утренняя улица                   2\n",
       "Фруктовая улица                  2\n",
       "Хлебный переулок                 2"
      ]
     },
     "execution_count": 53,
     "metadata": {},
     "output_type": "execute_result"
    }
   ],
   "source": [
    "long_streets = one_object_street_areas.groupby('street')\\\n",
    "                        .agg({'area':'count'})\\\n",
    "                        .query('area > 1')\\\n",
    "                        .sort_values(by='area', ascending=False)\n",
    "print(long_streets.shape)\n",
    "long_streets.head(10)"
   ]
  },
  {
   "cell_type": "markdown",
   "metadata": {},
   "source": [
    "Изучив карту Москвы, можно сделать вывод, сто данные улицы: \n",
    "- расположены между Садовым кольцом и МКАД, \n",
    "- не являются крупными магистралями, \n",
    "- достаточно короткие, несмотря на то, что проходят по нескольким районам, \n",
    "- многие из них расположены в \"спальных\" районах (рядом школы, детские сады, больницы и жилая застройка),\n",
    "- на многих нет ни одной станции метро.\n",
    "\n",
    "Такие улицы точно не стоит рассматривать в качестве локации для нашего роботокафе."
   ]
  },
  {
   "cell_type": "markdown",
   "metadata": {},
   "source": [
    "Посмотрим, в каких районах расположены улицы с единственным заведением:"
   ]
  },
  {
   "cell_type": "code",
   "execution_count": 54,
   "metadata": {},
   "outputs": [
    {
     "name": "stdout",
     "output_type": "stream",
     "text": [
      "101\n"
     ]
    },
    {
     "data": {
      "text/plain": [
       "array(['Район Аэропорт', 'Басманный район', 'Красносельский район',\n",
       "       'Район Свиблово', 'Рязанский район', 'Район Якиманка', nan,\n",
       "       'Район Хамовники', 'Район Соколиная Гора', 'Даниловский район',\n",
       "       'Мещанский район', 'Таганский район', 'Район Лефортово',\n",
       "       'Район Печатники', 'Район Сокольники', 'Район Замоскворечье',\n",
       "       'Хорошевский район', 'Район Арбат', 'Алексеевский район',\n",
       "       'Район Текстильщики', 'Район Ростокино', 'Район Раменки',\n",
       "       'Район Хорошево-Мневники', 'Район Покровское-Стрешнево',\n",
       "       'Район Марьина роща', 'Район Богородское', 'Нижегородский район',\n",
       "       'Тверской район', 'Лосиноостровский район', 'Район Преображенское',\n",
       "       'Район Ново-Переделкино', 'Район Измайлово',\n",
       "       'Район Северное Измайлово', 'Район Восточное Измайлово',\n",
       "       'Район Беговой', 'Донской район', 'Район Гольяново',\n",
       "       'Войковский Район', 'Савеловский район', 'Район Филевский Парк',\n",
       "       'Район Перово', 'Район Чертаново Южное', 'Южнопортовый Район',\n",
       "       'Головинский район', 'Район Южное Бутово', 'Останкинский район',\n",
       "       'Район Сокол', 'Район Северный', 'Район Кунцево', 'Район Люблино',\n",
       "       'Тимирязевский Район', 'Район Внуково', 'Бескудниковский Район',\n",
       "       'Район Зюзино', 'Пресненский район', 'Район Солнцево',\n",
       "       'Дмитровский район', 'Район Метрогородок', 'Район Митино',\n",
       "       'Можайский Район', 'Район Кузьминки', 'Район Черемушки',\n",
       "       'Район Косино-Ухтомский', 'Район Коптево', 'Район Выхино-Жулебино',\n",
       "       'Район Куркино', 'Ярославский Район', 'Район Бирюлево Восточное',\n",
       "       'Район Гагаринский', 'Район Котловка', 'Район Южное Тушино',\n",
       "       'Район Строгино', 'Район Отрадное', 'Район Матушкино-Савелки',\n",
       "       'Бабушкинский район', 'Район Дорогомилово', 'Район Марьино',\n",
       "       'Район Левобережный', 'Молжаниновский район',\n",
       "       'Район Очаково-Матвеевское', 'Район Ивановское',\n",
       "       'Район Западное Дегунино', 'Район Северное Медведково',\n",
       "       'Нагорный район', 'Панфиловский район', 'Район Новогиреево',\n",
       "       'Район Царицыно', 'Алтуфьевский район', 'Район Чертаново Северное',\n",
       "       'Район Ясенево', 'Район Северное Бутово', 'Район Южное Медведково',\n",
       "       'Район Восточный', 'Район Коньково', 'Район Марфино',\n",
       "       'Обручевский район', 'Район Крюково', 'Район Щукино',\n",
       "       'Бутырский район', 'Район Лианозово', 'Район Фили-Давыдково',\n",
       "       'Район Москворечье-Сабурово'], dtype=object)"
      ]
     },
     "execution_count": 54,
     "metadata": {},
     "output_type": "execute_result"
    }
   ],
   "source": [
    "print(one_object_street_areas.area.nunique())\n",
    "one_object_street_areas.area.unique()"
   ]
  },
  {
   "cell_type": "markdown",
   "metadata": {},
   "source": [
    "Улицы с одним-единственным заведением общепита находятся в 101 районе Москвы из 123."
   ]
  },
  {
   "cell_type": "markdown",
   "metadata": {},
   "source": [
    "#### Улицы с большим количеством объектов ОП: число посадочных мест"
   ]
  },
  {
   "cell_type": "markdown",
   "metadata": {},
   "source": [
    "Изучим наши топ-10 улиц с точки зрения распределения посадочных мест. Косвенно это может рассказать нам о проходимости. Сначала выведем список улиц-лидеров по количеству заведений:"
   ]
  },
  {
   "cell_type": "code",
   "execution_count": 55,
   "metadata": {},
   "outputs": [
    {
     "data": {
      "text/plain": [
       "array(['проспект Мира', 'Профсоюзная улица', 'Ленинградский проспект',\n",
       "       'Пресненская набережная', 'Варшавское шоссе', 'Ленинский проспект',\n",
       "       'проспект Вернадского', 'Кутузовский проспект', 'Каширское шоссе',\n",
       "       'Кировоградская улица'], dtype=object)"
      ]
     },
     "execution_count": 55,
     "metadata": {},
     "output_type": "execute_result"
    }
   ],
   "source": [
    "top_streets = rest_top_srteets.reset_index().street.unique()\n",
    "top_streets"
   ]
  },
  {
   "cell_type": "markdown",
   "metadata": {},
   "source": [
    "Теперь отфильтруем исходный датасет по этим улицам:"
   ]
  },
  {
   "cell_type": "code",
   "execution_count": 56,
   "metadata": {},
   "outputs": [
    {
     "name": "stdout",
     "output_type": "stream",
     "text": [
      "(1498, 7)\n"
     ]
    },
    {
     "data": {
      "text/html": [
       "<div>\n",
       "<style scoped>\n",
       "    .dataframe tbody tr th:only-of-type {\n",
       "        vertical-align: middle;\n",
       "    }\n",
       "\n",
       "    .dataframe tbody tr th {\n",
       "        vertical-align: top;\n",
       "    }\n",
       "\n",
       "    .dataframe thead th {\n",
       "        text-align: right;\n",
       "    }\n",
       "</style>\n",
       "<table border=\"1\" class=\"dataframe\">\n",
       "  <thead>\n",
       "    <tr style=\"text-align: right;\">\n",
       "      <th></th>\n",
       "      <th>id</th>\n",
       "      <th>object_name</th>\n",
       "      <th>chain</th>\n",
       "      <th>object_type</th>\n",
       "      <th>address</th>\n",
       "      <th>number</th>\n",
       "      <th>street</th>\n",
       "    </tr>\n",
       "  </thead>\n",
       "  <tbody>\n",
       "    <tr>\n",
       "      <th>151</th>\n",
       "      <td>155973</td>\n",
       "      <td>кафе андерсон</td>\n",
       "      <td>сеть</td>\n",
       "      <td>кафе</td>\n",
       "      <td>город Москва, Варшавское шоссе, дом 2</td>\n",
       "      <td>150</td>\n",
       "      <td>Варшавское шоссе</td>\n",
       "    </tr>\n",
       "    <tr>\n",
       "      <th>152</th>\n",
       "      <td>23618</td>\n",
       "      <td>subway</td>\n",
       "      <td>сеть</td>\n",
       "      <td>кафе</td>\n",
       "      <td>город Москва, Варшавское шоссе, дом 7, корпус 1</td>\n",
       "      <td>36</td>\n",
       "      <td>Варшавское шоссе</td>\n",
       "    </tr>\n",
       "    <tr>\n",
       "      <th>153</th>\n",
       "      <td>155852</td>\n",
       "      <td>кафе ламаджо</td>\n",
       "      <td>не сеть</td>\n",
       "      <td>кафе</td>\n",
       "      <td>город Москва, Варшавское шоссе, дом 29</td>\n",
       "      <td>30</td>\n",
       "      <td>Варшавское шоссе</td>\n",
       "    </tr>\n",
       "    <tr>\n",
       "      <th>154</th>\n",
       "      <td>152556</td>\n",
       "      <td>шаурма в пите</td>\n",
       "      <td>не сеть</td>\n",
       "      <td>фастфуд</td>\n",
       "      <td>город Москва, Варшавское шоссе, дом 72, корпус 2</td>\n",
       "      <td>0</td>\n",
       "      <td>Варшавское шоссе</td>\n",
       "    </tr>\n",
       "    <tr>\n",
       "      <th>155</th>\n",
       "      <td>120658</td>\n",
       "      <td>выпечка</td>\n",
       "      <td>не сеть</td>\n",
       "      <td>прочие</td>\n",
       "      <td>город Москва, Варшавское шоссе, дом 100</td>\n",
       "      <td>2</td>\n",
       "      <td>Варшавское шоссе</td>\n",
       "    </tr>\n",
       "  </tbody>\n",
       "</table>\n",
       "</div>"
      ],
      "text/plain": [
       "         id    object_name    chain object_type  \\\n",
       "151  155973  кафе андерсон     сеть        кафе   \n",
       "152   23618         subway     сеть        кафе   \n",
       "153  155852   кафе ламаджо  не сеть        кафе   \n",
       "154  152556  шаурма в пите  не сеть     фастфуд   \n",
       "155  120658        выпечка  не сеть      прочие   \n",
       "\n",
       "                                              address  number  \\\n",
       "151             город Москва, Варшавское шоссе, дом 2     150   \n",
       "152   город Москва, Варшавское шоссе, дом 7, корпус 1      36   \n",
       "153            город Москва, Варшавское шоссе, дом 29      30   \n",
       "154  город Москва, Варшавское шоссе, дом 72, корпус 2       0   \n",
       "155           город Москва, Варшавское шоссе, дом 100       2   \n",
       "\n",
       "               street  \n",
       "151  Варшавское шоссе  \n",
       "152  Варшавское шоссе  \n",
       "153  Варшавское шоссе  \n",
       "154  Варшавское шоссе  \n",
       "155  Варшавское шоссе  "
      ]
     },
     "execution_count": 56,
     "metadata": {},
     "output_type": "execute_result"
    }
   ],
   "source": [
    "rest_top_streets = rest.query('street in @top_streets')\n",
    "print(rest_top_streets.shape)\n",
    "rest_top_streets.head()"
   ]
  },
  {
   "cell_type": "markdown",
   "metadata": {},
   "source": [
    "На наших улицах-лидерах расположено 1498 заведений ОП. Изучим распределение количества мест в них:"
   ]
  },
  {
   "cell_type": "code",
   "execution_count": 57,
   "metadata": {},
   "outputs": [
    {
     "data": {
      "image/png": "[encoded data removed]",
      "text/plain": [
       "<Figure size 864x288 with 1 Axes>"
      ]
     },
     "metadata": {
      "needs_background": "light"
     },
     "output_type": "display_data"
    }
   ],
   "source": [
    "plt.figure(figsize=(12, 4))\n",
    "sns.barplot(x='object_type', y='number', data=rest_top_streets, \n",
    "            hue='chain') # , estimator=median)  - пробовала поменять на медиану, код выдает ошибку\n",
    "plt.title('Среднее кол-во мест в заведениях ОП, расположенных на топ-10 улиц Москвы')\n",
    "plt.grid(linewidth=0.2)\n",
    "plt.show()"
   ]
  },
  {
   "cell_type": "markdown",
   "metadata": {},
   "source": [
    "Нас интересуют, в первую очередь несетевые заведения, потому что для сети нужна отработанная и проверенная временем бизнес-модель.\n",
    "\n",
    "Средняя вместимость несетевых наиболее популярных типов заведений ОП на топ-10 улиц следующая:\n",
    "- 140 чел. - для столовых,\n",
    "- 100 чел. - для ресторанов,\n",
    "- 40 чел. - для кафе.\n",
    "\n",
    "Открывать сразу большое заведение на 100+ мест - это риск. Во-первых, высокие затраты на аренду, ремонт, содержание помещения и большого штата персонала - все это снижает гибкость и способность к выживанию в случае временных трудностей. А во-вторых, можно не угадать с трафиком и не все места окажутся востребованными. Поэтому в нашем случае оптимальный вариант - кафе вместимостью 40 человек, расположенное на одной из топ-9 улиц (Пресненскую Набережную не рассматриваем из-за слишком высокой конкуренции)."
   ]
  },
  {
   "cell_type": "markdown",
   "metadata": {},
   "source": [
    "#### Вывод"
   ]
  },
  {
   "cell_type": "markdown",
   "metadata": {},
   "source": [
    "<p></p>\n",
    "\n",
    "<div style=\"border:solid green 2px; padding: 20px\">\n",
    "    \n",
    "Наиболее предпочтительные улицы для размещения роботокафе: \n",
    "    \n",
    "    - проспект Мира, \n",
    "    - Профсоюзная улица, \n",
    "    - Ленинградский проспект,\n",
    "    - Варшавское шоссе, \n",
    "    - Ленинский проспект,\n",
    "    - проспект Вернадского, \n",
    "    - Кутузовский проспект, \n",
    "    - Каширское шоссе,\n",
    "    - Кировоградская улица. \n",
    "    \n",
    "Данные улицы проходят по 37 районам Москвы из 123 (30%)     \n",
    "\n",
    "Для заведений, расположенных на этих улицах, характерна следующая вместимость:\n",
    "    - 140 чел. - для столовых,\n",
    "    - 100 чел. - для ресторанов,\n",
    "    - 40 чел. - для кафе.\n",
    "    \n",
    "Оптимальный формат нового заведения - кафе вместимостью на 40 человек. \n",
    "</div>"
   ]
  },
  {
   "cell_type": "markdown",
   "metadata": {},
   "source": [
    "## Выводы и рекомендации"
   ]
  },
  {
   "cell_type": "markdown",
   "metadata": {},
   "source": [
    "<p></p>\n",
    "\n",
    "<div style=\"border:solid green 2px; padding: 20px\">\n",
    "\n",
    "**Общая характеристика рынка**\n",
    "    \n",
    "На момент исследования в Москве насчитывается порядка 15 тыс. объектов общественного питания.\n",
    "    \n",
    "Среди заведений ОП наиболее популярны следующие типы:\n",
    "\n",
    "- кафе (40%) вместимостью от 10 до 50 чел.,\n",
    "- столовые (17%) вместимостью от 50 до 200 чел.,\n",
    "- рестораны (15% ) вместимостью от 50 до 110 чел,\n",
    "- фастфуд (13%) вместимостью от 0 до 30 чел.,\n",
    "- бары (6%) вместимостью от 20 до 50 чел.,\n",
    "- прочие заведения (10%) вместимостью от 0 до 30 чел.\n",
    "    \n",
    "**Сетевые и несетевые заведения**    \n",
    "    \n",
    "80% заведений общепита являются несетевыми, 20% - сетевыми.\n",
    "Сетевая организация бизнеса наиболее характерна для фастфуда (41% заведений этого типа являются сетевыми), а также кафе и ресторанов (23 и 24% соотвтетсвенно). Всего в Москве представлены 443 сети.\n",
    "\n",
    "У большинства сетевых заведений медианное количество мест выше, чем у несетевых объектов аналогичного типа на 17-33%.\n",
    "\n",
    "Преобладают сети с с небольшим количеством мест (до 35) и небольшим количеством объектов (1-3 заведения в Москве) - 141 сеть из 443 или 32%. Чуть отстают сети с большим количеством мест (более 60) и небольшим количеством объектов - 119 сетей или 27%.\n",
    "\n",
    "**Географические характеристики рынка ОП**\n",
    "    \n",
    "Больше всего объектов ОП расположено на улицах:\n",
    "- достаточно протяженных, проходящих через несколько районов,\n",
    "- идущих радиусами от центральной части к периферии Москвы,\n",
    "- являющихся крупными транспортными магистралями,\n",
    "- вдоль которых проложены линии метро.\n",
    "    \n",
    "Для заведений, расположенных на этих улицах, характерна следующая средняя вместимость: \n",
    "- 140 чел. - для столовых, \n",
    "- 100 чел. - для ресторанов, \n",
    "- 40 чел. - для кафе.    \n",
    "    \n",
    "**Рекомендации**    \n",
    "    \n",
    "Оптимальный формат нового заведения - несетевое кафе вместимостью на 30-40 человек. После выхода в стабильный плюс и успешной отработки бизнес-модели можно будет масштабироваться и открывать сеть (добавлять последовательно по одному заведению).\n",
    "    \n",
    "Варианты расположения:    \n",
    "- проспект Мира, \n",
    "- Профсоюзная улица, \n",
    "- Ленинградский проспект, \n",
    "- Варшавское шоссе, \n",
    "- Ленинский проспект, \n",
    "- проспект Вернадского, \n",
    "- Кутузовский проспект, \n",
    "- Каширское шоссе, \n",
    "- Кировоградская улица.\n",
    "\n",
    "Для более точного определения локации необходимы дополнительные данные:\n",
    "- описание целевой аудитории нового заведения,\n",
    "- ценовая политика и средний чек,\n",
    "- ожидаемые показатели рентабельности, период окупаемости, размер инвестиций.\n",
    "    \n",
    "Это позволит проанализировать конкурентов, а также сопоставить имеющиеся ресурсы с ожидаемыми финансовыми результатами.\n",
    "\n",
    "</div>"
   ]
  },
  {
   "cell_type": "markdown",
   "metadata": {},
   "source": [
    "## Презентация"
   ]
  },
  {
   "cell_type": "markdown",
   "metadata": {},
   "source": [
    "Презентация: <https://docs.google.com/presentation/d/1ufy_WnWKEWzga0-SqMQQM_37JHPhz3OQI7vdiI8ptg4/edit?usp=sharing>"
   ]
  }
 ],
 "metadata": {
  "ExecuteTimeLog": [
   {
    "duration": 1821,
    "start_time": "2022-04-17T11:57:52.547Z"
   },
   {
    "duration": 99,
    "start_time": "2022-04-17T11:59:09.311Z"
   },
   {
    "duration": 141,
    "start_time": "2022-04-17T12:01:01.993Z"
   },
   {
    "duration": 62,
    "start_time": "2022-04-17T12:01:09.404Z"
   },
   {
    "duration": 64,
    "start_time": "2022-04-17T12:01:20.405Z"
   },
   {
    "duration": 15,
    "start_time": "2022-04-17T12:03:21.430Z"
   },
   {
    "duration": 4,
    "start_time": "2022-04-17T12:05:40.437Z"
   },
   {
    "duration": 7,
    "start_time": "2022-04-17T12:10:32.688Z"
   },
   {
    "duration": 5,
    "start_time": "2022-04-17T12:10:48.178Z"
   },
   {
    "duration": 19,
    "start_time": "2022-04-17T12:13:40.666Z"
   },
   {
    "duration": 16,
    "start_time": "2022-04-17T12:41:38.922Z"
   },
   {
    "duration": 10,
    "start_time": "2022-04-17T12:46:24.444Z"
   },
   {
    "duration": 10,
    "start_time": "2022-04-17T12:46:36.553Z"
   },
   {
    "duration": 3,
    "start_time": "2022-04-17T12:48:58.089Z"
   },
   {
    "duration": 277,
    "start_time": "2022-04-17T12:49:02.712Z"
   },
   {
    "duration": 9,
    "start_time": "2022-04-17T12:50:04.286Z"
   },
   {
    "duration": 11,
    "start_time": "2022-04-17T12:50:29.663Z"
   },
   {
    "duration": 9,
    "start_time": "2022-04-17T12:50:42.893Z"
   },
   {
    "duration": 161,
    "start_time": "2022-04-17T12:52:26.326Z"
   },
   {
    "duration": 215,
    "start_time": "2022-04-17T12:56:38.302Z"
   },
   {
    "duration": 8,
    "start_time": "2022-04-17T13:00:10.398Z"
   },
   {
    "duration": 4,
    "start_time": "2022-04-17T13:00:32.758Z"
   },
   {
    "duration": 5,
    "start_time": "2022-04-17T13:02:34.744Z"
   },
   {
    "duration": 60,
    "start_time": "2022-04-17T13:05:10.876Z"
   },
   {
    "duration": 241,
    "start_time": "2022-04-17T13:05:49.248Z"
   },
   {
    "duration": 5,
    "start_time": "2022-04-17T13:05:52.343Z"
   },
   {
    "duration": 16,
    "start_time": "2022-04-17T13:05:56.233Z"
   },
   {
    "duration": 18,
    "start_time": "2022-04-17T13:05:59.049Z"
   },
   {
    "duration": 140,
    "start_time": "2022-04-17T13:07:17.770Z"
   },
   {
    "duration": 5,
    "start_time": "2022-04-17T13:07:21.071Z"
   },
   {
    "duration": 26,
    "start_time": "2022-04-17T13:07:23.812Z"
   },
   {
    "duration": 215,
    "start_time": "2022-04-17T13:08:58.697Z"
   },
   {
    "duration": 8,
    "start_time": "2022-04-17T13:09:01.488Z"
   },
   {
    "duration": 18,
    "start_time": "2022-04-17T13:09:06.379Z"
   },
   {
    "duration": 169,
    "start_time": "2022-04-17T13:10:21.041Z"
   },
   {
    "duration": 7,
    "start_time": "2022-04-17T13:10:26.770Z"
   },
   {
    "duration": 29,
    "start_time": "2022-04-17T13:10:29.976Z"
   },
   {
    "duration": 182,
    "start_time": "2022-04-17T13:10:51.256Z"
   },
   {
    "duration": 142,
    "start_time": "2022-04-17T13:11:53.733Z"
   },
   {
    "duration": 161,
    "start_time": "2022-04-17T13:12:54.107Z"
   },
   {
    "duration": 182,
    "start_time": "2022-04-17T13:13:03.707Z"
   },
   {
    "duration": 306,
    "start_time": "2022-04-17T13:13:14.774Z"
   },
   {
    "duration": 6,
    "start_time": "2022-04-17T13:13:26.009Z"
   },
   {
    "duration": 22,
    "start_time": "2022-04-17T13:13:29.210Z"
   },
   {
    "duration": 15,
    "start_time": "2022-04-17T13:13:42.296Z"
   },
   {
    "duration": 12,
    "start_time": "2022-04-17T13:17:01.831Z"
   },
   {
    "duration": 8,
    "start_time": "2022-04-17T13:23:49.835Z"
   },
   {
    "duration": 620,
    "start_time": "2022-04-17T13:24:57.559Z"
   },
   {
    "duration": 381,
    "start_time": "2022-04-17T13:25:25.038Z"
   },
   {
    "duration": 131,
    "start_time": "2022-04-17T13:26:41.829Z"
   },
   {
    "duration": 6,
    "start_time": "2022-04-17T13:26:57.654Z"
   },
   {
    "duration": 15,
    "start_time": "2022-04-17T13:27:15.479Z"
   },
   {
    "duration": 125,
    "start_time": "2022-04-17T13:27:57.646Z"
   },
   {
    "duration": 7,
    "start_time": "2022-04-17T13:28:00.401Z"
   },
   {
    "duration": 16,
    "start_time": "2022-04-17T13:28:06.680Z"
   },
   {
    "duration": 21,
    "start_time": "2022-04-17T13:29:11.832Z"
   },
   {
    "duration": 131,
    "start_time": "2022-04-17T13:29:33.123Z"
   },
   {
    "duration": 6,
    "start_time": "2022-04-17T13:29:35.473Z"
   },
   {
    "duration": 20,
    "start_time": "2022-04-17T13:29:37.419Z"
   },
   {
    "duration": 20,
    "start_time": "2022-04-17T13:30:44.084Z"
   },
   {
    "duration": 15,
    "start_time": "2022-04-17T13:31:19.983Z"
   },
   {
    "duration": 21,
    "start_time": "2022-04-17T13:31:49.684Z"
   },
   {
    "duration": 1315,
    "start_time": "2022-04-19T03:05:48.221Z"
   },
   {
    "duration": 65,
    "start_time": "2022-04-19T03:05:49.538Z"
   },
   {
    "duration": 13,
    "start_time": "2022-04-19T03:05:49.604Z"
   },
   {
    "duration": 10,
    "start_time": "2022-04-19T03:05:49.619Z"
   },
   {
    "duration": 34,
    "start_time": "2022-04-19T03:05:49.630Z"
   },
   {
    "duration": 139,
    "start_time": "2022-04-19T03:05:49.665Z"
   },
   {
    "duration": 5,
    "start_time": "2022-04-19T03:05:49.806Z"
   },
   {
    "duration": 16,
    "start_time": "2022-04-19T03:05:49.812Z"
   },
   {
    "duration": 196,
    "start_time": "2022-04-19T03:05:49.829Z"
   },
   {
    "duration": 8,
    "start_time": "2022-04-19T03:05:50.028Z"
   },
   {
    "duration": 20,
    "start_time": "2022-04-19T03:15:00.848Z"
   },
   {
    "duration": 5,
    "start_time": "2022-04-19T03:15:17.922Z"
   },
   {
    "duration": 119,
    "start_time": "2022-04-19T03:18:35.287Z"
   },
   {
    "duration": 5,
    "start_time": "2022-04-19T03:18:40.221Z"
   },
   {
    "duration": 13,
    "start_time": "2022-04-19T03:18:43.269Z"
   },
   {
    "duration": 14,
    "start_time": "2022-04-19T03:21:16.482Z"
   },
   {
    "duration": 14,
    "start_time": "2022-04-19T03:21:50.098Z"
   },
   {
    "duration": 14,
    "start_time": "2022-04-19T03:22:00.763Z"
   },
   {
    "duration": 15,
    "start_time": "2022-04-19T03:22:09.041Z"
   },
   {
    "duration": 125,
    "start_time": "2022-04-19T03:22:27.843Z"
   },
   {
    "duration": 10,
    "start_time": "2022-04-19T03:22:44.434Z"
   },
   {
    "duration": 4,
    "start_time": "2022-04-19T03:26:26.475Z"
   },
   {
    "duration": 129,
    "start_time": "2022-04-19T03:26:39.637Z"
   },
   {
    "duration": 13,
    "start_time": "2022-04-19T03:26:45.151Z"
   },
   {
    "duration": 9,
    "start_time": "2022-04-19T03:27:09.191Z"
   },
   {
    "duration": 5,
    "start_time": "2022-04-19T03:39:29.920Z"
   },
   {
    "duration": 7,
    "start_time": "2022-04-19T03:39:54.958Z"
   },
   {
    "duration": 14,
    "start_time": "2022-04-19T03:40:12.253Z"
   },
   {
    "duration": 95,
    "start_time": "2022-04-19T03:41:18.021Z"
   },
   {
    "duration": 7,
    "start_time": "2022-04-19T03:41:44.742Z"
   },
   {
    "duration": 10,
    "start_time": "2022-04-19T03:42:40.871Z"
   },
   {
    "duration": 11,
    "start_time": "2022-04-19T03:43:44.410Z"
   },
   {
    "duration": 13,
    "start_time": "2022-04-19T03:44:06.197Z"
   },
   {
    "duration": 13,
    "start_time": "2022-04-19T03:44:23.827Z"
   },
   {
    "duration": 11,
    "start_time": "2022-04-19T03:44:30.995Z"
   },
   {
    "duration": 13,
    "start_time": "2022-04-19T03:44:45.827Z"
   },
   {
    "duration": 12,
    "start_time": "2022-04-19T03:45:14.701Z"
   },
   {
    "duration": 9,
    "start_time": "2022-04-19T03:45:48.357Z"
   },
   {
    "duration": 13,
    "start_time": "2022-04-19T03:46:09.782Z"
   },
   {
    "duration": 13,
    "start_time": "2022-04-19T03:46:13.236Z"
   },
   {
    "duration": 8,
    "start_time": "2022-04-19T03:47:05.025Z"
   },
   {
    "duration": 16,
    "start_time": "2022-04-19T03:50:05.628Z"
   },
   {
    "duration": 18,
    "start_time": "2022-04-19T03:52:51.952Z"
   },
   {
    "duration": 16,
    "start_time": "2022-04-19T03:54:06.481Z"
   },
   {
    "duration": 15,
    "start_time": "2022-04-19T03:54:12.618Z"
   },
   {
    "duration": 12,
    "start_time": "2022-04-19T03:54:19.403Z"
   },
   {
    "duration": 15,
    "start_time": "2022-04-19T03:54:41.784Z"
   },
   {
    "duration": 5,
    "start_time": "2022-04-19T04:03:06.199Z"
   },
   {
    "duration": 7,
    "start_time": "2022-04-19T04:03:23.710Z"
   },
   {
    "duration": 7,
    "start_time": "2022-04-19T04:04:12.303Z"
   },
   {
    "duration": 10,
    "start_time": "2022-04-19T04:04:42.228Z"
   },
   {
    "duration": 5,
    "start_time": "2022-04-19T04:04:45.847Z"
   },
   {
    "duration": 7,
    "start_time": "2022-04-19T04:05:54.069Z"
   },
   {
    "duration": 14,
    "start_time": "2022-04-19T04:07:42.854Z"
   },
   {
    "duration": 1544,
    "start_time": "2022-04-19T04:07:57.864Z"
   },
   {
    "duration": 97,
    "start_time": "2022-04-19T04:07:59.411Z"
   },
   {
    "duration": 18,
    "start_time": "2022-04-19T04:07:59.511Z"
   },
   {
    "duration": 22,
    "start_time": "2022-04-19T04:07:59.531Z"
   },
   {
    "duration": 20,
    "start_time": "2022-04-19T04:07:59.555Z"
   },
   {
    "duration": 126,
    "start_time": "2022-04-19T04:07:59.576Z"
   },
   {
    "duration": 0,
    "start_time": "2022-04-19T04:07:59.704Z"
   },
   {
    "duration": 0,
    "start_time": "2022-04-19T04:07:59.705Z"
   },
   {
    "duration": 0,
    "start_time": "2022-04-19T04:07:59.707Z"
   },
   {
    "duration": 0,
    "start_time": "2022-04-19T04:07:59.708Z"
   },
   {
    "duration": 0,
    "start_time": "2022-04-19T04:07:59.709Z"
   },
   {
    "duration": 0,
    "start_time": "2022-04-19T04:07:59.710Z"
   },
   {
    "duration": 0,
    "start_time": "2022-04-19T04:07:59.711Z"
   },
   {
    "duration": 0,
    "start_time": "2022-04-19T04:07:59.712Z"
   },
   {
    "duration": 0,
    "start_time": "2022-04-19T04:07:59.714Z"
   },
   {
    "duration": 1084,
    "start_time": "2022-04-19T04:08:19.553Z"
   },
   {
    "duration": 64,
    "start_time": "2022-04-19T04:08:20.639Z"
   },
   {
    "duration": 14,
    "start_time": "2022-04-19T04:08:20.704Z"
   },
   {
    "duration": 31,
    "start_time": "2022-04-19T04:08:20.720Z"
   },
   {
    "duration": 21,
    "start_time": "2022-04-19T04:08:20.752Z"
   },
   {
    "duration": 165,
    "start_time": "2022-04-19T04:08:20.775Z"
   },
   {
    "duration": 0,
    "start_time": "2022-04-19T04:08:20.947Z"
   },
   {
    "duration": 0,
    "start_time": "2022-04-19T04:08:20.948Z"
   },
   {
    "duration": 0,
    "start_time": "2022-04-19T04:08:20.950Z"
   },
   {
    "duration": 0,
    "start_time": "2022-04-19T04:08:20.951Z"
   },
   {
    "duration": 0,
    "start_time": "2022-04-19T04:08:20.952Z"
   },
   {
    "duration": 0,
    "start_time": "2022-04-19T04:08:20.953Z"
   },
   {
    "duration": 0,
    "start_time": "2022-04-19T04:08:20.954Z"
   },
   {
    "duration": 0,
    "start_time": "2022-04-19T04:08:20.955Z"
   },
   {
    "duration": 0,
    "start_time": "2022-04-19T04:08:20.956Z"
   },
   {
    "duration": 1126,
    "start_time": "2022-04-19T04:08:50.497Z"
   },
   {
    "duration": 61,
    "start_time": "2022-04-19T04:08:51.625Z"
   },
   {
    "duration": 14,
    "start_time": "2022-04-19T04:08:51.687Z"
   },
   {
    "duration": 8,
    "start_time": "2022-04-19T04:08:51.703Z"
   },
   {
    "duration": 42,
    "start_time": "2022-04-19T04:08:51.713Z"
   },
   {
    "duration": 152,
    "start_time": "2022-04-19T04:08:51.757Z"
   },
   {
    "duration": 5,
    "start_time": "2022-04-19T04:08:51.910Z"
   },
   {
    "duration": 16,
    "start_time": "2022-04-19T04:08:51.916Z"
   },
   {
    "duration": 16,
    "start_time": "2022-04-19T04:08:51.933Z"
   },
   {
    "duration": 12,
    "start_time": "2022-04-19T04:08:51.951Z"
   },
   {
    "duration": 204,
    "start_time": "2022-04-19T04:08:51.965Z"
   },
   {
    "duration": 4,
    "start_time": "2022-04-19T04:08:52.171Z"
   },
   {
    "duration": 14,
    "start_time": "2022-04-19T04:08:52.177Z"
   },
   {
    "duration": 17,
    "start_time": "2022-04-19T04:08:52.192Z"
   },
   {
    "duration": 5,
    "start_time": "2022-04-19T04:08:52.210Z"
   },
   {
    "duration": 7,
    "start_time": "2022-04-19T04:11:06.131Z"
   },
   {
    "duration": 7,
    "start_time": "2022-04-19T04:11:41.540Z"
   },
   {
    "duration": 10,
    "start_time": "2022-04-19T04:15:07.099Z"
   },
   {
    "duration": 97,
    "start_time": "2022-04-19T04:16:19.217Z"
   },
   {
    "duration": 12,
    "start_time": "2022-04-19T04:16:41.361Z"
   },
   {
    "duration": 9,
    "start_time": "2022-04-19T04:17:10.375Z"
   },
   {
    "duration": 12,
    "start_time": "2022-04-19T04:17:22.712Z"
   },
   {
    "duration": 13,
    "start_time": "2022-04-19T04:17:40.929Z"
   },
   {
    "duration": 4,
    "start_time": "2022-04-19T04:18:19.623Z"
   },
   {
    "duration": 13,
    "start_time": "2022-04-19T04:20:46.131Z"
   },
   {
    "duration": 5,
    "start_time": "2022-04-19T04:21:59.660Z"
   },
   {
    "duration": 14,
    "start_time": "2022-04-19T04:25:32.123Z"
   },
   {
    "duration": 9,
    "start_time": "2022-04-19T04:27:53.159Z"
   },
   {
    "duration": 14,
    "start_time": "2022-04-19T04:30:54.573Z"
   },
   {
    "duration": 20,
    "start_time": "2022-04-19T04:31:06.484Z"
   },
   {
    "duration": 26,
    "start_time": "2022-04-19T04:31:26.482Z"
   },
   {
    "duration": 13,
    "start_time": "2022-04-19T04:43:11.209Z"
   },
   {
    "duration": 1108,
    "start_time": "2022-04-19T04:43:17.567Z"
   },
   {
    "duration": 60,
    "start_time": "2022-04-19T04:43:18.677Z"
   },
   {
    "duration": 19,
    "start_time": "2022-04-19T04:43:18.747Z"
   },
   {
    "duration": 10,
    "start_time": "2022-04-19T04:43:18.768Z"
   },
   {
    "duration": 19,
    "start_time": "2022-04-19T04:43:18.781Z"
   },
   {
    "duration": 185,
    "start_time": "2022-04-19T04:43:18.802Z"
   },
   {
    "duration": 5,
    "start_time": "2022-04-19T04:43:18.988Z"
   },
   {
    "duration": 17,
    "start_time": "2022-04-19T04:43:18.994Z"
   },
   {
    "duration": 39,
    "start_time": "2022-04-19T04:43:19.012Z"
   },
   {
    "duration": 15,
    "start_time": "2022-04-19T04:43:19.054Z"
   },
   {
    "duration": 201,
    "start_time": "2022-04-19T04:43:19.071Z"
   },
   {
    "duration": 6,
    "start_time": "2022-04-19T04:43:19.275Z"
   },
   {
    "duration": 13,
    "start_time": "2022-04-19T04:43:19.283Z"
   },
   {
    "duration": 16,
    "start_time": "2022-04-19T04:43:19.298Z"
   },
   {
    "duration": 47,
    "start_time": "2022-04-19T04:43:19.315Z"
   },
   {
    "duration": 9,
    "start_time": "2022-04-19T04:43:19.364Z"
   },
   {
    "duration": 113,
    "start_time": "2022-04-19T04:43:19.374Z"
   },
   {
    "duration": 14,
    "start_time": "2022-04-19T04:46:01.299Z"
   },
   {
    "duration": 12,
    "start_time": "2022-04-19T04:46:09.389Z"
   },
   {
    "duration": 10,
    "start_time": "2022-04-19T04:46:51.457Z"
   },
   {
    "duration": 3,
    "start_time": "2022-04-19T04:47:29.864Z"
   },
   {
    "duration": 4,
    "start_time": "2022-04-19T04:48:05.082Z"
   },
   {
    "duration": 15,
    "start_time": "2022-04-19T04:49:59.418Z"
   },
   {
    "duration": 15,
    "start_time": "2022-04-19T04:50:02.146Z"
   },
   {
    "duration": 15,
    "start_time": "2022-04-19T04:52:46.735Z"
   },
   {
    "duration": 21,
    "start_time": "2022-04-19T05:09:33.119Z"
   },
   {
    "duration": 38,
    "start_time": "2022-04-19T05:09:41.826Z"
   },
   {
    "duration": 26,
    "start_time": "2022-04-19T05:09:59.445Z"
   },
   {
    "duration": 5,
    "start_time": "2022-04-19T05:10:12.103Z"
   },
   {
    "duration": 197,
    "start_time": "2022-04-19T05:14:14.593Z"
   },
   {
    "duration": 5,
    "start_time": "2022-04-19T05:14:18.206Z"
   },
   {
    "duration": 12,
    "start_time": "2022-04-19T05:14:30.341Z"
   },
   {
    "duration": 16,
    "start_time": "2022-04-19T05:14:42.221Z"
   },
   {
    "duration": 14,
    "start_time": "2022-04-19T05:14:55.095Z"
   },
   {
    "duration": 9,
    "start_time": "2022-04-19T05:15:01.283Z"
   },
   {
    "duration": 3,
    "start_time": "2022-04-19T05:15:07.038Z"
   },
   {
    "duration": 3,
    "start_time": "2022-04-19T05:15:09.741Z"
   },
   {
    "duration": 11,
    "start_time": "2022-04-19T05:15:27.677Z"
   },
   {
    "duration": 38,
    "start_time": "2022-04-19T05:15:39.612Z"
   },
   {
    "duration": 30,
    "start_time": "2022-04-19T05:15:50.860Z"
   },
   {
    "duration": 29,
    "start_time": "2022-04-19T05:16:21.376Z"
   },
   {
    "duration": 36,
    "start_time": "2022-04-19T05:17:04.630Z"
   },
   {
    "duration": 31,
    "start_time": "2022-04-19T05:18:04.078Z"
   },
   {
    "duration": 5,
    "start_time": "2022-04-19T05:19:49.868Z"
   },
   {
    "duration": 16,
    "start_time": "2022-04-19T05:20:05.242Z"
   },
   {
    "duration": 16,
    "start_time": "2022-04-19T05:20:16.027Z"
   },
   {
    "duration": 19,
    "start_time": "2022-04-19T05:20:28.065Z"
   },
   {
    "duration": 30,
    "start_time": "2022-04-19T05:21:05.231Z"
   },
   {
    "duration": 15,
    "start_time": "2022-04-19T05:21:50.436Z"
   },
   {
    "duration": 5,
    "start_time": "2022-04-19T05:22:25.759Z"
   },
   {
    "duration": 15,
    "start_time": "2022-04-19T05:24:23.606Z"
   },
   {
    "duration": 14,
    "start_time": "2022-04-19T05:24:44.473Z"
   },
   {
    "duration": 38,
    "start_time": "2022-04-19T05:32:35.180Z"
   },
   {
    "duration": 6,
    "start_time": "2022-04-19T05:32:45.000Z"
   },
   {
    "duration": 9,
    "start_time": "2022-04-19T05:33:09.972Z"
   },
   {
    "duration": 30,
    "start_time": "2022-04-19T05:33:17.913Z"
   },
   {
    "duration": 5,
    "start_time": "2022-04-19T05:33:23.927Z"
   },
   {
    "duration": 16,
    "start_time": "2022-04-19T05:33:41.964Z"
   },
   {
    "duration": 56,
    "start_time": "2022-04-19T05:36:44.906Z"
   },
   {
    "duration": 6,
    "start_time": "2022-04-19T05:36:49.349Z"
   },
   {
    "duration": 12,
    "start_time": "2022-04-19T05:36:57.945Z"
   },
   {
    "duration": 31,
    "start_time": "2022-04-19T05:37:01.211Z"
   },
   {
    "duration": 5,
    "start_time": "2022-04-19T05:37:04.398Z"
   },
   {
    "duration": 20,
    "start_time": "2022-04-19T05:37:07.335Z"
   },
   {
    "duration": 7,
    "start_time": "2022-04-19T05:40:39.433Z"
   },
   {
    "duration": 21,
    "start_time": "2022-04-19T05:41:09.464Z"
   },
   {
    "duration": 21,
    "start_time": "2022-04-19T05:41:44.361Z"
   },
   {
    "duration": 16,
    "start_time": "2022-04-19T05:42:57.220Z"
   },
   {
    "duration": 4,
    "start_time": "2022-04-19T05:43:31.662Z"
   },
   {
    "duration": 16,
    "start_time": "2022-04-19T05:46:43.664Z"
   },
   {
    "duration": 9,
    "start_time": "2022-04-19T05:52:33.417Z"
   },
   {
    "duration": 3,
    "start_time": "2022-04-19T05:52:39.579Z"
   },
   {
    "duration": 8,
    "start_time": "2022-04-19T05:52:52.379Z"
   },
   {
    "duration": 11,
    "start_time": "2022-04-19T05:53:00.066Z"
   },
   {
    "duration": 11,
    "start_time": "2022-04-19T05:53:38.970Z"
   },
   {
    "duration": 36,
    "start_time": "2022-04-19T05:53:46.659Z"
   },
   {
    "duration": 6,
    "start_time": "2022-04-19T05:54:08.202Z"
   },
   {
    "duration": 16,
    "start_time": "2022-04-19T05:54:29.596Z"
   },
   {
    "duration": 30,
    "start_time": "2022-04-19T05:54:52.739Z"
   },
   {
    "duration": 15,
    "start_time": "2022-04-19T05:58:15.094Z"
   },
   {
    "duration": 98,
    "start_time": "2022-04-19T06:04:19.737Z"
   },
   {
    "duration": 85,
    "start_time": "2022-04-19T06:04:27.657Z"
   },
   {
    "duration": 7,
    "start_time": "2022-04-19T06:04:55.736Z"
   },
   {
    "duration": 81,
    "start_time": "2022-04-19T06:05:54.196Z"
   },
   {
    "duration": 7,
    "start_time": "2022-04-19T06:06:00.807Z"
   },
   {
    "duration": 11,
    "start_time": "2022-04-19T06:08:54.380Z"
   },
   {
    "duration": 14,
    "start_time": "2022-04-19T06:09:06.941Z"
   },
   {
    "duration": 11,
    "start_time": "2022-04-19T06:21:08.027Z"
   },
   {
    "duration": 17,
    "start_time": "2022-04-19T06:21:22.059Z"
   },
   {
    "duration": 6,
    "start_time": "2022-04-19T06:24:20.123Z"
   },
   {
    "duration": 12,
    "start_time": "2022-04-19T06:24:28.618Z"
   },
   {
    "duration": 16,
    "start_time": "2022-04-19T06:24:40.949Z"
   },
   {
    "duration": 12,
    "start_time": "2022-04-19T06:27:10.987Z"
   },
   {
    "duration": 15,
    "start_time": "2022-04-19T06:27:49.524Z"
   },
   {
    "duration": 20,
    "start_time": "2022-04-19T06:28:15.106Z"
   },
   {
    "duration": 23,
    "start_time": "2022-04-19T06:28:57.497Z"
   },
   {
    "duration": 24,
    "start_time": "2022-04-19T06:29:39.470Z"
   },
   {
    "duration": 26,
    "start_time": "2022-04-19T06:29:44.335Z"
   },
   {
    "duration": 12,
    "start_time": "2022-04-19T06:31:42.711Z"
   },
   {
    "duration": 9,
    "start_time": "2022-04-19T06:33:10.119Z"
   },
   {
    "duration": 9,
    "start_time": "2022-04-19T06:37:48.651Z"
   },
   {
    "duration": 8,
    "start_time": "2022-04-19T06:40:04.333Z"
   },
   {
    "duration": 12,
    "start_time": "2022-04-19T06:40:20.959Z"
   },
   {
    "duration": 9,
    "start_time": "2022-04-19T06:40:55.301Z"
   },
   {
    "duration": 8,
    "start_time": "2022-04-19T06:41:25.912Z"
   },
   {
    "duration": 13,
    "start_time": "2022-04-19T06:41:39.859Z"
   },
   {
    "duration": 87,
    "start_time": "2022-04-19T06:42:03.774Z"
   },
   {
    "duration": 13,
    "start_time": "2022-04-19T06:42:13.012Z"
   },
   {
    "duration": 9,
    "start_time": "2022-04-19T06:42:21.742Z"
   },
   {
    "duration": 13,
    "start_time": "2022-04-19T06:42:58.130Z"
   },
   {
    "duration": 8,
    "start_time": "2022-04-19T06:44:14.837Z"
   },
   {
    "duration": 8,
    "start_time": "2022-04-19T06:44:19.501Z"
   },
   {
    "duration": 10,
    "start_time": "2022-04-19T06:45:00.170Z"
   },
   {
    "duration": 10,
    "start_time": "2022-04-19T06:45:04.690Z"
   },
   {
    "duration": 16,
    "start_time": "2022-04-19T06:45:41.749Z"
   },
   {
    "duration": 9,
    "start_time": "2022-04-19T06:45:45.613Z"
   },
   {
    "duration": 75,
    "start_time": "2022-04-19T06:46:34.918Z"
   },
   {
    "duration": 11,
    "start_time": "2022-04-19T06:46:38.746Z"
   },
   {
    "duration": 10,
    "start_time": "2022-04-19T06:47:18.594Z"
   },
   {
    "duration": 8,
    "start_time": "2022-04-19T06:47:24.265Z"
   },
   {
    "duration": 11,
    "start_time": "2022-04-19T06:48:18.241Z"
   },
   {
    "duration": 10,
    "start_time": "2022-04-19T06:48:34.923Z"
   },
   {
    "duration": 9,
    "start_time": "2022-04-19T06:48:38.906Z"
   },
   {
    "duration": 13,
    "start_time": "2022-04-19T06:49:27.538Z"
   },
   {
    "duration": 10,
    "start_time": "2022-04-19T06:49:30.591Z"
   },
   {
    "duration": 12,
    "start_time": "2022-04-19T06:50:00.827Z"
   },
   {
    "duration": 9,
    "start_time": "2022-04-19T06:50:03.082Z"
   },
   {
    "duration": 8,
    "start_time": "2022-04-19T06:50:21.338Z"
   },
   {
    "duration": 9,
    "start_time": "2022-04-19T06:50:31.836Z"
   },
   {
    "duration": 13,
    "start_time": "2022-04-19T06:50:58.465Z"
   },
   {
    "duration": 11,
    "start_time": "2022-04-19T06:51:07.081Z"
   },
   {
    "duration": 9,
    "start_time": "2022-04-19T06:51:17.097Z"
   },
   {
    "duration": 12,
    "start_time": "2022-04-19T06:52:17.210Z"
   },
   {
    "duration": 10,
    "start_time": "2022-04-19T06:52:22.839Z"
   },
   {
    "duration": 12,
    "start_time": "2022-04-19T06:53:04.466Z"
   },
   {
    "duration": 9,
    "start_time": "2022-04-19T06:53:07.561Z"
   },
   {
    "duration": 14,
    "start_time": "2022-04-19T06:53:43.560Z"
   },
   {
    "duration": 8,
    "start_time": "2022-04-19T06:53:47.095Z"
   },
   {
    "duration": 14,
    "start_time": "2022-04-19T06:54:26.577Z"
   },
   {
    "duration": 8,
    "start_time": "2022-04-19T06:54:29.735Z"
   },
   {
    "duration": 15,
    "start_time": "2022-04-19T06:55:06.369Z"
   },
   {
    "duration": 10,
    "start_time": "2022-04-19T06:55:09.264Z"
   },
   {
    "duration": 22,
    "start_time": "2022-04-19T06:55:45.066Z"
   },
   {
    "duration": 138,
    "start_time": "2022-04-19T06:56:23.751Z"
   },
   {
    "duration": 9,
    "start_time": "2022-04-19T06:56:25.782Z"
   },
   {
    "duration": 17,
    "start_time": "2022-04-19T06:56:54.997Z"
   },
   {
    "duration": 9,
    "start_time": "2022-04-19T06:56:57.734Z"
   },
   {
    "duration": 17,
    "start_time": "2022-04-19T06:57:21.910Z"
   },
   {
    "duration": 9,
    "start_time": "2022-04-19T06:57:24.183Z"
   },
   {
    "duration": 10,
    "start_time": "2022-04-19T06:58:16.784Z"
   },
   {
    "duration": 8,
    "start_time": "2022-04-19T06:58:18.726Z"
   },
   {
    "duration": 8,
    "start_time": "2022-04-19T06:58:41.271Z"
   },
   {
    "duration": 8,
    "start_time": "2022-04-19T06:58:43.924Z"
   },
   {
    "duration": 9,
    "start_time": "2022-04-19T06:59:06.231Z"
   },
   {
    "duration": 8,
    "start_time": "2022-04-19T06:59:13.621Z"
   },
   {
    "duration": 11,
    "start_time": "2022-04-19T06:59:43.140Z"
   },
   {
    "duration": 10,
    "start_time": "2022-04-19T06:59:45.448Z"
   },
   {
    "duration": 8,
    "start_time": "2022-04-19T07:00:02.038Z"
   },
   {
    "duration": 8,
    "start_time": "2022-04-19T07:00:04.533Z"
   },
   {
    "duration": 14,
    "start_time": "2022-04-19T07:00:20.345Z"
   },
   {
    "duration": 9,
    "start_time": "2022-04-19T07:00:22.560Z"
   },
   {
    "duration": 9,
    "start_time": "2022-04-19T07:00:51.059Z"
   },
   {
    "duration": 1187,
    "start_time": "2022-04-19T07:00:58.440Z"
   },
   {
    "duration": 76,
    "start_time": "2022-04-19T07:00:59.628Z"
   },
   {
    "duration": 13,
    "start_time": "2022-04-19T07:00:59.706Z"
   },
   {
    "duration": 8,
    "start_time": "2022-04-19T07:00:59.721Z"
   },
   {
    "duration": 24,
    "start_time": "2022-04-19T07:00:59.748Z"
   },
   {
    "duration": 42,
    "start_time": "2022-04-19T07:00:59.774Z"
   },
   {
    "duration": 36,
    "start_time": "2022-04-19T07:00:59.818Z"
   },
   {
    "duration": 12,
    "start_time": "2022-04-19T07:00:59.857Z"
   },
   {
    "duration": 19,
    "start_time": "2022-04-19T07:00:59.871Z"
   },
   {
    "duration": 8,
    "start_time": "2022-04-19T07:00:59.892Z"
   },
   {
    "duration": 603,
    "start_time": "2022-04-19T07:00:59.902Z"
   },
   {
    "duration": 5,
    "start_time": "2022-04-19T07:01:00.506Z"
   },
   {
    "duration": 16,
    "start_time": "2022-04-19T07:01:00.512Z"
   },
   {
    "duration": 26,
    "start_time": "2022-04-19T07:01:00.530Z"
   },
   {
    "duration": 16,
    "start_time": "2022-04-19T07:01:00.558Z"
   },
   {
    "duration": 29,
    "start_time": "2022-04-19T07:01:00.575Z"
   },
   {
    "duration": 6,
    "start_time": "2022-04-19T07:01:00.605Z"
   },
   {
    "duration": 23,
    "start_time": "2022-04-19T07:01:00.647Z"
   },
   {
    "duration": 13,
    "start_time": "2022-04-19T07:01:00.672Z"
   },
   {
    "duration": 35,
    "start_time": "2022-04-19T07:01:00.687Z"
   },
   {
    "duration": 38,
    "start_time": "2022-04-19T07:01:00.724Z"
   },
   {
    "duration": 9,
    "start_time": "2022-04-19T07:01:00.763Z"
   },
   {
    "duration": 27,
    "start_time": "2022-04-19T07:01:00.774Z"
   },
   {
    "duration": 23,
    "start_time": "2022-04-19T07:01:00.803Z"
   },
   {
    "duration": 17,
    "start_time": "2022-04-19T07:02:09.481Z"
   },
   {
    "duration": 8,
    "start_time": "2022-04-19T07:02:11.933Z"
   },
   {
    "duration": 18,
    "start_time": "2022-04-19T07:02:57.984Z"
   },
   {
    "duration": 9,
    "start_time": "2022-04-19T07:03:02.029Z"
   },
   {
    "duration": 17,
    "start_time": "2022-04-19T07:03:13.232Z"
   },
   {
    "duration": 9,
    "start_time": "2022-04-19T07:03:14.942Z"
   },
   {
    "duration": 89,
    "start_time": "2022-04-19T07:32:08.526Z"
   },
   {
    "duration": 10,
    "start_time": "2022-04-19T07:32:13.339Z"
   },
   {
    "duration": 6,
    "start_time": "2022-04-19T07:33:04.429Z"
   },
   {
    "duration": 9,
    "start_time": "2022-04-19T07:35:59.613Z"
   },
   {
    "duration": 4,
    "start_time": "2022-04-19T07:36:32.419Z"
   },
   {
    "duration": 26,
    "start_time": "2022-04-19T07:36:39.886Z"
   },
   {
    "duration": 5,
    "start_time": "2022-04-19T07:38:17.591Z"
   },
   {
    "duration": 5,
    "start_time": "2022-04-19T07:38:45.454Z"
   },
   {
    "duration": 5,
    "start_time": "2022-04-19T07:38:52.763Z"
   },
   {
    "duration": 7,
    "start_time": "2022-04-19T07:40:19.158Z"
   },
   {
    "duration": 6,
    "start_time": "2022-04-19T07:48:04.240Z"
   },
   {
    "duration": 5,
    "start_time": "2022-04-19T07:48:19.026Z"
   },
   {
    "duration": 6,
    "start_time": "2022-04-19T07:48:24.059Z"
   },
   {
    "duration": 123,
    "start_time": "2022-04-19T08:01:26.091Z"
   },
   {
    "duration": 170,
    "start_time": "2022-04-19T08:02:05.813Z"
   },
   {
    "duration": 126,
    "start_time": "2022-04-19T08:02:13.772Z"
   },
   {
    "duration": 157,
    "start_time": "2022-04-19T08:09:21.002Z"
   },
   {
    "duration": 4,
    "start_time": "2022-04-19T08:12:00.096Z"
   },
   {
    "duration": 148,
    "start_time": "2022-04-19T08:12:06.086Z"
   },
   {
    "duration": 211,
    "start_time": "2022-04-19T08:14:13.711Z"
   },
   {
    "duration": 157,
    "start_time": "2022-04-19T08:14:29.087Z"
   },
   {
    "duration": 13,
    "start_time": "2022-04-19T08:14:52.360Z"
   },
   {
    "duration": 6,
    "start_time": "2022-04-19T08:14:57.568Z"
   },
   {
    "duration": 155,
    "start_time": "2022-04-19T08:15:42.460Z"
   },
   {
    "duration": 222,
    "start_time": "2022-04-19T08:16:27.029Z"
   },
   {
    "duration": 146,
    "start_time": "2022-04-19T08:16:39.976Z"
   },
   {
    "duration": 411,
    "start_time": "2022-04-19T08:27:51.114Z"
   },
   {
    "duration": 7,
    "start_time": "2022-04-19T08:35:04.601Z"
   },
   {
    "duration": 9,
    "start_time": "2022-04-19T08:35:56.175Z"
   },
   {
    "duration": 390,
    "start_time": "2022-04-19T08:36:19.920Z"
   },
   {
    "duration": 399,
    "start_time": "2022-04-19T08:36:39.000Z"
   },
   {
    "duration": 4,
    "start_time": "2022-04-19T08:37:10.654Z"
   },
   {
    "duration": 405,
    "start_time": "2022-04-19T08:37:18.191Z"
   },
   {
    "duration": 633,
    "start_time": "2022-04-19T08:38:19.047Z"
   },
   {
    "duration": 301,
    "start_time": "2022-04-19T08:39:36.920Z"
   },
   {
    "duration": 79,
    "start_time": "2022-04-19T08:39:49.856Z"
   },
   {
    "duration": 504,
    "start_time": "2022-04-19T08:40:22.945Z"
   },
   {
    "duration": 431,
    "start_time": "2022-04-19T08:40:43.117Z"
   },
   {
    "duration": 636,
    "start_time": "2022-04-19T08:40:52.696Z"
   },
   {
    "duration": 9,
    "start_time": "2022-04-19T08:41:16.756Z"
   },
   {
    "duration": 769,
    "start_time": "2022-04-19T08:41:52.871Z"
   },
   {
    "duration": 592,
    "start_time": "2022-04-19T08:43:18.870Z"
   },
   {
    "duration": 9,
    "start_time": "2022-04-19T08:46:02.960Z"
   },
   {
    "duration": 653,
    "start_time": "2022-04-19T08:46:18.326Z"
   },
   {
    "duration": 1836,
    "start_time": "2022-04-20T09:28:09.667Z"
   },
   {
    "duration": 91,
    "start_time": "2022-04-20T09:28:11.505Z"
   },
   {
    "duration": 35,
    "start_time": "2022-04-20T09:28:11.598Z"
   },
   {
    "duration": 13,
    "start_time": "2022-04-20T09:28:11.636Z"
   },
   {
    "duration": 75,
    "start_time": "2022-04-20T09:28:11.651Z"
   },
   {
    "duration": 123,
    "start_time": "2022-04-20T09:28:11.729Z"
   },
   {
    "duration": 10,
    "start_time": "2022-04-20T09:28:11.855Z"
   },
   {
    "duration": 10,
    "start_time": "2022-04-20T09:28:11.867Z"
   },
   {
    "duration": 63,
    "start_time": "2022-04-20T09:28:11.879Z"
   },
   {
    "duration": 12,
    "start_time": "2022-04-20T09:28:11.947Z"
   },
   {
    "duration": 337,
    "start_time": "2022-04-20T09:28:11.962Z"
   },
   {
    "duration": 8,
    "start_time": "2022-04-20T09:28:12.302Z"
   },
   {
    "duration": 21,
    "start_time": "2022-04-20T09:28:12.313Z"
   },
   {
    "duration": 27,
    "start_time": "2022-04-20T09:28:12.336Z"
   },
   {
    "duration": 59,
    "start_time": "2022-04-20T09:28:12.365Z"
   },
   {
    "duration": 46,
    "start_time": "2022-04-20T09:28:12.427Z"
   },
   {
    "duration": 48,
    "start_time": "2022-04-20T09:28:12.476Z"
   },
   {
    "duration": 30,
    "start_time": "2022-04-20T09:28:12.527Z"
   },
   {
    "duration": 20,
    "start_time": "2022-04-20T09:28:12.560Z"
   },
   {
    "duration": 27,
    "start_time": "2022-04-20T09:28:12.625Z"
   },
   {
    "duration": 71,
    "start_time": "2022-04-20T09:28:12.655Z"
   },
   {
    "duration": 13,
    "start_time": "2022-04-20T09:28:12.729Z"
   },
   {
    "duration": 27,
    "start_time": "2022-04-20T09:28:12.745Z"
   },
   {
    "duration": 58,
    "start_time": "2022-04-20T09:28:12.775Z"
   },
   {
    "duration": 15,
    "start_time": "2022-04-20T09:28:12.836Z"
   },
   {
    "duration": 10,
    "start_time": "2022-04-20T09:28:12.854Z"
   },
   {
    "duration": 337,
    "start_time": "2022-04-20T09:28:12.867Z"
   },
   {
    "duration": 25,
    "start_time": "2022-04-20T09:28:13.211Z"
   },
   {
    "duration": 1877,
    "start_time": "2022-04-20T09:28:13.240Z"
   },
   {
    "duration": 42,
    "start_time": "2022-04-20T09:32:51.337Z"
   },
   {
    "duration": 131,
    "start_time": "2022-04-20T09:36:32.853Z"
   },
   {
    "duration": 194,
    "start_time": "2022-04-20T09:36:40.580Z"
   },
   {
    "duration": 127,
    "start_time": "2022-04-20T09:38:37.935Z"
   },
   {
    "duration": 22,
    "start_time": "2022-04-20T09:40:38.744Z"
   },
   {
    "duration": 26,
    "start_time": "2022-04-20T09:44:15.889Z"
   },
   {
    "duration": 28,
    "start_time": "2022-04-20T09:45:38.122Z"
   },
   {
    "duration": 30,
    "start_time": "2022-04-20T09:45:58.219Z"
   },
   {
    "duration": 38,
    "start_time": "2022-04-20T09:55:24.831Z"
   },
   {
    "duration": 34,
    "start_time": "2022-04-20T09:57:11.940Z"
   },
   {
    "duration": 47,
    "start_time": "2022-04-20T09:57:18.523Z"
   },
   {
    "duration": 6,
    "start_time": "2022-04-20T09:57:40.090Z"
   },
   {
    "duration": 38,
    "start_time": "2022-04-20T09:57:51.442Z"
   },
   {
    "duration": 40,
    "start_time": "2022-04-20T09:57:57.108Z"
   },
   {
    "duration": 32,
    "start_time": "2022-04-20T09:58:42.039Z"
   },
   {
    "duration": 35,
    "start_time": "2022-04-20T09:58:49.280Z"
   },
   {
    "duration": 11,
    "start_time": "2022-04-20T10:01:34.393Z"
   },
   {
    "duration": 48,
    "start_time": "2022-04-20T10:05:04.440Z"
   },
   {
    "duration": 25,
    "start_time": "2022-04-20T10:18:52.542Z"
   },
   {
    "duration": 1617,
    "start_time": "2022-04-20T10:19:04.750Z"
   },
   {
    "duration": 93,
    "start_time": "2022-04-20T10:19:06.370Z"
   },
   {
    "duration": 21,
    "start_time": "2022-04-20T10:19:06.465Z"
   },
   {
    "duration": 50,
    "start_time": "2022-04-20T10:19:06.489Z"
   },
   {
    "duration": 33,
    "start_time": "2022-04-20T10:19:06.541Z"
   },
   {
    "duration": 116,
    "start_time": "2022-04-20T10:19:06.577Z"
   },
   {
    "duration": 10,
    "start_time": "2022-04-20T10:19:06.696Z"
   },
   {
    "duration": 23,
    "start_time": "2022-04-20T10:19:06.708Z"
   },
   {
    "duration": 48,
    "start_time": "2022-04-20T10:19:06.734Z"
   },
   {
    "duration": 47,
    "start_time": "2022-04-20T10:19:06.786Z"
   },
   {
    "duration": 256,
    "start_time": "2022-04-20T10:19:06.836Z"
   },
   {
    "duration": 10,
    "start_time": "2022-04-20T10:19:07.095Z"
   },
   {
    "duration": 38,
    "start_time": "2022-04-20T10:19:07.108Z"
   },
   {
    "duration": 29,
    "start_time": "2022-04-20T10:19:07.148Z"
   },
   {
    "duration": 69,
    "start_time": "2022-04-20T10:19:07.180Z"
   },
   {
    "duration": 45,
    "start_time": "2022-04-20T10:19:07.251Z"
   },
   {
    "duration": 38,
    "start_time": "2022-04-20T10:19:07.299Z"
   },
   {
    "duration": 59,
    "start_time": "2022-04-20T10:19:07.339Z"
   },
   {
    "duration": 16,
    "start_time": "2022-04-20T10:19:07.400Z"
   },
   {
    "duration": 45,
    "start_time": "2022-04-20T10:19:07.419Z"
   },
   {
    "duration": 63,
    "start_time": "2022-04-20T10:19:07.467Z"
   },
   {
    "duration": 43,
    "start_time": "2022-04-20T10:19:07.533Z"
   },
   {
    "duration": 52,
    "start_time": "2022-04-20T10:19:07.578Z"
   },
   {
    "duration": 11,
    "start_time": "2022-04-20T10:19:07.633Z"
   },
   {
    "duration": 31,
    "start_time": "2022-04-20T10:19:07.647Z"
   },
   {
    "duration": 61,
    "start_time": "2022-04-20T10:19:07.681Z"
   },
   {
    "duration": 41,
    "start_time": "2022-04-20T10:19:07.747Z"
   },
   {
    "duration": 46,
    "start_time": "2022-04-20T10:19:07.794Z"
   },
   {
    "duration": 19,
    "start_time": "2022-04-20T10:19:07.843Z"
   },
   {
    "duration": 10,
    "start_time": "2022-04-20T10:19:07.865Z"
   },
   {
    "duration": 332,
    "start_time": "2022-04-20T10:19:07.878Z"
   },
   {
    "duration": 24,
    "start_time": "2022-04-20T10:19:08.213Z"
   },
   {
    "duration": 1375,
    "start_time": "2022-04-20T10:19:08.239Z"
   },
   {
    "duration": 6,
    "start_time": "2022-04-20T10:20:18.500Z"
   },
   {
    "duration": 1563,
    "start_time": "2022-04-20T10:20:25.014Z"
   },
   {
    "duration": 92,
    "start_time": "2022-04-20T10:20:26.580Z"
   },
   {
    "duration": 20,
    "start_time": "2022-04-20T10:20:26.674Z"
   },
   {
    "duration": 41,
    "start_time": "2022-04-20T10:20:26.696Z"
   },
   {
    "duration": 51,
    "start_time": "2022-04-20T10:20:26.742Z"
   },
   {
    "duration": 92,
    "start_time": "2022-04-20T10:20:26.795Z"
   },
   {
    "duration": 8,
    "start_time": "2022-04-20T10:20:26.889Z"
   },
   {
    "duration": 7,
    "start_time": "2022-04-20T10:20:26.926Z"
   },
   {
    "duration": 74,
    "start_time": "2022-04-20T10:20:26.935Z"
   },
   {
    "duration": 23,
    "start_time": "2022-04-20T10:20:27.012Z"
   },
   {
    "duration": 276,
    "start_time": "2022-04-20T10:20:27.040Z"
   },
   {
    "duration": 12,
    "start_time": "2022-04-20T10:20:27.319Z"
   },
   {
    "duration": 30,
    "start_time": "2022-04-20T10:20:27.334Z"
   },
   {
    "duration": 61,
    "start_time": "2022-04-20T10:20:27.371Z"
   },
   {
    "duration": 28,
    "start_time": "2022-04-20T10:20:27.435Z"
   },
   {
    "duration": 97,
    "start_time": "2022-04-20T10:20:27.467Z"
   },
   {
    "duration": 12,
    "start_time": "2022-04-20T10:20:27.566Z"
   },
   {
    "duration": 65,
    "start_time": "2022-04-20T10:20:27.581Z"
   },
   {
    "duration": 22,
    "start_time": "2022-04-20T10:20:27.649Z"
   },
   {
    "duration": 57,
    "start_time": "2022-04-20T10:20:27.674Z"
   },
   {
    "duration": 52,
    "start_time": "2022-04-20T10:20:27.734Z"
   },
   {
    "duration": 52,
    "start_time": "2022-04-20T10:20:27.788Z"
   },
   {
    "duration": 33,
    "start_time": "2022-04-20T10:20:27.843Z"
   },
   {
    "duration": 9,
    "start_time": "2022-04-20T10:20:27.878Z"
   },
   {
    "duration": 45,
    "start_time": "2022-04-20T10:20:27.889Z"
   },
   {
    "duration": 27,
    "start_time": "2022-04-20T10:20:27.936Z"
   },
   {
    "duration": 65,
    "start_time": "2022-04-20T10:20:27.965Z"
   },
   {
    "duration": 29,
    "start_time": "2022-04-20T10:20:28.032Z"
   },
   {
    "duration": 14,
    "start_time": "2022-04-20T10:20:28.063Z"
   },
   {
    "duration": 49,
    "start_time": "2022-04-20T10:20:28.080Z"
   },
   {
    "duration": 23,
    "start_time": "2022-04-20T10:20:28.132Z"
   },
   {
    "duration": 423,
    "start_time": "2022-04-20T10:20:28.158Z"
   },
   {
    "duration": 14,
    "start_time": "2022-04-20T10:20:28.584Z"
   },
   {
    "duration": 1340,
    "start_time": "2022-04-20T10:20:28.601Z"
   },
   {
    "duration": 9,
    "start_time": "2022-04-20T10:27:53.312Z"
   },
   {
    "duration": 272,
    "start_time": "2022-04-20T10:27:55.686Z"
   },
   {
    "duration": 1403,
    "start_time": "2022-04-20T10:29:16.921Z"
   },
   {
    "duration": 1131,
    "start_time": "2022-04-20T10:32:49.124Z"
   },
   {
    "duration": 2328,
    "start_time": "2022-04-20T10:33:03.590Z"
   },
   {
    "duration": 1055,
    "start_time": "2022-04-20T10:33:28.686Z"
   },
   {
    "duration": 27,
    "start_time": "2022-04-20T10:39:30.679Z"
   },
   {
    "duration": 30,
    "start_time": "2022-04-20T10:39:50.789Z"
   },
   {
    "duration": 24,
    "start_time": "2022-04-20T10:40:00.985Z"
   },
   {
    "duration": 21,
    "start_time": "2022-04-20T10:44:45.732Z"
   },
   {
    "duration": 834,
    "start_time": "2022-04-20T11:03:15.510Z"
   },
   {
    "duration": 601,
    "start_time": "2022-04-20T11:03:35.746Z"
   },
   {
    "duration": 387,
    "start_time": "2022-04-20T11:04:05.637Z"
   },
   {
    "duration": 506,
    "start_time": "2022-04-20T11:04:36.376Z"
   },
   {
    "duration": 376,
    "start_time": "2022-04-20T11:04:49.068Z"
   },
   {
    "duration": 390,
    "start_time": "2022-04-20T11:04:55.901Z"
   },
   {
    "duration": 431,
    "start_time": "2022-04-20T11:05:05.581Z"
   },
   {
    "duration": 435,
    "start_time": "2022-04-20T11:06:18.447Z"
   },
   {
    "duration": 498,
    "start_time": "2022-04-20T11:11:15.029Z"
   },
   {
    "duration": 756,
    "start_time": "2022-04-20T11:14:32.886Z"
   },
   {
    "duration": 270,
    "start_time": "2022-04-20T12:25:20.990Z"
   },
   {
    "duration": 520,
    "start_time": "2022-04-20T12:25:26.672Z"
   },
   {
    "duration": 516,
    "start_time": "2022-04-20T12:27:30.190Z"
   },
   {
    "duration": 616,
    "start_time": "2022-04-20T12:28:57.012Z"
   },
   {
    "duration": 484,
    "start_time": "2022-04-20T12:29:09.438Z"
   },
   {
    "duration": 625,
    "start_time": "2022-04-20T12:29:33.188Z"
   },
   {
    "duration": 506,
    "start_time": "2022-04-20T12:29:40.171Z"
   },
   {
    "duration": 508,
    "start_time": "2022-04-20T12:29:49.451Z"
   },
   {
    "duration": 506,
    "start_time": "2022-04-20T12:29:53.668Z"
   },
   {
    "duration": 701,
    "start_time": "2022-04-20T12:30:05.734Z"
   },
   {
    "duration": 612,
    "start_time": "2022-04-20T12:30:18.107Z"
   },
   {
    "duration": 12,
    "start_time": "2022-04-20T12:46:01.056Z"
   },
   {
    "duration": 15,
    "start_time": "2022-04-20T12:46:11.478Z"
   },
   {
    "duration": 7,
    "start_time": "2022-04-20T12:46:44.688Z"
   },
   {
    "duration": 12,
    "start_time": "2022-04-20T12:48:29.879Z"
   },
   {
    "duration": 15,
    "start_time": "2022-04-20T12:48:53.254Z"
   },
   {
    "duration": 2442,
    "start_time": "2022-04-20T12:51:15.950Z"
   },
   {
    "duration": 10,
    "start_time": "2022-04-20T12:51:21.149Z"
   },
   {
    "duration": 16,
    "start_time": "2022-04-20T12:51:33.492Z"
   },
   {
    "duration": 11,
    "start_time": "2022-04-20T12:52:31.721Z"
   },
   {
    "duration": 17,
    "start_time": "2022-04-20T12:52:39.987Z"
   },
   {
    "duration": 17,
    "start_time": "2022-04-20T12:52:57.861Z"
   },
   {
    "duration": 18,
    "start_time": "2022-04-20T12:53:08.438Z"
   },
   {
    "duration": 17,
    "start_time": "2022-04-20T12:53:53.354Z"
   },
   {
    "duration": 24,
    "start_time": "2022-04-20T12:54:10.844Z"
   },
   {
    "duration": 17,
    "start_time": "2022-04-20T12:54:19.738Z"
   },
   {
    "duration": 17,
    "start_time": "2022-04-20T12:54:25.259Z"
   },
   {
    "duration": 17,
    "start_time": "2022-04-20T12:54:32.667Z"
   },
   {
    "duration": 21,
    "start_time": "2022-04-20T13:04:06.400Z"
   },
   {
    "duration": 31,
    "start_time": "2022-04-20T13:07:05.337Z"
   },
   {
    "duration": 38,
    "start_time": "2022-04-20T13:07:29.818Z"
   },
   {
    "duration": 596,
    "start_time": "2022-04-20T13:09:39.824Z"
   },
   {
    "duration": 23,
    "start_time": "2022-04-20T13:09:50.359Z"
   },
   {
    "duration": 28,
    "start_time": "2022-04-20T13:10:44.584Z"
   },
   {
    "duration": 155,
    "start_time": "2022-04-20T13:13:33.522Z"
   },
   {
    "duration": 33,
    "start_time": "2022-04-20T13:14:05.488Z"
   },
   {
    "duration": 35,
    "start_time": "2022-04-20T13:14:35.312Z"
   },
   {
    "duration": 32,
    "start_time": "2022-04-20T13:15:35.277Z"
   },
   {
    "duration": 35,
    "start_time": "2022-04-20T13:17:00.255Z"
   },
   {
    "duration": 96,
    "start_time": "2022-04-20T13:19:22.920Z"
   },
   {
    "duration": 51,
    "start_time": "2022-04-20T13:20:17.598Z"
   },
   {
    "duration": 43,
    "start_time": "2022-04-20T13:20:58.595Z"
   },
   {
    "duration": 38,
    "start_time": "2022-04-20T13:21:46.851Z"
   },
   {
    "duration": 1889,
    "start_time": "2022-04-21T04:19:10.461Z"
   },
   {
    "duration": 87,
    "start_time": "2022-04-21T04:19:12.354Z"
   },
   {
    "duration": 21,
    "start_time": "2022-04-21T04:19:12.443Z"
   },
   {
    "duration": 36,
    "start_time": "2022-04-21T04:19:12.466Z"
   },
   {
    "duration": 25,
    "start_time": "2022-04-21T04:19:12.505Z"
   },
   {
    "duration": 90,
    "start_time": "2022-04-21T04:19:12.532Z"
   },
   {
    "duration": 7,
    "start_time": "2022-04-21T04:19:12.624Z"
   },
   {
    "duration": 15,
    "start_time": "2022-04-21T04:19:12.633Z"
   },
   {
    "duration": 60,
    "start_time": "2022-04-21T04:19:12.650Z"
   },
   {
    "duration": 12,
    "start_time": "2022-04-21T04:19:12.712Z"
   },
   {
    "duration": 260,
    "start_time": "2022-04-21T04:19:12.727Z"
   },
   {
    "duration": 8,
    "start_time": "2022-04-21T04:19:12.989Z"
   },
   {
    "duration": 21,
    "start_time": "2022-04-21T04:19:12.999Z"
   },
   {
    "duration": 25,
    "start_time": "2022-04-21T04:19:13.025Z"
   },
   {
    "duration": 42,
    "start_time": "2022-04-21T04:19:13.052Z"
   },
   {
    "duration": 7,
    "start_time": "2022-04-21T04:19:13.096Z"
   },
   {
    "duration": 6,
    "start_time": "2022-04-21T04:19:13.105Z"
   },
   {
    "duration": 10,
    "start_time": "2022-04-21T04:19:13.113Z"
   },
   {
    "duration": 6,
    "start_time": "2022-04-21T04:19:13.125Z"
   },
   {
    "duration": 177,
    "start_time": "2022-04-21T04:19:13.133Z"
   },
   {
    "duration": 0,
    "start_time": "2022-04-21T04:19:13.312Z"
   },
   {
    "duration": 0,
    "start_time": "2022-04-21T04:19:13.314Z"
   },
   {
    "duration": 0,
    "start_time": "2022-04-21T04:19:13.315Z"
   },
   {
    "duration": 0,
    "start_time": "2022-04-21T04:19:13.317Z"
   },
   {
    "duration": 0,
    "start_time": "2022-04-21T04:19:13.318Z"
   },
   {
    "duration": 0,
    "start_time": "2022-04-21T04:19:13.320Z"
   },
   {
    "duration": 0,
    "start_time": "2022-04-21T04:19:13.321Z"
   },
   {
    "duration": 0,
    "start_time": "2022-04-21T04:19:13.322Z"
   },
   {
    "duration": 0,
    "start_time": "2022-04-21T04:19:13.324Z"
   },
   {
    "duration": 0,
    "start_time": "2022-04-21T04:19:13.325Z"
   },
   {
    "duration": 0,
    "start_time": "2022-04-21T04:19:13.327Z"
   },
   {
    "duration": 0,
    "start_time": "2022-04-21T04:19:13.329Z"
   },
   {
    "duration": 0,
    "start_time": "2022-04-21T04:19:13.330Z"
   },
   {
    "duration": 0,
    "start_time": "2022-04-21T04:19:13.332Z"
   },
   {
    "duration": 0,
    "start_time": "2022-04-21T04:19:13.334Z"
   },
   {
    "duration": 0,
    "start_time": "2022-04-21T04:19:13.336Z"
   },
   {
    "duration": 0,
    "start_time": "2022-04-21T04:19:13.337Z"
   },
   {
    "duration": 0,
    "start_time": "2022-04-21T04:19:13.338Z"
   },
   {
    "duration": 25,
    "start_time": "2022-04-21T04:20:25.495Z"
   },
   {
    "duration": 33,
    "start_time": "2022-04-21T04:20:43.257Z"
   },
   {
    "duration": 25,
    "start_time": "2022-04-21T04:20:51.671Z"
   },
   {
    "duration": 31,
    "start_time": "2022-04-21T04:21:25.743Z"
   },
   {
    "duration": 8,
    "start_time": "2022-04-21T04:21:34.221Z"
   },
   {
    "duration": 22,
    "start_time": "2022-04-21T04:22:43.233Z"
   },
   {
    "duration": 12,
    "start_time": "2022-04-21T04:22:55.063Z"
   },
   {
    "duration": 26,
    "start_time": "2022-04-21T04:23:08.463Z"
   },
   {
    "duration": 12,
    "start_time": "2022-04-21T04:23:15.704Z"
   },
   {
    "duration": 14,
    "start_time": "2022-04-21T04:23:26.909Z"
   },
   {
    "duration": 9,
    "start_time": "2022-04-21T04:23:32.909Z"
   },
   {
    "duration": 264,
    "start_time": "2022-04-21T04:23:41.445Z"
   },
   {
    "duration": 12,
    "start_time": "2022-04-21T04:23:51.989Z"
   },
   {
    "duration": 1227,
    "start_time": "2022-04-21T04:24:05.221Z"
   },
   {
    "duration": 18,
    "start_time": "2022-04-21T04:24:35.365Z"
   },
   {
    "duration": 486,
    "start_time": "2022-04-21T04:24:53.341Z"
   },
   {
    "duration": 15,
    "start_time": "2022-04-21T04:25:12.980Z"
   },
   {
    "duration": 18,
    "start_time": "2022-04-21T04:25:56.765Z"
   },
   {
    "duration": 170,
    "start_time": "2022-04-21T04:26:49.532Z"
   },
   {
    "duration": 19,
    "start_time": "2022-04-21T04:33:44.008Z"
   },
   {
    "duration": 246,
    "start_time": "2022-04-21T04:34:28.770Z"
   },
   {
    "duration": 10,
    "start_time": "2022-04-21T04:38:47.385Z"
   },
   {
    "duration": 1524,
    "start_time": "2022-04-21T04:39:07.872Z"
   },
   {
    "duration": 81,
    "start_time": "2022-04-21T04:39:09.399Z"
   },
   {
    "duration": 28,
    "start_time": "2022-04-21T04:39:09.482Z"
   },
   {
    "duration": 13,
    "start_time": "2022-04-21T04:39:09.513Z"
   },
   {
    "duration": 26,
    "start_time": "2022-04-21T04:39:09.528Z"
   },
   {
    "duration": 102,
    "start_time": "2022-04-21T04:39:09.556Z"
   },
   {
    "duration": 6,
    "start_time": "2022-04-21T04:39:09.660Z"
   },
   {
    "duration": 5,
    "start_time": "2022-04-21T04:39:09.693Z"
   },
   {
    "duration": 28,
    "start_time": "2022-04-21T04:39:09.700Z"
   },
   {
    "duration": 12,
    "start_time": "2022-04-21T04:39:09.731Z"
   },
   {
    "duration": 257,
    "start_time": "2022-04-21T04:39:09.745Z"
   },
   {
    "duration": 8,
    "start_time": "2022-04-21T04:39:10.004Z"
   },
   {
    "duration": 26,
    "start_time": "2022-04-21T04:39:10.014Z"
   },
   {
    "duration": 59,
    "start_time": "2022-04-21T04:39:10.042Z"
   },
   {
    "duration": 3,
    "start_time": "2022-04-21T04:39:10.103Z"
   },
   {
    "duration": 11,
    "start_time": "2022-04-21T04:39:10.108Z"
   },
   {
    "duration": 10,
    "start_time": "2022-04-21T04:39:10.121Z"
   },
   {
    "duration": 9,
    "start_time": "2022-04-21T04:39:10.133Z"
   },
   {
    "duration": 11,
    "start_time": "2022-04-21T04:39:10.144Z"
   },
   {
    "duration": 57,
    "start_time": "2022-04-21T04:39:10.157Z"
   },
   {
    "duration": 33,
    "start_time": "2022-04-21T04:39:10.217Z"
   },
   {
    "duration": 56,
    "start_time": "2022-04-21T04:39:10.252Z"
   },
   {
    "duration": 33,
    "start_time": "2022-04-21T04:39:10.310Z"
   },
   {
    "duration": 8,
    "start_time": "2022-04-21T04:39:10.346Z"
   },
   {
    "duration": 58,
    "start_time": "2022-04-21T04:39:10.356Z"
   },
   {
    "duration": 181,
    "start_time": "2022-04-21T04:39:10.416Z"
   },
   {
    "duration": 0,
    "start_time": "2022-04-21T04:39:10.600Z"
   },
   {
    "duration": 0,
    "start_time": "2022-04-21T04:39:10.601Z"
   },
   {
    "duration": 0,
    "start_time": "2022-04-21T04:39:10.603Z"
   },
   {
    "duration": 0,
    "start_time": "2022-04-21T04:39:10.605Z"
   },
   {
    "duration": 0,
    "start_time": "2022-04-21T04:39:10.606Z"
   },
   {
    "duration": 0,
    "start_time": "2022-04-21T04:39:10.608Z"
   },
   {
    "duration": 0,
    "start_time": "2022-04-21T04:39:10.609Z"
   },
   {
    "duration": 0,
    "start_time": "2022-04-21T04:39:10.611Z"
   },
   {
    "duration": 0,
    "start_time": "2022-04-21T04:39:10.612Z"
   },
   {
    "duration": 0,
    "start_time": "2022-04-21T04:39:10.614Z"
   },
   {
    "duration": 0,
    "start_time": "2022-04-21T04:39:10.615Z"
   },
   {
    "duration": 0,
    "start_time": "2022-04-21T04:39:10.617Z"
   },
   {
    "duration": 0,
    "start_time": "2022-04-21T04:39:10.619Z"
   },
   {
    "duration": 13,
    "start_time": "2022-04-21T04:40:30.235Z"
   },
   {
    "duration": 13,
    "start_time": "2022-04-21T04:40:46.852Z"
   },
   {
    "duration": 1513,
    "start_time": "2022-04-21T04:40:53.888Z"
   },
   {
    "duration": 95,
    "start_time": "2022-04-21T04:40:55.403Z"
   },
   {
    "duration": 21,
    "start_time": "2022-04-21T04:40:55.500Z"
   },
   {
    "duration": 13,
    "start_time": "2022-04-21T04:40:55.524Z"
   },
   {
    "duration": 64,
    "start_time": "2022-04-21T04:40:55.539Z"
   },
   {
    "duration": 66,
    "start_time": "2022-04-21T04:40:55.605Z"
   },
   {
    "duration": 8,
    "start_time": "2022-04-21T04:40:55.694Z"
   },
   {
    "duration": 9,
    "start_time": "2022-04-21T04:40:55.704Z"
   },
   {
    "duration": 28,
    "start_time": "2022-04-21T04:40:55.715Z"
   },
   {
    "duration": 51,
    "start_time": "2022-04-21T04:40:55.747Z"
   },
   {
    "duration": 238,
    "start_time": "2022-04-21T04:40:55.800Z"
   },
   {
    "duration": 7,
    "start_time": "2022-04-21T04:40:56.040Z"
   },
   {
    "duration": 20,
    "start_time": "2022-04-21T04:40:56.049Z"
   },
   {
    "duration": 42,
    "start_time": "2022-04-21T04:40:56.071Z"
   },
   {
    "duration": 4,
    "start_time": "2022-04-21T04:40:56.115Z"
   },
   {
    "duration": 8,
    "start_time": "2022-04-21T04:40:56.121Z"
   },
   {
    "duration": 9,
    "start_time": "2022-04-21T04:40:56.132Z"
   },
   {
    "duration": 7,
    "start_time": "2022-04-21T04:40:56.143Z"
   },
   {
    "duration": 43,
    "start_time": "2022-04-21T04:40:56.152Z"
   },
   {
    "duration": 27,
    "start_time": "2022-04-21T04:40:56.197Z"
   },
   {
    "duration": 67,
    "start_time": "2022-04-21T04:40:56.226Z"
   },
   {
    "duration": 26,
    "start_time": "2022-04-21T04:40:56.296Z"
   },
   {
    "duration": 31,
    "start_time": "2022-04-21T04:40:56.324Z"
   },
   {
    "duration": 8,
    "start_time": "2022-04-21T04:40:56.393Z"
   },
   {
    "duration": 28,
    "start_time": "2022-04-21T04:40:56.403Z"
   },
   {
    "duration": 14,
    "start_time": "2022-04-21T04:40:56.434Z"
   },
   {
    "duration": 63,
    "start_time": "2022-04-21T04:40:56.450Z"
   },
   {
    "duration": 15,
    "start_time": "2022-04-21T04:40:56.518Z"
   },
   {
    "duration": 13,
    "start_time": "2022-04-21T04:40:56.535Z"
   },
   {
    "duration": 47,
    "start_time": "2022-04-21T04:40:56.550Z"
   },
   {
    "duration": 281,
    "start_time": "2022-04-21T04:40:56.599Z"
   },
   {
    "duration": 20,
    "start_time": "2022-04-21T04:40:56.882Z"
   },
   {
    "duration": 1043,
    "start_time": "2022-04-21T04:40:56.904Z"
   },
   {
    "duration": 19,
    "start_time": "2022-04-21T04:40:57.949Z"
   },
   {
    "duration": 492,
    "start_time": "2022-04-21T04:40:57.970Z"
   },
   {
    "duration": 14,
    "start_time": "2022-04-21T04:40:58.464Z"
   },
   {
    "duration": 19,
    "start_time": "2022-04-21T04:40:58.493Z"
   },
   {
    "duration": 525,
    "start_time": "2022-04-21T04:40:58.514Z"
   },
   {
    "duration": 0,
    "start_time": "2022-04-21T04:40:59.041Z"
   },
   {
    "duration": 332,
    "start_time": "2022-04-21T04:41:51.339Z"
   },
   {
    "duration": 247,
    "start_time": "2022-04-21T04:42:41.721Z"
   },
   {
    "duration": 688,
    "start_time": "2022-04-21T04:42:59.682Z"
   },
   {
    "duration": 19,
    "start_time": "2022-04-21T04:43:07.930Z"
   },
   {
    "duration": 258,
    "start_time": "2022-04-21T04:44:28.706Z"
   },
   {
    "duration": 242,
    "start_time": "2022-04-21T04:47:16.676Z"
   },
   {
    "duration": 21,
    "start_time": "2022-04-21T04:49:53.751Z"
   },
   {
    "duration": 20,
    "start_time": "2022-04-21T04:51:10.476Z"
   },
   {
    "duration": 249,
    "start_time": "2022-04-21T04:51:22.682Z"
   },
   {
    "duration": 91,
    "start_time": "2022-04-21T04:55:22.168Z"
   },
   {
    "duration": 39,
    "start_time": "2022-04-21T05:00:07.937Z"
   },
   {
    "duration": 38,
    "start_time": "2022-04-21T05:01:24.087Z"
   },
   {
    "duration": 299,
    "start_time": "2022-04-21T05:23:48.533Z"
   },
   {
    "duration": 3041,
    "start_time": "2022-04-21T05:25:43.380Z"
   },
   {
    "duration": 11,
    "start_time": "2022-04-21T05:26:40.650Z"
   },
   {
    "duration": 19,
    "start_time": "2022-04-21T05:26:56.167Z"
   },
   {
    "duration": 278,
    "start_time": "2022-04-21T05:27:05.430Z"
   },
   {
    "duration": 277,
    "start_time": "2022-04-21T05:27:50.942Z"
   },
   {
    "duration": 287,
    "start_time": "2022-04-21T05:28:21.687Z"
   },
   {
    "duration": 347,
    "start_time": "2022-04-21T05:28:48.926Z"
   },
   {
    "duration": 427,
    "start_time": "2022-04-21T05:28:58.342Z"
   },
   {
    "duration": 327,
    "start_time": "2022-04-21T05:29:04.589Z"
   },
   {
    "duration": 341,
    "start_time": "2022-04-21T05:30:47.382Z"
   },
   {
    "duration": 167,
    "start_time": "2022-04-21T05:31:33.844Z"
   },
   {
    "duration": 170,
    "start_time": "2022-04-21T05:31:41.116Z"
   },
   {
    "duration": 331,
    "start_time": "2022-04-21T05:31:48.805Z"
   },
   {
    "duration": 340,
    "start_time": "2022-04-21T05:33:27.060Z"
   },
   {
    "duration": 336,
    "start_time": "2022-04-21T05:33:37.379Z"
   },
   {
    "duration": 343,
    "start_time": "2022-04-21T05:34:07.971Z"
   },
   {
    "duration": 338,
    "start_time": "2022-04-21T05:36:19.373Z"
   },
   {
    "duration": 265,
    "start_time": "2022-04-21T05:38:11.925Z"
   },
   {
    "duration": 285,
    "start_time": "2022-04-21T05:38:20.096Z"
   },
   {
    "duration": 330,
    "start_time": "2022-04-21T05:38:27.324Z"
   },
   {
    "duration": 544,
    "start_time": "2022-04-21T05:52:46.810Z"
   },
   {
    "duration": 348,
    "start_time": "2022-04-21T05:54:40.028Z"
   },
   {
    "duration": 335,
    "start_time": "2022-04-21T05:54:49.261Z"
   },
   {
    "duration": 331,
    "start_time": "2022-04-21T05:55:32.547Z"
   },
   {
    "duration": 371,
    "start_time": "2022-04-21T05:55:45.177Z"
   },
   {
    "duration": 335,
    "start_time": "2022-04-21T05:56:46.466Z"
   },
   {
    "duration": 1051,
    "start_time": "2022-04-21T05:57:49.005Z"
   },
   {
    "duration": 343,
    "start_time": "2022-04-21T05:58:15.540Z"
   },
   {
    "duration": 446,
    "start_time": "2022-04-21T05:58:21.962Z"
   },
   {
    "duration": 341,
    "start_time": "2022-04-21T05:58:36.587Z"
   },
   {
    "duration": 336,
    "start_time": "2022-04-21T05:58:40.114Z"
   },
   {
    "duration": 676,
    "start_time": "2022-04-21T06:01:03.420Z"
   },
   {
    "duration": 695,
    "start_time": "2022-04-21T06:08:17.667Z"
   },
   {
    "duration": 72,
    "start_time": "2022-04-21T08:20:53.767Z"
   },
   {
    "duration": 1880,
    "start_time": "2022-04-21T08:21:01.118Z"
   },
   {
    "duration": 88,
    "start_time": "2022-04-21T08:21:03.001Z"
   },
   {
    "duration": 19,
    "start_time": "2022-04-21T08:21:03.091Z"
   },
   {
    "duration": 13,
    "start_time": "2022-04-21T08:21:03.112Z"
   },
   {
    "duration": 48,
    "start_time": "2022-04-21T08:21:03.128Z"
   },
   {
    "duration": 85,
    "start_time": "2022-04-21T08:21:03.178Z"
   },
   {
    "duration": 7,
    "start_time": "2022-04-21T08:21:03.265Z"
   },
   {
    "duration": 6,
    "start_time": "2022-04-21T08:21:03.274Z"
   },
   {
    "duration": 30,
    "start_time": "2022-04-21T08:21:03.282Z"
   },
   {
    "duration": 44,
    "start_time": "2022-04-21T08:21:03.314Z"
   },
   {
    "duration": 264,
    "start_time": "2022-04-21T08:21:03.360Z"
   },
   {
    "duration": 8,
    "start_time": "2022-04-21T08:21:03.627Z"
   },
   {
    "duration": 19,
    "start_time": "2022-04-21T08:21:03.637Z"
   },
   {
    "duration": 25,
    "start_time": "2022-04-21T08:21:03.661Z"
   },
   {
    "duration": 3,
    "start_time": "2022-04-21T08:21:03.688Z"
   },
   {
    "duration": 9,
    "start_time": "2022-04-21T08:21:03.693Z"
   },
   {
    "duration": 18,
    "start_time": "2022-04-21T08:21:03.704Z"
   },
   {
    "duration": 25,
    "start_time": "2022-04-21T08:21:03.724Z"
   },
   {
    "duration": 6,
    "start_time": "2022-04-21T08:21:03.752Z"
   },
   {
    "duration": 29,
    "start_time": "2022-04-21T08:21:03.760Z"
   },
   {
    "duration": 36,
    "start_time": "2022-04-21T08:21:03.791Z"
   },
   {
    "duration": 26,
    "start_time": "2022-04-21T08:21:03.852Z"
   },
   {
    "duration": 32,
    "start_time": "2022-04-21T08:21:03.880Z"
   },
   {
    "duration": 8,
    "start_time": "2022-04-21T08:21:03.914Z"
   },
   {
    "duration": 51,
    "start_time": "2022-04-21T08:21:03.924Z"
   },
   {
    "duration": 15,
    "start_time": "2022-04-21T08:21:03.978Z"
   },
   {
    "duration": 66,
    "start_time": "2022-04-21T08:21:03.995Z"
   },
   {
    "duration": 16,
    "start_time": "2022-04-21T08:21:04.063Z"
   },
   {
    "duration": 14,
    "start_time": "2022-04-21T08:21:04.081Z"
   },
   {
    "duration": 12,
    "start_time": "2022-04-21T08:21:04.098Z"
   },
   {
    "duration": 48,
    "start_time": "2022-04-21T08:21:04.112Z"
   },
   {
    "duration": 308,
    "start_time": "2022-04-21T08:21:04.161Z"
   },
   {
    "duration": 1684,
    "start_time": "2022-04-21T08:21:04.471Z"
   },
   {
    "duration": 0,
    "start_time": "2022-04-21T08:21:06.157Z"
   },
   {
    "duration": 0,
    "start_time": "2022-04-21T08:21:06.159Z"
   },
   {
    "duration": 0,
    "start_time": "2022-04-21T08:21:06.160Z"
   },
   {
    "duration": 0,
    "start_time": "2022-04-21T08:21:06.162Z"
   },
   {
    "duration": 0,
    "start_time": "2022-04-21T08:21:06.164Z"
   },
   {
    "duration": 0,
    "start_time": "2022-04-21T08:21:06.166Z"
   },
   {
    "duration": 0,
    "start_time": "2022-04-21T08:21:06.167Z"
   },
   {
    "duration": 0,
    "start_time": "2022-04-21T08:21:06.169Z"
   },
   {
    "duration": 0,
    "start_time": "2022-04-21T08:21:06.171Z"
   },
   {
    "duration": 1566,
    "start_time": "2022-04-21T08:21:46.918Z"
   },
   {
    "duration": 1481,
    "start_time": "2022-04-21T08:23:59.510Z"
   },
   {
    "duration": 1666,
    "start_time": "2022-04-21T08:24:20.525Z"
   },
   {
    "duration": 1565,
    "start_time": "2022-04-21T08:33:38.128Z"
   },
   {
    "duration": 1408,
    "start_time": "2022-04-21T08:36:48.483Z"
   },
   {
    "duration": 1479,
    "start_time": "2022-04-21T08:37:39.706Z"
   },
   {
    "duration": 1390,
    "start_time": "2022-04-21T08:37:53.786Z"
   },
   {
    "duration": 1622,
    "start_time": "2022-04-21T08:38:12.579Z"
   },
   {
    "duration": 158,
    "start_time": "2022-04-21T08:39:18.657Z"
   },
   {
    "duration": 1650,
    "start_time": "2022-04-21T08:39:33.472Z"
   },
   {
    "duration": 1369,
    "start_time": "2022-04-21T08:41:51.904Z"
   },
   {
    "duration": 1551,
    "start_time": "2022-04-21T08:42:07.824Z"
   },
   {
    "duration": 1493,
    "start_time": "2022-04-21T08:49:41.472Z"
   },
   {
    "duration": 1385,
    "start_time": "2022-04-21T08:51:56.260Z"
   },
   {
    "duration": 1454,
    "start_time": "2022-04-21T08:52:48.036Z"
   },
   {
    "duration": 1612,
    "start_time": "2022-04-21T08:53:21.526Z"
   },
   {
    "duration": 80,
    "start_time": "2022-04-21T08:53:23.141Z"
   },
   {
    "duration": 43,
    "start_time": "2022-04-21T08:53:23.223Z"
   },
   {
    "duration": 25,
    "start_time": "2022-04-21T08:53:23.269Z"
   },
   {
    "duration": 35,
    "start_time": "2022-04-21T08:53:23.298Z"
   },
   {
    "duration": 117,
    "start_time": "2022-04-21T08:53:23.353Z"
   },
   {
    "duration": 9,
    "start_time": "2022-04-21T08:53:23.472Z"
   },
   {
    "duration": 7,
    "start_time": "2022-04-21T08:53:23.484Z"
   },
   {
    "duration": 60,
    "start_time": "2022-04-21T08:53:23.494Z"
   },
   {
    "duration": 13,
    "start_time": "2022-04-21T08:53:23.557Z"
   },
   {
    "duration": 202,
    "start_time": "2022-04-21T08:53:23.573Z"
   },
   {
    "duration": 8,
    "start_time": "2022-04-21T08:53:23.777Z"
   },
   {
    "duration": 27,
    "start_time": "2022-04-21T08:53:23.786Z"
   },
   {
    "duration": 55,
    "start_time": "2022-04-21T08:53:23.817Z"
   },
   {
    "duration": 3,
    "start_time": "2022-04-21T08:53:23.874Z"
   },
   {
    "duration": 7,
    "start_time": "2022-04-21T08:53:23.879Z"
   },
   {
    "duration": 7,
    "start_time": "2022-04-21T08:53:23.888Z"
   },
   {
    "duration": 9,
    "start_time": "2022-04-21T08:53:23.897Z"
   },
   {
    "duration": 6,
    "start_time": "2022-04-21T08:53:23.908Z"
   },
   {
    "duration": 53,
    "start_time": "2022-04-21T08:53:23.916Z"
   },
   {
    "duration": 35,
    "start_time": "2022-04-21T08:53:23.971Z"
   },
   {
    "duration": 46,
    "start_time": "2022-04-21T08:53:24.008Z"
   },
   {
    "duration": 33,
    "start_time": "2022-04-21T08:53:24.056Z"
   },
   {
    "duration": 7,
    "start_time": "2022-04-21T08:53:24.091Z"
   },
   {
    "duration": 54,
    "start_time": "2022-04-21T08:53:24.100Z"
   },
   {
    "duration": 14,
    "start_time": "2022-04-21T08:53:24.157Z"
   },
   {
    "duration": 27,
    "start_time": "2022-04-21T08:53:24.173Z"
   },
   {
    "duration": 13,
    "start_time": "2022-04-21T08:53:24.202Z"
   },
   {
    "duration": 47,
    "start_time": "2022-04-21T08:53:24.216Z"
   },
   {
    "duration": 16,
    "start_time": "2022-04-21T08:53:24.265Z"
   },
   {
    "duration": 636,
    "start_time": "2022-04-21T08:53:24.284Z"
   },
   {
    "duration": 0,
    "start_time": "2022-04-21T08:53:24.922Z"
   },
   {
    "duration": 0,
    "start_time": "2022-04-21T08:53:24.924Z"
   },
   {
    "duration": 0,
    "start_time": "2022-04-21T08:53:24.925Z"
   },
   {
    "duration": 0,
    "start_time": "2022-04-21T08:53:24.927Z"
   },
   {
    "duration": 0,
    "start_time": "2022-04-21T08:53:24.929Z"
   },
   {
    "duration": 0,
    "start_time": "2022-04-21T08:53:24.930Z"
   },
   {
    "duration": 0,
    "start_time": "2022-04-21T08:53:24.932Z"
   },
   {
    "duration": 0,
    "start_time": "2022-04-21T08:53:24.933Z"
   },
   {
    "duration": 0,
    "start_time": "2022-04-21T08:53:24.934Z"
   },
   {
    "duration": 0,
    "start_time": "2022-04-21T08:53:24.935Z"
   },
   {
    "duration": 0,
    "start_time": "2022-04-21T08:53:24.937Z"
   },
   {
    "duration": 27,
    "start_time": "2022-04-21T08:59:15.088Z"
   },
   {
    "duration": 24,
    "start_time": "2022-04-21T08:59:26.972Z"
   },
   {
    "duration": 22,
    "start_time": "2022-04-21T08:59:38.372Z"
   },
   {
    "duration": 604,
    "start_time": "2022-04-21T09:00:11.102Z"
   },
   {
    "duration": 23,
    "start_time": "2022-04-21T09:00:20.420Z"
   },
   {
    "duration": 24,
    "start_time": "2022-04-21T09:01:30.531Z"
   },
   {
    "duration": 79,
    "start_time": "2022-04-21T09:02:04.845Z"
   },
   {
    "duration": 16,
    "start_time": "2022-04-21T09:02:18.720Z"
   },
   {
    "duration": 9,
    "start_time": "2022-04-21T09:04:10.346Z"
   },
   {
    "duration": 1558,
    "start_time": "2022-04-21T09:04:46.428Z"
   },
   {
    "duration": 84,
    "start_time": "2022-04-21T09:04:47.989Z"
   },
   {
    "duration": 19,
    "start_time": "2022-04-21T09:04:48.075Z"
   },
   {
    "duration": 15,
    "start_time": "2022-04-21T09:04:48.096Z"
   },
   {
    "duration": 59,
    "start_time": "2022-04-21T09:04:48.113Z"
   },
   {
    "duration": 79,
    "start_time": "2022-04-21T09:04:48.174Z"
   },
   {
    "duration": 7,
    "start_time": "2022-04-21T09:04:48.255Z"
   },
   {
    "duration": 8,
    "start_time": "2022-04-21T09:04:48.264Z"
   },
   {
    "duration": 30,
    "start_time": "2022-04-21T09:04:48.274Z"
   },
   {
    "duration": 11,
    "start_time": "2022-04-21T09:04:48.308Z"
   },
   {
    "duration": 250,
    "start_time": "2022-04-21T09:04:48.353Z"
   },
   {
    "duration": 8,
    "start_time": "2022-04-21T09:04:48.606Z"
   },
   {
    "duration": 20,
    "start_time": "2022-04-21T09:04:48.617Z"
   },
   {
    "duration": 32,
    "start_time": "2022-04-21T09:04:48.640Z"
   },
   {
    "duration": 4,
    "start_time": "2022-04-21T09:04:48.675Z"
   },
   {
    "duration": 7,
    "start_time": "2022-04-21T09:04:48.682Z"
   },
   {
    "duration": 8,
    "start_time": "2022-04-21T09:04:48.691Z"
   },
   {
    "duration": 6,
    "start_time": "2022-04-21T09:04:48.702Z"
   },
   {
    "duration": 7,
    "start_time": "2022-04-21T09:04:48.710Z"
   },
   {
    "duration": 28,
    "start_time": "2022-04-21T09:04:48.752Z"
   },
   {
    "duration": 38,
    "start_time": "2022-04-21T09:04:48.782Z"
   },
   {
    "duration": 42,
    "start_time": "2022-04-21T09:04:48.823Z"
   },
   {
    "duration": 32,
    "start_time": "2022-04-21T09:04:48.867Z"
   },
   {
    "duration": 7,
    "start_time": "2022-04-21T09:04:48.901Z"
   },
   {
    "duration": 58,
    "start_time": "2022-04-21T09:04:48.910Z"
   },
   {
    "duration": 14,
    "start_time": "2022-04-21T09:04:48.970Z"
   },
   {
    "duration": 30,
    "start_time": "2022-04-21T09:04:48.986Z"
   },
   {
    "duration": 44,
    "start_time": "2022-04-21T09:04:49.021Z"
   },
   {
    "duration": 16,
    "start_time": "2022-04-21T09:04:49.067Z"
   },
   {
    "duration": 17,
    "start_time": "2022-04-21T09:04:49.085Z"
   },
   {
    "duration": 52,
    "start_time": "2022-04-21T09:04:49.105Z"
   },
   {
    "duration": 237,
    "start_time": "2022-04-21T09:04:49.159Z"
   },
   {
    "duration": 14,
    "start_time": "2022-04-21T09:04:49.398Z"
   },
   {
    "duration": 1038,
    "start_time": "2022-04-21T09:04:49.414Z"
   },
   {
    "duration": 20,
    "start_time": "2022-04-21T09:04:50.454Z"
   },
   {
    "duration": 425,
    "start_time": "2022-04-21T09:04:50.476Z"
   },
   {
    "duration": 15,
    "start_time": "2022-04-21T09:04:50.903Z"
   },
   {
    "duration": 36,
    "start_time": "2022-04-21T09:04:50.920Z"
   },
   {
    "duration": 270,
    "start_time": "2022-04-21T09:04:50.958Z"
   },
   {
    "duration": 98,
    "start_time": "2022-04-21T09:04:51.230Z"
   },
   {
    "duration": 437,
    "start_time": "2022-04-21T09:04:51.331Z"
   },
   {
    "duration": 588,
    "start_time": "2022-04-21T09:04:51.770Z"
   },
   {
    "duration": 22,
    "start_time": "2022-04-21T09:08:27.178Z"
   },
   {
    "duration": 5,
    "start_time": "2022-04-21T09:10:59.158Z"
   },
   {
    "duration": 200,
    "start_time": "2022-04-21T09:11:02.185Z"
   },
   {
    "duration": 11,
    "start_time": "2022-04-21T09:11:31.490Z"
   },
   {
    "duration": 17,
    "start_time": "2022-04-21T09:12:20.778Z"
   },
   {
    "duration": 11,
    "start_time": "2022-04-21T09:12:26.353Z"
   },
   {
    "duration": 195,
    "start_time": "2022-04-21T09:12:33.359Z"
   },
   {
    "duration": 523,
    "start_time": "2022-04-21T09:13:22.194Z"
   },
   {
    "duration": 36,
    "start_time": "2022-04-21T09:16:43.459Z"
   },
   {
    "duration": 321,
    "start_time": "2022-04-21T09:16:53.048Z"
   },
   {
    "duration": 451,
    "start_time": "2022-04-21T09:18:21.778Z"
   },
   {
    "duration": 8448,
    "start_time": "2022-04-21T09:19:24.144Z"
   },
   {
    "duration": 5889,
    "start_time": "2022-04-21T09:19:41.121Z"
   },
   {
    "duration": 87,
    "start_time": "2022-04-21T09:19:47.014Z"
   },
   {
    "duration": 21,
    "start_time": "2022-04-21T09:19:47.103Z"
   },
   {
    "duration": 34,
    "start_time": "2022-04-21T09:19:47.126Z"
   },
   {
    "duration": 25,
    "start_time": "2022-04-21T09:19:47.163Z"
   },
   {
    "duration": 88,
    "start_time": "2022-04-21T09:19:47.190Z"
   },
   {
    "duration": 6,
    "start_time": "2022-04-21T09:19:47.280Z"
   },
   {
    "duration": 10,
    "start_time": "2022-04-21T09:19:47.288Z"
   },
   {
    "duration": 51,
    "start_time": "2022-04-21T09:19:47.301Z"
   },
   {
    "duration": 12,
    "start_time": "2022-04-21T09:19:47.354Z"
   },
   {
    "duration": 197,
    "start_time": "2022-04-21T09:19:47.368Z"
   },
   {
    "duration": 8,
    "start_time": "2022-04-21T09:19:47.567Z"
   },
   {
    "duration": 20,
    "start_time": "2022-04-21T09:19:47.577Z"
   },
   {
    "duration": 53,
    "start_time": "2022-04-21T09:19:47.601Z"
   },
   {
    "duration": 4,
    "start_time": "2022-04-21T09:19:47.656Z"
   },
   {
    "duration": 5,
    "start_time": "2022-04-21T09:19:47.663Z"
   },
   {
    "duration": 5,
    "start_time": "2022-04-21T09:19:47.671Z"
   },
   {
    "duration": 5,
    "start_time": "2022-04-21T09:19:47.679Z"
   },
   {
    "duration": 5,
    "start_time": "2022-04-21T09:19:47.686Z"
   },
   {
    "duration": 62,
    "start_time": "2022-04-21T09:19:47.693Z"
   },
   {
    "duration": 35,
    "start_time": "2022-04-21T09:19:47.757Z"
   },
   {
    "duration": 58,
    "start_time": "2022-04-21T09:19:47.795Z"
   },
   {
    "duration": 33,
    "start_time": "2022-04-21T09:19:47.855Z"
   },
   {
    "duration": 7,
    "start_time": "2022-04-21T09:19:47.890Z"
   },
   {
    "duration": 55,
    "start_time": "2022-04-21T09:19:47.899Z"
   },
   {
    "duration": 13,
    "start_time": "2022-04-21T09:19:47.957Z"
   },
   {
    "duration": 27,
    "start_time": "2022-04-21T09:19:47.973Z"
   },
   {
    "duration": 20,
    "start_time": "2022-04-21T09:19:48.002Z"
   },
   {
    "duration": 39,
    "start_time": "2022-04-21T09:19:48.024Z"
   },
   {
    "duration": 8,
    "start_time": "2022-04-21T09:19:48.065Z"
   },
   {
    "duration": 17,
    "start_time": "2022-04-21T09:19:48.075Z"
   },
   {
    "duration": 12,
    "start_time": "2022-04-21T09:19:48.094Z"
   },
   {
    "duration": 376,
    "start_time": "2022-04-21T09:19:48.151Z"
   },
   {
    "duration": 24,
    "start_time": "2022-04-21T09:19:48.529Z"
   },
   {
    "duration": 1221,
    "start_time": "2022-04-21T09:19:48.555Z"
   },
   {
    "duration": 20,
    "start_time": "2022-04-21T09:19:49.779Z"
   },
   {
    "duration": 484,
    "start_time": "2022-04-21T09:19:49.801Z"
   },
   {
    "duration": 15,
    "start_time": "2022-04-21T09:19:50.288Z"
   },
   {
    "duration": 47,
    "start_time": "2022-04-21T09:19:50.306Z"
   },
   {
    "duration": 340,
    "start_time": "2022-04-21T09:19:50.355Z"
   },
   {
    "duration": 200,
    "start_time": "2022-04-21T09:19:50.700Z"
   },
   {
    "duration": 554,
    "start_time": "2022-04-21T09:19:50.902Z"
   },
   {
    "duration": 0,
    "start_time": "2022-04-21T09:19:51.459Z"
   },
   {
    "duration": 27,
    "start_time": "2022-04-21T09:22:25.943Z"
   },
   {
    "duration": 397,
    "start_time": "2022-04-21T09:22:58.881Z"
   },
   {
    "duration": 641,
    "start_time": "2022-04-21T09:23:31.351Z"
   },
   {
    "duration": 14,
    "start_time": "2022-04-21T09:38:27.187Z"
   },
   {
    "duration": 24,
    "start_time": "2022-04-21T09:44:49.199Z"
   },
   {
    "duration": 20,
    "start_time": "2022-04-21T09:47:03.739Z"
   },
   {
    "duration": 18,
    "start_time": "2022-04-21T09:47:10.165Z"
   },
   {
    "duration": 20,
    "start_time": "2022-04-21T09:48:03.053Z"
   },
   {
    "duration": 20,
    "start_time": "2022-04-21T09:48:09.607Z"
   },
   {
    "duration": 19,
    "start_time": "2022-04-21T09:49:45.411Z"
   },
   {
    "duration": 1498,
    "start_time": "2022-04-21T09:50:16.848Z"
   },
   {
    "duration": 263,
    "start_time": "2022-04-21T09:51:25.911Z"
   },
   {
    "duration": 1646,
    "start_time": "2022-04-21T09:51:34.525Z"
   },
   {
    "duration": 1502,
    "start_time": "2022-04-21T09:52:49.926Z"
   },
   {
    "duration": 1678,
    "start_time": "2022-04-21T09:53:30.580Z"
   },
   {
    "duration": 1412,
    "start_time": "2022-04-21T09:53:43.005Z"
   },
   {
    "duration": 7,
    "start_time": "2022-04-21T09:57:31.746Z"
   },
   {
    "duration": 7,
    "start_time": "2022-04-21T09:57:41.249Z"
   },
   {
    "duration": 7,
    "start_time": "2022-04-21T09:57:54.195Z"
   },
   {
    "duration": 6,
    "start_time": "2022-04-21T09:58:11.060Z"
   },
   {
    "duration": 144,
    "start_time": "2022-04-21T10:06:06.834Z"
   },
   {
    "duration": 127,
    "start_time": "2022-04-21T10:06:36.442Z"
   },
   {
    "duration": 8,
    "start_time": "2022-04-21T10:06:44.002Z"
   },
   {
    "duration": 9,
    "start_time": "2022-04-21T10:08:16.809Z"
   },
   {
    "duration": 21,
    "start_time": "2022-04-21T10:12:40.609Z"
   },
   {
    "duration": 1588,
    "start_time": "2022-04-21T10:16:00.597Z"
   },
   {
    "duration": 2031,
    "start_time": "2022-04-21T10:17:56.628Z"
   },
   {
    "duration": 8,
    "start_time": "2022-04-21T10:22:26.756Z"
   },
   {
    "duration": 10,
    "start_time": "2022-04-21T10:33:19.816Z"
   },
   {
    "duration": 477,
    "start_time": "2022-04-21T10:33:54.191Z"
   },
   {
    "duration": 489,
    "start_time": "2022-04-21T10:34:03.026Z"
   },
   {
    "duration": 2067,
    "start_time": "2022-04-21T10:34:36.219Z"
   },
   {
    "duration": 83,
    "start_time": "2022-04-21T10:34:38.288Z"
   },
   {
    "duration": 19,
    "start_time": "2022-04-21T10:34:38.373Z"
   },
   {
    "duration": 17,
    "start_time": "2022-04-21T10:34:38.394Z"
   },
   {
    "duration": 51,
    "start_time": "2022-04-21T10:34:38.415Z"
   },
   {
    "duration": 67,
    "start_time": "2022-04-21T10:34:38.468Z"
   },
   {
    "duration": 8,
    "start_time": "2022-04-21T10:34:38.552Z"
   },
   {
    "duration": 8,
    "start_time": "2022-04-21T10:34:38.561Z"
   },
   {
    "duration": 29,
    "start_time": "2022-04-21T10:34:38.571Z"
   },
   {
    "duration": 11,
    "start_time": "2022-04-21T10:34:38.602Z"
   },
   {
    "duration": 274,
    "start_time": "2022-04-21T10:34:38.615Z"
   },
   {
    "duration": 8,
    "start_time": "2022-04-21T10:34:38.891Z"
   },
   {
    "duration": 21,
    "start_time": "2022-04-21T10:34:38.900Z"
   },
   {
    "duration": 37,
    "start_time": "2022-04-21T10:34:38.926Z"
   },
   {
    "duration": 3,
    "start_time": "2022-04-21T10:34:38.965Z"
   },
   {
    "duration": 5,
    "start_time": "2022-04-21T10:34:38.970Z"
   },
   {
    "duration": 8,
    "start_time": "2022-04-21T10:34:38.978Z"
   },
   {
    "duration": 6,
    "start_time": "2022-04-21T10:34:38.988Z"
   },
   {
    "duration": 7,
    "start_time": "2022-04-21T10:34:38.997Z"
   },
   {
    "duration": 63,
    "start_time": "2022-04-21T10:34:39.006Z"
   },
   {
    "duration": 36,
    "start_time": "2022-04-21T10:34:39.072Z"
   },
   {
    "duration": 57,
    "start_time": "2022-04-21T10:34:39.111Z"
   },
   {
    "duration": 33,
    "start_time": "2022-04-21T10:34:39.171Z"
   },
   {
    "duration": 8,
    "start_time": "2022-04-21T10:34:39.207Z"
   },
   {
    "duration": 55,
    "start_time": "2022-04-21T10:34:39.218Z"
   },
   {
    "duration": 15,
    "start_time": "2022-04-21T10:34:39.276Z"
   },
   {
    "duration": 27,
    "start_time": "2022-04-21T10:34:39.294Z"
   },
   {
    "duration": 39,
    "start_time": "2022-04-21T10:34:39.323Z"
   },
   {
    "duration": 13,
    "start_time": "2022-04-21T10:34:39.364Z"
   },
   {
    "duration": 9,
    "start_time": "2022-04-21T10:34:39.379Z"
   },
   {
    "duration": 16,
    "start_time": "2022-04-21T10:34:39.390Z"
   },
   {
    "duration": 52,
    "start_time": "2022-04-21T10:34:39.408Z"
   },
   {
    "duration": 321,
    "start_time": "2022-04-21T10:34:39.462Z"
   },
   {
    "duration": 11,
    "start_time": "2022-04-21T10:34:39.785Z"
   },
   {
    "duration": 1240,
    "start_time": "2022-04-21T10:34:39.798Z"
   },
   {
    "duration": 24,
    "start_time": "2022-04-21T10:34:41.040Z"
   },
   {
    "duration": 486,
    "start_time": "2022-04-21T10:34:41.066Z"
   },
   {
    "duration": 15,
    "start_time": "2022-04-21T10:34:41.554Z"
   },
   {
    "duration": 20,
    "start_time": "2022-04-21T10:34:41.572Z"
   },
   {
    "duration": 420,
    "start_time": "2022-04-21T10:34:41.594Z"
   },
   {
    "duration": 189,
    "start_time": "2022-04-21T10:34:42.019Z"
   },
   {
    "duration": 435,
    "start_time": "2022-04-21T10:34:42.210Z"
   },
   {
    "duration": 628,
    "start_time": "2022-04-21T10:34:42.647Z"
   },
   {
    "duration": 17,
    "start_time": "2022-04-21T10:34:43.277Z"
   },
   {
    "duration": 23,
    "start_time": "2022-04-21T10:34:43.297Z"
   },
   {
    "duration": 1427,
    "start_time": "2022-04-21T10:34:43.352Z"
   },
   {
    "duration": 8,
    "start_time": "2022-04-21T10:34:44.782Z"
   },
   {
    "duration": 14,
    "start_time": "2022-04-21T10:34:44.793Z"
   },
   {
    "duration": 19,
    "start_time": "2022-04-21T10:38:51.100Z"
   },
   {
    "duration": 171,
    "start_time": "2022-04-21T10:41:49.637Z"
   },
   {
    "duration": 18,
    "start_time": "2022-04-21T10:44:05.222Z"
   },
   {
    "duration": 16,
    "start_time": "2022-04-21T10:44:35.420Z"
   },
   {
    "duration": 15,
    "start_time": "2022-04-21T10:45:09.436Z"
   },
   {
    "duration": 21,
    "start_time": "2022-04-21T10:52:38.859Z"
   },
   {
    "duration": 17,
    "start_time": "2022-04-21T10:56:21.458Z"
   },
   {
    "duration": 17,
    "start_time": "2022-04-21T10:56:47.040Z"
   },
   {
    "duration": 17,
    "start_time": "2022-04-21T10:57:26.215Z"
   },
   {
    "duration": 2179,
    "start_time": "2022-04-21T10:57:39.110Z"
   },
   {
    "duration": 84,
    "start_time": "2022-04-21T10:57:41.291Z"
   },
   {
    "duration": 19,
    "start_time": "2022-04-21T10:57:41.377Z"
   },
   {
    "duration": 13,
    "start_time": "2022-04-21T10:57:41.399Z"
   },
   {
    "duration": 54,
    "start_time": "2022-04-21T10:57:41.415Z"
   },
   {
    "duration": 115,
    "start_time": "2022-04-21T10:57:41.471Z"
   },
   {
    "duration": 9,
    "start_time": "2022-04-21T10:57:41.588Z"
   },
   {
    "duration": 7,
    "start_time": "2022-04-21T10:57:41.599Z"
   },
   {
    "duration": 54,
    "start_time": "2022-04-21T10:57:41.608Z"
   },
   {
    "duration": 11,
    "start_time": "2022-04-21T10:57:41.668Z"
   },
   {
    "duration": 257,
    "start_time": "2022-04-21T10:57:41.681Z"
   },
   {
    "duration": 6,
    "start_time": "2022-04-21T10:57:41.941Z"
   },
   {
    "duration": 19,
    "start_time": "2022-04-21T10:57:41.949Z"
   },
   {
    "duration": 23,
    "start_time": "2022-04-21T10:57:41.970Z"
   },
   {
    "duration": 3,
    "start_time": "2022-04-21T10:57:41.995Z"
   },
   {
    "duration": 6,
    "start_time": "2022-04-21T10:57:42.000Z"
   },
   {
    "duration": 44,
    "start_time": "2022-04-21T10:57:42.008Z"
   },
   {
    "duration": 6,
    "start_time": "2022-04-21T10:57:42.054Z"
   },
   {
    "duration": 7,
    "start_time": "2022-04-21T10:57:42.062Z"
   },
   {
    "duration": 25,
    "start_time": "2022-04-21T10:57:42.071Z"
   },
   {
    "duration": 59,
    "start_time": "2022-04-21T10:57:42.099Z"
   },
   {
    "duration": 25,
    "start_time": "2022-04-21T10:57:42.160Z"
   },
   {
    "duration": 33,
    "start_time": "2022-04-21T10:57:42.187Z"
   },
   {
    "duration": 32,
    "start_time": "2022-04-21T10:57:42.222Z"
   },
   {
    "duration": 29,
    "start_time": "2022-04-21T10:57:42.256Z"
   },
   {
    "duration": 13,
    "start_time": "2022-04-21T10:57:42.287Z"
   },
   {
    "duration": 56,
    "start_time": "2022-04-21T10:57:42.302Z"
   },
   {
    "duration": 12,
    "start_time": "2022-04-21T10:57:42.366Z"
   },
   {
    "duration": 17,
    "start_time": "2022-04-21T10:57:42.380Z"
   },
   {
    "duration": 12,
    "start_time": "2022-04-21T10:57:42.399Z"
   },
   {
    "duration": 45,
    "start_time": "2022-04-21T10:57:42.413Z"
   },
   {
    "duration": 16,
    "start_time": "2022-04-21T10:57:42.460Z"
   },
   {
    "duration": 303,
    "start_time": "2022-04-21T10:57:42.478Z"
   },
   {
    "duration": 11,
    "start_time": "2022-04-21T10:57:42.783Z"
   },
   {
    "duration": 1242,
    "start_time": "2022-04-21T10:57:42.796Z"
   },
   {
    "duration": 23,
    "start_time": "2022-04-21T10:57:44.040Z"
   },
   {
    "duration": 486,
    "start_time": "2022-04-21T10:57:44.065Z"
   },
   {
    "duration": 13,
    "start_time": "2022-04-21T10:57:44.554Z"
   },
   {
    "duration": 20,
    "start_time": "2022-04-21T10:57:44.569Z"
   },
   {
    "duration": 387,
    "start_time": "2022-04-21T10:57:44.591Z"
   },
   {
    "duration": 186,
    "start_time": "2022-04-21T10:57:44.980Z"
   },
   {
    "duration": 362,
    "start_time": "2022-04-21T10:57:45.169Z"
   },
   {
    "duration": 629,
    "start_time": "2022-04-21T10:57:45.534Z"
   },
   {
    "duration": 14,
    "start_time": "2022-04-21T10:57:46.165Z"
   },
   {
    "duration": 24,
    "start_time": "2022-04-21T10:57:46.181Z"
   },
   {
    "duration": 1472,
    "start_time": "2022-04-21T10:57:46.207Z"
   },
   {
    "duration": 7,
    "start_time": "2022-04-21T10:57:47.681Z"
   },
   {
    "duration": 23,
    "start_time": "2022-04-21T10:57:47.689Z"
   },
   {
    "duration": 180,
    "start_time": "2022-04-21T10:57:47.714Z"
   },
   {
    "duration": 16,
    "start_time": "2022-04-21T10:59:12.852Z"
   },
   {
    "duration": 16,
    "start_time": "2022-04-21T10:59:39.627Z"
   },
   {
    "duration": 1466,
    "start_time": "2022-04-22T09:06:41.792Z"
   },
   {
    "duration": 75,
    "start_time": "2022-04-22T09:06:43.260Z"
   },
   {
    "duration": 25,
    "start_time": "2022-04-22T09:06:43.337Z"
   },
   {
    "duration": 16,
    "start_time": "2022-04-22T09:06:43.374Z"
   },
   {
    "duration": 42,
    "start_time": "2022-04-22T09:06:43.393Z"
   },
   {
    "duration": 69,
    "start_time": "2022-04-22T09:06:43.437Z"
   },
   {
    "duration": 5,
    "start_time": "2022-04-22T09:06:43.507Z"
   },
   {
    "duration": 6,
    "start_time": "2022-04-22T09:06:43.514Z"
   },
   {
    "duration": 20,
    "start_time": "2022-04-22T09:06:43.522Z"
   },
   {
    "duration": 45,
    "start_time": "2022-04-22T09:06:43.545Z"
   },
   {
    "duration": 275,
    "start_time": "2022-04-22T09:06:43.592Z"
   },
   {
    "duration": 6,
    "start_time": "2022-04-22T09:06:43.869Z"
   },
   {
    "duration": 34,
    "start_time": "2022-04-22T09:06:43.878Z"
   },
   {
    "duration": 19,
    "start_time": "2022-04-22T09:06:43.914Z"
   },
   {
    "duration": 3,
    "start_time": "2022-04-22T09:06:43.935Z"
   },
   {
    "duration": 7,
    "start_time": "2022-04-22T09:06:43.940Z"
   },
   {
    "duration": 30,
    "start_time": "2022-04-22T09:06:43.948Z"
   },
   {
    "duration": 13,
    "start_time": "2022-04-22T09:06:43.981Z"
   },
   {
    "duration": 9,
    "start_time": "2022-04-22T09:06:43.996Z"
   },
   {
    "duration": 20,
    "start_time": "2022-04-22T09:06:44.007Z"
   },
   {
    "duration": 34,
    "start_time": "2022-04-22T09:06:44.029Z"
   },
   {
    "duration": 31,
    "start_time": "2022-04-22T09:06:44.078Z"
   },
   {
    "duration": 25,
    "start_time": "2022-04-22T09:06:44.111Z"
   },
   {
    "duration": 6,
    "start_time": "2022-04-22T09:06:44.138Z"
   },
   {
    "duration": 53,
    "start_time": "2022-04-22T09:06:44.145Z"
   },
   {
    "duration": 16,
    "start_time": "2022-04-22T09:06:44.201Z"
   },
   {
    "duration": 24,
    "start_time": "2022-04-22T09:06:44.219Z"
   },
   {
    "duration": 39,
    "start_time": "2022-04-22T09:06:44.247Z"
   },
   {
    "duration": 19,
    "start_time": "2022-04-22T09:06:44.288Z"
   },
   {
    "duration": 14,
    "start_time": "2022-04-22T09:06:44.309Z"
   },
   {
    "duration": 13,
    "start_time": "2022-04-22T09:06:44.325Z"
   },
   {
    "duration": 13,
    "start_time": "2022-04-22T09:06:44.340Z"
   },
   {
    "duration": 162,
    "start_time": "2022-04-22T09:06:44.381Z"
   },
   {
    "duration": 12,
    "start_time": "2022-04-22T09:06:44.545Z"
   },
   {
    "duration": 814,
    "start_time": "2022-04-22T09:06:44.559Z"
   },
   {
    "duration": 17,
    "start_time": "2022-04-22T09:06:45.375Z"
   },
   {
    "duration": 287,
    "start_time": "2022-04-22T09:06:45.397Z"
   },
   {
    "duration": 12,
    "start_time": "2022-04-22T09:06:45.686Z"
   },
   {
    "duration": 16,
    "start_time": "2022-04-22T09:06:45.700Z"
   },
   {
    "duration": 199,
    "start_time": "2022-04-22T09:06:45.718Z"
   },
   {
    "duration": 82,
    "start_time": "2022-04-22T09:06:45.919Z"
   },
   {
    "duration": 312,
    "start_time": "2022-04-22T09:06:46.003Z"
   },
   {
    "duration": 370,
    "start_time": "2022-04-22T09:06:46.318Z"
   },
   {
    "duration": 11,
    "start_time": "2022-04-22T09:06:46.690Z"
   },
   {
    "duration": 18,
    "start_time": "2022-04-22T09:06:46.703Z"
   },
   {
    "duration": 922,
    "start_time": "2022-04-22T09:06:46.723Z"
   },
   {
    "duration": 7,
    "start_time": "2022-04-22T09:06:47.647Z"
   },
   {
    "duration": 44,
    "start_time": "2022-04-22T09:06:47.656Z"
   },
   {
    "duration": 18,
    "start_time": "2022-04-22T09:06:47.702Z"
   },
   {
    "duration": 11,
    "start_time": "2022-04-22T09:23:23.597Z"
   },
   {
    "duration": 1260,
    "start_time": "2022-04-22T09:23:57.045Z"
   },
   {
    "duration": 73,
    "start_time": "2022-04-22T09:23:58.307Z"
   },
   {
    "duration": 17,
    "start_time": "2022-04-22T09:23:58.382Z"
   },
   {
    "duration": 13,
    "start_time": "2022-04-22T09:23:58.402Z"
   },
   {
    "duration": 28,
    "start_time": "2022-04-22T09:23:58.416Z"
   },
   {
    "duration": 68,
    "start_time": "2022-04-22T09:23:58.446Z"
   },
   {
    "duration": 6,
    "start_time": "2022-04-22T09:23:58.516Z"
   },
   {
    "duration": 7,
    "start_time": "2022-04-22T09:23:58.524Z"
   },
   {
    "duration": 57,
    "start_time": "2022-04-22T09:23:58.533Z"
   },
   {
    "duration": 9,
    "start_time": "2022-04-22T09:23:58.593Z"
   },
   {
    "duration": 226,
    "start_time": "2022-04-22T09:23:58.604Z"
   },
   {
    "duration": 6,
    "start_time": "2022-04-22T09:23:58.831Z"
   },
   {
    "duration": 15,
    "start_time": "2022-04-22T09:23:58.839Z"
   },
   {
    "duration": 24,
    "start_time": "2022-04-22T09:23:58.856Z"
   },
   {
    "duration": 6,
    "start_time": "2022-04-22T09:23:58.883Z"
   },
   {
    "duration": 7,
    "start_time": "2022-04-22T09:23:58.890Z"
   },
   {
    "duration": 7,
    "start_time": "2022-04-22T09:23:58.899Z"
   },
   {
    "duration": 5,
    "start_time": "2022-04-22T09:23:58.907Z"
   },
   {
    "duration": 6,
    "start_time": "2022-04-22T09:23:58.913Z"
   },
   {
    "duration": 20,
    "start_time": "2022-04-22T09:23:58.921Z"
   },
   {
    "duration": 67,
    "start_time": "2022-04-22T09:23:58.943Z"
   },
   {
    "duration": 25,
    "start_time": "2022-04-22T09:23:59.012Z"
   },
   {
    "duration": 63,
    "start_time": "2022-04-22T09:23:59.039Z"
   },
   {
    "duration": 8,
    "start_time": "2022-04-22T09:23:59.105Z"
   },
   {
    "duration": 17,
    "start_time": "2022-04-22T09:23:59.116Z"
   },
   {
    "duration": 47,
    "start_time": "2022-04-22T09:23:59.135Z"
   },
   {
    "duration": 32,
    "start_time": "2022-04-22T09:23:59.184Z"
   },
   {
    "duration": 16,
    "start_time": "2022-04-22T09:23:59.220Z"
   },
   {
    "duration": 15,
    "start_time": "2022-04-22T09:23:59.239Z"
   },
   {
    "duration": 30,
    "start_time": "2022-04-22T09:23:59.256Z"
   },
   {
    "duration": 16,
    "start_time": "2022-04-22T09:23:59.289Z"
   },
   {
    "duration": 155,
    "start_time": "2022-04-22T09:23:59.307Z"
   },
   {
    "duration": 21,
    "start_time": "2022-04-22T09:23:59.463Z"
   },
   {
    "duration": 818,
    "start_time": "2022-04-22T09:23:59.486Z"
   },
   {
    "duration": 14,
    "start_time": "2022-04-22T09:24:00.306Z"
   },
   {
    "duration": 272,
    "start_time": "2022-04-22T09:24:00.321Z"
   },
   {
    "duration": 13,
    "start_time": "2022-04-22T09:24:00.595Z"
   },
   {
    "duration": 198,
    "start_time": "2022-04-22T09:24:00.610Z"
   },
   {
    "duration": 84,
    "start_time": "2022-04-22T09:24:00.810Z"
   },
   {
    "duration": 322,
    "start_time": "2022-04-22T09:24:00.896Z"
   },
   {
    "duration": 398,
    "start_time": "2022-04-22T09:24:01.220Z"
   },
   {
    "duration": 18,
    "start_time": "2022-04-22T09:24:01.620Z"
   },
   {
    "duration": 42,
    "start_time": "2022-04-22T09:24:01.640Z"
   },
   {
    "duration": 958,
    "start_time": "2022-04-22T09:24:01.684Z"
   },
   {
    "duration": 6,
    "start_time": "2022-04-22T09:24:02.644Z"
   },
   {
    "duration": 33,
    "start_time": "2022-04-22T09:24:02.652Z"
   },
   {
    "duration": 32,
    "start_time": "2022-04-22T09:24:02.690Z"
   },
   {
    "duration": 11,
    "start_time": "2022-04-22T09:38:55.213Z"
   },
   {
    "duration": 13,
    "start_time": "2022-04-22T09:39:39.387Z"
   },
   {
    "duration": 121,
    "start_time": "2022-04-22T09:41:10.266Z"
   },
   {
    "duration": 32,
    "start_time": "2022-04-22T09:41:20.571Z"
   },
   {
    "duration": 20,
    "start_time": "2022-04-22T09:42:28.515Z"
   },
   {
    "duration": 20,
    "start_time": "2022-04-22T09:43:30.817Z"
   },
   {
    "duration": 21,
    "start_time": "2022-04-22T09:44:19.251Z"
   },
   {
    "duration": 24,
    "start_time": "2022-04-22T09:45:37.239Z"
   },
   {
    "duration": 24,
    "start_time": "2022-04-22T09:45:50.941Z"
   },
   {
    "duration": 21,
    "start_time": "2022-04-22T09:46:49.345Z"
   },
   {
    "duration": 22,
    "start_time": "2022-04-22T09:48:09.217Z"
   },
   {
    "duration": 18,
    "start_time": "2022-04-22T09:56:52.941Z"
   },
   {
    "duration": 46,
    "start_time": "2022-04-22T13:32:54.124Z"
   },
   {
    "duration": 1293,
    "start_time": "2022-04-22T13:33:03.193Z"
   },
   {
    "duration": 62,
    "start_time": "2022-04-22T13:33:04.488Z"
   },
   {
    "duration": 23,
    "start_time": "2022-04-22T13:33:04.551Z"
   },
   {
    "duration": 14,
    "start_time": "2022-04-22T13:33:04.576Z"
   },
   {
    "duration": 18,
    "start_time": "2022-04-22T13:33:04.592Z"
   },
   {
    "duration": 62,
    "start_time": "2022-04-22T13:33:04.611Z"
   },
   {
    "duration": 6,
    "start_time": "2022-04-22T13:33:04.675Z"
   },
   {
    "duration": 5,
    "start_time": "2022-04-22T13:33:04.683Z"
   },
   {
    "duration": 20,
    "start_time": "2022-04-22T13:33:04.690Z"
   },
   {
    "duration": 9,
    "start_time": "2022-04-22T13:33:04.712Z"
   },
   {
    "duration": 211,
    "start_time": "2022-04-22T13:33:04.722Z"
   },
   {
    "duration": 6,
    "start_time": "2022-04-22T13:33:04.934Z"
   },
   {
    "duration": 23,
    "start_time": "2022-04-22T13:33:04.942Z"
   },
   {
    "duration": 20,
    "start_time": "2022-04-22T13:33:04.968Z"
   },
   {
    "duration": 9,
    "start_time": "2022-04-22T13:33:04.990Z"
   },
   {
    "duration": 12,
    "start_time": "2022-04-22T13:33:05.001Z"
   },
   {
    "duration": 11,
    "start_time": "2022-04-22T13:33:05.015Z"
   },
   {
    "duration": 12,
    "start_time": "2022-04-22T13:33:05.028Z"
   },
   {
    "duration": 9,
    "start_time": "2022-04-22T13:33:05.043Z"
   },
   {
    "duration": 24,
    "start_time": "2022-04-22T13:33:05.054Z"
   },
   {
    "duration": 32,
    "start_time": "2022-04-22T13:33:05.080Z"
   },
   {
    "duration": 21,
    "start_time": "2022-04-22T13:33:05.113Z"
   },
   {
    "duration": 49,
    "start_time": "2022-04-22T13:33:05.136Z"
   },
   {
    "duration": 6,
    "start_time": "2022-04-22T13:33:05.187Z"
   },
   {
    "duration": 30,
    "start_time": "2022-04-22T13:33:05.195Z"
   },
   {
    "duration": 10,
    "start_time": "2022-04-22T13:33:05.227Z"
   },
   {
    "duration": 38,
    "start_time": "2022-04-22T13:33:05.239Z"
   },
   {
    "duration": 19,
    "start_time": "2022-04-22T13:33:05.281Z"
   },
   {
    "duration": 11,
    "start_time": "2022-04-22T13:33:05.302Z"
   },
   {
    "duration": 15,
    "start_time": "2022-04-22T13:33:05.315Z"
   },
   {
    "duration": 12,
    "start_time": "2022-04-22T13:33:05.332Z"
   },
   {
    "duration": 155,
    "start_time": "2022-04-22T13:33:05.346Z"
   },
   {
    "duration": 10,
    "start_time": "2022-04-22T13:33:05.503Z"
   },
   {
    "duration": 744,
    "start_time": "2022-04-22T13:33:05.515Z"
   },
   {
    "duration": 18,
    "start_time": "2022-04-22T13:33:06.261Z"
   },
   {
    "duration": 243,
    "start_time": "2022-04-22T13:33:06.281Z"
   },
   {
    "duration": 14,
    "start_time": "2022-04-22T13:33:06.526Z"
   },
   {
    "duration": 212,
    "start_time": "2022-04-22T13:33:06.542Z"
   },
   {
    "duration": 68,
    "start_time": "2022-04-22T13:33:06.756Z"
   },
   {
    "duration": 303,
    "start_time": "2022-04-22T13:33:06.826Z"
   },
   {
    "duration": 460,
    "start_time": "2022-04-22T13:33:07.130Z"
   },
   {
    "duration": 21,
    "start_time": "2022-04-22T13:33:07.592Z"
   },
   {
    "duration": 18,
    "start_time": "2022-04-22T13:33:07.615Z"
   },
   {
    "duration": 9,
    "start_time": "2022-04-22T13:33:07.634Z"
   },
   {
    "duration": 888,
    "start_time": "2022-04-22T13:33:07.674Z"
   },
   {
    "duration": 14,
    "start_time": "2022-04-22T13:33:08.564Z"
   },
   {
    "duration": 20,
    "start_time": "2022-04-22T13:33:08.580Z"
   },
   {
    "duration": 14,
    "start_time": "2022-04-22T13:33:08.602Z"
   },
   {
    "duration": 14,
    "start_time": "2022-04-22T13:33:08.618Z"
   },
   {
    "duration": 17,
    "start_time": "2022-04-22T13:35:30.687Z"
   },
   {
    "duration": 12,
    "start_time": "2022-04-22T13:37:18.649Z"
   },
   {
    "duration": 13,
    "start_time": "2022-04-22T13:38:54.636Z"
   },
   {
    "duration": 20,
    "start_time": "2022-04-22T13:39:55.458Z"
   },
   {
    "duration": 24,
    "start_time": "2022-04-22T13:42:56.737Z"
   },
   {
    "duration": 14,
    "start_time": "2022-04-22T13:43:39.499Z"
   },
   {
    "duration": 14,
    "start_time": "2022-04-22T13:47:26.657Z"
   },
   {
    "duration": 15,
    "start_time": "2022-04-22T13:48:23.852Z"
   },
   {
    "duration": 11,
    "start_time": "2022-04-22T14:13:47.067Z"
   },
   {
    "duration": 4,
    "start_time": "2022-04-22T14:14:39.782Z"
   },
   {
    "duration": 6,
    "start_time": "2022-04-22T14:15:03.094Z"
   },
   {
    "duration": 72,
    "start_time": "2022-04-23T04:46:21.181Z"
   },
   {
    "duration": 1823,
    "start_time": "2022-04-23T04:46:28.249Z"
   },
   {
    "duration": 88,
    "start_time": "2022-04-23T04:46:30.075Z"
   },
   {
    "duration": 22,
    "start_time": "2022-04-23T04:46:30.166Z"
   },
   {
    "duration": 43,
    "start_time": "2022-04-23T04:46:30.191Z"
   },
   {
    "duration": 29,
    "start_time": "2022-04-23T04:46:30.239Z"
   },
   {
    "duration": 109,
    "start_time": "2022-04-23T04:46:30.271Z"
   },
   {
    "duration": 8,
    "start_time": "2022-04-23T04:46:30.382Z"
   },
   {
    "duration": 9,
    "start_time": "2022-04-23T04:46:30.392Z"
   },
   {
    "duration": 30,
    "start_time": "2022-04-23T04:46:30.425Z"
   },
   {
    "duration": 12,
    "start_time": "2022-04-23T04:46:30.457Z"
   },
   {
    "duration": 280,
    "start_time": "2022-04-23T04:46:30.472Z"
   },
   {
    "duration": 8,
    "start_time": "2022-04-23T04:46:30.754Z"
   },
   {
    "duration": 27,
    "start_time": "2022-04-23T04:46:30.764Z"
   },
   {
    "duration": 50,
    "start_time": "2022-04-23T04:46:30.799Z"
   },
   {
    "duration": 4,
    "start_time": "2022-04-23T04:46:30.852Z"
   },
   {
    "duration": 13,
    "start_time": "2022-04-23T04:46:30.859Z"
   },
   {
    "duration": 16,
    "start_time": "2022-04-23T04:46:30.874Z"
   },
   {
    "duration": 35,
    "start_time": "2022-04-23T04:46:30.892Z"
   },
   {
    "duration": 18,
    "start_time": "2022-04-23T04:46:30.929Z"
   },
   {
    "duration": 31,
    "start_time": "2022-04-23T04:46:30.949Z"
   },
   {
    "duration": 79,
    "start_time": "2022-04-23T04:46:30.983Z"
   },
   {
    "duration": 30,
    "start_time": "2022-04-23T04:46:31.065Z"
   },
   {
    "duration": 37,
    "start_time": "2022-04-23T04:46:31.123Z"
   },
   {
    "duration": 11,
    "start_time": "2022-04-23T04:46:31.163Z"
   },
   {
    "duration": 65,
    "start_time": "2022-04-23T04:46:31.177Z"
   },
   {
    "duration": 18,
    "start_time": "2022-04-23T04:46:31.245Z"
   },
   {
    "duration": 70,
    "start_time": "2022-04-23T04:46:31.266Z"
   },
   {
    "duration": 27,
    "start_time": "2022-04-23T04:46:31.338Z"
   },
   {
    "duration": 19,
    "start_time": "2022-04-23T04:46:31.368Z"
   },
   {
    "duration": 25,
    "start_time": "2022-04-23T04:46:31.389Z"
   },
   {
    "duration": 13,
    "start_time": "2022-04-23T04:46:31.424Z"
   },
   {
    "duration": 237,
    "start_time": "2022-04-23T04:46:31.439Z"
   },
   {
    "duration": 12,
    "start_time": "2022-04-23T04:46:31.678Z"
   },
   {
    "duration": 1139,
    "start_time": "2022-04-23T04:46:31.692Z"
   },
   {
    "duration": 19,
    "start_time": "2022-04-23T04:46:32.834Z"
   },
   {
    "duration": 420,
    "start_time": "2022-04-23T04:46:32.855Z"
   },
   {
    "duration": 20,
    "start_time": "2022-04-23T04:46:33.277Z"
   },
   {
    "duration": 298,
    "start_time": "2022-04-23T04:46:33.300Z"
   },
   {
    "duration": 108,
    "start_time": "2022-04-23T04:46:33.600Z"
   },
   {
    "duration": 434,
    "start_time": "2022-04-23T04:46:33.711Z"
   },
   {
    "duration": 577,
    "start_time": "2022-04-23T04:46:34.151Z"
   },
   {
    "duration": 29,
    "start_time": "2022-04-23T04:46:34.731Z"
   },
   {
    "duration": 24,
    "start_time": "2022-04-23T04:46:34.762Z"
   },
   {
    "duration": 47,
    "start_time": "2022-04-23T04:46:34.788Z"
   },
   {
    "duration": 1317,
    "start_time": "2022-04-23T04:46:34.837Z"
   },
   {
    "duration": 8,
    "start_time": "2022-04-23T04:46:36.156Z"
   },
   {
    "duration": 21,
    "start_time": "2022-04-23T04:46:36.166Z"
   },
   {
    "duration": 49,
    "start_time": "2022-04-23T04:46:36.189Z"
   },
   {
    "duration": 23,
    "start_time": "2022-04-23T04:46:36.240Z"
   },
   {
    "duration": 18,
    "start_time": "2022-04-23T04:46:36.265Z"
   },
   {
    "duration": 17,
    "start_time": "2022-04-23T04:46:36.326Z"
   },
   {
    "duration": 10,
    "start_time": "2022-04-23T04:46:36.346Z"
   },
   {
    "duration": 16,
    "start_time": "2022-04-23T04:46:36.360Z"
   },
   {
    "duration": 24,
    "start_time": "2022-04-23T04:48:57.079Z"
   },
   {
    "duration": 24,
    "start_time": "2022-04-23T04:49:16.014Z"
   },
   {
    "duration": 20,
    "start_time": "2022-04-23T04:51:57.821Z"
   },
   {
    "duration": 9,
    "start_time": "2022-04-23T04:54:21.314Z"
   },
   {
    "duration": 20,
    "start_time": "2022-04-23T05:00:30.577Z"
   },
   {
    "duration": 11,
    "start_time": "2022-04-23T05:01:42.328Z"
   },
   {
    "duration": 18,
    "start_time": "2022-04-23T05:02:00.263Z"
   },
   {
    "duration": 20,
    "start_time": "2022-04-23T05:02:36.328Z"
   },
   {
    "duration": 19,
    "start_time": "2022-04-23T05:02:48.470Z"
   },
   {
    "duration": 9,
    "start_time": "2022-04-23T05:30:24.526Z"
   },
   {
    "duration": 12,
    "start_time": "2022-04-23T05:31:51.111Z"
   },
   {
    "duration": 8,
    "start_time": "2022-04-23T05:32:35.256Z"
   },
   {
    "duration": 14,
    "start_time": "2022-04-23T05:35:28.220Z"
   },
   {
    "duration": 9,
    "start_time": "2022-04-23T05:35:55.180Z"
   },
   {
    "duration": 9,
    "start_time": "2022-04-23T05:36:13.199Z"
   },
   {
    "duration": 21,
    "start_time": "2022-04-23T05:36:48.613Z"
   },
   {
    "duration": 23,
    "start_time": "2022-04-23T06:09:17.077Z"
   },
   {
    "duration": 633,
    "start_time": "2022-04-23T06:15:37.958Z"
   },
   {
    "duration": 626,
    "start_time": "2022-04-23T06:15:49.624Z"
   },
   {
    "duration": 776,
    "start_time": "2022-04-23T06:17:45.140Z"
   },
   {
    "duration": 627,
    "start_time": "2022-04-23T06:18:04.465Z"
   },
   {
    "duration": 798,
    "start_time": "2022-04-23T06:18:57.360Z"
   },
   {
    "duration": 665,
    "start_time": "2022-04-23T06:19:25.957Z"
   },
   {
    "duration": 668,
    "start_time": "2022-04-23T06:20:14.911Z"
   },
   {
    "duration": 658,
    "start_time": "2022-04-23T06:20:25.590Z"
   },
   {
    "duration": 627,
    "start_time": "2022-04-23T06:20:53.852Z"
   },
   {
    "duration": 762,
    "start_time": "2022-04-23T06:21:10.924Z"
   },
   {
    "duration": 520,
    "start_time": "2022-04-23T06:24:29.120Z"
   },
   {
    "duration": 712,
    "start_time": "2022-04-23T06:31:45.585Z"
   },
   {
    "duration": 784,
    "start_time": "2022-04-23T06:31:58.532Z"
   },
   {
    "duration": 18,
    "start_time": "2022-04-23T06:34:49.585Z"
   },
   {
    "duration": 32,
    "start_time": "2022-04-23T06:35:06.547Z"
   },
   {
    "duration": 16,
    "start_time": "2022-04-23T06:35:36.077Z"
   },
   {
    "duration": 1664,
    "start_time": "2022-04-23T06:35:53.921Z"
   },
   {
    "duration": 94,
    "start_time": "2022-04-23T06:35:55.588Z"
   },
   {
    "duration": 21,
    "start_time": "2022-04-23T06:35:55.684Z"
   },
   {
    "duration": 15,
    "start_time": "2022-04-23T06:35:55.724Z"
   },
   {
    "duration": 34,
    "start_time": "2022-04-23T06:35:55.741Z"
   },
   {
    "duration": 103,
    "start_time": "2022-04-23T06:35:55.777Z"
   },
   {
    "duration": 7,
    "start_time": "2022-04-23T06:35:55.882Z"
   },
   {
    "duration": 35,
    "start_time": "2022-04-23T06:35:55.891Z"
   },
   {
    "duration": 29,
    "start_time": "2022-04-23T06:35:55.928Z"
   },
   {
    "duration": 11,
    "start_time": "2022-04-23T06:35:55.961Z"
   },
   {
    "duration": 246,
    "start_time": "2022-04-23T06:35:55.974Z"
   },
   {
    "duration": 7,
    "start_time": "2022-04-23T06:35:56.222Z"
   },
   {
    "duration": 23,
    "start_time": "2022-04-23T06:35:56.232Z"
   },
   {
    "duration": 27,
    "start_time": "2022-04-23T06:35:56.258Z"
   },
   {
    "duration": 3,
    "start_time": "2022-04-23T06:35:56.324Z"
   },
   {
    "duration": 13,
    "start_time": "2022-04-23T06:35:56.329Z"
   },
   {
    "duration": 11,
    "start_time": "2022-04-23T06:35:56.344Z"
   },
   {
    "duration": 6,
    "start_time": "2022-04-23T06:35:56.357Z"
   },
   {
    "duration": 20,
    "start_time": "2022-04-23T06:35:56.366Z"
   },
   {
    "duration": 55,
    "start_time": "2022-04-23T06:35:56.388Z"
   },
   {
    "duration": 45,
    "start_time": "2022-04-23T06:35:56.445Z"
   },
   {
    "duration": 51,
    "start_time": "2022-04-23T06:35:56.492Z"
   },
   {
    "duration": 34,
    "start_time": "2022-04-23T06:35:56.546Z"
   },
   {
    "duration": 8,
    "start_time": "2022-04-23T06:35:56.582Z"
   },
   {
    "duration": 25,
    "start_time": "2022-04-23T06:35:56.625Z"
   },
   {
    "duration": 14,
    "start_time": "2022-04-23T06:35:56.652Z"
   },
   {
    "duration": 73,
    "start_time": "2022-04-23T06:35:56.668Z"
   },
   {
    "duration": 13,
    "start_time": "2022-04-23T06:35:56.747Z"
   },
   {
    "duration": 10,
    "start_time": "2022-04-23T06:35:56.762Z"
   },
   {
    "duration": 55,
    "start_time": "2022-04-23T06:35:56.774Z"
   },
   {
    "duration": 15,
    "start_time": "2022-04-23T06:35:56.831Z"
   },
   {
    "duration": 342,
    "start_time": "2022-04-23T06:35:56.848Z"
   },
   {
    "duration": 12,
    "start_time": "2022-04-23T06:35:57.192Z"
   },
   {
    "duration": 1135,
    "start_time": "2022-04-23T06:35:57.207Z"
   },
   {
    "duration": 19,
    "start_time": "2022-04-23T06:35:58.344Z"
   },
   {
    "duration": 417,
    "start_time": "2022-04-23T06:35:58.366Z"
   },
   {
    "duration": 19,
    "start_time": "2022-04-23T06:35:58.785Z"
   },
   {
    "duration": 269,
    "start_time": "2022-04-23T06:35:58.825Z"
   },
   {
    "duration": 108,
    "start_time": "2022-04-23T06:35:59.096Z"
   },
   {
    "duration": 413,
    "start_time": "2022-04-23T06:35:59.206Z"
   },
   {
    "duration": 567,
    "start_time": "2022-04-23T06:35:59.624Z"
   },
   {
    "duration": 42,
    "start_time": "2022-04-23T06:36:00.193Z"
   },
   {
    "duration": 24,
    "start_time": "2022-04-23T06:36:00.237Z"
   },
   {
    "duration": 35,
    "start_time": "2022-04-23T06:36:00.263Z"
   },
   {
    "duration": 1332,
    "start_time": "2022-04-23T06:36:00.301Z"
   },
   {
    "duration": 8,
    "start_time": "2022-04-23T06:36:01.635Z"
   },
   {
    "duration": 21,
    "start_time": "2022-04-23T06:36:01.645Z"
   },
   {
    "duration": 56,
    "start_time": "2022-04-23T06:36:01.668Z"
   },
   {
    "duration": 20,
    "start_time": "2022-04-23T06:36:01.727Z"
   },
   {
    "duration": 19,
    "start_time": "2022-04-23T06:36:01.749Z"
   },
   {
    "duration": 57,
    "start_time": "2022-04-23T06:36:01.769Z"
   },
   {
    "duration": 8,
    "start_time": "2022-04-23T06:36:01.828Z"
   },
   {
    "duration": 19,
    "start_time": "2022-04-23T06:36:01.838Z"
   },
   {
    "duration": 26,
    "start_time": "2022-04-23T06:36:01.859Z"
   },
   {
    "duration": 52,
    "start_time": "2022-04-23T06:36:01.887Z"
   },
   {
    "duration": 19,
    "start_time": "2022-04-23T06:36:01.941Z"
   },
   {
    "duration": 9,
    "start_time": "2022-04-23T06:36:01.962Z"
   },
   {
    "duration": 8,
    "start_time": "2022-04-23T06:36:02.024Z"
   },
   {
    "duration": 28,
    "start_time": "2022-04-23T06:36:02.034Z"
   },
   {
    "duration": 196,
    "start_time": "2022-04-23T06:36:02.065Z"
   },
   {
    "duration": 0,
    "start_time": "2022-04-23T06:36:02.264Z"
   },
   {
    "duration": 36,
    "start_time": "2022-04-23T06:36:23.523Z"
   },
   {
    "duration": 17357,
    "start_time": "2022-04-23T06:38:39.083Z"
   },
   {
    "duration": 9886,
    "start_time": "2022-04-23T06:39:02.952Z"
   },
   {
    "duration": 124,
    "start_time": "2022-04-23T06:39:12.841Z"
   },
   {
    "duration": 30,
    "start_time": "2022-04-23T06:39:12.967Z"
   },
   {
    "duration": 40,
    "start_time": "2022-04-23T06:39:13.000Z"
   },
   {
    "duration": 27,
    "start_time": "2022-04-23T06:39:13.044Z"
   },
   {
    "duration": 100,
    "start_time": "2022-04-23T06:39:13.073Z"
   },
   {
    "duration": 8,
    "start_time": "2022-04-23T06:39:13.175Z"
   },
   {
    "duration": 41,
    "start_time": "2022-04-23T06:39:13.185Z"
   },
   {
    "duration": 31,
    "start_time": "2022-04-23T06:39:13.229Z"
   },
   {
    "duration": 15,
    "start_time": "2022-04-23T06:39:13.263Z"
   },
   {
    "duration": 316,
    "start_time": "2022-04-23T06:39:13.281Z"
   },
   {
    "duration": 9,
    "start_time": "2022-04-23T06:39:13.600Z"
   },
   {
    "duration": 24,
    "start_time": "2022-04-23T06:39:13.612Z"
   },
   {
    "duration": 28,
    "start_time": "2022-04-23T06:39:13.644Z"
   },
   {
    "duration": 4,
    "start_time": "2022-04-23T06:39:13.675Z"
   },
   {
    "duration": 6,
    "start_time": "2022-04-23T06:39:13.725Z"
   },
   {
    "duration": 7,
    "start_time": "2022-04-23T06:39:13.734Z"
   },
   {
    "duration": 9,
    "start_time": "2022-04-23T06:39:13.743Z"
   },
   {
    "duration": 14,
    "start_time": "2022-04-23T06:39:13.754Z"
   },
   {
    "duration": 31,
    "start_time": "2022-04-23T06:39:13.770Z"
   },
   {
    "duration": 46,
    "start_time": "2022-04-23T06:39:13.823Z"
   },
   {
    "duration": 62,
    "start_time": "2022-04-23T06:39:13.872Z"
   },
   {
    "duration": 37,
    "start_time": "2022-04-23T06:39:13.937Z"
   },
   {
    "duration": 8,
    "start_time": "2022-04-23T06:39:13.976Z"
   },
   {
    "duration": 57,
    "start_time": "2022-04-23T06:39:13.987Z"
   },
   {
    "duration": 16,
    "start_time": "2022-04-23T06:39:14.046Z"
   },
   {
    "duration": 75,
    "start_time": "2022-04-23T06:39:14.065Z"
   },
   {
    "duration": 27,
    "start_time": "2022-04-23T06:39:14.143Z"
   },
   {
    "duration": 15,
    "start_time": "2022-04-23T06:39:14.173Z"
   },
   {
    "duration": 35,
    "start_time": "2022-04-23T06:39:14.191Z"
   },
   {
    "duration": 14,
    "start_time": "2022-04-23T06:39:14.228Z"
   },
   {
    "duration": 441,
    "start_time": "2022-04-23T06:39:14.244Z"
   },
   {
    "duration": 12,
    "start_time": "2022-04-23T06:39:14.687Z"
   },
   {
    "duration": 1250,
    "start_time": "2022-04-23T06:39:14.701Z"
   },
   {
    "duration": 20,
    "start_time": "2022-04-23T06:39:15.953Z"
   },
   {
    "duration": 492,
    "start_time": "2022-04-23T06:39:15.975Z"
   },
   {
    "duration": 19,
    "start_time": "2022-04-23T06:39:16.469Z"
   },
   {
    "duration": 372,
    "start_time": "2022-04-23T06:39:16.490Z"
   },
   {
    "duration": 216,
    "start_time": "2022-04-23T06:39:16.864Z"
   },
   {
    "duration": 420,
    "start_time": "2022-04-23T06:39:17.082Z"
   },
   {
    "duration": 674,
    "start_time": "2022-04-23T06:39:17.509Z"
   },
   {
    "duration": 61,
    "start_time": "2022-04-23T06:39:18.186Z"
   },
   {
    "duration": 35,
    "start_time": "2022-04-23T06:39:18.253Z"
   },
   {
    "duration": 37,
    "start_time": "2022-04-23T06:39:18.291Z"
   },
   {
    "duration": 1563,
    "start_time": "2022-04-23T06:39:18.330Z"
   },
   {
    "duration": 9,
    "start_time": "2022-04-23T06:39:19.895Z"
   },
   {
    "duration": 21,
    "start_time": "2022-04-23T06:39:19.925Z"
   },
   {
    "duration": 19,
    "start_time": "2022-04-23T06:39:19.949Z"
   },
   {
    "duration": 63,
    "start_time": "2022-04-23T06:39:19.970Z"
   },
   {
    "duration": 18,
    "start_time": "2022-04-23T06:39:20.035Z"
   },
   {
    "duration": 12,
    "start_time": "2022-04-23T06:39:20.056Z"
   },
   {
    "duration": 13,
    "start_time": "2022-04-23T06:39:20.070Z"
   },
   {
    "duration": 14,
    "start_time": "2022-04-23T06:39:20.126Z"
   },
   {
    "duration": 25,
    "start_time": "2022-04-23T06:39:20.143Z"
   },
   {
    "duration": 66,
    "start_time": "2022-04-23T06:39:20.171Z"
   },
   {
    "duration": 27,
    "start_time": "2022-04-23T06:39:20.239Z"
   },
   {
    "duration": 12,
    "start_time": "2022-04-23T06:39:20.269Z"
   },
   {
    "duration": 47,
    "start_time": "2022-04-23T06:39:20.283Z"
   },
   {
    "duration": 23,
    "start_time": "2022-04-23T06:39:20.333Z"
   },
   {
    "duration": 200,
    "start_time": "2022-04-23T06:39:20.358Z"
   },
   {
    "duration": 779,
    "start_time": "2022-04-23T06:39:45.021Z"
   },
   {
    "duration": 855,
    "start_time": "2022-04-23T06:40:53.560Z"
   },
   {
    "duration": 31,
    "start_time": "2022-04-23T07:34:45.797Z"
   },
   {
    "duration": 16,
    "start_time": "2022-04-23T07:34:49.264Z"
   },
   {
    "duration": 25,
    "start_time": "2022-04-23T07:35:40.783Z"
   },
   {
    "duration": 28,
    "start_time": "2022-04-23T07:35:50.574Z"
   },
   {
    "duration": 25,
    "start_time": "2022-04-23T07:36:04.638Z"
   },
   {
    "duration": 9786,
    "start_time": "2022-04-24T09:40:44.670Z"
   },
   {
    "duration": 75,
    "start_time": "2022-04-24T09:40:54.458Z"
   },
   {
    "duration": 12,
    "start_time": "2022-04-24T09:40:54.534Z"
   },
   {
    "duration": 13,
    "start_time": "2022-04-24T09:40:54.548Z"
   },
   {
    "duration": 39,
    "start_time": "2022-04-24T09:40:54.562Z"
   },
   {
    "duration": 38,
    "start_time": "2022-04-24T09:40:54.602Z"
   },
   {
    "duration": 5,
    "start_time": "2022-04-24T09:40:54.642Z"
   },
   {
    "duration": 20,
    "start_time": "2022-04-24T09:40:54.648Z"
   },
   {
    "duration": 31,
    "start_time": "2022-04-24T09:40:54.669Z"
   },
   {
    "duration": 237,
    "start_time": "2022-04-24T09:40:54.703Z"
   },
   {
    "duration": 5,
    "start_time": "2022-04-24T09:40:54.941Z"
   },
   {
    "duration": 14,
    "start_time": "2022-04-24T09:40:54.947Z"
   },
   {
    "duration": 15,
    "start_time": "2022-04-24T09:40:54.962Z"
   },
   {
    "duration": 16,
    "start_time": "2022-04-24T09:40:54.978Z"
   },
   {
    "duration": 27,
    "start_time": "2022-04-24T09:40:55.000Z"
   },
   {
    "duration": 17,
    "start_time": "2022-04-24T09:40:55.028Z"
   },
   {
    "duration": 19,
    "start_time": "2022-04-24T09:40:55.047Z"
   },
   {
    "duration": 35,
    "start_time": "2022-04-24T09:40:55.068Z"
   },
   {
    "duration": 17,
    "start_time": "2022-04-24T09:40:55.104Z"
   },
   {
    "duration": 8,
    "start_time": "2022-04-24T09:40:55.123Z"
   },
   {
    "duration": 17,
    "start_time": "2022-04-24T09:40:55.132Z"
   },
   {
    "duration": 13,
    "start_time": "2022-04-24T09:40:55.150Z"
   },
   {
    "duration": 5,
    "start_time": "2022-04-24T09:40:55.165Z"
   },
   {
    "duration": 10,
    "start_time": "2022-04-24T09:40:55.200Z"
   },
   {
    "duration": 8,
    "start_time": "2022-04-24T09:40:55.212Z"
   },
   {
    "duration": 139,
    "start_time": "2022-04-24T09:40:55.222Z"
   },
   {
    "duration": 8,
    "start_time": "2022-04-24T09:40:55.362Z"
   },
   {
    "duration": 657,
    "start_time": "2022-04-24T09:40:55.374Z"
   },
   {
    "duration": 14,
    "start_time": "2022-04-24T09:40:56.033Z"
   },
   {
    "duration": 222,
    "start_time": "2022-04-24T09:40:56.049Z"
   },
   {
    "duration": 28,
    "start_time": "2022-04-24T09:40:56.273Z"
   },
   {
    "duration": 144,
    "start_time": "2022-04-24T09:40:56.302Z"
   },
   {
    "duration": 70,
    "start_time": "2022-04-24T09:40:56.448Z"
   },
   {
    "duration": 242,
    "start_time": "2022-04-24T09:40:56.520Z"
   },
   {
    "duration": 307,
    "start_time": "2022-04-24T09:40:56.764Z"
   },
   {
    "duration": 32,
    "start_time": "2022-04-24T09:40:57.072Z"
   },
   {
    "duration": 14,
    "start_time": "2022-04-24T09:40:57.105Z"
   },
   {
    "duration": 6,
    "start_time": "2022-04-24T09:40:57.121Z"
   },
   {
    "duration": 824,
    "start_time": "2022-04-24T09:40:57.129Z"
   },
   {
    "duration": 5,
    "start_time": "2022-04-24T09:40:57.955Z"
   },
   {
    "duration": 13,
    "start_time": "2022-04-24T09:40:57.962Z"
   },
   {
    "duration": 33,
    "start_time": "2022-04-24T09:40:57.976Z"
   },
   {
    "duration": 16,
    "start_time": "2022-04-24T09:40:58.010Z"
   },
   {
    "duration": 11,
    "start_time": "2022-04-24T09:40:58.028Z"
   },
   {
    "duration": 8,
    "start_time": "2022-04-24T09:40:58.040Z"
   },
   {
    "duration": 6,
    "start_time": "2022-04-24T09:40:58.049Z"
   },
   {
    "duration": 53,
    "start_time": "2022-04-24T09:40:58.057Z"
   },
   {
    "duration": 11,
    "start_time": "2022-04-24T09:40:58.111Z"
   },
   {
    "duration": 11,
    "start_time": "2022-04-24T09:40:58.123Z"
   },
   {
    "duration": 5,
    "start_time": "2022-04-24T09:40:58.135Z"
   },
   {
    "duration": 5,
    "start_time": "2022-04-24T09:40:58.141Z"
   },
   {
    "duration": 54,
    "start_time": "2022-04-24T09:40:58.147Z"
   },
   {
    "duration": 399,
    "start_time": "2022-04-24T09:40:58.203Z"
   },
   {
    "duration": 166,
    "start_time": "2022-04-24T11:01:32.802Z"
   },
   {
    "duration": 4062,
    "start_time": "2022-04-24T11:01:55.569Z"
   },
   {
    "duration": 78,
    "start_time": "2022-04-24T11:01:59.633Z"
   },
   {
    "duration": 15,
    "start_time": "2022-04-24T11:01:59.712Z"
   },
   {
    "duration": 15,
    "start_time": "2022-04-24T11:01:59.729Z"
   },
   {
    "duration": 18,
    "start_time": "2022-04-24T11:01:59.746Z"
   },
   {
    "duration": 68,
    "start_time": "2022-04-24T11:01:59.766Z"
   },
   {
    "duration": 6,
    "start_time": "2022-04-24T11:01:59.836Z"
   },
   {
    "duration": 21,
    "start_time": "2022-04-24T11:01:59.844Z"
   },
   {
    "duration": 42,
    "start_time": "2022-04-24T11:01:59.867Z"
   },
   {
    "duration": 231,
    "start_time": "2022-04-24T11:01:59.913Z"
   },
   {
    "duration": 6,
    "start_time": "2022-04-24T11:02:00.145Z"
   },
   {
    "duration": 23,
    "start_time": "2022-04-24T11:02:00.153Z"
   },
   {
    "duration": 21,
    "start_time": "2022-04-24T11:02:00.178Z"
   },
   {
    "duration": 27,
    "start_time": "2022-04-24T11:02:00.201Z"
   },
   {
    "duration": 44,
    "start_time": "2022-04-24T11:02:00.230Z"
   },
   {
    "duration": 25,
    "start_time": "2022-04-24T11:02:00.301Z"
   },
   {
    "duration": 29,
    "start_time": "2022-04-24T11:02:00.328Z"
   },
   {
    "duration": 4,
    "start_time": "2022-04-24T11:02:00.359Z"
   },
   {
    "duration": 48,
    "start_time": "2022-04-24T11:02:00.365Z"
   },
   {
    "duration": 10,
    "start_time": "2022-04-24T11:02:00.415Z"
   },
   {
    "duration": 39,
    "start_time": "2022-04-24T11:02:00.426Z"
   },
   {
    "duration": 11,
    "start_time": "2022-04-24T11:02:00.466Z"
   },
   {
    "duration": 23,
    "start_time": "2022-04-24T11:02:00.479Z"
   },
   {
    "duration": 20,
    "start_time": "2022-04-24T11:02:00.504Z"
   },
   {
    "duration": 16,
    "start_time": "2022-04-24T11:02:00.526Z"
   },
   {
    "duration": 298,
    "start_time": "2022-04-24T11:02:00.543Z"
   },
   {
    "duration": 9,
    "start_time": "2022-04-24T11:02:00.843Z"
   },
   {
    "duration": 777,
    "start_time": "2022-04-24T11:02:00.855Z"
   },
   {
    "duration": 12,
    "start_time": "2022-04-24T11:02:01.633Z"
   },
   {
    "duration": 316,
    "start_time": "2022-04-24T11:02:01.647Z"
   },
   {
    "duration": 12,
    "start_time": "2022-04-24T11:02:01.965Z"
   },
   {
    "duration": 225,
    "start_time": "2022-04-24T11:02:01.978Z"
   },
   {
    "duration": 171,
    "start_time": "2022-04-24T11:02:02.205Z"
   },
   {
    "duration": 288,
    "start_time": "2022-04-24T11:02:02.377Z"
   },
   {
    "duration": 468,
    "start_time": "2022-04-24T11:02:02.667Z"
   },
   {
    "duration": 28,
    "start_time": "2022-04-24T11:02:03.137Z"
   },
   {
    "duration": 43,
    "start_time": "2022-04-24T11:02:03.167Z"
   },
   {
    "duration": 11,
    "start_time": "2022-04-24T11:02:03.212Z"
   },
   {
    "duration": 1111,
    "start_time": "2022-04-24T11:02:03.225Z"
   },
   {
    "duration": 6,
    "start_time": "2022-04-24T11:02:04.338Z"
   },
   {
    "duration": 13,
    "start_time": "2022-04-24T11:02:04.346Z"
   },
   {
    "duration": 40,
    "start_time": "2022-04-24T11:02:04.361Z"
   },
   {
    "duration": 14,
    "start_time": "2022-04-24T11:02:04.403Z"
   },
   {
    "duration": 13,
    "start_time": "2022-04-24T11:02:04.419Z"
   },
   {
    "duration": 9,
    "start_time": "2022-04-24T11:02:04.433Z"
   },
   {
    "duration": 11,
    "start_time": "2022-04-24T11:02:04.443Z"
   },
   {
    "duration": 49,
    "start_time": "2022-04-24T11:02:04.456Z"
   },
   {
    "duration": 12,
    "start_time": "2022-04-24T11:02:04.506Z"
   },
   {
    "duration": 11,
    "start_time": "2022-04-24T11:02:04.520Z"
   },
   {
    "duration": 8,
    "start_time": "2022-04-24T11:02:04.533Z"
   },
   {
    "duration": 5,
    "start_time": "2022-04-24T11:02:04.543Z"
   },
   {
    "duration": 55,
    "start_time": "2022-04-24T11:02:04.550Z"
   },
   {
    "duration": 465,
    "start_time": "2022-04-24T11:02:04.607Z"
   },
   {
    "duration": 221,
    "start_time": "2022-04-24T11:02:05.073Z"
   },
   {
    "duration": 106413,
    "start_time": "2022-04-25T05:24:40.033Z"
   },
   {
    "duration": 97,
    "start_time": "2022-04-25T05:26:26.449Z"
   },
   {
    "duration": 17,
    "start_time": "2022-04-25T05:26:26.548Z"
   },
   {
    "duration": 19,
    "start_time": "2022-04-25T05:26:26.567Z"
   },
   {
    "duration": 23,
    "start_time": "2022-04-25T05:26:26.588Z"
   },
   {
    "duration": 47,
    "start_time": "2022-04-25T05:26:26.634Z"
   },
   {
    "duration": 5,
    "start_time": "2022-04-25T05:26:26.683Z"
   },
   {
    "duration": 21,
    "start_time": "2022-04-25T05:26:26.690Z"
   },
   {
    "duration": 8,
    "start_time": "2022-04-25T05:26:26.735Z"
   },
   {
    "duration": 474,
    "start_time": "2022-04-25T05:26:26.746Z"
   },
   {
    "duration": 6,
    "start_time": "2022-04-25T05:26:27.221Z"
   },
   {
    "duration": 15,
    "start_time": "2022-04-25T05:26:27.229Z"
   },
   {
    "duration": 18,
    "start_time": "2022-04-25T05:26:27.246Z"
   },
   {
    "duration": 19,
    "start_time": "2022-04-25T05:26:27.266Z"
   },
   {
    "duration": 53,
    "start_time": "2022-04-25T05:26:27.287Z"
   },
   {
    "duration": 20,
    "start_time": "2022-04-25T05:26:27.341Z"
   },
   {
    "duration": 24,
    "start_time": "2022-04-25T05:26:27.362Z"
   },
   {
    "duration": 6,
    "start_time": "2022-04-25T05:26:27.387Z"
   },
   {
    "duration": 57,
    "start_time": "2022-04-25T05:26:27.395Z"
   },
   {
    "duration": 11,
    "start_time": "2022-04-25T05:26:27.454Z"
   },
   {
    "duration": 20,
    "start_time": "2022-04-25T05:26:27.467Z"
   },
   {
    "duration": 10,
    "start_time": "2022-04-25T05:26:27.489Z"
   },
   {
    "duration": 36,
    "start_time": "2022-04-25T05:26:27.500Z"
   },
   {
    "duration": 25,
    "start_time": "2022-04-25T05:26:27.538Z"
   },
   {
    "duration": 9,
    "start_time": "2022-04-25T05:26:27.564Z"
   },
   {
    "duration": 158,
    "start_time": "2022-04-25T05:26:27.574Z"
   },
   {
    "duration": 10,
    "start_time": "2022-04-25T05:26:27.733Z"
   },
   {
    "duration": 874,
    "start_time": "2022-04-25T05:26:27.746Z"
   },
   {
    "duration": 15,
    "start_time": "2022-04-25T05:26:28.622Z"
   },
   {
    "duration": 255,
    "start_time": "2022-04-25T05:26:28.638Z"
   },
   {
    "duration": 14,
    "start_time": "2022-04-25T05:26:28.895Z"
   },
   {
    "duration": 194,
    "start_time": "2022-04-25T05:26:28.910Z"
   },
   {
    "duration": 70,
    "start_time": "2022-04-25T05:26:29.106Z"
   },
   {
    "duration": 287,
    "start_time": "2022-04-25T05:26:29.178Z"
   },
   {
    "duration": 359,
    "start_time": "2022-04-25T05:26:29.467Z"
   },
   {
    "duration": 22,
    "start_time": "2022-04-25T05:26:29.828Z"
   },
   {
    "duration": 17,
    "start_time": "2022-04-25T05:26:29.852Z"
   },
   {
    "duration": 9,
    "start_time": "2022-04-25T05:26:29.871Z"
   },
   {
    "duration": 933,
    "start_time": "2022-04-25T05:26:29.881Z"
   },
   {
    "duration": 6,
    "start_time": "2022-04-25T05:26:30.815Z"
   },
   {
    "duration": 14,
    "start_time": "2022-04-25T05:26:30.833Z"
   },
   {
    "duration": 15,
    "start_time": "2022-04-25T05:26:30.849Z"
   },
   {
    "duration": 18,
    "start_time": "2022-04-25T05:26:30.867Z"
   },
   {
    "duration": 14,
    "start_time": "2022-04-25T05:26:30.887Z"
   },
   {
    "duration": 10,
    "start_time": "2022-04-25T05:26:30.933Z"
   },
   {
    "duration": 10,
    "start_time": "2022-04-25T05:26:30.945Z"
   },
   {
    "duration": 17,
    "start_time": "2022-04-25T05:26:30.957Z"
   },
   {
    "duration": 12,
    "start_time": "2022-04-25T05:26:30.976Z"
   },
   {
    "duration": 46,
    "start_time": "2022-04-25T05:26:30.989Z"
   },
   {
    "duration": 6,
    "start_time": "2022-04-25T05:26:31.036Z"
   },
   {
    "duration": 24,
    "start_time": "2022-04-25T05:26:31.044Z"
   },
   {
    "duration": 32,
    "start_time": "2022-04-25T05:26:31.069Z"
   },
   {
    "duration": 488,
    "start_time": "2022-04-25T05:26:31.102Z"
   }
  ],
  "kernelspec": {
   "display_name": "Python 3 (ipykernel)",
   "language": "python",
   "name": "python3"
  },
  "language_info": {
   "codemirror_mode": {
    "name": "ipython",
    "version": 3
   },
   "file_extension": ".py",
   "mimetype": "text/x-python",
   "name": "python",
   "nbconvert_exporter": "python",
   "pygments_lexer": "ipython3",
   "version": "3.10.1"
  },
  "toc": {
   "base_numbering": 1,
   "nav_menu": {},
   "number_sections": true,
   "sideBar": true,
   "skip_h1_title": true,
   "title_cell": "Оглавление",
   "title_sidebar": "Contents",
   "toc_cell": true,
   "toc_position": {
    "height": "calc(100% - 180px)",
    "left": "10px",
    "top": "150px",
    "width": "530.594px"
   },
   "toc_section_display": true,
   "toc_window_display": true
  }
 },
 "nbformat": 4,
 "nbformat_minor": 2
}
